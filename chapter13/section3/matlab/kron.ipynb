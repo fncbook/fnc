{
    "cells": [
        {
            "cell_type": "markdown",
            "source": [
                "[**Demo %s**](#demo-laplace-kron)"
            ],
            "id": "dc6a5b08",
            "metadata": {}
        },
        {
            "outputs": [
                {
                    "name": "stdout",
                    "output_type": "stream",
                    "text": [
                        "A:\n",
                        "     1     2\n",
                        "    -2     0\n",
                        "\n",
                        "B:\n",
                        "     1    10   100\n",
                        "    -5     5     3\n",
                        "\n"
                    ]
                }
            ],
            "cell_type": "code",
            "source": [
                "A = [1, 2; -2, 0];\n",
                "B = [1, 10, 100; -5, 5, 3];\n",
                "disp(\"A:\")\n",
                "disp(A)\n",
                "disp(\"B:\")\n",
                "disp(B)"
            ],
            "id": "2d2c8516",
            "metadata": {},
            "execution_count": 2
        },
        {
            "cell_type": "markdown",
            "source": [
                "Applying the definition manually, we get"
            ],
            "id": "e743b83c",
            "metadata": {}
        },
        {
            "outputs": [
                {
                    "output_type": "execute_result",
                    "data": {
                        "text/plain": [
                            "A_kron_B = 4×6 double\n",
                            "     1    10   100     2    20   200\n",
                            "    -5     5     3   -10    10     6\n",
                            "    -2   -20  -200     0     0     0\n",
                            "    10   -10    -6     0     0     0\n"
                        ],
                        "text/html": [
                            "<html><body><pre>A_kron_B = 4×6 double\n",
                            "     1    10   100     2    20   200\n",
                            "    -5     5     3   -10    10     6\n",
                            "    -2   -20  -200     0     0     0\n",
                            "    10   -10    -6     0     0     0\n",
                            "</pre></body></html>"
                        ]
                    },
                    "metadata": {},
                    "execution_count": 3
                }
            ],
            "cell_type": "code",
            "source": [
                "A_kron_B = [\n",
                "    A(1,1)*B  A(1,2)*B;\n",
                "    A(2,1)*B  A(2,2)*B\n",
                "    ]"
            ],
            "id": "19d06105",
            "metadata": {},
            "execution_count": 3
        },
        {
            "cell_type": "markdown",
            "source": [
                "```{index} ! MATLAB; kron\n",
                "```\n",
                "\n",
                "But it makes more sense to use `kron`."
            ],
            "id": "0351d056",
            "metadata": {}
        },
        {
            "outputs": [
                {
                    "output_type": "execute_result",
                    "data": {
                        "text/plain": [
                            "ans = 4×6 double\n",
                            "     1    10   100     2    20   200\n",
                            "    -5     5     3   -10    10     6\n",
                            "    -2   -20  -200     0     0     0\n",
                            "    10   -10    -6     0     0     0\n"
                        ],
                        "text/html": [
                            "<html><body><pre>ans = 4×6 double\n",
                            "     1    10   100     2    20   200\n",
                            "    -5     5     3   -10    10     6\n",
                            "    -2   -20  -200     0     0     0\n",
                            "    10   -10    -6     0     0     0\n",
                            "</pre></body></html>"
                        ]
                    },
                    "metadata": {},
                    "execution_count": 4
                }
            ],
            "cell_type": "code",
            "source": [
                "kron(A, B)"
            ],
            "id": "19bb66fd",
            "metadata": {},
            "execution_count": 4
        }
    ],
    "nbformat_minor": 5,
    "metadata": {
        "language_info": {
            "file_extension": ".m",
            "mimetype": "text/x-matlab",
            "name": "matlab"
        },
        "kernelspec": {
            "name": "jupyter_matlab_kernel",
            "display_name": "MATLAB Kernel",
            "language": "matlab"
        },
        "numbering": {
            "headings": false
        }
    },
    "nbformat": 4
}
