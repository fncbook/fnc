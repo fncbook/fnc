{
 "cells": [
  {
   "cell_type": "code",
   "execution_count": 1,
   "id": "814fd757",
   "metadata": {
    "execution": {
     "iopub.execute_input": "2025-01-09T20:35:12.679237Z",
     "iopub.status.busy": "2025-01-09T20:35:12.679100Z",
     "iopub.status.idle": "2025-01-09T20:35:13.444386Z",
     "shell.execute_reply": "2025-01-09T20:35:13.443844Z"
    },
    "tags": [
     "remove-cell"
    ]
   },
   "outputs": [],
   "source": [
    "exec(open(\"../../../python/FNC_init.py\").read())"
   ]
  },
  {
   "cell_type": "markdown",
   "id": "3926f063",
   "metadata": {},
   "source": [
    "[**Demo %s**](#demo-laplace-kron)"
   ]
  },
  {
   "cell_type": "code",
   "execution_count": 2,
   "id": "3775653d",
   "metadata": {
    "execution": {
     "iopub.execute_input": "2025-01-09T20:35:13.446862Z",
     "iopub.status.busy": "2025-01-09T20:35:13.446608Z",
     "iopub.status.idle": "2025-01-09T20:35:13.450268Z",
     "shell.execute_reply": "2025-01-09T20:35:13.449819Z"
    }
   },
   "outputs": [
    {
     "name": "stdout",
     "output_type": "stream",
     "text": [
      "A:\n",
      "[[ 1  2]\n",
      " [-2  0]]\n",
      "B:\n",
      "[[  1  10 100]\n",
      " [ -5   5   3]]\n"
     ]
    }
   ],
   "source": [
    "A = array([[1, 2], [-2, 0]])\n",
    "B = array([[1, 10, 100], [-5, 5, 3]])\n",
    "print(\"A:\")\n",
    "print(A)\n",
    "print(\"B:\")\n",
    "print(B)"
   ]
  },
  {
   "cell_type": "markdown",
   "id": "8fb0b60e",
   "metadata": {},
   "source": [
    "Applying the definition manually, we get"
   ]
  },
  {
   "cell_type": "code",
   "execution_count": 3,
   "id": "18832f24",
   "metadata": {
    "execution": {
     "iopub.execute_input": "2025-01-09T20:35:13.459782Z",
     "iopub.status.busy": "2025-01-09T20:35:13.459469Z",
     "iopub.status.idle": "2025-01-09T20:35:13.463257Z",
     "shell.execute_reply": "2025-01-09T20:35:13.462500Z"
    }
   },
   "outputs": [
    {
     "name": "stdout",
     "output_type": "stream",
     "text": [
      "[[   1   10  100    2   20  200]\n",
      " [  -5    5    3  -10   10    6]\n",
      " [  -2  -20 -200    0    0    0]\n",
      " [  10  -10   -6    0    0    0]]\n"
     ]
    }
   ],
   "source": [
    "A_kron_B = vstack([ hstack([A[0, 0] * B, A[0, 1] * B]), hstack([A[1, 0] * B, A[1, 1] * B]) ])\n",
    "print(A_kron_B)"
   ]
  },
  {
   "cell_type": "markdown",
   "id": "c53e0c01",
   "metadata": {},
   "source": [
    "```{index} ! Python; kron\n",
    "```\n",
    "\n",
    "But it makes more sense to use `kron` from NumPy, or the `scipy.sparse` version when sparsity is to be preserved."
   ]
  },
  {
   "cell_type": "code",
   "execution_count": 4,
   "id": "8daa0301",
   "metadata": {
    "execution": {
     "iopub.execute_input": "2025-01-09T20:35:13.466616Z",
     "iopub.status.busy": "2025-01-09T20:35:13.466275Z",
     "iopub.status.idle": "2025-01-09T20:35:13.472724Z",
     "shell.execute_reply": "2025-01-09T20:35:13.472229Z"
    }
   },
   "outputs": [
    {
     "data": {
      "text/plain": [
       "array([[   1,   10,  100,    2,   20,  200],\n",
       "       [  -5,    5,    3,  -10,   10,    6],\n",
       "       [  -2,  -20, -200,    0,    0,    0],\n",
       "       [  10,  -10,   -6,    0,    0,    0]])"
      ]
     },
     "execution_count": 4,
     "metadata": {},
     "output_type": "execute_result"
    }
   ],
   "source": [
    "kron(A, B)"
   ]
  }
 ],
 "metadata": {
  "kernelspec": {
   "display_name": "Python 3",
   "language": "python",
   "name": "python3"
  },
  "language_info": {
   "codemirror_mode": {
    "name": "ipython",
    "version": 3
   },
   "file_extension": ".py",
   "mimetype": "text/x-python",
   "name": "python",
   "nbconvert_exporter": "python",
   "pygments_lexer": "ipython3",
   "version": "3.13.0"
  },
  "numbering": {
   "headings": false
  }
 },
 "nbformat": 4,
 "nbformat_minor": 5
}
