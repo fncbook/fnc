{
 "cells": [
  {
   "cell_type": "code",
   "execution_count": 1,
   "id": "a8b1c750",
   "metadata": {
    "execution": {
     "iopub.execute_input": "2025-01-14T15:46:12.046000Z",
     "iopub.status.busy": "2025-01-14T15:46:07.302000Z",
     "iopub.status.idle": "2025-01-14T15:47:24.582000Z",
     "shell.execute_reply": "2025-01-14T15:47:23.939000Z"
    },
    "tags": [
     "remove-cell"
    ]
   },
   "outputs": [
    {
     "name": "stderr",
     "output_type": "stream",
     "text": [
      "\u001b[32m\u001b[1m  Activating\u001b[22m\u001b[39m "
     ]
    },
    {
     "name": "stderr",
     "output_type": "stream",
     "text": [
      "project at `~/Documents/GitHub/fnc`\n"
     ]
    }
   ],
   "source": [
    "include(\"../../../julia/FNC_init.jl\")"
   ]
  },
  {
   "cell_type": "markdown",
   "id": "01ff51d7",
   "metadata": {},
   "source": [
    "[**Demo %s**](#demo-laplace-kron)"
   ]
  },
  {
   "cell_type": "code",
   "execution_count": 2,
   "id": "33aa0b95",
   "metadata": {
    "execution": {
     "iopub.execute_input": "2025-01-14T15:47:27.720000Z",
     "iopub.status.busy": "2025-01-14T15:47:24.668000Z",
     "iopub.status.idle": "2025-01-14T15:47:48.287000Z",
     "shell.execute_reply": "2025-01-14T15:47:48.286000Z"
    }
   },
   "outputs": [
    {
     "data": {
      "text/plain": [
       "2×2 Matrix{Int64}:\n",
       "  1  2\n",
       " -2  0"
      ]
     },
     "execution_count": 2,
     "metadata": {},
     "output_type": "execute_result"
    }
   ],
   "source": [
    "A = [1 2; -2 0]"
   ]
  },
  {
   "cell_type": "code",
   "execution_count": 3,
   "id": "41b22b42",
   "metadata": {
    "execution": {
     "iopub.execute_input": "2025-01-14T15:47:48.314000Z",
     "iopub.status.busy": "2025-01-14T15:47:48.314000Z",
     "iopub.status.idle": "2025-01-14T15:47:48.384000Z",
     "shell.execute_reply": "2025-01-14T15:47:48.384000Z"
    }
   },
   "outputs": [
    {
     "data": {
      "text/plain": [
       "2×3 Matrix{Int64}:\n",
       "  1  10  100\n",
       " -5   5    3"
      ]
     },
     "execution_count": 3,
     "metadata": {},
     "output_type": "execute_result"
    }
   ],
   "source": [
    "B = [1 10 100; -5 5 3]"
   ]
  },
  {
   "cell_type": "markdown",
   "id": "2799e873",
   "metadata": {},
   "source": [
    "Applying the definition manually, we get"
   ]
  },
  {
   "cell_type": "code",
   "execution_count": 4,
   "id": "a2dccc23",
   "metadata": {
    "execution": {
     "iopub.execute_input": "2025-01-14T15:47:48.391000Z",
     "iopub.status.busy": "2025-01-14T15:47:48.391000Z",
     "iopub.status.idle": "2025-01-14T15:47:49.953000Z",
     "shell.execute_reply": "2025-01-14T15:47:49.946000Z"
    }
   },
   "outputs": [
    {
     "data": {
      "text/plain": [
       "4×6 Matrix{Int64}:\n",
       "  1   10   100    2  20  200\n",
       " -5    5     3  -10  10    6\n",
       " -2  -20  -200    0   0    0\n",
       " 10  -10    -6    0   0    0"
      ]
     },
     "execution_count": 4,
     "metadata": {},
     "output_type": "execute_result"
    }
   ],
   "source": [
    "A_kron_B = [\n",
    "    A[1, 1]*B A[1, 2]*B;\n",
    "    A[2, 1]*B A[2, 2]*B\n",
    "    ]"
   ]
  },
  {
   "cell_type": "markdown",
   "id": "d18994b3",
   "metadata": {},
   "source": [
    "```{index} ! Julia; kron\n",
    "```\n",
    "\n",
    "That result should be the same as the following."
   ]
  },
  {
   "cell_type": "code",
   "execution_count": 5,
   "id": "c1bcb026",
   "metadata": {
    "execution": {
     "iopub.execute_input": "2025-01-14T15:47:49.994000Z",
     "iopub.status.busy": "2025-01-14T15:47:49.988000Z",
     "iopub.status.idle": "2025-01-14T15:47:50.133000Z",
     "shell.execute_reply": "2025-01-14T15:47:50.102000Z"
    }
   },
   "outputs": [
    {
     "data": {
      "text/plain": [
       "4×6 Matrix{Int64}:\n",
       "  1   10   100    2  20  200\n",
       " -5    5     3  -10  10    6\n",
       " -2  -20  -200    0   0    0\n",
       " 10  -10    -6    0   0    0"
      ]
     },
     "execution_count": 5,
     "metadata": {},
     "output_type": "execute_result"
    }
   ],
   "source": [
    "kron(A, B)"
   ]
  }
 ],
 "metadata": {
  "kernelspec": {
   "display_name": "Julia 1",
   "language": "julia",
   "name": "julia-1.11"
  },
  "language_info": {
   "file_extension": ".jl",
   "mimetype": "application/julia",
   "name": "julia",
   "version": "1.11.2"
  },
  "numbering": {
   "headings": false
  }
 },
 "nbformat": 4,
 "nbformat_minor": 5
}
