{
    "cells": [
        {
            "cell_type": "markdown",
            "source": [
                "[**Demo %s**](#demo-diffadv-vec)"
            ],
            "id": "7d178c31",
            "metadata": {}
        },
        {
            "outputs": [
                {
                    "name": "stdout",
                    "output_type": "stream",
                    "text": [
                        "function on a 4x3 grid:\n",
                        "   -0.0000   -1.0000    0.0000    1.0000\n",
                        "    0.3827    0.7071    0.9239    1.0000\n",
                        "   -0.7071    0.0000    0.7071    1.0000\n",
                        "    0.9239   -0.7071   -0.3827    1.0000\n",
                        "   -1.0000    1.0000   -1.0000    1.0000\n",
                        "\n"
                    ]
                }
            ],
            "cell_type": "code",
            "source": [
                "m = 4;  n = 3;\n",
                "x = linspace(0, 2, m+1);\n",
                "y = linspace(-3, 0, n+1);\n",
                "\n",
                "f = @(x, y) cos(0.75*pi * x .* y - 0.5*pi * y);\n",
                "[mtx, X, Y, vec, unvec] = tensorgrid(x, y);\n",
                "F = mtx(f);\n",
                "disp(\"function on a 4x3 grid:\")\n",
                "disp(F)"
            ],
            "id": "90a1ccb1",
            "metadata": {},
            "execution_count": 2
        },
        {
            "outputs": [
                {
                    "name": "stdout",
                    "output_type": "stream",
                    "text": [
                        "vec(F):\n",
                        "   -0.0000\n",
                        "    0.3827\n",
                        "   -0.7071\n",
                        "    0.9239\n",
                        "   -1.0000\n",
                        "   -1.0000\n",
                        "    0.7071\n",
                        "    0.0000\n",
                        "   -0.7071\n",
                        "    1.0000\n",
                        "    0.0000\n",
                        "    0.9239\n",
                        "    0.7071\n",
                        "   -0.3827\n",
                        "   -1.0000\n",
                        "    1.0000\n",
                        "    1.0000\n",
                        "    1.0000\n",
                        "    1.0000\n",
                        "    1.0000\n",
                        "\n"
                    ]
                }
            ],
            "cell_type": "code",
            "source": [
                "disp(\"vec(F):\")\n",
                "disp(vec(F))"
            ],
            "id": "5dd1a8b6",
            "metadata": {},
            "execution_count": 3
        },
        {
            "cell_type": "markdown",
            "source": [
                "The `unvec` operation is the inverse of vec."
            ],
            "id": "443a9245",
            "metadata": {}
        },
        {
            "outputs": [
                {
                    "name": "stdout",
                    "output_type": "stream",
                    "text": [
                        "unvec(vec(F)):\n",
                        "   -0.0000   -1.0000    0.0000    1.0000\n",
                        "    0.3827    0.7071    0.9239    1.0000\n",
                        "   -0.7071    0.0000    0.7071    1.0000\n",
                        "    0.9239   -0.7071   -0.3827    1.0000\n",
                        "   -1.0000    1.0000   -1.0000    1.0000\n",
                        "\n"
                    ]
                }
            ],
            "cell_type": "code",
            "source": [
                "disp(\"unvec(vec(F)):\")\n",
                "disp(unvec(vec(F)))"
            ],
            "id": "1625a208",
            "metadata": {},
            "execution_count": 4
        }
    ],
    "nbformat_minor": 5,
    "metadata": {
        "language_info": {
            "file_extension": ".m",
            "mimetype": "text/x-matlab",
            "name": "matlab"
        },
        "kernelspec": {
            "name": "jupyter_matlab_kernel",
            "display_name": "MATLAB Kernel",
            "language": "matlab"
        },
        "numbering": {
            "headings": false
        }
    },
    "nbformat": 4
}
