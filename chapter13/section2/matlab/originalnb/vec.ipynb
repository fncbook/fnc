{
 "cells": [
  {
   "cell_type": "code",
   "execution_count": 1,
   "id": "ec40cf8b",
   "metadata": {
    "tags": [
     "remove-cell"
    ]
   },
   "outputs": [],
   "source": [
    "cd  /Users/driscoll/Documents/GitHub/fnc/matlab\n",
    "FNC_init"
   ]
  },
  {
   "cell_type": "markdown",
   "id": "7d178c31",
   "metadata": {},
   "source": [
    "[**Demo %s**](#demo-diffadv-vec)"
   ]
  },
  {
   "cell_type": "code",
   "execution_count": 2,
   "id": "90a1ccb1",
   "metadata": {},
   "outputs": [
    {
     "name": "stdout",
     "output_type": "stream",
     "text": [
      "function on a 4x3 grid:\n",
      "   -0.0000   -1.0000    0.0000    1.0000\n",
      "    0.3827    0.7071    0.9239    1.0000\n",
      "   -0.7071    0.0000    0.7071    1.0000\n",
      "    0.9239   -0.7071   -0.3827    1.0000\n",
      "   -1.0000    1.0000   -1.0000    1.0000\n",
      "\n"
     ]
    }
   ],
   "source": [
    "m = 4;  n = 3;\n",
    "x = linspace(0, 2, m+1);\n",
    "y = linspace(-3, 0, n+1);\n",
    "\n",
    "f = @(x, y) cos(0.75*pi * x .* y - 0.5*pi * y);\n",
    "[mtx, X, Y, vec, unvec] = tensorgrid(x, y);\n",
    "F = mtx(f);\n",
    "disp(\"function on a 4x3 grid:\")\n",
    "disp(F)"
   ]
  },
  {
   "cell_type": "code",
   "execution_count": 3,
   "id": "5dd1a8b6",
   "metadata": {},
   "outputs": [
    {
     "name": "stdout",
     "output_type": "stream",
     "text": [
      "vec(F):\n",
      "   -0.0000\n",
      "    0.3827\n",
      "   -0.7071\n",
      "    0.9239\n",
      "   -1.0000\n",
      "   -1.0000\n",
      "    0.7071\n",
      "    0.0000\n",
      "   -0.7071\n",
      "    1.0000\n",
      "    0.0000\n",
      "    0.9239\n",
      "    0.7071\n",
      "   -0.3827\n",
      "   -1.0000\n",
      "    1.0000\n",
      "    1.0000\n",
      "    1.0000\n",
      "    1.0000\n",
      "    1.0000\n",
      "\n"
     ]
    }
   ],
   "source": [
    "disp(\"vec(F):\")\n",
    "disp(vec(F))"
   ]
  },
  {
   "cell_type": "markdown",
   "id": "443a9245",
   "metadata": {},
   "source": [
    "The `unvec` operation is the inverse of vec."
   ]
  },
  {
   "cell_type": "code",
   "execution_count": 4,
   "id": "1625a208",
   "metadata": {},
   "outputs": [
    {
     "name": "stdout",
     "output_type": "stream",
     "text": [
      "unvec(vec(F)):\n",
      "   -0.0000   -1.0000    0.0000    1.0000\n",
      "    0.3827    0.7071    0.9239    1.0000\n",
      "   -0.7071    0.0000    0.7071    1.0000\n",
      "    0.9239   -0.7071   -0.3827    1.0000\n",
      "   -1.0000    1.0000   -1.0000    1.0000\n",
      "\n"
     ]
    }
   ],
   "source": [
    "disp(\"unvec(vec(F)):\")\n",
    "disp(unvec(vec(F)))"
   ]
  }
 ],
 "metadata": {
  "kernelspec": {
   "display_name": "MATLAB Kernel",
   "language": "matlab",
   "name": "jupyter_matlab_kernel"
  },
  "language_info": {
   "file_extension": ".m",
   "mimetype": "text/x-matlab",
   "name": "matlab"
  },
  "numbering": {
   "headings": false
  }
 },
 "nbformat": 4,
 "nbformat_minor": 5
}
