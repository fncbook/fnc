{
 "cells": [
  {
   "cell_type": "code",
   "execution_count": 1,
   "id": "3332468c",
   "metadata": {
    "execution": {
     "iopub.execute_input": "2025-01-14T15:50:36.843000Z",
     "iopub.status.busy": "2025-01-14T15:50:32.883000Z",
     "iopub.status.idle": "2025-01-14T15:52:30.291000Z",
     "shell.execute_reply": "2025-01-14T15:52:28.866000Z"
    },
    "tags": [
     "remove-cell"
    ]
   },
   "outputs": [
    {
     "name": "stderr",
     "output_type": "stream",
     "text": [
      "\u001b[32m\u001b[1m  Activating\u001b[22m\u001b[39m "
     ]
    },
    {
     "name": "stderr",
     "output_type": "stream",
     "text": [
      "project at `~/Documents/GitHub/fnc`\n"
     ]
    }
   ],
   "source": [
    "include(\"../../../julia/FNC_init.jl\")"
   ]
  },
  {
   "cell_type": "markdown",
   "id": "b80eae8a",
   "metadata": {},
   "source": [
    "[**Demo %s**](#demo-diffadv-vec)"
   ]
  },
  {
   "cell_type": "code",
   "execution_count": 2,
   "id": "97d84cd7",
   "metadata": {
    "execution": {
     "iopub.execute_input": "2025-01-14T15:52:33.160000Z",
     "iopub.status.busy": "2025-01-14T15:52:30.306000Z",
     "iopub.status.idle": "2025-01-14T15:52:59.066000Z",
     "shell.execute_reply": "2025-01-14T15:52:59.029000Z"
    }
   },
   "outputs": [
    {
     "data": {
      "text/plain": [
       "6-element Vector{Int64}:\n",
       " 9\n",
       " 1\n",
       " 2\n",
       " 5\n",
       " 4\n",
       " 3"
      ]
     },
     "execution_count": 2,
     "metadata": {},
     "output_type": "execute_result"
    }
   ],
   "source": [
    "m = 2;\n",
    "n = 3;\n",
    "V = rand(1:9, m, n);\n",
    "v = vec(V)"
   ]
  },
  {
   "cell_type": "markdown",
   "id": "3ef54ec8",
   "metadata": {},
   "source": [
    "The `unvec` operation is the inverse of vec."
   ]
  },
  {
   "cell_type": "code",
   "execution_count": 3,
   "id": "91102671",
   "metadata": {
    "execution": {
     "iopub.execute_input": "2025-01-14T15:52:59.115000Z",
     "iopub.status.busy": "2025-01-14T15:52:59.113000Z",
     "iopub.status.idle": "2025-01-14T15:53:02.652000Z",
     "shell.execute_reply": "2025-01-14T15:53:02.644000Z"
    }
   },
   "outputs": [
    {
     "data": {
      "text/plain": [
       "2×3 Matrix{Int64}:\n",
       " 9  2  4\n",
       " 1  5  3"
      ]
     },
     "execution_count": 3,
     "metadata": {},
     "output_type": "execute_result"
    }
   ],
   "source": [
    "unvec = z -> reshape(z, m, n)\n",
    "unvec(v)"
   ]
  }
 ],
 "metadata": {
  "kernelspec": {
   "display_name": "Julia 1",
   "language": "julia",
   "name": "julia-1.11"
  },
  "language_info": {
   "file_extension": ".jl",
   "mimetype": "application/julia",
   "name": "julia",
   "version": "1.11.2"
  },
  "numbering": {
   "headings": false
  }
 },
 "nbformat": 4,
 "nbformat_minor": 5
}
