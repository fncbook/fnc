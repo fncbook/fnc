{
 "cells": [
  {
   "cell_type": "code",
   "execution_count": 1,
   "id": "3bc0fb49",
   "metadata": {
    "execution": {
     "iopub.execute_input": "2025-01-09T20:32:01.273346Z",
     "iopub.status.busy": "2025-01-09T20:32:01.273060Z",
     "iopub.status.idle": "2025-01-09T20:32:01.849514Z",
     "shell.execute_reply": "2025-01-09T20:32:01.849097Z"
    },
    "tags": [
     "remove-cell"
    ]
   },
   "outputs": [],
   "source": [
    "exec(open(\"../../../python/FNC_init.py\").read())"
   ]
  },
  {
   "cell_type": "markdown",
   "id": "bf61cb29",
   "metadata": {},
   "source": [
    "[**Demo %s**](#demo-diffadv-wave)\n",
    "\n",
    "We start with the discretization and initial condition."
   ]
  },
  {
   "cell_type": "code",
   "execution_count": 2,
   "id": "c7d73550",
   "metadata": {
    "execution": {
     "iopub.execute_input": "2025-01-09T20:32:01.851265Z",
     "iopub.status.busy": "2025-01-09T20:32:01.851083Z",
     "iopub.status.idle": "2025-01-09T20:32:01.858313Z",
     "shell.execute_reply": "2025-01-09T20:32:01.858052Z"
    }
   },
   "outputs": [],
   "source": [
    "m, n = 40, 42\n",
    "x, Dx, Dxx = FNC.diffcheb(m, [-2, 2])\n",
    "y, Dy, Dyy = FNC.diffcheb(n, [-2, 2])\n",
    "mtx, X, Y, _, _, _ = FNC.tensorgrid(x, y)\n",
    "\n",
    "U0 = mtx(lambda x, y: (x + 0.2) * exp(-12 * (x**2 + y**2)))\n",
    "V0 = zeros(U0.shape)"
   ]
  },
  {
   "cell_type": "markdown",
   "id": "652f987e",
   "metadata": {},
   "source": [
    "Note that because $u$ is known on the boundary, while $v$ is unknown over the full grid, there are two different sizes of vec/unvec operations. We also need to define functions to pack grid unknowns into a vector and to unpack them. When the unknowns for $u$ are packed, the boundary values are chopped off, and these are restored when unpacking."
   ]
  },
  {
   "cell_type": "code",
   "execution_count": 3,
   "id": "f78aee03",
   "metadata": {
    "execution": {
     "iopub.execute_input": "2025-01-09T20:32:01.859659Z",
     "iopub.status.busy": "2025-01-09T20:32:01.859548Z",
     "iopub.status.idle": "2025-01-09T20:32:01.863503Z",
     "shell.execute_reply": "2025-01-09T20:32:01.863191Z"
    }
   },
   "outputs": [],
   "source": [
    "_, _, _, vec_v, unvec_v, _ = FNC.tensorgrid(x, y)\n",
    "_, _, _, vec_u, unvec_u, _ = FNC.tensorgrid(x[1:-1], y[1:-1])\n",
    "\n",
    "def extend(U):\n",
    "    UU = zeros((m+1, n+1))\n",
    "    UU[1:-1, 1:-1] = U\n",
    "    return UU\n",
    "\n",
    "def chop(U):\n",
    "    return U[1:-1, 1:-1]\n",
    "\n",
    "def pack(U, V): \n",
    "    return hstack([vec_u(chop(U)), vec_v(V)])\n",
    "\n",
    "N = (m-1) * (n-1)\n",
    "def unpack(w):\n",
    "    U = extend(unvec_u(w[:N]))\n",
    "    V = unvec_v(w[N:])\n",
    "    return U, V"
   ]
  },
  {
   "cell_type": "markdown",
   "id": "9794c6a2",
   "metadata": {},
   "source": [
    "We can now define and solve the IVP. Since this problem is hyperbolic, not parabolic, a nonstiff integrator is faster than a stiff one."
   ]
  },
  {
   "cell_type": "code",
   "execution_count": 4,
   "id": "6b8f11ed",
   "metadata": {
    "execution": {
     "iopub.execute_input": "2025-01-09T20:32:01.864817Z",
     "iopub.status.busy": "2025-01-09T20:32:01.864726Z",
     "iopub.status.idle": "2025-01-09T20:32:02.171138Z",
     "shell.execute_reply": "2025-01-09T20:32:02.170412Z"
    }
   },
   "outputs": [],
   "source": [
    "from scipy.integrate import solve_ivp\n",
    "def dw_dt(t, w):\n",
    "    U, V = unpack(w)\n",
    "    dU_dt = V\n",
    "    dV_dt = Dxx @ U + U @ Dyy.T\n",
    "    return pack(dU_dt, dV_dt)\n",
    "\n",
    "from scipy.integrate import solve_ivp\n",
    "sol = solve_ivp(dw_dt, (0, 4), pack(U0, V0), method=\"RK45\", dense_output=True)\n",
    "U = lambda t: unpack(sol.sol(t))[0]"
   ]
  },
  {
   "cell_type": "code",
   "execution_count": 5,
   "id": "248a64e3",
   "metadata": {
    "execution": {
     "iopub.execute_input": "2025-01-09T20:32:02.175781Z",
     "iopub.status.busy": "2025-01-09T20:32:02.175474Z",
     "iopub.status.idle": "2025-01-09T20:32:07.510706Z",
     "shell.execute_reply": "2025-01-09T20:32:07.510266Z"
    }
   },
   "outputs": [],
   "source": [
    "from matplotlib.animation import FuncAnimation\n",
    "fig, ax = subplots()\n",
    "obj = ax.pcolormesh(X, Y, U(0), vmin=-0.1, vmax=0.1, cmap=\"RdBu\", shading=\"gouraud\")\n",
    "time_text = ax.text(0.05, 0.9, '', transform=ax.transAxes)\n",
    "ax.set_xlabel(\"$x$\"),  ax.set_ylabel(\"$y$\")\n",
    "ax.set_aspect(\"equal\")\n",
    "ax.set_title(\"Wave equation in 2d\")\n",
    "\n",
    "def snapshot(t):\n",
    "    global obj\n",
    "    obj.remove()\n",
    "    obj = ax.pcolormesh(X, Y, U(t), vmin=-0.1, vmax=0.1, cmap=\"RdBu\", shading=\"gouraud\")\n",
    "    time_text.set_text(f\"t = {t:.2f}\")\n",
    "\n",
    "anim = FuncAnimation(fig, snapshot, frames=linspace(0, 4, 91))\n",
    "anim.save(\"wave-2d.mp4\", fps=30);\n",
    "close()"
   ]
  }
 ],
 "metadata": {
  "kernelspec": {
   "display_name": "Python 3",
   "language": "python",
   "name": "python3"
  },
  "language_info": {
   "codemirror_mode": {
    "name": "ipython",
    "version": 3
   },
   "file_extension": ".py",
   "mimetype": "text/x-python",
   "name": "python",
   "nbconvert_exporter": "python",
   "pygments_lexer": "ipython3",
   "version": "3.13.0"
  },
  "numbering": {
   "headings": false
  }
 },
 "nbformat": 4,
 "nbformat_minor": 5
}
