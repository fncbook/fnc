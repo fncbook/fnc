{
 "cells": [
  {
   "cell_type": "code",
   "execution_count": 1,
   "id": "71051c4f",
   "metadata": {
    "execution": {
     "iopub.execute_input": "2025-01-09T20:29:16.133906Z",
     "iopub.status.busy": "2025-01-09T20:29:16.133806Z",
     "iopub.status.idle": "2025-01-09T20:29:16.509086Z",
     "shell.execute_reply": "2025-01-09T20:29:16.508796Z"
    },
    "tags": [
     "remove-cell"
    ]
   },
   "outputs": [],
   "source": [
    "exec(open(\"../../../python/FNC_init.py\").read())"
   ]
  },
  {
   "cell_type": "markdown",
   "id": "b11fef28",
   "metadata": {},
   "source": [
    "[**Demo %s**](#demo-diffadv-vec)"
   ]
  },
  {
   "cell_type": "code",
   "execution_count": 2,
   "id": "f988cf0c",
   "metadata": {
    "execution": {
     "iopub.execute_input": "2025-01-09T20:29:16.510649Z",
     "iopub.status.busy": "2025-01-09T20:29:16.510521Z",
     "iopub.status.idle": "2025-01-09T20:29:16.523907Z",
     "shell.execute_reply": "2025-01-09T20:29:16.520035Z"
    }
   },
   "outputs": [
    {
     "name": "stdout",
     "output_type": "stream",
     "text": [
      "function on a 4x3 grid:\n",
      "[[-0.     -1.      0.      1.    ]\n",
      " [ 0.3827  0.7071  0.9239  1.    ]\n",
      " [-0.7071  0.      0.7071  1.    ]\n",
      " [ 0.9239 -0.7071 -0.3827  1.    ]\n",
      " [-1.      1.     -1.      1.    ]]\n",
      "vec(F):\n",
      "[-0.      0.3827 -0.7071  0.9239 -1.     -1.      0.7071  0.     -0.7071\n",
      "  1.      0.      0.9239  0.7071 -0.3827 -1.      1.      1.      1.\n",
      "  1.      1.    ]\n"
     ]
    }
   ],
   "source": [
    "m, n = 4, 3\n",
    "x = linspace(0, 2, m+1)\n",
    "y = linspace(-3, 0, n+1)\n",
    "\n",
    "f = lambda x, y: cos(0.75 * pi * x * y - 0.5 * pi * y)\n",
    "mtx, X, Y, vec, unvec, _ = FNC.tensorgrid(x, y)\n",
    "F = mtx(f)\n",
    "print(f\"function on a {m}x{n} grid:\")\n",
    "with printoptions(precision=4, suppress=True):\n",
    "    print(F)\n",
    "\n",
    "print(\"vec(F):\")\n",
    "with printoptions(precision=4, suppress=True):\n",
    "    print(vec(F))"
   ]
  },
  {
   "cell_type": "markdown",
   "id": "783de4de",
   "metadata": {},
   "source": [
    "The `unvec` operation is the inverse of vec."
   ]
  },
  {
   "cell_type": "code",
   "execution_count": 3,
   "id": "603d505e",
   "metadata": {
    "execution": {
     "iopub.execute_input": "2025-01-09T20:29:16.527034Z",
     "iopub.status.busy": "2025-01-09T20:29:16.526807Z",
     "iopub.status.idle": "2025-01-09T20:29:16.530166Z",
     "shell.execute_reply": "2025-01-09T20:29:16.529663Z"
    }
   },
   "outputs": [
    {
     "name": "stdout",
     "output_type": "stream",
     "text": [
      "unvec(vec(F)):\n",
      "[[-0.     -1.      0.      1.    ]\n",
      " [ 0.3827  0.7071  0.9239  1.    ]\n",
      " [-0.7071  0.      0.7071  1.    ]\n",
      " [ 0.9239 -0.7071 -0.3827  1.    ]\n",
      " [-1.      1.     -1.      1.    ]]\n"
     ]
    }
   ],
   "source": [
    "print(\"unvec(vec(F)):\")\n",
    "with printoptions(precision=4, suppress=True):\n",
    "    print(unvec(vec(F)))"
   ]
  }
 ],
 "metadata": {
  "kernelspec": {
   "display_name": "Python 3",
   "language": "python",
   "name": "python3"
  },
  "language_info": {
   "codemirror_mode": {
    "name": "ipython",
    "version": 3
   },
   "file_extension": ".py",
   "mimetype": "text/x-python",
   "name": "python",
   "nbconvert_exporter": "python",
   "pygments_lexer": "ipython3",
   "version": "3.13.0"
  },
  "numbering": {
   "headings": false
  }
 },
 "nbformat": 4,
 "nbformat_minor": 5
}
