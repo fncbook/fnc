{
 "cells": [
  {
   "cell_type": "code",
   "execution_count": 1,
   "id": "9ce6cd80",
   "metadata": {
    "execution": {
     "iopub.execute_input": "2025-01-11T17:18:46.044362Z",
     "iopub.status.busy": "2025-01-11T17:18:46.044184Z",
     "iopub.status.idle": "2025-01-11T17:18:46.360294Z",
     "shell.execute_reply": "2025-01-11T17:18:46.359999Z"
    },
    "tags": [
     "remove-cell"
    ]
   },
   "outputs": [],
   "source": [
    "exec(open(\"../../../python/FNC_init.py\").read())"
   ]
  },
  {
   "cell_type": "markdown",
   "id": "4ac59c0d",
   "metadata": {},
   "source": [
    "[**Demo %s**](#demo-quasi-levenberg)\n",
    "\n",
    "To solve a nonlinear system, we need to code only the function defining the system, and not its Jacobian."
   ]
  },
  {
   "cell_type": "code",
   "execution_count": 2,
   "id": "87f3e3c7",
   "metadata": {
    "execution": {
     "iopub.execute_input": "2025-01-11T17:18:46.361719Z",
     "iopub.status.busy": "2025-01-11T17:18:46.361601Z",
     "iopub.status.idle": "2025-01-11T17:18:46.363600Z",
     "shell.execute_reply": "2025-01-11T17:18:46.363337Z"
    }
   },
   "outputs": [],
   "source": [
    "def func(x):\n",
    "    return array([\n",
    "        exp(x[1] - x[0]) - 2, \n",
    "        x[0] * x[1] + x[2], \n",
    "        x[1] * x[2] + x[0]**2 - x[1]\n",
    "    ])"
   ]
  },
  {
   "cell_type": "markdown",
   "id": "91c70cb6",
   "metadata": {},
   "source": [
    "In all other respects usage is the same as for the `newtonsys` function."
   ]
  },
  {
   "cell_type": "code",
   "execution_count": 3,
   "id": "b6f5c205",
   "metadata": {
    "execution": {
     "iopub.execute_input": "2025-01-11T17:18:46.364911Z",
     "iopub.status.busy": "2025-01-11T17:18:46.364821Z",
     "iopub.status.idle": "2025-01-11T17:18:46.367544Z",
     "shell.execute_reply": "2025-01-11T17:18:46.367300Z"
    }
   },
   "outputs": [
    {
     "name": "stdout",
     "output_type": "stream",
     "text": [
      "Took 11 iterations.\n"
     ]
    }
   ],
   "source": [
    "x1 = zeros(3)\n",
    "x = FNC.levenberg(func, x1)\n",
    "print(f\"Took {len(x) - 1} iterations.\")"
   ]
  },
  {
   "cell_type": "markdown",
   "id": "04f9ec12",
   "metadata": {},
   "source": [
    "It's always a good idea to check the accuracy of the root, by measuring the residual (backward error)."
   ]
  },
  {
   "cell_type": "code",
   "execution_count": 4,
   "id": "320933a5",
   "metadata": {
    "execution": {
     "iopub.execute_input": "2025-01-11T17:18:46.368664Z",
     "iopub.status.busy": "2025-01-11T17:18:46.368583Z",
     "iopub.status.idle": "2025-01-11T17:18:46.370358Z",
     "shell.execute_reply": "2025-01-11T17:18:46.370120Z"
    }
   },
   "outputs": [
    {
     "name": "stdout",
     "output_type": "stream",
     "text": [
      "backward error: 1.2708308198538738e-13\n"
     ]
    }
   ],
   "source": [
    "r = x[-1]\n",
    "print(\"backward error:\", norm(func(r)))"
   ]
  },
  {
   "cell_type": "markdown",
   "id": "93bbd3b9",
   "metadata": {},
   "source": [
    "Looking at the convergence in norm, we find a convergence rate between linear and quadratic, like with the secant method:"
   ]
  },
  {
   "cell_type": "code",
   "execution_count": 5,
   "id": "c8d3531e",
   "metadata": {
    "execution": {
     "iopub.execute_input": "2025-01-11T17:18:46.371454Z",
     "iopub.status.busy": "2025-01-11T17:18:46.371375Z",
     "iopub.status.idle": "2025-01-11T17:18:46.373386Z",
     "shell.execute_reply": "2025-01-11T17:18:46.373158Z"
    }
   },
   "outputs": [
    {
     "name": "stdout",
     "output_type": "stream",
     "text": [
      "1.3488093916747845\n",
      "2.6294109965748875\n",
      "1.4519728849832465\n",
      "1.3970235480592712\n",
      "1.2898554702767009\n",
      "1.273302844194998\n",
      "1.458758688582501\n",
      "1.5234698304213956\n",
      "1.1687771474875415\n",
      "1.1579168503648603\n"
     ]
    }
   ],
   "source": [
    "logerr = [log(norm(x[k] - r)) for k in range(len(x) - 1)]\n",
    "for k in range(len(logerr) - 1):\n",
    "    print(logerr[k+1] / logerr[k])"
   ]
  }
 ],
 "metadata": {
  "kernelspec": {
   "display_name": "Python 3",
   "language": "python",
   "name": "python3"
  },
  "language_info": {
   "codemirror_mode": {
    "name": "ipython",
    "version": 3
   },
   "file_extension": ".py",
   "mimetype": "text/x-python",
   "name": "python",
   "nbconvert_exporter": "python",
   "pygments_lexer": "ipython3",
   "version": "3.13.0"
  },
  "numbering": {
   "headings": false
  }
 },
 "nbformat": 4,
 "nbformat_minor": 5
}
