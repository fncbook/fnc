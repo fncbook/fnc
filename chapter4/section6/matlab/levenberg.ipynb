{
    "cells": [
        {
            "cell_type": "markdown",
            "id": "63d04e61",
            "metadata": {},
            "source": [
                "[**Demo %s**](#demo-quasi-levenberg)\n",
                "\n",
                "\n",
                "To solve a nonlinear system, we need to code only the function defining the system, and not its Jacobian.\n",
                "```{tip}\n",
                ":class: dropdown\n",
                "A rule of thumb is that if you use a function as an input argument for another function, there needs to be an `@` involved once: either for an anonymous definition or to reference a function defined elsewhere. \n",
                "```\n",
                "\n",
                "```{literalinclude} f46_nlsystem.m\n",
                ":language: matlab\n",
                "```\n",
                "\n",
                "In all other respects usage is the same as for the `newtonsys` function."
            ]
        },
        {
            "cell_type": "code",
            "execution_count": 2,
            "id": "2206c523",
            "metadata": {},
            "outputs": [],
            "source": [
                "f = @f46_nlsystem;\n",
                "x1 = [0; 0; 0];   \n",
                "x = levenberg(f, x1);"
            ]
        },
        {
            "cell_type": "markdown",
            "id": "f9dd82e4",
            "metadata": {},
            "source": [
                "It's always a good idea to check the accuracy of the root, by measuring the residual (backward error)."
            ]
        },
        {
            "cell_type": "code",
            "execution_count": 3,
            "id": "e5ed01b6",
            "metadata": {},
            "outputs": [
                {
                    "data": {
                        "text/html": [
                            "<html><body><pre>r = 3×1 double\n",
                            "   -0.4580\n",
                            "    0.2351\n",
                            "    0.1077\n",
                            "</pre></body></html>"
                        ],
                        "text/plain": [
                            "r = 3×1 double\n",
                            "   -0.4580\n",
                            "    0.2351\n",
                            "    0.1077\n"
                        ]
                    },
                    "execution_count": 3,
                    "metadata": {},
                    "output_type": "execute_result"
                },
                {
                    "data": {
                        "text/html": [
                            "<html><body><pre>backward_err = 1.2708e-13</pre></body></html>"
                        ],
                        "text/plain": [
                            "backward_err = 1.2708e-13"
                        ]
                    },
                    "execution_count": 3,
                    "metadata": {},
                    "output_type": "execute_result"
                }
            ],
            "source": [
                "r = x(:, end)\n",
                "backward_err = norm(f(r))"
            ]
        },
        {
            "cell_type": "markdown",
            "id": "bad2c5c5",
            "metadata": {},
            "source": [
                "Looking at the convergence of the first component, we find a rate between linear and quadratic, like with the secant method."
            ]
        },
        {
            "cell_type": "code",
            "execution_count": 4,
            "id": "f412fd7e",
            "metadata": {},
            "outputs": [
                {
                    "data": {
                        "text/html": [
                            "<html><body><pre>ans = 11×1 double\n",
                            "   -0.3391\n",
                            "   -0.4271\n",
                            "   -1.4439\n",
                            "   -1.5517\n",
                            "   -2.7571\n",
                            "   -2.6208\n",
                            "   -3.4403\n",
                            "   -4.9947\n",
                            "   -7.3448\n",
                            "   -8.7366\n",
                            "...</pre></body></html>"
                        ],
                        "text/plain": [
                            "ans = 11×1 double\n",
                            "   -0.3391\n",
                            "   -0.4271\n",
                            "   -1.4439\n",
                            "   -1.5517\n",
                            "   -2.7571\n",
                            "   -2.6208\n",
                            "   -3.4403\n",
                            "   -4.9947\n",
                            "   -7.3448\n",
                            "   -8.7366\n",
                            "..."
                        ]
                    },
                    "execution_count": 4,
                    "metadata": {},
                    "output_type": "execute_result"
                }
            ],
            "source": [
                "log10( abs(x(1, 1:end-1) - r(1)) )'"
            ]
        }
    ],
    "metadata": {
        "kernelspec": {
            "display_name": "MATLAB Kernel",
            "language": "matlab",
            "name": "jupyter_matlab_kernel"
        },
        "language_info": {
            "file_extension": ".m",
            "mimetype": "text/x-matlab",
            "name": "matlab"
        },
        "numbering": {
            "headings": false
        }
    },
    "nbformat": 4,
    "nbformat_minor": 5
}
