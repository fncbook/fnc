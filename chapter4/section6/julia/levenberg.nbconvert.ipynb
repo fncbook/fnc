{
 "cells": [
  {
   "cell_type": "code",
   "execution_count": 1,
   "id": "61ef61c4",
   "metadata": {
    "execution": {
     "iopub.execute_input": "2025-01-14T15:32:45.594000Z",
     "iopub.status.busy": "2025-01-14T15:32:40.109000Z",
     "iopub.status.idle": "2025-01-14T15:34:07.409000Z",
     "shell.execute_reply": "2025-01-14T15:34:06.896000Z"
    }
   },
   "outputs": [
    {
     "name": "stderr",
     "output_type": "stream",
     "text": [
      "\u001b[32m\u001b[1m  Activating\u001b[22m\u001b[39m "
     ]
    },
    {
     "name": "stderr",
     "output_type": "stream",
     "text": [
      "project at `~/Documents/GitHub/fnc`\n"
     ]
    }
   ],
   "source": [
    "include(\"../../../julia/FNC_init.jl\")"
   ]
  },
  {
   "cell_type": "markdown",
   "id": "6eb587c4",
   "metadata": {},
   "source": [
    "[**Demo %s**](#demo-quasi-levenberg)\n",
    "\n",
    "To solve a nonlinear system, we need to code only the function defining the system, and not its Jacobian."
   ]
  },
  {
   "cell_type": "code",
   "execution_count": 2,
   "id": "120f6790",
   "metadata": {
    "execution": {
     "iopub.execute_input": "2025-01-14T15:34:10.615000Z",
     "iopub.status.busy": "2025-01-14T15:34:07.428000Z",
     "iopub.status.idle": "2025-01-14T15:34:16.365000Z",
     "shell.execute_reply": "2025-01-14T15:34:16.352000Z"
    }
   },
   "outputs": [
    {
     "data": {
      "text/plain": [
       "f (generic function with 1 method)"
      ]
     },
     "execution_count": 2,
     "metadata": {},
     "output_type": "execute_result"
    }
   ],
   "source": [
    "f(x) = \n",
    "    [\n",
    "        exp(x[2] - x[1]) - 2,\n",
    "        x[1] * x[2] + x[3],\n",
    "        x[2] * x[3] + x[1]^2 - x[2]\n",
    "    ]"
   ]
  },
  {
   "cell_type": "markdown",
   "id": "6b231c62",
   "metadata": {},
   "source": [
    "In all other respects usage is the same as for the `newtonsys` function."
   ]
  },
  {
   "cell_type": "code",
   "execution_count": 3,
   "id": "e063b019",
   "metadata": {
    "execution": {
     "iopub.execute_input": "2025-01-14T15:34:16.370000Z",
     "iopub.status.busy": "2025-01-14T15:34:16.369000Z",
     "iopub.status.idle": "2025-01-14T15:34:39.382000Z",
     "shell.execute_reply": "2025-01-14T15:34:39.376000Z"
    }
   },
   "outputs": [
    {
     "data": {
      "text/plain": [
       "12-element Vector{Vector{Float64}}:\n",
       " [0.0, 0.0, 0.0]\n",
       " [-0.08396946536317919, 0.07633587873004255, 0.0]\n",
       " [-0.42205075841965206, 0.21991260740534585, 0.012997569823167984]\n",
       " [-0.48610710938504953, 0.2138968287772044, 0.09771872586402451]\n",
       " [-0.45628390809556546, 0.24211047709245145, 0.10100440258901365]\n",
       " [-0.4556388336696561, 0.23470443548745376, 0.10854665717226099]\n",
       " [-0.45839614510679244, 0.2353095686241835, 0.10739828073307472]\n",
       " [-0.45804340381597397, 0.2351212406112955, 0.10768079583159752]\n",
       " [-0.45803332584412787, 0.23511390840121466, 0.10768998049540802]\n",
       " [-0.45803327880719313, 0.23511389867393448, 0.10768999250671268]\n",
       " [-0.4580332805601996, 0.2351138998630789, 0.10768999097568899]\n",
       " [-0.458033280641234, 0.23511389991865284, 0.10768999090414473]"
      ]
     },
     "execution_count": 3,
     "metadata": {},
     "output_type": "execute_result"
    }
   ],
   "source": [
    "x₁ = [0.0, 0.0, 0.0]\n",
    "x = FNC.levenberg(f, x₁)"
   ]
  },
  {
   "cell_type": "markdown",
   "id": "5c879090",
   "metadata": {},
   "source": [
    "It's always a good idea to check the accuracy of the root, by measuring the residual (backward error)."
   ]
  },
  {
   "cell_type": "code",
   "execution_count": 4,
   "id": "632da5bd",
   "metadata": {
    "execution": {
     "iopub.execute_input": "2025-01-14T15:34:39.401000Z",
     "iopub.status.busy": "2025-01-14T15:34:39.401000Z",
     "iopub.status.idle": "2025-01-14T15:34:39.741000Z",
     "shell.execute_reply": "2025-01-14T15:34:39.726000Z"
    }
   },
   "outputs": [
    {
     "name": "stdout",
     "output_type": "stream",
     "text": [
      "backward error = 1.2707848769787674e-13\n"
     ]
    }
   ],
   "source": [
    "r = x[end]\n",
    "println(\"backward error = $(norm(f(r)))\")"
   ]
  },
  {
   "cell_type": "markdown",
   "id": "45b38a01",
   "metadata": {},
   "source": [
    "Looking at the convergence in norm, we find a convergence rate between linear and quadratic, like with the secant method."
   ]
  },
  {
   "cell_type": "code",
   "execution_count": 5,
   "id": "c95c50b9",
   "metadata": {
    "execution": {
     "iopub.execute_input": "2025-01-14T15:34:39.773000Z",
     "iopub.status.busy": "2025-01-14T15:34:39.771000Z",
     "iopub.status.idle": "2025-01-14T15:34:54.758000Z",
     "shell.execute_reply": "2025-01-14T15:34:54.718000Z"
    }
   },
   "outputs": [
    {
     "data": {
      "text/html": [
       "<table>\n",
       "  <thead>\n",
       "    <tr class = \"header headerLastRow\">\n",
       "      <th style = \"text-align: right;\">iteration</th>\n",
       "      <th style = \"text-align: right;\">log error</th>\n",
       "      <th style = \"text-align: right;\">ratio</th>\n",
       "    </tr>\n",
       "  </thead>\n",
       "  <tbody>\n",
       "    <tr>\n",
       "      <td style = \"text-align: right;\">1.0</td>\n",
       "      <td style = \"text-align: right;\">-0.642465</td>\n",
       "      <td style = \"text-align: right;\">NaN</td>\n",
       "    </tr>\n",
       "    <tr>\n",
       "      <td style = \"text-align: right;\">2.0</td>\n",
       "      <td style = \"text-align: right;\">-0.866562</td>\n",
       "      <td style = \"text-align: right;\">1.34881</td>\n",
       "    </tr>\n",
       "    <tr>\n",
       "      <td style = \"text-align: right;\">3.0</td>\n",
       "      <td style = \"text-align: right;\">-2.27855</td>\n",
       "      <td style = \"text-align: right;\">2.62941</td>\n",
       "    </tr>\n",
       "    <tr>\n",
       "      <td style = \"text-align: right;\">4.0</td>\n",
       "      <td style = \"text-align: right;\">-3.30839</td>\n",
       "      <td style = \"text-align: right;\">1.45197</td>\n",
       "    </tr>\n",
       "    <tr>\n",
       "      <td style = \"text-align: right;\">5.0</td>\n",
       "      <td style = \"text-align: right;\">-4.6219</td>\n",
       "      <td style = \"text-align: right;\">1.39702</td>\n",
       "    </tr>\n",
       "    <tr>\n",
       "      <td style = \"text-align: right;\">6.0</td>\n",
       "      <td style = \"text-align: right;\">-5.96158</td>\n",
       "      <td style = \"text-align: right;\">1.28986</td>\n",
       "    </tr>\n",
       "    <tr>\n",
       "      <td style = \"text-align: right;\">7.0</td>\n",
       "      <td style = \"text-align: right;\">-7.5909</td>\n",
       "      <td style = \"text-align: right;\">1.2733</td>\n",
       "    </tr>\n",
       "    <tr>\n",
       "      <td style = \"text-align: right;\">8.0</td>\n",
       "      <td style = \"text-align: right;\">-11.0733</td>\n",
       "      <td style = \"text-align: right;\">1.45876</td>\n",
       "    </tr>\n",
       "    <tr>\n",
       "      <td style = \"text-align: right;\">9.0</td>\n",
       "      <td style = \"text-align: right;\">-16.8698</td>\n",
       "      <td style = \"text-align: right;\">1.52347</td>\n",
       "    </tr>\n",
       "    <tr>\n",
       "      <td style = \"text-align: right;\">10.0</td>\n",
       "      <td style = \"text-align: right;\">-19.7171</td>\n",
       "      <td style = \"text-align: right;\">1.16878</td>\n",
       "    </tr>\n",
       "    <tr>\n",
       "      <td style = \"text-align: right;\">11.0</td>\n",
       "      <td style = \"text-align: right;\">-22.8307</td>\n",
       "      <td style = \"text-align: right;\">1.15792</td>\n",
       "    </tr>\n",
       "  </tbody>\n",
       "</table>\n"
      ]
     },
     "metadata": {},
     "output_type": "display_data"
    }
   ],
   "source": [
    "logerr = [log(norm(r - x[k])) for k in 1:length(x)-1]\n",
    "ratios = [NaN; [logerr[i+1] / logerr[i] for i in 1:length(logerr)-1]]\n",
    "@pt :header=[\"iteration\", \"log error\", \"ratio\"] [eachindex(logerr) logerr ratios]"
   ]
  }
 ],
 "metadata": {
  "kernelspec": {
   "display_name": "Julia 1",
   "language": "julia",
   "name": "julia-1.11"
  },
  "language_info": {
   "file_extension": ".jl",
   "mimetype": "application/julia",
   "name": "julia",
   "version": "1.11.2"
  },
  "numbering": {
   "headings": false
  }
 },
 "nbformat": 4,
 "nbformat_minor": 5
}
