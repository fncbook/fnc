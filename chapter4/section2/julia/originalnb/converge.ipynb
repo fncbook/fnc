{
    "cells": [
        {
            "outputs": [
                {
                    "name": "stderr",
                    "output_type": "stream",
                    "text": [
                        "\u001b[32m\u001b[1m  Activating\u001b[22m\u001b[39m "
                    ]
                },
                {
                    "name": "stderr",
                    "output_type": "stream",
                    "text": [
                        "project at `~/Documents/GitHub/fnc`\n"
                    ]
                }
            ],
            "cell_type": "code",
            "source": [
                "include(\"../../../julia/FNC_init.jl\")"
            ],
            "id": "9bff86a6",
            "metadata": {
                "execution": {
                    "iopub.status.idle": "2025-01-14T15:17:57.475000Z",
                    "iopub.status.busy": "2025-01-14T15:17:40.559000Z",
                    "iopub.execute_input": "2025-01-14T15:17:40.959000Z",
                    "shell.execute_reply": "2025-01-14T15:17:57.363000Z"
                },
                "tags": [
                    "remove-cell"
                ]
            },
            "execution_count": 1
        },
        {
            "cell_type": "markdown",
            "source": [
                "[**Demo %s**](#demo-fp-converge)\n",
                "\n",
                "We revisit {numref}`Demo %s <demo-fp-spiral>` and investigate the observed convergence more closely. Recall that above we calculated $g'(p)\\approx-0.42$ at the convergent fixed point."
            ],
            "id": "2b36cf84",
            "metadata": {}
        },
        {
            "outputs": [
                {
                    "name": "stdout",
                    "output_type": "stream",
                    "text": [
                        "(rmin, rmax) = (1.2928932188134525, 2.7071067811865475)"
                    ]
                },
                {
                    "name": "stdout",
                    "output_type": "stream",
                    "text": [
                        "\n"
                    ]
                }
            ],
            "cell_type": "code",
            "source": [
                "using Polynomials\n",
                "p = Polynomial([3.5, -4, 1])\n",
                "r = roots(p)\n",
                "rmin, rmax = extrema(r)\n",
                "@show rmin, rmax;"
            ],
            "id": "84353f26",
            "metadata": {
                "execution": {
                    "iopub.status.idle": "2025-01-14T15:18:02.604000Z",
                    "iopub.status.busy": "2025-01-14T15:17:57.483000Z",
                    "iopub.execute_input": "2025-01-14T15:17:57.991000Z",
                    "shell.execute_reply": "2025-01-14T15:18:02.598000Z"
                }
            },
            "execution_count": 2
        },
        {
            "cell_type": "markdown",
            "source": [
                "Here is the fixed-point iteration. This time we keep track of the whole sequence of approximations.\n",
                "\n",
                ":::{index} Julia; push!\n",
                ":::"
            ],
            "id": "5bdcfb31",
            "metadata": {}
        },
        {
            "outputs": [
                {
                    "output_type": "execute_result",
                    "data": {
                        "text/plain": [
                            "13-element Vector{Float64}:\n",
                            " 2.1\n",
                            " 2.59\n",
                            " 2.7419000000000002\n",
                            " 2.69148439\n",
                            " 2.713333728386328\n",
                            " 2.7044887203327885\n",
                            " 2.7081843632566587\n",
                            " 2.7066592708954196\n",
                            " 2.7072919457529734\n",
                            " 2.7070300492259465\n",
                            " 2.707138558717502\n",
                            " 2.707093617492436\n",
                            " 2.7071122335938966"
                        ]
                    },
                    "metadata": {},
                    "execution_count": 3
                }
            ],
            "cell_type": "code",
            "source": [
                "g(x) = x - p(x)\n",
                "x = [2.1]\n",
                "for k = 1:12\n",
                "    push!(x, g(x[k]))\n",
                "end\n",
                "x"
            ],
            "id": "4a4d69b7",
            "metadata": {
                "execution": {
                    "iopub.status.idle": "2025-01-14T15:18:05.384000Z",
                    "iopub.status.busy": "2025-01-14T15:18:02.607000Z",
                    "iopub.execute_input": "2025-01-14T15:18:02.607000Z",
                    "shell.execute_reply": "2025-01-14T15:18:05.383000Z"
                }
            },
            "execution_count": 3
        },
        {
            "cell_type": "markdown",
            "source": [
                "It's illuminating to construct and plot the sequence of errors."
            ],
            "id": "65b490f8",
            "metadata": {}
        },
        {
            "outputs": [
                {
                    "output_type": "execute_result",
                    "data": {
                        "image/png": "[encoded data removed]",
                        "text/html": [
                            "<?xml version=\"1.0\" encoding=\"utf-8\"?>\n",
                            "<svg xmlns=\"http://www.w3.org/2000/svg\" xmlns:xlink=\"http://www.w3.org/1999/xlink\" width=\"500\" height=\"320\" viewBox=\"0 0 2000 1280\">\n",
                            "<defs>\n",
                            "  <clipPath id=\"clip450\">\n",
                            "    <rect x=\"0\" y=\"0\" width=\"2000\" height=\"1280\"/>\n",
                            "  </clipPath>\n",
                            "</defs>\n",
                            "<path clip-path=\"url(#clip450)\" d=\"M0 1280 L2000 1280 L2000 0 L0 0  Z\" fill=\"#ffffff\" fill-rule=\"evenodd\" fill-opacity=\"1\"/>\n",
                            "<defs>\n",
                            "  <clipPath id=\"clip451\">\n",
                            "    <rect x=\"400\" y=\"0\" width=\"1401\" height=\"1280\"/>\n",
                            "  </clipPath>\n",
                            "</defs>\n",
                            "<path clip-path=\"url(#clip450)\" d=\"M245.508 1111.02 L1952.76 1111.02 L1952.76 107.256 L245.508 107.256  Z\" fill=\"#ffffff\" fill-rule=\"evenodd\" fill-opacity=\"1\"/>\n",
                            "<defs>\n",
                            "  <clipPath id=\"clip452\">\n",
                            "    <rect x=\"245\" y=\"107\" width=\"1708\" height=\"1005\"/>\n",
                            "  </clipPath>\n",
                            "</defs>\n",
                            "<polyline clip-path=\"url(#clip452)\" style=\"stroke:#000000; stroke-linecap:round; stroke-linejoin:round; stroke-width:2; stroke-opacity:0.1; fill:none\" points=\"293.826,1111.02 293.826,107.256 \"/>\n",
                            "<polyline clip-path=\"url(#clip452)\" style=\"stroke:#000000; stroke-linecap:round; stroke-linejoin:round; stroke-width:2; stroke-opacity:0.1; fill:none\" points=\"629.37,1111.02 629.37,107.256 \"/>\n",
                            "<polyline clip-path=\"url(#clip452)\" style=\"stroke:#000000; stroke-linecap:round; stroke-linejoin:round; stroke-width:2; stroke-opacity:0.1; fill:none\" points=\"964.914,1111.02 964.914,107.256 \"/>\n",
                            "<polyline clip-path=\"url(#clip452)\" style=\"stroke:#000000; stroke-linecap:round; stroke-linejoin:round; stroke-width:2; stroke-opacity:0.1; fill:none\" points=\"1300.46,1111.02 1300.46,107.256 \"/>\n",
                            "<polyline clip-path=\"url(#clip452)\" style=\"stroke:#000000; stroke-linecap:round; stroke-linejoin:round; stroke-width:2; stroke-opacity:0.1; fill:none\" points=\"1636,1111.02 1636,107.256 \"/>\n",
                            "<polyline clip-path=\"url(#clip452)\" style=\"stroke:#000000; stroke-linecap:round; stroke-linejoin:round; stroke-width:2; stroke-opacity:0.1; fill:none\" points=\"245.508,845.547 1952.76,845.547 \"/>\n",
                            "<polyline clip-path=\"url(#clip452)\" style=\"stroke:#000000; stroke-linecap:round; stroke-linejoin:round; stroke-width:2; stroke-opacity:0.1; fill:none\" points=\"245.508,470.272 1952.76,470.272 \"/>\n",
                            "<polyline clip-path=\"url(#clip450)\" style=\"stroke:#000000; stroke-linecap:round; stroke-linejoin:round; stroke-width:4; stroke-opacity:1; fill:none\" points=\"245.508,1111.02 1952.76,1111.02 \"/>\n",
                            "<polyline clip-path=\"url(#clip450)\" style=\"stroke:#000000; stroke-linecap:round; stroke-linejoin:round; stroke-width:4; stroke-opacity:1; fill:none\" points=\"293.826,1111.02 293.826,1092.12 \"/>\n",
                            "<polyline clip-path=\"url(#clip450)\" style=\"stroke:#000000; stroke-linecap:round; stroke-linejoin:round; stroke-width:4; stroke-opacity:1; fill:none\" points=\"629.37,1111.02 629.37,1092.12 \"/>\n",
                            "<polyline clip-path=\"url(#clip450)\" style=\"stroke:#000000; stroke-linecap:round; stroke-linejoin:round; stroke-width:4; stroke-opacity:1; fill:none\" points=\"964.914,1111.02 964.914,1092.12 \"/>\n",
                            "<polyline clip-path=\"url(#clip450)\" style=\"stroke:#000000; stroke-linecap:round; stroke-linejoin:round; stroke-width:4; stroke-opacity:1; fill:none\" points=\"1300.46,1111.02 1300.46,1092.12 \"/>\n",
                            "<polyline clip-path=\"url(#clip450)\" style=\"stroke:#000000; stroke-linecap:round; stroke-linejoin:round; stroke-width:4; stroke-opacity:1; fill:none\" points=\"1636,1111.02 1636,1092.12 \"/>\n",
                            "<path clip-path=\"url(#clip450)\" d=\"M271.21 1138.74 Q267.599 1138.74 265.771 1142.3 Q263.965 1145.84 263.965 1152.97 Q263.965 1160.08 265.771 1163.64 Q267.599 1167.19 271.21 1167.19 Q274.845 1167.19 276.65 1163.64 Q278.479 1160.08 278.479 1152.97 Q278.479 1145.84 276.65 1142.3 Q274.845 1138.74 271.21 1138.74 M271.21 1135.03 Q277.021 1135.03 280.076 1139.64 Q283.155 1144.22 283.155 1152.97 Q283.155 1161.7 280.076 1166.31 Q277.021 1170.89 271.21 1170.89 Q265.4 1170.89 262.322 1166.31 Q259.266 1161.7 259.266 1152.97 Q259.266 1144.22 262.322 1139.64 Q265.4 1135.03 271.21 1135.03 Z\" fill=\"#000000\" fill-rule=\"nonzero\" fill-opacity=\"1\" /><path clip-path=\"url(#clip450)\" d=\"M291.372 1164.34 L296.257 1164.34 L296.257 1170.22 L291.372 1170.22 L291.372 1164.34 Z\" fill=\"#000000\" fill-rule=\"nonzero\" fill-opacity=\"1\" /><path clip-path=\"url(#clip450)\" d=\"M316.442 1138.74 Q312.831 1138.74 311.002 1142.3 Q309.196 1145.84 309.196 1152.97 Q309.196 1160.08 311.002 1163.64 Q312.831 1167.19 316.442 1167.19 Q320.076 1167.19 321.881 1163.64 Q323.71 1160.08 323.71 1152.97 Q323.71 1145.84 321.881 1142.3 Q320.076 1138.74 316.442 1138.74 M316.442 1135.03 Q322.252 1135.03 325.307 1139.64 Q328.386 1144.22 328.386 1152.97 Q328.386 1161.7 325.307 1166.31 Q322.252 1170.89 316.442 1170.89 Q310.632 1170.89 307.553 1166.31 Q304.497 1161.7 304.497 1152.97 Q304.497 1144.22 307.553 1139.64 Q310.632 1135.03 316.442 1135.03 Z\" fill=\"#000000\" fill-rule=\"nonzero\" fill-opacity=\"1\" /><path clip-path=\"url(#clip450)\" d=\"M601.106 1166.28 L617.426 1166.28 L617.426 1170.22 L595.481 1170.22 L595.481 1166.28 Q598.143 1163.53 602.727 1158.9 Q607.333 1154.25 608.514 1152.9 Q610.759 1150.38 611.639 1148.64 Q612.542 1146.89 612.542 1145.2 Q612.542 1142.44 610.597 1140.7 Q608.676 1138.97 605.574 1138.97 Q603.375 1138.97 600.921 1139.73 Q598.491 1140.5 595.713 1142.05 L595.713 1137.33 Q598.537 1136.19 600.991 1135.61 Q603.444 1135.03 605.481 1135.03 Q610.852 1135.03 614.046 1137.72 Q617.241 1140.4 617.241 1144.89 Q617.241 1147.02 616.43 1148.95 Q615.643 1150.84 613.537 1153.44 Q612.958 1154.11 609.856 1157.33 Q606.754 1160.52 601.106 1166.28 Z\" fill=\"#000000\" fill-rule=\"nonzero\" fill-opacity=\"1\" /><path clip-path=\"url(#clip450)\" d=\"M627.24 1164.34 L632.125 1164.34 L632.125 1170.22 L627.24 1170.22 L627.24 1164.34 Z\" fill=\"#000000\" fill-rule=\"nonzero\" fill-opacity=\"1\" /><path clip-path=\"url(#clip450)\" d=\"M642.356 1135.66 L660.713 1135.66 L660.713 1139.59 L646.639 1139.59 L646.639 1148.07 Q647.657 1147.72 648.676 1147.56 Q649.694 1147.37 650.713 1147.37 Q656.5 1147.37 659.879 1150.54 Q663.259 1153.71 663.259 1159.13 Q663.259 1164.71 659.787 1167.81 Q656.314 1170.89 649.995 1170.89 Q647.819 1170.89 645.551 1170.52 Q643.305 1170.15 640.898 1169.41 L640.898 1164.71 Q642.981 1165.84 645.203 1166.4 Q647.426 1166.95 649.902 1166.95 Q653.907 1166.95 656.245 1164.85 Q658.583 1162.74 658.583 1159.13 Q658.583 1155.52 656.245 1153.41 Q653.907 1151.31 649.902 1151.31 Q648.027 1151.31 646.152 1151.72 Q644.301 1152.14 642.356 1153.02 L642.356 1135.66 Z\" fill=\"#000000\" fill-rule=\"nonzero\" fill-opacity=\"1\" /><path clip-path=\"url(#clip450)\" d=\"M932.079 1135.66 L950.435 1135.66 L950.435 1139.59 L936.361 1139.59 L936.361 1148.07 Q937.38 1147.72 938.398 1147.56 Q939.417 1147.37 940.435 1147.37 Q946.222 1147.37 949.602 1150.54 Q952.981 1153.71 952.981 1159.13 Q952.981 1164.71 949.509 1167.81 Q946.037 1170.89 939.718 1170.89 Q937.542 1170.89 935.273 1170.52 Q933.028 1170.15 930.62 1169.41 L930.62 1164.71 Q932.704 1165.84 934.926 1166.4 Q937.148 1166.95 939.625 1166.95 Q943.63 1166.95 945.968 1164.85 Q948.305 1162.74 948.305 1159.13 Q948.305 1155.52 945.968 1153.41 Q943.63 1151.31 939.625 1151.31 Q937.75 1151.31 935.875 1151.72 Q934.023 1152.14 932.079 1153.02 L932.079 1135.66 Z\" fill=\"#000000\" fill-rule=\"nonzero\" fill-opacity=\"1\" /><path clip-path=\"url(#clip450)\" d=\"M962.194 1164.34 L967.079 1164.34 L967.079 1170.22 L962.194 1170.22 L962.194 1164.34 Z\" fill=\"#000000\" fill-rule=\"nonzero\" fill-opacity=\"1\" /><path clip-path=\"url(#clip450)\" d=\"M987.264 1138.74 Q983.653 1138.74 981.824 1142.3 Q980.018 1145.84 980.018 1152.97 Q980.018 1160.08 981.824 1163.64 Q983.653 1167.19 987.264 1167.19 Q990.898 1167.19 992.703 1163.64 Q994.532 1160.08 994.532 1152.97 Q994.532 1145.84 992.703 1142.3 Q990.898 1138.74 987.264 1138.74 M987.264 1135.03 Q993.074 1135.03 996.129 1139.64 Q999.208 1144.22 999.208 1152.97 Q999.208 1161.7 996.129 1166.31 Q993.074 1170.89 987.264 1170.89 Q981.453 1170.89 978.375 1166.31 Q975.319 1161.7 975.319 1152.97 Q975.319 1144.22 978.375 1139.64 Q981.453 1135.03 987.264 1135.03 Z\" fill=\"#000000\" fill-rule=\"nonzero\" fill-opacity=\"1\" /><path clip-path=\"url(#clip450)\" d=\"M1266.78 1135.66 L1289 1135.66 L1289 1137.65 L1276.45 1170.22 L1271.57 1170.22 L1283.38 1139.59 L1266.78 1139.59 L1266.78 1135.66 Z\" fill=\"#000000\" fill-rule=\"nonzero\" fill-opacity=\"1\" /><path clip-path=\"url(#clip450)\" d=\"M1298.12 1164.34 L1303 1164.34 L1303 1170.22 L1298.12 1170.22 L1298.12 1164.34 Z\" fill=\"#000000\" fill-rule=\"nonzero\" fill-opacity=\"1\" /><path clip-path=\"url(#clip450)\" d=\"M1313.24 1135.66 L1331.59 1135.66 L1331.59 1139.59 L1317.52 1139.59 L1317.52 1148.07 Q1318.54 1147.72 1319.56 1147.56 Q1320.57 1147.37 1321.59 1147.37 Q1327.38 1147.37 1330.76 1150.54 Q1334.14 1153.71 1334.14 1159.13 Q1334.14 1164.71 1330.67 1167.81 Q1327.19 1170.89 1320.87 1170.89 Q1318.7 1170.89 1316.43 1170.52 Q1314.19 1170.15 1311.78 1169.41 L1311.78 1164.71 Q1313.86 1165.84 1316.08 1166.4 Q1318.31 1166.95 1320.78 1166.95 Q1324.79 1166.95 1327.12 1164.85 Q1329.46 1162.74 1329.46 1159.13 Q1329.46 1155.52 1327.12 1153.41 Q1324.79 1151.31 1320.78 1151.31 Q1318.91 1151.31 1317.03 1151.72 Q1315.18 1152.14 1313.24 1153.02 L1313.24 1135.66 Z\" fill=\"#000000\" fill-rule=\"nonzero\" fill-opacity=\"1\" /><path clip-path=\"url(#clip450)\" d=\"M1588.07 1166.28 L1595.71 1166.28 L1595.71 1139.92 L1587.4 1141.58 L1587.4 1137.33 L1595.67 1135.66 L1600.34 1135.66 L1600.34 1166.28 L1607.98 1166.28 L1607.98 1170.22 L1588.07 1170.22 L1588.07 1166.28 Z\" fill=\"#000000\" fill-rule=\"nonzero\" fill-opacity=\"1\" /><path clip-path=\"url(#clip450)\" d=\"M1627.43 1138.74 Q1623.81 1138.74 1621.99 1142.3 Q1620.18 1145.84 1620.18 1152.97 Q1620.18 1160.08 1621.99 1163.64 Q1623.81 1167.19 1627.43 1167.19 Q1631.06 1167.19 1632.87 1163.64 Q1634.69 1160.08 1634.69 1152.97 Q1634.69 1145.84 1632.87 1142.3 Q1631.06 1138.74 1627.43 1138.74 M1627.43 1135.03 Q1633.24 1135.03 1636.29 1139.64 Q1639.37 1144.22 1639.37 1152.97 Q1639.37 1161.7 1636.29 1166.31 Q1633.24 1170.89 1627.43 1170.89 Q1621.62 1170.89 1618.54 1166.31 Q1615.48 1161.7 1615.48 1152.97 Q1615.48 1144.22 1618.54 1139.64 Q1621.62 1135.03 1627.43 1135.03 Z\" fill=\"#000000\" fill-rule=\"nonzero\" fill-opacity=\"1\" /><path clip-path=\"url(#clip450)\" d=\"M1647.59 1164.34 L1652.47 1164.34 L1652.47 1170.22 L1647.59 1170.22 L1647.59 1164.34 Z\" fill=\"#000000\" fill-rule=\"nonzero\" fill-opacity=\"1\" /><path clip-path=\"url(#clip450)\" d=\"M1672.66 1138.74 Q1669.05 1138.74 1667.22 1142.3 Q1665.41 1145.84 1665.41 1152.97 Q1665.41 1160.08 1667.22 1163.64 Q1669.05 1167.19 1672.66 1167.19 Q1676.29 1167.19 1678.1 1163.64 Q1679.93 1160.08 1679.93 1152.97 Q1679.93 1145.84 1678.1 1142.3 Q1676.29 1138.74 1672.66 1138.74 M1672.66 1135.03 Q1678.47 1135.03 1681.52 1139.64 Q1684.6 1144.22 1684.6 1152.97 Q1684.6 1161.7 1681.52 1166.31 Q1678.47 1170.89 1672.66 1170.89 Q1666.85 1170.89 1663.77 1166.31 Q1660.71 1161.7 1660.71 1152.97 Q1660.71 1144.22 1663.77 1139.64 Q1666.85 1135.03 1672.66 1135.03 Z\" fill=\"#000000\" fill-rule=\"nonzero\" fill-opacity=\"1\" /><g clip-path=\"url(#clip450)\">\n",
                            "<text style=\"fill:#000000; fill-opacity:1; font-family:Arial,Helvetica Neue,Helvetica,sans-serif; font-size:66px; text-anchor:middle;\" transform=\"rotate(0, 1099.13, 1252.42)\" x=\"1099.13\" y=\"1252.42\">iteration number</text>\n",
                            "</g>\n",
                            "<polyline clip-path=\"url(#clip450)\" style=\"stroke:#000000; stroke-linecap:round; stroke-linejoin:round; stroke-width:4; stroke-opacity:1; fill:none\" points=\"245.508,1111.02 245.508,107.256 \"/>\n",
                            "<polyline clip-path=\"url(#clip450)\" style=\"stroke:#000000; stroke-linecap:round; stroke-linejoin:round; stroke-width:4; stroke-opacity:1; fill:none\" points=\"245.508,845.547 264.405,845.547 \"/>\n",
                            "<polyline clip-path=\"url(#clip450)\" style=\"stroke:#000000; stroke-linecap:round; stroke-linejoin:round; stroke-width:4; stroke-opacity:1; fill:none\" points=\"245.508,470.272 264.405,470.272 \"/>\n",
                            "<path clip-path=\"url(#clip450)\" d=\"M113.675 865.339 L121.314 865.339 L121.314 838.974 L113.004 840.64 L113.004 836.381 L121.268 834.714 L125.944 834.714 L125.944 865.339 L133.583 865.339 L133.583 869.274 L113.675 869.274 L113.675 865.339 Z\" fill=\"#000000\" fill-rule=\"nonzero\" fill-opacity=\"1\" /><path clip-path=\"url(#clip450)\" d=\"M153.027 837.793 Q149.416 837.793 147.587 841.358 Q145.782 844.899 145.782 852.029 Q145.782 859.135 147.587 862.7 Q149.416 866.242 153.027 866.242 Q156.661 866.242 158.467 862.7 Q160.295 859.135 160.295 852.029 Q160.295 844.899 158.467 841.358 Q156.661 837.793 153.027 837.793 M153.027 834.089 Q158.837 834.089 161.893 838.696 Q164.971 843.279 164.971 852.029 Q164.971 860.756 161.893 865.362 Q158.837 869.946 153.027 869.946 Q147.217 869.946 144.138 865.362 Q141.082 860.756 141.082 852.029 Q141.082 843.279 144.138 838.696 Q147.217 834.089 153.027 834.089 Z\" fill=\"#000000\" fill-rule=\"nonzero\" fill-opacity=\"1\" /><path clip-path=\"url(#clip450)\" d=\"M164.971 828.191 L189.083 828.191 L189.083 831.388 L164.971 831.388 L164.971 828.191 Z\" fill=\"#000000\" fill-rule=\"nonzero\" fill-opacity=\"1\" /><path clip-path=\"url(#clip450)\" d=\"M207.721 817.094 L198.129 832.084 L207.721 832.084 L207.721 817.094 M206.724 813.784 L211.502 813.784 L211.502 832.084 L215.508 832.084 L215.508 835.244 L211.502 835.244 L211.502 841.864 L207.721 841.864 L207.721 835.244 L195.045 835.244 L195.045 831.576 L206.724 813.784 Z\" fill=\"#000000\" fill-rule=\"nonzero\" fill-opacity=\"1\" /><path clip-path=\"url(#clip450)\" d=\"M115.368 490.064 L123.007 490.064 L123.007 463.699 L114.697 465.365 L114.697 461.106 L122.96 459.439 L127.636 459.439 L127.636 490.064 L135.275 490.064 L135.275 493.999 L115.368 493.999 L115.368 490.064 Z\" fill=\"#000000\" fill-rule=\"nonzero\" fill-opacity=\"1\" /><path clip-path=\"url(#clip450)\" d=\"M154.72 462.518 Q151.108 462.518 149.28 466.083 Q147.474 469.624 147.474 476.754 Q147.474 483.86 149.28 487.425 Q151.108 490.967 154.72 490.967 Q158.354 490.967 160.159 487.425 Q161.988 483.86 161.988 476.754 Q161.988 469.624 160.159 466.083 Q158.354 462.518 154.72 462.518 M154.72 458.814 Q160.53 458.814 163.585 463.421 Q166.664 468.004 166.664 476.754 Q166.664 485.481 163.585 490.087 Q160.53 494.671 154.72 494.671 Q148.909 494.671 145.831 490.087 Q142.775 485.481 142.775 476.754 Q142.775 468.004 145.831 463.421 Q148.909 458.814 154.72 458.814 Z\" fill=\"#000000\" fill-rule=\"nonzero\" fill-opacity=\"1\" /><path clip-path=\"url(#clip450)\" d=\"M166.664 452.916 L190.775 452.916 L190.775 456.113 L166.664 456.113 L166.664 452.916 Z\" fill=\"#000000\" fill-rule=\"nonzero\" fill-opacity=\"1\" /><path clip-path=\"url(#clip450)\" d=\"M202.248 463.392 L215.508 463.392 L215.508 466.589 L197.678 466.589 L197.678 463.392 Q199.841 461.153 203.565 457.392 Q207.308 453.612 208.267 452.521 Q210.091 450.471 210.806 449.06 Q211.539 447.631 211.539 446.258 Q211.539 444.02 209.959 442.609 Q208.398 441.198 205.878 441.198 Q204.091 441.198 202.098 441.819 Q200.123 442.44 197.866 443.7 L197.866 439.863 Q200.161 438.941 202.154 438.471 Q204.148 438.001 205.803 438.001 Q210.166 438.001 212.762 440.183 Q215.357 442.364 215.357 446.013 Q215.357 447.743 214.699 449.305 Q214.06 450.847 212.348 452.953 Q211.878 453.499 209.358 456.113 Q206.837 458.708 202.248 463.392 Z\" fill=\"#000000\" fill-rule=\"nonzero\" fill-opacity=\"1\" /><g clip-path=\"url(#clip450)\">\n",
                            "<text style=\"fill:#000000; fill-opacity:1; font-family:Arial,Helvetica Neue,Helvetica,sans-serif; font-size:66px; text-anchor:middle;\" transform=\"rotate(-90, 71.4418, 609.137)\" x=\"71.4418\" y=\"609.137\">error</text>\n",
                            "</g>\n",
                            "<g clip-path=\"url(#clip450)\">\n",
                            "<text style=\"fill:#000000; fill-opacity:1; font-family:Arial,Helvetica Neue,Helvetica,sans-serif; font-size:66px; text-anchor:middle;\" transform=\"rotate(0, 1099.13, 57.6)\" x=\"1099.13\" y=\"57.6\">Convergence of fixed-point iteration</text>\n",
                            "</g>\n",
                            "<polyline clip-path=\"url(#clip452)\" style=\"stroke:#009af9; stroke-linecap:round; stroke-linejoin:round; stroke-width:8; stroke-opacity:1; fill:none\" points=\"293.826,135.664 428.044,269.766 562.261,368.667 696.479,433.917 830.697,508.873 964.914,579.481 1099.13,651.82 1233.35,723.432 1367.57,795.343 1501.78,867.129 1636,938.968 1770.22,1010.78 1904.44,1082.61 \"/>\n",
                            "<path clip-path=\"url(#clip452)\" d=\"M293.826 147.664 L285.342 144.148 L281.826 135.664 L285.342 127.18 L293.826 123.664 L302.31 127.18 L305.826 135.664 L302.31 144.148 Z\" fill=\"#009af9\" fill-rule=\"evenodd\" fill-opacity=\"1\" stroke=\"#000000\" stroke-opacity=\"1\" stroke-width=\"2.56\"/>\n",
                            "<path clip-path=\"url(#clip452)\" d=\"M428.044 281.766 L419.56 278.25 L416.044 269.766 L419.56 261.282 L428.044 257.766 L436.528 261.282 L440.044 269.766 L436.528 278.25 Z\" fill=\"#009af9\" fill-rule=\"evenodd\" fill-opacity=\"1\" stroke=\"#000000\" stroke-opacity=\"1\" stroke-width=\"2.56\"/>\n",
                            "<path clip-path=\"url(#clip452)\" d=\"M562.261 380.667 L553.777 377.151 L550.261 368.667 L553.777 360.183 L562.261 356.667 L570.745 360.183 L574.261 368.667 L570.745 377.151 Z\" fill=\"#009af9\" fill-rule=\"evenodd\" fill-opacity=\"1\" stroke=\"#000000\" stroke-opacity=\"1\" stroke-width=\"2.56\"/>\n",
                            "<path clip-path=\"url(#clip452)\" d=\"M696.479 445.917 L687.995 442.401 L684.479 433.917 L687.995 425.433 L696.479 421.917 L704.963 425.433 L708.479 433.917 L704.963 442.401 Z\" fill=\"#009af9\" fill-rule=\"evenodd\" fill-opacity=\"1\" stroke=\"#000000\" stroke-opacity=\"1\" stroke-width=\"2.56\"/>\n",
                            "<path clip-path=\"url(#clip452)\" d=\"M830.697 520.873 L822.213 517.357 L818.697 508.873 L822.213 500.389 L830.697 496.873 L839.181 500.389 L842.697 508.873 L839.181 517.357 Z\" fill=\"#009af9\" fill-rule=\"evenodd\" fill-opacity=\"1\" stroke=\"#000000\" stroke-opacity=\"1\" stroke-width=\"2.56\"/>\n",
                            "<path clip-path=\"url(#clip452)\" d=\"M964.914 591.481 L956.43 587.965 L952.914 579.481 L956.43 570.997 L964.914 567.481 L973.398 570.997 L976.914 579.481 L973.398 587.965 Z\" fill=\"#009af9\" fill-rule=\"evenodd\" fill-opacity=\"1\" stroke=\"#000000\" stroke-opacity=\"1\" stroke-width=\"2.56\"/>\n",
                            "<path clip-path=\"url(#clip452)\" d=\"M1099.13 663.82 L1090.65 660.304 L1087.13 651.82 L1090.65 643.336 L1099.13 639.82 L1107.62 643.336 L1111.13 651.82 L1107.62 660.304 Z\" fill=\"#009af9\" fill-rule=\"evenodd\" fill-opacity=\"1\" stroke=\"#000000\" stroke-opacity=\"1\" stroke-width=\"2.56\"/>\n",
                            "<path clip-path=\"url(#clip452)\" d=\"M1233.35 735.432 L1224.87 731.916 L1221.35 723.432 L1224.87 714.948 L1233.35 711.432 L1241.83 714.948 L1245.35 723.432 L1241.83 731.916 Z\" fill=\"#009af9\" fill-rule=\"evenodd\" fill-opacity=\"1\" stroke=\"#000000\" stroke-opacity=\"1\" stroke-width=\"2.56\"/>\n",
                            "<path clip-path=\"url(#clip452)\" d=\"M1367.57 807.343 L1359.08 803.827 L1355.57 795.343 L1359.08 786.859 L1367.57 783.343 L1376.05 786.859 L1379.57 795.343 L1376.05 803.827 Z\" fill=\"#009af9\" fill-rule=\"evenodd\" fill-opacity=\"1\" stroke=\"#000000\" stroke-opacity=\"1\" stroke-width=\"2.56\"/>\n",
                            "<path clip-path=\"url(#clip452)\" d=\"M1501.78 879.129 L1493.3 875.613 L1489.78 867.129 L1493.3 858.645 L1501.78 855.129 L1510.27 858.645 L1513.78 867.129 L1510.27 875.613 Z\" fill=\"#009af9\" fill-rule=\"evenodd\" fill-opacity=\"1\" stroke=\"#000000\" stroke-opacity=\"1\" stroke-width=\"2.56\"/>\n",
                            "<path clip-path=\"url(#clip452)\" d=\"M1636 950.968 L1627.52 947.452 L1624 938.968 L1627.52 930.484 L1636 926.968 L1644.49 930.484 L1648 938.968 L1644.49 947.452 Z\" fill=\"#009af9\" fill-rule=\"evenodd\" fill-opacity=\"1\" stroke=\"#000000\" stroke-opacity=\"1\" stroke-width=\"2.56\"/>\n",
                            "<path clip-path=\"url(#clip452)\" d=\"M1770.22 1022.78 L1761.74 1019.27 L1758.22 1010.78 L1761.74 1002.3 L1770.22 998.784 L1778.7 1002.3 L1782.22 1010.78 L1778.7 1019.27 Z\" fill=\"#009af9\" fill-rule=\"evenodd\" fill-opacity=\"1\" stroke=\"#000000\" stroke-opacity=\"1\" stroke-width=\"2.56\"/>\n",
                            "<path clip-path=\"url(#clip452)\" d=\"M1904.44 1094.61 L1895.95 1091.09 L1892.44 1082.61 L1895.95 1074.13 L1904.44 1070.61 L1912.92 1074.13 L1916.44 1082.61 L1912.92 1091.09 Z\" fill=\"#009af9\" fill-rule=\"evenodd\" fill-opacity=\"1\" stroke=\"#000000\" stroke-opacity=\"1\" stroke-width=\"2.56\"/>\n",
                            "</svg>\n"
                        ],
                        "image/svg+xml": [
                            "<?xml version=\"1.0\" encoding=\"utf-8\"?>\n",
                            "<svg xmlns=\"http://www.w3.org/2000/svg\" xmlns:xlink=\"http://www.w3.org/1999/xlink\" width=\"500\" height=\"320\" viewBox=\"0 0 2000 1280\">\n",
                            "<defs>\n",
                            "  <clipPath id=\"clip400\">\n",
                            "    <rect x=\"0\" y=\"0\" width=\"2000\" height=\"1280\"/>\n",
                            "  </clipPath>\n",
                            "</defs>\n",
                            "<path clip-path=\"url(#clip400)\" d=\"M0 1280 L2000 1280 L2000 0 L0 0  Z\" fill=\"#ffffff\" fill-rule=\"evenodd\" fill-opacity=\"1\"/>\n",
                            "<defs>\n",
                            "  <clipPath id=\"clip401\">\n",
                            "    <rect x=\"400\" y=\"0\" width=\"1401\" height=\"1280\"/>\n",
                            "  </clipPath>\n",
                            "</defs>\n",
                            "<path clip-path=\"url(#clip400)\" d=\"M245.508 1111.02 L1952.76 1111.02 L1952.76 107.256 L245.508 107.256  Z\" fill=\"#ffffff\" fill-rule=\"evenodd\" fill-opacity=\"1\"/>\n",
                            "<defs>\n",
                            "  <clipPath id=\"clip402\">\n",
                            "    <rect x=\"245\" y=\"107\" width=\"1708\" height=\"1005\"/>\n",
                            "  </clipPath>\n",
                            "</defs>\n",
                            "<polyline clip-path=\"url(#clip402)\" style=\"stroke:#000000; stroke-linecap:round; stroke-linejoin:round; stroke-width:2; stroke-opacity:0.1; fill:none\" points=\"293.826,1111.02 293.826,107.256 \"/>\n",
                            "<polyline clip-path=\"url(#clip402)\" style=\"stroke:#000000; stroke-linecap:round; stroke-linejoin:round; stroke-width:2; stroke-opacity:0.1; fill:none\" points=\"629.37,1111.02 629.37,107.256 \"/>\n",
                            "<polyline clip-path=\"url(#clip402)\" style=\"stroke:#000000; stroke-linecap:round; stroke-linejoin:round; stroke-width:2; stroke-opacity:0.1; fill:none\" points=\"964.914,1111.02 964.914,107.256 \"/>\n",
                            "<polyline clip-path=\"url(#clip402)\" style=\"stroke:#000000; stroke-linecap:round; stroke-linejoin:round; stroke-width:2; stroke-opacity:0.1; fill:none\" points=\"1300.46,1111.02 1300.46,107.256 \"/>\n",
                            "<polyline clip-path=\"url(#clip402)\" style=\"stroke:#000000; stroke-linecap:round; stroke-linejoin:round; stroke-width:2; stroke-opacity:0.1; fill:none\" points=\"1636,1111.02 1636,107.256 \"/>\n",
                            "<polyline clip-path=\"url(#clip402)\" style=\"stroke:#000000; stroke-linecap:round; stroke-linejoin:round; stroke-width:2; stroke-opacity:0.1; fill:none\" points=\"245.508,845.547 1952.76,845.547 \"/>\n",
                            "<polyline clip-path=\"url(#clip402)\" style=\"stroke:#000000; stroke-linecap:round; stroke-linejoin:round; stroke-width:2; stroke-opacity:0.1; fill:none\" points=\"245.508,470.272 1952.76,470.272 \"/>\n",
                            "<polyline clip-path=\"url(#clip400)\" style=\"stroke:#000000; stroke-linecap:round; stroke-linejoin:round; stroke-width:4; stroke-opacity:1; fill:none\" points=\"245.508,1111.02 1952.76,1111.02 \"/>\n",
                            "<polyline clip-path=\"url(#clip400)\" style=\"stroke:#000000; stroke-linecap:round; stroke-linejoin:round; stroke-width:4; stroke-opacity:1; fill:none\" points=\"293.826,1111.02 293.826,1092.12 \"/>\n",
                            "<polyline clip-path=\"url(#clip400)\" style=\"stroke:#000000; stroke-linecap:round; stroke-linejoin:round; stroke-width:4; stroke-opacity:1; fill:none\" points=\"629.37,1111.02 629.37,1092.12 \"/>\n",
                            "<polyline clip-path=\"url(#clip400)\" style=\"stroke:#000000; stroke-linecap:round; stroke-linejoin:round; stroke-width:4; stroke-opacity:1; fill:none\" points=\"964.914,1111.02 964.914,1092.12 \"/>\n",
                            "<polyline clip-path=\"url(#clip400)\" style=\"stroke:#000000; stroke-linecap:round; stroke-linejoin:round; stroke-width:4; stroke-opacity:1; fill:none\" points=\"1300.46,1111.02 1300.46,1092.12 \"/>\n",
                            "<polyline clip-path=\"url(#clip400)\" style=\"stroke:#000000; stroke-linecap:round; stroke-linejoin:round; stroke-width:4; stroke-opacity:1; fill:none\" points=\"1636,1111.02 1636,1092.12 \"/>\n",
                            "<path clip-path=\"url(#clip400)\" d=\"M271.21 1138.74 Q267.599 1138.74 265.771 1142.3 Q263.965 1145.84 263.965 1152.97 Q263.965 1160.08 265.771 1163.64 Q267.599 1167.19 271.21 1167.19 Q274.845 1167.19 276.65 1163.64 Q278.479 1160.08 278.479 1152.97 Q278.479 1145.84 276.65 1142.3 Q274.845 1138.74 271.21 1138.74 M271.21 1135.03 Q277.021 1135.03 280.076 1139.64 Q283.155 1144.22 283.155 1152.97 Q283.155 1161.7 280.076 1166.31 Q277.021 1170.89 271.21 1170.89 Q265.4 1170.89 262.322 1166.31 Q259.266 1161.7 259.266 1152.97 Q259.266 1144.22 262.322 1139.64 Q265.4 1135.03 271.21 1135.03 Z\" fill=\"#000000\" fill-rule=\"nonzero\" fill-opacity=\"1\" /><path clip-path=\"url(#clip400)\" d=\"M291.372 1164.34 L296.257 1164.34 L296.257 1170.22 L291.372 1170.22 L291.372 1164.34 Z\" fill=\"#000000\" fill-rule=\"nonzero\" fill-opacity=\"1\" /><path clip-path=\"url(#clip400)\" d=\"M316.442 1138.74 Q312.831 1138.74 311.002 1142.3 Q309.196 1145.84 309.196 1152.97 Q309.196 1160.08 311.002 1163.64 Q312.831 1167.19 316.442 1167.19 Q320.076 1167.19 321.881 1163.64 Q323.71 1160.08 323.71 1152.97 Q323.71 1145.84 321.881 1142.3 Q320.076 1138.74 316.442 1138.74 M316.442 1135.03 Q322.252 1135.03 325.307 1139.64 Q328.386 1144.22 328.386 1152.97 Q328.386 1161.7 325.307 1166.31 Q322.252 1170.89 316.442 1170.89 Q310.632 1170.89 307.553 1166.31 Q304.497 1161.7 304.497 1152.97 Q304.497 1144.22 307.553 1139.64 Q310.632 1135.03 316.442 1135.03 Z\" fill=\"#000000\" fill-rule=\"nonzero\" fill-opacity=\"1\" /><path clip-path=\"url(#clip400)\" d=\"M601.106 1166.28 L617.426 1166.28 L617.426 1170.22 L595.481 1170.22 L595.481 1166.28 Q598.143 1163.53 602.727 1158.9 Q607.333 1154.25 608.514 1152.9 Q610.759 1150.38 611.639 1148.64 Q612.542 1146.89 612.542 1145.2 Q612.542 1142.44 610.597 1140.7 Q608.676 1138.97 605.574 1138.97 Q603.375 1138.97 600.921 1139.73 Q598.491 1140.5 595.713 1142.05 L595.713 1137.33 Q598.537 1136.19 600.991 1135.61 Q603.444 1135.03 605.481 1135.03 Q610.852 1135.03 614.046 1137.72 Q617.241 1140.4 617.241 1144.89 Q617.241 1147.02 616.43 1148.95 Q615.643 1150.84 613.537 1153.44 Q612.958 1154.11 609.856 1157.33 Q606.754 1160.52 601.106 1166.28 Z\" fill=\"#000000\" fill-rule=\"nonzero\" fill-opacity=\"1\" /><path clip-path=\"url(#clip400)\" d=\"M627.24 1164.34 L632.125 1164.34 L632.125 1170.22 L627.24 1170.22 L627.24 1164.34 Z\" fill=\"#000000\" fill-rule=\"nonzero\" fill-opacity=\"1\" /><path clip-path=\"url(#clip400)\" d=\"M642.356 1135.66 L660.713 1135.66 L660.713 1139.59 L646.639 1139.59 L646.639 1148.07 Q647.657 1147.72 648.676 1147.56 Q649.694 1147.37 650.713 1147.37 Q656.5 1147.37 659.879 1150.54 Q663.259 1153.71 663.259 1159.13 Q663.259 1164.71 659.787 1167.81 Q656.314 1170.89 649.995 1170.89 Q647.819 1170.89 645.551 1170.52 Q643.305 1170.15 640.898 1169.41 L640.898 1164.71 Q642.981 1165.84 645.203 1166.4 Q647.426 1166.95 649.902 1166.95 Q653.907 1166.95 656.245 1164.85 Q658.583 1162.74 658.583 1159.13 Q658.583 1155.52 656.245 1153.41 Q653.907 1151.31 649.902 1151.31 Q648.027 1151.31 646.152 1151.72 Q644.301 1152.14 642.356 1153.02 L642.356 1135.66 Z\" fill=\"#000000\" fill-rule=\"nonzero\" fill-opacity=\"1\" /><path clip-path=\"url(#clip400)\" d=\"M932.079 1135.66 L950.435 1135.66 L950.435 1139.59 L936.361 1139.59 L936.361 1148.07 Q937.38 1147.72 938.398 1147.56 Q939.417 1147.37 940.435 1147.37 Q946.222 1147.37 949.602 1150.54 Q952.981 1153.71 952.981 1159.13 Q952.981 1164.71 949.509 1167.81 Q946.037 1170.89 939.718 1170.89 Q937.542 1170.89 935.273 1170.52 Q933.028 1170.15 930.62 1169.41 L930.62 1164.71 Q932.704 1165.84 934.926 1166.4 Q937.148 1166.95 939.625 1166.95 Q943.63 1166.95 945.968 1164.85 Q948.305 1162.74 948.305 1159.13 Q948.305 1155.52 945.968 1153.41 Q943.63 1151.31 939.625 1151.31 Q937.75 1151.31 935.875 1151.72 Q934.023 1152.14 932.079 1153.02 L932.079 1135.66 Z\" fill=\"#000000\" fill-rule=\"nonzero\" fill-opacity=\"1\" /><path clip-path=\"url(#clip400)\" d=\"M962.194 1164.34 L967.079 1164.34 L967.079 1170.22 L962.194 1170.22 L962.194 1164.34 Z\" fill=\"#000000\" fill-rule=\"nonzero\" fill-opacity=\"1\" /><path clip-path=\"url(#clip400)\" d=\"M987.264 1138.74 Q983.653 1138.74 981.824 1142.3 Q980.018 1145.84 980.018 1152.97 Q980.018 1160.08 981.824 1163.64 Q983.653 1167.19 987.264 1167.19 Q990.898 1167.19 992.703 1163.64 Q994.532 1160.08 994.532 1152.97 Q994.532 1145.84 992.703 1142.3 Q990.898 1138.74 987.264 1138.74 M987.264 1135.03 Q993.074 1135.03 996.129 1139.64 Q999.208 1144.22 999.208 1152.97 Q999.208 1161.7 996.129 1166.31 Q993.074 1170.89 987.264 1170.89 Q981.453 1170.89 978.375 1166.31 Q975.319 1161.7 975.319 1152.97 Q975.319 1144.22 978.375 1139.64 Q981.453 1135.03 987.264 1135.03 Z\" fill=\"#000000\" fill-rule=\"nonzero\" fill-opacity=\"1\" /><path clip-path=\"url(#clip400)\" d=\"M1266.78 1135.66 L1289 1135.66 L1289 1137.65 L1276.45 1170.22 L1271.57 1170.22 L1283.38 1139.59 L1266.78 1139.59 L1266.78 1135.66 Z\" fill=\"#000000\" fill-rule=\"nonzero\" fill-opacity=\"1\" /><path clip-path=\"url(#clip400)\" d=\"M1298.12 1164.34 L1303 1164.34 L1303 1170.22 L1298.12 1170.22 L1298.12 1164.34 Z\" fill=\"#000000\" fill-rule=\"nonzero\" fill-opacity=\"1\" /><path clip-path=\"url(#clip400)\" d=\"M1313.24 1135.66 L1331.59 1135.66 L1331.59 1139.59 L1317.52 1139.59 L1317.52 1148.07 Q1318.54 1147.72 1319.56 1147.56 Q1320.57 1147.37 1321.59 1147.37 Q1327.38 1147.37 1330.76 1150.54 Q1334.14 1153.71 1334.14 1159.13 Q1334.14 1164.71 1330.67 1167.81 Q1327.19 1170.89 1320.87 1170.89 Q1318.7 1170.89 1316.43 1170.52 Q1314.19 1170.15 1311.78 1169.41 L1311.78 1164.71 Q1313.86 1165.84 1316.08 1166.4 Q1318.31 1166.95 1320.78 1166.95 Q1324.79 1166.95 1327.12 1164.85 Q1329.46 1162.74 1329.46 1159.13 Q1329.46 1155.52 1327.12 1153.41 Q1324.79 1151.31 1320.78 1151.31 Q1318.91 1151.31 1317.03 1151.72 Q1315.18 1152.14 1313.24 1153.02 L1313.24 1135.66 Z\" fill=\"#000000\" fill-rule=\"nonzero\" fill-opacity=\"1\" /><path clip-path=\"url(#clip400)\" d=\"M1588.07 1166.28 L1595.71 1166.28 L1595.71 1139.92 L1587.4 1141.58 L1587.4 1137.33 L1595.67 1135.66 L1600.34 1135.66 L1600.34 1166.28 L1607.98 1166.28 L1607.98 1170.22 L1588.07 1170.22 L1588.07 1166.28 Z\" fill=\"#000000\" fill-rule=\"nonzero\" fill-opacity=\"1\" /><path clip-path=\"url(#clip400)\" d=\"M1627.43 1138.74 Q1623.81 1138.74 1621.99 1142.3 Q1620.18 1145.84 1620.18 1152.97 Q1620.18 1160.08 1621.99 1163.64 Q1623.81 1167.19 1627.43 1167.19 Q1631.06 1167.19 1632.87 1163.64 Q1634.69 1160.08 1634.69 1152.97 Q1634.69 1145.84 1632.87 1142.3 Q1631.06 1138.74 1627.43 1138.74 M1627.43 1135.03 Q1633.24 1135.03 1636.29 1139.64 Q1639.37 1144.22 1639.37 1152.97 Q1639.37 1161.7 1636.29 1166.31 Q1633.24 1170.89 1627.43 1170.89 Q1621.62 1170.89 1618.54 1166.31 Q1615.48 1161.7 1615.48 1152.97 Q1615.48 1144.22 1618.54 1139.64 Q1621.62 1135.03 1627.43 1135.03 Z\" fill=\"#000000\" fill-rule=\"nonzero\" fill-opacity=\"1\" /><path clip-path=\"url(#clip400)\" d=\"M1647.59 1164.34 L1652.47 1164.34 L1652.47 1170.22 L1647.59 1170.22 L1647.59 1164.34 Z\" fill=\"#000000\" fill-rule=\"nonzero\" fill-opacity=\"1\" /><path clip-path=\"url(#clip400)\" d=\"M1672.66 1138.74 Q1669.05 1138.74 1667.22 1142.3 Q1665.41 1145.84 1665.41 1152.97 Q1665.41 1160.08 1667.22 1163.64 Q1669.05 1167.19 1672.66 1167.19 Q1676.29 1167.19 1678.1 1163.64 Q1679.93 1160.08 1679.93 1152.97 Q1679.93 1145.84 1678.1 1142.3 Q1676.29 1138.74 1672.66 1138.74 M1672.66 1135.03 Q1678.47 1135.03 1681.52 1139.64 Q1684.6 1144.22 1684.6 1152.97 Q1684.6 1161.7 1681.52 1166.31 Q1678.47 1170.89 1672.66 1170.89 Q1666.85 1170.89 1663.77 1166.31 Q1660.71 1161.7 1660.71 1152.97 Q1660.71 1144.22 1663.77 1139.64 Q1666.85 1135.03 1672.66 1135.03 Z\" fill=\"#000000\" fill-rule=\"nonzero\" fill-opacity=\"1\" /><g clip-path=\"url(#clip400)\">\n",
                            "<text style=\"fill:#000000; fill-opacity:1; font-family:Arial,Helvetica Neue,Helvetica,sans-serif; font-size:66px; text-anchor:middle;\" transform=\"rotate(0, 1099.13, 1252.42)\" x=\"1099.13\" y=\"1252.42\">iteration number</text>\n",
                            "</g>\n",
                            "<polyline clip-path=\"url(#clip400)\" style=\"stroke:#000000; stroke-linecap:round; stroke-linejoin:round; stroke-width:4; stroke-opacity:1; fill:none\" points=\"245.508,1111.02 245.508,107.256 \"/>\n",
                            "<polyline clip-path=\"url(#clip400)\" style=\"stroke:#000000; stroke-linecap:round; stroke-linejoin:round; stroke-width:4; stroke-opacity:1; fill:none\" points=\"245.508,845.547 264.405,845.547 \"/>\n",
                            "<polyline clip-path=\"url(#clip400)\" style=\"stroke:#000000; stroke-linecap:round; stroke-linejoin:round; stroke-width:4; stroke-opacity:1; fill:none\" points=\"245.508,470.272 264.405,470.272 \"/>\n",
                            "<path clip-path=\"url(#clip400)\" d=\"M113.675 865.339 L121.314 865.339 L121.314 838.974 L113.004 840.64 L113.004 836.381 L121.268 834.714 L125.944 834.714 L125.944 865.339 L133.583 865.339 L133.583 869.274 L113.675 869.274 L113.675 865.339 Z\" fill=\"#000000\" fill-rule=\"nonzero\" fill-opacity=\"1\" /><path clip-path=\"url(#clip400)\" d=\"M153.027 837.793 Q149.416 837.793 147.587 841.358 Q145.782 844.899 145.782 852.029 Q145.782 859.135 147.587 862.7 Q149.416 866.242 153.027 866.242 Q156.661 866.242 158.467 862.7 Q160.295 859.135 160.295 852.029 Q160.295 844.899 158.467 841.358 Q156.661 837.793 153.027 837.793 M153.027 834.089 Q158.837 834.089 161.893 838.696 Q164.971 843.279 164.971 852.029 Q164.971 860.756 161.893 865.362 Q158.837 869.946 153.027 869.946 Q147.217 869.946 144.138 865.362 Q141.082 860.756 141.082 852.029 Q141.082 843.279 144.138 838.696 Q147.217 834.089 153.027 834.089 Z\" fill=\"#000000\" fill-rule=\"nonzero\" fill-opacity=\"1\" /><path clip-path=\"url(#clip400)\" d=\"M164.971 828.191 L189.083 828.191 L189.083 831.388 L164.971 831.388 L164.971 828.191 Z\" fill=\"#000000\" fill-rule=\"nonzero\" fill-opacity=\"1\" /><path clip-path=\"url(#clip400)\" d=\"M207.721 817.094 L198.129 832.084 L207.721 832.084 L207.721 817.094 M206.724 813.784 L211.502 813.784 L211.502 832.084 L215.508 832.084 L215.508 835.244 L211.502 835.244 L211.502 841.864 L207.721 841.864 L207.721 835.244 L195.045 835.244 L195.045 831.576 L206.724 813.784 Z\" fill=\"#000000\" fill-rule=\"nonzero\" fill-opacity=\"1\" /><path clip-path=\"url(#clip400)\" d=\"M115.368 490.064 L123.007 490.064 L123.007 463.699 L114.697 465.365 L114.697 461.106 L122.96 459.439 L127.636 459.439 L127.636 490.064 L135.275 490.064 L135.275 493.999 L115.368 493.999 L115.368 490.064 Z\" fill=\"#000000\" fill-rule=\"nonzero\" fill-opacity=\"1\" /><path clip-path=\"url(#clip400)\" d=\"M154.72 462.518 Q151.108 462.518 149.28 466.083 Q147.474 469.624 147.474 476.754 Q147.474 483.86 149.28 487.425 Q151.108 490.967 154.72 490.967 Q158.354 490.967 160.159 487.425 Q161.988 483.86 161.988 476.754 Q161.988 469.624 160.159 466.083 Q158.354 462.518 154.72 462.518 M154.72 458.814 Q160.53 458.814 163.585 463.421 Q166.664 468.004 166.664 476.754 Q166.664 485.481 163.585 490.087 Q160.53 494.671 154.72 494.671 Q148.909 494.671 145.831 490.087 Q142.775 485.481 142.775 476.754 Q142.775 468.004 145.831 463.421 Q148.909 458.814 154.72 458.814 Z\" fill=\"#000000\" fill-rule=\"nonzero\" fill-opacity=\"1\" /><path clip-path=\"url(#clip400)\" d=\"M166.664 452.916 L190.775 452.916 L190.775 456.113 L166.664 456.113 L166.664 452.916 Z\" fill=\"#000000\" fill-rule=\"nonzero\" fill-opacity=\"1\" /><path clip-path=\"url(#clip400)\" d=\"M202.248 463.392 L215.508 463.392 L215.508 466.589 L197.678 466.589 L197.678 463.392 Q199.841 461.153 203.565 457.392 Q207.308 453.612 208.267 452.521 Q210.091 450.471 210.806 449.06 Q211.539 447.631 211.539 446.258 Q211.539 444.02 209.959 442.609 Q208.398 441.198 205.878 441.198 Q204.091 441.198 202.098 441.819 Q200.123 442.44 197.866 443.7 L197.866 439.863 Q200.161 438.941 202.154 438.471 Q204.148 438.001 205.803 438.001 Q210.166 438.001 212.762 440.183 Q215.357 442.364 215.357 446.013 Q215.357 447.743 214.699 449.305 Q214.06 450.847 212.348 452.953 Q211.878 453.499 209.358 456.113 Q206.837 458.708 202.248 463.392 Z\" fill=\"#000000\" fill-rule=\"nonzero\" fill-opacity=\"1\" /><g clip-path=\"url(#clip400)\">\n",
                            "<text style=\"fill:#000000; fill-opacity:1; font-family:Arial,Helvetica Neue,Helvetica,sans-serif; font-size:66px; text-anchor:middle;\" transform=\"rotate(-90, 71.4418, 609.137)\" x=\"71.4418\" y=\"609.137\">error</text>\n",
                            "</g>\n",
                            "<g clip-path=\"url(#clip400)\">\n",
                            "<text style=\"fill:#000000; fill-opacity:1; font-family:Arial,Helvetica Neue,Helvetica,sans-serif; font-size:66px; text-anchor:middle;\" transform=\"rotate(0, 1099.13, 57.6)\" x=\"1099.13\" y=\"57.6\">Convergence of fixed-point iteration</text>\n",
                            "</g>\n",
                            "<polyline clip-path=\"url(#clip402)\" style=\"stroke:#009af9; stroke-linecap:round; stroke-linejoin:round; stroke-width:8; stroke-opacity:1; fill:none\" points=\"293.826,135.664 428.044,269.766 562.261,368.667 696.479,433.917 830.697,508.873 964.914,579.481 1099.13,651.82 1233.35,723.432 1367.57,795.343 1501.78,867.129 1636,938.968 1770.22,1010.78 1904.44,1082.61 \"/>\n",
                            "<path clip-path=\"url(#clip402)\" d=\"M293.826 147.664 L285.342 144.148 L281.826 135.664 L285.342 127.18 L293.826 123.664 L302.31 127.18 L305.826 135.664 L302.31 144.148 Z\" fill=\"#009af9\" fill-rule=\"evenodd\" fill-opacity=\"1\" stroke=\"#000000\" stroke-opacity=\"1\" stroke-width=\"2.56\"/>\n",
                            "<path clip-path=\"url(#clip402)\" d=\"M428.044 281.766 L419.56 278.25 L416.044 269.766 L419.56 261.282 L428.044 257.766 L436.528 261.282 L440.044 269.766 L436.528 278.25 Z\" fill=\"#009af9\" fill-rule=\"evenodd\" fill-opacity=\"1\" stroke=\"#000000\" stroke-opacity=\"1\" stroke-width=\"2.56\"/>\n",
                            "<path clip-path=\"url(#clip402)\" d=\"M562.261 380.667 L553.777 377.151 L550.261 368.667 L553.777 360.183 L562.261 356.667 L570.745 360.183 L574.261 368.667 L570.745 377.151 Z\" fill=\"#009af9\" fill-rule=\"evenodd\" fill-opacity=\"1\" stroke=\"#000000\" stroke-opacity=\"1\" stroke-width=\"2.56\"/>\n",
                            "<path clip-path=\"url(#clip402)\" d=\"M696.479 445.917 L687.995 442.401 L684.479 433.917 L687.995 425.433 L696.479 421.917 L704.963 425.433 L708.479 433.917 L704.963 442.401 Z\" fill=\"#009af9\" fill-rule=\"evenodd\" fill-opacity=\"1\" stroke=\"#000000\" stroke-opacity=\"1\" stroke-width=\"2.56\"/>\n",
                            "<path clip-path=\"url(#clip402)\" d=\"M830.697 520.873 L822.213 517.357 L818.697 508.873 L822.213 500.389 L830.697 496.873 L839.181 500.389 L842.697 508.873 L839.181 517.357 Z\" fill=\"#009af9\" fill-rule=\"evenodd\" fill-opacity=\"1\" stroke=\"#000000\" stroke-opacity=\"1\" stroke-width=\"2.56\"/>\n",
                            "<path clip-path=\"url(#clip402)\" d=\"M964.914 591.481 L956.43 587.965 L952.914 579.481 L956.43 570.997 L964.914 567.481 L973.398 570.997 L976.914 579.481 L973.398 587.965 Z\" fill=\"#009af9\" fill-rule=\"evenodd\" fill-opacity=\"1\" stroke=\"#000000\" stroke-opacity=\"1\" stroke-width=\"2.56\"/>\n",
                            "<path clip-path=\"url(#clip402)\" d=\"M1099.13 663.82 L1090.65 660.304 L1087.13 651.82 L1090.65 643.336 L1099.13 639.82 L1107.62 643.336 L1111.13 651.82 L1107.62 660.304 Z\" fill=\"#009af9\" fill-rule=\"evenodd\" fill-opacity=\"1\" stroke=\"#000000\" stroke-opacity=\"1\" stroke-width=\"2.56\"/>\n",
                            "<path clip-path=\"url(#clip402)\" d=\"M1233.35 735.432 L1224.87 731.916 L1221.35 723.432 L1224.87 714.948 L1233.35 711.432 L1241.83 714.948 L1245.35 723.432 L1241.83 731.916 Z\" fill=\"#009af9\" fill-rule=\"evenodd\" fill-opacity=\"1\" stroke=\"#000000\" stroke-opacity=\"1\" stroke-width=\"2.56\"/>\n",
                            "<path clip-path=\"url(#clip402)\" d=\"M1367.57 807.343 L1359.08 803.827 L1355.57 795.343 L1359.08 786.859 L1367.57 783.343 L1376.05 786.859 L1379.57 795.343 L1376.05 803.827 Z\" fill=\"#009af9\" fill-rule=\"evenodd\" fill-opacity=\"1\" stroke=\"#000000\" stroke-opacity=\"1\" stroke-width=\"2.56\"/>\n",
                            "<path clip-path=\"url(#clip402)\" d=\"M1501.78 879.129 L1493.3 875.613 L1489.78 867.129 L1493.3 858.645 L1501.78 855.129 L1510.27 858.645 L1513.78 867.129 L1510.27 875.613 Z\" fill=\"#009af9\" fill-rule=\"evenodd\" fill-opacity=\"1\" stroke=\"#000000\" stroke-opacity=\"1\" stroke-width=\"2.56\"/>\n",
                            "<path clip-path=\"url(#clip402)\" d=\"M1636 950.968 L1627.52 947.452 L1624 938.968 L1627.52 930.484 L1636 926.968 L1644.49 930.484 L1648 938.968 L1644.49 947.452 Z\" fill=\"#009af9\" fill-rule=\"evenodd\" fill-opacity=\"1\" stroke=\"#000000\" stroke-opacity=\"1\" stroke-width=\"2.56\"/>\n",
                            "<path clip-path=\"url(#clip402)\" d=\"M1770.22 1022.78 L1761.74 1019.27 L1758.22 1010.78 L1761.74 1002.3 L1770.22 998.784 L1778.7 1002.3 L1782.22 1010.78 L1778.7 1019.27 Z\" fill=\"#009af9\" fill-rule=\"evenodd\" fill-opacity=\"1\" stroke=\"#000000\" stroke-opacity=\"1\" stroke-width=\"2.56\"/>\n",
                            "<path clip-path=\"url(#clip402)\" d=\"M1904.44 1094.61 L1895.95 1091.09 L1892.44 1082.61 L1895.95 1074.13 L1904.44 1070.61 L1912.92 1074.13 L1916.44 1082.61 L1912.92 1091.09 Z\" fill=\"#009af9\" fill-rule=\"evenodd\" fill-opacity=\"1\" stroke=\"#000000\" stroke-opacity=\"1\" stroke-width=\"2.56\"/>\n",
                            "</svg>\n"
                        ]
                    },
                    "metadata": {},
                    "execution_count": 4
                }
            ],
            "cell_type": "code",
            "source": [
                "err = @. abs(x - rmax)\n",
                "plot(0:12, err;\n",
                "    m=:o,\n",
                "    xaxis=(\"iteration number\"),  yaxis=(\"error\", :log10),\n",
                "    title=\"Convergence of fixed-point iteration\")"
            ],
            "id": "d2e3ba5a",
            "metadata": {
                "execution": {
                    "iopub.status.idle": "2025-01-14T15:18:10.130000Z",
                    "iopub.status.busy": "2025-01-14T15:18:05.393000Z",
                    "iopub.execute_input": "2025-01-14T15:18:05.393000Z",
                    "shell.execute_reply": "2025-01-14T15:18:10.130000Z"
                }
            },
            "execution_count": 4
        },
        {
            "cell_type": "markdown",
            "source": [
                "It's quite clear that the convergence quickly settles into a linear rate. We could estimate this rate by doing a least-squares fit to a straight line. Keep in mind that the values for small $k$ should be left out of the computation, as they don't represent the linear trend."
            ],
            "id": "0b75549b",
            "metadata": {}
        },
        {
            "outputs": [
                {
                    "output_type": "execute_result",
                    "data": {
                        "text/plain": [
                            "Polynomial(-0.6680573888302035 - 0.8807181589734457*x)"
                        ],
                        "text/html": [
                            "&#45;0.6680573888302035 &#45; 0.8807181589734457&#8729;x"
                        ],
                        "text/latex": [
                            "$-0.6680573888302035 - 0.8807181589734457\\cdot x$"
                        ]
                    },
                    "metadata": {},
                    "execution_count": 5
                }
            ],
            "cell_type": "code",
            "source": [
                "y = log.(err[5:12])\n",
                "p = Polynomials.fit(5:12, y, 1)"
            ],
            "id": "1bc1cb7c",
            "metadata": {
                "execution": {
                    "iopub.status.idle": "2025-01-14T15:18:11.310000Z",
                    "iopub.status.busy": "2025-01-14T15:18:10.146000Z",
                    "iopub.execute_input": "2025-01-14T15:18:10.146000Z",
                    "shell.execute_reply": "2025-01-14T15:18:11.309000Z"
                }
            },
            "execution_count": 5
        },
        {
            "cell_type": "markdown",
            "source": [
                "We can exponentiate the slope to get the convergence constant $\\sigma$."
            ],
            "id": "6d481c41",
            "metadata": {}
        },
        {
            "outputs": [
                {
                    "output_type": "execute_result",
                    "data": {
                        "text/plain": [
                            "0.4144851385485472"
                        ]
                    },
                    "metadata": {},
                    "execution_count": 6
                }
            ],
            "cell_type": "code",
            "source": [
                "σ = exp(p.coeffs[2])"
            ],
            "id": "789b0a2e",
            "metadata": {
                "execution": {
                    "iopub.status.idle": "2025-01-14T15:18:11.463000Z",
                    "iopub.status.busy": "2025-01-14T15:18:11.316000Z",
                    "iopub.execute_input": "2025-01-14T15:18:11.316000Z",
                    "shell.execute_reply": "2025-01-14T15:18:11.462000Z"
                }
            },
            "execution_count": 6
        },
        {
            "cell_type": "markdown",
            "source": [
                "The error should therefore decrease by a factor of $\\sigma$ at each iteration. We can check this easily from the observed data."
            ],
            "id": "a8509818",
            "metadata": {}
        },
        {
            "outputs": [
                {
                    "output_type": "execute_result",
                    "data": {
                        "text/plain": [
                            "4-element Vector{Float64}:\n",
                            " 0.4137660520817109\n",
                            " 0.4143987269383\n",
                            " 0.4141368304124451\n",
                            " 0.4142453399049934"
                        ]
                    },
                    "metadata": {},
                    "execution_count": 7
                }
            ],
            "cell_type": "code",
            "source": [
                "[err[i+1] / err[i] for i in 8:11]"
            ],
            "id": "0761e1a5",
            "metadata": {
                "execution": {
                    "iopub.status.idle": "2025-01-14T15:18:11.526000Z",
                    "iopub.status.busy": "2025-01-14T15:18:11.469000Z",
                    "iopub.execute_input": "2025-01-14T15:18:11.469000Z",
                    "shell.execute_reply": "2025-01-14T15:18:11.526000Z"
                }
            },
            "execution_count": 7
        },
        {
            "cell_type": "markdown",
            "source": [
                "The methods for finding $\\sigma$ agree well."
            ],
            "id": "62554be6",
            "metadata": {}
        }
    ],
    "nbformat_minor": 5,
    "metadata": {
        "language_info": {
            "file_extension": ".jl",
            "mimetype": "application/julia",
            "name": "julia",
            "version": "1.11.2"
        },
        "kernelspec": {
            "name": "julia-1.11",
            "display_name": "Julia 1",
            "language": "julia"
        },
        "numbering": {
            "headings": false
        }
    },
    "nbformat": 4
}
