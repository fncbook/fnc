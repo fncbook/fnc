{
 "cells": [
  {
   "cell_type": "code",
   "execution_count": 1,
   "id": "582ef470",
   "metadata": {
    "execution": {
     "iopub.execute_input": "2025-01-11T17:18:30.932779Z",
     "iopub.status.busy": "2025-01-11T17:18:30.932413Z",
     "iopub.status.idle": "2025-01-11T17:18:31.236306Z",
     "shell.execute_reply": "2025-01-11T17:18:31.236012Z"
    },
    "tags": [
     "remove-cell"
    ]
   },
   "outputs": [],
   "source": [
    "exec(open(\"../../../python/FNC_init.py\").read())"
   ]
  },
  {
   "cell_type": "markdown",
   "id": "14877965",
   "metadata": {},
   "source": [
    "[**Demo %s**](#demo-fp-converge)\n",
    "\n",
    "We revisit {numref}`Demo %s <demo-fp-spiral>` and investigate the observed convergence more closely. Recall that above we calculated $g'(p)\\approx-0.42$ at the convergent fixed point."
   ]
  },
  {
   "cell_type": "code",
   "execution_count": 2,
   "id": "12af2dd6",
   "metadata": {
    "execution": {
     "iopub.execute_input": "2025-01-11T17:18:31.237937Z",
     "iopub.status.busy": "2025-01-11T17:18:31.237814Z",
     "iopub.status.idle": "2025-01-11T17:18:31.240097Z",
     "shell.execute_reply": "2025-01-11T17:18:31.239802Z"
    }
   },
   "outputs": [
    {
     "name": "stdout",
     "output_type": "stream",
     "text": [
      "[2.70710678 1.29289322]\n"
     ]
    }
   ],
   "source": [
    "f = poly1d([1, -4, 3.5])\n",
    "r = f.roots\n",
    "print(r)"
   ]
  },
  {
   "cell_type": "markdown",
   "id": "b5f4b7c6",
   "metadata": {},
   "source": [
    "Here is the fixed-point iteration. This time we keep track of the whole sequence of approximations."
   ]
  },
  {
   "cell_type": "code",
   "execution_count": 3,
   "id": "a10387d3",
   "metadata": {
    "execution": {
     "iopub.execute_input": "2025-01-11T17:18:31.241330Z",
     "iopub.status.busy": "2025-01-11T17:18:31.241247Z",
     "iopub.status.idle": "2025-01-11T17:18:31.243340Z",
     "shell.execute_reply": "2025-01-11T17:18:31.243108Z"
    }
   },
   "outputs": [
    {
     "name": "stdout",
     "output_type": "stream",
     "text": [
      "[2.1        2.59       2.7419     2.69148439 2.71333373 2.70448872\n",
      " 2.70818436 2.70665927 2.70729195 2.70703005 2.70713856 2.70709362]\n"
     ]
    }
   ],
   "source": [
    "g = lambda x: x - f(x)\n",
    "x = zeros(12)\n",
    "x[0] = 2.1\n",
    "for k in range(11):\n",
    "    x[k + 1] = g(x[k])\n",
    "\n",
    "print(x)"
   ]
  },
  {
   "cell_type": "markdown",
   "id": "92f69f29",
   "metadata": {},
   "source": [
    "It's illuminating to construct and plot the sequence of errors."
   ]
  },
  {
   "cell_type": "code",
   "execution_count": 4,
   "id": "a849b66c",
   "metadata": {
    "execution": {
     "iopub.execute_input": "2025-01-11T17:18:31.244598Z",
     "iopub.status.busy": "2025-01-11T17:18:31.244520Z",
     "iopub.status.idle": "2025-01-11T17:18:31.462924Z",
     "shell.execute_reply": "2025-01-11T17:18:31.462649Z"
    }
   },
   "outputs": [
    {
     "data": {
      "image/png": "[encoded data removed]",
      "text/plain": [
       "<Figure size 700x400 with 1 Axes>"
      ]
     },
     "metadata": {},
     "output_type": "display_data"
    }
   ],
   "source": [
    "err = abs(x - max(r))\n",
    "semilogy(err, \"-o\")\n",
    "xlabel(\"iteration number\"), ylabel(\"error\")\n",
    "title(\"Convergence of fixed-point iteration\");"
   ]
  },
  {
   "cell_type": "markdown",
   "id": "eb153f8f",
   "metadata": {},
   "source": [
    "It's quite clear that the convergence quickly settles into a linear rate. We could estimate this rate by doing a least-squares fit to a straight line. Keep in mind that the values for small $k$ should be left out of the computation, as they don't represent the linear trend."
   ]
  },
  {
   "cell_type": "code",
   "execution_count": 5,
   "id": "5b63ec48",
   "metadata": {
    "execution": {
     "iopub.execute_input": "2025-01-11T17:18:31.464379Z",
     "iopub.status.busy": "2025-01-11T17:18:31.464244Z",
     "iopub.status.idle": "2025-01-11T17:18:31.466204Z",
     "shell.execute_reply": "2025-01-11T17:18:31.465940Z"
    }
   },
   "outputs": [
    {
     "name": "stdout",
     "output_type": "stream",
     "text": [
      "[-0.88071816 -0.66805739]\n"
     ]
    }
   ],
   "source": [
    "p = polyfit(arange(5, 13), log(err[4:]), 1)\n",
    "print(p)"
   ]
  },
  {
   "cell_type": "markdown",
   "id": "628ab364",
   "metadata": {},
   "source": [
    "We can exponentiate the slope to get the convergence constant $\\sigma$."
   ]
  },
  {
   "cell_type": "code",
   "execution_count": 6,
   "id": "b6496aa8",
   "metadata": {
    "execution": {
     "iopub.execute_input": "2025-01-11T17:18:31.467362Z",
     "iopub.status.busy": "2025-01-11T17:18:31.467274Z",
     "iopub.status.idle": "2025-01-11T17:18:31.468935Z",
     "shell.execute_reply": "2025-01-11T17:18:31.468704Z"
    }
   },
   "outputs": [
    {
     "name": "stdout",
     "output_type": "stream",
     "text": [
      "sigma: 0.4144851385485472\n"
     ]
    }
   ],
   "source": [
    "print(\"sigma:\", exp(p[0]))"
   ]
  },
  {
   "cell_type": "markdown",
   "id": "3df30766",
   "metadata": {},
   "source": [
    "The error should therefore decrease by a factor of $\\sigma$ at each iteration. We can check this easily from the observed data."
   ]
  },
  {
   "cell_type": "code",
   "execution_count": 7,
   "id": "197e375e",
   "metadata": {
    "execution": {
     "iopub.execute_input": "2025-01-11T17:18:31.470121Z",
     "iopub.status.busy": "2025-01-11T17:18:31.470032Z",
     "iopub.status.idle": "2025-01-11T17:18:31.472240Z",
     "shell.execute_reply": "2025-01-11T17:18:31.471965Z"
    }
   },
   "outputs": [
    {
     "data": {
      "text/plain": [
       "array([0.41376605, 0.41439873, 0.41413683, 0.41424534])"
      ]
     },
     "execution_count": 7,
     "metadata": {},
     "output_type": "execute_result"
    }
   ],
   "source": [
    "err[8:] / err[7:-1]"
   ]
  },
  {
   "cell_type": "markdown",
   "id": "a26e2bb2",
   "metadata": {},
   "source": [
    "The methods for finding $\\sigma$ agree well."
   ]
  }
 ],
 "metadata": {
  "kernelspec": {
   "display_name": "Python 3",
   "language": "python",
   "name": "python3"
  },
  "language_info": {
   "codemirror_mode": {
    "name": "ipython",
    "version": 3
   },
   "file_extension": ".py",
   "mimetype": "text/x-python",
   "name": "python",
   "nbconvert_exporter": "python",
   "pygments_lexer": "ipython3",
   "version": "3.13.0"
  },
  "numbering": {
   "headings": false
  }
 },
 "nbformat": 4,
 "nbformat_minor": 5
}
