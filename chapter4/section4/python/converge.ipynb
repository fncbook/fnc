{
 "cells": [
  {
   "cell_type": "code",
   "execution_count": 1,
   "id": "abbe53c1",
   "metadata": {
    "execution": {
     "iopub.execute_input": "2025-01-11T17:18:39.414102Z",
     "iopub.status.busy": "2025-01-11T17:18:39.413976Z",
     "iopub.status.idle": "2025-01-11T17:18:39.764228Z",
     "shell.execute_reply": "2025-01-11T17:18:39.763884Z"
    },
    "tags": [
     "remove-cell"
    ]
   },
   "outputs": [],
   "source": [
    "exec(open(\"../../../python/FNC_init.py\").read())"
   ]
  },
  {
   "cell_type": "markdown",
   "id": "302f659f",
   "metadata": {},
   "source": [
    "[**Demo %s**](#demo-secant-converge)\n",
    "\n",
    "We check the convergence of the secant method from {numref}`Demo %s <demo-secant-line>`."
   ]
  },
  {
   "cell_type": "code",
   "execution_count": 2,
   "id": "b750f77e",
   "metadata": {
    "execution": {
     "iopub.execute_input": "2025-01-11T17:18:39.765847Z",
     "iopub.status.busy": "2025-01-11T17:18:39.765721Z",
     "iopub.status.idle": "2025-01-11T17:18:39.767977Z",
     "shell.execute_reply": "2025-01-11T17:18:39.767686Z"
    }
   },
   "outputs": [
    {
     "name": "stdout",
     "output_type": "stream",
     "text": [
      "[1.         0.5        0.81037177 0.86563193 0.85217802 0.85260123\n",
      " 0.8526055  0.8526055  0.8526055 ]\n"
     ]
    }
   ],
   "source": [
    "f = lambda x: x * exp(x) - 2\n",
    "x = FNC.secant(f, 1, 0.5)\n",
    "print(x)"
   ]
  },
  {
   "cell_type": "markdown",
   "id": "70e4a3ff",
   "metadata": {},
   "source": [
    "We don't know the exact root, so we use `root_scalar` to get a substitute."
   ]
  },
  {
   "cell_type": "code",
   "execution_count": 3,
   "id": "10ee1060",
   "metadata": {
    "execution": {
     "iopub.execute_input": "2025-01-11T17:18:39.769300Z",
     "iopub.status.busy": "2025-01-11T17:18:39.769195Z",
     "iopub.status.idle": "2025-01-11T17:18:39.771124Z",
     "shell.execute_reply": "2025-01-11T17:18:39.770758Z"
    }
   },
   "outputs": [
    {
     "name": "stdout",
     "output_type": "stream",
     "text": [
      "0.8526055020137254\n"
     ]
    }
   ],
   "source": [
    "from scipy.optimize import root_scalar\n",
    "r = root_scalar(f, bracket=[0.5, 1]).root\n",
    "print(r)"
   ]
  },
  {
   "cell_type": "markdown",
   "id": "899a8d01",
   "metadata": {},
   "source": [
    "Here is the sequence of errors."
   ]
  },
  {
   "cell_type": "code",
   "execution_count": 4,
   "id": "d9e7d7a3",
   "metadata": {
    "execution": {
     "iopub.execute_input": "2025-01-11T17:18:39.772279Z",
     "iopub.status.busy": "2025-01-11T17:18:39.772201Z",
     "iopub.status.idle": "2025-01-11T17:18:39.774163Z",
     "shell.execute_reply": "2025-01-11T17:18:39.773923Z"
    }
   },
   "outputs": [
    {
     "name": "stdout",
     "output_type": "stream",
     "text": [
      "[-1.47394498e-01  3.52605502e-01  4.22337271e-02 -1.30264253e-02\n",
      "  4.27479941e-04  4.26991559e-06 -1.40547707e-09  4.55191440e-15\n",
      "  0.00000000e+00]\n"
     ]
    }
   ],
   "source": [
    "err = r - x\n",
    "print(err)"
   ]
  },
  {
   "cell_type": "markdown",
   "id": "9404ffc4",
   "metadata": {},
   "source": [
    "It's not easy to see the convergence rate by staring at these numbers. We can use {eq}`superlinear-rate` to try to expose the superlinear convergence rate."
   ]
  },
  {
   "cell_type": "code",
   "execution_count": 5,
   "id": "559ae18a",
   "metadata": {
    "execution": {
     "iopub.execute_input": "2025-01-11T17:18:39.775334Z",
     "iopub.status.busy": "2025-01-11T17:18:39.775239Z",
     "iopub.status.idle": "2025-01-11T17:18:39.777249Z",
     "shell.execute_reply": "2025-01-11T17:18:39.777013Z"
    }
   },
   "outputs": [
    {
     "name": "stdout",
     "output_type": "stream",
     "text": [
      "0.5444386280277934\n",
      "3.0358017547194565\n",
      "1.3716940021941457\n",
      "1.7871469297607958\n",
      "1.593780475055435\n",
      "1.6485786717829443\n",
      "1.62014464365765\n"
     ]
    },
    {
     "name": "stderr",
     "output_type": "stream",
     "text": [
      "/var/folders/gc/0752xrm56pnf0r0dsrn5370c0000gr/T/ipykernel_49983/1382054591.py:1: RuntimeWarning: divide by zero encountered in log\n",
      "  logerr = log(abs(err))\n"
     ]
    }
   ],
   "source": [
    "logerr = log(abs(err))\n",
    "for i in range(len(err) - 2):\n",
    "    print(logerr[i+1] / logerr[i])"
   ]
  },
  {
   "cell_type": "markdown",
   "id": "10e7a778",
   "metadata": {},
   "source": [
    "As expected, this settles in at around 1.618."
   ]
  }
 ],
 "metadata": {
  "kernelspec": {
   "display_name": "Python 3",
   "language": "python",
   "name": "python3"
  },
  "language_info": {
   "codemirror_mode": {
    "name": "ipython",
    "version": 3
   },
   "file_extension": ".py",
   "mimetype": "text/x-python",
   "name": "python",
   "nbconvert_exporter": "python",
   "pygments_lexer": "ipython3",
   "version": "3.13.0"
  },
  "numbering": {
   "headings": false
  }
 },
 "nbformat": 4,
 "nbformat_minor": 5
}
