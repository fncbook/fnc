{
    "cells": [
        {
            "cell_type": "markdown",
            "source": [
                "[**Demo %s**](#demo-secant-converge)\n",
                "\n",
                "We check the convergence of the secant method from {numref}`Demo %s <demo-secant-line>`. Again we will use extended precision to get a longer sequence than double precision allows."
            ],
            "id": "6f5c7a6d",
            "metadata": {}
        },
        {
            "outputs": [],
            "cell_type": "code",
            "source": [
                "f(x) = x * exp(x) - 2\n",
                "x = FNC.secant(f, BigFloat(1), BigFloat(0.5), xtol=1e-80, ftol=1e-80);"
            ],
            "id": "de002b12",
            "metadata": {
                "execution": {
                    "iopub.status.idle": "2025-01-14T15:28:31.550000Z",
                    "iopub.status.busy": "2025-01-14T15:28:28.846000Z",
                    "iopub.execute_input": "2025-01-14T15:28:30.434000Z",
                    "shell.execute_reply": "2025-01-14T15:28:31.548000Z"
                }
            },
            "execution_count": 2
        },
        {
            "cell_type": "markdown",
            "source": [
                "We don't know the exact root, so we use the last value as a proxy."
            ],
            "id": "723e8c9c",
            "metadata": {}
        },
        {
            "outputs": [
                {
                    "output_type": "execute_result",
                    "data": {
                        "text/plain": [
                            "0.8526055020137254913464724146953174668984533001514035087721073946525150656742605"
                        ]
                    },
                    "metadata": {},
                    "execution_count": 3
                }
            ],
            "cell_type": "code",
            "source": [
                "r = x[end]"
            ],
            "id": "a3d8a3e2",
            "metadata": {
                "execution": {
                    "iopub.status.idle": "2025-01-14T15:28:34.931000Z",
                    "iopub.status.busy": "2025-01-14T15:28:31.563000Z",
                    "iopub.execute_input": "2025-01-14T15:28:31.564000Z",
                    "shell.execute_reply": "2025-01-14T15:28:34.930000Z"
                }
            },
            "execution_count": 3
        },
        {
            "cell_type": "markdown",
            "source": [
                "Here is the sequence of errors."
            ],
            "id": "186abcd1",
            "metadata": {}
        },
        {
            "outputs": [
                {
                    "output_type": "execute_result",
                    "data": {
                        "text/plain": [
                            "11-element Vector{Float64}:\n",
                            " -0.14739449798627452\n",
                            "  0.3526055020137255\n",
                            "  0.04223372706144885\n",
                            " -0.013026425327222755\n",
                            "  0.00042747994131549927\n",
                            "  4.269915586133851e-6\n",
                            " -1.4054770126368277e-9\n",
                            "  4.620323656624992e-15\n",
                            "  4.999480931132388e-24\n",
                            " -1.7783862252641536e-38\n",
                            "  6.845099610444838e-62"
                        ]
                    },
                    "metadata": {},
                    "execution_count": 4
                }
            ],
            "cell_type": "code",
            "source": [
                "ϵ = @. Float64(r - x[1:end-2])"
            ],
            "id": "60d3b4d1",
            "metadata": {
                "execution": {
                    "iopub.status.idle": "2025-01-14T15:28:50.918000Z",
                    "iopub.status.busy": "2025-01-14T15:28:34.970000Z",
                    "iopub.execute_input": "2025-01-14T15:28:34.971000Z",
                    "shell.execute_reply": "2025-01-14T15:28:50.907000Z"
                }
            },
            "execution_count": 4
        },
        {
            "cell_type": "markdown",
            "source": [
                "It's not easy to see the convergence rate by staring at these numbers. We can use {eq}`superlinear-rate` to try to expose the superlinear convergence rate."
            ],
            "id": "1a973c52",
            "metadata": {}
        },
        {
            "outputs": [
                {
                    "output_type": "display_data",
                    "data": {
                        "text/html": [
                            "<table>\n",
                            "  <thead>\n",
                            "    <tr class = \"header headerLastRow\">\n",
                            "      <th style = \"text-align: right;\">iteration</th>\n",
                            "      <th style = \"text-align: right;\">error</th>\n",
                            "      <th style = \"text-align: right;\">log error</th>\n",
                            "      <th style = \"text-align: right;\">ratio</th>\n",
                            "    </tr>\n",
                            "  </thead>\n",
                            "  <tbody>\n",
                            "    <tr>\n",
                            "      <td style = \"text-align: right;\">1.0</td>\n",
                            "      <td style = \"text-align: right;\">-0.147394</td>\n",
                            "      <td style = \"text-align: right;\">-0.831519</td>\n",
                            "      <td style = \"text-align: right;\">NaN</td>\n",
                            "    </tr>\n",
                            "    <tr>\n",
                            "      <td style = \"text-align: right;\">2.0</td>\n",
                            "      <td style = \"text-align: right;\">0.352606</td>\n",
                            "      <td style = \"text-align: right;\">-0.452711</td>\n",
                            "      <td style = \"text-align: right;\">0.544439</td>\n",
                            "    </tr>\n",
                            "    <tr>\n",
                            "      <td style = \"text-align: right;\">3.0</td>\n",
                            "      <td style = \"text-align: right;\">0.0422337</td>\n",
                            "      <td style = \"text-align: right;\">-1.37434</td>\n",
                            "      <td style = \"text-align: right;\">3.0358</td>\n",
                            "    </tr>\n",
                            "    <tr>\n",
                            "      <td style = \"text-align: right;\">4.0</td>\n",
                            "      <td style = \"text-align: right;\">-0.0130264</td>\n",
                            "      <td style = \"text-align: right;\">-1.88517</td>\n",
                            "      <td style = \"text-align: right;\">1.37169</td>\n",
                            "    </tr>\n",
                            "    <tr>\n",
                            "      <td style = \"text-align: right;\">5.0</td>\n",
                            "      <td style = \"text-align: right;\">0.00042748</td>\n",
                            "      <td style = \"text-align: right;\">-3.36908</td>\n",
                            "      <td style = \"text-align: right;\">1.78715</td>\n",
                            "    </tr>\n",
                            "    <tr>\n",
                            "      <td style = \"text-align: right;\">6.0</td>\n",
                            "      <td style = \"text-align: right;\">4.26992e-6</td>\n",
                            "      <td style = \"text-align: right;\">-5.36958</td>\n",
                            "      <td style = \"text-align: right;\">1.59378</td>\n",
                            "    </tr>\n",
                            "    <tr>\n",
                            "      <td style = \"text-align: right;\">7.0</td>\n",
                            "      <td style = \"text-align: right;\">-1.40548e-9</td>\n",
                            "      <td style = \"text-align: right;\">-8.85218</td>\n",
                            "      <td style = \"text-align: right;\">1.64858</td>\n",
                            "    </tr>\n",
                            "    <tr>\n",
                            "      <td style = \"text-align: right;\">8.0</td>\n",
                            "      <td style = \"text-align: right;\">4.62032e-15</td>\n",
                            "      <td style = \"text-align: right;\">-14.3353</td>\n",
                            "      <td style = \"text-align: right;\">1.61941</td>\n",
                            "    </tr>\n",
                            "    <tr>\n",
                            "      <td style = \"text-align: right;\">9.0</td>\n",
                            "      <td style = \"text-align: right;\">4.99948e-24</td>\n",
                            "      <td style = \"text-align: right;\">-23.3011</td>\n",
                            "      <td style = \"text-align: right;\">1.62543</td>\n",
                            "    </tr>\n",
                            "    <tr>\n",
                            "      <td style = \"text-align: right;\">10.0</td>\n",
                            "      <td style = \"text-align: right;\">-1.77839e-38</td>\n",
                            "      <td style = \"text-align: right;\">-37.75</td>\n",
                            "      <td style = \"text-align: right;\">1.6201</td>\n",
                            "    </tr>\n",
                            "    <tr>\n",
                            "      <td style = \"text-align: right;\">11.0</td>\n",
                            "      <td style = \"text-align: right;\">6.8451e-62</td>\n",
                            "      <td style = \"text-align: right;\">-61.1646</td>\n",
                            "      <td style = \"text-align: right;\">1.62026</td>\n",
                            "    </tr>\n",
                            "  </tbody>\n",
                            "</table>\n"
                        ]
                    },
                    "metadata": {}
                }
            ],
            "cell_type": "code",
            "source": [
                "logerr = @. log10(abs(ϵ))\n",
                "ratios = [NaN; [logerr[i+1] / logerr[i] for i in 1:length(logerr)-1]]\n",
                "@pt :header=[\"iteration\", \"error\", \"log error\", \"ratio\"] [eachindex(ϵ) ϵ logerr ratios]"
            ],
            "id": "4740451a",
            "metadata": {
                "execution": {
                    "iopub.status.idle": "2025-01-14T15:29:03.547000Z",
                    "iopub.status.busy": "2025-01-14T15:28:50.997000Z",
                    "iopub.execute_input": "2025-01-14T15:28:50.998000Z",
                    "shell.execute_reply": "2025-01-14T15:29:03.478000Z"
                }
            },
            "execution_count": 5
        },
        {
            "cell_type": "markdown",
            "source": [
                "As expected, this settles in at around 1.618."
            ],
            "id": "4de56c71",
            "metadata": {}
        }
    ],
    "nbformat_minor": 5,
    "metadata": {
        "language_info": {
            "file_extension": ".jl",
            "mimetype": "application/julia",
            "name": "julia",
            "version": "1.11.2"
        },
        "kernelspec": {
            "name": "julia-1.11",
            "display_name": "Julia 1",
            "language": "julia"
        },
        "numbering": {
            "headings": false
        }
    },
    "nbformat": 4
}
