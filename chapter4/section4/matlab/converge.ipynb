{
    "cells": [
        {
            "cell_type": "markdown",
            "source": [
                "[**Demo %s**](#demo-secant-converge)\n",
                "\n",
                "We check the convergence of the secant method from {numref}`Demo %s <demo-secant-line>`."
            ],
            "id": "c2d4ecd4",
            "metadata": {}
        },
        {
            "outputs": [],
            "cell_type": "code",
            "source": [
                "f = @(x) x .* exp(x) - 2;\n",
                "x = secant(f, 1, 0.5);"
            ],
            "id": "14ff91a8",
            "metadata": {},
            "execution_count": 2
        },
        {
            "cell_type": "markdown",
            "source": [
                "We don't know the exact root, so we use `fzero` to get a good proxy."
            ],
            "id": "f2a1a5bf",
            "metadata": {}
        },
        {
            "outputs": [],
            "cell_type": "code",
            "source": [
                "r = fzero(f, 1);"
            ],
            "id": "ee7e5ddb",
            "metadata": {},
            "execution_count": 3
        },
        {
            "cell_type": "markdown",
            "source": [
                "Here is the sequence of errors."
            ],
            "id": "2fab2f98",
            "metadata": {}
        },
        {
            "outputs": [
                {
                    "output_type": "execute_result",
                    "data": {
                        "text/plain": [
                            "err = 7×1 double\n",
                            "  -1.4739e-01\n",
                            "   3.5261e-01\n",
                            "   4.2234e-02\n",
                            "  -1.3026e-02\n",
                            "   4.2748e-04\n",
                            "   4.2699e-06\n",
                            "  -1.4055e-09\n"
                        ],
                        "text/html": [
                            "<html><body><pre>err = 7×1 double\n",
                            "  -1.4739e-01\n",
                            "   3.5261e-01\n",
                            "   4.2234e-02\n",
                            "  -1.3026e-02\n",
                            "   4.2748e-04\n",
                            "   4.2699e-06\n",
                            "  -1.4055e-09\n",
                            "</pre></body></html>"
                        ]
                    },
                    "metadata": {},
                    "execution_count": 4
                }
            ],
            "cell_type": "code",
            "source": [
                "format short e\n",
                "err = r - x(1:end-1)'"
            ],
            "id": "0db4bb2a",
            "metadata": {},
            "execution_count": 4
        },
        {
            "cell_type": "markdown",
            "source": [
                "It's not easy to see the convergence rate by staring at these numbers. We can use {eq}`superlinear-rate` to try to expose the superlinear convergence rate."
            ],
            "id": "8e7fcc62",
            "metadata": {}
        },
        {
            "outputs": [
                {
                    "output_type": "execute_result",
                    "data": {
                        "text/plain": [
                            "ratios = 6×1 double\n",
                            "   5.4444e-01\n",
                            "   3.0358e+00\n",
                            "   1.3717e+00\n",
                            "   1.7871e+00\n",
                            "   1.5938e+00\n",
                            "   1.6486e+00\n"
                        ],
                        "text/html": [
                            "<html><body><pre>ratios = 6×1 double\n",
                            "   5.4444e-01\n",
                            "   3.0358e+00\n",
                            "   1.3717e+00\n",
                            "   1.7871e+00\n",
                            "   1.5938e+00\n",
                            "   1.6486e+00\n",
                            "</pre></body></html>"
                        ]
                    },
                    "metadata": {},
                    "execution_count": 5
                }
            ],
            "cell_type": "code",
            "source": [
                "logerr = log(abs(err));\n",
                "ratios = logerr(2:end) ./ logerr(1:end-1)"
            ],
            "id": "9d3c14d8",
            "metadata": {},
            "execution_count": 5
        },
        {
            "cell_type": "markdown",
            "source": [
                "As expected, this settles in at around 1.618."
            ],
            "id": "0628186f",
            "metadata": {}
        }
    ],
    "nbformat_minor": 5,
    "metadata": {
        "language_info": {
            "file_extension": ".m",
            "mimetype": "text/x-matlab",
            "name": "matlab"
        },
        "kernelspec": {
            "name": "jupyter_matlab_kernel",
            "display_name": "MATLAB Kernel",
            "language": "matlab"
        },
        "numbering": {
            "headings": false
        }
    },
    "nbformat": 4
}
