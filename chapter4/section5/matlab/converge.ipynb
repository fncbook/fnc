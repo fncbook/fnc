{
 "cells": [
  {
   "cell_type": "code",
   "execution_count": 1,
   "id": "6bd9f4bb",
   "metadata": {
    "tags": [
     "remove-cell"
    ]
   },
   "outputs": [],
   "source": [
    "cd  /Users/driscoll/Documents/GitHub/fnc/matlab\n",
    "FNC_init"
   ]
  },
  {
   "cell_type": "markdown",
   "id": "c0789ef9",
   "metadata": {},
   "source": [
    "[**Demo %s**](#demo-newtonsys-converge)\n",
    "\n",
    "A system of nonlinear equations is defined by its residual and Jacobian.\n",
    "```{tip}\n",
    ":class: dropdown\n",
    "This function needs to be defined within a script file or in a file of its own with the `.m` extension.\n",
    "```\n",
    "\n",
    "```{literalinclude} f45_nlsystem.m\n",
    ":language: matlab\n",
    "```\n",
    "\n",
    "Since our system function is defined in an external file here, we need to use `@` in order to reference it as a function argument."
   ]
  },
  {
   "cell_type": "code",
   "execution_count": 2,
   "id": "e6e356ac",
   "metadata": {},
   "outputs": [
    {
     "data": {
      "text/html": [
       "<html><body><pre>num_iter = 7</pre></body></html>"
      ],
      "text/plain": [
       "num_iter = 7"
      ]
     },
     "execution_count": 2,
     "metadata": {},
     "output_type": "execute_result"
    }
   ],
   "source": [
    "nlsystem = @f45_nlsystem;\n",
    "x1 = [0; 0; 0];    % column vector!\n",
    "x = newtonsys(nlsystem, x1);\n",
    "num_iter = size(x, 2)"
   ]
  },
  {
   "cell_type": "markdown",
   "id": "a1576fe1",
   "metadata": {},
   "source": [
    "Let's compute the residual of the last result in order to check the quality."
   ]
  },
  {
   "cell_type": "code",
   "execution_count": 3,
   "id": "1a68e62a",
   "metadata": {},
   "outputs": [
    {
     "data": {
      "text/html": [
       "<html><body><pre>r = 3×1 double\n",
       "   -0.4580\n",
       "    0.2351\n",
       "    0.1077\n",
       "</pre></body></html>"
      ],
      "text/plain": [
       "r = 3×1 double\n",
       "   -0.4580\n",
       "    0.2351\n",
       "    0.1077\n"
      ]
     },
     "execution_count": 3,
     "metadata": {},
     "output_type": "execute_result"
    },
    {
     "data": {
      "text/html": [
       "<html><body><pre>back_err = 1.3878e-17</pre></body></html>"
      ],
      "text/plain": [
       "back_err = 1.3878e-17"
      ]
     },
     "execution_count": 3,
     "metadata": {},
     "output_type": "execute_result"
    }
   ],
   "source": [
    "r = x(:, end)\n",
    "back_err = norm(nlsystem(r))"
   ]
  },
  {
   "cell_type": "markdown",
   "id": "b159dd02",
   "metadata": {},
   "source": [
    "We take the sequence errors in the first component of the solution, applying the log so that we can look at the exponents."
   ]
  },
  {
   "cell_type": "code",
   "execution_count": 4,
   "id": "1859732d",
   "metadata": {},
   "outputs": [
    {
     "data": {
      "text/html": [
       "<html><body><pre>ans = 6×1 double\n",
       "   -0.3391\n",
       "   -0.2660\n",
       "   -0.9188\n",
       "   -2.2920\n",
       "   -5.1929\n",
       "   -9.9685\n",
       "</pre></body></html>"
      ],
      "text/plain": [
       "ans = 6×1 double\n",
       "   -0.3391\n",
       "   -0.2660\n",
       "   -0.9188\n",
       "   -2.2920\n",
       "   -5.1929\n",
       "   -9.9685\n"
      ]
     },
     "execution_count": 4,
     "metadata": {},
     "output_type": "execute_result"
    }
   ],
   "source": [
    "log10( abs(x(1, 1:end-1) - r(1)) )'"
   ]
  },
  {
   "cell_type": "markdown",
   "id": "c4ba7295",
   "metadata": {},
   "source": [
    "This sequence looks to be nearly doubling at each iteration, which is a good sign of quadratic convergence."
   ]
  }
 ],
 "metadata": {
  "kernelspec": {
   "display_name": "MATLAB Kernel",
   "language": "matlab",
   "name": "jupyter_matlab_kernel"
  },
  "language_info": {
   "file_extension": ".m",
   "mimetype": "text/x-matlab",
   "name": "matlab"
  },
  "numbering": {
   "headings": false
  }
 },
 "nbformat": 4,
 "nbformat_minor": 5
}
