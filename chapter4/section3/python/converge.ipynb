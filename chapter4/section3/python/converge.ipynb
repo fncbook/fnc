{
 "cells": [
  {
   "cell_type": "code",
   "execution_count": 5,
   "id": "3823139b",
   "metadata": {
    "tags": [
     "remove-cell"
    ]
   },
   "outputs": [],
   "source": [
    "exec(open(\"../../../python/FNC_init.py\").read())"
   ]
  },
  {
   "cell_type": "markdown",
   "id": "8aea0381",
   "metadata": {},
   "source": [
    "[**Demo %s**](#demo-newton-converge)\n",
    "\n",
    "We again look at finding a solution of $x e^x=2$ near $x=1$. To apply Newton's method, we need to calculate values of both the residual function $f$ and its derivative."
   ]
  },
  {
   "cell_type": "code",
   "execution_count": 6,
   "id": "1b0a5160",
   "metadata": {},
   "outputs": [],
   "source": [
    "f = lambda x: x * exp(x) - 2\n",
    "df_dx = lambda x: exp(x) * (x + 1)"
   ]
  },
  {
   "cell_type": "markdown",
   "id": "7404d535",
   "metadata": {},
   "source": [
    "We don't know the exact root, so we use `nlsolve` to determine a proxy for it."
   ]
  },
  {
   "cell_type": "code",
   "execution_count": 7,
   "id": "539410e8",
   "metadata": {},
   "outputs": [
    {
     "name": "stdout",
     "output_type": "stream",
     "text": [
      "0.8526055020137255\n"
     ]
    }
   ],
   "source": [
    "from scipy.optimize import root_scalar\n",
    "r = root_scalar(f, bracket=[0.8, 1.0]).root\n",
    "print(r)"
   ]
  },
  {
   "cell_type": "markdown",
   "id": "bd176a95",
   "metadata": {},
   "source": [
    "We use $x_1=1$ as a starting guess and apply the iteration in a loop, storing the sequence of iterates in a vector."
   ]
  },
  {
   "cell_type": "code",
   "execution_count": 8,
   "id": "dc6e2a47",
   "metadata": {},
   "outputs": [
    {
     "name": "stdout",
     "output_type": "stream",
     "text": [
      "[1.         0.86787944 0.85278337 0.85260553 0.8526055 ]\n"
     ]
    }
   ],
   "source": [
    "x = ones(5)\n",
    "for k in range(4):\n",
    "    x[k + 1] = x[k] - f(x[k]) / df_dx(x[k])\n",
    "\n",
    "print(x)"
   ]
  },
  {
   "cell_type": "markdown",
   "id": "6e163a71",
   "metadata": {},
   "source": [
    "Here is the sequence of errors."
   ]
  },
  {
   "cell_type": "code",
   "execution_count": 9,
   "id": "c9e6fcf4",
   "metadata": {},
   "outputs": [
    {
     "name": "stdout",
     "output_type": "stream",
     "text": [
      "[1.47394498e-01 1.52739392e-02 1.77871403e-04 2.43551965e-08\n",
      " 4.44089210e-16]\n"
     ]
    }
   ],
   "source": [
    "err = x - r\n",
    "print(err)"
   ]
  },
  {
   "cell_type": "markdown",
   "id": "af2b0c66",
   "metadata": {},
   "source": [
    "The exponents in the scientific notation definitely suggest a squaring sequence. We can check the evolution of the ratio in {eq}`quadratictest`."
   ]
  },
  {
   "cell_type": "code",
   "execution_count": 10,
   "id": "739a96a2",
   "metadata": {},
   "outputs": [
    {
     "name": "stdout",
     "output_type": "stream",
     "text": [
      "2.1840144823399648\n",
      "2.064863881067786\n",
      "2.030299689916648\n",
      "2.01651205997716\n"
     ]
    }
   ],
   "source": [
    "logerr = log(abs(err))\n",
    "for i in range(len(err) - 1):\n",
    "    print(logerr[i+1] / logerr[i])"
   ]
  },
  {
   "cell_type": "markdown",
   "id": "edb95af2",
   "metadata": {},
   "source": [
    "The clear convergence to 2 above constitutes good evidence of quadratic convergence."
   ]
  }
 ],
 "metadata": {
  "kernelspec": {
   "display_name": "myst",
   "language": "python",
   "name": "python3"
  },
  "language_info": {
   "codemirror_mode": {
    "name": "ipython",
    "version": 3
   },
   "file_extension": ".py",
   "mimetype": "text/x-python",
   "name": "python",
   "nbconvert_exporter": "python",
   "pygments_lexer": "ipython3",
   "version": "3.13.0"
  },
  "numbering": {
   "headings": false
  }
 },
 "nbformat": 4,
 "nbformat_minor": 5
}
