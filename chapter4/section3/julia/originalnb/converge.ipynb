{
    "cells": [
        {
            "outputs": [
                {
                    "name": "stderr",
                    "output_type": "stream",
                    "text": [
                        "\u001b[32m\u001b[1m  Activating\u001b[22m\u001b[39m "
                    ]
                },
                {
                    "name": "stderr",
                    "output_type": "stream",
                    "text": [
                        "project at `~/Documents/GitHub/fnc`\n"
                    ]
                }
            ],
            "cell_type": "code",
            "source": [
                "include(\"../../../julia/FNC_init.jl\")"
            ],
            "id": "f13d6893",
            "metadata": {
                "execution": {
                    "iopub.status.idle": "2025-01-14T15:36:43.814000Z",
                    "iopub.status.busy": "2025-01-14T15:35:26.658000Z",
                    "iopub.execute_input": "2025-01-14T15:35:30.930000Z",
                    "shell.execute_reply": "2025-01-14T15:36:43.114000Z"
                },
                "tags": [
                    "remove-cell"
                ]
            },
            "execution_count": 1
        },
        {
            "cell_type": "markdown",
            "source": [
                "[**Demo %s**](#demo-newton-converge)\n",
                "\n",
                "We again look at finding a solution of $x e^x=2$ near $x=1$. To apply Newton's method, we need to calculate values of both the residual function $f$ and its derivative."
            ],
            "id": "a5b59897",
            "metadata": {}
        },
        {
            "outputs": [],
            "cell_type": "code",
            "source": [
                "f(x) = x * exp(x) - 2;\n",
                "df_dx(x) = exp(x) * (x + 1);"
            ],
            "id": "2d25ffac",
            "metadata": {
                "execution": {
                    "iopub.status.idle": "2025-01-14T15:36:47.395000Z",
                    "iopub.status.busy": "2025-01-14T15:36:43.895000Z",
                    "iopub.execute_input": "2025-01-14T15:36:46.395000Z",
                    "shell.execute_reply": "2025-01-14T15:36:47.394000Z"
                }
            },
            "execution_count": 2
        },
        {
            "cell_type": "markdown",
            "source": [
                "We don't know the exact root, so we use `nlsolve` to determine a proxy for it."
            ],
            "id": "5a5b800f",
            "metadata": {}
        },
        {
            "outputs": [
                {
                    "output_type": "execute_result",
                    "data": {
                        "text/plain": [
                            "1-element Vector{Float64}:\n",
                            " 0.852605502013726"
                        ]
                    },
                    "metadata": {},
                    "execution_count": 3
                }
            ],
            "cell_type": "code",
            "source": [
                "using NLsolve\n",
                "r = nlsolve(x -> f(x[1]), [1.0]).zero"
            ],
            "id": "49205d39",
            "metadata": {
                "execution": {
                    "iopub.status.idle": "2025-01-14T15:37:27.488000Z",
                    "iopub.status.busy": "2025-01-14T15:36:47.402000Z",
                    "iopub.execute_input": "2025-01-14T15:36:47.403000Z",
                    "shell.execute_reply": "2025-01-14T15:37:27.487000Z"
                }
            },
            "execution_count": 3
        },
        {
            "cell_type": "markdown",
            "source": [
                "We use $x_1=1$ as a starting guess and apply the iteration in a loop, storing the sequence of iterates in a vector."
            ],
            "id": "5fb8d260",
            "metadata": {}
        },
        {
            "outputs": [
                {
                    "output_type": "execute_result",
                    "data": {
                        "text/plain": [
                            "5-element Vector{Float64}:\n",
                            " 1.0\n",
                            " 0.8678794411714423\n",
                            " 0.8527833734164099\n",
                            " 0.8526055263689221\n",
                            " 0.852605502013726"
                        ]
                    },
                    "metadata": {},
                    "execution_count": 4
                }
            ],
            "cell_type": "code",
            "source": [
                "x = [1; zeros(4)]\n",
                "for k = 1:4\n",
                "    x[k+1] = x[k] - f(x[k]) / df_dx(x[k])\n",
                "end\n",
                "x"
            ],
            "id": "ebdc711f",
            "metadata": {
                "execution": {
                    "iopub.status.idle": "2025-01-14T15:37:27.917000Z",
                    "iopub.status.busy": "2025-01-14T15:37:27.569000Z",
                    "iopub.execute_input": "2025-01-14T15:37:27.572000Z",
                    "shell.execute_reply": "2025-01-14T15:37:27.916000Z"
                }
            },
            "execution_count": 4
        },
        {
            "cell_type": "markdown",
            "source": [
                "Here is the sequence of errors."
            ],
            "id": "75b9dfb8",
            "metadata": {}
        },
        {
            "outputs": [
                {
                    "output_type": "execute_result",
                    "data": {
                        "text/plain": [
                            "5-element Vector{Float64}:\n",
                            " 0.14739449798627402\n",
                            " 0.015273939157716354\n",
                            " 0.00017787140268388235\n",
                            " 2.435519608212644e-8\n",
                            " 0.0"
                        ]
                    },
                    "metadata": {},
                    "execution_count": 5
                }
            ],
            "cell_type": "code",
            "source": [
                "ϵ = @. x - r"
            ],
            "id": "e4263bc1",
            "metadata": {
                "execution": {
                    "iopub.status.idle": "2025-01-14T15:37:28.298000Z",
                    "iopub.status.busy": "2025-01-14T15:37:27.924000Z",
                    "iopub.execute_input": "2025-01-14T15:37:27.925000Z",
                    "shell.execute_reply": "2025-01-14T15:37:28.296000Z"
                }
            },
            "execution_count": 5
        },
        {
            "cell_type": "markdown",
            "source": [
                "Because the error reaches machine epsilon so rapidly, we're going to use extended precision to allow us to take a few more iterations. We'll take the last iteration as the most accurate root estimate.\n",
                "```{tip}\n",
                ":class: dropdown\n",
                "A `BigFloat` uses 256 bits of precision, rather than 53 in `Float64`. But arithmetic is done by software emulation and is much slower.\n",
                "```"
            ],
            "id": "fbc4006e",
            "metadata": {}
        },
        {
            "outputs": [
                {
                    "output_type": "execute_result",
                    "data": {
                        "text/plain": [
                            "0.8526055020137254913464724146953174668984533001514035087721073946525150656742605"
                        ]
                    },
                    "metadata": {},
                    "execution_count": 6
                }
            ],
            "cell_type": "code",
            "source": [
                "x = [BigFloat(1); zeros(7)]\n",
                "for k = 1:7\n",
                "    x[k+1] = x[k] - f(x[k]) / df_dx(x[k])\n",
                "end\n",
                "r = x[end]"
            ],
            "id": "37d75982",
            "metadata": {
                "execution": {
                    "iopub.status.idle": "2025-01-14T15:37:32.028000Z",
                    "iopub.status.busy": "2025-01-14T15:37:28.305000Z",
                    "iopub.execute_input": "2025-01-14T15:37:28.305000Z",
                    "shell.execute_reply": "2025-01-14T15:37:31.996000Z"
                }
            },
            "execution_count": 6
        },
        {
            "outputs": [
                {
                    "output_type": "execute_result",
                    "data": {
                        "text/plain": [
                            "7-element Vector{Float64}:\n",
                            " 0.14739449798627452\n",
                            " 0.01527393915771683\n",
                            " 0.00017787140268443004\n",
                            " 2.435519656311045e-8\n",
                            " 4.56680051680793e-16\n",
                            " 1.6056572825272187e-31\n",
                            " 1.9848810119594387e-62"
                        ]
                    },
                    "metadata": {},
                    "execution_count": 7
                }
            ],
            "cell_type": "code",
            "source": [
                "ϵ = @. Float64(x[1:end-1] - r)"
            ],
            "id": "3eea2cd3",
            "metadata": {
                "execution": {
                    "iopub.status.idle": "2025-01-14T15:37:33.517000Z",
                    "iopub.status.busy": "2025-01-14T15:37:32.054000Z",
                    "iopub.execute_input": "2025-01-14T15:37:32.056000Z",
                    "shell.execute_reply": "2025-01-14T15:37:33.517000Z"
                }
            },
            "execution_count": 7
        },
        {
            "cell_type": "markdown",
            "source": [
                "The exponents in the scientific notation definitely suggest a squaring sequence. We can check the evolution of the ratio in {eq}`quadratictest`."
            ],
            "id": "4ad039ac",
            "metadata": {}
        },
        {
            "outputs": [
                {
                    "output_type": "display_data",
                    "data": {
                        "text/html": [
                            "<table>\n",
                            "  <thead>\n",
                            "    <tr class = \"header headerLastRow\">\n",
                            "      <th style = \"text-align: right;\">iteration</th>\n",
                            "      <th style = \"text-align: right;\">error</th>\n",
                            "      <th style = \"text-align: right;\">log error</th>\n",
                            "      <th style = \"text-align: right;\">ratio</th>\n",
                            "    </tr>\n",
                            "  </thead>\n",
                            "  <tbody>\n",
                            "    <tr>\n",
                            "      <td style = \"text-align: right;\">1.0</td>\n",
                            "      <td style = \"text-align: right;\">0.147394</td>\n",
                            "      <td style = \"text-align: right;\">-0.831519</td>\n",
                            "      <td style = \"text-align: right;\">NaN</td>\n",
                            "    </tr>\n",
                            "    <tr>\n",
                            "      <td style = \"text-align: right;\">2.0</td>\n",
                            "      <td style = \"text-align: right;\">0.0152739</td>\n",
                            "      <td style = \"text-align: right;\">-1.81605</td>\n",
                            "      <td style = \"text-align: right;\">2.18401</td>\n",
                            "    </tr>\n",
                            "    <tr>\n",
                            "      <td style = \"text-align: right;\">3.0</td>\n",
                            "      <td style = \"text-align: right;\">0.000177871</td>\n",
                            "      <td style = \"text-align: right;\">-3.74989</td>\n",
                            "      <td style = \"text-align: right;\">2.06486</td>\n",
                            "    </tr>\n",
                            "    <tr>\n",
                            "      <td style = \"text-align: right;\">4.0</td>\n",
                            "      <td style = \"text-align: right;\">2.43552e-8</td>\n",
                            "      <td style = \"text-align: right;\">-7.61341</td>\n",
                            "      <td style = \"text-align: right;\">2.0303</td>\n",
                            "    </tr>\n",
                            "    <tr>\n",
                            "      <td style = \"text-align: right;\">5.0</td>\n",
                            "      <td style = \"text-align: right;\">4.5668e-16</td>\n",
                            "      <td style = \"text-align: right;\">-15.3404</td>\n",
                            "      <td style = \"text-align: right;\">2.01492</td>\n",
                            "    </tr>\n",
                            "    <tr>\n",
                            "      <td style = \"text-align: right;\">6.0</td>\n",
                            "      <td style = \"text-align: right;\">1.60566e-31</td>\n",
                            "      <td style = \"text-align: right;\">-30.7943</td>\n",
                            "      <td style = \"text-align: right;\">2.0074</td>\n",
                            "    </tr>\n",
                            "    <tr>\n",
                            "      <td style = \"text-align: right;\">7.0</td>\n",
                            "      <td style = \"text-align: right;\">1.98488e-62</td>\n",
                            "      <td style = \"text-align: right;\">-61.7023</td>\n",
                            "      <td style = \"text-align: right;\">2.00369</td>\n",
                            "    </tr>\n",
                            "  </tbody>\n",
                            "</table>\n"
                        ]
                    },
                    "metadata": {}
                }
            ],
            "cell_type": "code",
            "source": [
                "logerr = @. log10(abs(ϵ))\n",
                "ratios = [NaN; [logerr[i+1] / logerr[i] for i in 1:length(logerr)-1]]\n",
                "@pt :header=[\"iteration\", \"error\", \"log error\", \"ratio\"] [1:7 ϵ logerr ratios]"
            ],
            "id": "51ebe79d",
            "metadata": {
                "execution": {
                    "iopub.status.idle": "2025-01-14T15:37:45.371000Z",
                    "iopub.status.busy": "2025-01-14T15:37:33.529000Z",
                    "iopub.execute_input": "2025-01-14T15:37:33.529000Z",
                    "shell.execute_reply": "2025-01-14T15:37:45.360000Z"
                }
            },
            "execution_count": 8
        },
        {
            "cell_type": "markdown",
            "source": [
                "The clear convergence to 2 above constitutes good evidence of quadratic convergence."
            ],
            "id": "7d94e202",
            "metadata": {}
        }
    ],
    "nbformat_minor": 5,
    "metadata": {
        "language_info": {
            "file_extension": ".jl",
            "mimetype": "application/julia",
            "name": "julia",
            "version": "1.11.2"
        },
        "kernelspec": {
            "name": "julia-1.11",
            "display_name": "Julia 1",
            "language": "julia"
        },
        "numbering": {
            "headings": false
        }
    },
    "nbformat": 4
}
