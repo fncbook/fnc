{
    "cells": [
        {
            "cell_type": "markdown",
            "source": [
                "[**Demo %s**](#demo-newton-converge)\n",
                "\n",
                "We again look at finding a solution of $x e^x=2$ near $x=1$. To apply Newton's method, we need to calculate values of both the residual function $f$ and its derivative."
            ],
            "id": "35757542",
            "metadata": {}
        },
        {
            "outputs": [],
            "cell_type": "code",
            "source": [
                "f = @(x) x.*exp(x) - 2;\n",
                "dfdx = @(x) exp(x).*(x+1);"
            ],
            "id": "dd461795",
            "metadata": {},
            "execution_count": 2
        },
        {
            "cell_type": "markdown",
            "source": [
                "We don't know the exact root, so we use `nlsolve` to determine a proxy for it."
            ],
            "id": "92d1ecf7",
            "metadata": {}
        },
        {
            "outputs": [
                {
                    "output_type": "execute_result",
                    "data": {
                        "text/plain": [
                            "r = \n",
                            "   0.852605502013726\n"
                        ],
                        "text/html": [
                            "<html><body><pre>r = \n",
                            "   0.852605502013726\n",
                            "</pre></body></html>"
                        ]
                    },
                    "metadata": {},
                    "execution_count": 3
                }
            ],
            "cell_type": "code",
            "source": [
                "format long,  r = fzero(f,1)"
            ],
            "id": "c8ed62c9",
            "metadata": {},
            "execution_count": 3
        },
        {
            "cell_type": "markdown",
            "source": [
                "We use $x_1=1$ as a starting guess and apply the iteration in a loop, storing the sequence of iterates in a vector."
            ],
            "id": "1ca89746",
            "metadata": {}
        },
        {
            "outputs": [
                {
                    "output_type": "execute_result",
                    "data": {
                        "text/plain": [
                            "x = 1×7 double\n",
                            "   1.000000000000000   0.867879441171442   0.852783373416410   0.852605526368922   0.852605502013726   0.852605502013725   0.852605502013725\n"
                        ],
                        "text/html": [
                            "<html><body><pre>x = 1×7 double\n",
                            "   1.000000000000000   0.867879441171442   0.852783373416410   0.852605526368922   0.852605502013726   0.852605502013725   0.852605502013725\n",
                            "</pre></body></html>"
                        ]
                    },
                    "metadata": {},
                    "execution_count": 4
                }
            ],
            "cell_type": "code",
            "source": [
                "x = 1;\n",
                "for k = 1:6\n",
                "    x(k+1) = x(k) - f(x(k)) / dfdx(x(k));\n",
                "end\n",
                "x"
            ],
            "id": "78d07ddd",
            "metadata": {},
            "execution_count": 4
        },
        {
            "cell_type": "markdown",
            "source": [
                "Here is the sequence of errors."
            ],
            "id": "002dd540",
            "metadata": {}
        },
        {
            "outputs": [
                {
                    "output_type": "execute_result",
                    "data": {
                        "text/plain": [
                            "err = 7×1 double\n",
                            "   1.4739e-01\n",
                            "   1.5274e-02\n",
                            "   1.7787e-04\n",
                            "   2.4355e-08\n",
                            "   4.4409e-16\n",
                            "  -1.1102e-16\n",
                            "  -1.1102e-16\n"
                        ],
                        "text/html": [
                            "<html><body><pre>err = 7×1 double\n",
                            "   1.4739e-01\n",
                            "   1.5274e-02\n",
                            "   1.7787e-04\n",
                            "   2.4355e-08\n",
                            "   4.4409e-16\n",
                            "  -1.1102e-16\n",
                            "  -1.1102e-16\n",
                            "</pre></body></html>"
                        ]
                    },
                    "metadata": {},
                    "execution_count": 5
                }
            ],
            "cell_type": "code",
            "source": [
                "format short e\n",
                "err = x' - r"
            ],
            "id": "b70a82ad",
            "metadata": {},
            "execution_count": 5
        },
        {
            "cell_type": "markdown",
            "source": [
                "The exponents in the scientific notation definitely suggest a squaring sequence. We can check the evolution of the ratio in {eq}`quadratictest`."
            ],
            "id": "fa6277c4",
            "metadata": {}
        },
        {
            "outputs": [
                {
                    "output_type": "execute_result",
                    "data": {
                        "text/plain": [
                            "logerr = 7×1 double\n",
                            "   -1.9146\n",
                            "   -4.1816\n",
                            "   -8.6344\n",
                            "  -17.5305\n",
                            "  -35.3505\n",
                            "  -36.7368\n",
                            "  -36.7368\n"
                        ],
                        "text/html": [
                            "<html><body><pre>logerr = 7×1 double\n",
                            "   -1.9146\n",
                            "   -4.1816\n",
                            "   -8.6344\n",
                            "  -17.5305\n",
                            "  -35.3505\n",
                            "  -36.7368\n",
                            "  -36.7368\n",
                            "</pre></body></html>"
                        ]
                    },
                    "metadata": {},
                    "execution_count": 6
                }
            ],
            "cell_type": "code",
            "source": [
                "format short\n",
                "logerr = log(abs(err))"
            ],
            "id": "b05e59a7",
            "metadata": {},
            "execution_count": 6
        },
        {
            "cell_type": "markdown",
            "source": [
                "The clear convergence to 2 above constitutes good evidence of quadratic convergence."
            ],
            "id": "20915707",
            "metadata": {}
        }
    ],
    "nbformat_minor": 5,
    "metadata": {
        "language_info": {
            "file_extension": ".m",
            "mimetype": "text/x-matlab",
            "name": "matlab"
        },
        "kernelspec": {
            "name": "jupyter_matlab_kernel",
            "display_name": "MATLAB Kernel",
            "language": "matlab"
        },
        "numbering": {
            "headings": false
        }
    },
    "nbformat": 4
}
