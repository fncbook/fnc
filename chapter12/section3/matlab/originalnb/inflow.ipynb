{
 "cells": [
  {
   "cell_type": "code",
   "execution_count": null,
   "id": "5f4a4fbf",
   "metadata": {
    "tags": [
     "remove-cell"
    ]
   },
   "outputs": [],
   "source": [
    "cd  /Users/driscoll/Documents/GitHub/fnc/matlab\n",
    "FNC_init"
   ]
  },
  {
   "cell_type": "markdown",
   "id": "e774cb7f",
   "metadata": {},
   "source": [
    "[**Demo %s**](#demo-absstab-inflow)\n",
    "\n",
    "Deleting the last row and column places all the eigenvalues of the discretization into the left half of the complex plane."
   ]
  },
  {
   "cell_type": "code",
   "execution_count": null,
   "id": "895c7635",
   "metadata": {},
   "outputs": [],
   "source": [
    "[x, Dx, Dxx] = diffcheb(40, [0, 1]);\n",
    "A = -Dx(2:end, 2:end);    % leave out first row and column\n",
    "lambda = eig(A);"
   ]
  },
  {
   "cell_type": "code",
   "execution_count": null,
   "id": "1df734b2",
   "metadata": {
    "tags": [
     "hide-input"
    ]
   },
   "outputs": [],
   "source": [
    "clf\n",
    "scatter(real(lambda), imag(lambda))\n",
    "axis equal,  grid on \n",
    "title('Eigenvalues of advection with zero inflow')"
   ]
  },
  {
   "cell_type": "markdown",
   "id": "29660a7d",
   "metadata": {},
   "source": [
    "Note that the rightmost eigenvalues have real part at most"
   ]
  },
  {
   "cell_type": "code",
   "execution_count": null,
   "id": "65ad88b2",
   "metadata": {},
   "outputs": [],
   "source": [
    "max(real(lambda))"
   ]
  },
  {
   "cell_type": "markdown",
   "id": "89b3833f",
   "metadata": {},
   "source": [
    "Consequently all solutions decay exponentially to zero as $t\\to\\infty$. This matches our observation of the solution: eventually, everything flows out of the domain."
   ]
  }
 ],
 "metadata": {
  "kernelspec": {
   "display_name": "MATLAB",
   "language": "matlab",
   "name": "jupyter_matlab_kernel"
  },
  "numbering": {
   "headings": false
  }
 },
 "nbformat": 4,
 "nbformat_minor": 5
}
