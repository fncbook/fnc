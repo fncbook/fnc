{
 "cells": [
  {
   "cell_type": "code",
   "execution_count": 1,
   "id": "5352319e",
   "metadata": {
    "execution": {
     "iopub.execute_input": "2025-01-11T17:56:58.451903Z",
     "iopub.status.busy": "2025-01-11T17:56:58.451529Z",
     "iopub.status.idle": "2025-01-11T17:56:59.012469Z",
     "shell.execute_reply": "2025-01-11T17:56:59.012101Z"
    },
    "tags": [
     "remove-cell"
    ]
   },
   "outputs": [],
   "source": [
    "exec(open(\"../../../python/FNC_init.py\").read())"
   ]
  },
  {
   "cell_type": "markdown",
   "id": "2b4fc3a8",
   "metadata": {},
   "source": [
    "[**Demo %s**](#demo-stability-quadgood)\n",
    "\n",
    "We repeat the rootfinding experiment of {numref}`Demo %s <demo-stability-quadbad>` with an alternative algorithm."
   ]
  },
  {
   "cell_type": "code",
   "execution_count": 2,
   "id": "c612cc98",
   "metadata": {
    "execution": {
     "iopub.execute_input": "2025-01-11T17:56:59.014130Z",
     "iopub.status.busy": "2025-01-11T17:56:59.013957Z",
     "iopub.status.idle": "2025-01-11T17:56:59.015992Z",
     "shell.execute_reply": "2025-01-11T17:56:59.015759Z"
    }
   },
   "outputs": [],
   "source": [
    "a = 1;  b = -(1e6 + 1e-6);  c = 1;"
   ]
  },
  {
   "cell_type": "markdown",
   "id": "90b9e8d7",
   "metadata": {},
   "source": [
    "First, we find the \"good\" root using the quadratic formula."
   ]
  },
  {
   "cell_type": "code",
   "execution_count": 3,
   "id": "899f8577",
   "metadata": {
    "execution": {
     "iopub.execute_input": "2025-01-11T17:56:59.017195Z",
     "iopub.status.busy": "2025-01-11T17:56:59.017116Z",
     "iopub.status.idle": "2025-01-11T17:56:59.018856Z",
     "shell.execute_reply": "2025-01-11T17:56:59.018622Z"
    }
   },
   "outputs": [],
   "source": [
    "x1 = (-b + sqrt(b**2 - 4*a*c)) / 2*a"
   ]
  },
  {
   "cell_type": "markdown",
   "id": "4b19bd96",
   "metadata": {},
   "source": [
    "Then we use the identity $x_1x_2=\\frac{c}{a}$ to compute the smaller root:"
   ]
  },
  {
   "cell_type": "code",
   "execution_count": 4,
   "id": "67eb93d4",
   "metadata": {
    "execution": {
     "iopub.execute_input": "2025-01-11T17:56:59.020066Z",
     "iopub.status.busy": "2025-01-11T17:56:59.019991Z",
     "iopub.status.idle": "2025-01-11T17:56:59.021757Z",
     "shell.execute_reply": "2025-01-11T17:56:59.021500Z"
    }
   },
   "outputs": [
    {
     "name": "stdout",
     "output_type": "stream",
     "text": [
      "1000000.0 1e-06\n"
     ]
    }
   ],
   "source": [
    "x2 = c / (a * x1)\n",
    "print(x1, x2)"
   ]
  },
  {
   "cell_type": "markdown",
   "id": "24e46f5d",
   "metadata": {},
   "source": [
    "To be sure we have an accurate result, we compute its relative error."
   ]
  },
  {
   "cell_type": "code",
   "execution_count": 5,
   "id": "662619f7",
   "metadata": {
    "execution": {
     "iopub.execute_input": "2025-01-11T17:56:59.022946Z",
     "iopub.status.busy": "2025-01-11T17:56:59.022868Z",
     "iopub.status.idle": "2025-01-11T17:56:59.024917Z",
     "shell.execute_reply": "2025-01-11T17:56:59.024682Z"
    }
   },
   "outputs": [
    {
     "name": "stdout",
     "output_type": "stream",
     "text": [
      "0.0\n"
     ]
    }
   ],
   "source": [
    "print(abs(x2 - 1e-6) / 1e-6)"
   ]
  }
 ],
 "metadata": {
  "kernelspec": {
   "display_name": "Python 3",
   "language": "python",
   "name": "python3"
  },
  "language_info": {
   "codemirror_mode": {
    "name": "ipython",
    "version": 3
   },
   "file_extension": ".py",
   "mimetype": "text/x-python",
   "name": "python",
   "nbconvert_exporter": "python",
   "pygments_lexer": "ipython3",
   "version": "3.13.0"
  },
  "numbering": {
   "headings": false
  }
 },
 "nbformat": 4,
 "nbformat_minor": 5
}
