{
    "cells": [
        {
            "outputs": [],
            "cell_type": "code",
            "source": [
                "exec(open(\"../../../python/FNC_init.py\").read())"
            ],
            "id": "6bc5ba83",
            "metadata": {
                "execution": {
                    "iopub.status.idle": "2025-01-14T20:16:35.605989Z",
                    "iopub.status.busy": "2025-01-14T20:16:34.956982Z",
                    "iopub.execute_input": "2025-01-14T20:16:34.957241Z",
                    "shell.execute_reply": "2025-01-14T20:16:35.605135Z"
                },
                "tags": [
                    "remove-cell"
                ]
            },
            "execution_count": 1
        },
        {
            "cell_type": "markdown",
            "source": [
                "[**Demo %s**](#demo-stability-roots)\n",
                "\n",
                "\n",
                "\n",
                "Our first step is to construct a polynomial with six known roots."
            ],
            "id": "ef252852",
            "metadata": {}
        },
        {
            "outputs": [
                {
                    "name": "stdout",
                    "output_type": "stream",
                    "text": [
                        "[  1.  -8.   6.  44. -43. -36.  36.]\n"
                    ]
                }
            ],
            "cell_type": "code",
            "source": [
                "r = [-2, -1, 1, 1, 3, 6]\n",
                "p = poly(r)\n",
                "print(p)"
            ],
            "id": "e4fd812e",
            "metadata": {
                "execution": {
                    "iopub.status.idle": "2025-01-14T20:16:35.616481Z",
                    "iopub.status.busy": "2025-01-14T20:16:35.608678Z",
                    "iopub.execute_input": "2025-01-14T20:16:35.609002Z",
                    "shell.execute_reply": "2025-01-14T20:16:35.612628Z"
                }
            },
            "execution_count": 2
        },
        {
            "cell_type": "markdown",
            "source": [
                "Now we use a standard numerical method for finding those roots, pretending that we don't know them already. This corresponds to $\\tilde{y}$ in {numref}`Definition {number} <definition-stability-backward>`."
            ],
            "id": "b3073e04",
            "metadata": {}
        },
        {
            "outputs": [
                {
                    "name": "stdout",
                    "output_type": "stream",
                    "text": [
                        "[-2.+0.00000000e+00j -1.+0.00000000e+00j  1.-1.31638218e-08j\n",
                        "  1.+1.31638218e-08j  3.+0.00000000e+00j  6.+0.00000000e+00j]\n"
                    ]
                }
            ],
            "cell_type": "code",
            "source": [
                "r_computed = sort(roots(p))\n",
                "print(r_computed)"
            ],
            "id": "d6b84fa3",
            "metadata": {
                "execution": {
                    "iopub.status.idle": "2025-01-14T20:16:35.624189Z",
                    "iopub.status.busy": "2025-01-14T20:16:35.618825Z",
                    "iopub.execute_input": "2025-01-14T20:16:35.619095Z",
                    "shell.execute_reply": "2025-01-14T20:16:35.623688Z"
                }
            },
            "execution_count": 3
        },
        {
            "cell_type": "markdown",
            "source": [
                "Here are the relative errors in each of the computed roots."
            ],
            "id": "3465479c",
            "metadata": {}
        },
        {
            "outputs": [
                {
                    "name": "stdout",
                    "output_type": "stream",
                    "text": [
                        "[-5.55111512e-16 -2.22044605e-16  1.31638218e-08  1.31638218e-08\n",
                        "  4.44089210e-16  1.33226763e-15]\n"
                    ]
                }
            ],
            "cell_type": "code",
            "source": [
                "print(abs(r - r_computed) / r)"
            ],
            "id": "14d86b0d",
            "metadata": {
                "execution": {
                    "iopub.status.idle": "2025-01-14T20:16:35.634078Z",
                    "iopub.status.busy": "2025-01-14T20:16:35.626593Z",
                    "iopub.execute_input": "2025-01-14T20:16:35.626836Z",
                    "shell.execute_reply": "2025-01-14T20:16:35.633456Z"
                }
            },
            "execution_count": 4
        },
        {
            "cell_type": "markdown",
            "source": [
                "It seems that the forward error is acceptably close to machine epsilon for double precision in all cases except the double root at $x=1$. This is not a surprise, though, given the poor conditioning at such roots.\n",
                "\n",
                "Let's consider the backward error. The data in the rootfinding problem is the polynomial coefficients. We can apply poly to find the coefficients of the polynomial (that is, the data) whose roots were actually computed by the numerical algorithm. This corresponds to $\\tilde{x}$ in {numref}`Definition {number} <definition-stability-backward>`."
            ],
            "id": "861e362d",
            "metadata": {}
        },
        {
            "outputs": [
                {
                    "name": "stdout",
                    "output_type": "stream",
                    "text": [
                        "[  1.  -8.   6.  44. -43. -36.  36.]\n"
                    ]
                }
            ],
            "cell_type": "code",
            "source": [
                "p_computed = poly(r_computed)\n",
                "print(p_computed)"
            ],
            "id": "e653f914",
            "metadata": {
                "execution": {
                    "iopub.status.idle": "2025-01-14T20:16:35.640818Z",
                    "iopub.status.busy": "2025-01-14T20:16:35.636656Z",
                    "iopub.execute_input": "2025-01-14T20:16:35.636929Z",
                    "shell.execute_reply": "2025-01-14T20:16:35.640229Z"
                }
            },
            "execution_count": 5
        },
        {
            "cell_type": "markdown",
            "source": [
                "We find that in a relative sense, these coefficients are very close to those of the original, exact polynomial:"
            ],
            "id": "f0ec3926",
            "metadata": {}
        },
        {
            "outputs": [
                {
                    "name": "stdout",
                    "output_type": "stream",
                    "text": [
                        "[ 0.00000000e+00 -1.11022302e-15  2.96059473e-15  1.45338287e-15\n",
                        " -3.63533493e-15 -1.38161088e-15  3.75008666e-15]\n"
                    ]
                }
            ],
            "cell_type": "code",
            "source": [
                "print(abs(p - p_computed) / p)"
            ],
            "id": "23fff87d",
            "metadata": {
                "execution": {
                    "iopub.status.idle": "2025-01-14T20:16:35.649749Z",
                    "iopub.status.busy": "2025-01-14T20:16:35.643637Z",
                    "iopub.execute_input": "2025-01-14T20:16:35.643912Z",
                    "shell.execute_reply": "2025-01-14T20:16:35.649205Z"
                }
            },
            "execution_count": 6
        },
        {
            "cell_type": "markdown",
            "source": [
                "In summary, even though there are some computed roots relatively far from their correct values, they are nevertheless the roots of a polynomial that is very close to the original."
            ],
            "id": "597f7555",
            "metadata": {}
        }
    ],
    "nbformat_minor": 5,
    "metadata": {
        "language_info": {
            "file_extension": ".py",
            "mimetype": "text/x-python",
            "name": "python",
            "nbconvert_exporter": "python",
            "pygments_lexer": "ipython3",
            "codemirror_mode": {
                "name": "ipython",
                "version": 3
            },
            "version": "3.13.0"
        },
        "kernelspec": {
            "name": "python3",
            "display_name": "Python 3",
            "language": "python"
        },
        "numbering": {
            "headings": false
        }
    },
    "nbformat": 4
}
