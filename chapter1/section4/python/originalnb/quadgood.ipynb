{
    "cells": [
        {
            "outputs": [],
            "cell_type": "code",
            "source": [
                "exec(open(\"../../../python/FNC_init.py\").read())"
            ],
            "id": "5352319e",
            "metadata": {
                "execution": {
                    "iopub.status.idle": "2025-01-14T20:16:35.729870Z",
                    "iopub.status.busy": "2025-01-14T20:16:35.077847Z",
                    "iopub.execute_input": "2025-01-14T20:16:35.078749Z",
                    "shell.execute_reply": "2025-01-14T20:16:35.728660Z"
                },
                "tags": [
                    "remove-cell"
                ]
            },
            "execution_count": 1
        },
        {
            "cell_type": "markdown",
            "source": [
                "[**Demo %s**](#demo-stability-quadgood)\n",
                "\n",
                "We repeat the rootfinding experiment of {numref}`Demo %s <demo-stability-quadbad>` with an alternative algorithm."
            ],
            "id": "2b4fc3a8",
            "metadata": {}
        },
        {
            "outputs": [],
            "cell_type": "code",
            "source": [
                "a = 1;  b = -(1e6 + 1e-6);  c = 1;"
            ],
            "id": "c612cc98",
            "metadata": {
                "execution": {
                    "iopub.status.idle": "2025-01-14T20:16:35.738540Z",
                    "iopub.status.busy": "2025-01-14T20:16:35.734432Z",
                    "iopub.execute_input": "2025-01-14T20:16:35.734840Z",
                    "shell.execute_reply": "2025-01-14T20:16:35.737341Z"
                }
            },
            "execution_count": 2
        },
        {
            "cell_type": "markdown",
            "source": [
                "First, we find the \"good\" root using the quadratic formula."
            ],
            "id": "90b9e8d7",
            "metadata": {}
        },
        {
            "outputs": [],
            "cell_type": "code",
            "source": [
                "x1 = (-b + sqrt(b**2 - 4*a*c)) / 2*a"
            ],
            "id": "899f8577",
            "metadata": {
                "execution": {
                    "iopub.status.idle": "2025-01-14T20:16:35.745232Z",
                    "iopub.status.busy": "2025-01-14T20:16:35.741240Z",
                    "iopub.execute_input": "2025-01-14T20:16:35.741731Z",
                    "shell.execute_reply": "2025-01-14T20:16:35.744623Z"
                }
            },
            "execution_count": 3
        },
        {
            "cell_type": "markdown",
            "source": [
                "Then we use the identity $x_1x_2=\\frac{c}{a}$ to compute the smaller root:"
            ],
            "id": "4b19bd96",
            "metadata": {}
        },
        {
            "outputs": [
                {
                    "name": "stdout",
                    "output_type": "stream",
                    "text": [
                        "1000000.0 1e-06\n"
                    ]
                }
            ],
            "cell_type": "code",
            "source": [
                "x2 = c / (a * x1)\n",
                "print(x1, x2)"
            ],
            "id": "67eb93d4",
            "metadata": {
                "execution": {
                    "iopub.status.idle": "2025-01-14T20:16:35.753144Z",
                    "iopub.status.busy": "2025-01-14T20:16:35.749914Z",
                    "iopub.execute_input": "2025-01-14T20:16:35.750231Z",
                    "shell.execute_reply": "2025-01-14T20:16:35.752627Z"
                }
            },
            "execution_count": 4
        },
        {
            "cell_type": "markdown",
            "source": [
                "To be sure we have an accurate result, we compute its relative error."
            ],
            "id": "24e46f5d",
            "metadata": {}
        },
        {
            "outputs": [
                {
                    "name": "stdout",
                    "output_type": "stream",
                    "text": [
                        "0.0\n"
                    ]
                }
            ],
            "cell_type": "code",
            "source": [
                "print(abs(x2 - 1e-6) / 1e-6)"
            ],
            "id": "662619f7",
            "metadata": {
                "execution": {
                    "iopub.status.idle": "2025-01-14T20:16:35.762742Z",
                    "iopub.status.busy": "2025-01-14T20:16:35.758360Z",
                    "iopub.execute_input": "2025-01-14T20:16:35.758947Z",
                    "shell.execute_reply": "2025-01-14T20:16:35.761770Z"
                }
            },
            "execution_count": 5
        }
    ],
    "nbformat_minor": 5,
    "metadata": {
        "language_info": {
            "file_extension": ".py",
            "mimetype": "text/x-python",
            "name": "python",
            "nbconvert_exporter": "python",
            "pygments_lexer": "ipython3",
            "codemirror_mode": {
                "name": "ipython",
                "version": 3
            },
            "version": "3.13.0"
        },
        "kernelspec": {
            "name": "python3",
            "display_name": "Python 3",
            "language": "python"
        },
        "numbering": {
            "headings": false
        }
    },
    "nbformat": 4
}
