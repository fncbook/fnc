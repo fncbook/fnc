{
 "cells": [
  {
   "cell_type": "code",
   "execution_count": 1,
   "id": "6bc5ba83",
   "metadata": {
    "execution": {
     "iopub.execute_input": "2025-01-11T17:57:00.029345Z",
     "iopub.status.busy": "2025-01-11T17:57:00.029205Z",
     "iopub.status.idle": "2025-01-11T17:57:00.359441Z",
     "shell.execute_reply": "2025-01-11T17:57:00.359024Z"
    },
    "tags": [
     "remove-cell"
    ]
   },
   "outputs": [],
   "source": [
    "exec(open(\"../../../python/FNC_init.py\").read())"
   ]
  },
  {
   "cell_type": "markdown",
   "id": "ef252852",
   "metadata": {},
   "source": [
    "[**Demo %s**](#demo-stability-roots)\n",
    "\n",
    "\n",
    "\n",
    "Our first step is to construct a polynomial with six known roots."
   ]
  },
  {
   "cell_type": "code",
   "execution_count": 2,
   "id": "e4fd812e",
   "metadata": {
    "execution": {
     "iopub.execute_input": "2025-01-11T17:57:00.361572Z",
     "iopub.status.busy": "2025-01-11T17:57:00.361371Z",
     "iopub.status.idle": "2025-01-11T17:57:00.363712Z",
     "shell.execute_reply": "2025-01-11T17:57:00.363467Z"
    }
   },
   "outputs": [
    {
     "name": "stdout",
     "output_type": "stream",
     "text": [
      "[  1.  -8.   6.  44. -43. -36.  36.]\n"
     ]
    }
   ],
   "source": [
    "r = [-2, -1, 1, 1, 3, 6]\n",
    "p = poly(r)\n",
    "print(p)"
   ]
  },
  {
   "cell_type": "markdown",
   "id": "b3073e04",
   "metadata": {},
   "source": [
    "Now we use a standard numerical method for finding those roots, pretending that we don't know them already. This corresponds to $\\tilde{y}$ in {numref}`Definition {number} <definition-stability-backward>`."
   ]
  },
  {
   "cell_type": "code",
   "execution_count": 3,
   "id": "d6b84fa3",
   "metadata": {
    "execution": {
     "iopub.execute_input": "2025-01-11T17:57:00.364935Z",
     "iopub.status.busy": "2025-01-11T17:57:00.364832Z",
     "iopub.status.idle": "2025-01-11T17:57:00.371054Z",
     "shell.execute_reply": "2025-01-11T17:57:00.370811Z"
    }
   },
   "outputs": [
    {
     "name": "stdout",
     "output_type": "stream",
     "text": [
      "[-2.+0.00000000e+00j -1.+0.00000000e+00j  1.-1.31638218e-08j\n",
      "  1.+1.31638218e-08j  3.+0.00000000e+00j  6.+0.00000000e+00j]\n"
     ]
    }
   ],
   "source": [
    "r_computed = sort(roots(p))\n",
    "print(r_computed)"
   ]
  },
  {
   "cell_type": "markdown",
   "id": "3465479c",
   "metadata": {},
   "source": [
    "Here are the relative errors in each of the computed roots."
   ]
  },
  {
   "cell_type": "code",
   "execution_count": 4,
   "id": "14d86b0d",
   "metadata": {
    "execution": {
     "iopub.execute_input": "2025-01-11T17:57:00.372280Z",
     "iopub.status.busy": "2025-01-11T17:57:00.372185Z",
     "iopub.status.idle": "2025-01-11T17:57:00.374096Z",
     "shell.execute_reply": "2025-01-11T17:57:00.373872Z"
    }
   },
   "outputs": [
    {
     "name": "stdout",
     "output_type": "stream",
     "text": [
      "[-5.55111512e-16 -2.22044605e-16  1.31638218e-08  1.31638218e-08\n",
      "  4.44089210e-16  1.33226763e-15]\n"
     ]
    }
   ],
   "source": [
    "print(abs(r - r_computed) / r)"
   ]
  },
  {
   "cell_type": "markdown",
   "id": "861e362d",
   "metadata": {},
   "source": [
    "It seems that the forward error is acceptably close to machine epsilon for double precision in all cases except the double root at $x=1$. This is not a surprise, though, given the poor conditioning at such roots.\n",
    "\n",
    "Let's consider the backward error. The data in the rootfinding problem is the polynomial coefficients. We can apply poly to find the coefficients of the polynomial (that is, the data) whose roots were actually computed by the numerical algorithm. This corresponds to $\\tilde{x}$ in {numref}`Definition {number} <definition-stability-backward>`."
   ]
  },
  {
   "cell_type": "code",
   "execution_count": 5,
   "id": "e653f914",
   "metadata": {
    "execution": {
     "iopub.execute_input": "2025-01-11T17:57:00.375207Z",
     "iopub.status.busy": "2025-01-11T17:57:00.375112Z",
     "iopub.status.idle": "2025-01-11T17:57:00.376944Z",
     "shell.execute_reply": "2025-01-11T17:57:00.376740Z"
    }
   },
   "outputs": [
    {
     "name": "stdout",
     "output_type": "stream",
     "text": [
      "[  1.  -8.   6.  44. -43. -36.  36.]\n"
     ]
    }
   ],
   "source": [
    "p_computed = poly(r_computed)\n",
    "print(p_computed)"
   ]
  },
  {
   "cell_type": "markdown",
   "id": "f0ec3926",
   "metadata": {},
   "source": [
    "We find that in a relative sense, these coefficients are very close to those of the original, exact polynomial:"
   ]
  },
  {
   "cell_type": "code",
   "execution_count": 6,
   "id": "23fff87d",
   "metadata": {
    "execution": {
     "iopub.execute_input": "2025-01-11T17:57:00.378118Z",
     "iopub.status.busy": "2025-01-11T17:57:00.377966Z",
     "iopub.status.idle": "2025-01-11T17:57:00.379742Z",
     "shell.execute_reply": "2025-01-11T17:57:00.379474Z"
    }
   },
   "outputs": [
    {
     "name": "stdout",
     "output_type": "stream",
     "text": [
      "[ 0.00000000e+00 -1.11022302e-15  2.96059473e-15  1.45338287e-15\n",
      " -3.63533493e-15 -1.38161088e-15  3.75008666e-15]\n"
     ]
    }
   ],
   "source": [
    "print(abs(p - p_computed) / p)"
   ]
  },
  {
   "cell_type": "markdown",
   "id": "597f7555",
   "metadata": {},
   "source": [
    "In summary, even though there are some computed roots relatively far from their correct values, they are nevertheless the roots of a polynomial that is very close to the original."
   ]
  }
 ],
 "metadata": {
  "kernelspec": {
   "display_name": "Python 3",
   "language": "python",
   "name": "python3"
  },
  "language_info": {
   "codemirror_mode": {
    "name": "ipython",
    "version": 3
   },
   "file_extension": ".py",
   "mimetype": "text/x-python",
   "name": "python",
   "nbconvert_exporter": "python",
   "pygments_lexer": "ipython3",
   "version": "3.13.0"
  },
  "numbering": {
   "headings": false
  }
 },
 "nbformat": 4,
 "nbformat_minor": 5
}
