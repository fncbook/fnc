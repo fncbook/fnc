{
    "cells": [
        {
            "cell_type": "markdown",
            "source": [
                "[**Demo %s**](#demo-stability-quadgood)\n",
                "\n",
                "We repeat the rootfinding experiment of {numref}`Demo %s <demo-stability-quadbad>` with an alternative algorithm."
            ],
            "id": "9664ebb2",
            "metadata": {}
        },
        {
            "outputs": [],
            "cell_type": "code",
            "source": [
                "a = 1;  b = -(1e6 + 1e-6);  c = 1;"
            ],
            "id": "eb4e0097",
            "metadata": {
                "execution": {
                    "iopub.status.idle": "2025-01-11T18:52:23.164995Z",
                    "iopub.status.busy": "2025-01-11T18:52:23.162989Z",
                    "iopub.execute_input": "2025-01-11T18:52:23.163066Z",
                    "shell.execute_reply": "2025-01-11T18:52:23.164560Z"
                }
            },
            "execution_count": 2
        },
        {
            "cell_type": "markdown",
            "source": [
                "First, we find the \"good\" root using the quadratic formula."
            ],
            "id": "a36ef5c1",
            "metadata": {}
        },
        {
            "outputs": [],
            "cell_type": "code",
            "source": [
                "x1 = (-b + sqrt(b^2 - 4*a*c)) / (2*a);"
            ],
            "id": "f54dc4b6",
            "metadata": {
                "execution": {
                    "iopub.status.idle": "2025-01-11T18:52:23.168082Z",
                    "iopub.status.busy": "2025-01-11T18:52:23.166357Z",
                    "iopub.execute_input": "2025-01-11T18:52:23.166447Z",
                    "shell.execute_reply": "2025-01-11T18:52:23.167806Z"
                }
            },
            "execution_count": 3
        },
        {
            "cell_type": "markdown",
            "source": [
                "Then we use the identity $x_1x_2=\\frac{c}{a}$ to compute the smaller root:"
            ],
            "id": "6308e9a7",
            "metadata": {}
        },
        {
            "outputs": [
                {
                    "output_type": "execute_result",
                    "data": {
                        "text/plain": [
                            "x2 = 1.0000e-06"
                        ],
                        "text/html": [
                            "<html><body><pre>x2 = 1.0000e-06</pre></body></html>"
                        ]
                    },
                    "metadata": {},
                    "execution_count": 4
                }
            ],
            "cell_type": "code",
            "source": [
                "x2 = c / (a*x1)"
            ],
            "id": "ecb73e18",
            "metadata": {
                "execution": {
                    "iopub.status.idle": "2025-01-11T18:52:23.172119Z",
                    "iopub.status.busy": "2025-01-11T18:52:23.170449Z",
                    "iopub.execute_input": "2025-01-11T18:52:23.170547Z",
                    "shell.execute_reply": "2025-01-11T18:52:23.171810Z"
                }
            },
            "execution_count": 4
        },
        {
            "cell_type": "markdown",
            "source": [
                "This matches the exact root to the displayed digits; to be sure we have an accurate result, we compute its relative error."
            ],
            "id": "67f1e6c5",
            "metadata": {}
        },
        {
            "outputs": [
                {
                    "output_type": "execute_result",
                    "data": {
                        "text/plain": [
                            "ans = 0"
                        ],
                        "text/html": [
                            "<html><body><pre>ans = 0</pre></body></html>"
                        ]
                    },
                    "metadata": {},
                    "execution_count": 5
                }
            ],
            "cell_type": "code",
            "source": [
                "abs(x2 - 1e-6) / 1e-6"
            ],
            "id": "e6316ff6",
            "metadata": {
                "execution": {
                    "iopub.status.idle": "2025-01-11T18:52:23.175401Z",
                    "iopub.status.busy": "2025-01-11T18:52:23.173544Z",
                    "iopub.execute_input": "2025-01-11T18:52:23.173644Z",
                    "shell.execute_reply": "2025-01-11T18:52:23.175127Z"
                }
            },
            "execution_count": 5
        }
    ],
    "nbformat_minor": 5,
    "metadata": {
        "language_info": {
            "file_extension": ".m",
            "mimetype": "text/x-matlab",
            "name": "matlab"
        },
        "kernelspec": {
            "name": "jupyter_matlab_kernel",
            "display_name": "MATLAB Kernel",
            "language": "matlab"
        },
        "numbering": {
            "headings": false
        }
    },
    "nbformat": 4
}
