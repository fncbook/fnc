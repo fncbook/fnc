{
    "cells": [
        {
            "cell_type": "markdown",
            "source": [
                "[**Demo %s**](#demo-stability-quadbad)\n",
                "\n",
                "\n",
                "```{index} ! MATLAB; scientific notation\n",
                "```\n",
                "\n",
                "We apply the quadratic formula to find the roots of a quadratic via {eq}`quadunstable`. \n",
                "\n",
                "```{tip}\n",
                ":class: dropdown\n",
                "A number in scientific notation is entered as `1.23e4` rather than as `1.23 * 10^4`.\n",
                "```"
            ],
            "id": "7be16e8a",
            "metadata": {}
        },
        {
            "outputs": [
                {
                    "output_type": "execute_result",
                    "data": {
                        "text/plain": [
                            "x1 = 1000000"
                        ],
                        "text/html": [
                            "<html><body><pre>x1 = 1000000</pre></body></html>"
                        ]
                    },
                    "metadata": {},
                    "execution_count": 2
                },
                {
                    "output_type": "execute_result",
                    "data": {
                        "text/plain": [
                            "x2 = 1.0000e-06"
                        ],
                        "text/html": [
                            "<html><body><pre>x2 = 1.0000e-06</pre></body></html>"
                        ]
                    },
                    "metadata": {},
                    "execution_count": 2
                }
            ],
            "cell_type": "code",
            "source": [
                "a = 1;  b = -(1e6 + 1e-6);  c = 1;\n",
                "x1 = (-b + sqrt(b^2 - 4*a*c)) / (2*a)\n",
                "x2 = (-b - sqrt(b^2 - 4*a*c)) / (2*a)"
            ],
            "id": "0d357a1e",
            "metadata": {
                "execution": {
                    "iopub.status.idle": "2025-01-11T18:52:19.829776Z",
                    "iopub.status.busy": "2025-01-11T18:52:19.827978Z",
                    "iopub.execute_input": "2025-01-11T18:52:19.828045Z",
                    "shell.execute_reply": "2025-01-11T18:52:19.829435Z"
                }
            },
            "execution_count": 2
        },
        {
            "cell_type": "markdown",
            "source": [
                "The first value is correct to all stored digits, but the second has fewer than six accurate digits:"
            ],
            "id": "8e6331b2",
            "metadata": {}
        },
        {
            "outputs": [
                {
                    "output_type": "execute_result",
                    "data": {
                        "text/plain": [
                            "error = 7.6145e-06"
                        ],
                        "text/html": [
                            "<html><body><pre>error = 7.6145e-06</pre></body></html>"
                        ]
                    },
                    "metadata": {},
                    "execution_count": 3
                },
                {
                    "output_type": "execute_result",
                    "data": {
                        "text/plain": [
                            "accurate_digits = 5.1184"
                        ],
                        "text/html": [
                            "<html><body><pre>accurate_digits = 5.1184</pre></body></html>"
                        ]
                    },
                    "metadata": {},
                    "execution_count": 3
                }
            ],
            "cell_type": "code",
            "source": [
                "error = abs(x2 - 1e-6) / 1e-6 \n",
                "accurate_digits = -log10(error)"
            ],
            "id": "d5b51a78",
            "metadata": {
                "execution": {
                    "iopub.status.idle": "2025-01-11T18:52:19.833513Z",
                    "iopub.status.busy": "2025-01-11T18:52:19.831502Z",
                    "iopub.execute_input": "2025-01-11T18:52:19.831581Z",
                    "shell.execute_reply": "2025-01-11T18:52:19.833226Z"
                }
            },
            "execution_count": 3
        },
        {
            "cell_type": "markdown",
            "source": [
                " The instability is easily explained. Since $a=c=1$, we treat them as exact numbers. First, we compute the condition numbers with respect to $b$ for each elementary step in finding the \"good\" root:\n",
                "\n",
                "| Calculation | Result | $\\kappa$ |\n",
                "|:------------|:-------|:---------|\n",
                "|$u_1 = b^2$  | $1.000000000002000\\times 10^{12}$ |  2 |\n",
                "|$u_2 = u_1 - 4$ | $9.999999999980000\\times 10^{11}$  | $\\approx 1.00$ |\n",
                "|$u_3 = \\sqrt{u_2}$ | $999999.9999990000$ | 1/2 |\n",
                "|$u_4 = u_3 - b$ | $2000000$ | $\\approx 0.500$ |\n",
                "|$u_5 = u_4/2$ | $1000000$  | 1 |\n",
                "\n",
                "Using {eq}`condition-chain`, the chain rule for condition numbers, the conditioning of the entire chain is the product of the individual steps, so there is essentially no growth of relative error here. However, if we use the quadratic formula for the \"bad\" root, the next-to-last step becomes $u_4=(-u_3) - b$, and now  $\\kappa=|u_3|/|u_4|\\approx 5\\times 10^{11}$. So we can expect to lose 11 digits of accuracy, which is what we observed. The key issue is the subtractive cancellation in this one step."
            ],
            "id": "843ee7b3",
            "metadata": {}
        }
    ],
    "nbformat_minor": 5,
    "metadata": {
        "language_info": {
            "file_extension": ".m",
            "mimetype": "text/x-matlab",
            "name": "matlab"
        },
        "kernelspec": {
            "name": "jupyter_matlab_kernel",
            "display_name": "MATLAB Kernel",
            "language": "matlab"
        },
        "numbering": {
            "headings": false
        }
    },
    "nbformat": 4
}
