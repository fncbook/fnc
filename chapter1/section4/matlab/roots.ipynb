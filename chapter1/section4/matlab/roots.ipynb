{
 "cells": [
  {
   "cell_type": "code",
   "execution_count": 1,
   "id": "39c3ace1",
   "metadata": {
    "tags": [
     "remove-cell"
    ]
   },
   "outputs": [],
   "source": [
    "cd  /Users/driscoll/Documents/GitHub/fnc/matlab\n",
    "FNC_init"
   ]
  },
  {
   "cell_type": "markdown",
   "id": "88781d21",
   "metadata": {},
   "source": [
    "[**Demo %s**](#demo-stability-roots)\n",
    "\n",
    "\n",
    "\n",
    "Our first step is to construct a polynomial with six known roots.\n",
    "```{tip}\n",
    ":class: dropdown\n",
    "The `'` operator is used for transposition. Here, we want to make `r` a column vector.\n",
    "```"
   ]
  },
  {
   "cell_type": "code",
   "execution_count": 2,
   "id": "1f2edb2f",
   "metadata": {},
   "outputs": [
    {
     "data": {
      "text/html": [
       "<html><body><pre>p = 1×7 double\n",
       "     1    -8     6    44   -43   -36    36\n",
       "</pre></body></html>"
      ],
      "text/plain": [
       "p = 1×7 double\n",
       "     1    -8     6    44   -43   -36    36\n"
      ]
     },
     "execution_count": 2,
     "metadata": {},
     "output_type": "execute_result"
    }
   ],
   "source": [
    "r = [-2 ,-1, 1, 1, 3, 6]';\n",
    "p = poly(r)"
   ]
  },
  {
   "cell_type": "markdown",
   "id": "2def0bac",
   "metadata": {},
   "source": [
    "Now we use a standard numerical method for finding those roots, pretending that we don't know them already. This corresponds to $\\tilde{y}$ in {numref}`Definition {number} <definition-stability-backward>`."
   ]
  },
  {
   "cell_type": "code",
   "execution_count": 3,
   "id": "327c640c",
   "metadata": {},
   "outputs": [
    {
     "data": {
      "text/html": [
       "<html><body><pre>rr = 6×1 double\n",
       "   -2.0000\n",
       "   -1.0000\n",
       "    1.0000\n",
       "    1.0000\n",
       "    3.0000\n",
       "    6.0000\n",
       "</pre></body></html>"
      ],
      "text/plain": [
       "rr = 6×1 double\n",
       "   -2.0000\n",
       "   -1.0000\n",
       "    1.0000\n",
       "    1.0000\n",
       "    3.0000\n",
       "    6.0000\n"
      ]
     },
     "execution_count": 3,
     "metadata": {},
     "output_type": "execute_result"
    }
   ],
   "source": [
    "rr = sort(roots(p))   "
   ]
  },
  {
   "cell_type": "markdown",
   "id": "10ba9284",
   "metadata": {},
   "source": [
    "Here are the relative errors in each of the computed roots. \n",
    "```{tip}\n",
    ":class: dropdown\n",
    "The `./` operator is used for element-wise division.\n",
    "```"
   ]
  },
  {
   "cell_type": "code",
   "execution_count": 4,
   "id": "2709b581",
   "metadata": {},
   "outputs": [
    {
     "name": "stdout",
     "output_type": "stream",
     "text": [
      "Root errors:\n"
     ]
    },
    {
     "data": {
      "text/html": [
       "<html><body><pre>ans = 6×1 double\n",
       "1.0e-08 *\n",
       "\n",
       "   -0.0000\n",
       "   -0.0000\n",
       "    0.8534\n",
       "    0.8534\n",
       "         0\n",
       "    0.0000\n",
       "</pre></body></html>"
      ],
      "text/plain": [
       "ans = 6×1 double\n",
       "1.0e-08 *\n",
       "\n",
       "   -0.0000\n",
       "   -0.0000\n",
       "    0.8534\n",
       "    0.8534\n",
       "         0\n",
       "    0.0000\n"
      ]
     },
     "execution_count": 4,
     "metadata": {},
     "output_type": "execute_result"
    }
   ],
   "source": [
    "disp(\"Root errors:\") \n",
    "abs(r - rr) ./ r"
   ]
  },
  {
   "cell_type": "markdown",
   "id": "fc3a778d",
   "metadata": {},
   "source": [
    "It seems that the forward error is acceptably close to machine epsilon for double precision in all cases except the double root at $x=1$. This is not a surprise, though, given the poor conditioning at such roots.\n",
    "\n",
    "Let's consider the backward error. The data in the rootfinding problem is the polynomial coefficients. We can apply `poly` to find the coefficients of the polynomial (that is, the data) whose roots were actually computed by the numerical algorithm. This corresponds to $\\tilde{x}$ in {numref}`Definition {number} <definition-stability-backward>`."
   ]
  },
  {
   "cell_type": "code",
   "execution_count": 5,
   "id": "b7099d24",
   "metadata": {},
   "outputs": [
    {
     "data": {
      "text/html": [
       "<html><body><pre>pp = 1×7 double\n",
       "    1.0000   -8.0000    6.0000   44.0000  -43.0000  -36.0000   36.0000\n",
       "</pre></body></html>"
      ],
      "text/plain": [
       "pp = 1×7 double\n",
       "    1.0000   -8.0000    6.0000   44.0000  -43.0000  -36.0000   36.0000\n"
      ]
     },
     "execution_count": 5,
     "metadata": {},
     "output_type": "execute_result"
    }
   ],
   "source": [
    "pp = poly(rr)"
   ]
  },
  {
   "cell_type": "markdown",
   "id": "22aa1cc9",
   "metadata": {},
   "source": [
    "We find that in a relative sense, these coefficients are very close to those of the original, exact polynomial:"
   ]
  },
  {
   "cell_type": "code",
   "execution_count": 6,
   "id": "1ac0a6c0",
   "metadata": {},
   "outputs": [
    {
     "name": "stdout",
     "output_type": "stream",
     "text": [
      "Coefficient errors:\n"
     ]
    },
    {
     "data": {
      "text/html": [
       "<html><body><pre>ans = 1×7 double\n",
       "1.0e-14 *\n",
       "\n",
       "         0    0.0777    0.1628    0.1130    0.1157    0.3158    0.3355\n",
       "</pre></body></html>"
      ],
      "text/plain": [
       "ans = 1×7 double\n",
       "1.0e-14 *\n",
       "\n",
       "         0    0.0777    0.1628    0.1130    0.1157    0.3158    0.3355\n"
      ]
     },
     "execution_count": 6,
     "metadata": {},
     "output_type": "execute_result"
    }
   ],
   "source": [
    "disp(\"Coefficient errors:\") \n",
    "abs(p - pp) ./ abs(p)"
   ]
  },
  {
   "cell_type": "markdown",
   "id": "fe2ba2e4",
   "metadata": {},
   "source": [
    "In summary, even though there are some computed roots relatively far from their correct values, they are nevertheless the roots of a polynomial that is very close to the original."
   ]
  }
 ],
 "metadata": {
  "kernelspec": {
   "display_name": "MATLAB Kernel",
   "language": "matlab",
   "name": "jupyter_matlab_kernel"
  },
  "language_info": {
   "file_extension": ".m",
   "mimetype": "text/x-matlab",
   "name": "matlab"
  },
  "numbering": {
   "headings": false
  }
 },
 "nbformat": 4,
 "nbformat_minor": 5
}
