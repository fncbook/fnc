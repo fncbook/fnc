{
 "cells": [
  {
   "cell_type": "code",
   "execution_count": null,
   "id": "8b6a56e0",
   "metadata": {
    "tags": [
     "remove-cell"
    ]
   },
   "outputs": [],
   "source": [
    "include(\"../../../julia/FNC_init.jl\")"
   ]
  },
  {
   "cell_type": "markdown",
   "id": "463f92e0",
   "metadata": {},
   "source": [
    "[**Demo %s**](#demo-stability-roots)\n",
    "\n",
    "For this example we will use the `Polynomials` package, which you may need to install. You can do this by running the following command in the Julia REPL:\n",
    "\n",
    "```julia\n",
    "using Pkg\n",
    "Pkg.add(\"Polynomials\")\n",
    "```  \n",
    "\n",
    "```{warning}\n",
    "In the rest of the book, we do not show the `using` statement needed to load the book's package, but you will need to enter it if you want to run the codes yourself. We also won't always point out a package that you need to install.\n",
    "```\n",
    "\n",
    "Our first step is to construct a polynomial with six known roots."
   ]
  },
  {
   "cell_type": "code",
   "execution_count": 1,
   "id": "6ff164bc",
   "metadata": {
    "execution": {
     "iopub.execute_input": "2025-01-04T15:19:18.261000Z",
     "iopub.status.busy": "2025-01-04T15:19:17.994000Z",
     "iopub.status.idle": "2025-01-04T15:19:19.657000Z",
     "shell.execute_reply": "2025-01-04T15:19:19.639000Z"
    }
   },
   "outputs": [
    {
     "data": {
      "text/html": [
       "36.0 &#45; 36.0&#8729;x &#45; 43.0&#8729;x<sup>2</sup> &#43; 44.0&#8729;x<sup>3</sup> &#43; 6.0&#8729;x<sup>4</sup> &#45; 8.0&#8729;x<sup>5</sup> &#43; 1.0&#8729;x<sup>6</sup>"
      ],
      "text/latex": [
       "$36.0 - 36.0\\cdot x - 43.0\\cdot x^{2} + 44.0\\cdot x^{3} + 6.0\\cdot x^{4} - 8.0\\cdot x^{5} + 1.0\\cdot x^{6}$"
      ],
      "text/plain": [
       "Polynomial(36.0 - 36.0*x - 43.0*x^2 + 44.0*x^3 + 6.0*x^4 - 8.0*x^5 + 1.0*x^6)"
      ]
     },
     "execution_count": 1,
     "metadata": {},
     "output_type": "execute_result"
    }
   ],
   "source": [
    "using Polynomials\n",
    "r = [-2.0, -1, 1, 1, 3, 6]\n",
    "p = fromroots(r)"
   ]
  },
  {
   "cell_type": "markdown",
   "id": "050d3198",
   "metadata": {},
   "source": [
    "Now we use a standard numerical method for finding those roots, pretending that we don't know them already. This corresponds to $\\tilde{y}$ in {numref}`Definition {number} <definition-stability-backward>`."
   ]
  },
  {
   "cell_type": "code",
   "execution_count": 2,
   "id": "d0076c26",
   "metadata": {
    "execution": {
     "iopub.execute_input": "2025-01-04T15:19:19.729000Z",
     "iopub.status.busy": "2025-01-04T15:19:19.658000Z",
     "iopub.status.idle": "2025-01-04T15:19:20.774000Z",
     "shell.execute_reply": "2025-01-04T15:19:20.774000Z"
    }
   },
   "outputs": [
    {
     "data": {
      "text/plain": [
       "6-element Vector{Float64}:\n",
       " -1.9999999999999993\n",
       " -1.0000000000000002\n",
       "  0.9999999876576552\n",
       "  1.0000000123423434\n",
       "  3.0000000000000036\n",
       "  5.999999999999993"
      ]
     },
     "execution_count": 2,
     "metadata": {},
     "output_type": "execute_result"
    }
   ],
   "source": [
    "r̃ = sort(roots(p))   # type r\\tilde and then press Tab"
   ]
  },
  {
   "cell_type": "markdown",
   "id": "0db58b1f",
   "metadata": {},
   "source": [
    "```{index} ! Julia; @., Julia; broadcasting\n",
    "```\n",
    "\n",
    "Here are the relative errors in each of the computed roots. \n",
    "\n",
    "```{tip}\n",
    "The `@.` notation at the start means to do the given operations on each element of the given vectors.\n",
    "```"
   ]
  },
  {
   "cell_type": "code",
   "execution_count": 3,
   "id": "d2cb1ed1",
   "metadata": {
    "execution": {
     "iopub.execute_input": "2025-01-04T15:19:20.776000Z",
     "iopub.status.busy": "2025-01-04T15:19:20.776000Z",
     "iopub.status.idle": "2025-01-04T15:19:20.841000Z",
     "shell.execute_reply": "2025-01-04T15:19:20.840000Z"
    }
   },
   "outputs": [
    {
     "name": "stdout",
     "output_type": "stream",
     "text": [
      "Root errors:\n"
     ]
    },
    {
     "data": {
      "text/plain": [
       "6-element Vector{Float64}:\n",
       " -3.3306690738754696e-16\n",
       " -2.220446049250313e-16\n",
       "  1.2342344812843464e-8\n",
       "  1.2342343369553532e-8\n",
       "  1.1842378929335002e-15\n",
       "  1.1842378929335002e-15"
      ]
     },
     "execution_count": 3,
     "metadata": {},
     "output_type": "execute_result"
    }
   ],
   "source": [
    "println(\"Root errors:\") \n",
    "@. abs(r - r̃) / r"
   ]
  },
  {
   "cell_type": "markdown",
   "id": "880d1070",
   "metadata": {},
   "source": [
    "It seems that the forward error is acceptably close to machine epsilon for double precision in all cases except the double root at $x=1$. This is not a surprise, though, given the poor conditioning at such roots.\n",
    "\n",
    "Let's consider the backward error. The data in the rootfinding problem is the polynomial coefficients. We can apply `fromroots` to find the coefficients of the polynomial (that is, the data) whose roots were actually computed by the numerical algorithm. This corresponds to $\\tilde{x}$ in {numref}`Definition {number} <definition-stability-backward>`."
   ]
  },
  {
   "cell_type": "code",
   "execution_count": 4,
   "id": "66853839",
   "metadata": {
    "execution": {
     "iopub.execute_input": "2025-01-04T15:19:20.842000Z",
     "iopub.status.busy": "2025-01-04T15:19:20.842000Z",
     "iopub.status.idle": "2025-01-04T15:19:20.854000Z",
     "shell.execute_reply": "2025-01-04T15:19:20.853000Z"
    }
   },
   "outputs": [
    {
     "data": {
      "text/html": [
       "35.999999999999936 &#45; 35.99999999999999&#8729;x &#45; 42.99999999999993&#8729;x<sup>2</sup> &#43; 43.99999999999997&#8729;x<sup>3</sup> &#43; 5.999999999999998&#8729;x<sup>4</sup> &#45; 7.999999999999996&#8729;x<sup>5</sup> &#43; 1.0&#8729;x<sup>6</sup>"
      ],
      "text/latex": [
       "$35.999999999999936 - 35.99999999999999\\cdot x - 42.99999999999993\\cdot x^{2} + 43.99999999999997\\cdot x^{3} + 5.999999999999998\\cdot x^{4} - 7.999999999999996\\cdot x^{5} + 1.0\\cdot x^{6}$"
      ],
      "text/plain": [
       "Polynomial(35.999999999999936 - 35.99999999999999*x - 42.99999999999993*x^2 + 43.99999999999997*x^3 + 5.999999999999998*x^4 - 7.999999999999996*x^5 + 1.0*x^6)"
      ]
     },
     "execution_count": 4,
     "metadata": {},
     "output_type": "execute_result"
    }
   ],
   "source": [
    "p̃ = fromroots(r̃)"
   ]
  },
  {
   "cell_type": "markdown",
   "id": "47c77369",
   "metadata": {},
   "source": [
    "We find that in a relative sense, these coefficients are very close to those of the original, exact polynomial:"
   ]
  },
  {
   "cell_type": "code",
   "execution_count": 5,
   "id": "34468ca6",
   "metadata": {
    "execution": {
     "iopub.execute_input": "2025-01-04T15:19:20.855000Z",
     "iopub.status.busy": "2025-01-04T15:19:20.855000Z",
     "iopub.status.idle": "2025-01-04T15:19:20.858000Z",
     "shell.execute_reply": "2025-01-04T15:19:20.858000Z"
    }
   },
   "outputs": [
    {
     "name": "stdout",
     "output_type": "stream",
     "text": [
      "Coefficient errors:\n"
     ]
    },
    {
     "data": {
      "text/plain": [
       "7-element Vector{Float64}:\n",
       "  1.7763568394002505e-15\n",
       " -1.9737298215558337e-16\n",
       " -1.6524249668839539e-15\n",
       "  6.459479416000911e-16\n",
       "  2.9605947323337506e-16\n",
       " -5.551115123125783e-16\n",
       "  0.0"
      ]
     },
     "execution_count": 5,
     "metadata": {},
     "output_type": "execute_result"
    }
   ],
   "source": [
    "c,c̃ = coeffs(p), coeffs(p̃)\n",
    "println(\"Coefficient errors:\") \n",
    "@. abs(c - c̃) / c"
   ]
  },
  {
   "cell_type": "markdown",
   "id": "dd0ec0d5",
   "metadata": {},
   "source": [
    "In summary, even though there are some computed roots relatively far from their correct values, they are nevertheless the roots of a polynomial that is very close to the original."
   ]
  }
 ],
 "metadata": {
  "kernelspec": {
   "display_name": "Julia 1",
   "language": "julia",
   "name": "julia-1.11"
  },
  "language_info": {
   "file_extension": ".jl",
   "mimetype": "application/julia",
   "name": "julia",
   "version": "1.11.2"
  },
  "numbering": {
   "headings": false
  }
 },
 "nbformat": 4,
 "nbformat_minor": 5
}
