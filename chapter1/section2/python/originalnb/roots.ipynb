{
    "cells": [
        {
            "outputs": [],
            "cell_type": "code",
            "source": [
                "exec(open(\"../../../python/FNC_init.py\").read())"
            ],
            "id": "f17a03bc",
            "metadata": {
                "execution": {
                    "iopub.status.idle": "2025-01-14T20:16:23.242805Z",
                    "iopub.status.busy": "2025-01-14T20:16:22.447764Z",
                    "iopub.execute_input": "2025-01-14T20:16:22.448600Z",
                    "shell.execute_reply": "2025-01-14T20:16:23.242161Z"
                },
                "tags": [
                    "remove-cell"
                ]
            },
            "execution_count": 1
        },
        {
            "cell_type": "markdown",
            "source": [
                "[**Demo %s**](#demo-condition-roots)\n",
                "\n",
                "\n",
                "The polynomial $p(x) = \\frac{1}{3}(x-1)(x-1-\\epsilon)$ has roots $1$ and $1+\\epsilon$. For small values of $\\epsilon$, the roots are ill-conditioned. \n",
                "\n",
                "```{tip}\n",
                ":class: dropdown\n",
                "The statement `x, y = 10, 20` makes individual assignments to both `x` and `y`.\n",
                "```"
            ],
            "id": "c0018f5c",
            "metadata": {}
        },
        {
            "outputs": [],
            "cell_type": "code",
            "source": [
                "ep = 1e-6   \n",
                "a, b, c = 1/3, (-2 - ep) / 3, (1 + ep) / 3   # coefficients of p"
            ],
            "id": "1df1fd06",
            "metadata": {
                "execution": {
                    "iopub.status.idle": "2025-01-14T20:16:23.250981Z",
                    "iopub.status.busy": "2025-01-14T20:16:23.246781Z",
                    "iopub.execute_input": "2025-01-14T20:16:23.247300Z",
                    "shell.execute_reply": "2025-01-14T20:16:23.250473Z"
                }
            },
            "execution_count": 2
        },
        {
            "cell_type": "markdown",
            "source": [
                "Here are the roots as computed by the quadratic formula."
            ],
            "id": "3d51a0ea",
            "metadata": {}
        },
        {
            "outputs": [
                {
                    "name": "stdout",
                    "output_type": "stream",
                    "text": [
                        "0.9999999998251499 1.0000010001748503\n"
                    ]
                }
            ],
            "cell_type": "code",
            "source": [
                "d = sqrt(b**2 - 4*a*c)\n",
                "r1 = (-b - d) / (2*a)\n",
                "r2 = (-b + d) / (2*a)\n",
                "print(r1, r2)"
            ],
            "id": "2cfd0d7c",
            "metadata": {
                "execution": {
                    "iopub.status.idle": "2025-01-14T20:16:23.263632Z",
                    "iopub.status.busy": "2025-01-14T20:16:23.254207Z",
                    "iopub.execute_input": "2025-01-14T20:16:23.255252Z",
                    "shell.execute_reply": "2025-01-14T20:16:23.261141Z"
                }
            },
            "execution_count": 3
        },
        {
            "cell_type": "markdown",
            "source": [
                "The display of `r2` suggests that the last five digits or so are inaccurate. The relative error in the value is"
            ],
            "id": "f6bffddd",
            "metadata": {}
        },
        {
            "outputs": [
                {
                    "name": "stdout",
                    "output_type": "stream",
                    "text": [
                        "1.7485013437124053e-10\n",
                        "1.748501815656639e-10\n"
                    ]
                }
            ],
            "cell_type": "code",
            "source": [
                "print(abs(r1 - 1) / abs(1))\n",
                "print(abs(r2 - (1 + ep)) / abs(1 + ep))"
            ],
            "id": "841ca24e",
            "metadata": {
                "execution": {
                    "iopub.status.idle": "2025-01-14T20:16:23.272982Z",
                    "iopub.status.busy": "2025-01-14T20:16:23.268088Z",
                    "iopub.execute_input": "2025-01-14T20:16:23.268425Z",
                    "shell.execute_reply": "2025-01-14T20:16:23.271584Z"
                }
            },
            "execution_count": 4
        },
        {
            "cell_type": "markdown",
            "source": [
                "The condition number of each root is \n",
                "$$\n",
                "\\kappa(r_i) = \\frac{|r_i|}{|r_1-r_2|} \\approx \\frac{1}{\\epsilon}. \n",
                "$$\n",
                "Thus, relative error in the data at the level of roundoff can grow in the result to be roughly"
            ],
            "id": "b299feb7",
            "metadata": {}
        },
        {
            "outputs": [
                {
                    "name": "stdout",
                    "output_type": "stream",
                    "text": [
                        "2.220446049250313e-10\n"
                    ]
                }
            ],
            "cell_type": "code",
            "source": [
                "print(finfo(float).eps / ep)"
            ],
            "id": "f98c5b66",
            "metadata": {
                "execution": {
                    "iopub.status.idle": "2025-01-14T20:16:23.283931Z",
                    "iopub.status.busy": "2025-01-14T20:16:23.276368Z",
                    "iopub.execute_input": "2025-01-14T20:16:23.276728Z",
                    "shell.execute_reply": "2025-01-14T20:16:23.281922Z"
                }
            },
            "execution_count": 5
        },
        {
            "cell_type": "markdown",
            "source": [
                "This matches the observation pretty well."
            ],
            "id": "715058a6",
            "metadata": {}
        }
    ],
    "nbformat_minor": 5,
    "metadata": {
        "language_info": {
            "file_extension": ".py",
            "mimetype": "text/x-python",
            "name": "python",
            "nbconvert_exporter": "python",
            "pygments_lexer": "ipython3",
            "codemirror_mode": {
                "name": "ipython",
                "version": 3
            },
            "version": "3.13.0"
        },
        "kernelspec": {
            "name": "python3",
            "display_name": "Python 3",
            "language": "python"
        },
        "numbering": {
            "headings": false
        }
    },
    "nbformat": 4
}
