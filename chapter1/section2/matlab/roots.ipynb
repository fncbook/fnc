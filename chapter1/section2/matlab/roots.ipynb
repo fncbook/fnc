{
 "cells": [
  {
   "cell_type": "code",
   "execution_count": 1,
   "id": "0296c6b7",
   "metadata": {
    "execution": {
     "iopub.execute_input": "2025-01-11T18:52:11.680884Z",
     "iopub.status.busy": "2025-01-11T18:52:11.680732Z",
     "iopub.status.idle": "2025-01-11T18:52:11.683376Z",
     "shell.execute_reply": "2025-01-11T18:52:11.683013Z"
    },
    "tags": [
     "remove-cell"
    ]
   },
   "outputs": [],
   "source": [
    "cd  /Users/driscoll/Documents/GitHub/fnc/matlab\n",
    "FNC_init"
   ]
  },
  {
   "cell_type": "markdown",
   "id": "063a4b47",
   "metadata": {},
   "source": [
    "[**Demo %s**](#demo-condition-roots)\n",
    "\n",
    "\n",
    "The polynomial $p(x) = \\frac{1}{3}(x-1)(x-1-\\epsilon)$ has roots $1$ and $1+\\epsilon$. For small values of $\\epsilon$, the roots are ill-conditioned."
   ]
  },
  {
   "cell_type": "code",
   "execution_count": 2,
   "id": "76f6e80f",
   "metadata": {
    "execution": {
     "iopub.execute_input": "2025-01-11T18:52:11.685603Z",
     "iopub.status.busy": "2025-01-11T18:52:11.685474Z",
     "iopub.status.idle": "2025-01-11T18:52:11.687800Z",
     "shell.execute_reply": "2025-01-11T18:52:11.687131Z"
    }
   },
   "outputs": [],
   "source": [
    "ep = 1e-6;\n",
    "a = 1/3;             % coefficients of p...\n",
    "b = (-2 - ep) / 3;   % ...\n",
    "c = (1 + ep) / 3;    % ...in ascending order"
   ]
  },
  {
   "cell_type": "markdown",
   "id": "c8c19719",
   "metadata": {},
   "source": [
    "Here are the roots as computed by the quadratic formula."
   ]
  },
  {
   "cell_type": "code",
   "execution_count": 3,
   "id": "8293383b",
   "metadata": {
    "execution": {
     "iopub.execute_input": "2025-01-11T18:52:11.690182Z",
     "iopub.status.busy": "2025-01-11T18:52:11.689794Z",
     "iopub.status.idle": "2025-01-11T18:52:11.692134Z",
     "shell.execute_reply": "2025-01-11T18:52:11.691770Z"
    }
   },
   "outputs": [
    {
     "data": {
      "text/html": [
       "<html><body><pre>r1 = \n",
       "   0.999999999825150\n",
       "</pre></body></html>"
      ],
      "text/plain": [
       "r1 = \n",
       "   0.999999999825150\n"
      ]
     },
     "execution_count": 3,
     "metadata": {},
     "output_type": "execute_result"
    },
    {
     "data": {
      "text/html": [
       "<html><body><pre>r2 = \n",
       "   1.000001000174850\n",
       "</pre></body></html>"
      ],
      "text/plain": [
       "r2 = \n",
       "   1.000001000174850\n"
      ]
     },
     "execution_count": 3,
     "metadata": {},
     "output_type": "execute_result"
    }
   ],
   "source": [
    "d = sqrt(b^2 - 4*a*c);\n",
    "format long   % show all digits\n",
    "r1 = (-b - d) / (2*a)\n",
    "r2 = (-b + d) / (2*a)"
   ]
  },
  {
   "cell_type": "markdown",
   "id": "088ddb87",
   "metadata": {},
   "source": [
    "The display of `r2` suggests that the last five digits or so are inaccurate. The relative errors are\n",
    "```{tip}\n",
    ":class: dropdown\n",
    "Putting values inside square brackets creates a vector.\n",
    "```"
   ]
  },
  {
   "cell_type": "code",
   "execution_count": 4,
   "id": "75f04e0f",
   "metadata": {
    "execution": {
     "iopub.execute_input": "2025-01-11T18:52:11.694029Z",
     "iopub.status.busy": "2025-01-11T18:52:11.693891Z",
     "iopub.status.idle": "2025-01-11T18:52:11.695616Z",
     "shell.execute_reply": "2025-01-11T18:52:11.695348Z"
    }
   },
   "outputs": [
    {
     "data": {
      "text/html": [
       "<html><body><pre>err = \n",
       "   1.7485e-10\n",
       "</pre></body></html>"
      ],
      "text/plain": [
       "err = \n",
       "   1.7485e-10\n"
      ]
     },
     "execution_count": 4,
     "metadata": {},
     "output_type": "execute_result"
    },
    {
     "data": {
      "text/html": [
       "<html><body><pre>err = \n",
       "   1.7485e-10\n",
       "</pre></body></html>"
      ],
      "text/plain": [
       "err = \n",
       "   1.7485e-10\n"
      ]
     },
     "execution_count": 4,
     "metadata": {},
     "output_type": "execute_result"
    }
   ],
   "source": [
    "format short e\n",
    "err = abs(r1 - 1) ./ abs(1)\n",
    "err = abs(r2 - (1 + ep)) ./ abs(1 + ep)"
   ]
  },
  {
   "cell_type": "markdown",
   "id": "aaa763e6",
   "metadata": {},
   "source": [
    "The condition number of each root is \n",
    "$$\n",
    "\\kappa(r_i) = \\frac{|r_i|}{|r_1-r_2|} \\approx \\frac{1}{\\epsilon}. \n",
    "$$\n",
    "Thus, relative error in the data at the level of roundoff can grow in the result to be roughly"
   ]
  },
  {
   "cell_type": "code",
   "execution_count": 5,
   "id": "f45491d5",
   "metadata": {
    "execution": {
     "iopub.execute_input": "2025-01-11T18:52:11.697359Z",
     "iopub.status.busy": "2025-01-11T18:52:11.697250Z",
     "iopub.status.idle": "2025-01-11T18:52:11.698976Z",
     "shell.execute_reply": "2025-01-11T18:52:11.698687Z"
    }
   },
   "outputs": [
    {
     "data": {
      "text/html": [
       "<html><body><pre>ans = \n",
       "   2.2204e-10\n",
       "</pre></body></html>"
      ],
      "text/plain": [
       "ans = \n",
       "   2.2204e-10\n"
      ]
     },
     "execution_count": 5,
     "metadata": {},
     "output_type": "execute_result"
    }
   ],
   "source": [
    "eps / ep"
   ]
  },
  {
   "cell_type": "markdown",
   "id": "2426f053",
   "metadata": {},
   "source": [
    "This matches the observation pretty well."
   ]
  }
 ],
 "metadata": {
  "kernelspec": {
   "display_name": "MATLAB Kernel",
   "language": "matlab",
   "name": "jupyter_matlab_kernel"
  },
  "language_info": {
   "file_extension": ".m",
   "mimetype": "text/x-matlab",
   "name": "matlab"
  },
  "numbering": {
   "headings": false
  }
 },
 "nbformat": 4,
 "nbformat_minor": 5
}
