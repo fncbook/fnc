{
    "cells": [
        {
            "cell_type": "markdown",
            "source": [
                "[**Demo %s**](#demo-condition-roots)\n",
                "\n",
                "\n",
                "The polynomial $p(x) = \\frac{1}{3}(x-1)(x-1-\\epsilon)$ has roots $1$ and $1+\\epsilon$. For small values of $\\epsilon$, the roots are ill-conditioned."
            ],
            "id": "063a4b47",
            "metadata": {}
        },
        {
            "outputs": [],
            "cell_type": "code",
            "source": [
                "ep = 1e-6;\n",
                "a = 1/3;             % coefficients of p...\n",
                "b = (-2 - ep) / 3;   % ...\n",
                "c = (1 + ep) / 3;    % ...in ascending order"
            ],
            "id": "76f6e80f",
            "metadata": {
                "execution": {
                    "iopub.status.idle": "2025-01-11T18:52:11.687800Z",
                    "iopub.status.busy": "2025-01-11T18:52:11.685474Z",
                    "iopub.execute_input": "2025-01-11T18:52:11.685603Z",
                    "shell.execute_reply": "2025-01-11T18:52:11.687131Z"
                }
            },
            "execution_count": 2
        },
        {
            "cell_type": "markdown",
            "source": [
                "Here are the roots as computed by the quadratic formula."
            ],
            "id": "c8c19719",
            "metadata": {}
        },
        {
            "outputs": [
                {
                    "output_type": "execute_result",
                    "data": {
                        "text/plain": [
                            "r1 = \n",
                            "   0.999999999825150\n"
                        ],
                        "text/html": [
                            "<html><body><pre>r1 = \n",
                            "   0.999999999825150\n",
                            "</pre></body></html>"
                        ]
                    },
                    "metadata": {},
                    "execution_count": 3
                },
                {
                    "output_type": "execute_result",
                    "data": {
                        "text/plain": [
                            "r2 = \n",
                            "   1.000001000174850\n"
                        ],
                        "text/html": [
                            "<html><body><pre>r2 = \n",
                            "   1.000001000174850\n",
                            "</pre></body></html>"
                        ]
                    },
                    "metadata": {},
                    "execution_count": 3
                }
            ],
            "cell_type": "code",
            "source": [
                "d = sqrt(b^2 - 4*a*c);\n",
                "format long   % show all digits\n",
                "r1 = (-b - d) / (2*a)\n",
                "r2 = (-b + d) / (2*a)"
            ],
            "id": "8293383b",
            "metadata": {
                "execution": {
                    "iopub.status.idle": "2025-01-11T18:52:11.692134Z",
                    "iopub.status.busy": "2025-01-11T18:52:11.689794Z",
                    "iopub.execute_input": "2025-01-11T18:52:11.690182Z",
                    "shell.execute_reply": "2025-01-11T18:52:11.691770Z"
                }
            },
            "execution_count": 3
        },
        {
            "cell_type": "markdown",
            "source": [
                "The display of `r2` suggests that the last five digits or so are inaccurate. The relative errors are\n",
                "```{tip}\n",
                ":class: dropdown\n",
                "Putting values inside square brackets creates a vector.\n",
                "```"
            ],
            "id": "088ddb87",
            "metadata": {}
        },
        {
            "outputs": [
                {
                    "output_type": "execute_result",
                    "data": {
                        "text/plain": [
                            "err = \n",
                            "   1.7485e-10\n"
                        ],
                        "text/html": [
                            "<html><body><pre>err = \n",
                            "   1.7485e-10\n",
                            "</pre></body></html>"
                        ]
                    },
                    "metadata": {},
                    "execution_count": 4
                },
                {
                    "output_type": "execute_result",
                    "data": {
                        "text/plain": [
                            "err = \n",
                            "   1.7485e-10\n"
                        ],
                        "text/html": [
                            "<html><body><pre>err = \n",
                            "   1.7485e-10\n",
                            "</pre></body></html>"
                        ]
                    },
                    "metadata": {},
                    "execution_count": 4
                }
            ],
            "cell_type": "code",
            "source": [
                "format short e\n",
                "err = abs(r1 - 1) ./ abs(1)\n",
                "err = abs(r2 - (1 + ep)) ./ abs(1 + ep)"
            ],
            "id": "75f04e0f",
            "metadata": {
                "execution": {
                    "iopub.status.idle": "2025-01-11T18:52:11.695616Z",
                    "iopub.status.busy": "2025-01-11T18:52:11.693891Z",
                    "iopub.execute_input": "2025-01-11T18:52:11.694029Z",
                    "shell.execute_reply": "2025-01-11T18:52:11.695348Z"
                }
            },
            "execution_count": 4
        },
        {
            "cell_type": "markdown",
            "source": [
                "The condition number of each root is \n",
                "$$\n",
                "\\kappa(r_i) = \\frac{|r_i|}{|r_1-r_2|} \\approx \\frac{1}{\\epsilon}. \n",
                "$$\n",
                "Thus, relative error in the data at the level of roundoff can grow in the result to be roughly"
            ],
            "id": "aaa763e6",
            "metadata": {}
        },
        {
            "outputs": [
                {
                    "output_type": "execute_result",
                    "data": {
                        "text/plain": [
                            "ans = \n",
                            "   2.2204e-10\n"
                        ],
                        "text/html": [
                            "<html><body><pre>ans = \n",
                            "   2.2204e-10\n",
                            "</pre></body></html>"
                        ]
                    },
                    "metadata": {},
                    "execution_count": 5
                }
            ],
            "cell_type": "code",
            "source": [
                "eps / ep"
            ],
            "id": "f45491d5",
            "metadata": {
                "execution": {
                    "iopub.status.idle": "2025-01-11T18:52:11.698976Z",
                    "iopub.status.busy": "2025-01-11T18:52:11.697250Z",
                    "iopub.execute_input": "2025-01-11T18:52:11.697359Z",
                    "shell.execute_reply": "2025-01-11T18:52:11.698687Z"
                }
            },
            "execution_count": 5
        },
        {
            "cell_type": "markdown",
            "source": [
                "This matches the observation pretty well."
            ],
            "id": "2426f053",
            "metadata": {}
        }
    ],
    "nbformat_minor": 5,
    "metadata": {
        "language_info": {
            "file_extension": ".m",
            "mimetype": "text/x-matlab",
            "name": "matlab"
        },
        "kernelspec": {
            "name": "jupyter_matlab_kernel",
            "display_name": "MATLAB Kernel",
            "language": "matlab"
        },
        "numbering": {
            "headings": false
        }
    },
    "nbformat": 4
}
