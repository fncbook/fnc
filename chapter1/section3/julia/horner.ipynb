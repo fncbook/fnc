{
 "cells": [
  {
   "cell_type": "code",
   "execution_count": 1,
   "id": "9377e978",
   "metadata": {
    "execution": {
     "iopub.execute_input": "2025-01-14T16:48:57.408000Z",
     "iopub.status.busy": "2025-01-14T16:48:57.129000Z",
     "iopub.status.idle": "2025-01-14T16:49:03.002000Z",
     "shell.execute_reply": "2025-01-14T16:49:02.958000Z"
    },
    "tags": [
     "remove-cell"
    ]
   },
   "outputs": [
    {
     "name": "stderr",
     "output_type": "stream",
     "text": [
      "\u001b[32m\u001b[1m  Activating\u001b[22m\u001b[39m "
     ]
    },
    {
     "name": "stderr",
     "output_type": "stream",
     "text": [
      "project at `~/Documents/GitHub/fnc`\n"
     ]
    }
   ],
   "source": [
    "include(\"../../../julia/FNC_init.jl\")"
   ]
  },
  {
   "cell_type": "markdown",
   "id": "b7820310",
   "metadata": {},
   "source": [
    "[**Demo %s**](#demo-algorithms-horner)\n",
    "\n",
    "Here we show how to use {numref}`Function {number} <function-horner>` to evaluate a polynomial. It's not a part of core Julia, so you need to download and install this text's package once, and load it for each new Julia session. The download is done by the following lines."
   ]
  },
  {
   "cell_type": "code",
   "execution_count": 2,
   "id": "a24aa90e",
   "metadata": {
    "execution": {
     "iopub.execute_input": "2025-01-14T16:49:03.178000Z",
     "iopub.status.busy": "2025-01-14T16:49:03.003000Z",
     "iopub.status.idle": "2025-01-14T16:49:17.056000Z",
     "shell.execute_reply": "2025-01-14T16:49:17.056000Z"
    },
    "tags": [
     "remove-output"
    ]
   },
   "outputs": [
    {
     "name": "stderr",
     "output_type": "stream",
     "text": [
      "\u001b[32m\u001b[1m   Resolving\u001b[22m\u001b[39m package versions...\n"
     ]
    },
    {
     "name": "stderr",
     "output_type": "stream",
     "text": [
      "\u001b[32m\u001b[1m    Updating\u001b[22m\u001b[39m `~/Dropbox/Mac/Documents/GitHub/fnc/Project.toml`\n",
      "  \u001b[90m[ab0dfefa] \u001b[39m\u001b[93m~ FNCFunctions v0.1.0 `../FNCFunctions.jl` ⇒ v0.1.0\u001b[39m\n",
      "\u001b[32m\u001b[1m    Updating\u001b[22m\u001b[39m `~/Dropbox/Mac/Documents/GitHub/fnc/Manifest.toml`\n",
      "  \u001b[90m[ab0dfefa] \u001b[39m\u001b[93m~ FNCFunctions v0.1.0 `../FNCFunctions.jl` ⇒ v0.1.0\u001b[39m\n"
     ]
    },
    {
     "name": "stderr",
     "output_type": "stream",
     "text": [
      "\u001b[92m\u001b[1mPrecompiling\u001b[22m\u001b[39m "
     ]
    },
    {
     "name": "stderr",
     "output_type": "stream",
     "text": [
      "project...\n"
     ]
    },
    {
     "name": "stderr",
     "output_type": "stream",
     "text": [
      "   4152.4 ms\u001b[33m  ✓ \u001b[39mFNCFunctions\n",
      "  1 dependency successfully precompiled in 8 seconds. 560 already precompiled.\n",
      "  \u001b[33m1\u001b[39m dependency precompiled but a different version is currently loaded. Restart julia to access the new version\n"
     ]
    }
   ],
   "source": [
    "import Pkg\n",
    "Pkg.add(\"FNCFunctions\");"
   ]
  },
  {
   "cell_type": "markdown",
   "id": "5f151715",
   "metadata": {},
   "source": [
    "```{index} ! Julia; using\n",
    "```\n",
    "\n",
    "Once installed, any package can be loaded with the `using` command, as follows.\n",
    "\n",
    "```{tip}\n",
    ":class: dropdown\n",
    "Many Julia functions, including the ones in this text, are in packages that must be loaded via `using` or `import` in each session. Sometimes a `using` statement can take a few seconds or even minutes to execute, if packages have been installed or updated. \n",
    "```"
   ]
  },
  {
   "cell_type": "code",
   "execution_count": 3,
   "id": "06ae48ed",
   "metadata": {
    "execution": {
     "iopub.execute_input": "2025-01-14T16:49:17.058000Z",
     "iopub.status.busy": "2025-01-14T16:49:17.058000Z",
     "iopub.status.idle": "2025-01-14T16:49:17.268000Z",
     "shell.execute_reply": "2025-01-14T16:49:17.268000Z"
    },
    "tags": [
     "remove-output"
    ]
   },
   "outputs": [
    {
     "data": {
      "text/plain": [
       "FNCFunctions"
      ]
     },
     "execution_count": 3,
     "metadata": {},
     "output_type": "execute_result"
    }
   ],
   "source": [
    "using FNCFunctions\n",
    "FNC = FNCFunctions"
   ]
  },
  {
   "cell_type": "markdown",
   "id": "504da9ec",
   "metadata": {},
   "source": [
    "For convenience, this package also imports many other packages used throughout the book and makes them available as though you had run a `using` command for each of them. \n",
    "\n",
    "```{tip}\n",
    ":class: dropdown\n",
    "If you are not sure where a particular function is defined, you can run `methods` on the function name to find all its definitions.\n",
    "```\n",
    "\n",
    "Returning to `horner`, let us define a vector of the coefficients of $p(x)=(x-1)^3=x^3-3x^2+3x-1$, in ascending degree order."
   ]
  },
  {
   "cell_type": "code",
   "execution_count": 4,
   "id": "69468ee7",
   "metadata": {
    "execution": {
     "iopub.execute_input": "2025-01-14T16:49:17.270000Z",
     "iopub.status.busy": "2025-01-14T16:49:17.270000Z",
     "iopub.status.idle": "2025-01-14T16:49:18.103000Z",
     "shell.execute_reply": "2025-01-14T16:49:18.103000Z"
    }
   },
   "outputs": [
    {
     "data": {
      "text/plain": [
       "4-element Vector{Int64}:\n",
       " -1\n",
       "  3\n",
       " -3\n",
       "  1"
      ]
     },
     "execution_count": 4,
     "metadata": {},
     "output_type": "execute_result"
    }
   ],
   "source": [
    "c = [-1, 3, -3, 1]"
   ]
  },
  {
   "cell_type": "markdown",
   "id": "b6ebce31",
   "metadata": {},
   "source": [
    "```{index} ! Julia; FNC, ! Julia; namespace\n",
    "```\n",
    "\n",
    "In order to avoid clashes between similarly named functions, Julia has boxed all the book functions into a **namespace** called `FNC`. We use this namespace whenever we invoke one of the functions.\n",
    "\n",
    "```{tip}\n",
    ":class: dropdown\n",
    "You must use the module name when a package is loaded by `import`, but when loaded via `using`, some functions may be available with no prefix.\n",
    "```"
   ]
  },
  {
   "cell_type": "code",
   "execution_count": 5,
   "id": "4c654e39",
   "metadata": {
    "execution": {
     "iopub.execute_input": "2025-01-14T16:49:18.104000Z",
     "iopub.status.busy": "2025-01-14T16:49:18.104000Z",
     "iopub.status.idle": "2025-01-14T16:49:18.181000Z",
     "shell.execute_reply": "2025-01-14T16:49:18.181000Z"
    }
   },
   "outputs": [
    {
     "data": {
      "text/plain": [
       "0.21600000000000041"
      ]
     },
     "execution_count": 5,
     "metadata": {},
     "output_type": "execute_result"
    }
   ],
   "source": [
    "FNC.horner(c, 1.6)"
   ]
  },
  {
   "cell_type": "markdown",
   "id": "452ea967",
   "metadata": {},
   "source": [
    "The above is the value of $p(1.6)$.\n",
    "\n",
    "While the namespace does lead to a little extra typing, a nice side effect of using this paradigm is that if you type `FNC.` (including the period) and hit the <kbd>Tab</kbd> key, you will see a list of all the functions known in that namespace.\n",
    "\n",
    "The multi-line string at the start of {numref}`Function {number} <function-horner>` is documentation, which we can access using `?FNC.horner`."
   ]
  }
 ],
 "metadata": {
  "kernelspec": {
   "display_name": "Julia 1",
   "language": "julia",
   "name": "julia-1.11"
  },
  "language_info": {
   "file_extension": ".jl",
   "mimetype": "application/julia",
   "name": "julia",
   "version": "1.11.2"
  },
  "numbering": {
   "headings": false
  }
 },
 "nbformat": 4,
 "nbformat_minor": 5
}
