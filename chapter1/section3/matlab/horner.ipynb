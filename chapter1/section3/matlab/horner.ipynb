{
 "cells": [
  {
   "cell_type": "code",
   "execution_count": 1,
   "id": "5b79285d",
   "metadata": {
    "execution": {
     "iopub.execute_input": "2025-01-11T18:55:42.373315Z",
     "iopub.status.busy": "2025-01-11T18:55:42.372999Z",
     "iopub.status.idle": "2025-01-11T18:55:42.375963Z",
     "shell.execute_reply": "2025-01-11T18:55:42.375405Z"
    },
    "tags": [
     "remove-cell"
    ]
   },
   "outputs": [],
   "source": [
    "cd  /Users/driscoll/Documents/GitHub/fnc/matlab\n",
    "FNC_init"
   ]
  },
  {
   "cell_type": "markdown",
   "id": "fea0d082",
   "metadata": {},
   "source": [
    "[**Demo %s**](#demo-algorithms-horner)\n",
    "\n",
    "Here we show how to use {numref}`Function {number} <function-horner>` to evaluate a polynomial. Let us define a vector of the coefficients of $p(x)=(x-1)^3=x^3-3x^2+3x-1$, in ascending degree order."
   ]
  },
  {
   "cell_type": "code",
   "execution_count": 2,
   "id": "7b8e2df7",
   "metadata": {
    "execution": {
     "iopub.execute_input": "2025-01-11T18:55:42.379445Z",
     "iopub.status.busy": "2025-01-11T18:55:42.379230Z",
     "iopub.status.idle": "2025-01-11T18:55:42.382093Z",
     "shell.execute_reply": "2025-01-11T18:55:42.381626Z"
    }
   },
   "outputs": [
    {
     "data": {
      "text/html": [
       "<html><body><pre>c = 1×4 double\n",
       "     1    -3     3     1\n",
       "</pre></body></html>"
      ],
      "text/plain": [
       "c = 1×4 double\n",
       "     1    -3     3     1\n"
      ]
     },
     "execution_count": 2,
     "metadata": {},
     "output_type": "execute_result"
    }
   ],
   "source": [
    "c = [1, -3, 3, 1]"
   ]
  },
  {
   "cell_type": "markdown",
   "id": "d0f14268",
   "metadata": {},
   "source": [
    "Now we evaluate $p(1.6)$ using the function `horner`."
   ]
  },
  {
   "cell_type": "code",
   "execution_count": 3,
   "id": "f826d6b4",
   "metadata": {
    "execution": {
     "iopub.execute_input": "2025-01-11T18:55:42.384392Z",
     "iopub.status.busy": "2025-01-11T18:55:42.384226Z",
     "iopub.status.idle": "2025-01-11T18:55:42.386451Z",
     "shell.execute_reply": "2025-01-11T18:55:42.386067Z"
    }
   },
   "outputs": [
    {
     "data": {
      "text/html": [
       "<html><body><pre>ans = 2.2160</pre></body></html>"
      ],
      "text/plain": [
       "ans = 2.2160"
      ]
     },
     "execution_count": 3,
     "metadata": {},
     "output_type": "execute_result"
    }
   ],
   "source": [
    "horner(c, 1.6)"
   ]
  },
  {
   "cell_type": "markdown",
   "id": "0b4c22ce",
   "metadata": {},
   "source": [
    "The result above is the value of $p(1.6)$.\n",
    "\n",
    "```{tip}\n",
    "The comments at the start of {numref}`Function {number} <function-horner>` are documentation, which we can access using `help horner`.\n",
    "```"
   ]
  }
 ],
 "metadata": {
  "kernelspec": {
   "display_name": "MATLAB Kernel",
   "language": "matlab",
   "name": "jupyter_matlab_kernel"
  },
  "language_info": {
   "file_extension": ".m",
   "mimetype": "text/x-matlab",
   "name": "matlab"
  },
  "numbering": {
   "headings": false
  }
 },
 "nbformat": 4,
 "nbformat_minor": 5
}
