{
    "cells": [
        {
            "cell_type": "markdown",
            "source": [
                "[**Demo %s**](#demo-float-double)\n",
                "\n",
                "\n",
                "Python has native `int` and `float` types."
            ],
            "id": "01d3ec05",
            "metadata": {}
        },
        {
            "outputs": [
                {
                    "name": "stdout",
                    "output_type": "stream",
                    "text": [
                        "The type of 1 is <class 'int'>\n",
                        "The type of 1.0 is <class 'float'>\n"
                    ]
                }
            ],
            "cell_type": "code",
            "source": [
                "print(f\"The type of {1} is {type(1)}\")\n",
                "print(f\"The type of {float(1)} is {type(1.0)}\")"
            ],
            "id": "82183694",
            "metadata": {
                "execution": {
                    "iopub.status.idle": "2025-01-14T20:16:39.643246Z",
                    "iopub.status.busy": "2025-01-14T20:16:39.632219Z",
                    "iopub.execute_input": "2025-01-14T20:16:39.632606Z",
                    "shell.execute_reply": "2025-01-14T20:16:39.637354Z"
                }
            },
            "execution_count": 2
        },
        {
            "cell_type": "markdown",
            "source": [
                "The `numpy` package has its own `float` types:"
            ],
            "id": "657db8e2",
            "metadata": {}
        },
        {
            "outputs": [
                {
                    "name": "stdout",
                    "output_type": "stream",
                    "text": [
                        "The type of 1.0 is <class 'numpy.float64'>\n"
                    ]
                }
            ],
            "cell_type": "code",
            "source": [
                "one = float64(1)\n",
                "print(f\"The type of {one} is {type(one)}\")"
            ],
            "id": "833aa2c6",
            "metadata": {
                "execution": {
                    "iopub.status.idle": "2025-01-14T20:16:39.653100Z",
                    "iopub.status.busy": "2025-01-14T20:16:39.649064Z",
                    "iopub.execute_input": "2025-01-14T20:16:39.649601Z",
                    "shell.execute_reply": "2025-01-14T20:16:39.652539Z"
                }
            },
            "execution_count": 3
        },
        {
            "cell_type": "markdown",
            "source": [
                "Both `float` and `float64` are double precision, using 64 binary bits per value. Although it is not normally necessary to do so, we can deconstruct a float into its significand and exponent:"
            ],
            "id": "0d96e322",
            "metadata": {}
        },
        {
            "outputs": [
                {
                    "name": "stdout",
                    "output_type": "stream",
                    "text": [
                        "significand: 1.57, exponent: 1\n"
                    ]
                }
            ],
            "cell_type": "code",
            "source": [
                "x = 3.14\n",
                "mantissa, exponent = frexp(x)\n",
                "print(f\"significand: {mantissa * 2}, exponent: {exponent - 1}\")"
            ],
            "id": "6a39f261",
            "metadata": {
                "execution": {
                    "iopub.status.idle": "2025-01-14T20:16:39.665495Z",
                    "iopub.status.busy": "2025-01-14T20:16:39.657733Z",
                    "iopub.execute_input": "2025-01-14T20:16:39.658293Z",
                    "shell.execute_reply": "2025-01-14T20:16:39.662813Z"
                }
            },
            "execution_count": 4
        },
        {
            "outputs": [
                {
                    "name": "stdout",
                    "output_type": "stream",
                    "text": [
                        "significand: 1.57, exponent: -2\n"
                    ]
                }
            ],
            "cell_type": "code",
            "source": [
                "mantissa, exponent = frexp(x / 8)\n",
                "print(f\"significand: {mantissa * 2}, exponent: {exponent - 1}\")"
            ],
            "id": "5021e32b",
            "metadata": {
                "execution": {
                    "iopub.status.idle": "2025-01-14T20:16:39.672842Z",
                    "iopub.status.busy": "2025-01-14T20:16:39.668708Z",
                    "iopub.execute_input": "2025-01-14T20:16:39.669012Z",
                    "shell.execute_reply": "2025-01-14T20:16:39.672132Z"
                }
            },
            "execution_count": 5
        },
        {
            "cell_type": "markdown",
            "source": [
                "The spacing between floating-point values in $[2^n,2^{n+1})$ is $2^n \\epsilon_\\text{mach}$, where $\\epsilon_\\text{mach}$ is machine epsilon, given here for double precision:"
            ],
            "id": "0c17e46a",
            "metadata": {}
        },
        {
            "outputs": [
                {
                    "name": "stdout",
                    "output_type": "stream",
                    "text": [
                        "machine epsilon is 2.2204e-16\n"
                    ]
                }
            ],
            "cell_type": "code",
            "source": [
                "mach_eps = finfo(float).eps\n",
                "print(f\"machine epsilon is {mach_eps:.4e}\")"
            ],
            "id": "ee9516d5",
            "metadata": {
                "execution": {
                    "iopub.status.idle": "2025-01-14T20:16:39.682367Z",
                    "iopub.status.busy": "2025-01-14T20:16:39.676029Z",
                    "iopub.execute_input": "2025-01-14T20:16:39.676303Z",
                    "shell.execute_reply": "2025-01-14T20:16:39.681213Z"
                }
            },
            "execution_count": 6
        },
        {
            "cell_type": "markdown",
            "source": [
                "Because double precision allocates 52 bits to the significand, the default value of machine epsilon is $2^{-52}$."
            ],
            "id": "da2e532d",
            "metadata": {}
        },
        {
            "outputs": [
                {
                    "name": "stdout",
                    "output_type": "stream",
                    "text": [
                        "machine epsilon is 2 to the power -52.0\n"
                    ]
                }
            ],
            "cell_type": "code",
            "source": [
                "print(f\"machine epsilon is 2 to the power {log2(mach_eps)}\")"
            ],
            "id": "8b8508ed",
            "metadata": {
                "execution": {
                    "iopub.status.idle": "2025-01-14T20:16:39.694393Z",
                    "iopub.status.busy": "2025-01-14T20:16:39.686461Z",
                    "iopub.execute_input": "2025-01-14T20:16:39.686753Z",
                    "shell.execute_reply": "2025-01-14T20:16:39.692457Z"
                }
            },
            "execution_count": 7
        },
        {
            "cell_type": "markdown",
            "source": [
                "A common mistake is to think that $\\epsilon_\\text{mach}$ is the smallest floating-point number. It's only the smallest *relative to 1*. The correct perspective is that the scaling of values is limited by the exponent, not the significand. The actual range of positive values in double precision is"
            ],
            "id": "66733591",
            "metadata": {}
        },
        {
            "outputs": [
                {
                    "name": "stdout",
                    "output_type": "stream",
                    "text": [
                        "range of positive values: [2.2250738585072014e-308, 1.7976931348623157e+308]\n"
                    ]
                }
            ],
            "cell_type": "code",
            "source": [
                "finf = finfo(float)\n",
                "print(f\"range of positive values: [{finf.tiny}, {finf.max}]\")"
            ],
            "id": "037bdd98",
            "metadata": {
                "execution": {
                    "iopub.status.idle": "2025-01-14T20:16:39.703908Z",
                    "iopub.status.busy": "2025-01-14T20:16:39.700033Z",
                    "iopub.execute_input": "2025-01-14T20:16:39.700355Z",
                    "shell.execute_reply": "2025-01-14T20:16:39.703193Z"
                }
            },
            "execution_count": 8
        },
        {
            "cell_type": "markdown",
            "source": [
                "For the most part you can mix integers and floating-point values and get what you expect."
            ],
            "id": "fe62addf",
            "metadata": {}
        },
        {
            "outputs": [
                {
                    "output_type": "execute_result",
                    "data": {
                        "text/plain": [
                            "0.14285714285714285"
                        ]
                    },
                    "metadata": {},
                    "execution_count": 9
                }
            ],
            "cell_type": "code",
            "source": [
                "1/7"
            ],
            "id": "9bdb69e2",
            "metadata": {
                "execution": {
                    "iopub.status.idle": "2025-01-14T20:16:39.718540Z",
                    "iopub.status.busy": "2025-01-14T20:16:39.708491Z",
                    "iopub.execute_input": "2025-01-14T20:16:39.709155Z",
                    "shell.execute_reply": "2025-01-14T20:16:39.717975Z"
                }
            },
            "execution_count": 9
        },
        {
            "outputs": [
                {
                    "output_type": "execute_result",
                    "data": {
                        "text/plain": [
                            "38.3"
                        ]
                    },
                    "metadata": {},
                    "execution_count": 10
                }
            ],
            "cell_type": "code",
            "source": [
                "37.3 + 1"
            ],
            "id": "d4797d85",
            "metadata": {
                "execution": {
                    "iopub.status.idle": "2025-01-14T20:16:39.733829Z",
                    "iopub.status.busy": "2025-01-14T20:16:39.727179Z",
                    "iopub.execute_input": "2025-01-14T20:16:39.727503Z",
                    "shell.execute_reply": "2025-01-14T20:16:39.733228Z"
                }
            },
            "execution_count": 10
        },
        {
            "outputs": [
                {
                    "output_type": "execute_result",
                    "data": {
                        "text/plain": [
                            "0.0625"
                        ]
                    },
                    "metadata": {},
                    "execution_count": 11
                }
            ],
            "cell_type": "code",
            "source": [
                "2**(-4)"
            ],
            "id": "38e01f39",
            "metadata": {
                "execution": {
                    "iopub.status.idle": "2025-01-14T20:16:39.741837Z",
                    "iopub.status.busy": "2025-01-14T20:16:39.737539Z",
                    "iopub.execute_input": "2025-01-14T20:16:39.737841Z",
                    "shell.execute_reply": "2025-01-14T20:16:39.741139Z"
                }
            },
            "execution_count": 11
        },
        {
            "cell_type": "markdown",
            "source": [
                "You can convert a floating value to an integer by wrapping it in `int`."
            ],
            "id": "a20e31c0",
            "metadata": {}
        },
        {
            "outputs": [
                {
                    "output_type": "execute_result",
                    "data": {
                        "text/plain": [
                            "3"
                        ]
                    },
                    "metadata": {},
                    "execution_count": 12
                }
            ],
            "cell_type": "code",
            "source": [
                "int(3.14)"
            ],
            "id": "bd6ce2bb",
            "metadata": {
                "execution": {
                    "iopub.status.idle": "2025-01-14T20:16:39.754236Z",
                    "iopub.status.busy": "2025-01-14T20:16:39.748829Z",
                    "iopub.execute_input": "2025-01-14T20:16:39.749630Z",
                    "shell.execute_reply": "2025-01-14T20:16:39.753717Z"
                }
            },
            "execution_count": 12
        }
    ],
    "nbformat_minor": 5,
    "metadata": {
        "language_info": {
            "file_extension": ".py",
            "mimetype": "text/x-python",
            "name": "python",
            "nbconvert_exporter": "python",
            "pygments_lexer": "ipython3",
            "codemirror_mode": {
                "name": "ipython",
                "version": 3
            },
            "version": "3.13.0"
        },
        "kernelspec": {
            "name": "python3",
            "display_name": "Python 3",
            "language": "python"
        },
        "numbering": {
            "headings": false
        }
    },
    "nbformat": 4
}
