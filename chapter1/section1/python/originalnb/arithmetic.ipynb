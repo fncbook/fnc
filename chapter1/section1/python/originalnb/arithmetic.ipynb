{
    "cells": [
        {
            "outputs": [],
            "cell_type": "code",
            "source": [
                "exec(open(\"../../../python/FNC_init.py\").read())"
            ],
            "id": "fe579c2d",
            "metadata": {
                "execution": {
                    "iopub.status.idle": "2025-01-14T20:16:32.155745Z",
                    "iopub.status.busy": "2025-01-14T20:16:31.481240Z",
                    "iopub.execute_input": "2025-01-14T20:16:31.481635Z",
                    "shell.execute_reply": "2025-01-14T20:16:32.154970Z"
                },
                "tags": [
                    "remove-cell"
                ]
            },
            "execution_count": 1
        },
        {
            "cell_type": "markdown",
            "source": [
                "[**Demo %s**](#demo-float-arithmetic)\n",
                "\n",
                "\n",
                "There is no double precision number between $1$ and $1+\\varepsilon_\\text{mach}$. Thus, the following difference is zero despite its appearance."
            ],
            "id": "43f7801c",
            "metadata": {}
        },
        {
            "outputs": [
                {
                    "name": "stdout",
                    "output_type": "stream",
                    "text": [
                        "0.0\n"
                    ]
                }
            ],
            "cell_type": "code",
            "source": [
                "eps = finfo(float).eps\n",
                "e = eps/2\n",
                "print((1.0 + e) - 1.0)"
            ],
            "id": "f0e81c76",
            "metadata": {
                "execution": {
                    "iopub.status.idle": "2025-01-14T20:16:32.163837Z",
                    "iopub.status.busy": "2025-01-14T20:16:32.158760Z",
                    "iopub.execute_input": "2025-01-14T20:16:32.159159Z",
                    "shell.execute_reply": "2025-01-14T20:16:32.162590Z"
                }
            },
            "execution_count": 2
        },
        {
            "cell_type": "markdown",
            "source": [
                "However, $1-\\varepsilon_\\text{mach}/2$ is a double precision number, so it and its negative are represented exactly:"
            ],
            "id": "41c47be9",
            "metadata": {}
        },
        {
            "outputs": [
                {
                    "name": "stdout",
                    "output_type": "stream",
                    "text": [
                        "1.1102230246251565e-16\n"
                    ]
                }
            ],
            "cell_type": "code",
            "source": [
                "print(1.0 + (e - 1.0))"
            ],
            "id": "99736183",
            "metadata": {
                "execution": {
                    "iopub.status.idle": "2025-01-14T20:16:32.171312Z",
                    "iopub.status.busy": "2025-01-14T20:16:32.167052Z",
                    "iopub.execute_input": "2025-01-14T20:16:32.167367Z",
                    "shell.execute_reply": "2025-01-14T20:16:32.169965Z"
                }
            },
            "execution_count": 3
        },
        {
            "cell_type": "markdown",
            "source": [
                "This is now the \"correct\" result. But we have found a rather shocking breakdown of the associative law of addition!"
            ],
            "id": "269adeb7",
            "metadata": {}
        }
    ],
    "nbformat_minor": 5,
    "metadata": {
        "language_info": {
            "file_extension": ".py",
            "mimetype": "text/x-python",
            "name": "python",
            "nbconvert_exporter": "python",
            "pygments_lexer": "ipython3",
            "codemirror_mode": {
                "name": "ipython",
                "version": 3
            },
            "version": "3.13.0"
        },
        "kernelspec": {
            "name": "python3",
            "display_name": "Python 3",
            "language": "python"
        },
        "numbering": {
            "headings": false
        }
    },
    "nbformat": 4
}
