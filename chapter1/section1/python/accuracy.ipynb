{
 "cells": [
  {
   "cell_type": "code",
   "execution_count": 1,
   "id": "ad23a310",
   "metadata": {
    "execution": {
     "iopub.execute_input": "2025-01-11T17:56:49.570956Z",
     "iopub.status.busy": "2025-01-11T17:56:49.570640Z",
     "iopub.status.idle": "2025-01-11T17:56:49.964764Z",
     "shell.execute_reply": "2025-01-11T17:56:49.964447Z"
    },
    "tags": [
     "remove-cell"
    ]
   },
   "outputs": [],
   "source": [
    "exec(open(\"../../../python/FNC_init.py\").read())"
   ]
  },
  {
   "cell_type": "markdown",
   "id": "d2235716",
   "metadata": {},
   "source": [
    "[**Demo %s**](#demo-float-accuracy)\n",
    "\n",
    "```{tip} Getting started with Python\n",
    ":class: dropdown\n",
    ":open:\n",
    "See @section-setup-python for guidance on how to set up Python for the demos in this book.\n",
    "```\n",
    "\n",
    "Recall the grade-school approximation to the number $\\pi$."
   ]
  },
  {
   "cell_type": "code",
   "execution_count": 2,
   "id": "3ee85808",
   "metadata": {
    "execution": {
     "iopub.execute_input": "2025-01-11T17:56:49.966256Z",
     "iopub.status.busy": "2025-01-11T17:56:49.966126Z",
     "iopub.status.idle": "2025-01-11T17:56:49.967914Z",
     "shell.execute_reply": "2025-01-11T17:56:49.967688Z"
    }
   },
   "outputs": [
    {
     "name": "stdout",
     "output_type": "stream",
     "text": [
      "3.142857142857143\n"
     ]
    }
   ],
   "source": [
    "p = 22/7\n",
    "print(p)"
   ]
  },
  {
   "cell_type": "markdown",
   "id": "7aa187c6",
   "metadata": {},
   "source": [
    "Not all the digits displayed for `p` are the same as those of $\\pi$. \n",
    "```{tip}\n",
    ":class: dropdown\n",
    "The value of `pi` is predefined in the `numpy` package.\n",
    "```"
   ]
  },
  {
   "cell_type": "code",
   "execution_count": 3,
   "id": "c3868346",
   "metadata": {
    "execution": {
     "iopub.execute_input": "2025-01-11T17:56:49.969005Z",
     "iopub.status.busy": "2025-01-11T17:56:49.968909Z",
     "iopub.status.idle": "2025-01-11T17:56:49.970455Z",
     "shell.execute_reply": "2025-01-11T17:56:49.970249Z"
    }
   },
   "outputs": [
    {
     "name": "stdout",
     "output_type": "stream",
     "text": [
      "3.141592653589793\n"
     ]
    }
   ],
   "source": [
    "print(pi)"
   ]
  },
  {
   "cell_type": "markdown",
   "id": "b371c06a",
   "metadata": {},
   "source": [
    "The absolute and relative accuracies of the approximation are as follows:\n",
    "```{tip}\n",
    ":class: dropdown\n",
    "We often use [Python f-strings](https://docs.python.org/3/tutorial/inputoutput.html#tut-f-strings) to format numerical output. \n",
    "```"
   ]
  },
  {
   "cell_type": "code",
   "execution_count": 4,
   "id": "3dd59d45",
   "metadata": {
    "execution": {
     "iopub.execute_input": "2025-01-11T17:56:49.971472Z",
     "iopub.status.busy": "2025-01-11T17:56:49.971383Z",
     "iopub.status.idle": "2025-01-11T17:56:49.972897Z",
     "shell.execute_reply": "2025-01-11T17:56:49.972704Z"
    }
   },
   "outputs": [
    {
     "name": "stdout",
     "output_type": "stream",
     "text": [
      "absolute accuracy: 0.0012644892673496777\n"
     ]
    }
   ],
   "source": [
    "print(f\"absolute accuracy: {abs(p - pi)}\")"
   ]
  },
  {
   "cell_type": "code",
   "execution_count": 5,
   "id": "4baa45ef",
   "metadata": {
    "execution": {
     "iopub.execute_input": "2025-01-11T17:56:49.973871Z",
     "iopub.status.busy": "2025-01-11T17:56:49.973775Z",
     "iopub.status.idle": "2025-01-11T17:56:49.975380Z",
     "shell.execute_reply": "2025-01-11T17:56:49.975154Z"
    }
   },
   "outputs": [
    {
     "name": "stdout",
     "output_type": "stream",
     "text": [
      "relative accuracy: {rel_acc:.4e}\n"
     ]
    }
   ],
   "source": [
    "rel_acc = abs(p - pi) / pi\n",
    "print(\"relative accuracy: {rel_acc:.4e}\")"
   ]
  },
  {
   "cell_type": "markdown",
   "id": "12127f99",
   "metadata": {},
   "source": [
    "Here we calculate the number of accurate digits in `p`:\n",
    "```{tip}\n",
    ":class: dropdown\n",
    "The `log` function is for the natural log. For other common bases, use `log10` or `log2`.\n",
    "```"
   ]
  },
  {
   "cell_type": "code",
   "execution_count": 6,
   "id": "b1f47ac1",
   "metadata": {
    "execution": {
     "iopub.execute_input": "2025-01-11T17:56:49.976399Z",
     "iopub.status.busy": "2025-01-11T17:56:49.976321Z",
     "iopub.status.idle": "2025-01-11T17:56:49.977981Z",
     "shell.execute_reply": "2025-01-11T17:56:49.977772Z"
    }
   },
   "outputs": [
    {
     "name": "stdout",
     "output_type": "stream",
     "text": [
      "accurate digits: 3.4\n"
     ]
    }
   ],
   "source": [
    "print(f\"accurate digits: {-log10(rel_acc):.1f}\")"
   ]
  }
 ],
 "metadata": {
  "kernelspec": {
   "display_name": "Python 3",
   "language": "python",
   "name": "python3"
  },
  "language_info": {
   "codemirror_mode": {
    "name": "ipython",
    "version": 3
   },
   "file_extension": ".py",
   "mimetype": "text/x-python",
   "name": "python",
   "nbconvert_exporter": "python",
   "pygments_lexer": "ipython3",
   "version": "3.13.0"
  },
  "numbering": {
   "headings": false
  }
 },
 "nbformat": 4,
 "nbformat_minor": 5
}
