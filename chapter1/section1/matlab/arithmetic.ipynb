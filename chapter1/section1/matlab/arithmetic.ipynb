{
 "cells": [
  {
   "cell_type": "code",
   "execution_count": null,
   "id": "e3a79244",
   "metadata": {
    "execution": {
     "iopub.execute_input": "2025-01-11T18:52:04.349920Z",
     "iopub.status.busy": "2025-01-11T18:52:04.349680Z",
     "iopub.status.idle": "2025-01-11T18:52:04.352580Z",
     "shell.execute_reply": "2025-01-11T18:52:04.352147Z"
    },
    "tags": [
     "remove-cell"
    ]
   },
   "outputs": [],
   "source": [
    "cd  /Users/driscoll/Documents/GitHub/fnc/matlab\n",
    "FNC_init"
   ]
  },
  {
   "cell_type": "markdown",
   "id": "770d61ec",
   "metadata": {},
   "source": [
    "[**Demo %s**](#demo-float-arithmetic)\n",
    "\n",
    "\n",
    "There is no double-precision number between $1$ and $1+\\epsilon_\\text{mach}$. Thus the following difference is zero despite its appearance."
   ]
  },
  {
   "cell_type": "code",
   "execution_count": 2,
   "id": "54cb1109",
   "metadata": {
    "execution": {
     "iopub.execute_input": "2025-01-11T18:52:04.354953Z",
     "iopub.status.busy": "2025-01-11T18:52:04.354809Z",
     "iopub.status.idle": "2025-01-11T18:52:04.357106Z",
     "shell.execute_reply": "2025-01-11T18:52:04.356544Z"
    }
   },
   "outputs": [
    {
     "data": {
      "text/html": [
       "<html><body><pre>ans = 0</pre></body></html>"
      ],
      "text/plain": [
       "ans = 0"
      ]
     },
     "execution_count": 2,
     "metadata": {},
     "output_type": "execute_result"
    }
   ],
   "source": [
    "( 1 + eps / 2 ) - 1"
   ]
  },
  {
   "cell_type": "markdown",
   "id": "353bdeab",
   "metadata": {},
   "source": [
    "However, the spacing between floats in $[1/2,1)$ is $\\macheps/2$, so both $1-\\macheps/2$ and its negative are represented exactly:"
   ]
  },
  {
   "cell_type": "code",
   "execution_count": 3,
   "id": "131eade6",
   "metadata": {
    "execution": {
     "iopub.execute_input": "2025-01-11T18:52:04.359245Z",
     "iopub.status.busy": "2025-01-11T18:52:04.359104Z",
     "iopub.status.idle": "2025-01-11T18:52:04.361208Z",
     "shell.execute_reply": "2025-01-11T18:52:04.360819Z"
    }
   },
   "outputs": [
    {
     "data": {
      "text/html": [
       "<html><body><pre>ans = 1.1102e-16</pre></body></html>"
      ],
      "text/plain": [
       "ans = 1.1102e-16"
      ]
     },
     "execution_count": 3,
     "metadata": {},
     "output_type": "execute_result"
    }
   ],
   "source": [
    "1 - (1 - eps / 2)"
   ]
  },
  {
   "cell_type": "markdown",
   "id": "9cad0c26",
   "metadata": {},
   "source": [
    "This is now the expected result. But we have found a rather shocking breakdown of the associative law of addition!"
   ]
  }
 ],
 "metadata": {
  "kernelspec": {
   "display_name": "MATLAB Kernel",
   "language": "matlab",
   "name": "jupyter_matlab_kernel"
  },
  "language_info": {
   "file_extension": ".m",
   "mimetype": "text/x-matlab",
   "name": "matlab"
  },
  "numbering": {
   "headings": false
  }
 },
 "nbformat": 4,
 "nbformat_minor": 5
}
