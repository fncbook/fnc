{
    "cells": [
        {
            "outputs": [],
            "cell_type": "code",
            "source": [
                "/Users/driscoll/Documents/GitHub/fnc/matlab/FNC_init"
            ],
            "id": "e3a79244",
            "metadata": {
                "execution": {
                    "iopub.status.idle": "2025-01-11T18:52:04.352580Z",
                    "iopub.status.busy": "2025-01-11T18:52:04.349680Z",
                    "iopub.execute_input": "2025-01-11T18:52:04.349920Z",
                    "shell.execute_reply": "2025-01-11T18:52:04.352147Z"
                },
                "tags": [
                    "remove-cell"
                ]
            },
            "execution_count": null
        },
        {
            "cell_type": "markdown",
            "source": [
                "[**Demo %s**](#demo-float-arithmetic)\n",
                "\n",
                "\n",
                "There is no double-precision number between $1$ and $1+\\epsilon_\\text{mach}$. Thus the following difference is zero despite its appearance."
            ],
            "id": "770d61ec",
            "metadata": {}
        },
        {
            "outputs": [
                {
                    "output_type": "execute_result",
                    "data": {
                        "text/plain": [
                            "ans = 0"
                        ],
                        "text/html": [
                            "<html><body><pre>ans = 0</pre></body></html>"
                        ]
                    },
                    "metadata": {},
                    "execution_count": 2
                }
            ],
            "cell_type": "code",
            "source": [
                "( 1 + eps / 2 ) - 1"
            ],
            "id": "54cb1109",
            "metadata": {
                "execution": {
                    "iopub.status.idle": "2025-01-11T18:52:04.357106Z",
                    "iopub.status.busy": "2025-01-11T18:52:04.354809Z",
                    "iopub.execute_input": "2025-01-11T18:52:04.354953Z",
                    "shell.execute_reply": "2025-01-11T18:52:04.356544Z"
                }
            },
            "execution_count": 2
        },
        {
            "cell_type": "markdown",
            "source": [
                "However, the spacing between floats in $[1/2,1)$ is $\\macheps/2$, so both $1-\\macheps/2$ and its negative are represented exactly:"
            ],
            "id": "353bdeab",
            "metadata": {}
        },
        {
            "outputs": [
                {
                    "output_type": "execute_result",
                    "data": {
                        "text/plain": [
                            "ans = 1.1102e-16"
                        ],
                        "text/html": [
                            "<html><body><pre>ans = 1.1102e-16</pre></body></html>"
                        ]
                    },
                    "metadata": {},
                    "execution_count": 3
                }
            ],
            "cell_type": "code",
            "source": [
                "1 - (1 - eps / 2)"
            ],
            "id": "131eade6",
            "metadata": {
                "execution": {
                    "iopub.status.idle": "2025-01-11T18:52:04.361208Z",
                    "iopub.status.busy": "2025-01-11T18:52:04.359104Z",
                    "iopub.execute_input": "2025-01-11T18:52:04.359245Z",
                    "shell.execute_reply": "2025-01-11T18:52:04.360819Z"
                }
            },
            "execution_count": 3
        },
        {
            "cell_type": "markdown",
            "source": [
                "This is now the expected result. But we have found a rather shocking breakdown of the associative law of addition!"
            ],
            "id": "9cad0c26",
            "metadata": {}
        }
    ],
    "nbformat_minor": 5,
    "metadata": {
        "language_info": {
            "file_extension": ".m",
            "mimetype": "text/x-matlab",
            "name": "matlab"
        },
        "kernelspec": {
            "name": "jupyter_matlab_kernel",
            "display_name": "MATLAB Kernel",
            "language": "matlab"
        },
        "numbering": {
            "headings": false
        }
    },
    "nbformat": 4
}
