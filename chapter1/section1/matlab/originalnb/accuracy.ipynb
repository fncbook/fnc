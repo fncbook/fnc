{
    "cells": [
        {
            "outputs": [],
            "cell_type": "code",
            "source": [
                "/Users/driscoll/Documents/GitHub/fnc/matlab/FNC_init"
            ],
            "id": "6d0459b8",
            "metadata": {
                "execution": {
                    "iopub.status.idle": "2025-01-11T18:52:01.001703Z",
                    "iopub.status.busy": "2025-01-11T18:52:00.997948Z",
                    "iopub.execute_input": "2025-01-11T18:52:00.998095Z",
                    "shell.execute_reply": "2025-01-11T18:52:01.000465Z"
                },
                "tags": [
                    "remove-cell"
                ]
            },
            "execution_count": 1
        },
        {
            "cell_type": "markdown",
            "source": [
                "[**Demo %s**](#demo-float-accuracy)\n",
                "\n",
                ":::{tip} Getting started in MATLAB\n",
                ":class: dropdown\n",
                "See @section-setup-matlab for instructions on how to install functions for MATLAB for this book.\n",
                ":::\n",
                "\n",
                "Recall the grade-school approximation to the number $\\pi$.\n",
                "\n",
                "```{index} MATLAB; format\n",
                "```\n",
                "\n",
                "```{tip}\n",
                ":class: dropdown\n",
                "The number of digits displayed is controlled by `format`, but the underlying values are not affected by it.\n",
                "```"
            ],
            "id": "d7baf760",
            "metadata": {}
        },
        {
            "outputs": [
                {
                    "output_type": "execute_result",
                    "data": {
                        "text/plain": [
                            "p = \n",
                            "   3.142857142857143\n"
                        ],
                        "text/html": [
                            "<html><body><pre>p = \n",
                            "   3.142857142857143\n",
                            "</pre></body></html>"
                        ]
                    },
                    "metadata": {},
                    "execution_count": 2
                }
            ],
            "cell_type": "code",
            "source": [
                "format long\n",
                "p = 22/7"
            ],
            "id": "445cc6d5",
            "metadata": {
                "execution": {
                    "iopub.status.idle": "2025-01-11T18:52:01.006656Z",
                    "iopub.status.busy": "2025-01-11T18:52:01.004160Z",
                    "iopub.execute_input": "2025-01-11T18:52:01.004311Z",
                    "shell.execute_reply": "2025-01-11T18:52:01.006258Z"
                }
            },
            "execution_count": 2
        },
        {
            "cell_type": "markdown",
            "source": [
                "Not all the digits displayed for `p` are the same as those of $\\pi$. \n",
                "\n",
                "```{tip}\n",
                ":class: dropdown\n",
                "The value of `pi` is predefined.\n",
                "```\n",
                "\n",
                "The absolute and relative accuracies of the approximation are as follows."
            ],
            "id": "04844719",
            "metadata": {}
        },
        {
            "outputs": [
                {
                    "output_type": "execute_result",
                    "data": {
                        "text/plain": [
                            "abs_accuracy = \n",
                            "   0.001264489267350\n"
                        ],
                        "text/html": [
                            "<html><body><pre>abs_accuracy = \n",
                            "   0.001264489267350\n",
                            "</pre></body></html>"
                        ]
                    },
                    "metadata": {},
                    "execution_count": 3
                },
                {
                    "output_type": "execute_result",
                    "data": {
                        "text/plain": [
                            "rel_accuracy = \n",
                            "     4.024994347707008e-04\n"
                        ],
                        "text/html": [
                            "<html><body><pre>rel_accuracy = \n",
                            "     4.024994347707008e-04\n",
                            "</pre></body></html>"
                        ]
                    },
                    "metadata": {},
                    "execution_count": 3
                }
            ],
            "cell_type": "code",
            "source": [
                "abs_accuracy = abs(p - pi)\n",
                "rel_accuracy = abs(p - pi) / pi"
            ],
            "id": "58758c93",
            "metadata": {
                "execution": {
                    "iopub.status.idle": "2025-01-11T18:52:01.010257Z",
                    "iopub.status.busy": "2025-01-11T18:52:01.008529Z",
                    "iopub.execute_input": "2025-01-11T18:52:01.008629Z",
                    "shell.execute_reply": "2025-01-11T18:52:01.010006Z"
                }
            },
            "execution_count": 3
        },
        {
            "cell_type": "markdown",
            "source": [
                "Here we calculate the number of accurate digits in `p`.\n",
                "```{tip}\n",
                ":class: dropdown\n",
                "The `log` function is for the natural log. For other common bases, use `log10` or `log2`.\n",
                "```"
            ],
            "id": "fba5c69e",
            "metadata": {}
        },
        {
            "outputs": [
                {
                    "output_type": "execute_result",
                    "data": {
                        "text/plain": [
                            "accurate_digits = 3.3952"
                        ],
                        "text/html": [
                            "<html><body><pre>accurate_digits = 3.3952</pre></body></html>"
                        ]
                    },
                    "metadata": {},
                    "execution_count": 4
                }
            ],
            "cell_type": "code",
            "source": [
                "format short\n",
                "accurate_digits = -log10(rel_accuracy)"
            ],
            "id": "f7ada96d",
            "metadata": {
                "execution": {
                    "iopub.status.idle": "2025-01-11T18:52:01.013333Z",
                    "iopub.status.busy": "2025-01-11T18:52:01.011337Z",
                    "iopub.execute_input": "2025-01-11T18:52:01.011394Z",
                    "shell.execute_reply": "2025-01-11T18:52:01.013144Z"
                }
            },
            "execution_count": 4
        }
    ],
    "nbformat_minor": 5,
    "metadata": {
        "language_info": {
            "file_extension": ".m",
            "mimetype": "text/x-matlab",
            "name": "matlab"
        },
        "kernelspec": {
            "name": "jupyter_matlab_kernel",
            "display_name": "MATLAB Kernel",
            "language": "matlab"
        },
        "numbering": {
            "headings": false
        }
    },
    "nbformat": 4
}
