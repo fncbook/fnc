{
 "cells": [
  {
   "cell_type": "code",
   "execution_count": 1,
   "id": "d0b678b4",
   "metadata": {
    "execution": {
     "iopub.execute_input": "2025-01-05T13:30:55.341000Z",
     "iopub.status.busy": "2025-01-05T13:30:55.057000Z",
     "iopub.status.idle": "2025-01-05T13:31:02.403000Z",
     "shell.execute_reply": "2025-01-05T13:31:02.349000Z"
    }
   },
   "outputs": [
    {
     "name": "stderr",
     "output_type": "stream",
     "text": [
      "\u001b[32m\u001b[1m  Activating\u001b[22m\u001b[39m "
     ]
    },
    {
     "name": "stderr",
     "output_type": "stream",
     "text": [
      "project at `~/Documents/GitHub/fnc`\n"
     ]
    }
   ],
   "source": [
    "include(\"../../../julia/FNC_init.jl\")"
   ]
  },
  {
   "cell_type": "markdown",
   "id": "7691f7b4",
   "metadata": {},
   "source": [
    "[**Demo %s**](#demo-symm-eig-rayleigh)\n",
    "\n",
    "We will use a symmetric matrix with a known EVD and eigenvalues equal to the integers from 1 to 20."
   ]
  },
  {
   "cell_type": "code",
   "execution_count": 2,
   "id": "8ad8bfd4",
   "metadata": {
    "execution": {
     "iopub.execute_input": "2025-01-05T13:31:02.557000Z",
     "iopub.status.busy": "2025-01-05T13:31:02.406000Z",
     "iopub.status.idle": "2025-01-05T13:31:02.923000Z",
     "shell.execute_reply": "2025-01-05T13:31:02.922000Z"
    }
   },
   "outputs": [],
   "source": [
    "n = 20;\n",
    "λ = 1:n\n",
    "D = diagm(λ)\n",
    "V, _ = qr(randn(n, n))   # get a random orthogonal V\n",
    "A = V * D * V';"
   ]
  },
  {
   "cell_type": "markdown",
   "id": "52f2ddb8",
   "metadata": {},
   "source": [
    "The Rayleigh quotient is a scalar-valued function of a vector."
   ]
  },
  {
   "cell_type": "code",
   "execution_count": 3,
   "id": "e3b22277",
   "metadata": {
    "execution": {
     "iopub.execute_input": "2025-01-05T13:31:02.924000Z",
     "iopub.status.busy": "2025-01-05T13:31:02.924000Z",
     "iopub.status.idle": "2025-01-05T13:31:02.925000Z",
     "shell.execute_reply": "2025-01-05T13:31:02.925000Z"
    }
   },
   "outputs": [],
   "source": [
    "R = x -> (x' * A * x) / (x' * x);"
   ]
  },
  {
   "cell_type": "markdown",
   "id": "e7999035",
   "metadata": {},
   "source": [
    "The Rayleigh quotient evaluated at an eigenvector gives the corresponding eigenvalue."
   ]
  },
  {
   "cell_type": "code",
   "execution_count": 4,
   "id": "ec80184a",
   "metadata": {
    "execution": {
     "iopub.execute_input": "2025-01-05T13:31:02.926000Z",
     "iopub.status.busy": "2025-01-05T13:31:02.926000Z",
     "iopub.status.idle": "2025-01-05T13:31:03.267000Z",
     "shell.execute_reply": "2025-01-05T13:31:03.267000Z"
    }
   },
   "outputs": [
    {
     "data": {
      "text/plain": [
       "6.999999999999994"
      ]
     },
     "execution_count": 4,
     "metadata": {},
     "output_type": "execute_result"
    }
   ],
   "source": [
    "R(V[:, 7])"
   ]
  },
  {
   "cell_type": "markdown",
   "id": "3ae84828",
   "metadata": {},
   "source": [
    "If the input to he Rayleigh quotient is within a small $\\delta$ of an eigenvector, its output is within $O(\\delta^2)$ of the corresponding eigenvalue. In this experiment, we observe that each additional digit of accuracy in an approximate eigenvector gives two more digits to the eigenvalue estimate coming from the Rayleigh quotient."
   ]
  },
  {
   "cell_type": "code",
   "execution_count": 5,
   "id": "63fd2854",
   "metadata": {
    "execution": {
     "iopub.execute_input": "2025-01-05T13:31:03.269000Z",
     "iopub.status.busy": "2025-01-05T13:31:03.268000Z",
     "iopub.status.idle": "2025-01-05T13:31:04.059000Z",
     "shell.execute_reply": "2025-01-05T13:31:04.059000Z"
    }
   },
   "outputs": [
    {
     "data": {
      "text/html": [
       "<table>\n",
       "  <thead>\n",
       "    <tr class = \"header headerLastRow\">\n",
       "      <th style = \"text-align: right;\">perturbation δ</th>\n",
       "      <th style = \"text-align: right;\">δ²</th>\n",
       "      <th style = \"text-align: right;\">R(x) - λ</th>\n",
       "    </tr>\n",
       "  </thead>\n",
       "  <tbody>\n",
       "    <tr>\n",
       "      <td style = \"text-align: right;\">0.1</td>\n",
       "      <td style = \"text-align: right;\">0.01</td>\n",
       "      <td style = \"text-align: right;\">0.00626359</td>\n",
       "    </tr>\n",
       "    <tr>\n",
       "      <td style = \"text-align: right;\">0.01</td>\n",
       "      <td style = \"text-align: right;\">0.0001</td>\n",
       "      <td style = \"text-align: right;\">0.000434439</td>\n",
       "    </tr>\n",
       "    <tr>\n",
       "      <td style = \"text-align: right;\">0.001</td>\n",
       "      <td style = \"text-align: right;\">1.0e-6</td>\n",
       "      <td style = \"text-align: right;\">7.2138e-6</td>\n",
       "    </tr>\n",
       "    <tr>\n",
       "      <td style = \"text-align: right;\">0.0001</td>\n",
       "      <td style = \"text-align: right;\">1.0e-8</td>\n",
       "      <td style = \"text-align: right;\">4.22653e-8</td>\n",
       "    </tr>\n",
       "    <tr>\n",
       "      <td style = \"text-align: right;\">1.0e-5</td>\n",
       "      <td style = \"text-align: right;\">1.0e-10</td>\n",
       "      <td style = \"text-align: right;\">1.7526e-10</td>\n",
       "    </tr>\n",
       "  </tbody>\n",
       "</table>\n"
      ]
     },
     "metadata": {},
     "output_type": "display_data"
    }
   ],
   "source": [
    "δ = @. 1 ./ 10^(1:5)\n",
    "eval_diff = zeros(size(δ))\n",
    "for (k, delta) in enumerate(δ)\n",
    "    e = randn(n)\n",
    "    e = delta * e / norm(e)\n",
    "    x = V[:, 7] + e\n",
    "    eval_diff[k] = R(x) - 7\n",
    "end\n",
    "labels = [\"perturbation δ\", \"δ²\", \"R(x) - λ\"]\n",
    "@pt :header=labels [δ δ .^ 2 eval_diff]"
   ]
  }
 ],
 "metadata": {
  "kernelspec": {
   "display_name": "Julia 1",
   "language": "julia",
   "name": "julia-1.11"
  },
  "language_info": {
   "file_extension": ".jl",
   "mimetype": "application/julia",
   "name": "julia",
   "version": "1.11.2"
  },
  "numbering": {
   "headings": false
  }
 },
 "nbformat": 4,
 "nbformat_minor": 5
}
