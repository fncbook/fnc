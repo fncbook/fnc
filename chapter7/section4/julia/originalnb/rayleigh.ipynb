{
    "cells": [
        {
            "outputs": [
                {
                    "name": "stderr",
                    "output_type": "stream",
                    "text": [
                        "\u001b[32m\u001b[1m  Activating\u001b[22m\u001b[39m "
                    ]
                },
                {
                    "name": "stderr",
                    "output_type": "stream",
                    "text": [
                        "project at `~/Documents/GitHub/fnc`\n"
                    ]
                }
            ],
            "cell_type": "code",
            "source": [
                "include(\"../../../julia/FNC_init.jl\")"
            ],
            "id": "d0b678b4",
            "metadata": {
                "execution": {
                    "iopub.status.idle": "2025-01-14T16:02:34.174000Z",
                    "iopub.status.busy": "2025-01-14T16:01:24.807000Z",
                    "iopub.execute_input": "2025-01-14T16:01:28.679000Z",
                    "shell.execute_reply": "2025-01-14T16:02:33.089000Z"
                },
                "tags": [
                    "remove-cell"
                ]
            },
            "execution_count": 1
        },
        {
            "cell_type": "markdown",
            "source": [
                "[**Demo %s**](#demo-symm-eig-rayleigh)\n",
                "\n",
                "We will use a symmetric matrix with a known EVD and eigenvalues equal to the integers from 1 to 20."
            ],
            "id": "7691f7b4",
            "metadata": {}
        },
        {
            "outputs": [],
            "cell_type": "code",
            "source": [
                "n = 20;\n",
                "λ = 1:n\n",
                "D = diagm(λ)\n",
                "V, _ = qr(randn(n, n))   # get a random orthogonal V\n",
                "A = V * D * V';"
            ],
            "id": "8ad8bfd4",
            "metadata": {
                "execution": {
                    "iopub.status.idle": "2025-01-14T16:02:41.180000Z",
                    "iopub.status.busy": "2025-01-14T16:02:34.180000Z",
                    "iopub.execute_input": "2025-01-14T16:02:36.947000Z",
                    "shell.execute_reply": "2025-01-14T16:02:41.169000Z"
                }
            },
            "execution_count": 2
        },
        {
            "cell_type": "markdown",
            "source": [
                "The Rayleigh quotient is a scalar-valued function of a vector."
            ],
            "id": "52f2ddb8",
            "metadata": {}
        },
        {
            "outputs": [],
            "cell_type": "code",
            "source": [
                "R = x -> (x' * A * x) / (x' * x);"
            ],
            "id": "e3b22277",
            "metadata": {
                "execution": {
                    "iopub.status.idle": "2025-01-14T16:02:41.196000Z",
                    "iopub.status.busy": "2025-01-14T16:02:41.192000Z",
                    "iopub.execute_input": "2025-01-14T16:02:41.193000Z",
                    "shell.execute_reply": "2025-01-14T16:02:41.196000Z"
                }
            },
            "execution_count": 3
        },
        {
            "cell_type": "markdown",
            "source": [
                "The Rayleigh quotient evaluated at an eigenvector gives the corresponding eigenvalue."
            ],
            "id": "e7999035",
            "metadata": {}
        },
        {
            "outputs": [
                {
                    "output_type": "execute_result",
                    "data": {
                        "text/plain": [
                            "7.000000000000003"
                        ]
                    },
                    "metadata": {},
                    "execution_count": 4
                }
            ],
            "cell_type": "code",
            "source": [
                "R(V[:, 7])"
            ],
            "id": "ec80184a",
            "metadata": {
                "execution": {
                    "iopub.status.idle": "2025-01-14T16:02:45.814000Z",
                    "iopub.status.busy": "2025-01-14T16:02:41.200000Z",
                    "iopub.execute_input": "2025-01-14T16:02:41.201000Z",
                    "shell.execute_reply": "2025-01-14T16:02:45.797000Z"
                }
            },
            "execution_count": 4
        },
        {
            "cell_type": "markdown",
            "source": [
                "If the input to he Rayleigh quotient is within a small $\\delta$ of an eigenvector, its output is within $O(\\delta^2)$ of the corresponding eigenvalue. In this experiment, we observe that each additional digit of accuracy in an approximate eigenvector gives two more digits to the eigenvalue estimate coming from the Rayleigh quotient."
            ],
            "id": "3ae84828",
            "metadata": {}
        },
        {
            "outputs": [
                {
                    "output_type": "display_data",
                    "data": {
                        "text/html": [
                            "<table>\n",
                            "  <thead>\n",
                            "    <tr class = \"header headerLastRow\">\n",
                            "      <th style = \"text-align: right;\">perturbation δ</th>\n",
                            "      <th style = \"text-align: right;\">δ²</th>\n",
                            "      <th style = \"text-align: right;\">R(x) - λ</th>\n",
                            "    </tr>\n",
                            "  </thead>\n",
                            "  <tbody>\n",
                            "    <tr>\n",
                            "      <td style = \"text-align: right;\">0.1</td>\n",
                            "      <td style = \"text-align: right;\">0.01</td>\n",
                            "      <td style = \"text-align: right;\">0.0405969</td>\n",
                            "    </tr>\n",
                            "    <tr>\n",
                            "      <td style = \"text-align: right;\">0.01</td>\n",
                            "      <td style = \"text-align: right;\">0.0001</td>\n",
                            "      <td style = \"text-align: right;\">7.42634e-5</td>\n",
                            "    </tr>\n",
                            "    <tr>\n",
                            "      <td style = \"text-align: right;\">0.001</td>\n",
                            "      <td style = \"text-align: right;\">1.0e-6</td>\n",
                            "      <td style = \"text-align: right;\">4.61311e-6</td>\n",
                            "    </tr>\n",
                            "    <tr>\n",
                            "      <td style = \"text-align: right;\">0.0001</td>\n",
                            "      <td style = \"text-align: right;\">1.0e-8</td>\n",
                            "      <td style = \"text-align: right;\">4.60012e-8</td>\n",
                            "    </tr>\n",
                            "    <tr>\n",
                            "      <td style = \"text-align: right;\">1.0e-5</td>\n",
                            "      <td style = \"text-align: right;\">1.0e-10</td>\n",
                            "      <td style = \"text-align: right;\">2.08299e-10</td>\n",
                            "    </tr>\n",
                            "  </tbody>\n",
                            "</table>\n"
                        ]
                    },
                    "metadata": {}
                }
            ],
            "cell_type": "code",
            "source": [
                "δ = @. 1 ./ 10^(1:5)\n",
                "eval_diff = zeros(size(δ))\n",
                "for (k, delta) in enumerate(δ)\n",
                "    e = randn(n)\n",
                "    e = delta * e / norm(e)\n",
                "    x = V[:, 7] + e\n",
                "    eval_diff[k] = R(x) - 7\n",
                "end\n",
                "labels = [\"perturbation δ\", \"δ²\", \"R(x) - λ\"]\n",
                "@pt :header=labels [δ δ .^ 2 eval_diff]"
            ],
            "id": "63fd2854",
            "metadata": {
                "execution": {
                    "iopub.status.idle": "2025-01-14T16:02:57.689000Z",
                    "iopub.status.busy": "2025-01-14T16:02:45.910000Z",
                    "iopub.execute_input": "2025-01-14T16:02:45.912000Z",
                    "shell.execute_reply": "2025-01-14T16:02:57.689000Z"
                }
            },
            "execution_count": 5
        }
    ],
    "nbformat_minor": 5,
    "metadata": {
        "language_info": {
            "file_extension": ".jl",
            "mimetype": "application/julia",
            "name": "julia",
            "version": "1.11.2"
        },
        "kernelspec": {
            "name": "julia-1.11",
            "display_name": "Julia 1",
            "language": "julia"
        },
        "numbering": {
            "headings": false
        }
    },
    "nbformat": 4
}
