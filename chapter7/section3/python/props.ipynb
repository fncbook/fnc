{
 "cells": [
  {
   "cell_type": "code",
   "execution_count": 1,
   "id": "49e243d3",
   "metadata": {
    "execution": {
     "iopub.execute_input": "2025-01-11T16:31:38.098909Z",
     "iopub.status.busy": "2025-01-11T16:31:38.098805Z",
     "iopub.status.idle": "2025-01-11T16:31:38.401880Z",
     "shell.execute_reply": "2025-01-11T16:31:38.401478Z"
    },
    "tags": [
     "remove-cell"
    ]
   },
   "outputs": [],
   "source": [
    "exec(open(\"../../../python/FNC_init.py\").read())"
   ]
  },
  {
   "cell_type": "markdown",
   "id": "3ce8cecb",
   "metadata": {},
   "source": [
    "[**Demo %s**](#demo-svd-props)\n",
    "\n",
    "We verify some of the fundamental SVD properties using standard Julia functions from `LinearAlgebra`."
   ]
  },
  {
   "cell_type": "code",
   "execution_count": 2,
   "id": "660bf746",
   "metadata": {
    "execution": {
     "iopub.execute_input": "2025-01-11T16:31:38.403750Z",
     "iopub.status.busy": "2025-01-11T16:31:38.403583Z",
     "iopub.status.idle": "2025-01-11T16:31:38.405813Z",
     "shell.execute_reply": "2025-01-11T16:31:38.405539Z"
    }
   },
   "outputs": [
    {
     "name": "stdout",
     "output_type": "stream",
     "text": [
      "[[  1.   1.   1.   1.]\n",
      " [  1.   2.   4.   8.]\n",
      " [  1.   3.   9.  27.]\n",
      " [  1.   4.  16.  64.]\n",
      " [  1.   5.  25. 125.]]\n"
     ]
    }
   ],
   "source": [
    "A = array([[(i + 1.0) ** j for j in range(4)] for i in range(5)])\n",
    "set_printoptions(precision=4)\n",
    "print(A)"
   ]
  },
  {
   "cell_type": "markdown",
   "id": "2f13a0b5",
   "metadata": {},
   "source": [
    "```{index} ! Python; svd\n",
    "```\n",
    "\n",
    "The factorization is obtained using `svd` from `numpy.linalg`."
   ]
  },
  {
   "cell_type": "code",
   "execution_count": 3,
   "id": "8e6f6f03",
   "metadata": {
    "execution": {
     "iopub.execute_input": "2025-01-11T16:31:38.407281Z",
     "iopub.status.busy": "2025-01-11T16:31:38.407157Z",
     "iopub.status.idle": "2025-01-11T16:31:38.409490Z",
     "shell.execute_reply": "2025-01-11T16:31:38.409213Z"
    }
   },
   "outputs": [
    {
     "name": "stdout",
     "output_type": "stream",
     "text": [
      "singular values:\n",
      "[1.4670e+02 5.7386e+00 9.9985e-01 1.1928e-01]\n"
     ]
    }
   ],
   "source": [
    "from numpy.linalg import svd\n",
    "U, sigma, Vh = svd(A)\n",
    "print(\"singular values:\")\n",
    "print(sigma)"
   ]
  },
  {
   "cell_type": "markdown",
   "id": "8a84b4a5",
   "metadata": {},
   "source": [
    "By default, the full factorization type is returned. This can be a memory hog if one of the dimensions of $\\mathbf{A}$ is very large."
   ]
  },
  {
   "cell_type": "code",
   "execution_count": 4,
   "id": "a1eccf3c",
   "metadata": {
    "execution": {
     "iopub.execute_input": "2025-01-11T16:31:38.410664Z",
     "iopub.status.busy": "2025-01-11T16:31:38.410575Z",
     "iopub.status.idle": "2025-01-11T16:31:38.412241Z",
     "shell.execute_reply": "2025-01-11T16:31:38.412015Z"
    }
   },
   "outputs": [
    {
     "name": "stdout",
     "output_type": "stream",
     "text": [
      "size of U: (5, 5)\n",
      "size of V: (4, 4)\n"
     ]
    }
   ],
   "source": [
    "print(\"size of U:\", U.shape)\n",
    "print(\"size of V:\", Vh.T.shape)"
   ]
  },
  {
   "cell_type": "markdown",
   "id": "af6c7f8e",
   "metadata": {},
   "source": [
    "Both $\\mathbf{U}$ and $\\mathbf{V}$ are orthogonal (in the complex case, unitary). Note that it's $\\mathbf{V}^*$ that is returned, not $\\mathbf{V}$."
   ]
  },
  {
   "cell_type": "code",
   "execution_count": 5,
   "id": "b3d44e5d",
   "metadata": {
    "execution": {
     "iopub.execute_input": "2025-01-11T16:31:38.413374Z",
     "iopub.status.busy": "2025-01-11T16:31:38.413289Z",
     "iopub.status.idle": "2025-01-11T16:31:38.416315Z",
     "shell.execute_reply": "2025-01-11T16:31:38.416094Z"
    }
   },
   "outputs": [
    {
     "name": "stdout",
     "output_type": "stream",
     "text": [
      "should be near zero: 5.61e-16\n",
      "should be near zero: 1.07e-15\n"
     ]
    }
   ],
   "source": [
    "print(f\"should be near zero: {norm(U.T @ U - eye(5), 2):.2e}\")\n",
    "print(f\"should be near zero: {norm(Vh @ Vh.T - eye(4), 2):.2e}\")"
   ]
  },
  {
   "cell_type": "markdown",
   "id": "abcec45d",
   "metadata": {},
   "source": [
    "Next we test that we have the factorization promised by the SVD, using `diagsvd` to construct a rectangular diagonal matrix."
   ]
  },
  {
   "cell_type": "code",
   "execution_count": 6,
   "id": "223f2f92",
   "metadata": {
    "execution": {
     "iopub.execute_input": "2025-01-11T16:31:38.417657Z",
     "iopub.status.busy": "2025-01-11T16:31:38.417571Z",
     "iopub.status.idle": "2025-01-11T16:31:38.419578Z",
     "shell.execute_reply": "2025-01-11T16:31:38.419333Z"
    }
   },
   "outputs": [
    {
     "name": "stdout",
     "output_type": "stream",
     "text": [
      "should be near zero: 8.56e-14\n"
     ]
    }
   ],
   "source": [
    "from scipy.linalg import diagsvd\n",
    "S = diagsvd(sigma, 5, 4)\n",
    "print(f\"should be near zero: {norm(A - U @ S @ Vh, 2):.2e}\")"
   ]
  },
  {
   "cell_type": "markdown",
   "id": "15eb2805",
   "metadata": {},
   "source": [
    "Here is verification of the connections between the singular values, norm, and condition number."
   ]
  },
  {
   "cell_type": "code",
   "execution_count": 7,
   "id": "0356e051",
   "metadata": {
    "execution": {
     "iopub.execute_input": "2025-01-11T16:31:38.420816Z",
     "iopub.status.busy": "2025-01-11T16:31:38.420730Z",
     "iopub.status.idle": "2025-01-11T16:31:38.422754Z",
     "shell.execute_reply": "2025-01-11T16:31:38.422545Z"
    }
   },
   "outputs": [
    {
     "name": "stdout",
     "output_type": "stream",
     "text": [
      "largest singular value: 146.69715365883005\n",
      "2-norm of the matrix:   146.69715365883005\n",
      "singular value ratio: 1229.8468876337527\n",
      "2-norm condition no.: 1229.8468876337529\n"
     ]
    }
   ],
   "source": [
    "from numpy.linalg import cond\n",
    "print(\"largest singular value:\", sigma[0])\n",
    "print(\"2-norm of the matrix:  \", norm(A, 2))\n",
    "print(\"singular value ratio:\", sigma[0] / sigma[-1])\n",
    "print(\"2-norm condition no.:\", cond(A, 2))"
   ]
  },
  {
   "cell_type": "markdown",
   "id": "a03b5b9d",
   "metadata": {},
   "source": [
    "For matrices that are much taller than they are wide, the thin SVD form is more memory-efficient, because $\\mathbf{U}$ takes the same shape."
   ]
  },
  {
   "cell_type": "code",
   "execution_count": 8,
   "id": "d6023876",
   "metadata": {
    "execution": {
     "iopub.execute_input": "2025-01-11T16:31:38.423925Z",
     "iopub.status.busy": "2025-01-11T16:31:38.423833Z",
     "iopub.status.idle": "2025-01-11T16:31:38.428171Z",
     "shell.execute_reply": "2025-01-11T16:31:38.427933Z"
    }
   },
   "outputs": [
    {
     "name": "stdout",
     "output_type": "stream",
     "text": [
      "size of U: (1000, 10)\n",
      "size of V: (10, 10)\n"
     ]
    }
   ],
   "source": [
    "A = random.randn(1000, 10)\n",
    "U, sigma, Vh = svd(A, full_matrices=False)\n",
    "print(\"size of U:\", U.shape)\n",
    "print(\"size of V:\", Vh.shape)"
   ]
  }
 ],
 "metadata": {
  "kernelspec": {
   "display_name": "Python 3",
   "language": "python",
   "name": "python3"
  },
  "language_info": {
   "codemirror_mode": {
    "name": "ipython",
    "version": 3
   },
   "file_extension": ".py",
   "mimetype": "text/x-python",
   "name": "python",
   "nbconvert_exporter": "python",
   "pygments_lexer": "ipython3",
   "version": "3.13.0"
  },
  "numbering": {
   "headings": false
  }
 },
 "nbformat": 4,
 "nbformat_minor": 5
}
