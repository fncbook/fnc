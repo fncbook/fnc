{
 "cells": [
  {
   "cell_type": "code",
   "execution_count": 1,
   "id": "7cef064f",
   "metadata": {
    "tags": [
     "remove-cell"
    ]
   },
   "outputs": [],
   "source": [
    "cd  /Users/driscoll/Documents/GitHub/fnc/matlab\n",
    "FNC_init"
   ]
  },
  {
   "cell_type": "markdown",
   "id": "e7784889",
   "metadata": {},
   "source": [
    "[**Demo %s**](#demo-evd-francisqr)\n",
    "\n",
    "Let's start with a known set of eigenvalues and an orthogonal eigenvector basis."
   ]
  },
  {
   "cell_type": "code",
   "execution_count": 2,
   "id": "defc0fac",
   "metadata": {},
   "outputs": [],
   "source": [
    "D = diag([-6, -1, 2, 4, 5]);\n",
    "[V, R]= qr(randn(5, 5));    % V is unitary\n",
    "A = V * D * V';"
   ]
  },
  {
   "cell_type": "code",
   "execution_count": 3,
   "id": "25960a2b",
   "metadata": {},
   "outputs": [
    {
     "data": {
      "text/html": [
       "<html><body><pre>ans = 5×1 double\n",
       "   -6.0000\n",
       "   -1.0000\n",
       "    2.0000\n",
       "    4.0000\n",
       "    5.0000\n",
       "</pre></body></html>"
      ],
      "text/plain": [
       "ans = 5×1 double\n",
       "   -6.0000\n",
       "   -1.0000\n",
       "    2.0000\n",
       "    4.0000\n",
       "    5.0000\n"
      ]
     },
     "execution_count": 3,
     "metadata": {},
     "output_type": "execute_result"
    }
   ],
   "source": [
    "sort(eig(A))"
   ]
  },
  {
   "cell_type": "markdown",
   "id": "0b681d04",
   "metadata": {},
   "source": [
    "Now we will take the QR factorization and just reverse the factors."
   ]
  },
  {
   "cell_type": "code",
   "execution_count": 4,
   "id": "30b3a0d1",
   "metadata": {},
   "outputs": [],
   "source": [
    "[Q, R] = qr(A);\n",
    "A = R * Q;"
   ]
  },
  {
   "cell_type": "markdown",
   "id": "e0c310ea",
   "metadata": {},
   "source": [
    "It turns out that this is a similarity transformation, so the eigenvalues are unchanged."
   ]
  },
  {
   "cell_type": "code",
   "execution_count": 5,
   "id": "a1f167e2",
   "metadata": {},
   "outputs": [
    {
     "data": {
      "text/html": [
       "<html><body><pre>ans = 5×1 double\n",
       "   -6.0000\n",
       "   -1.0000\n",
       "    2.0000\n",
       "    4.0000\n",
       "    5.0000\n",
       "</pre></body></html>"
      ],
      "text/plain": [
       "ans = 5×1 double\n",
       "   -6.0000\n",
       "   -1.0000\n",
       "    2.0000\n",
       "    4.0000\n",
       "    5.0000\n"
      ]
     },
     "execution_count": 5,
     "metadata": {},
     "output_type": "execute_result"
    }
   ],
   "source": [
    "sort(eig(A))"
   ]
  },
  {
   "cell_type": "markdown",
   "id": "c07e38b8",
   "metadata": {},
   "source": [
    "What's remarkable, and not elementary, is that if we repeat this transformation many times, the resulting matrix converges to $\\mathbf{D}$."
   ]
  },
  {
   "cell_type": "code",
   "execution_count": 6,
   "id": "0e76bfac",
   "metadata": {},
   "outputs": [
    {
     "data": {
      "text/html": [
       "<html><body><pre>A = 5×5 double\n",
       "  -6.0000e+00   4.7516e-03   2.0398e-06  -1.5473e-15  -6.8097e-16\n",
       "   4.7516e-03   5.0000e+00   6.9655e-04  -3.7412e-18   4.3122e-16\n",
       "   2.0398e-06   6.9655e-04   4.0000e+00  -3.5369e-13   6.5201e-17\n",
       "   6.3705e-20   1.5174e-16  -3.5392e-13   2.0000e+00   5.9730e-13\n",
       "   6.0514e-32   2.2720e-29   1.3083e-25   5.9655e-13  -1.0000e+00\n",
       "</pre></body></html>"
      ],
      "text/plain": [
       "A = 5×5 double\n",
       "  -6.0000e+00   4.7516e-03   2.0398e-06  -1.5473e-15  -6.8097e-16\n",
       "   4.7516e-03   5.0000e+00   6.9655e-04  -3.7412e-18   4.3122e-16\n",
       "   2.0398e-06   6.9655e-04   4.0000e+00  -3.5369e-13   6.5201e-17\n",
       "   6.3705e-20   1.5174e-16  -3.5392e-13   2.0000e+00   5.9730e-13\n",
       "   6.0514e-32   2.2720e-29   1.3083e-25   5.9655e-13  -1.0000e+00\n"
      ]
     },
     "execution_count": 6,
     "metadata": {},
     "output_type": "execute_result"
    }
   ],
   "source": [
    "for k = 1:40\n",
    "    [Q, R] = qr(A);\n",
    "    A = R * Q;\n",
    "end\n",
    "format short e\n",
    "A"
   ]
  }
 ],
 "metadata": {
  "kernelspec": {
   "display_name": "MATLAB Kernel",
   "language": "matlab",
   "name": "jupyter_matlab_kernel"
  },
  "language_info": {
   "file_extension": ".m",
   "mimetype": "text/x-matlab",
   "name": "matlab"
  },
  "numbering": {
   "headings": false
  }
 },
 "nbformat": 4,
 "nbformat_minor": 5
}
