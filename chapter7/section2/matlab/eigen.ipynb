{
    "cells": [
        {
            "cell_type": "markdown",
            "source": [
                "[**Demo %s**](#demo-evd-eigen)\n",
                "\n",
                "\n",
                "```{index} ! MATLAB; eig\n",
                "```\n",
                "\n",
                "The `eig` function with one output argument returns a vector of the eigenvalues of a matrix."
            ],
            "id": "9084172f",
            "metadata": {}
        },
        {
            "outputs": [
                {
                    "output_type": "execute_result",
                    "data": {
                        "text/plain": [
                            "lambda = 2×1 double\n",
                            "         0\n",
                            "    6.2832\n"
                        ],
                        "text/html": [
                            "<html><body><pre>lambda = 2×1 double\n",
                            "         0\n",
                            "    6.2832\n",
                            "</pre></body></html>"
                        ]
                    },
                    "metadata": {},
                    "execution_count": 2
                }
            ],
            "cell_type": "code",
            "source": [
                "A = pi * ones(2, 2);\n",
                "lambda = eig(A)"
            ],
            "id": "24dba062",
            "metadata": {},
            "execution_count": 2
        },
        {
            "cell_type": "markdown",
            "source": [
                "With two output arguments given, `eig` returns a matrix eigenvectors and a diagonal matrix with the eigenvalues."
            ],
            "id": "f4d39591",
            "metadata": {}
        },
        {
            "outputs": [
                {
                    "output_type": "execute_result",
                    "data": {
                        "text/plain": [
                            "V = 2×2 double\n",
                            "   -0.7071    0.7071\n",
                            "    0.7071    0.7071\n"
                        ],
                        "text/html": [
                            "<html><body><pre>V = 2×2 double\n",
                            "   -0.7071    0.7071\n",
                            "    0.7071    0.7071\n",
                            "</pre></body></html>"
                        ]
                    },
                    "metadata": {},
                    "execution_count": 3
                },
                {
                    "output_type": "execute_result",
                    "data": {
                        "text/plain": [
                            "D = 2×2 double\n",
                            "         0         0\n",
                            "         0    6.2832\n"
                        ],
                        "text/html": [
                            "<html><body><pre>D = 2×2 double\n",
                            "         0         0\n",
                            "         0    6.2832\n",
                            "</pre></body></html>"
                        ]
                    },
                    "metadata": {},
                    "execution_count": 3
                }
            ],
            "cell_type": "code",
            "source": [
                "[V, D] = eig(A)"
            ],
            "id": "6194fa42",
            "metadata": {},
            "execution_count": 3
        },
        {
            "cell_type": "markdown",
            "source": [
                "We can check the fact that this is an EVD."
            ],
            "id": "aff55cfc",
            "metadata": {}
        },
        {
            "outputs": [
                {
                    "output_type": "execute_result",
                    "data": {
                        "text/plain": [
                            "ans = 8.8818e-16"
                        ],
                        "text/html": [
                            "<html><body><pre>ans = 8.8818e-16</pre></body></html>"
                        ]
                    },
                    "metadata": {},
                    "execution_count": 4
                }
            ],
            "cell_type": "code",
            "source": [
                "norm( A - V*D/V )   % / V is like * inv(V)"
            ],
            "id": "77c83928",
            "metadata": {},
            "execution_count": 4
        },
        {
            "cell_type": "markdown",
            "source": [
                "If the matrix is not diagonalizable, no message is given, but `V` will be singular. The robust way to detect that circumstance is via $\\kappa(\\mathbf{V})$.\n",
                "\n",
                "```{index} condition number; of a matrix\n",
                "```"
            ],
            "id": "d0a92ebf",
            "metadata": {}
        },
        {
            "outputs": [
                {
                    "output_type": "execute_result",
                    "data": {
                        "text/plain": [
                            "V = 2×2 double\n",
                            "    1.0000   -1.0000\n",
                            "         0    0.0000\n"
                        ],
                        "text/html": [
                            "<html><body><pre>V = 2×2 double\n",
                            "    1.0000   -1.0000\n",
                            "         0    0.0000\n",
                            "</pre></body></html>"
                        ]
                    },
                    "metadata": {},
                    "execution_count": 5
                },
                {
                    "output_type": "execute_result",
                    "data": {
                        "text/plain": [
                            "D = 2×2 double\n",
                            "    -1     0\n",
                            "     0    -1\n"
                        ],
                        "text/html": [
                            "<html><body><pre>D = 2×2 double\n",
                            "    -1     0\n",
                            "     0    -1\n",
                            "</pre></body></html>"
                        ]
                    },
                    "metadata": {},
                    "execution_count": 5
                }
            ],
            "cell_type": "code",
            "source": [
                "A = [-1 1; 0 -1];\n",
                "[V, D] = eig(A)"
            ],
            "id": "1d8766dd",
            "metadata": {},
            "execution_count": 5
        },
        {
            "outputs": [
                {
                    "output_type": "execute_result",
                    "data": {
                        "text/plain": [
                            "ans = 9.0072e+15"
                        ],
                        "text/html": [
                            "<html><body><pre>ans = 9.0072e+15</pre></body></html>"
                        ]
                    },
                    "metadata": {},
                    "execution_count": 6
                }
            ],
            "cell_type": "code",
            "source": [
                "cond(V)"
            ],
            "id": "0556b7d7",
            "metadata": {},
            "execution_count": 6
        },
        {
            "cell_type": "markdown",
            "source": [
                "Even in the nondiagonalizable case, $\\mathbf{A}\\mathbf{V} = \\mathbf{V}\\mathbf{D}$ holds."
            ],
            "id": "91f5e42d",
            "metadata": {}
        },
        {
            "outputs": [
                {
                    "output_type": "execute_result",
                    "data": {
                        "text/plain": [
                            "ans = 2.2204e-16"
                        ],
                        "text/html": [
                            "<html><body><pre>ans = 2.2204e-16</pre></body></html>"
                        ]
                    },
                    "metadata": {},
                    "execution_count": 7
                }
            ],
            "cell_type": "code",
            "source": [
                "norm(A * V - V * D)"
            ],
            "id": "98a12219",
            "metadata": {},
            "execution_count": 7
        }
    ],
    "nbformat_minor": 5,
    "metadata": {
        "language_info": {
            "file_extension": ".m",
            "mimetype": "text/x-matlab",
            "name": "matlab"
        },
        "kernelspec": {
            "name": "jupyter_matlab_kernel",
            "display_name": "MATLAB Kernel",
            "language": "matlab"
        },
        "numbering": {
            "headings": false
        }
    },
    "nbformat": 4
}
