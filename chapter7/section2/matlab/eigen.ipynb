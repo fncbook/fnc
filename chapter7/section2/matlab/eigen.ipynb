{
 "cells": [
  {
   "cell_type": "code",
   "execution_count": 1,
   "id": "0da269c0",
   "metadata": {
    "tags": [
     "remove-cell"
    ]
   },
   "outputs": [],
   "source": [
    "cd  /Users/driscoll/Documents/GitHub/fnc/matlab\n",
    "FNC_init"
   ]
  },
  {
   "cell_type": "markdown",
   "id": "9084172f",
   "metadata": {},
   "source": [
    "[**Demo %s**](#demo-evd-eigen)\n",
    "\n",
    "\n",
    "```{index} ! MATLAB; eig\n",
    "```\n",
    "\n",
    "The `eig` function with one output argument returns a vector of the eigenvalues of a matrix."
   ]
  },
  {
   "cell_type": "code",
   "execution_count": 2,
   "id": "24dba062",
   "metadata": {},
   "outputs": [
    {
     "data": {
      "text/html": [
       "<html><body><pre>lambda = 2×1 double\n",
       "         0\n",
       "    6.2832\n",
       "</pre></body></html>"
      ],
      "text/plain": [
       "lambda = 2×1 double\n",
       "         0\n",
       "    6.2832\n"
      ]
     },
     "execution_count": 2,
     "metadata": {},
     "output_type": "execute_result"
    }
   ],
   "source": [
    "A = pi * ones(2, 2);\n",
    "lambda = eig(A)"
   ]
  },
  {
   "cell_type": "markdown",
   "id": "f4d39591",
   "metadata": {},
   "source": [
    "With two output arguments given, `eig` returns a matrix eigenvectors and a diagonal matrix with the eigenvalues."
   ]
  },
  {
   "cell_type": "code",
   "execution_count": 3,
   "id": "6194fa42",
   "metadata": {},
   "outputs": [
    {
     "data": {
      "text/html": [
       "<html><body><pre>V = 2×2 double\n",
       "   -0.7071    0.7071\n",
       "    0.7071    0.7071\n",
       "</pre></body></html>"
      ],
      "text/plain": [
       "V = 2×2 double\n",
       "   -0.7071    0.7071\n",
       "    0.7071    0.7071\n"
      ]
     },
     "execution_count": 3,
     "metadata": {},
     "output_type": "execute_result"
    },
    {
     "data": {
      "text/html": [
       "<html><body><pre>D = 2×2 double\n",
       "         0         0\n",
       "         0    6.2832\n",
       "</pre></body></html>"
      ],
      "text/plain": [
       "D = 2×2 double\n",
       "         0         0\n",
       "         0    6.2832\n"
      ]
     },
     "execution_count": 3,
     "metadata": {},
     "output_type": "execute_result"
    }
   ],
   "source": [
    "[V, D] = eig(A)"
   ]
  },
  {
   "cell_type": "markdown",
   "id": "aff55cfc",
   "metadata": {},
   "source": [
    "We can check the fact that this is an EVD."
   ]
  },
  {
   "cell_type": "code",
   "execution_count": 4,
   "id": "77c83928",
   "metadata": {},
   "outputs": [
    {
     "data": {
      "text/html": [
       "<html><body><pre>ans = 8.8818e-16</pre></body></html>"
      ],
      "text/plain": [
       "ans = 8.8818e-16"
      ]
     },
     "execution_count": 4,
     "metadata": {},
     "output_type": "execute_result"
    }
   ],
   "source": [
    "norm( A - V*D/V )   % / V is like * inv(V)"
   ]
  },
  {
   "cell_type": "markdown",
   "id": "d0a92ebf",
   "metadata": {},
   "source": [
    "If the matrix is not diagonalizable, no message is given, but `V` will be singular. The robust way to detect that circumstance is via $\\kappa(\\mathbf{V})$.\n",
    "\n",
    "```{index} condition number; of a matrix\n",
    "```"
   ]
  },
  {
   "cell_type": "code",
   "execution_count": 5,
   "id": "1d8766dd",
   "metadata": {},
   "outputs": [
    {
     "data": {
      "text/html": [
       "<html><body><pre>V = 2×2 double\n",
       "    1.0000   -1.0000\n",
       "         0    0.0000\n",
       "</pre></body></html>"
      ],
      "text/plain": [
       "V = 2×2 double\n",
       "    1.0000   -1.0000\n",
       "         0    0.0000\n"
      ]
     },
     "execution_count": 5,
     "metadata": {},
     "output_type": "execute_result"
    },
    {
     "data": {
      "text/html": [
       "<html><body><pre>D = 2×2 double\n",
       "    -1     0\n",
       "     0    -1\n",
       "</pre></body></html>"
      ],
      "text/plain": [
       "D = 2×2 double\n",
       "    -1     0\n",
       "     0    -1\n"
      ]
     },
     "execution_count": 5,
     "metadata": {},
     "output_type": "execute_result"
    }
   ],
   "source": [
    "A = [-1 1; 0 -1];\n",
    "[V, D] = eig(A)"
   ]
  },
  {
   "cell_type": "code",
   "execution_count": 6,
   "id": "0556b7d7",
   "metadata": {},
   "outputs": [
    {
     "data": {
      "text/html": [
       "<html><body><pre>ans = 9.0072e+15</pre></body></html>"
      ],
      "text/plain": [
       "ans = 9.0072e+15"
      ]
     },
     "execution_count": 6,
     "metadata": {},
     "output_type": "execute_result"
    }
   ],
   "source": [
    "cond(V)"
   ]
  },
  {
   "cell_type": "markdown",
   "id": "91f5e42d",
   "metadata": {},
   "source": [
    "Even in the nondiagonalizable case, $\\mathbf{A}\\mathbf{V} = \\mathbf{V}\\mathbf{D}$ holds."
   ]
  },
  {
   "cell_type": "code",
   "execution_count": 7,
   "id": "98a12219",
   "metadata": {},
   "outputs": [
    {
     "data": {
      "text/html": [
       "<html><body><pre>ans = 2.2204e-16</pre></body></html>"
      ],
      "text/plain": [
       "ans = 2.2204e-16"
      ]
     },
     "execution_count": 7,
     "metadata": {},
     "output_type": "execute_result"
    }
   ],
   "source": [
    "norm(A * V - V * D)"
   ]
  }
 ],
 "metadata": {
  "kernelspec": {
   "display_name": "MATLAB Kernel",
   "language": "matlab",
   "name": "jupyter_matlab_kernel"
  },
  "language_info": {
   "file_extension": ".m",
   "mimetype": "text/x-matlab",
   "name": "matlab"
  },
  "numbering": {
   "headings": false
  }
 },
 "nbformat": 4,
 "nbformat_minor": 5
}
