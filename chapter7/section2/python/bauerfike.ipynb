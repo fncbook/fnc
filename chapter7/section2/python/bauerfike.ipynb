{
 "cells": [
  {
   "cell_type": "code",
   "execution_count": 1,
   "id": "c0f22ef0",
   "metadata": {
    "tags": [
     "remove-cell"
    ]
   },
   "outputs": [],
   "source": [
    "exec(open(\"../../../python/FNC_init.py\").read())"
   ]
  },
  {
   "cell_type": "markdown",
   "id": "29b250d6",
   "metadata": {},
   "source": [
    "[**Demo %s**](#demo-evd-bauerfike)\n",
    "\n",
    "\n",
    "We first define a hermitian matrix. Note that we add the *conjugate* transpose of a matrix to itself."
   ]
  },
  {
   "cell_type": "code",
   "execution_count": 2,
   "id": "91353955",
   "metadata": {},
   "outputs": [],
   "source": [
    "n = 7\n",
    "A = random.randn(n, n) + 1j * random.randn(n, n)\n",
    "A = (A + conj(A.T)) / 2"
   ]
  },
  {
   "cell_type": "markdown",
   "id": "bfc11c33",
   "metadata": {},
   "source": [
    "```{index} Python; cond\n",
    "```\n",
    "\n",
    "We confirm that the matrix $\\mathbf{A}$ is normal by checking that $\\kappa(\\mathbf{V}) = 1$ (to within roundoff)."
   ]
  },
  {
   "cell_type": "code",
   "execution_count": 3,
   "id": "5584ee00",
   "metadata": {},
   "outputs": [
    {
     "name": "stdout",
     "output_type": "stream",
     "text": [
      "eigenvector matrix has condition number 1.00000\n"
     ]
    }
   ],
   "source": [
    "from numpy.linalg import eig, cond\n",
    "d, V = eig(A)\n",
    "print(f\"eigenvector matrix has condition number {cond(V):.5f}\")"
   ]
  },
  {
   "cell_type": "markdown",
   "id": "70b918f7",
   "metadata": {},
   "source": [
    "Now we perturb $\\mathbf{A}$ and measure the effect on the eigenvalues. Note that the Bauer–Fike theorem uses absolute differences, not relative ones. Since the ordering of eigenvalues can change, we look at all pairwise differences and take the minima."
   ]
  },
  {
   "cell_type": "code",
   "execution_count": 4,
   "id": "13ab16d1",
   "metadata": {},
   "outputs": [
    {
     "name": "stdout",
     "output_type": "stream",
     "text": [
      "[2.61227484e-09 3.05959487e-09 2.66433126e-09 2.64200133e-09\n",
      " 1.76157014e-09 1.14083548e-09 5.98333817e-10]\n"
     ]
    }
   ],
   "source": [
    "E = random.randn(n, n) + 1j * random.randn(n, n)\n",
    "E = 1e-8 * E / norm(E, 2)\n",
    "dd, _ = eig(A + E)\n",
    "dist = array([min([abs(x - y) for x in dd]) for y in d])\n",
    "print(dist)"
   ]
  },
  {
   "cell_type": "markdown",
   "id": "4eb50961",
   "metadata": {},
   "source": [
    "As promised, the perturbations in the eigenvalues do not exceed the normwise perturbation to the original matrix.\n",
    "\n",
    "Now we see what happens for a triangular matrix."
   ]
  },
  {
   "cell_type": "code",
   "execution_count": 5,
   "id": "2189bc43",
   "metadata": {},
   "outputs": [
    {
     "name": "stdout",
     "output_type": "stream",
     "text": [
      "[[1. 1. 1. 1. 1.]\n",
      " [0. 2. 2. 2. 2.]\n",
      " [0. 0. 3. 3. 3.]\n",
      " [0. 0. 0. 4. 4.]\n",
      " [0. 0. 0. 0. 5.]]\n"
     ]
    }
   ],
   "source": [
    "n = 20\n",
    "x = arange(n) + 1\n",
    "A = triu(outer(x, ones(n)))\n",
    "print(A[:5, :5])"
   ]
  },
  {
   "cell_type": "markdown",
   "id": "57901f7b",
   "metadata": {},
   "source": [
    "This matrix is not at all close to normal."
   ]
  },
  {
   "cell_type": "code",
   "execution_count": 6,
   "id": "d3ce99e3",
   "metadata": {},
   "outputs": [
    {
     "name": "stdout",
     "output_type": "stream",
     "text": [
      "eigenvector matrix has condition number 6.15e+09\n"
     ]
    }
   ],
   "source": [
    "d, V = eig(A)\n",
    "print(f\"eigenvector matrix has condition number {cond(V):.2e}\")"
   ]
  },
  {
   "cell_type": "markdown",
   "id": "23e572ac",
   "metadata": {},
   "source": [
    "As a result, the eigenvalues can change by a good deal more."
   ]
  },
  {
   "cell_type": "code",
   "execution_count": 7,
   "id": "0aa0b868",
   "metadata": {},
   "outputs": [
    {
     "name": "stdout",
     "output_type": "stream",
     "text": [
      "Maximum eigenvalue change is 5.40e-01\n",
      "The Bauer-Fike upper bound is 6.15e+01\n"
     ]
    }
   ],
   "source": [
    "E = random.randn(n, n) + 1j * random.randn(n, n)\n",
    "E = 1e-8 * E / norm(E, 2)\n",
    "dd, _ = eig(A + E)\n",
    "dist = array([min([abs(x - y) for x in dd]) for y in d])\n",
    "print(f\"Maximum eigenvalue change is {max(dist):.2e}\")\n",
    "print(f\"The Bauer-Fike upper bound is {cond(V) * norm(E, 2):.2e}\")"
   ]
  },
  {
   "cell_type": "markdown",
   "id": "3efad4d4",
   "metadata": {},
   "source": [
    "If we plot the eigenvalues of many perturbations, we get a cloud of points that roughly represents all the possible eigenvalues when representing this matrix with single-precision accuracy."
   ]
  },
  {
   "cell_type": "code",
   "execution_count": 8,
   "id": "bf699076",
   "metadata": {},
   "outputs": [
    {
     "data": {
      "image/png": "[encoded data removed]",
      "text/plain": [
       "<Figure size 700x400 with 1 Axes>"
      ]
     },
     "metadata": {},
     "output_type": "display_data"
    }
   ],
   "source": [
    "clf\n",
    "scatter(d, zeros(n), 18)\n",
    "axis(\"equal\") \n",
    "for _ in range(100):\n",
    "    E = random.randn(n, n) + 1j * random.randn(n, n)\n",
    "    E = finfo(np.float32).eps * E / norm(E, 2)\n",
    "    dd, _ = eig(A + E)\n",
    "    scatter(real(dd), imag(dd), 2, 'k')"
   ]
  },
  {
   "cell_type": "markdown",
   "id": "c0fc7765",
   "metadata": {},
   "source": [
    "The plot shows that some eigenvalues are much more affected than others. This situation is not unusual, but it is not explained by the Bauer–Fike theorem."
   ]
  }
 ],
 "metadata": {
  "kernelspec": {
   "display_name": "myst",
   "language": "python",
   "name": "python3"
  },
  "language_info": {
   "codemirror_mode": {
    "name": "ipython",
    "version": 3
   },
   "file_extension": ".py",
   "mimetype": "text/x-python",
   "name": "python",
   "nbconvert_exporter": "python",
   "pygments_lexer": "ipython3",
   "version": "3.13.0"
  },
  "numbering": {
   "headings": false
  }
 },
 "nbformat": 4,
 "nbformat_minor": 5
}
