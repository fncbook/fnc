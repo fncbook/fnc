{
    "cells": [
        {
            "outputs": [
                {
                    "name": "stderr",
                    "output_type": "stream",
                    "text": [
                        "\u001b[32m\u001b[1m  Activating\u001b[22m\u001b[39m "
                    ]
                },
                {
                    "name": "stderr",
                    "output_type": "stream",
                    "text": [
                        "project at `~/Documents/GitHub/fnc`\n"
                    ]
                }
            ],
            "cell_type": "code",
            "source": [
                "include(\"../../../julia/FNC_init.jl\")"
            ],
            "id": "c907667a",
            "metadata": {
                "execution": {
                    "iopub.status.idle": "2025-01-14T15:54:35.634000Z",
                    "iopub.status.busy": "2025-01-14T15:52:29.625000Z",
                    "iopub.execute_input": "2025-01-14T15:52:36.042000Z",
                    "shell.execute_reply": "2025-01-14T15:54:33.625000Z"
                },
                "tags": [
                    "remove-cell"
                ]
            },
            "execution_count": 1
        },
        {
            "cell_type": "markdown",
            "source": [
                "[**Demo %s**](#demo-evd-francisqr)\n",
                "\n",
                "Let's start with a known set of eigenvalues and an orthogonal eigenvector basis."
            ],
            "id": "eb78eb22",
            "metadata": {}
        },
        {
            "outputs": [
                {
                    "output_type": "execute_result",
                    "data": {
                        "text/plain": [
                            "5×5 Matrix{Float64}:\n",
                            "  2.06162     1.2125     2.14272   -1.18874    0.0865475\n",
                            "  1.2125      2.86786   -0.850363   0.600251  -1.44449\n",
                            "  2.14272    -0.850363   0.249158  -0.70525   -1.74809\n",
                            " -1.18874     0.600251  -0.70525    3.67604   -1.40915\n",
                            "  0.0865475  -1.44449   -1.74809   -1.40915   -4.85468"
                        ]
                    },
                    "metadata": {},
                    "execution_count": 2
                }
            ],
            "cell_type": "code",
            "source": [
                "D = diagm([-6, -1, 2, 4, 5])\n",
                "V, R = qr(randn(5, 5))    # V is unitary\n",
                "A = V * D * V'"
            ],
            "id": "e5bc69ae",
            "metadata": {
                "execution": {
                    "iopub.status.idle": "2025-01-14T15:55:34.121000Z",
                    "iopub.status.busy": "2025-01-14T15:54:35.722000Z",
                    "iopub.execute_input": "2025-01-14T15:54:41.102000Z",
                    "shell.execute_reply": "2025-01-14T15:55:34.110000Z"
                }
            },
            "execution_count": 2
        },
        {
            "outputs": [
                {
                    "output_type": "execute_result",
                    "data": {
                        "text/plain": [
                            "5-element Vector{Float64}:\n",
                            " -6.000000000000005\n",
                            " -1.0\n",
                            "  2.000000000000001\n",
                            "  4.000000000000002\n",
                            "  5.000000000000008"
                        ]
                    },
                    "metadata": {},
                    "execution_count": 3
                }
            ],
            "cell_type": "code",
            "source": [
                "eigvals(A)"
            ],
            "id": "70001eee",
            "metadata": {
                "execution": {
                    "iopub.status.idle": "2025-01-14T15:55:40.581000Z",
                    "iopub.status.busy": "2025-01-14T15:55:34.285000Z",
                    "iopub.execute_input": "2025-01-14T15:55:34.290000Z",
                    "shell.execute_reply": "2025-01-14T15:55:40.557000Z"
                }
            },
            "execution_count": 3
        },
        {
            "cell_type": "markdown",
            "source": [
                "Now we will take the QR factorization and just reverse the factors."
            ],
            "id": "4482045e",
            "metadata": {}
        },
        {
            "outputs": [],
            "cell_type": "code",
            "source": [
                "Q, R = qr(A)\n",
                "A = R * Q;"
            ],
            "id": "050dc767",
            "metadata": {
                "execution": {
                    "iopub.status.idle": "2025-01-14T15:55:42.058000Z",
                    "iopub.status.busy": "2025-01-14T15:55:40.675000Z",
                    "iopub.execute_input": "2025-01-14T15:55:40.714000Z",
                    "shell.execute_reply": "2025-01-14T15:55:42.053000Z"
                }
            },
            "execution_count": 4
        },
        {
            "cell_type": "markdown",
            "source": [
                "It turns out that this is a similarity transformation, so the eigenvalues are unchanged."
            ],
            "id": "11d3957c",
            "metadata": {}
        },
        {
            "outputs": [
                {
                    "output_type": "execute_result",
                    "data": {
                        "text/plain": [
                            "5-element Vector{Float64}:\n",
                            " -5.999999999999996\n",
                            " -0.9999999999999996\n",
                            "  1.9999999999999991\n",
                            "  4.000000000000001\n",
                            "  4.99999999999999"
                        ]
                    },
                    "metadata": {},
                    "execution_count": 5
                }
            ],
            "cell_type": "code",
            "source": [
                "eigvals(A)"
            ],
            "id": "26071eff",
            "metadata": {
                "execution": {
                    "iopub.status.idle": "2025-01-14T15:55:42.292000Z",
                    "iopub.status.busy": "2025-01-14T15:55:42.140000Z",
                    "iopub.execute_input": "2025-01-14T15:55:42.156000Z",
                    "shell.execute_reply": "2025-01-14T15:55:42.289000Z"
                }
            },
            "execution_count": 5
        },
        {
            "cell_type": "markdown",
            "source": [
                "What's remarkable, and not elementary, is that if we repeat this transformation many times, the resulting matrix converges to $\\mathbf{D}$."
            ],
            "id": "d677d5e7",
            "metadata": {}
        },
        {
            "outputs": [
                {
                    "output_type": "execute_result",
                    "data": {
                        "text/plain": [
                            "5×5 Matrix{Float64}:\n",
                            " -5.99991      -0.030599      3.90602e-6   -6.93116e-16   9.60465e-16\n",
                            " -0.030599      4.99991      -0.000217352  -1.24717e-15   5.23502e-16\n",
                            "  3.90602e-6   -0.000217352   4.0          -5.47788e-13  -3.31276e-16\n",
                            " -5.18768e-19   7.18457e-17  -5.4799e-13    2.0          -6.06037e-13\n",
                            "  3.08365e-32   1.07152e-28   4.43523e-25  -6.05844e-13  -1.0"
                        ]
                    },
                    "metadata": {},
                    "execution_count": 6
                }
            ],
            "cell_type": "code",
            "source": [
                "for k in 1:40\n",
                "    Q, R = qr(A)\n",
                "    A = R * Q\n",
                "end\n",
                "A"
            ],
            "id": "73cb6618",
            "metadata": {
                "execution": {
                    "iopub.status.idle": "2025-01-14T15:55:42.417000Z",
                    "iopub.status.busy": "2025-01-14T15:55:42.371000Z",
                    "iopub.execute_input": "2025-01-14T15:55:42.372000Z",
                    "shell.execute_reply": "2025-01-14T15:55:42.416000Z"
                }
            },
            "execution_count": 6
        }
    ],
    "nbformat_minor": 5,
    "metadata": {
        "language_info": {
            "file_extension": ".jl",
            "mimetype": "application/julia",
            "name": "julia",
            "version": "1.11.2"
        },
        "kernelspec": {
            "name": "julia-1.11",
            "display_name": "Julia 1",
            "language": "julia"
        },
        "numbering": {
            "headings": false
        }
    },
    "nbformat": 4
}
