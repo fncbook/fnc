{
 "cells": [
  {
   "cell_type": "code",
   "execution_count": 1,
   "id": "c907667a",
   "metadata": {
    "execution": {
     "iopub.execute_input": "2025-01-14T15:52:36.042000Z",
     "iopub.status.busy": "2025-01-14T15:52:29.625000Z",
     "iopub.status.idle": "2025-01-14T15:54:35.634000Z",
     "shell.execute_reply": "2025-01-14T15:54:33.625000Z"
    }
   },
   "outputs": [
    {
     "name": "stderr",
     "output_type": "stream",
     "text": [
      "\u001b[32m\u001b[1m  Activating\u001b[22m\u001b[39m "
     ]
    },
    {
     "name": "stderr",
     "output_type": "stream",
     "text": [
      "project at `~/Documents/GitHub/fnc`\n"
     ]
    }
   ],
   "source": [
    "include(\"../../../julia/FNC_init.jl\")"
   ]
  },
  {
   "cell_type": "markdown",
   "id": "eb78eb22",
   "metadata": {},
   "source": [
    "[**Demo %s**](#demo-evd-francisqr)\n",
    "\n",
    "Let's start with a known set of eigenvalues and an orthogonal eigenvector basis."
   ]
  },
  {
   "cell_type": "code",
   "execution_count": 2,
   "id": "e5bc69ae",
   "metadata": {
    "execution": {
     "iopub.execute_input": "2025-01-14T15:54:41.102000Z",
     "iopub.status.busy": "2025-01-14T15:54:35.722000Z",
     "iopub.status.idle": "2025-01-14T15:55:34.121000Z",
     "shell.execute_reply": "2025-01-14T15:55:34.110000Z"
    }
   },
   "outputs": [
    {
     "data": {
      "text/plain": [
       "5×5 Matrix{Float64}:\n",
       "  2.06162     1.2125     2.14272   -1.18874    0.0865475\n",
       "  1.2125      2.86786   -0.850363   0.600251  -1.44449\n",
       "  2.14272    -0.850363   0.249158  -0.70525   -1.74809\n",
       " -1.18874     0.600251  -0.70525    3.67604   -1.40915\n",
       "  0.0865475  -1.44449   -1.74809   -1.40915   -4.85468"
      ]
     },
     "execution_count": 2,
     "metadata": {},
     "output_type": "execute_result"
    }
   ],
   "source": [
    "D = diagm([-6, -1, 2, 4, 5])\n",
    "V, R = qr(randn(5, 5))    # V is unitary\n",
    "A = V * D * V'"
   ]
  },
  {
   "cell_type": "code",
   "execution_count": 3,
   "id": "70001eee",
   "metadata": {
    "execution": {
     "iopub.execute_input": "2025-01-14T15:55:34.290000Z",
     "iopub.status.busy": "2025-01-14T15:55:34.285000Z",
     "iopub.status.idle": "2025-01-14T15:55:40.581000Z",
     "shell.execute_reply": "2025-01-14T15:55:40.557000Z"
    }
   },
   "outputs": [
    {
     "data": {
      "text/plain": [
       "5-element Vector{Float64}:\n",
       " -6.000000000000005\n",
       " -1.0\n",
       "  2.000000000000001\n",
       "  4.000000000000002\n",
       "  5.000000000000008"
      ]
     },
     "execution_count": 3,
     "metadata": {},
     "output_type": "execute_result"
    }
   ],
   "source": [
    "eigvals(A)"
   ]
  },
  {
   "cell_type": "markdown",
   "id": "4482045e",
   "metadata": {},
   "source": [
    "Now we will take the QR factorization and just reverse the factors."
   ]
  },
  {
   "cell_type": "code",
   "execution_count": 4,
   "id": "050dc767",
   "metadata": {
    "execution": {
     "iopub.execute_input": "2025-01-14T15:55:40.714000Z",
     "iopub.status.busy": "2025-01-14T15:55:40.675000Z",
     "iopub.status.idle": "2025-01-14T15:55:42.058000Z",
     "shell.execute_reply": "2025-01-14T15:55:42.053000Z"
    }
   },
   "outputs": [],
   "source": [
    "Q, R = qr(A)\n",
    "A = R * Q;"
   ]
  },
  {
   "cell_type": "markdown",
   "id": "11d3957c",
   "metadata": {},
   "source": [
    "It turns out that this is a similarity transformation, so the eigenvalues are unchanged."
   ]
  },
  {
   "cell_type": "code",
   "execution_count": 5,
   "id": "26071eff",
   "metadata": {
    "execution": {
     "iopub.execute_input": "2025-01-14T15:55:42.156000Z",
     "iopub.status.busy": "2025-01-14T15:55:42.140000Z",
     "iopub.status.idle": "2025-01-14T15:55:42.292000Z",
     "shell.execute_reply": "2025-01-14T15:55:42.289000Z"
    }
   },
   "outputs": [
    {
     "data": {
      "text/plain": [
       "5-element Vector{Float64}:\n",
       " -5.999999999999996\n",
       " -0.9999999999999996\n",
       "  1.9999999999999991\n",
       "  4.000000000000001\n",
       "  4.99999999999999"
      ]
     },
     "execution_count": 5,
     "metadata": {},
     "output_type": "execute_result"
    }
   ],
   "source": [
    "eigvals(A)"
   ]
  },
  {
   "cell_type": "markdown",
   "id": "d677d5e7",
   "metadata": {},
   "source": [
    "What's remarkable, and not elementary, is that if we repeat this transformation many times, the resulting matrix converges to $\\mathbf{D}$."
   ]
  },
  {
   "cell_type": "code",
   "execution_count": 6,
   "id": "73cb6618",
   "metadata": {
    "execution": {
     "iopub.execute_input": "2025-01-14T15:55:42.372000Z",
     "iopub.status.busy": "2025-01-14T15:55:42.371000Z",
     "iopub.status.idle": "2025-01-14T15:55:42.417000Z",
     "shell.execute_reply": "2025-01-14T15:55:42.416000Z"
    }
   },
   "outputs": [
    {
     "data": {
      "text/plain": [
       "5×5 Matrix{Float64}:\n",
       " -5.99991      -0.030599      3.90602e-6   -6.93116e-16   9.60465e-16\n",
       " -0.030599      4.99991      -0.000217352  -1.24717e-15   5.23502e-16\n",
       "  3.90602e-6   -0.000217352   4.0          -5.47788e-13  -3.31276e-16\n",
       " -5.18768e-19   7.18457e-17  -5.4799e-13    2.0          -6.06037e-13\n",
       "  3.08365e-32   1.07152e-28   4.43523e-25  -6.05844e-13  -1.0"
      ]
     },
     "execution_count": 6,
     "metadata": {},
     "output_type": "execute_result"
    }
   ],
   "source": [
    "for k in 1:40\n",
    "    Q, R = qr(A)\n",
    "    A = R * Q\n",
    "end\n",
    "A"
   ]
  }
 ],
 "metadata": {
  "kernelspec": {
   "display_name": "Julia 1",
   "language": "julia",
   "name": "julia-1.11"
  },
  "language_info": {
   "file_extension": ".jl",
   "mimetype": "application/julia",
   "name": "julia",
   "version": "1.11.2"
  },
  "numbering": {
   "headings": false
  }
 },
 "nbformat": 4,
 "nbformat_minor": 5
}
