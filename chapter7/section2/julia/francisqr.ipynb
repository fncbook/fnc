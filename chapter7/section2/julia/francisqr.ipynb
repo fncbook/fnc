{
 "cells": [
  {
   "cell_type": "code",
   "execution_count": 1,
   "id": "c907667a",
   "metadata": {
    "execution": {
     "iopub.execute_input": "2025-01-05T13:30:23.853000Z",
     "iopub.status.busy": "2025-01-05T13:30:23.578000Z",
     "iopub.status.idle": "2025-01-05T13:30:29.822000Z",
     "shell.execute_reply": "2025-01-05T13:30:29.775000Z"
    }
   },
   "outputs": [
    {
     "name": "stderr",
     "output_type": "stream",
     "text": [
      "\u001b[32m\u001b[1m  Activating\u001b[22m\u001b[39m "
     ]
    },
    {
     "name": "stderr",
     "output_type": "stream",
     "text": [
      "project at `~/Documents/GitHub/fnc`\n"
     ]
    }
   ],
   "source": [
    "include(\"../../../julia/FNC_init.jl\")"
   ]
  },
  {
   "cell_type": "markdown",
   "id": "eb78eb22",
   "metadata": {},
   "source": [
    "[**Demo %s**](#demo-evd-francisqr)\n",
    "\n",
    "Let's start with a known set of eigenvalues and an orthogonal eigenvector basis."
   ]
  },
  {
   "cell_type": "code",
   "execution_count": 2,
   "id": "e5bc69ae",
   "metadata": {
    "execution": {
     "iopub.execute_input": "2025-01-05T13:30:29.959000Z",
     "iopub.status.busy": "2025-01-05T13:30:29.824000Z",
     "iopub.status.idle": "2025-01-05T13:30:31.236000Z",
     "shell.execute_reply": "2025-01-05T13:30:31.235000Z"
    }
   },
   "outputs": [
    {
     "data": {
      "text/plain": [
       "5×5 Matrix{Float64}:\n",
       "  0.56426    0.253424    -1.82772    -1.34605   -0.542555\n",
       "  0.253424  -0.704706     1.38207    -3.59115    0.00696558\n",
       " -1.82772    1.38207      1.54213     2.11461   -0.0928191\n",
       " -1.34605   -3.59115      2.11461    -2.15424   -0.995966\n",
       " -0.542555   0.00696558  -0.0928191  -0.995966   4.75256"
      ]
     },
     "execution_count": 2,
     "metadata": {},
     "output_type": "execute_result"
    }
   ],
   "source": [
    "D = diagm([-6, -1, 2, 4, 5])\n",
    "V, R = qr(randn(5, 5))    # V is unitary\n",
    "A = V * D * V'"
   ]
  },
  {
   "cell_type": "code",
   "execution_count": 3,
   "id": "70001eee",
   "metadata": {
    "execution": {
     "iopub.execute_input": "2025-01-05T13:30:31.237000Z",
     "iopub.status.busy": "2025-01-05T13:30:31.237000Z",
     "iopub.status.idle": "2025-01-05T13:30:31.439000Z",
     "shell.execute_reply": "2025-01-05T13:30:31.439000Z"
    }
   },
   "outputs": [
    {
     "data": {
      "text/plain": [
       "5-element Vector{Float64}:\n",
       " -5.999999999999998\n",
       " -0.9999999999999978\n",
       "  2.000000000000001\n",
       "  4.000000000000001\n",
       "  4.999999999999999"
      ]
     },
     "execution_count": 3,
     "metadata": {},
     "output_type": "execute_result"
    }
   ],
   "source": [
    "eigvals(A)"
   ]
  },
  {
   "cell_type": "markdown",
   "id": "4482045e",
   "metadata": {},
   "source": [
    "Now we will take the QR factorization and just reverse the factors."
   ]
  },
  {
   "cell_type": "code",
   "execution_count": 4,
   "id": "050dc767",
   "metadata": {
    "execution": {
     "iopub.execute_input": "2025-01-05T13:30:31.441000Z",
     "iopub.status.busy": "2025-01-05T13:30:31.441000Z",
     "iopub.status.idle": "2025-01-05T13:30:31.475000Z",
     "shell.execute_reply": "2025-01-05T13:30:31.474000Z"
    }
   },
   "outputs": [],
   "source": [
    "Q, R = qr(A)\n",
    "A = R * Q;"
   ]
  },
  {
   "cell_type": "markdown",
   "id": "11d3957c",
   "metadata": {},
   "source": [
    "It turns out that this is a similarity transformation, so the eigenvalues are unchanged."
   ]
  },
  {
   "cell_type": "code",
   "execution_count": 5,
   "id": "26071eff",
   "metadata": {
    "execution": {
     "iopub.execute_input": "2025-01-05T13:30:31.477000Z",
     "iopub.status.busy": "2025-01-05T13:30:31.477000Z",
     "iopub.status.idle": "2025-01-05T13:30:31.478000Z",
     "shell.execute_reply": "2025-01-05T13:30:31.478000Z"
    }
   },
   "outputs": [
    {
     "data": {
      "text/plain": [
       "5-element Vector{Float64}:\n",
       " -5.999999999999988\n",
       " -1.0000000000000004\n",
       "  2.0000000000000004\n",
       "  3.999999999999998\n",
       "  5.0"
      ]
     },
     "execution_count": 5,
     "metadata": {},
     "output_type": "execute_result"
    }
   ],
   "source": [
    "eigvals(A)"
   ]
  },
  {
   "cell_type": "markdown",
   "id": "d677d5e7",
   "metadata": {},
   "source": [
    "What's remarkable, and not elementary, is that if we repeat this transformation many times, the resulting matrix converges to $\\mathbf{D}$."
   ]
  },
  {
   "cell_type": "code",
   "execution_count": 6,
   "id": "73cb6618",
   "metadata": {
    "execution": {
     "iopub.execute_input": "2025-01-05T13:30:31.479000Z",
     "iopub.status.busy": "2025-01-05T13:30:31.479000Z",
     "iopub.status.idle": "2025-01-05T13:30:31.487000Z",
     "shell.execute_reply": "2025-01-05T13:30:31.487000Z"
    }
   },
   "outputs": [
    {
     "data": {
      "text/plain": [
       "5×5 Matrix{Float64}:\n",
       " -6.0           0.00149122   3.62886e-5   -1.07897e-15   3.80473e-16\n",
       "  0.00149122    4.99918      0.0286697    -3.7278e-15    6.61946e-17\n",
       "  3.62886e-5    0.0286697    4.00082       6.76809e-14   1.59944e-15\n",
       " -1.11185e-18  -3.66778e-15  6.6395e-14    2.0           1.47023e-12\n",
       " -1.0308e-30   -4.65767e-26  1.68834e-24   1.47035e-12  -1.0"
      ]
     },
     "execution_count": 6,
     "metadata": {},
     "output_type": "execute_result"
    }
   ],
   "source": [
    "for k in 1:40\n",
    "    Q, R = qr(A)\n",
    "    A = R * Q\n",
    "end\n",
    "A"
   ]
  }
 ],
 "metadata": {
  "kernelspec": {
   "display_name": "Julia 1",
   "language": "julia",
   "name": "julia-1.11"
  },
  "language_info": {
   "file_extension": ".jl",
   "mimetype": "application/julia",
   "name": "julia",
   "version": "1.11.2"
  },
  "numbering": {
   "headings": false
  }
 },
 "nbformat": 4,
 "nbformat_minor": 5
}
