{
 "cells": [
  {
   "cell_type": "code",
   "execution_count": 1,
   "id": "b10c0449",
   "metadata": {
    "execution": {
     "iopub.execute_input": "2025-01-11T17:43:18.453296Z",
     "iopub.status.busy": "2025-01-11T17:43:18.453094Z",
     "iopub.status.idle": "2025-01-11T17:43:18.796806Z",
     "shell.execute_reply": "2025-01-11T17:43:18.796412Z"
    },
    "tags": [
     "remove-cell"
    ]
   },
   "outputs": [],
   "source": [
    "exec(open(\"../../../python/FNC_init.py\").read())"
   ]
  },
  {
   "cell_type": "markdown",
   "id": "a8444574",
   "metadata": {},
   "source": [
    "[**Demo %s**](#demo-lu-derive)\n",
    "\n",
    "For illustration, we work on a $4 \\times 4$ matrix. We name it with a subscript in preparation for what comes."
   ]
  },
  {
   "cell_type": "code",
   "execution_count": 2,
   "id": "562ef823",
   "metadata": {
    "execution": {
     "iopub.execute_input": "2025-01-11T17:43:18.798439Z",
     "iopub.status.busy": "2025-01-11T17:43:18.798317Z",
     "iopub.status.idle": "2025-01-11T17:43:18.800232Z",
     "shell.execute_reply": "2025-01-11T17:43:18.800013Z"
    }
   },
   "outputs": [],
   "source": [
    "A_1 = array([\n",
    "     [2,    0,    4,    3], \n",
    "     [-4,    5,   -7,  -10], \n",
    "     [1,   15,    2,   -4.5],\n",
    "     [-2,    0,    2,  -13]\n",
    "        ])\n",
    "L = eye(4)\n",
    "U = zeros((4, 4));"
   ]
  },
  {
   "cell_type": "markdown",
   "id": "74abf010",
   "metadata": {},
   "source": [
    "Now we appeal to {eq}`outer-row1`. Since $L_{11}=1$, we see that the first row of $\\mathbf{U}$ is just the first row of $\\mathbf{A}_1$."
   ]
  },
  {
   "cell_type": "code",
   "execution_count": 3,
   "id": "d476eed1",
   "metadata": {
    "execution": {
     "iopub.execute_input": "2025-01-11T17:43:18.801375Z",
     "iopub.status.busy": "2025-01-11T17:43:18.801294Z",
     "iopub.status.idle": "2025-01-11T17:43:18.803236Z",
     "shell.execute_reply": "2025-01-11T17:43:18.802960Z"
    }
   },
   "outputs": [
    {
     "name": "stdout",
     "output_type": "stream",
     "text": [
      "[[2. 0. 4. 3.]\n",
      " [0. 0. 0. 0.]\n",
      " [0. 0. 0. 0.]\n",
      " [0. 0. 0. 0.]]\n"
     ]
    }
   ],
   "source": [
    "U[0, :] = A_1[0, :]\n",
    "print(U)"
   ]
  },
  {
   "cell_type": "markdown",
   "id": "73d263a8",
   "metadata": {},
   "source": [
    "From {eq}`outer-col1`, we see that we can find the first column of $\\mathbf{L}$ from the first column of $\\mathbf{A}_1$."
   ]
  },
  {
   "cell_type": "code",
   "execution_count": 4,
   "id": "63cbf72f",
   "metadata": {
    "execution": {
     "iopub.execute_input": "2025-01-11T17:43:18.804431Z",
     "iopub.status.busy": "2025-01-11T17:43:18.804351Z",
     "iopub.status.idle": "2025-01-11T17:43:18.806491Z",
     "shell.execute_reply": "2025-01-11T17:43:18.806247Z"
    }
   },
   "outputs": [
    {
     "name": "stdout",
     "output_type": "stream",
     "text": [
      "[[ 1.   0.   0.   0. ]\n",
      " [-2.   1.   0.   0. ]\n",
      " [ 0.5  0.   1.   0. ]\n",
      " [-1.   0.   0.   1. ]]\n"
     ]
    }
   ],
   "source": [
    "L[:, 0] = A_1[:, 0] / U[0, 0]\n",
    "print(L)"
   ]
  },
  {
   "cell_type": "markdown",
   "id": "2ded075c",
   "metadata": {},
   "source": [
    "We have obtained the first term in the sum {eq}`matrixouter` for $\\mathbf{L}\\mathbf{U}$, and we subtract it away from $\\mathbf{A}_1$."
   ]
  },
  {
   "cell_type": "code",
   "execution_count": 5,
   "id": "d8194e80",
   "metadata": {
    "execution": {
     "iopub.execute_input": "2025-01-11T17:43:18.807729Z",
     "iopub.status.busy": "2025-01-11T17:43:18.807639Z",
     "iopub.status.idle": "2025-01-11T17:43:18.809945Z",
     "shell.execute_reply": "2025-01-11T17:43:18.809689Z"
    }
   },
   "outputs": [],
   "source": [
    "A_2 = A_1 - outer(L[:, 0],  U[0, :])"
   ]
  },
  {
   "cell_type": "markdown",
   "id": "cda497a9",
   "metadata": {},
   "source": [
    "Now $\\mathbf{A}_2 = \\boldsymbol{\\ell}_2\\mathbf{u}_2^T + \\boldsymbol{\\ell}_3\\mathbf{u}_3^T + \\boldsymbol{\\ell}_4\\mathbf{u}_4^T.$ If we ignore the first row and first column of the matrices in this equation, then in what remains we are in the same situation as at the start. Specifically, only $\\boldsymbol{\\ell}_2\\mathbf{u}_2^T$ has any effect on the second row and column, so we can deduce them now."
   ]
  },
  {
   "cell_type": "code",
   "execution_count": 6,
   "id": "069b3bca",
   "metadata": {
    "execution": {
     "iopub.execute_input": "2025-01-11T17:43:18.811170Z",
     "iopub.status.busy": "2025-01-11T17:43:18.811085Z",
     "iopub.status.idle": "2025-01-11T17:43:18.813063Z",
     "shell.execute_reply": "2025-01-11T17:43:18.812821Z"
    }
   },
   "outputs": [
    {
     "name": "stdout",
     "output_type": "stream",
     "text": [
      "[[ 1.   0.   0.   0. ]\n",
      " [-2.   1.   0.   0. ]\n",
      " [ 0.5  3.   1.   0. ]\n",
      " [-1.   0.   0.   1. ]]\n"
     ]
    }
   ],
   "source": [
    "U[1, :] = A_2[1, :]\n",
    "L[:, 1] = A_2[:, 1] / U[1, 1]\n",
    "print(L)"
   ]
  },
  {
   "cell_type": "markdown",
   "id": "97257494",
   "metadata": {},
   "source": [
    "If we subtract off the latest outer product, we have a matrix that is zero in the first *two* rows and columns."
   ]
  },
  {
   "cell_type": "code",
   "execution_count": 7,
   "id": "8ed9f264",
   "metadata": {
    "execution": {
     "iopub.execute_input": "2025-01-11T17:43:18.814134Z",
     "iopub.status.busy": "2025-01-11T17:43:18.814059Z",
     "iopub.status.idle": "2025-01-11T17:43:18.815694Z",
     "shell.execute_reply": "2025-01-11T17:43:18.815464Z"
    }
   },
   "outputs": [],
   "source": [
    "A_3 = A_2 - outer(L[:, 1], U[1, :])"
   ]
  },
  {
   "cell_type": "markdown",
   "id": "93126ba2",
   "metadata": {},
   "source": [
    "Now we can deal with the lower right $2\\times 2$ submatrix of the remainder in a similar fashion."
   ]
  },
  {
   "cell_type": "code",
   "execution_count": 8,
   "id": "7f712f26",
   "metadata": {
    "execution": {
     "iopub.execute_input": "2025-01-11T17:43:18.816805Z",
     "iopub.status.busy": "2025-01-11T17:43:18.816731Z",
     "iopub.status.idle": "2025-01-11T17:43:18.818496Z",
     "shell.execute_reply": "2025-01-11T17:43:18.818277Z"
    }
   },
   "outputs": [],
   "source": [
    "U[2, :] = A_3[2, :]\n",
    "L[:, 2] = A_3[:, 2] / U[2, 2]\n",
    "A_4 = A_3 - outer(L[:, 2], U[2, :])"
   ]
  },
  {
   "cell_type": "markdown",
   "id": "dca7df5b",
   "metadata": {},
   "source": [
    "Finally, we pick up the last unknown in the factors."
   ]
  },
  {
   "cell_type": "code",
   "execution_count": 9,
   "id": "89e3e495",
   "metadata": {
    "execution": {
     "iopub.execute_input": "2025-01-11T17:43:18.819657Z",
     "iopub.status.busy": "2025-01-11T17:43:18.819587Z",
     "iopub.status.idle": "2025-01-11T17:43:18.821149Z",
     "shell.execute_reply": "2025-01-11T17:43:18.820935Z"
    }
   },
   "outputs": [],
   "source": [
    "U[3, 3] = A_4[3, 3]"
   ]
  },
  {
   "cell_type": "markdown",
   "id": "95e6bfb0",
   "metadata": {},
   "source": [
    "We now have all of $\\mathbf{L}$,"
   ]
  },
  {
   "cell_type": "code",
   "execution_count": 10,
   "id": "71beded3",
   "metadata": {
    "execution": {
     "iopub.execute_input": "2025-01-11T17:43:18.822514Z",
     "iopub.status.busy": "2025-01-11T17:43:18.822415Z",
     "iopub.status.idle": "2025-01-11T17:43:18.824110Z",
     "shell.execute_reply": "2025-01-11T17:43:18.823879Z"
    }
   },
   "outputs": [
    {
     "name": "stdout",
     "output_type": "stream",
     "text": [
      "[[ 1.   0.  -0.   0. ]\n",
      " [-2.   1.  -0.   0. ]\n",
      " [ 0.5  3.   1.   0. ]\n",
      " [-1.   0.  -2.   1. ]]\n"
     ]
    }
   ],
   "source": [
    "print(L)"
   ]
  },
  {
   "cell_type": "markdown",
   "id": "13e3751f",
   "metadata": {},
   "source": [
    "and all of $\\mathbf{U}$,"
   ]
  },
  {
   "cell_type": "code",
   "execution_count": 11,
   "id": "0feb9ae5",
   "metadata": {
    "execution": {
     "iopub.execute_input": "2025-01-11T17:43:18.825520Z",
     "iopub.status.busy": "2025-01-11T17:43:18.825419Z",
     "iopub.status.idle": "2025-01-11T17:43:18.827242Z",
     "shell.execute_reply": "2025-01-11T17:43:18.826978Z"
    }
   },
   "outputs": [
    {
     "name": "stdout",
     "output_type": "stream",
     "text": [
      "[[ 2.  0.  4.  3.]\n",
      " [ 0.  5.  1. -4.]\n",
      " [ 0.  0. -3.  6.]\n",
      " [ 0.  0.  0.  2.]]\n"
     ]
    }
   ],
   "source": [
    "print(U)"
   ]
  },
  {
   "cell_type": "markdown",
   "id": "ab38973c",
   "metadata": {},
   "source": [
    "We can verify that we have a correct factorization of the original matrix by computing the backward error:"
   ]
  },
  {
   "cell_type": "code",
   "execution_count": 12,
   "id": "e1764b78",
   "metadata": {
    "execution": {
     "iopub.execute_input": "2025-01-11T17:43:18.828431Z",
     "iopub.status.busy": "2025-01-11T17:43:18.828349Z",
     "iopub.status.idle": "2025-01-11T17:43:18.831242Z",
     "shell.execute_reply": "2025-01-11T17:43:18.831034Z"
    }
   },
   "outputs": [
    {
     "data": {
      "text/plain": [
       "array([[0., 0., 0., 0.],\n",
       "       [0., 0., 0., 0.],\n",
       "       [0., 0., 0., 0.],\n",
       "       [0., 0., 0., 0.]])"
      ]
     },
     "execution_count": 12,
     "metadata": {},
     "output_type": "execute_result"
    }
   ],
   "source": [
    "A_1 - L @ U"
   ]
  },
  {
   "cell_type": "markdown",
   "id": "12a56b30",
   "metadata": {},
   "source": [
    "In floating point, we cannot expect the difference to be exactly zero as we found in this toy example. Instead, we would be satisfied to see that each element of the difference above is comparable in size to machine precision."
   ]
  }
 ],
 "metadata": {
  "kernelspec": {
   "display_name": "Python 3",
   "language": "python",
   "name": "python3"
  },
  "language_info": {
   "codemirror_mode": {
    "name": "ipython",
    "version": 3
   },
   "file_extension": ".py",
   "mimetype": "text/x-python",
   "name": "python",
   "nbconvert_exporter": "python",
   "pygments_lexer": "ipython3",
   "version": "3.13.0"
  },
  "numbering": {
   "headings": false
  }
 },
 "nbformat": 4,
 "nbformat_minor": 5
}
