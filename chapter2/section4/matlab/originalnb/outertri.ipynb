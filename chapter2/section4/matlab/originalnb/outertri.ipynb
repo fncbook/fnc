{
 "cells": [
  {
   "cell_type": "code",
   "execution_count": 1,
   "id": "e4bea7ab",
   "metadata": {
    "tags": [
     "remove-cell"
    ]
   },
   "outputs": [],
   "source": [
    "cd  /Users/driscoll/Documents/GitHub/fnc/matlab\n",
    "FNC_init"
   ]
  },
  {
   "cell_type": "markdown",
   "id": "d70e9a23",
   "metadata": {},
   "source": [
    "[**Demo %s**](#demo-lu-outertri)\n",
    "\n",
    "\n",
    "```{index} MATLAB; tril, MATLAB; triu\n",
    "```\n",
    "We explore the outer product formula for two random triangular matrices."
   ]
  },
  {
   "cell_type": "code",
   "execution_count": 2,
   "id": "7fcdbd78",
   "metadata": {},
   "outputs": [
    {
     "data": {
      "text/html": [
       "<html><body><pre>L = 3×3 double\n",
       "     5     0     0\n",
       "     4     9     0\n",
       "     8     4     2\n",
       "</pre></body></html>"
      ],
      "text/plain": [
       "L = 3×3 double\n",
       "     5     0     0\n",
       "     4     9     0\n",
       "     8     4     2\n"
      ]
     },
     "execution_count": 2,
     "metadata": {},
     "output_type": "execute_result"
    }
   ],
   "source": [
    "L = tril( randi(9, 3, 3) )"
   ]
  },
  {
   "cell_type": "code",
   "execution_count": 3,
   "id": "1d0a2095",
   "metadata": {},
   "outputs": [
    {
     "data": {
      "text/html": [
       "<html><body><pre>U = 3×3 double\n",
       "     5     4     1\n",
       "     0     8     4\n",
       "     0     0     1\n",
       "</pre></body></html>"
      ],
      "text/plain": [
       "U = 3×3 double\n",
       "     5     4     1\n",
       "     0     8     4\n",
       "     0     0     1\n"
      ]
     },
     "execution_count": 3,
     "metadata": {},
     "output_type": "execute_result"
    }
   ],
   "source": [
    "U = triu( randi(9, 3, 3) )"
   ]
  },
  {
   "cell_type": "markdown",
   "id": "66ea1411",
   "metadata": {},
   "source": [
    "Here are the three outer products in the sum in {eq}`matrixouter`:"
   ]
  },
  {
   "cell_type": "code",
   "execution_count": 4,
   "id": "74ce29b8",
   "metadata": {},
   "outputs": [
    {
     "data": {
      "text/html": [
       "<html><body><pre>ans = 3×3 double\n",
       "    25    20     5\n",
       "    20    16     4\n",
       "    40    32     8\n",
       "</pre></body></html>"
      ],
      "text/plain": [
       "ans = 3×3 double\n",
       "    25    20     5\n",
       "    20    16     4\n",
       "    40    32     8\n"
      ]
     },
     "execution_count": 4,
     "metadata": {},
     "output_type": "execute_result"
    }
   ],
   "source": [
    "L(:, 1) * U(1, :)"
   ]
  },
  {
   "cell_type": "code",
   "execution_count": 5,
   "id": "acdcaccd",
   "metadata": {},
   "outputs": [
    {
     "data": {
      "text/html": [
       "<html><body><pre>ans = 3×3 double\n",
       "     0     0     0\n",
       "     0    72    36\n",
       "     0    32    16\n",
       "</pre></body></html>"
      ],
      "text/plain": [
       "ans = 3×3 double\n",
       "     0     0     0\n",
       "     0    72    36\n",
       "     0    32    16\n"
      ]
     },
     "execution_count": 5,
     "metadata": {},
     "output_type": "execute_result"
    }
   ],
   "source": [
    "L(:, 2) * U(2, :)"
   ]
  },
  {
   "cell_type": "code",
   "execution_count": 6,
   "id": "965409d6",
   "metadata": {},
   "outputs": [
    {
     "data": {
      "text/html": [
       "<html><body><pre>ans = 3×3 double\n",
       "     0     0     0\n",
       "     0     0     0\n",
       "     0     0     2\n",
       "</pre></body></html>"
      ],
      "text/plain": [
       "ans = 3×3 double\n",
       "     0     0     0\n",
       "     0     0     0\n",
       "     0     0     2\n"
      ]
     },
     "execution_count": 6,
     "metadata": {},
     "output_type": "execute_result"
    }
   ],
   "source": [
    "L(:, 3) * U(3, :)"
   ]
  },
  {
   "cell_type": "markdown",
   "id": "b192eaea",
   "metadata": {},
   "source": [
    "Simply because of the triangular zero structures, only the first outer product contributes to the first row and first column of the entire product."
   ]
  }
 ],
 "metadata": {
  "kernelspec": {
   "display_name": "MATLAB Kernel",
   "language": "matlab",
   "name": "jupyter_matlab_kernel"
  },
  "language_info": {
   "file_extension": ".m",
   "mimetype": "text/x-matlab",
   "name": "matlab"
  },
  "numbering": {
   "headings": false
  }
 },
 "nbformat": 4,
 "nbformat_minor": 5
}
