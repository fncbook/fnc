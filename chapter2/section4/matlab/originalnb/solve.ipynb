{
 "cells": [
  {
   "cell_type": "code",
   "execution_count": 1,
   "id": "088b3657",
   "metadata": {
    "tags": [
     "remove-cell"
    ]
   },
   "outputs": [],
   "source": [
    "cd  /Users/driscoll/Documents/GitHub/fnc/matlab\n",
    "FNC_init"
   ]
  },
  {
   "cell_type": "markdown",
   "id": "bf881d9a",
   "metadata": {},
   "source": [
    "[**Demo %s**](#demo-lu-solve)\n",
    "\n",
    "Here are the data for a linear system $\\mathbf{A}\\mathbf{x}=\\mathbf{b}$."
   ]
  },
  {
   "cell_type": "code",
   "execution_count": 2,
   "id": "f0f2a59c",
   "metadata": {},
   "outputs": [],
   "source": [
    "A = [2 0 4 3; -4 5 -7 -10; 1 15 2 -4.5; -2 0 2 -13];\n",
    "b = [4; 9; 9; 4];"
   ]
  },
  {
   "cell_type": "markdown",
   "id": "1c690722",
   "metadata": {},
   "source": [
    "We apply {numref}`Function {number} <function-lufact>` and then do two triangular solves."
   ]
  },
  {
   "cell_type": "code",
   "execution_count": 3,
   "id": "3592fd5b",
   "metadata": {},
   "outputs": [
    {
     "data": {
      "text/html": [
       "<html><body><pre>L = 4×4 double\n",
       "    1.0000         0         0         0\n",
       "   -2.0000    1.0000         0         0\n",
       "    0.5000    3.0000    1.0000         0\n",
       "   -1.0000         0   -2.0000    1.0000\n",
       "</pre></body></html>"
      ],
      "text/plain": [
       "L = 4×4 double\n",
       "    1.0000         0         0         0\n",
       "   -2.0000    1.0000         0         0\n",
       "    0.5000    3.0000    1.0000         0\n",
       "   -1.0000         0   -2.0000    1.0000\n"
      ]
     },
     "execution_count": 3,
     "metadata": {},
     "output_type": "execute_result"
    },
    {
     "data": {
      "text/html": [
       "<html><body><pre>U = 4×4 double\n",
       "     2     0     4     3\n",
       "     0     5     1    -4\n",
       "     0     0    -3     6\n",
       "     0     0     0     2\n",
       "</pre></body></html>"
      ],
      "text/plain": [
       "U = 4×4 double\n",
       "     2     0     4     3\n",
       "     0     5     1    -4\n",
       "     0     0    -3     6\n",
       "     0     0     0     2\n"
      ]
     },
     "execution_count": 3,
     "metadata": {},
     "output_type": "execute_result"
    }
   ],
   "source": [
    "[L, U] = lufact(A)\n",
    "z = forwardsub(L, b);\n",
    "x = backsub(U, z);"
   ]
  },
  {
   "cell_type": "markdown",
   "id": "a924bf96",
   "metadata": {},
   "source": [
    "A check on the residual assures us that we found the solution."
   ]
  },
  {
   "cell_type": "code",
   "execution_count": 4,
   "id": "320a1aac",
   "metadata": {},
   "outputs": [
    {
     "data": {
      "text/html": [
       "<html><body><pre>ans = 4×1 double\n",
       "1.0e-13 *\n",
       "\n",
       "         0\n",
       "   -0.5684\n",
       "    0.2842\n",
       "         0\n",
       "</pre></body></html>"
      ],
      "text/plain": [
       "ans = 4×1 double\n",
       "1.0e-13 *\n",
       "\n",
       "         0\n",
       "   -0.5684\n",
       "    0.2842\n",
       "         0\n"
      ]
     },
     "execution_count": 4,
     "metadata": {},
     "output_type": "execute_result"
    }
   ],
   "source": [
    "b - A * x"
   ]
  }
 ],
 "metadata": {
  "kernelspec": {
   "display_name": "MATLAB Kernel",
   "language": "matlab",
   "name": "jupyter_matlab_kernel"
  },
  "language_info": {
   "file_extension": ".m",
   "mimetype": "text/x-matlab",
   "name": "matlab"
  },
  "numbering": {
   "headings": false
  }
 },
 "nbformat": 4,
 "nbformat_minor": 5
}
