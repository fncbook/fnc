{
    "cells": [
        {
            "cell_type": "markdown",
            "source": [
                "[**Demo %s**](#demo-lu-derive)\n",
                "\n",
                "For illustration, we work on a $4 \\times 4$ matrix. We name it with a subscript in preparation for what comes."
            ],
            "id": "c515439d",
            "metadata": {}
        },
        {
            "outputs": [],
            "cell_type": "code",
            "source": [
                "A_1 = [\n",
                "     2    0    4     3 \n",
                "    -4    5   -7   -10 \n",
                "     1   15    2   -4.5\n",
                "    -2    0    2   -13\n",
                "    ];\n",
                "L = eye(4);\n",
                "U = zeros(4, 4);"
            ],
            "id": "6804f52a",
            "metadata": {},
            "execution_count": 2
        },
        {
            "cell_type": "markdown",
            "source": [
                "Now we appeal to {eq}`outer-row1`. Since $L_{11}=1$, we see that the first row of $\\mathbf{U}$ is just the first row of $\\mathbf{A}_1$."
            ],
            "id": "1908fae1",
            "metadata": {}
        },
        {
            "outputs": [
                {
                    "output_type": "execute_result",
                    "data": {
                        "text/plain": [
                            "U = 4×4 double\n",
                            "     2     0     4     3\n",
                            "     0     0     0     0\n",
                            "     0     0     0     0\n",
                            "     0     0     0     0\n"
                        ],
                        "text/html": [
                            "<html><body><pre>U = 4×4 double\n",
                            "     2     0     4     3\n",
                            "     0     0     0     0\n",
                            "     0     0     0     0\n",
                            "     0     0     0     0\n",
                            "</pre></body></html>"
                        ]
                    },
                    "metadata": {},
                    "execution_count": 3
                }
            ],
            "cell_type": "code",
            "source": [
                "U(1, :) = A_1(1, :)"
            ],
            "id": "b13c84d5",
            "metadata": {},
            "execution_count": 3
        },
        {
            "cell_type": "markdown",
            "source": [
                "From {eq}`outer-col1`, we see that we can find the first column of $\\mathbf{L}$ from the first column of $\\mathbf{A}_1$."
            ],
            "id": "d511b621",
            "metadata": {}
        },
        {
            "outputs": [
                {
                    "output_type": "execute_result",
                    "data": {
                        "text/plain": [
                            "L = 4×4 double\n",
                            "    1.0000         0         0         0\n",
                            "   -2.0000    1.0000         0         0\n",
                            "    0.5000         0    1.0000         0\n",
                            "   -1.0000         0         0    1.0000\n"
                        ],
                        "text/html": [
                            "<html><body><pre>L = 4×4 double\n",
                            "    1.0000         0         0         0\n",
                            "   -2.0000    1.0000         0         0\n",
                            "    0.5000         0    1.0000         0\n",
                            "   -1.0000         0         0    1.0000\n",
                            "</pre></body></html>"
                        ]
                    },
                    "metadata": {},
                    "execution_count": 4
                }
            ],
            "cell_type": "code",
            "source": [
                "L(:, 1) = A_1(:, 1) / U(1, 1)"
            ],
            "id": "10a7012a",
            "metadata": {},
            "execution_count": 4
        },
        {
            "cell_type": "markdown",
            "source": [
                " We have obtained the first term in the sum {eq}`matrixouter` for $\\mathbf{L}\\mathbf{U}$, and we subtract it away from $\\mathbf{A}_1$."
            ],
            "id": "a6ece9f6",
            "metadata": {}
        },
        {
            "outputs": [
                {
                    "output_type": "execute_result",
                    "data": {
                        "text/plain": [
                            "A_2 = 4×4 double\n",
                            "     0     0     0     0\n",
                            "     0     5     1    -4\n",
                            "     0    15     0    -6\n",
                            "     0     0     6   -10\n"
                        ],
                        "text/html": [
                            "<html><body><pre>A_2 = 4×4 double\n",
                            "     0     0     0     0\n",
                            "     0     5     1    -4\n",
                            "     0    15     0    -6\n",
                            "     0     0     6   -10\n",
                            "</pre></body></html>"
                        ]
                    },
                    "metadata": {},
                    "execution_count": 5
                }
            ],
            "cell_type": "code",
            "source": [
                "A_2 = A_1 - L(:, 1) * U(1, :)"
            ],
            "id": "a758abdf",
            "metadata": {},
            "execution_count": 5
        },
        {
            "cell_type": "markdown",
            "source": [
                "Now $\\mathbf{A}_2 = \\boldsymbol{\\ell}_2\\mathbf{u}_2^T + \\boldsymbol{\\ell}_3\\mathbf{u}_3^T + \\boldsymbol{\\ell}_4\\mathbf{u}_4^T.$ If we ignore the first row and first column of the matrices in this equation, then in what remains we are in the same situation as at the start. Specifically, only $\\boldsymbol{\\ell}_2\\mathbf{u}_2^T$ has any effect on the second row and column, so we can deduce them now."
            ],
            "id": "36a3f014",
            "metadata": {}
        },
        {
            "outputs": [
                {
                    "output_type": "execute_result",
                    "data": {
                        "text/plain": [
                            "U = 4×4 double\n",
                            "     2     0     4     3\n",
                            "     0     5     1    -4\n",
                            "     0     0     0     0\n",
                            "     0     0     0     0\n"
                        ],
                        "text/html": [
                            "<html><body><pre>U = 4×4 double\n",
                            "     2     0     4     3\n",
                            "     0     5     1    -4\n",
                            "     0     0     0     0\n",
                            "     0     0     0     0\n",
                            "</pre></body></html>"
                        ]
                    },
                    "metadata": {},
                    "execution_count": 6
                },
                {
                    "output_type": "execute_result",
                    "data": {
                        "text/plain": [
                            "L = 4×4 double\n",
                            "    1.0000         0         0         0\n",
                            "   -2.0000    1.0000         0         0\n",
                            "    0.5000    3.0000    1.0000         0\n",
                            "   -1.0000         0         0    1.0000\n"
                        ],
                        "text/html": [
                            "<html><body><pre>L = 4×4 double\n",
                            "    1.0000         0         0         0\n",
                            "   -2.0000    1.0000         0         0\n",
                            "    0.5000    3.0000    1.0000         0\n",
                            "   -1.0000         0         0    1.0000\n",
                            "</pre></body></html>"
                        ]
                    },
                    "metadata": {},
                    "execution_count": 6
                }
            ],
            "cell_type": "code",
            "source": [
                "U(2, :) = A_2(2, :)\n",
                "L(:, 2) = A_2(:, 2) / U(2, 2)"
            ],
            "id": "950a85dc",
            "metadata": {},
            "execution_count": 6
        },
        {
            "cell_type": "markdown",
            "source": [
                "If we subtract off the latest outer product, we have a matrix that is zero in the first *two* rows and columns."
            ],
            "id": "18c4af12",
            "metadata": {}
        },
        {
            "outputs": [
                {
                    "output_type": "execute_result",
                    "data": {
                        "text/plain": [
                            "A_3 = 4×4 double\n",
                            "     0     0     0     0\n",
                            "     0     0     0     0\n",
                            "     0     0    -3     6\n",
                            "     0     0     6   -10\n"
                        ],
                        "text/html": [
                            "<html><body><pre>A_3 = 4×4 double\n",
                            "     0     0     0     0\n",
                            "     0     0     0     0\n",
                            "     0     0    -3     6\n",
                            "     0     0     6   -10\n",
                            "</pre></body></html>"
                        ]
                    },
                    "metadata": {},
                    "execution_count": 7
                }
            ],
            "cell_type": "code",
            "source": [
                "A_3 = A_2 - L(:, 2) * U(2, :)"
            ],
            "id": "ab3f6a41",
            "metadata": {},
            "execution_count": 7
        },
        {
            "cell_type": "markdown",
            "source": [
                "Now we can deal with the lower right $2\\times 2$ submatrix of the remainder in a similar fashion."
            ],
            "id": "6f5b4b89",
            "metadata": {}
        },
        {
            "outputs": [
                {
                    "output_type": "execute_result",
                    "data": {
                        "text/plain": [
                            "A_4 = 4×4 double\n",
                            "     0     0     0     0\n",
                            "     0     0     0     0\n",
                            "     0     0     0     0\n",
                            "     0     0     0     2\n"
                        ],
                        "text/html": [
                            "<html><body><pre>A_4 = 4×4 double\n",
                            "     0     0     0     0\n",
                            "     0     0     0     0\n",
                            "     0     0     0     0\n",
                            "     0     0     0     2\n",
                            "</pre></body></html>"
                        ]
                    },
                    "metadata": {},
                    "execution_count": 8
                }
            ],
            "cell_type": "code",
            "source": [
                "U(3, :) = A_3(3, :);\n",
                "L(:, 3) = A_3(:, 3) / U(3, 3);\n",
                "A_4 = A_3 - L(:, 3) * U(3, :)"
            ],
            "id": "3384e601",
            "metadata": {},
            "execution_count": 8
        },
        {
            "cell_type": "markdown",
            "source": [
                "Finally, we pick up the last unknown in the factors."
            ],
            "id": "e52e993c",
            "metadata": {}
        },
        {
            "outputs": [],
            "cell_type": "code",
            "source": [
                "U(4, 4) = A_4(4, 4);"
            ],
            "id": "135c0e92",
            "metadata": {},
            "execution_count": 9
        },
        {
            "cell_type": "markdown",
            "source": [
                "We now have all of $\\mathbf{L}$,"
            ],
            "id": "412a0872",
            "metadata": {}
        },
        {
            "outputs": [
                {
                    "output_type": "execute_result",
                    "data": {
                        "text/plain": [
                            "L = 4×4 double\n",
                            "    1.0000         0         0         0\n",
                            "   -2.0000    1.0000         0         0\n",
                            "    0.5000    3.0000    1.0000         0\n",
                            "   -1.0000         0   -2.0000    1.0000\n"
                        ],
                        "text/html": [
                            "<html><body><pre>L = 4×4 double\n",
                            "    1.0000         0         0         0\n",
                            "   -2.0000    1.0000         0         0\n",
                            "    0.5000    3.0000    1.0000         0\n",
                            "   -1.0000         0   -2.0000    1.0000\n",
                            "</pre></body></html>"
                        ]
                    },
                    "metadata": {},
                    "execution_count": 10
                }
            ],
            "cell_type": "code",
            "source": [
                "L"
            ],
            "id": "f0fc109f",
            "metadata": {},
            "execution_count": 10
        },
        {
            "cell_type": "markdown",
            "source": [
                "and all of $\\mathbf{U}$,"
            ],
            "id": "499448ae",
            "metadata": {}
        },
        {
            "outputs": [
                {
                    "output_type": "execute_result",
                    "data": {
                        "text/plain": [
                            "U = 4×4 double\n",
                            "     2     0     4     3\n",
                            "     0     5     1    -4\n",
                            "     0     0    -3     6\n",
                            "     0     0     0     2\n"
                        ],
                        "text/html": [
                            "<html><body><pre>U = 4×4 double\n",
                            "     2     0     4     3\n",
                            "     0     5     1    -4\n",
                            "     0     0    -3     6\n",
                            "     0     0     0     2\n",
                            "</pre></body></html>"
                        ]
                    },
                    "metadata": {},
                    "execution_count": 11
                }
            ],
            "cell_type": "code",
            "source": [
                "U"
            ],
            "id": "49fa72c2",
            "metadata": {},
            "execution_count": 11
        },
        {
            "cell_type": "markdown",
            "source": [
                "We can verify that we have a correct factorization of the original matrix by computing the backward error:"
            ],
            "id": "43c0f9cc",
            "metadata": {}
        },
        {
            "outputs": [
                {
                    "output_type": "execute_result",
                    "data": {
                        "text/plain": [
                            "ans = 4×4 double\n",
                            "     0     0     0     0\n",
                            "     0     0     0     0\n",
                            "     0     0     0     0\n",
                            "     0     0     0     0\n"
                        ],
                        "text/html": [
                            "<html><body><pre>ans = 4×4 double\n",
                            "     0     0     0     0\n",
                            "     0     0     0     0\n",
                            "     0     0     0     0\n",
                            "     0     0     0     0\n",
                            "</pre></body></html>"
                        ]
                    },
                    "metadata": {},
                    "execution_count": 12
                }
            ],
            "cell_type": "code",
            "source": [
                "A_1 - L * U"
            ],
            "id": "96254069",
            "metadata": {},
            "execution_count": 12
        },
        {
            "cell_type": "markdown",
            "source": [
                "In floating point, we cannot expect the difference to be exactly zero as we found in this toy example. Instead, we would be satisfied to see that each element of the difference above is comparable in size to machine precision."
            ],
            "id": "fc256457",
            "metadata": {}
        }
    ],
    "nbformat_minor": 5,
    "metadata": {
        "language_info": {
            "file_extension": ".m",
            "mimetype": "text/x-matlab",
            "name": "matlab"
        },
        "kernelspec": {
            "name": "jupyter_matlab_kernel",
            "display_name": "MATLAB Kernel",
            "language": "matlab"
        },
        "numbering": {
            "headings": false
        }
    },
    "nbformat": 4
}
