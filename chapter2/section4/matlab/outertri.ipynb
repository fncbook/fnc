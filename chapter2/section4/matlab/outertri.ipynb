{
    "cells": [
        {
            "cell_type": "markdown",
            "source": [
                "[**Demo %s**](#demo-lu-outertri)\n",
                "\n",
                "\n",
                "```{index} MATLAB; tril, MATLAB; triu\n",
                "```\n",
                "We explore the outer product formula for two random triangular matrices."
            ],
            "id": "d70e9a23",
            "metadata": {}
        },
        {
            "outputs": [
                {
                    "output_type": "execute_result",
                    "data": {
                        "text/plain": [
                            "L = 3×3 double\n",
                            "     5     0     0\n",
                            "     4     9     0\n",
                            "     8     4     2\n"
                        ],
                        "text/html": [
                            "<html><body><pre>L = 3×3 double\n",
                            "     5     0     0\n",
                            "     4     9     0\n",
                            "     8     4     2\n",
                            "</pre></body></html>"
                        ]
                    },
                    "metadata": {},
                    "execution_count": 2
                }
            ],
            "cell_type": "code",
            "source": [
                "L = tril( randi(9, 3, 3) )"
            ],
            "id": "7fcdbd78",
            "metadata": {},
            "execution_count": 2
        },
        {
            "outputs": [
                {
                    "output_type": "execute_result",
                    "data": {
                        "text/plain": [
                            "U = 3×3 double\n",
                            "     5     4     1\n",
                            "     0     8     4\n",
                            "     0     0     1\n"
                        ],
                        "text/html": [
                            "<html><body><pre>U = 3×3 double\n",
                            "     5     4     1\n",
                            "     0     8     4\n",
                            "     0     0     1\n",
                            "</pre></body></html>"
                        ]
                    },
                    "metadata": {},
                    "execution_count": 3
                }
            ],
            "cell_type": "code",
            "source": [
                "U = triu( randi(9, 3, 3) )"
            ],
            "id": "1d0a2095",
            "metadata": {},
            "execution_count": 3
        },
        {
            "cell_type": "markdown",
            "source": [
                "Here are the three outer products in the sum in {eq}`matrixouter`:"
            ],
            "id": "66ea1411",
            "metadata": {}
        },
        {
            "outputs": [
                {
                    "output_type": "execute_result",
                    "data": {
                        "text/plain": [
                            "ans = 3×3 double\n",
                            "    25    20     5\n",
                            "    20    16     4\n",
                            "    40    32     8\n"
                        ],
                        "text/html": [
                            "<html><body><pre>ans = 3×3 double\n",
                            "    25    20     5\n",
                            "    20    16     4\n",
                            "    40    32     8\n",
                            "</pre></body></html>"
                        ]
                    },
                    "metadata": {},
                    "execution_count": 4
                }
            ],
            "cell_type": "code",
            "source": [
                "L(:, 1) * U(1, :)"
            ],
            "id": "74ce29b8",
            "metadata": {},
            "execution_count": 4
        },
        {
            "outputs": [
                {
                    "output_type": "execute_result",
                    "data": {
                        "text/plain": [
                            "ans = 3×3 double\n",
                            "     0     0     0\n",
                            "     0    72    36\n",
                            "     0    32    16\n"
                        ],
                        "text/html": [
                            "<html><body><pre>ans = 3×3 double\n",
                            "     0     0     0\n",
                            "     0    72    36\n",
                            "     0    32    16\n",
                            "</pre></body></html>"
                        ]
                    },
                    "metadata": {},
                    "execution_count": 5
                }
            ],
            "cell_type": "code",
            "source": [
                "L(:, 2) * U(2, :)"
            ],
            "id": "acdcaccd",
            "metadata": {},
            "execution_count": 5
        },
        {
            "outputs": [
                {
                    "output_type": "execute_result",
                    "data": {
                        "text/plain": [
                            "ans = 3×3 double\n",
                            "     0     0     0\n",
                            "     0     0     0\n",
                            "     0     0     2\n"
                        ],
                        "text/html": [
                            "<html><body><pre>ans = 3×3 double\n",
                            "     0     0     0\n",
                            "     0     0     0\n",
                            "     0     0     2\n",
                            "</pre></body></html>"
                        ]
                    },
                    "metadata": {},
                    "execution_count": 6
                }
            ],
            "cell_type": "code",
            "source": [
                "L(:, 3) * U(3, :)"
            ],
            "id": "965409d6",
            "metadata": {},
            "execution_count": 6
        },
        {
            "cell_type": "markdown",
            "source": [
                "Simply because of the triangular zero structures, only the first outer product contributes to the first row and first column of the entire product."
            ],
            "id": "b192eaea",
            "metadata": {}
        }
    ],
    "nbformat_minor": 5,
    "metadata": {
        "language_info": {
            "file_extension": ".m",
            "mimetype": "text/x-matlab",
            "name": "matlab"
        },
        "kernelspec": {
            "name": "jupyter_matlab_kernel",
            "display_name": "MATLAB Kernel",
            "language": "matlab"
        },
        "numbering": {
            "headings": false
        }
    },
    "nbformat": 4
}
