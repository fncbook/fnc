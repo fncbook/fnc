{
 "cells": [
  {
   "cell_type": "code",
   "execution_count": 1,
   "id": "dbc306ff",
   "metadata": {
    "execution": {
     "iopub.execute_input": "2025-01-05T09:31:17.699000Z",
     "iopub.status.busy": "2025-01-05T09:31:17.422000Z",
     "iopub.status.idle": "2025-01-05T09:31:25.966000Z",
     "shell.execute_reply": "2025-01-05T09:31:25.920000Z"
    }
   },
   "outputs": [
    {
     "name": "stderr",
     "output_type": "stream",
     "text": [
      "\u001b[32m\u001b[1m  Activating\u001b[22m\u001b[39m "
     ]
    },
    {
     "name": "stderr",
     "output_type": "stream",
     "text": [
      "project at `~/Documents/GitHub/fnc`\n"
     ]
    }
   ],
   "source": [
    "include(\"../../../julia/FNC_init.jl\")"
   ]
  },
  {
   "cell_type": "markdown",
   "id": "cc6385f7",
   "metadata": {},
   "source": [
    "[**Demo %s**](#demo-lu-outertri)\n",
    "\n",
    "\n",
    "```{index} Julia; tril, Julia; triu\n",
    "```\n",
    "We explore the outer product formula for two random triangular matrices."
   ]
  },
  {
   "cell_type": "code",
   "execution_count": 2,
   "id": "5f9cd753",
   "metadata": {
    "execution": {
     "iopub.execute_input": "2025-01-05T09:31:26.099000Z",
     "iopub.status.busy": "2025-01-05T09:31:25.968000Z",
     "iopub.status.idle": "2025-01-05T09:31:27.307000Z",
     "shell.execute_reply": "2025-01-05T09:31:27.306000Z"
    }
   },
   "outputs": [
    {
     "data": {
      "text/plain": [
       "3×3 Matrix{Int64}:\n",
       " 9  0  0\n",
       " 9  5  0\n",
       " 1  4  5"
      ]
     },
     "execution_count": 2,
     "metadata": {},
     "output_type": "execute_result"
    }
   ],
   "source": [
    "L = tril( rand(1:9, 3, 3) )"
   ]
  },
  {
   "cell_type": "code",
   "execution_count": 3,
   "id": "68a6791d",
   "metadata": {
    "execution": {
     "iopub.execute_input": "2025-01-05T09:31:27.309000Z",
     "iopub.status.busy": "2025-01-05T09:31:27.309000Z",
     "iopub.status.idle": "2025-01-05T09:31:27.321000Z",
     "shell.execute_reply": "2025-01-05T09:31:27.321000Z"
    }
   },
   "outputs": [
    {
     "data": {
      "text/plain": [
       "3×3 Matrix{Int64}:\n",
       " 1  6  2\n",
       " 0  5  1\n",
       " 0  0  7"
      ]
     },
     "execution_count": 3,
     "metadata": {},
     "output_type": "execute_result"
    }
   ],
   "source": [
    "U = triu( rand(1:9, 3, 3) )"
   ]
  },
  {
   "cell_type": "markdown",
   "id": "4dcdcf81",
   "metadata": {},
   "source": [
    "Here are the three outer products in the sum in {eq}`matrixouter`:\n",
    "```{tip}\n",
    ":class: dropdown\n",
    "Although `U[1,:]` is a row of `U`, it is a vector, and as such it has a default column interpretation.\n",
    "```"
   ]
  },
  {
   "cell_type": "code",
   "execution_count": 4,
   "id": "ec075138",
   "metadata": {
    "execution": {
     "iopub.execute_input": "2025-01-05T09:31:27.323000Z",
     "iopub.status.busy": "2025-01-05T09:31:27.323000Z",
     "iopub.status.idle": "2025-01-05T09:31:27.375000Z",
     "shell.execute_reply": "2025-01-05T09:31:27.375000Z"
    }
   },
   "outputs": [
    {
     "data": {
      "text/plain": [
       "3×3 Matrix{Int64}:\n",
       " 9  54  18\n",
       " 9  54  18\n",
       " 1   6   2"
      ]
     },
     "execution_count": 4,
     "metadata": {},
     "output_type": "execute_result"
    }
   ],
   "source": [
    "L[:, 1] * U[1, :]'"
   ]
  },
  {
   "cell_type": "code",
   "execution_count": 5,
   "id": "9697d226",
   "metadata": {
    "execution": {
     "iopub.execute_input": "2025-01-05T09:31:27.376000Z",
     "iopub.status.busy": "2025-01-05T09:31:27.376000Z",
     "iopub.status.idle": "2025-01-05T09:31:27.377000Z",
     "shell.execute_reply": "2025-01-05T09:31:27.377000Z"
    }
   },
   "outputs": [
    {
     "data": {
      "text/plain": [
       "3×3 Matrix{Int64}:\n",
       " 0   0  0\n",
       " 0  25  5\n",
       " 0  20  4"
      ]
     },
     "execution_count": 5,
     "metadata": {},
     "output_type": "execute_result"
    }
   ],
   "source": [
    "L[:, 2] * U[2, :]'"
   ]
  },
  {
   "cell_type": "code",
   "execution_count": 6,
   "id": "d6bd2344",
   "metadata": {
    "execution": {
     "iopub.execute_input": "2025-01-05T09:31:27.378000Z",
     "iopub.status.busy": "2025-01-05T09:31:27.378000Z",
     "iopub.status.idle": "2025-01-05T09:31:27.379000Z",
     "shell.execute_reply": "2025-01-05T09:31:27.379000Z"
    }
   },
   "outputs": [
    {
     "data": {
      "text/plain": [
       "3×3 Matrix{Int64}:\n",
       " 0  0   0\n",
       " 0  0   0\n",
       " 0  0  35"
      ]
     },
     "execution_count": 6,
     "metadata": {},
     "output_type": "execute_result"
    }
   ],
   "source": [
    "L[:, 3] * U[3, :]'"
   ]
  },
  {
   "cell_type": "markdown",
   "id": "763ebdf5",
   "metadata": {},
   "source": [
    "Simply because of the triangular zero structures, only the first outer product contributes to the first row and first column of the entire product."
   ]
  }
 ],
 "metadata": {
  "kernelspec": {
   "display_name": "Julia 1",
   "language": "julia",
   "name": "julia-1.11"
  },
  "language_info": {
   "file_extension": ".jl",
   "mimetype": "application/julia",
   "name": "julia",
   "version": "1.11.2"
  },
  "numbering": {
   "headings": false
  }
 },
 "nbformat": 4,
 "nbformat_minor": 5
}
