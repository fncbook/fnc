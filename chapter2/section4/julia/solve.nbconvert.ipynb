{
 "cells": [
  {
   "cell_type": "code",
   "execution_count": 1,
   "id": "3bbf3379",
   "metadata": {
    "execution": {
     "iopub.execute_input": "2025-01-14T15:21:10.273000Z",
     "iopub.status.busy": "2025-01-14T15:21:07.880000Z",
     "iopub.status.idle": "2025-01-14T15:21:37.427000Z",
     "shell.execute_reply": "2025-01-14T15:21:37.294000Z"
    }
   },
   "outputs": [
    {
     "name": "stderr",
     "output_type": "stream",
     "text": [
      "\u001b[32m\u001b[1m  Activating\u001b[22m\u001b[39m "
     ]
    },
    {
     "name": "stderr",
     "output_type": "stream",
     "text": [
      "project at `~/Documents/GitHub/fnc`\n"
     ]
    }
   ],
   "source": [
    "include(\"../../../julia/FNC_init.jl\")"
   ]
  },
  {
   "cell_type": "markdown",
   "id": "bcc1f2ed",
   "metadata": {},
   "source": [
    "[**Demo %s**](#demo-lu-solve)\n",
    "\n",
    "Here are the data for a linear system $\\mathbf{A}\\mathbf{x}=\\mathbf{b}$."
   ]
  },
  {
   "cell_type": "code",
   "execution_count": 2,
   "id": "6c4bbe7c",
   "metadata": {
    "execution": {
     "iopub.execute_input": "2025-01-14T15:21:38.032000Z",
     "iopub.status.busy": "2025-01-14T15:21:37.449000Z",
     "iopub.status.idle": "2025-01-14T15:21:38.621000Z",
     "shell.execute_reply": "2025-01-14T15:21:38.621000Z"
    }
   },
   "outputs": [],
   "source": [
    "A = [2 0 4 3; -4 5 -7 -10; 1 15 2 -4.5; -2 0 2 -13];\n",
    "b = [4,9,9,4];"
   ]
  },
  {
   "cell_type": "markdown",
   "id": "1ec8002d",
   "metadata": {},
   "source": [
    "We apply {numref}`Function {number} <function-lufact>` and then do two triangular solves."
   ]
  },
  {
   "cell_type": "code",
   "execution_count": 3,
   "id": "400d1d84",
   "metadata": {
    "execution": {
     "iopub.execute_input": "2025-01-14T15:21:38.632000Z",
     "iopub.status.busy": "2025-01-14T15:21:38.631000Z",
     "iopub.status.idle": "2025-01-14T15:21:45.787000Z",
     "shell.execute_reply": "2025-01-14T15:21:45.785000Z"
    }
   },
   "outputs": [
    {
     "data": {
      "text/plain": [
       "4-element Vector{Float64}:\n",
       " 192.66666666666666\n",
       " -15.533333333333335\n",
       " -65.33333333333333\n",
       " -40.0"
      ]
     },
     "execution_count": 3,
     "metadata": {},
     "output_type": "execute_result"
    }
   ],
   "source": [
    "L, U = FNC.lufact(A)\n",
    "z = FNC.forwardsub(L, b)\n",
    "x = FNC.backsub(U, z)"
   ]
  },
  {
   "cell_type": "markdown",
   "id": "e5490c2f",
   "metadata": {},
   "source": [
    "A check on the residual assures us that we found the solution."
   ]
  },
  {
   "cell_type": "code",
   "execution_count": 4,
   "id": "81d7ddce",
   "metadata": {
    "execution": {
     "iopub.execute_input": "2025-01-14T15:21:45.792000Z",
     "iopub.status.busy": "2025-01-14T15:21:45.791000Z",
     "iopub.status.idle": "2025-01-14T15:21:45.900000Z",
     "shell.execute_reply": "2025-01-14T15:21:45.897000Z"
    }
   },
   "outputs": [
    {
     "data": {
      "text/plain": [
       "4-element Vector{Float64}:\n",
       "  0.0\n",
       " -5.684341886080802e-14\n",
       "  2.842170943040401e-14\n",
       "  0.0"
      ]
     },
     "execution_count": 4,
     "metadata": {},
     "output_type": "execute_result"
    }
   ],
   "source": [
    "b - A*x"
   ]
  }
 ],
 "metadata": {
  "kernelspec": {
   "display_name": "Julia 1",
   "language": "julia",
   "name": "julia-1.11"
  },
  "language_info": {
   "file_extension": ".jl",
   "mimetype": "application/julia",
   "name": "julia",
   "version": "1.11.2"
  },
  "numbering": {
   "headings": false
  }
 },
 "nbformat": 4,
 "nbformat_minor": 5
}
