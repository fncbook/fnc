{
 "cells": [
  {
   "cell_type": "code",
   "execution_count": 1,
   "id": "dbc306ff",
   "metadata": {
    "execution": {
     "iopub.execute_input": "2025-01-14T15:19:40.150000Z",
     "iopub.status.busy": "2025-01-14T15:19:39.327000Z",
     "iopub.status.idle": "2025-01-14T15:20:03.130000Z",
     "shell.execute_reply": "2025-01-14T15:20:02.945000Z"
    }
   },
   "outputs": [
    {
     "name": "stderr",
     "output_type": "stream",
     "text": [
      "\u001b[32m\u001b[1m  Activating\u001b[22m\u001b[39m "
     ]
    },
    {
     "name": "stderr",
     "output_type": "stream",
     "text": [
      "project at `~/Documents/GitHub/fnc`\n"
     ]
    }
   ],
   "source": [
    "include(\"../../../julia/FNC_init.jl\")"
   ]
  },
  {
   "cell_type": "markdown",
   "id": "cc6385f7",
   "metadata": {},
   "source": [
    "[**Demo %s**](#demo-lu-outertri)\n",
    "\n",
    "\n",
    "```{index} Julia; tril, Julia; triu\n",
    "```\n",
    "We explore the outer product formula for two random triangular matrices."
   ]
  },
  {
   "cell_type": "code",
   "execution_count": 2,
   "id": "5f9cd753",
   "metadata": {
    "execution": {
     "iopub.execute_input": "2025-01-14T15:20:05.177000Z",
     "iopub.status.busy": "2025-01-14T15:20:03.132000Z",
     "iopub.status.idle": "2025-01-14T15:20:14.336000Z",
     "shell.execute_reply": "2025-01-14T15:20:14.335000Z"
    }
   },
   "outputs": [
    {
     "data": {
      "text/plain": [
       "3×3 Matrix{Int64}:\n",
       " 8  0  0\n",
       " 8  4  0\n",
       " 5  7  3"
      ]
     },
     "execution_count": 2,
     "metadata": {},
     "output_type": "execute_result"
    }
   ],
   "source": [
    "L = tril( rand(1:9, 3, 3) )"
   ]
  },
  {
   "cell_type": "code",
   "execution_count": 3,
   "id": "68a6791d",
   "metadata": {
    "execution": {
     "iopub.execute_input": "2025-01-14T15:20:14.350000Z",
     "iopub.status.busy": "2025-01-14T15:20:14.349000Z",
     "iopub.status.idle": "2025-01-14T15:20:14.394000Z",
     "shell.execute_reply": "2025-01-14T15:20:14.393000Z"
    }
   },
   "outputs": [
    {
     "data": {
      "text/plain": [
       "3×3 Matrix{Int64}:\n",
       " 9  7  4\n",
       " 0  7  6\n",
       " 0  0  7"
      ]
     },
     "execution_count": 3,
     "metadata": {},
     "output_type": "execute_result"
    }
   ],
   "source": [
    "U = triu( rand(1:9, 3, 3) )"
   ]
  },
  {
   "cell_type": "markdown",
   "id": "4dcdcf81",
   "metadata": {},
   "source": [
    "Here are the three outer products in the sum in {eq}`matrixouter`:\n",
    "```{tip}\n",
    ":class: dropdown\n",
    "Although `U[1,:]` is a row of `U`, it is a vector, and as such it has a default column interpretation.\n",
    "```"
   ]
  },
  {
   "cell_type": "code",
   "execution_count": 4,
   "id": "ec075138",
   "metadata": {
    "execution": {
     "iopub.execute_input": "2025-01-14T15:20:14.399000Z",
     "iopub.status.busy": "2025-01-14T15:20:14.399000Z",
     "iopub.status.idle": "2025-01-14T15:20:14.799000Z",
     "shell.execute_reply": "2025-01-14T15:20:14.798000Z"
    }
   },
   "outputs": [
    {
     "data": {
      "text/plain": [
       "3×3 Matrix{Int64}:\n",
       " 72  56  32\n",
       " 72  56  32\n",
       " 45  35  20"
      ]
     },
     "execution_count": 4,
     "metadata": {},
     "output_type": "execute_result"
    }
   ],
   "source": [
    "L[:, 1] * U[1, :]'"
   ]
  },
  {
   "cell_type": "code",
   "execution_count": 5,
   "id": "9697d226",
   "metadata": {
    "execution": {
     "iopub.execute_input": "2025-01-14T15:20:14.801000Z",
     "iopub.status.busy": "2025-01-14T15:20:14.801000Z",
     "iopub.status.idle": "2025-01-14T15:20:14.810000Z",
     "shell.execute_reply": "2025-01-14T15:20:14.809000Z"
    }
   },
   "outputs": [
    {
     "data": {
      "text/plain": [
       "3×3 Matrix{Int64}:\n",
       " 0   0   0\n",
       " 0  28  24\n",
       " 0  49  42"
      ]
     },
     "execution_count": 5,
     "metadata": {},
     "output_type": "execute_result"
    }
   ],
   "source": [
    "L[:, 2] * U[2, :]'"
   ]
  },
  {
   "cell_type": "code",
   "execution_count": 6,
   "id": "d6bd2344",
   "metadata": {
    "execution": {
     "iopub.execute_input": "2025-01-14T15:20:14.813000Z",
     "iopub.status.busy": "2025-01-14T15:20:14.813000Z",
     "iopub.status.idle": "2025-01-14T15:20:14.818000Z",
     "shell.execute_reply": "2025-01-14T15:20:14.817000Z"
    }
   },
   "outputs": [
    {
     "data": {
      "text/plain": [
       "3×3 Matrix{Int64}:\n",
       " 0  0   0\n",
       " 0  0   0\n",
       " 0  0  21"
      ]
     },
     "execution_count": 6,
     "metadata": {},
     "output_type": "execute_result"
    }
   ],
   "source": [
    "L[:, 3] * U[3, :]'"
   ]
  },
  {
   "cell_type": "markdown",
   "id": "763ebdf5",
   "metadata": {},
   "source": [
    "Simply because of the triangular zero structures, only the first outer product contributes to the first row and first column of the entire product."
   ]
  }
 ],
 "metadata": {
  "kernelspec": {
   "display_name": "Julia 1",
   "language": "julia",
   "name": "julia-1.11"
  },
  "language_info": {
   "file_extension": ".jl",
   "mimetype": "application/julia",
   "name": "julia",
   "version": "1.11.2"
  },
  "numbering": {
   "headings": false
  }
 },
 "nbformat": 4,
 "nbformat_minor": 5
}
