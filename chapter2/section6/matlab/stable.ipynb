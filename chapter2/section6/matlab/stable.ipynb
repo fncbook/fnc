{
 "cells": [
  {
   "cell_type": "code",
   "execution_count": 1,
   "id": "ab113e50",
   "metadata": {
    "tags": [
     "remove-cell"
    ]
   },
   "outputs": [],
   "source": [
    "cd  /Users/driscoll/Documents/GitHub/fnc/matlab\n",
    "FNC_init"
   ]
  },
  {
   "cell_type": "markdown",
   "id": "73441f49",
   "metadata": {},
   "source": [
    "[**Demo %s**](#demo-pivoting-stable)\n",
    "\n",
    "We construct a linear system for this matrix with $\\epsilon=10^{-12}$ and exact solution $[1, 1]$:"
   ]
  },
  {
   "cell_type": "code",
   "execution_count": 2,
   "id": "bf693204",
   "metadata": {},
   "outputs": [
    {
     "data": {
      "text/html": [
       "<html><body><pre>ep = 1.0000e-12</pre></body></html>"
      ],
      "text/plain": [
       "ep = 1.0000e-12"
      ]
     },
     "execution_count": 2,
     "metadata": {},
     "output_type": "execute_result"
    }
   ],
   "source": [
    "ep = 1e-12\n",
    "A = [-ep 1; 1 -1];\n",
    "b = A * [1; 1];"
   ]
  },
  {
   "cell_type": "markdown",
   "id": "3a03f4d4",
   "metadata": {},
   "source": [
    "We can factor the matrix without pivoting and solve for $\\mathbf{x}$."
   ]
  },
  {
   "cell_type": "code",
   "execution_count": 3,
   "id": "57f60ed8",
   "metadata": {},
   "outputs": [
    {
     "data": {
      "text/html": [
       "<html><body><pre>x = 2×1 double\n",
       "    1.0000\n",
       "    1.0000\n",
       "</pre></body></html>"
      ],
      "text/plain": [
       "x = 2×1 double\n",
       "    1.0000\n",
       "    1.0000\n"
      ]
     },
     "execution_count": 3,
     "metadata": {},
     "output_type": "execute_result"
    }
   ],
   "source": [
    "[L, U] = lufact(A);\n",
    "x = backsub( U, forwardsub(L, b) )"
   ]
  },
  {
   "cell_type": "markdown",
   "id": "8e4e7cdd",
   "metadata": {},
   "source": [
    "Note that we have obtained only about 5 accurate digits for $x_1$. We could make the result even more inaccurate by making $\\epsilon$ even smaller:"
   ]
  },
  {
   "cell_type": "code",
   "execution_count": 4,
   "id": "291a7da5",
   "metadata": {},
   "outputs": [
    {
     "data": {
      "text/html": [
       "<html><body><pre>x = 2×1 double\n",
       "     0\n",
       "     1\n",
       "</pre></body></html>"
      ],
      "text/plain": [
       "x = 2×1 double\n",
       "     0\n",
       "     1\n"
      ]
     },
     "execution_count": 4,
     "metadata": {},
     "output_type": "execute_result"
    }
   ],
   "source": [
    "ep = 1e-20; A = [-ep 1; 1 -1];\n",
    "b = A * [1; 1];\n",
    "[L, U] = lufact(A);\n",
    "x = backsub( U, forwardsub(L, b) )"
   ]
  },
  {
   "cell_type": "markdown",
   "id": "d1744e7c",
   "metadata": {},
   "source": [
    "This effect is not due to ill conditioning of the problem—a solution with PLU factorization works perfectly:"
   ]
  },
  {
   "cell_type": "code",
   "execution_count": 5,
   "id": "8d6aa4ad",
   "metadata": {},
   "outputs": [
    {
     "data": {
      "text/html": [
       "<html><body><pre>ans = 2×1 double\n",
       "     1\n",
       "     1\n",
       "</pre></body></html>"
      ],
      "text/plain": [
       "ans = 2×1 double\n",
       "     1\n",
       "     1\n"
      ]
     },
     "execution_count": 5,
     "metadata": {},
     "output_type": "execute_result"
    }
   ],
   "source": [
    "A \\ b"
   ]
  }
 ],
 "metadata": {
  "kernelspec": {
   "display_name": "MATLAB Kernel",
   "language": "matlab",
   "name": "jupyter_matlab_kernel"
  },
  "language_info": {
   "file_extension": ".m",
   "mimetype": "text/x-matlab",
   "name": "matlab"
  },
  "numbering": {
   "headings": false
  }
 },
 "nbformat": 4,
 "nbformat_minor": 5
}
