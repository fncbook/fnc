{
    "cells": [
        {
            "cell_type": "markdown",
            "source": [
                "[**Demo %s**](#demo-pivoting-stable)\n",
                "\n",
                "We construct a linear system for this matrix with $\\epsilon=10^{-12}$ and exact solution $[1, 1]$:"
            ],
            "id": "73441f49",
            "metadata": {}
        },
        {
            "outputs": [
                {
                    "output_type": "execute_result",
                    "data": {
                        "text/plain": [
                            "ep = 1.0000e-12"
                        ],
                        "text/html": [
                            "<html><body><pre>ep = 1.0000e-12</pre></body></html>"
                        ]
                    },
                    "metadata": {},
                    "execution_count": 2
                }
            ],
            "cell_type": "code",
            "source": [
                "ep = 1e-12\n",
                "A = [-ep 1; 1 -1];\n",
                "b = A * [1; 1];"
            ],
            "id": "bf693204",
            "metadata": {},
            "execution_count": 2
        },
        {
            "cell_type": "markdown",
            "source": [
                "We can factor the matrix without pivoting and solve for $\\mathbf{x}$."
            ],
            "id": "3a03f4d4",
            "metadata": {}
        },
        {
            "outputs": [
                {
                    "output_type": "execute_result",
                    "data": {
                        "text/plain": [
                            "x = 2×1 double\n",
                            "    1.0000\n",
                            "    1.0000\n"
                        ],
                        "text/html": [
                            "<html><body><pre>x = 2×1 double\n",
                            "    1.0000\n",
                            "    1.0000\n",
                            "</pre></body></html>"
                        ]
                    },
                    "metadata": {},
                    "execution_count": 3
                }
            ],
            "cell_type": "code",
            "source": [
                "[L, U] = lufact(A);\n",
                "x = backsub( U, forwardsub(L, b) )"
            ],
            "id": "57f60ed8",
            "metadata": {},
            "execution_count": 3
        },
        {
            "cell_type": "markdown",
            "source": [
                "Note that we have obtained only about 5 accurate digits for $x_1$. We could make the result even more inaccurate by making $\\epsilon$ even smaller:"
            ],
            "id": "8e4e7cdd",
            "metadata": {}
        },
        {
            "outputs": [
                {
                    "output_type": "execute_result",
                    "data": {
                        "text/plain": [
                            "x = 2×1 double\n",
                            "     0\n",
                            "     1\n"
                        ],
                        "text/html": [
                            "<html><body><pre>x = 2×1 double\n",
                            "     0\n",
                            "     1\n",
                            "</pre></body></html>"
                        ]
                    },
                    "metadata": {},
                    "execution_count": 4
                }
            ],
            "cell_type": "code",
            "source": [
                "ep = 1e-20; A = [-ep 1; 1 -1];\n",
                "b = A * [1; 1];\n",
                "[L, U] = lufact(A);\n",
                "x = backsub( U, forwardsub(L, b) )"
            ],
            "id": "291a7da5",
            "metadata": {},
            "execution_count": 4
        },
        {
            "cell_type": "markdown",
            "source": [
                "This effect is not due to ill conditioning of the problem—a solution with PLU factorization works perfectly:"
            ],
            "id": "d1744e7c",
            "metadata": {}
        },
        {
            "outputs": [
                {
                    "output_type": "execute_result",
                    "data": {
                        "text/plain": [
                            "ans = 2×1 double\n",
                            "     1\n",
                            "     1\n"
                        ],
                        "text/html": [
                            "<html><body><pre>ans = 2×1 double\n",
                            "     1\n",
                            "     1\n",
                            "</pre></body></html>"
                        ]
                    },
                    "metadata": {},
                    "execution_count": 5
                }
            ],
            "cell_type": "code",
            "source": [
                "A \\ b"
            ],
            "id": "8d6aa4ad",
            "metadata": {},
            "execution_count": 5
        }
    ],
    "nbformat_minor": 5,
    "metadata": {
        "language_info": {
            "file_extension": ".m",
            "mimetype": "text/x-matlab",
            "name": "matlab"
        },
        "kernelspec": {
            "name": "jupyter_matlab_kernel",
            "display_name": "MATLAB Kernel",
            "language": "matlab"
        },
        "numbering": {
            "headings": false
        }
    },
    "nbformat": 4
}
