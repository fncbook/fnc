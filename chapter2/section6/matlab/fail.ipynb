{
 "cells": [
  {
   "cell_type": "code",
   "execution_count": 1,
   "id": "2db94f8b",
   "metadata": {
    "tags": [
     "remove-cell"
    ]
   },
   "outputs": [],
   "source": [
    "cd  /Users/driscoll/Documents/GitHub/fnc/matlab\n",
    "FNC_init"
   ]
  },
  {
   "cell_type": "markdown",
   "id": "dd51f683",
   "metadata": {},
   "source": [
    "[**Demo %s**](#demo-pivoting-fail)\n",
    "\n",
    "Here is a previously encountered matrix that factors well."
   ]
  },
  {
   "cell_type": "code",
   "execution_count": 2,
   "id": "9d5e3fd7",
   "metadata": {},
   "outputs": [
    {
     "data": {
      "text/html": [
       "<html><body><pre>L = 4×4 double\n",
       "    1.0000         0         0         0\n",
       "   -2.0000    1.0000         0         0\n",
       "    0.5000    3.0000    1.0000         0\n",
       "   -1.0000         0   -2.0000    1.0000\n",
       "</pre></body></html>"
      ],
      "text/plain": [
       "L = 4×4 double\n",
       "    1.0000         0         0         0\n",
       "   -2.0000    1.0000         0         0\n",
       "    0.5000    3.0000    1.0000         0\n",
       "   -1.0000         0   -2.0000    1.0000\n"
      ]
     },
     "execution_count": 2,
     "metadata": {},
     "output_type": "execute_result"
    }
   ],
   "source": [
    "A = [\n",
    "    2 0 4 3\n",
    "    -4 5 -7 -10\n",
    "    1 15 2 -4.5\n",
    "    -2 0 2 -13\n",
    "    ];\n",
    "[L, U] = lufact(A);\n",
    "L"
   ]
  },
  {
   "cell_type": "markdown",
   "id": "48411499",
   "metadata": {},
   "source": [
    "If we swap the second and fourth rows of $\\mathbf{A}$, the result is still nonsingular. However, the factorization now fails."
   ]
  },
  {
   "cell_type": "code",
   "execution_count": 3,
   "id": "4289aa69",
   "metadata": {},
   "outputs": [
    {
     "data": {
      "text/html": [
       "<html><body><pre>L = 4×4 double\n",
       "    1.0000         0         0         0\n",
       "   -1.0000       NaN         0         0\n",
       "    0.5000       Inf       NaN         0\n",
       "   -2.0000       Inf       NaN    1.0000\n",
       "</pre></body></html>"
      ],
      "text/plain": [
       "L = 4×4 double\n",
       "    1.0000         0         0         0\n",
       "   -1.0000       NaN         0         0\n",
       "    0.5000       Inf       NaN         0\n",
       "   -2.0000       Inf       NaN    1.0000\n"
      ]
     },
     "execution_count": 3,
     "metadata": {},
     "output_type": "execute_result"
    }
   ],
   "source": [
    "A([2, 4], :) = A([4, 2], :);    % swap rows 2 and 4\n",
    "[L, U] = lufact(A);\n",
    "L"
   ]
  },
  {
   "cell_type": "markdown",
   "id": "82dbf16c",
   "metadata": {},
   "source": [
    "```{index} MATLAB; NaN\n",
    "```\n",
    "\n",
    "The presence of `NaN` in the result indicates that some impossible operation was required. The source of the problem is easy to locate. We can find the first outer product in the factorization just fine:"
   ]
  },
  {
   "cell_type": "code",
   "execution_count": 4,
   "id": "5c61232d",
   "metadata": {},
   "outputs": [
    {
     "data": {
      "text/html": [
       "<html><body><pre>L = 4×4 double\n",
       "    1.0000         0         0         0\n",
       "   -1.0000       NaN         0         0\n",
       "    0.5000       Inf       NaN         0\n",
       "   -2.0000       Inf       NaN    1.0000\n",
       "</pre></body></html>"
      ],
      "text/plain": [
       "L = 4×4 double\n",
       "    1.0000         0         0         0\n",
       "   -1.0000       NaN         0         0\n",
       "    0.5000       Inf       NaN         0\n",
       "   -2.0000       Inf       NaN    1.0000\n"
      ]
     },
     "execution_count": 4,
     "metadata": {},
     "output_type": "execute_result"
    },
    {
     "data": {
      "text/html": [
       "<html><body><pre>A = 4×4 double\n",
       "     0     0     0     0\n",
       "     0     0     6   -10\n",
       "     0    15     0    -6\n",
       "     0     5     1    -4\n",
       "</pre></body></html>"
      ],
      "text/plain": [
       "A = 4×4 double\n",
       "     0     0     0     0\n",
       "     0     0     6   -10\n",
       "     0    15     0    -6\n",
       "     0     5     1    -4\n"
      ]
     },
     "execution_count": 4,
     "metadata": {},
     "output_type": "execute_result"
    }
   ],
   "source": [
    "U(1, :) = A(1, :);\n",
    "L(:, 1) = A(:, 1) / U(1, 1)\n",
    "A = A - L(:, 1) * U(1, :)"
   ]
  },
  {
   "cell_type": "markdown",
   "id": "650ff72f",
   "metadata": {},
   "source": [
    "The next step is `U(2, :) = A(2, :)`, which is also OK. But then we are supposed to divide by `U(2, 2)`, which is zero. The algorithm cannot continue."
   ]
  }
 ],
 "metadata": {
  "kernelspec": {
   "display_name": "MATLAB Kernel",
   "language": "matlab",
   "name": "jupyter_matlab_kernel"
  },
  "language_info": {
   "file_extension": ".m",
   "mimetype": "text/x-matlab",
   "name": "matlab"
  },
  "numbering": {
   "headings": false
  }
 },
 "nbformat": 4,
 "nbformat_minor": 5
}
