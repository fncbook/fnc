{
 "cells": [
  {
   "cell_type": "code",
   "execution_count": 1,
   "id": "71bdc4b3",
   "metadata": {
    "tags": [
     "remove-cell"
    ]
   },
   "outputs": [],
   "source": [
    "cd  /Users/driscoll/Documents/GitHub/fnc/matlab\n",
    "FNC_init"
   ]
  },
  {
   "cell_type": "markdown",
   "id": "00f312dd",
   "metadata": {},
   "source": [
    "[**Demo %s**](#demo-pivoting-permute)\n",
    "\n",
    "Here again is the matrix from {numref}`Demo {number} <demo-pivoting-fix>`."
   ]
  },
  {
   "cell_type": "code",
   "execution_count": 2,
   "id": "a1200fab",
   "metadata": {},
   "outputs": [
    {
     "data": {
      "text/html": [
       "<html><body><pre>A = 4×4 double\n",
       "    2.0000         0    4.0000    3.0000\n",
       "   -2.0000         0    2.0000  -13.0000\n",
       "    1.0000   15.0000    2.0000   -4.5000\n",
       "   -4.0000    5.0000   -7.0000  -10.0000\n",
       "</pre></body></html>"
      ],
      "text/plain": [
       "A = 4×4 double\n",
       "    2.0000         0    4.0000    3.0000\n",
       "   -2.0000         0    2.0000  -13.0000\n",
       "    1.0000   15.0000    2.0000   -4.5000\n",
       "   -4.0000    5.0000   -7.0000  -10.0000\n"
      ]
     },
     "execution_count": 2,
     "metadata": {},
     "output_type": "execute_result"
    }
   ],
   "source": [
    "A = [2 0 4 3; -2 0 2 -13; 1 15 2 -4.5; -4 5 -7 -10]"
   ]
  },
  {
   "cell_type": "markdown",
   "id": "4f6f9c71",
   "metadata": {},
   "source": [
    "As the factorization proceeded, the pivots were selected from rows 4, 3, 2, and finally 1. If we were to put the rows of $\\mathbf{A}$ into that order, then the algorithm would run exactly like the plain LU factorization from {numref}`section-linsys-lu`."
   ]
  },
  {
   "cell_type": "code",
   "execution_count": 3,
   "id": "3da10da4",
   "metadata": {},
   "outputs": [],
   "source": [
    "B = A([4, 3, 2, 1], :);\n",
    "[L, U] = lufact(B);"
   ]
  },
  {
   "cell_type": "markdown",
   "id": "c8a96f51",
   "metadata": {},
   "source": [
    "We obtain the same $\\mathbf{U}$ as before:"
   ]
  },
  {
   "cell_type": "code",
   "execution_count": 4,
   "id": "1bde7225",
   "metadata": {},
   "outputs": [
    {
     "data": {
      "text/html": [
       "<html><body><pre>U = 4×4 double\n",
       "   -4.0000    5.0000   -7.0000  -10.0000\n",
       "         0   16.2500    0.2500   -7.0000\n",
       "         0         0    5.5385   -9.0769\n",
       "         0         0         0   -0.1667\n",
       "</pre></body></html>"
      ],
      "text/plain": [
       "U = 4×4 double\n",
       "   -4.0000    5.0000   -7.0000  -10.0000\n",
       "         0   16.2500    0.2500   -7.0000\n",
       "         0         0    5.5385   -9.0769\n",
       "         0         0         0   -0.1667\n"
      ]
     },
     "execution_count": 4,
     "metadata": {},
     "output_type": "execute_result"
    }
   ],
   "source": [
    "U"
   ]
  },
  {
   "cell_type": "markdown",
   "id": "641b6b35",
   "metadata": {},
   "source": [
    "And $\\mathbf{L}$ has the same rows as before, but arranged into triangular order:"
   ]
  },
  {
   "cell_type": "code",
   "execution_count": 5,
   "id": "2a49ee12",
   "metadata": {},
   "outputs": [
    {
     "data": {
      "text/html": [
       "<html><body><pre>L = 4×4 double\n",
       "    1.0000         0         0         0\n",
       "   -0.2500    1.0000         0         0\n",
       "    0.5000   -0.1538    1.0000         0\n",
       "   -0.5000    0.1538    0.0833    1.0000\n",
       "</pre></body></html>"
      ],
      "text/plain": [
       "L = 4×4 double\n",
       "    1.0000         0         0         0\n",
       "   -0.2500    1.0000         0         0\n",
       "    0.5000   -0.1538    1.0000         0\n",
       "   -0.5000    0.1538    0.0833    1.0000\n"
      ]
     },
     "execution_count": 5,
     "metadata": {},
     "output_type": "execute_result"
    }
   ],
   "source": [
    "L"
   ]
  }
 ],
 "metadata": {
  "kernelspec": {
   "display_name": "MATLAB Kernel",
   "language": "matlab",
   "name": "jupyter_matlab_kernel"
  },
  "language_info": {
   "file_extension": ".m",
   "mimetype": "text/x-matlab",
   "name": "matlab"
  },
  "numbering": {
   "headings": false
  }
 },
 "nbformat": 4,
 "nbformat_minor": 5
}
