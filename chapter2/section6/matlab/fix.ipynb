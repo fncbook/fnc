{
    "cells": [
        {
            "cell_type": "markdown",
            "source": [
                "[**Demo %s**](#demo-pivoting-fix)\n",
                "\n",
                "Here is the trouble-making matrix from {numref}`Demo {number} <demo-pivoting-fail>`."
            ],
            "id": "f7258b63",
            "metadata": {}
        },
        {
            "outputs": [
                {
                    "output_type": "execute_result",
                    "data": {
                        "text/plain": [
                            "A_1 = 4×4 double\n",
                            "    2.0000         0    4.0000    3.0000\n",
                            "   -2.0000         0    2.0000  -13.0000\n",
                            "    1.0000   15.0000    2.0000   -4.5000\n",
                            "   -4.0000    5.0000   -7.0000  -10.0000\n"
                        ],
                        "text/html": [
                            "<html><body><pre>A_1 = 4×4 double\n",
                            "    2.0000         0    4.0000    3.0000\n",
                            "   -2.0000         0    2.0000  -13.0000\n",
                            "    1.0000   15.0000    2.0000   -4.5000\n",
                            "   -4.0000    5.0000   -7.0000  -10.0000\n",
                            "</pre></body></html>"
                        ]
                    },
                    "metadata": {},
                    "execution_count": 2
                }
            ],
            "cell_type": "code",
            "source": [
                "A_1 = [2 0 4 3; -2 0 2 -13; 1 15 2 -4.5; -4 5 -7 -10]"
            ],
            "id": "f9e1f457",
            "metadata": {},
            "execution_count": 2
        },
        {
            "cell_type": "markdown",
            "source": [
                "```{index} ! MATLAB; max, ! MATLAB; \\~\n",
                "```\n",
                "\n",
                "We now find the largest candidate pivot in the first column. We don't care about sign, so we take absolute values before finding the max.\n",
                "```{tip}\n",
                ":class: dropdown\n",
                "The second output of `max` returns the location of the largest element of a vector. The `~` symbol is used to ignore the value of the first output.\n",
                "```"
            ],
            "id": "47bab842",
            "metadata": {}
        },
        {
            "outputs": [
                {
                    "output_type": "execute_result",
                    "data": {
                        "text/plain": [
                            "i = 4"
                        ],
                        "text/html": [
                            "<html><body><pre>i = 4</pre></body></html>"
                        ]
                    },
                    "metadata": {},
                    "execution_count": 3
                }
            ],
            "cell_type": "code",
            "source": [
                "[~, i] = max( abs(A_1(:, 1)) ) "
            ],
            "id": "1357ce30",
            "metadata": {},
            "execution_count": 3
        },
        {
            "cell_type": "markdown",
            "source": [
                "This is the row of the matrix that we extract to put into $\\mathbf{U}$. That guarantees that the division used to find $\\boldsymbol{\\ell}_1$ will be valid."
            ],
            "id": "5d8ed36e",
            "metadata": {}
        },
        {
            "outputs": [
                {
                    "output_type": "execute_result",
                    "data": {
                        "text/plain": [
                            "A_2 = 4×4 double\n",
                            "         0    2.5000    0.5000   -2.0000\n",
                            "         0   -2.5000    5.5000   -8.0000\n",
                            "         0   16.2500    0.2500   -7.0000\n",
                            "         0         0         0         0\n"
                        ],
                        "text/html": [
                            "<html><body><pre>A_2 = 4×4 double\n",
                            "         0    2.5000    0.5000   -2.0000\n",
                            "         0   -2.5000    5.5000   -8.0000\n",
                            "         0   16.2500    0.2500   -7.0000\n",
                            "         0         0         0         0\n",
                            "</pre></body></html>"
                        ]
                    },
                    "metadata": {},
                    "execution_count": 4
                }
            ],
            "cell_type": "code",
            "source": [
                "L = zeros(4, 4);\n",
                "U = zeros(4, 4);\n",
                "U(1, :) = A_1(i, :);\n",
                "L(:, 1) = A_1(:, 1) / U(1, 1);\n",
                "A_2 = A_1 - L(:, 1) * U(1, :)"
            ],
            "id": "7b8b0e28",
            "metadata": {},
            "execution_count": 4
        },
        {
            "cell_type": "markdown",
            "source": [
                "Observe that $\\mathbf{A}_2$ has a new zero row and zero column, but the zero row is the fourth rather than the first. However, we forge on by using the largest possible pivot in column 2 for the next outer product."
            ],
            "id": "7ff45b5f",
            "metadata": {}
        },
        {
            "outputs": [
                {
                    "output_type": "execute_result",
                    "data": {
                        "text/plain": [
                            "i = 3"
                        ],
                        "text/html": [
                            "<html><body><pre>i = 3</pre></body></html>"
                        ]
                    },
                    "metadata": {},
                    "execution_count": 5
                },
                {
                    "output_type": "execute_result",
                    "data": {
                        "text/plain": [
                            "A_3 = 4×4 double\n",
                            "         0         0    0.4615   -0.9231\n",
                            "         0         0    5.5385   -9.0769\n",
                            "         0         0         0         0\n",
                            "         0         0         0         0\n"
                        ],
                        "text/html": [
                            "<html><body><pre>A_3 = 4×4 double\n",
                            "         0         0    0.4615   -0.9231\n",
                            "         0         0    5.5385   -9.0769\n",
                            "         0         0         0         0\n",
                            "         0         0         0         0\n",
                            "</pre></body></html>"
                        ]
                    },
                    "metadata": {},
                    "execution_count": 5
                }
            ],
            "cell_type": "code",
            "source": [
                "[~, i] = max( abs(A_2(:, 2)) )\n",
                "U(2, :) = A_2(i, :);\n",
                "L(:, 2) = A_2(:, 2) / U(2, 2);\n",
                "A_3 = A_2 - L(:, 2) * U(2, :)"
            ],
            "id": "e2728824",
            "metadata": {},
            "execution_count": 5
        },
        {
            "cell_type": "markdown",
            "source": [
                "Now we have zeroed out the third row as well as the second column. We can finish out the procedure."
            ],
            "id": "3c46f2e0",
            "metadata": {}
        },
        {
            "outputs": [
                {
                    "output_type": "execute_result",
                    "data": {
                        "text/plain": [
                            "i = 2"
                        ],
                        "text/html": [
                            "<html><body><pre>i = 2</pre></body></html>"
                        ]
                    },
                    "metadata": {},
                    "execution_count": 6
                },
                {
                    "output_type": "execute_result",
                    "data": {
                        "text/plain": [
                            "A_4 = 4×4 double\n",
                            "         0         0         0   -0.1667\n",
                            "         0         0         0         0\n",
                            "         0         0         0         0\n",
                            "         0         0         0         0\n"
                        ],
                        "text/html": [
                            "<html><body><pre>A_4 = 4×4 double\n",
                            "         0         0         0   -0.1667\n",
                            "         0         0         0         0\n",
                            "         0         0         0         0\n",
                            "         0         0         0         0\n",
                            "</pre></body></html>"
                        ]
                    },
                    "metadata": {},
                    "execution_count": 6
                }
            ],
            "cell_type": "code",
            "source": [
                "[~, i] = max( abs(A_3(:, 3)) ) \n",
                "U(3, :) = A_3(i, :);\n",
                "L(:, 3) = A_3(:, 3) / U(3, 3);\n",
                "A_4 = A_3 - L(:, 3) * U(3, :)"
            ],
            "id": "af19c1d9",
            "metadata": {},
            "execution_count": 6
        },
        {
            "outputs": [
                {
                    "output_type": "execute_result",
                    "data": {
                        "text/plain": [
                            "i = 1"
                        ],
                        "text/html": [
                            "<html><body><pre>i = 1</pre></body></html>"
                        ]
                    },
                    "metadata": {},
                    "execution_count": 7
                }
            ],
            "cell_type": "code",
            "source": [
                "[~, i] = max( abs(A_4(:, 4)) ) \n",
                "U(4, :) = A_4(i, :);\n",
                "L(:, 4) = A_4(:, 4) / U(4, 4);"
            ],
            "id": "2d3f5675",
            "metadata": {},
            "execution_count": 7
        },
        {
            "cell_type": "markdown",
            "source": [
                "We do have a factorization of the original matrix:"
            ],
            "id": "408ce9af",
            "metadata": {}
        },
        {
            "outputs": [
                {
                    "output_type": "execute_result",
                    "data": {
                        "text/plain": [
                            "ans = 4×4 double\n",
                            "     0     0     0     0\n",
                            "     0     0     0     0\n",
                            "     0     0     0     0\n",
                            "     0     0     0     0\n"
                        ],
                        "text/html": [
                            "<html><body><pre>ans = 4×4 double\n",
                            "     0     0     0     0\n",
                            "     0     0     0     0\n",
                            "     0     0     0     0\n",
                            "     0     0     0     0\n",
                            "</pre></body></html>"
                        ]
                    },
                    "metadata": {},
                    "execution_count": 8
                }
            ],
            "cell_type": "code",
            "source": [
                "A_1 - L * U"
            ],
            "id": "2d02d11f",
            "metadata": {},
            "execution_count": 8
        },
        {
            "cell_type": "markdown",
            "source": [
                "And $\\mathbf{U}$ has the required structure:"
            ],
            "id": "007f9714",
            "metadata": {}
        },
        {
            "outputs": [
                {
                    "output_type": "execute_result",
                    "data": {
                        "text/plain": [
                            "U = 4×4 double\n",
                            "   -4.0000    5.0000   -7.0000  -10.0000\n",
                            "         0   16.2500    0.2500   -7.0000\n",
                            "         0         0    5.5385   -9.0769\n",
                            "         0         0         0   -0.1667\n"
                        ],
                        "text/html": [
                            "<html><body><pre>U = 4×4 double\n",
                            "   -4.0000    5.0000   -7.0000  -10.0000\n",
                            "         0   16.2500    0.2500   -7.0000\n",
                            "         0         0    5.5385   -9.0769\n",
                            "         0         0         0   -0.1667\n",
                            "</pre></body></html>"
                        ]
                    },
                    "metadata": {},
                    "execution_count": 9
                }
            ],
            "cell_type": "code",
            "source": [
                "U"
            ],
            "id": "a70729ec",
            "metadata": {},
            "execution_count": 9
        },
        {
            "cell_type": "markdown",
            "source": [
                "However, the triangularity of $\\mathbf{L}$ has been broken."
            ],
            "id": "ad26d278",
            "metadata": {}
        },
        {
            "outputs": [
                {
                    "output_type": "execute_result",
                    "data": {
                        "text/plain": [
                            "L = 4×4 double\n",
                            "   -0.5000    0.1538    0.0833    1.0000\n",
                            "    0.5000   -0.1538    1.0000         0\n",
                            "   -0.2500    1.0000         0         0\n",
                            "    1.0000         0         0         0\n"
                        ],
                        "text/html": [
                            "<html><body><pre>L = 4×4 double\n",
                            "   -0.5000    0.1538    0.0833    1.0000\n",
                            "    0.5000   -0.1538    1.0000         0\n",
                            "   -0.2500    1.0000         0         0\n",
                            "    1.0000         0         0         0\n",
                            "</pre></body></html>"
                        ]
                    },
                    "metadata": {},
                    "execution_count": 10
                }
            ],
            "cell_type": "code",
            "source": [
                "L"
            ],
            "id": "ff84130d",
            "metadata": {},
            "execution_count": 10
        }
    ],
    "nbformat_minor": 5,
    "metadata": {
        "language_info": {
            "file_extension": ".m",
            "mimetype": "text/x-matlab",
            "name": "matlab"
        },
        "kernelspec": {
            "name": "jupyter_matlab_kernel",
            "display_name": "MATLAB Kernel",
            "language": "matlab"
        },
        "numbering": {
            "headings": false
        }
    },
    "nbformat": 4
}
