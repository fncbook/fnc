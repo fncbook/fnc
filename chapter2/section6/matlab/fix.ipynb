{
 "cells": [
  {
   "cell_type": "code",
   "execution_count": 1,
   "id": "e4489c63",
   "metadata": {
    "tags": [
     "remove-cell"
    ]
   },
   "outputs": [],
   "source": [
    "cd  /Users/driscoll/Documents/GitHub/fnc/matlab\n",
    "FNC_init"
   ]
  },
  {
   "cell_type": "markdown",
   "id": "f7258b63",
   "metadata": {},
   "source": [
    "[**Demo %s**](#demo-pivoting-fix)\n",
    "\n",
    "Here is the trouble-making matrix from {numref}`Demo {number} <demo-pivoting-fail>`."
   ]
  },
  {
   "cell_type": "code",
   "execution_count": 2,
   "id": "f9e1f457",
   "metadata": {},
   "outputs": [
    {
     "data": {
      "text/html": [
       "<html><body><pre>A_1 = 4×4 double\n",
       "    2.0000         0    4.0000    3.0000\n",
       "   -2.0000         0    2.0000  -13.0000\n",
       "    1.0000   15.0000    2.0000   -4.5000\n",
       "   -4.0000    5.0000   -7.0000  -10.0000\n",
       "</pre></body></html>"
      ],
      "text/plain": [
       "A_1 = 4×4 double\n",
       "    2.0000         0    4.0000    3.0000\n",
       "   -2.0000         0    2.0000  -13.0000\n",
       "    1.0000   15.0000    2.0000   -4.5000\n",
       "   -4.0000    5.0000   -7.0000  -10.0000\n"
      ]
     },
     "execution_count": 2,
     "metadata": {},
     "output_type": "execute_result"
    }
   ],
   "source": [
    "A_1 = [2 0 4 3; -2 0 2 -13; 1 15 2 -4.5; -4 5 -7 -10]"
   ]
  },
  {
   "cell_type": "markdown",
   "id": "47bab842",
   "metadata": {},
   "source": [
    "```{index} ! MATLAB; max, ! MATLAB; \\~\n",
    "```\n",
    "\n",
    "We now find the largest candidate pivot in the first column. We don't care about sign, so we take absolute values before finding the max.\n",
    "```{tip}\n",
    ":class: dropdown\n",
    "The second output of `max` returns the location of the largest element of a vector. The `~` symbol is used to ignore the value of the first output.\n",
    "```"
   ]
  },
  {
   "cell_type": "code",
   "execution_count": 3,
   "id": "1357ce30",
   "metadata": {},
   "outputs": [
    {
     "data": {
      "text/html": [
       "<html><body><pre>i = 4</pre></body></html>"
      ],
      "text/plain": [
       "i = 4"
      ]
     },
     "execution_count": 3,
     "metadata": {},
     "output_type": "execute_result"
    }
   ],
   "source": [
    "[~, i] = max( abs(A_1(:, 1)) ) "
   ]
  },
  {
   "cell_type": "markdown",
   "id": "5d8ed36e",
   "metadata": {},
   "source": [
    "This is the row of the matrix that we extract to put into $\\mathbf{U}$. That guarantees that the division used to find $\\boldsymbol{\\ell}_1$ will be valid."
   ]
  },
  {
   "cell_type": "code",
   "execution_count": 4,
   "id": "7b8b0e28",
   "metadata": {},
   "outputs": [
    {
     "data": {
      "text/html": [
       "<html><body><pre>A_2 = 4×4 double\n",
       "         0    2.5000    0.5000   -2.0000\n",
       "         0   -2.5000    5.5000   -8.0000\n",
       "         0   16.2500    0.2500   -7.0000\n",
       "         0         0         0         0\n",
       "</pre></body></html>"
      ],
      "text/plain": [
       "A_2 = 4×4 double\n",
       "         0    2.5000    0.5000   -2.0000\n",
       "         0   -2.5000    5.5000   -8.0000\n",
       "         0   16.2500    0.2500   -7.0000\n",
       "         0         0         0         0\n"
      ]
     },
     "execution_count": 4,
     "metadata": {},
     "output_type": "execute_result"
    }
   ],
   "source": [
    "L = zeros(4, 4);\n",
    "U = zeros(4, 4);\n",
    "U(1, :) = A_1(i, :);\n",
    "L(:, 1) = A_1(:, 1) / U(1, 1);\n",
    "A_2 = A_1 - L(:, 1) * U(1, :)"
   ]
  },
  {
   "cell_type": "markdown",
   "id": "7ff45b5f",
   "metadata": {},
   "source": [
    "Observe that $\\mathbf{A}_2$ has a new zero row and zero column, but the zero row is the fourth rather than the first. However, we forge on by using the largest possible pivot in column 2 for the next outer product."
   ]
  },
  {
   "cell_type": "code",
   "execution_count": 5,
   "id": "e2728824",
   "metadata": {},
   "outputs": [
    {
     "data": {
      "text/html": [
       "<html><body><pre>i = 3</pre></body></html>"
      ],
      "text/plain": [
       "i = 3"
      ]
     },
     "execution_count": 5,
     "metadata": {},
     "output_type": "execute_result"
    },
    {
     "data": {
      "text/html": [
       "<html><body><pre>A_3 = 4×4 double\n",
       "         0         0    0.4615   -0.9231\n",
       "         0         0    5.5385   -9.0769\n",
       "         0         0         0         0\n",
       "         0         0         0         0\n",
       "</pre></body></html>"
      ],
      "text/plain": [
       "A_3 = 4×4 double\n",
       "         0         0    0.4615   -0.9231\n",
       "         0         0    5.5385   -9.0769\n",
       "         0         0         0         0\n",
       "         0         0         0         0\n"
      ]
     },
     "execution_count": 5,
     "metadata": {},
     "output_type": "execute_result"
    }
   ],
   "source": [
    "[~, i] = max( abs(A_2(:, 2)) )\n",
    "U(2, :) = A_2(i, :);\n",
    "L(:, 2) = A_2(:, 2) / U(2, 2);\n",
    "A_3 = A_2 - L(:, 2) * U(2, :)"
   ]
  },
  {
   "cell_type": "markdown",
   "id": "3c46f2e0",
   "metadata": {},
   "source": [
    "Now we have zeroed out the third row as well as the second column. We can finish out the procedure."
   ]
  },
  {
   "cell_type": "code",
   "execution_count": 6,
   "id": "af19c1d9",
   "metadata": {},
   "outputs": [
    {
     "data": {
      "text/html": [
       "<html><body><pre>i = 2</pre></body></html>"
      ],
      "text/plain": [
       "i = 2"
      ]
     },
     "execution_count": 6,
     "metadata": {},
     "output_type": "execute_result"
    },
    {
     "data": {
      "text/html": [
       "<html><body><pre>A_4 = 4×4 double\n",
       "         0         0         0   -0.1667\n",
       "         0         0         0         0\n",
       "         0         0         0         0\n",
       "         0         0         0         0\n",
       "</pre></body></html>"
      ],
      "text/plain": [
       "A_4 = 4×4 double\n",
       "         0         0         0   -0.1667\n",
       "         0         0         0         0\n",
       "         0         0         0         0\n",
       "         0         0         0         0\n"
      ]
     },
     "execution_count": 6,
     "metadata": {},
     "output_type": "execute_result"
    }
   ],
   "source": [
    "[~, i] = max( abs(A_3(:, 3)) ) \n",
    "U(3, :) = A_3(i, :);\n",
    "L(:, 3) = A_3(:, 3) / U(3, 3);\n",
    "A_4 = A_3 - L(:, 3) * U(3, :)"
   ]
  },
  {
   "cell_type": "code",
   "execution_count": 7,
   "id": "2d3f5675",
   "metadata": {},
   "outputs": [
    {
     "data": {
      "text/html": [
       "<html><body><pre>i = 1</pre></body></html>"
      ],
      "text/plain": [
       "i = 1"
      ]
     },
     "execution_count": 7,
     "metadata": {},
     "output_type": "execute_result"
    }
   ],
   "source": [
    "[~, i] = max( abs(A_4(:, 4)) ) \n",
    "U(4, :) = A_4(i, :);\n",
    "L(:, 4) = A_4(:, 4) / U(4, 4);"
   ]
  },
  {
   "cell_type": "markdown",
   "id": "408ce9af",
   "metadata": {},
   "source": [
    "We do have a factorization of the original matrix:"
   ]
  },
  {
   "cell_type": "code",
   "execution_count": 8,
   "id": "2d02d11f",
   "metadata": {},
   "outputs": [
    {
     "data": {
      "text/html": [
       "<html><body><pre>ans = 4×4 double\n",
       "     0     0     0     0\n",
       "     0     0     0     0\n",
       "     0     0     0     0\n",
       "     0     0     0     0\n",
       "</pre></body></html>"
      ],
      "text/plain": [
       "ans = 4×4 double\n",
       "     0     0     0     0\n",
       "     0     0     0     0\n",
       "     0     0     0     0\n",
       "     0     0     0     0\n"
      ]
     },
     "execution_count": 8,
     "metadata": {},
     "output_type": "execute_result"
    }
   ],
   "source": [
    "A_1 - L * U"
   ]
  },
  {
   "cell_type": "markdown",
   "id": "007f9714",
   "metadata": {},
   "source": [
    "And $\\mathbf{U}$ has the required structure:"
   ]
  },
  {
   "cell_type": "code",
   "execution_count": 9,
   "id": "a70729ec",
   "metadata": {},
   "outputs": [
    {
     "data": {
      "text/html": [
       "<html><body><pre>U = 4×4 double\n",
       "   -4.0000    5.0000   -7.0000  -10.0000\n",
       "         0   16.2500    0.2500   -7.0000\n",
       "         0         0    5.5385   -9.0769\n",
       "         0         0         0   -0.1667\n",
       "</pre></body></html>"
      ],
      "text/plain": [
       "U = 4×4 double\n",
       "   -4.0000    5.0000   -7.0000  -10.0000\n",
       "         0   16.2500    0.2500   -7.0000\n",
       "         0         0    5.5385   -9.0769\n",
       "         0         0         0   -0.1667\n"
      ]
     },
     "execution_count": 9,
     "metadata": {},
     "output_type": "execute_result"
    }
   ],
   "source": [
    "U"
   ]
  },
  {
   "cell_type": "markdown",
   "id": "ad26d278",
   "metadata": {},
   "source": [
    "However, the triangularity of $\\mathbf{L}$ has been broken."
   ]
  },
  {
   "cell_type": "code",
   "execution_count": 10,
   "id": "ff84130d",
   "metadata": {},
   "outputs": [
    {
     "data": {
      "text/html": [
       "<html><body><pre>L = 4×4 double\n",
       "   -0.5000    0.1538    0.0833    1.0000\n",
       "    0.5000   -0.1538    1.0000         0\n",
       "   -0.2500    1.0000         0         0\n",
       "    1.0000         0         0         0\n",
       "</pre></body></html>"
      ],
      "text/plain": [
       "L = 4×4 double\n",
       "   -0.5000    0.1538    0.0833    1.0000\n",
       "    0.5000   -0.1538    1.0000         0\n",
       "   -0.2500    1.0000         0         0\n",
       "    1.0000         0         0         0\n"
      ]
     },
     "execution_count": 10,
     "metadata": {},
     "output_type": "execute_result"
    }
   ],
   "source": [
    "L"
   ]
  }
 ],
 "metadata": {
  "kernelspec": {
   "display_name": "MATLAB Kernel",
   "language": "matlab",
   "name": "jupyter_matlab_kernel"
  },
  "language_info": {
   "file_extension": ".m",
   "mimetype": "text/x-matlab",
   "name": "matlab"
  },
  "numbering": {
   "headings": false
  }
 },
 "nbformat": 4,
 "nbformat_minor": 5
}
