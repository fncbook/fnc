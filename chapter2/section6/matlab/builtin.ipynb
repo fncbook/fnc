{
    "cells": [
        {
            "cell_type": "markdown",
            "source": [
                "[**Demo %s**](#demo-pivoting-builtin)\n",
                "\n",
                "With the syntax `A \\ b`, the matrix `A` is PLU-factored, followed by two triangular solves."
            ],
            "id": "0f15730d",
            "metadata": {}
        },
        {
            "outputs": [
                {
                    "name": "stdout",
                    "output_type": "stream",
                    "text": [
                        "Elapsed time is 0.406799 seconds.\n"
                    ]
                }
            ],
            "cell_type": "code",
            "source": [
                "A = randn(500, 500);    % 500x500 with normal random entries\n",
                "tic; for k=1:50; A \\ rand(500, 1); end; toc"
            ],
            "id": "7e4f2c35",
            "metadata": {},
            "execution_count": 2
        },
        {
            "cell_type": "markdown",
            "source": [
                "In {numref}`section-linsys-efficiency` we showed that the factorization is by far the most costly part of the solution process. A factorization object allows us to do that costly step only once per unique matrix."
            ],
            "id": "60db93d8",
            "metadata": {}
        },
        {
            "outputs": [
                {
                    "name": "stdout",
                    "output_type": "stream",
                    "text": [
                        "Elapsed time is 0.010508 seconds.\n"
                    ]
                }
            ],
            "cell_type": "code",
            "source": [
                "[L, U, p] = lu(A, 'vector');    % keep factorization result\n",
                "tic\n",
                "for k=1:50\n",
                "    b = rand(500, 1);\n",
                "    U \\ (L \\ b(p));\n",
                "end\n",
                "toc"
            ],
            "id": "23b1b58f",
            "metadata": {},
            "execution_count": 3
        }
    ],
    "nbformat_minor": 5,
    "metadata": {
        "language_info": {
            "file_extension": ".m",
            "mimetype": "text/x-matlab",
            "name": "matlab"
        },
        "kernelspec": {
            "name": "jupyter_matlab_kernel",
            "display_name": "MATLAB Kernel",
            "language": "matlab"
        },
        "numbering": {
            "headings": false
        }
    },
    "nbformat": 4
}
