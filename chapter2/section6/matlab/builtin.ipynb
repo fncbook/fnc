{
 "cells": [
  {
   "cell_type": "code",
   "execution_count": 1,
   "id": "dd172bf0",
   "metadata": {
    "tags": [
     "remove-cell"
    ]
   },
   "outputs": [],
   "source": [
    "cd  /Users/driscoll/Documents/GitHub/fnc/matlab\n",
    "FNC_init"
   ]
  },
  {
   "cell_type": "markdown",
   "id": "0f15730d",
   "metadata": {},
   "source": [
    "[**Demo %s**](#demo-pivoting-builtin)\n",
    "\n",
    "With the syntax `A \\ b`, the matrix `A` is PLU-factored, followed by two triangular solves."
   ]
  },
  {
   "cell_type": "code",
   "execution_count": 2,
   "id": "7e4f2c35",
   "metadata": {},
   "outputs": [
    {
     "name": "stdout",
     "output_type": "stream",
     "text": [
      "Elapsed time is 0.406799 seconds.\n"
     ]
    }
   ],
   "source": [
    "A = randn(500, 500);    % 500x500 with normal random entries\n",
    "tic; for k=1:50; A \\ rand(500, 1); end; toc"
   ]
  },
  {
   "cell_type": "markdown",
   "id": "60db93d8",
   "metadata": {},
   "source": [
    "In {numref}`section-linsys-efficiency` we showed that the factorization is by far the most costly part of the solution process. A factorization object allows us to do that costly step only once per unique matrix."
   ]
  },
  {
   "cell_type": "code",
   "execution_count": 3,
   "id": "23b1b58f",
   "metadata": {},
   "outputs": [
    {
     "name": "stdout",
     "output_type": "stream",
     "text": [
      "Elapsed time is 0.010508 seconds.\n"
     ]
    }
   ],
   "source": [
    "[L, U, p] = lu(A, 'vector');    % keep factorization result\n",
    "tic\n",
    "for k=1:50\n",
    "    b = rand(500, 1);\n",
    "    U \\ (L \\ b(p));\n",
    "end\n",
    "toc"
   ]
  }
 ],
 "metadata": {
  "kernelspec": {
   "display_name": "MATLAB Kernel",
   "language": "matlab",
   "name": "jupyter_matlab_kernel"
  },
  "language_info": {
   "file_extension": ".m",
   "mimetype": "text/x-matlab",
   "name": "matlab"
  },
  "numbering": {
   "headings": false
  }
 },
 "nbformat": 4,
 "nbformat_minor": 5
}
