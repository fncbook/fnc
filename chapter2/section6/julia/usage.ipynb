{
 "cells": [
  {
   "cell_type": "code",
   "execution_count": 1,
   "id": "2d7ef444",
   "metadata": {
    "execution": {
     "iopub.execute_input": "2025-01-05T09:34:08.220000Z",
     "iopub.status.busy": "2025-01-05T09:34:07.927000Z",
     "iopub.status.idle": "2025-01-05T09:34:14.716000Z",
     "shell.execute_reply": "2025-01-05T09:34:14.670000Z"
    }
   },
   "outputs": [
    {
     "name": "stderr",
     "output_type": "stream",
     "text": [
      "\u001b[32m\u001b[1m  Activating\u001b[22m\u001b[39m "
     ]
    },
    {
     "name": "stderr",
     "output_type": "stream",
     "text": [
      "project at `~/Documents/GitHub/fnc`\n"
     ]
    }
   ],
   "source": [
    "include(\"../../../julia/FNC_init.jl\")"
   ]
  },
  {
   "cell_type": "markdown",
   "id": "981d58d4",
   "metadata": {},
   "source": [
    "[**Demo %s**](#demo-pivoting-usage)\n",
    "\n",
    "The third output of `plufact` is the permutation vector we need to apply to $\\mathbf{A}$."
   ]
  },
  {
   "cell_type": "code",
   "execution_count": 2,
   "id": "cabf740b",
   "metadata": {
    "execution": {
     "iopub.execute_input": "2025-01-05T09:34:14.862000Z",
     "iopub.status.busy": "2025-01-05T09:34:14.718000Z",
     "iopub.status.idle": "2025-01-05T09:34:17.221000Z",
     "shell.execute_reply": "2025-01-05T09:34:17.221000Z"
    }
   },
   "outputs": [
    {
     "data": {
      "text/plain": [
       "4×4 Matrix{Float64}:\n",
       " 0.0  0.0  0.0  0.0\n",
       " 0.0  0.0  0.0  0.0\n",
       " 0.0  0.0  0.0  0.0\n",
       " 0.0  0.0  0.0  0.0"
      ]
     },
     "execution_count": 2,
     "metadata": {},
     "output_type": "execute_result"
    }
   ],
   "source": [
    "A = rand(1:20, 4, 4)\n",
    "L, U, p = FNC.plufact(A)\n",
    "A[p,:] - L * U   # should be ≈ 0"
   ]
  },
  {
   "cell_type": "markdown",
   "id": "2a3e5aa9",
   "metadata": {},
   "source": [
    "Given a vector $\\mathbf{b}$, we solve $\\mathbf{A}\\mathbf{x}=\\mathbf{b}$ by first permuting the entries of $\\mathbf{b}$ and then proceeding as before."
   ]
  },
  {
   "cell_type": "code",
   "execution_count": 3,
   "id": "26188685",
   "metadata": {
    "execution": {
     "iopub.execute_input": "2025-01-05T09:34:17.225000Z",
     "iopub.status.busy": "2025-01-05T09:34:17.224000Z",
     "iopub.status.idle": "2025-01-05T09:34:17.529000Z",
     "shell.execute_reply": "2025-01-05T09:34:17.529000Z"
    }
   },
   "outputs": [
    {
     "data": {
      "text/plain": [
       "4-element Vector{Float64}:\n",
       "  0.02749801420636107\n",
       " -0.12548794082958492\n",
       "  0.07681772246882936\n",
       "  0.0531377259493499"
      ]
     },
     "execution_count": 3,
     "metadata": {},
     "output_type": "execute_result"
    }
   ],
   "source": [
    "b = rand(4)\n",
    "z = FNC.forwardsub(L,b[p])\n",
    "x = FNC.backsub(U,z)"
   ]
  },
  {
   "cell_type": "markdown",
   "id": "15b4c26c",
   "metadata": {},
   "source": [
    "A residual check is successful:"
   ]
  },
  {
   "cell_type": "code",
   "execution_count": 4,
   "id": "20f0d0f3",
   "metadata": {
    "execution": {
     "iopub.execute_input": "2025-01-05T09:34:17.531000Z",
     "iopub.status.busy": "2025-01-05T09:34:17.531000Z",
     "iopub.status.idle": "2025-01-05T09:34:17.638000Z",
     "shell.execute_reply": "2025-01-05T09:34:17.638000Z"
    }
   },
   "outputs": [
    {
     "data": {
      "text/plain": [
       "4-element Vector{Float64}:\n",
       " -2.220446049250313e-16\n",
       " -1.1102230246251565e-16\n",
       "  1.1102230246251565e-16\n",
       "  0.0"
      ]
     },
     "execution_count": 4,
     "metadata": {},
     "output_type": "execute_result"
    }
   ],
   "source": [
    "b - A*x"
   ]
  }
 ],
 "metadata": {
  "kernelspec": {
   "display_name": "Julia 1",
   "language": "julia",
   "name": "julia-1.11"
  },
  "language_info": {
   "file_extension": ".jl",
   "mimetype": "application/julia",
   "name": "julia",
   "version": "1.11.2"
  },
  "numbering": {
   "headings": false
  }
 },
 "nbformat": 4,
 "nbformat_minor": 5
}
