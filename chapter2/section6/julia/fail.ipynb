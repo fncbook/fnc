{
 "cells": [
  {
   "cell_type": "code",
   "execution_count": 1,
   "id": "d88d995b",
   "metadata": {
    "execution": {
     "iopub.execute_input": "2025-01-05T09:33:19.478000Z",
     "iopub.status.busy": "2025-01-05T09:33:19.209000Z",
     "iopub.status.idle": "2025-01-05T09:33:25.748000Z",
     "shell.execute_reply": "2025-01-05T09:33:25.695000Z"
    }
   },
   "outputs": [
    {
     "name": "stderr",
     "output_type": "stream",
     "text": [
      "\u001b[32m\u001b[1m  Activating\u001b[22m\u001b[39m "
     ]
    },
    {
     "name": "stderr",
     "output_type": "stream",
     "text": [
      "project at `~/Documents/GitHub/fnc`\n"
     ]
    }
   ],
   "source": [
    "include(\"../../../julia/FNC_init.jl\")"
   ]
  },
  {
   "cell_type": "markdown",
   "id": "a75f5978",
   "metadata": {},
   "source": [
    "[**Demo %s**](#demo-pivoting-fail)\n",
    "\n",
    "Here is a previously encountered matrix that factors well."
   ]
  },
  {
   "cell_type": "code",
   "execution_count": 2,
   "id": "7af7f273",
   "metadata": {
    "execution": {
     "iopub.execute_input": "2025-01-05T09:33:25.891000Z",
     "iopub.status.busy": "2025-01-05T09:33:25.749000Z",
     "iopub.status.idle": "2025-01-05T09:33:27.259000Z",
     "shell.execute_reply": "2025-01-05T09:33:27.259000Z"
    }
   },
   "outputs": [
    {
     "data": {
      "text/plain": [
       "4×4 LowerTriangular{Float64, Matrix{Float64}}:\n",
       "  1.0   ⋅     ⋅    ⋅ \n",
       " -2.0  1.0    ⋅    ⋅ \n",
       "  0.5  3.0   1.0   ⋅ \n",
       " -1.0  0.0  -2.0  1.0"
      ]
     },
     "execution_count": 2,
     "metadata": {},
     "output_type": "execute_result"
    }
   ],
   "source": [
    "A = [2 0 4 3 ; -4 5 -7 -10 ; 1 15 2 -4.5 ; -2 0 2 -13];\n",
    "L, U = FNC.lufact(A)\n",
    "L"
   ]
  },
  {
   "cell_type": "markdown",
   "id": "7b911fa3",
   "metadata": {},
   "source": [
    "If we swap the second and fourth rows of $\\mathbf{A}$, the result is still nonsingular. However, the factorization now fails."
   ]
  },
  {
   "cell_type": "code",
   "execution_count": 3,
   "id": "d98576d9",
   "metadata": {
    "execution": {
     "iopub.execute_input": "2025-01-05T09:33:27.262000Z",
     "iopub.status.busy": "2025-01-05T09:33:27.262000Z",
     "iopub.status.idle": "2025-01-05T09:33:27.315000Z",
     "shell.execute_reply": "2025-01-05T09:33:27.315000Z"
    }
   },
   "outputs": [
    {
     "data": {
      "text/plain": [
       "4×4 LowerTriangular{Float64, Matrix{Float64}}:\n",
       "  1.0     ⋅      ⋅    ⋅ \n",
       " -1.0  NaN       ⋅    ⋅ \n",
       "  0.5   Inf   NaN     ⋅ \n",
       " -2.0   Inf   NaN    1.0"
      ]
     },
     "execution_count": 3,
     "metadata": {},
     "output_type": "execute_result"
    }
   ],
   "source": [
    "A[[2, 4], :] = A[[4, 2], :]  \n",
    "L, U = FNC.lufact(A)\n",
    "L"
   ]
  },
  {
   "cell_type": "markdown",
   "id": "64cdc4c3",
   "metadata": {},
   "source": [
    "```{index} Julia; NaN\n",
    "```\n",
    "\n",
    "The presence of `NaN` in the result indicates that some impossible operation was required. The source of the problem is easy to locate. We can find the first outer product in the factorization just fine:"
   ]
  },
  {
   "cell_type": "code",
   "execution_count": 4,
   "id": "dd56ec1b",
   "metadata": {
    "execution": {
     "iopub.execute_input": "2025-01-05T09:33:27.317000Z",
     "iopub.status.busy": "2025-01-05T09:33:27.317000Z",
     "iopub.status.idle": "2025-01-05T09:33:27.518000Z",
     "shell.execute_reply": "2025-01-05T09:33:27.518000Z"
    }
   },
   "outputs": [
    {
     "data": {
      "text/plain": [
       "4×4 Matrix{Float64}:\n",
       " 0.0   0.0  0.0    0.0\n",
       " 0.0   0.0  6.0  -10.0\n",
       " 0.0  15.0  0.0   -6.0\n",
       " 0.0   5.0  1.0   -4.0"
      ]
     },
     "execution_count": 4,
     "metadata": {},
     "output_type": "execute_result"
    }
   ],
   "source": [
    "U[1, :] = A[1, :]\n",
    "L[:, 1] = A[:, 1] / U[1, 1]\n",
    "A -= L[:, 1] * U[1, :]'"
   ]
  },
  {
   "cell_type": "markdown",
   "id": "dc6b8b55",
   "metadata": {},
   "source": [
    "The next step is `U[2, :] = A[2, :]`, which is also OK. But then we are supposed to divide by `U[2, 2]`, which is zero. The algorithm cannot continue."
   ]
  }
 ],
 "metadata": {
  "kernelspec": {
   "display_name": "Julia 1",
   "language": "julia",
   "name": "julia-1.11"
  },
  "language_info": {
   "file_extension": ".jl",
   "mimetype": "application/julia",
   "name": "julia",
   "version": "1.11.2"
  },
  "numbering": {
   "headings": false
  }
 },
 "nbformat": 4,
 "nbformat_minor": 5
}
