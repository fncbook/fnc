{
 "cells": [
  {
   "cell_type": "code",
   "execution_count": 1,
   "id": "bc5a1fb4",
   "metadata": {
    "execution": {
     "iopub.execute_input": "2025-01-14T15:24:36.432000Z",
     "iopub.status.busy": "2025-01-14T15:24:33.688000Z",
     "iopub.status.idle": "2025-01-14T15:25:40.378000Z",
     "shell.execute_reply": "2025-01-14T15:25:39.560000Z"
    }
   },
   "outputs": [
    {
     "name": "stderr",
     "output_type": "stream",
     "text": [
      "\u001b[32m\u001b[1m  Activating\u001b[22m\u001b[39m "
     ]
    },
    {
     "name": "stderr",
     "output_type": "stream",
     "text": [
      "project at `~/Documents/GitHub/fnc`\n"
     ]
    }
   ],
   "source": [
    "include(\"../../../julia/FNC_init.jl\")"
   ]
  },
  {
   "cell_type": "markdown",
   "id": "fcf86cbc",
   "metadata": {},
   "source": [
    "[**Demo %s**](#demo-pivoting-permute)\n",
    "\n",
    "Here again is the matrix from {numref}`Demo {number} <demo-pivoting-fix>`."
   ]
  },
  {
   "cell_type": "code",
   "execution_count": 2,
   "id": "197c321d",
   "metadata": {
    "execution": {
     "iopub.execute_input": "2025-01-14T15:25:42.325000Z",
     "iopub.status.busy": "2025-01-14T15:25:40.428000Z",
     "iopub.status.idle": "2025-01-14T15:26:07.033000Z",
     "shell.execute_reply": "2025-01-14T15:26:07.033000Z"
    }
   },
   "outputs": [
    {
     "data": {
      "text/plain": [
       "4×4 Matrix{Float64}:\n",
       "  2.0   0.0   4.0    3.0\n",
       " -2.0   0.0   2.0  -13.0\n",
       "  1.0  15.0   2.0   -4.5\n",
       " -4.0   5.0  -7.0  -10.0"
      ]
     },
     "execution_count": 2,
     "metadata": {},
     "output_type": "execute_result"
    }
   ],
   "source": [
    "A = [2 0 4 3 ; -2 0 2 -13; 1 15 2 -4.5 ; -4 5 -7 -10]"
   ]
  },
  {
   "cell_type": "markdown",
   "id": "4068f861",
   "metadata": {},
   "source": [
    "As the factorization proceeded, the pivots were selected from rows 4, 3, 2, and finally 1. If we were to put the rows of $\\mathbf{A}$ into that order, then the algorithm would run exactly like the plain LU factorization from {numref}`section-linsys-lu`."
   ]
  },
  {
   "cell_type": "code",
   "execution_count": 3,
   "id": "de798c1f",
   "metadata": {
    "execution": {
     "iopub.execute_input": "2025-01-14T15:26:07.045000Z",
     "iopub.status.busy": "2025-01-14T15:26:07.044000Z",
     "iopub.status.idle": "2025-01-14T15:26:08.059000Z",
     "shell.execute_reply": "2025-01-14T15:26:08.029000Z"
    }
   },
   "outputs": [],
   "source": [
    "B = A[[4, 3, 2, 1], :]\n",
    "L, U = FNC.lufact(B);"
   ]
  },
  {
   "cell_type": "markdown",
   "id": "ae43229c",
   "metadata": {},
   "source": [
    "We obtain the same $\\mathbf{U}$ as before:"
   ]
  },
  {
   "cell_type": "code",
   "execution_count": 4,
   "id": "3fc14427",
   "metadata": {
    "execution": {
     "iopub.execute_input": "2025-01-14T15:26:08.063000Z",
     "iopub.status.busy": "2025-01-14T15:26:08.062000Z",
     "iopub.status.idle": "2025-01-14T15:26:10.662000Z",
     "shell.execute_reply": "2025-01-14T15:26:10.660000Z"
    }
   },
   "outputs": [
    {
     "data": {
      "text/plain": [
       "4×4 UpperTriangular{Float64, Matrix{Float64}}:\n",
       " -4.0   5.0   -7.0      -10.0\n",
       "   ⋅   16.25   0.25      -7.0\n",
       "   ⋅     ⋅     5.53846   -9.07692\n",
       "   ⋅     ⋅      ⋅        -0.166667"
      ]
     },
     "execution_count": 4,
     "metadata": {},
     "output_type": "execute_result"
    }
   ],
   "source": [
    "U"
   ]
  },
  {
   "cell_type": "markdown",
   "id": "bcc6c8cf",
   "metadata": {},
   "source": [
    "And $\\mathbf{L}$ has the same rows as before, but arranged into triangular order:"
   ]
  },
  {
   "cell_type": "code",
   "execution_count": 5,
   "id": "94cd2c85",
   "metadata": {
    "execution": {
     "iopub.execute_input": "2025-01-14T15:26:10.670000Z",
     "iopub.status.busy": "2025-01-14T15:26:10.669000Z",
     "iopub.status.idle": "2025-01-14T15:26:12.769000Z",
     "shell.execute_reply": "2025-01-14T15:26:12.768000Z"
    }
   },
   "outputs": [
    {
     "data": {
      "text/plain": [
       "4×4 LowerTriangular{Float64, Matrix{Float64}}:\n",
       "  1.0     ⋅         ⋅          ⋅ \n",
       " -0.25   1.0        ⋅          ⋅ \n",
       "  0.5   -0.153846  1.0         ⋅ \n",
       " -0.5    0.153846  0.0833333  1.0"
      ]
     },
     "execution_count": 5,
     "metadata": {},
     "output_type": "execute_result"
    }
   ],
   "source": [
    "L"
   ]
  }
 ],
 "metadata": {
  "kernelspec": {
   "display_name": "Julia 1",
   "language": "julia",
   "name": "julia-1.11"
  },
  "language_info": {
   "file_extension": ".jl",
   "mimetype": "application/julia",
   "name": "julia",
   "version": "1.11.2"
  },
  "numbering": {
   "headings": false
  }
 },
 "nbformat": 4,
 "nbformat_minor": 5
}
