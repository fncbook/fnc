{
 "cells": [
  {
   "cell_type": "code",
   "execution_count": 1,
   "id": "62892b13",
   "metadata": {
    "execution": {
     "iopub.execute_input": "2025-01-05T09:33:35.371000Z",
     "iopub.status.busy": "2025-01-05T09:33:34.405000Z",
     "iopub.status.idle": "2025-01-05T09:33:41.736000Z",
     "shell.execute_reply": "2025-01-05T09:33:41.689000Z"
    }
   },
   "outputs": [
    {
     "name": "stderr",
     "output_type": "stream",
     "text": [
      "\u001b[32m\u001b[1m  Activating\u001b[22m\u001b[39m "
     ]
    },
    {
     "name": "stderr",
     "output_type": "stream",
     "text": [
      "project at `~/Documents/GitHub/fnc`\n"
     ]
    }
   ],
   "source": [
    "include(\"../../../julia/FNC_init.jl\")"
   ]
  },
  {
   "cell_type": "markdown",
   "id": "47d36bd2",
   "metadata": {},
   "source": [
    "[**Demo %s**](#demo-pivoting-fix)\n",
    "\n",
    "Here is the trouble-making matrix from {numref}`Demo {number} <demo-pivoting-fail>`."
   ]
  },
  {
   "cell_type": "code",
   "execution_count": 2,
   "id": "cbfc6561",
   "metadata": {
    "execution": {
     "iopub.execute_input": "2025-01-05T09:33:41.871000Z",
     "iopub.status.busy": "2025-01-05T09:33:41.738000Z",
     "iopub.status.idle": "2025-01-05T09:33:43.144000Z",
     "shell.execute_reply": "2025-01-05T09:33:43.144000Z"
    }
   },
   "outputs": [
    {
     "data": {
      "text/plain": [
       "4×4 Matrix{Float64}:\n",
       "  2.0   0.0   4.0    3.0\n",
       " -2.0   0.0   2.0  -13.0\n",
       "  1.0  15.0   2.0   -4.5\n",
       " -4.0   5.0  -7.0  -10.0"
      ]
     },
     "execution_count": 2,
     "metadata": {},
     "output_type": "execute_result"
    }
   ],
   "source": [
    "A₁ = [2 0 4 3 ; -2 0 2 -13; 1 15 2 -4.5 ; -4 5 -7 -10]"
   ]
  },
  {
   "cell_type": "markdown",
   "id": "ef7ed1ad",
   "metadata": {},
   "source": [
    "We now find the largest candidate pivot in the first column. We don't care about sign, so we take absolute values before finding the max.\n",
    "```{tip}\n",
    ":class: dropdown\n",
    "The `argmax` function returns the location of the largest element of a vector or matrix.\n",
    "```"
   ]
  },
  {
   "cell_type": "code",
   "execution_count": 3,
   "id": "15f05b47",
   "metadata": {
    "execution": {
     "iopub.execute_input": "2025-01-05T09:33:43.146000Z",
     "iopub.status.busy": "2025-01-05T09:33:43.146000Z",
     "iopub.status.idle": "2025-01-05T09:33:43.234000Z",
     "shell.execute_reply": "2025-01-05T09:33:43.234000Z"
    }
   },
   "outputs": [
    {
     "data": {
      "text/plain": [
       "4"
      ]
     },
     "execution_count": 3,
     "metadata": {},
     "output_type": "execute_result"
    }
   ],
   "source": [
    "i = argmax( abs.(A₁[:, 1]) ) "
   ]
  },
  {
   "cell_type": "markdown",
   "id": "613cdfb8",
   "metadata": {},
   "source": [
    "This is the row of the matrix that we extract to put into $\\mathbf{U}$. That guarantees that the division used to find $\\boldsymbol{\\ell}_1$ will be valid."
   ]
  },
  {
   "cell_type": "code",
   "execution_count": 4,
   "id": "7d7ea9c3",
   "metadata": {
    "execution": {
     "iopub.execute_input": "2025-01-05T09:33:43.236000Z",
     "iopub.status.busy": "2025-01-05T09:33:43.236000Z",
     "iopub.status.idle": "2025-01-05T09:33:43.248000Z",
     "shell.execute_reply": "2025-01-05T09:33:43.248000Z"
    }
   },
   "outputs": [
    {
     "data": {
      "text/plain": [
       "4×4 Matrix{Float64}:\n",
       " 0.0   2.5   0.5   -2.0\n",
       " 0.0  -2.5   5.5   -8.0\n",
       " 0.0  16.25  0.25  -7.0\n",
       " 0.0   0.0   0.0    0.0"
      ]
     },
     "execution_count": 4,
     "metadata": {},
     "output_type": "execute_result"
    }
   ],
   "source": [
    "L, U = zeros(4,4),zeros(4,4)\n",
    "U[1, :] = A₁[i, :]\n",
    "L[:, 1] = A₁[:, 1] / U[1, 1]\n",
    "A₂ = A₁ - L[:, 1] * U[1, :]'"
   ]
  },
  {
   "cell_type": "markdown",
   "id": "054ae8f3",
   "metadata": {},
   "source": [
    "Observe that $\\mathbf{A}_2$ has a new zero row and zero column, but the zero row is the fourth rather than the first. However, we forge on by using the largest possible pivot in column 2 for the next outer product."
   ]
  },
  {
   "cell_type": "code",
   "execution_count": 5,
   "id": "97fe07d2",
   "metadata": {
    "execution": {
     "iopub.execute_input": "2025-01-05T09:33:43.249000Z",
     "iopub.status.busy": "2025-01-05T09:33:43.249000Z",
     "iopub.status.idle": "2025-01-05T09:33:43.742000Z",
     "shell.execute_reply": "2025-01-05T09:33:43.742000Z"
    }
   },
   "outputs": [
    {
     "name": "stdout",
     "output_type": "stream",
     "text": [
      "i = argmax(abs.(A₂[:, 2])) = 3"
     ]
    },
    {
     "name": "stdout",
     "output_type": "stream",
     "text": [
      "\n"
     ]
    },
    {
     "data": {
      "text/plain": [
       "4×4 Matrix{Float64}:\n",
       " 0.0  0.0  0.461538  -0.923077\n",
       " 0.0  0.0  5.53846   -9.07692\n",
       " 0.0  0.0  0.0        0.0\n",
       " 0.0  0.0  0.0        0.0"
      ]
     },
     "execution_count": 5,
     "metadata": {},
     "output_type": "execute_result"
    }
   ],
   "source": [
    "@show i = argmax( abs.(A₂[:, 2]) ) \n",
    "U[2, :] = A₂[i, :]\n",
    "L[:, 2] = A₂[:, 2] / U[2, 2]\n",
    "A₃ = A₂ - L[:, 2] * U[2, :]'"
   ]
  },
  {
   "cell_type": "markdown",
   "id": "6318a693",
   "metadata": {},
   "source": [
    "Now we have zeroed out the third row as well as the second column. We can finish out the procedure."
   ]
  },
  {
   "cell_type": "code",
   "execution_count": 6,
   "id": "500832f2",
   "metadata": {
    "execution": {
     "iopub.execute_input": "2025-01-05T09:33:43.744000Z",
     "iopub.status.busy": "2025-01-05T09:33:43.744000Z",
     "iopub.status.idle": "2025-01-05T09:33:43.746000Z",
     "shell.execute_reply": "2025-01-05T09:33:43.745000Z"
    }
   },
   "outputs": [
    {
     "name": "stdout",
     "output_type": "stream",
     "text": [
      "i = argmax(abs.(A₃[:, 3])) = 2\n"
     ]
    },
    {
     "data": {
      "text/plain": [
       "4×4 Matrix{Float64}:\n",
       " 0.0  0.0  0.0  -0.166667\n",
       " 0.0  0.0  0.0   0.0\n",
       " 0.0  0.0  0.0   0.0\n",
       " 0.0  0.0  0.0   0.0"
      ]
     },
     "execution_count": 6,
     "metadata": {},
     "output_type": "execute_result"
    }
   ],
   "source": [
    "@show i = argmax( abs.(A₃[:, 3]) ) \n",
    "U[3, :] = A₃[i, :]\n",
    "L[:, 3] = A₃[:, 3] / U[3, 3]\n",
    "A₄ = A₃ - L[:, 3] * U[3, :]'"
   ]
  },
  {
   "cell_type": "code",
   "execution_count": 7,
   "id": "ca35c99a",
   "metadata": {
    "execution": {
     "iopub.execute_input": "2025-01-05T09:33:43.747000Z",
     "iopub.status.busy": "2025-01-05T09:33:43.747000Z",
     "iopub.status.idle": "2025-01-05T09:33:43.754000Z",
     "shell.execute_reply": "2025-01-05T09:33:43.754000Z"
    }
   },
   "outputs": [
    {
     "name": "stdout",
     "output_type": "stream",
     "text": [
      "i = argmax(abs.(A₄[:, 4])) = 1\n"
     ]
    }
   ],
   "source": [
    "@show i = argmax( abs.(A₄[:, 4]) ) \n",
    "U[4, :] = A₄[i, :]\n",
    "L[:, 4] = A₄[:, 4] / U[4, 4];"
   ]
  },
  {
   "cell_type": "markdown",
   "id": "2f1e6a57",
   "metadata": {},
   "source": [
    "We do have a factorization of the original matrix:"
   ]
  },
  {
   "cell_type": "code",
   "execution_count": 8,
   "id": "267e0980",
   "metadata": {
    "execution": {
     "iopub.execute_input": "2025-01-05T09:33:43.755000Z",
     "iopub.status.busy": "2025-01-05T09:33:43.755000Z",
     "iopub.status.idle": "2025-01-05T09:33:43.761000Z",
     "shell.execute_reply": "2025-01-05T09:33:43.761000Z"
    }
   },
   "outputs": [
    {
     "data": {
      "text/plain": [
       "4×4 Matrix{Float64}:\n",
       " 0.0  -1.38778e-16  0.0  0.0\n",
       " 0.0   1.38778e-16  0.0  0.0\n",
       " 0.0   0.0          0.0  0.0\n",
       " 0.0   0.0          0.0  0.0"
      ]
     },
     "execution_count": 8,
     "metadata": {},
     "output_type": "execute_result"
    }
   ],
   "source": [
    "A₁ - L * U"
   ]
  },
  {
   "cell_type": "markdown",
   "id": "0eae8eca",
   "metadata": {},
   "source": [
    "And $\\mathbf{U}$ has the required structure:"
   ]
  },
  {
   "cell_type": "code",
   "execution_count": 9,
   "id": "e5e1702d",
   "metadata": {
    "execution": {
     "iopub.execute_input": "2025-01-05T09:33:43.762000Z",
     "iopub.status.busy": "2025-01-05T09:33:43.762000Z",
     "iopub.status.idle": "2025-01-05T09:33:43.763000Z",
     "shell.execute_reply": "2025-01-05T09:33:43.763000Z"
    }
   },
   "outputs": [
    {
     "data": {
      "text/plain": [
       "4×4 Matrix{Float64}:\n",
       " -4.0   5.0   -7.0      -10.0\n",
       "  0.0  16.25   0.25      -7.0\n",
       "  0.0   0.0    5.53846   -9.07692\n",
       "  0.0   0.0    0.0       -0.166667"
      ]
     },
     "execution_count": 9,
     "metadata": {},
     "output_type": "execute_result"
    }
   ],
   "source": [
    "U"
   ]
  },
  {
   "cell_type": "markdown",
   "id": "cc93b1d0",
   "metadata": {},
   "source": [
    "However, the triangularity of $\\mathbf{L}$ has been broken."
   ]
  },
  {
   "cell_type": "code",
   "execution_count": 10,
   "id": "ae60dc6c",
   "metadata": {
    "execution": {
     "iopub.execute_input": "2025-01-05T09:33:43.764000Z",
     "iopub.status.busy": "2025-01-05T09:33:43.764000Z",
     "iopub.status.idle": "2025-01-05T09:33:43.765000Z",
     "shell.execute_reply": "2025-01-05T09:33:43.765000Z"
    }
   },
   "outputs": [
    {
     "data": {
      "text/plain": [
       "4×4 Matrix{Float64}:\n",
       " -0.5    0.153846  0.0833333   1.0\n",
       "  0.5   -0.153846  1.0        -0.0\n",
       " -0.25   1.0       0.0        -0.0\n",
       "  1.0    0.0       0.0        -0.0"
      ]
     },
     "execution_count": 10,
     "metadata": {},
     "output_type": "execute_result"
    }
   ],
   "source": [
    "L"
   ]
  }
 ],
 "metadata": {
  "kernelspec": {
   "display_name": "Julia 1",
   "language": "julia",
   "name": "julia-1.11"
  },
  "language_info": {
   "file_extension": ".jl",
   "mimetype": "application/julia",
   "name": "julia",
   "version": "1.11.2"
  },
  "numbering": {
   "headings": false
  }
 },
 "nbformat": 4,
 "nbformat_minor": 5
}
