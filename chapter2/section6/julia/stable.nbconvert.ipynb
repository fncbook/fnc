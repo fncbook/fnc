{
 "cells": [
  {
   "cell_type": "code",
   "execution_count": 1,
   "id": "1deba983",
   "metadata": {
    "execution": {
     "iopub.execute_input": "2025-01-14T15:29:44.650000Z",
     "iopub.status.busy": "2025-01-14T15:29:39.191000Z",
     "iopub.status.idle": "2025-01-14T15:31:08.879000Z",
     "shell.execute_reply": "2025-01-14T15:31:08.071000Z"
    }
   },
   "outputs": [
    {
     "name": "stderr",
     "output_type": "stream",
     "text": [
      "\u001b[32m\u001b[1m  Activating\u001b[22m\u001b[39m "
     ]
    },
    {
     "name": "stderr",
     "output_type": "stream",
     "text": [
      "project at `~/Documents/GitHub/fnc`\n"
     ]
    }
   ],
   "source": [
    "include(\"../../../julia/FNC_init.jl\")"
   ]
  },
  {
   "cell_type": "markdown",
   "id": "08c2cd04",
   "metadata": {},
   "source": [
    "[**Demo %s**](#demo-pivoting-stable)\n",
    "\n",
    "We construct a linear system for this matrix with $\\epsilon=10^{-12}$ and exact solution $[1,1]$:"
   ]
  },
  {
   "cell_type": "code",
   "execution_count": 2,
   "id": "9d452bb8",
   "metadata": {
    "execution": {
     "iopub.execute_input": "2025-01-14T15:31:11.030000Z",
     "iopub.status.busy": "2025-01-14T15:31:08.885000Z",
     "iopub.status.idle": "2025-01-14T15:31:35.619000Z",
     "shell.execute_reply": "2025-01-14T15:31:35.614000Z"
    }
   },
   "outputs": [
    {
     "data": {
      "text/plain": [
       "2-element Vector{Float64}:\n",
       " 0.999999999999\n",
       " 0.0"
      ]
     },
     "execution_count": 2,
     "metadata": {},
     "output_type": "execute_result"
    }
   ],
   "source": [
    "ϵ = 1e-12\n",
    "A = [-ϵ 1; 1 -1]\n",
    "b = A * [1, 1]"
   ]
  },
  {
   "cell_type": "markdown",
   "id": "1f3f1e5a",
   "metadata": {},
   "source": [
    "We can factor the matrix without pivoting and solve for $\\mathbf{x}$."
   ]
  },
  {
   "cell_type": "code",
   "execution_count": 3,
   "id": "08f6d319",
   "metadata": {
    "execution": {
     "iopub.execute_input": "2025-01-14T15:31:35.649000Z",
     "iopub.status.busy": "2025-01-14T15:31:35.648000Z",
     "iopub.status.idle": "2025-01-14T15:31:37.931000Z",
     "shell.execute_reply": "2025-01-14T15:31:37.931000Z"
    }
   },
   "outputs": [
    {
     "data": {
      "text/plain": [
       "2-element Vector{Float64}:\n",
       " 0.9999778782798785\n",
       " 1.0"
      ]
     },
     "execution_count": 3,
     "metadata": {},
     "output_type": "execute_result"
    }
   ],
   "source": [
    "L, U = FNC.lufact(A)\n",
    "x = FNC.backsub( U, FNC.forwardsub(L, b) )"
   ]
  },
  {
   "cell_type": "markdown",
   "id": "cfd4ea84",
   "metadata": {},
   "source": [
    "Note that we have obtained only about 5 accurate digits for $x_1$. We could make the result even more inaccurate by making $\\epsilon$ even smaller:"
   ]
  },
  {
   "cell_type": "code",
   "execution_count": 4,
   "id": "6b978706",
   "metadata": {
    "execution": {
     "iopub.execute_input": "2025-01-14T15:31:37.944000Z",
     "iopub.status.busy": "2025-01-14T15:31:37.943000Z",
     "iopub.status.idle": "2025-01-14T15:31:37.955000Z",
     "shell.execute_reply": "2025-01-14T15:31:37.953000Z"
    }
   },
   "outputs": [
    {
     "data": {
      "text/plain": [
       "2-element Vector{Float64}:\n",
       " -0.0\n",
       "  1.0"
      ]
     },
     "execution_count": 4,
     "metadata": {},
     "output_type": "execute_result"
    }
   ],
   "source": [
    "ϵ = 1e-20; A = [-ϵ 1; 1 -1]\n",
    "b = A * [1, 1]\n",
    "L, U = FNC.lufact(A)\n",
    "x = FNC.backsub( U, FNC.forwardsub(L, b) )"
   ]
  },
  {
   "cell_type": "markdown",
   "id": "0de66889",
   "metadata": {},
   "source": [
    "This effect is not due to ill conditioning of the problem—a solution with PLU factorization works perfectly:"
   ]
  },
  {
   "cell_type": "code",
   "execution_count": 5,
   "id": "55866d92",
   "metadata": {
    "execution": {
     "iopub.execute_input": "2025-01-14T15:31:37.958000Z",
     "iopub.status.busy": "2025-01-14T15:31:37.957000Z",
     "iopub.status.idle": "2025-01-14T15:31:37.968000Z",
     "shell.execute_reply": "2025-01-14T15:31:37.967000Z"
    }
   },
   "outputs": [
    {
     "data": {
      "text/plain": [
       "2-element Vector{Float64}:\n",
       " 1.0\n",
       " 1.0"
      ]
     },
     "execution_count": 5,
     "metadata": {},
     "output_type": "execute_result"
    }
   ],
   "source": [
    "A \\ b"
   ]
  }
 ],
 "metadata": {
  "kernelspec": {
   "display_name": "Julia 1",
   "language": "julia",
   "name": "julia-1.11"
  },
  "language_info": {
   "file_extension": ".jl",
   "mimetype": "application/julia",
   "name": "julia",
   "version": "1.11.2"
  },
  "numbering": {
   "headings": false
  }
 },
 "nbformat": 4,
 "nbformat_minor": 5
}
