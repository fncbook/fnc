{
 "cells": [
  {
   "cell_type": "code",
   "execution_count": 1,
   "id": "5c4b4325",
   "metadata": {
    "tags": [
     "remove-cell"
    ]
   },
   "outputs": [],
   "source": [
    "cd  /Users/driscoll/Documents/GitHub/fnc/matlab\n",
    "FNC_init"
   ]
  },
  {
   "cell_type": "markdown",
   "id": "ced751e3",
   "metadata": {},
   "source": [
    "[**Demo %s**](#demo-norms-vector)\n",
    "\n",
    "```{index} ! MATLAB; norm\n",
    "```"
   ]
  },
  {
   "cell_type": "code",
   "execution_count": 2,
   "id": "8a44ea91",
   "metadata": {},
   "outputs": [
    {
     "data": {
      "text/html": [
       "<html><body><pre>twonorm = 3.8730</pre></body></html>"
      ],
      "text/plain": [
       "twonorm = 3.8730"
      ]
     },
     "execution_count": 2,
     "metadata": {},
     "output_type": "execute_result"
    }
   ],
   "source": [
    "x = [2; -3; 1; -1];\n",
    "twonorm = norm(x)    % or norm(x, 2)"
   ]
  },
  {
   "cell_type": "code",
   "execution_count": 3,
   "id": "e7a73c25",
   "metadata": {},
   "outputs": [
    {
     "data": {
      "text/html": [
       "<html><body><pre>infnorm = 3</pre></body></html>"
      ],
      "text/plain": [
       "infnorm = 3"
      ]
     },
     "execution_count": 3,
     "metadata": {},
     "output_type": "execute_result"
    }
   ],
   "source": [
    "infnorm = norm(x, Inf)"
   ]
  },
  {
   "cell_type": "code",
   "execution_count": 4,
   "id": "3080bd48",
   "metadata": {},
   "outputs": [
    {
     "data": {
      "text/html": [
       "<html><body><pre>onenorm = 7</pre></body></html>"
      ],
      "text/plain": [
       "onenorm = 7"
      ]
     },
     "execution_count": 4,
     "metadata": {},
     "output_type": "execute_result"
    }
   ],
   "source": [
    "onenorm = norm(x, 1)"
   ]
  }
 ],
 "metadata": {
  "kernelspec": {
   "display_name": "MATLAB Kernel",
   "language": "matlab",
   "name": "jupyter_matlab_kernel"
  },
  "language_info": {
   "file_extension": ".m",
   "mimetype": "text/x-matlab",
   "name": "matlab"
  },
  "numbering": {
   "headings": false
  }
 },
 "nbformat": 4,
 "nbformat_minor": 5
}
