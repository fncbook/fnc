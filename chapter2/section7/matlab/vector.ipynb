{
    "cells": [
        {
            "cell_type": "markdown",
            "source": [
                "[**Demo %s**](#demo-norms-vector)\n",
                "\n",
                "```{index} ! MATLAB; norm\n",
                "```"
            ],
            "id": "ced751e3",
            "metadata": {}
        },
        {
            "outputs": [
                {
                    "output_type": "execute_result",
                    "data": {
                        "text/plain": [
                            "twonorm = 3.8730"
                        ],
                        "text/html": [
                            "<html><body><pre>twonorm = 3.8730</pre></body></html>"
                        ]
                    },
                    "metadata": {},
                    "execution_count": 2
                }
            ],
            "cell_type": "code",
            "source": [
                "x = [2; -3; 1; -1];\n",
                "twonorm = norm(x)    % or norm(x, 2)"
            ],
            "id": "8a44ea91",
            "metadata": {},
            "execution_count": 2
        },
        {
            "outputs": [
                {
                    "output_type": "execute_result",
                    "data": {
                        "text/plain": [
                            "infnorm = 3"
                        ],
                        "text/html": [
                            "<html><body><pre>infnorm = 3</pre></body></html>"
                        ]
                    },
                    "metadata": {},
                    "execution_count": 3
                }
            ],
            "cell_type": "code",
            "source": [
                "infnorm = norm(x, Inf)"
            ],
            "id": "e7a73c25",
            "metadata": {},
            "execution_count": 3
        },
        {
            "outputs": [
                {
                    "output_type": "execute_result",
                    "data": {
                        "text/plain": [
                            "onenorm = 7"
                        ],
                        "text/html": [
                            "<html><body><pre>onenorm = 7</pre></body></html>"
                        ]
                    },
                    "metadata": {},
                    "execution_count": 4
                }
            ],
            "cell_type": "code",
            "source": [
                "onenorm = norm(x, 1)"
            ],
            "id": "3080bd48",
            "metadata": {},
            "execution_count": 4
        }
    ],
    "nbformat_minor": 5,
    "metadata": {
        "language_info": {
            "file_extension": ".m",
            "mimetype": "text/x-matlab",
            "name": "matlab"
        },
        "kernelspec": {
            "name": "jupyter_matlab_kernel",
            "display_name": "MATLAB Kernel",
            "language": "matlab"
        },
        "numbering": {
            "headings": false
        }
    },
    "nbformat": 4
}
