{
 "cells": [
  {
   "cell_type": "code",
   "execution_count": 16,
   "id": "e796a7dc",
   "metadata": {
    "tags": [
     "remove-cell"
    ]
   },
   "outputs": [],
   "source": [
    "cd  /Users/driscoll/Documents/GitHub/fnc/matlab\n",
    "FNC_init"
   ]
  },
  {
   "cell_type": "markdown",
   "id": "725167fe",
   "metadata": {},
   "source": [
    "[**Demo %s**](#demo-flops-mvmult)\n",
    "\n",
    "Here is a straightforward implementation of matrix-vector multiplication."
   ]
  },
  {
   "cell_type": "code",
   "execution_count": 17,
   "id": "d7a18d27",
   "metadata": {},
   "outputs": [],
   "source": [
    "n = 6;\n",
    "A = magic(n);\n",
    "x = ones(n,1);\n",
    "y = zeros(n,1);\n",
    "for i = 1:n\n",
    "    for j = 1:n\n",
    "        y(i) = y(i) + A(i,j)*x(j);   % 2 flops\n",
    "    end\n",
    "end"
   ]
  },
  {
   "cell_type": "markdown",
   "id": "1e0598d5",
   "metadata": {},
   "source": [
    "Each of the loops implies a summation of flops. The total flop count for this algorithm is\n",
    "\n",
    "$$ \\sum_{i=1}^n \\sum_{j=1}^n 2 = \\sum_{i=1}^n 2n = 2n^2. $$\n",
    "\n",
    "Since the matrix $\\mathbf{A}$ has $n^2$ elements, all of which have to be involved in the product, it seems unlikely that we could get a flop count that is smaller than $O(n^2)$ in general.\n",
    "\n",
    "```{index} ! MATLAB; tic and toc\n",
    "```\n",
    "\n",
    "Let's run an experiment with the built-in matrix-vector multiplication, using `tic` and `toc` to time the operation."
   ]
  },
  {
   "cell_type": "code",
   "execution_count": 18,
   "id": "4726fc28",
   "metadata": {},
   "outputs": [],
   "source": [
    "n = (500:500:5000)';\n",
    "t = zeros(size(n));\n",
    "for k = 1:length(n)\n",
    "    A = randn(n(k), n(k));  x = randn(n(k), 1);\n",
    "    tic    % start a timer\n",
    "    for j = 1:200      % repeat 100 times\n",
    "        A*x;\n",
    "    end\n",
    "    time = toc;           % read the timer\n",
    "    t(k) = time / 200;   % seconds per instance\n",
    "end"
   ]
  },
  {
   "cell_type": "markdown",
   "id": "09a884fc",
   "metadata": {},
   "source": [
    "The reason for doing multiple repetitions at each value of $n$ in the loop above is to avoid having times so short that the resolution of the timer is significant."
   ]
  },
  {
   "cell_type": "code",
   "execution_count": 19,
   "id": "0e5b4eb7",
   "metadata": {},
   "outputs": [
    {
     "name": "stdout",
     "output_type": "stream",
     "text": [
      "    size       time   \n",
      "    ____    __________\n",
      "\n",
      "     500    0.00011696\n",
      "    1000    0.00037975\n",
      "    1500    0.00060796\n",
      "    2000      0.001607\n",
      "    2500     0.0023549\n",
      "    3000     0.0033345\n",
      "    3500     0.0041554\n",
      "    4000     0.0052615\n",
      "    4500     0.0059562\n",
      "    5000     0.0073607\n",
      "\n"
     ]
    }
   ],
   "source": [
    "disp(table(n, t, 'variablenames', {'size', 'time'}))"
   ]
  },
  {
   "cell_type": "markdown",
   "id": "9776e6dd",
   "metadata": {},
   "source": [
    "```{index} MATLAB; Boolean indexing\n",
    "```\n",
    "\n",
    "Looking at the timings just for $n=2000$ and $n=4000$, they have ratio\n",
    "```{tip}\n",
    ":class: dropdown\n",
    "The expression `n_==4000` here produces a vector of Boolean (true/false) values the same size as `n_`. This result is used to index within `t_`, accessing only the value for which the comparison is true.\n",
    "```"
   ]
  },
  {
   "cell_type": "code",
   "execution_count": 20,
   "id": "672a0009",
   "metadata": {},
   "outputs": [
    {
     "data": {
      "text/html": [
       "<html><body><pre>ans = 3.1257</pre></body></html>"
      ],
      "text/plain": [
       "ans = 3.1257"
      ]
     },
     "execution_count": 20,
     "metadata": {},
     "output_type": "execute_result"
    }
   ],
   "source": [
    "t(n==5000) / t(n==2500)"
   ]
  },
  {
   "cell_type": "markdown",
   "id": "971b48a6",
   "metadata": {},
   "source": [
    "If the run time is dominated by flops, then we expect this ratio to be \n",
    "\n",
    "$$\n",
    "\\frac{2(4000)^2}{2(2000)^2}=4.\n",
    "$$"
   ]
  }
 ],
 "metadata": {
  "kernelspec": {
   "display_name": "MATLAB Kernel",
   "language": "matlab",
   "name": "jupyter_matlab_kernel"
  },
  "language_info": {
   "file_extension": ".m",
   "mimetype": "text/x-matlab",
   "name": "matlab"
  },
  "numbering": {
   "headings": false
  }
 },
 "nbformat": 4,
 "nbformat_minor": 5
}
