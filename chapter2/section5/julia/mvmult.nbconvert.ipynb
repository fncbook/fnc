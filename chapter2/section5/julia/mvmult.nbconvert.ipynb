{
 "cells": [
  {
   "cell_type": "code",
   "execution_count": 1,
   "id": "319ea2f6",
   "metadata": {
    "execution": {
     "iopub.execute_input": "2025-01-14T15:18:44.233000Z",
     "iopub.status.busy": "2025-01-14T15:18:43.271000Z",
     "iopub.status.idle": "2025-01-14T15:19:10.044000Z",
     "shell.execute_reply": "2025-01-14T15:19:09.729000Z"
    }
   },
   "outputs": [
    {
     "name": "stderr",
     "output_type": "stream",
     "text": [
      "\u001b[32m\u001b[1m  Activating\u001b[22m\u001b[39m "
     ]
    },
    {
     "name": "stderr",
     "output_type": "stream",
     "text": [
      "project at `~/Documents/GitHub/fnc`\n"
     ]
    }
   ],
   "source": [
    "include(\"../../../julia/FNC_init.jl\")"
   ]
  },
  {
   "cell_type": "markdown",
   "id": "045960b0",
   "metadata": {},
   "source": [
    "[**Demo %s**](#demo-flops-mvmult)\n",
    "\n",
    "Here is a straightforward implementation of matrix-vector multiplication."
   ]
  },
  {
   "cell_type": "code",
   "execution_count": 2,
   "id": "1eb63abe",
   "metadata": {
    "execution": {
     "iopub.execute_input": "2025-01-14T15:19:10.652000Z",
     "iopub.status.busy": "2025-01-14T15:19:10.047000Z",
     "iopub.status.idle": "2025-01-14T15:19:10.929000Z",
     "shell.execute_reply": "2025-01-14T15:19:10.929000Z"
    }
   },
   "outputs": [],
   "source": [
    "n = 6\n",
    "A = randn(n, n)\n",
    "x = rand(n)\n",
    "y = zeros(n)\n",
    "for i in 1:n\n",
    "    for j in 1:n\n",
    "        y[i] += A[i, j] * x[j]    # 1 multiply, 1 add\n",
    "    end\n",
    "end"
   ]
  },
  {
   "cell_type": "markdown",
   "id": "7a568809",
   "metadata": {},
   "source": [
    "Each of the loops implies a summation of flops. The total flop count for this algorithm is\n",
    "\n",
    "$$ \\sum_{i=1}^n \\sum_{j=1}^n 2 = \\sum_{i=1}^n 2n = 2n^2. $$\n",
    "\n",
    "Since the matrix $\\mathbf{A}$ has $n^2$ elements, all of which have to be involved in the product, it seems unlikely that we could get a flop count that is smaller than $O(n^2)$ in general.\n",
    "\n",
    "```{index} ! Julia; push\\!, ! Julia; for\n",
    "```\n",
    "\n",
    "Let's run an experiment with the built-in matrix-vector multiplication. Note that Julia is unusual in that loops have a variable scope separate from its enclosing code. Thus, `for n in n` below means that inside the loop, the name `n` will take on each one of the values that were previously assigned to the vector `n`.\n",
    "```{tip}\n",
    ":class: dropdown\n",
    "The `push!` function attaches a new value to the end of a vector.\n",
    "```"
   ]
  },
  {
   "cell_type": "code",
   "execution_count": 3,
   "id": "76e9a4c5",
   "metadata": {
    "execution": {
     "iopub.execute_input": "2025-01-14T15:19:10.932000Z",
     "iopub.status.busy": "2025-01-14T15:19:10.932000Z",
     "iopub.status.idle": "2025-01-14T15:19:24.631000Z",
     "shell.execute_reply": "2025-01-14T15:19:24.624000Z"
    }
   },
   "outputs": [],
   "source": [
    "n = 1000:1000:5000\n",
    "t = []\n",
    "for n in n\n",
    "    A = randn(n, n)  \n",
    "    x = randn(n)\n",
    "    time = @elapsed for j in 1:80; A * x; end\n",
    "    push!(t, time)\n",
    "end"
   ]
  },
  {
   "cell_type": "markdown",
   "id": "642ac19d",
   "metadata": {},
   "source": [
    "The reason for doing multiple repetitions at each value of $n$ in the loop above is to avoid having times so short that the resolution of the timer is significant."
   ]
  },
  {
   "cell_type": "code",
   "execution_count": 4,
   "id": "198f69c5",
   "metadata": {
    "execution": {
     "iopub.execute_input": "2025-01-14T15:19:24.636000Z",
     "iopub.status.busy": "2025-01-14T15:19:24.635000Z",
     "iopub.status.idle": "2025-01-14T15:19:27.059000Z",
     "shell.execute_reply": "2025-01-14T15:19:27.059000Z"
    }
   },
   "outputs": [
    {
     "data": {
      "text/html": [
       "<table>\n",
       "  <thead>\n",
       "    <tr class = \"header headerLastRow\">\n",
       "      <th style = \"text-align: right;\">size</th>\n",
       "      <th style = \"text-align: right;\">time (sec.)</th>\n",
       "    </tr>\n",
       "  </thead>\n",
       "  <tbody>\n",
       "    <tr>\n",
       "      <td style = \"text-align: right;\">1000</td>\n",
       "      <td style = \"text-align: right;\">0.496166</td>\n",
       "    </tr>\n",
       "    <tr>\n",
       "      <td style = \"text-align: right;\">2000</td>\n",
       "      <td style = \"text-align: right;\">2.33557</td>\n",
       "    </tr>\n",
       "    <tr>\n",
       "      <td style = \"text-align: right;\">3000</td>\n",
       "      <td style = \"text-align: right;\">2.31546</td>\n",
       "    </tr>\n",
       "    <tr>\n",
       "      <td style = \"text-align: right;\">4000</td>\n",
       "      <td style = \"text-align: right;\">2.55854</td>\n",
       "    </tr>\n",
       "    <tr>\n",
       "      <td style = \"text-align: right;\">5000</td>\n",
       "      <td style = \"text-align: right;\">3.57734</td>\n",
       "    </tr>\n",
       "  </tbody>\n",
       "</table>\n"
      ]
     },
     "metadata": {},
     "output_type": "display_data"
    }
   ],
   "source": [
    "@pt :header = [\"size\", \"time (sec.)\"] [n t]"
   ]
  },
  {
   "cell_type": "markdown",
   "id": "6064f41a",
   "metadata": {},
   "source": [
    "```{index} Julia; Boolean indexing\n",
    "```\n",
    "\n",
    "Looking at the timings just for $n=2000$ and $n=4000$, they have ratio\n",
    "```{tip}\n",
    ":class: dropdown\n",
    "The expression `n.==4000` here produces a vector of Boolean (true/false) values the same size as `n`. This result is used to index within `t`, accessing only the value for which the comparison is true.\n",
    "```"
   ]
  },
  {
   "cell_type": "code",
   "execution_count": 5,
   "id": "4b7ef8c2",
   "metadata": {
    "execution": {
     "iopub.execute_input": "2025-01-14T15:19:27.062000Z",
     "iopub.status.busy": "2025-01-14T15:19:27.061000Z",
     "iopub.status.idle": "2025-01-14T15:19:30.601000Z",
     "shell.execute_reply": "2025-01-14T15:19:30.600000Z"
    }
   },
   "outputs": [
    {
     "name": "stdout",
     "output_type": "stream",
     "text": [
      "t[n .== 4000] ./ t[n .== 2000] = [1.0954646298804702]"
     ]
    },
    {
     "name": "stdout",
     "output_type": "stream",
     "text": [
      "\n"
     ]
    }
   ],
   "source": [
    "@show t[n.==4000] ./ t[n.==2000];"
   ]
  },
  {
   "cell_type": "markdown",
   "id": "c0cf7702",
   "metadata": {},
   "source": [
    "If the run time is dominated by flops, then we expect this ratio to be\n",
    "\n",
    "$$\n",
    "\\frac{2(4000)^2}{2(2000)^2}=4.\n",
    "$$"
   ]
  }
 ],
 "metadata": {
  "kernelspec": {
   "display_name": "Julia 1",
   "language": "julia",
   "name": "julia-1.11"
  },
  "language_info": {
   "file_extension": ".jl",
   "mimetype": "application/julia",
   "name": "julia",
   "version": "1.11.2"
  },
  "numbering": {
   "headings": false
  }
 },
 "nbformat": 4,
 "nbformat_minor": 5
}
