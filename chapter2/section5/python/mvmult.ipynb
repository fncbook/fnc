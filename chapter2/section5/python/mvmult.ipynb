{
 "cells": [
  {
   "cell_type": "code",
   "execution_count": 5,
   "id": "18459b53",
   "metadata": {
    "execution": {
     "iopub.execute_input": "2025-01-11T17:43:35.366743Z",
     "iopub.status.busy": "2025-01-11T17:43:35.366633Z",
     "iopub.status.idle": "2025-01-11T17:43:35.683077Z",
     "shell.execute_reply": "2025-01-11T17:43:35.682766Z"
    },
    "tags": [
     "remove-cell"
    ]
   },
   "outputs": [],
   "source": [
    "exec(open(\"../../../python/FNC_init.py\").read())"
   ]
  },
  {
   "cell_type": "markdown",
   "id": "add1bc57",
   "metadata": {},
   "source": [
    "[**Demo %s**](#demo-flops-mvmult)\n",
    "\n",
    "\n",
    "Here is a straightforward implementation of matrix-vector multiplication."
   ]
  },
  {
   "cell_type": "code",
   "execution_count": 6,
   "id": "4c872a6c",
   "metadata": {
    "execution": {
     "iopub.execute_input": "2025-01-11T17:43:35.684607Z",
     "iopub.status.busy": "2025-01-11T17:43:35.684479Z",
     "iopub.status.idle": "2025-01-11T17:43:35.686598Z",
     "shell.execute_reply": "2025-01-11T17:43:35.686365Z"
    }
   },
   "outputs": [],
   "source": [
    "n = 6\n",
    "A = random.rand(n, n)\n",
    "x = ones(n)\n",
    "y = zeros(n)\n",
    "for i in range(n):\n",
    "    for j in range(n):\n",
    "        y[i] += A[i, j] * x[j]   # 2 flops"
   ]
  },
  {
   "cell_type": "markdown",
   "id": "c6395be3",
   "metadata": {},
   "source": [
    "Each of the loops implies a summation of flops. The total flop count for this algorithm is\n",
    "\n",
    "$$\n",
    "\\sum_{i=1}^n \\sum_{j=1}^n 2 = \\sum_{i=1}^n 2n = 2n^2.\n",
    "$$\n",
    "\n",
    "Since the matrix $\\mathbf{A}$ has $n^2$ elements, all of which have to be involved in the product, it seems unlikely that we could get a flop count that is smaller than $O(n^2)$ in general.\n",
    "\n",
    "Let's run an experiment with the built-in matrix-vector multiplication. We assume that flops dominate the computation time and thus measure elapsed time."
   ]
  },
  {
   "cell_type": "code",
   "execution_count": 11,
   "id": "944cdf93",
   "metadata": {
    "execution": {
     "iopub.execute_input": "2025-01-11T17:43:35.687726Z",
     "iopub.status.busy": "2025-01-11T17:43:35.687649Z",
     "iopub.status.idle": "2025-01-11T17:43:37.099765Z",
     "shell.execute_reply": "2025-01-11T17:43:37.099468Z"
    }
   },
   "outputs": [
    {
     "name": "stdout",
     "output_type": "stream",
     "text": [
      "+------+---------------------+\n",
      "|  n   |       time (s)      |\n",
      "+------+---------------------+\n",
      "| 1200 | 0.08702104199983296 |\n",
      "| 1800 | 0.03114179099975445 |\n",
      "| 2400 | 0.06517870900006528 |\n",
      "| 3000 | 0.13051145800000086 |\n",
      "| 3600 | 0.20717416600018623 |\n",
      "| 4200 |  0.296035958000175  |\n",
      "| 4800 | 0.28200816699973075 |\n",
      "| 5400 |  0.3776759580005091 |\n",
      "| 6000 | 0.45094179199986684 |\n",
      "+------+---------------------+\n"
     ]
    }
   ],
   "source": [
    "n = 600 * arange(2, 11)\n",
    "t = zeros(len(n))\n",
    "results = PrettyTable([\"n\", \"time (s)\"])\n",
    "for k in range(len(n)):\n",
    "    A = random.randn(n[k], n[k])  \n",
    "    x = random.randn(n[k])\n",
    "    start = timer()\n",
    "    for j in range(80): A @ x\n",
    "    t[k] = timer() - start\n",
    "    results.add_row([n[k], t[k]])\n",
    "print(results)"
   ]
  },
  {
   "cell_type": "markdown",
   "id": "2ee1e829",
   "metadata": {},
   "source": [
    "The reason for doing multiple repetitions at each value of $n$ above is to avoid having times so short that the resolution of the timer is a factor.\n",
    "\n",
    "Looking at the timings just for $n=3000$ and $n=6000$, they have ratio:"
   ]
  },
  {
   "cell_type": "code",
   "execution_count": 12,
   "id": "f4b443df",
   "metadata": {
    "execution": {
     "iopub.execute_input": "2025-01-11T17:43:37.101051Z",
     "iopub.status.busy": "2025-01-11T17:43:37.100963Z",
     "iopub.status.idle": "2025-01-11T17:43:37.102891Z",
     "shell.execute_reply": "2025-01-11T17:43:37.102633Z"
    }
   },
   "outputs": [
    {
     "name": "stdout",
     "output_type": "stream",
     "text": [
      "[3.45518929]\n"
     ]
    }
   ],
   "source": [
    "print(t[n == 6000] / t[n == 3000])"
   ]
  },
  {
   "cell_type": "markdown",
   "id": "8581bcea",
   "metadata": {},
   "source": [
    "If the run time is dominated by flops, then we expect this ratio to be \n",
    "\n",
    "$$\n",
    "\\frac{2(6000)^2}{2(3000)^2}=4.\n",
    "$$"
   ]
  }
 ],
 "metadata": {
  "kernelspec": {
   "display_name": "myst",
   "language": "python",
   "name": "python3"
  },
  "language_info": {
   "codemirror_mode": {
    "name": "ipython",
    "version": 3
   },
   "file_extension": ".py",
   "mimetype": "text/x-python",
   "name": "python",
   "nbconvert_exporter": "python",
   "pygments_lexer": "ipython3",
   "version": "3.13.0"
  },
  "numbering": {
   "headings": false
  }
 },
 "nbformat": 4,
 "nbformat_minor": 5
}
