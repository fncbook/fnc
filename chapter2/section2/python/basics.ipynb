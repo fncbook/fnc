{
 "cells": [
  {
   "cell_type": "code",
   "execution_count": 1,
   "id": "e51cf9dd",
   "metadata": {
    "execution": {
     "iopub.execute_input": "2025-01-11T17:43:12.926902Z",
     "iopub.status.busy": "2025-01-11T17:43:12.926812Z",
     "iopub.status.idle": "2025-01-11T17:43:13.235715Z",
     "shell.execute_reply": "2025-01-11T17:43:13.235389Z"
    },
    "tags": [
     "remove-cell"
    ]
   },
   "outputs": [],
   "source": [
    "exec(open(\"../../../python/FNC_init.py\").read())"
   ]
  },
  {
   "cell_type": "markdown",
   "id": "5e5a6d82",
   "metadata": {},
   "source": [
    "[**Demo %s**](#demo-matrices-basics)\n",
    "\n",
    "```{note}\n",
    "While NumPy does have distinct representations for matrices and 2D arrays, use of the explicit matrix class is officially discouraged. We follow this advice here and use arrays to represent both matrices and vectors.\n",
    "```\n",
    "\n",
    ":::{index} ! Python; array, ! Python; shape\n",
    ":::\n",
    "\n",
    "<!-- :::{index}\n",
    "see: Python; size, Python; shape\n",
    "::: -->\n",
    "\n",
    "A vector is created using square brackets and commas to enclose and separate its entries."
   ]
  },
  {
   "cell_type": "code",
   "execution_count": 2,
   "id": "bebbcec5",
   "metadata": {
    "execution": {
     "iopub.execute_input": "2025-01-11T17:43:13.237229Z",
     "iopub.status.busy": "2025-01-11T17:43:13.237113Z",
     "iopub.status.idle": "2025-01-11T17:43:13.239122Z",
     "shell.execute_reply": "2025-01-11T17:43:13.238809Z"
    }
   },
   "outputs": [
    {
     "name": "stdout",
     "output_type": "stream",
     "text": [
      "(5,)\n"
     ]
    }
   ],
   "source": [
    "x = array([3, 3, 0, 1, 0 ])\n",
    "print(x.shape)"
   ]
  },
  {
   "cell_type": "markdown",
   "id": "b11f0330",
   "metadata": {},
   "source": [
    "To construct a matrix, you nest the brackets to create a \"vector of vectors\". The inner vectors are the rows."
   ]
  },
  {
   "cell_type": "code",
   "execution_count": 3,
   "id": "38f933fb",
   "metadata": {
    "execution": {
     "iopub.execute_input": "2025-01-11T17:43:13.240356Z",
     "iopub.status.busy": "2025-01-11T17:43:13.240277Z",
     "iopub.status.idle": "2025-01-11T17:43:13.242418Z",
     "shell.execute_reply": "2025-01-11T17:43:13.242170Z"
    }
   },
   "outputs": [
    {
     "name": "stdout",
     "output_type": "stream",
     "text": [
      "[[ 1.          2.          3.          4.          5.        ]\n",
      " [50.         40.         30.         20.         10.        ]\n",
      " [ 3.14159265  1.41421356  2.71828183  1.61803399  1.09861229]]\n",
      "(3, 5)\n"
     ]
    }
   ],
   "source": [
    "A = array([ \n",
    "    [1, 2, 3, 4, 5],\n",
    "    [50, 40, 30, 20, 10], \n",
    "    [pi, sqrt(2), exp(1), (1+sqrt(5))/2, log(3)] \n",
    "    ])\n",
    "\n",
    "print(A)\n",
    "print(A.shape)"
   ]
  },
  {
   "cell_type": "markdown",
   "id": "847daa09",
   "metadata": {},
   "source": [
    "In this text, we treat all vectors as equivalent to matrices with a single column. That isn't true in NumPy, because even an $n \\times 1$ array has two dimensions, unlike a vector."
   ]
  },
  {
   "cell_type": "code",
   "execution_count": 4,
   "id": "b3ced59b",
   "metadata": {
    "execution": {
     "iopub.execute_input": "2025-01-11T17:43:13.243554Z",
     "iopub.status.busy": "2025-01-11T17:43:13.243477Z",
     "iopub.status.idle": "2025-01-11T17:43:13.246348Z",
     "shell.execute_reply": "2025-01-11T17:43:13.246101Z"
    }
   },
   "outputs": [
    {
     "data": {
      "text/plain": [
       "(3, 1)"
      ]
     },
     "execution_count": 4,
     "metadata": {},
     "output_type": "execute_result"
    }
   ],
   "source": [
    "array([[3], [1], [2]]).shape"
   ]
  },
  {
   "cell_type": "markdown",
   "id": "ef4e5273",
   "metadata": {},
   "source": [
    ":::{index} ! Python; hstack, ! Python; vstack\n",
    ":::\n",
    "\n",
    "You can concatenate arrays with compatible dimensions using `hstack` and `vstack`."
   ]
  },
  {
   "cell_type": "code",
   "execution_count": 5,
   "id": "e62ee500",
   "metadata": {
    "execution": {
     "iopub.execute_input": "2025-01-11T17:43:13.247619Z",
     "iopub.status.busy": "2025-01-11T17:43:13.247542Z",
     "iopub.status.idle": "2025-01-11T17:43:13.249517Z",
     "shell.execute_reply": "2025-01-11T17:43:13.249272Z"
    }
   },
   "outputs": [
    {
     "name": "stdout",
     "output_type": "stream",
     "text": [
      "[[ 1.          2.          3.          4.          5.          1.\n",
      "   2.          3.          4.          5.        ]\n",
      " [50.         40.         30.         20.         10.         50.\n",
      "  40.         30.         20.         10.        ]\n",
      " [ 3.14159265  1.41421356  2.71828183  1.61803399  1.09861229  3.14159265\n",
      "   1.41421356  2.71828183  1.61803399  1.09861229]]\n"
     ]
    }
   ],
   "source": [
    "print( hstack([A, A]) )"
   ]
  },
  {
   "cell_type": "code",
   "execution_count": 6,
   "id": "ea87c99b",
   "metadata": {
    "execution": {
     "iopub.execute_input": "2025-01-11T17:43:13.250549Z",
     "iopub.status.busy": "2025-01-11T17:43:13.250469Z",
     "iopub.status.idle": "2025-01-11T17:43:13.252268Z",
     "shell.execute_reply": "2025-01-11T17:43:13.252048Z"
    }
   },
   "outputs": [
    {
     "name": "stdout",
     "output_type": "stream",
     "text": [
      "[[ 1.          2.          3.          4.          5.        ]\n",
      " [50.         40.         30.         20.         10.        ]\n",
      " [ 3.14159265  1.41421356  2.71828183  1.61803399  1.09861229]\n",
      " [ 1.          2.          3.          4.          5.        ]\n",
      " [50.         40.         30.         20.         10.        ]\n",
      " [ 3.14159265  1.41421356  2.71828183  1.61803399  1.09861229]]\n"
     ]
    }
   ],
   "source": [
    "print( vstack([A, A]) )"
   ]
  },
  {
   "cell_type": "markdown",
   "id": "7ed0a3ba",
   "metadata": {},
   "source": [
    "```{index} ! Python; transpose, ! Python; adjoint\n",
    "```\n",
    "\n",
    "Transposing a matrix is done by appending `.T` to it."
   ]
  },
  {
   "cell_type": "code",
   "execution_count": 7,
   "id": "24bde945",
   "metadata": {
    "execution": {
     "iopub.execute_input": "2025-01-11T17:43:13.253390Z",
     "iopub.status.busy": "2025-01-11T17:43:13.253319Z",
     "iopub.status.idle": "2025-01-11T17:43:13.255051Z",
     "shell.execute_reply": "2025-01-11T17:43:13.254804Z"
    }
   },
   "outputs": [
    {
     "name": "stdout",
     "output_type": "stream",
     "text": [
      "[[ 1.         50.          3.14159265]\n",
      " [ 2.         40.          1.41421356]\n",
      " [ 3.         30.          2.71828183]\n",
      " [ 4.         20.          1.61803399]\n",
      " [ 5.         10.          1.09861229]]\n"
     ]
    }
   ],
   "source": [
    "print(A.T)"
   ]
  },
  {
   "cell_type": "markdown",
   "id": "c6aba519",
   "metadata": {},
   "source": [
    "For matrices with complex values, we usually want instead the adjoint or hermitian, which is `.conj().T`."
   ]
  },
  {
   "cell_type": "code",
   "execution_count": 8,
   "id": "ee29e9f2",
   "metadata": {
    "execution": {
     "iopub.execute_input": "2025-01-11T17:43:13.256298Z",
     "iopub.status.busy": "2025-01-11T17:43:13.256202Z",
     "iopub.status.idle": "2025-01-11T17:43:13.258014Z",
     "shell.execute_reply": "2025-01-11T17:43:13.257753Z"
    }
   },
   "outputs": [
    {
     "name": "stdout",
     "output_type": "stream",
     "text": [
      "[3.-1.j 3.-1.j 0.-1.j 1.-1.j 0.-1.j]\n"
     ]
    }
   ],
   "source": [
    "print((x + 1j).conj().T)"
   ]
  },
  {
   "cell_type": "markdown",
   "id": "687368a8",
   "metadata": {},
   "source": [
    ":::{index} ! Python; arange, ! Python; linspace\n",
    ":::\n",
    "\n",
    "There are many convenient shorthand ways of building vectors and matrices other than entering all of their entries directly or in a loop. To get a vector with evenly spaced entries between two endpoints, you have two options."
   ]
  },
  {
   "cell_type": "code",
   "execution_count": 9,
   "id": "a7fa93d7",
   "metadata": {
    "execution": {
     "iopub.execute_input": "2025-01-11T17:43:13.259080Z",
     "iopub.status.busy": "2025-01-11T17:43:13.259001Z",
     "iopub.status.idle": "2025-01-11T17:43:13.260721Z",
     "shell.execute_reply": "2025-01-11T17:43:13.260499Z"
    }
   },
   "outputs": [
    {
     "name": "stdout",
     "output_type": "stream",
     "text": [
      "[1 3 5]\n"
     ]
    }
   ],
   "source": [
    "print(arange(1, 7, 2))   # from 1 to 7 (not inclusive), step by 2        "
   ]
  },
  {
   "cell_type": "code",
   "execution_count": 10,
   "id": "92458395",
   "metadata": {
    "execution": {
     "iopub.execute_input": "2025-01-11T17:43:13.261836Z",
     "iopub.status.busy": "2025-01-11T17:43:13.261751Z",
     "iopub.status.idle": "2025-01-11T17:43:13.263474Z",
     "shell.execute_reply": "2025-01-11T17:43:13.263222Z"
    }
   },
   "outputs": [
    {
     "name": "stdout",
     "output_type": "stream",
     "text": [
      "[-1.  -0.5  0.   0.5  1. ]\n"
     ]
    }
   ],
   "source": [
    "print(linspace(-1, 1, 5))   # from -1 to 1 (inclusive), with 5 total values"
   ]
  },
  {
   "cell_type": "markdown",
   "id": "b34df697",
   "metadata": {},
   "source": [
    "The practical difference between these is whether you want to specify the step size in `arange` or the number of points in `linspace`.\n",
    "\n",
    "Accessing an element is done by giving one (for a vector) or two index values in square brackets. **In Python, indexing always starts with zero, not 1.**"
   ]
  },
  {
   "cell_type": "code",
   "execution_count": 11,
   "id": "3f7ceedb",
   "metadata": {
    "execution": {
     "iopub.execute_input": "2025-01-11T17:43:13.264636Z",
     "iopub.status.busy": "2025-01-11T17:43:13.264560Z",
     "iopub.status.idle": "2025-01-11T17:43:13.266234Z",
     "shell.execute_reply": "2025-01-11T17:43:13.266013Z"
    }
   },
   "outputs": [],
   "source": [
    "A = array([ \n",
    "    [1, 2, 3, 4, 5],\n",
    "    [50, 40, 30, 20, 10], \n",
    "    linspace(-5, 5, 5) \n",
    "    ])\n",
    "x = array([3, 2, 0, 1, -1 ])"
   ]
  },
  {
   "cell_type": "code",
   "execution_count": 12,
   "id": "e11f70d9",
   "metadata": {
    "execution": {
     "iopub.execute_input": "2025-01-11T17:43:13.267310Z",
     "iopub.status.busy": "2025-01-11T17:43:13.267236Z",
     "iopub.status.idle": "2025-01-11T17:43:13.268918Z",
     "shell.execute_reply": "2025-01-11T17:43:13.268673Z"
    }
   },
   "outputs": [
    {
     "name": "stdout",
     "output_type": "stream",
     "text": [
      "row 2, col 3 of A: 30.0\n",
      "first element of x: 3\n"
     ]
    }
   ],
   "source": [
    "print(\"row 2, col 3 of A:\", A[1, 2])\n",
    "print(\"first element of x:\", x[0])"
   ]
  },
  {
   "cell_type": "markdown",
   "id": "143c0746",
   "metadata": {},
   "source": [
    "```{index} ! Python; slice, ! Python; \\:\n",
    "```\n",
    ":::{index} ! Python; indexing arrays\n",
    ":::\n",
    "\n",
    "The indices can be ranges, in which case a **slice** or block of the matrix is accessed. You build these using a colon in the form `start:stop`. However, the last value of this range is `stop-1`, not `stop`."
   ]
  },
  {
   "cell_type": "code",
   "execution_count": 13,
   "id": "14a26bc5",
   "metadata": {
    "execution": {
     "iopub.execute_input": "2025-01-11T17:43:13.270058Z",
     "iopub.status.busy": "2025-01-11T17:43:13.269984Z",
     "iopub.status.idle": "2025-01-11T17:43:13.271647Z",
     "shell.execute_reply": "2025-01-11T17:43:13.271410Z"
    }
   },
   "outputs": [
    {
     "name": "stdout",
     "output_type": "stream",
     "text": [
      "[[50.  40. ]\n",
      " [-5.  -2.5]]\n"
     ]
    }
   ],
   "source": [
    "print(A[1:3, 0:2])    # rows 2 and 3, cols 1 and 2"
   ]
  },
  {
   "cell_type": "markdown",
   "id": "234ad4e7",
   "metadata": {},
   "source": [
    "If `start` or `stop` is omitted, the range extends to the first or last index."
   ]
  },
  {
   "cell_type": "code",
   "execution_count": 14,
   "id": "6dbeaa9a",
   "metadata": {
    "execution": {
     "iopub.execute_input": "2025-01-11T17:43:13.272808Z",
     "iopub.status.busy": "2025-01-11T17:43:13.272704Z",
     "iopub.status.idle": "2025-01-11T17:43:13.274367Z",
     "shell.execute_reply": "2025-01-11T17:43:13.274153Z"
    }
   },
   "outputs": [
    {
     "name": "stdout",
     "output_type": "stream",
     "text": [
      "[ 2  0  1 -1]\n"
     ]
    }
   ],
   "source": [
    "print(x[1:])  # elements 2 through the end"
   ]
  },
  {
   "cell_type": "code",
   "execution_count": 15,
   "id": "69dafa94",
   "metadata": {
    "execution": {
     "iopub.execute_input": "2025-01-11T17:43:13.275495Z",
     "iopub.status.busy": "2025-01-11T17:43:13.275418Z",
     "iopub.status.idle": "2025-01-11T17:43:13.277195Z",
     "shell.execute_reply": "2025-01-11T17:43:13.276982Z"
    }
   },
   "outputs": [
    {
     "name": "stdout",
     "output_type": "stream",
     "text": [
      "[ 1. 50.]\n"
     ]
    }
   ],
   "source": [
    "print(A[:2, 0])  # first two rows in column 1"
   ]
  },
  {
   "cell_type": "markdown",
   "id": "8ec034c0",
   "metadata": {},
   "source": [
    "Notice in the last case above that even when the slice is in the shape of a column vector, the result is just a vector with one dimension and neither row nor column shape.\n",
    "\n",
    "There are more variations on the colon ranges. A negative value means to count from the end rather than the beginning. And a colon by itself means to include everything from the relevant dimension."
   ]
  },
  {
   "cell_type": "code",
   "execution_count": 16,
   "id": "16dd9177",
   "metadata": {
    "execution": {
     "iopub.execute_input": "2025-01-11T17:43:13.278256Z",
     "iopub.status.busy": "2025-01-11T17:43:13.278184Z",
     "iopub.status.idle": "2025-01-11T17:43:13.279989Z",
     "shell.execute_reply": "2025-01-11T17:43:13.279741Z"
    }
   },
   "outputs": [
    {
     "name": "stdout",
     "output_type": "stream",
     "text": [
      "[[ 1.  2.  3.  4.  5.]\n",
      " [50. 40. 30. 20. 10.]]\n"
     ]
    }
   ],
   "source": [
    "print(A[:-1, :])    # all rows up to the last, all columns"
   ]
  },
  {
   "cell_type": "markdown",
   "id": "8827917a",
   "metadata": {},
   "source": [
    "Finally, `start:stop:step` means to step size or stride other than one. You can mix this with the other variations."
   ]
  },
  {
   "cell_type": "code",
   "execution_count": 17,
   "id": "610946fe",
   "metadata": {
    "execution": {
     "iopub.execute_input": "2025-01-11T17:43:13.281051Z",
     "iopub.status.busy": "2025-01-11T17:43:13.280980Z",
     "iopub.status.idle": "2025-01-11T17:43:13.282652Z",
     "shell.execute_reply": "2025-01-11T17:43:13.282410Z"
    }
   },
   "outputs": [
    {
     "name": "stdout",
     "output_type": "stream",
     "text": [
      "[ 3  0 -1]\n"
     ]
    }
   ],
   "source": [
    "print(x[::2])  # all the odd indexes"
   ]
  },
  {
   "cell_type": "code",
   "execution_count": 18,
   "id": "6f06ca87",
   "metadata": {
    "execution": {
     "iopub.execute_input": "2025-01-11T17:43:13.283729Z",
     "iopub.status.busy": "2025-01-11T17:43:13.283652Z",
     "iopub.status.idle": "2025-01-11T17:43:13.285290Z",
     "shell.execute_reply": "2025-01-11T17:43:13.285062Z"
    }
   },
   "outputs": [
    {
     "name": "stdout",
     "output_type": "stream",
     "text": [
      "[[ 5.   4.   3.   2.   1. ]\n",
      " [10.  20.  30.  40.  50. ]\n",
      " [ 5.   2.5  0.  -2.5 -5. ]]\n"
     ]
    }
   ],
   "source": [
    "print(A[:, ::-1])  # reverse the columns"
   ]
  },
  {
   "cell_type": "markdown",
   "id": "374da2e1",
   "metadata": {},
   "source": [
    "The matrix and vector senses of addition, subtraction, and scalar multiplication and division are all handled by the usual symbols. Two matrices of the same size (what NumPy calls shape) are operated on elementwise."
   ]
  },
  {
   "cell_type": "code",
   "execution_count": 19,
   "id": "89baa671",
   "metadata": {
    "execution": {
     "iopub.execute_input": "2025-01-11T17:43:13.286394Z",
     "iopub.status.busy": "2025-01-11T17:43:13.286313Z",
     "iopub.status.idle": "2025-01-11T17:43:13.288027Z",
     "shell.execute_reply": "2025-01-11T17:43:13.287768Z"
    }
   },
   "outputs": [
    {
     "name": "stdout",
     "output_type": "stream",
     "text": [
      "[[-1.   0.   1.   2.   3. ]\n",
      " [48.  38.  28.  18.   8. ]\n",
      " [-7.  -4.5 -2.   0.5  3. ]]\n"
     ]
    }
   ],
   "source": [
    "print(A - 2 * ones([3, 5]))  # subtract two from each element"
   ]
  },
  {
   "cell_type": "markdown",
   "id": "0d4b7c31",
   "metadata": {},
   "source": [
    "```{index} ! Python; broadcast\n",
    "```\n",
    "\n",
    "If one operand has a smaller number of dimensions than the other, Python tries to **broadcast** it in the \"missing\" dimension(s), and the operation proceeds if the resulting shapes are identical."
   ]
  },
  {
   "cell_type": "code",
   "execution_count": 20,
   "id": "ecc6ec0a",
   "metadata": {
    "execution": {
     "iopub.execute_input": "2025-01-11T17:43:13.289082Z",
     "iopub.status.busy": "2025-01-11T17:43:13.289001Z",
     "iopub.status.idle": "2025-01-11T17:43:13.290784Z",
     "shell.execute_reply": "2025-01-11T17:43:13.290561Z"
    }
   },
   "outputs": [
    {
     "name": "stdout",
     "output_type": "stream",
     "text": [
      "[[-1.   0.   1.   2.   3. ]\n",
      " [48.  38.  28.  18.   8. ]\n",
      " [-7.  -4.5 -2.   0.5  3. ]]\n"
     ]
    }
   ],
   "source": [
    "print(A - 2)    # subtract two from each element"
   ]
  },
  {
   "cell_type": "code",
   "execution_count": 21,
   "id": "e67381bc",
   "metadata": {
    "execution": {
     "iopub.execute_input": "2025-01-11T17:43:13.291803Z",
     "iopub.status.busy": "2025-01-11T17:43:13.291727Z",
     "iopub.status.idle": "2025-01-11T17:43:13.293493Z",
     "shell.execute_reply": "2025-01-11T17:43:13.293263Z"
    }
   },
   "outputs": [
    {
     "name": "stdout",
     "output_type": "stream",
     "text": [
      "[[ 0.   0.   0.   0.   0. ]\n",
      " [49.  38.  27.  16.   5. ]\n",
      " [-6.  -4.5 -3.  -1.5  0. ]]\n"
     ]
    }
   ],
   "source": [
    "u = array([1, 2, 3, 4, 5])\n",
    "print(A - u)    # repeat this row for every row of A"
   ]
  },
  {
   "cell_type": "code",
   "execution_count": 22,
   "id": "cd3496b4",
   "metadata": {
    "execution": {
     "iopub.execute_input": "2025-01-11T17:43:13.294560Z",
     "iopub.status.busy": "2025-01-11T17:43:13.294482Z",
     "iopub.status.idle": "2025-01-11T17:43:13.382258Z",
     "shell.execute_reply": "2025-01-11T17:43:13.381991Z"
    },
    "tags": [
     "raises-exception"
    ]
   },
   "outputs": [
    {
     "ename": "ValueError",
     "evalue": "operands could not be broadcast together with shapes (3,5) (3,) ",
     "output_type": "error",
     "traceback": [
      "\u001b[0;31m---------------------------------------------------------------------------\u001b[0m",
      "\u001b[0;31mValueError\u001b[0m                                Traceback (most recent call last)",
      "Cell \u001b[0;32mIn[22], line 2\u001b[0m\n\u001b[1;32m      1\u001b[0m v \u001b[38;5;241m=\u001b[39m array([\u001b[38;5;241m1\u001b[39m, \u001b[38;5;241m2\u001b[39m, \u001b[38;5;241m3\u001b[39m])\n\u001b[0;32m----> 2\u001b[0m \u001b[38;5;28mprint\u001b[39m(\u001b[43mA\u001b[49m\u001b[43m \u001b[49m\u001b[38;5;241;43m-\u001b[39;49m\u001b[43m \u001b[49m\u001b[43mv\u001b[49m)  \u001b[38;5;66;03m# broadcasting this would be 3x3, so it's an error\u001b[39;00m\n",
      "\u001b[0;31mValueError\u001b[0m: operands could not be broadcast together with shapes (3,5) (3,) "
     ]
    }
   ],
   "source": [
    "v = array([1, 2, 3])\n",
    "print(A - v)  # broadcasting this would be 3x3, so it's an error"
   ]
  },
  {
   "cell_type": "code",
   "execution_count": 23,
   "id": "306e90b2",
   "metadata": {
    "execution": {
     "iopub.execute_input": "2025-01-11T17:43:13.383543Z",
     "iopub.status.busy": "2025-01-11T17:43:13.383458Z",
     "iopub.status.idle": "2025-01-11T17:43:13.385360Z",
     "shell.execute_reply": "2025-01-11T17:43:13.385129Z"
    }
   },
   "outputs": [
    {
     "name": "stdout",
     "output_type": "stream",
     "text": [
      "[[ 0.   1.   2.   3.   4. ]\n",
      " [48.  38.  28.  18.   8. ]\n",
      " [-8.  -5.5 -3.  -0.5  2. ]]\n"
     ]
    }
   ],
   "source": [
    "print(A - v.reshape([3, 1]))    # broadcasts to each column of A"
   ]
  },
  {
   "cell_type": "markdown",
   "id": "ef892e37",
   "metadata": {},
   "source": [
    "```{index} ! Python; \\@, ! Python; matmul\n",
    "```\n",
    "\n",
    "<!-- ```{index} \n",
    "see: Python; matrix multiplication, Python; \\@\n",
    "``` -->\n",
    "\n",
    "```{index} ! Python; diag\n",
    "```\n",
    "\n",
    "Matrix–matrix and matrix–vector products are computed using `@` or `matmul`."
   ]
  },
  {
   "cell_type": "code",
   "execution_count": 24,
   "id": "72d88520",
   "metadata": {
    "execution": {
     "iopub.execute_input": "2025-01-11T17:43:13.386521Z",
     "iopub.status.busy": "2025-01-11T17:43:13.386445Z",
     "iopub.status.idle": "2025-01-11T17:43:13.388326Z",
     "shell.execute_reply": "2025-01-11T17:43:13.388092Z"
    }
   },
   "outputs": [
    {
     "name": "stdout",
     "output_type": "stream",
     "text": [
      "[[ -1.   -2.   -3.   -4.   -5. ]\n",
      " [  0.    0.    0.    0.    0. ]\n",
      " [ 25.   12.5   0.  -12.5 -25. ]]\n"
     ]
    }
   ],
   "source": [
    "B = diag([-1, 0, -5])    # create a diagonal 3x3\n",
    "print(B @ A)    # matrix product"
   ]
  },
  {
   "cell_type": "markdown",
   "id": "1cc98904",
   "metadata": {},
   "source": [
    "$AB$ is undefined for these matrix sizes."
   ]
  },
  {
   "cell_type": "code",
   "execution_count": 25,
   "id": "16154b3e",
   "metadata": {
    "execution": {
     "iopub.execute_input": "2025-01-11T17:43:13.389500Z",
     "iopub.status.busy": "2025-01-11T17:43:13.389413Z",
     "iopub.status.idle": "2025-01-11T17:43:13.396062Z",
     "shell.execute_reply": "2025-01-11T17:43:13.395781Z"
    },
    "tags": [
     "raises-exception"
    ]
   },
   "outputs": [
    {
     "ename": "ValueError",
     "evalue": "matmul: Input operand 1 has a mismatch in its core dimension 0, with gufunc signature (n?,k),(k,m?)->(n?,m?) (size 3 is different from 5)",
     "output_type": "error",
     "traceback": [
      "\u001b[0;31m---------------------------------------------------------------------------\u001b[0m",
      "\u001b[0;31mValueError\u001b[0m                                Traceback (most recent call last)",
      "Cell \u001b[0;32mIn[25], line 1\u001b[0m\n\u001b[0;32m----> 1\u001b[0m \u001b[38;5;28mprint\u001b[39m(\u001b[43mA\u001b[49m\u001b[43m \u001b[49m\u001b[38;5;241;43m@\u001b[39;49m\u001b[43m \u001b[49m\u001b[43mB\u001b[49m)    \u001b[38;5;66;03m# incompatible sizes\u001b[39;00m\n",
      "\u001b[0;31mValueError\u001b[0m: matmul: Input operand 1 has a mismatch in its core dimension 0, with gufunc signature (n?,k),(k,m?)->(n?,m?) (size 3 is different from 5)"
     ]
    }
   ],
   "source": [
    "print(A @ B)    # incompatible sizes"
   ]
  },
  {
   "cell_type": "markdown",
   "id": "d43a4c49",
   "metadata": {},
   "source": [
    "```{index} ! Python; elementwise multiplication, Python; broadcasting\n",
    "```\n",
    "\n",
    "The multiplication operator `*` is reserved for elementwise multiplication. Both operands have to be the same size, after any potential broadcasts."
   ]
  },
  {
   "cell_type": "code",
   "execution_count": 26,
   "id": "96429203",
   "metadata": {
    "execution": {
     "iopub.execute_input": "2025-01-11T17:43:13.397413Z",
     "iopub.status.busy": "2025-01-11T17:43:13.397336Z",
     "iopub.status.idle": "2025-01-11T17:43:13.403130Z",
     "shell.execute_reply": "2025-01-11T17:43:13.402908Z"
    },
    "tags": [
     "raises-exception"
    ]
   },
   "outputs": [
    {
     "ename": "ValueError",
     "evalue": "operands could not be broadcast together with shapes (3,3) (3,5) ",
     "output_type": "error",
     "traceback": [
      "\u001b[0;31m---------------------------------------------------------------------------\u001b[0m",
      "\u001b[0;31mValueError\u001b[0m                                Traceback (most recent call last)",
      "Cell \u001b[0;32mIn[26], line 1\u001b[0m\n\u001b[0;32m----> 1\u001b[0m \u001b[38;5;28mprint\u001b[39m(\u001b[43mB\u001b[49m\u001b[43m \u001b[49m\u001b[38;5;241;43m*\u001b[39;49m\u001b[43m \u001b[49m\u001b[43mA\u001b[49m)    \u001b[38;5;66;03m# not the same size, so it's an error\u001b[39;00m\n",
      "\u001b[0;31mValueError\u001b[0m: operands could not be broadcast together with shapes (3,3) (3,5) "
     ]
    }
   ],
   "source": [
    "print(B * A)    # not the same size, so it's an error"
   ]
  },
  {
   "cell_type": "code",
   "execution_count": 27,
   "id": "56fcdaf9",
   "metadata": {
    "execution": {
     "iopub.execute_input": "2025-01-11T17:43:13.404294Z",
     "iopub.status.busy": "2025-01-11T17:43:13.404210Z",
     "iopub.status.idle": "2025-01-11T17:43:13.406110Z",
     "shell.execute_reply": "2025-01-11T17:43:13.405894Z"
    }
   },
   "outputs": [
    {
     "name": "stdout",
     "output_type": "stream",
     "text": [
      "[[5.000e-01 2.000e+00 4.500e+00 8.000e+00 1.250e+01]\n",
      " [1.250e+03 8.000e+02 4.500e+02 2.000e+02 5.000e+01]\n",
      " [1.250e+01 3.125e+00 0.000e+00 3.125e+00 1.250e+01]]\n"
     ]
    }
   ],
   "source": [
    "print((A / 2) * A)    # elementwise"
   ]
  },
  {
   "cell_type": "markdown",
   "id": "8785c835",
   "metadata": {},
   "source": [
    "To raise to a power elementwise, use a double star. This will broadcast as well."
   ]
  },
  {
   "cell_type": "code",
   "execution_count": 28,
   "id": "bea318e6",
   "metadata": {
    "execution": {
     "iopub.execute_input": "2025-01-11T17:43:13.407170Z",
     "iopub.status.busy": "2025-01-11T17:43:13.407097Z",
     "iopub.status.idle": "2025-01-11T17:43:13.408844Z",
     "shell.execute_reply": "2025-01-11T17:43:13.408609Z"
    }
   },
   "outputs": [
    {
     "name": "stdout",
     "output_type": "stream",
     "text": [
      "[[-1  0  0]\n",
      " [ 0  0  0]\n",
      " [ 0  0 -5]]\n",
      "[[  -1    0    0]\n",
      " [   0    0    0]\n",
      " [   0    0 -125]]\n"
     ]
    }
   ],
   "source": [
    "print(B)\n",
    "print(B**3)"
   ]
  },
  {
   "cell_type": "code",
   "execution_count": 29,
   "id": "258b6571",
   "metadata": {
    "execution": {
     "iopub.execute_input": "2025-01-11T17:43:13.409980Z",
     "iopub.status.busy": "2025-01-11T17:43:13.409898Z",
     "iopub.status.idle": "2025-01-11T17:43:13.411756Z",
     "shell.execute_reply": "2025-01-11T17:43:13.411500Z"
    }
   },
   "outputs": [
    {
     "name": "stdout",
     "output_type": "stream",
     "text": [
      "[ 3  2  0  1 -1]\n",
      "[8.  4.  1.  2.  0.5]\n"
     ]
    }
   ],
   "source": [
    "print(x)\n",
    "print(2.0**x)"
   ]
  },
  {
   "cell_type": "markdown",
   "id": "0c6d7d84",
   "metadata": {},
   "source": [
    "```{danger}\n",
    "If `A` is a matrix, `A**2` is *not* the same as mathematically raising it to the power 2.\n",
    "```\n",
    "\n",
    "\n",
    "```{index} Python; broadcasting\n",
    "```\n",
    "\n",
    "Most of the mathematical functions, such as cos, sin, log, exp and sqrt, expecting scalars as operands will be broadcast to arrays."
   ]
  },
  {
   "cell_type": "code",
   "execution_count": 30,
   "id": "52c26cef",
   "metadata": {
    "execution": {
     "iopub.execute_input": "2025-01-11T17:43:13.412854Z",
     "iopub.status.busy": "2025-01-11T17:43:13.412779Z",
     "iopub.status.idle": "2025-01-11T17:43:13.414459Z",
     "shell.execute_reply": "2025-01-11T17:43:13.414233Z"
    }
   },
   "outputs": [
    {
     "name": "stdout",
     "output_type": "stream",
     "text": [
      "[-1.  1.  1. -1. -1.]\n"
     ]
    }
   ],
   "source": [
    "print(cos(pi * x))      "
   ]
  }
 ],
 "metadata": {
  "kernelspec": {
   "display_name": "Python 3",
   "language": "python",
   "name": "python3"
  },
  "language_info": {
   "codemirror_mode": {
    "name": "ipython",
    "version": 3
   },
   "file_extension": ".py",
   "mimetype": "text/x-python",
   "name": "python",
   "nbconvert_exporter": "python",
   "pygments_lexer": "ipython3",
   "version": "3.13.0"
  },
  "numbering": {
   "headings": false
  }
 },
 "nbformat": 4,
 "nbformat_minor": 5
}
