{
    "cells": [
        {
            "cell_type": "markdown",
            "source": [
                "[**Demo %s**](#demo-matrices-basics)\n",
                "\n",
                ":::{index} ! MATLAB; size, ! MATLAB; length\n",
                ":::\n",
                "\n",
                "In MATLAB, every numerical value is treated like a matrix. A matrix with one row or one column is interpreted as a vector, and a $1\\times 1$ matrix is interpreted as a scalar. \n",
                "\n",
                "Square brackets are used to enclose elements of a matrix or vector. Use spaces for horizontal concatenation, and semicolons or new lines to indicate vertical concatenation.\n",
                "```{tip}\n",
                ":class: dropdown\n",
                "The `size` function returns the number of rows and columns in a matrix. Use `length` to get the number of elements in a vector or matrix.\n",
                "```"
            ],
            "id": "86bbb6a6",
            "metadata": {}
        },
        {
            "outputs": [
                {
                    "output_type": "execute_result",
                    "data": {
                        "text/plain": [
                            "A = 3×5 double\n",
                            "    1.0000    2.0000    3.0000    4.0000    5.0000\n",
                            "   50.0000   40.0000   30.0000   20.0000   10.0000\n",
                            "    3.1416    1.4142    2.7183    1.6180    1.0986\n"
                        ],
                        "text/html": [
                            "<html><body><pre>A = 3×5 double\n",
                            "    1.0000    2.0000    3.0000    4.0000    5.0000\n",
                            "   50.0000   40.0000   30.0000   20.0000   10.0000\n",
                            "    3.1416    1.4142    2.7183    1.6180    1.0986\n",
                            "</pre></body></html>"
                        ]
                    },
                    "metadata": {},
                    "execution_count": 2
                }
            ],
            "cell_type": "code",
            "source": [
                "A = [ \n",
                "    1       2      3             4      5; \n",
                "    50     40     30            20     10\n",
                "    pi sqrt(2) exp(1) (1+sqrt(5))/2 log(3) \n",
                "    ]"
            ],
            "id": "8b970e17",
            "metadata": {},
            "execution_count": 2
        },
        {
            "outputs": [
                {
                    "name": "stderr",
                    "output_type": "stream",
                    "text": [
                        "Unrecognized function or variable 'm'."
                    ]
                }
            ],
            "cell_type": "code",
            "source": [
                "m, n = size(A)"
            ],
            "id": "ab0ed822",
            "metadata": {},
            "execution_count": 3
        },
        {
            "outputs": [
                {
                    "output_type": "execute_result",
                    "data": {
                        "text/plain": [
                            "ans = 1×2 double\n",
                            "     1     5\n"
                        ],
                        "text/html": [
                            "<html><body><pre>ans = 1×2 double\n",
                            "     1     5\n",
                            "</pre></body></html>"
                        ]
                    },
                    "metadata": {},
                    "execution_count": 4
                }
            ],
            "cell_type": "code",
            "source": [
                "x = [ 3, 3, 0, 1, 0 ];   % row vector\n",
                "size(x)"
            ],
            "id": "08414be9",
            "metadata": {},
            "execution_count": 4
        },
        {
            "cell_type": "markdown",
            "source": [
                "Concatenated elements within brackets may be matrices or vectors for a block representation, as long as all the block sizes are compatible."
            ],
            "id": "ad561dee",
            "metadata": {}
        },
        {
            "outputs": [
                {
                    "output_type": "execute_result",
                    "data": {
                        "text/plain": [
                            "ans = 1×10 double\n",
                            "     3     3     0     1     0     3     3     0     1     0\n"
                        ],
                        "text/html": [
                            "<html><body><pre>ans = 1×10 double\n",
                            "     3     3     0     1     0     3     3     0     1     0\n",
                            "</pre></body></html>"
                        ]
                    },
                    "metadata": {},
                    "execution_count": 5
                }
            ],
            "cell_type": "code",
            "source": [
                "[ x  x ]"
            ],
            "id": "e09cd817",
            "metadata": {},
            "execution_count": 5
        },
        {
            "outputs": [
                {
                    "output_type": "execute_result",
                    "data": {
                        "text/plain": [
                            "ans = 2×5 double\n",
                            "     3     3     0     1     0\n",
                            "     3     3     0     1     0\n"
                        ],
                        "text/html": [
                            "<html><body><pre>ans = 2×5 double\n",
                            "     3     3     0     1     0\n",
                            "     3     3     0     1     0\n",
                            "</pre></body></html>"
                        ]
                    },
                    "metadata": {},
                    "execution_count": 6
                }
            ],
            "cell_type": "code",
            "source": [
                "[ x; x ]"
            ],
            "id": "78c8497d",
            "metadata": {},
            "execution_count": 6
        },
        {
            "cell_type": "markdown",
            "source": [
                "```{index} ! MATLAB; zeros, ! MATLAB; ones\n",
                "```\n",
                "\n",
                "The `zeros` and `ones` functions construct matrices with entries all zero or one, respectively."
            ],
            "id": "2d5abb79",
            "metadata": {}
        },
        {
            "outputs": [
                {
                    "output_type": "execute_result",
                    "data": {
                        "text/plain": [
                            "B = 3×3 double\n",
                            "     0     0     1\n",
                            "     0     0     1\n",
                            "     0     0     1\n"
                        ],
                        "text/html": [
                            "<html><body><pre>B = 3×3 double\n",
                            "     0     0     1\n",
                            "     0     0     1\n",
                            "     0     0     1\n",
                            "</pre></body></html>"
                        ]
                    },
                    "metadata": {},
                    "execution_count": 7
                }
            ],
            "cell_type": "code",
            "source": [
                "B = [ zeros(3, 2) ones(3, 1) ]"
            ],
            "id": "a948b085",
            "metadata": {},
            "execution_count": 7
        },
        {
            "cell_type": "markdown",
            "source": [
                "```{index} ! MATLAB; transpose, ! MATLAB; adjoint, ! MATLAB; \\'\n",
                "```\n",
                "\n",
                "A single quote `'` after a matrix returns its adjoint. For real matrices, this is the transpose; for complex-valued matrices, the elements are also conjugated."
            ],
            "id": "1c32213a",
            "metadata": {}
        },
        {
            "outputs": [
                {
                    "output_type": "execute_result",
                    "data": {
                        "text/plain": [
                            "ans = 5×3 double\n",
                            "    1.0000   50.0000    3.1416\n",
                            "    2.0000   40.0000    1.4142\n",
                            "    3.0000   30.0000    2.7183\n",
                            "    4.0000   20.0000    1.6180\n",
                            "    5.0000   10.0000    1.0986\n"
                        ],
                        "text/html": [
                            "<html><body><pre>ans = 5×3 double\n",
                            "    1.0000   50.0000    3.1416\n",
                            "    2.0000   40.0000    1.4142\n",
                            "    3.0000   30.0000    2.7183\n",
                            "    4.0000   20.0000    1.6180\n",
                            "    5.0000   10.0000    1.0986\n",
                            "</pre></body></html>"
                        ]
                    },
                    "metadata": {},
                    "execution_count": 8
                }
            ],
            "cell_type": "code",
            "source": [
                "A'"
            ],
            "id": "8c319364",
            "metadata": {},
            "execution_count": 8
        },
        {
            "cell_type": "markdown",
            "source": [
                "```{index} ! MATLAB; linspace, ! MATLAB; \\:\n",
                "```\n",
                "\n",
                "There are many convenient shorthand ways of building vectors and matrices other than entering all of their entries directly or in a loop. To get a range with evenly spaced entries between two endpoints, you have two options. One is to use a colon `:`."
            ],
            "id": "e22324d7",
            "metadata": {}
        },
        {
            "outputs": [
                {
                    "output_type": "execute_result",
                    "data": {
                        "text/plain": [
                            "y = 1×4 double\n",
                            "     1     2     3     4\n"
                        ],
                        "text/html": [
                            "<html><body><pre>y = 1×4 double\n",
                            "     1     2     3     4\n",
                            "</pre></body></html>"
                        ]
                    },
                    "metadata": {},
                    "execution_count": 9
                }
            ],
            "cell_type": "code",
            "source": [
                "y = 1:4              % start:stop"
            ],
            "id": "e790e792",
            "metadata": {},
            "execution_count": 9
        },
        {
            "outputs": [
                {
                    "output_type": "execute_result",
                    "data": {
                        "text/plain": [
                            "z = 1×5 double\n",
                            "     0     3     6     9    12\n"
                        ],
                        "text/html": [
                            "<html><body><pre>z = 1×5 double\n",
                            "     0     3     6     9    12\n",
                            "</pre></body></html>"
                        ]
                    },
                    "metadata": {},
                    "execution_count": 10
                }
            ],
            "cell_type": "code",
            "source": [
                "z = 0:3:12           % start:step:stop"
            ],
            "id": "5d8213ad",
            "metadata": {},
            "execution_count": 10
        },
        {
            "cell_type": "markdown",
            "source": [
                "Instead of specifying the step size, you can give the number of points in the range if you use `linspace`."
            ],
            "id": "e68470da",
            "metadata": {}
        },
        {
            "outputs": [
                {
                    "output_type": "execute_result",
                    "data": {
                        "text/plain": [
                            "s = 1×5 double\n",
                            "   -1.0000   -0.5000         0    0.5000    1.0000\n"
                        ],
                        "text/html": [
                            "<html><body><pre>s = 1×5 double\n",
                            "   -1.0000   -0.5000         0    0.5000    1.0000\n",
                            "</pre></body></html>"
                        ]
                    },
                    "metadata": {},
                    "execution_count": 11
                }
            ],
            "cell_type": "code",
            "source": [
                "s = linspace(-1, 1, 5)    % row result"
            ],
            "id": "bd8f134e",
            "metadata": {},
            "execution_count": 11
        },
        {
            "cell_type": "markdown",
            "source": [
                ":::{index} ! MATLAB; end, ! MATLAB; indexing arrays\n",
                ":::\n",
                "\n",
                "Accessing an element is done by giving one (for a vector) or two (for a matrix) index values within parentheses. \n",
                "```{tip}\n",
                ":class: dropdown\n",
                "The `end` keyword refers to the last element in a dimension. It saves you from having to compute and store the size of the matrix first.\n",
                "```"
            ],
            "id": "4a643b0d",
            "metadata": {}
        },
        {
            "outputs": [
                {
                    "output_type": "execute_result",
                    "data": {
                        "text/plain": [
                            "a = 20"
                        ],
                        "text/html": [
                            "<html><body><pre>a = 20</pre></body></html>"
                        ]
                    },
                    "metadata": {},
                    "execution_count": 12
                }
            ],
            "cell_type": "code",
            "source": [
                "a = A(2, end-1)"
            ],
            "id": "12c53e63",
            "metadata": {},
            "execution_count": 12
        },
        {
            "outputs": [
                {
                    "output_type": "execute_result",
                    "data": {
                        "text/plain": [
                            "ans = 3"
                        ],
                        "text/html": [
                            "<html><body><pre>ans = 3</pre></body></html>"
                        ]
                    },
                    "metadata": {},
                    "execution_count": 13
                }
            ],
            "cell_type": "code",
            "source": [
                "x(2)"
            ],
            "id": "bb83db71",
            "metadata": {},
            "execution_count": 13
        },
        {
            "cell_type": "markdown",
            "source": [
                "The indices can be vectors or ranges, in which case a block of the matrix is accessed."
            ],
            "id": "73be3913",
            "metadata": {}
        },
        {
            "outputs": [
                {
                    "output_type": "execute_result",
                    "data": {
                        "text/plain": [
                            "ans = 2×3 double\n",
                            "     3     4     5\n",
                            "    30    20    10\n"
                        ],
                        "text/html": [
                            "<html><body><pre>ans = 2×3 double\n",
                            "     3     4     5\n",
                            "    30    20    10\n",
                            "</pre></body></html>"
                        ]
                    },
                    "metadata": {},
                    "execution_count": 14
                }
            ],
            "cell_type": "code",
            "source": [
                "A(1:2, end-2:end)    % first two rows, last three columns"
            ],
            "id": "0946ad72",
            "metadata": {},
            "execution_count": 14
        },
        {
            "cell_type": "markdown",
            "source": [
                "```{index} MATLAB; \\:\n",
                "```\n",
                "\n",
                "If a dimension has only the index `:` (a colon), then it refers to all the entries in that dimension of the matrix."
            ],
            "id": "c506f290",
            "metadata": {}
        },
        {
            "outputs": [
                {
                    "output_type": "execute_result",
                    "data": {
                        "text/plain": [
                            "ans = 3×3 double\n",
                            "    1.0000    3.0000    5.0000\n",
                            "   50.0000   30.0000   10.0000\n",
                            "    3.1416    2.7183    1.0986\n"
                        ],
                        "text/html": [
                            "<html><body><pre>ans = 3×3 double\n",
                            "    1.0000    3.0000    5.0000\n",
                            "   50.0000   30.0000   10.0000\n",
                            "    3.1416    2.7183    1.0986\n",
                            "</pre></body></html>"
                        ]
                    },
                    "metadata": {},
                    "execution_count": 15
                }
            ],
            "cell_type": "code",
            "source": [
                "A(:, 1:2:end)        % all of the odd columns"
            ],
            "id": "7bbc6363",
            "metadata": {},
            "execution_count": 15
        },
        {
            "cell_type": "markdown",
            "source": [
                ":::{index} ! MATLAB; diag\n",
                ":::\n",
                "\n",
                "The matrix and vector senses of addition, subtraction, scalar multiplication, multiplication, and power are all handled by the usual symbols. \n",
                "```{tip}\n",
                ":class: dropdown\n",
                "Use `diag` to construct a matrix by its diagonals. A more general syntax puts elements on super- or subdiagonals.\n",
                "```"
            ],
            "id": "a9449e78",
            "metadata": {}
        },
        {
            "outputs": [
                {
                    "output_type": "execute_result",
                    "data": {
                        "text/plain": [
                            "B = 3×3 double\n",
                            "    -1     0     0\n",
                            "     0     0     0\n",
                            "     0     0    -5\n"
                        ],
                        "text/html": [
                            "<html><body><pre>B = 3×3 double\n",
                            "    -1     0     0\n",
                            "     0     0     0\n",
                            "     0     0    -5\n",
                            "</pre></body></html>"
                        ]
                    },
                    "metadata": {},
                    "execution_count": 16
                }
            ],
            "cell_type": "code",
            "source": [
                "B = diag([-1, 0, -5])   % create a diagonal matrix"
            ],
            "id": "80a07c33",
            "metadata": {},
            "execution_count": 16
        },
        {
            "outputs": [
                {
                    "output_type": "execute_result",
                    "data": {
                        "text/plain": [
                            "ans = 1×2 double\n",
                            "     3     5\n"
                        ],
                        "text/html": [
                            "<html><body><pre>ans = 1×2 double\n",
                            "     3     5\n",
                            "</pre></body></html>"
                        ]
                    },
                    "metadata": {},
                    "execution_count": 17
                },
                {
                    "output_type": "execute_result",
                    "data": {
                        "text/plain": [
                            "ans = 1×2 double\n",
                            "     3     3\n"
                        ],
                        "text/html": [
                            "<html><body><pre>ans = 1×2 double\n",
                            "     3     3\n",
                            "</pre></body></html>"
                        ]
                    },
                    "metadata": {},
                    "execution_count": 17
                }
            ],
            "cell_type": "code",
            "source": [
                "size(A)\n",
                "size(B)"
            ],
            "id": "ac8258d7",
            "metadata": {},
            "execution_count": 17
        },
        {
            "outputs": [
                {
                    "output_type": "execute_result",
                    "data": {
                        "text/plain": [
                            "BA = 3×5 double\n",
                            "   -1.0000   -2.0000   -3.0000   -4.0000   -5.0000\n",
                            "         0         0         0         0         0\n",
                            "  -15.7080   -7.0711  -13.5914   -8.0902   -5.4931\n"
                        ],
                        "text/html": [
                            "<html><body><pre>BA = 3×5 double\n",
                            "   -1.0000   -2.0000   -3.0000   -4.0000   -5.0000\n",
                            "         0         0         0         0         0\n",
                            "  -15.7080   -7.0711  -13.5914   -8.0902   -5.4931\n",
                            "</pre></body></html>"
                        ]
                    },
                    "metadata": {},
                    "execution_count": 18
                }
            ],
            "cell_type": "code",
            "source": [
                "BA = B * A     % matrix product"
            ],
            "id": "b39defa2",
            "metadata": {},
            "execution_count": 18
        },
        {
            "cell_type": "markdown",
            "source": [
                "`A * B` causes an error here, because the dimensions aren't compatible.\n",
                "```{tip}\n",
                ":class: dropdown\n",
                "Errors are formally called *exceptions* in Julia.\n",
                "```"
            ],
            "id": "0f24a235",
            "metadata": {}
        },
        {
            "outputs": [
                {
                    "name": "stderr",
                    "output_type": "stream",
                    "text": [
                        "Error using *\n",
                        "Incorrect dimensions for matrix multiplication. Check that the number of columns in the first matrix matches the number of rows in the second matrix. To operate on each element of the matrix individually, use TIMES (.*) for elementwise multiplication."
                    ]
                }
            ],
            "cell_type": "code",
            "source": [
                "A * B    % throws an error"
            ],
            "id": "16191523",
            "metadata": {
                "tags": [
                    "raises-exception"
                ]
            },
            "execution_count": 19
        },
        {
            "cell_type": "markdown",
            "source": [
                "A square matrix raised to an integer power is the same as repeated matrix multiplication."
            ],
            "id": "6e32f87f",
            "metadata": {}
        },
        {
            "outputs": [
                {
                    "output_type": "execute_result",
                    "data": {
                        "text/plain": [
                            "ans = 3×3 double\n",
                            "    -1     0     0\n",
                            "     0     0     0\n",
                            "     0     0  -125\n"
                        ],
                        "text/html": [
                            "<html><body><pre>ans = 3×3 double\n",
                            "    -1     0     0\n",
                            "     0     0     0\n",
                            "     0     0  -125\n",
                            "</pre></body></html>"
                        ]
                    },
                    "metadata": {},
                    "execution_count": 20
                }
            ],
            "cell_type": "code",
            "source": [
                "B^3    % same as B*B*B"
            ],
            "id": "7ea1fbcf",
            "metadata": {},
            "execution_count": 20
        },
        {
            "cell_type": "markdown",
            "source": [
                "Sometimes one instead wants to treat a matrix or vector as a mere array and simply apply a single operation to each element of it. For multiplication, division, and power, the corresponding operators start with a dot."
            ],
            "id": "df5ca10c",
            "metadata": {}
        },
        {
            "outputs": [],
            "cell_type": "code",
            "source": [
                "C = -A;"
            ],
            "id": "f9050c58",
            "metadata": {},
            "execution_count": 21
        },
        {
            "cell_type": "markdown",
            "source": [
                "Because both matrices are $3\\times 5$, `A * C` would be an error here, but elementwise operations are fine."
            ],
            "id": "8649161f",
            "metadata": {}
        },
        {
            "outputs": [
                {
                    "output_type": "execute_result",
                    "data": {
                        "text/plain": [
                            "elementwise = 3×5 double\n",
                            "1.0e+03 *\n",
                            "\n",
                            "   -0.0010   -0.0040   -0.0090   -0.0160   -0.0250\n",
                            "   -2.5000   -1.6000   -0.9000   -0.4000   -0.1000\n",
                            "   -0.0099   -0.0020   -0.0074   -0.0026   -0.0012\n"
                        ],
                        "text/html": [
                            "<html><body><pre>elementwise = 3×5 double\n",
                            "1.0e+03 *\n",
                            "\n",
                            "   -0.0010   -0.0040   -0.0090   -0.0160   -0.0250\n",
                            "   -2.5000   -1.6000   -0.9000   -0.4000   -0.1000\n",
                            "   -0.0099   -0.0020   -0.0074   -0.0026   -0.0012\n",
                            "</pre></body></html>"
                        ]
                    },
                    "metadata": {},
                    "execution_count": 22
                }
            ],
            "cell_type": "code",
            "source": [
                "elementwise = A .* C"
            ],
            "id": "5daf798b",
            "metadata": {},
            "execution_count": 22
        },
        {
            "cell_type": "markdown",
            "source": [
                "```{index} MATLAB; broadcasting\n",
                "```\n",
                "\n",
                "The two operands of a dot operator have to have the same size—unless one is a scalar, in which case it is expanded or *broadcast* to be the same size as the other operand."
            ],
            "id": "ff23b1ee",
            "metadata": {}
        },
        {
            "outputs": [
                {
                    "output_type": "execute_result",
                    "data": {
                        "text/plain": [
                            "x_to_two = 1×5 double\n",
                            "     9     9     0     1     0\n"
                        ],
                        "text/html": [
                            "<html><body><pre>x_to_two = 1×5 double\n",
                            "     9     9     0     1     0\n",
                            "</pre></body></html>"
                        ]
                    },
                    "metadata": {},
                    "execution_count": 23
                }
            ],
            "cell_type": "code",
            "source": [
                "x_to_two = x .^ 2"
            ],
            "id": "9485b2f7",
            "metadata": {},
            "execution_count": 23
        },
        {
            "outputs": [
                {
                    "output_type": "execute_result",
                    "data": {
                        "text/plain": [
                            "two_to_x = 1×5 double\n",
                            "     8     8     1     2     1\n"
                        ],
                        "text/html": [
                            "<html><body><pre>two_to_x = 1×5 double\n",
                            "     8     8     1     2     1\n",
                            "</pre></body></html>"
                        ]
                    },
                    "metadata": {},
                    "execution_count": 24
                }
            ],
            "cell_type": "code",
            "source": [
                "two_to_x = 2 .^ x"
            ],
            "id": "fb80aaa0",
            "metadata": {},
            "execution_count": 24
        },
        {
            "cell_type": "markdown",
            "source": [
                "```{tip}\n",
                ":class: dropdown\n",
                "Most of the mathematical functions, such as cos, sin, log, exp, and sqrt, can operate elementwise on vectors and matrices. \n",
                "```"
            ],
            "id": "d3093c7e",
            "metadata": {}
        },
        {
            "outputs": [
                {
                    "output_type": "execute_result",
                    "data": {
                        "text/plain": [
                            "ans = 1×5 double\n",
                            "    -1    -1     1    -1     1\n"
                        ],
                        "text/html": [
                            "<html><body><pre>ans = 1×5 double\n",
                            "    -1    -1     1    -1     1\n",
                            "</pre></body></html>"
                        ]
                    },
                    "metadata": {},
                    "execution_count": 25
                }
            ],
            "cell_type": "code",
            "source": [
                "cos(pi * x) "
            ],
            "id": "1cceb845",
            "metadata": {},
            "execution_count": 25
        }
    ],
    "nbformat_minor": 5,
    "metadata": {
        "language_info": {
            "file_extension": ".m",
            "mimetype": "text/x-matlab",
            "name": "matlab"
        },
        "kernelspec": {
            "name": "jupyter_matlab_kernel",
            "display_name": "MATLAB Kernel",
            "language": "matlab"
        },
        "numbering": {
            "headings": false
        }
    },
    "nbformat": 4
}
