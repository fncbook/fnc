{
 "cells": [
  {
   "cell_type": "code",
   "execution_count": 1,
   "id": "9c67f336",
   "metadata": {
    "tags": [
     "remove-cell"
    ]
   },
   "outputs": [],
   "source": [
    "cd  /Users/driscoll/Documents/GitHub/fnc/matlab\n",
    "FNC_init"
   ]
  },
  {
   "cell_type": "markdown",
   "id": "86bbb6a6",
   "metadata": {},
   "source": [
    "[**Demo %s**](#demo-matrices-basics)\n",
    "\n",
    ":::{index} ! MATLAB; size, ! MATLAB; length\n",
    ":::\n",
    "\n",
    "In MATLAB, every numerical value is treated like a matrix. A matrix with one row or one column is interpreted as a vector, and a $1\\times 1$ matrix is interpreted as a scalar. \n",
    "\n",
    "Square brackets are used to enclose elements of a matrix or vector. Use spaces for horizontal concatenation, and semicolons or new lines to indicate vertical concatenation.\n",
    "```{tip}\n",
    ":class: dropdown\n",
    "The `size` function returns the number of rows and columns in a matrix. Use `length` to get the number of elements in a vector or matrix.\n",
    "```"
   ]
  },
  {
   "cell_type": "code",
   "execution_count": 2,
   "id": "8b970e17",
   "metadata": {},
   "outputs": [
    {
     "data": {
      "text/html": [
       "<html><body><pre>A = 3×5 double\n",
       "    1.0000    2.0000    3.0000    4.0000    5.0000\n",
       "   50.0000   40.0000   30.0000   20.0000   10.0000\n",
       "    3.1416    1.4142    2.7183    1.6180    1.0986\n",
       "</pre></body></html>"
      ],
      "text/plain": [
       "A = 3×5 double\n",
       "    1.0000    2.0000    3.0000    4.0000    5.0000\n",
       "   50.0000   40.0000   30.0000   20.0000   10.0000\n",
       "    3.1416    1.4142    2.7183    1.6180    1.0986\n"
      ]
     },
     "execution_count": 2,
     "metadata": {},
     "output_type": "execute_result"
    }
   ],
   "source": [
    "A = [ \n",
    "    1       2      3             4      5; \n",
    "    50     40     30            20     10\n",
    "    pi sqrt(2) exp(1) (1+sqrt(5))/2 log(3) \n",
    "    ]"
   ]
  },
  {
   "cell_type": "code",
   "execution_count": 3,
   "id": "ab0ed822",
   "metadata": {},
   "outputs": [
    {
     "name": "stderr",
     "output_type": "stream",
     "text": [
      "Unrecognized function or variable 'm'."
     ]
    }
   ],
   "source": [
    "m, n = size(A)"
   ]
  },
  {
   "cell_type": "code",
   "execution_count": 4,
   "id": "08414be9",
   "metadata": {},
   "outputs": [
    {
     "data": {
      "text/html": [
       "<html><body><pre>ans = 1×2 double\n",
       "     1     5\n",
       "</pre></body></html>"
      ],
      "text/plain": [
       "ans = 1×2 double\n",
       "     1     5\n"
      ]
     },
     "execution_count": 4,
     "metadata": {},
     "output_type": "execute_result"
    }
   ],
   "source": [
    "x = [ 3, 3, 0, 1, 0 ];   % row vector\n",
    "size(x)"
   ]
  },
  {
   "cell_type": "markdown",
   "id": "ad561dee",
   "metadata": {},
   "source": [
    "Concatenated elements within brackets may be matrices or vectors for a block representation, as long as all the block sizes are compatible."
   ]
  },
  {
   "cell_type": "code",
   "execution_count": 5,
   "id": "e09cd817",
   "metadata": {},
   "outputs": [
    {
     "data": {
      "text/html": [
       "<html><body><pre>ans = 1×10 double\n",
       "     3     3     0     1     0     3     3     0     1     0\n",
       "</pre></body></html>"
      ],
      "text/plain": [
       "ans = 1×10 double\n",
       "     3     3     0     1     0     3     3     0     1     0\n"
      ]
     },
     "execution_count": 5,
     "metadata": {},
     "output_type": "execute_result"
    }
   ],
   "source": [
    "[ x  x ]"
   ]
  },
  {
   "cell_type": "code",
   "execution_count": 6,
   "id": "78c8497d",
   "metadata": {},
   "outputs": [
    {
     "data": {
      "text/html": [
       "<html><body><pre>ans = 2×5 double\n",
       "     3     3     0     1     0\n",
       "     3     3     0     1     0\n",
       "</pre></body></html>"
      ],
      "text/plain": [
       "ans = 2×5 double\n",
       "     3     3     0     1     0\n",
       "     3     3     0     1     0\n"
      ]
     },
     "execution_count": 6,
     "metadata": {},
     "output_type": "execute_result"
    }
   ],
   "source": [
    "[ x; x ]"
   ]
  },
  {
   "cell_type": "markdown",
   "id": "2d5abb79",
   "metadata": {},
   "source": [
    "```{index} ! MATLAB; zeros, ! MATLAB; ones\n",
    "```\n",
    "\n",
    "The `zeros` and `ones` functions construct matrices with entries all zero or one, respectively."
   ]
  },
  {
   "cell_type": "code",
   "execution_count": 7,
   "id": "a948b085",
   "metadata": {},
   "outputs": [
    {
     "data": {
      "text/html": [
       "<html><body><pre>B = 3×3 double\n",
       "     0     0     1\n",
       "     0     0     1\n",
       "     0     0     1\n",
       "</pre></body></html>"
      ],
      "text/plain": [
       "B = 3×3 double\n",
       "     0     0     1\n",
       "     0     0     1\n",
       "     0     0     1\n"
      ]
     },
     "execution_count": 7,
     "metadata": {},
     "output_type": "execute_result"
    }
   ],
   "source": [
    "B = [ zeros(3, 2) ones(3, 1) ]"
   ]
  },
  {
   "cell_type": "markdown",
   "id": "1c32213a",
   "metadata": {},
   "source": [
    "```{index} ! MATLAB; transpose, ! MATLAB; adjoint, ! MATLAB; \\'\n",
    "```\n",
    "\n",
    "A single quote `'` after a matrix returns its adjoint. For real matrices, this is the transpose; for complex-valued matrices, the elements are also conjugated."
   ]
  },
  {
   "cell_type": "code",
   "execution_count": 8,
   "id": "8c319364",
   "metadata": {},
   "outputs": [
    {
     "data": {
      "text/html": [
       "<html><body><pre>ans = 5×3 double\n",
       "    1.0000   50.0000    3.1416\n",
       "    2.0000   40.0000    1.4142\n",
       "    3.0000   30.0000    2.7183\n",
       "    4.0000   20.0000    1.6180\n",
       "    5.0000   10.0000    1.0986\n",
       "</pre></body></html>"
      ],
      "text/plain": [
       "ans = 5×3 double\n",
       "    1.0000   50.0000    3.1416\n",
       "    2.0000   40.0000    1.4142\n",
       "    3.0000   30.0000    2.7183\n",
       "    4.0000   20.0000    1.6180\n",
       "    5.0000   10.0000    1.0986\n"
      ]
     },
     "execution_count": 8,
     "metadata": {},
     "output_type": "execute_result"
    }
   ],
   "source": [
    "A'"
   ]
  },
  {
   "cell_type": "markdown",
   "id": "e22324d7",
   "metadata": {},
   "source": [
    "```{index} ! MATLAB; linspace, ! MATLAB; \\:\n",
    "```\n",
    "\n",
    "There are many convenient shorthand ways of building vectors and matrices other than entering all of their entries directly or in a loop. To get a range with evenly spaced entries between two endpoints, you have two options. One is to use a colon `:`."
   ]
  },
  {
   "cell_type": "code",
   "execution_count": 9,
   "id": "e790e792",
   "metadata": {},
   "outputs": [
    {
     "data": {
      "text/html": [
       "<html><body><pre>y = 1×4 double\n",
       "     1     2     3     4\n",
       "</pre></body></html>"
      ],
      "text/plain": [
       "y = 1×4 double\n",
       "     1     2     3     4\n"
      ]
     },
     "execution_count": 9,
     "metadata": {},
     "output_type": "execute_result"
    }
   ],
   "source": [
    "y = 1:4              % start:stop"
   ]
  },
  {
   "cell_type": "code",
   "execution_count": 10,
   "id": "5d8213ad",
   "metadata": {},
   "outputs": [
    {
     "data": {
      "text/html": [
       "<html><body><pre>z = 1×5 double\n",
       "     0     3     6     9    12\n",
       "</pre></body></html>"
      ],
      "text/plain": [
       "z = 1×5 double\n",
       "     0     3     6     9    12\n"
      ]
     },
     "execution_count": 10,
     "metadata": {},
     "output_type": "execute_result"
    }
   ],
   "source": [
    "z = 0:3:12           % start:step:stop"
   ]
  },
  {
   "cell_type": "markdown",
   "id": "e68470da",
   "metadata": {},
   "source": [
    "Instead of specifying the step size, you can give the number of points in the range if you use `linspace`."
   ]
  },
  {
   "cell_type": "code",
   "execution_count": 11,
   "id": "bd8f134e",
   "metadata": {},
   "outputs": [
    {
     "data": {
      "text/html": [
       "<html><body><pre>s = 1×5 double\n",
       "   -1.0000   -0.5000         0    0.5000    1.0000\n",
       "</pre></body></html>"
      ],
      "text/plain": [
       "s = 1×5 double\n",
       "   -1.0000   -0.5000         0    0.5000    1.0000\n"
      ]
     },
     "execution_count": 11,
     "metadata": {},
     "output_type": "execute_result"
    }
   ],
   "source": [
    "s = linspace(-1, 1, 5)    % row result"
   ]
  },
  {
   "cell_type": "markdown",
   "id": "4a643b0d",
   "metadata": {},
   "source": [
    ":::{index} ! MATLAB; end, ! MATLAB; indexing arrays\n",
    ":::\n",
    "\n",
    "Accessing an element is done by giving one (for a vector) or two (for a matrix) index values within parentheses. \n",
    "```{tip}\n",
    ":class: dropdown\n",
    "The `end` keyword refers to the last element in a dimension. It saves you from having to compute and store the size of the matrix first.\n",
    "```"
   ]
  },
  {
   "cell_type": "code",
   "execution_count": 12,
   "id": "12c53e63",
   "metadata": {},
   "outputs": [
    {
     "data": {
      "text/html": [
       "<html><body><pre>a = 20</pre></body></html>"
      ],
      "text/plain": [
       "a = 20"
      ]
     },
     "execution_count": 12,
     "metadata": {},
     "output_type": "execute_result"
    }
   ],
   "source": [
    "a = A(2, end-1)"
   ]
  },
  {
   "cell_type": "code",
   "execution_count": 13,
   "id": "bb83db71",
   "metadata": {},
   "outputs": [
    {
     "data": {
      "text/html": [
       "<html><body><pre>ans = 3</pre></body></html>"
      ],
      "text/plain": [
       "ans = 3"
      ]
     },
     "execution_count": 13,
     "metadata": {},
     "output_type": "execute_result"
    }
   ],
   "source": [
    "x(2)"
   ]
  },
  {
   "cell_type": "markdown",
   "id": "73be3913",
   "metadata": {},
   "source": [
    "The indices can be vectors or ranges, in which case a block of the matrix is accessed."
   ]
  },
  {
   "cell_type": "code",
   "execution_count": 14,
   "id": "0946ad72",
   "metadata": {},
   "outputs": [
    {
     "data": {
      "text/html": [
       "<html><body><pre>ans = 2×3 double\n",
       "     3     4     5\n",
       "    30    20    10\n",
       "</pre></body></html>"
      ],
      "text/plain": [
       "ans = 2×3 double\n",
       "     3     4     5\n",
       "    30    20    10\n"
      ]
     },
     "execution_count": 14,
     "metadata": {},
     "output_type": "execute_result"
    }
   ],
   "source": [
    "A(1:2, end-2:end)    % first two rows, last three columns"
   ]
  },
  {
   "cell_type": "markdown",
   "id": "c506f290",
   "metadata": {},
   "source": [
    "```{index} MATLAB; \\:\n",
    "```\n",
    "\n",
    "If a dimension has only the index `:` (a colon), then it refers to all the entries in that dimension of the matrix."
   ]
  },
  {
   "cell_type": "code",
   "execution_count": 15,
   "id": "7bbc6363",
   "metadata": {},
   "outputs": [
    {
     "data": {
      "text/html": [
       "<html><body><pre>ans = 3×3 double\n",
       "    1.0000    3.0000    5.0000\n",
       "   50.0000   30.0000   10.0000\n",
       "    3.1416    2.7183    1.0986\n",
       "</pre></body></html>"
      ],
      "text/plain": [
       "ans = 3×3 double\n",
       "    1.0000    3.0000    5.0000\n",
       "   50.0000   30.0000   10.0000\n",
       "    3.1416    2.7183    1.0986\n"
      ]
     },
     "execution_count": 15,
     "metadata": {},
     "output_type": "execute_result"
    }
   ],
   "source": [
    "A(:, 1:2:end)        % all of the odd columns"
   ]
  },
  {
   "cell_type": "markdown",
   "id": "a9449e78",
   "metadata": {},
   "source": [
    ":::{index} ! MATLAB; diag\n",
    ":::\n",
    "\n",
    "The matrix and vector senses of addition, subtraction, scalar multiplication, multiplication, and power are all handled by the usual symbols. \n",
    "```{tip}\n",
    ":class: dropdown\n",
    "Use `diag` to construct a matrix by its diagonals. A more general syntax puts elements on super- or subdiagonals.\n",
    "```"
   ]
  },
  {
   "cell_type": "code",
   "execution_count": 16,
   "id": "80a07c33",
   "metadata": {},
   "outputs": [
    {
     "data": {
      "text/html": [
       "<html><body><pre>B = 3×3 double\n",
       "    -1     0     0\n",
       "     0     0     0\n",
       "     0     0    -5\n",
       "</pre></body></html>"
      ],
      "text/plain": [
       "B = 3×3 double\n",
       "    -1     0     0\n",
       "     0     0     0\n",
       "     0     0    -5\n"
      ]
     },
     "execution_count": 16,
     "metadata": {},
     "output_type": "execute_result"
    }
   ],
   "source": [
    "B = diag([-1, 0, -5])   % create a diagonal matrix"
   ]
  },
  {
   "cell_type": "code",
   "execution_count": 17,
   "id": "ac8258d7",
   "metadata": {},
   "outputs": [
    {
     "data": {
      "text/html": [
       "<html><body><pre>ans = 1×2 double\n",
       "     3     5\n",
       "</pre></body></html>"
      ],
      "text/plain": [
       "ans = 1×2 double\n",
       "     3     5\n"
      ]
     },
     "execution_count": 17,
     "metadata": {},
     "output_type": "execute_result"
    },
    {
     "data": {
      "text/html": [
       "<html><body><pre>ans = 1×2 double\n",
       "     3     3\n",
       "</pre></body></html>"
      ],
      "text/plain": [
       "ans = 1×2 double\n",
       "     3     3\n"
      ]
     },
     "execution_count": 17,
     "metadata": {},
     "output_type": "execute_result"
    }
   ],
   "source": [
    "size(A)\n",
    "size(B)"
   ]
  },
  {
   "cell_type": "code",
   "execution_count": 18,
   "id": "b39defa2",
   "metadata": {},
   "outputs": [
    {
     "data": {
      "text/html": [
       "<html><body><pre>BA = 3×5 double\n",
       "   -1.0000   -2.0000   -3.0000   -4.0000   -5.0000\n",
       "         0         0         0         0         0\n",
       "  -15.7080   -7.0711  -13.5914   -8.0902   -5.4931\n",
       "</pre></body></html>"
      ],
      "text/plain": [
       "BA = 3×5 double\n",
       "   -1.0000   -2.0000   -3.0000   -4.0000   -5.0000\n",
       "         0         0         0         0         0\n",
       "  -15.7080   -7.0711  -13.5914   -8.0902   -5.4931\n"
      ]
     },
     "execution_count": 18,
     "metadata": {},
     "output_type": "execute_result"
    }
   ],
   "source": [
    "BA = B * A     % matrix product"
   ]
  },
  {
   "cell_type": "markdown",
   "id": "0f24a235",
   "metadata": {},
   "source": [
    "`A * B` causes an error here, because the dimensions aren't compatible.\n",
    "```{tip}\n",
    ":class: dropdown\n",
    "Errors are formally called *exceptions* in Julia.\n",
    "```"
   ]
  },
  {
   "cell_type": "code",
   "execution_count": 19,
   "id": "16191523",
   "metadata": {
    "tags": [
     "raises-exception"
    ]
   },
   "outputs": [
    {
     "name": "stderr",
     "output_type": "stream",
     "text": [
      "Error using *\n",
      "Incorrect dimensions for matrix multiplication. Check that the number of columns in the first matrix matches the number of rows in the second matrix. To operate on each element of the matrix individually, use TIMES (.*) for elementwise multiplication."
     ]
    }
   ],
   "source": [
    "A * B    % throws an error"
   ]
  },
  {
   "cell_type": "markdown",
   "id": "6e32f87f",
   "metadata": {},
   "source": [
    "A square matrix raised to an integer power is the same as repeated matrix multiplication."
   ]
  },
  {
   "cell_type": "code",
   "execution_count": 20,
   "id": "7ea1fbcf",
   "metadata": {},
   "outputs": [
    {
     "data": {
      "text/html": [
       "<html><body><pre>ans = 3×3 double\n",
       "    -1     0     0\n",
       "     0     0     0\n",
       "     0     0  -125\n",
       "</pre></body></html>"
      ],
      "text/plain": [
       "ans = 3×3 double\n",
       "    -1     0     0\n",
       "     0     0     0\n",
       "     0     0  -125\n"
      ]
     },
     "execution_count": 20,
     "metadata": {},
     "output_type": "execute_result"
    }
   ],
   "source": [
    "B^3    % same as B*B*B"
   ]
  },
  {
   "cell_type": "markdown",
   "id": "df5ca10c",
   "metadata": {},
   "source": [
    "Sometimes one instead wants to treat a matrix or vector as a mere array and simply apply a single operation to each element of it. For multiplication, division, and power, the corresponding operators start with a dot."
   ]
  },
  {
   "cell_type": "code",
   "execution_count": 21,
   "id": "f9050c58",
   "metadata": {},
   "outputs": [],
   "source": [
    "C = -A;"
   ]
  },
  {
   "cell_type": "markdown",
   "id": "8649161f",
   "metadata": {},
   "source": [
    "Because both matrices are $3\\times 5$, `A * C` would be an error here, but elementwise operations are fine."
   ]
  },
  {
   "cell_type": "code",
   "execution_count": 22,
   "id": "5daf798b",
   "metadata": {},
   "outputs": [
    {
     "data": {
      "text/html": [
       "<html><body><pre>elementwise = 3×5 double\n",
       "1.0e+03 *\n",
       "\n",
       "   -0.0010   -0.0040   -0.0090   -0.0160   -0.0250\n",
       "   -2.5000   -1.6000   -0.9000   -0.4000   -0.1000\n",
       "   -0.0099   -0.0020   -0.0074   -0.0026   -0.0012\n",
       "</pre></body></html>"
      ],
      "text/plain": [
       "elementwise = 3×5 double\n",
       "1.0e+03 *\n",
       "\n",
       "   -0.0010   -0.0040   -0.0090   -0.0160   -0.0250\n",
       "   -2.5000   -1.6000   -0.9000   -0.4000   -0.1000\n",
       "   -0.0099   -0.0020   -0.0074   -0.0026   -0.0012\n"
      ]
     },
     "execution_count": 22,
     "metadata": {},
     "output_type": "execute_result"
    }
   ],
   "source": [
    "elementwise = A .* C"
   ]
  },
  {
   "cell_type": "markdown",
   "id": "ff23b1ee",
   "metadata": {},
   "source": [
    "```{index} MATLAB; broadcasting\n",
    "```\n",
    "\n",
    "The two operands of a dot operator have to have the same size—unless one is a scalar, in which case it is expanded or *broadcast* to be the same size as the other operand."
   ]
  },
  {
   "cell_type": "code",
   "execution_count": 23,
   "id": "9485b2f7",
   "metadata": {},
   "outputs": [
    {
     "data": {
      "text/html": [
       "<html><body><pre>x_to_two = 1×5 double\n",
       "     9     9     0     1     0\n",
       "</pre></body></html>"
      ],
      "text/plain": [
       "x_to_two = 1×5 double\n",
       "     9     9     0     1     0\n"
      ]
     },
     "execution_count": 23,
     "metadata": {},
     "output_type": "execute_result"
    }
   ],
   "source": [
    "x_to_two = x .^ 2"
   ]
  },
  {
   "cell_type": "code",
   "execution_count": 24,
   "id": "fb80aaa0",
   "metadata": {},
   "outputs": [
    {
     "data": {
      "text/html": [
       "<html><body><pre>two_to_x = 1×5 double\n",
       "     8     8     1     2     1\n",
       "</pre></body></html>"
      ],
      "text/plain": [
       "two_to_x = 1×5 double\n",
       "     8     8     1     2     1\n"
      ]
     },
     "execution_count": 24,
     "metadata": {},
     "output_type": "execute_result"
    }
   ],
   "source": [
    "two_to_x = 2 .^ x"
   ]
  },
  {
   "cell_type": "markdown",
   "id": "d3093c7e",
   "metadata": {},
   "source": [
    "```{tip}\n",
    ":class: dropdown\n",
    "Most of the mathematical functions, such as cos, sin, log, exp, and sqrt, can operate elementwise on vectors and matrices. \n",
    "```"
   ]
  },
  {
   "cell_type": "code",
   "execution_count": 25,
   "id": "1cceb845",
   "metadata": {},
   "outputs": [
    {
     "data": {
      "text/html": [
       "<html><body><pre>ans = 1×5 double\n",
       "    -1    -1     1    -1     1\n",
       "</pre></body></html>"
      ],
      "text/plain": [
       "ans = 1×5 double\n",
       "    -1    -1     1    -1     1\n"
      ]
     },
     "execution_count": 25,
     "metadata": {},
     "output_type": "execute_result"
    }
   ],
   "source": [
    "cos(pi * x) "
   ]
  }
 ],
 "metadata": {
  "kernelspec": {
   "display_name": "MATLAB Kernel",
   "language": "matlab",
   "name": "jupyter_matlab_kernel"
  },
  "language_info": {
   "file_extension": ".m",
   "mimetype": "text/x-matlab",
   "name": "matlab"
  },
  "numbering": {
   "headings": false
  }
 },
 "nbformat": 4,
 "nbformat_minor": 5
}
