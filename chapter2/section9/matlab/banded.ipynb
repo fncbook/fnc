{
    "cells": [
        {
            "cell_type": "markdown",
            "source": [
                "[**Demo %s**](#demo-structure-banded)\n",
                "\n",
                "```{index} ! MATLAB; fill, MATLAB; diagm, ! MATLAB; diag\n",
                "```\n",
                "\n",
                "Here is a small tridiagonal matrix. Note that there is one fewer element on the super- and subdiagonals than on the main diagonal."
            ],
            "id": "7eaa41ec",
            "metadata": {}
        },
        {
            "outputs": [],
            "cell_type": "code",
            "source": [
                "A = [ 2 -1  0  0  0  0\n",
                "      4  2 -1  0  0  0\n",
                "      0  3  0 -1  0  0\n",
                "      0  0  2  2 -1  0\n",
                "      0  0  0  1  1 -1\n",
                "      0  0  0  0  0  2 ];"
            ],
            "id": "ccc13d2c",
            "metadata": {},
            "execution_count": 2
        },
        {
            "cell_type": "markdown",
            "source": [
                "```{index} ! MATLAB; diag\n",
                "```\n",
                "\n",
                "We can extract the elements on any diagonal using the `diag` function. The main or central diagonal is numbered zero, above and to the right of that is positive, and below and to the left is negative.\n",
                "```{tip}\n",
                ":class: dropdown\n",
                "The `diag` function extracts the elements from a specified diagonal of a matrix.\n",
                "```"
            ],
            "id": "d54b3dbe",
            "metadata": {}
        },
        {
            "outputs": [
                {
                    "output_type": "execute_result",
                    "data": {
                        "text/plain": [
                            "diag_main = 1×6 double\n",
                            "     2     2     0     2     1     2\n"
                        ],
                        "text/html": [
                            "<html><body><pre>diag_main = 1×6 double\n",
                            "     2     2     0     2     1     2\n",
                            "</pre></body></html>"
                        ]
                    },
                    "metadata": {},
                    "execution_count": 3
                },
                {
                    "output_type": "execute_result",
                    "data": {
                        "text/plain": [
                            "diag_plusone = 1×5 double\n",
                            "    -1    -1    -1    -1    -1\n"
                        ],
                        "text/html": [
                            "<html><body><pre>diag_plusone = 1×5 double\n",
                            "    -1    -1    -1    -1    -1\n",
                            "</pre></body></html>"
                        ]
                    },
                    "metadata": {},
                    "execution_count": 3
                },
                {
                    "output_type": "execute_result",
                    "data": {
                        "text/plain": [
                            "diag_minusone = 1×5 double\n",
                            "     4     3     2     1     0\n"
                        ],
                        "text/html": [
                            "<html><body><pre>diag_minusone = 1×5 double\n",
                            "     4     3     2     1     0\n",
                            "</pre></body></html>"
                        ]
                    },
                    "metadata": {},
                    "execution_count": 3
                }
            ],
            "cell_type": "code",
            "source": [
                "diag_main = diag(A, 0)'\n",
                "diag_plusone = diag(A, 1)'\n",
                "diag_minusone = diag(A,-1)'"
            ],
            "id": "305d8fbe",
            "metadata": {},
            "execution_count": 3
        },
        {
            "cell_type": "markdown",
            "source": [
                "% We can also put whatever numbers we like onto any diagonal with `diag`."
            ],
            "id": "08fd3761",
            "metadata": {}
        },
        {
            "outputs": [
                {
                    "output_type": "execute_result",
                    "data": {
                        "text/plain": [
                            "A = 6×6 double\n",
                            "     2    -1     5     0     0     0\n",
                            "     4     2    -1     8     0     0\n",
                            "     0     3     0    -1     6     0\n",
                            "     0     0     2     2    -1     7\n",
                            "     0     0     0     1     1    -1\n",
                            "     0     0     0     0     0     2\n"
                        ],
                        "text/html": [
                            "<html><body><pre>A = 6×6 double\n",
                            "     2    -1     5     0     0     0\n",
                            "     4     2    -1     8     0     0\n",
                            "     0     3     0    -1     6     0\n",
                            "     0     0     2     2    -1     7\n",
                            "     0     0     0     1     1    -1\n",
                            "     0     0     0     0     0     2\n",
                            "</pre></body></html>"
                        ]
                    },
                    "metadata": {},
                    "execution_count": 4
                }
            ],
            "cell_type": "code",
            "source": [
                "A = A + diag([5 8 6 7], 2)"
            ],
            "id": "2ff006da",
            "metadata": {},
            "execution_count": 4
        },
        {
            "cell_type": "markdown",
            "source": [
                "The lower and upper bandwidths of $\\mathbf{A}$ are repeated in the factors from the unpivoted LU factorization."
            ],
            "id": "dc46a468",
            "metadata": {}
        },
        {
            "outputs": [
                {
                    "output_type": "execute_result",
                    "data": {
                        "text/plain": [
                            "L = 6×6 double\n",
                            "    1.0000         0         0         0         0         0\n",
                            "    2.0000    1.0000         0         0         0         0\n",
                            "         0    0.7500    1.0000         0         0         0\n",
                            "         0         0    0.2424    1.0000         0         0\n",
                            "         0         0         0    0.2705    1.0000         0\n",
                            "         0         0         0         0         0    1.0000\n"
                        ],
                        "text/html": [
                            "<html><body><pre>L = 6×6 double\n",
                            "    1.0000         0         0         0         0         0\n",
                            "    2.0000    1.0000         0         0         0         0\n",
                            "         0    0.7500    1.0000         0         0         0\n",
                            "         0         0    0.2424    1.0000         0         0\n",
                            "         0         0         0    0.2705    1.0000         0\n",
                            "         0         0         0         0         0    1.0000\n",
                            "</pre></body></html>"
                        ]
                    },
                    "metadata": {},
                    "execution_count": 5
                },
                {
                    "output_type": "execute_result",
                    "data": {
                        "text/plain": [
                            "U = 6×6 double\n",
                            "    2.0000   -1.0000    5.0000         0         0         0\n",
                            "         0    4.0000  -11.0000    8.0000         0         0\n",
                            "         0         0    8.2500   -7.0000    6.0000         0\n",
                            "         0         0         0    3.6970   -2.4545    7.0000\n",
                            "         0         0         0         0    1.6639   -2.8934\n",
                            "         0         0         0         0         0    2.0000\n"
                        ],
                        "text/html": [
                            "<html><body><pre>U = 6×6 double\n",
                            "    2.0000   -1.0000    5.0000         0         0         0\n",
                            "         0    4.0000  -11.0000    8.0000         0         0\n",
                            "         0         0    8.2500   -7.0000    6.0000         0\n",
                            "         0         0         0    3.6970   -2.4545    7.0000\n",
                            "         0         0         0         0    1.6639   -2.8934\n",
                            "         0         0         0         0         0    2.0000\n",
                            "</pre></body></html>"
                        ]
                    },
                    "metadata": {},
                    "execution_count": 5
                }
            ],
            "cell_type": "code",
            "source": [
                "[L, U] = lufact(A)"
            ],
            "id": "93f14514",
            "metadata": {},
            "execution_count": 5
        }
    ],
    "nbformat_minor": 5,
    "metadata": {
        "language_info": {
            "file_extension": ".m",
            "mimetype": "text/x-matlab",
            "name": "matlab"
        },
        "kernelspec": {
            "name": "jupyter_matlab_kernel",
            "display_name": "MATLAB Kernel",
            "language": "matlab"
        },
        "numbering": {
            "headings": false
        }
    },
    "nbformat": 4
}
