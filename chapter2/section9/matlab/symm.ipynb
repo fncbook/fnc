{
    "cells": [
        {
            "cell_type": "markdown",
            "source": [
                "[**Demo %s**](#demo-structure-symm)\n",
                "\n",
                "\n",
                "We begin with a symmetric $\\mathbf{A}$."
            ],
            "id": "c1d7dfcb",
            "metadata": {}
        },
        {
            "outputs": [],
            "cell_type": "code",
            "source": [
                "A_1 = [ 2     4     4     2\n",
                "        4     5     8    -5\n",
                "        4     8     6     2\n",
                "        2    -5     2   -26 ];"
            ],
            "id": "dde97042",
            "metadata": {},
            "execution_count": 2
        },
        {
            "cell_type": "markdown",
            "source": [
                "We won't use pivoting, so the pivot element is at position (1,1). This will become the first element on the diagonal of $\\mathbf{D}$. Then we divide by that pivot to get the first column of $\\mathbf{L}$."
            ],
            "id": "4879a42f",
            "metadata": {}
        },
        {
            "outputs": [
                {
                    "output_type": "execute_result",
                    "data": {
                        "text/plain": [
                            "A_2 = 4×4 double\n",
                            "     0     0     0     0\n",
                            "     0    -3     0    -9\n",
                            "     0     0    -2    -2\n",
                            "     0    -9    -2   -28\n"
                        ],
                        "text/html": [
                            "<html><body><pre>A_2 = 4×4 double\n",
                            "     0     0     0     0\n",
                            "     0    -3     0    -9\n",
                            "     0     0    -2    -2\n",
                            "     0    -9    -2   -28\n",
                            "</pre></body></html>"
                        ]
                    },
                    "metadata": {},
                    "execution_count": 3
                }
            ],
            "cell_type": "code",
            "source": [
                "L = eye(4);\n",
                "d = zeros(4, 1);\n",
                "d(1) = A_1(1, 1);\n",
                "L(:, 1) = A_1(:, 1) / d(1);\n",
                "A_2 = A_1 - d(1) * L(:, 1) * L(:, 1)'"
            ],
            "id": "f7752aba",
            "metadata": {},
            "execution_count": 3
        },
        {
            "cell_type": "markdown",
            "source": [
                "We are now set up the same way for the submatrix in rows and columns 2–4."
            ],
            "id": "552cf8dc",
            "metadata": {}
        },
        {
            "outputs": [
                {
                    "output_type": "execute_result",
                    "data": {
                        "text/plain": [
                            "A_3 = 4×4 double\n",
                            "     0     0     0     0\n",
                            "     0     0     0     0\n",
                            "     0     0    -2    -2\n",
                            "     0     0    -2    -1\n"
                        ],
                        "text/html": [
                            "<html><body><pre>A_3 = 4×4 double\n",
                            "     0     0     0     0\n",
                            "     0     0     0     0\n",
                            "     0     0    -2    -2\n",
                            "     0     0    -2    -1\n",
                            "</pre></body></html>"
                        ]
                    },
                    "metadata": {},
                    "execution_count": 4
                }
            ],
            "cell_type": "code",
            "source": [
                "d(2) = A_2(2, 2);\n",
                "L(:, 2) = A_2(:, 2) / d(2);\n",
                "A_3 = A_2 - d(2) * L(:, 2) * L(:, 2)'"
            ],
            "id": "893ba09e",
            "metadata": {},
            "execution_count": 4
        },
        {
            "cell_type": "markdown",
            "source": [
                "We continue working our way down the diagonal."
            ],
            "id": "c6645552",
            "metadata": {}
        },
        {
            "outputs": [
                {
                    "output_type": "execute_result",
                    "data": {
                        "text/plain": [
                            "A_4 = 4×4 double\n",
                            "     0     0     0     0\n",
                            "     0     0     0     0\n",
                            "     0     0     0     0\n",
                            "     0     0     0     1\n"
                        ],
                        "text/html": [
                            "<html><body><pre>A_4 = 4×4 double\n",
                            "     0     0     0     0\n",
                            "     0     0     0     0\n",
                            "     0     0     0     0\n",
                            "     0     0     0     1\n",
                            "</pre></body></html>"
                        ]
                    },
                    "metadata": {},
                    "execution_count": 5
                },
                {
                    "output_type": "execute_result",
                    "data": {
                        "text/plain": [
                            "d = 4×1 double\n",
                            "     2\n",
                            "    -3\n",
                            "    -2\n",
                            "     1\n"
                        ],
                        "text/html": [
                            "<html><body><pre>d = 4×1 double\n",
                            "     2\n",
                            "    -3\n",
                            "    -2\n",
                            "     1\n",
                            "</pre></body></html>"
                        ]
                    },
                    "metadata": {},
                    "execution_count": 5
                },
                {
                    "output_type": "execute_result",
                    "data": {
                        "text/plain": [
                            "L = 4×4 double\n",
                            "     1     0     0     0\n",
                            "     2     1     0     0\n",
                            "     2     0     1     0\n",
                            "     1     3     1     1\n"
                        ],
                        "text/html": [
                            "<html><body><pre>L = 4×4 double\n",
                            "     1     0     0     0\n",
                            "     2     1     0     0\n",
                            "     2     0     1     0\n",
                            "     1     3     1     1\n",
                            "</pre></body></html>"
                        ]
                    },
                    "metadata": {},
                    "execution_count": 5
                }
            ],
            "cell_type": "code",
            "source": [
                "d(3) = A_3(3, 3);\n",
                "L(:, 3) = A_3(:, 3) / d(3);\n",
                "A_4 = A_3 - d(3) * L(:, 3) * L(:, 3)'\n",
                "d(4) = A_4(4, 4);\n",
                "d\n",
                "L"
            ],
            "id": "2434dbb3",
            "metadata": {},
            "execution_count": 5
        },
        {
            "cell_type": "markdown",
            "source": [
                "We have arrived at the desired factorization, which we can validate:"
            ],
            "id": "7a33b13a",
            "metadata": {}
        },
        {
            "outputs": [
                {
                    "output_type": "execute_result",
                    "data": {
                        "text/plain": [
                            "ans = 0"
                        ],
                        "text/html": [
                            "<html><body><pre>ans = 0</pre></body></html>"
                        ]
                    },
                    "metadata": {},
                    "execution_count": 6
                }
            ],
            "cell_type": "code",
            "source": [
                "norm(A_1 - (L * diag(d) * L'))"
            ],
            "id": "31263bcc",
            "metadata": {},
            "execution_count": 6
        }
    ],
    "nbformat_minor": 5,
    "metadata": {
        "language_info": {
            "file_extension": ".m",
            "mimetype": "text/x-matlab",
            "name": "matlab"
        },
        "kernelspec": {
            "name": "jupyter_matlab_kernel",
            "display_name": "MATLAB Kernel",
            "language": "matlab"
        },
        "numbering": {
            "headings": false
        }
    },
    "nbformat": 4
}
