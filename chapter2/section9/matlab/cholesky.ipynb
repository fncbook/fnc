{
 "cells": [
  {
   "cell_type": "code",
   "execution_count": 1,
   "id": "c37e3444",
   "metadata": {
    "tags": [
     "remove-cell"
    ]
   },
   "outputs": [],
   "source": [
    "cd  /Users/driscoll/Documents/GitHub/fnc/matlab\n",
    "FNC_init"
   ]
  },
  {
   "cell_type": "markdown",
   "id": "42f72061",
   "metadata": {},
   "source": [
    "[**Demo %s**](#demo-structure-cholesky)\n",
    "\n",
    "A randomly chosen matrix is extremely unlikely to be symmetric. However, there is a simple way to symmetrize one."
   ]
  },
  {
   "cell_type": "code",
   "execution_count": 2,
   "id": "95cb149d",
   "metadata": {},
   "outputs": [
    {
     "data": {
      "text/html": [
       "<html><body><pre>B = 4×4 double\n",
       "    34     7    12    17\n",
       "     7    24    17    22\n",
       "    12    17    14    27\n",
       "    17    22    27     4\n",
       "</pre></body></html>"
      ],
      "text/plain": [
       "B = 4×4 double\n",
       "    34     7    12    17\n",
       "     7    24    17    22\n",
       "    12    17    14    27\n",
       "    17    22    27     4\n"
      ]
     },
     "execution_count": 2,
     "metadata": {},
     "output_type": "execute_result"
    }
   ],
   "source": [
    "A = magic(4) + eye(4);\n",
    "B = A + A'"
   ]
  },
  {
   "cell_type": "markdown",
   "id": "7f337e6f",
   "metadata": {},
   "source": [
    "```{index} ! MATLAB; chol\n",
    "```\n",
    "\n",
    "Similarly, a random symmetric matrix is unlikely to be positive definite. The Cholesky algorithm always detects a non-PD matrix by quitting with an error.\n",
    "```{tip}\n",
    ":class: dropdown\n",
    "The `chol` function computes a Cholesky factorization if possible, or throws an error for a non-positive-definite matrix. \n",
    "```\n",
    "\n",
    "```{warning} \n",
    "The `chol` function does *not* check for symmetry. It may give a nonsensical result if the input is not symmetric.\n",
    "```"
   ]
  },
  {
   "cell_type": "code",
   "execution_count": 3,
   "id": "3618a259",
   "metadata": {
    "tags": [
     "raises-exception"
    ]
   },
   "outputs": [
    {
     "name": "stderr",
     "output_type": "stream",
     "text": [
      "Error using chol\n",
      "Matrix must be positive definite."
     ]
    }
   ],
   "source": [
    "chol(B)    % throws an error"
   ]
  },
  {
   "cell_type": "markdown",
   "id": "ef25ff54",
   "metadata": {},
   "source": [
    "It's not hard to manufacture an SPD matrix to try out the Cholesky factorization."
   ]
  },
  {
   "cell_type": "code",
   "execution_count": 4,
   "id": "cb39d176",
   "metadata": {},
   "outputs": [
    {
     "data": {
      "text/html": [
       "<html><body><pre>R = 4×4 double\n",
       "   20.2731   10.5065   11.0491   18.5960\n",
       "         0   16.8111   15.9961    2.2973\n",
       "         0         0    2.2453   -4.1053\n",
       "         0         0         0    3.6133\n",
       "</pre></body></html>"
      ],
      "text/plain": [
       "R = 4×4 double\n",
       "   20.2731   10.5065   11.0491   18.5960\n",
       "         0   16.8111   15.9961    2.2973\n",
       "         0         0    2.2453   -4.1053\n",
       "         0         0         0    3.6133\n"
      ]
     },
     "execution_count": 4,
     "metadata": {},
     "output_type": "execute_result"
    }
   ],
   "source": [
    "B = A' * A;\n",
    "R = chol(B)"
   ]
  },
  {
   "cell_type": "markdown",
   "id": "8e505686",
   "metadata": {},
   "source": [
    "Here we validate the factorization:"
   ]
  },
  {
   "cell_type": "code",
   "execution_count": 5,
   "id": "19f79ab1",
   "metadata": {},
   "outputs": [
    {
     "data": {
      "text/html": [
       "<html><body><pre>ans = 5.6013e-17</pre></body></html>"
      ],
      "text/plain": [
       "ans = 5.6013e-17"
      ]
     },
     "execution_count": 5,
     "metadata": {},
     "output_type": "execute_result"
    }
   ],
   "source": [
    "norm(R' * R - B) / norm(B)"
   ]
  }
 ],
 "metadata": {
  "kernelspec": {
   "display_name": "MATLAB Kernel",
   "language": "matlab",
   "name": "jupyter_matlab_kernel"
  },
  "language_info": {
   "file_extension": ".m",
   "mimetype": "text/x-matlab",
   "name": "matlab"
  },
  "numbering": {
   "headings": false
  }
 },
 "nbformat": 4,
 "nbformat_minor": 5
}
