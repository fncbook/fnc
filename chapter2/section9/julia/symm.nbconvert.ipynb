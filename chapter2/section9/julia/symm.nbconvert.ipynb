{
 "cells": [
  {
   "cell_type": "code",
   "execution_count": 1,
   "id": "3c299b77",
   "metadata": {
    "execution": {
     "iopub.execute_input": "2025-01-14T15:29:56.493000Z",
     "iopub.status.busy": "2025-01-14T15:29:49.657000Z",
     "iopub.status.idle": "2025-01-14T15:31:17.998000Z",
     "shell.execute_reply": "2025-01-14T15:31:17.384000Z"
    }
   },
   "outputs": [
    {
     "name": "stderr",
     "output_type": "stream",
     "text": [
      "\u001b[32m\u001b[1m  Activating\u001b[22m\u001b[39m "
     ]
    },
    {
     "name": "stderr",
     "output_type": "stream",
     "text": [
      "project at `~/Documents/GitHub/fnc`\n"
     ]
    }
   ],
   "source": [
    "include(\"../../../julia/FNC_init.jl\")"
   ]
  },
  {
   "cell_type": "markdown",
   "id": "1d4e447d",
   "metadata": {},
   "source": [
    "[**Demo %s**](#demo-structure-symm)\n",
    "\n",
    "\n",
    "We begin with a symmetric $\\mathbf{A}$."
   ]
  },
  {
   "cell_type": "code",
   "execution_count": 2,
   "id": "c52b86f0",
   "metadata": {
    "execution": {
     "iopub.execute_input": "2025-01-14T15:31:20.207000Z",
     "iopub.status.busy": "2025-01-14T15:31:18.013000Z",
     "iopub.status.idle": "2025-01-14T15:31:22.273000Z",
     "shell.execute_reply": "2025-01-14T15:31:22.270000Z"
    }
   },
   "outputs": [],
   "source": [
    "A₁ = [  2     4     4     2\n",
    "        4     5     8    -5\n",
    "        4     8     6     2\n",
    "        2    -5     2   -26 ];"
   ]
  },
  {
   "cell_type": "markdown",
   "id": "fc43ec66",
   "metadata": {},
   "source": [
    "We won't use pivoting, so the pivot element is at position (1,1). This will become the first element on the diagonal of $\\mathbf{D}$. Then we divide by that pivot to get the first column of $\\mathbf{L}$."
   ]
  },
  {
   "cell_type": "code",
   "execution_count": 3,
   "id": "09d91376",
   "metadata": {
    "execution": {
     "iopub.execute_input": "2025-01-14T15:31:22.290000Z",
     "iopub.status.busy": "2025-01-14T15:31:22.290000Z",
     "iopub.status.idle": "2025-01-14T15:31:47.181000Z",
     "shell.execute_reply": "2025-01-14T15:31:47.171000Z"
    }
   },
   "outputs": [
    {
     "data": {
      "text/plain": [
       "4×4 Matrix{Float64}:\n",
       " 0.0   0.0   0.0    0.0\n",
       " 0.0  -3.0   0.0   -9.0\n",
       " 0.0   0.0  -2.0   -2.0\n",
       " 0.0  -9.0  -2.0  -28.0"
      ]
     },
     "execution_count": 3,
     "metadata": {},
     "output_type": "execute_result"
    }
   ],
   "source": [
    "L = diagm(ones(4))\n",
    "d = zeros(4)\n",
    "d[1] = A₁[1, 1]\n",
    "L[:, 1] = A₁[:, 1] / d[1]\n",
    "A₂ = A₁ - d[1] * L[:, 1] * L[:, 1]'"
   ]
  },
  {
   "cell_type": "markdown",
   "id": "8776a5c6",
   "metadata": {},
   "source": [
    "We are now set up the same way for the submatrix in rows and columns 2–4."
   ]
  },
  {
   "cell_type": "code",
   "execution_count": 4,
   "id": "a3c0faca",
   "metadata": {
    "execution": {
     "iopub.execute_input": "2025-01-14T15:31:47.312000Z",
     "iopub.status.busy": "2025-01-14T15:31:47.307000Z",
     "iopub.status.idle": "2025-01-14T15:31:47.401000Z",
     "shell.execute_reply": "2025-01-14T15:31:47.400000Z"
    }
   },
   "outputs": [
    {
     "data": {
      "text/plain": [
       "4×4 Matrix{Float64}:\n",
       " 0.0  0.0   0.0   0.0\n",
       " 0.0  0.0   0.0   0.0\n",
       " 0.0  0.0  -2.0  -2.0\n",
       " 0.0  0.0  -2.0  -1.0"
      ]
     },
     "execution_count": 4,
     "metadata": {},
     "output_type": "execute_result"
    }
   ],
   "source": [
    "d[2] = A₂[2, 2]\n",
    "L[:, 2] = A₂[:, 2] / d[2]\n",
    "A₃ = A₂ - d[2] * L[:, 2] * L[:, 2]'"
   ]
  },
  {
   "cell_type": "markdown",
   "id": "c45087ad",
   "metadata": {},
   "source": [
    "We continue working our way down the diagonal."
   ]
  },
  {
   "cell_type": "code",
   "execution_count": 5,
   "id": "e91c7260",
   "metadata": {
    "execution": {
     "iopub.execute_input": "2025-01-14T15:31:47.407000Z",
     "iopub.status.busy": "2025-01-14T15:31:47.407000Z",
     "iopub.status.idle": "2025-01-14T15:31:47.982000Z",
     "shell.execute_reply": "2025-01-14T15:31:47.979000Z"
    }
   },
   "outputs": [
    {
     "name": "stdout",
     "output_type": "stream",
     "text": [
      "d = [2.0, -3.0, -2.0, 1.0]"
     ]
    },
    {
     "name": "stdout",
     "output_type": "stream",
     "text": [
      "\n"
     ]
    },
    {
     "data": {
      "text/plain": [
       "4×4 Matrix{Float64}:\n",
       " 1.0  -0.0  -0.0  0.0\n",
       " 2.0   1.0  -0.0  0.0\n",
       " 2.0  -0.0   1.0  0.0\n",
       " 1.0   3.0   1.0  1.0"
      ]
     },
     "execution_count": 5,
     "metadata": {},
     "output_type": "execute_result"
    }
   ],
   "source": [
    "d[3] = A₃[3, 3]\n",
    "L[:, 3] = A₃[:, 3] / d[3]\n",
    "A₄ = A₃ - d[3] * L[:, 3] * L[:, 3]'\n",
    "d[4] = A₄[4, 4]\n",
    "@show d;\n",
    "L"
   ]
  },
  {
   "cell_type": "markdown",
   "id": "4752cc94",
   "metadata": {},
   "source": [
    "We have arrived at the desired factorization, which we can validate:"
   ]
  },
  {
   "cell_type": "code",
   "execution_count": 6,
   "id": "7a466280",
   "metadata": {
    "execution": {
     "iopub.execute_input": "2025-01-14T15:31:47.989000Z",
     "iopub.status.busy": "2025-01-14T15:31:47.989000Z",
     "iopub.status.idle": "2025-01-14T15:31:50.869000Z",
     "shell.execute_reply": "2025-01-14T15:31:50.868000Z"
    }
   },
   "outputs": [
    {
     "data": {
      "text/plain": [
       "0.0"
      ]
     },
     "execution_count": 6,
     "metadata": {},
     "output_type": "execute_result"
    }
   ],
   "source": [
    "opnorm(A₁ - (L * diagm(d) * L'))"
   ]
  }
 ],
 "metadata": {
  "kernelspec": {
   "display_name": "Julia 1",
   "language": "julia",
   "name": "julia-1.11"
  },
  "language_info": {
   "file_extension": ".jl",
   "mimetype": "application/julia",
   "name": "julia",
   "version": "1.11.2"
  },
  "numbering": {
   "headings": false
  }
 },
 "nbformat": 4,
 "nbformat_minor": 5
}
