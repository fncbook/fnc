{
 "cells": [
  {
   "cell_type": "code",
   "execution_count": 1,
   "id": "59b4d8d1",
   "metadata": {
    "execution": {
     "iopub.execute_input": "2025-01-14T15:27:15.625000Z",
     "iopub.status.busy": "2025-01-14T15:27:11.729000Z",
     "iopub.status.idle": "2025-01-14T15:28:17.215000Z",
     "shell.execute_reply": "2025-01-14T15:28:16.226000Z"
    }
   },
   "outputs": [
    {
     "name": "stderr",
     "output_type": "stream",
     "text": [
      "\u001b[32m\u001b[1m  Activating\u001b[22m\u001b[39m "
     ]
    },
    {
     "name": "stderr",
     "output_type": "stream",
     "text": [
      "project at `~/Documents/GitHub/fnc`\n"
     ]
    }
   ],
   "source": [
    "include(\"../../../julia/FNC_init.jl\")"
   ]
  },
  {
   "cell_type": "markdown",
   "id": "2acdd654",
   "metadata": {},
   "source": [
    "[**Demo %s**](#demo-structure-banded)\n",
    "\n",
    "```{index} ! Julia; fill, Julia; diagm, ! Julia; diag\n",
    "```\n",
    "\n",
    "Here is a small tridiagonal matrix. Note that there is one fewer element on the super- and subdiagonals than on the main diagonal.\n",
    "```{tip}\n",
    ":class: dropdown\n",
    "Use `fill` to create an array of a given size, with each element equal to a provided value.\n",
    "```"
   ]
  },
  {
   "cell_type": "code",
   "execution_count": 2,
   "id": "80dd784d",
   "metadata": {
    "execution": {
     "iopub.execute_input": "2025-01-14T15:28:19.001000Z",
     "iopub.status.busy": "2025-01-14T15:28:17.238000Z",
     "iopub.status.idle": "2025-01-14T15:28:37.909000Z",
     "shell.execute_reply": "2025-01-14T15:28:37.907000Z"
    }
   },
   "outputs": [
    {
     "data": {
      "text/plain": [
       "6×6 Matrix{Int64}:\n",
       " 2  -1   0   0   0   0\n",
       " 4   2  -1   0   0   0\n",
       " 0   3   0  -1   0   0\n",
       " 0   0   2   2  -1   0\n",
       " 0   0   0   1   1  -1\n",
       " 0   0   0   0   0   2"
      ]
     },
     "execution_count": 2,
     "metadata": {},
     "output_type": "execute_result"
    }
   ],
   "source": [
    "A = diagm( -1 => [4, 3, 2, 1, 0], \n",
    "    0 => [2, 2, 0, 2, 1, 2], \n",
    "    1 => fill(-1, 5) )"
   ]
  },
  {
   "cell_type": "markdown",
   "id": "457c953b",
   "metadata": {},
   "source": [
    "```{index} ! Julia; diag\n",
    "```\n",
    "\n",
    "We can extract the elements on any diagonal using the `diag` function. The main or central diagonal is numbered zero, above and to the right of that is positive, and below and to the left is negative.\n",
    "```{tip}\n",
    ":class: dropdown\n",
    "The `diag` function extracts the elements from a specified diagonal of a matrix.\n",
    "```"
   ]
  },
  {
   "cell_type": "code",
   "execution_count": 3,
   "id": "eb39a421",
   "metadata": {
    "execution": {
     "iopub.execute_input": "2025-01-14T15:28:37.941000Z",
     "iopub.status.busy": "2025-01-14T15:28:37.938000Z",
     "iopub.status.idle": "2025-01-14T15:28:48.739000Z",
     "shell.execute_reply": "2025-01-14T15:28:48.738000Z"
    }
   },
   "outputs": [
    {
     "name": "stdout",
     "output_type": "stream",
     "text": [
      "diag_main = diag(A) = [2, 2, 0, 2, 1, 2]"
     ]
    },
    {
     "name": "stdout",
     "output_type": "stream",
     "text": [
      "\n",
      "diag_minusone = diag(A, -1) = [4, 3, 2, 1, 0]\n"
     ]
    }
   ],
   "source": [
    "@show diag_main = diag(A);\n",
    "@show diag_minusone = diag(A, -1);"
   ]
  },
  {
   "cell_type": "markdown",
   "id": "57a8630f",
   "metadata": {},
   "source": [
    "The lower and upper bandwidths of $\\mathbf{A}$ are repeated in the factors from the unpivoted LU factorization."
   ]
  },
  {
   "cell_type": "code",
   "execution_count": 4,
   "id": "b292abaf",
   "metadata": {
    "execution": {
     "iopub.execute_input": "2025-01-14T15:28:48.749000Z",
     "iopub.status.busy": "2025-01-14T15:28:48.746000Z",
     "iopub.status.idle": "2025-01-14T15:28:54.151000Z",
     "shell.execute_reply": "2025-01-14T15:28:54.115000Z"
    }
   },
   "outputs": [
    {
     "data": {
      "text/plain": [
       "6×6 LowerTriangular{Float64, Matrix{Float64}}:\n",
       " 1.0   ⋅     ⋅        ⋅         ⋅    ⋅ \n",
       " 2.0  1.0    ⋅        ⋅         ⋅    ⋅ \n",
       " 0.0  0.75  1.0       ⋅         ⋅    ⋅ \n",
       " 0.0  0.0   2.66667  1.0        ⋅    ⋅ \n",
       " 0.0  0.0   0.0      0.214286  1.0   ⋅ \n",
       " 0.0  0.0   0.0      0.0       0.0  1.0"
      ]
     },
     "execution_count": 4,
     "metadata": {},
     "output_type": "execute_result"
    }
   ],
   "source": [
    "L, U = FNC.lufact(A)\n",
    "L"
   ]
  },
  {
   "cell_type": "code",
   "execution_count": 5,
   "id": "9e7013ed",
   "metadata": {
    "execution": {
     "iopub.execute_input": "2025-01-14T15:28:54.205000Z",
     "iopub.status.busy": "2025-01-14T15:28:54.202000Z",
     "iopub.status.idle": "2025-01-14T15:28:56.767000Z",
     "shell.execute_reply": "2025-01-14T15:28:56.766000Z"
    }
   },
   "outputs": [
    {
     "data": {
      "text/plain": [
       "6×6 UpperTriangular{Float64, Matrix{Float64}}:\n",
       " 2.0  -1.0   0.0    0.0       0.0       0.0\n",
       "  ⋅    4.0  -1.0    0.0       0.0       0.0\n",
       "  ⋅     ⋅    0.75  -1.0       0.0       0.0\n",
       "  ⋅     ⋅     ⋅     4.66667  -1.0       0.0\n",
       "  ⋅     ⋅     ⋅      ⋅        1.21429  -1.0\n",
       "  ⋅     ⋅     ⋅      ⋅         ⋅        2.0"
      ]
     },
     "execution_count": 5,
     "metadata": {},
     "output_type": "execute_result"
    }
   ],
   "source": [
    "U"
   ]
  }
 ],
 "metadata": {
  "kernelspec": {
   "display_name": "Julia 1",
   "language": "julia",
   "name": "julia-1.11"
  },
  "language_info": {
   "file_extension": ".jl",
   "mimetype": "application/julia",
   "name": "julia",
   "version": "1.11.2"
  },
  "numbering": {
   "headings": false
  }
 },
 "nbformat": 4,
 "nbformat_minor": 5
}
