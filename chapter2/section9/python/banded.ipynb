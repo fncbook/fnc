{
 "cells": [
  {
   "cell_type": "code",
   "execution_count": 1,
   "id": "9734b430",
   "metadata": {
    "execution": {
     "iopub.execute_input": "2025-01-11T17:43:52.182237Z",
     "iopub.status.busy": "2025-01-11T17:43:52.182144Z",
     "iopub.status.idle": "2025-01-11T17:43:52.483763Z",
     "shell.execute_reply": "2025-01-11T17:43:52.483476Z"
    },
    "tags": [
     "remove-cell"
    ]
   },
   "outputs": [],
   "source": [
    "exec(open(\"../../../python/FNC_init.py\").read())"
   ]
  },
  {
   "cell_type": "markdown",
   "id": "419ef948",
   "metadata": {},
   "source": [
    "[**Demo %s**](#demo-structure-banded)\n",
    "\n",
    "Here is a matrix with both lower and upper bandwidth equal to one. Such a matrix is called tridiagonal."
   ]
  },
  {
   "cell_type": "code",
   "execution_count": 2,
   "id": "b6de1a42",
   "metadata": {
    "execution": {
     "iopub.execute_input": "2025-01-11T17:43:52.485371Z",
     "iopub.status.busy": "2025-01-11T17:43:52.485252Z",
     "iopub.status.idle": "2025-01-11T17:43:52.487276Z",
     "shell.execute_reply": "2025-01-11T17:43:52.487051Z"
    }
   },
   "outputs": [],
   "source": [
    "A = array([ \n",
    "    [2, -1,  0,  0,  0,  0],\n",
    "    [4,  2, -1,  0,  0,  0],\n",
    "    [0,  3,  0, -1,  0,  0],\n",
    "    [0,  0,  2,  2, -1,  0],\n",
    "    [0,  0,  0,  1,  1, -1],\n",
    "    [0,  0,  0,  0,  0,  2 ]\n",
    "    ])"
   ]
  },
  {
   "cell_type": "markdown",
   "id": "41fa8476",
   "metadata": {},
   "source": [
    "```{index} ! Python; diag\n",
    "```\n",
    "\n",
    "We can extract the elements on any diagonal using the `diag` command. The \"main\" or central diagonal is numbered zero, above and to the right of that is positive, and below and to the left is negative."
   ]
  },
  {
   "cell_type": "code",
   "execution_count": 3,
   "id": "7fc90e21",
   "metadata": {
    "execution": {
     "iopub.execute_input": "2025-01-11T17:43:52.488564Z",
     "iopub.status.busy": "2025-01-11T17:43:52.488488Z",
     "iopub.status.idle": "2025-01-11T17:43:52.490302Z",
     "shell.execute_reply": "2025-01-11T17:43:52.490014Z"
    }
   },
   "outputs": [
    {
     "name": "stdout",
     "output_type": "stream",
     "text": [
      "[2 2 0 2 1 2]\n"
     ]
    }
   ],
   "source": [
    "print( diag(A) )"
   ]
  },
  {
   "cell_type": "code",
   "execution_count": 4,
   "id": "8971724a",
   "metadata": {
    "execution": {
     "iopub.execute_input": "2025-01-11T17:43:52.491420Z",
     "iopub.status.busy": "2025-01-11T17:43:52.491338Z",
     "iopub.status.idle": "2025-01-11T17:43:52.493012Z",
     "shell.execute_reply": "2025-01-11T17:43:52.492774Z"
    }
   },
   "outputs": [
    {
     "name": "stdout",
     "output_type": "stream",
     "text": [
      "[-1 -1 -1 -1 -1]\n"
     ]
    }
   ],
   "source": [
    "print( diag(A, 1) )"
   ]
  },
  {
   "cell_type": "code",
   "execution_count": 5,
   "id": "27c73e3a",
   "metadata": {
    "execution": {
     "iopub.execute_input": "2025-01-11T17:43:52.494102Z",
     "iopub.status.busy": "2025-01-11T17:43:52.494029Z",
     "iopub.status.idle": "2025-01-11T17:43:52.495656Z",
     "shell.execute_reply": "2025-01-11T17:43:52.495419Z"
    }
   },
   "outputs": [
    {
     "name": "stdout",
     "output_type": "stream",
     "text": [
      "[4 3 2 1 0]\n"
     ]
    }
   ],
   "source": [
    "print( diag(A, -1) )"
   ]
  },
  {
   "cell_type": "markdown",
   "id": "0692f591",
   "metadata": {},
   "source": [
    "We can also construct matrices by specifying a diagonal with the `diag` function."
   ]
  },
  {
   "cell_type": "code",
   "execution_count": 6,
   "id": "d27ff7da",
   "metadata": {
    "execution": {
     "iopub.execute_input": "2025-01-11T17:43:52.496757Z",
     "iopub.status.busy": "2025-01-11T17:43:52.496658Z",
     "iopub.status.idle": "2025-01-11T17:43:52.498463Z",
     "shell.execute_reply": "2025-01-11T17:43:52.498266Z"
    }
   },
   "outputs": [
    {
     "name": "stdout",
     "output_type": "stream",
     "text": [
      "[[ 2.         -1.          3.14159265  0.          0.          0.        ]\n",
      " [ 4.          2.         -1.          8.          0.          0.        ]\n",
      " [ 0.          3.          0.         -1.          6.          0.        ]\n",
      " [ 0.          0.          2.          2.         -1.          7.        ]\n",
      " [ 0.          0.          0.          1.          1.         -1.        ]\n",
      " [ 0.          0.          0.          0.          0.          2.        ]]\n"
     ]
    }
   ],
   "source": [
    "A = A + diag([pi, 8, 6, 7], 2)\n",
    "print(A)"
   ]
  },
  {
   "cell_type": "code",
   "execution_count": 7,
   "id": "538d13c1",
   "metadata": {
    "execution": {
     "iopub.execute_input": "2025-01-11T17:43:52.499472Z",
     "iopub.status.busy": "2025-01-11T17:43:52.499400Z",
     "iopub.status.idle": "2025-01-11T17:43:52.501241Z",
     "shell.execute_reply": "2025-01-11T17:43:52.501026Z"
    }
   },
   "outputs": [
    {
     "name": "stdout",
     "output_type": "stream",
     "text": [
      "[[1.         0.         0.         0.         0.         0.        ]\n",
      " [2.         1.         0.         0.         0.         0.        ]\n",
      " [0.         0.75       1.         0.         0.         0.        ]\n",
      " [0.         0.         0.36614016 1.         0.         0.        ]\n",
      " [0.         0.         0.         0.21915497 1.         0.        ]\n",
      " [0.         0.         0.         0.         0.         1.        ]]\n"
     ]
    }
   ],
   "source": [
    "L, U = FNC.lufact(A)\n",
    "print(L)"
   ]
  },
  {
   "cell_type": "code",
   "execution_count": 8,
   "id": "331a40e6",
   "metadata": {
    "execution": {
     "iopub.execute_input": "2025-01-11T17:43:52.502334Z",
     "iopub.status.busy": "2025-01-11T17:43:52.502252Z",
     "iopub.status.idle": "2025-01-11T17:43:52.504043Z",
     "shell.execute_reply": "2025-01-11T17:43:52.503814Z"
    }
   },
   "outputs": [
    {
     "name": "stdout",
     "output_type": "stream",
     "text": [
      "[[ 2.         -1.          3.14159265  0.          0.          0.        ]\n",
      " [ 0.          4.         -7.28318531  8.          0.          0.        ]\n",
      " [ 0.          0.          5.46238898 -7.          6.          0.        ]\n",
      " [ 0.          0.          0.          4.56298115 -3.19684099  7.        ]\n",
      " [ 0.          0.          0.          0.          1.70060359 -2.53408479]\n",
      " [ 0.          0.          0.          0.          0.          2.        ]]\n"
     ]
    }
   ],
   "source": [
    "print(U)"
   ]
  },
  {
   "cell_type": "markdown",
   "id": "bd158738",
   "metadata": {},
   "source": [
    "Observe above that the lower and upper bandwidths of $\\mathbf{A}$ are preserved in the factor matrices."
   ]
  }
 ],
 "metadata": {
  "kernelspec": {
   "display_name": "Python 3",
   "language": "python",
   "name": "python3"
  },
  "language_info": {
   "codemirror_mode": {
    "name": "ipython",
    "version": 3
   },
   "file_extension": ".py",
   "mimetype": "text/x-python",
   "name": "python",
   "nbconvert_exporter": "python",
   "pygments_lexer": "ipython3",
   "version": "3.13.0"
  },
  "numbering": {
   "headings": false
  }
 },
 "nbformat": 4,
 "nbformat_minor": 5
}
