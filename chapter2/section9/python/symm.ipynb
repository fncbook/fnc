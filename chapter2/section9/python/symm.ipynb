{
 "cells": [
  {
   "cell_type": "code",
   "execution_count": 1,
   "id": "f511ccc6",
   "metadata": {
    "execution": {
     "iopub.execute_input": "2025-01-11T17:43:54.603396Z",
     "iopub.status.busy": "2025-01-11T17:43:54.603270Z",
     "iopub.status.idle": "2025-01-11T17:43:54.937760Z",
     "shell.execute_reply": "2025-01-11T17:43:54.937449Z"
    },
    "tags": [
     "remove-cell"
    ]
   },
   "outputs": [],
   "source": [
    "exec(open(\"../../../python/FNC_init.py\").read())"
   ]
  },
  {
   "cell_type": "markdown",
   "id": "0f62b7e6",
   "metadata": {},
   "source": [
    "[**Demo %s**](#demo-structure-symm)\n",
    "\n",
    "We begin with a symmetric $\\mathbf{A}$."
   ]
  },
  {
   "cell_type": "code",
   "execution_count": 2,
   "id": "a84f651f",
   "metadata": {
    "execution": {
     "iopub.execute_input": "2025-01-11T17:43:54.939428Z",
     "iopub.status.busy": "2025-01-11T17:43:54.939280Z",
     "iopub.status.idle": "2025-01-11T17:43:54.941630Z",
     "shell.execute_reply": "2025-01-11T17:43:54.941371Z"
    }
   },
   "outputs": [],
   "source": [
    "A_1 = array([\n",
    "    [2,     4,     4,     2],\n",
    "    [4,     5,     8,    -5],\n",
    "    [4,     8,     6,     2],\n",
    "    [2,    -5,     2,   -26]\n",
    "    ])"
   ]
  },
  {
   "cell_type": "markdown",
   "id": "b559726a",
   "metadata": {},
   "source": [
    "We won't use pivoting, so the pivot element is at position (1,1). This will become the first element on the diagonal of $\\mathbf{D}$. Then we divide by that pivot to get the first column of $\\mathbf{L}$."
   ]
  },
  {
   "cell_type": "code",
   "execution_count": 3,
   "id": "83ab11f0",
   "metadata": {
    "execution": {
     "iopub.execute_input": "2025-01-11T17:43:54.943151Z",
     "iopub.status.busy": "2025-01-11T17:43:54.943060Z",
     "iopub.status.idle": "2025-01-11T17:43:54.945489Z",
     "shell.execute_reply": "2025-01-11T17:43:54.945211Z"
    }
   },
   "outputs": [
    {
     "name": "stdout",
     "output_type": "stream",
     "text": [
      "[[  0.   0.   0.   0.]\n",
      " [  0.  -3.   0.  -9.]\n",
      " [  0.   0.  -2.  -2.]\n",
      " [  0.  -9.  -2. -28.]]\n"
     ]
    }
   ],
   "source": [
    "L = eye(4)\n",
    "d = zeros(4)\n",
    "d[0] = A_1[0, 0]\n",
    "L[:, 0] = A_1[:, 0] / d[0]\n",
    "A_2 = A_1 - d[0] * outer(L[:, 0], L[:, 0])\n",
    "print(A_2)"
   ]
  },
  {
   "cell_type": "markdown",
   "id": "e16a3fe0",
   "metadata": {},
   "source": [
    "We are now set up the same way for the submatrix in rows and columns 2–4."
   ]
  },
  {
   "cell_type": "code",
   "execution_count": 4,
   "id": "24cff082",
   "metadata": {
    "execution": {
     "iopub.execute_input": "2025-01-11T17:43:54.946966Z",
     "iopub.status.busy": "2025-01-11T17:43:54.946739Z",
     "iopub.status.idle": "2025-01-11T17:43:54.949295Z",
     "shell.execute_reply": "2025-01-11T17:43:54.949016Z"
    }
   },
   "outputs": [
    {
     "name": "stdout",
     "output_type": "stream",
     "text": [
      "[[ 0.  0.  0.  0.]\n",
      " [ 0.  0.  0.  0.]\n",
      " [ 0.  0. -2. -2.]\n",
      " [ 0.  0. -2. -1.]]\n"
     ]
    }
   ],
   "source": [
    "d[1] = A_2[1, 1]\n",
    "L[:, 1] = A_2[:, 1] / d[1]\n",
    "A_3 = A_2 - d[1] * outer(L[:, 1], L[:, 1])\n",
    "print(A_3)"
   ]
  },
  {
   "cell_type": "markdown",
   "id": "6a35a003",
   "metadata": {},
   "source": [
    "We continue working our way down the diagonal."
   ]
  },
  {
   "cell_type": "code",
   "execution_count": 5,
   "id": "9850a086",
   "metadata": {
    "execution": {
     "iopub.execute_input": "2025-01-11T17:43:54.950451Z",
     "iopub.status.busy": "2025-01-11T17:43:54.950352Z",
     "iopub.status.idle": "2025-01-11T17:43:54.952306Z",
     "shell.execute_reply": "2025-01-11T17:43:54.952065Z"
    }
   },
   "outputs": [
    {
     "name": "stdout",
     "output_type": "stream",
     "text": [
      "[[0. 0. 0. 0.]\n",
      " [0. 0. 0. 0.]\n",
      " [0. 0. 0. 0.]\n",
      " [0. 0. 0. 1.]]\n"
     ]
    }
   ],
   "source": [
    "d[2] = A_3[2, 2]\n",
    "L[:, 2] = A_3[:, 2] / d[2]\n",
    "A_4 = A_3 - d[2] * outer(L[:, 2], L[:, 2])\n",
    "print(A_4)"
   ]
  },
  {
   "cell_type": "markdown",
   "id": "96f46fce",
   "metadata": {},
   "source": [
    "We have arrived at the desired factorization."
   ]
  },
  {
   "cell_type": "code",
   "execution_count": 6,
   "id": "43d6f251",
   "metadata": {
    "execution": {
     "iopub.execute_input": "2025-01-11T17:43:54.953364Z",
     "iopub.status.busy": "2025-01-11T17:43:54.953290Z",
     "iopub.status.idle": "2025-01-11T17:43:54.955242Z",
     "shell.execute_reply": "2025-01-11T17:43:54.955013Z"
    }
   },
   "outputs": [
    {
     "name": "stdout",
     "output_type": "stream",
     "text": [
      "diagonal of D:\n",
      "[ 2. -3. -2.  1.]\n",
      "L:\n",
      "[[ 1. -0. -0.  0.]\n",
      " [ 2.  1. -0.  0.]\n",
      " [ 2. -0.  1.  0.]\n",
      " [ 1.  3.  1.  1.]]\n"
     ]
    }
   ],
   "source": [
    "d[3] = A_4[3, 3]\n",
    "print(\"diagonal of D:\")\n",
    "print(d)\n",
    "print(\"L:\")\n",
    "print(L)"
   ]
  },
  {
   "cell_type": "markdown",
   "id": "f7b2c11e",
   "metadata": {},
   "source": [
    "This should be comparable to machine roundoff:"
   ]
  },
  {
   "cell_type": "code",
   "execution_count": 7,
   "id": "b1af7276",
   "metadata": {
    "execution": {
     "iopub.execute_input": "2025-01-11T17:43:54.956416Z",
     "iopub.status.busy": "2025-01-11T17:43:54.956341Z",
     "iopub.status.idle": "2025-01-11T17:43:54.958487Z",
     "shell.execute_reply": "2025-01-11T17:43:54.958239Z"
    }
   },
   "outputs": [
    {
     "name": "stdout",
     "output_type": "stream",
     "text": [
      "0.0\n"
     ]
    }
   ],
   "source": [
    "print(norm(A_1 - (L @ diag(d) @ L.T), 2) / norm(A_1))"
   ]
  }
 ],
 "metadata": {
  "kernelspec": {
   "display_name": "Python 3",
   "language": "python",
   "name": "python3"
  },
  "language_info": {
   "codemirror_mode": {
    "name": "ipython",
    "version": 3
   },
   "file_extension": ".py",
   "mimetype": "text/x-python",
   "name": "python",
   "nbconvert_exporter": "python",
   "pygments_lexer": "ipython3",
   "version": "3.13.0"
  },
  "numbering": {
   "headings": false
  }
 },
 "nbformat": 4,
 "nbformat_minor": 5
}
