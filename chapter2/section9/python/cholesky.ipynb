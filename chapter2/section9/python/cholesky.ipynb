{
 "cells": [
  {
   "cell_type": "code",
   "execution_count": 1,
   "id": "38381e70",
   "metadata": {
    "execution": {
     "iopub.execute_input": "2025-01-11T17:43:53.276346Z",
     "iopub.status.busy": "2025-01-11T17:43:53.276206Z",
     "iopub.status.idle": "2025-01-11T17:43:53.583184Z",
     "shell.execute_reply": "2025-01-11T17:43:53.582892Z"
    },
    "tags": [
     "remove-cell"
    ]
   },
   "outputs": [],
   "source": [
    "exec(open(\"../../../python/FNC_init.py\").read())"
   ]
  },
  {
   "cell_type": "markdown",
   "id": "4545f31b",
   "metadata": {},
   "source": [
    "[**Demo %s**](#demo-structure-cholesky)\n",
    "\n",
    "A randomly chosen matrix is extremely unlikely to be symmetric. However, there is a simple way to symmetrize one."
   ]
  },
  {
   "cell_type": "code",
   "execution_count": 2,
   "id": "ab6654ea",
   "metadata": {
    "execution": {
     "iopub.execute_input": "2025-01-11T17:43:53.584714Z",
     "iopub.status.busy": "2025-01-11T17:43:53.584596Z",
     "iopub.status.idle": "2025-01-11T17:43:53.586745Z",
     "shell.execute_reply": "2025-01-11T17:43:53.586496Z"
    }
   },
   "outputs": [
    {
     "name": "stdout",
     "output_type": "stream",
     "text": [
      "[[18. 17.  6.  3.]\n",
      " [17. 14.  3. 11.]\n",
      " [ 6.  3. 12. 15.]\n",
      " [ 3. 11. 15. 14.]]\n"
     ]
    }
   ],
   "source": [
    "A = 1.0 + floor(9 * random.rand(4, 4))\n",
    "B = A + A.T\n",
    "print(B)"
   ]
  },
  {
   "cell_type": "markdown",
   "id": "8487b0e5",
   "metadata": {},
   "source": [
    "Similarly, a random symmetric matrix is unlikely to be positive definite. The Cholesky algorithm always detects a non-PD matrix by quitting with an error.\n",
    "\n",
    "```{index} ! Python; cholesky\n",
    "```"
   ]
  },
  {
   "cell_type": "code",
   "execution_count": 3,
   "id": "218beecd",
   "metadata": {
    "execution": {
     "iopub.execute_input": "2025-01-11T17:43:53.587904Z",
     "iopub.status.busy": "2025-01-11T17:43:53.587826Z",
     "iopub.status.idle": "2025-01-11T17:43:53.717360Z",
     "shell.execute_reply": "2025-01-11T17:43:53.717044Z"
    },
    "tags": [
     "raises-exception"
    ]
   },
   "outputs": [
    {
     "ename": "LinAlgError",
     "evalue": "Matrix is not positive definite",
     "output_type": "error",
     "traceback": [
      "\u001b[0;31m---------------------------------------------------------------------------\u001b[0m",
      "\u001b[0;31mLinAlgError\u001b[0m                               Traceback (most recent call last)",
      "Cell \u001b[0;32mIn[3], line 2\u001b[0m\n\u001b[1;32m      1\u001b[0m \u001b[38;5;28;01mfrom\u001b[39;00m \u001b[38;5;21;01mnumpy\u001b[39;00m\u001b[38;5;21;01m.\u001b[39;00m\u001b[38;5;21;01mlinalg\u001b[39;00m \u001b[38;5;28;01mimport\u001b[39;00m cholesky\n\u001b[0;32m----> 2\u001b[0m \u001b[43mcholesky\u001b[49m\u001b[43m(\u001b[49m\u001b[43mB\u001b[49m\u001b[43m)\u001b[49m    \u001b[38;5;66;03m# raises an exception, not positive definite\u001b[39;00m\n",
      "File \u001b[0;32m~/mambaforge/envs/myst/lib/python3.13/site-packages/numpy/linalg/_linalg.py:848\u001b[0m, in \u001b[0;36mcholesky\u001b[0;34m(a, upper)\u001b[0m\n\u001b[1;32m    845\u001b[0m signature \u001b[38;5;241m=\u001b[39m \u001b[38;5;124m'\u001b[39m\u001b[38;5;124mD->D\u001b[39m\u001b[38;5;124m'\u001b[39m \u001b[38;5;28;01mif\u001b[39;00m isComplexType(t) \u001b[38;5;28;01melse\u001b[39;00m \u001b[38;5;124m'\u001b[39m\u001b[38;5;124md->d\u001b[39m\u001b[38;5;124m'\u001b[39m\n\u001b[1;32m    846\u001b[0m \u001b[38;5;28;01mwith\u001b[39;00m errstate(call\u001b[38;5;241m=\u001b[39m_raise_linalgerror_nonposdef, invalid\u001b[38;5;241m=\u001b[39m\u001b[38;5;124m'\u001b[39m\u001b[38;5;124mcall\u001b[39m\u001b[38;5;124m'\u001b[39m,\n\u001b[1;32m    847\u001b[0m               over\u001b[38;5;241m=\u001b[39m\u001b[38;5;124m'\u001b[39m\u001b[38;5;124mignore\u001b[39m\u001b[38;5;124m'\u001b[39m, divide\u001b[38;5;241m=\u001b[39m\u001b[38;5;124m'\u001b[39m\u001b[38;5;124mignore\u001b[39m\u001b[38;5;124m'\u001b[39m, under\u001b[38;5;241m=\u001b[39m\u001b[38;5;124m'\u001b[39m\u001b[38;5;124mignore\u001b[39m\u001b[38;5;124m'\u001b[39m):\n\u001b[0;32m--> 848\u001b[0m     r \u001b[38;5;241m=\u001b[39m \u001b[43mgufunc\u001b[49m\u001b[43m(\u001b[49m\u001b[43ma\u001b[49m\u001b[43m,\u001b[49m\u001b[43m \u001b[49m\u001b[43msignature\u001b[49m\u001b[38;5;241;43m=\u001b[39;49m\u001b[43msignature\u001b[49m\u001b[43m)\u001b[49m\n\u001b[1;32m    849\u001b[0m \u001b[38;5;28;01mreturn\u001b[39;00m wrap(r\u001b[38;5;241m.\u001b[39mastype(result_t, copy\u001b[38;5;241m=\u001b[39m\u001b[38;5;28;01mFalse\u001b[39;00m))\n",
      "File \u001b[0;32m~/mambaforge/envs/myst/lib/python3.13/site-packages/numpy/linalg/_linalg.py:107\u001b[0m, in \u001b[0;36m_raise_linalgerror_nonposdef\u001b[0;34m(err, flag)\u001b[0m\n\u001b[1;32m    106\u001b[0m \u001b[38;5;28;01mdef\u001b[39;00m \u001b[38;5;21m_raise_linalgerror_nonposdef\u001b[39m(err, flag):\n\u001b[0;32m--> 107\u001b[0m     \u001b[38;5;28;01mraise\u001b[39;00m LinAlgError(\u001b[38;5;124m\"\u001b[39m\u001b[38;5;124mMatrix is not positive definite\u001b[39m\u001b[38;5;124m\"\u001b[39m)\n",
      "\u001b[0;31mLinAlgError\u001b[0m: Matrix is not positive definite"
     ]
    }
   ],
   "source": [
    "from numpy.linalg import cholesky\n",
    "cholesky(B)    # raises an exception, not positive definite"
   ]
  },
  {
   "cell_type": "markdown",
   "id": "5ae2db76",
   "metadata": {},
   "source": [
    "It's not hard to manufacture an SPD matrix to try out the Cholesky factorization:"
   ]
  },
  {
   "cell_type": "code",
   "execution_count": 4,
   "id": "83ab8ff0",
   "metadata": {
    "execution": {
     "iopub.execute_input": "2025-01-11T17:43:53.720689Z",
     "iopub.status.busy": "2025-01-11T17:43:53.720558Z",
     "iopub.status.idle": "2025-01-11T17:43:53.722661Z",
     "shell.execute_reply": "2025-01-11T17:43:53.722399Z"
    }
   },
   "outputs": [
    {
     "name": "stdout",
     "output_type": "stream",
     "text": [
      "[[12.24744871  0.          0.          0.        ]\n",
      " [11.51260179  1.56843871  0.          0.        ]\n",
      " [ 5.87877538  2.7543314   8.82347202  0.        ]\n",
      " [ 9.06311205 -1.49192951  8.48070557  5.16834398]]\n"
     ]
    }
   ],
   "source": [
    "B = A.T @ A\n",
    "R = cholesky(B)\n",
    "print(R)"
   ]
  },
  {
   "cell_type": "code",
   "execution_count": 5,
   "id": "afe2ed44",
   "metadata": {
    "execution": {
     "iopub.execute_input": "2025-01-11T17:43:53.724020Z",
     "iopub.status.busy": "2025-01-11T17:43:53.723913Z",
     "iopub.status.idle": "2025-01-11T17:43:53.725766Z",
     "shell.execute_reply": "2025-01-11T17:43:53.725502Z"
    }
   },
   "outputs": [
    {
     "name": "stdout",
     "output_type": "stream",
     "text": [
      "5.1854534266302595e-17\n"
     ]
    }
   ],
   "source": [
    "print(norm(R @ R.T - B) / norm(B))"
   ]
  }
 ],
 "metadata": {
  "kernelspec": {
   "display_name": "Python 3",
   "language": "python",
   "name": "python3"
  },
  "language_info": {
   "codemirror_mode": {
    "name": "ipython",
    "version": 3
   },
   "file_extension": ".py",
   "mimetype": "text/x-python",
   "name": "python",
   "nbconvert_exporter": "python",
   "pygments_lexer": "ipython3",
   "version": "3.13.0"
  },
  "numbering": {
   "headings": false
  }
 },
 "nbformat": 4,
 "nbformat_minor": 5
}
