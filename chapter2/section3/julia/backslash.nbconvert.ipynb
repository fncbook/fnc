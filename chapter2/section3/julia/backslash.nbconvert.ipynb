{
 "cells": [
  {
   "cell_type": "code",
   "execution_count": 1,
   "id": "8a1c9d71",
   "metadata": {
    "execution": {
     "iopub.execute_input": "2025-01-14T15:25:12.792000Z",
     "iopub.status.busy": "2025-01-14T15:25:09.495000Z",
     "iopub.status.idle": "2025-01-14T15:26:19.259000Z",
     "shell.execute_reply": "2025-01-14T15:26:18.092000Z"
    }
   },
   "outputs": [
    {
     "name": "stderr",
     "output_type": "stream",
     "text": [
      "\u001b[32m\u001b[1m  Activating\u001b[22m\u001b[39m "
     ]
    },
    {
     "name": "stderr",
     "output_type": "stream",
     "text": [
      "project at `~/Documents/GitHub/fnc`\n"
     ]
    }
   ],
   "source": [
    "include(\"../../../julia/FNC_init.jl\")"
   ]
  },
  {
   "cell_type": "markdown",
   "id": "85a4f04d",
   "metadata": {},
   "source": [
    "[**Demo %s**](#demo-systems-backslash)\n",
    "\n",
    "For a square matrix $\\mathbf{A}$, the syntax `A \\ b` is mathematically equivalent to $\\mathbf{A}^{-1} \\mathbf{b}$."
   ]
  },
  {
   "cell_type": "code",
   "execution_count": 2,
   "id": "2d701513",
   "metadata": {
    "execution": {
     "iopub.execute_input": "2025-01-14T15:26:21.862000Z",
     "iopub.status.busy": "2025-01-14T15:26:19.269000Z",
     "iopub.status.idle": "2025-01-14T15:26:40.559000Z",
     "shell.execute_reply": "2025-01-14T15:26:40.536000Z"
    }
   },
   "outputs": [
    {
     "data": {
      "text/plain": [
       "3×3 Matrix{Int64}:\n",
       "  1   0  -1\n",
       "  2   2   1\n",
       " -1  -3   0"
      ]
     },
     "execution_count": 2,
     "metadata": {},
     "output_type": "execute_result"
    }
   ],
   "source": [
    "A = [1 0 -1; 2 2 1; -1 -3 0]"
   ]
  },
  {
   "cell_type": "code",
   "execution_count": 3,
   "id": "09a5a3d5",
   "metadata": {
    "execution": {
     "iopub.execute_input": "2025-01-14T15:26:40.582000Z",
     "iopub.status.busy": "2025-01-14T15:26:40.578000Z",
     "iopub.status.idle": "2025-01-14T15:26:43.629000Z",
     "shell.execute_reply": "2025-01-14T15:26:43.628000Z"
    }
   },
   "outputs": [
    {
     "data": {
      "text/plain": [
       "3-element Vector{Int64}:\n",
       " 1\n",
       " 2\n",
       " 3"
      ]
     },
     "execution_count": 3,
     "metadata": {},
     "output_type": "execute_result"
    }
   ],
   "source": [
    "b = [1, 2, 3]"
   ]
  },
  {
   "cell_type": "code",
   "execution_count": 4,
   "id": "95c2791f",
   "metadata": {
    "execution": {
     "iopub.execute_input": "2025-01-14T15:26:43.652000Z",
     "iopub.status.busy": "2025-01-14T15:26:43.651000Z",
     "iopub.status.idle": "2025-01-14T15:26:51.476000Z",
     "shell.execute_reply": "2025-01-14T15:26:51.370000Z"
    }
   },
   "outputs": [
    {
     "data": {
      "text/plain": [
       "3-element Vector{Float64}:\n",
       "  2.1428571428571432\n",
       " -1.7142857142857144\n",
       "  1.1428571428571428"
      ]
     },
     "execution_count": 4,
     "metadata": {},
     "output_type": "execute_result"
    }
   ],
   "source": [
    "x = A \\ b"
   ]
  },
  {
   "cell_type": "markdown",
   "id": "d3ebfe23",
   "metadata": {},
   "source": [
    "```{index} residual\n",
    "```\n",
    "\n",
    "One way to check the answer is to compute a quantity known as the **residual**. It is (ideally) close to machine precision (relative to the elements in the data)."
   ]
  },
  {
   "cell_type": "code",
   "execution_count": 5,
   "id": "31c08b31",
   "metadata": {
    "execution": {
     "iopub.execute_input": "2025-01-14T15:26:51.484000Z",
     "iopub.status.busy": "2025-01-14T15:26:51.484000Z",
     "iopub.status.idle": "2025-01-14T15:26:52.332000Z",
     "shell.execute_reply": "2025-01-14T15:26:52.331000Z"
    }
   },
   "outputs": [
    {
     "data": {
      "text/plain": [
       "3-element Vector{Float64}:\n",
       " -4.440892098500626e-16\n",
       " -4.440892098500626e-16\n",
       "  0.0"
      ]
     },
     "execution_count": 5,
     "metadata": {},
     "output_type": "execute_result"
    }
   ],
   "source": [
    "residual = b - A * x"
   ]
  },
  {
   "cell_type": "markdown",
   "id": "c1eff0dc",
   "metadata": {},
   "source": [
    "If the matrix $\\mathbf{A}$ is singular, you may get an error."
   ]
  },
  {
   "cell_type": "code",
   "execution_count": 6,
   "id": "2fb66e78",
   "metadata": {
    "execution": {
     "iopub.execute_input": "2025-01-14T15:26:52.337000Z",
     "iopub.status.busy": "2025-01-14T15:26:52.337000Z",
     "iopub.status.idle": "2025-01-14T15:27:04.163000Z",
     "shell.execute_reply": "2025-01-14T15:27:04.161000Z"
    },
    "tags": [
     "raises-exception"
    ]
   },
   "outputs": [
    {
     "ename": "LoadError",
     "evalue": "SingularException(2)",
     "output_type": "error",
     "traceback": [
      "SingularException(2)",
      "",
      "Stacktrace:",
      " [1] generic_trimatdiv!(C::Vector{Float64}, uploc::Char, isunitc::Char, tfun::typeof(identity), A::Matrix{Int64}, B::Vector{Int64})",
      "   @ LinearAlgebra ~/.julia/juliaup/julia-1.11.2+0.aarch64.apple.darwin14/share/julia/stdlib/v1.11/LinearAlgebra/src/triangular.jl:1388",
      " [2] _ldiv!",
      "   @ ~/.julia/juliaup/julia-1.11.2+0.aarch64.apple.darwin14/share/julia/stdlib/v1.11/LinearAlgebra/src/triangular.jl:966 [inlined]",
      " [3] ldiv!",
      "   @ ~/.julia/juliaup/julia-1.11.2+0.aarch64.apple.darwin14/share/julia/stdlib/v1.11/LinearAlgebra/src/triangular.jl:959 [inlined]",
      " [4] \\",
      "   @ ~/.julia/juliaup/julia-1.11.2+0.aarch64.apple.darwin14/share/julia/stdlib/v1.11/LinearAlgebra/src/triangular.jl:1721 [inlined]",
      " [5] \\(A::Matrix{Int64}, B::Vector{Int64})",
      "   @ LinearAlgebra ~/.julia/juliaup/julia-1.11.2+0.aarch64.apple.darwin14/share/julia/stdlib/v1.11/LinearAlgebra/src/generic.jl:1130",
      " [6] top-level scope",
      "   @ In[6]:3"
     ]
    }
   ],
   "source": [
    "A = [0 1; 0 0]\n",
    "b = [1, -1]\n",
    "x = A \\ b    # throws an error"
   ]
  },
  {
   "cell_type": "markdown",
   "id": "8694b19c",
   "metadata": {},
   "source": [
    "```{index} ! Julia; rank\n",
    "```\n",
    "\n",
    "In this case we can check that the rank of $\\mathbf{A}$ is less than its number of columns, indicating singularity.\n",
    "```{tip}\n",
    ":class: dropdown\n",
    "The function `rank` computes the rank of a matrix. However, it is numerically unstable for matrices that are nearly singular, in a sense to be defined in a later section.\n",
    "```"
   ]
  },
  {
   "cell_type": "code",
   "execution_count": 7,
   "id": "66df95f8",
   "metadata": {
    "execution": {
     "iopub.execute_input": "2025-01-14T15:27:04.195000Z",
     "iopub.status.busy": "2025-01-14T15:27:04.193000Z",
     "iopub.status.idle": "2025-01-14T15:27:05.604000Z",
     "shell.execute_reply": "2025-01-14T15:27:05.603000Z"
    }
   },
   "outputs": [
    {
     "data": {
      "text/plain": [
       "1"
      ]
     },
     "execution_count": 7,
     "metadata": {},
     "output_type": "execute_result"
    }
   ],
   "source": [
    "rank(A)"
   ]
  },
  {
   "cell_type": "markdown",
   "id": "3ef6b59b",
   "metadata": {},
   "source": [
    "A linear system with a singular matrix might have no solution or infinitely many solutions, but in either case, backslash will fail. Moreover, detecting singularity is a lot like checking whether two floating-point numbers are *exactly* equal: because of roundoff, it could be missed. In {numref}`section-linsys-condition-number` we'll find a robust way to fully describe this situation."
   ]
  }
 ],
 "metadata": {
  "kernelspec": {
   "display_name": "Julia 1",
   "language": "julia",
   "name": "julia-1.11"
  },
  "language_info": {
   "file_extension": ".jl",
   "mimetype": "application/julia",
   "name": "julia",
   "version": "1.11.2"
  },
  "numbering": {
   "headings": false
  }
 },
 "nbformat": 4,
 "nbformat_minor": 5
}
