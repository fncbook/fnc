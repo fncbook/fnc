{
 "cells": [
  {
   "cell_type": "code",
   "execution_count": 1,
   "id": "ae392b17",
   "metadata": {
    "execution": {
     "iopub.execute_input": "2025-01-11T17:43:16.445211Z",
     "iopub.status.busy": "2025-01-11T17:43:16.445118Z",
     "iopub.status.idle": "2025-01-11T17:43:16.779376Z",
     "shell.execute_reply": "2025-01-11T17:43:16.779100Z"
    },
    "tags": [
     "remove-cell"
    ]
   },
   "outputs": [],
   "source": [
    "exec(open(\"../../../python/FNC_init.py\").read())"
   ]
  },
  {
   "cell_type": "markdown",
   "id": "f05f70b0",
   "metadata": {},
   "source": [
    "[**Demo %s**](#demo-systems-triangular)\n",
    "\n",
    "\n",
    "```{index} ! Python; tril, ! Python; triu\n",
    "```\n",
    "\n",
    "It's easy to get just the lower triangular part of any matrix using the `tril` function."
   ]
  },
  {
   "cell_type": "code",
   "execution_count": 2,
   "id": "4bd4ae08",
   "metadata": {
    "execution": {
     "iopub.execute_input": "2025-01-11T17:43:16.780922Z",
     "iopub.status.busy": "2025-01-11T17:43:16.780780Z",
     "iopub.status.idle": "2025-01-11T17:43:16.782928Z",
     "shell.execute_reply": "2025-01-11T17:43:16.782696Z"
    }
   },
   "outputs": [
    {
     "name": "stdout",
     "output_type": "stream",
     "text": [
      "[[6. 0. 0. 0. 0.]\n",
      " [6. 9. 0. 0. 0.]\n",
      " [9. 4. 3. 0. 0.]\n",
      " [2. 2. 5. 7. 0.]\n",
      " [7. 3. 7. 6. 4.]]\n"
     ]
    }
   ],
   "source": [
    "A = 1 + floor(9 * random.rand(5, 5))\n",
    "L = tril(A)\n",
    "print(L)"
   ]
  },
  {
   "cell_type": "markdown",
   "id": "42c55f83",
   "metadata": {},
   "source": [
    "We'll set up and solve a linear system with this matrix."
   ]
  },
  {
   "cell_type": "code",
   "execution_count": 3,
   "id": "d80b1330",
   "metadata": {
    "execution": {
     "iopub.execute_input": "2025-01-11T17:43:16.784035Z",
     "iopub.status.busy": "2025-01-11T17:43:16.783951Z",
     "iopub.status.idle": "2025-01-11T17:43:16.785692Z",
     "shell.execute_reply": "2025-01-11T17:43:16.785479Z"
    }
   },
   "outputs": [
    {
     "name": "stdout",
     "output_type": "stream",
     "text": [
      "[ 0.16666667  0.         -0.16666667  0.21428571 -0.07142857]\n"
     ]
    }
   ],
   "source": [
    "b = ones(5)\n",
    "x = FNC.forwardsub(L, b)\n",
    "print(x)"
   ]
  },
  {
   "cell_type": "markdown",
   "id": "6f69ff8d",
   "metadata": {},
   "source": [
    "It's not clear how accurate this answer is. However, the residual should be zero or comparable to $\\macheps$."
   ]
  },
  {
   "cell_type": "code",
   "execution_count": 4,
   "id": "78d23447",
   "metadata": {
    "execution": {
     "iopub.execute_input": "2025-01-11T17:43:16.789502Z",
     "iopub.status.busy": "2025-01-11T17:43:16.789377Z",
     "iopub.status.idle": "2025-01-11T17:43:16.792252Z",
     "shell.execute_reply": "2025-01-11T17:43:16.792025Z"
    }
   },
   "outputs": [
    {
     "data": {
      "text/plain": [
       "array([0.00000000e+00, 0.00000000e+00, 0.00000000e+00, 0.00000000e+00,\n",
       "       1.11022302e-16])"
      ]
     },
     "execution_count": 4,
     "metadata": {},
     "output_type": "execute_result"
    }
   ],
   "source": [
    "b - L @ x"
   ]
  },
  {
   "cell_type": "markdown",
   "id": "c9245bbf",
   "metadata": {},
   "source": [
    "Next we'll engineer a problem to which we know the exact answer."
   ]
  },
  {
   "cell_type": "code",
   "execution_count": 5,
   "id": "1dfbda00",
   "metadata": {
    "execution": {
     "iopub.execute_input": "2025-01-11T17:43:16.793428Z",
     "iopub.status.busy": "2025-01-11T17:43:16.793337Z",
     "iopub.status.idle": "2025-01-11T17:43:16.795311Z",
     "shell.execute_reply": "2025-01-11T17:43:16.795088Z"
    }
   },
   "outputs": [
    {
     "name": "stdout",
     "output_type": "stream",
     "text": [
      "[[ 1.  -1.   0.  -1.9  2.2]\n",
      " [ 0.   1.  -1.   0.   0. ]\n",
      " [ 0.   0.   1.  -1.   0. ]\n",
      " [ 0.   0.   0.   1.  -1. ]\n",
      " [ 0.   0.   0.   0.   1. ]]\n"
     ]
    }
   ],
   "source": [
    "alpha = 0.3;\n",
    "beta = 2.2;\n",
    "U = diag(ones(5)) + diag([-1, -1, -1, -1], k=1)\n",
    "U[0, 3:5] = [ alpha - beta, beta ]\n",
    "print(U)"
   ]
  },
  {
   "cell_type": "code",
   "execution_count": 6,
   "id": "144ba0ae",
   "metadata": {
    "execution": {
     "iopub.execute_input": "2025-01-11T17:43:16.796361Z",
     "iopub.status.busy": "2025-01-11T17:43:16.796288Z",
     "iopub.status.idle": "2025-01-11T17:43:16.798238Z",
     "shell.execute_reply": "2025-01-11T17:43:16.797997Z"
    }
   },
   "outputs": [
    {
     "name": "stdout",
     "output_type": "stream",
     "text": [
      "error: [2.22044605e-16 0.00000000e+00 0.00000000e+00 0.00000000e+00\n",
      " 0.00000000e+00]\n"
     ]
    }
   ],
   "source": [
    "x_exact = ones(5)\n",
    "b = array([alpha, 0, 0, 0, 1])\n",
    "x = FNC.backsub(U, b)\n",
    "print(\"error:\", x - x_exact)"
   ]
  },
  {
   "cell_type": "markdown",
   "id": "87560616",
   "metadata": {},
   "source": [
    "Everything seems OK here. But another example, with a different value for $\\beta$, is more troubling."
   ]
  },
  {
   "cell_type": "code",
   "execution_count": 7,
   "id": "e794f7f1",
   "metadata": {
    "execution": {
     "iopub.execute_input": "2025-01-11T17:43:16.799331Z",
     "iopub.status.busy": "2025-01-11T17:43:16.799256Z",
     "iopub.status.idle": "2025-01-11T17:43:16.801347Z",
     "shell.execute_reply": "2025-01-11T17:43:16.801129Z"
    }
   },
   "outputs": [
    {
     "name": "stdout",
     "output_type": "stream",
     "text": [
      "error: [-4.8828125e-05  0.0000000e+00  0.0000000e+00  0.0000000e+00\n",
      "  0.0000000e+00]\n"
     ]
    }
   ],
   "source": [
    "alpha = 0.3;\n",
    "beta = 1e12;\n",
    "U = diag(ones(5)) + diag([-1, -1, -1, -1], k=1)\n",
    "U[0, 3:5] = [ alpha - beta, beta ]\n",
    "b = array([alpha, 0, 0, 0, 1])\n",
    "\n",
    "x = FNC.backsub(U, b)\n",
    "print(\"error:\", x - x_exact)"
   ]
  },
  {
   "cell_type": "markdown",
   "id": "5d0efb78",
   "metadata": {},
   "source": [
    "It's not so good to get 4 digits of accuracy after starting with sixteen! But the source of the error is not hard to track down. Solving for $x_1$ performs $(\\alpha-\\beta)+\\beta$ in the first row. Since $|\\alpha|$ is so much smaller than $|\\beta|$, this a recipe for losing digits to subtractive cancellation."
   ]
  }
 ],
 "metadata": {
  "kernelspec": {
   "display_name": "Python 3",
   "language": "python",
   "name": "python3"
  },
  "language_info": {
   "codemirror_mode": {
    "name": "ipython",
    "version": 3
   },
   "file_extension": ".py",
   "mimetype": "text/x-python",
   "name": "python",
   "nbconvert_exporter": "python",
   "pygments_lexer": "ipython3",
   "version": "3.13.0"
  },
  "numbering": {
   "headings": false
  }
 },
 "nbformat": 4,
 "nbformat_minor": 5
}
