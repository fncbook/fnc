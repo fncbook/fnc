{
 "cells": [
  {
   "cell_type": "code",
   "execution_count": 1,
   "id": "3e5cbe91",
   "metadata": {
    "tags": [
     "remove-cell"
    ]
   },
   "outputs": [],
   "source": [
    "cd  /Users/driscoll/Documents/GitHub/fnc/matlab\n",
    "FNC_init"
   ]
  },
  {
   "cell_type": "markdown",
   "id": "df063ae8",
   "metadata": {},
   "source": [
    "[**Demo %s**](#demo-systems-backslash)\n",
    "\n",
    "For a square matrix $\\mathbf{A}$, the syntax `A \\ b` is mathematically equivalent to $\\mathbf{A}^{-1} \\mathbf{b}$."
   ]
  },
  {
   "cell_type": "code",
   "execution_count": 2,
   "id": "49399226",
   "metadata": {},
   "outputs": [
    {
     "data": {
      "text/html": [
       "<html><body><pre>A = 3×3 double\n",
       "     1     0    -1\n",
       "     2     2     1\n",
       "    -1    -3     0\n",
       "</pre></body></html>"
      ],
      "text/plain": [
       "A = 3×3 double\n",
       "     1     0    -1\n",
       "     2     2     1\n",
       "    -1    -3     0\n"
      ]
     },
     "execution_count": 2,
     "metadata": {},
     "output_type": "execute_result"
    }
   ],
   "source": [
    "A = [1 0 -1; 2 2 1; -1 -3 0]"
   ]
  },
  {
   "cell_type": "code",
   "execution_count": 3,
   "id": "c2bea4f9",
   "metadata": {},
   "outputs": [
    {
     "data": {
      "text/html": [
       "<html><body><pre>b = 3×1 double\n",
       "     1\n",
       "     2\n",
       "     3\n",
       "</pre></body></html>"
      ],
      "text/plain": [
       "b = 3×1 double\n",
       "     1\n",
       "     2\n",
       "     3\n"
      ]
     },
     "execution_count": 3,
     "metadata": {},
     "output_type": "execute_result"
    }
   ],
   "source": [
    "b = [1; 2; 3]"
   ]
  },
  {
   "cell_type": "code",
   "execution_count": 4,
   "id": "2fdb68f6",
   "metadata": {},
   "outputs": [
    {
     "data": {
      "text/html": [
       "<html><body><pre>x = 3×1 double\n",
       "    2.1429\n",
       "   -1.7143\n",
       "    1.1429\n",
       "</pre></body></html>"
      ],
      "text/plain": [
       "x = 3×1 double\n",
       "    2.1429\n",
       "   -1.7143\n",
       "    1.1429\n"
      ]
     },
     "execution_count": 4,
     "metadata": {},
     "output_type": "execute_result"
    }
   ],
   "source": [
    "x = A \\ b"
   ]
  },
  {
   "cell_type": "markdown",
   "id": "bb414c82",
   "metadata": {},
   "source": [
    "```{index} residual\n",
    "```\n",
    "\n",
    "One way to check the answer is to compute a quantity known as the **residual**. It is (ideally) close to machine precision (relative to the elements in the data)."
   ]
  },
  {
   "cell_type": "code",
   "execution_count": 5,
   "id": "8de3ddb3",
   "metadata": {},
   "outputs": [
    {
     "data": {
      "text/html": [
       "<html><body><pre>residual = 3×1 double\n",
       "1.0e-15 *\n",
       "\n",
       "   -0.4441\n",
       "   -0.4441\n",
       "         0\n",
       "</pre></body></html>"
      ],
      "text/plain": [
       "residual = 3×1 double\n",
       "1.0e-15 *\n",
       "\n",
       "   -0.4441\n",
       "   -0.4441\n",
       "         0\n"
      ]
     },
     "execution_count": 5,
     "metadata": {},
     "output_type": "execute_result"
    }
   ],
   "source": [
    "residual = b - A*x"
   ]
  },
  {
   "cell_type": "markdown",
   "id": "cffcc97b",
   "metadata": {},
   "source": [
    "If the matrix $\\mathbf{A}$ is singular, you may get a warning and nonsense result."
   ]
  },
  {
   "cell_type": "code",
   "execution_count": 6,
   "id": "6fcb5702",
   "metadata": {
    "tags": [
     "raises-exception"
    ]
   },
   "outputs": [
    {
     "data": {
      "text/html": [
       "<html><body><pre>A = 2×2 double\n",
       "     0     1\n",
       "     0     0\n",
       "</pre></body></html>"
      ],
      "text/plain": [
       "A = 2×2 double\n",
       "     0     1\n",
       "     0     0\n"
      ]
     },
     "execution_count": 6,
     "metadata": {},
     "output_type": "execute_result"
    },
    {
     "data": {
      "text/html": [
       "<html><body><pre>b = 2×1 double\n",
       "     1\n",
       "    -1\n",
       "</pre></body></html>"
      ],
      "text/plain": [
       "b = 2×1 double\n",
       "     1\n",
       "    -1\n"
      ]
     },
     "execution_count": 6,
     "metadata": {},
     "output_type": "execute_result"
    },
    {
     "name": "stderr",
     "output_type": "stream",
     "text": [
      "Warning: Matrix is singular to working precision."
     ]
    },
    {
     "data": {
      "text/html": [
       "<html><body><pre>x = 2×1 double\n",
       "   Inf\n",
       "  -Inf\n",
       "</pre></body></html>"
      ],
      "text/plain": [
       "x = 2×1 double\n",
       "   Inf\n",
       "  -Inf\n"
      ]
     },
     "execution_count": 6,
     "metadata": {},
     "output_type": "execute_result"
    }
   ],
   "source": [
    "A = [0 1; 0 0]\n",
    "b = [1; -1]\n",
    "x = A \\ b"
   ]
  },
  {
   "cell_type": "markdown",
   "id": "89fff5ef",
   "metadata": {},
   "source": [
    "In this case, we can check that the rank of $\\mathbf{A}$ is less than its number of columns, indicating singularity.\n",
    "```{tip}\n",
    ":class: dropdown\n",
    "The function `rank` computes the rank of a matrix. However, it is numerically unstable for matrices that are nearly singular, in a sense to be defined in a later section.\n",
    "```"
   ]
  },
  {
   "cell_type": "code",
   "execution_count": 7,
   "id": "2077b564",
   "metadata": {},
   "outputs": [
    {
     "data": {
      "text/html": [
       "<html><body><pre>ans = 1</pre></body></html>"
      ],
      "text/plain": [
       "ans = 1"
      ]
     },
     "execution_count": 7,
     "metadata": {},
     "output_type": "execute_result"
    }
   ],
   "source": [
    "rank(A)"
   ]
  },
  {
   "cell_type": "markdown",
   "id": "6136c68c",
   "metadata": {},
   "source": [
    "A linear system with a singular matrix might have no solution or infinitely many solutions, but in either case, backslash will fail. Moreover, detecting singularity is a lot like checking whether two floating-point numbers are *exactly* equal: because of roundoff, it could be missed. In {numref}`section-linsys-condition-number` we'll find a robust way to fully describe this situation."
   ]
  }
 ],
 "metadata": {
  "kernelspec": {
   "display_name": "MATLAB Kernel",
   "language": "matlab",
   "name": "jupyter_matlab_kernel"
  },
  "language_info": {
   "file_extension": ".m",
   "mimetype": "text/x-matlab",
   "name": "matlab"
  },
  "numbering": {
   "headings": false
  }
 },
 "nbformat": 4,
 "nbformat_minor": 5
}
