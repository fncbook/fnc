{
 "cells": [
  {
   "cell_type": "code",
   "execution_count": 1,
   "id": "82a51eb3",
   "metadata": {
    "execution": {
     "iopub.execute_input": "2025-01-05T09:30:09.893000Z",
     "iopub.status.busy": "2025-01-05T09:30:09.601000Z",
     "iopub.status.idle": "2025-01-05T09:30:17.152000Z",
     "shell.execute_reply": "2025-01-05T09:30:17.108000Z"
    }
   },
   "outputs": [
    {
     "name": "stderr",
     "output_type": "stream",
     "text": [
      "\u001b[32m\u001b[1m  Activating\u001b[22m\u001b[39m "
     ]
    },
    {
     "name": "stderr",
     "output_type": "stream",
     "text": [
      "project at `~/Documents/GitHub/fnc`\n"
     ]
    }
   ],
   "source": [
    "include(\"../../../julia/FNC_init.jl\")"
   ]
  },
  {
   "cell_type": "markdown",
   "id": "83eb59c7",
   "metadata": {},
   "source": [
    "[**Demo %s**](#demo-interp-vander)\n",
    "\n",
    "\n",
    "We create two vectors for data about the population of China. The first has the years of census data and the other has the population, in millions of people."
   ]
  },
  {
   "cell_type": "code",
   "execution_count": 2,
   "id": "26ed9771",
   "metadata": {
    "execution": {
     "iopub.execute_input": "2025-01-05T09:30:17.334000Z",
     "iopub.status.busy": "2025-01-05T09:30:17.154000Z",
     "iopub.status.idle": "2025-01-05T09:30:17.375000Z",
     "shell.execute_reply": "2025-01-05T09:30:17.375000Z"
    }
   },
   "outputs": [],
   "source": [
    "year = [1982, 2000, 2010, 2015]; \n",
    "pop = [1008.18, 1262.64, 1337.82, 1374.62];"
   ]
  },
  {
   "cell_type": "markdown",
   "id": "83d450bb",
   "metadata": {},
   "source": [
    ":::{index} ! Julia; .-, ! Julia; .+\n",
    ":::\n",
    "\n",
    ":::{index} Julia; broadcasting\n",
    ":::\n",
    "\n",
    "It's convenient to measure time in years since 1980. We use `.-` to subtract a scalar from every element of a vector. We will also use a floating-point value in the subtraction, so the result is also in double precision.\n",
    "```{tip}\n",
    ":class: dropdown\n",
    "A dotted operator such as `.-` or `.*` acts elementwise, broadcasting scalar values to match up with elements of an array.\n",
    "```"
   ]
  },
  {
   "cell_type": "code",
   "execution_count": 3,
   "id": "5c1f3254",
   "metadata": {
    "execution": {
     "iopub.execute_input": "2025-01-05T09:30:17.376000Z",
     "iopub.status.busy": "2025-01-05T09:30:17.376000Z",
     "iopub.status.idle": "2025-01-05T09:30:17.396000Z",
     "shell.execute_reply": "2025-01-05T09:30:17.396000Z"
    }
   },
   "outputs": [],
   "source": [
    "t = year .- 1980.0\n",
    "y = pop;"
   ]
  },
  {
   "cell_type": "markdown",
   "id": "5a31759b",
   "metadata": {},
   "source": [
    ":::{index} ! Julia; comprehension\n",
    ":::\n",
    "\n",
    "Now we have four data points $(t_1,y_1),\\dots,(t_4,y_4)$, so $n=4$ and we seek an interpolating cubic polynomial. We construct the associated Vandermonde matrix:\n",
    "```{tip}\n",
    ":class: dropdown\n",
    "An expression inside square brackets and ending with a `for` statement is called a **comprehension**. It's often an easy and readable way to construct vectors and matrices. \n",
    "```"
   ]
  },
  {
   "cell_type": "code",
   "execution_count": 4,
   "id": "66b3f013",
   "metadata": {
    "execution": {
     "iopub.execute_input": "2025-01-05T09:30:17.398000Z",
     "iopub.status.busy": "2025-01-05T09:30:17.397000Z",
     "iopub.status.idle": "2025-01-05T09:30:18.525000Z",
     "shell.execute_reply": "2025-01-05T09:30:18.524000Z"
    }
   },
   "outputs": [
    {
     "data": {
      "text/plain": [
       "4×4 Matrix{Float64}:\n",
       " 1.0   2.0     4.0      8.0\n",
       " 1.0  20.0   400.0   8000.0\n",
       " 1.0  30.0   900.0  27000.0\n",
       " 1.0  35.0  1225.0  42875.0"
      ]
     },
     "execution_count": 4,
     "metadata": {},
     "output_type": "execute_result"
    }
   ],
   "source": [
    "V = [ t[i]^j for i in 1:4, j in 0:3 ]"
   ]
  },
  {
   "cell_type": "markdown",
   "id": "b5e0495f",
   "metadata": {},
   "source": [
    ":::{index} ! Julia; \\\\\n",
    ":::\n",
    "\n",
    "To solve for the vector of polynomial coefficients, we use a backslash to solve the linear system:\n",
    "```{tip}\n",
    ":class: dropdown\n",
    "A **backslash** `\\` is used to solve a linear system of equations.\n",
    "```"
   ]
  },
  {
   "cell_type": "code",
   "execution_count": 5,
   "id": "87b513e0",
   "metadata": {
    "execution": {
     "iopub.execute_input": "2025-01-05T09:30:18.528000Z",
     "iopub.status.busy": "2025-01-05T09:30:18.528000Z",
     "iopub.status.idle": "2025-01-05T09:30:18.788000Z",
     "shell.execute_reply": "2025-01-05T09:30:18.787000Z"
    }
   },
   "outputs": [
    {
     "data": {
      "text/plain": [
       "4-element Vector{Float64}:\n",
       " 962.2387878787875\n",
       "  24.127754689754774\n",
       "  -0.5922620490620537\n",
       "   0.00684386724386731"
      ]
     },
     "execution_count": 5,
     "metadata": {},
     "output_type": "execute_result"
    }
   ],
   "source": [
    "c = V \\ y"
   ]
  },
  {
   "cell_type": "markdown",
   "id": "b9693eeb",
   "metadata": {},
   "source": [
    "The algorithms used by the backslash operator are the main topic of this chapter. As a check on the solution, we can compute the *residual*."
   ]
  },
  {
   "cell_type": "code",
   "execution_count": 6,
   "id": "09772516",
   "metadata": {
    "execution": {
     "iopub.execute_input": "2025-01-05T09:30:18.789000Z",
     "iopub.status.busy": "2025-01-05T09:30:18.789000Z",
     "iopub.status.idle": "2025-01-05T09:30:18.791000Z",
     "shell.execute_reply": "2025-01-05T09:30:18.791000Z"
    }
   },
   "outputs": [
    {
     "data": {
      "text/plain": [
       "4-element Vector{Float64}:\n",
       " 0.0\n",
       " 0.0\n",
       " 2.2737367544323206e-13\n",
       " 0.0"
      ]
     },
     "execution_count": 6,
     "metadata": {},
     "output_type": "execute_result"
    }
   ],
   "source": [
    "y - V * c"
   ]
  },
  {
   "cell_type": "markdown",
   "id": "5d6761dc",
   "metadata": {},
   "source": [
    "Using floating-point arithmetic, it is not realistic to expect exact equality of quantities; a relative difference comparable to $\\macheps$ is all we can look for.\n",
    "\n",
    "By our definitions, the elements of `c` are coefficients in ascending-degree order for the interpolating polynomial. We can use the polynomial to estimate the population of China in 2005:\n",
    "```{tip}\n",
    ":class: dropdown\n",
    "The `Polynomials` package has functions to make working with polynomials easy and efficient.\n",
    "```"
   ]
  },
  {
   "cell_type": "code",
   "execution_count": 7,
   "id": "e9fa8dd2",
   "metadata": {
    "execution": {
     "iopub.execute_input": "2025-01-05T09:30:18.792000Z",
     "iopub.status.busy": "2025-01-05T09:30:18.792000Z",
     "iopub.status.idle": "2025-01-05T09:30:18.866000Z",
     "shell.execute_reply": "2025-01-05T09:30:18.866000Z"
    }
   },
   "outputs": [
    {
     "data": {
      "text/plain": [
       "1302.2043001443"
      ]
     },
     "execution_count": 7,
     "metadata": {},
     "output_type": "execute_result"
    }
   ],
   "source": [
    "using Polynomials\n",
    "p = Polynomial(c)    # construct a polynomial\n",
    "p(2005-1980)         # include the 1980 time shift"
   ]
  },
  {
   "cell_type": "markdown",
   "id": "bf1b0511",
   "metadata": {},
   "source": [
    "The official population value for 2005 was 1303.72, so our result is rather good. \n",
    "\n",
    ":::{index} ! Julia; scatter\n",
    ":::\n",
    "\n",
    "We can visualize the interpolation process. First, we plot the data as points.\n",
    "```{tip}\n",
    ":class: dropdown\n",
    "The `scatter` function creates a scatter plot of points; you can specify a line connecting the points as well.\n",
    "```\n",
    "We want to superimpose a plot of the polynomial. We do that by evaluating it at a vector of points in the interval. The dot after the name of the polynomial is a universal way to apply a function to every element of an array, a technique known as **broadcasting**.\n",
    ":::{card}\n",
    "The `range` function constructs evenly spaced values given the endpoints and either the number of values, or the step size between them.\n",
    "\n",
    "Adding a dot to the end of a function name causes it to be broadcast, i.e., applied to every element of a vector or matrix.\n",
    ":::\n",
    "::::"
   ]
  },
  {
   "cell_type": "code",
   "execution_count": 8,
   "id": "06b2d0db",
   "metadata": {
    "execution": {
     "iopub.execute_input": "2025-01-05T09:30:18.868000Z",
     "iopub.status.busy": "2025-01-05T09:30:18.868000Z",
     "iopub.status.idle": "2025-01-05T09:30:18.932000Z",
     "shell.execute_reply": "2025-01-05T09:30:18.931000Z"
    }
   },
   "outputs": [
    {
     "name": "stdout",
     "output_type": "stream",
     "text": [
      "962.2387878787875\n"
     ]
    },
    {
     "name": "stdout",
     "output_type": "stream",
     "text": [
      "963.9282039963299\n",
      "965.6118068288089\n",
      "967.2896105457506\n"
     ]
    }
   ],
   "source": [
    "# Choose 500 times in the interval [0,35].\n",
    "tt = range(0, 35, 500)\n",
    "\n",
    "# Evaluate the polynomial at all the vector components.\n",
    "yy = p.(tt)\n",
    "\n",
    "foreach(println, yy[1:4])"
   ]
  },
  {
   "cell_type": "markdown",
   "id": "2aaa70d1",
   "metadata": {},
   "source": [
    ":::{index} ! Julia; \\!\n",
    ":::\n",
    "\n",
    "Now we use `plot!` to add to the current plot, rather than replacing it.\n",
    "```{tip}\n",
    ":class: dropdown\n",
    "The `plot` function plots lines connecting the given $x$ and $y$ values; you can also specify markers at the points.\n",
    "By convention, functions whose names end with the bang `!` change the value or state of something, in addition to possibly returning output.\n",
    "```"
   ]
  },
  {
   "cell_type": "code",
   "execution_count": 9,
   "id": "221d2746",
   "metadata": {
    "execution": {
     "iopub.execute_input": "2025-01-05T09:30:18.933000Z",
     "iopub.status.busy": "2025-01-05T09:30:18.933000Z",
     "iopub.status.idle": "2025-01-05T09:30:20.503000Z",
     "shell.execute_reply": "2025-01-05T09:30:20.503000Z"
    }
   },
   "outputs": [
    {
     "data": {
      "image/png": "[encoded data removed]",
      "image/svg+xml": [
       "<?xml version=\"1.0\" encoding=\"utf-8\"?>\n",
       "<svg xmlns=\"http://www.w3.org/2000/svg\" xmlns:xlink=\"http://www.w3.org/1999/xlink\" width=\"500\" height=\"320\" viewBox=\"0 0 2000 1280\">\n",
       "<defs>\n",
       "  <clipPath id=\"clip460\">\n",
       "    <rect x=\"0\" y=\"0\" width=\"2000\" height=\"1280\"/>\n",
       "  </clipPath>\n",
       "</defs>\n",
       "<path clip-path=\"url(#clip460)\" d=\"M0 1280 L2000 1280 L2000 0 L0 0  Z\" fill=\"#ffffff\" fill-rule=\"evenodd\" fill-opacity=\"1\"/>\n",
       "<defs>\n",
       "  <clipPath id=\"clip461\">\n",
       "    <rect x=\"400\" y=\"0\" width=\"1401\" height=\"1280\"/>\n",
       "  </clipPath>\n",
       "</defs>\n",
       "<path clip-path=\"url(#clip460)\" d=\"M195.283 1171.03 L1952.76 1171.03 L1952.76 47.2441 L195.283 47.2441  Z\" fill=\"#ffffff\" fill-rule=\"evenodd\" fill-opacity=\"1\"/>\n",
       "<defs>\n",
       "  <clipPath id=\"clip462\">\n",
       "    <rect x=\"195\" y=\"47\" width=\"1758\" height=\"1125\"/>\n",
       "  </clipPath>\n",
       "</defs>\n",
       "<polyline clip-path=\"url(#clip462)\" style=\"stroke:#000000; stroke-linecap:round; stroke-linejoin:round; stroke-width:2; stroke-opacity:0.1; fill:none\" points=\"245.023,1171.03 245.023,47.2441 \"/>\n",
       "<polyline clip-path=\"url(#clip462)\" style=\"stroke:#000000; stroke-linecap:round; stroke-linejoin:round; stroke-width:2; stroke-opacity:0.1; fill:none\" points=\"718.735,1171.03 718.735,47.2441 \"/>\n",
       "<polyline clip-path=\"url(#clip462)\" style=\"stroke:#000000; stroke-linecap:round; stroke-linejoin:round; stroke-width:2; stroke-opacity:0.1; fill:none\" points=\"1192.45,1171.03 1192.45,47.2441 \"/>\n",
       "<polyline clip-path=\"url(#clip462)\" style=\"stroke:#000000; stroke-linecap:round; stroke-linejoin:round; stroke-width:2; stroke-opacity:0.1; fill:none\" points=\"1666.16,1171.03 1666.16,47.2441 \"/>\n",
       "<polyline clip-path=\"url(#clip462)\" style=\"stroke:#000000; stroke-linecap:round; stroke-linejoin:round; stroke-width:2; stroke-opacity:0.1; fill:none\" points=\"195.283,1042.15 1952.76,1042.15 \"/>\n",
       "<polyline clip-path=\"url(#clip462)\" style=\"stroke:#000000; stroke-linecap:round; stroke-linejoin:round; stroke-width:2; stroke-opacity:0.1; fill:none\" points=\"195.283,785.06 1952.76,785.06 \"/>\n",
       "<polyline clip-path=\"url(#clip462)\" style=\"stroke:#000000; stroke-linecap:round; stroke-linejoin:round; stroke-width:2; stroke-opacity:0.1; fill:none\" points=\"195.283,527.973 1952.76,527.973 \"/>\n",
       "<polyline clip-path=\"url(#clip462)\" style=\"stroke:#000000; stroke-linecap:round; stroke-linejoin:round; stroke-width:2; stroke-opacity:0.1; fill:none\" points=\"195.283,270.887 1952.76,270.887 \"/>\n",
       "<polyline clip-path=\"url(#clip460)\" style=\"stroke:#000000; stroke-linecap:round; stroke-linejoin:round; stroke-width:4; stroke-opacity:1; fill:none\" points=\"195.283,1171.03 1952.76,1171.03 \"/>\n",
       "<polyline clip-path=\"url(#clip460)\" style=\"stroke:#000000; stroke-linecap:round; stroke-linejoin:round; stroke-width:4; stroke-opacity:1; fill:none\" points=\"245.023,1171.03 245.023,1152.13 \"/>\n",
       "<polyline clip-path=\"url(#clip460)\" style=\"stroke:#000000; stroke-linecap:round; stroke-linejoin:round; stroke-width:4; stroke-opacity:1; fill:none\" points=\"718.735,1171.03 718.735,1152.13 \"/>\n",
       "<polyline clip-path=\"url(#clip460)\" style=\"stroke:#000000; stroke-linecap:round; stroke-linejoin:round; stroke-width:4; stroke-opacity:1; fill:none\" points=\"1192.45,1171.03 1192.45,1152.13 \"/>\n",
       "<polyline clip-path=\"url(#clip460)\" style=\"stroke:#000000; stroke-linecap:round; stroke-linejoin:round; stroke-width:4; stroke-opacity:1; fill:none\" points=\"1666.16,1171.03 1666.16,1152.13 \"/>\n",
       "<path clip-path=\"url(#clip460)\" d=\"M245.023 1198.75 Q241.412 1198.75 239.583 1202.31 Q237.778 1205.86 237.778 1212.98 Q237.778 1220.09 239.583 1223.66 Q241.412 1227.2 245.023 1227.2 Q248.657 1227.2 250.463 1223.66 Q252.291 1220.09 252.291 1212.98 Q252.291 1205.86 250.463 1202.31 Q248.657 1198.75 245.023 1198.75 M245.023 1195.05 Q250.833 1195.05 253.889 1199.65 Q256.967 1204.24 256.967 1212.98 Q256.967 1221.71 253.889 1226.32 Q250.833 1230.9 245.023 1230.9 Q239.213 1230.9 236.134 1226.32 Q233.079 1221.71 233.079 1212.98 Q233.079 1204.24 236.134 1199.65 Q239.213 1195.05 245.023 1195.05 Z\" fill=\"#000000\" fill-rule=\"nonzero\" fill-opacity=\"1\" /><path clip-path=\"url(#clip460)\" d=\"M693.423 1226.3 L701.062 1226.3 L701.062 1199.93 L692.752 1201.6 L692.752 1197.34 L701.015 1195.67 L705.691 1195.67 L705.691 1226.3 L713.33 1226.3 L713.33 1230.23 L693.423 1230.23 L693.423 1226.3 Z\" fill=\"#000000\" fill-rule=\"nonzero\" fill-opacity=\"1\" /><path clip-path=\"url(#clip460)\" d=\"M732.775 1198.75 Q729.163 1198.75 727.335 1202.31 Q725.529 1205.86 725.529 1212.98 Q725.529 1220.09 727.335 1223.66 Q729.163 1227.2 732.775 1227.2 Q736.409 1227.2 738.214 1223.66 Q740.043 1220.09 740.043 1212.98 Q740.043 1205.86 738.214 1202.31 Q736.409 1198.75 732.775 1198.75 M732.775 1195.05 Q738.585 1195.05 741.64 1199.65 Q744.719 1204.24 744.719 1212.98 Q744.719 1221.71 741.64 1226.32 Q738.585 1230.9 732.775 1230.9 Q726.964 1230.9 723.886 1226.32 Q720.83 1221.71 720.83 1212.98 Q720.83 1204.24 723.886 1199.65 Q726.964 1195.05 732.775 1195.05 Z\" fill=\"#000000\" fill-rule=\"nonzero\" fill-opacity=\"1\" /><path clip-path=\"url(#clip460)\" d=\"M1171.22 1226.3 L1187.54 1226.3 L1187.54 1230.23 L1165.6 1230.23 L1165.6 1226.3 Q1168.26 1223.54 1172.84 1218.91 Q1177.45 1214.26 1178.63 1212.92 Q1180.87 1210.39 1181.75 1208.66 Q1182.66 1206.9 1182.66 1205.21 Q1182.66 1202.45 1180.71 1200.72 Q1178.79 1198.98 1175.69 1198.98 Q1173.49 1198.98 1171.04 1199.74 Q1168.61 1200.51 1165.83 1202.06 L1165.83 1197.34 Q1168.65 1196.2 1171.11 1195.62 Q1173.56 1195.05 1175.6 1195.05 Q1180.97 1195.05 1184.16 1197.73 Q1187.36 1200.42 1187.36 1204.91 Q1187.36 1207.04 1186.54 1208.96 Q1185.76 1210.86 1183.65 1213.45 Q1183.07 1214.12 1179.97 1217.34 Q1176.87 1220.53 1171.22 1226.3 Z\" fill=\"#000000\" fill-rule=\"nonzero\" fill-opacity=\"1\" /><path clip-path=\"url(#clip460)\" d=\"M1207.35 1198.75 Q1203.74 1198.75 1201.92 1202.31 Q1200.11 1205.86 1200.11 1212.98 Q1200.11 1220.09 1201.92 1223.66 Q1203.74 1227.2 1207.35 1227.2 Q1210.99 1227.2 1212.79 1223.66 Q1214.62 1220.09 1214.62 1212.98 Q1214.62 1205.86 1212.79 1202.31 Q1210.99 1198.75 1207.35 1198.75 M1207.35 1195.05 Q1213.17 1195.05 1216.22 1199.65 Q1219.3 1204.24 1219.3 1212.98 Q1219.3 1221.71 1216.22 1226.32 Q1213.17 1230.9 1207.35 1230.9 Q1201.54 1230.9 1198.47 1226.32 Q1195.41 1221.71 1195.41 1212.98 Q1195.41 1204.24 1198.47 1199.65 Q1201.54 1195.05 1207.35 1195.05 Z\" fill=\"#000000\" fill-rule=\"nonzero\" fill-opacity=\"1\" /><path clip-path=\"url(#clip460)\" d=\"M1655 1211.6 Q1658.36 1212.31 1660.23 1214.58 Q1662.13 1216.85 1662.13 1220.18 Q1662.13 1225.3 1658.61 1228.1 Q1655.1 1230.9 1648.61 1230.9 Q1646.44 1230.9 1644.12 1230.46 Q1641.83 1230.05 1639.38 1229.19 L1639.38 1224.67 Q1641.32 1225.81 1643.64 1226.39 Q1645.95 1226.97 1648.47 1226.97 Q1652.87 1226.97 1655.16 1225.23 Q1657.48 1223.49 1657.48 1220.18 Q1657.48 1217.13 1655.33 1215.42 Q1653.2 1213.68 1649.38 1213.68 L1645.35 1213.68 L1645.35 1209.84 L1649.56 1209.84 Q1653.01 1209.84 1654.84 1208.47 Q1656.67 1207.08 1656.67 1204.49 Q1656.67 1201.83 1654.77 1200.42 Q1652.9 1198.98 1649.38 1198.98 Q1647.46 1198.98 1645.26 1199.4 Q1643.06 1199.81 1640.42 1200.69 L1640.42 1196.53 Q1643.08 1195.79 1645.4 1195.42 Q1647.73 1195.05 1649.79 1195.05 Q1655.12 1195.05 1658.22 1197.48 Q1661.32 1199.88 1661.32 1204 Q1661.32 1206.87 1659.68 1208.86 Q1658.03 1210.83 1655 1211.6 Z\" fill=\"#000000\" fill-rule=\"nonzero\" fill-opacity=\"1\" /><path clip-path=\"url(#clip460)\" d=\"M1681 1198.75 Q1677.39 1198.75 1675.56 1202.31 Q1673.75 1205.86 1673.75 1212.98 Q1673.75 1220.09 1675.56 1223.66 Q1677.39 1227.2 1681 1227.2 Q1684.63 1227.2 1686.44 1223.66 Q1688.27 1220.09 1688.27 1212.98 Q1688.27 1205.86 1686.44 1202.31 Q1684.63 1198.75 1681 1198.75 M1681 1195.05 Q1686.81 1195.05 1689.86 1199.65 Q1692.94 1204.24 1692.94 1212.98 Q1692.94 1221.71 1689.86 1226.32 Q1686.81 1230.9 1681 1230.9 Q1675.19 1230.9 1672.11 1226.32 Q1669.05 1221.71 1669.05 1212.98 Q1669.05 1204.24 1672.11 1199.65 Q1675.19 1195.05 1681 1195.05 Z\" fill=\"#000000\" fill-rule=\"nonzero\" fill-opacity=\"1\" /><polyline clip-path=\"url(#clip460)\" style=\"stroke:#000000; stroke-linecap:round; stroke-linejoin:round; stroke-width:4; stroke-opacity:1; fill:none\" points=\"195.283,1171.03 195.283,47.2441 \"/>\n",
       "<polyline clip-path=\"url(#clip460)\" style=\"stroke:#000000; stroke-linecap:round; stroke-linejoin:round; stroke-width:4; stroke-opacity:1; fill:none\" points=\"195.283,1042.15 214.181,1042.15 \"/>\n",
       "<polyline clip-path=\"url(#clip460)\" style=\"stroke:#000000; stroke-linecap:round; stroke-linejoin:round; stroke-width:4; stroke-opacity:1; fill:none\" points=\"195.283,785.06 214.181,785.06 \"/>\n",
       "<polyline clip-path=\"url(#clip460)\" style=\"stroke:#000000; stroke-linecap:round; stroke-linejoin:round; stroke-width:4; stroke-opacity:1; fill:none\" points=\"195.283,527.973 214.181,527.973 \"/>\n",
       "<polyline clip-path=\"url(#clip460)\" style=\"stroke:#000000; stroke-linecap:round; stroke-linejoin:round; stroke-width:4; stroke-opacity:1; fill:none\" points=\"195.283,270.887 214.181,270.887 \"/>\n",
       "<path clip-path=\"url(#clip460)\" d=\"M53.6634 1055.49 L61.3023 1055.49 L61.3023 1029.13 L52.9921 1030.79 L52.9921 1026.53 L61.256 1024.87 L65.9319 1024.87 L65.9319 1055.49 L73.5707 1055.49 L73.5707 1059.43 L53.6634 1059.43 L53.6634 1055.49 Z\" fill=\"#000000\" fill-rule=\"nonzero\" fill-opacity=\"1\" /><path clip-path=\"url(#clip460)\" d=\"M93.0151 1027.94 Q89.404 1027.94 87.5753 1031.51 Q85.7697 1035.05 85.7697 1042.18 Q85.7697 1049.29 87.5753 1052.85 Q89.404 1056.39 93.0151 1056.39 Q96.6493 1056.39 98.4548 1052.85 Q100.284 1049.29 100.284 1042.18 Q100.284 1035.05 98.4548 1031.51 Q96.6493 1027.94 93.0151 1027.94 M93.0151 1024.24 Q98.8252 1024.24 101.881 1028.85 Q104.959 1033.43 104.959 1042.18 Q104.959 1050.91 101.881 1055.51 Q98.8252 1060.1 93.0151 1060.1 Q87.2049 1060.1 84.1262 1055.51 Q81.0707 1050.91 81.0707 1042.18 Q81.0707 1033.43 84.1262 1028.85 Q87.2049 1024.24 93.0151 1024.24 Z\" fill=\"#000000\" fill-rule=\"nonzero\" fill-opacity=\"1\" /><path clip-path=\"url(#clip460)\" d=\"M123.177 1027.94 Q119.566 1027.94 117.737 1031.51 Q115.932 1035.05 115.932 1042.18 Q115.932 1049.29 117.737 1052.85 Q119.566 1056.39 123.177 1056.39 Q126.811 1056.39 128.617 1052.85 Q130.445 1049.29 130.445 1042.18 Q130.445 1035.05 128.617 1031.51 Q126.811 1027.94 123.177 1027.94 M123.177 1024.24 Q128.987 1024.24 132.043 1028.85 Q135.121 1033.43 135.121 1042.18 Q135.121 1050.91 132.043 1055.51 Q128.987 1060.1 123.177 1060.1 Q117.367 1060.1 114.288 1055.51 Q111.233 1050.91 111.233 1042.18 Q111.233 1033.43 114.288 1028.85 Q117.367 1024.24 123.177 1024.24 Z\" fill=\"#000000\" fill-rule=\"nonzero\" fill-opacity=\"1\" /><path clip-path=\"url(#clip460)\" d=\"M153.339 1027.94 Q149.728 1027.94 147.899 1031.51 Q146.093 1035.05 146.093 1042.18 Q146.093 1049.29 147.899 1052.85 Q149.728 1056.39 153.339 1056.39 Q156.973 1056.39 158.779 1052.85 Q160.607 1049.29 160.607 1042.18 Q160.607 1035.05 158.779 1031.51 Q156.973 1027.94 153.339 1027.94 M153.339 1024.24 Q159.149 1024.24 162.205 1028.85 Q165.283 1033.43 165.283 1042.18 Q165.283 1050.91 162.205 1055.51 Q159.149 1060.1 153.339 1060.1 Q147.529 1060.1 144.45 1055.51 Q141.394 1050.91 141.394 1042.18 Q141.394 1033.43 144.45 1028.85 Q147.529 1024.24 153.339 1024.24 Z\" fill=\"#000000\" fill-rule=\"nonzero\" fill-opacity=\"1\" /><path clip-path=\"url(#clip460)\" d=\"M53.6634 798.405 L61.3023 798.405 L61.3023 772.039 L52.9921 773.706 L52.9921 769.446 L61.256 767.78 L65.9319 767.78 L65.9319 798.405 L73.5707 798.405 L73.5707 802.34 L53.6634 802.34 L53.6634 798.405 Z\" fill=\"#000000\" fill-rule=\"nonzero\" fill-opacity=\"1\" /><path clip-path=\"url(#clip460)\" d=\"M83.8253 798.405 L91.4641 798.405 L91.4641 772.039 L83.154 773.706 L83.154 769.446 L91.4178 767.78 L96.0937 767.78 L96.0937 798.405 L103.733 798.405 L103.733 802.34 L83.8253 802.34 L83.8253 798.405 Z\" fill=\"#000000\" fill-rule=\"nonzero\" fill-opacity=\"1\" /><path clip-path=\"url(#clip460)\" d=\"M123.177 770.858 Q119.566 770.858 117.737 774.423 Q115.932 777.965 115.932 785.095 Q115.932 792.201 117.737 795.766 Q119.566 799.307 123.177 799.307 Q126.811 799.307 128.617 795.766 Q130.445 792.201 130.445 785.095 Q130.445 777.965 128.617 774.423 Q126.811 770.858 123.177 770.858 M123.177 767.155 Q128.987 767.155 132.043 771.761 Q135.121 776.345 135.121 785.095 Q135.121 793.821 132.043 798.428 Q128.987 803.011 123.177 803.011 Q117.367 803.011 114.288 798.428 Q111.233 793.821 111.233 785.095 Q111.233 776.345 114.288 771.761 Q117.367 767.155 123.177 767.155 Z\" fill=\"#000000\" fill-rule=\"nonzero\" fill-opacity=\"1\" /><path clip-path=\"url(#clip460)\" d=\"M153.339 770.858 Q149.728 770.858 147.899 774.423 Q146.093 777.965 146.093 785.095 Q146.093 792.201 147.899 795.766 Q149.728 799.307 153.339 799.307 Q156.973 799.307 158.779 795.766 Q160.607 792.201 160.607 785.095 Q160.607 777.965 158.779 774.423 Q156.973 770.858 153.339 770.858 M153.339 767.155 Q159.149 767.155 162.205 771.761 Q165.283 776.345 165.283 785.095 Q165.283 793.821 162.205 798.428 Q159.149 803.011 153.339 803.011 Q147.529 803.011 144.45 798.428 Q141.394 793.821 141.394 785.095 Q141.394 776.345 144.45 771.761 Q147.529 767.155 153.339 767.155 Z\" fill=\"#000000\" fill-rule=\"nonzero\" fill-opacity=\"1\" /><path clip-path=\"url(#clip460)\" d=\"M53.6634 541.318 L61.3023 541.318 L61.3023 514.953 L52.9921 516.619 L52.9921 512.36 L61.256 510.693 L65.9319 510.693 L65.9319 541.318 L73.5707 541.318 L73.5707 545.253 L53.6634 545.253 L53.6634 541.318 Z\" fill=\"#000000\" fill-rule=\"nonzero\" fill-opacity=\"1\" /><path clip-path=\"url(#clip460)\" d=\"M87.0429 541.318 L103.362 541.318 L103.362 545.253 L81.4179 545.253 L81.4179 541.318 Q84.0799 538.564 88.6632 533.934 Q93.2697 529.281 94.4502 527.939 Q96.6956 525.416 97.5752 523.68 Q98.478 521.92 98.478 520.23 Q98.478 517.476 96.5336 515.74 Q94.6123 514.004 91.5104 514.004 Q89.3114 514.004 86.8577 514.768 Q84.4271 515.531 81.6494 517.082 L81.6494 512.36 Q84.4734 511.226 86.9271 510.647 Q89.3808 510.068 91.4178 510.068 Q96.7882 510.068 99.9826 512.754 Q103.177 515.439 103.177 519.93 Q103.177 522.059 102.367 523.98 Q101.58 525.879 99.4734 528.471 Q98.8947 529.142 95.7928 532.36 Q92.691 535.554 87.0429 541.318 Z\" fill=\"#000000\" fill-rule=\"nonzero\" fill-opacity=\"1\" /><path clip-path=\"url(#clip460)\" d=\"M123.177 513.772 Q119.566 513.772 117.737 517.337 Q115.932 520.879 115.932 528.008 Q115.932 535.115 117.737 538.679 Q119.566 542.221 123.177 542.221 Q126.811 542.221 128.617 538.679 Q130.445 535.115 130.445 528.008 Q130.445 520.879 128.617 517.337 Q126.811 513.772 123.177 513.772 M123.177 510.068 Q128.987 510.068 132.043 514.675 Q135.121 519.258 135.121 528.008 Q135.121 536.735 132.043 541.341 Q128.987 545.925 123.177 545.925 Q117.367 545.925 114.288 541.341 Q111.233 536.735 111.233 528.008 Q111.233 519.258 114.288 514.675 Q117.367 510.068 123.177 510.068 Z\" fill=\"#000000\" fill-rule=\"nonzero\" fill-opacity=\"1\" /><path clip-path=\"url(#clip460)\" d=\"M153.339 513.772 Q149.728 513.772 147.899 517.337 Q146.093 520.879 146.093 528.008 Q146.093 535.115 147.899 538.679 Q149.728 542.221 153.339 542.221 Q156.973 542.221 158.779 538.679 Q160.607 535.115 160.607 528.008 Q160.607 520.879 158.779 517.337 Q156.973 513.772 153.339 513.772 M153.339 510.068 Q159.149 510.068 162.205 514.675 Q165.283 519.258 165.283 528.008 Q165.283 536.735 162.205 541.341 Q159.149 545.925 153.339 545.925 Q147.529 545.925 144.45 541.341 Q141.394 536.735 141.394 528.008 Q141.394 519.258 144.45 514.675 Q147.529 510.068 153.339 510.068 Z\" fill=\"#000000\" fill-rule=\"nonzero\" fill-opacity=\"1\" /><path clip-path=\"url(#clip460)\" d=\"M53.6634 284.232 L61.3023 284.232 L61.3023 257.866 L52.9921 259.533 L52.9921 255.274 L61.256 253.607 L65.9319 253.607 L65.9319 284.232 L73.5707 284.232 L73.5707 288.167 L53.6634 288.167 L53.6634 284.232 Z\" fill=\"#000000\" fill-rule=\"nonzero\" fill-opacity=\"1\" /><path clip-path=\"url(#clip460)\" d=\"M97.1817 269.533 Q100.538 270.251 102.413 272.519 Q104.311 274.788 104.311 278.121 Q104.311 283.237 100.793 286.038 Q97.2743 288.838 90.7928 288.838 Q88.6169 288.838 86.3021 288.399 Q84.0105 287.982 81.5568 287.126 L81.5568 282.612 Q83.5012 283.746 85.816 284.325 Q88.1308 284.903 90.654 284.903 Q95.0521 284.903 97.3437 283.167 Q99.6585 281.431 99.6585 278.121 Q99.6585 275.065 97.5058 273.352 Q95.3762 271.616 91.5567 271.616 L87.529 271.616 L87.529 267.774 L91.7419 267.774 Q95.191 267.774 97.0197 266.408 Q98.8484 265.019 98.8484 262.427 Q98.8484 259.765 96.9502 258.353 Q95.0752 256.917 91.5567 256.917 Q89.6354 256.917 87.4364 257.334 Q85.2373 257.751 82.5984 258.63 L82.5984 254.464 Q85.2605 253.723 87.5753 253.353 Q89.9132 252.982 91.9734 252.982 Q97.2974 252.982 100.399 255.413 Q103.501 257.82 103.501 261.94 Q103.501 264.811 101.858 266.802 Q100.214 268.769 97.1817 269.533 Z\" fill=\"#000000\" fill-rule=\"nonzero\" fill-opacity=\"1\" /><path clip-path=\"url(#clip460)\" d=\"M123.177 256.686 Q119.566 256.686 117.737 260.251 Q115.932 263.792 115.932 270.922 Q115.932 278.028 117.737 281.593 Q119.566 285.135 123.177 285.135 Q126.811 285.135 128.617 281.593 Q130.445 278.028 130.445 270.922 Q130.445 263.792 128.617 260.251 Q126.811 256.686 123.177 256.686 M123.177 252.982 Q128.987 252.982 132.043 257.589 Q135.121 262.172 135.121 270.922 Q135.121 279.649 132.043 284.255 Q128.987 288.838 123.177 288.838 Q117.367 288.838 114.288 284.255 Q111.233 279.649 111.233 270.922 Q111.233 262.172 114.288 257.589 Q117.367 252.982 123.177 252.982 Z\" fill=\"#000000\" fill-rule=\"nonzero\" fill-opacity=\"1\" /><path clip-path=\"url(#clip460)\" d=\"M153.339 256.686 Q149.728 256.686 147.899 260.251 Q146.093 263.792 146.093 270.922 Q146.093 278.028 147.899 281.593 Q149.728 285.135 153.339 285.135 Q156.973 285.135 158.779 281.593 Q160.607 278.028 160.607 270.922 Q160.607 263.792 158.779 260.251 Q156.973 256.686 153.339 256.686 M153.339 252.982 Q159.149 252.982 162.205 257.589 Q165.283 262.172 165.283 270.922 Q165.283 279.649 162.205 284.255 Q159.149 288.838 153.339 288.838 Q147.529 288.838 144.45 284.255 Q141.394 279.649 141.394 270.922 Q141.394 262.172 144.45 257.589 Q147.529 252.982 153.339 252.982 Z\" fill=\"#000000\" fill-rule=\"nonzero\" fill-opacity=\"1\" /><polyline clip-path=\"url(#clip462)\" style=\"stroke:#009af9; stroke-linecap:round; stroke-linejoin:round; stroke-width:8; stroke-opacity:1; fill:none\" points=\"245.023,1139.23 248.346,1134.88 251.668,1130.55 254.991,1126.24 258.314,1121.94 261.636,1117.66 264.959,1113.39 268.281,1109.13 271.604,1104.9 274.927,1100.67 278.249,1096.46 281.572,1092.27 284.895,1088.08 288.217,1083.92 291.54,1079.77 294.862,1075.63 298.185,1071.51 301.508,1067.4 304.83,1063.3 308.153,1059.22 311.476,1055.16 314.798,1051.11 318.121,1047.07 321.444,1043.05 324.766,1039.04 328.089,1035.04 331.411,1031.06 334.734,1027.1 338.057,1023.14 341.379,1019.21 344.702,1015.28 348.025,1011.37 351.347,1007.47 354.67,1003.59 357.992,999.72 361.315,995.865 364.638,992.023 367.96,988.195 371.283,984.38 374.606,980.579 377.928,976.792 381.251,973.018 384.574,969.258 387.896,965.511 391.219,961.777 394.541,958.057 397.864,954.35 401.187,950.657 404.509,946.977 407.832,943.31 411.155,939.656 414.477,936.015 417.8,932.388 421.122,928.773 424.445,925.172 427.768,921.584 431.09,918.008 434.413,914.446 437.736,910.896 441.058,907.36 444.381,903.836 447.704,900.325 451.026,896.827 454.349,893.341 457.671,889.868 460.994,886.408 464.317,882.96 467.639,879.525 470.962,876.103 474.285,872.693 477.607,869.295 480.93,865.91 484.252,862.538 487.575,859.177 490.898,855.829 494.22,852.494 497.543,849.17 500.866,845.859 504.188,842.56 507.511,839.273 510.834,835.998 514.156,832.735 517.479,829.485 520.801,826.246 524.124,823.019 527.447,819.804 530.769,816.601 534.092,813.41 537.415,810.231 540.737,807.063 544.06,803.908 547.382,800.764 550.705,797.631 554.028,794.51 557.35,791.401 560.673,788.304 563.996,785.217 567.318,782.143 570.641,779.08 573.964,776.028 577.286,772.987 580.609,769.958 583.931,766.941 587.254,763.934 590.577,760.939 593.899,757.955 597.222,754.982 600.545,752.02 603.867,749.069 607.19,746.13 610.512,743.201 613.835,740.283 617.158,737.377 620.48,734.481 623.803,731.596 627.126,728.722 630.448,725.858 633.771,723.006 637.094,720.164 640.416,717.333 643.739,714.512 647.061,711.702 650.384,708.903 653.707,706.114 657.029,703.336 660.352,700.568 663.675,697.81 666.997,695.063 670.32,692.327 673.642,689.6 676.965,686.884 680.288,684.178 683.61,681.483 686.933,678.797 690.256,676.122 693.578,673.457 696.901,670.802 700.224,668.157 703.546,665.521 706.869,662.896 710.191,660.281 713.514,657.676 716.837,655.08 720.159,652.494 723.482,649.918 726.805,647.352 730.127,644.796 733.45,642.249 736.772,639.712 740.095,637.184 743.418,634.666 746.74,632.157 750.063,629.658 753.386,627.169 756.708,624.688 760.031,622.217 763.354,619.756 766.676,617.304 769.999,614.861 773.321,612.427 776.644,610.002 779.967,607.587 783.289,605.181 786.612,602.784 789.935,600.395 793.257,598.016 796.58,595.646 799.902,593.285 803.225,590.933 806.548,588.589 809.87,586.254 813.193,583.929 816.516,581.611 819.838,579.303 823.161,577.003 826.484,574.712 829.806,572.43 833.129,570.156 836.451,567.89 839.774,565.634 843.097,563.385 846.419,561.145 849.742,558.914 853.065,556.69 856.387,554.475 859.71,552.269 863.032,550.07 866.355,547.88 869.678,545.698 873,543.524 876.323,541.358 879.646,539.201 882.968,537.051 886.291,534.909 889.613,532.775 892.936,530.65 896.259,528.532 899.581,526.422 902.904,524.319 906.227,522.225 909.549,520.138 912.872,518.059 916.195,515.987 919.517,513.923 922.84,511.867 926.162,509.818 929.485,507.777 932.808,505.743 936.13,503.717 939.453,501.698 942.776,499.687 946.098,497.682 949.421,495.686 952.743,493.696 956.066,491.714 959.389,489.738 962.711,487.77 966.034,485.809 969.357,483.855 972.679,481.909 976.002,479.969 979.325,478.036 982.647,476.11 985.97,474.191 989.292,472.279 992.615,470.373 995.938,468.475 999.26,466.583 1002.58,464.698 1005.91,462.819 1009.23,460.948 1012.55,459.082 1015.87,457.224 1019.2,455.372 1022.52,453.526 1025.84,451.687 1029.16,449.854 1032.49,448.028 1035.81,446.208 1039.13,444.394 1042.45,442.587 1045.78,440.786 1049.1,438.991 1052.42,437.202 1055.75,435.419 1059.07,433.642 1062.39,431.872 1065.71,430.107 1069.04,428.349 1072.36,426.596 1075.68,424.85 1079,423.109 1082.33,421.374 1085.65,419.645 1088.97,417.921 1092.29,416.204 1095.62,414.492 1098.94,412.786 1102.26,411.085 1105.58,409.39 1108.91,407.7 1112.23,406.016 1115.55,404.338 1118.88,402.664 1122.2,400.997 1125.52,399.334 1128.84,397.677 1132.17,396.026 1135.49,394.379 1138.81,392.738 1142.13,391.102 1145.46,389.471 1148.78,387.845 1152.1,386.224 1155.42,384.608 1158.75,382.998 1162.07,381.392 1165.39,379.791 1168.71,378.195 1172.04,376.604 1175.36,375.018 1178.68,373.436 1182.01,371.86 1185.33,370.288 1188.65,368.72 1191.97,367.157 1195.3,365.599 1198.62,364.046 1201.94,362.497 1205.26,360.952 1208.59,359.412 1211.91,357.876 1215.23,356.345 1218.55,354.818 1221.88,353.296 1225.2,351.777 1228.52,350.263 1231.84,348.753 1235.17,347.247 1238.49,345.746 1241.81,344.248 1245.14,342.755 1248.46,341.265 1251.78,339.78 1255.1,338.298 1258.43,336.82 1261.75,335.347 1265.07,333.877 1268.39,332.411 1271.72,330.948 1275.04,329.49 1278.36,328.035 1281.68,326.583 1285.01,325.136 1288.33,323.691 1291.65,322.251 1294.97,320.814 1298.3,319.38 1301.62,317.95 1304.94,316.523 1308.27,315.1 1311.59,313.68 1314.91,312.263 1318.23,310.849 1321.56,309.439 1324.88,308.032 1328.2,306.628 1331.52,305.227 1334.85,303.829 1338.17,302.434 1341.49,301.043 1344.81,299.654 1348.14,298.268 1351.46,296.885 1354.78,295.505 1358.1,294.127 1361.43,292.753 1364.75,291.381 1368.07,290.012 1371.4,288.645 1374.72,287.281 1378.04,285.92 1381.36,284.561 1384.69,283.205 1388.01,281.852 1391.33,280.5 1394.65,279.152 1397.98,277.805 1401.3,276.461 1404.62,275.119 1407.94,273.78 1411.27,272.442 1414.59,271.107 1417.91,269.774 1421.23,268.444 1424.56,267.115 1427.88,265.788 1431.2,264.464 1434.53,263.141 1437.85,261.82 1441.17,260.501 1444.49,259.184 1447.82,257.869 1451.14,256.556 1454.46,255.244 1457.78,253.934 1461.11,252.626 1464.43,251.32 1467.75,250.015 1471.07,248.711 1474.4,247.41 1477.72,246.109 1481.04,244.81 1484.36,243.513 1487.69,242.217 1491.01,240.922 1494.33,239.629 1497.66,238.337 1500.98,237.046 1504.3,235.757 1507.62,234.468 1510.95,233.181 1514.27,231.895 1517.59,230.61 1520.91,229.326 1524.24,228.043 1527.56,226.76 1530.88,225.479 1534.2,224.199 1537.53,222.919 1540.85,221.641 1544.17,220.363 1547.49,219.086 1550.82,217.809 1554.14,216.533 1557.46,215.258 1560.79,213.984 1564.11,212.71 1567.43,211.436 1570.75,210.163 1574.08,208.891 1577.4,207.619 1580.72,206.347 1584.04,205.075 1587.37,203.804 1590.69,202.533 1594.01,201.263 1597.33,199.992 1600.66,198.722 1603.98,197.452 1607.3,196.182 1610.62,194.912 1613.95,193.642 1617.27,192.372 1620.59,191.102 1623.92,189.831 1627.24,188.561 1630.56,187.29 1633.88,186.02 1637.21,184.749 1640.53,183.477 1643.85,182.206 1647.17,180.934 1650.5,179.662 1653.82,178.389 1657.14,177.116 1660.46,175.842 1663.79,174.568 1667.11,173.293 1670.43,172.017 1673.75,170.741 1677.08,169.465 1680.4,168.187 1683.72,166.909 1687.05,165.63 1690.37,164.35 1693.69,163.069 1697.01,161.788 1700.34,160.505 1703.66,159.221 1706.98,157.937 1710.3,156.651 1713.63,155.365 1716.95,154.077 1720.27,152.788 1723.59,151.498 1726.92,150.206 1730.24,148.914 1733.56,147.62 1736.88,146.325 1740.21,145.028 1743.53,143.73 1746.85,142.43 1750.18,141.129 1753.5,139.827 1756.82,138.523 1760.14,137.217 1763.47,135.91 1766.79,134.601 1770.11,133.29 1773.43,131.978 1776.76,130.664 1780.08,129.348 1783.4,128.03 1786.72,126.71 1790.05,125.388 1793.37,124.065 1796.69,122.739 1800.01,121.412 1803.34,120.082 1806.66,118.75 1809.98,117.416 1813.31,116.08 1816.63,114.742 1819.95,113.401 1823.27,112.058 1826.6,110.713 1829.92,109.366 1833.24,108.016 1836.56,106.663 1839.89,105.308 1843.21,103.951 1846.53,102.591 1849.85,101.229 1853.18,99.8637 1856.5,98.4959 1859.82,97.1255 1863.14,95.7524 1866.47,94.3765 1869.79,92.9979 1873.11,91.6164 1876.44,90.232 1879.76,88.8447 1883.08,87.4545 1886.4,86.0613 1889.73,84.6651 1893.05,83.2658 1896.37,81.8635 1899.69,80.458 1903.02,79.0494 \"/>\n",
       "<path clip-path=\"url(#clip460)\" d=\"M253.866 188.384 L684.426 188.384 L684.426 84.7036 L253.866 84.7036  Z\" fill=\"#ffffff\" fill-rule=\"evenodd\" fill-opacity=\"1\"/>\n",
       "<polyline clip-path=\"url(#clip460)\" style=\"stroke:#000000; stroke-linecap:round; stroke-linejoin:round; stroke-width:4; stroke-opacity:1; fill:none\" points=\"253.866,188.384 684.426,188.384 684.426,84.7036 253.866,84.7036 253.866,188.384 \"/>\n",
       "<polyline clip-path=\"url(#clip460)\" style=\"stroke:#009af9; stroke-linecap:round; stroke-linejoin:round; stroke-width:8; stroke-opacity:1; fill:none\" points=\"273.393,136.544 390.558,136.544 \"/>\n",
       "<path clip-path=\"url(#clip460)\" d=\"M410.085 127.898 L414.345 127.898 L414.345 153.824 L410.085 153.824 L410.085 127.898 M410.085 117.805 L414.345 117.805 L414.345 123.199 L410.085 123.199 L410.085 117.805 Z\" fill=\"#000000\" fill-rule=\"nonzero\" fill-opacity=\"1\" /><path clip-path=\"url(#clip460)\" d=\"M444.807 138.176 L444.807 153.824 L440.548 153.824 L440.548 138.314 Q440.548 134.634 439.113 132.805 Q437.678 130.977 434.808 130.977 Q431.358 130.977 429.368 133.176 Q427.377 135.375 427.377 139.171 L427.377 153.824 L423.095 153.824 L423.095 127.898 L427.377 127.898 L427.377 131.926 Q428.905 129.588 430.965 128.43 Q433.048 127.273 435.757 127.273 Q440.224 127.273 442.516 130.051 Q444.807 132.805 444.807 138.176 Z\" fill=\"#000000\" fill-rule=\"nonzero\" fill-opacity=\"1\" /><path clip-path=\"url(#clip460)\" d=\"M457.516 120.537 L457.516 127.898 L466.289 127.898 L466.289 131.208 L457.516 131.208 L457.516 145.282 Q457.516 148.453 458.372 149.356 Q459.252 150.259 461.914 150.259 L466.289 150.259 L466.289 153.824 L461.914 153.824 Q456.983 153.824 455.108 151.995 Q453.233 150.143 453.233 145.282 L453.233 131.208 L450.108 131.208 L450.108 127.898 L453.233 127.898 L453.233 120.537 L457.516 120.537 Z\" fill=\"#000000\" fill-rule=\"nonzero\" fill-opacity=\"1\" /><path clip-path=\"url(#clip460)\" d=\"M494.066 139.796 L494.066 141.879 L474.483 141.879 Q474.761 146.277 477.122 148.592 Q479.506 150.884 483.742 150.884 Q486.196 150.884 488.488 150.282 Q490.803 149.68 493.071 148.476 L493.071 152.504 Q490.779 153.476 488.372 153.986 Q485.965 154.495 483.488 154.495 Q477.284 154.495 473.65 150.884 Q470.039 147.273 470.039 141.115 Q470.039 134.75 473.465 131.023 Q476.914 127.273 482.747 127.273 Q487.979 127.273 491.011 130.652 Q494.066 134.009 494.066 139.796 M489.807 138.546 Q489.761 135.051 487.84 132.967 Q485.941 130.884 482.793 130.884 Q479.229 130.884 477.076 132.898 Q474.946 134.912 474.622 138.569 L489.807 138.546 Z\" fill=\"#000000\" fill-rule=\"nonzero\" fill-opacity=\"1\" /><path clip-path=\"url(#clip460)\" d=\"M516.08 131.879 Q515.363 131.463 514.506 131.277 Q513.673 131.069 512.654 131.069 Q509.043 131.069 507.099 133.43 Q505.177 135.768 505.177 140.166 L505.177 153.824 L500.895 153.824 L500.895 127.898 L505.177 127.898 L505.177 131.926 Q506.52 129.565 508.673 128.43 Q510.826 127.273 513.904 127.273 Q514.344 127.273 514.877 127.342 Q515.409 127.389 516.057 127.504 L516.08 131.879 Z\" fill=\"#000000\" fill-rule=\"nonzero\" fill-opacity=\"1\" /><path clip-path=\"url(#clip460)\" d=\"M524.668 149.935 L524.668 163.685 L520.386 163.685 L520.386 127.898 L524.668 127.898 L524.668 131.833 Q526.011 129.518 528.048 128.407 Q530.108 127.273 532.955 127.273 Q537.677 127.273 540.617 131.023 Q543.58 134.773 543.58 140.884 Q543.58 146.995 540.617 150.745 Q537.677 154.495 532.955 154.495 Q530.108 154.495 528.048 153.384 Q526.011 152.25 524.668 149.935 M539.159 140.884 Q539.159 136.185 537.214 133.523 Q535.293 130.838 531.913 130.838 Q528.534 130.838 526.589 133.523 Q524.668 136.185 524.668 140.884 Q524.668 145.583 526.589 148.268 Q528.534 150.93 531.913 150.93 Q535.293 150.93 537.214 148.268 Q539.159 145.583 539.159 140.884 Z\" fill=\"#000000\" fill-rule=\"nonzero\" fill-opacity=\"1\" /><path clip-path=\"url(#clip460)\" d=\"M560.686 130.884 Q557.261 130.884 555.27 133.569 Q553.279 136.231 553.279 140.884 Q553.279 145.537 555.247 148.222 Q557.237 150.884 560.686 150.884 Q564.089 150.884 566.08 148.199 Q568.071 145.513 568.071 140.884 Q568.071 136.277 566.08 133.592 Q564.089 130.884 560.686 130.884 M560.686 127.273 Q566.242 127.273 569.413 130.884 Q572.585 134.495 572.585 140.884 Q572.585 147.25 569.413 150.884 Q566.242 154.495 560.686 154.495 Q555.108 154.495 551.937 150.884 Q548.788 147.25 548.788 140.884 Q548.788 134.495 551.937 130.884 Q555.108 127.273 560.686 127.273 Z\" fill=\"#000000\" fill-rule=\"nonzero\" fill-opacity=\"1\" /><path clip-path=\"url(#clip460)\" d=\"M579.645 117.805 L583.904 117.805 L583.904 153.824 L579.645 153.824 L579.645 117.805 Z\" fill=\"#000000\" fill-rule=\"nonzero\" fill-opacity=\"1\" /><path clip-path=\"url(#clip460)\" d=\"M604.598 140.791 Q599.436 140.791 597.446 141.972 Q595.455 143.152 595.455 146 Q595.455 148.268 596.936 149.611 Q598.441 150.93 601.01 150.93 Q604.552 150.93 606.682 148.43 Q608.834 145.907 608.834 141.74 L608.834 140.791 L604.598 140.791 M613.094 139.032 L613.094 153.824 L608.834 153.824 L608.834 149.888 Q607.376 152.25 605.2 153.384 Q603.024 154.495 599.876 154.495 Q595.895 154.495 593.534 152.273 Q591.196 150.027 591.196 146.277 Q591.196 141.902 594.112 139.68 Q597.052 137.458 602.862 137.458 L608.834 137.458 L608.834 137.041 Q608.834 134.102 606.89 132.504 Q604.969 130.884 601.473 130.884 Q599.251 130.884 597.145 131.416 Q595.038 131.949 593.094 133.014 L593.094 129.078 Q595.432 128.176 597.631 127.736 Q599.83 127.273 601.913 127.273 Q607.538 127.273 610.316 130.19 Q613.094 133.106 613.094 139.032 Z\" fill=\"#000000\" fill-rule=\"nonzero\" fill-opacity=\"1\" /><path clip-path=\"url(#clip460)\" d=\"M643.417 138.176 L643.417 153.824 L639.158 153.824 L639.158 138.314 Q639.158 134.634 637.723 132.805 Q636.288 130.977 633.418 130.977 Q629.968 130.977 627.978 133.176 Q625.987 135.375 625.987 139.171 L625.987 153.824 L621.705 153.824 L621.705 127.898 L625.987 127.898 L625.987 131.926 Q627.515 129.588 629.575 128.43 Q631.658 127.273 634.367 127.273 Q638.834 127.273 641.126 130.051 Q643.417 132.805 643.417 138.176 Z\" fill=\"#000000\" fill-rule=\"nonzero\" fill-opacity=\"1\" /><path clip-path=\"url(#clip460)\" d=\"M656.126 120.537 L656.126 127.898 L664.899 127.898 L664.899 131.208 L656.126 131.208 L656.126 145.282 Q656.126 148.453 656.982 149.356 Q657.862 150.259 660.524 150.259 L664.899 150.259 L664.899 153.824 L660.524 153.824 Q655.593 153.824 653.718 151.995 Q651.843 150.143 651.843 145.282 L651.843 131.208 L648.718 131.208 L648.718 127.898 L651.843 127.898 L651.843 120.537 L656.126 120.537 Z\" fill=\"#000000\" fill-rule=\"nonzero\" fill-opacity=\"1\" /></svg>\n"
      ],
      "text/html": [
       "<?xml version=\"1.0\" encoding=\"utf-8\"?>\n",
       "<svg xmlns=\"http://www.w3.org/2000/svg\" xmlns:xlink=\"http://www.w3.org/1999/xlink\" width=\"500\" height=\"320\" viewBox=\"0 0 2000 1280\">\n",
       "<defs>\n",
       "  <clipPath id=\"clip510\">\n",
       "    <rect x=\"0\" y=\"0\" width=\"2000\" height=\"1280\"/>\n",
       "  </clipPath>\n",
       "</defs>\n",
       "<path clip-path=\"url(#clip510)\" d=\"M0 1280 L2000 1280 L2000 0 L0 0  Z\" fill=\"#ffffff\" fill-rule=\"evenodd\" fill-opacity=\"1\"/>\n",
       "<defs>\n",
       "  <clipPath id=\"clip511\">\n",
       "    <rect x=\"400\" y=\"0\" width=\"1401\" height=\"1280\"/>\n",
       "  </clipPath>\n",
       "</defs>\n",
       "<path clip-path=\"url(#clip510)\" d=\"M195.283 1171.03 L1952.76 1171.03 L1952.76 47.2441 L195.283 47.2441  Z\" fill=\"#ffffff\" fill-rule=\"evenodd\" fill-opacity=\"1\"/>\n",
       "<defs>\n",
       "  <clipPath id=\"clip512\">\n",
       "    <rect x=\"195\" y=\"47\" width=\"1758\" height=\"1125\"/>\n",
       "  </clipPath>\n",
       "</defs>\n",
       "<polyline clip-path=\"url(#clip512)\" style=\"stroke:#000000; stroke-linecap:round; stroke-linejoin:round; stroke-width:2; stroke-opacity:0.1; fill:none\" points=\"245.023,1171.03 245.023,47.2441 \"/>\n",
       "<polyline clip-path=\"url(#clip512)\" style=\"stroke:#000000; stroke-linecap:round; stroke-linejoin:round; stroke-width:2; stroke-opacity:0.1; fill:none\" points=\"718.735,1171.03 718.735,47.2441 \"/>\n",
       "<polyline clip-path=\"url(#clip512)\" style=\"stroke:#000000; stroke-linecap:round; stroke-linejoin:round; stroke-width:2; stroke-opacity:0.1; fill:none\" points=\"1192.45,1171.03 1192.45,47.2441 \"/>\n",
       "<polyline clip-path=\"url(#clip512)\" style=\"stroke:#000000; stroke-linecap:round; stroke-linejoin:round; stroke-width:2; stroke-opacity:0.1; fill:none\" points=\"1666.16,1171.03 1666.16,47.2441 \"/>\n",
       "<polyline clip-path=\"url(#clip512)\" style=\"stroke:#000000; stroke-linecap:round; stroke-linejoin:round; stroke-width:2; stroke-opacity:0.1; fill:none\" points=\"195.283,1042.15 1952.76,1042.15 \"/>\n",
       "<polyline clip-path=\"url(#clip512)\" style=\"stroke:#000000; stroke-linecap:round; stroke-linejoin:round; stroke-width:2; stroke-opacity:0.1; fill:none\" points=\"195.283,785.06 1952.76,785.06 \"/>\n",
       "<polyline clip-path=\"url(#clip512)\" style=\"stroke:#000000; stroke-linecap:round; stroke-linejoin:round; stroke-width:2; stroke-opacity:0.1; fill:none\" points=\"195.283,527.973 1952.76,527.973 \"/>\n",
       "<polyline clip-path=\"url(#clip512)\" style=\"stroke:#000000; stroke-linecap:round; stroke-linejoin:round; stroke-width:2; stroke-opacity:0.1; fill:none\" points=\"195.283,270.887 1952.76,270.887 \"/>\n",
       "<polyline clip-path=\"url(#clip510)\" style=\"stroke:#000000; stroke-linecap:round; stroke-linejoin:round; stroke-width:4; stroke-opacity:1; fill:none\" points=\"195.283,1171.03 1952.76,1171.03 \"/>\n",
       "<polyline clip-path=\"url(#clip510)\" style=\"stroke:#000000; stroke-linecap:round; stroke-linejoin:round; stroke-width:4; stroke-opacity:1; fill:none\" points=\"245.023,1171.03 245.023,1152.13 \"/>\n",
       "<polyline clip-path=\"url(#clip510)\" style=\"stroke:#000000; stroke-linecap:round; stroke-linejoin:round; stroke-width:4; stroke-opacity:1; fill:none\" points=\"718.735,1171.03 718.735,1152.13 \"/>\n",
       "<polyline clip-path=\"url(#clip510)\" style=\"stroke:#000000; stroke-linecap:round; stroke-linejoin:round; stroke-width:4; stroke-opacity:1; fill:none\" points=\"1192.45,1171.03 1192.45,1152.13 \"/>\n",
       "<polyline clip-path=\"url(#clip510)\" style=\"stroke:#000000; stroke-linecap:round; stroke-linejoin:round; stroke-width:4; stroke-opacity:1; fill:none\" points=\"1666.16,1171.03 1666.16,1152.13 \"/>\n",
       "<path clip-path=\"url(#clip510)\" d=\"M245.023 1198.75 Q241.412 1198.75 239.583 1202.31 Q237.778 1205.86 237.778 1212.98 Q237.778 1220.09 239.583 1223.66 Q241.412 1227.2 245.023 1227.2 Q248.657 1227.2 250.463 1223.66 Q252.291 1220.09 252.291 1212.98 Q252.291 1205.86 250.463 1202.31 Q248.657 1198.75 245.023 1198.75 M245.023 1195.05 Q250.833 1195.05 253.889 1199.65 Q256.967 1204.24 256.967 1212.98 Q256.967 1221.71 253.889 1226.32 Q250.833 1230.9 245.023 1230.9 Q239.213 1230.9 236.134 1226.32 Q233.079 1221.71 233.079 1212.98 Q233.079 1204.24 236.134 1199.65 Q239.213 1195.05 245.023 1195.05 Z\" fill=\"#000000\" fill-rule=\"nonzero\" fill-opacity=\"1\" /><path clip-path=\"url(#clip510)\" d=\"M693.423 1226.3 L701.062 1226.3 L701.062 1199.93 L692.752 1201.6 L692.752 1197.34 L701.015 1195.67 L705.691 1195.67 L705.691 1226.3 L713.33 1226.3 L713.33 1230.23 L693.423 1230.23 L693.423 1226.3 Z\" fill=\"#000000\" fill-rule=\"nonzero\" fill-opacity=\"1\" /><path clip-path=\"url(#clip510)\" d=\"M732.775 1198.75 Q729.163 1198.75 727.335 1202.31 Q725.529 1205.86 725.529 1212.98 Q725.529 1220.09 727.335 1223.66 Q729.163 1227.2 732.775 1227.2 Q736.409 1227.2 738.214 1223.66 Q740.043 1220.09 740.043 1212.98 Q740.043 1205.86 738.214 1202.31 Q736.409 1198.75 732.775 1198.75 M732.775 1195.05 Q738.585 1195.05 741.64 1199.65 Q744.719 1204.24 744.719 1212.98 Q744.719 1221.71 741.64 1226.32 Q738.585 1230.9 732.775 1230.9 Q726.964 1230.9 723.886 1226.32 Q720.83 1221.71 720.83 1212.98 Q720.83 1204.24 723.886 1199.65 Q726.964 1195.05 732.775 1195.05 Z\" fill=\"#000000\" fill-rule=\"nonzero\" fill-opacity=\"1\" /><path clip-path=\"url(#clip510)\" d=\"M1171.22 1226.3 L1187.54 1226.3 L1187.54 1230.23 L1165.6 1230.23 L1165.6 1226.3 Q1168.26 1223.54 1172.84 1218.91 Q1177.45 1214.26 1178.63 1212.92 Q1180.87 1210.39 1181.75 1208.66 Q1182.66 1206.9 1182.66 1205.21 Q1182.66 1202.45 1180.71 1200.72 Q1178.79 1198.98 1175.69 1198.98 Q1173.49 1198.98 1171.04 1199.74 Q1168.61 1200.51 1165.83 1202.06 L1165.83 1197.34 Q1168.65 1196.2 1171.11 1195.62 Q1173.56 1195.05 1175.6 1195.05 Q1180.97 1195.05 1184.16 1197.73 Q1187.36 1200.42 1187.36 1204.91 Q1187.36 1207.04 1186.54 1208.96 Q1185.76 1210.86 1183.65 1213.45 Q1183.07 1214.12 1179.97 1217.34 Q1176.87 1220.53 1171.22 1226.3 Z\" fill=\"#000000\" fill-rule=\"nonzero\" fill-opacity=\"1\" /><path clip-path=\"url(#clip510)\" d=\"M1207.35 1198.75 Q1203.74 1198.75 1201.92 1202.31 Q1200.11 1205.86 1200.11 1212.98 Q1200.11 1220.09 1201.92 1223.66 Q1203.74 1227.2 1207.35 1227.2 Q1210.99 1227.2 1212.79 1223.66 Q1214.62 1220.09 1214.62 1212.98 Q1214.62 1205.86 1212.79 1202.31 Q1210.99 1198.75 1207.35 1198.75 M1207.35 1195.05 Q1213.17 1195.05 1216.22 1199.65 Q1219.3 1204.24 1219.3 1212.98 Q1219.3 1221.71 1216.22 1226.32 Q1213.17 1230.9 1207.35 1230.9 Q1201.54 1230.9 1198.47 1226.32 Q1195.41 1221.71 1195.41 1212.98 Q1195.41 1204.24 1198.47 1199.65 Q1201.54 1195.05 1207.35 1195.05 Z\" fill=\"#000000\" fill-rule=\"nonzero\" fill-opacity=\"1\" /><path clip-path=\"url(#clip510)\" d=\"M1655 1211.6 Q1658.36 1212.31 1660.23 1214.58 Q1662.13 1216.85 1662.13 1220.18 Q1662.13 1225.3 1658.61 1228.1 Q1655.1 1230.9 1648.61 1230.9 Q1646.44 1230.9 1644.12 1230.46 Q1641.83 1230.05 1639.38 1229.19 L1639.38 1224.67 Q1641.32 1225.81 1643.64 1226.39 Q1645.95 1226.97 1648.47 1226.97 Q1652.87 1226.97 1655.16 1225.23 Q1657.48 1223.49 1657.48 1220.18 Q1657.48 1217.13 1655.33 1215.42 Q1653.2 1213.68 1649.38 1213.68 L1645.35 1213.68 L1645.35 1209.84 L1649.56 1209.84 Q1653.01 1209.84 1654.84 1208.47 Q1656.67 1207.08 1656.67 1204.49 Q1656.67 1201.83 1654.77 1200.42 Q1652.9 1198.98 1649.38 1198.98 Q1647.46 1198.98 1645.26 1199.4 Q1643.06 1199.81 1640.42 1200.69 L1640.42 1196.53 Q1643.08 1195.79 1645.4 1195.42 Q1647.73 1195.05 1649.79 1195.05 Q1655.12 1195.05 1658.22 1197.48 Q1661.32 1199.88 1661.32 1204 Q1661.32 1206.87 1659.68 1208.86 Q1658.03 1210.83 1655 1211.6 Z\" fill=\"#000000\" fill-rule=\"nonzero\" fill-opacity=\"1\" /><path clip-path=\"url(#clip510)\" d=\"M1681 1198.75 Q1677.39 1198.75 1675.56 1202.31 Q1673.75 1205.86 1673.75 1212.98 Q1673.75 1220.09 1675.56 1223.66 Q1677.39 1227.2 1681 1227.2 Q1684.63 1227.2 1686.44 1223.66 Q1688.27 1220.09 1688.27 1212.98 Q1688.27 1205.86 1686.44 1202.31 Q1684.63 1198.75 1681 1198.75 M1681 1195.05 Q1686.81 1195.05 1689.86 1199.65 Q1692.94 1204.24 1692.94 1212.98 Q1692.94 1221.71 1689.86 1226.32 Q1686.81 1230.9 1681 1230.9 Q1675.19 1230.9 1672.11 1226.32 Q1669.05 1221.71 1669.05 1212.98 Q1669.05 1204.24 1672.11 1199.65 Q1675.19 1195.05 1681 1195.05 Z\" fill=\"#000000\" fill-rule=\"nonzero\" fill-opacity=\"1\" /><polyline clip-path=\"url(#clip510)\" style=\"stroke:#000000; stroke-linecap:round; stroke-linejoin:round; stroke-width:4; stroke-opacity:1; fill:none\" points=\"195.283,1171.03 195.283,47.2441 \"/>\n",
       "<polyline clip-path=\"url(#clip510)\" style=\"stroke:#000000; stroke-linecap:round; stroke-linejoin:round; stroke-width:4; stroke-opacity:1; fill:none\" points=\"195.283,1042.15 214.181,1042.15 \"/>\n",
       "<polyline clip-path=\"url(#clip510)\" style=\"stroke:#000000; stroke-linecap:round; stroke-linejoin:round; stroke-width:4; stroke-opacity:1; fill:none\" points=\"195.283,785.06 214.181,785.06 \"/>\n",
       "<polyline clip-path=\"url(#clip510)\" style=\"stroke:#000000; stroke-linecap:round; stroke-linejoin:round; stroke-width:4; stroke-opacity:1; fill:none\" points=\"195.283,527.973 214.181,527.973 \"/>\n",
       "<polyline clip-path=\"url(#clip510)\" style=\"stroke:#000000; stroke-linecap:round; stroke-linejoin:round; stroke-width:4; stroke-opacity:1; fill:none\" points=\"195.283,270.887 214.181,270.887 \"/>\n",
       "<path clip-path=\"url(#clip510)\" d=\"M53.6634 1055.49 L61.3023 1055.49 L61.3023 1029.13 L52.9921 1030.79 L52.9921 1026.53 L61.256 1024.87 L65.9319 1024.87 L65.9319 1055.49 L73.5707 1055.49 L73.5707 1059.43 L53.6634 1059.43 L53.6634 1055.49 Z\" fill=\"#000000\" fill-rule=\"nonzero\" fill-opacity=\"1\" /><path clip-path=\"url(#clip510)\" d=\"M93.0151 1027.94 Q89.404 1027.94 87.5753 1031.51 Q85.7697 1035.05 85.7697 1042.18 Q85.7697 1049.29 87.5753 1052.85 Q89.404 1056.39 93.0151 1056.39 Q96.6493 1056.39 98.4548 1052.85 Q100.284 1049.29 100.284 1042.18 Q100.284 1035.05 98.4548 1031.51 Q96.6493 1027.94 93.0151 1027.94 M93.0151 1024.24 Q98.8252 1024.24 101.881 1028.85 Q104.959 1033.43 104.959 1042.18 Q104.959 1050.91 101.881 1055.51 Q98.8252 1060.1 93.0151 1060.1 Q87.2049 1060.1 84.1262 1055.51 Q81.0707 1050.91 81.0707 1042.18 Q81.0707 1033.43 84.1262 1028.85 Q87.2049 1024.24 93.0151 1024.24 Z\" fill=\"#000000\" fill-rule=\"nonzero\" fill-opacity=\"1\" /><path clip-path=\"url(#clip510)\" d=\"M123.177 1027.94 Q119.566 1027.94 117.737 1031.51 Q115.932 1035.05 115.932 1042.18 Q115.932 1049.29 117.737 1052.85 Q119.566 1056.39 123.177 1056.39 Q126.811 1056.39 128.617 1052.85 Q130.445 1049.29 130.445 1042.18 Q130.445 1035.05 128.617 1031.51 Q126.811 1027.94 123.177 1027.94 M123.177 1024.24 Q128.987 1024.24 132.043 1028.85 Q135.121 1033.43 135.121 1042.18 Q135.121 1050.91 132.043 1055.51 Q128.987 1060.1 123.177 1060.1 Q117.367 1060.1 114.288 1055.51 Q111.233 1050.91 111.233 1042.18 Q111.233 1033.43 114.288 1028.85 Q117.367 1024.24 123.177 1024.24 Z\" fill=\"#000000\" fill-rule=\"nonzero\" fill-opacity=\"1\" /><path clip-path=\"url(#clip510)\" d=\"M153.339 1027.94 Q149.728 1027.94 147.899 1031.51 Q146.093 1035.05 146.093 1042.18 Q146.093 1049.29 147.899 1052.85 Q149.728 1056.39 153.339 1056.39 Q156.973 1056.39 158.779 1052.85 Q160.607 1049.29 160.607 1042.18 Q160.607 1035.05 158.779 1031.51 Q156.973 1027.94 153.339 1027.94 M153.339 1024.24 Q159.149 1024.24 162.205 1028.85 Q165.283 1033.43 165.283 1042.18 Q165.283 1050.91 162.205 1055.51 Q159.149 1060.1 153.339 1060.1 Q147.529 1060.1 144.45 1055.51 Q141.394 1050.91 141.394 1042.18 Q141.394 1033.43 144.45 1028.85 Q147.529 1024.24 153.339 1024.24 Z\" fill=\"#000000\" fill-rule=\"nonzero\" fill-opacity=\"1\" /><path clip-path=\"url(#clip510)\" d=\"M53.6634 798.405 L61.3023 798.405 L61.3023 772.039 L52.9921 773.706 L52.9921 769.446 L61.256 767.78 L65.9319 767.78 L65.9319 798.405 L73.5707 798.405 L73.5707 802.34 L53.6634 802.34 L53.6634 798.405 Z\" fill=\"#000000\" fill-rule=\"nonzero\" fill-opacity=\"1\" /><path clip-path=\"url(#clip510)\" d=\"M83.8253 798.405 L91.4641 798.405 L91.4641 772.039 L83.154 773.706 L83.154 769.446 L91.4178 767.78 L96.0937 767.78 L96.0937 798.405 L103.733 798.405 L103.733 802.34 L83.8253 802.34 L83.8253 798.405 Z\" fill=\"#000000\" fill-rule=\"nonzero\" fill-opacity=\"1\" /><path clip-path=\"url(#clip510)\" d=\"M123.177 770.858 Q119.566 770.858 117.737 774.423 Q115.932 777.965 115.932 785.095 Q115.932 792.201 117.737 795.766 Q119.566 799.307 123.177 799.307 Q126.811 799.307 128.617 795.766 Q130.445 792.201 130.445 785.095 Q130.445 777.965 128.617 774.423 Q126.811 770.858 123.177 770.858 M123.177 767.155 Q128.987 767.155 132.043 771.761 Q135.121 776.345 135.121 785.095 Q135.121 793.821 132.043 798.428 Q128.987 803.011 123.177 803.011 Q117.367 803.011 114.288 798.428 Q111.233 793.821 111.233 785.095 Q111.233 776.345 114.288 771.761 Q117.367 767.155 123.177 767.155 Z\" fill=\"#000000\" fill-rule=\"nonzero\" fill-opacity=\"1\" /><path clip-path=\"url(#clip510)\" d=\"M153.339 770.858 Q149.728 770.858 147.899 774.423 Q146.093 777.965 146.093 785.095 Q146.093 792.201 147.899 795.766 Q149.728 799.307 153.339 799.307 Q156.973 799.307 158.779 795.766 Q160.607 792.201 160.607 785.095 Q160.607 777.965 158.779 774.423 Q156.973 770.858 153.339 770.858 M153.339 767.155 Q159.149 767.155 162.205 771.761 Q165.283 776.345 165.283 785.095 Q165.283 793.821 162.205 798.428 Q159.149 803.011 153.339 803.011 Q147.529 803.011 144.45 798.428 Q141.394 793.821 141.394 785.095 Q141.394 776.345 144.45 771.761 Q147.529 767.155 153.339 767.155 Z\" fill=\"#000000\" fill-rule=\"nonzero\" fill-opacity=\"1\" /><path clip-path=\"url(#clip510)\" d=\"M53.6634 541.318 L61.3023 541.318 L61.3023 514.953 L52.9921 516.619 L52.9921 512.36 L61.256 510.693 L65.9319 510.693 L65.9319 541.318 L73.5707 541.318 L73.5707 545.253 L53.6634 545.253 L53.6634 541.318 Z\" fill=\"#000000\" fill-rule=\"nonzero\" fill-opacity=\"1\" /><path clip-path=\"url(#clip510)\" d=\"M87.0429 541.318 L103.362 541.318 L103.362 545.253 L81.4179 545.253 L81.4179 541.318 Q84.0799 538.564 88.6632 533.934 Q93.2697 529.281 94.4502 527.939 Q96.6956 525.416 97.5752 523.68 Q98.478 521.92 98.478 520.23 Q98.478 517.476 96.5336 515.74 Q94.6123 514.004 91.5104 514.004 Q89.3114 514.004 86.8577 514.768 Q84.4271 515.531 81.6494 517.082 L81.6494 512.36 Q84.4734 511.226 86.9271 510.647 Q89.3808 510.068 91.4178 510.068 Q96.7882 510.068 99.9826 512.754 Q103.177 515.439 103.177 519.93 Q103.177 522.059 102.367 523.98 Q101.58 525.879 99.4734 528.471 Q98.8947 529.142 95.7928 532.36 Q92.691 535.554 87.0429 541.318 Z\" fill=\"#000000\" fill-rule=\"nonzero\" fill-opacity=\"1\" /><path clip-path=\"url(#clip510)\" d=\"M123.177 513.772 Q119.566 513.772 117.737 517.337 Q115.932 520.879 115.932 528.008 Q115.932 535.115 117.737 538.679 Q119.566 542.221 123.177 542.221 Q126.811 542.221 128.617 538.679 Q130.445 535.115 130.445 528.008 Q130.445 520.879 128.617 517.337 Q126.811 513.772 123.177 513.772 M123.177 510.068 Q128.987 510.068 132.043 514.675 Q135.121 519.258 135.121 528.008 Q135.121 536.735 132.043 541.341 Q128.987 545.925 123.177 545.925 Q117.367 545.925 114.288 541.341 Q111.233 536.735 111.233 528.008 Q111.233 519.258 114.288 514.675 Q117.367 510.068 123.177 510.068 Z\" fill=\"#000000\" fill-rule=\"nonzero\" fill-opacity=\"1\" /><path clip-path=\"url(#clip510)\" d=\"M153.339 513.772 Q149.728 513.772 147.899 517.337 Q146.093 520.879 146.093 528.008 Q146.093 535.115 147.899 538.679 Q149.728 542.221 153.339 542.221 Q156.973 542.221 158.779 538.679 Q160.607 535.115 160.607 528.008 Q160.607 520.879 158.779 517.337 Q156.973 513.772 153.339 513.772 M153.339 510.068 Q159.149 510.068 162.205 514.675 Q165.283 519.258 165.283 528.008 Q165.283 536.735 162.205 541.341 Q159.149 545.925 153.339 545.925 Q147.529 545.925 144.45 541.341 Q141.394 536.735 141.394 528.008 Q141.394 519.258 144.45 514.675 Q147.529 510.068 153.339 510.068 Z\" fill=\"#000000\" fill-rule=\"nonzero\" fill-opacity=\"1\" /><path clip-path=\"url(#clip510)\" d=\"M53.6634 284.232 L61.3023 284.232 L61.3023 257.866 L52.9921 259.533 L52.9921 255.274 L61.256 253.607 L65.9319 253.607 L65.9319 284.232 L73.5707 284.232 L73.5707 288.167 L53.6634 288.167 L53.6634 284.232 Z\" fill=\"#000000\" fill-rule=\"nonzero\" fill-opacity=\"1\" /><path clip-path=\"url(#clip510)\" d=\"M97.1817 269.533 Q100.538 270.251 102.413 272.519 Q104.311 274.788 104.311 278.121 Q104.311 283.237 100.793 286.038 Q97.2743 288.838 90.7928 288.838 Q88.6169 288.838 86.3021 288.399 Q84.0105 287.982 81.5568 287.126 L81.5568 282.612 Q83.5012 283.746 85.816 284.325 Q88.1308 284.903 90.654 284.903 Q95.0521 284.903 97.3437 283.167 Q99.6585 281.431 99.6585 278.121 Q99.6585 275.065 97.5058 273.352 Q95.3762 271.616 91.5567 271.616 L87.529 271.616 L87.529 267.774 L91.7419 267.774 Q95.191 267.774 97.0197 266.408 Q98.8484 265.019 98.8484 262.427 Q98.8484 259.765 96.9502 258.353 Q95.0752 256.917 91.5567 256.917 Q89.6354 256.917 87.4364 257.334 Q85.2373 257.751 82.5984 258.63 L82.5984 254.464 Q85.2605 253.723 87.5753 253.353 Q89.9132 252.982 91.9734 252.982 Q97.2974 252.982 100.399 255.413 Q103.501 257.82 103.501 261.94 Q103.501 264.811 101.858 266.802 Q100.214 268.769 97.1817 269.533 Z\" fill=\"#000000\" fill-rule=\"nonzero\" fill-opacity=\"1\" /><path clip-path=\"url(#clip510)\" d=\"M123.177 256.686 Q119.566 256.686 117.737 260.251 Q115.932 263.792 115.932 270.922 Q115.932 278.028 117.737 281.593 Q119.566 285.135 123.177 285.135 Q126.811 285.135 128.617 281.593 Q130.445 278.028 130.445 270.922 Q130.445 263.792 128.617 260.251 Q126.811 256.686 123.177 256.686 M123.177 252.982 Q128.987 252.982 132.043 257.589 Q135.121 262.172 135.121 270.922 Q135.121 279.649 132.043 284.255 Q128.987 288.838 123.177 288.838 Q117.367 288.838 114.288 284.255 Q111.233 279.649 111.233 270.922 Q111.233 262.172 114.288 257.589 Q117.367 252.982 123.177 252.982 Z\" fill=\"#000000\" fill-rule=\"nonzero\" fill-opacity=\"1\" /><path clip-path=\"url(#clip510)\" d=\"M153.339 256.686 Q149.728 256.686 147.899 260.251 Q146.093 263.792 146.093 270.922 Q146.093 278.028 147.899 281.593 Q149.728 285.135 153.339 285.135 Q156.973 285.135 158.779 281.593 Q160.607 278.028 160.607 270.922 Q160.607 263.792 158.779 260.251 Q156.973 256.686 153.339 256.686 M153.339 252.982 Q159.149 252.982 162.205 257.589 Q165.283 262.172 165.283 270.922 Q165.283 279.649 162.205 284.255 Q159.149 288.838 153.339 288.838 Q147.529 288.838 144.45 284.255 Q141.394 279.649 141.394 270.922 Q141.394 262.172 144.45 257.589 Q147.529 252.982 153.339 252.982 Z\" fill=\"#000000\" fill-rule=\"nonzero\" fill-opacity=\"1\" /><polyline clip-path=\"url(#clip512)\" style=\"stroke:#009af9; stroke-linecap:round; stroke-linejoin:round; stroke-width:8; stroke-opacity:1; fill:none\" points=\"245.023,1139.23 248.346,1134.88 251.668,1130.55 254.991,1126.24 258.314,1121.94 261.636,1117.66 264.959,1113.39 268.281,1109.13 271.604,1104.9 274.927,1100.67 278.249,1096.46 281.572,1092.27 284.895,1088.08 288.217,1083.92 291.54,1079.77 294.862,1075.63 298.185,1071.51 301.508,1067.4 304.83,1063.3 308.153,1059.22 311.476,1055.16 314.798,1051.11 318.121,1047.07 321.444,1043.05 324.766,1039.04 328.089,1035.04 331.411,1031.06 334.734,1027.1 338.057,1023.14 341.379,1019.21 344.702,1015.28 348.025,1011.37 351.347,1007.47 354.67,1003.59 357.992,999.72 361.315,995.865 364.638,992.023 367.96,988.195 371.283,984.38 374.606,980.579 377.928,976.792 381.251,973.018 384.574,969.258 387.896,965.511 391.219,961.777 394.541,958.057 397.864,954.35 401.187,950.657 404.509,946.977 407.832,943.31 411.155,939.656 414.477,936.015 417.8,932.388 421.122,928.773 424.445,925.172 427.768,921.584 431.09,918.008 434.413,914.446 437.736,910.896 441.058,907.36 444.381,903.836 447.704,900.325 451.026,896.827 454.349,893.341 457.671,889.868 460.994,886.408 464.317,882.96 467.639,879.525 470.962,876.103 474.285,872.693 477.607,869.295 480.93,865.91 484.252,862.538 487.575,859.177 490.898,855.829 494.22,852.494 497.543,849.17 500.866,845.859 504.188,842.56 507.511,839.273 510.834,835.998 514.156,832.735 517.479,829.485 520.801,826.246 524.124,823.019 527.447,819.804 530.769,816.601 534.092,813.41 537.415,810.231 540.737,807.063 544.06,803.908 547.382,800.764 550.705,797.631 554.028,794.51 557.35,791.401 560.673,788.304 563.996,785.217 567.318,782.143 570.641,779.08 573.964,776.028 577.286,772.987 580.609,769.958 583.931,766.941 587.254,763.934 590.577,760.939 593.899,757.955 597.222,754.982 600.545,752.02 603.867,749.069 607.19,746.13 610.512,743.201 613.835,740.283 617.158,737.377 620.48,734.481 623.803,731.596 627.126,728.722 630.448,725.858 633.771,723.006 637.094,720.164 640.416,717.333 643.739,714.512 647.061,711.702 650.384,708.903 653.707,706.114 657.029,703.336 660.352,700.568 663.675,697.81 666.997,695.063 670.32,692.327 673.642,689.6 676.965,686.884 680.288,684.178 683.61,681.483 686.933,678.797 690.256,676.122 693.578,673.457 696.901,670.802 700.224,668.157 703.546,665.521 706.869,662.896 710.191,660.281 713.514,657.676 716.837,655.08 720.159,652.494 723.482,649.918 726.805,647.352 730.127,644.796 733.45,642.249 736.772,639.712 740.095,637.184 743.418,634.666 746.74,632.157 750.063,629.658 753.386,627.169 756.708,624.688 760.031,622.217 763.354,619.756 766.676,617.304 769.999,614.861 773.321,612.427 776.644,610.002 779.967,607.587 783.289,605.181 786.612,602.784 789.935,600.395 793.257,598.016 796.58,595.646 799.902,593.285 803.225,590.933 806.548,588.589 809.87,586.254 813.193,583.929 816.516,581.611 819.838,579.303 823.161,577.003 826.484,574.712 829.806,572.43 833.129,570.156 836.451,567.89 839.774,565.634 843.097,563.385 846.419,561.145 849.742,558.914 853.065,556.69 856.387,554.475 859.71,552.269 863.032,550.07 866.355,547.88 869.678,545.698 873,543.524 876.323,541.358 879.646,539.201 882.968,537.051 886.291,534.909 889.613,532.775 892.936,530.65 896.259,528.532 899.581,526.422 902.904,524.319 906.227,522.225 909.549,520.138 912.872,518.059 916.195,515.987 919.517,513.923 922.84,511.867 926.162,509.818 929.485,507.777 932.808,505.743 936.13,503.717 939.453,501.698 942.776,499.687 946.098,497.682 949.421,495.686 952.743,493.696 956.066,491.714 959.389,489.738 962.711,487.77 966.034,485.809 969.357,483.855 972.679,481.909 976.002,479.969 979.325,478.036 982.647,476.11 985.97,474.191 989.292,472.279 992.615,470.373 995.938,468.475 999.26,466.583 1002.58,464.698 1005.91,462.819 1009.23,460.948 1012.55,459.082 1015.87,457.224 1019.2,455.372 1022.52,453.526 1025.84,451.687 1029.16,449.854 1032.49,448.028 1035.81,446.208 1039.13,444.394 1042.45,442.587 1045.78,440.786 1049.1,438.991 1052.42,437.202 1055.75,435.419 1059.07,433.642 1062.39,431.872 1065.71,430.107 1069.04,428.349 1072.36,426.596 1075.68,424.85 1079,423.109 1082.33,421.374 1085.65,419.645 1088.97,417.921 1092.29,416.204 1095.62,414.492 1098.94,412.786 1102.26,411.085 1105.58,409.39 1108.91,407.7 1112.23,406.016 1115.55,404.338 1118.88,402.664 1122.2,400.997 1125.52,399.334 1128.84,397.677 1132.17,396.026 1135.49,394.379 1138.81,392.738 1142.13,391.102 1145.46,389.471 1148.78,387.845 1152.1,386.224 1155.42,384.608 1158.75,382.998 1162.07,381.392 1165.39,379.791 1168.71,378.195 1172.04,376.604 1175.36,375.018 1178.68,373.436 1182.01,371.86 1185.33,370.288 1188.65,368.72 1191.97,367.157 1195.3,365.599 1198.62,364.046 1201.94,362.497 1205.26,360.952 1208.59,359.412 1211.91,357.876 1215.23,356.345 1218.55,354.818 1221.88,353.296 1225.2,351.777 1228.52,350.263 1231.84,348.753 1235.17,347.247 1238.49,345.746 1241.81,344.248 1245.14,342.755 1248.46,341.265 1251.78,339.78 1255.1,338.298 1258.43,336.82 1261.75,335.347 1265.07,333.877 1268.39,332.411 1271.72,330.948 1275.04,329.49 1278.36,328.035 1281.68,326.583 1285.01,325.136 1288.33,323.691 1291.65,322.251 1294.97,320.814 1298.3,319.38 1301.62,317.95 1304.94,316.523 1308.27,315.1 1311.59,313.68 1314.91,312.263 1318.23,310.849 1321.56,309.439 1324.88,308.032 1328.2,306.628 1331.52,305.227 1334.85,303.829 1338.17,302.434 1341.49,301.043 1344.81,299.654 1348.14,298.268 1351.46,296.885 1354.78,295.505 1358.1,294.127 1361.43,292.753 1364.75,291.381 1368.07,290.012 1371.4,288.645 1374.72,287.281 1378.04,285.92 1381.36,284.561 1384.69,283.205 1388.01,281.852 1391.33,280.5 1394.65,279.152 1397.98,277.805 1401.3,276.461 1404.62,275.119 1407.94,273.78 1411.27,272.442 1414.59,271.107 1417.91,269.774 1421.23,268.444 1424.56,267.115 1427.88,265.788 1431.2,264.464 1434.53,263.141 1437.85,261.82 1441.17,260.501 1444.49,259.184 1447.82,257.869 1451.14,256.556 1454.46,255.244 1457.78,253.934 1461.11,252.626 1464.43,251.32 1467.75,250.015 1471.07,248.711 1474.4,247.41 1477.72,246.109 1481.04,244.81 1484.36,243.513 1487.69,242.217 1491.01,240.922 1494.33,239.629 1497.66,238.337 1500.98,237.046 1504.3,235.757 1507.62,234.468 1510.95,233.181 1514.27,231.895 1517.59,230.61 1520.91,229.326 1524.24,228.043 1527.56,226.76 1530.88,225.479 1534.2,224.199 1537.53,222.919 1540.85,221.641 1544.17,220.363 1547.49,219.086 1550.82,217.809 1554.14,216.533 1557.46,215.258 1560.79,213.984 1564.11,212.71 1567.43,211.436 1570.75,210.163 1574.08,208.891 1577.4,207.619 1580.72,206.347 1584.04,205.075 1587.37,203.804 1590.69,202.533 1594.01,201.263 1597.33,199.992 1600.66,198.722 1603.98,197.452 1607.3,196.182 1610.62,194.912 1613.95,193.642 1617.27,192.372 1620.59,191.102 1623.92,189.831 1627.24,188.561 1630.56,187.29 1633.88,186.02 1637.21,184.749 1640.53,183.477 1643.85,182.206 1647.17,180.934 1650.5,179.662 1653.82,178.389 1657.14,177.116 1660.46,175.842 1663.79,174.568 1667.11,173.293 1670.43,172.017 1673.75,170.741 1677.08,169.465 1680.4,168.187 1683.72,166.909 1687.05,165.63 1690.37,164.35 1693.69,163.069 1697.01,161.788 1700.34,160.505 1703.66,159.221 1706.98,157.937 1710.3,156.651 1713.63,155.365 1716.95,154.077 1720.27,152.788 1723.59,151.498 1726.92,150.206 1730.24,148.914 1733.56,147.62 1736.88,146.325 1740.21,145.028 1743.53,143.73 1746.85,142.43 1750.18,141.129 1753.5,139.827 1756.82,138.523 1760.14,137.217 1763.47,135.91 1766.79,134.601 1770.11,133.29 1773.43,131.978 1776.76,130.664 1780.08,129.348 1783.4,128.03 1786.72,126.71 1790.05,125.388 1793.37,124.065 1796.69,122.739 1800.01,121.412 1803.34,120.082 1806.66,118.75 1809.98,117.416 1813.31,116.08 1816.63,114.742 1819.95,113.401 1823.27,112.058 1826.6,110.713 1829.92,109.366 1833.24,108.016 1836.56,106.663 1839.89,105.308 1843.21,103.951 1846.53,102.591 1849.85,101.229 1853.18,99.8637 1856.5,98.4959 1859.82,97.1255 1863.14,95.7524 1866.47,94.3765 1869.79,92.9979 1873.11,91.6164 1876.44,90.232 1879.76,88.8447 1883.08,87.4545 1886.4,86.0613 1889.73,84.6651 1893.05,83.2658 1896.37,81.8635 1899.69,80.458 1903.02,79.0494 \"/>\n",
       "<path clip-path=\"url(#clip510)\" d=\"M253.866 188.384 L684.426 188.384 L684.426 84.7036 L253.866 84.7036  Z\" fill=\"#ffffff\" fill-rule=\"evenodd\" fill-opacity=\"1\"/>\n",
       "<polyline clip-path=\"url(#clip510)\" style=\"stroke:#000000; stroke-linecap:round; stroke-linejoin:round; stroke-width:4; stroke-opacity:1; fill:none\" points=\"253.866,188.384 684.426,188.384 684.426,84.7036 253.866,84.7036 253.866,188.384 \"/>\n",
       "<polyline clip-path=\"url(#clip510)\" style=\"stroke:#009af9; stroke-linecap:round; stroke-linejoin:round; stroke-width:8; stroke-opacity:1; fill:none\" points=\"273.393,136.544 390.558,136.544 \"/>\n",
       "<path clip-path=\"url(#clip510)\" d=\"M410.085 127.898 L414.345 127.898 L414.345 153.824 L410.085 153.824 L410.085 127.898 M410.085 117.805 L414.345 117.805 L414.345 123.199 L410.085 123.199 L410.085 117.805 Z\" fill=\"#000000\" fill-rule=\"nonzero\" fill-opacity=\"1\" /><path clip-path=\"url(#clip510)\" d=\"M444.807 138.176 L444.807 153.824 L440.548 153.824 L440.548 138.314 Q440.548 134.634 439.113 132.805 Q437.678 130.977 434.808 130.977 Q431.358 130.977 429.368 133.176 Q427.377 135.375 427.377 139.171 L427.377 153.824 L423.095 153.824 L423.095 127.898 L427.377 127.898 L427.377 131.926 Q428.905 129.588 430.965 128.43 Q433.048 127.273 435.757 127.273 Q440.224 127.273 442.516 130.051 Q444.807 132.805 444.807 138.176 Z\" fill=\"#000000\" fill-rule=\"nonzero\" fill-opacity=\"1\" /><path clip-path=\"url(#clip510)\" d=\"M457.516 120.537 L457.516 127.898 L466.289 127.898 L466.289 131.208 L457.516 131.208 L457.516 145.282 Q457.516 148.453 458.372 149.356 Q459.252 150.259 461.914 150.259 L466.289 150.259 L466.289 153.824 L461.914 153.824 Q456.983 153.824 455.108 151.995 Q453.233 150.143 453.233 145.282 L453.233 131.208 L450.108 131.208 L450.108 127.898 L453.233 127.898 L453.233 120.537 L457.516 120.537 Z\" fill=\"#000000\" fill-rule=\"nonzero\" fill-opacity=\"1\" /><path clip-path=\"url(#clip510)\" d=\"M494.066 139.796 L494.066 141.879 L474.483 141.879 Q474.761 146.277 477.122 148.592 Q479.506 150.884 483.742 150.884 Q486.196 150.884 488.488 150.282 Q490.803 149.68 493.071 148.476 L493.071 152.504 Q490.779 153.476 488.372 153.986 Q485.965 154.495 483.488 154.495 Q477.284 154.495 473.65 150.884 Q470.039 147.273 470.039 141.115 Q470.039 134.75 473.465 131.023 Q476.914 127.273 482.747 127.273 Q487.979 127.273 491.011 130.652 Q494.066 134.009 494.066 139.796 M489.807 138.546 Q489.761 135.051 487.84 132.967 Q485.941 130.884 482.793 130.884 Q479.229 130.884 477.076 132.898 Q474.946 134.912 474.622 138.569 L489.807 138.546 Z\" fill=\"#000000\" fill-rule=\"nonzero\" fill-opacity=\"1\" /><path clip-path=\"url(#clip510)\" d=\"M516.08 131.879 Q515.363 131.463 514.506 131.277 Q513.673 131.069 512.654 131.069 Q509.043 131.069 507.099 133.43 Q505.177 135.768 505.177 140.166 L505.177 153.824 L500.895 153.824 L500.895 127.898 L505.177 127.898 L505.177 131.926 Q506.52 129.565 508.673 128.43 Q510.826 127.273 513.904 127.273 Q514.344 127.273 514.877 127.342 Q515.409 127.389 516.057 127.504 L516.08 131.879 Z\" fill=\"#000000\" fill-rule=\"nonzero\" fill-opacity=\"1\" /><path clip-path=\"url(#clip510)\" d=\"M524.668 149.935 L524.668 163.685 L520.386 163.685 L520.386 127.898 L524.668 127.898 L524.668 131.833 Q526.011 129.518 528.048 128.407 Q530.108 127.273 532.955 127.273 Q537.677 127.273 540.617 131.023 Q543.58 134.773 543.58 140.884 Q543.58 146.995 540.617 150.745 Q537.677 154.495 532.955 154.495 Q530.108 154.495 528.048 153.384 Q526.011 152.25 524.668 149.935 M539.159 140.884 Q539.159 136.185 537.214 133.523 Q535.293 130.838 531.913 130.838 Q528.534 130.838 526.589 133.523 Q524.668 136.185 524.668 140.884 Q524.668 145.583 526.589 148.268 Q528.534 150.93 531.913 150.93 Q535.293 150.93 537.214 148.268 Q539.159 145.583 539.159 140.884 Z\" fill=\"#000000\" fill-rule=\"nonzero\" fill-opacity=\"1\" /><path clip-path=\"url(#clip510)\" d=\"M560.686 130.884 Q557.261 130.884 555.27 133.569 Q553.279 136.231 553.279 140.884 Q553.279 145.537 555.247 148.222 Q557.237 150.884 560.686 150.884 Q564.089 150.884 566.08 148.199 Q568.071 145.513 568.071 140.884 Q568.071 136.277 566.08 133.592 Q564.089 130.884 560.686 130.884 M560.686 127.273 Q566.242 127.273 569.413 130.884 Q572.585 134.495 572.585 140.884 Q572.585 147.25 569.413 150.884 Q566.242 154.495 560.686 154.495 Q555.108 154.495 551.937 150.884 Q548.788 147.25 548.788 140.884 Q548.788 134.495 551.937 130.884 Q555.108 127.273 560.686 127.273 Z\" fill=\"#000000\" fill-rule=\"nonzero\" fill-opacity=\"1\" /><path clip-path=\"url(#clip510)\" d=\"M579.645 117.805 L583.904 117.805 L583.904 153.824 L579.645 153.824 L579.645 117.805 Z\" fill=\"#000000\" fill-rule=\"nonzero\" fill-opacity=\"1\" /><path clip-path=\"url(#clip510)\" d=\"M604.598 140.791 Q599.436 140.791 597.446 141.972 Q595.455 143.152 595.455 146 Q595.455 148.268 596.936 149.611 Q598.441 150.93 601.01 150.93 Q604.552 150.93 606.682 148.43 Q608.834 145.907 608.834 141.74 L608.834 140.791 L604.598 140.791 M613.094 139.032 L613.094 153.824 L608.834 153.824 L608.834 149.888 Q607.376 152.25 605.2 153.384 Q603.024 154.495 599.876 154.495 Q595.895 154.495 593.534 152.273 Q591.196 150.027 591.196 146.277 Q591.196 141.902 594.112 139.68 Q597.052 137.458 602.862 137.458 L608.834 137.458 L608.834 137.041 Q608.834 134.102 606.89 132.504 Q604.969 130.884 601.473 130.884 Q599.251 130.884 597.145 131.416 Q595.038 131.949 593.094 133.014 L593.094 129.078 Q595.432 128.176 597.631 127.736 Q599.83 127.273 601.913 127.273 Q607.538 127.273 610.316 130.19 Q613.094 133.106 613.094 139.032 Z\" fill=\"#000000\" fill-rule=\"nonzero\" fill-opacity=\"1\" /><path clip-path=\"url(#clip510)\" d=\"M643.417 138.176 L643.417 153.824 L639.158 153.824 L639.158 138.314 Q639.158 134.634 637.723 132.805 Q636.288 130.977 633.418 130.977 Q629.968 130.977 627.978 133.176 Q625.987 135.375 625.987 139.171 L625.987 153.824 L621.705 153.824 L621.705 127.898 L625.987 127.898 L625.987 131.926 Q627.515 129.588 629.575 128.43 Q631.658 127.273 634.367 127.273 Q638.834 127.273 641.126 130.051 Q643.417 132.805 643.417 138.176 Z\" fill=\"#000000\" fill-rule=\"nonzero\" fill-opacity=\"1\" /><path clip-path=\"url(#clip510)\" d=\"M656.126 120.537 L656.126 127.898 L664.899 127.898 L664.899 131.208 L656.126 131.208 L656.126 145.282 Q656.126 148.453 656.982 149.356 Q657.862 150.259 660.524 150.259 L664.899 150.259 L664.899 153.824 L660.524 153.824 Q655.593 153.824 653.718 151.995 Q651.843 150.143 651.843 145.282 L651.843 131.208 L648.718 131.208 L648.718 127.898 L651.843 127.898 L651.843 120.537 L656.126 120.537 Z\" fill=\"#000000\" fill-rule=\"nonzero\" fill-opacity=\"1\" /></svg>\n"
      ]
     },
     "execution_count": 9,
     "metadata": {},
     "output_type": "execute_result"
    }
   ],
   "source": [
    "plot!(tt, yy, label=\"interpolant\")"
   ]
  }
 ],
 "metadata": {
  "kernelspec": {
   "display_name": "Julia 1",
   "language": "julia",
   "name": "julia-1.11"
  },
  "language_info": {
   "file_extension": ".jl",
   "mimetype": "application/julia",
   "name": "julia",
   "version": "1.11.2"
  },
  "numbering": {
   "headings": false
  }
 },
 "nbformat": 4,
 "nbformat_minor": 5
}
