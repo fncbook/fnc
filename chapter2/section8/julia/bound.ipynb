{
 "cells": [
  {
   "cell_type": "code",
   "execution_count": 1,
   "id": "ffdcaea6",
   "metadata": {
    "execution": {
     "iopub.execute_input": "2025-01-05T09:35:33.980000Z",
     "iopub.status.busy": "2025-01-05T09:35:33.687000Z",
     "iopub.status.idle": "2025-01-05T09:35:40.594000Z",
     "shell.execute_reply": "2025-01-05T09:35:40.541000Z"
    }
   },
   "outputs": [
    {
     "name": "stderr",
     "output_type": "stream",
     "text": [
      "\u001b[32m\u001b[1m  Activating\u001b[22m\u001b[39m "
     ]
    },
    {
     "name": "stderr",
     "output_type": "stream",
     "text": [
      "project at `~/Documents/GitHub/fnc`\n"
     ]
    }
   ],
   "source": [
    "include(\"../../../julia/FNC_init.jl\")"
   ]
  },
  {
   "cell_type": "markdown",
   "id": "bc06fcc9",
   "metadata": {},
   "source": [
    "[**Demo %s**](#demo-condition-bound)\n",
    "\n",
    "\n",
    "```{index} ! Julia; cond\n",
    "```\n",
    "Julia has a function `cond` to compute matrix condition numbers. By default, the 2-norm is used. As an example, the family of *Hilbert matrices* is famously badly conditioned. Here is the $6\\times 6$  case.\n",
    "```{tip}\n",
    ":class: dropdown\n",
    "Type `\\kappa` followed by <kbd>Tab</kbd> to get the Greek letter $\\kappa$.\n",
    "```"
   ]
  },
  {
   "cell_type": "code",
   "execution_count": 2,
   "id": "e3db0965",
   "metadata": {
    "execution": {
     "iopub.execute_input": "2025-01-05T09:35:40.734000Z",
     "iopub.status.busy": "2025-01-05T09:35:40.595000Z",
     "iopub.status.idle": "2025-01-05T09:35:41.022000Z",
     "shell.execute_reply": "2025-01-05T09:35:41.022000Z"
    }
   },
   "outputs": [
    {
     "data": {
      "text/plain": [
       "5.109816297946132e7"
      ]
     },
     "execution_count": 2,
     "metadata": {},
     "output_type": "execute_result"
    }
   ],
   "source": [
    "A = [ 1 / (i + j) for i in 1:6, j in 1:6 ]\n",
    "κ = cond(A)"
   ]
  },
  {
   "cell_type": "markdown",
   "id": "a2b3a512",
   "metadata": {},
   "source": [
    "Because $\\kappa\\approx 10^8$, it's possible to lose nearly 8 digits of accuracy in the process of passing from $\\mathbf{A}$ and $\\mathbf{b}$ to $\\mathbf{x}$. That fact is independent of the algorithm; it's inevitable once the data are expressed in finite precision. \n",
    "\n",
    "Let's engineer a linear system problem to observe the effect of a perturbation. We will make sure we know the exact answer."
   ]
  },
  {
   "cell_type": "code",
   "execution_count": 3,
   "id": "4ba82396",
   "metadata": {
    "execution": {
     "iopub.execute_input": "2025-01-05T09:35:41.024000Z",
     "iopub.status.busy": "2025-01-05T09:35:41.024000Z",
     "iopub.status.idle": "2025-01-05T09:35:42.099000Z",
     "shell.execute_reply": "2025-01-05T09:35:42.099000Z"
    }
   },
   "outputs": [
    {
     "data": {
      "text/plain": [
       "6-element Vector{Float64}:\n",
       " 4.407142857142857\n",
       " 3.564285714285714\n",
       " 3.013095238095238\n",
       " 2.6174603174603175\n",
       " 2.317279942279942\n",
       " 2.0807359307359308"
      ]
     },
     "execution_count": 3,
     "metadata": {},
     "output_type": "execute_result"
    }
   ],
   "source": [
    "x = 1:6\n",
    "b = A * x"
   ]
  },
  {
   "cell_type": "markdown",
   "id": "7f3dbf44",
   "metadata": {},
   "source": [
    "Now we perturb the system matrix and vector randomly by $10^{-10}$ in norm."
   ]
  },
  {
   "cell_type": "code",
   "execution_count": 4,
   "id": "bf9239de",
   "metadata": {
    "execution": {
     "iopub.execute_input": "2025-01-05T09:35:42.101000Z",
     "iopub.status.busy": "2025-01-05T09:35:42.101000Z",
     "iopub.status.idle": "2025-01-05T09:35:42.171000Z",
     "shell.execute_reply": "2025-01-05T09:35:42.171000Z"
    }
   },
   "outputs": [],
   "source": [
    "# type \\Delta then Tab to get Δ\n",
    "ΔA = randn(size(A));  ΔA = 1e-10 * (ΔA / opnorm(ΔA));\n",
    "Δb = randn(size(b));  Δb = 1e-10 * normalize(Δb);"
   ]
  },
  {
   "cell_type": "markdown",
   "id": "08faab91",
   "metadata": {},
   "source": [
    "We solve the perturbed problem using pivoted LU and see how the solution was changed."
   ]
  },
  {
   "cell_type": "code",
   "execution_count": 5,
   "id": "85054dd2",
   "metadata": {
    "execution": {
     "iopub.execute_input": "2025-01-05T09:35:42.173000Z",
     "iopub.status.busy": "2025-01-05T09:35:42.173000Z",
     "iopub.status.idle": "2025-01-05T09:35:42.208000Z",
     "shell.execute_reply": "2025-01-05T09:35:42.208000Z"
    }
   },
   "outputs": [
    {
     "data": {
      "text/plain": [
       "6-element Vector{Float64}:\n",
       "  1.4593600563550524e-6\n",
       " -1.3922145710276723e-5\n",
       "  3.423236338306879e-5\n",
       " -1.4172928783029448e-5\n",
       " -3.212900976823363e-5\n",
       "  2.4795896792717542e-5"
      ]
     },
     "execution_count": 5,
     "metadata": {},
     "output_type": "execute_result"
    }
   ],
   "source": [
    "new_x = ((A + ΔA) \\ (b + Δb))\n",
    "Δx = new_x - x"
   ]
  },
  {
   "cell_type": "markdown",
   "id": "8f8153c2",
   "metadata": {},
   "source": [
    "Here is the relative error in the solution."
   ]
  },
  {
   "cell_type": "code",
   "execution_count": 6,
   "id": "9a4684a3",
   "metadata": {
    "execution": {
     "iopub.execute_input": "2025-01-05T09:35:42.210000Z",
     "iopub.status.busy": "2025-01-05T09:35:42.210000Z",
     "iopub.status.idle": "2025-01-05T09:35:42.825000Z",
     "shell.execute_reply": "2025-01-05T09:35:42.824000Z"
    }
   },
   "outputs": [
    {
     "name": "stdout",
     "output_type": "stream",
     "text": [
      "relative_error = norm(Δx) / norm(x) = 5.944609020012348e-6"
     ]
    },
    {
     "name": "stdout",
     "output_type": "stream",
     "text": [
      "\n"
     ]
    }
   ],
   "source": [
    "@show relative_error = norm(Δx) / norm(x);"
   ]
  },
  {
   "cell_type": "markdown",
   "id": "adae9568",
   "metadata": {},
   "source": [
    "And here are upper bounds predicted using the condition number of the original matrix."
   ]
  },
  {
   "cell_type": "code",
   "execution_count": 7,
   "id": "a60a18dd",
   "metadata": {
    "execution": {
     "iopub.execute_input": "2025-01-05T09:35:42.826000Z",
     "iopub.status.busy": "2025-01-05T09:35:42.826000Z",
     "iopub.status.idle": "2025-01-05T09:35:42.832000Z",
     "shell.execute_reply": "2025-01-05T09:35:42.832000Z"
    }
   },
   "outputs": [
    {
     "name": "stdout",
     "output_type": "stream",
     "text": [
      "Upper bound due to b: 0.000672366771437133\n",
      "Upper bound due to A: 0.004566989873939065\n"
     ]
    }
   ],
   "source": [
    "println(\"Upper bound due to b: $(κ * norm(Δb) / norm(b))\")\n",
    "println(\"Upper bound due to A: $(κ * opnorm(ΔA) / opnorm(A))\")"
   ]
  },
  {
   "cell_type": "markdown",
   "id": "62b45c92",
   "metadata": {},
   "source": [
    "Even if we didn't make any manual perturbations to the data, machine roundoff does so at the relative level of $\\macheps$."
   ]
  },
  {
   "cell_type": "code",
   "execution_count": 8,
   "id": "00236a7a",
   "metadata": {
    "execution": {
     "iopub.execute_input": "2025-01-05T09:35:42.833000Z",
     "iopub.status.busy": "2025-01-05T09:35:42.833000Z",
     "iopub.status.idle": "2025-01-05T09:35:42.835000Z",
     "shell.execute_reply": "2025-01-05T09:35:42.835000Z"
    }
   },
   "outputs": [
    {
     "name": "stdout",
     "output_type": "stream",
     "text": [
      "relative_error = norm(Δx) / norm(x) = 7.822650774976615e-10\n",
      "rounding_bound = κ * eps() = 1.134607141116935e-8\n"
     ]
    }
   ],
   "source": [
    "Δx = A\\b - x\n",
    "@show relative_error = norm(Δx) / norm(x);\n",
    "@show rounding_bound = κ * eps();"
   ]
  },
  {
   "cell_type": "markdown",
   "id": "b9da74f0",
   "metadata": {},
   "source": [
    "Larger Hilbert matrices are even more poorly conditioned:"
   ]
  },
  {
   "cell_type": "code",
   "execution_count": 9,
   "id": "93d83058",
   "metadata": {
    "execution": {
     "iopub.execute_input": "2025-01-05T09:35:42.836000Z",
     "iopub.status.busy": "2025-01-05T09:35:42.836000Z",
     "iopub.status.idle": "2025-01-05T09:35:42.853000Z",
     "shell.execute_reply": "2025-01-05T09:35:42.853000Z"
    }
   },
   "outputs": [
    {
     "data": {
      "text/plain": [
       "5.802584125151949e17"
      ]
     },
     "execution_count": 9,
     "metadata": {},
     "output_type": "execute_result"
    }
   ],
   "source": [
    "A = [ 1 / (i + j) for i=1:14, j=1:14 ];\n",
    "κ = cond(A)"
   ]
  },
  {
   "cell_type": "markdown",
   "id": "9fc002a6",
   "metadata": {},
   "source": [
    "Note that $\\kappa$ exceeds $1/\\macheps$. In principle we therefore may end up with an answer that has relative error greater than 100%."
   ]
  },
  {
   "cell_type": "code",
   "execution_count": 10,
   "id": "6d453a1f",
   "metadata": {
    "execution": {
     "iopub.execute_input": "2025-01-05T09:35:42.855000Z",
     "iopub.status.busy": "2025-01-05T09:35:42.855000Z",
     "iopub.status.idle": "2025-01-05T09:35:42.855000Z",
     "shell.execute_reply": "2025-01-05T09:35:42.855000Z"
    }
   },
   "outputs": [
    {
     "data": {
      "text/plain": [
       "128.8432499613623"
      ]
     },
     "execution_count": 10,
     "metadata": {},
     "output_type": "execute_result"
    }
   ],
   "source": [
    "rounding_bound = κ*eps()"
   ]
  },
  {
   "cell_type": "markdown",
   "id": "0edf0cd7",
   "metadata": {},
   "source": [
    "Let's put that prediction to the test."
   ]
  },
  {
   "cell_type": "code",
   "execution_count": 11,
   "id": "ebccfa44",
   "metadata": {
    "execution": {
     "iopub.execute_input": "2025-01-05T09:35:42.857000Z",
     "iopub.status.busy": "2025-01-05T09:35:42.857000Z",
     "iopub.status.idle": "2025-01-05T09:35:42.858000Z",
     "shell.execute_reply": "2025-01-05T09:35:42.858000Z"
    }
   },
   "outputs": [
    {
     "name": "stdout",
     "output_type": "stream",
     "text": [
      "relative_error = norm(Δx) / norm(x) = 4.469466154206132\n"
     ]
    }
   ],
   "source": [
    "x = 1:14\n",
    "b = A * x  \n",
    "Δx = A\\b - x\n",
    "@show relative_error = norm(Δx) / norm(x);"
   ]
  },
  {
   "cell_type": "markdown",
   "id": "5f5a9cd2",
   "metadata": {},
   "source": [
    "As anticipated, the solution has zero accurate digits in the 2-norm."
   ]
  }
 ],
 "metadata": {
  "kernelspec": {
   "display_name": "Julia 1",
   "language": "julia",
   "name": "julia-1.11"
  },
  "language_info": {
   "file_extension": ".jl",
   "mimetype": "application/julia",
   "name": "julia",
   "version": "1.11.2"
  },
  "numbering": {
   "headings": false
  }
 },
 "nbformat": 4,
 "nbformat_minor": 5
}
