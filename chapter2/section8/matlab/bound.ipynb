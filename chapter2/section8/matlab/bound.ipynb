{
    "cells": [
        {
            "cell_type": "markdown",
            "source": [
                "[**Demo %s**](#demo-condition-bound)\n",
                "\n",
                "\n",
                "```{index} ! MATLAB; cond\n",
                "```\n",
                "MATLAB has a function `cond` to compute matrix condition numbers. By default, the 2-norm is used. As an example, the family of *Hilbert matrices* is famously badly conditioned. Here is the $6\\times 6$ case."
            ],
            "id": "cb2f5044",
            "metadata": {}
        },
        {
            "outputs": [
                {
                    "output_type": "execute_result",
                    "data": {
                        "text/plain": [
                            "A = 6×6 double\n",
                            "    1.0000    0.5000    0.3333    0.2500    0.2000    0.1667\n",
                            "    0.5000    0.3333    0.2500    0.2000    0.1667    0.1429\n",
                            "    0.3333    0.2500    0.2000    0.1667    0.1429    0.1250\n",
                            "    0.2500    0.2000    0.1667    0.1429    0.1250    0.1111\n",
                            "    0.2000    0.1667    0.1429    0.1250    0.1111    0.1000\n",
                            "    0.1667    0.1429    0.1250    0.1111    0.1000    0.0909\n"
                        ],
                        "text/html": [
                            "<html><body><pre>A = 6×6 double\n",
                            "    1.0000    0.5000    0.3333    0.2500    0.2000    0.1667\n",
                            "    0.5000    0.3333    0.2500    0.2000    0.1667    0.1429\n",
                            "    0.3333    0.2500    0.2000    0.1667    0.1429    0.1250\n",
                            "    0.2500    0.2000    0.1667    0.1429    0.1250    0.1111\n",
                            "    0.2000    0.1667    0.1429    0.1250    0.1111    0.1000\n",
                            "    0.1667    0.1429    0.1250    0.1111    0.1000    0.0909\n",
                            "</pre></body></html>"
                        ]
                    },
                    "metadata": {},
                    "execution_count": 2
                },
                {
                    "output_type": "execute_result",
                    "data": {
                        "text/plain": [
                            "kappa = 1.4951e+07"
                        ],
                        "text/html": [
                            "<html><body><pre>kappa = 1.4951e+07</pre></body></html>"
                        ]
                    },
                    "metadata": {},
                    "execution_count": 2
                }
            ],
            "cell_type": "code",
            "source": [
                "A = hilb(6)\n",
                "kappa = cond(A)"
            ],
            "id": "730a8cd5",
            "metadata": {},
            "execution_count": 2
        },
        {
            "cell_type": "markdown",
            "source": [
                "Because $\\kappa\\approx 10^8$, it's possible to lose nearly 8 digits of accuracy in the process of passing from $\\mathbf{A}$ and $\\mathbf{b}$ to $\\mathbf{x}$. That fact is independent of the algorithm; it's inevitable once the data are expressed in finite precision. \n",
                "\n",
                "Let's engineer a linear system problem to observe the effect of a perturbation. We will make sure we know the exact answer."
            ],
            "id": "ef43c1e9",
            "metadata": {}
        },
        {
            "outputs": [],
            "cell_type": "code",
            "source": [
                "x = (1:6)';\n",
                "b = A * x;"
            ],
            "id": "9599283c",
            "metadata": {},
            "execution_count": 3
        },
        {
            "cell_type": "markdown",
            "source": [
                "Now we perturb the system matrix and vector randomly by $10^{-10}$ in norm."
            ],
            "id": "ce081a20",
            "metadata": {}
        },
        {
            "outputs": [],
            "cell_type": "code",
            "source": [
                "dA = randn(size(A));  dA = 1e-10 * (dA / norm(dA));\n",
                "db = randn(size(b));  db = 1e-10 * (db / norm(db));"
            ],
            "id": "d743fc29",
            "metadata": {},
            "execution_count": 4
        },
        {
            "cell_type": "markdown",
            "source": [
                "We solve the perturbed problem using pivoted LU and see how the solution was changed."
            ],
            "id": "09ba6980",
            "metadata": {}
        },
        {
            "outputs": [],
            "cell_type": "code",
            "source": [
                "new_x = ((A + dA) \\ (b + db));\n",
                "dx = new_x - x;"
            ],
            "id": "2786c1b4",
            "metadata": {},
            "execution_count": 5
        },
        {
            "cell_type": "markdown",
            "source": [
                "Here is the relative error in the solution."
            ],
            "id": "46cd0a45",
            "metadata": {}
        },
        {
            "outputs": [
                {
                    "output_type": "execute_result",
                    "data": {
                        "text/plain": [
                            "relative_error = 5.1667e-05"
                        ],
                        "text/html": [
                            "<html><body><pre>relative_error = 5.1667e-05</pre></body></html>"
                        ]
                    },
                    "metadata": {},
                    "execution_count": 6
                }
            ],
            "cell_type": "code",
            "source": [
                "relative_error = norm(dx) / norm(x)"
            ],
            "id": "e7f34350",
            "metadata": {},
            "execution_count": 6
        },
        {
            "cell_type": "markdown",
            "source": [
                "And here are upper bounds predicted using the condition number of the original matrix."
            ],
            "id": "b11f2cd4",
            "metadata": {}
        },
        {
            "outputs": [
                {
                    "output_type": "execute_result",
                    "data": {
                        "text/plain": [
                            "upper_bound_b = 1.5810e-04"
                        ],
                        "text/html": [
                            "<html><body><pre>upper_bound_b = 1.5810e-04</pre></body></html>"
                        ]
                    },
                    "metadata": {},
                    "execution_count": 7
                },
                {
                    "output_type": "execute_result",
                    "data": {
                        "text/plain": [
                            "upper_bound_A = 9.2353e-04"
                        ],
                        "text/html": [
                            "<html><body><pre>upper_bound_A = 9.2353e-04</pre></body></html>"
                        ]
                    },
                    "metadata": {},
                    "execution_count": 7
                }
            ],
            "cell_type": "code",
            "source": [
                "upper_bound_b = (kappa * norm(db) / norm(b))\n",
                "upper_bound_A = (kappa * norm(dA) / norm(A))"
            ],
            "id": "42fa2406",
            "metadata": {},
            "execution_count": 7
        },
        {
            "cell_type": "markdown",
            "source": [
                "Even if we didn't make any manual perturbations to the data, machine roundoff does so at the relative level of $\\macheps$."
            ],
            "id": "55045d0e",
            "metadata": {}
        },
        {
            "outputs": [
                {
                    "output_type": "execute_result",
                    "data": {
                        "text/plain": [
                            "relative_error = 4.5027e-11"
                        ],
                        "text/html": [
                            "<html><body><pre>relative_error = 4.5027e-11</pre></body></html>"
                        ]
                    },
                    "metadata": {},
                    "execution_count": 8
                },
                {
                    "output_type": "execute_result",
                    "data": {
                        "text/plain": [
                            "rounding_bound = 3.3198e-09"
                        ],
                        "text/html": [
                            "<html><body><pre>rounding_bound = 3.3198e-09</pre></body></html>"
                        ]
                    },
                    "metadata": {},
                    "execution_count": 8
                }
            ],
            "cell_type": "code",
            "source": [
                "dx = A\\b - x;\n",
                "relative_error = norm(dx) / norm(x)\n",
                "rounding_bound = kappa * eps"
            ],
            "id": "49c04bdc",
            "metadata": {},
            "execution_count": 8
        },
        {
            "cell_type": "markdown",
            "source": [
                "Larger Hilbert matrices are even more poorly conditioned:"
            ],
            "id": "3abd7fa6",
            "metadata": {}
        },
        {
            "outputs": [
                {
                    "output_type": "execute_result",
                    "data": {
                        "text/plain": [
                            "kappa = 2.4325e+17"
                        ],
                        "text/html": [
                            "<html><body><pre>kappa = 2.4325e+17</pre></body></html>"
                        ]
                    },
                    "metadata": {},
                    "execution_count": 9
                }
            ],
            "cell_type": "code",
            "source": [
                "A = hilb(14);\n",
                "kappa = cond(A)"
            ],
            "id": "e614c683",
            "metadata": {},
            "execution_count": 9
        },
        {
            "cell_type": "markdown",
            "source": [
                "Note that $\\kappa$ exceeds $1/\\macheps$. In principle we therefore may end up with an answer that has relative error greater than 100%."
            ],
            "id": "42690abf",
            "metadata": {}
        },
        {
            "outputs": [
                {
                    "output_type": "execute_result",
                    "data": {
                        "text/plain": [
                            "rounding_bound = 54.0132"
                        ],
                        "text/html": [
                            "<html><body><pre>rounding_bound = 54.0132</pre></body></html>"
                        ]
                    },
                    "metadata": {},
                    "execution_count": 10
                }
            ],
            "cell_type": "code",
            "source": [
                "rounding_bound = kappa * eps"
            ],
            "id": "7dcfe6e5",
            "metadata": {},
            "execution_count": 10
        },
        {
            "cell_type": "markdown",
            "source": [
                "Let's put that prediction to the test."
            ],
            "id": "9b2693ee",
            "metadata": {}
        },
        {
            "outputs": [
                {
                    "name": "stderr",
                    "output_type": "stream",
                    "text": [
                        "Warning: Matrix is close to singular or badly scaled. Results may be inaccurate. RCOND =  7.292772e-20."
                    ]
                },
                {
                    "output_type": "execute_result",
                    "data": {
                        "text/plain": [
                            "relative_error = 61.0121"
                        ],
                        "text/html": [
                            "<html><body><pre>relative_error = 61.0121</pre></body></html>"
                        ]
                    },
                    "metadata": {},
                    "execution_count": 11
                }
            ],
            "cell_type": "code",
            "source": [
                "x = (1:14)';  b = A * x;\n",
                "dx = A\\b - x;\n",
                "relative_error = norm(dx) / norm(x)"
            ],
            "id": "1001a300",
            "metadata": {},
            "execution_count": 11
        },
        {
            "cell_type": "markdown",
            "source": [
                "As anticipated, the solution has zero accurate digits in the 2-norm."
            ],
            "id": "f14bc2b8",
            "metadata": {}
        }
    ],
    "nbformat_minor": 5,
    "metadata": {
        "language_info": {
            "file_extension": ".m",
            "mimetype": "text/x-matlab",
            "name": "matlab"
        },
        "kernelspec": {
            "name": "jupyter_matlab_kernel",
            "display_name": "MATLAB Kernel",
            "language": "matlab"
        },
        "numbering": {
            "headings": false
        }
    },
    "nbformat": 4
}
