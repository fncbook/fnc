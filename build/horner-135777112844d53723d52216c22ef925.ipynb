{
    "cells": [
        {
            "cell_type": "markdown",
            "source": [
                "[**Demo %s**](#demo-algorithms-horner)\n",
                "\n",
                "Here we show how to use {numref}`Function {number} <function-horner>` to evaluate a polynomial. Let us define a vector of the coefficients of $p(x)=(x-1)^3=x^3-3x^2+3x-1$, in ascending degree order."
            ],
            "id": "fea0d082",
            "metadata": {}
        },
        {
            "outputs": [
                {
                    "output_type": "execute_result",
                    "data": {
                        "text/plain": [
                            "c = 1×4 double\n",
                            "     1    -3     3     1\n"
                        ],
                        "text/html": [
                            "<html><body><pre>c = 1×4 double\n",
                            "     1    -3     3     1\n",
                            "</pre></body></html>"
                        ]
                    },
                    "metadata": {},
                    "execution_count": 2
                }
            ],
            "cell_type": "code",
            "source": [
                "c = [1, -3, 3, 1]"
            ],
            "id": "7b8e2df7",
            "metadata": {
                "execution": {
                    "iopub.status.idle": "2025-01-11T18:55:42.382093Z",
                    "iopub.status.busy": "2025-01-11T18:55:42.379230Z",
                    "iopub.execute_input": "2025-01-11T18:55:42.379445Z",
                    "shell.execute_reply": "2025-01-11T18:55:42.381626Z"
                }
            },
            "execution_count": 2
        },
        {
            "cell_type": "markdown",
            "source": [
                "Now we evaluate $p(1.6)$ using the function `horner`."
            ],
            "id": "d0f14268",
            "metadata": {}
        },
        {
            "outputs": [
                {
                    "output_type": "execute_result",
                    "data": {
                        "text/plain": [
                            "ans = 2.2160"
                        ],
                        "text/html": [
                            "<html><body><pre>ans = 2.2160</pre></body></html>"
                        ]
                    },
                    "metadata": {},
                    "execution_count": 3
                }
            ],
            "cell_type": "code",
            "source": [
                "horner(c, 1.6)"
            ],
            "id": "f826d6b4",
            "metadata": {
                "execution": {
                    "iopub.status.idle": "2025-01-11T18:55:42.386451Z",
                    "iopub.status.busy": "2025-01-11T18:55:42.384226Z",
                    "iopub.execute_input": "2025-01-11T18:55:42.384392Z",
                    "shell.execute_reply": "2025-01-11T18:55:42.386067Z"
                }
            },
            "execution_count": 3
        },
        {
            "cell_type": "markdown",
            "source": [
                "The result above is the value of $p(1.6)$.\n",
                "\n",
                "```{tip}\n",
                "The comments at the start of {numref}`Function {number} <function-horner>` are documentation, which we can access using `help horner`.\n",
                "```"
            ],
            "id": "0b4c22ce",
            "metadata": {}
        }
    ],
    "nbformat_minor": 5,
    "metadata": {
        "language_info": {
            "file_extension": ".m",
            "mimetype": "text/x-matlab",
            "name": "matlab"
        },
        "kernelspec": {
            "name": "jupyter_matlab_kernel",
            "display_name": "MATLAB Kernel",
            "language": "matlab"
        },
        "numbering": {
            "headings": false
        }
    },
    "nbformat": 4
}
