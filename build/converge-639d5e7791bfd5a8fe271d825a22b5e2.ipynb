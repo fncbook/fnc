{
 "cells": [
  {
   "cell_type": "code",
   "execution_count": 1,
   "id": "1961c3ef",
   "metadata": {
    "tags": [
     "remove-cell"
    ]
   },
   "outputs": [],
   "source": [
    "cd  /Users/driscoll/Documents/GitHub/fnc/matlab\n",
    "FNC_init"
   ]
  },
  {
   "cell_type": "markdown",
   "id": "35757542",
   "metadata": {},
   "source": [
    "[**Demo %s**](#demo-newton-converge)\n",
    "\n",
    "We again look at finding a solution of $x e^x=2$ near $x=1$. To apply Newton's method, we need to calculate values of both the residual function $f$ and its derivative."
   ]
  },
  {
   "cell_type": "code",
   "execution_count": 2,
   "id": "dd461795",
   "metadata": {},
   "outputs": [],
   "source": [
    "f = @(x) x.*exp(x) - 2;\n",
    "dfdx = @(x) exp(x).*(x+1);"
   ]
  },
  {
   "cell_type": "markdown",
   "id": "92d1ecf7",
   "metadata": {},
   "source": [
    "We don't know the exact root, so we use `nlsolve` to determine a proxy for it."
   ]
  },
  {
   "cell_type": "code",
   "execution_count": 3,
   "id": "c8ed62c9",
   "metadata": {},
   "outputs": [
    {
     "data": {
      "text/html": [
       "<html><body><pre>r = \n",
       "   0.852605502013726\n",
       "</pre></body></html>"
      ],
      "text/plain": [
       "r = \n",
       "   0.852605502013726\n"
      ]
     },
     "execution_count": 3,
     "metadata": {},
     "output_type": "execute_result"
    }
   ],
   "source": [
    "format long,  r = fzero(f,1)"
   ]
  },
  {
   "cell_type": "markdown",
   "id": "1ca89746",
   "metadata": {},
   "source": [
    "We use $x_1=1$ as a starting guess and apply the iteration in a loop, storing the sequence of iterates in a vector."
   ]
  },
  {
   "cell_type": "code",
   "execution_count": 4,
   "id": "78d07ddd",
   "metadata": {},
   "outputs": [
    {
     "data": {
      "text/html": [
       "<html><body><pre>x = 1×7 double\n",
       "   1.000000000000000   0.867879441171442   0.852783373416410   0.852605526368922   0.852605502013726   0.852605502013725   0.852605502013725\n",
       "</pre></body></html>"
      ],
      "text/plain": [
       "x = 1×7 double\n",
       "   1.000000000000000   0.867879441171442   0.852783373416410   0.852605526368922   0.852605502013726   0.852605502013725   0.852605502013725\n"
      ]
     },
     "execution_count": 4,
     "metadata": {},
     "output_type": "execute_result"
    }
   ],
   "source": [
    "x = 1;\n",
    "for k = 1:6\n",
    "    x(k+1) = x(k) - f(x(k)) / dfdx(x(k));\n",
    "end\n",
    "x"
   ]
  },
  {
   "cell_type": "markdown",
   "id": "002dd540",
   "metadata": {},
   "source": [
    "Here is the sequence of errors."
   ]
  },
  {
   "cell_type": "code",
   "execution_count": 5,
   "id": "b70a82ad",
   "metadata": {},
   "outputs": [
    {
     "data": {
      "text/html": [
       "<html><body><pre>err = 7×1 double\n",
       "   1.4739e-01\n",
       "   1.5274e-02\n",
       "   1.7787e-04\n",
       "   2.4355e-08\n",
       "   4.4409e-16\n",
       "  -1.1102e-16\n",
       "  -1.1102e-16\n",
       "</pre></body></html>"
      ],
      "text/plain": [
       "err = 7×1 double\n",
       "   1.4739e-01\n",
       "   1.5274e-02\n",
       "   1.7787e-04\n",
       "   2.4355e-08\n",
       "   4.4409e-16\n",
       "  -1.1102e-16\n",
       "  -1.1102e-16\n"
      ]
     },
     "execution_count": 5,
     "metadata": {},
     "output_type": "execute_result"
    }
   ],
   "source": [
    "format short e\n",
    "err = x' - r"
   ]
  },
  {
   "cell_type": "markdown",
   "id": "fa6277c4",
   "metadata": {},
   "source": [
    "The exponents in the scientific notation definitely suggest a squaring sequence. We can check the evolution of the ratio in {eq}`quadratictest`."
   ]
  },
  {
   "cell_type": "code",
   "execution_count": 6,
   "id": "b05e59a7",
   "metadata": {},
   "outputs": [
    {
     "data": {
      "text/html": [
       "<html><body><pre>logerr = 7×1 double\n",
       "   -1.9146\n",
       "   -4.1816\n",
       "   -8.6344\n",
       "  -17.5305\n",
       "  -35.3505\n",
       "  -36.7368\n",
       "  -36.7368\n",
       "</pre></body></html>"
      ],
      "text/plain": [
       "logerr = 7×1 double\n",
       "   -1.9146\n",
       "   -4.1816\n",
       "   -8.6344\n",
       "  -17.5305\n",
       "  -35.3505\n",
       "  -36.7368\n",
       "  -36.7368\n"
      ]
     },
     "execution_count": 6,
     "metadata": {},
     "output_type": "execute_result"
    }
   ],
   "source": [
    "format short\n",
    "logerr = log(abs(err))"
   ]
  },
  {
   "cell_type": "markdown",
   "id": "20915707",
   "metadata": {},
   "source": [
    "The clear convergence to 2 above constitutes good evidence of quadratic convergence."
   ]
  }
 ],
 "metadata": {
  "kernelspec": {
   "display_name": "MATLAB Kernel",
   "language": "matlab",
   "name": "jupyter_matlab_kernel"
  },
  "language_info": {
   "file_extension": ".m",
   "mimetype": "text/x-matlab",
   "name": "matlab"
  },
  "numbering": {
   "headings": false
  }
 },
 "nbformat": 4,
 "nbformat_minor": 5
}
