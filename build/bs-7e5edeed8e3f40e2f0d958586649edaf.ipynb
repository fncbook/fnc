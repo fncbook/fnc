{
 "cells": [
  {
   "cell_type": "code",
   "execution_count": 1,
   "id": "7f1ff706",
   "metadata": {
    "tags": [
     "remove-cell"
    ]
   },
   "outputs": [],
   "source": [
    "exec(open(\"../../../python/FNC_init.py\").read())"
   ]
  },
  {
   "cell_type": "markdown",
   "id": "08ee2826",
   "metadata": {},
   "source": [
    "[**Demo %s**](#demo-boundaries-bs)"
   ]
  },
  {
   "cell_type": "code",
   "execution_count": 2,
   "id": "e1741c7a",
   "metadata": {},
   "outputs": [],
   "source": [
    "K = 3;  sigma = 0.06;  r = 0.08;  Smax = 8;\n",
    "phi = lambda t, x, u, ux, uxx: sigma**2/2 * (x**2 * uxx) + r*x*ux - r*u\n",
    "ga = lambda u, ux: u\n",
    "gb = lambda u, ux: ux - 1"
   ]
  },
  {
   "cell_type": "code",
   "execution_count": 3,
   "id": "7be62147",
   "metadata": {},
   "outputs": [],
   "source": [
    "u0 = lambda x: maximum(0, x - K)\n",
    "x, u = FNC.parabolic(phi, (0, Smax), 80, ga, gb, (0, 15), u0);"
   ]
  },
  {
   "cell_type": "code",
   "execution_count": 4,
   "id": "27f08207",
   "metadata": {
    "tags": [
     "hide-input"
    ]
   },
   "outputs": [],
   "source": [
    "from matplotlib.animation import FuncAnimation\n",
    "fig = figure()\n",
    "ax = fig.add_subplot(autoscale_on=False, xlim=(0, Smax), ylim=(-0.5, 8))\n",
    "line, = ax.plot([], [], '-')\n",
    "ax.set_title(\"Black–Scholes equation with boundaries\")\n",
    "time_text = ax.text(0.05, 0.9, '', transform=ax.transAxes)\n",
    "\n",
    "def snapshot(t):\n",
    "    line.set_data(x, u(t))\n",
    "    time_text.set_text(f\"t = {t:.2e}\")\n",
    "    return line, time_text\n",
    "\n",
    "anim = FuncAnimation(fig, snapshot, frames=linspace(0, 15, 151), blit=True)\n",
    "anim.save(\"boundaries-bs.mp4\", fps=30)\n",
    "close()"
   ]
  },
  {
   "cell_type": "markdown",
   "id": "002b51a1",
   "metadata": {},
   "source": [
    "Recall that $u$ is the value of the call option, and time runs backward from the strike time. The longer the horizon, the more value the option has due to anticipated growth in the stock price."
   ]
  }
 ],
 "metadata": {
  "kernelspec": {
   "display_name": "myst",
   "language": "python",
   "name": "python3"
  },
  "language_info": {
   "codemirror_mode": {
    "name": "ipython",
    "version": 3
   },
   "file_extension": ".py",
   "mimetype": "text/x-python",
   "name": "python",
   "nbconvert_exporter": "python",
   "pygments_lexer": "ipython3",
   "version": "3.13.0"
  },
  "numbering": {
   "headings": false
  }
 },
 "nbformat": 4,
 "nbformat_minor": 5
}
