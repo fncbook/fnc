{
 "cells": [
  {
   "cell_type": "code",
   "execution_count": 1,
   "id": "f17a03bc",
   "metadata": {
    "execution": {
     "iopub.execute_input": "2025-01-11T17:56:53.746222Z",
     "iopub.status.busy": "2025-01-11T17:56:53.745943Z",
     "iopub.status.idle": "2025-01-11T17:56:54.072070Z",
     "shell.execute_reply": "2025-01-11T17:56:54.071726Z"
    },
    "tags": [
     "remove-cell"
    ]
   },
   "outputs": [],
   "source": [
    "exec(open(\"../../../python/FNC_init.py\").read())"
   ]
  },
  {
   "cell_type": "markdown",
   "id": "c0018f5c",
   "metadata": {},
   "source": [
    "[**Demo %s**](#demo-condition-roots)\n",
    "\n",
    "\n",
    "The polynomial $p(x) = \\frac{1}{3}(x-1)(x-1-\\epsilon)$ has roots $1$ and $1+\\epsilon$. For small values of $\\epsilon$, the roots are ill-conditioned. \n",
    "\n",
    "```{tip}\n",
    ":class: dropdown\n",
    "The statement `x, y = 10, 20` makes individual assignments to both `x` and `y`.\n",
    "```"
   ]
  },
  {
   "cell_type": "code",
   "execution_count": 2,
   "id": "1df1fd06",
   "metadata": {
    "execution": {
     "iopub.execute_input": "2025-01-11T17:56:54.073558Z",
     "iopub.status.busy": "2025-01-11T17:56:54.073434Z",
     "iopub.status.idle": "2025-01-11T17:56:54.075298Z",
     "shell.execute_reply": "2025-01-11T17:56:54.075037Z"
    }
   },
   "outputs": [],
   "source": [
    "ep = 1e-6   \n",
    "a, b, c = 1/3, (-2 - ep) / 3, (1 + ep) / 3   # coefficients of p"
   ]
  },
  {
   "cell_type": "markdown",
   "id": "3d51a0ea",
   "metadata": {},
   "source": [
    "Here are the roots as computed by the quadratic formula."
   ]
  },
  {
   "cell_type": "code",
   "execution_count": 3,
   "id": "2cfd0d7c",
   "metadata": {
    "execution": {
     "iopub.execute_input": "2025-01-11T17:56:54.076532Z",
     "iopub.status.busy": "2025-01-11T17:56:54.076453Z",
     "iopub.status.idle": "2025-01-11T17:56:54.078388Z",
     "shell.execute_reply": "2025-01-11T17:56:54.078141Z"
    }
   },
   "outputs": [
    {
     "name": "stdout",
     "output_type": "stream",
     "text": [
      "0.9999999998251499 1.0000010001748503\n"
     ]
    }
   ],
   "source": [
    "d = sqrt(b**2 - 4*a*c)\n",
    "r1 = (-b - d) / (2*a)\n",
    "r2 = (-b + d) / (2*a)\n",
    "print(r1, r2)"
   ]
  },
  {
   "cell_type": "markdown",
   "id": "f6bffddd",
   "metadata": {},
   "source": [
    "The display of `r2` suggests that the last five digits or so are inaccurate. The relative error in the value is"
   ]
  },
  {
   "cell_type": "code",
   "execution_count": 4,
   "id": "841ca24e",
   "metadata": {
    "execution": {
     "iopub.execute_input": "2025-01-11T17:56:54.079570Z",
     "iopub.status.busy": "2025-01-11T17:56:54.079482Z",
     "iopub.status.idle": "2025-01-11T17:56:54.081154Z",
     "shell.execute_reply": "2025-01-11T17:56:54.080912Z"
    }
   },
   "outputs": [
    {
     "name": "stdout",
     "output_type": "stream",
     "text": [
      "1.7485013437124053e-10\n",
      "1.748501815656639e-10\n"
     ]
    }
   ],
   "source": [
    "print(abs(r1 - 1) / abs(1))\n",
    "print(abs(r2 - (1 + ep)) / abs(1 + ep))"
   ]
  },
  {
   "cell_type": "markdown",
   "id": "b299feb7",
   "metadata": {},
   "source": [
    "The condition number of each root is \n",
    "$$\n",
    "\\kappa(r_i) = \\frac{|r_i|}{|r_1-r_2|} \\approx \\frac{1}{\\epsilon}. \n",
    "$$\n",
    "Thus, relative error in the data at the level of roundoff can grow in the result to be roughly"
   ]
  },
  {
   "cell_type": "code",
   "execution_count": 5,
   "id": "f98c5b66",
   "metadata": {
    "execution": {
     "iopub.execute_input": "2025-01-11T17:56:54.082349Z",
     "iopub.status.busy": "2025-01-11T17:56:54.082266Z",
     "iopub.status.idle": "2025-01-11T17:56:54.084002Z",
     "shell.execute_reply": "2025-01-11T17:56:54.083749Z"
    }
   },
   "outputs": [
    {
     "name": "stdout",
     "output_type": "stream",
     "text": [
      "2.220446049250313e-10\n"
     ]
    }
   ],
   "source": [
    "print(finfo(float).eps / ep)"
   ]
  },
  {
   "cell_type": "markdown",
   "id": "715058a6",
   "metadata": {},
   "source": [
    "This matches the observation pretty well."
   ]
  }
 ],
 "metadata": {
  "kernelspec": {
   "display_name": "Python 3",
   "language": "python",
   "name": "python3"
  },
  "language_info": {
   "codemirror_mode": {
    "name": "ipython",
    "version": 3
   },
   "file_extension": ".py",
   "mimetype": "text/x-python",
   "name": "python",
   "nbconvert_exporter": "python",
   "pygments_lexer": "ipython3",
   "version": "3.13.0"
  },
  "numbering": {
   "headings": false
  }
 },
 "nbformat": 4,
 "nbformat_minor": 5
}
