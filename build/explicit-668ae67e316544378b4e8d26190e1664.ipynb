{
    "cells": [
        {
            "outputs": [],
            "cell_type": "code",
            "source": [
                "q = 8.375e-6;  s = 77.27;  w = 0.161;\n",
                "f = @(t, u, p) [ s*(u(2)- u(1) * u(2) + u(1) - q * u(1)^2);...\n",
                "    (-u(2) - u(1) * u(2) + u(3)) / s; ...\n",
                "    w*(u(1) - u(3)) ];\n",
                "\n",
                "ivp = ode(ODEFcn=f);\n",
                "ivp.InitialTime = 0;\n",
                "ivp.InitialValue = [1; 2; 3];"
            ],
            "id": "d1749d98",
            "metadata": {},
            "execution_count": 6
        },
        {
            "cell_type": "markdown",
            "source": [
                "[**Demo %s**](#demo-stiffness-explicit)\n",
                "\n",
                "The `ode15s` solver is good for stiff problems and needs few time steps to solve the Oregonator from {numref}`Demo {number} <demo-stiffness-oregon>`."
            ],
            "id": "58c9032a",
            "metadata": {}
        },
        {
            "outputs": [
                {
                    "output_type": "execute_result",
                    "data": {
                        "text/plain": [
                            "time_ode15s = 0.0628"
                        ],
                        "text/html": [
                            "<html><body><pre>time_ode15s = 0.0628</pre></body></html>"
                        ]
                    },
                    "metadata": {},
                    "execution_count": 7
                },
                {
                    "output_type": "execute_result",
                    "data": {
                        "text/plain": [
                            "num_steps_ode15s = 220"
                        ],
                        "text/html": [
                            "<html><body><pre>num_steps_ode15s = 220</pre></body></html>"
                        ]
                    },
                    "metadata": {},
                    "execution_count": 7
                }
            ],
            "cell_type": "code",
            "source": [
                "ivp.Solver = \"ode15s\";\n",
                "tic,  sol = solve(ivp, 0, 26); \n",
                "time_ode15s = toc\n",
                "num_steps_ode15s = length(sol.Time) - 1"
            ],
            "id": "6bc21eb2",
            "metadata": {},
            "execution_count": 7
        },
        {
            "cell_type": "markdown",
            "source": [
                "But if we apply {numref}`Function {number} <function-rk23>` to the problem, the step size will be made small enough to cope with the large negative eigenvalue."
            ],
            "id": "3c18f73d",
            "metadata": {}
        },
        {
            "outputs": [
                {
                    "output_type": "execute_result",
                    "data": {
                        "text/plain": [
                            "time_rk23 = 0.0780"
                        ],
                        "text/html": [
                            "<html><body><pre>time_rk23 = 0.0780</pre></body></html>"
                        ]
                    },
                    "metadata": {},
                    "execution_count": 8
                },
                {
                    "output_type": "execute_result",
                    "data": {
                        "text/plain": [
                            "num_steps_rk23 = 44445"
                        ],
                        "text/html": [
                            "<html><body><pre>num_steps_rk23 = 44445</pre></body></html>"
                        ]
                    },
                    "metadata": {},
                    "execution_count": 8
                }
            ],
            "cell_type": "code",
            "source": [
                "tic, [t, u] = rk23(ivp, 0, 26, 1e-5);\n",
                "time_rk23 = toc\n",
                "num_steps_rk23 = length(t) - 1"
            ],
            "id": "fba98d31",
            "metadata": {},
            "execution_count": 8
        },
        {
            "cell_type": "markdown",
            "source": [
                "Starting from the eigenvalues of the Jacobian matrix, we can find an effective $\\zeta(t)$ by multiplying with the local time step size. The values of $\\zeta(t)$ for each time level are plotted below and color coded by component of the diagonalized system."
            ],
            "id": "119013d2",
            "metadata": {}
        },
        {
            "outputs": [
                {
                    "output_type": "execute_result",
                    "data": {
                        "image/png": "[encoded data removed]"
                    },
                    "metadata": {},
                    "execution_count": 9
                }
            ],
            "cell_type": "code",
            "source": [
                "J = @(u) [ -s*(u(2)+1-2*q*u(1)), s*(1-u(1)), 0; ...\n",
                "    -u(2)/s, (-1-u(1))/s, 1/s; ...\n",
                "    w,0,-w];\n",
                "\n",
                "zeta = zeros(length(t) - 1, 3);\n",
                "for j = 1:length(t)-1\n",
                "    lambda = eig(J(u(:, j)));\n",
                "    zeta(j, :) = (t(j+1) - t(j)) * lambda;\n",
                "end\n",
                "plot(zeta, 'o')\n",
                "axis equal, grid on\n",
                "xlabel('Re \\zeta'),  ylabel('Im \\zeta')\n",
                "title(\"Oregonator stability\")"
            ],
            "id": "e540f52d",
            "metadata": {
                "tags": [
                    "hide-input"
                ]
            },
            "execution_count": 9
        },
        {
            "cell_type": "markdown",
            "source": [
                "Roughly speaking, the $\\zeta$ values stay within or close to the RK2 stability region in {numref}`figure-stabreg_bd_rk`. Momentary departures from the region are possible, but time stepping repeatedly in that situation would cause instability."
            ],
            "id": "d655cb16",
            "metadata": {}
        }
    ],
    "nbformat_minor": 5,
    "metadata": {
        "language_info": {
            "file_extension": ".m",
            "mimetype": "text/x-matlab",
            "name": "matlab"
        },
        "kernelspec": {
            "name": "jupyter_matlab_kernel",
            "display_name": "MATLAB Kernel",
            "language": "matlab"
        },
        "numbering": {
            "headings": false
        }
    },
    "nbformat": 4
}
