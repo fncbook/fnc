{
 "cells": [
  {
   "cell_type": "code",
   "execution_count": 1,
   "id": "2bb6f17d",
   "metadata": {
    "tags": [
     "remove-cell"
    ]
   },
   "outputs": [],
   "source": [
    "cd  /Users/driscoll/Documents/GitHub/fnc/matlab\n",
    "FNC_init"
   ]
  },
  {
   "cell_type": "markdown",
   "id": "e6fc7520",
   "metadata": {},
   "source": [
    "[**Demo %s**](#demo-pivoting-usage)\n",
    "\n",
    "The third output of `plufact` is the permutation vector we need to apply to $\\mathbf{A}$."
   ]
  },
  {
   "cell_type": "code",
   "execution_count": 2,
   "id": "9d72aad5",
   "metadata": {},
   "outputs": [
    {
     "data": {
      "text/html": [
       "<html><body><pre>ans = 4×4 double\n",
       "1.0e-15 *\n",
       "\n",
       "         0         0         0         0\n",
       "         0         0         0         0\n",
       "         0         0         0         0\n",
       "         0         0    0.4441         0\n",
       "</pre></body></html>"
      ],
      "text/plain": [
       "ans = 4×4 double\n",
       "1.0e-15 *\n",
       "\n",
       "         0         0         0         0\n",
       "         0         0         0         0\n",
       "         0         0         0         0\n",
       "         0         0    0.4441         0\n"
      ]
     },
     "execution_count": 2,
     "metadata": {},
     "output_type": "execute_result"
    }
   ],
   "source": [
    "A = randi(20, 4, 4);\n",
    "[L, U, p] = plufact(A);\n",
    "A(p, :) - L * U    % should be ≈ 0"
   ]
  },
  {
   "cell_type": "markdown",
   "id": "536bc8e2",
   "metadata": {},
   "source": [
    "Given a vector $\\mathbf{b}$, we solve $\\mathbf{A}\\mathbf{x}=\\mathbf{b}$ by first permuting the entries of $\\mathbf{b}$ and then proceeding as before."
   ]
  },
  {
   "cell_type": "code",
   "execution_count": 3,
   "id": "8d1c21b5",
   "metadata": {},
   "outputs": [
    {
     "data": {
      "text/html": [
       "<html><body><pre>x = 4×1 double\n",
       "   -0.3567\n",
       "    0.0548\n",
       "    0.2904\n",
       "    0.1998\n",
       "</pre></body></html>"
      ],
      "text/plain": [
       "x = 4×1 double\n",
       "   -0.3567\n",
       "    0.0548\n",
       "    0.2904\n",
       "    0.1998\n"
      ]
     },
     "execution_count": 3,
     "metadata": {},
     "output_type": "execute_result"
    }
   ],
   "source": [
    "b = rand(4, 1);\n",
    "z = forwardsub(L, b(p));\n",
    "x = backsub(U, z)"
   ]
  },
  {
   "cell_type": "markdown",
   "id": "c00285c6",
   "metadata": {},
   "source": [
    "A residual check is successful:"
   ]
  },
  {
   "cell_type": "code",
   "execution_count": 4,
   "id": "083f3582",
   "metadata": {},
   "outputs": [
    {
     "data": {
      "text/html": [
       "<html><body><pre>ans = 4×1 double\n",
       "1.0e-15 *\n",
       "\n",
       "   -0.3331\n",
       "    0.1110\n",
       "         0\n",
       "   -0.3331\n",
       "</pre></body></html>"
      ],
      "text/plain": [
       "ans = 4×1 double\n",
       "1.0e-15 *\n",
       "\n",
       "   -0.3331\n",
       "    0.1110\n",
       "         0\n",
       "   -0.3331\n"
      ]
     },
     "execution_count": 4,
     "metadata": {},
     "output_type": "execute_result"
    }
   ],
   "source": [
    "b - A*x"
   ]
  }
 ],
 "metadata": {
  "kernelspec": {
   "display_name": "MATLAB Kernel",
   "language": "matlab",
   "name": "jupyter_matlab_kernel"
  },
  "language_info": {
   "file_extension": ".m",
   "mimetype": "text/x-matlab",
   "name": "matlab"
  },
  "numbering": {
   "headings": false
  }
 },
 "nbformat": 4,
 "nbformat_minor": 5
}
