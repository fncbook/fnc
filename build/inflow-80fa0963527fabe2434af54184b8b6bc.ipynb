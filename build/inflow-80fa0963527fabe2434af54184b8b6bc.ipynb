{
    "cells": [
        {
            "cell_type": "markdown",
            "source": [
                "[**Demo %s**](#demo-absstab-inflow)\n",
                "\n",
                "Deleting the last row and column places all the eigenvalues of the discretization into the left half of the complex plane."
            ],
            "id": "e774cb7f",
            "metadata": {}
        },
        {
            "outputs": [],
            "cell_type": "code",
            "source": [
                "[x, Dx, Dxx] = diffcheb(40, [0, 1]);\n",
                "A = -Dx(2:end, 2:end);    % leave out first row and column\n",
                "lambda = eig(A);"
            ],
            "id": "895c7635",
            "metadata": {},
            "execution_count": null
        },
        {
            "outputs": [],
            "cell_type": "code",
            "source": [
                "clf\n",
                "scatter(real(lambda), imag(lambda))\n",
                "axis equal,  grid on \n",
                "title('Eigenvalues of advection with zero inflow')"
            ],
            "id": "1df734b2",
            "metadata": {
                "tags": [
                    "hide-input"
                ]
            },
            "execution_count": null
        },
        {
            "cell_type": "markdown",
            "source": [
                "Note that the rightmost eigenvalues have real part at most"
            ],
            "id": "29660a7d",
            "metadata": {}
        },
        {
            "outputs": [],
            "cell_type": "code",
            "source": [
                "max(real(lambda))"
            ],
            "id": "65ad88b2",
            "metadata": {},
            "execution_count": null
        },
        {
            "cell_type": "markdown",
            "source": [
                "Consequently all solutions decay exponentially to zero as $t\\to\\infty$. This matches our observation of the solution: eventually, everything flows out of the domain."
            ],
            "id": "89b3833f",
            "metadata": {}
        }
    ],
    "nbformat_minor": 5,
    "metadata": {
        "kernelspec": {
            "name": "jupyter_matlab_kernel",
            "display_name": "MATLAB",
            "language": "matlab"
        },
        "numbering": {
            "headings": false
        }
    },
    "nbformat": 4
}
