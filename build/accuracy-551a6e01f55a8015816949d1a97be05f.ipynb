{
    "cells": [
        {
            "cell_type": "markdown",
            "source": [
                "[**Demo %s**](#demo-float-accuracy)\n",
                "\n",
                "```{tip} Getting started with Python\n",
                ":class: dropdown\n",
                ":open:\n",
                "See @section-setup-python for guidance on how to set up Python for the demos in this book.\n",
                "```\n",
                "\n",
                "Recall the grade-school approximation to the number $\\pi$."
            ],
            "id": "d2235716",
            "metadata": {}
        },
        {
            "outputs": [
                {
                    "name": "stdout",
                    "output_type": "stream",
                    "text": [
                        "3.142857142857143\n"
                    ]
                }
            ],
            "cell_type": "code",
            "source": [
                "p = 22/7\n",
                "print(p)"
            ],
            "id": "3ee85808",
            "metadata": {
                "execution": {
                    "iopub.status.idle": "2025-01-14T20:16:33.991558Z",
                    "iopub.status.busy": "2025-01-14T20:16:33.985850Z",
                    "iopub.execute_input": "2025-01-14T20:16:33.986217Z",
                    "shell.execute_reply": "2025-01-14T20:16:33.990891Z"
                }
            },
            "execution_count": 2
        },
        {
            "cell_type": "markdown",
            "source": [
                "Not all the digits displayed for `p` are the same as those of $\\pi$. \n",
                "```{tip}\n",
                ":class: dropdown\n",
                "The value of `pi` is predefined in the `numpy` package.\n",
                "```"
            ],
            "id": "7aa187c6",
            "metadata": {}
        },
        {
            "outputs": [
                {
                    "name": "stdout",
                    "output_type": "stream",
                    "text": [
                        "3.141592653589793\n"
                    ]
                }
            ],
            "cell_type": "code",
            "source": [
                "print(pi)"
            ],
            "id": "c3868346",
            "metadata": {
                "execution": {
                    "iopub.status.idle": "2025-01-14T20:16:33.999847Z",
                    "iopub.status.busy": "2025-01-14T20:16:33.994229Z",
                    "iopub.execute_input": "2025-01-14T20:16:33.994501Z",
                    "shell.execute_reply": "2025-01-14T20:16:33.999092Z"
                }
            },
            "execution_count": 3
        },
        {
            "cell_type": "markdown",
            "source": [
                "The absolute and relative accuracies of the approximation are as follows:\n",
                "```{tip}\n",
                ":class: dropdown\n",
                "We often use [Python f-strings](https://docs.python.org/3/tutorial/inputoutput.html#tut-f-strings) to format numerical output. \n",
                "```"
            ],
            "id": "b371c06a",
            "metadata": {}
        },
        {
            "outputs": [
                {
                    "name": "stdout",
                    "output_type": "stream",
                    "text": [
                        "absolute accuracy: 0.0012644892673496777\n"
                    ]
                }
            ],
            "cell_type": "code",
            "source": [
                "print(f\"absolute accuracy: {abs(p - pi)}\")"
            ],
            "id": "3dd59d45",
            "metadata": {
                "execution": {
                    "iopub.status.idle": "2025-01-14T20:16:34.006933Z",
                    "iopub.status.busy": "2025-01-14T20:16:34.003057Z",
                    "iopub.execute_input": "2025-01-14T20:16:34.003346Z",
                    "shell.execute_reply": "2025-01-14T20:16:34.006312Z"
                }
            },
            "execution_count": 4
        },
        {
            "outputs": [
                {
                    "name": "stdout",
                    "output_type": "stream",
                    "text": [
                        "relative accuracy: {rel_acc:.4e}\n"
                    ]
                }
            ],
            "cell_type": "code",
            "source": [
                "rel_acc = abs(p - pi) / pi\n",
                "print(\"relative accuracy: {rel_acc:.4e}\")"
            ],
            "id": "4baa45ef",
            "metadata": {
                "execution": {
                    "iopub.status.idle": "2025-01-14T20:16:34.014137Z",
                    "iopub.status.busy": "2025-01-14T20:16:34.009615Z",
                    "iopub.execute_input": "2025-01-14T20:16:34.009776Z",
                    "shell.execute_reply": "2025-01-14T20:16:34.012247Z"
                }
            },
            "execution_count": 5
        },
        {
            "cell_type": "markdown",
            "source": [
                "Here we calculate the number of accurate digits in `p`:\n",
                "```{tip}\n",
                ":class: dropdown\n",
                "The `log` function is for the natural log. For other common bases, use `log10` or `log2`.\n",
                "```"
            ],
            "id": "12127f99",
            "metadata": {}
        },
        {
            "outputs": [
                {
                    "name": "stdout",
                    "output_type": "stream",
                    "text": [
                        "accurate digits: 3.4\n"
                    ]
                }
            ],
            "cell_type": "code",
            "source": [
                "print(f\"accurate digits: {-log10(rel_acc):.1f}\")"
            ],
            "id": "b1f47ac1",
            "metadata": {
                "execution": {
                    "iopub.status.idle": "2025-01-14T20:16:34.020831Z",
                    "iopub.status.busy": "2025-01-14T20:16:34.017715Z",
                    "iopub.execute_input": "2025-01-14T20:16:34.018185Z",
                    "shell.execute_reply": "2025-01-14T20:16:34.020350Z"
                }
            },
            "execution_count": 6
        }
    ],
    "nbformat_minor": 5,
    "metadata": {
        "language_info": {
            "file_extension": ".py",
            "mimetype": "text/x-python",
            "name": "python",
            "nbconvert_exporter": "python",
            "pygments_lexer": "ipython3",
            "codemirror_mode": {
                "name": "ipython",
                "version": 3
            },
            "version": "3.13.0"
        },
        "kernelspec": {
            "name": "python3",
            "display_name": "Python 3",
            "language": "python"
        },
        "numbering": {
            "headings": false
        }
    },
    "nbformat": 4
}
