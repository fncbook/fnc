{
 "cells": [
  {
   "cell_type": "code",
   "execution_count": 1,
   "id": "5a5b2678",
   "metadata": {
    "execution": {
     "iopub.execute_input": "2025-01-05T13:53:50.459000Z",
     "iopub.status.busy": "2025-01-05T13:53:50.166000Z",
     "iopub.status.idle": "2025-01-05T13:53:58.901000Z",
     "shell.execute_reply": "2025-01-05T13:53:58.857000Z"
    }
   },
   "outputs": [
    {
     "name": "stderr",
     "output_type": "stream",
     "text": [
      "\u001b[32m\u001b[1m  Activating\u001b[22m\u001b[39m "
     ]
    },
    {
     "name": "stderr",
     "output_type": "stream",
     "text": [
      "project at `~/Documents/GitHub/fnc`\n"
     ]
    }
   ],
   "source": [
    "include(\"../../../julia/FNC_init.jl\")"
   ]
  },
  {
   "cell_type": "markdown",
   "id": "da777e15",
   "metadata": {},
   "source": [
    "[**Demo %s**](#demo-structure-linalg)\n",
    "\n",
    "The following generates a random sparse matrix with prescribed eigenvalues."
   ]
  },
  {
   "cell_type": "code",
   "execution_count": 2,
   "id": "374c60c5",
   "metadata": {
    "execution": {
     "iopub.execute_input": "2025-01-05T13:53:59.033000Z",
     "iopub.status.busy": "2025-01-05T13:53:58.902000Z",
     "iopub.status.idle": "2025-01-05T13:53:59.869000Z",
     "shell.execute_reply": "2025-01-05T13:53:59.869000Z"
    }
   },
   "outputs": [],
   "source": [
    "using SparseArrays\n",
    "n = 4000\n",
    "density = 4e-4\n",
    "λ = @. 1 + 1 / (1:n)   # exact eigenvalues\n",
    "A = FNC.sprandsym(n, density, λ);"
   ]
  },
  {
   "cell_type": "markdown",
   "id": "a6d958d1",
   "metadata": {},
   "source": [
    "```{index} ! Julia; eigs\n",
    "```\n",
    "\n",
    "The `eigs` function from `Arpack` finds a small number eigenvalues meeting some criterion. First, we ask for the 5 of largest (complex) magnitude using `which=:LM`."
   ]
  },
  {
   "cell_type": "code",
   "execution_count": 3,
   "id": "130f1c67",
   "metadata": {
    "execution": {
     "iopub.execute_input": "2025-01-05T13:53:59.870000Z",
     "iopub.status.busy": "2025-01-05T13:53:59.870000Z",
     "iopub.status.idle": "2025-01-05T13:54:01.287000Z",
     "shell.execute_reply": "2025-01-05T13:54:01.287000Z"
    }
   },
   "outputs": [
    {
     "name": "stdout",
     "output_type": "stream",
     "text": [
      "┌──────────────────────┬──────────────────────┐\n",
      "│\u001b[1m                found \u001b[0m│\u001b[1m                exact \u001b[0m│\n",
      "├──────────────────────┼──────────────────────┤\n",
      "│    2.000000000000000 │    2.000000000000000 │\n",
      "│    1.500000000000002 │    1.500000000000000 │\n",
      "│    1.333333333333335 │    1.333333333333333 │\n",
      "│    1.250000000000002 │    1.250000000000000 │\n",
      "│    1.200000000000002 │    1.200000000000000 │\n",
      "└──────────────────────┴──────────────────────┘\n"
     ]
    }
   ],
   "source": [
    "using Arpack\n",
    "λmax, V = eigs(A, nev=5, which=:LM)    # Largest Magnitude\n",
    "fmt = ft_printf(\"%20.15f\")\n",
    "pretty_table([λmax λ[1:5]], header=[\"found\", \"exact\"], formatters=fmt)"
   ]
  },
  {
   "cell_type": "markdown",
   "id": "7596d811",
   "metadata": {},
   "source": [
    "Now we find the 5 closest to the value 1 in the complex plane, via `sigma=1`."
   ]
  },
  {
   "cell_type": "code",
   "execution_count": 4,
   "id": "b7f628fd",
   "metadata": {
    "execution": {
     "iopub.execute_input": "2025-01-05T13:54:01.288000Z",
     "iopub.status.busy": "2025-01-05T13:54:01.288000Z",
     "iopub.status.idle": "2025-01-05T13:54:01.742000Z",
     "shell.execute_reply": "2025-01-05T13:54:01.742000Z"
    }
   },
   "outputs": [
    {
     "name": "stdout",
     "output_type": "stream",
     "text": [
      "┌──────────────────────┬──────────────────────┐\n",
      "│\u001b[1m                found \u001b[0m│\u001b[1m                exact \u001b[0m│\n",
      "├──────────────────────┼──────────────────────┤\n",
      "│    1.000250000000000 │    1.000250000000000 │\n",
      "│    1.000250062515629 │    1.000250062515629 │\n",
      "│    1.000250125062531 │    1.000250125062531 │\n",
      "│    1.000250187640731 │    1.000250187640731 │\n",
      "│    1.000250250250250 │    1.000250250250250 │\n",
      "└──────────────────────┴──────────────────────┘\n"
     ]
    }
   ],
   "source": [
    "λ1, V = eigs(A, nev=5, sigma=1)    # closest to sigma\n",
    "data = [λ1 λ[end:-1:end-4]]\n",
    "pretty_table(data, header=[\"found\", \"exact\"], formatters=fmt)"
   ]
  },
  {
   "cell_type": "markdown",
   "id": "c378506b",
   "metadata": {},
   "source": [
    "```{index} Julia; \\\\\n",
    "```\n",
    "\n",
    "The time needed to solve a sparse linear system is not easy to predict unless you have some more information about the matrix. But it will typically be orders of magnitude faster than the dense version of the same problem."
   ]
  },
  {
   "cell_type": "code",
   "execution_count": 5,
   "id": "1437e463",
   "metadata": {
    "execution": {
     "iopub.execute_input": "2025-01-05T13:54:01.744000Z",
     "iopub.status.busy": "2025-01-05T13:54:01.744000Z",
     "iopub.status.idle": "2025-01-05T13:54:01.764000Z",
     "shell.execute_reply": "2025-01-05T13:54:01.764000Z"
    }
   },
   "outputs": [],
   "source": [
    "x = @. 1 / (1:n);\n",
    "b = A * x;"
   ]
  },
  {
   "cell_type": "code",
   "execution_count": 6,
   "id": "b76df629",
   "metadata": {
    "execution": {
     "iopub.execute_input": "2025-01-05T13:54:01.765000Z",
     "iopub.status.busy": "2025-01-05T13:54:01.765000Z",
     "iopub.status.idle": "2025-01-05T13:54:01.929000Z",
     "shell.execute_reply": "2025-01-05T13:54:01.929000Z"
    }
   },
   "outputs": [
    {
     "name": "stdout",
     "output_type": "stream",
     "text": [
      "Time for sparse solve: 0.000668625\n"
     ]
    }
   ],
   "source": [
    "norm(x - A \\ b);  # force compilation\n",
    "t = @elapsed sparse_err = norm(x - A \\ b)\n",
    "println(\"Time for sparse solve: $t\")"
   ]
  },
  {
   "cell_type": "code",
   "execution_count": 7,
   "id": "e0ec2c6b",
   "metadata": {
    "execution": {
     "iopub.execute_input": "2025-01-05T13:54:01.935000Z",
     "iopub.status.busy": "2025-01-05T13:54:01.934000Z",
     "iopub.status.idle": "2025-01-05T13:54:02.610000Z",
     "shell.execute_reply": "2025-01-05T13:54:02.610000Z"
    }
   },
   "outputs": [
    {
     "name": "stdout",
     "output_type": "stream",
     "text": [
      "Time for dense solve: 0.328220208\n"
     ]
    }
   ],
   "source": [
    "D = Matrix(A)  # convert to regular matrix\n",
    "norm(x - D \\ b);\n",
    "t = @elapsed dense_err = norm(x - D \\ b)\n",
    "println(\"Time for dense solve: $t\")"
   ]
  },
  {
   "cell_type": "code",
   "execution_count": 8,
   "id": "95c4fd53",
   "metadata": {
    "execution": {
     "iopub.execute_input": "2025-01-05T13:54:02.611000Z",
     "iopub.status.busy": "2025-01-05T13:54:02.611000Z",
     "iopub.status.idle": "2025-01-05T13:54:02.661000Z",
     "shell.execute_reply": "2025-01-05T13:54:02.661000Z"
    }
   },
   "outputs": [
    {
     "name": "stdout",
     "output_type": "stream",
     "text": [
      "sparse_err = 8.437600965970206e-17\n",
      "dense_err = 4.979663977679232e-18\n"
     ]
    }
   ],
   "source": [
    "@show sparse_err;\n",
    "@show dense_err;"
   ]
  }
 ],
 "metadata": {
  "kernelspec": {
   "display_name": "Julia 1",
   "language": "julia",
   "name": "julia-1.11"
  },
  "language_info": {
   "file_extension": ".jl",
   "mimetype": "application/julia",
   "name": "julia",
   "version": "1.11.2"
  },
  "numbering": {
   "headings": false
  }
 },
 "nbformat": 4,
 "nbformat_minor": 5
}
