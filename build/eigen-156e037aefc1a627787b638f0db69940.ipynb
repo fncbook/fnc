{
 "cells": [
  {
   "cell_type": "code",
   "execution_count": 1,
   "id": "b98316c2",
   "metadata": {
    "execution": {
     "iopub.execute_input": "2025-01-05T13:30:06.537000Z",
     "iopub.status.busy": "2025-01-05T13:30:06.258000Z",
     "iopub.status.idle": "2025-01-05T13:30:13.593000Z",
     "shell.execute_reply": "2025-01-05T13:30:13.538000Z"
    }
   },
   "outputs": [
    {
     "name": "stderr",
     "output_type": "stream",
     "text": [
      "\u001b[32m\u001b[1m  Activating\u001b[22m\u001b[39m "
     ]
    },
    {
     "name": "stderr",
     "output_type": "stream",
     "text": [
      "project at `~/Documents/GitHub/fnc`\n"
     ]
    }
   ],
   "source": [
    "include(\"../../../julia/FNC_init.jl\")"
   ]
  },
  {
   "cell_type": "markdown",
   "id": "1473b3d3",
   "metadata": {},
   "source": [
    "[**Demo %s**](#demo-evd-eigen)\n",
    "\n",
    "\n",
    "```{index} ! Julia; eigvals\n",
    "```\n",
    "\n",
    "The `eigvals` function returns a vector of the eigenvalues of a matrix."
   ]
  },
  {
   "cell_type": "code",
   "execution_count": 2,
   "id": "bb68d29f",
   "metadata": {
    "execution": {
     "iopub.execute_input": "2025-01-05T13:30:13.831000Z",
     "iopub.status.busy": "2025-01-05T13:30:13.594000Z",
     "iopub.status.idle": "2025-01-05T13:30:15.315000Z",
     "shell.execute_reply": "2025-01-05T13:30:15.315000Z"
    }
   },
   "outputs": [
    {
     "data": {
      "text/plain": [
       "2×2 Matrix{Float64}:\n",
       " 3.14159  3.14159\n",
       " 3.14159  3.14159"
      ]
     },
     "execution_count": 2,
     "metadata": {},
     "output_type": "execute_result"
    }
   ],
   "source": [
    "A = π * ones(2, 2)"
   ]
  },
  {
   "cell_type": "code",
   "execution_count": 3,
   "id": "4eabbb73",
   "metadata": {
    "execution": {
     "iopub.execute_input": "2025-01-05T13:30:15.317000Z",
     "iopub.status.busy": "2025-01-05T13:30:15.317000Z",
     "iopub.status.idle": "2025-01-05T13:30:15.530000Z",
     "shell.execute_reply": "2025-01-05T13:30:15.530000Z"
    }
   },
   "outputs": [
    {
     "data": {
      "text/plain": [
       "2-element Vector{Float64}:\n",
       " 0.0\n",
       " 6.283185307179586"
      ]
     },
     "execution_count": 3,
     "metadata": {},
     "output_type": "execute_result"
    }
   ],
   "source": [
    "λ = eigvals(A)"
   ]
  },
  {
   "cell_type": "markdown",
   "id": "b1f64487",
   "metadata": {},
   "source": [
    "```{index} ! Julia; eigen\n",
    "```\n",
    "\n",
    "If you want the eigenvectors as well, use `eigen`."
   ]
  },
  {
   "cell_type": "code",
   "execution_count": 4,
   "id": "96b4d280",
   "metadata": {
    "execution": {
     "iopub.execute_input": "2025-01-05T13:30:15.533000Z",
     "iopub.status.busy": "2025-01-05T13:30:15.533000Z",
     "iopub.status.idle": "2025-01-05T13:30:15.988000Z",
     "shell.execute_reply": "2025-01-05T13:30:15.988000Z"
    }
   },
   "outputs": [
    {
     "data": {
      "text/plain": [
       "Eigen{Float64, Float64, Matrix{Float64}, Vector{Float64}}\n",
       "values:\n",
       "2-element Vector{Float64}:\n",
       " 0.0\n",
       " 6.283185307179586\n",
       "vectors:\n",
       "2×2 Matrix{Float64}:\n",
       " -0.707107  0.707107\n",
       "  0.707107  0.707107"
      ]
     },
     "execution_count": 4,
     "metadata": {},
     "output_type": "execute_result"
    }
   ],
   "source": [
    "λ, V = eigen(A)"
   ]
  },
  {
   "cell_type": "code",
   "execution_count": 5,
   "id": "7a440126",
   "metadata": {
    "execution": {
     "iopub.execute_input": "2025-01-05T13:30:15.990000Z",
     "iopub.status.busy": "2025-01-05T13:30:15.990000Z",
     "iopub.status.idle": "2025-01-05T13:30:16.067000Z",
     "shell.execute_reply": "2025-01-05T13:30:16.067000Z"
    }
   },
   "outputs": [
    {
     "data": {
      "text/plain": [
       "0.0"
      ]
     },
     "execution_count": 5,
     "metadata": {},
     "output_type": "execute_result"
    }
   ],
   "source": [
    "norm(A * V[:, 2] - λ[2] * V[:, 2])"
   ]
  },
  {
   "cell_type": "markdown",
   "id": "da00eaef",
   "metadata": {},
   "source": [
    "```{index} ! Julia; sortby\n",
    "```\n",
    "\n",
    "Both functions allow you to sort the eigenvalues by specified criteria."
   ]
  },
  {
   "cell_type": "code",
   "execution_count": 6,
   "id": "533f21af",
   "metadata": {
    "execution": {
     "iopub.execute_input": "2025-01-05T13:30:16.068000Z",
     "iopub.status.busy": "2025-01-05T13:30:16.068000Z",
     "iopub.status.idle": "2025-01-05T13:30:17.058000Z",
     "shell.execute_reply": "2025-01-05T13:30:17.058000Z"
    }
   },
   "outputs": [
    {
     "name": "stdout",
     "output_type": "stream",
     "text": [
      "eigvals(A, sortby = real) = [-2.3, -1.3, -0.3, 0.7, 1.7]"
     ]
    },
    {
     "name": "stdout",
     "output_type": "stream",
     "text": [
      "\n",
      "eigvals(A, sortby = abs) = "
     ]
    },
    {
     "name": "stdout",
     "output_type": "stream",
     "text": [
      "[-0.3, 0.7, -1.3, 1.7, -2.3]\n"
     ]
    }
   ],
   "source": [
    "A = diagm(-2.3:1.7)\n",
    "@show eigvals(A, sortby=real);\n",
    "@show eigvals(A, sortby=abs);"
   ]
  },
  {
   "cell_type": "markdown",
   "id": "dabd616a",
   "metadata": {},
   "source": [
    "If the matrix is not diagonalizable, no message is given, but `V` will be singular. The robust way to detect that circumstance is via $\\kappa(\\mathbf{V})$.\n",
    "\n",
    "```{index} condition number; of a matrix\n",
    "```"
   ]
  },
  {
   "cell_type": "code",
   "execution_count": 7,
   "id": "397ce2f5",
   "metadata": {
    "execution": {
     "iopub.execute_input": "2025-01-05T13:30:17.059000Z",
     "iopub.status.busy": "2025-01-05T13:30:17.059000Z",
     "iopub.status.idle": "2025-01-05T13:30:17.407000Z",
     "shell.execute_reply": "2025-01-05T13:30:17.406000Z"
    }
   },
   "outputs": [
    {
     "data": {
      "text/plain": [
       "Eigen{Float64, Float64, Matrix{Float64}, Vector{Float64}}\n",
       "values:\n",
       "2-element Vector{Float64}:\n",
       " -1.0\n",
       " -1.0\n",
       "vectors:\n",
       "2×2 Matrix{Float64}:\n",
       " 1.0  -1.0\n",
       " 0.0   2.22045e-16"
      ]
     },
     "execution_count": 7,
     "metadata": {},
     "output_type": "execute_result"
    }
   ],
   "source": [
    "A = [-1 1; 0 -1]\n",
    "λ, V = eigen(A)"
   ]
  },
  {
   "cell_type": "code",
   "execution_count": 8,
   "id": "2f1cc44c",
   "metadata": {
    "execution": {
     "iopub.execute_input": "2025-01-05T13:30:17.408000Z",
     "iopub.status.busy": "2025-01-05T13:30:17.408000Z",
     "iopub.status.idle": "2025-01-05T13:30:17.417000Z",
     "shell.execute_reply": "2025-01-05T13:30:17.417000Z"
    }
   },
   "outputs": [
    {
     "data": {
      "text/plain": [
       "9.007199254740991e15"
      ]
     },
     "execution_count": 8,
     "metadata": {},
     "output_type": "execute_result"
    }
   ],
   "source": [
    "cond(V)"
   ]
  },
  {
   "cell_type": "markdown",
   "id": "7d7ab330",
   "metadata": {},
   "source": [
    "Even in the nondiagonalizable case, $\\mathbf{A}\\mathbf{V} = \\mathbf{V}\\mathbf{D}$ holds."
   ]
  },
  {
   "cell_type": "code",
   "execution_count": 9,
   "id": "69482049",
   "metadata": {
    "execution": {
     "iopub.execute_input": "2025-01-05T13:30:17.418000Z",
     "iopub.status.busy": "2025-01-05T13:30:17.418000Z",
     "iopub.status.idle": "2025-01-05T13:30:17.503000Z",
     "shell.execute_reply": "2025-01-05T13:30:17.503000Z"
    }
   },
   "outputs": [
    {
     "data": {
      "text/plain": [
       "2.220446049250313e-16"
      ]
     },
     "execution_count": 9,
     "metadata": {},
     "output_type": "execute_result"
    }
   ],
   "source": [
    "opnorm(A * V - V * diagm(λ))"
   ]
  }
 ],
 "metadata": {
  "kernelspec": {
   "display_name": "Julia 1",
   "language": "julia",
   "name": "julia-1.11"
  },
  "language_info": {
   "file_extension": ".jl",
   "mimetype": "application/julia",
   "name": "julia",
   "version": "1.11.2"
  },
  "numbering": {
   "headings": false
  }
 },
 "nbformat": 4,
 "nbformat_minor": 5
}
