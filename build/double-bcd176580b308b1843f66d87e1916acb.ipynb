{
 "cells": [
  {
   "cell_type": "markdown",
   "id": "6971ea8d",
   "metadata": {},
   "source": [
    "[**Demo %s**](#demo-float-double)\n",
    "\n",
    "In Julia, `1` and `1.0` are different values, because they have different types:"
   ]
  },
  {
   "cell_type": "code",
   "execution_count": 1,
   "id": "fc3a60c0",
   "metadata": {
    "execution": {
     "iopub.execute_input": "2025-01-14T16:35:21.630000Z",
     "iopub.status.busy": "2025-01-14T16:35:21.243000Z",
     "iopub.status.idle": "2025-01-14T16:35:22.001000Z",
     "shell.execute_reply": "2025-01-14T16:35:21.933000Z"
    }
   },
   "outputs": [
    {
     "name": "stdout",
     "output_type": "stream",
     "text": [
      "typeof(1) = Int64"
     ]
    },
    {
     "name": "stdout",
     "output_type": "stream",
     "text": [
      "\n",
      "typeof(1.0) = Float64\n"
     ]
    }
   ],
   "source": [
    "@show typeof(1);\n",
    "@show typeof(1.0);"
   ]
  },
  {
   "cell_type": "markdown",
   "id": "93e47c17",
   "metadata": {},
   "source": [
    "The standard choice for floating-point values is `Float64`, which is double precision using 64 binary bits. We can see all the bits by using `bitstring`."
   ]
  },
  {
   "cell_type": "code",
   "execution_count": 2,
   "id": "ebfde568",
   "metadata": {
    "execution": {
     "iopub.execute_input": "2025-01-14T16:35:22.003000Z",
     "iopub.status.busy": "2025-01-14T16:35:22.003000Z",
     "iopub.status.idle": "2025-01-14T16:35:22.551000Z",
     "shell.execute_reply": "2025-01-14T16:35:22.551000Z"
    }
   },
   "outputs": [
    {
     "data": {
      "text/plain": [
       "\"0011111111110000000000000000000000000000000000000000000000000000\""
      ]
     },
     "execution_count": 2,
     "metadata": {},
     "output_type": "execute_result"
    }
   ],
   "source": [
    "bitstring(1.0)"
   ]
  },
  {
   "cell_type": "markdown",
   "id": "972f2786",
   "metadata": {},
   "source": [
    "The first bit determines the sign of the number:\n",
    "\n",
    "```{tip}\n",
    ":class: dropdown\n",
    "Square brackets concatenate the contained values into vectors.\n",
    "```"
   ]
  },
  {
   "cell_type": "code",
   "execution_count": 3,
   "id": "ac129709",
   "metadata": {
    "execution": {
     "iopub.execute_input": "2025-01-14T16:35:22.553000Z",
     "iopub.status.busy": "2025-01-14T16:35:22.553000Z",
     "iopub.status.idle": "2025-01-14T16:35:23.148000Z",
     "shell.execute_reply": "2025-01-14T16:35:23.148000Z"
    }
   },
   "outputs": [
    {
     "data": {
      "text/plain": [
       "2-element Vector{String}:\n",
       " \"0011111111110000000000000000000000000000000000000000000000000000\"\n",
       " \"1011111111110000000000000000000000000000000000000000000000000000\""
      ]
     },
     "execution_count": 3,
     "metadata": {},
     "output_type": "execute_result"
    }
   ],
   "source": [
    "[bitstring(1.0), bitstring(-1.0)]"
   ]
  },
  {
   "cell_type": "markdown",
   "id": "5cdfa552",
   "metadata": {},
   "source": [
    "The next 11 bits determine the exponent (scaling) of the number, and so on."
   ]
  },
  {
   "cell_type": "code",
   "execution_count": 4,
   "id": "6e848f28",
   "metadata": {
    "execution": {
     "iopub.execute_input": "2025-01-14T16:35:23.150000Z",
     "iopub.status.busy": "2025-01-14T16:35:23.150000Z",
     "iopub.status.idle": "2025-01-14T16:35:23.151000Z",
     "shell.execute_reply": "2025-01-14T16:35:23.151000Z"
    }
   },
   "outputs": [
    {
     "data": {
      "text/plain": [
       "2-element Vector{String}:\n",
       " \"0011111111110000000000000000000000000000000000000000000000000000\"\n",
       " \"0100000000000000000000000000000000000000000000000000000000000000\""
      ]
     },
     "execution_count": 4,
     "metadata": {},
     "output_type": "execute_result"
    }
   ],
   "source": [
    "[bitstring(1.0), bitstring(2.0)]"
   ]
  },
  {
   "cell_type": "markdown",
   "id": "21059a4f",
   "metadata": {},
   "source": [
    "The sign bit, exponent, and significand in {eq}`floatpoint` are all directly accessible."
   ]
  },
  {
   "cell_type": "code",
   "execution_count": 5,
   "id": "fdf93a12",
   "metadata": {
    "execution": {
     "iopub.execute_input": "2025-01-14T16:35:23.152000Z",
     "iopub.status.busy": "2025-01-14T16:35:23.152000Z",
     "iopub.status.idle": "2025-01-14T16:35:23.183000Z",
     "shell.execute_reply": "2025-01-14T16:35:23.183000Z"
    }
   },
   "outputs": [
    {
     "name": "stdout",
     "output_type": "stream",
     "text": [
      "(sign(x), exponent(x), significand(x)) = (1.0, 1, 1.57)\n"
     ]
    }
   ],
   "source": [
    "x = 3.14\n",
    "@show sign(x), exponent(x), significand(x);"
   ]
  },
  {
   "cell_type": "code",
   "execution_count": 6,
   "id": "3d52121a",
   "metadata": {
    "execution": {
     "iopub.execute_input": "2025-01-14T16:35:23.185000Z",
     "iopub.status.busy": "2025-01-14T16:35:23.185000Z",
     "iopub.status.idle": "2025-01-14T16:35:23.187000Z",
     "shell.execute_reply": "2025-01-14T16:35:23.187000Z"
    }
   },
   "outputs": [
    {
     "name": "stdout",
     "output_type": "stream",
     "text": [
      "(sign(x), exponent(x), significand(x)) = (1.0, -2, 1.57)\n"
     ]
    }
   ],
   "source": [
    "x = x / 8\n",
    "@show sign(x), exponent(x), significand(x);"
   ]
  },
  {
   "cell_type": "markdown",
   "id": "594cdf9f",
   "metadata": {},
   "source": [
    "The spacing between floating-point values in $[2^n,2^{n+1})$ is $2^n \\epsilon_\\text{mach}$, where $\\epsilon_\\text{mach}$ is machine epsilon. You can get its value from the `eps` function in Julia. By default, it returns the value for double precision.\n",
    "\n",
    "```{tip}\n",
    ":class: dropdown\n",
    "To call a function, including `eps`, you must use parentheses notation, even when there are no input arguments.\n",
    "```"
   ]
  },
  {
   "cell_type": "code",
   "execution_count": 7,
   "id": "736aa026",
   "metadata": {
    "execution": {
     "iopub.execute_input": "2025-01-14T16:35:23.189000Z",
     "iopub.status.busy": "2025-01-14T16:35:23.188000Z",
     "iopub.status.idle": "2025-01-14T16:35:23.266000Z",
     "shell.execute_reply": "2025-01-14T16:35:23.265000Z"
    }
   },
   "outputs": [
    {
     "data": {
      "text/plain": [
       "2.220446049250313e-16"
      ]
     },
     "execution_count": 7,
     "metadata": {},
     "output_type": "execute_result"
    }
   ],
   "source": [
    "eps()"
   ]
  },
  {
   "cell_type": "markdown",
   "id": "7a532672",
   "metadata": {},
   "source": [
    "Because double precision allocates 52 bits to the significand, the default value of machine epsilon is $2^{-52}$."
   ]
  },
  {
   "cell_type": "code",
   "execution_count": 8,
   "id": "d0c6df12",
   "metadata": {
    "execution": {
     "iopub.execute_input": "2025-01-14T16:35:23.267000Z",
     "iopub.status.busy": "2025-01-14T16:35:23.267000Z",
     "iopub.status.idle": "2025-01-14T16:35:23.268000Z",
     "shell.execute_reply": "2025-01-14T16:35:23.268000Z"
    }
   },
   "outputs": [
    {
     "data": {
      "text/plain": [
       "-52.0"
      ]
     },
     "execution_count": 8,
     "metadata": {},
     "output_type": "execute_result"
    }
   ],
   "source": [
    "log2(eps())"
   ]
  },
  {
   "cell_type": "markdown",
   "id": "61aa9695",
   "metadata": {},
   "source": [
    "The spacing between adjacent floating-point values is proportional to the magnitude of the value itself. This is how relative precision is kept roughly constant throughout the range of values. You can get the adjusted spacing by calling `eps` with a value."
   ]
  },
  {
   "cell_type": "code",
   "execution_count": 9,
   "id": "d66ad091",
   "metadata": {
    "execution": {
     "iopub.execute_input": "2025-01-14T16:35:23.269000Z",
     "iopub.status.busy": "2025-01-14T16:35:23.269000Z",
     "iopub.status.idle": "2025-01-14T16:35:23.272000Z",
     "shell.execute_reply": "2025-01-14T16:35:23.271000Z"
    }
   },
   "outputs": [
    {
     "data": {
      "text/plain": [
       "2.220446049250313e-16"
      ]
     },
     "execution_count": 9,
     "metadata": {},
     "output_type": "execute_result"
    }
   ],
   "source": [
    "eps(1.618)"
   ]
  },
  {
   "cell_type": "code",
   "execution_count": 10,
   "id": "bf22fc6c",
   "metadata": {
    "execution": {
     "iopub.execute_input": "2025-01-14T16:35:23.273000Z",
     "iopub.status.busy": "2025-01-14T16:35:23.273000Z",
     "iopub.status.idle": "2025-01-14T16:35:23.273000Z",
     "shell.execute_reply": "2025-01-14T16:35:23.273000Z"
    }
   },
   "outputs": [
    {
     "data": {
      "text/plain": [
       "2.842170943040401e-14"
      ]
     },
     "execution_count": 10,
     "metadata": {},
     "output_type": "execute_result"
    }
   ],
   "source": [
    "eps(161.8)"
   ]
  },
  {
   "cell_type": "code",
   "execution_count": 11,
   "id": "d556c4ab",
   "metadata": {
    "execution": {
     "iopub.execute_input": "2025-01-14T16:35:23.274000Z",
     "iopub.status.busy": "2025-01-14T16:35:23.274000Z",
     "iopub.status.idle": "2025-01-14T16:35:23.275000Z",
     "shell.execute_reply": "2025-01-14T16:35:23.275000Z"
    }
   },
   "outputs": [
    {
     "data": {
      "text/plain": [
       "161.80000000000004"
      ]
     },
     "execution_count": 11,
     "metadata": {},
     "output_type": "execute_result"
    }
   ],
   "source": [
    "nextfloat(161.8)"
   ]
  },
  {
   "cell_type": "code",
   "execution_count": 12,
   "id": "5da4f47e",
   "metadata": {
    "execution": {
     "iopub.execute_input": "2025-01-14T16:35:23.276000Z",
     "iopub.status.busy": "2025-01-14T16:35:23.276000Z",
     "iopub.status.idle": "2025-01-14T16:35:23.276000Z",
     "shell.execute_reply": "2025-01-14T16:35:23.276000Z"
    }
   },
   "outputs": [
    {
     "data": {
      "text/plain": [
       "2.842170943040401e-14"
      ]
     },
     "execution_count": 12,
     "metadata": {},
     "output_type": "execute_result"
    }
   ],
   "source": [
    "ans - 161.8"
   ]
  },
  {
   "cell_type": "markdown",
   "id": "b82afa34",
   "metadata": {},
   "source": [
    "A common mistake is to think that $\\epsilon_\\text{mach}$ is the smallest floating-point number. It's only the smallest *relative to 1*. The correct perspective is that the scaling of values is limited by the exponent, not the mantissa. The actual range of positive values in double precision is"
   ]
  },
  {
   "cell_type": "code",
   "execution_count": 13,
   "id": "c9a36276",
   "metadata": {
    "execution": {
     "iopub.execute_input": "2025-01-14T16:35:23.278000Z",
     "iopub.status.busy": "2025-01-14T16:35:23.278000Z",
     "iopub.status.idle": "2025-01-14T16:35:23.299000Z",
     "shell.execute_reply": "2025-01-14T16:35:23.298000Z"
    }
   },
   "outputs": [
    {
     "name": "stdout",
     "output_type": "stream",
     "text": [
      "(floatmin(), floatmax()) = (2.2250738585072014e-308, 1.7976931348623157e308)\n"
     ]
    }
   ],
   "source": [
    "@show floatmin(), floatmax();"
   ]
  },
  {
   "cell_type": "markdown",
   "id": "5fcfb63b",
   "metadata": {},
   "source": [
    "For the most part you can mix integers and floating-point values and get what you expect."
   ]
  },
  {
   "cell_type": "code",
   "execution_count": 14,
   "id": "a7e173f9",
   "metadata": {
    "execution": {
     "iopub.execute_input": "2025-01-14T16:35:23.300000Z",
     "iopub.status.busy": "2025-01-14T16:35:23.300000Z",
     "iopub.status.idle": "2025-01-14T16:35:23.301000Z",
     "shell.execute_reply": "2025-01-14T16:35:23.301000Z"
    }
   },
   "outputs": [
    {
     "data": {
      "text/plain": [
       "0.14285714285714285"
      ]
     },
     "execution_count": 14,
     "metadata": {},
     "output_type": "execute_result"
    }
   ],
   "source": [
    "1/7"
   ]
  },
  {
   "cell_type": "code",
   "execution_count": 15,
   "id": "eb1dc435",
   "metadata": {
    "execution": {
     "iopub.execute_input": "2025-01-14T16:35:23.302000Z",
     "iopub.status.busy": "2025-01-14T16:35:23.302000Z",
     "iopub.status.idle": "2025-01-14T16:35:23.303000Z",
     "shell.execute_reply": "2025-01-14T16:35:23.302000Z"
    }
   },
   "outputs": [
    {
     "data": {
      "text/plain": [
       "38.3"
      ]
     },
     "execution_count": 15,
     "metadata": {},
     "output_type": "execute_result"
    }
   ],
   "source": [
    "37.3 + 1"
   ]
  },
  {
   "cell_type": "code",
   "execution_count": 16,
   "id": "74041ebf",
   "metadata": {
    "execution": {
     "iopub.execute_input": "2025-01-14T16:35:23.304000Z",
     "iopub.status.busy": "2025-01-14T16:35:23.304000Z",
     "iopub.status.idle": "2025-01-14T16:35:23.307000Z",
     "shell.execute_reply": "2025-01-14T16:35:23.307000Z"
    }
   },
   "outputs": [
    {
     "data": {
      "text/plain": [
       "0.0625"
      ]
     },
     "execution_count": 16,
     "metadata": {},
     "output_type": "execute_result"
    }
   ],
   "source": [
    "2^(-4)"
   ]
  },
  {
   "cell_type": "markdown",
   "id": "3afbd7bd",
   "metadata": {},
   "source": [
    "There are some exceptions. A floating-point value can't be used as an index into an array, for example, even if it is numerically equal to an integer. In such cases you use `Int` to convert it."
   ]
  },
  {
   "cell_type": "code",
   "execution_count": 17,
   "id": "bad46ced",
   "metadata": {
    "execution": {
     "iopub.execute_input": "2025-01-14T16:35:23.308000Z",
     "iopub.status.busy": "2025-01-14T16:35:23.308000Z",
     "iopub.status.idle": "2025-01-14T16:35:23.335000Z",
     "shell.execute_reply": "2025-01-14T16:35:23.335000Z"
    }
   },
   "outputs": [
    {
     "name": "stdout",
     "output_type": "stream",
     "text": [
      "(5.0, Int(5.0)) = (5.0, 5)\n"
     ]
    }
   ],
   "source": [
    "@show 5.0, Int(5.0);"
   ]
  },
  {
   "cell_type": "markdown",
   "id": "0693e91d",
   "metadata": {},
   "source": [
    "If you try to convert a noninteger floating-point value into an integer you get an `InexactValue` error. This occurs whenever you try to force a type conversion that doesn't make clear sense."
   ]
  }
 ],
 "metadata": {
  "kernelspec": {
   "display_name": "Julia 1",
   "language": "julia",
   "name": "julia-1.11"
  },
  "language_info": {
   "file_extension": ".jl",
   "mimetype": "application/julia",
   "name": "julia",
   "version": "1.11.2"
  },
  "numbering": {
   "headings": false
  }
 },
 "nbformat": 4,
 "nbformat_minor": 5
}
