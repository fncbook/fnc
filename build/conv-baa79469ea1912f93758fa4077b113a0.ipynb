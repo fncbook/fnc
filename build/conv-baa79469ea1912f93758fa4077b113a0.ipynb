{
 "cells": [
  {
   "cell_type": "code",
   "execution_count": 1,
   "id": "ccf41c4f",
   "metadata": {
    "execution": {
     "iopub.execute_input": "2025-01-05T13:47:30.122000Z",
     "iopub.status.busy": "2025-01-05T13:47:29.830000Z",
     "iopub.status.idle": "2025-01-05T13:47:36.077000Z",
     "shell.execute_reply": "2025-01-05T13:47:36.033000Z"
    }
   },
   "outputs": [
    {
     "name": "stderr",
     "output_type": "stream",
     "text": [
      "\u001b[32m\u001b[1m  Activating\u001b[22m\u001b[39m "
     ]
    },
    {
     "name": "stderr",
     "output_type": "stream",
     "text": [
      "project at `~/Documents/GitHub/fnc`\n"
     ]
    }
   ],
   "source": [
    "include(\"../../../julia/FNC_init.jl\")"
   ]
  },
  {
   "cell_type": "markdown",
   "id": "83d7f3b0",
   "metadata": {},
   "source": [
    "[**Demo %s**](#demo-inviter-conv)\n",
    "\n",
    "We set up a $5\\times 5$ triangular matrix with prescribed eigenvalues on its diagonal."
   ]
  },
  {
   "cell_type": "code",
   "execution_count": 2,
   "id": "3801cd03",
   "metadata": {
    "execution": {
     "iopub.execute_input": "2025-01-05T13:47:36.247000Z",
     "iopub.status.busy": "2025-01-05T13:47:36.078000Z",
     "iopub.status.idle": "2025-01-05T13:47:37.314000Z",
     "shell.execute_reply": "2025-01-05T13:47:37.313000Z"
    }
   },
   "outputs": [
    {
     "data": {
      "text/plain": [
       "5×5 Matrix{Float64}:\n",
       " 1.0   1.0   1.0   1.0  1.0\n",
       " 0.0  -0.75  1.0   1.0  1.0\n",
       " 0.0   0.0   0.6   1.0  1.0\n",
       " 0.0   0.0   0.0  -0.4  1.0\n",
       " 0.0   0.0   0.0   0.0  0.0"
      ]
     },
     "execution_count": 2,
     "metadata": {},
     "output_type": "execute_result"
    }
   ],
   "source": [
    "λ = [1, -0.75, 0.6, -0.4, 0]\n",
    "# Make a triangular matrix with eigenvalues on the diagonal.\n",
    "A = triu(ones(5, 5), 1) + diagm(λ)"
   ]
  },
  {
   "cell_type": "markdown",
   "id": "4891093f",
   "metadata": {},
   "source": [
    "We run inverse iteration with the shift $s=0.7$ and take the final estimate as our \"exact\" answer to observe the convergence."
   ]
  },
  {
   "cell_type": "code",
   "execution_count": 3,
   "id": "0303c385",
   "metadata": {
    "execution": {
     "iopub.execute_input": "2025-01-05T13:47:37.315000Z",
     "iopub.status.busy": "2025-01-05T13:47:37.315000Z",
     "iopub.status.idle": "2025-01-05T13:47:37.449000Z",
     "shell.execute_reply": "2025-01-05T13:47:37.449000Z"
    }
   },
   "outputs": [
    {
     "data": {
      "text/plain": [
       "0.5999999999999992"
      ]
     },
     "execution_count": 3,
     "metadata": {},
     "output_type": "execute_result"
    }
   ],
   "source": [
    "s = 0.7\n",
    "β, x = FNC.inviter(A, s, 30)\n",
    "eigval = β[end]"
   ]
  },
  {
   "cell_type": "markdown",
   "id": "3a3521d3",
   "metadata": {},
   "source": [
    "As expected, the eigenvalue that was found is the one closest to 0.7. The convergence is again linear."
   ]
  },
  {
   "cell_type": "code",
   "execution_count": 4,
   "id": "ada63759",
   "metadata": {
    "execution": {
     "iopub.execute_input": "2025-01-05T13:47:37.455000Z",
     "iopub.status.busy": "2025-01-05T13:47:37.455000Z",
     "iopub.status.idle": "2025-01-05T13:47:41.374000Z",
     "shell.execute_reply": "2025-01-05T13:47:41.374000Z"
    }
   },
   "outputs": [
    {
     "data": {
      "image/png": "[encoded data removed]",
      "image/svg+xml": [
       "<?xml version=\"1.0\" encoding=\"utf-8\"?>\n",
       "<svg xmlns=\"http://www.w3.org/2000/svg\" xmlns:xlink=\"http://www.w3.org/1999/xlink\" width=\"500\" height=\"320\" viewBox=\"0 0 2000 1280\">\n",
       "<defs>\n",
       "  <clipPath id=\"clip190\">\n",
       "    <rect x=\"0\" y=\"0\" width=\"2000\" height=\"1280\"/>\n",
       "  </clipPath>\n",
       "</defs>\n",
       "<path clip-path=\"url(#clip190)\" d=\"M0 1280 L2000 1280 L2000 0 L0 0  Z\" fill=\"#ffffff\" fill-rule=\"evenodd\" fill-opacity=\"1\"/>\n",
       "<defs>\n",
       "  <clipPath id=\"clip191\">\n",
       "    <rect x=\"400\" y=\"0\" width=\"1401\" height=\"1280\"/>\n",
       "  </clipPath>\n",
       "</defs>\n",
       "<path clip-path=\"url(#clip190)\" d=\"M269.619 1111.02 L1952.76 1111.02 L1952.76 107.256 L269.619 107.256  Z\" fill=\"#ffffff\" fill-rule=\"evenodd\" fill-opacity=\"1\"/>\n",
       "<defs>\n",
       "  <clipPath id=\"clip192\">\n",
       "    <rect x=\"269\" y=\"107\" width=\"1684\" height=\"1005\"/>\n",
       "  </clipPath>\n",
       "</defs>\n",
       "<polyline clip-path=\"url(#clip192)\" style=\"stroke:#000000; stroke-linecap:round; stroke-linejoin:round; stroke-width:2; stroke-opacity:0.1; fill:none\" points=\"317.255,1111.02 317.255,107.256 \"/>\n",
       "<polyline clip-path=\"url(#clip192)\" style=\"stroke:#000000; stroke-linecap:round; stroke-linejoin:round; stroke-width:2; stroke-opacity:0.1; fill:none\" points=\"600.802,1111.02 600.802,107.256 \"/>\n",
       "<polyline clip-path=\"url(#clip192)\" style=\"stroke:#000000; stroke-linecap:round; stroke-linejoin:round; stroke-width:2; stroke-opacity:0.1; fill:none\" points=\"884.35,1111.02 884.35,107.256 \"/>\n",
       "<polyline clip-path=\"url(#clip192)\" style=\"stroke:#000000; stroke-linecap:round; stroke-linejoin:round; stroke-width:2; stroke-opacity:0.1; fill:none\" points=\"1167.9,1111.02 1167.9,107.256 \"/>\n",
       "<polyline clip-path=\"url(#clip192)\" style=\"stroke:#000000; stroke-linecap:round; stroke-linejoin:round; stroke-width:2; stroke-opacity:0.1; fill:none\" points=\"1451.44,1111.02 1451.44,107.256 \"/>\n",
       "<polyline clip-path=\"url(#clip192)\" style=\"stroke:#000000; stroke-linecap:round; stroke-linejoin:round; stroke-width:2; stroke-opacity:0.1; fill:none\" points=\"1734.99,1111.02 1734.99,107.256 \"/>\n",
       "<polyline clip-path=\"url(#clip192)\" style=\"stroke:#000000; stroke-linecap:round; stroke-linejoin:round; stroke-width:2; stroke-opacity:0.1; fill:none\" points=\"269.619,734.608 1952.76,734.608 \"/>\n",
       "<polyline clip-path=\"url(#clip192)\" style=\"stroke:#000000; stroke-linecap:round; stroke-linejoin:round; stroke-width:2; stroke-opacity:0.1; fill:none\" points=\"269.619,107.256 1952.76,107.256 \"/>\n",
       "<polyline clip-path=\"url(#clip190)\" style=\"stroke:#000000; stroke-linecap:round; stroke-linejoin:round; stroke-width:4; stroke-opacity:1; fill:none\" points=\"269.619,1111.02 1952.76,1111.02 \"/>\n",
       "<polyline clip-path=\"url(#clip190)\" style=\"stroke:#000000; stroke-linecap:round; stroke-linejoin:round; stroke-width:4; stroke-opacity:1; fill:none\" points=\"317.255,1111.02 317.255,1092.12 \"/>\n",
       "<polyline clip-path=\"url(#clip190)\" style=\"stroke:#000000; stroke-linecap:round; stroke-linejoin:round; stroke-width:4; stroke-opacity:1; fill:none\" points=\"600.802,1111.02 600.802,1092.12 \"/>\n",
       "<polyline clip-path=\"url(#clip190)\" style=\"stroke:#000000; stroke-linecap:round; stroke-linejoin:round; stroke-width:4; stroke-opacity:1; fill:none\" points=\"884.35,1111.02 884.35,1092.12 \"/>\n",
       "<polyline clip-path=\"url(#clip190)\" style=\"stroke:#000000; stroke-linecap:round; stroke-linejoin:round; stroke-width:4; stroke-opacity:1; fill:none\" points=\"1167.9,1111.02 1167.9,1092.12 \"/>\n",
       "<polyline clip-path=\"url(#clip190)\" style=\"stroke:#000000; stroke-linecap:round; stroke-linejoin:round; stroke-width:4; stroke-opacity:1; fill:none\" points=\"1451.44,1111.02 1451.44,1092.12 \"/>\n",
       "<polyline clip-path=\"url(#clip190)\" style=\"stroke:#000000; stroke-linecap:round; stroke-linejoin:round; stroke-width:4; stroke-opacity:1; fill:none\" points=\"1734.99,1111.02 1734.99,1092.12 \"/>\n",
       "<path clip-path=\"url(#clip190)\" d=\"M317.255 1138.74 Q313.644 1138.74 311.815 1142.3 Q310.01 1145.84 310.01 1152.97 Q310.01 1160.08 311.815 1163.64 Q313.644 1167.19 317.255 1167.19 Q320.889 1167.19 322.695 1163.64 Q324.524 1160.08 324.524 1152.97 Q324.524 1145.84 322.695 1142.3 Q320.889 1138.74 317.255 1138.74 M317.255 1135.03 Q323.065 1135.03 326.121 1139.64 Q329.2 1144.22 329.2 1152.97 Q329.2 1161.7 326.121 1166.31 Q323.065 1170.89 317.255 1170.89 Q311.445 1170.89 308.366 1166.31 Q305.311 1161.7 305.311 1152.97 Q305.311 1144.22 308.366 1139.64 Q311.445 1135.03 317.255 1135.03 Z\" fill=\"#000000\" fill-rule=\"nonzero\" fill-opacity=\"1\" /><path clip-path=\"url(#clip190)\" d=\"M591.08 1135.66 L609.437 1135.66 L609.437 1139.59 L595.363 1139.59 L595.363 1148.07 Q596.381 1147.72 597.4 1147.56 Q598.418 1147.37 599.437 1147.37 Q605.224 1147.37 608.603 1150.54 Q611.983 1153.71 611.983 1159.13 Q611.983 1164.71 608.511 1167.81 Q605.039 1170.89 598.719 1170.89 Q596.543 1170.89 594.275 1170.52 Q592.029 1170.15 589.622 1169.41 L589.622 1164.71 Q591.705 1165.84 593.928 1166.4 Q596.15 1166.95 598.627 1166.95 Q602.631 1166.95 604.969 1164.85 Q607.307 1162.74 607.307 1159.13 Q607.307 1155.52 604.969 1153.41 Q602.631 1151.31 598.627 1151.31 Q596.752 1151.31 594.877 1151.72 Q593.025 1152.14 591.08 1153.02 L591.08 1135.66 Z\" fill=\"#000000\" fill-rule=\"nonzero\" fill-opacity=\"1\" /><path clip-path=\"url(#clip190)\" d=\"M859.037 1166.28 L866.676 1166.28 L866.676 1139.92 L858.366 1141.58 L858.366 1137.33 L866.63 1135.66 L871.306 1135.66 L871.306 1166.28 L878.945 1166.28 L878.945 1170.22 L859.037 1170.22 L859.037 1166.28 Z\" fill=\"#000000\" fill-rule=\"nonzero\" fill-opacity=\"1\" /><path clip-path=\"url(#clip190)\" d=\"M898.389 1138.74 Q894.778 1138.74 892.949 1142.3 Q891.144 1145.84 891.144 1152.97 Q891.144 1160.08 892.949 1163.64 Q894.778 1167.19 898.389 1167.19 Q902.023 1167.19 903.829 1163.64 Q905.658 1160.08 905.658 1152.97 Q905.658 1145.84 903.829 1142.3 Q902.023 1138.74 898.389 1138.74 M898.389 1135.03 Q904.199 1135.03 907.255 1139.64 Q910.333 1144.22 910.333 1152.97 Q910.333 1161.7 907.255 1166.31 Q904.199 1170.89 898.389 1170.89 Q892.579 1170.89 889.5 1166.31 Q886.445 1161.7 886.445 1152.97 Q886.445 1144.22 889.5 1139.64 Q892.579 1135.03 898.389 1135.03 Z\" fill=\"#000000\" fill-rule=\"nonzero\" fill-opacity=\"1\" /><path clip-path=\"url(#clip190)\" d=\"M1143.08 1166.28 L1150.72 1166.28 L1150.72 1139.92 L1142.41 1141.58 L1142.41 1137.33 L1150.67 1135.66 L1155.35 1135.66 L1155.35 1166.28 L1162.99 1166.28 L1162.99 1170.22 L1143.08 1170.22 L1143.08 1166.28 Z\" fill=\"#000000\" fill-rule=\"nonzero\" fill-opacity=\"1\" /><path clip-path=\"url(#clip190)\" d=\"M1172.48 1135.66 L1190.84 1135.66 L1190.84 1139.59 L1176.76 1139.59 L1176.76 1148.07 Q1177.78 1147.72 1178.8 1147.56 Q1179.82 1147.37 1180.84 1147.37 Q1186.62 1147.37 1190 1150.54 Q1193.38 1153.71 1193.38 1159.13 Q1193.38 1164.71 1189.91 1167.81 Q1186.44 1170.89 1180.12 1170.89 Q1177.94 1170.89 1175.67 1170.52 Q1173.43 1170.15 1171.02 1169.41 L1171.02 1164.71 Q1173.11 1165.84 1175.33 1166.4 Q1177.55 1166.95 1180.03 1166.95 Q1184.03 1166.95 1186.37 1164.85 Q1188.71 1162.74 1188.71 1159.13 Q1188.71 1155.52 1186.37 1153.41 Q1184.03 1151.31 1180.03 1151.31 Q1178.15 1151.31 1176.28 1151.72 Q1174.42 1152.14 1172.48 1153.02 L1172.48 1135.66 Z\" fill=\"#000000\" fill-rule=\"nonzero\" fill-opacity=\"1\" /><path clip-path=\"url(#clip190)\" d=\"M1430.22 1166.28 L1446.54 1166.28 L1446.54 1170.22 L1424.59 1170.22 L1424.59 1166.28 Q1427.25 1163.53 1431.84 1158.9 Q1436.44 1154.25 1437.62 1152.9 Q1439.87 1150.38 1440.75 1148.64 Q1441.65 1146.89 1441.65 1145.2 Q1441.65 1142.44 1439.71 1140.7 Q1437.79 1138.97 1434.69 1138.97 Q1432.49 1138.97 1430.03 1139.73 Q1427.6 1140.5 1424.82 1142.05 L1424.82 1137.33 Q1427.65 1136.19 1430.1 1135.61 Q1432.56 1135.03 1434.59 1135.03 Q1439.96 1135.03 1443.16 1137.72 Q1446.35 1140.4 1446.35 1144.89 Q1446.35 1147.02 1445.54 1148.95 Q1444.75 1150.84 1442.65 1153.44 Q1442.07 1154.11 1438.97 1157.33 Q1435.87 1160.52 1430.22 1166.28 Z\" fill=\"#000000\" fill-rule=\"nonzero\" fill-opacity=\"1\" /><path clip-path=\"url(#clip190)\" d=\"M1466.35 1138.74 Q1462.74 1138.74 1460.91 1142.3 Q1459.11 1145.84 1459.11 1152.97 Q1459.11 1160.08 1460.91 1163.64 Q1462.74 1167.19 1466.35 1167.19 Q1469.99 1167.19 1471.79 1163.64 Q1473.62 1160.08 1473.62 1152.97 Q1473.62 1145.84 1471.79 1142.3 Q1469.99 1138.74 1466.35 1138.74 M1466.35 1135.03 Q1472.16 1135.03 1475.22 1139.64 Q1478.3 1144.22 1478.3 1152.97 Q1478.3 1161.7 1475.22 1166.31 Q1472.16 1170.89 1466.35 1170.89 Q1460.54 1170.89 1457.46 1166.31 Q1454.41 1161.7 1454.41 1152.97 Q1454.41 1144.22 1457.46 1139.64 Q1460.54 1135.03 1466.35 1135.03 Z\" fill=\"#000000\" fill-rule=\"nonzero\" fill-opacity=\"1\" /><path clip-path=\"url(#clip190)\" d=\"M1714.26 1166.28 L1730.58 1166.28 L1730.58 1170.22 L1708.64 1170.22 L1708.64 1166.28 Q1711.3 1163.53 1715.88 1158.9 Q1720.49 1154.25 1721.67 1152.9 Q1723.92 1150.38 1724.79 1148.64 Q1725.7 1146.89 1725.7 1145.2 Q1725.7 1142.44 1723.75 1140.7 Q1721.83 1138.97 1718.73 1138.97 Q1716.53 1138.97 1714.08 1139.73 Q1711.65 1140.5 1708.87 1142.05 L1708.87 1137.33 Q1711.69 1136.19 1714.15 1135.61 Q1716.6 1135.03 1718.64 1135.03 Q1724.01 1135.03 1727.2 1137.72 Q1730.4 1140.4 1730.4 1144.89 Q1730.4 1147.02 1729.59 1148.95 Q1728.8 1150.84 1726.69 1153.44 Q1726.11 1154.11 1723.01 1157.33 Q1719.91 1160.52 1714.26 1166.28 Z\" fill=\"#000000\" fill-rule=\"nonzero\" fill-opacity=\"1\" /><path clip-path=\"url(#clip190)\" d=\"M1740.44 1135.66 L1758.8 1135.66 L1758.8 1139.59 L1744.73 1139.59 L1744.73 1148.07 Q1745.74 1147.72 1746.76 1147.56 Q1747.78 1147.37 1748.8 1147.37 Q1754.59 1147.37 1757.97 1150.54 Q1761.35 1153.71 1761.35 1159.13 Q1761.35 1164.71 1757.87 1167.81 Q1754.4 1170.89 1748.08 1170.89 Q1745.91 1170.89 1743.64 1170.52 Q1741.39 1170.15 1738.98 1169.41 L1738.98 1164.71 Q1741.07 1165.84 1743.29 1166.4 Q1745.51 1166.95 1747.99 1166.95 Q1751.99 1166.95 1754.33 1164.85 Q1756.67 1162.74 1756.67 1159.13 Q1756.67 1155.52 1754.33 1153.41 Q1751.99 1151.31 1747.99 1151.31 Q1746.11 1151.31 1744.24 1151.72 Q1742.39 1152.14 1740.44 1153.02 L1740.44 1135.66 Z\" fill=\"#000000\" fill-rule=\"nonzero\" fill-opacity=\"1\" /><g clip-path=\"url(#clip190)\">\n",
       "<image width=\"30\" height=\"46\" xlink:href=\"data:image/png;base64,\n",
       "iVBORw0KGgoAAAANSUhEUgAAAB4AAAAuCAYAAAA/SqkPAAACUUlEQVRYhbWY7dGqMBCFD3duAamB\n",
       "EhhLwA6oATtgLAE7gBawA2wBrAAtIdrBvj+cqIR8bALuTEaBTU7cZ5ckJkQEn91uN7perxiGAerz\n",
       "+Xyi73vs9/vEO4DB/ptujuNIu93O2/l+v8dovoyIFq1pGgLgbaa+3JZwQg0ASZIsHIkoKswA8C+2\n",
       "oxAitus64ePxuEo4OtRrwgwwf/HlcuHNLsQ4GZhl2aYZTUQ8YV20ruvVwizGW/MFGIx/whfwh/oX\n",
       "fFmMddEt+LIY/4Iv4GF8Pp9/wxdwhzpN05/w9TLWRUP4FkVhXEr7vqdgYY5gVVVv/7IsSUpJRAQp\n",
       "JakIDsNgH6DruuAwK7+qqma+0zQtf/1WfG0+RlGXcAhf18SMogBZ65hbv8rP9/zbhBDmOm7bllW/\n",
       "PlElotvj8UiMoRNCePna7rtKqyiKtz+Lr56lIaK2ZmTs4ssJL8cWjG1827alJElICLFaFMAy1Ca+\n",
       "sIR8TWPXHQDKsoyaptlE3Cuc57l1InmeR09idlHXtbeMTK/SLMuCJzDLaj2bhRCvYjfY2kOccwdS\n",
       "17X1mUnkcDjwdywuvr5wlWUZvUMJ4qs3KWVQHynlcgeiDyCEYM0+RPjbx8rYxVdZzCkjz/PXl1i+\n",
       "ROYNnc1X7USmafqE+nuDFiKsH29c9azqf5ZcuiiXr/5Wc73L9YkZGXP4AkBRFLNr239jp9OJAGAc\n",
       "x0/tx/I15UbXdca+AChN09mzaL4mzvrgRJ9ldjEZnVPMivPdXy2bwzC876nTxKyPvuEOFVXNFDlX\n",
       "kv4BiCdB1YpvIO4AAAAASUVORK5CYII=\n",
       "\" transform=\"translate(1096, 1198)\"/>\n",
       "</g>\n",
       "<polyline clip-path=\"url(#clip190)\" style=\"stroke:#000000; stroke-linecap:round; stroke-linejoin:round; stroke-width:4; stroke-opacity:1; fill:none\" points=\"269.619,1111.02 269.619,107.256 \"/>\n",
       "<polyline clip-path=\"url(#clip190)\" style=\"stroke:#000000; stroke-linecap:round; stroke-linejoin:round; stroke-width:4; stroke-opacity:1; fill:none\" points=\"269.619,734.608 288.517,734.608 \"/>\n",
       "<polyline clip-path=\"url(#clip190)\" style=\"stroke:#000000; stroke-linecap:round; stroke-linejoin:round; stroke-width:4; stroke-opacity:1; fill:none\" points=\"269.619,107.256 288.517,107.256 \"/>\n",
       "<path clip-path=\"url(#clip190)\" d=\"M113.675 754.4 L121.314 754.4 L121.314 728.034 L113.004 729.701 L113.004 725.442 L121.268 723.775 L125.944 723.775 L125.944 754.4 L133.583 754.4 L133.583 758.335 L113.675 758.335 L113.675 754.4 Z\" fill=\"#000000\" fill-rule=\"nonzero\" fill-opacity=\"1\" /><path clip-path=\"url(#clip190)\" d=\"M153.027 726.854 Q149.416 726.854 147.587 730.419 Q145.782 733.96 145.782 741.09 Q145.782 748.196 147.587 751.761 Q149.416 755.303 153.027 755.303 Q156.661 755.303 158.467 751.761 Q160.295 748.196 160.295 741.09 Q160.295 733.96 158.467 730.419 Q156.661 726.854 153.027 726.854 M153.027 723.15 Q158.837 723.15 161.893 727.757 Q164.971 732.34 164.971 741.09 Q164.971 749.817 161.893 754.423 Q158.837 759.006 153.027 759.006 Q147.217 759.006 144.138 754.423 Q141.082 749.817 141.082 741.09 Q141.082 732.34 144.138 727.757 Q147.217 723.15 153.027 723.15 Z\" fill=\"#000000\" fill-rule=\"nonzero\" fill-opacity=\"1\" /><path clip-path=\"url(#clip190)\" d=\"M164.971 717.251 L189.083 717.251 L189.083 720.449 L164.971 720.449 L164.971 717.251 Z\" fill=\"#000000\" fill-rule=\"nonzero\" fill-opacity=\"1\" /><path clip-path=\"url(#clip190)\" d=\"M197.941 727.727 L204.148 727.727 L204.148 706.305 L197.396 707.659 L197.396 704.199 L204.11 702.845 L207.909 702.845 L207.909 727.727 L214.116 727.727 L214.116 730.925 L197.941 730.925 L197.941 727.727 Z\" fill=\"#000000\" fill-rule=\"nonzero\" fill-opacity=\"1\" /><path clip-path=\"url(#clip190)\" d=\"M229.914 705.346 Q226.98 705.346 225.495 708.243 Q224.028 711.12 224.028 716.913 Q224.028 722.687 225.495 725.583 Q226.98 728.461 229.914 728.461 Q232.867 728.461 234.334 725.583 Q235.82 722.687 235.82 716.913 Q235.82 711.12 234.334 708.243 Q232.867 705.346 229.914 705.346 M229.914 702.337 Q234.635 702.337 237.118 706.08 Q239.619 709.804 239.619 716.913 Q239.619 724.003 237.118 727.746 Q234.635 731.47 229.914 731.47 Q225.194 731.47 222.692 727.746 Q220.21 724.003 220.21 716.913 Q220.21 709.804 222.692 706.08 Q225.194 702.337 229.914 702.337 Z\" fill=\"#000000\" fill-rule=\"nonzero\" fill-opacity=\"1\" /><path clip-path=\"url(#clip190)\" d=\"M168.914 127.048 L176.552 127.048 L176.552 100.683 L168.242 102.349 L168.242 98.0901 L176.506 96.4235 L181.182 96.4235 L181.182 127.048 L188.821 127.048 L188.821 130.983 L168.914 130.983 L168.914 127.048 Z\" fill=\"#000000\" fill-rule=\"nonzero\" fill-opacity=\"1\" /><path clip-path=\"url(#clip190)\" d=\"M208.265 99.5022 Q204.654 99.5022 202.825 103.067 Q201.02 106.609 201.02 113.738 Q201.02 120.845 202.825 124.409 Q204.654 127.951 208.265 127.951 Q211.9 127.951 213.705 124.409 Q215.534 120.845 215.534 113.738 Q215.534 106.609 213.705 103.067 Q211.9 99.5022 208.265 99.5022 M208.265 95.7985 Q214.075 95.7985 217.131 100.405 Q220.21 104.988 220.21 113.738 Q220.21 122.465 217.131 127.071 Q214.075 131.655 208.265 131.655 Q202.455 131.655 199.376 127.071 Q196.321 122.465 196.321 113.738 Q196.321 104.988 199.376 100.405 Q202.455 95.7985 208.265 95.7985 Z\" fill=\"#000000\" fill-rule=\"nonzero\" fill-opacity=\"1\" /><path clip-path=\"url(#clip190)\" d=\"M229.914 77.9945 Q226.98 77.9945 225.495 80.8909 Q224.028 83.7685 224.028 89.5613 Q224.028 95.3353 225.495 98.2317 Q226.98 101.109 229.914 101.109 Q232.867 101.109 234.334 98.2317 Q235.82 95.3353 235.82 89.5613 Q235.82 83.7685 234.334 80.8909 Q232.867 77.9945 229.914 77.9945 M229.914 74.9853 Q234.635 74.9853 237.118 78.728 Q239.619 82.452 239.619 89.5613 Q239.619 96.6518 237.118 100.395 Q234.635 104.119 229.914 104.119 Q225.194 104.119 222.692 100.395 Q220.21 96.6518 220.21 89.5613 Q220.21 82.452 222.692 78.728 Q225.194 74.9853 229.914 74.9853 Z\" fill=\"#000000\" fill-rule=\"nonzero\" fill-opacity=\"1\" /><g clip-path=\"url(#clip190)\">\n",
       "<image width=\"66\" height=\"239\" xlink:href=\"data:image/png;base64,\n",
       "iVBORw0KGgoAAAANSUhEUgAAAEIAAADvCAYAAABG1gLYAAAJAUlEQVR4nO2d63XiPBOAR995C7Ap\n",
       "QaQCb0ogW4FpgRJMC04HJCWYrYBsCYYKgBIEHcz3IyOOMb7Ilozs7DznzI8AvuhBdytIICIsl0s8\n",
       "HA7wr5KmKUCSJAgA/3wIpRTOZjNrq1NGSgkCEX3fxyj4n+8bGAssgmARBIsgWATBIggWQbAIgkUQ\n",
       "LIJgEQSLIFgEMXoR+/0ewzBEIQR+fHy0DpW/vr76DacRcbSRpunDBMpqtcKmY4qfTZKk8bN3x/lO\n",
       "bFuiqmbQ2o47Ho8YRdHt81mWtR7jPbFtIsrfsomIYsRxbJQ7vCfWRATidzFZLBadJOjI87xVoPfE\n",
       "tonY7Xa9El8OKSVGUVR7Lu+JbYrVatW5KNSFLiKTFIGUKzabjZGMzWaDi8UCkyRBpdTtmN1uhwDQ\n",
       "WLS8J7QtlFIIAHcJq/tMWzSdw3tCTUI3oU25pi2klI25ynsiTUP3C+okNUUcx40SEHFaD3jm8zme\n",
       "z2dARKFfE0LcElB8vStPHWvM53MUQqAQAufzOW63207fwul0EkEQQBiGD8fZSNAneHr2rgoppVFX\n",
       "WNcJi8UCdSXZZUwxijpCt+UmEQRBY7OpBYCjfsZTRVSNJvuK0Z2tSYrQHZtiLZ5lGUope4mZrAhd\n",
       "ptM0rb35vmKklMY9UO8iEL/LtmmlaJtjuoh5ugjb6CumbQjvPWG2sdvtsKlZLkZTD9N7Qp4pJgiC\n",
       "f0dEk5imz01qrDEko3+u8Sz+M/3gfr/HPM/her1CFEXw9vZmN8gZG21lDFpq4i59gjFH7RvFvrxJ\n",
       "NE2DTSEqX1wsFr0GRl1yx2azwSiKbmMGKSXGcewthz28oAdGOsrjAqUUNo0im8YRm82mk9imcw0u\n",
       "Qt9E28NWHVVSyt+q6SxzXbiYeOkk4ng83rJp1xOV65S6HGYTQ4q461C9vb3h379/AXvO/51OJ3x5\n",
       "ebn9nec5vL6+PnxutVpBFEUwm80gCAI4n89wOBzg8/Oz9RpKKQjD0H3TXVUsbMzWFYOu2bupHnL1\n",
       "PLS2aLgQUVUcbM9XNew+Ho9OZTyIaBqhdTox3XCe507OV5XTBhOhzbvMEa7EVuWOPpW6kQhdLm1P\n",
       "Wp62dymiLGMQEYjfWdq2/OneoiuxlTfuOMfVXsDFTZos2XFxHRfnepiPUEoBwPewu09zXCQIAttT\n",
       "NJIkCQB893+sT1Zlx2Rqy6Ro6J7qUDnCZa6onKHa7/cC4P6RexcWiwUAAJzP5z6H97qWNUPYdt2h\n",
       "MskVtv2VxjlLpDGHEAK7rHEuTuM5+8ZayLLM6vjWOUtEFGEY4u/fvyEIArxcLkYDHrRduNER22Jo\n",
       "NIt9uVxEmqZwvV5BCIHr9dq+lnbM9Xq1O0HfFgE6TN48o46wvZdeB1UNgFwNrvqKsB2aW92AUqry\n",
       "yfQz5xr1PKi1TFc3lGXZ3SqWZ4kBR030YN9U35luHxIGFdFFTNdpvGIdZbNcyIuIrmLKUwFKqYd/\n",
       "a3I5d+lNRBcx5ej7nzxNMZplAev1WiDiLdI0rf2slBIul4vbTp3vnOCqKP2YouFSTJ9WyXuCXEXd\n",
       "/20EQTD9//scQoyUsrK18X7DvsSU3+dVdcRomk/fsAiCRRAsgmARBIsgWATBIggWQbAIgkUQLIJg\n",
       "EQSLIFgEwSIIFkGwCIJFECyCYBGEdxFfX18ohMDT6eR1Ot37dL5e3RsEAZguXRzkPsYiAuD5azOL\n",
       "eC8aY4FFECyCYBEEiyBYBMEiCBZBsAiCRRAsgmARBIsgWATBIggWQbAIgkUQLIJgEQSLIFgEwSII\n",
       "FkGwCIJFECyCYBEEiyBYBMEiCBZBsAiCRRAsgmARhHcR+ldQ4zj2eh/eV9WNBe85YiywCIJFECyC\n",
       "YBEEiyBYBMEiCBZBsAiCRRAsgmARBIsgWATBIggWQbAIgkUQLIJgEQSLIFgEwSIIFkFMXsTlcsG3\n",
       "tzcUQqAQAsMwxI+Pj+6P73z/grmO3W7XeRf5uj1/oMdmAt4FVO3qBAb7bjUJKIbpxqheHwKb7B5Z\n",
       "9XMrXXedlFLC6XRq/NkWb3XEcrk0Skw50dvttvM3dz6fobXe8FUkwDBr66g7rm5DoqptJUZXRxRv\n",
       "sqouyPP8YfOzNE1vO8oCmG/gXLxW01ZWXnODSWKKMhaLBQIAKqWMJOjQ29w15QpvIrpsMVVsWfpu\n",
       "TTVaEa4TYpor6t730nwKIRA7/grZr1+/8HA4QNfjTK87mS72arUa9PyTESGltDq+7dcRvYno2jF6\n",
       "fX21ut7n52fj+97qCJNub9VxfesI3UMdVR2RZdnd9tbb7fY2jG7arNCmogQASJKk/k0fzaduDqMo\n",
       "wmLTCI6ayPKIM47jcXaxEb/nH/RNuxCRZVnlefRusVr66EQg1u/Q2OdcVUK1bJNzehWhI4qi2w13\n",
       "HUfo0OOQvmJ/1Or88txFFEWw3++NKtgfJcKGyfQsh4ZFECyCYBHEjxDx/v6OfWa37/Ddh7CJ4mSu\n",
       "7e7yk8wRy+UShRD48vLi7JyTEbFer28j1D9//ri/gO/s3RTFafi2qHvQYxreE1uOqoc7bWFbP4xG\n",
       "hFIKiwMv0wiCoPcgbVQi9IRJ1+iy7mG0IqoezppE23qJSYiomj16Vtn3LqJPpQcAKKU0ftI9WhF9\n",
       "Kz0Xzd8oRPSt9JIk8Zr4YvTuWb6/v/fq6fn+5ZBauljrW+lFUXTX3uspdv2e79xgVDSUUr0qvSAI\n",
       "MM/z2kQWZXx/HyMW0efb77JodEwynEiw6emVZfhoOmtFND0s0eGyp1eW0XUp8mAi6hI/ZE+vLCOO\n",
       "46fKeHih+LxQR1OlN6QMKeXTZDy8UOwcuRri2sh4ViX60KE6HA66fyHCMHz6/pthGAql1N1rXReh\n",
       "9+FBRHEliy/qZOz3++GElLPIZrPxUmubFpMhJmUq64ixRZWMIbrlk1gWcDqdKp9hoMM9hCfxXGM+\n",
       "n4vj8fjwustKdBIiAJplNC1JNGUyIgDqZcxmM7CVMSkRAPUybNdqT04EQLUM27Xa3ptHF02ri+Z0\n",
       "Es3nM5hk0RgCFkGwCIJFECyCYBEEiyBYBMEiCBZB/AfwvZJVz17/i6RpCr0Xd/20EEopnM1m1lan\n",
       "jJQS/g/oW6OZ1ejbqQAAAABJRU5ErkJggg==\n",
       "\" transform=\"translate(22, 490)\"/>\n",
       "</g>\n",
       "<g clip-path=\"url(#clip190)\">\n",
       "<text style=\"fill:#000000; fill-opacity:1; font-family:Arial,Helvetica Neue,Helvetica,sans-serif; font-size:66px; text-anchor:middle;\" transform=\"rotate(0, 1111.19, 57.6)\" x=\"1111.19\" y=\"57.6\">Convergence of inverse iteration</text>\n",
       "</g>\n",
       "<polyline clip-path=\"url(#clip192)\" style=\"stroke:#009af9; stroke-linecap:round; stroke-linejoin:round; stroke-width:8; stroke-opacity:1; fill:none\" points=\"317.255,172.581 373.965,231.666 430.674,242.589 487.384,279.885 544.093,306.23 600.802,337.686 657.512,366.943 714.221,397.166 770.931,426.972 827.64,456.959 884.35,486.868 941.059,516.81 997.769,546.738 1054.48,576.672 1111.19,606.603 1167.9,636.536 1224.61,666.468 1281.32,696.401 1338.03,726.333 1394.73,756.266 1451.44,786.196 1508.15,816.134 1564.86,846.05 1621.57,876.033 1678.28,905.813 1734.99,936.203 1791.7,964.785 1848.41,998.988 1905.12,1017.38 \"/>\n",
       "<path clip-path=\"url(#clip192)\" d=\"M317.255 184.581 L308.771 181.065 L305.255 172.581 L308.771 164.097 L317.255 160.581 L325.739 164.097 L329.255 172.581 L325.739 181.065 Z\" fill=\"#009af9\" fill-rule=\"evenodd\" fill-opacity=\"1\" stroke=\"#000000\" stroke-opacity=\"1\" stroke-width=\"2.56\"/>\n",
       "<path clip-path=\"url(#clip192)\" d=\"M373.965 243.666 L365.481 240.15 L361.965 231.666 L365.481 223.182 L373.965 219.666 L382.449 223.182 L385.965 231.666 L382.449 240.15 Z\" fill=\"#009af9\" fill-rule=\"evenodd\" fill-opacity=\"1\" stroke=\"#000000\" stroke-opacity=\"1\" stroke-width=\"2.56\"/>\n",
       "<path clip-path=\"url(#clip192)\" d=\"M430.674 254.589 L422.19 251.073 L418.674 242.589 L422.19 234.105 L430.674 230.589 L439.158 234.105 L442.674 242.589 L439.158 251.073 Z\" fill=\"#009af9\" fill-rule=\"evenodd\" fill-opacity=\"1\" stroke=\"#000000\" stroke-opacity=\"1\" stroke-width=\"2.56\"/>\n",
       "<path clip-path=\"url(#clip192)\" d=\"M487.384 291.885 L478.9 288.369 L475.384 279.885 L478.9 271.401 L487.384 267.885 L495.868 271.401 L499.384 279.885 L495.868 288.369 Z\" fill=\"#009af9\" fill-rule=\"evenodd\" fill-opacity=\"1\" stroke=\"#000000\" stroke-opacity=\"1\" stroke-width=\"2.56\"/>\n",
       "<path clip-path=\"url(#clip192)\" d=\"M544.093 318.23 L535.609 314.714 L532.093 306.23 L535.609 297.746 L544.093 294.23 L552.577 297.746 L556.093 306.23 L552.577 314.714 Z\" fill=\"#009af9\" fill-rule=\"evenodd\" fill-opacity=\"1\" stroke=\"#000000\" stroke-opacity=\"1\" stroke-width=\"2.56\"/>\n",
       "<path clip-path=\"url(#clip192)\" d=\"M600.802 349.686 L592.318 346.17 L588.802 337.686 L592.318 329.202 L600.802 325.686 L609.286 329.202 L612.802 337.686 L609.286 346.17 Z\" fill=\"#009af9\" fill-rule=\"evenodd\" fill-opacity=\"1\" stroke=\"#000000\" stroke-opacity=\"1\" stroke-width=\"2.56\"/>\n",
       "<path clip-path=\"url(#clip192)\" d=\"M657.512 378.943 L649.028 375.427 L645.512 366.943 L649.028 358.459 L657.512 354.943 L665.996 358.459 L669.512 366.943 L665.996 375.427 Z\" fill=\"#009af9\" fill-rule=\"evenodd\" fill-opacity=\"1\" stroke=\"#000000\" stroke-opacity=\"1\" stroke-width=\"2.56\"/>\n",
       "<path clip-path=\"url(#clip192)\" d=\"M714.221 409.166 L705.737 405.65 L702.221 397.166 L705.737 388.682 L714.221 385.166 L722.705 388.682 L726.221 397.166 L722.705 405.65 Z\" fill=\"#009af9\" fill-rule=\"evenodd\" fill-opacity=\"1\" stroke=\"#000000\" stroke-opacity=\"1\" stroke-width=\"2.56\"/>\n",
       "<path clip-path=\"url(#clip192)\" d=\"M770.931 438.972 L762.447 435.456 L758.931 426.972 L762.447 418.488 L770.931 414.972 L779.415 418.488 L782.931 426.972 L779.415 435.456 Z\" fill=\"#009af9\" fill-rule=\"evenodd\" fill-opacity=\"1\" stroke=\"#000000\" stroke-opacity=\"1\" stroke-width=\"2.56\"/>\n",
       "<path clip-path=\"url(#clip192)\" d=\"M827.64 468.959 L819.156 465.443 L815.64 456.959 L819.156 448.475 L827.64 444.959 L836.124 448.475 L839.64 456.959 L836.124 465.443 Z\" fill=\"#009af9\" fill-rule=\"evenodd\" fill-opacity=\"1\" stroke=\"#000000\" stroke-opacity=\"1\" stroke-width=\"2.56\"/>\n",
       "<path clip-path=\"url(#clip192)\" d=\"M884.35 498.868 L875.866 495.352 L872.35 486.868 L875.866 478.384 L884.35 474.868 L892.834 478.384 L896.35 486.868 L892.834 495.352 Z\" fill=\"#009af9\" fill-rule=\"evenodd\" fill-opacity=\"1\" stroke=\"#000000\" stroke-opacity=\"1\" stroke-width=\"2.56\"/>\n",
       "<path clip-path=\"url(#clip192)\" d=\"M941.059 528.81 L932.575 525.294 L929.059 516.81 L932.575 508.326 L941.059 504.81 L949.543 508.326 L953.059 516.81 L949.543 525.294 Z\" fill=\"#009af9\" fill-rule=\"evenodd\" fill-opacity=\"1\" stroke=\"#000000\" stroke-opacity=\"1\" stroke-width=\"2.56\"/>\n",
       "<path clip-path=\"url(#clip192)\" d=\"M997.769 558.738 L989.285 555.222 L985.769 546.738 L989.285 538.254 L997.769 534.738 L1006.25 538.254 L1009.77 546.738 L1006.25 555.222 Z\" fill=\"#009af9\" fill-rule=\"evenodd\" fill-opacity=\"1\" stroke=\"#000000\" stroke-opacity=\"1\" stroke-width=\"2.56\"/>\n",
       "<path clip-path=\"url(#clip192)\" d=\"M1054.48 588.672 L1045.99 585.156 L1042.48 576.672 L1045.99 568.188 L1054.48 564.672 L1062.96 568.188 L1066.48 576.672 L1062.96 585.156 Z\" fill=\"#009af9\" fill-rule=\"evenodd\" fill-opacity=\"1\" stroke=\"#000000\" stroke-opacity=\"1\" stroke-width=\"2.56\"/>\n",
       "<path clip-path=\"url(#clip192)\" d=\"M1111.19 618.603 L1102.7 615.087 L1099.19 606.603 L1102.7 598.119 L1111.19 594.603 L1119.67 598.119 L1123.19 606.603 L1119.67 615.087 Z\" fill=\"#009af9\" fill-rule=\"evenodd\" fill-opacity=\"1\" stroke=\"#000000\" stroke-opacity=\"1\" stroke-width=\"2.56\"/>\n",
       "<path clip-path=\"url(#clip192)\" d=\"M1167.9 648.536 L1159.41 645.02 L1155.9 636.536 L1159.41 628.052 L1167.9 624.536 L1176.38 628.052 L1179.9 636.536 L1176.38 645.02 Z\" fill=\"#009af9\" fill-rule=\"evenodd\" fill-opacity=\"1\" stroke=\"#000000\" stroke-opacity=\"1\" stroke-width=\"2.56\"/>\n",
       "<path clip-path=\"url(#clip192)\" d=\"M1224.61 678.468 L1216.12 674.952 L1212.61 666.468 L1216.12 657.984 L1224.61 654.468 L1233.09 657.984 L1236.61 666.468 L1233.09 674.952 Z\" fill=\"#009af9\" fill-rule=\"evenodd\" fill-opacity=\"1\" stroke=\"#000000\" stroke-opacity=\"1\" stroke-width=\"2.56\"/>\n",
       "<path clip-path=\"url(#clip192)\" d=\"M1281.32 708.401 L1272.83 704.885 L1269.32 696.401 L1272.83 687.917 L1281.32 684.401 L1289.8 687.917 L1293.32 696.401 L1289.8 704.885 Z\" fill=\"#009af9\" fill-rule=\"evenodd\" fill-opacity=\"1\" stroke=\"#000000\" stroke-opacity=\"1\" stroke-width=\"2.56\"/>\n",
       "<path clip-path=\"url(#clip192)\" d=\"M1338.03 738.333 L1329.54 734.817 L1326.03 726.333 L1329.54 717.849 L1338.03 714.333 L1346.51 717.849 L1350.03 726.333 L1346.51 734.817 Z\" fill=\"#009af9\" fill-rule=\"evenodd\" fill-opacity=\"1\" stroke=\"#000000\" stroke-opacity=\"1\" stroke-width=\"2.56\"/>\n",
       "<path clip-path=\"url(#clip192)\" d=\"M1394.73 768.266 L1386.25 764.75 L1382.73 756.266 L1386.25 747.782 L1394.73 744.266 L1403.22 747.782 L1406.73 756.266 L1403.22 764.75 Z\" fill=\"#009af9\" fill-rule=\"evenodd\" fill-opacity=\"1\" stroke=\"#000000\" stroke-opacity=\"1\" stroke-width=\"2.56\"/>\n",
       "<path clip-path=\"url(#clip192)\" d=\"M1451.44 798.196 L1442.96 794.68 L1439.44 786.196 L1442.96 777.712 L1451.44 774.196 L1459.93 777.712 L1463.44 786.196 L1459.93 794.68 Z\" fill=\"#009af9\" fill-rule=\"evenodd\" fill-opacity=\"1\" stroke=\"#000000\" stroke-opacity=\"1\" stroke-width=\"2.56\"/>\n",
       "<path clip-path=\"url(#clip192)\" d=\"M1508.15 828.134 L1499.67 824.618 L1496.15 816.134 L1499.67 807.65 L1508.15 804.134 L1516.64 807.65 L1520.15 816.134 L1516.64 824.618 Z\" fill=\"#009af9\" fill-rule=\"evenodd\" fill-opacity=\"1\" stroke=\"#000000\" stroke-opacity=\"1\" stroke-width=\"2.56\"/>\n",
       "<path clip-path=\"url(#clip192)\" d=\"M1564.86 858.05 L1556.38 854.534 L1552.86 846.05 L1556.38 837.566 L1564.86 834.05 L1573.35 837.566 L1576.86 846.05 L1573.35 854.534 Z\" fill=\"#009af9\" fill-rule=\"evenodd\" fill-opacity=\"1\" stroke=\"#000000\" stroke-opacity=\"1\" stroke-width=\"2.56\"/>\n",
       "<path clip-path=\"url(#clip192)\" d=\"M1621.57 888.033 L1613.09 884.517 L1609.57 876.033 L1613.09 867.549 L1621.57 864.033 L1630.06 867.549 L1633.57 876.033 L1630.06 884.517 Z\" fill=\"#009af9\" fill-rule=\"evenodd\" fill-opacity=\"1\" stroke=\"#000000\" stroke-opacity=\"1\" stroke-width=\"2.56\"/>\n",
       "<path clip-path=\"url(#clip192)\" d=\"M1678.28 917.813 L1669.8 914.297 L1666.28 905.813 L1669.8 897.329 L1678.28 893.813 L1686.77 897.329 L1690.28 905.813 L1686.77 914.297 Z\" fill=\"#009af9\" fill-rule=\"evenodd\" fill-opacity=\"1\" stroke=\"#000000\" stroke-opacity=\"1\" stroke-width=\"2.56\"/>\n",
       "<path clip-path=\"url(#clip192)\" d=\"M1734.99 948.203 L1726.51 944.687 L1722.99 936.203 L1726.51 927.719 L1734.99 924.203 L1743.48 927.719 L1746.99 936.203 L1743.48 944.687 Z\" fill=\"#009af9\" fill-rule=\"evenodd\" fill-opacity=\"1\" stroke=\"#000000\" stroke-opacity=\"1\" stroke-width=\"2.56\"/>\n",
       "<path clip-path=\"url(#clip192)\" d=\"M1791.7 976.785 L1783.22 973.269 L1779.7 964.785 L1783.22 956.301 L1791.7 952.785 L1800.19 956.301 L1803.7 964.785 L1800.19 973.269 Z\" fill=\"#009af9\" fill-rule=\"evenodd\" fill-opacity=\"1\" stroke=\"#000000\" stroke-opacity=\"1\" stroke-width=\"2.56\"/>\n",
       "<path clip-path=\"url(#clip192)\" d=\"M1848.41 1010.99 L1839.93 1007.47 L1836.41 998.988 L1839.93 990.504 L1848.41 986.988 L1856.89 990.504 L1860.41 998.988 L1856.89 1007.47 Z\" fill=\"#009af9\" fill-rule=\"evenodd\" fill-opacity=\"1\" stroke=\"#000000\" stroke-opacity=\"1\" stroke-width=\"2.56\"/>\n",
       "<path clip-path=\"url(#clip192)\" d=\"M1905.12 1029.38 L1896.64 1025.87 L1893.12 1017.38 L1896.64 1008.9 L1905.12 1005.38 L1913.6 1008.9 L1917.12 1017.38 L1913.6 1025.87 Z\" fill=\"#009af9\" fill-rule=\"evenodd\" fill-opacity=\"1\" stroke=\"#000000\" stroke-opacity=\"1\" stroke-width=\"2.56\"/>\n",
       "</svg>\n"
      ],
      "text/html": [
       "<?xml version=\"1.0\" encoding=\"utf-8\"?>\n",
       "<svg xmlns=\"http://www.w3.org/2000/svg\" xmlns:xlink=\"http://www.w3.org/1999/xlink\" width=\"500\" height=\"320\" viewBox=\"0 0 2000 1280\">\n",
       "<defs>\n",
       "  <clipPath id=\"clip240\">\n",
       "    <rect x=\"0\" y=\"0\" width=\"2000\" height=\"1280\"/>\n",
       "  </clipPath>\n",
       "</defs>\n",
       "<path clip-path=\"url(#clip240)\" d=\"M0 1280 L2000 1280 L2000 0 L0 0  Z\" fill=\"#ffffff\" fill-rule=\"evenodd\" fill-opacity=\"1\"/>\n",
       "<defs>\n",
       "  <clipPath id=\"clip241\">\n",
       "    <rect x=\"400\" y=\"0\" width=\"1401\" height=\"1280\"/>\n",
       "  </clipPath>\n",
       "</defs>\n",
       "<path clip-path=\"url(#clip240)\" d=\"M269.619 1111.02 L1952.76 1111.02 L1952.76 107.256 L269.619 107.256  Z\" fill=\"#ffffff\" fill-rule=\"evenodd\" fill-opacity=\"1\"/>\n",
       "<defs>\n",
       "  <clipPath id=\"clip242\">\n",
       "    <rect x=\"269\" y=\"107\" width=\"1684\" height=\"1005\"/>\n",
       "  </clipPath>\n",
       "</defs>\n",
       "<polyline clip-path=\"url(#clip242)\" style=\"stroke:#000000; stroke-linecap:round; stroke-linejoin:round; stroke-width:2; stroke-opacity:0.1; fill:none\" points=\"317.255,1111.02 317.255,107.256 \"/>\n",
       "<polyline clip-path=\"url(#clip242)\" style=\"stroke:#000000; stroke-linecap:round; stroke-linejoin:round; stroke-width:2; stroke-opacity:0.1; fill:none\" points=\"600.802,1111.02 600.802,107.256 \"/>\n",
       "<polyline clip-path=\"url(#clip242)\" style=\"stroke:#000000; stroke-linecap:round; stroke-linejoin:round; stroke-width:2; stroke-opacity:0.1; fill:none\" points=\"884.35,1111.02 884.35,107.256 \"/>\n",
       "<polyline clip-path=\"url(#clip242)\" style=\"stroke:#000000; stroke-linecap:round; stroke-linejoin:round; stroke-width:2; stroke-opacity:0.1; fill:none\" points=\"1167.9,1111.02 1167.9,107.256 \"/>\n",
       "<polyline clip-path=\"url(#clip242)\" style=\"stroke:#000000; stroke-linecap:round; stroke-linejoin:round; stroke-width:2; stroke-opacity:0.1; fill:none\" points=\"1451.44,1111.02 1451.44,107.256 \"/>\n",
       "<polyline clip-path=\"url(#clip242)\" style=\"stroke:#000000; stroke-linecap:round; stroke-linejoin:round; stroke-width:2; stroke-opacity:0.1; fill:none\" points=\"1734.99,1111.02 1734.99,107.256 \"/>\n",
       "<polyline clip-path=\"url(#clip242)\" style=\"stroke:#000000; stroke-linecap:round; stroke-linejoin:round; stroke-width:2; stroke-opacity:0.1; fill:none\" points=\"269.619,734.608 1952.76,734.608 \"/>\n",
       "<polyline clip-path=\"url(#clip242)\" style=\"stroke:#000000; stroke-linecap:round; stroke-linejoin:round; stroke-width:2; stroke-opacity:0.1; fill:none\" points=\"269.619,107.256 1952.76,107.256 \"/>\n",
       "<polyline clip-path=\"url(#clip240)\" style=\"stroke:#000000; stroke-linecap:round; stroke-linejoin:round; stroke-width:4; stroke-opacity:1; fill:none\" points=\"269.619,1111.02 1952.76,1111.02 \"/>\n",
       "<polyline clip-path=\"url(#clip240)\" style=\"stroke:#000000; stroke-linecap:round; stroke-linejoin:round; stroke-width:4; stroke-opacity:1; fill:none\" points=\"317.255,1111.02 317.255,1092.12 \"/>\n",
       "<polyline clip-path=\"url(#clip240)\" style=\"stroke:#000000; stroke-linecap:round; stroke-linejoin:round; stroke-width:4; stroke-opacity:1; fill:none\" points=\"600.802,1111.02 600.802,1092.12 \"/>\n",
       "<polyline clip-path=\"url(#clip240)\" style=\"stroke:#000000; stroke-linecap:round; stroke-linejoin:round; stroke-width:4; stroke-opacity:1; fill:none\" points=\"884.35,1111.02 884.35,1092.12 \"/>\n",
       "<polyline clip-path=\"url(#clip240)\" style=\"stroke:#000000; stroke-linecap:round; stroke-linejoin:round; stroke-width:4; stroke-opacity:1; fill:none\" points=\"1167.9,1111.02 1167.9,1092.12 \"/>\n",
       "<polyline clip-path=\"url(#clip240)\" style=\"stroke:#000000; stroke-linecap:round; stroke-linejoin:round; stroke-width:4; stroke-opacity:1; fill:none\" points=\"1451.44,1111.02 1451.44,1092.12 \"/>\n",
       "<polyline clip-path=\"url(#clip240)\" style=\"stroke:#000000; stroke-linecap:round; stroke-linejoin:round; stroke-width:4; stroke-opacity:1; fill:none\" points=\"1734.99,1111.02 1734.99,1092.12 \"/>\n",
       "<path clip-path=\"url(#clip240)\" d=\"M317.255 1138.74 Q313.644 1138.74 311.815 1142.3 Q310.01 1145.84 310.01 1152.97 Q310.01 1160.08 311.815 1163.64 Q313.644 1167.19 317.255 1167.19 Q320.889 1167.19 322.695 1163.64 Q324.524 1160.08 324.524 1152.97 Q324.524 1145.84 322.695 1142.3 Q320.889 1138.74 317.255 1138.74 M317.255 1135.03 Q323.065 1135.03 326.121 1139.64 Q329.2 1144.22 329.2 1152.97 Q329.2 1161.7 326.121 1166.31 Q323.065 1170.89 317.255 1170.89 Q311.445 1170.89 308.366 1166.31 Q305.311 1161.7 305.311 1152.97 Q305.311 1144.22 308.366 1139.64 Q311.445 1135.03 317.255 1135.03 Z\" fill=\"#000000\" fill-rule=\"nonzero\" fill-opacity=\"1\" /><path clip-path=\"url(#clip240)\" d=\"M591.08 1135.66 L609.437 1135.66 L609.437 1139.59 L595.363 1139.59 L595.363 1148.07 Q596.381 1147.72 597.4 1147.56 Q598.418 1147.37 599.437 1147.37 Q605.224 1147.37 608.603 1150.54 Q611.983 1153.71 611.983 1159.13 Q611.983 1164.71 608.511 1167.81 Q605.039 1170.89 598.719 1170.89 Q596.543 1170.89 594.275 1170.52 Q592.029 1170.15 589.622 1169.41 L589.622 1164.71 Q591.705 1165.84 593.928 1166.4 Q596.15 1166.95 598.627 1166.95 Q602.631 1166.95 604.969 1164.85 Q607.307 1162.74 607.307 1159.13 Q607.307 1155.52 604.969 1153.41 Q602.631 1151.31 598.627 1151.31 Q596.752 1151.31 594.877 1151.72 Q593.025 1152.14 591.08 1153.02 L591.08 1135.66 Z\" fill=\"#000000\" fill-rule=\"nonzero\" fill-opacity=\"1\" /><path clip-path=\"url(#clip240)\" d=\"M859.037 1166.28 L866.676 1166.28 L866.676 1139.92 L858.366 1141.58 L858.366 1137.33 L866.63 1135.66 L871.306 1135.66 L871.306 1166.28 L878.945 1166.28 L878.945 1170.22 L859.037 1170.22 L859.037 1166.28 Z\" fill=\"#000000\" fill-rule=\"nonzero\" fill-opacity=\"1\" /><path clip-path=\"url(#clip240)\" d=\"M898.389 1138.74 Q894.778 1138.74 892.949 1142.3 Q891.144 1145.84 891.144 1152.97 Q891.144 1160.08 892.949 1163.64 Q894.778 1167.19 898.389 1167.19 Q902.023 1167.19 903.829 1163.64 Q905.658 1160.08 905.658 1152.97 Q905.658 1145.84 903.829 1142.3 Q902.023 1138.74 898.389 1138.74 M898.389 1135.03 Q904.199 1135.03 907.255 1139.64 Q910.333 1144.22 910.333 1152.97 Q910.333 1161.7 907.255 1166.31 Q904.199 1170.89 898.389 1170.89 Q892.579 1170.89 889.5 1166.31 Q886.445 1161.7 886.445 1152.97 Q886.445 1144.22 889.5 1139.64 Q892.579 1135.03 898.389 1135.03 Z\" fill=\"#000000\" fill-rule=\"nonzero\" fill-opacity=\"1\" /><path clip-path=\"url(#clip240)\" d=\"M1143.08 1166.28 L1150.72 1166.28 L1150.72 1139.92 L1142.41 1141.58 L1142.41 1137.33 L1150.67 1135.66 L1155.35 1135.66 L1155.35 1166.28 L1162.99 1166.28 L1162.99 1170.22 L1143.08 1170.22 L1143.08 1166.28 Z\" fill=\"#000000\" fill-rule=\"nonzero\" fill-opacity=\"1\" /><path clip-path=\"url(#clip240)\" d=\"M1172.48 1135.66 L1190.84 1135.66 L1190.84 1139.59 L1176.76 1139.59 L1176.76 1148.07 Q1177.78 1147.72 1178.8 1147.56 Q1179.82 1147.37 1180.84 1147.37 Q1186.62 1147.37 1190 1150.54 Q1193.38 1153.71 1193.38 1159.13 Q1193.38 1164.71 1189.91 1167.81 Q1186.44 1170.89 1180.12 1170.89 Q1177.94 1170.89 1175.67 1170.52 Q1173.43 1170.15 1171.02 1169.41 L1171.02 1164.71 Q1173.11 1165.84 1175.33 1166.4 Q1177.55 1166.95 1180.03 1166.95 Q1184.03 1166.95 1186.37 1164.85 Q1188.71 1162.74 1188.71 1159.13 Q1188.71 1155.52 1186.37 1153.41 Q1184.03 1151.31 1180.03 1151.31 Q1178.15 1151.31 1176.28 1151.72 Q1174.42 1152.14 1172.48 1153.02 L1172.48 1135.66 Z\" fill=\"#000000\" fill-rule=\"nonzero\" fill-opacity=\"1\" /><path clip-path=\"url(#clip240)\" d=\"M1430.22 1166.28 L1446.54 1166.28 L1446.54 1170.22 L1424.59 1170.22 L1424.59 1166.28 Q1427.25 1163.53 1431.84 1158.9 Q1436.44 1154.25 1437.62 1152.9 Q1439.87 1150.38 1440.75 1148.64 Q1441.65 1146.89 1441.65 1145.2 Q1441.65 1142.44 1439.71 1140.7 Q1437.79 1138.97 1434.69 1138.97 Q1432.49 1138.97 1430.03 1139.73 Q1427.6 1140.5 1424.82 1142.05 L1424.82 1137.33 Q1427.65 1136.19 1430.1 1135.61 Q1432.56 1135.03 1434.59 1135.03 Q1439.96 1135.03 1443.16 1137.72 Q1446.35 1140.4 1446.35 1144.89 Q1446.35 1147.02 1445.54 1148.95 Q1444.75 1150.84 1442.65 1153.44 Q1442.07 1154.11 1438.97 1157.33 Q1435.87 1160.52 1430.22 1166.28 Z\" fill=\"#000000\" fill-rule=\"nonzero\" fill-opacity=\"1\" /><path clip-path=\"url(#clip240)\" d=\"M1466.35 1138.74 Q1462.74 1138.74 1460.91 1142.3 Q1459.11 1145.84 1459.11 1152.97 Q1459.11 1160.08 1460.91 1163.64 Q1462.74 1167.19 1466.35 1167.19 Q1469.99 1167.19 1471.79 1163.64 Q1473.62 1160.08 1473.62 1152.97 Q1473.62 1145.84 1471.79 1142.3 Q1469.99 1138.74 1466.35 1138.74 M1466.35 1135.03 Q1472.16 1135.03 1475.22 1139.64 Q1478.3 1144.22 1478.3 1152.97 Q1478.3 1161.7 1475.22 1166.31 Q1472.16 1170.89 1466.35 1170.89 Q1460.54 1170.89 1457.46 1166.31 Q1454.41 1161.7 1454.41 1152.97 Q1454.41 1144.22 1457.46 1139.64 Q1460.54 1135.03 1466.35 1135.03 Z\" fill=\"#000000\" fill-rule=\"nonzero\" fill-opacity=\"1\" /><path clip-path=\"url(#clip240)\" d=\"M1714.26 1166.28 L1730.58 1166.28 L1730.58 1170.22 L1708.64 1170.22 L1708.64 1166.28 Q1711.3 1163.53 1715.88 1158.9 Q1720.49 1154.25 1721.67 1152.9 Q1723.92 1150.38 1724.79 1148.64 Q1725.7 1146.89 1725.7 1145.2 Q1725.7 1142.44 1723.75 1140.7 Q1721.83 1138.97 1718.73 1138.97 Q1716.53 1138.97 1714.08 1139.73 Q1711.65 1140.5 1708.87 1142.05 L1708.87 1137.33 Q1711.69 1136.19 1714.15 1135.61 Q1716.6 1135.03 1718.64 1135.03 Q1724.01 1135.03 1727.2 1137.72 Q1730.4 1140.4 1730.4 1144.89 Q1730.4 1147.02 1729.59 1148.95 Q1728.8 1150.84 1726.69 1153.44 Q1726.11 1154.11 1723.01 1157.33 Q1719.91 1160.52 1714.26 1166.28 Z\" fill=\"#000000\" fill-rule=\"nonzero\" fill-opacity=\"1\" /><path clip-path=\"url(#clip240)\" d=\"M1740.44 1135.66 L1758.8 1135.66 L1758.8 1139.59 L1744.73 1139.59 L1744.73 1148.07 Q1745.74 1147.72 1746.76 1147.56 Q1747.78 1147.37 1748.8 1147.37 Q1754.59 1147.37 1757.97 1150.54 Q1761.35 1153.71 1761.35 1159.13 Q1761.35 1164.71 1757.87 1167.81 Q1754.4 1170.89 1748.08 1170.89 Q1745.91 1170.89 1743.64 1170.52 Q1741.39 1170.15 1738.98 1169.41 L1738.98 1164.71 Q1741.07 1165.84 1743.29 1166.4 Q1745.51 1166.95 1747.99 1166.95 Q1751.99 1166.95 1754.33 1164.85 Q1756.67 1162.74 1756.67 1159.13 Q1756.67 1155.52 1754.33 1153.41 Q1751.99 1151.31 1747.99 1151.31 Q1746.11 1151.31 1744.24 1151.72 Q1742.39 1152.14 1740.44 1153.02 L1740.44 1135.66 Z\" fill=\"#000000\" fill-rule=\"nonzero\" fill-opacity=\"1\" /><g clip-path=\"url(#clip240)\">\n",
       "<image width=\"30\" height=\"46\" xlink:href=\"data:image/png;base64,\n",
       "iVBORw0KGgoAAAANSUhEUgAAAB4AAAAuCAYAAAA/SqkPAAACUUlEQVRYhbWY7dGqMBCFD3duAamB\n",
       "EhhLwA6oATtgLAE7gBawA2wBrAAtIdrBvj+cqIR8bALuTEaBTU7cZ5ckJkQEn91uN7perxiGAerz\n",
       "+Xyi73vs9/vEO4DB/ptujuNIu93O2/l+v8dovoyIFq1pGgLgbaa+3JZwQg0ASZIsHIkoKswA8C+2\n",
       "oxAitus64ePxuEo4OtRrwgwwf/HlcuHNLsQ4GZhl2aYZTUQ8YV20ruvVwizGW/MFGIx/whfwh/oX\n",
       "fFmMddEt+LIY/4Iv4GF8Pp9/wxdwhzpN05/w9TLWRUP4FkVhXEr7vqdgYY5gVVVv/7IsSUpJRAQp\n",
       "JakIDsNgH6DruuAwK7+qqma+0zQtf/1WfG0+RlGXcAhf18SMogBZ65hbv8rP9/zbhBDmOm7bllW/\n",
       "PlElotvj8UiMoRNCePna7rtKqyiKtz+Lr56lIaK2ZmTs4ssJL8cWjG1827alJElICLFaFMAy1Ca+\n",
       "sIR8TWPXHQDKsoyaptlE3Cuc57l1InmeR09idlHXtbeMTK/SLMuCJzDLaj2bhRCvYjfY2kOccwdS\n",
       "17X1mUnkcDjwdywuvr5wlWUZvUMJ4qs3KWVQHynlcgeiDyCEYM0+RPjbx8rYxVdZzCkjz/PXl1i+\n",
       "ROYNnc1X7USmafqE+nuDFiKsH29c9azqf5ZcuiiXr/5Wc73L9YkZGXP4AkBRFLNr239jp9OJAGAc\n",
       "x0/tx/I15UbXdca+AChN09mzaL4mzvrgRJ9ldjEZnVPMivPdXy2bwzC876nTxKyPvuEOFVXNFDlX\n",
       "kv4BiCdB1YpvIO4AAAAASUVORK5CYII=\n",
       "\" transform=\"translate(1096, 1198)\"/>\n",
       "</g>\n",
       "<polyline clip-path=\"url(#clip240)\" style=\"stroke:#000000; stroke-linecap:round; stroke-linejoin:round; stroke-width:4; stroke-opacity:1; fill:none\" points=\"269.619,1111.02 269.619,107.256 \"/>\n",
       "<polyline clip-path=\"url(#clip240)\" style=\"stroke:#000000; stroke-linecap:round; stroke-linejoin:round; stroke-width:4; stroke-opacity:1; fill:none\" points=\"269.619,734.608 288.517,734.608 \"/>\n",
       "<polyline clip-path=\"url(#clip240)\" style=\"stroke:#000000; stroke-linecap:round; stroke-linejoin:round; stroke-width:4; stroke-opacity:1; fill:none\" points=\"269.619,107.256 288.517,107.256 \"/>\n",
       "<path clip-path=\"url(#clip240)\" d=\"M113.675 754.4 L121.314 754.4 L121.314 728.034 L113.004 729.701 L113.004 725.442 L121.268 723.775 L125.944 723.775 L125.944 754.4 L133.583 754.4 L133.583 758.335 L113.675 758.335 L113.675 754.4 Z\" fill=\"#000000\" fill-rule=\"nonzero\" fill-opacity=\"1\" /><path clip-path=\"url(#clip240)\" d=\"M153.027 726.854 Q149.416 726.854 147.587 730.419 Q145.782 733.96 145.782 741.09 Q145.782 748.196 147.587 751.761 Q149.416 755.303 153.027 755.303 Q156.661 755.303 158.467 751.761 Q160.295 748.196 160.295 741.09 Q160.295 733.96 158.467 730.419 Q156.661 726.854 153.027 726.854 M153.027 723.15 Q158.837 723.15 161.893 727.757 Q164.971 732.34 164.971 741.09 Q164.971 749.817 161.893 754.423 Q158.837 759.006 153.027 759.006 Q147.217 759.006 144.138 754.423 Q141.082 749.817 141.082 741.09 Q141.082 732.34 144.138 727.757 Q147.217 723.15 153.027 723.15 Z\" fill=\"#000000\" fill-rule=\"nonzero\" fill-opacity=\"1\" /><path clip-path=\"url(#clip240)\" d=\"M164.971 717.251 L189.083 717.251 L189.083 720.449 L164.971 720.449 L164.971 717.251 Z\" fill=\"#000000\" fill-rule=\"nonzero\" fill-opacity=\"1\" /><path clip-path=\"url(#clip240)\" d=\"M197.941 727.727 L204.148 727.727 L204.148 706.305 L197.396 707.659 L197.396 704.199 L204.11 702.845 L207.909 702.845 L207.909 727.727 L214.116 727.727 L214.116 730.925 L197.941 730.925 L197.941 727.727 Z\" fill=\"#000000\" fill-rule=\"nonzero\" fill-opacity=\"1\" /><path clip-path=\"url(#clip240)\" d=\"M229.914 705.346 Q226.98 705.346 225.495 708.243 Q224.028 711.12 224.028 716.913 Q224.028 722.687 225.495 725.583 Q226.98 728.461 229.914 728.461 Q232.867 728.461 234.334 725.583 Q235.82 722.687 235.82 716.913 Q235.82 711.12 234.334 708.243 Q232.867 705.346 229.914 705.346 M229.914 702.337 Q234.635 702.337 237.118 706.08 Q239.619 709.804 239.619 716.913 Q239.619 724.003 237.118 727.746 Q234.635 731.47 229.914 731.47 Q225.194 731.47 222.692 727.746 Q220.21 724.003 220.21 716.913 Q220.21 709.804 222.692 706.08 Q225.194 702.337 229.914 702.337 Z\" fill=\"#000000\" fill-rule=\"nonzero\" fill-opacity=\"1\" /><path clip-path=\"url(#clip240)\" d=\"M168.914 127.048 L176.552 127.048 L176.552 100.683 L168.242 102.349 L168.242 98.0901 L176.506 96.4235 L181.182 96.4235 L181.182 127.048 L188.821 127.048 L188.821 130.983 L168.914 130.983 L168.914 127.048 Z\" fill=\"#000000\" fill-rule=\"nonzero\" fill-opacity=\"1\" /><path clip-path=\"url(#clip240)\" d=\"M208.265 99.5022 Q204.654 99.5022 202.825 103.067 Q201.02 106.609 201.02 113.738 Q201.02 120.845 202.825 124.409 Q204.654 127.951 208.265 127.951 Q211.9 127.951 213.705 124.409 Q215.534 120.845 215.534 113.738 Q215.534 106.609 213.705 103.067 Q211.9 99.5022 208.265 99.5022 M208.265 95.7985 Q214.075 95.7985 217.131 100.405 Q220.21 104.988 220.21 113.738 Q220.21 122.465 217.131 127.071 Q214.075 131.655 208.265 131.655 Q202.455 131.655 199.376 127.071 Q196.321 122.465 196.321 113.738 Q196.321 104.988 199.376 100.405 Q202.455 95.7985 208.265 95.7985 Z\" fill=\"#000000\" fill-rule=\"nonzero\" fill-opacity=\"1\" /><path clip-path=\"url(#clip240)\" d=\"M229.914 77.9945 Q226.98 77.9945 225.495 80.8909 Q224.028 83.7685 224.028 89.5613 Q224.028 95.3353 225.495 98.2317 Q226.98 101.109 229.914 101.109 Q232.867 101.109 234.334 98.2317 Q235.82 95.3353 235.82 89.5613 Q235.82 83.7685 234.334 80.8909 Q232.867 77.9945 229.914 77.9945 M229.914 74.9853 Q234.635 74.9853 237.118 78.728 Q239.619 82.452 239.619 89.5613 Q239.619 96.6518 237.118 100.395 Q234.635 104.119 229.914 104.119 Q225.194 104.119 222.692 100.395 Q220.21 96.6518 220.21 89.5613 Q220.21 82.452 222.692 78.728 Q225.194 74.9853 229.914 74.9853 Z\" fill=\"#000000\" fill-rule=\"nonzero\" fill-opacity=\"1\" /><g clip-path=\"url(#clip240)\">\n",
       "<image width=\"66\" height=\"239\" xlink:href=\"data:image/png;base64,\n",
       "iVBORw0KGgoAAAANSUhEUgAAAEIAAADvCAYAAABG1gLYAAAJAUlEQVR4nO2d63XiPBOAR995C7Ap\n",
       "QaQCb0ogW4FpgRJMC04HJCWYrYBsCYYKgBIEHcz3IyOOMb7Ilozs7DznzI8AvuhBdytIICIsl0s8\n",
       "HA7wr5KmKUCSJAgA/3wIpRTOZjNrq1NGSgkCEX3fxyj4n+8bGAssgmARBIsgWATBIggWQbAIgkUQ\n",
       "LIJgEQSLIFgEMXoR+/0ewzBEIQR+fHy0DpW/vr76DacRcbSRpunDBMpqtcKmY4qfTZKk8bN3x/lO\n",
       "bFuiqmbQ2o47Ho8YRdHt81mWtR7jPbFtIsrfsomIYsRxbJQ7vCfWRATidzFZLBadJOjI87xVoPfE\n",
       "tonY7Xa9El8OKSVGUVR7Lu+JbYrVatW5KNSFLiKTFIGUKzabjZGMzWaDi8UCkyRBpdTtmN1uhwDQ\n",
       "WLS8J7QtlFIIAHcJq/tMWzSdw3tCTUI3oU25pi2klI25ynsiTUP3C+okNUUcx40SEHFaD3jm8zme\n",
       "z2dARKFfE0LcElB8vStPHWvM53MUQqAQAufzOW63207fwul0EkEQQBiGD8fZSNAneHr2rgoppVFX\n",
       "WNcJi8UCdSXZZUwxijpCt+UmEQRBY7OpBYCjfsZTRVSNJvuK0Z2tSYrQHZtiLZ5lGUope4mZrAhd\n",
       "ptM0rb35vmKklMY9UO8iEL/LtmmlaJtjuoh5ugjb6CumbQjvPWG2sdvtsKlZLkZTD9N7Qp4pJgiC\n",
       "f0dEk5imz01qrDEko3+u8Sz+M/3gfr/HPM/her1CFEXw9vZmN8gZG21lDFpq4i59gjFH7RvFvrxJ\n",
       "NE2DTSEqX1wsFr0GRl1yx2azwSiKbmMGKSXGcewthz28oAdGOsrjAqUUNo0im8YRm82mk9imcw0u\n",
       "Qt9E28NWHVVSyt+q6SxzXbiYeOkk4ng83rJp1xOV65S6HGYTQ4q461C9vb3h379/AXvO/51OJ3x5\n",
       "ebn9nec5vL6+PnxutVpBFEUwm80gCAI4n89wOBzg8/Oz9RpKKQjD0H3TXVUsbMzWFYOu2bupHnL1\n",
       "PLS2aLgQUVUcbM9XNew+Ho9OZTyIaBqhdTox3XCe507OV5XTBhOhzbvMEa7EVuWOPpW6kQhdLm1P\n",
       "Wp62dymiLGMQEYjfWdq2/OneoiuxlTfuOMfVXsDFTZos2XFxHRfnepiPUEoBwPewu09zXCQIAttT\n",
       "NJIkCQB893+sT1Zlx2Rqy6Ro6J7qUDnCZa6onKHa7/cC4P6RexcWiwUAAJzP5z6H97qWNUPYdt2h\n",
       "MskVtv2VxjlLpDGHEAK7rHEuTuM5+8ZayLLM6vjWOUtEFGEY4u/fvyEIArxcLkYDHrRduNER22Jo\n",
       "NIt9uVxEmqZwvV5BCIHr9dq+lnbM9Xq1O0HfFgE6TN48o46wvZdeB1UNgFwNrvqKsB2aW92AUqry\n",
       "yfQz5xr1PKi1TFc3lGXZ3SqWZ4kBR030YN9U35luHxIGFdFFTNdpvGIdZbNcyIuIrmLKUwFKqYd/\n",
       "a3I5d+lNRBcx5ej7nzxNMZplAev1WiDiLdI0rf2slBIul4vbTp3vnOCqKP2YouFSTJ9WyXuCXEXd\n",
       "/20EQTD9//scQoyUsrK18X7DvsSU3+dVdcRomk/fsAiCRRAsgmARBIsgWATBIggWQbAIgkUQLIJg\n",
       "EQSLIFgEwSIIFkGwCIJFECyCYBGEdxFfX18ohMDT6eR1Ot37dL5e3RsEAZguXRzkPsYiAuD5azOL\n",
       "eC8aY4FFECyCYBEEiyBYBMEiCBZBsAiCRRAsgmARBIsgWATBIggWQbAIgkUQLIJgEQSLIFgEwSII\n",
       "FkGwCIJFECyCYBEEiyBYBMEiCBZBsAiCRRAsgmARhHcR+ldQ4zj2eh/eV9WNBe85YiywCIJFECyC\n",
       "YBEEiyBYBMEiCBZBsAiCRRAsgmARBIsgWATBIggWQbAIgkUQLIJgEQSLIFgEwSIIFkFMXsTlcsG3\n",
       "tzcUQqAQAsMwxI+Pj+6P73z/grmO3W7XeRf5uj1/oMdmAt4FVO3qBAb7bjUJKIbpxqheHwKb7B5Z\n",
       "9XMrXXedlFLC6XRq/NkWb3XEcrk0Skw50dvttvM3dz6fobXe8FUkwDBr66g7rm5DoqptJUZXRxRv\n",
       "sqouyPP8YfOzNE1vO8oCmG/gXLxW01ZWXnODSWKKMhaLBQIAKqWMJOjQ29w15QpvIrpsMVVsWfpu\n",
       "TTVaEa4TYpor6t730nwKIRA7/grZr1+/8HA4QNfjTK87mS72arUa9PyTESGltDq+7dcRvYno2jF6\n",
       "fX21ut7n52fj+97qCJNub9VxfesI3UMdVR2RZdnd9tbb7fY2jG7arNCmogQASJKk/k0fzaduDqMo\n",
       "wmLTCI6ayPKIM47jcXaxEb/nH/RNuxCRZVnlefRusVr66EQg1u/Q2OdcVUK1bJNzehWhI4qi2w13\n",
       "HUfo0OOQvmJ/1Or88txFFEWw3++NKtgfJcKGyfQsh4ZFECyCYBHEjxDx/v6OfWa37/Ddh7CJ4mSu\n",
       "7e7yk8wRy+UShRD48vLi7JyTEbFer28j1D9//ri/gO/s3RTFafi2qHvQYxreE1uOqoc7bWFbP4xG\n",
       "hFIKiwMv0wiCoPcgbVQi9IRJ1+iy7mG0IqoezppE23qJSYiomj16Vtn3LqJPpQcAKKU0ftI9WhF9\n",
       "Kz0Xzd8oRPSt9JIk8Zr4YvTuWb6/v/fq6fn+5ZBauljrW+lFUXTX3uspdv2e79xgVDSUUr0qvSAI\n",
       "MM/z2kQWZXx/HyMW0efb77JodEwynEiw6emVZfhoOmtFND0s0eGyp1eW0XUp8mAi6hI/ZE+vLCOO\n",
       "46fKeHih+LxQR1OlN6QMKeXTZDy8UOwcuRri2sh4ViX60KE6HA66fyHCMHz6/pthGAql1N1rXReh\n",
       "9+FBRHEliy/qZOz3++GElLPIZrPxUmubFpMhJmUq64ixRZWMIbrlk1gWcDqdKp9hoMM9hCfxXGM+\n",
       "n4vj8fjwustKdBIiAJplNC1JNGUyIgDqZcxmM7CVMSkRAPUybNdqT04EQLUM27Xa3ptHF02ri+Z0\n",
       "Es3nM5hk0RgCFkGwCIJFECyCYBEEiyBYBMEiCBZB/AfwvZJVz17/i6RpCr0Xd/20EEopnM1m1lan\n",
       "jJQS/g/oW6OZ1ejbqQAAAABJRU5ErkJggg==\n",
       "\" transform=\"translate(22, 490)\"/>\n",
       "</g>\n",
       "<g clip-path=\"url(#clip240)\">\n",
       "<text style=\"fill:#000000; fill-opacity:1; font-family:Arial,Helvetica Neue,Helvetica,sans-serif; font-size:66px; text-anchor:middle;\" transform=\"rotate(0, 1111.19, 57.6)\" x=\"1111.19\" y=\"57.6\">Convergence of inverse iteration</text>\n",
       "</g>\n",
       "<polyline clip-path=\"url(#clip242)\" style=\"stroke:#009af9; stroke-linecap:round; stroke-linejoin:round; stroke-width:8; stroke-opacity:1; fill:none\" points=\"317.255,172.581 373.965,231.666 430.674,242.589 487.384,279.885 544.093,306.23 600.802,337.686 657.512,366.943 714.221,397.166 770.931,426.972 827.64,456.959 884.35,486.868 941.059,516.81 997.769,546.738 1054.48,576.672 1111.19,606.603 1167.9,636.536 1224.61,666.468 1281.32,696.401 1338.03,726.333 1394.73,756.266 1451.44,786.196 1508.15,816.134 1564.86,846.05 1621.57,876.033 1678.28,905.813 1734.99,936.203 1791.7,964.785 1848.41,998.988 1905.12,1017.38 \"/>\n",
       "<path clip-path=\"url(#clip242)\" d=\"M317.255 184.581 L308.771 181.065 L305.255 172.581 L308.771 164.097 L317.255 160.581 L325.739 164.097 L329.255 172.581 L325.739 181.065 Z\" fill=\"#009af9\" fill-rule=\"evenodd\" fill-opacity=\"1\" stroke=\"#000000\" stroke-opacity=\"1\" stroke-width=\"2.56\"/>\n",
       "<path clip-path=\"url(#clip242)\" d=\"M373.965 243.666 L365.481 240.15 L361.965 231.666 L365.481 223.182 L373.965 219.666 L382.449 223.182 L385.965 231.666 L382.449 240.15 Z\" fill=\"#009af9\" fill-rule=\"evenodd\" fill-opacity=\"1\" stroke=\"#000000\" stroke-opacity=\"1\" stroke-width=\"2.56\"/>\n",
       "<path clip-path=\"url(#clip242)\" d=\"M430.674 254.589 L422.19 251.073 L418.674 242.589 L422.19 234.105 L430.674 230.589 L439.158 234.105 L442.674 242.589 L439.158 251.073 Z\" fill=\"#009af9\" fill-rule=\"evenodd\" fill-opacity=\"1\" stroke=\"#000000\" stroke-opacity=\"1\" stroke-width=\"2.56\"/>\n",
       "<path clip-path=\"url(#clip242)\" d=\"M487.384 291.885 L478.9 288.369 L475.384 279.885 L478.9 271.401 L487.384 267.885 L495.868 271.401 L499.384 279.885 L495.868 288.369 Z\" fill=\"#009af9\" fill-rule=\"evenodd\" fill-opacity=\"1\" stroke=\"#000000\" stroke-opacity=\"1\" stroke-width=\"2.56\"/>\n",
       "<path clip-path=\"url(#clip242)\" d=\"M544.093 318.23 L535.609 314.714 L532.093 306.23 L535.609 297.746 L544.093 294.23 L552.577 297.746 L556.093 306.23 L552.577 314.714 Z\" fill=\"#009af9\" fill-rule=\"evenodd\" fill-opacity=\"1\" stroke=\"#000000\" stroke-opacity=\"1\" stroke-width=\"2.56\"/>\n",
       "<path clip-path=\"url(#clip242)\" d=\"M600.802 349.686 L592.318 346.17 L588.802 337.686 L592.318 329.202 L600.802 325.686 L609.286 329.202 L612.802 337.686 L609.286 346.17 Z\" fill=\"#009af9\" fill-rule=\"evenodd\" fill-opacity=\"1\" stroke=\"#000000\" stroke-opacity=\"1\" stroke-width=\"2.56\"/>\n",
       "<path clip-path=\"url(#clip242)\" d=\"M657.512 378.943 L649.028 375.427 L645.512 366.943 L649.028 358.459 L657.512 354.943 L665.996 358.459 L669.512 366.943 L665.996 375.427 Z\" fill=\"#009af9\" fill-rule=\"evenodd\" fill-opacity=\"1\" stroke=\"#000000\" stroke-opacity=\"1\" stroke-width=\"2.56\"/>\n",
       "<path clip-path=\"url(#clip242)\" d=\"M714.221 409.166 L705.737 405.65 L702.221 397.166 L705.737 388.682 L714.221 385.166 L722.705 388.682 L726.221 397.166 L722.705 405.65 Z\" fill=\"#009af9\" fill-rule=\"evenodd\" fill-opacity=\"1\" stroke=\"#000000\" stroke-opacity=\"1\" stroke-width=\"2.56\"/>\n",
       "<path clip-path=\"url(#clip242)\" d=\"M770.931 438.972 L762.447 435.456 L758.931 426.972 L762.447 418.488 L770.931 414.972 L779.415 418.488 L782.931 426.972 L779.415 435.456 Z\" fill=\"#009af9\" fill-rule=\"evenodd\" fill-opacity=\"1\" stroke=\"#000000\" stroke-opacity=\"1\" stroke-width=\"2.56\"/>\n",
       "<path clip-path=\"url(#clip242)\" d=\"M827.64 468.959 L819.156 465.443 L815.64 456.959 L819.156 448.475 L827.64 444.959 L836.124 448.475 L839.64 456.959 L836.124 465.443 Z\" fill=\"#009af9\" fill-rule=\"evenodd\" fill-opacity=\"1\" stroke=\"#000000\" stroke-opacity=\"1\" stroke-width=\"2.56\"/>\n",
       "<path clip-path=\"url(#clip242)\" d=\"M884.35 498.868 L875.866 495.352 L872.35 486.868 L875.866 478.384 L884.35 474.868 L892.834 478.384 L896.35 486.868 L892.834 495.352 Z\" fill=\"#009af9\" fill-rule=\"evenodd\" fill-opacity=\"1\" stroke=\"#000000\" stroke-opacity=\"1\" stroke-width=\"2.56\"/>\n",
       "<path clip-path=\"url(#clip242)\" d=\"M941.059 528.81 L932.575 525.294 L929.059 516.81 L932.575 508.326 L941.059 504.81 L949.543 508.326 L953.059 516.81 L949.543 525.294 Z\" fill=\"#009af9\" fill-rule=\"evenodd\" fill-opacity=\"1\" stroke=\"#000000\" stroke-opacity=\"1\" stroke-width=\"2.56\"/>\n",
       "<path clip-path=\"url(#clip242)\" d=\"M997.769 558.738 L989.285 555.222 L985.769 546.738 L989.285 538.254 L997.769 534.738 L1006.25 538.254 L1009.77 546.738 L1006.25 555.222 Z\" fill=\"#009af9\" fill-rule=\"evenodd\" fill-opacity=\"1\" stroke=\"#000000\" stroke-opacity=\"1\" stroke-width=\"2.56\"/>\n",
       "<path clip-path=\"url(#clip242)\" d=\"M1054.48 588.672 L1045.99 585.156 L1042.48 576.672 L1045.99 568.188 L1054.48 564.672 L1062.96 568.188 L1066.48 576.672 L1062.96 585.156 Z\" fill=\"#009af9\" fill-rule=\"evenodd\" fill-opacity=\"1\" stroke=\"#000000\" stroke-opacity=\"1\" stroke-width=\"2.56\"/>\n",
       "<path clip-path=\"url(#clip242)\" d=\"M1111.19 618.603 L1102.7 615.087 L1099.19 606.603 L1102.7 598.119 L1111.19 594.603 L1119.67 598.119 L1123.19 606.603 L1119.67 615.087 Z\" fill=\"#009af9\" fill-rule=\"evenodd\" fill-opacity=\"1\" stroke=\"#000000\" stroke-opacity=\"1\" stroke-width=\"2.56\"/>\n",
       "<path clip-path=\"url(#clip242)\" d=\"M1167.9 648.536 L1159.41 645.02 L1155.9 636.536 L1159.41 628.052 L1167.9 624.536 L1176.38 628.052 L1179.9 636.536 L1176.38 645.02 Z\" fill=\"#009af9\" fill-rule=\"evenodd\" fill-opacity=\"1\" stroke=\"#000000\" stroke-opacity=\"1\" stroke-width=\"2.56\"/>\n",
       "<path clip-path=\"url(#clip242)\" d=\"M1224.61 678.468 L1216.12 674.952 L1212.61 666.468 L1216.12 657.984 L1224.61 654.468 L1233.09 657.984 L1236.61 666.468 L1233.09 674.952 Z\" fill=\"#009af9\" fill-rule=\"evenodd\" fill-opacity=\"1\" stroke=\"#000000\" stroke-opacity=\"1\" stroke-width=\"2.56\"/>\n",
       "<path clip-path=\"url(#clip242)\" d=\"M1281.32 708.401 L1272.83 704.885 L1269.32 696.401 L1272.83 687.917 L1281.32 684.401 L1289.8 687.917 L1293.32 696.401 L1289.8 704.885 Z\" fill=\"#009af9\" fill-rule=\"evenodd\" fill-opacity=\"1\" stroke=\"#000000\" stroke-opacity=\"1\" stroke-width=\"2.56\"/>\n",
       "<path clip-path=\"url(#clip242)\" d=\"M1338.03 738.333 L1329.54 734.817 L1326.03 726.333 L1329.54 717.849 L1338.03 714.333 L1346.51 717.849 L1350.03 726.333 L1346.51 734.817 Z\" fill=\"#009af9\" fill-rule=\"evenodd\" fill-opacity=\"1\" stroke=\"#000000\" stroke-opacity=\"1\" stroke-width=\"2.56\"/>\n",
       "<path clip-path=\"url(#clip242)\" d=\"M1394.73 768.266 L1386.25 764.75 L1382.73 756.266 L1386.25 747.782 L1394.73 744.266 L1403.22 747.782 L1406.73 756.266 L1403.22 764.75 Z\" fill=\"#009af9\" fill-rule=\"evenodd\" fill-opacity=\"1\" stroke=\"#000000\" stroke-opacity=\"1\" stroke-width=\"2.56\"/>\n",
       "<path clip-path=\"url(#clip242)\" d=\"M1451.44 798.196 L1442.96 794.68 L1439.44 786.196 L1442.96 777.712 L1451.44 774.196 L1459.93 777.712 L1463.44 786.196 L1459.93 794.68 Z\" fill=\"#009af9\" fill-rule=\"evenodd\" fill-opacity=\"1\" stroke=\"#000000\" stroke-opacity=\"1\" stroke-width=\"2.56\"/>\n",
       "<path clip-path=\"url(#clip242)\" d=\"M1508.15 828.134 L1499.67 824.618 L1496.15 816.134 L1499.67 807.65 L1508.15 804.134 L1516.64 807.65 L1520.15 816.134 L1516.64 824.618 Z\" fill=\"#009af9\" fill-rule=\"evenodd\" fill-opacity=\"1\" stroke=\"#000000\" stroke-opacity=\"1\" stroke-width=\"2.56\"/>\n",
       "<path clip-path=\"url(#clip242)\" d=\"M1564.86 858.05 L1556.38 854.534 L1552.86 846.05 L1556.38 837.566 L1564.86 834.05 L1573.35 837.566 L1576.86 846.05 L1573.35 854.534 Z\" fill=\"#009af9\" fill-rule=\"evenodd\" fill-opacity=\"1\" stroke=\"#000000\" stroke-opacity=\"1\" stroke-width=\"2.56\"/>\n",
       "<path clip-path=\"url(#clip242)\" d=\"M1621.57 888.033 L1613.09 884.517 L1609.57 876.033 L1613.09 867.549 L1621.57 864.033 L1630.06 867.549 L1633.57 876.033 L1630.06 884.517 Z\" fill=\"#009af9\" fill-rule=\"evenodd\" fill-opacity=\"1\" stroke=\"#000000\" stroke-opacity=\"1\" stroke-width=\"2.56\"/>\n",
       "<path clip-path=\"url(#clip242)\" d=\"M1678.28 917.813 L1669.8 914.297 L1666.28 905.813 L1669.8 897.329 L1678.28 893.813 L1686.77 897.329 L1690.28 905.813 L1686.77 914.297 Z\" fill=\"#009af9\" fill-rule=\"evenodd\" fill-opacity=\"1\" stroke=\"#000000\" stroke-opacity=\"1\" stroke-width=\"2.56\"/>\n",
       "<path clip-path=\"url(#clip242)\" d=\"M1734.99 948.203 L1726.51 944.687 L1722.99 936.203 L1726.51 927.719 L1734.99 924.203 L1743.48 927.719 L1746.99 936.203 L1743.48 944.687 Z\" fill=\"#009af9\" fill-rule=\"evenodd\" fill-opacity=\"1\" stroke=\"#000000\" stroke-opacity=\"1\" stroke-width=\"2.56\"/>\n",
       "<path clip-path=\"url(#clip242)\" d=\"M1791.7 976.785 L1783.22 973.269 L1779.7 964.785 L1783.22 956.301 L1791.7 952.785 L1800.19 956.301 L1803.7 964.785 L1800.19 973.269 Z\" fill=\"#009af9\" fill-rule=\"evenodd\" fill-opacity=\"1\" stroke=\"#000000\" stroke-opacity=\"1\" stroke-width=\"2.56\"/>\n",
       "<path clip-path=\"url(#clip242)\" d=\"M1848.41 1010.99 L1839.93 1007.47 L1836.41 998.988 L1839.93 990.504 L1848.41 986.988 L1856.89 990.504 L1860.41 998.988 L1856.89 1007.47 Z\" fill=\"#009af9\" fill-rule=\"evenodd\" fill-opacity=\"1\" stroke=\"#000000\" stroke-opacity=\"1\" stroke-width=\"2.56\"/>\n",
       "<path clip-path=\"url(#clip242)\" d=\"M1905.12 1029.38 L1896.64 1025.87 L1893.12 1017.38 L1896.64 1008.9 L1905.12 1005.38 L1913.6 1008.9 L1917.12 1017.38 L1913.6 1025.87 Z\" fill=\"#009af9\" fill-rule=\"evenodd\" fill-opacity=\"1\" stroke=\"#000000\" stroke-opacity=\"1\" stroke-width=\"2.56\"/>\n",
       "</svg>\n"
      ]
     },
     "execution_count": 4,
     "metadata": {},
     "output_type": "execute_result"
    }
   ],
   "source": [
    "err = @. abs(eigval - β)\n",
    "plot(0:28, err[1:end-1];\n",
    "    m=:o,  xlabel=L\"k\", \n",
    "    yaxis=(L\"|\\lambda_3-\\beta_k|\", :log10, [1e-16, 1]),\n",
    "    title=\"Convergence of inverse iteration\")"
   ]
  },
  {
   "cell_type": "markdown",
   "id": "7f54b414",
   "metadata": {},
   "source": [
    "The observed linear convergence rate is found from the data."
   ]
  },
  {
   "cell_type": "code",
   "execution_count": 5,
   "id": "47fb90a1",
   "metadata": {
    "execution": {
     "iopub.execute_input": "2025-01-05T13:47:41.376000Z",
     "iopub.status.busy": "2025-01-05T13:47:41.376000Z",
     "iopub.status.idle": "2025-01-05T13:47:41.915000Z",
     "shell.execute_reply": "2025-01-05T13:47:41.915000Z"
    }
   },
   "outputs": [
    {
     "name": "stdout",
     "output_type": "stream",
     "text": [
      "observed_rate = err[22] / err[21] = 0.333266963120285"
     ]
    },
    {
     "name": "stdout",
     "output_type": "stream",
     "text": [
      "\n"
     ]
    }
   ],
   "source": [
    "@show observed_rate = err[22] / err[21];"
   ]
  },
  {
   "cell_type": "markdown",
   "id": "67f5a826",
   "metadata": {},
   "source": [
    "```{index} ! Julia; sortperm\n",
    "```\n",
    "\n",
    "We reorder the eigenvalues to enforce {eq}`shiftorder`.\n",
    "```{tip}\n",
    ":class: dropdown\n",
    "The `sortperm` function returns the index permutation needed to sort the given vector, rather than the sorted vector itself.\n",
    "```"
   ]
  },
  {
   "cell_type": "code",
   "execution_count": 6,
   "id": "9558dcdc",
   "metadata": {
    "execution": {
     "iopub.execute_input": "2025-01-05T13:47:41.917000Z",
     "iopub.status.busy": "2025-01-05T13:47:41.917000Z",
     "iopub.status.idle": "2025-01-05T13:47:42.152000Z",
     "shell.execute_reply": "2025-01-05T13:47:42.152000Z"
    }
   },
   "outputs": [
    {
     "data": {
      "text/plain": [
       "5-element Vector{Float64}:\n",
       "  0.6\n",
       "  1.0\n",
       "  0.0\n",
       " -0.4\n",
       " -0.75"
      ]
     },
     "execution_count": 6,
     "metadata": {},
     "output_type": "execute_result"
    }
   ],
   "source": [
    "λ = λ[sortperm(abs.(λ .- s))]"
   ]
  },
  {
   "cell_type": "markdown",
   "id": "7badc5a9",
   "metadata": {},
   "source": [
    "Hence the theoretical convergence rate is"
   ]
  },
  {
   "cell_type": "code",
   "execution_count": 7,
   "id": "dd6aac3c",
   "metadata": {
    "execution": {
     "iopub.execute_input": "2025-01-05T13:47:42.154000Z",
     "iopub.status.busy": "2025-01-05T13:47:42.154000Z",
     "iopub.status.idle": "2025-01-05T13:47:42.155000Z",
     "shell.execute_reply": "2025-01-05T13:47:42.155000Z"
    }
   },
   "outputs": [
    {
     "name": "stdout",
     "output_type": "stream",
     "text": [
      "theoretical_rate = (λ[1] - s) / (λ[2] - s) = -0.3333333333333332\n"
     ]
    }
   ],
   "source": [
    "@show theoretical_rate = (λ[1] - s) / (λ[2] - s);"
   ]
  }
 ],
 "metadata": {
  "kernelspec": {
   "display_name": "Julia 1",
   "language": "julia",
   "name": "julia-1.11"
  },
  "language_info": {
   "file_extension": ".jl",
   "mimetype": "application/julia",
   "name": "julia",
   "version": "1.11.2"
  },
  "numbering": {
   "headings": false
  }
 },
 "nbformat": 4,
 "nbformat_minor": 5
}
