{
 "cells": [
  {
   "cell_type": "code",
   "execution_count": 1,
   "id": "6d0459b8",
   "metadata": {
    "execution": {
     "iopub.execute_input": "2025-01-11T18:52:00.998095Z",
     "iopub.status.busy": "2025-01-11T18:52:00.997948Z",
     "iopub.status.idle": "2025-01-11T18:52:01.001703Z",
     "shell.execute_reply": "2025-01-11T18:52:01.000465Z"
    },
    "tags": [
     "remove-cell"
    ]
   },
   "outputs": [],
   "source": [
    "cd  /Users/driscoll/Documents/GitHub/fnc/matlab\n",
    "FNC_init"
   ]
  },
  {
   "cell_type": "markdown",
   "id": "d7baf760",
   "metadata": {},
   "source": [
    "[**Demo %s**](#demo-float-accuracy)\n",
    "\n",
    ":::{tip} Getting started in MATLAB\n",
    ":class: dropdown\n",
    "See @section-setup-matlab for instructions on how to install functions for MATLAB for this book.\n",
    ":::\n",
    "\n",
    "Recall the grade-school approximation to the number $\\pi$.\n",
    "\n",
    "```{index} MATLAB; format\n",
    "```\n",
    "\n",
    "```{tip}\n",
    ":class: dropdown\n",
    "The number of digits displayed is controlled by `format`, but the underlying values are not affected by it.\n",
    "```"
   ]
  },
  {
   "cell_type": "code",
   "execution_count": 2,
   "id": "445cc6d5",
   "metadata": {
    "execution": {
     "iopub.execute_input": "2025-01-11T18:52:01.004311Z",
     "iopub.status.busy": "2025-01-11T18:52:01.004160Z",
     "iopub.status.idle": "2025-01-11T18:52:01.006656Z",
     "shell.execute_reply": "2025-01-11T18:52:01.006258Z"
    }
   },
   "outputs": [
    {
     "data": {
      "text/html": [
       "<html><body><pre>p = \n",
       "   3.142857142857143\n",
       "</pre></body></html>"
      ],
      "text/plain": [
       "p = \n",
       "   3.142857142857143\n"
      ]
     },
     "execution_count": 2,
     "metadata": {},
     "output_type": "execute_result"
    }
   ],
   "source": [
    "format long\n",
    "p = 22/7"
   ]
  },
  {
   "cell_type": "markdown",
   "id": "04844719",
   "metadata": {},
   "source": [
    "Not all the digits displayed for `p` are the same as those of $\\pi$. \n",
    "\n",
    "```{tip}\n",
    ":class: dropdown\n",
    "The value of `pi` is predefined.\n",
    "```\n",
    "\n",
    "The absolute and relative accuracies of the approximation are as follows."
   ]
  },
  {
   "cell_type": "code",
   "execution_count": 3,
   "id": "58758c93",
   "metadata": {
    "execution": {
     "iopub.execute_input": "2025-01-11T18:52:01.008629Z",
     "iopub.status.busy": "2025-01-11T18:52:01.008529Z",
     "iopub.status.idle": "2025-01-11T18:52:01.010257Z",
     "shell.execute_reply": "2025-01-11T18:52:01.010006Z"
    }
   },
   "outputs": [
    {
     "data": {
      "text/html": [
       "<html><body><pre>abs_accuracy = \n",
       "   0.001264489267350\n",
       "</pre></body></html>"
      ],
      "text/plain": [
       "abs_accuracy = \n",
       "   0.001264489267350\n"
      ]
     },
     "execution_count": 3,
     "metadata": {},
     "output_type": "execute_result"
    },
    {
     "data": {
      "text/html": [
       "<html><body><pre>rel_accuracy = \n",
       "     4.024994347707008e-04\n",
       "</pre></body></html>"
      ],
      "text/plain": [
       "rel_accuracy = \n",
       "     4.024994347707008e-04\n"
      ]
     },
     "execution_count": 3,
     "metadata": {},
     "output_type": "execute_result"
    }
   ],
   "source": [
    "abs_accuracy = abs(p - pi)\n",
    "rel_accuracy = abs(p - pi) / pi"
   ]
  },
  {
   "cell_type": "markdown",
   "id": "fba5c69e",
   "metadata": {},
   "source": [
    "Here we calculate the number of accurate digits in `p`.\n",
    "```{tip}\n",
    ":class: dropdown\n",
    "The `log` function is for the natural log. For other common bases, use `log10` or `log2`.\n",
    "```"
   ]
  },
  {
   "cell_type": "code",
   "execution_count": 4,
   "id": "f7ada96d",
   "metadata": {
    "execution": {
     "iopub.execute_input": "2025-01-11T18:52:01.011394Z",
     "iopub.status.busy": "2025-01-11T18:52:01.011337Z",
     "iopub.status.idle": "2025-01-11T18:52:01.013333Z",
     "shell.execute_reply": "2025-01-11T18:52:01.013144Z"
    }
   },
   "outputs": [
    {
     "data": {
      "text/html": [
       "<html><body><pre>accurate_digits = 3.3952</pre></body></html>"
      ],
      "text/plain": [
       "accurate_digits = 3.3952"
      ]
     },
     "execution_count": 4,
     "metadata": {},
     "output_type": "execute_result"
    }
   ],
   "source": [
    "format short\n",
    "accurate_digits = -log10(rel_accuracy)"
   ]
  }
 ],
 "metadata": {
  "kernelspec": {
   "display_name": "MATLAB Kernel",
   "language": "matlab",
   "name": "jupyter_matlab_kernel"
  },
  "language_info": {
   "file_extension": ".m",
   "mimetype": "text/x-matlab",
   "name": "matlab"
  },
  "numbering": {
   "headings": false
  }
 },
 "nbformat": 4,
 "nbformat_minor": 5
}
