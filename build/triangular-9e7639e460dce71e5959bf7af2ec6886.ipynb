{
    "cells": [
        {
            "cell_type": "markdown",
            "source": [
                "[**Demo %s**](#demo-systems-triangular)\n",
                "\n",
                "```{index} ! MATLAB; tril, ! MATLAB; triu\n",
                "```\n",
                "\n",
                "It's easy to get just the lower triangular part of any matrix using the `tril` function.\n",
                "```{tip}\n",
                ":class: dropdown\n",
                "Use `tril` to return a matrix that zeros out everything above the main diagonal. The `triu` function zeros out below the diagonal.\n",
                "```"
            ],
            "id": "11682146",
            "metadata": {}
        },
        {
            "outputs": [
                {
                    "output_type": "execute_result",
                    "data": {
                        "text/plain": [
                            "L = 5×5 double\n",
                            "     9     0     0     0     0\n",
                            "     9     8     0     0     0\n",
                            "     8     7     7     0     0\n",
                            "     3     3     4     2     0\n",
                            "     9     6     1     4     2\n"
                        ],
                        "text/html": [
                            "<html><body><pre>L = 5×5 double\n",
                            "     9     0     0     0     0\n",
                            "     9     8     0     0     0\n",
                            "     8     7     7     0     0\n",
                            "     3     3     4     2     0\n",
                            "     9     6     1     4     2\n",
                            "</pre></body></html>"
                        ]
                    },
                    "metadata": {},
                    "execution_count": 2
                }
            ],
            "cell_type": "code",
            "source": [
                "A = randi(9, 5, 5);\n",
                "L = tril(A)"
            ],
            "id": "8a4b71f2",
            "metadata": {},
            "execution_count": 2
        },
        {
            "cell_type": "markdown",
            "source": [
                "We'll set up and solve a linear system with this matrix."
            ],
            "id": "6e33423d",
            "metadata": {}
        },
        {
            "outputs": [
                {
                    "output_type": "execute_result",
                    "data": {
                        "text/plain": [
                            "x = 5×1 double\n",
                            "    0.1111\n",
                            "         0\n",
                            "    0.0159\n",
                            "    0.3016\n",
                            "   -0.6111\n"
                        ],
                        "text/html": [
                            "<html><body><pre>x = 5×1 double\n",
                            "    0.1111\n",
                            "         0\n",
                            "    0.0159\n",
                            "    0.3016\n",
                            "   -0.6111\n",
                            "</pre></body></html>"
                        ]
                    },
                    "metadata": {},
                    "execution_count": 3
                }
            ],
            "cell_type": "code",
            "source": [
                "b = ones(5);\n",
                "x = forwardsub(L, b)"
            ],
            "id": "f0253809",
            "metadata": {},
            "execution_count": 3
        },
        {
            "cell_type": "markdown",
            "source": [
                "```{index} residual\n",
                "```\n",
                "\n",
                "It's not clear how accurate this answer is. However, the residual should be zero or comparable to $\\macheps$."
            ],
            "id": "1e59f4c9",
            "metadata": {}
        },
        {
            "outputs": [
                {
                    "output_type": "execute_result",
                    "data": {
                        "text/plain": [
                            "ans = 5×5 double\n",
                            "     0     0     0     0     0\n",
                            "     0     0     0     0     0\n",
                            "     0     0     0     0     0\n",
                            "     0     0     0     0     0\n",
                            "     0     0     0     0     0\n"
                        ],
                        "text/html": [
                            "<html><body><pre>ans = 5×5 double\n",
                            "     0     0     0     0     0\n",
                            "     0     0     0     0     0\n",
                            "     0     0     0     0     0\n",
                            "     0     0     0     0     0\n",
                            "     0     0     0     0     0\n",
                            "</pre></body></html>"
                        ]
                    },
                    "metadata": {},
                    "execution_count": 4
                }
            ],
            "cell_type": "code",
            "source": [
                "b - L * x"
            ],
            "id": "2b111da7",
            "metadata": {},
            "execution_count": 4
        },
        {
            "cell_type": "markdown",
            "source": [
                "```{index} ! MATLAB; diag, ! MATLAB; eye\n",
                "```\n",
                "\n",
                "Next, we'll engineer a problem to which we know the exact answer. \n",
                "```{tip}\n",
                ":class: dropdown\n",
                "The `eye` function creates an identity matrix. The `diag` function uses 0 as the main diagonal, positive integers as superdiagonals, and negative integers as subdiagonals.\n",
                "```"
            ],
            "id": "e82bb1b5",
            "metadata": {}
        },
        {
            "outputs": [
                {
                    "output_type": "execute_result",
                    "data": {
                        "text/plain": [
                            "U = 5×5 double\n",
                            "    1.0000   -1.0000         0   -1.9000    2.2000\n",
                            "         0    1.0000   -1.0000         0         0\n",
                            "         0         0    1.0000   -1.0000         0\n",
                            "         0         0         0    1.0000   -1.0000\n",
                            "         0         0         0         0    1.0000\n"
                        ],
                        "text/html": [
                            "<html><body><pre>U = 5×5 double\n",
                            "    1.0000   -1.0000         0   -1.9000    2.2000\n",
                            "         0    1.0000   -1.0000         0         0\n",
                            "         0         0    1.0000   -1.0000         0\n",
                            "         0         0         0    1.0000   -1.0000\n",
                            "         0         0         0         0    1.0000\n",
                            "</pre></body></html>"
                        ]
                    },
                    "metadata": {},
                    "execution_count": 5
                }
            ],
            "cell_type": "code",
            "source": [
                "alpha = 0.3;\n",
                "beta = 2.2;\n",
                "U = eye(5) + diag([-1 -1 -1 -1], 1);\n",
                "U(1, [4, 5]) = [alpha - beta, beta]"
            ],
            "id": "23bf6f50",
            "metadata": {},
            "execution_count": 5
        },
        {
            "outputs": [],
            "cell_type": "code",
            "source": [
                "x_exact = ones(5);\n",
                "b = [alpha; 0; 0; 0; 1];"
            ],
            "id": "e1318243",
            "metadata": {},
            "execution_count": 6
        },
        {
            "cell_type": "markdown",
            "source": [
                "Now we use backward substitution to solve for $\\mathbf{x}$, and compare to the exact solution we know already."
            ],
            "id": "b16b9340",
            "metadata": {}
        },
        {
            "outputs": [
                {
                    "output_type": "execute_result",
                    "data": {
                        "text/plain": [
                            "err = 5×5 double\n",
                            "     0     0     0     0     0\n",
                            "     0     0     0     0     0\n",
                            "     0     0     0     0     0\n",
                            "     0     0     0     0     0\n",
                            "     0     0     0     0     0\n"
                        ],
                        "text/html": [
                            "<html><body><pre>err = 5×5 double\n",
                            "     0     0     0     0     0\n",
                            "     0     0     0     0     0\n",
                            "     0     0     0     0     0\n",
                            "     0     0     0     0     0\n",
                            "     0     0     0     0     0\n",
                            "</pre></body></html>"
                        ]
                    },
                    "metadata": {},
                    "execution_count": 7
                }
            ],
            "cell_type": "code",
            "source": [
                "x = backsub(U, b);\n",
                "err = x - x_exact"
            ],
            "id": "8b850cd4",
            "metadata": {},
            "execution_count": 7
        },
        {
            "cell_type": "markdown",
            "source": [
                "Everything seems OK here. But another example, with a different value for $\\beta$, is more troubling."
            ],
            "id": "bb0681a9",
            "metadata": {}
        },
        {
            "outputs": [
                {
                    "output_type": "execute_result",
                    "data": {
                        "text/plain": [
                            "err = 5×5 double\n",
                            "1.0e-04 *\n",
                            "\n",
                            "   -0.4883   -0.4883   -0.4883   -0.4883   -0.4883\n",
                            "         0         0         0         0         0\n",
                            "         0         0         0         0         0\n",
                            "         0         0         0         0         0\n",
                            "         0         0         0         0         0\n"
                        ],
                        "text/html": [
                            "<html><body><pre>err = 5×5 double\n",
                            "1.0e-04 *\n",
                            "\n",
                            "   -0.4883   -0.4883   -0.4883   -0.4883   -0.4883\n",
                            "         0         0         0         0         0\n",
                            "         0         0         0         0         0\n",
                            "         0         0         0         0         0\n",
                            "         0         0         0         0         0\n",
                            "</pre></body></html>"
                        ]
                    },
                    "metadata": {},
                    "execution_count": 8
                }
            ],
            "cell_type": "code",
            "source": [
                "alpha = 0.3;\n",
                "beta = 1e12;\n",
                "U = eye(5) + diag([-1 -1 -1 -1], 1);\n",
                "U(1, [4, 5]) = [alpha - beta, beta];\n",
                "b = [alpha; 0; 0; 0; 1];\n",
                "\n",
                "x = backsub(U, b);\n",
                "err = x - x_exact"
            ],
            "id": "de21df5a",
            "metadata": {},
            "execution_count": 8
        },
        {
            "cell_type": "markdown",
            "source": [
                "It's not so good to get 4 digits of accuracy after starting with sixteen! The source of the error is not hard to track down. Solving for $x_1$ performs $(\\alpha-\\beta)+\\beta$ in the first row. Since $|\\alpha|$ is so much smaller than $|\\beta|$, this a recipe for losing digits to subtractive cancellation."
            ],
            "id": "c7bc26d0",
            "metadata": {}
        }
    ],
    "nbformat_minor": 5,
    "metadata": {
        "language_info": {
            "file_extension": ".m",
            "mimetype": "text/x-matlab",
            "name": "matlab"
        },
        "kernelspec": {
            "name": "jupyter_matlab_kernel",
            "display_name": "MATLAB Kernel",
            "language": "matlab"
        },
        "numbering": {
            "headings": false
        }
    },
    "nbformat": 4
}
