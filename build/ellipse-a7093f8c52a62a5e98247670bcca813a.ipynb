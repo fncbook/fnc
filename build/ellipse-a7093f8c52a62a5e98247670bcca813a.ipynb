{
 "cells": [
  {
   "cell_type": "code",
   "execution_count": 1,
   "id": "388d9026",
   "metadata": {
    "execution": {
     "iopub.execute_input": "2025-01-05T14:18:24.289000Z",
     "iopub.status.busy": "2025-01-05T14:18:23.616000Z",
     "iopub.status.idle": "2025-01-05T14:18:31.982000Z",
     "shell.execute_reply": "2025-01-05T14:18:31.924000Z"
    },
    "tags": [
     "remove-cell"
    ]
   },
   "outputs": [
    {
     "name": "stderr",
     "output_type": "stream",
     "text": [
      "\u001b[32m\u001b[1m  Activating\u001b[22m\u001b[39m "
     ]
    },
    {
     "name": "stderr",
     "output_type": "stream",
     "text": [
      "project at `~/Documents/GitHub/fnc`\n"
     ]
    }
   ],
   "source": [
    "include(\"../../../julia/FNC_init.jl\")"
   ]
  },
  {
   "cell_type": "markdown",
   "id": "bb2d77da",
   "metadata": {},
   "source": [
    "[**Demo %s**](#demo-integration-ellipse)"
   ]
  },
  {
   "cell_type": "code",
   "execution_count": 2,
   "id": "4776f3df",
   "metadata": {
    "execution": {
     "iopub.execute_input": "2025-01-05T14:18:32.131000Z",
     "iopub.status.busy": "2025-01-05T14:18:31.984000Z",
     "iopub.status.idle": "2025-01-05T14:18:33.176000Z",
     "shell.execute_reply": "2025-01-05T14:18:33.176000Z"
    }
   },
   "outputs": [
    {
     "data": {
      "text/html": [
       "<table>\n",
       "  <thead>\n",
       "    <tr class = \"header headerLastRow\">\n",
       "      <th style = \"text-align: right;\">n</th>\n",
       "      <th style = \"text-align: right;\">perimeter</th>\n",
       "      <th style = \"text-align: right;\">error estimate</th>\n",
       "    </tr>\n",
       "  </thead>\n",
       "  <tbody>\n",
       "    <tr>\n",
       "      <td style = \"text-align: right;\">4</td>\n",
       "      <td style = \"text-align: right;\">4.712388980384690</td>\n",
       "      <td style = \"text-align: right;\">1.32e-01</td>\n",
       "    </tr>\n",
       "    <tr>\n",
       "      <td style = \"text-align: right;\">8</td>\n",
       "      <td style = \"text-align: right;\">4.839841556641369</td>\n",
       "      <td style = \"text-align: right;\">4.38e-03</td>\n",
       "    </tr>\n",
       "    <tr>\n",
       "      <td style = \"text-align: right;\">12</td>\n",
       "      <td style = \"text-align: right;\">4.843970706995739</td>\n",
       "      <td style = \"text-align: right;\">2.53e-04</td>\n",
       "    </tr>\n",
       "    <tr>\n",
       "      <td style = \"text-align: right;\">16</td>\n",
       "      <td style = \"text-align: right;\">4.844206195096973</td>\n",
       "      <td style = \"text-align: right;\">1.79e-05</td>\n",
       "    </tr>\n",
       "    <tr>\n",
       "      <td style = \"text-align: right;\">20</td>\n",
       "      <td style = \"text-align: right;\">4.844222702956356</td>\n",
       "      <td style = \"text-align: right;\">1.41e-06</td>\n",
       "    </tr>\n",
       "    <tr>\n",
       "      <td style = \"text-align: right;\">24</td>\n",
       "      <td style = \"text-align: right;\">4.844223992261425</td>\n",
       "      <td style = \"text-align: right;\">1.18e-07</td>\n",
       "    </tr>\n",
       "    <tr>\n",
       "      <td style = \"text-align: right;\">28</td>\n",
       "      <td style = \"text-align: right;\">4.844224099926927</td>\n",
       "      <td style = \"text-align: right;\">1.03e-08</td>\n",
       "    </tr>\n",
       "    <tr>\n",
       "      <td style = \"text-align: right;\">32</td>\n",
       "      <td style = \"text-align: right;\">4.844224109336828</td>\n",
       "      <td style = \"text-align: right;\">9.37e-10</td>\n",
       "    </tr>\n",
       "    <tr>\n",
       "      <td style = \"text-align: right;\">36</td>\n",
       "      <td style = \"text-align: right;\">4.844224110186872</td>\n",
       "      <td style = \"text-align: right;\">8.69e-11</td>\n",
       "    </tr>\n",
       "    <tr>\n",
       "      <td style = \"text-align: right;\">40</td>\n",
       "      <td style = \"text-align: right;\">4.844224110265611</td>\n",
       "      <td style = \"text-align: right;\">8.15e-12</td>\n",
       "    </tr>\n",
       "    <tr>\n",
       "      <td style = \"text-align: right;\">44</td>\n",
       "      <td style = \"text-align: right;\">4.844224110273047</td>\n",
       "      <td style = \"text-align: right;\">7.13e-13</td>\n",
       "    </tr>\n",
       "  </tbody>\n",
       "</table>\n"
      ]
     },
     "metadata": {},
     "output_type": "display_data"
    }
   ],
   "source": [
    "f(t) = π * sqrt( cospi(t)^2 + sinpi(t)^2 / 4 );\n",
    "n = 4:4:48\n",
    "perim = zeros(size(n))\n",
    "for (k, n) in enumerate(n)\n",
    "    h = 2 / n\n",
    "    t = @. h * (0:n-1) - 1\n",
    "    perim[k] = h * sum(f.(t))\n",
    "end\n",
    "err = @. abs(perim - perim[end])    # use last value as \"exact\"\n",
    "@ptconf formatters=ft_printf([\"%d\", \"%.15f\", \"%.2e\"], 1:3)\n",
    "@pt :header=[\"n\", \"perimeter\", \"error estimate\"] [n perim err][1:end-1, :]"
   ]
  },
  {
   "cell_type": "markdown",
   "id": "463ba19f",
   "metadata": {},
   "source": [
    "The approximations gain about one digit of accuracy for each constant increment of $n$, which is consistent with spectral convergence."
   ]
  }
 ],
 "metadata": {
  "kernelspec": {
   "display_name": "Julia 1",
   "language": "julia",
   "name": "julia-1.11"
  },
  "language_info": {
   "file_extension": ".jl",
   "mimetype": "application/julia",
   "name": "julia",
   "version": "1.11.2"
  },
  "numbering": {
   "headings": false
  }
 },
 "nbformat": 4,
 "nbformat_minor": 5
}
