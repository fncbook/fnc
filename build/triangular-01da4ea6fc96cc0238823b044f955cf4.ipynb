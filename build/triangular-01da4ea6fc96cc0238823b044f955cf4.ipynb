{
 "cells": [
  {
   "cell_type": "code",
   "execution_count": 1,
   "id": "c7da283d",
   "metadata": {
    "execution": {
     "iopub.execute_input": "2025-01-05T09:31:02.190000Z",
     "iopub.status.busy": "2025-01-05T09:31:01.879000Z",
     "iopub.status.idle": "2025-01-05T09:31:08.696000Z",
     "shell.execute_reply": "2025-01-05T09:31:08.645000Z"
    }
   },
   "outputs": [
    {
     "name": "stderr",
     "output_type": "stream",
     "text": [
      "\u001b[32m\u001b[1m  Activating\u001b[22m\u001b[39m "
     ]
    },
    {
     "name": "stderr",
     "output_type": "stream",
     "text": [
      "project at `~/Documents/GitHub/fnc`\n"
     ]
    }
   ],
   "source": [
    "include(\"../../../julia/FNC_init.jl\")"
   ]
  },
  {
   "cell_type": "markdown",
   "id": "e70b3108",
   "metadata": {},
   "source": [
    "[**Demo %s**](#demo-systems-triangular)\n",
    "\n",
    "```{index} ! Julia; tril, ! Julia; triu\n",
    "```\n",
    "\n",
    "It's easy to get just the lower triangular part of any matrix using the `tril` function.\n",
    "```{tip}\n",
    ":class: dropdown\n",
    "Use `tril` to return a matrix that zeros out everything above the main diagonal. The `triu` function zeros out below the diagonal.\n",
    "```"
   ]
  },
  {
   "cell_type": "code",
   "execution_count": 2,
   "id": "4a51e671",
   "metadata": {
    "execution": {
     "iopub.execute_input": "2025-01-05T09:31:08.847000Z",
     "iopub.status.busy": "2025-01-05T09:31:08.698000Z",
     "iopub.status.idle": "2025-01-05T09:31:10.056000Z",
     "shell.execute_reply": "2025-01-05T09:31:10.056000Z"
    }
   },
   "outputs": [
    {
     "data": {
      "text/plain": [
       "5×5 Matrix{Float64}:\n",
       " 4.0  0.0  0.0  0.0  0.0\n",
       " 9.0  9.0  0.0  0.0  0.0\n",
       " 7.0  8.0  5.0  0.0  0.0\n",
       " 7.0  2.0  3.0  5.0  0.0\n",
       " 8.0  7.0  1.0  4.0  9.0"
      ]
     },
     "execution_count": 2,
     "metadata": {},
     "output_type": "execute_result"
    }
   ],
   "source": [
    "A = rand(1.:9., 5, 5)\n",
    "L = tril(A)"
   ]
  },
  {
   "cell_type": "markdown",
   "id": "15d8fa7f",
   "metadata": {},
   "source": [
    "We'll set up and solve a linear system with this matrix."
   ]
  },
  {
   "cell_type": "code",
   "execution_count": 3,
   "id": "e0d5bd2f",
   "metadata": {
    "execution": {
     "iopub.execute_input": "2025-01-05T09:31:10.058000Z",
     "iopub.status.busy": "2025-01-05T09:31:10.058000Z",
     "iopub.status.idle": "2025-01-05T09:31:10.282000Z",
     "shell.execute_reply": "2025-01-05T09:31:10.282000Z"
    }
   },
   "outputs": [
    {
     "data": {
      "text/plain": [
       "5-element Vector{Float64}:\n",
       "  0.25\n",
       " -0.1388888888888889\n",
       "  0.07222222222222223\n",
       " -0.13777777777777783\n",
       "  0.0501234567901235"
      ]
     },
     "execution_count": 3,
     "metadata": {},
     "output_type": "execute_result"
    }
   ],
   "source": [
    "b = ones(5)\n",
    "x = FNC.forwardsub(L,b)"
   ]
  },
  {
   "cell_type": "markdown",
   "id": "9797356d",
   "metadata": {},
   "source": [
    "It's not clear how accurate this answer is. However, the residual should be zero or comparable to $\\macheps$."
   ]
  },
  {
   "cell_type": "code",
   "execution_count": 4,
   "id": "652d5c37",
   "metadata": {
    "execution": {
     "iopub.execute_input": "2025-01-05T09:31:10.284000Z",
     "iopub.status.busy": "2025-01-05T09:31:10.284000Z",
     "iopub.status.idle": "2025-01-05T09:31:10.285000Z",
     "shell.execute_reply": "2025-01-05T09:31:10.285000Z"
    }
   },
   "outputs": [
    {
     "data": {
      "text/plain": [
       "5-element Vector{Float64}:\n",
       " 0.0\n",
       " 0.0\n",
       " 0.0\n",
       " 0.0\n",
       " 0.0"
      ]
     },
     "execution_count": 4,
     "metadata": {},
     "output_type": "execute_result"
    }
   ],
   "source": [
    "b - L * x"
   ]
  },
  {
   "cell_type": "markdown",
   "id": "f8105e67",
   "metadata": {},
   "source": [
    "```{index} ! Julia; Pair, Julia; diagm\n",
    "```\n",
    "\n",
    "Next we'll engineer a problem to which we know the exact answer. Use `\\alpha` <kbd>Tab</kbd> and `\\beta` <kbd>Tab</kbd> to get the Greek letters.\n",
    "```{tip}\n",
    ":class: dropdown\n",
    "The notation `0=>ones(5)` creates a `Pair`. In `diagm`, pairs indicate the position of a diagonal and the elements that are to be placed on it.\n",
    "```"
   ]
  },
  {
   "cell_type": "code",
   "execution_count": 5,
   "id": "7ba3c218",
   "metadata": {
    "execution": {
     "iopub.execute_input": "2025-01-05T09:31:10.286000Z",
     "iopub.status.busy": "2025-01-05T09:31:10.286000Z",
     "iopub.status.idle": "2025-01-05T09:31:10.408000Z",
     "shell.execute_reply": "2025-01-05T09:31:10.408000Z"
    }
   },
   "outputs": [
    {
     "data": {
      "text/plain": [
       "5×5 Matrix{Float64}:\n",
       " 1.0  -1.0   0.0  -1.9   2.2\n",
       " 0.0   1.0  -1.0   0.0   0.0\n",
       " 0.0   0.0   1.0  -1.0   0.0\n",
       " 0.0   0.0   0.0   1.0  -1.0\n",
       " 0.0   0.0   0.0   0.0   1.0"
      ]
     },
     "execution_count": 5,
     "metadata": {},
     "output_type": "execute_result"
    }
   ],
   "source": [
    "α = 0.3;\n",
    "β = 2.2;\n",
    "U = diagm( 0=>ones(5), 1=>[-1, -1, -1, -1] )\n",
    "U[1, [4, 5]] = [ α - β, β ]\n",
    "U"
   ]
  },
  {
   "cell_type": "code",
   "execution_count": 6,
   "id": "95304747",
   "metadata": {
    "execution": {
     "iopub.execute_input": "2025-01-05T09:31:10.410000Z",
     "iopub.status.busy": "2025-01-05T09:31:10.410000Z",
     "iopub.status.idle": "2025-01-05T09:31:10.430000Z",
     "shell.execute_reply": "2025-01-05T09:31:10.430000Z"
    }
   },
   "outputs": [
    {
     "data": {
      "text/plain": [
       "5-element Vector{Float64}:\n",
       " 0.3\n",
       " 0.0\n",
       " 0.0\n",
       " 0.0\n",
       " 1.0"
      ]
     },
     "execution_count": 6,
     "metadata": {},
     "output_type": "execute_result"
    }
   ],
   "source": [
    "x_exact = ones(5)\n",
    "b = [α, 0, 0, 0, 1]"
   ]
  },
  {
   "cell_type": "markdown",
   "id": "9aeac374",
   "metadata": {},
   "source": [
    "Now we use backward substitution to solve for $\\mathbf{x}$, and compare to the exact solution we know already."
   ]
  },
  {
   "cell_type": "code",
   "execution_count": 7,
   "id": "f38da418",
   "metadata": {
    "execution": {
     "iopub.execute_input": "2025-01-05T09:31:10.431000Z",
     "iopub.status.busy": "2025-01-05T09:31:10.431000Z",
     "iopub.status.idle": "2025-01-05T09:31:10.460000Z",
     "shell.execute_reply": "2025-01-05T09:31:10.460000Z"
    }
   },
   "outputs": [
    {
     "data": {
      "text/plain": [
       "5-element Vector{Float64}:\n",
       " 2.220446049250313e-16\n",
       " 0.0\n",
       " 0.0\n",
       " 0.0\n",
       " 0.0"
      ]
     },
     "execution_count": 7,
     "metadata": {},
     "output_type": "execute_result"
    }
   ],
   "source": [
    "x = FNC.backsub(U,b)\n",
    "err = x - x_exact"
   ]
  },
  {
   "cell_type": "markdown",
   "id": "8463d595",
   "metadata": {},
   "source": [
    "Everything seems OK here. But another example, with a different value for $\\beta$, is more troubling."
   ]
  },
  {
   "cell_type": "code",
   "execution_count": 8,
   "id": "a1eca46b",
   "metadata": {
    "execution": {
     "iopub.execute_input": "2025-01-05T09:31:10.462000Z",
     "iopub.status.busy": "2025-01-05T09:31:10.462000Z",
     "iopub.status.idle": "2025-01-05T09:31:10.464000Z",
     "shell.execute_reply": "2025-01-05T09:31:10.464000Z"
    }
   },
   "outputs": [
    {
     "data": {
      "text/plain": [
       "5-element Vector{Float64}:\n",
       " -4.882812499995559e-5\n",
       "  0.0\n",
       "  0.0\n",
       "  0.0\n",
       "  0.0"
      ]
     },
     "execution_count": 8,
     "metadata": {},
     "output_type": "execute_result"
    }
   ],
   "source": [
    "α = 0.3;\n",
    "β = 1e12;\n",
    "U = diagm( 0=>ones(5), 1=>[-1, -1, -1, -1] )\n",
    "U[1, [4, 5]] = [ α - β, β ]\n",
    "b = [α, 0, 0, 0, 1]\n",
    "\n",
    "x = FNC.backsub(U,b)\n",
    "err = x - x_exact"
   ]
  },
  {
   "cell_type": "markdown",
   "id": "088eb385",
   "metadata": {},
   "source": [
    "It's not so good to get 4 digits of accuracy after starting with 16! The source of the error is not hard to track down. Solving for $x_1$ performs $(\\alpha-\\beta)+\\beta$ in the first row. Since $|\\alpha|$ is so much smaller than $|\\beta|$, this a recipe for losing digits to subtractive cancellation."
   ]
  }
 ],
 "metadata": {
  "kernelspec": {
   "display_name": "Julia 1",
   "language": "julia",
   "name": "julia-1.11"
  },
  "language_info": {
   "file_extension": ".jl",
   "mimetype": "application/julia",
   "name": "julia",
   "version": "1.11.2"
  },
  "numbering": {
   "headings": false
  }
 },
 "nbformat": 4,
 "nbformat_minor": 5
}
