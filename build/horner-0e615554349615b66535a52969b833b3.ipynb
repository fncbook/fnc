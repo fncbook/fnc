{
 "cells": [
  {
   "cell_type": "markdown",
   "id": "b7820310",
   "metadata": {},
   "source": [
    "[**Demo %s**](#demo-algorithms-horner)\n",
    "\n",
    "Here we show how to use {numref}`Function {number} <function-horner>` to evaluate a polynomial. It's not a part of core Julia, so you need to download and install this text's package once, and load it for each new Julia session. The download is done by the following lines."
   ]
  },
  {
   "cell_type": "code",
   "execution_count": 1,
   "id": "a24aa90e",
   "metadata": {
    "execution": {
     "iopub.execute_input": "2025-01-04T15:18:43.323000Z",
     "iopub.status.busy": "2025-01-04T15:18:43.033000Z",
     "iopub.status.idle": "2025-01-04T15:18:43.505000Z",
     "shell.execute_reply": "2025-01-04T15:18:43.461000Z"
    },
    "tags": [
     "remove-output"
    ]
   },
   "outputs": [],
   "source": [
    "#import Pkg\n",
    "#Pkg.add(\"FNCBook\");"
   ]
  },
  {
   "cell_type": "markdown",
   "id": "5f151715",
   "metadata": {},
   "source": [
    "```{index} ! Julia; using\n",
    "```\n",
    "\n",
    "Once installed, any package can be loaded with the `using` command, as follows.\n",
    "\n",
    "```{tip}\n",
    ":class: dropdown\n",
    "Many Julia functions, including the ones in this text, are in packages that must be loaded via `using` or `import` in each session. Sometimes a `using` statement can take a few seconds or even minutes to execute, if packages have been installed or updated. \n",
    "```"
   ]
  },
  {
   "cell_type": "code",
   "execution_count": 2,
   "id": "06ae48ed",
   "metadata": {
    "execution": {
     "iopub.execute_input": "2025-01-04T15:18:43.506000Z",
     "iopub.status.busy": "2025-01-04T15:18:43.506000Z",
     "iopub.status.idle": "2025-01-04T15:18:48.606000Z",
     "shell.execute_reply": "2025-01-04T15:18:48.605000Z"
    },
    "tags": [
     "remove-output"
    ]
   },
   "outputs": [
    {
     "data": {
      "text/plain": [
       "FNCFunctions"
      ]
     },
     "execution_count": 2,
     "metadata": {},
     "output_type": "execute_result"
    }
   ],
   "source": [
    "#using FundamentalsNumericalComputation\n",
    "using FNCFunctions\n",
    "FNC = FNCFunctions"
   ]
  },
  {
   "cell_type": "markdown",
   "id": "504da9ec",
   "metadata": {},
   "source": [
    "For convenience, this package also imports many other packages used throughout the book and makes them available as though you had run a `using` command for each of them. \n",
    "\n",
    "```{tip}\n",
    ":class: dropdown\n",
    "If you are not sure where a particular function is defined, you can run `methods` on the function name to find all its definitions.\n",
    "```\n",
    "\n",
    "Returning to `horner`, let us define a vector of the coefficients of $p(x)=(x-1)^3=x^3-3x^2+3x-1$, in ascending degree order."
   ]
  },
  {
   "cell_type": "code",
   "execution_count": 3,
   "id": "69468ee7",
   "metadata": {
    "execution": {
     "iopub.execute_input": "2025-01-04T15:18:48.734000Z",
     "iopub.status.busy": "2025-01-04T15:18:48.609000Z",
     "iopub.status.idle": "2025-01-04T15:18:49.788000Z",
     "shell.execute_reply": "2025-01-04T15:18:49.788000Z"
    }
   },
   "outputs": [
    {
     "data": {
      "text/plain": [
       "4-element Vector{Int64}:\n",
       " -1\n",
       "  3\n",
       " -3\n",
       "  1"
      ]
     },
     "execution_count": 3,
     "metadata": {},
     "output_type": "execute_result"
    }
   ],
   "source": [
    "c = [-1, 3, -3, 1]"
   ]
  },
  {
   "cell_type": "markdown",
   "id": "b6ebce31",
   "metadata": {},
   "source": [
    "```{index} ! Julia; FNC, ! Julia; namespace\n",
    "```\n",
    "\n",
    "In order to avoid clashes between similarly named functions, Julia has boxed all the book functions into a **namespace** called `FNC`. We use this namespace whenever we invoke one of the functions.\n",
    "\n",
    "```{tip}\n",
    ":class: dropdown\n",
    "You must use the module name when a package is loaded by `import`, but when loaded via `using`, some functions may be available with no prefix.\n",
    "```"
   ]
  },
  {
   "cell_type": "code",
   "execution_count": 4,
   "id": "4c654e39",
   "metadata": {
    "execution": {
     "iopub.execute_input": "2025-01-04T15:18:49.803000Z",
     "iopub.status.busy": "2025-01-04T15:18:49.790000Z",
     "iopub.status.idle": "2025-01-04T15:18:49.885000Z",
     "shell.execute_reply": "2025-01-04T15:18:49.885000Z"
    }
   },
   "outputs": [
    {
     "data": {
      "text/plain": [
       "0.21600000000000041"
      ]
     },
     "execution_count": 4,
     "metadata": {},
     "output_type": "execute_result"
    }
   ],
   "source": [
    "FNC.horner(c, 1.6)"
   ]
  },
  {
   "cell_type": "markdown",
   "id": "452ea967",
   "metadata": {},
   "source": [
    "The above is the value of $p(1.6)$.\n",
    "\n",
    "While the namespace does lead to a little extra typing, a nice side effect of using this paradigm is that if you type `FNC.` (including the period) and hit the <kbd>Tab</kbd> key, you will see a list of all the functions known in that namespace.\n",
    "\n",
    "The multi-line string at the start of {numref}`Function {number} <function-horner>` is documentation, which we can access using `?FNC.horner`."
   ]
  }
 ],
 "metadata": {
  "kernelspec": {
   "display_name": "Julia 1",
   "language": "julia",
   "name": "julia-1.11"
  },
  "language_info": {
   "file_extension": ".jl",
   "mimetype": "application/julia",
   "name": "julia",
   "version": "1.11.2"
  },
  "numbering": {
   "headings": false
  }
 },
 "nbformat": 4,
 "nbformat_minor": 5
}
