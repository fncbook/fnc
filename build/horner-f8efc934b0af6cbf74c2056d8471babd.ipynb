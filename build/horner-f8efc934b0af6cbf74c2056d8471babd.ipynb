{
 "cells": [
  {
   "cell_type": "code",
   "execution_count": 1,
   "id": "df148c06",
   "metadata": {
    "execution": {
     "iopub.execute_input": "2025-01-11T17:56:55.582412Z",
     "iopub.status.busy": "2025-01-11T17:56:55.582279Z",
     "iopub.status.idle": "2025-01-11T17:56:55.896741Z",
     "shell.execute_reply": "2025-01-11T17:56:55.896400Z"
    },
    "tags": [
     "remove-cell"
    ]
   },
   "outputs": [],
   "source": [
    "exec(open(\"../../../python/FNC_init.py\").read())"
   ]
  },
  {
   "cell_type": "markdown",
   "id": "112f1195",
   "metadata": {},
   "source": [
    "[**Demo %s**](#demo-algorithms-horner)\n",
    "\n",
    "\n",
    "Here we show how to use `horner` to evaluate a polynomial. First, we have to ensure that the book's package is imported."
   ]
  },
  {
   "cell_type": "code",
   "execution_count": 2,
   "id": "1852aafa",
   "metadata": {
    "execution": {
     "iopub.execute_input": "2025-01-11T17:56:55.898323Z",
     "iopub.status.busy": "2025-01-11T17:56:55.898202Z",
     "iopub.status.idle": "2025-01-11T17:56:55.899991Z",
     "shell.execute_reply": "2025-01-11T17:56:55.899709Z"
    }
   },
   "outputs": [],
   "source": [
    "import fncbook as FNC"
   ]
  },
  {
   "cell_type": "markdown",
   "id": "b0fd3b7f",
   "metadata": {},
   "source": [
    "Here is the help string for the function:"
   ]
  },
  {
   "cell_type": "code",
   "execution_count": 3,
   "id": "4e0a31bb",
   "metadata": {
    "execution": {
     "iopub.execute_input": "2025-01-11T17:56:55.901095Z",
     "iopub.status.busy": "2025-01-11T17:56:55.901010Z",
     "iopub.status.idle": "2025-01-11T17:56:55.902959Z",
     "shell.execute_reply": "2025-01-11T17:56:55.902718Z"
    }
   },
   "outputs": [
    {
     "name": "stdout",
     "output_type": "stream",
     "text": [
      "Help on function horner in module fncbook.chapter01:\n",
      "\n",
      "horner(c, x)\n",
      "    horner(c,x)\n",
      "\n",
      "    Evaluate a polynomial whose coefficients are given in descending order\n",
      "    in c, at the point x, using Horner's rule.\n",
      "\n"
     ]
    }
   ],
   "source": [
    "help(FNC.horner)"
   ]
  },
  {
   "cell_type": "markdown",
   "id": "e9e4f528",
   "metadata": {},
   "source": [
    "We now define a vector of the coefficients of $p(x)=(x−1)^3=x^3−3x^2+3x−1$, in descending degree order. Note that the textbook's functions are all in a namespace called `FNC`, to help distinguish them from other Python commands and modules."
   ]
  },
  {
   "cell_type": "code",
   "execution_count": 4,
   "id": "923e6aff",
   "metadata": {
    "execution": {
     "iopub.execute_input": "2025-01-11T17:56:55.904153Z",
     "iopub.status.busy": "2025-01-11T17:56:55.904078Z",
     "iopub.status.idle": "2025-01-11T17:56:55.905882Z",
     "shell.execute_reply": "2025-01-11T17:56:55.905599Z"
    }
   },
   "outputs": [
    {
     "name": "stdout",
     "output_type": "stream",
     "text": [
      "0.21600000000000041\n"
     ]
    }
   ],
   "source": [
    "c = array([1, -3, 3, -1])\n",
    "print(FNC.horner(c, 1.6))"
   ]
  },
  {
   "cell_type": "markdown",
   "id": "6a9aa765",
   "metadata": {},
   "source": [
    "The above is the value of $p(1.6)$, up to a rounding error."
   ]
  }
 ],
 "metadata": {
  "kernelspec": {
   "display_name": "Python 3",
   "language": "python",
   "name": "python3"
  },
  "language_info": {
   "codemirror_mode": {
    "name": "ipython",
    "version": 3
   },
   "file_extension": ".py",
   "mimetype": "text/x-python",
   "name": "python",
   "nbconvert_exporter": "python",
   "pygments_lexer": "ipython3",
   "version": "3.13.0"
  },
  "numbering": {
   "headings": false
  }
 },
 "nbformat": 4,
 "nbformat_minor": 5
}
