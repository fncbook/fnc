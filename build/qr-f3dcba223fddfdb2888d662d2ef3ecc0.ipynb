{
 "cells": [
  {
   "cell_type": "code",
   "execution_count": 1,
   "id": "3b92a58b",
   "metadata": {
    "execution": {
     "iopub.execute_input": "2025-01-11T17:34:08.298850Z",
     "iopub.status.busy": "2025-01-11T17:34:08.298406Z",
     "iopub.status.idle": "2025-01-11T17:34:08.622351Z",
     "shell.execute_reply": "2025-01-11T17:34:08.621963Z"
    },
    "tags": [
     "remove-cell"
    ]
   },
   "outputs": [],
   "source": [
    "exec(open(\"../../../python/FNC_init.py\").read())"
   ]
  },
  {
   "cell_type": "markdown",
   "id": "1a238cb6",
   "metadata": {},
   "source": [
    "[**Demo %s**](#demo-house-qr)\n",
    "\n",
    "\n",
    "We will use Householder reflections to produce a QR factorization of a matrix."
   ]
  },
  {
   "cell_type": "code",
   "execution_count": 2,
   "id": "5d75fa5f",
   "metadata": {
    "execution": {
     "iopub.execute_input": "2025-01-11T17:34:08.623989Z",
     "iopub.status.busy": "2025-01-11T17:34:08.623868Z",
     "iopub.status.idle": "2025-01-11T17:34:08.626079Z",
     "shell.execute_reply": "2025-01-11T17:34:08.625810Z"
    }
   },
   "outputs": [
    {
     "name": "stdout",
     "output_type": "stream",
     "text": [
      "[[7. 5. 2. 8.]\n",
      " [6. 1. 3. 6.]\n",
      " [1. 9. 8. 6.]\n",
      " [6. 2. 4. 3.]\n",
      " [5. 1. 5. 2.]\n",
      " [2. 6. 3. 8.]]\n"
     ]
    }
   ],
   "source": [
    "A = 1.0 + floor(9 * random.rand(6,4))\n",
    "m, n = A.shape\n",
    "print(A)"
   ]
  },
  {
   "cell_type": "markdown",
   "id": "3b1a2618",
   "metadata": {},
   "source": [
    "Our first step is to introduce zeros below the diagonal in column 1 by using {eq}`hhvector` and {eq}`hhreflect`."
   ]
  },
  {
   "cell_type": "code",
   "execution_count": 3,
   "id": "babf3045",
   "metadata": {
    "execution": {
     "iopub.execute_input": "2025-01-11T17:34:08.627285Z",
     "iopub.status.busy": "2025-01-11T17:34:08.627195Z",
     "iopub.status.idle": "2025-01-11T17:34:08.628967Z",
     "shell.execute_reply": "2025-01-11T17:34:08.628746Z"
    }
   },
   "outputs": [],
   "source": [
    "z = A[:, 0]\n",
    "v = z - norm(z) * hstack([1, zeros(m-1)])\n",
    "P_1 = eye(m) - (2 / dot(v, v)) * outer(v, v)   # reflector"
   ]
  },
  {
   "cell_type": "markdown",
   "id": "4f9f8dfe",
   "metadata": {},
   "source": [
    "We check that this reflector introduces zeros as it should:"
   ]
  },
  {
   "cell_type": "code",
   "execution_count": 4,
   "id": "d9f13ca1",
   "metadata": {
    "execution": {
     "iopub.execute_input": "2025-01-11T17:34:08.630100Z",
     "iopub.status.busy": "2025-01-11T17:34:08.630020Z",
     "iopub.status.idle": "2025-01-11T17:34:08.631790Z",
     "shell.execute_reply": "2025-01-11T17:34:08.631574Z"
    }
   },
   "outputs": [
    {
     "name": "stdout",
     "output_type": "stream",
     "text": [
      "[ 1.22882057e+01  6.66133815e-16  0.00000000e+00  6.66133815e-16\n",
      " -8.88178420e-16  1.11022302e-16]\n"
     ]
    }
   ],
   "source": [
    "print(P_1 @ z)"
   ]
  },
  {
   "cell_type": "markdown",
   "id": "09f869fe",
   "metadata": {},
   "source": [
    "Now we replace $\\mathbf{A}$ by $\\mathbf{P}_1\\mathbf{A}$."
   ]
  },
  {
   "cell_type": "code",
   "execution_count": 5,
   "id": "e031c8ab",
   "metadata": {
    "execution": {
     "iopub.execute_input": "2025-01-11T17:34:08.633076Z",
     "iopub.status.busy": "2025-01-11T17:34:08.632989Z",
     "iopub.status.idle": "2025-01-11T17:34:08.634803Z",
     "shell.execute_reply": "2025-01-11T17:34:08.634567Z"
    }
   },
   "outputs": [
    {
     "name": "stdout",
     "output_type": "stream",
     "text": [
      "[[ 1.22882057e+01  6.42892882e+00  7.73099036e+00  1.15557961e+01]\n",
      " [ 4.44089210e-16 -6.21263125e-01 -3.50238359e+00  1.96559253e+00]\n",
      " [ 0.00000000e+00  8.72978948e+00  6.91626940e+00  5.32759876e+00]\n",
      " [ 4.44089210e-16  3.78736875e-01 -2.50238359e+00 -1.03440747e+00]\n",
      " [-8.88178420e-16 -3.51052605e-01 -4.18652993e-01 -1.36200622e+00]\n",
      " [ 1.11022302e-16  5.45957896e+00  8.32538803e-01  6.65519751e+00]]\n"
     ]
    }
   ],
   "source": [
    "A = P_1 @ A\n",
    "print(A)"
   ]
  },
  {
   "cell_type": "markdown",
   "id": "333fe997",
   "metadata": {},
   "source": [
    "We are set to put zeros into column 2. We must not use row 1 in any way, lest it destroy the zeros we just introduced. So we leave it out of the next reflector."
   ]
  },
  {
   "cell_type": "code",
   "execution_count": 6,
   "id": "942f1313",
   "metadata": {
    "execution": {
     "iopub.execute_input": "2025-01-11T17:34:08.635877Z",
     "iopub.status.busy": "2025-01-11T17:34:08.635799Z",
     "iopub.status.idle": "2025-01-11T17:34:08.637616Z",
     "shell.execute_reply": "2025-01-11T17:34:08.637401Z"
    }
   },
   "outputs": [],
   "source": [
    "z = A[1:, 1]\n",
    "v = z - norm(z) * hstack([1, zeros(m-2)])\n",
    "P_2 = eye(m-1) - (2 / dot(v, v)) * outer(v, v) "
   ]
  },
  {
   "cell_type": "markdown",
   "id": "07251df5",
   "metadata": {},
   "source": [
    "We now apply this reflector to rows 2 and below only."
   ]
  },
  {
   "cell_type": "code",
   "execution_count": 7,
   "id": "af07918d",
   "metadata": {
    "execution": {
     "iopub.execute_input": "2025-01-11T17:34:08.638722Z",
     "iopub.status.busy": "2025-01-11T17:34:08.638649Z",
     "iopub.status.idle": "2025-01-11T17:34:08.640423Z",
     "shell.execute_reply": "2025-01-11T17:34:08.640192Z"
    }
   },
   "outputs": [
    {
     "name": "stdout",
     "output_type": "stream",
     "text": [
      "[[ 1.22882057e+01  6.42892882e+00  7.73099036e+00  1.15557961e+01]\n",
      " [ 4.44089210e-16  1.03280625e+01  6.41921111e+00  7.91132021e+00]\n",
      " [ 0.00000000e+00 -1.19351358e-16 -9.94120360e-01  5.87128619e-01]\n",
      " [ 4.44089210e-16 -2.29786680e-17 -2.84557128e+00 -1.24007003e+00]\n",
      " [-8.88178420e-16  4.06604388e-17 -1.00551057e-01 -1.17137684e+00]\n",
      " [ 1.11022302e-16  0.00000000e+00 -4.11459052e+00  3.69052453e+00]]\n"
     ]
    }
   ],
   "source": [
    "A[1:, 1:] = P_2 @ A[1:, 1:]\n",
    "print(A)"
   ]
  },
  {
   "cell_type": "markdown",
   "id": "0763c436",
   "metadata": {},
   "source": [
    "We need to iterate the process for the last two columns."
   ]
  },
  {
   "cell_type": "code",
   "execution_count": 8,
   "id": "e0283b88",
   "metadata": {
    "execution": {
     "iopub.execute_input": "2025-01-11T17:34:08.641592Z",
     "iopub.status.busy": "2025-01-11T17:34:08.641513Z",
     "iopub.status.idle": "2025-01-11T17:34:08.643398Z",
     "shell.execute_reply": "2025-01-11T17:34:08.643110Z"
    }
   },
   "outputs": [],
   "source": [
    "for j in [2, 3]:\n",
    "    z = A[j:, j]\n",
    "    v = z - norm(z) * hstack([1, zeros(m-j-1)])\n",
    "    P = eye(m-j) - (2 / dot(v, v)) * outer(v, v)\n",
    "    A[j:, j:] = P @ A[j:, j:]"
   ]
  },
  {
   "cell_type": "markdown",
   "id": "2e1a878b",
   "metadata": {},
   "source": [
    "We have now reduced the original to an upper triangular matrix using four orthogonal Householder reflections:\n",
    "\n",
    "```{index} Python; triu\n",
    "```"
   ]
  },
  {
   "cell_type": "code",
   "execution_count": 9,
   "id": "70741591",
   "metadata": {
    "execution": {
     "iopub.execute_input": "2025-01-11T17:34:08.644497Z",
     "iopub.status.busy": "2025-01-11T17:34:08.644424Z",
     "iopub.status.idle": "2025-01-11T17:34:08.646149Z",
     "shell.execute_reply": "2025-01-11T17:34:08.645931Z"
    }
   },
   "outputs": [
    {
     "name": "stdout",
     "output_type": "stream",
     "text": [
      "[[12.28820573  6.42892882  7.73099036 11.55579611]\n",
      " [ 0.         10.32806246  6.41921111  7.91132021]\n",
      " [ 0.          0.          5.10152103 -2.37618993]\n",
      " [ 0.          0.          0.          3.35086707]\n",
      " [ 0.          0.          0.          0.        ]\n",
      " [ 0.          0.          0.          0.        ]]\n"
     ]
    }
   ],
   "source": [
    "R = triu(A)\n",
    "print(R)"
   ]
  }
 ],
 "metadata": {
  "kernelspec": {
   "display_name": "Python 3",
   "language": "python",
   "name": "python3"
  },
  "language_info": {
   "codemirror_mode": {
    "name": "ipython",
    "version": 3
   },
   "file_extension": ".py",
   "mimetype": "text/x-python",
   "name": "python",
   "nbconvert_exporter": "python",
   "pygments_lexer": "ipython3",
   "version": "3.13.0"
  },
  "numbering": {
   "headings": false
  }
 },
 "nbformat": 4,
 "nbformat_minor": 5
}
