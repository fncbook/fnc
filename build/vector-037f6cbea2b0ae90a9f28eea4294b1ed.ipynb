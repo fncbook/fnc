{
 "cells": [
  {
   "cell_type": "code",
   "execution_count": 1,
   "id": "e026d25d",
   "metadata": {
    "execution": {
     "iopub.execute_input": "2025-01-05T09:34:55.758000Z",
     "iopub.status.busy": "2025-01-05T09:34:55.433000Z",
     "iopub.status.idle": "2025-01-05T09:35:03.306000Z",
     "shell.execute_reply": "2025-01-05T09:35:03.261000Z"
    }
   },
   "outputs": [
    {
     "name": "stderr",
     "output_type": "stream",
     "text": [
      "\u001b[32m\u001b[1m  Activating\u001b[22m\u001b[39m "
     ]
    },
    {
     "name": "stderr",
     "output_type": "stream",
     "text": [
      "project at `~/Documents/GitHub/fnc`\n"
     ]
    }
   ],
   "source": [
    "include(\"../../../julia/FNC_init.jl\")"
   ]
  },
  {
   "cell_type": "markdown",
   "id": "65b2242c",
   "metadata": {},
   "source": [
    "[**Demo %s**](#demo-norms-vector)\n",
    "\n",
    "\n",
    "```{index} ! Julia; norm\n",
    "```\n",
    "\n",
    "In Julia the `LinearAlgebra` package has a `norm` function for vector norms."
   ]
  },
  {
   "cell_type": "code",
   "execution_count": 2,
   "id": "e52b9f9f",
   "metadata": {
    "execution": {
     "iopub.execute_input": "2025-01-05T09:35:03.450000Z",
     "iopub.status.busy": "2025-01-05T09:35:03.308000Z",
     "iopub.status.idle": "2025-01-05T09:35:03.705000Z",
     "shell.execute_reply": "2025-01-05T09:35:03.705000Z"
    }
   },
   "outputs": [
    {
     "data": {
      "text/plain": [
       "3.872983346207417"
      ]
     },
     "execution_count": 2,
     "metadata": {},
     "output_type": "execute_result"
    }
   ],
   "source": [
    "x = [2, -3, 1, -1]\n",
    "twonorm = norm(x)         # or norm(x,2)"
   ]
  },
  {
   "cell_type": "code",
   "execution_count": 3,
   "id": "b66ebcc0",
   "metadata": {
    "execution": {
     "iopub.execute_input": "2025-01-05T09:35:03.707000Z",
     "iopub.status.busy": "2025-01-05T09:35:03.707000Z",
     "iopub.status.idle": "2025-01-05T09:35:03.729000Z",
     "shell.execute_reply": "2025-01-05T09:35:03.729000Z"
    }
   },
   "outputs": [
    {
     "data": {
      "text/plain": [
       "3.0"
      ]
     },
     "execution_count": 3,
     "metadata": {},
     "output_type": "execute_result"
    }
   ],
   "source": [
    "infnorm = norm(x, Inf)"
   ]
  },
  {
   "cell_type": "code",
   "execution_count": 4,
   "id": "96231bf9",
   "metadata": {
    "execution": {
     "iopub.execute_input": "2025-01-05T09:35:03.730000Z",
     "iopub.status.busy": "2025-01-05T09:35:03.730000Z",
     "iopub.status.idle": "2025-01-05T09:35:03.731000Z",
     "shell.execute_reply": "2025-01-05T09:35:03.731000Z"
    }
   },
   "outputs": [
    {
     "data": {
      "text/plain": [
       "7.0"
      ]
     },
     "execution_count": 4,
     "metadata": {},
     "output_type": "execute_result"
    }
   ],
   "source": [
    "onenorm = norm(x, 1)"
   ]
  },
  {
   "cell_type": "markdown",
   "id": "b3e66581",
   "metadata": {},
   "source": [
    "```{index} ! Julia; normalize\n",
    "```\n",
    "\n",
    "There is also a `normalize` function that divides a vector by its norm, making it a unit vector."
   ]
  },
  {
   "cell_type": "code",
   "execution_count": 5,
   "id": "fd2fd05c",
   "metadata": {
    "execution": {
     "iopub.execute_input": "2025-01-05T09:35:03.732000Z",
     "iopub.status.busy": "2025-01-05T09:35:03.732000Z",
     "iopub.status.idle": "2025-01-05T09:35:04.774000Z",
     "shell.execute_reply": "2025-01-05T09:35:04.774000Z"
    }
   },
   "outputs": [
    {
     "data": {
      "text/plain": [
       "4-element Vector{Float64}:\n",
       "  0.6666666666666666\n",
       " -1.0\n",
       "  0.3333333333333333\n",
       " -0.3333333333333333"
      ]
     },
     "execution_count": 5,
     "metadata": {},
     "output_type": "execute_result"
    }
   ],
   "source": [
    "normalize(x, Inf)"
   ]
  }
 ],
 "metadata": {
  "kernelspec": {
   "display_name": "Julia 1",
   "language": "julia",
   "name": "julia-1.11"
  },
  "language_info": {
   "file_extension": ".jl",
   "mimetype": "application/julia",
   "name": "julia",
   "version": "1.11.2"
  },
  "numbering": {
   "headings": false
  }
 },
 "nbformat": 4,
 "nbformat_minor": 5
}
