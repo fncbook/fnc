{
 "cells": [
  {
   "cell_type": "code",
   "execution_count": 1,
   "id": "90b2d7b9",
   "metadata": {
    "execution": {
     "iopub.execute_input": "2025-01-11T17:43:43.709319Z",
     "iopub.status.busy": "2025-01-11T17:43:43.709198Z",
     "iopub.status.idle": "2025-01-11T17:43:44.035696Z",
     "shell.execute_reply": "2025-01-11T17:43:44.035331Z"
    },
    "tags": [
     "remove-cell"
    ]
   },
   "outputs": [],
   "source": [
    "exec(open(\"../../../python/FNC_init.py\").read())"
   ]
  },
  {
   "cell_type": "markdown",
   "id": "21b97a26",
   "metadata": {},
   "source": [
    "[**Demo %s**](#demo-pivoting-stable)\n",
    "\n",
    "We construct a linear system for this matrix with $\\epsilon=10^{-12}$ and exact solution $[1,1]$:"
   ]
  },
  {
   "cell_type": "code",
   "execution_count": 2,
   "id": "d9afc005",
   "metadata": {
    "execution": {
     "iopub.execute_input": "2025-01-11T17:43:44.037306Z",
     "iopub.status.busy": "2025-01-11T17:43:44.037179Z",
     "iopub.status.idle": "2025-01-11T17:43:44.039170Z",
     "shell.execute_reply": "2025-01-11T17:43:44.038896Z"
    }
   },
   "outputs": [],
   "source": [
    "ep = 1e-12\n",
    "A = array([[-ep, 1], [1, -1]])\n",
    "b = A @ array([1, 1])"
   ]
  },
  {
   "cell_type": "markdown",
   "id": "9e7327ce",
   "metadata": {},
   "source": [
    "We can factor the matrix without pivoting and solve for $\\mathbf{x}$."
   ]
  },
  {
   "cell_type": "code",
   "execution_count": 3,
   "id": "7a8d6699",
   "metadata": {
    "execution": {
     "iopub.execute_input": "2025-01-11T17:43:44.040552Z",
     "iopub.status.busy": "2025-01-11T17:43:44.040358Z",
     "iopub.status.idle": "2025-01-11T17:43:44.042891Z",
     "shell.execute_reply": "2025-01-11T17:43:44.042625Z"
    }
   },
   "outputs": [
    {
     "name": "stdout",
     "output_type": "stream",
     "text": [
      "[0.99997788 1.        ]\n"
     ]
    }
   ],
   "source": [
    "L, U = FNC.lufact(A)\n",
    "print(FNC.backsub( U, FNC.forwardsub(L, b) ))"
   ]
  },
  {
   "cell_type": "markdown",
   "id": "2821b614",
   "metadata": {},
   "source": [
    "Note that we have obtained only about 5 accurate digits for $x_1$. We could make the result even more inaccurate by making $\\epsilon$ even smaller:"
   ]
  },
  {
   "cell_type": "code",
   "execution_count": 4,
   "id": "0face9ab",
   "metadata": {
    "execution": {
     "iopub.execute_input": "2025-01-11T17:43:44.044089Z",
     "iopub.status.busy": "2025-01-11T17:43:44.044006Z",
     "iopub.status.idle": "2025-01-11T17:43:44.046113Z",
     "shell.execute_reply": "2025-01-11T17:43:44.045864Z"
    }
   },
   "outputs": [
    {
     "name": "stdout",
     "output_type": "stream",
     "text": [
      "[-0.  1.]\n"
     ]
    }
   ],
   "source": [
    "ep = 1e-20;\n",
    "A = array([[-ep, 1], [1, -1]])\n",
    "b = A @ array([1, 1])\n",
    "L, U = FNC.lufact(A)\n",
    "print(FNC.backsub( U, FNC.forwardsub(L, b) ))"
   ]
  },
  {
   "cell_type": "markdown",
   "id": "f0aba880",
   "metadata": {},
   "source": [
    "This effect is not due to ill conditioning of the problem—a solution with PLU factorization works perfectly:"
   ]
  },
  {
   "cell_type": "code",
   "execution_count": 5,
   "id": "770f2ee8",
   "metadata": {
    "execution": {
     "iopub.execute_input": "2025-01-11T17:43:44.047325Z",
     "iopub.status.busy": "2025-01-11T17:43:44.047247Z",
     "iopub.status.idle": "2025-01-11T17:43:44.049179Z",
     "shell.execute_reply": "2025-01-11T17:43:44.048933Z"
    }
   },
   "outputs": [
    {
     "name": "stdout",
     "output_type": "stream",
     "text": [
      "[1. 1.]\n"
     ]
    }
   ],
   "source": [
    "print(linalg.solve(A, b))"
   ]
  }
 ],
 "metadata": {
  "kernelspec": {
   "display_name": "Python 3",
   "language": "python",
   "name": "python3"
  },
  "language_info": {
   "codemirror_mode": {
    "name": "ipython",
    "version": 3
   },
   "file_extension": ".py",
   "mimetype": "text/x-python",
   "name": "python",
   "nbconvert_exporter": "python",
   "pygments_lexer": "ipython3",
   "version": "3.13.0"
  },
  "numbering": {
   "headings": false
  }
 },
 "nbformat": 4,
 "nbformat_minor": 5
}
