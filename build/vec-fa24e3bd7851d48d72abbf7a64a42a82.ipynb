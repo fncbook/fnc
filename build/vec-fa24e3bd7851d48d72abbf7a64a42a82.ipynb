{
    "cells": [
        {
            "cell_type": "markdown",
            "source": [
                "[**Demo %s**](#demo-diffadv-vec)"
            ],
            "id": "b80eae8a",
            "metadata": {}
        },
        {
            "outputs": [
                {
                    "output_type": "execute_result",
                    "data": {
                        "text/plain": [
                            "6-element Vector{Int64}:\n",
                            " 9\n",
                            " 1\n",
                            " 2\n",
                            " 5\n",
                            " 4\n",
                            " 3"
                        ]
                    },
                    "metadata": {},
                    "execution_count": 2
                }
            ],
            "cell_type": "code",
            "source": [
                "m = 2;\n",
                "n = 3;\n",
                "V = rand(1:9, m, n);\n",
                "v = vec(V)"
            ],
            "id": "97d84cd7",
            "metadata": {
                "execution": {
                    "iopub.status.idle": "2025-01-14T15:52:59.066000Z",
                    "iopub.status.busy": "2025-01-14T15:52:30.306000Z",
                    "iopub.execute_input": "2025-01-14T15:52:33.160000Z",
                    "shell.execute_reply": "2025-01-14T15:52:59.029000Z"
                }
            },
            "execution_count": 2
        },
        {
            "cell_type": "markdown",
            "source": [
                "The `unvec` operation is the inverse of vec."
            ],
            "id": "3ef54ec8",
            "metadata": {}
        },
        {
            "outputs": [
                {
                    "output_type": "execute_result",
                    "data": {
                        "text/plain": [
                            "2×3 Matrix{Int64}:\n",
                            " 9  2  4\n",
                            " 1  5  3"
                        ]
                    },
                    "metadata": {},
                    "execution_count": 3
                }
            ],
            "cell_type": "code",
            "source": [
                "unvec = z -> reshape(z, m, n)\n",
                "unvec(v)"
            ],
            "id": "91102671",
            "metadata": {
                "execution": {
                    "iopub.status.idle": "2025-01-14T15:53:02.652000Z",
                    "iopub.status.busy": "2025-01-14T15:52:59.113000Z",
                    "iopub.execute_input": "2025-01-14T15:52:59.115000Z",
                    "shell.execute_reply": "2025-01-14T15:53:02.644000Z"
                }
            },
            "execution_count": 3
        }
    ],
    "nbformat_minor": 5,
    "metadata": {
        "language_info": {
            "file_extension": ".jl",
            "mimetype": "application/julia",
            "name": "julia",
            "version": "1.11.2"
        },
        "kernelspec": {
            "name": "julia-1.11",
            "display_name": "Julia 1",
            "language": "julia"
        },
        "numbering": {
            "headings": false
        }
    },
    "nbformat": 4
}
