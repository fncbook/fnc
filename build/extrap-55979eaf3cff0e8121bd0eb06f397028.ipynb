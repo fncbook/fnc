{
 "cells": [
  {
   "cell_type": "code",
   "execution_count": 1,
   "id": "d238846a",
   "metadata": {
    "execution": {
     "iopub.execute_input": "2025-01-11T16:48:28.692341Z",
     "iopub.status.busy": "2025-01-11T16:48:28.692118Z",
     "iopub.status.idle": "2025-01-11T16:48:29.056874Z",
     "shell.execute_reply": "2025-01-11T16:48:29.056592Z"
    },
    "tags": [
     "remove-cell"
    ]
   },
   "outputs": [],
   "source": [
    "exec(open(\"../../../python/FNC_init.py\").read())"
   ]
  },
  {
   "cell_type": "markdown",
   "id": "f93197b3",
   "metadata": {},
   "source": [
    "[**Demo %s**](#demo-int-extrap)\n",
    "\n",
    "We estimate $\\displaystyle\\int_0^2 x^2 e^{-2x}\\, dx$ using extrapolation. First we use `quadgk` to get an accurate value."
   ]
  },
  {
   "cell_type": "code",
   "execution_count": 2,
   "id": "de351dfb",
   "metadata": {
    "execution": {
     "iopub.execute_input": "2025-01-11T16:48:29.058496Z",
     "iopub.status.busy": "2025-01-11T16:48:29.058383Z",
     "iopub.status.idle": "2025-01-11T16:48:29.060668Z",
     "shell.execute_reply": "2025-01-11T16:48:29.060404Z"
    }
   },
   "outputs": [
    {
     "name": "stdout",
     "output_type": "stream",
     "text": [
      "Integral = 0.19047417361161\n"
     ]
    }
   ],
   "source": [
    "from scipy.integrate import quad\n",
    "f = lambda x: x**2 * exp(-2 * x)\n",
    "a = 0\n",
    "b = 2\n",
    "I, errest = quad(f, a, b, epsabs=1e-13, epsrel=1e-13)\n",
    "print(f\"Integral = {I:.14f}\")"
   ]
  },
  {
   "cell_type": "markdown",
   "id": "9952f8ab",
   "metadata": {},
   "source": [
    "We start with the trapezoid formula on $n=N$ nodes."
   ]
  },
  {
   "cell_type": "code",
   "execution_count": 3,
   "id": "3e3161f8",
   "metadata": {
    "execution": {
     "iopub.execute_input": "2025-01-11T16:48:29.064239Z",
     "iopub.status.busy": "2025-01-11T16:48:29.064133Z",
     "iopub.status.idle": "2025-01-11T16:48:29.065917Z",
     "shell.execute_reply": "2025-01-11T16:48:29.065663Z"
    }
   },
   "outputs": [],
   "source": [
    "N = 20    # the coarsest formula\n",
    "n = N\n",
    "h = (b - a) / n\n",
    "t = h * arange(n + 1)\n",
    "y = f(t)"
   ]
  },
  {
   "cell_type": "markdown",
   "id": "9156295f",
   "metadata": {},
   "source": [
    "We can now apply weights to get the estimate $T_f(N)$."
   ]
  },
  {
   "cell_type": "code",
   "execution_count": 4,
   "id": "5a772a14",
   "metadata": {
    "execution": {
     "iopub.execute_input": "2025-01-11T16:48:29.067054Z",
     "iopub.status.busy": "2025-01-11T16:48:29.066974Z",
     "iopub.status.idle": "2025-01-11T16:48:29.068899Z",
     "shell.execute_reply": "2025-01-11T16:48:29.068667Z"
    }
   },
   "outputs": [
    {
     "name": "stdout",
     "output_type": "stream",
     "text": [
      "error (2nd order): 6.27e-05\n"
     ]
    }
   ],
   "source": [
    "T = zeros(3)\n",
    "T[0] = h * (sum(y[1:-1]) + y[0] / 2 + y[-1] / 2)\n",
    "print(f\"error (2nd order): {I - T[0]:.2e}\")"
   ]
  },
  {
   "cell_type": "markdown",
   "id": "dff2612c",
   "metadata": {},
   "source": [
    "Now we double to $n=2N$, but we only need to evaluate $f$ at every other interior node and apply {eq}`nc-doubling`."
   ]
  },
  {
   "cell_type": "code",
   "execution_count": 5,
   "id": "1467d237",
   "metadata": {
    "execution": {
     "iopub.execute_input": "2025-01-11T16:48:29.070136Z",
     "iopub.status.busy": "2025-01-11T16:48:29.070024Z",
     "iopub.status.idle": "2025-01-11T16:48:29.072036Z",
     "shell.execute_reply": "2025-01-11T16:48:29.071800Z"
    }
   },
   "outputs": [
    {
     "name": "stdout",
     "output_type": "stream",
     "text": [
      "error (2nd order): [6.27236723e-05 1.53677521e-05]\n"
     ]
    }
   ],
   "source": [
    "n = 2 * n\n",
    "h = h / 2\n",
    "t = h * arange(n + 1)\n",
    "T[1] = T[0] / 2 + h * sum(f(t[1:-1:2]))\n",
    "print(\"error (2nd order):\", I - T[:2])"
   ]
  },
  {
   "cell_type": "markdown",
   "id": "211a50a5",
   "metadata": {},
   "source": [
    "As expected for a second-order estimate, the error went down by a factor of about 4. We can repeat the same code to double $n$ again."
   ]
  },
  {
   "cell_type": "code",
   "execution_count": 6,
   "id": "b3f1f1e1",
   "metadata": {
    "execution": {
     "iopub.execute_input": "2025-01-11T16:48:29.073129Z",
     "iopub.status.busy": "2025-01-11T16:48:29.073056Z",
     "iopub.status.idle": "2025-01-11T16:48:29.075068Z",
     "shell.execute_reply": "2025-01-11T16:48:29.074849Z"
    }
   },
   "outputs": [
    {
     "name": "stdout",
     "output_type": "stream",
     "text": [
      "error (2nd order): [6.27236723e-05 1.53677521e-05 3.82230697e-06]\n"
     ]
    }
   ],
   "source": [
    "n = 2 * n\n",
    "h = h / 2\n",
    "t = h * arange(n + 1)\n",
    "T[2] = T[1] / 2 + h * sum(f(t[1:-1:2]))\n",
    "print(\"error (2nd order):\", I - T[:3])"
   ]
  },
  {
   "cell_type": "markdown",
   "id": "033d7a38",
   "metadata": {},
   "source": [
    "Let us now do the first level of extrapolation to get results from Simpson's formula. We combine the elements `T[i]` and `T[i+1]` the same way for $i=1$ and $i=2$."
   ]
  },
  {
   "cell_type": "code",
   "execution_count": 7,
   "id": "8ec4238e",
   "metadata": {
    "execution": {
     "iopub.execute_input": "2025-01-11T16:48:29.076191Z",
     "iopub.status.busy": "2025-01-11T16:48:29.076115Z",
     "iopub.status.idle": "2025-01-11T16:48:29.077988Z",
     "shell.execute_reply": "2025-01-11T16:48:29.077759Z"
    }
   },
   "outputs": [
    {
     "name": "stdout",
     "output_type": "stream",
     "text": [
      "error (4th order): [-4.17554646e-07 -2.61747412e-08]\n"
     ]
    }
   ],
   "source": [
    "S = array([(4 * T[i + 1] - T[i]) / 3 for i in range(2)])\n",
    "print(\"error (4th order):\", I - S)"
   ]
  },
  {
   "cell_type": "markdown",
   "id": "b4f11a3c",
   "metadata": {},
   "source": [
    "With the two Simpson values $S_f(N)$ and $S_f(2N)$ in hand, we can do one more level of extrapolation to get a sixth-order accurate result."
   ]
  },
  {
   "cell_type": "code",
   "execution_count": 8,
   "id": "f6006648",
   "metadata": {
    "execution": {
     "iopub.execute_input": "2025-01-11T16:48:29.079108Z",
     "iopub.status.busy": "2025-01-11T16:48:29.079033Z",
     "iopub.status.idle": "2025-01-11T16:48:29.080753Z",
     "shell.execute_reply": "2025-01-11T16:48:29.080528Z"
    }
   },
   "outputs": [
    {
     "name": "stdout",
     "output_type": "stream",
     "text": [
      "error (6th order): -8.274758656057202e-11\n"
     ]
    }
   ],
   "source": [
    "R = (16 * S[1] - S[0]) / 15\n",
    "print(\"error (6th order):\", I - R)"
   ]
  },
  {
   "cell_type": "markdown",
   "id": "fa91cf5d",
   "metadata": {},
   "source": [
    "We can make a triangular table of the errors:"
   ]
  },
  {
   "cell_type": "code",
   "execution_count": 9,
   "id": "719714a9",
   "metadata": {
    "execution": {
     "iopub.execute_input": "2025-01-11T16:48:29.081869Z",
     "iopub.status.busy": "2025-01-11T16:48:29.081796Z",
     "iopub.status.idle": "2025-01-11T16:48:29.083988Z",
     "shell.execute_reply": "2025-01-11T16:48:29.083731Z"
    }
   },
   "outputs": [
    {
     "name": "stdout",
     "output_type": "stream",
     "text": [
      "+------------------------+-------------------------+------------------------+\n",
      "|       2nd order        |        4th order        |       6th order        |\n",
      "+------------------------+-------------------------+------------------------+\n",
      "| 6.272367234608223e-05  |           nan           |          nan           |\n",
      "| 1.5367752102174448e-05 | -4.1755464580406354e-07 |          nan           |\n",
      "| 3.822306969658573e-06  | -2.6174741207807273e-08 | -8.274758656057202e-11 |\n",
      "+------------------------+-------------------------+------------------------+\n"
     ]
    }
   ],
   "source": [
    "err = nan * ones((3, 3))\n",
    "err[0, :] = I - T\n",
    "err[1, 1:] = I - S\n",
    "err[2, 2] = I - R\n",
    "results = PrettyTable([\"2nd order\", \"4th order\", \"6th order\"])\n",
    "results.add_rows(err.T)\n",
    "print(results)"
   ]
  },
  {
   "cell_type": "markdown",
   "id": "5dfa9d17",
   "metadata": {},
   "source": [
    "If we consider the computational time to be dominated by evaluations of $f$, then we have obtained a result with about twice as many accurate digits as the best trapezoid result, at virtually no extra cost."
   ]
  }
 ],
 "metadata": {
  "kernelspec": {
   "display_name": "Python 3",
   "language": "python",
   "name": "python3"
  },
  "language_info": {
   "codemirror_mode": {
    "name": "ipython",
    "version": 3
   },
   "file_extension": ".py",
   "mimetype": "text/x-python",
   "name": "python",
   "nbconvert_exporter": "python",
   "pygments_lexer": "ipython3",
   "version": "3.13.0"
  },
  "numbering": {
   "headings": false
  }
 },
 "nbformat": 4,
 "nbformat_minor": 5
}
