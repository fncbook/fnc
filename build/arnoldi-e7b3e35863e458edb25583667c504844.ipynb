{
 "cells": [
  {
   "cell_type": "code",
   "execution_count": 1,
   "id": "c0ac40c2",
   "metadata": {
    "execution": {
     "iopub.execute_input": "2025-01-11T16:22:49.212257Z",
     "iopub.status.busy": "2025-01-11T16:22:49.212081Z",
     "iopub.status.idle": "2025-01-11T16:22:49.547578Z",
     "shell.execute_reply": "2025-01-11T16:22:49.547313Z"
    },
    "tags": [
     "remove-cell"
    ]
   },
   "outputs": [],
   "source": [
    "exec(open(\"../../../python/FNC_init.py\").read())"
   ]
  },
  {
   "cell_type": "markdown",
   "id": "a63d16bf",
   "metadata": {},
   "source": [
    "[**Demo %s**](#demo-subspace-arnoldi)\n",
    "\n",
    "We illustrate a few steps of the Arnoldi iteration for a small matrix."
   ]
  },
  {
   "cell_type": "code",
   "execution_count": 2,
   "id": "192d2bea",
   "metadata": {
    "execution": {
     "iopub.execute_input": "2025-01-11T16:22:49.549123Z",
     "iopub.status.busy": "2025-01-11T16:22:49.548985Z",
     "iopub.status.idle": "2025-01-11T16:22:49.550977Z",
     "shell.execute_reply": "2025-01-11T16:22:49.550778Z"
    }
   },
   "outputs": [
    {
     "name": "stdout",
     "output_type": "stream",
     "text": [
      "[[0 7 0 9 1 3]\n",
      " [8 0 9 5 4 9]\n",
      " [4 0 5 3 4 5]\n",
      " [5 7 0 9 2 1]\n",
      " [8 5 3 0 4 1]\n",
      " [2 3 1 2 0 1]]\n"
     ]
    }
   ],
   "source": [
    "A = random.choice(range(10), (6, 6))\n",
    "print(A)"
   ]
  },
  {
   "cell_type": "markdown",
   "id": "35ac206b",
   "metadata": {},
   "source": [
    "The seed vector we choose here determines the first member of the orthonormal basis."
   ]
  },
  {
   "cell_type": "code",
   "execution_count": 3,
   "id": "9977afdd",
   "metadata": {
    "execution": {
     "iopub.execute_input": "2025-01-11T16:22:49.552088Z",
     "iopub.status.busy": "2025-01-11T16:22:49.552001Z",
     "iopub.status.idle": "2025-01-11T16:22:49.553716Z",
     "shell.execute_reply": "2025-01-11T16:22:49.553481Z"
    }
   },
   "outputs": [],
   "source": [
    "u = random.randn(6)\n",
    "Q = zeros([6, 3])\n",
    "Q[:, 0] = u / norm(u)"
   ]
  },
  {
   "cell_type": "markdown",
   "id": "d395a1d9",
   "metadata": {},
   "source": [
    "Multiplication by $\\mathbf{A}$ gives us a new vector in $\\mathcal{K}_2$."
   ]
  },
  {
   "cell_type": "code",
   "execution_count": 4,
   "id": "933a9fb2",
   "metadata": {
    "execution": {
     "iopub.execute_input": "2025-01-11T16:22:49.554750Z",
     "iopub.status.busy": "2025-01-11T16:22:49.554662Z",
     "iopub.status.idle": "2025-01-11T16:22:49.556329Z",
     "shell.execute_reply": "2025-01-11T16:22:49.556074Z"
    }
   },
   "outputs": [],
   "source": [
    "Aq = A @ Q[:, 0]"
   ]
  },
  {
   "cell_type": "markdown",
   "id": "04c5d78e",
   "metadata": {},
   "source": [
    "We subtract off its projection in the previous direction. The remainder is rescaled to give us the next orthonormal column."
   ]
  },
  {
   "cell_type": "code",
   "execution_count": 5,
   "id": "4cc38766",
   "metadata": {
    "execution": {
     "iopub.execute_input": "2025-01-11T16:22:49.557424Z",
     "iopub.status.busy": "2025-01-11T16:22:49.557347Z",
     "iopub.status.idle": "2025-01-11T16:22:49.558980Z",
     "shell.execute_reply": "2025-01-11T16:22:49.558776Z"
    }
   },
   "outputs": [],
   "source": [
    "v = Aq - dot(Q[:, 0], Aq) * Q[:, 0]\n",
    "Q[:, 1] = v / norm(v)"
   ]
  },
  {
   "cell_type": "markdown",
   "id": "1d576870",
   "metadata": {},
   "source": [
    "On the next pass, we have to subtract off the projections in two previous directions."
   ]
  },
  {
   "cell_type": "code",
   "execution_count": 6,
   "id": "d7633544",
   "metadata": {
    "execution": {
     "iopub.execute_input": "2025-01-11T16:22:49.560083Z",
     "iopub.status.busy": "2025-01-11T16:22:49.559996Z",
     "iopub.status.idle": "2025-01-11T16:22:49.561713Z",
     "shell.execute_reply": "2025-01-11T16:22:49.561492Z"
    }
   },
   "outputs": [],
   "source": [
    "Aq = A @ Q[:, 1]\n",
    "v = Aq - dot(Q[:, 0], Aq) * Q[:, 0] - dot(Q[:, 1], Aq) * Q[:, 1]\n",
    "Q[:, 2] = v / norm(v)"
   ]
  },
  {
   "cell_type": "markdown",
   "id": "6b8b181c",
   "metadata": {},
   "source": [
    "At every step, $\\mathbf{Q}_m$ is an ONC matrix."
   ]
  },
  {
   "cell_type": "code",
   "execution_count": 7,
   "id": "e1e9d05c",
   "metadata": {
    "execution": {
     "iopub.execute_input": "2025-01-11T16:22:49.562787Z",
     "iopub.status.busy": "2025-01-11T16:22:49.562713Z",
     "iopub.status.idle": "2025-01-11T16:22:49.564597Z",
     "shell.execute_reply": "2025-01-11T16:22:49.564376Z"
    }
   },
   "outputs": [
    {
     "name": "stdout",
     "output_type": "stream",
     "text": [
      "should be near zero: 4.20e-16\n"
     ]
    }
   ],
   "source": [
    "print(f\"should be near zero: {norm(Q.T @ Q - eye(3)):.2e}\")"
   ]
  },
  {
   "cell_type": "markdown",
   "id": "e7777130",
   "metadata": {},
   "source": [
    "And $\\mathbf{Q}_m$ spans the same space as the three-dimensional Krylov matrix."
   ]
  },
  {
   "cell_type": "code",
   "execution_count": 8,
   "id": "198ce145",
   "metadata": {
    "execution": {
     "iopub.execute_input": "2025-01-11T16:22:49.565615Z",
     "iopub.status.busy": "2025-01-11T16:22:49.565536Z",
     "iopub.status.idle": "2025-01-11T16:22:49.570603Z",
     "shell.execute_reply": "2025-01-11T16:22:49.570403Z"
    }
   },
   "outputs": [
    {
     "name": "stdout",
     "output_type": "stream",
     "text": [
      "3\n"
     ]
    }
   ],
   "source": [
    "from numpy.linalg import matrix_rank\n",
    "K = stack([u, A @ u, A @ A @ u], axis=-1)\n",
    "Q_and_K = hstack([Q, K])\n",
    "print(matrix_rank(Q_and_K))"
   ]
  }
 ],
 "metadata": {
  "kernelspec": {
   "display_name": "Python 3",
   "language": "python",
   "name": "python3"
  },
  "language_info": {
   "codemirror_mode": {
    "name": "ipython",
    "version": 3
   },
   "file_extension": ".py",
   "mimetype": "text/x-python",
   "name": "python",
   "nbconvert_exporter": "python",
   "pygments_lexer": "ipython3",
   "version": "3.13.0"
  },
  "numbering": {
   "headings": false
  }
 },
 "nbformat": 4,
 "nbformat_minor": 5
}
