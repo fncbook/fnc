{
    "cells": [
        {
            "cell_type": "markdown",
            "source": [
                "[**Demo %s**](#demo-svd-props)\n",
                "\n",
                "We verify some of the fundamental SVD properties using the built-in `svd` function.\n",
                "\n",
                "```{index} ! MATLAB; svd\n",
                "```"
            ],
            "id": "da0ebc54",
            "metadata": {}
        },
        {
            "outputs": [
                {
                    "output_type": "execute_result",
                    "data": {
                        "text/plain": [
                            "A = 5×4 double\n",
                            "     1     1     1     1\n",
                            "    16     8     4     2\n",
                            "    81    27     9     3\n",
                            "   256    64    16     4\n",
                            "   625   125    25     5\n"
                        ],
                        "text/html": [
                            "<html><body><pre>A = 5×4 double\n",
                            "     1     1     1     1\n",
                            "    16     8     4     2\n",
                            "    81    27     9     3\n",
                            "   256    64    16     4\n",
                            "   625   125    25     5\n",
                            "</pre></body></html>"
                        ]
                    },
                    "metadata": {},
                    "execution_count": 2
                }
            ],
            "cell_type": "code",
            "source": [
                "A = vander(1:5);\n",
                "A = A(:, 1:4)"
            ],
            "id": "7e42d0a8",
            "metadata": {},
            "execution_count": 2
        },
        {
            "outputs": [
                {
                    "name": "stdout",
                    "output_type": "stream",
                    "text": [
                        "U is 5 by 5. S is 5 by 4. V is 4 by 4.\n",
                        "\n"
                    ]
                }
            ],
            "cell_type": "code",
            "source": [
                "[U, S, V] = svd(A);\n",
                "disp(sprintf(\"U is %d by %d. S is %d by %d. V is %d by %d.\\n\", size(U), size(S), size(V)))"
            ],
            "id": "393c4f48",
            "metadata": {},
            "execution_count": 3
        },
        {
            "cell_type": "markdown",
            "source": [
                "We verify the orthogonality of the singular vectors as follows:"
            ],
            "id": "e4051138",
            "metadata": {}
        },
        {
            "outputs": [
                {
                    "output_type": "execute_result",
                    "data": {
                        "text/plain": [
                            "ans = 1.8553e-15"
                        ],
                        "text/html": [
                            "<html><body><pre>ans = 1.8553e-15</pre></body></html>"
                        ]
                    },
                    "metadata": {},
                    "execution_count": 4
                },
                {
                    "output_type": "execute_result",
                    "data": {
                        "text/plain": [
                            "ans = 1.1849e-15"
                        ],
                        "text/html": [
                            "<html><body><pre>ans = 1.1849e-15</pre></body></html>"
                        ]
                    },
                    "metadata": {},
                    "execution_count": 4
                }
            ],
            "cell_type": "code",
            "source": [
                "norm(U' * U - eye(5))\n",
                "norm(V' * V - eye(4))"
            ],
            "id": "3f720649",
            "metadata": {},
            "execution_count": 4
        },
        {
            "cell_type": "markdown",
            "source": [
                "Here is verification of the connections between the singular values, norm, and condition number."
            ],
            "id": "9d433e82",
            "metadata": {}
        },
        {
            "outputs": [
                {
                    "output_type": "execute_result",
                    "data": {
                        "text/plain": [
                            "norm_A = 695.8403"
                        ],
                        "text/html": [
                            "<html><body><pre>norm_A = 695.8403</pre></body></html>"
                        ]
                    },
                    "metadata": {},
                    "execution_count": 5
                },
                {
                    "output_type": "execute_result",
                    "data": {
                        "text/plain": [
                            "sigma_max = 695.8403"
                        ],
                        "text/html": [
                            "<html><body><pre>sigma_max = 695.8403</pre></body></html>"
                        ]
                    },
                    "metadata": {},
                    "execution_count": 5
                }
            ],
            "cell_type": "code",
            "source": [
                "s = diag(S);\n",
                "norm_A = norm(A)\n",
                "sigma_max = s(1)"
            ],
            "id": "830c39e3",
            "metadata": {},
            "execution_count": 5
        },
        {
            "outputs": [
                {
                    "output_type": "execute_result",
                    "data": {
                        "text/plain": [
                            "cond_A = 3.2820e+03"
                        ],
                        "text/html": [
                            "<html><body><pre>cond_A = 3.2820e+03</pre></body></html>"
                        ]
                    },
                    "metadata": {},
                    "execution_count": 6
                },
                {
                    "output_type": "execute_result",
                    "data": {
                        "text/plain": [
                            "sigma_ratio = 3.2820e+03"
                        ],
                        "text/html": [
                            "<html><body><pre>sigma_ratio = 3.2820e+03</pre></body></html>"
                        ]
                    },
                    "metadata": {},
                    "execution_count": 6
                }
            ],
            "cell_type": "code",
            "source": [
                "cond_A = cond(A)\n",
                "sigma_ratio = s(1) / s(end)"
            ],
            "id": "60c0ed9e",
            "metadata": {},
            "execution_count": 6
        }
    ],
    "nbformat_minor": 5,
    "metadata": {
        "language_info": {
            "file_extension": ".m",
            "mimetype": "text/x-matlab",
            "name": "matlab"
        },
        "kernelspec": {
            "name": "jupyter_matlab_kernel",
            "display_name": "MATLAB Kernel",
            "language": "matlab"
        },
        "numbering": {
            "headings": false
        }
    },
    "nbformat": 4
}
