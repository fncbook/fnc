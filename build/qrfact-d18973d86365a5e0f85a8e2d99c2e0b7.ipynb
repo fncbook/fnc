{
 "cells": [
  {
   "cell_type": "code",
   "execution_count": 1,
   "id": "b7315a70",
   "metadata": {
    "execution": {
     "iopub.execute_input": "2025-01-11T17:34:05.333359Z",
     "iopub.status.busy": "2025-01-11T17:34:05.332863Z",
     "iopub.status.idle": "2025-01-11T17:34:05.659192Z",
     "shell.execute_reply": "2025-01-11T17:34:05.658760Z"
    },
    "tags": [
     "remove-cell"
    ]
   },
   "outputs": [],
   "source": [
    "exec(open(\"../../../python/FNC_init.py\").read())"
   ]
  },
  {
   "cell_type": "markdown",
   "id": "25ef703d",
   "metadata": {},
   "source": [
    "[**Demo %s**](#demo-qr-qrfact)\n",
    "\n",
    "\n",
    "MATLAB provides access to both the thin and full forms of the QR factorization."
   ]
  },
  {
   "cell_type": "code",
   "execution_count": 2,
   "id": "ff217260",
   "metadata": {
    "execution": {
     "iopub.execute_input": "2025-01-11T17:34:05.660727Z",
     "iopub.status.busy": "2025-01-11T17:34:05.660605Z",
     "iopub.status.idle": "2025-01-11T17:34:05.665249Z",
     "shell.execute_reply": "2025-01-11T17:34:05.664973Z"
    }
   },
   "outputs": [
    {
     "data": {
      "text/plain": [
       "(6, 4)"
      ]
     },
     "execution_count": 2,
     "metadata": {},
     "output_type": "execute_result"
    }
   ],
   "source": [
    "A = 1.0 + floor(9 * random.rand(6,4))\n",
    "A.shape"
   ]
  },
  {
   "cell_type": "markdown",
   "id": "ad34d7b4",
   "metadata": {},
   "source": [
    "Here is the full form:"
   ]
  },
  {
   "cell_type": "code",
   "execution_count": 3,
   "id": "80b13e47",
   "metadata": {
    "execution": {
     "iopub.execute_input": "2025-01-11T17:34:05.666426Z",
     "iopub.status.busy": "2025-01-11T17:34:05.666343Z",
     "iopub.status.idle": "2025-01-11T17:34:05.671069Z",
     "shell.execute_reply": "2025-01-11T17:34:05.670854Z"
    }
   },
   "outputs": [
    {
     "name": "stdout",
     "output_type": "stream",
     "text": [
      "size of Q is (6, 6)\n",
      "R:\n",
      "[[-12.64911064 -10.2774024  -12.49099676 -11.22608569]\n",
      " [  0.          12.38446608   8.12509796   7.23688849]\n",
      " [  0.           0.           5.09487814  -2.36029745]\n",
      " [  0.           0.           0.          -4.36250398]\n",
      " [  0.           0.           0.           0.        ]\n",
      " [  0.           0.           0.           0.        ]]\n"
     ]
    }
   ],
   "source": [
    "from numpy.linalg import qr\n",
    "Q, R = qr(A, \"complete\")\n",
    "print(f\"size of Q is {Q.shape}\")\n",
    "print(\"R:\")\n",
    "print(R)"
   ]
  },
  {
   "cell_type": "markdown",
   "id": "e8ead8b4",
   "metadata": {},
   "source": [
    "We can test that $\\mathbf{Q}$ is an orthogonal matrix:"
   ]
  },
  {
   "cell_type": "code",
   "execution_count": 4,
   "id": "184eb71d",
   "metadata": {
    "execution": {
     "iopub.execute_input": "2025-01-11T17:34:05.672142Z",
     "iopub.status.busy": "2025-01-11T17:34:05.672052Z",
     "iopub.status.idle": "2025-01-11T17:34:05.673794Z",
     "shell.execute_reply": "2025-01-11T17:34:05.673588Z"
    }
   },
   "outputs": [
    {
     "name": "stdout",
     "output_type": "stream",
     "text": [
      "norm of (Q^T Q - I) is 1.096e-15\n"
     ]
    }
   ],
   "source": [
    "print(f\"norm of (Q^T Q - I) is {norm(Q.T @ Q - eye(6)):.3e}\")"
   ]
  },
  {
   "cell_type": "markdown",
   "id": "cc0ee478",
   "metadata": {},
   "source": [
    "The default for `qr`, and the one you usually want, is the thin form."
   ]
  },
  {
   "cell_type": "code",
   "execution_count": 5,
   "id": "e78d9368",
   "metadata": {
    "execution": {
     "iopub.execute_input": "2025-01-11T17:34:05.674829Z",
     "iopub.status.busy": "2025-01-11T17:34:05.674733Z",
     "iopub.status.idle": "2025-01-11T17:34:05.676586Z",
     "shell.execute_reply": "2025-01-11T17:34:05.676384Z"
    }
   },
   "outputs": [
    {
     "name": "stdout",
     "output_type": "stream",
     "text": [
      "size of Q_hat is (6, 4)\n",
      "R_hat:\n",
      "[[-12.64911064 -10.2774024  -12.49099676 -11.22608569]\n",
      " [  0.          12.38446608   8.12509796   7.23688849]\n",
      " [  0.           0.           5.09487814  -2.36029745]\n",
      " [  0.           0.           0.          -4.36250398]]\n"
     ]
    }
   ],
   "source": [
    "Q_hat, R_hat = qr(A)\n",
    "print(f\"size of Q_hat is {Q_hat.shape}\")\n",
    "print(\"R_hat:\")\n",
    "print(R_hat)"
   ]
  },
  {
   "cell_type": "markdown",
   "id": "ca6bb9c0",
   "metadata": {},
   "source": [
    "Now $\\hat{\\mathbf{Q}}$ cannot be an orthogonal matrix, because it is not square, but it is still ONC. Mathematically, $\\hat{\\mathbf{Q}}^T \\hat{\\mathbf{Q}}$ is a $4\\times 4$ identity matrix."
   ]
  },
  {
   "cell_type": "code",
   "execution_count": 6,
   "id": "3023d631",
   "metadata": {
    "execution": {
     "iopub.execute_input": "2025-01-11T17:34:05.677587Z",
     "iopub.status.busy": "2025-01-11T17:34:05.677504Z",
     "iopub.status.idle": "2025-01-11T17:34:05.679085Z",
     "shell.execute_reply": "2025-01-11T17:34:05.678896Z"
    }
   },
   "outputs": [
    {
     "name": "stdout",
     "output_type": "stream",
     "text": [
      "norm of (Q_hat^T Q_hat - I) is 8.902e-16\n"
     ]
    }
   ],
   "source": [
    "print(f\"norm of (Q_hat^T Q_hat - I) is {norm(Q_hat.T @ Q_hat - eye(4)):.3e}\")"
   ]
  }
 ],
 "metadata": {
  "kernelspec": {
   "display_name": "Python 3",
   "language": "python",
   "name": "python3"
  },
  "language_info": {
   "codemirror_mode": {
    "name": "ipython",
    "version": 3
   },
   "file_extension": ".py",
   "mimetype": "text/x-python",
   "name": "python",
   "nbconvert_exporter": "python",
   "pygments_lexer": "ipython3",
   "version": "3.13.0"
  },
  "numbering": {
   "headings": false
  }
 },
 "nbformat": 4,
 "nbformat_minor": 5
}
