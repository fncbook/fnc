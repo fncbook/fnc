{
 "cells": [
  {
   "cell_type": "code",
   "execution_count": 1,
   "id": "3c299b77",
   "metadata": {
    "execution": {
     "iopub.execute_input": "2025-01-05T09:36:07.316000Z",
     "iopub.status.busy": "2025-01-05T09:36:07.021000Z",
     "iopub.status.idle": "2025-01-05T09:36:13.919000Z",
     "shell.execute_reply": "2025-01-05T09:36:13.870000Z"
    }
   },
   "outputs": [
    {
     "name": "stderr",
     "output_type": "stream",
     "text": [
      "\u001b[32m\u001b[1m  Activating\u001b[22m\u001b[39m "
     ]
    },
    {
     "name": "stderr",
     "output_type": "stream",
     "text": [
      "project at `~/Documents/GitHub/fnc`\n"
     ]
    }
   ],
   "source": [
    "include(\"../../../julia/FNC_init.jl\")"
   ]
  },
  {
   "cell_type": "markdown",
   "id": "1d4e447d",
   "metadata": {},
   "source": [
    "[**Demo %s**](#demo-structure-symm)\n",
    "\n",
    "\n",
    "We begin with a symmetric $\\mathbf{A}$."
   ]
  },
  {
   "cell_type": "code",
   "execution_count": 2,
   "id": "c52b86f0",
   "metadata": {
    "execution": {
     "iopub.execute_input": "2025-01-05T09:36:14.056000Z",
     "iopub.status.busy": "2025-01-05T09:36:13.921000Z",
     "iopub.status.idle": "2025-01-05T09:36:14.187000Z",
     "shell.execute_reply": "2025-01-05T09:36:14.187000Z"
    }
   },
   "outputs": [],
   "source": [
    "A₁ = [  2     4     4     2\n",
    "        4     5     8    -5\n",
    "        4     8     6     2\n",
    "        2    -5     2   -26 ];"
   ]
  },
  {
   "cell_type": "markdown",
   "id": "fc43ec66",
   "metadata": {},
   "source": [
    "We won't use pivoting, so the pivot element is at position (1,1). This will become the first element on the diagonal of $\\mathbf{D}$. Then we divide by that pivot to get the first column of $\\mathbf{L}$."
   ]
  },
  {
   "cell_type": "code",
   "execution_count": 3,
   "id": "09d91376",
   "metadata": {
    "execution": {
     "iopub.execute_input": "2025-01-05T09:36:14.189000Z",
     "iopub.status.busy": "2025-01-05T09:36:14.189000Z",
     "iopub.status.idle": "2025-01-05T09:36:15.491000Z",
     "shell.execute_reply": "2025-01-05T09:36:15.490000Z"
    }
   },
   "outputs": [
    {
     "data": {
      "text/plain": [
       "4×4 Matrix{Float64}:\n",
       " 0.0   0.0   0.0    0.0\n",
       " 0.0  -3.0   0.0   -9.0\n",
       " 0.0   0.0  -2.0   -2.0\n",
       " 0.0  -9.0  -2.0  -28.0"
      ]
     },
     "execution_count": 3,
     "metadata": {},
     "output_type": "execute_result"
    }
   ],
   "source": [
    "L = diagm(ones(4))\n",
    "d = zeros(4)\n",
    "d[1] = A₁[1, 1]\n",
    "L[:, 1] = A₁[:, 1] / d[1]\n",
    "A₂ = A₁ - d[1] * L[:, 1] * L[:, 1]'"
   ]
  },
  {
   "cell_type": "markdown",
   "id": "8776a5c6",
   "metadata": {},
   "source": [
    "We are now set up the same way for the submatrix in rows and columns 2–4."
   ]
  },
  {
   "cell_type": "code",
   "execution_count": 4,
   "id": "a3c0faca",
   "metadata": {
    "execution": {
     "iopub.execute_input": "2025-01-05T09:36:15.493000Z",
     "iopub.status.busy": "2025-01-05T09:36:15.493000Z",
     "iopub.status.idle": "2025-01-05T09:36:15.497000Z",
     "shell.execute_reply": "2025-01-05T09:36:15.497000Z"
    }
   },
   "outputs": [
    {
     "data": {
      "text/plain": [
       "4×4 Matrix{Float64}:\n",
       " 0.0  0.0   0.0   0.0\n",
       " 0.0  0.0   0.0   0.0\n",
       " 0.0  0.0  -2.0  -2.0\n",
       " 0.0  0.0  -2.0  -1.0"
      ]
     },
     "execution_count": 4,
     "metadata": {},
     "output_type": "execute_result"
    }
   ],
   "source": [
    "d[2] = A₂[2, 2]\n",
    "L[:, 2] = A₂[:, 2] / d[2]\n",
    "A₃ = A₂ - d[2] * L[:, 2] * L[:, 2]'"
   ]
  },
  {
   "cell_type": "markdown",
   "id": "c45087ad",
   "metadata": {},
   "source": [
    "We continue working our way down the diagonal."
   ]
  },
  {
   "cell_type": "code",
   "execution_count": 5,
   "id": "e91c7260",
   "metadata": {
    "execution": {
     "iopub.execute_input": "2025-01-05T09:36:15.498000Z",
     "iopub.status.busy": "2025-01-05T09:36:15.498000Z",
     "iopub.status.idle": "2025-01-05T09:36:15.536000Z",
     "shell.execute_reply": "2025-01-05T09:36:15.536000Z"
    }
   },
   "outputs": [
    {
     "name": "stdout",
     "output_type": "stream",
     "text": [
      "d = [2.0, -3.0, -2.0, 1.0]\n"
     ]
    },
    {
     "data": {
      "text/plain": [
       "4×4 Matrix{Float64}:\n",
       " 1.0  -0.0  -0.0  0.0\n",
       " 2.0   1.0  -0.0  0.0\n",
       " 2.0  -0.0   1.0  0.0\n",
       " 1.0   3.0   1.0  1.0"
      ]
     },
     "execution_count": 5,
     "metadata": {},
     "output_type": "execute_result"
    }
   ],
   "source": [
    "d[3] = A₃[3, 3]\n",
    "L[:, 3] = A₃[:, 3] / d[3]\n",
    "A₄ = A₃ - d[3] * L[:, 3] * L[:, 3]'\n",
    "d[4] = A₄[4, 4]\n",
    "@show d;\n",
    "L"
   ]
  },
  {
   "cell_type": "markdown",
   "id": "4752cc94",
   "metadata": {},
   "source": [
    "We have arrived at the desired factorization, which we can validate:"
   ]
  },
  {
   "cell_type": "code",
   "execution_count": 6,
   "id": "7a466280",
   "metadata": {
    "execution": {
     "iopub.execute_input": "2025-01-05T09:36:15.538000Z",
     "iopub.status.busy": "2025-01-05T09:36:15.538000Z",
     "iopub.status.idle": "2025-01-05T09:36:15.652000Z",
     "shell.execute_reply": "2025-01-05T09:36:15.652000Z"
    }
   },
   "outputs": [
    {
     "data": {
      "text/plain": [
       "0.0"
      ]
     },
     "execution_count": 6,
     "metadata": {},
     "output_type": "execute_result"
    }
   ],
   "source": [
    "opnorm(A₁ - (L * diagm(d) * L'))"
   ]
  }
 ],
 "metadata": {
  "kernelspec": {
   "display_name": "Julia 1",
   "language": "julia",
   "name": "julia-1.11"
  },
  "language_info": {
   "file_extension": ".jl",
   "mimetype": "application/julia",
   "name": "julia",
   "version": "1.11.2"
  },
  "numbering": {
   "headings": false
  }
 },
 "nbformat": 4,
 "nbformat_minor": 5
}
