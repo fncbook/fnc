{
 "cells": [
  {
   "cell_type": "code",
   "execution_count": 1,
   "id": "1e15c003",
   "metadata": {
    "execution": {
     "iopub.execute_input": "2025-01-11T17:43:14.913808Z",
     "iopub.status.busy": "2025-01-11T17:43:14.913669Z",
     "iopub.status.idle": "2025-01-11T17:43:15.234437Z",
     "shell.execute_reply": "2025-01-11T17:43:15.234147Z"
    },
    "tags": [
     "remove-cell"
    ]
   },
   "outputs": [],
   "source": [
    "exec(open(\"../../../python/FNC_init.py\").read())"
   ]
  },
  {
   "cell_type": "markdown",
   "id": "26ed58b7",
   "metadata": {},
   "source": [
    "[**Demo %s**](#demo-systems-backslash)\n",
    "\n",
    "For a square matrix $A$, the command `solve(A, B)` from `numpy.linalg` is mathematically equivalent to $\\mathbf{A}^{-1} \\mathbf{b}$."
   ]
  },
  {
   "cell_type": "code",
   "execution_count": 2,
   "id": "ff2ba73a",
   "metadata": {
    "execution": {
     "iopub.execute_input": "2025-01-11T17:43:15.236048Z",
     "iopub.status.busy": "2025-01-11T17:43:15.235934Z",
     "iopub.status.idle": "2025-01-11T17:43:15.237850Z",
     "shell.execute_reply": "2025-01-11T17:43:15.237600Z"
    }
   },
   "outputs": [],
   "source": [
    "A = array([[1, 0, -1], [2, 2, 1], [-1, -3, 0]])\n",
    "b = array([1, 2, 3])"
   ]
  },
  {
   "cell_type": "code",
   "execution_count": 3,
   "id": "ca128656",
   "metadata": {
    "execution": {
     "iopub.execute_input": "2025-01-11T17:43:15.239333Z",
     "iopub.status.busy": "2025-01-11T17:43:15.239223Z",
     "iopub.status.idle": "2025-01-11T17:43:15.241181Z",
     "shell.execute_reply": "2025-01-11T17:43:15.240936Z"
    }
   },
   "outputs": [
    {
     "name": "stdout",
     "output_type": "stream",
     "text": [
      "[ 2.14285714 -1.71428571  1.14285714]\n"
     ]
    }
   ],
   "source": [
    "x = linalg.solve(A, b)\n",
    "print(x)"
   ]
  },
  {
   "cell_type": "markdown",
   "id": "d17fbdd0",
   "metadata": {},
   "source": [
    "```{index} residual\n",
    "```\n",
    "\n",
    "One way to check the answer is to compute a quantity known as the **residual**. It is (ideally) close to machine precision(relative to the elements in the data)."
   ]
  },
  {
   "cell_type": "code",
   "execution_count": 4,
   "id": "8d19d5d7",
   "metadata": {
    "execution": {
     "iopub.execute_input": "2025-01-11T17:43:15.242368Z",
     "iopub.status.busy": "2025-01-11T17:43:15.242288Z",
     "iopub.status.idle": "2025-01-11T17:43:15.244097Z",
     "shell.execute_reply": "2025-01-11T17:43:15.243863Z"
    }
   },
   "outputs": [
    {
     "name": "stdout",
     "output_type": "stream",
     "text": [
      "[-4.4408921e-16 -4.4408921e-16  0.0000000e+00]\n"
     ]
    }
   ],
   "source": [
    "residual = b - A @ x\n",
    "print(residual)"
   ]
  },
  {
   "cell_type": "markdown",
   "id": "bfcf0794",
   "metadata": {},
   "source": [
    "If the matrix $\\mathbf{A}$ is singular, you may get an error."
   ]
  },
  {
   "cell_type": "code",
   "execution_count": 5,
   "id": "6835c0c0",
   "metadata": {
    "execution": {
     "iopub.execute_input": "2025-01-11T17:43:15.245290Z",
     "iopub.status.busy": "2025-01-11T17:43:15.245207Z",
     "iopub.status.idle": "2025-01-11T17:43:15.366013Z",
     "shell.execute_reply": "2025-01-11T17:43:15.365726Z"
    },
    "tags": [
     "raises-exception"
    ]
   },
   "outputs": [
    {
     "ename": "LinAlgError",
     "evalue": "Singular matrix",
     "output_type": "error",
     "traceback": [
      "\u001b[0;31m---------------------------------------------------------------------------\u001b[0m",
      "\u001b[0;31mLinAlgError\u001b[0m                               Traceback (most recent call last)",
      "Cell \u001b[0;32mIn[5], line 3\u001b[0m\n\u001b[1;32m      1\u001b[0m A \u001b[38;5;241m=\u001b[39m array([[\u001b[38;5;241m0\u001b[39m, \u001b[38;5;241m1\u001b[39m], [\u001b[38;5;241m0\u001b[39m, \u001b[38;5;241m0\u001b[39m]])\n\u001b[1;32m      2\u001b[0m b \u001b[38;5;241m=\u001b[39m array([\u001b[38;5;241m1\u001b[39m, \u001b[38;5;241m-\u001b[39m\u001b[38;5;241m1\u001b[39m])\n\u001b[0;32m----> 3\u001b[0m \u001b[43mlinalg\u001b[49m\u001b[38;5;241;43m.\u001b[39;49m\u001b[43msolve\u001b[49m\u001b[43m(\u001b[49m\u001b[43mA\u001b[49m\u001b[43m,\u001b[49m\u001b[43m \u001b[49m\u001b[43mb\u001b[49m\u001b[43m)\u001b[49m    \u001b[38;5;66;03m# error, singular matrix\u001b[39;00m\n",
      "File \u001b[0;32m~/mambaforge/envs/myst/lib/python3.13/site-packages/numpy/linalg/_linalg.py:413\u001b[0m, in \u001b[0;36msolve\u001b[0;34m(a, b)\u001b[0m\n\u001b[1;32m    410\u001b[0m signature \u001b[38;5;241m=\u001b[39m \u001b[38;5;124m'\u001b[39m\u001b[38;5;124mDD->D\u001b[39m\u001b[38;5;124m'\u001b[39m \u001b[38;5;28;01mif\u001b[39;00m isComplexType(t) \u001b[38;5;28;01melse\u001b[39;00m \u001b[38;5;124m'\u001b[39m\u001b[38;5;124mdd->d\u001b[39m\u001b[38;5;124m'\u001b[39m\n\u001b[1;32m    411\u001b[0m \u001b[38;5;28;01mwith\u001b[39;00m errstate(call\u001b[38;5;241m=\u001b[39m_raise_linalgerror_singular, invalid\u001b[38;5;241m=\u001b[39m\u001b[38;5;124m'\u001b[39m\u001b[38;5;124mcall\u001b[39m\u001b[38;5;124m'\u001b[39m,\n\u001b[1;32m    412\u001b[0m               over\u001b[38;5;241m=\u001b[39m\u001b[38;5;124m'\u001b[39m\u001b[38;5;124mignore\u001b[39m\u001b[38;5;124m'\u001b[39m, divide\u001b[38;5;241m=\u001b[39m\u001b[38;5;124m'\u001b[39m\u001b[38;5;124mignore\u001b[39m\u001b[38;5;124m'\u001b[39m, under\u001b[38;5;241m=\u001b[39m\u001b[38;5;124m'\u001b[39m\u001b[38;5;124mignore\u001b[39m\u001b[38;5;124m'\u001b[39m):\n\u001b[0;32m--> 413\u001b[0m     r \u001b[38;5;241m=\u001b[39m \u001b[43mgufunc\u001b[49m\u001b[43m(\u001b[49m\u001b[43ma\u001b[49m\u001b[43m,\u001b[49m\u001b[43m \u001b[49m\u001b[43mb\u001b[49m\u001b[43m,\u001b[49m\u001b[43m \u001b[49m\u001b[43msignature\u001b[49m\u001b[38;5;241;43m=\u001b[39;49m\u001b[43msignature\u001b[49m\u001b[43m)\u001b[49m\n\u001b[1;32m    415\u001b[0m \u001b[38;5;28;01mreturn\u001b[39;00m wrap(r\u001b[38;5;241m.\u001b[39mastype(result_t, copy\u001b[38;5;241m=\u001b[39m\u001b[38;5;28;01mFalse\u001b[39;00m))\n",
      "File \u001b[0;32m~/mambaforge/envs/myst/lib/python3.13/site-packages/numpy/linalg/_linalg.py:104\u001b[0m, in \u001b[0;36m_raise_linalgerror_singular\u001b[0;34m(err, flag)\u001b[0m\n\u001b[1;32m    103\u001b[0m \u001b[38;5;28;01mdef\u001b[39;00m \u001b[38;5;21m_raise_linalgerror_singular\u001b[39m(err, flag):\n\u001b[0;32m--> 104\u001b[0m     \u001b[38;5;28;01mraise\u001b[39;00m LinAlgError(\u001b[38;5;124m\"\u001b[39m\u001b[38;5;124mSingular matrix\u001b[39m\u001b[38;5;124m\"\u001b[39m)\n",
      "\u001b[0;31mLinAlgError\u001b[0m: Singular matrix"
     ]
    }
   ],
   "source": [
    "A = array([[0, 1], [0, 0]])\n",
    "b = array([1, -1])\n",
    "linalg.solve(A, b)    # error, singular matrix"
   ]
  },
  {
   "cell_type": "markdown",
   "id": "5b41e28f",
   "metadata": {},
   "source": [
    "A linear system with a singular matrix might have no solution or infinitely many solutions, but in either case, a numerical solution becomes trickier. Detecting singularity is a lot like checking whether two floating-point numbers are *exactly* equal: because of roundoff, it could be missed. We're headed toward a more robust way to fully describe this situation."
   ]
  }
 ],
 "metadata": {
  "kernelspec": {
   "display_name": "Python 3",
   "language": "python",
   "name": "python3"
  },
  "language_info": {
   "codemirror_mode": {
    "name": "ipython",
    "version": 3
   },
   "file_extension": ".py",
   "mimetype": "text/x-python",
   "name": "python",
   "nbconvert_exporter": "python",
   "pygments_lexer": "ipython3",
   "version": "3.13.0"
  },
  "numbering": {
   "headings": false
  }
 },
 "nbformat": 4,
 "nbformat_minor": 5
}
