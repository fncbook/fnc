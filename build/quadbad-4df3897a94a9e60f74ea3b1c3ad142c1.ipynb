{
    "cells": [
        {
            "cell_type": "markdown",
            "source": [
                "[**Demo %s**](#demo-stability-quadbad)\n",
                "\n",
                "\n",
                "```{index} ! Python; scientific notation\n",
                "```\n",
                "\n",
                "We apply the quadratic formula to find the roots of a quadratic via {eq}`quadunstable`. \n",
                "```{tip}\n",
                ":class: dropdown\n",
                "A number in scientific notation is entered as `1.23e4` rather than as `1.23*10^{4}`.\n",
                "```"
            ],
            "id": "9a6c3d9d",
            "metadata": {}
        },
        {
            "outputs": [
                {
                    "name": "stdout",
                    "output_type": "stream",
                    "text": [
                        "1000000.0 1.00000761449337e-06\n"
                    ]
                }
            ],
            "cell_type": "code",
            "source": [
                "a = 1;  b = -(1e6 + 1e-6);  c = 1;\n",
                "x1 = (-b + sqrt(b**2 - 4*a*c)) / 2*a\n",
                "x2 = (-b - sqrt(b**2 - 4*a*c)) / 2*a\n",
                "print(x1, x2)"
            ],
            "id": "cb765745",
            "metadata": {
                "execution": {
                    "iopub.status.idle": "2025-01-14T20:16:30.074083Z",
                    "iopub.status.busy": "2025-01-14T20:16:30.068392Z",
                    "iopub.execute_input": "2025-01-14T20:16:30.068780Z",
                    "shell.execute_reply": "2025-01-14T20:16:30.073390Z"
                }
            },
            "execution_count": 2
        },
        {
            "cell_type": "markdown",
            "source": [
                "The first value is correct to all stored digits, but the second has fewer than six accurate digits:"
            ],
            "id": "ecfa7eec",
            "metadata": {}
        },
        {
            "outputs": [
                {
                    "name": "stdout",
                    "output_type": "stream",
                    "text": [
                        "There are 5.12 accurate digits.\n"
                    ]
                }
            ],
            "cell_type": "code",
            "source": [
                "error = abs(1e-6 - x2) / 1e-6 \n",
                "print(f\"There are {-log10(error):.2f} accurate digits.\")"
            ],
            "id": "8fca7ade",
            "metadata": {
                "execution": {
                    "iopub.status.idle": "2025-01-14T20:16:30.083573Z",
                    "iopub.status.busy": "2025-01-14T20:16:30.077113Z",
                    "iopub.execute_input": "2025-01-14T20:16:30.077283Z",
                    "shell.execute_reply": "2025-01-14T20:16:30.083038Z"
                }
            },
            "execution_count": 3
        },
        {
            "cell_type": "markdown",
            "source": [
                " The instability is easily explained. Since $a=c=1$, we treat them as exact numbers. First, we compute the condition numbers with respect to $b$ for each elementary step in finding the \"good\" root:\n",
                "\n",
                "| Calculation | Result | $\\kappa$ |\n",
                "|:------------|:-------|:---------|\n",
                "|$u_1 = b^2$  | $1.000000000002000\\times 10^{12}$ |  2 |\n",
                "|$u_2 = u_1 - 4$ | $9.999999999980000\\times 10^{11}$  | $\\approx 1.00$ |\n",
                "|$u_3 = \\sqrt{u_2}$ | $999999.9999990000$ | 1/2 |\n",
                "|$u_4 = u_3 - b$ | $2000000$ | $\\approx 0.500$ |\n",
                "|$u_5 = u_4/2$ | $1000000$  | 1 |\n",
                "\n",
                "Using {eq}`condition-chain`, the chain rule for condition numbers, the conditioning of the entire chain is the product of the individual steps, so there is essentially no growth of relative error here. However, if we use the quadratic formula for the \"bad\" root, the next-to-last step becomes $u_4=(-u_3) - b$, and now  $\\kappa=|u_3|/|u_4|\\approx 5\\times 10^{11}$. So we can expect to lose 11 digits of accuracy, which is what we observed. The key issue is the subtractive cancellation in this one step."
            ],
            "id": "0e8bcd63",
            "metadata": {}
        }
    ],
    "nbformat_minor": 5,
    "metadata": {
        "language_info": {
            "file_extension": ".py",
            "mimetype": "text/x-python",
            "name": "python",
            "nbconvert_exporter": "python",
            "pygments_lexer": "ipython3",
            "codemirror_mode": {
                "name": "ipython",
                "version": 3
            },
            "version": "3.13.0"
        },
        "kernelspec": {
            "name": "python3",
            "display_name": "Python 3",
            "language": "python"
        },
        "numbering": {
            "headings": false
        }
    },
    "nbformat": 4
}
