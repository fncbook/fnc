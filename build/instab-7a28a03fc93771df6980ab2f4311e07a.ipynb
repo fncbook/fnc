{
 "cells": [
  {
   "cell_type": "code",
   "execution_count": 1,
   "id": "17073762",
   "metadata": {
    "execution": {
     "iopub.execute_input": "2025-01-11T17:34:03.448710Z",
     "iopub.status.busy": "2025-01-11T17:34:03.448621Z",
     "iopub.status.idle": "2025-01-11T17:34:03.742897Z",
     "shell.execute_reply": "2025-01-11T17:34:03.742535Z"
    },
    "tags": [
     "remove-cell"
    ]
   },
   "outputs": [],
   "source": [
    "exec(open(\"../../../python/FNC_init.py\").read())"
   ]
  },
  {
   "cell_type": "markdown",
   "id": "2f4cc549",
   "metadata": {},
   "source": [
    "[**Demo %s**](#demo-normaleqns-instab)\n",
    "\n",
    "\n",
    "Because the functions $\\sin^2(t)$, $\\cos^2(t)$, and $1$ are linearly dependent, we should find that the following matrix is somewhat ill-conditioned."
   ]
  },
  {
   "cell_type": "code",
   "execution_count": 2,
   "id": "7be73d14",
   "metadata": {
    "execution": {
     "iopub.execute_input": "2025-01-11T17:34:03.744521Z",
     "iopub.status.busy": "2025-01-11T17:34:03.744402Z",
     "iopub.status.idle": "2025-01-11T17:34:03.750957Z",
     "shell.execute_reply": "2025-01-11T17:34:03.750720Z"
    }
   },
   "outputs": [
    {
     "name": "stdout",
     "output_type": "stream",
     "text": [
      "cond(A) is 1.825e+07\n"
     ]
    }
   ],
   "source": [
    "from numpy.linalg import cond\n",
    "t = linspace(0, 3, 400)\n",
    "A = array([ [sin(t)**2, cos((1+1e-7)*t)**2, 1] for t in t ])\n",
    "kappa = cond(A)\n",
    "print(f\"cond(A) is {kappa:.3e}\")"
   ]
  },
  {
   "cell_type": "markdown",
   "id": "9ddd6c8c",
   "metadata": {},
   "source": [
    "Now we set up an artificial linear least-squares problem with a known exact solution that actually makes the residual zero."
   ]
  },
  {
   "cell_type": "code",
   "execution_count": 3,
   "id": "52632fe3",
   "metadata": {
    "execution": {
     "iopub.execute_input": "2025-01-11T17:34:03.752115Z",
     "iopub.status.busy": "2025-01-11T17:34:03.752018Z",
     "iopub.status.idle": "2025-01-11T17:34:03.753574Z",
     "shell.execute_reply": "2025-01-11T17:34:03.753376Z"
    }
   },
   "outputs": [],
   "source": [
    "x = array([1, 2, 1])\n",
    "b = A @ x"
   ]
  },
  {
   "cell_type": "markdown",
   "id": "7cb51b16",
   "metadata": {},
   "source": [
    "Using backslash to find the least-squares solution, we get a relative error that is well below $\\kappa$ times machine epsilon."
   ]
  },
  {
   "cell_type": "code",
   "execution_count": 4,
   "id": "8f0f69a1",
   "metadata": {
    "execution": {
     "iopub.execute_input": "2025-01-11T17:34:03.754704Z",
     "iopub.status.busy": "2025-01-11T17:34:03.754615Z",
     "iopub.status.idle": "2025-01-11T17:34:03.756522Z",
     "shell.execute_reply": "2025-01-11T17:34:03.756295Z"
    }
   },
   "outputs": [
    {
     "name": "stdout",
     "output_type": "stream",
     "text": [
      "observed error: 1.490e-11\n",
      "conditioning bound: 4.053e-09\n"
     ]
    }
   ],
   "source": [
    "from numpy.linalg import lstsq\n",
    "x_BS = lstsq(A, b, rcond=None)[0]\n",
    "print(f\"observed error: {norm(x_BS - x) / norm(x):.3e}\")\n",
    "print(f\"conditioning bound: {kappa * finfo(float).eps:.3e}\")"
   ]
  },
  {
   "cell_type": "markdown",
   "id": "4dbf1c48",
   "metadata": {},
   "source": [
    "If we formulate and solve via the normal equations, we get a much larger relative error. With $\\kappa^2\\approx 10^{14}$, we may not be left with more than about 2 accurate digits."
   ]
  },
  {
   "cell_type": "code",
   "execution_count": 5,
   "id": "31f3f9ff",
   "metadata": {
    "execution": {
     "iopub.execute_input": "2025-01-11T17:34:03.757596Z",
     "iopub.status.busy": "2025-01-11T17:34:03.757510Z",
     "iopub.status.idle": "2025-01-11T17:34:03.759828Z",
     "shell.execute_reply": "2025-01-11T17:34:03.759600Z"
    }
   },
   "outputs": [
    {
     "name": "stdout",
     "output_type": "stream",
     "text": [
      "observed error: 2.031e-02\n",
      "accurate digits: 1.69\n"
     ]
    }
   ],
   "source": [
    "N = A.T @ A\n",
    "x_NE = linalg.solve(N, A.T @ b)\n",
    "relative_err = norm(x_NE - x) / norm(x)\n",
    "print(f\"observed error: {relative_err:.3e}\")\n",
    "print(f\"accurate digits: {-log10(relative_err):.2f}\")"
   ]
  }
 ],
 "metadata": {
  "kernelspec": {
   "display_name": "Python 3",
   "language": "python",
   "name": "python3"
  },
  "language_info": {
   "codemirror_mode": {
    "name": "ipython",
    "version": 3
   },
   "file_extension": ".py",
   "mimetype": "text/x-python",
   "name": "python",
   "nbconvert_exporter": "python",
   "pygments_lexer": "ipython3",
   "version": "3.13.0"
  },
  "numbering": {
   "headings": false
  }
 },
 "nbformat": 4,
 "nbformat_minor": 5
}
