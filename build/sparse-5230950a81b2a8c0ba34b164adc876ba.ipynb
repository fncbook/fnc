{
    "cells": [
        {
            "cell_type": "markdown",
            "source": [
                "[**Demo %s**](#demo-structure-sparse)\n",
                "\n",
                "Here we load the adjacency matrix of a graph with 2790 nodes. Each node is a web page referring to Roswell, NM, and the edges represent links between web pages. (Credit goes to Panayiotis Tsaparas and the University of Toronto for making this data public.)"
            ],
            "id": "32df861f",
            "metadata": {}
        },
        {
            "outputs": [],
            "cell_type": "code",
            "source": [
                "using SparseArrays, JLD2\n",
                "@load \"roswell.jld2\" A;      # file is on the book's website"
            ],
            "id": "03987718",
            "metadata": {
                "execution": {
                    "iopub.status.idle": "2025-01-14T16:39:58.829000Z",
                    "iopub.status.busy": "2025-01-14T16:39:53.305000Z",
                    "iopub.execute_input": "2025-01-14T16:39:54.130000Z",
                    "shell.execute_reply": "2025-01-14T16:39:58.826000Z"
                }
            },
            "execution_count": 2
        },
        {
            "cell_type": "markdown",
            "source": [
                "```{index} ! Julia; nnz\n",
                "```\n",
                "We may define the density of $\\mathbf{A}$ as the number of nonzeros divided by the total number of entries.\n",
                "```{tip}\n",
                ":class: dropdown\n",
                "Use `nnz` to count the number of nonzeros in a sparse matrix.\n",
                "```"
            ],
            "id": "56eaa62d",
            "metadata": {}
        },
        {
            "outputs": [
                {
                    "name": "stdout",
                    "output_type": "stream",
                    "text": [
                        "density = nnz(A) / (m * n) = 0.0010902994565845762"
                    ]
                },
                {
                    "name": "stdout",
                    "output_type": "stream",
                    "text": [
                        "\n"
                    ]
                }
            ],
            "cell_type": "code",
            "source": [
                "m, n = size(A)\n",
                "@show density = nnz(A) / (m * n);"
            ],
            "id": "98079882",
            "metadata": {
                "execution": {
                    "iopub.status.idle": "2025-01-14T16:39:59.862000Z",
                    "iopub.status.busy": "2025-01-14T16:39:58.838000Z",
                    "iopub.execute_input": "2025-01-14T16:39:58.841000Z",
                    "shell.execute_reply": "2025-01-14T16:39:59.861000Z"
                }
            },
            "execution_count": 3
        },
        {
            "cell_type": "markdown",
            "source": [
                "```{index} ! Julia; summarysize\n",
                "```\n",
                "\n",
                "The computer memory consumed by any variable can be discovered using `summarysize`. We can use it to compare the space needed for the sparse representation to its dense counterpart, that is, the space needed to store all the elements, whether zero or not."
            ],
            "id": "84cfe812",
            "metadata": {}
        },
        {
            "outputs": [
                {
                    "output_type": "execute_result",
                    "data": {
                        "text/plain": [
                            "550.2690513219285"
                        ]
                    },
                    "metadata": {},
                    "execution_count": 4
                }
            ],
            "cell_type": "code",
            "source": [
                "F = Matrix(A)\n",
                "Base.summarysize(F) / Base.summarysize(A)"
            ],
            "id": "beb84d8d",
            "metadata": {
                "execution": {
                    "iopub.status.idle": "2025-01-14T16:40:00.550000Z",
                    "iopub.status.busy": "2025-01-14T16:39:59.865000Z",
                    "iopub.execute_input": "2025-01-14T16:39:59.865000Z",
                    "shell.execute_reply": "2025-01-14T16:40:00.546000Z"
                }
            },
            "execution_count": 4
        },
        {
            "cell_type": "markdown",
            "source": [
                "As you can see, the storage savings are dramatic. Matrix-vector products are also much faster using the sparse form because operations with structural zeros are skipped."
            ],
            "id": "28bb636a",
            "metadata": {}
        },
        {
            "outputs": [
                {
                    "output_type": "execute_result",
                    "data": {
                        "text/plain": [
                            "0.004484833"
                        ]
                    },
                    "metadata": {},
                    "execution_count": 5
                }
            ],
            "cell_type": "code",
            "source": [
                "x = randn(n)\n",
                "A * x;   # make sure * is loaded and compiled\n",
                "@elapsed for i in 1:300\n",
                "    A * x\n",
                "end"
            ],
            "id": "594e1b8e",
            "metadata": {
                "execution": {
                    "iopub.status.idle": "2025-01-14T16:40:00.681000Z",
                    "iopub.status.busy": "2025-01-14T16:40:00.557000Z",
                    "iopub.execute_input": "2025-01-14T16:40:00.557000Z",
                    "shell.execute_reply": "2025-01-14T16:40:00.681000Z"
                }
            },
            "execution_count": 5
        },
        {
            "outputs": [
                {
                    "output_type": "execute_result",
                    "data": {
                        "text/plain": [
                            "2.059632875"
                        ]
                    },
                    "metadata": {},
                    "execution_count": 6
                }
            ],
            "cell_type": "code",
            "source": [
                "F * x;\n",
                "@elapsed for i in 1:300\n",
                "    F * x\n",
                "end"
            ],
            "id": "28997a4b",
            "metadata": {
                "execution": {
                    "iopub.status.idle": "2025-01-14T16:40:02.785000Z",
                    "iopub.status.busy": "2025-01-14T16:40:00.685000Z",
                    "iopub.execute_input": "2025-01-14T16:40:00.685000Z",
                    "shell.execute_reply": "2025-01-14T16:40:02.783000Z"
                }
            },
            "execution_count": 6
        }
    ],
    "nbformat_minor": 5,
    "metadata": {
        "language_info": {
            "file_extension": ".jl",
            "mimetype": "application/julia",
            "name": "julia",
            "version": "1.11.2"
        },
        "kernelspec": {
            "name": "julia-1.11",
            "display_name": "Julia 1",
            "language": "julia"
        },
        "numbering": {
            "headings": false
        }
    },
    "nbformat": 4
}
