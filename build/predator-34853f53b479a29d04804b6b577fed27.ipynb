{
 "cells": [
  {
   "cell_type": "code",
   "execution_count": null,
   "id": "9d541be9",
   "metadata": {},
   "outputs": [],
   "source": [
    "include(\"../../../julia/FNC_init.jl\")"
   ]
  },
  {
   "cell_type": "markdown",
   "id": "cdf9cd4b",
   "metadata": {},
   "source": [
    "[**Demo %s**](#demo-systems-predator)\n",
    "\n",
    "We encode the predator–prey equations via a function."
   ]
  },
  {
   "cell_type": "code",
   "execution_count": null,
   "id": "086bd633",
   "metadata": {},
   "outputs": [],
   "source": [
    "function predprey(u, p, t)\n",
    "    α, β = p      # rename parameters for convenience\n",
    "    y, z = u      # rename solution components\n",
    "    s = (y * z) / (1 + β * y)     # appears in both equations\n",
    "    return [y * (1 - α * y) - s, -z + s]\n",
    "end;"
   ]
  },
  {
   "cell_type": "markdown",
   "id": "0dd1ed3a",
   "metadata": {},
   "source": [
    "As before, the ODE function must accept three inputs, `u`, `p`, and `t`, even though in this case there is no explicit dependence on `t`. The second input is used to pass parameters that don't change throughout a single instance of the problem.\n",
    "\n",
    "To specify the IVP we must also provide the initial condition, which is a 2-vector here, and the interval for the independent variable."
   ]
  },
  {
   "cell_type": "code",
   "execution_count": null,
   "id": "f50e6a89",
   "metadata": {},
   "outputs": [],
   "source": [
    "using OrdinaryDiffEq\n",
    "u₀ = [1, 0.01]\n",
    "tspan = (0.0, 60.0)\n",
    "α, β = 0.1, 0.25\n",
    "ivp = ODEProblem(predprey, u₀, tspan, [α, β])"
   ]
  },
  {
   "cell_type": "markdown",
   "id": "d02ec57b",
   "metadata": {},
   "source": [
    "You can use any `DifferentialEquations` solver on the IVP system."
   ]
  },
  {
   "cell_type": "code",
   "execution_count": null,
   "id": "3b4b3153",
   "metadata": {},
   "outputs": [],
   "source": [
    "using Plots\n",
    "sol = solve(ivp, Tsit5());\n",
    "plot(sol, label=[\"prey\" \"predator\"],\n",
    "    title=\"Predator-prey solution\")"
   ]
  },
  {
   "cell_type": "markdown",
   "id": "b4c8407d",
   "metadata": {},
   "source": [
    "We can find the discrete values used to compute the interpolated solution. The `sol.u` value is a vector of vectors."
   ]
  },
  {
   "cell_type": "code",
   "execution_count": null,
   "id": "932371f1",
   "metadata": {},
   "outputs": [],
   "source": [
    "t, u = sol.t, sol.u    # extract times and solution values\n",
    "@show size(u);\n",
    "@show t[20];\n",
    "@show u[20];"
   ]
  },
  {
   "cell_type": "markdown",
   "id": "68c036e2",
   "metadata": {},
   "source": [
    "We can also use {numref}`Function {number} <function-euler>` to find the solution."
   ]
  },
  {
   "cell_type": "code",
   "execution_count": null,
   "id": "f640b064",
   "metadata": {},
   "outputs": [],
   "source": [
    "t, u = FNC.euler(ivp, 1200);"
   ]
  },
  {
   "cell_type": "markdown",
   "id": "f3920271",
   "metadata": {},
   "source": [
    "The solution `u` is a vector of [prey,predator] 2-vectors for each of the discrete times in `t`. Manipulating the vector-of-vectors output can be a little tricky. Here, we convert it to an $n\\times 2$ matrix. Each column is one component, while each row is a single value of $t$."
   ]
  },
  {
   "cell_type": "code",
   "execution_count": null,
   "id": "0ee1e364",
   "metadata": {},
   "outputs": [],
   "source": [
    "u = [u[j] for u in u, j in 1:2]\n",
    "plot!(t[1:3:end], u[1:3:end, :];\n",
    "    l=(1, :black),  m=2,\n",
    "    label=[\"Euler prey\" \"Euler predator\"])"
   ]
  },
  {
   "cell_type": "markdown",
   "id": "1ac5a4bf",
   "metadata": {},
   "source": [
    "Notice above that the accuracy of the Euler solution deteriorates rapidly.\n",
    "\n",
    "When there are just two components, it's common to plot the solution in the _phase plane_, i.e., with $u_1$ and $u_2$ along the axes and time as a parameterization of the curve.\n",
    "```{tip}\n",
    ":class: dropdown\n",
    "You can use `idxs` in the plot of a solution produced by `solve` to specify the components of the solution that appear on each axis.\n",
    "```"
   ]
  },
  {
   "cell_type": "code",
   "execution_count": null,
   "id": "4b40484f",
   "metadata": {},
   "outputs": [],
   "source": [
    "plot(sol, idxs=(1, 2),\n",
    "    title=\"Predator-prey in the phase plane\",\n",
    "    xlabel=L\"y\",  ylabel=L\"z\")"
   ]
  },
  {
   "cell_type": "markdown",
   "id": "c25bee9c",
   "metadata": {},
   "source": [
    "From this plot we can deduce that the solution approaches a periodic one, which in the phase plane is represented by a closed loop."
   ]
  }
 ],
 "metadata": {
  "kernelspec": {
   "display_name": "Julia 1",
   "language": "julia",
   "name": "julia-1.11"
  },
  "numbering": {
   "headings": false
  }
 },
 "nbformat": 4,
 "nbformat_minor": 5
}
