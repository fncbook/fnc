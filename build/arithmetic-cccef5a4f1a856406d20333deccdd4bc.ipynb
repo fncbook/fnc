{
 "cells": [
  {
   "cell_type": "markdown",
   "id": "67e12196",
   "metadata": {},
   "source": [
    "There is no double-precision number between $1$ and $1+\\epsilon_\\text{mach}$. Thus the following difference is zero despite its appearance."
   ]
  },
  {
   "cell_type": "code",
   "execution_count": 1,
   "id": "0ec99aea",
   "metadata": {
    "execution": {
     "iopub.execute_input": "2025-01-04T15:17:49.325000Z",
     "iopub.status.busy": "2025-01-04T15:17:49.035000Z",
     "iopub.status.idle": "2025-01-04T15:17:49.730000Z",
     "shell.execute_reply": "2025-01-04T15:17:49.711000Z"
    }
   },
   "outputs": [
    {
     "data": {
      "text/plain": [
       "0.0"
      ]
     },
     "execution_count": 1,
     "metadata": {},
     "output_type": "execute_result"
    }
   ],
   "source": [
    "e = eps()/2\n",
    "(1.0 + e) - 1.0"
   ]
  },
  {
   "cell_type": "markdown",
   "id": "fbff8c19",
   "metadata": {},
   "source": [
    "However, the spacing between floats in $[1/2,1)$ is $\\macheps/2$, so both $1-\\macheps/2$ and its negative are represented exactly:"
   ]
  },
  {
   "cell_type": "code",
   "execution_count": 2,
   "id": "0fbf0aad",
   "metadata": {
    "execution": {
     "iopub.execute_input": "2025-01-04T15:17:49.745000Z",
     "iopub.status.busy": "2025-01-04T15:17:49.745000Z",
     "iopub.status.idle": "2025-01-04T15:17:49.745000Z",
     "shell.execute_reply": "2025-01-04T15:17:49.745000Z"
    }
   },
   "outputs": [
    {
     "data": {
      "text/plain": [
       "1.1102230246251565e-16"
      ]
     },
     "execution_count": 2,
     "metadata": {},
     "output_type": "execute_result"
    }
   ],
   "source": [
    "1.0 + (e - 1.0)"
   ]
  },
  {
   "cell_type": "markdown",
   "id": "0b607e26",
   "metadata": {},
   "source": [
    "This is now the expected result. But we have found a rather shocking breakdown of the associative law of addition!"
   ]
  }
 ],
 "metadata": {
  "kernelspec": {
   "display_name": "Julia 1",
   "language": "julia",
   "name": "julia-1.11"
  },
  "language_info": {
   "file_extension": ".jl",
   "mimetype": "application/julia",
   "name": "julia",
   "version": "1.11.2"
  },
  "numbering": {
   "headings": false
  }
 },
 "nbformat": 4,
 "nbformat_minor": 5
}
