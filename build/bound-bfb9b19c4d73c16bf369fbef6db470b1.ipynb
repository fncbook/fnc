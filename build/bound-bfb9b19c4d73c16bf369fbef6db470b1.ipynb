{
 "cells": [
  {
   "cell_type": "code",
   "execution_count": 1,
   "id": "12a7d813",
   "metadata": {
    "tags": [
     "remove-cell"
    ]
   },
   "outputs": [],
   "source": [
    "cd  /Users/driscoll/Documents/GitHub/fnc/matlab\n",
    "FNC_init"
   ]
  },
  {
   "cell_type": "markdown",
   "id": "cb2f5044",
   "metadata": {},
   "source": [
    "[**Demo %s**](#demo-condition-bound)\n",
    "\n",
    "\n",
    "```{index} ! MATLAB; cond\n",
    "```\n",
    "MATLAB has a function `cond` to compute matrix condition numbers. By default, the 2-norm is used. As an example, the family of *Hilbert matrices* is famously badly conditioned. Here is the $6\\times 6$ case."
   ]
  },
  {
   "cell_type": "code",
   "execution_count": 2,
   "id": "730a8cd5",
   "metadata": {},
   "outputs": [
    {
     "data": {
      "text/html": [
       "<html><body><pre>A = 6×6 double\n",
       "    1.0000    0.5000    0.3333    0.2500    0.2000    0.1667\n",
       "    0.5000    0.3333    0.2500    0.2000    0.1667    0.1429\n",
       "    0.3333    0.2500    0.2000    0.1667    0.1429    0.1250\n",
       "    0.2500    0.2000    0.1667    0.1429    0.1250    0.1111\n",
       "    0.2000    0.1667    0.1429    0.1250    0.1111    0.1000\n",
       "    0.1667    0.1429    0.1250    0.1111    0.1000    0.0909\n",
       "</pre></body></html>"
      ],
      "text/plain": [
       "A = 6×6 double\n",
       "    1.0000    0.5000    0.3333    0.2500    0.2000    0.1667\n",
       "    0.5000    0.3333    0.2500    0.2000    0.1667    0.1429\n",
       "    0.3333    0.2500    0.2000    0.1667    0.1429    0.1250\n",
       "    0.2500    0.2000    0.1667    0.1429    0.1250    0.1111\n",
       "    0.2000    0.1667    0.1429    0.1250    0.1111    0.1000\n",
       "    0.1667    0.1429    0.1250    0.1111    0.1000    0.0909\n"
      ]
     },
     "execution_count": 2,
     "metadata": {},
     "output_type": "execute_result"
    },
    {
     "data": {
      "text/html": [
       "<html><body><pre>kappa = 1.4951e+07</pre></body></html>"
      ],
      "text/plain": [
       "kappa = 1.4951e+07"
      ]
     },
     "execution_count": 2,
     "metadata": {},
     "output_type": "execute_result"
    }
   ],
   "source": [
    "A = hilb(6)\n",
    "kappa = cond(A)"
   ]
  },
  {
   "cell_type": "markdown",
   "id": "ef43c1e9",
   "metadata": {},
   "source": [
    "Because $\\kappa\\approx 10^8$, it's possible to lose nearly 8 digits of accuracy in the process of passing from $\\mathbf{A}$ and $\\mathbf{b}$ to $\\mathbf{x}$. That fact is independent of the algorithm; it's inevitable once the data are expressed in finite precision. \n",
    "\n",
    "Let's engineer a linear system problem to observe the effect of a perturbation. We will make sure we know the exact answer."
   ]
  },
  {
   "cell_type": "code",
   "execution_count": 3,
   "id": "9599283c",
   "metadata": {},
   "outputs": [],
   "source": [
    "x = (1:6)';\n",
    "b = A * x;"
   ]
  },
  {
   "cell_type": "markdown",
   "id": "ce081a20",
   "metadata": {},
   "source": [
    "Now we perturb the system matrix and vector randomly by $10^{-10}$ in norm."
   ]
  },
  {
   "cell_type": "code",
   "execution_count": 4,
   "id": "d743fc29",
   "metadata": {},
   "outputs": [],
   "source": [
    "dA = randn(size(A));  dA = 1e-10 * (dA / norm(dA));\n",
    "db = randn(size(b));  db = 1e-10 * (db / norm(db));"
   ]
  },
  {
   "cell_type": "markdown",
   "id": "09ba6980",
   "metadata": {},
   "source": [
    "We solve the perturbed problem using pivoted LU and see how the solution was changed."
   ]
  },
  {
   "cell_type": "code",
   "execution_count": 5,
   "id": "2786c1b4",
   "metadata": {},
   "outputs": [],
   "source": [
    "new_x = ((A + dA) \\ (b + db));\n",
    "dx = new_x - x;"
   ]
  },
  {
   "cell_type": "markdown",
   "id": "46cd0a45",
   "metadata": {},
   "source": [
    "Here is the relative error in the solution."
   ]
  },
  {
   "cell_type": "code",
   "execution_count": 6,
   "id": "e7f34350",
   "metadata": {},
   "outputs": [
    {
     "data": {
      "text/html": [
       "<html><body><pre>relative_error = 5.1667e-05</pre></body></html>"
      ],
      "text/plain": [
       "relative_error = 5.1667e-05"
      ]
     },
     "execution_count": 6,
     "metadata": {},
     "output_type": "execute_result"
    }
   ],
   "source": [
    "relative_error = norm(dx) / norm(x)"
   ]
  },
  {
   "cell_type": "markdown",
   "id": "b11f2cd4",
   "metadata": {},
   "source": [
    "And here are upper bounds predicted using the condition number of the original matrix."
   ]
  },
  {
   "cell_type": "code",
   "execution_count": 7,
   "id": "42fa2406",
   "metadata": {},
   "outputs": [
    {
     "data": {
      "text/html": [
       "<html><body><pre>upper_bound_b = 1.5810e-04</pre></body></html>"
      ],
      "text/plain": [
       "upper_bound_b = 1.5810e-04"
      ]
     },
     "execution_count": 7,
     "metadata": {},
     "output_type": "execute_result"
    },
    {
     "data": {
      "text/html": [
       "<html><body><pre>upper_bound_A = 9.2353e-04</pre></body></html>"
      ],
      "text/plain": [
       "upper_bound_A = 9.2353e-04"
      ]
     },
     "execution_count": 7,
     "metadata": {},
     "output_type": "execute_result"
    }
   ],
   "source": [
    "upper_bound_b = (kappa * norm(db) / norm(b))\n",
    "upper_bound_A = (kappa * norm(dA) / norm(A))"
   ]
  },
  {
   "cell_type": "markdown",
   "id": "55045d0e",
   "metadata": {},
   "source": [
    "Even if we didn't make any manual perturbations to the data, machine roundoff does so at the relative level of $\\macheps$."
   ]
  },
  {
   "cell_type": "code",
   "execution_count": 8,
   "id": "49c04bdc",
   "metadata": {},
   "outputs": [
    {
     "data": {
      "text/html": [
       "<html><body><pre>relative_error = 4.5027e-11</pre></body></html>"
      ],
      "text/plain": [
       "relative_error = 4.5027e-11"
      ]
     },
     "execution_count": 8,
     "metadata": {},
     "output_type": "execute_result"
    },
    {
     "data": {
      "text/html": [
       "<html><body><pre>rounding_bound = 3.3198e-09</pre></body></html>"
      ],
      "text/plain": [
       "rounding_bound = 3.3198e-09"
      ]
     },
     "execution_count": 8,
     "metadata": {},
     "output_type": "execute_result"
    }
   ],
   "source": [
    "dx = A\\b - x;\n",
    "relative_error = norm(dx) / norm(x)\n",
    "rounding_bound = kappa * eps"
   ]
  },
  {
   "cell_type": "markdown",
   "id": "3abd7fa6",
   "metadata": {},
   "source": [
    "Larger Hilbert matrices are even more poorly conditioned:"
   ]
  },
  {
   "cell_type": "code",
   "execution_count": 9,
   "id": "e614c683",
   "metadata": {},
   "outputs": [
    {
     "data": {
      "text/html": [
       "<html><body><pre>kappa = 2.4325e+17</pre></body></html>"
      ],
      "text/plain": [
       "kappa = 2.4325e+17"
      ]
     },
     "execution_count": 9,
     "metadata": {},
     "output_type": "execute_result"
    }
   ],
   "source": [
    "A = hilb(14);\n",
    "kappa = cond(A)"
   ]
  },
  {
   "cell_type": "markdown",
   "id": "42690abf",
   "metadata": {},
   "source": [
    "Note that $\\kappa$ exceeds $1/\\macheps$. In principle we therefore may end up with an answer that has relative error greater than 100%."
   ]
  },
  {
   "cell_type": "code",
   "execution_count": 10,
   "id": "7dcfe6e5",
   "metadata": {},
   "outputs": [
    {
     "data": {
      "text/html": [
       "<html><body><pre>rounding_bound = 54.0132</pre></body></html>"
      ],
      "text/plain": [
       "rounding_bound = 54.0132"
      ]
     },
     "execution_count": 10,
     "metadata": {},
     "output_type": "execute_result"
    }
   ],
   "source": [
    "rounding_bound = kappa * eps"
   ]
  },
  {
   "cell_type": "markdown",
   "id": "9b2693ee",
   "metadata": {},
   "source": [
    "Let's put that prediction to the test."
   ]
  },
  {
   "cell_type": "code",
   "execution_count": 11,
   "id": "1001a300",
   "metadata": {},
   "outputs": [
    {
     "name": "stderr",
     "output_type": "stream",
     "text": [
      "Warning: Matrix is close to singular or badly scaled. Results may be inaccurate. RCOND =  7.292772e-20."
     ]
    },
    {
     "data": {
      "text/html": [
       "<html><body><pre>relative_error = 61.0121</pre></body></html>"
      ],
      "text/plain": [
       "relative_error = 61.0121"
      ]
     },
     "execution_count": 11,
     "metadata": {},
     "output_type": "execute_result"
    }
   ],
   "source": [
    "x = (1:14)';  b = A * x;\n",
    "dx = A\\b - x;\n",
    "relative_error = norm(dx) / norm(x)"
   ]
  },
  {
   "cell_type": "markdown",
   "id": "f14bc2b8",
   "metadata": {},
   "source": [
    "As anticipated, the solution has zero accurate digits in the 2-norm."
   ]
  }
 ],
 "metadata": {
  "kernelspec": {
   "display_name": "MATLAB Kernel",
   "language": "matlab",
   "name": "jupyter_matlab_kernel"
  },
  "language_info": {
   "file_extension": ".m",
   "mimetype": "text/x-matlab",
   "name": "matlab"
  },
  "numbering": {
   "headings": false
  }
 },
 "nbformat": 4,
 "nbformat_minor": 5
}
