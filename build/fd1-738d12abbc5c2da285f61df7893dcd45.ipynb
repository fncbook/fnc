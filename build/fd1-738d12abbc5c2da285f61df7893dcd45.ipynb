{
 "cells": [
  {
   "cell_type": "code",
   "execution_count": 1,
   "id": "ab8b9286",
   "metadata": {
    "execution": {
     "iopub.execute_input": "2025-01-05T10:21:46.825000Z",
     "iopub.status.busy": "2025-01-05T10:21:46.528000Z",
     "iopub.status.idle": "2025-01-05T10:21:54.721000Z",
     "shell.execute_reply": "2025-01-05T10:21:54.675000Z"
    }
   },
   "outputs": [
    {
     "name": "stderr",
     "output_type": "stream",
     "text": [
      "\u001b[32m\u001b[1m  Activating\u001b[22m\u001b[39m "
     ]
    },
    {
     "name": "stderr",
     "output_type": "stream",
     "text": [
      "project at `~/Documents/GitHub/fnc`\n"
     ]
    }
   ],
   "source": [
    "include(\"../../../julia/FNC_init.jl\")"
   ]
  },
  {
   "cell_type": "markdown",
   "id": "7aa18222",
   "metadata": {},
   "source": [
    "[**Demo %s**](#demo-finitediffs-fd1)\n",
    "\n",
    "If $f(x)=e^{\\,\\sin(x)}$, then $f'(0)=1$."
   ]
  },
  {
   "cell_type": "code",
   "execution_count": 2,
   "id": "5ae69535",
   "metadata": {
    "execution": {
     "iopub.execute_input": "2025-01-05T10:21:54.858000Z",
     "iopub.status.busy": "2025-01-05T10:21:54.725000Z",
     "iopub.status.idle": "2025-01-05T10:21:54.897000Z",
     "shell.execute_reply": "2025-01-05T10:21:54.896000Z"
    }
   },
   "outputs": [],
   "source": [
    "f = x -> exp(sin(x));"
   ]
  },
  {
   "cell_type": "markdown",
   "id": "04c2f619",
   "metadata": {},
   "source": [
    "Here are the first two centered differences from {numref}`table-FDcenter`."
   ]
  },
  {
   "cell_type": "code",
   "execution_count": 3,
   "id": "92b45a11",
   "metadata": {
    "execution": {
     "iopub.execute_input": "2025-01-05T10:21:54.898000Z",
     "iopub.status.busy": "2025-01-05T10:21:54.898000Z",
     "iopub.status.idle": "2025-01-05T10:21:55.497000Z",
     "shell.execute_reply": "2025-01-05T10:21:55.497000Z"
    }
   },
   "outputs": [
    {
     "name": "stdout",
     "output_type": "stream",
     "text": [
      "(CD2, CD4) = (0.9999995835069508, 1.0000016631938748)"
     ]
    },
    {
     "name": "stdout",
     "output_type": "stream",
     "text": [
      "\n"
     ]
    }
   ],
   "source": [
    "h = 0.05\n",
    "CD2 = (-f(-h) + f(h)) / 2h\n",
    "CD4 = (f(-2h) - 8f(-h) + 8f(h) - f(2h)) / 12h\n",
    "@show (CD2, CD4);"
   ]
  },
  {
   "cell_type": "markdown",
   "id": "749bc193",
   "metadata": {},
   "source": [
    "Here are the first two forward differences from {numref}`table-FDforward`."
   ]
  },
  {
   "cell_type": "code",
   "execution_count": 4,
   "id": "11da83bd",
   "metadata": {
    "execution": {
     "iopub.execute_input": "2025-01-05T10:21:55.499000Z",
     "iopub.status.busy": "2025-01-05T10:21:55.499000Z",
     "iopub.status.idle": "2025-01-05T10:21:55.502000Z",
     "shell.execute_reply": "2025-01-05T10:21:55.502000Z"
    }
   },
   "outputs": [
    {
     "name": "stdout",
     "output_type": "stream",
     "text": [
      "(FD1, FD2) = (1.024983957209069, 1.0000996111012461)\n"
     ]
    }
   ],
   "source": [
    "FD1 = (-f(0) + f(h)) / h\n",
    "FD2 = (-3f(0) + 4f(h) - f(2h)) / 2h\n",
    "@show (FD1, FD2);"
   ]
  },
  {
   "cell_type": "markdown",
   "id": "adea5ef1",
   "metadata": {},
   "source": [
    "Finally, here are the backward differences that come from reverse-negating the forward differences."
   ]
  },
  {
   "cell_type": "code",
   "execution_count": 5,
   "id": "66ad729e",
   "metadata": {
    "execution": {
     "iopub.execute_input": "2025-01-05T10:21:55.503000Z",
     "iopub.status.busy": "2025-01-05T10:21:55.503000Z",
     "iopub.status.idle": "2025-01-05T10:21:55.504000Z",
     "shell.execute_reply": "2025-01-05T10:21:55.504000Z"
    }
   },
   "outputs": [
    {
     "name": "stdout",
     "output_type": "stream",
     "text": [
      "(BD1, BD2) = (0.9750152098048326, 0.9999120340342049)\n"
     ]
    }
   ],
   "source": [
    "BD1 = (-f(-h) + f(0)) / h\n",
    "BD2 = (f(-2h) - 4f(-h) + 3f(0)) / 2h\n",
    "@show (BD1, BD2);"
   ]
  }
 ],
 "metadata": {
  "kernelspec": {
   "display_name": "Julia 1",
   "language": "julia",
   "name": "julia-1.11"
  },
  "language_info": {
   "file_extension": ".jl",
   "mimetype": "application/julia",
   "name": "julia",
   "version": "1.11.2"
  },
  "numbering": {
   "headings": false
  }
 },
 "nbformat": 4,
 "nbformat_minor": 5
}
