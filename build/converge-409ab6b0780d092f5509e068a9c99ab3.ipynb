{
 "cells": [
  {
   "cell_type": "code",
   "execution_count": 1,
   "id": "fc26bcdf",
   "metadata": {
    "tags": [
     "remove-cell"
    ]
   },
   "outputs": [],
   "source": [
    "cd  /Users/driscoll/Documents/GitHub/fnc/matlab\n",
    "FNC_init"
   ]
  },
  {
   "cell_type": "markdown",
   "id": "c2d4ecd4",
   "metadata": {},
   "source": [
    "[**Demo %s**](#demo-secant-converge)\n",
    "\n",
    "We check the convergence of the secant method from {numref}`Demo %s <demo-secant-line>`."
   ]
  },
  {
   "cell_type": "code",
   "execution_count": 2,
   "id": "14ff91a8",
   "metadata": {},
   "outputs": [],
   "source": [
    "f = @(x) x .* exp(x) - 2;\n",
    "x = secant(f, 1, 0.5);"
   ]
  },
  {
   "cell_type": "markdown",
   "id": "f2a1a5bf",
   "metadata": {},
   "source": [
    "We don't know the exact root, so we use `fzero` to get a good proxy."
   ]
  },
  {
   "cell_type": "code",
   "execution_count": 3,
   "id": "ee7e5ddb",
   "metadata": {},
   "outputs": [],
   "source": [
    "r = fzero(f, 1);"
   ]
  },
  {
   "cell_type": "markdown",
   "id": "2fab2f98",
   "metadata": {},
   "source": [
    "Here is the sequence of errors."
   ]
  },
  {
   "cell_type": "code",
   "execution_count": 4,
   "id": "0db4bb2a",
   "metadata": {},
   "outputs": [
    {
     "data": {
      "text/html": [
       "<html><body><pre>err = 7×1 double\n",
       "  -1.4739e-01\n",
       "   3.5261e-01\n",
       "   4.2234e-02\n",
       "  -1.3026e-02\n",
       "   4.2748e-04\n",
       "   4.2699e-06\n",
       "  -1.4055e-09\n",
       "</pre></body></html>"
      ],
      "text/plain": [
       "err = 7×1 double\n",
       "  -1.4739e-01\n",
       "   3.5261e-01\n",
       "   4.2234e-02\n",
       "  -1.3026e-02\n",
       "   4.2748e-04\n",
       "   4.2699e-06\n",
       "  -1.4055e-09\n"
      ]
     },
     "execution_count": 4,
     "metadata": {},
     "output_type": "execute_result"
    }
   ],
   "source": [
    "format short e\n",
    "err = r - x(1:end-1)'"
   ]
  },
  {
   "cell_type": "markdown",
   "id": "8e7fcc62",
   "metadata": {},
   "source": [
    "It's not easy to see the convergence rate by staring at these numbers. We can use {eq}`superlinear-rate` to try to expose the superlinear convergence rate."
   ]
  },
  {
   "cell_type": "code",
   "execution_count": 5,
   "id": "9d3c14d8",
   "metadata": {},
   "outputs": [
    {
     "data": {
      "text/html": [
       "<html><body><pre>ratios = 6×1 double\n",
       "   5.4444e-01\n",
       "   3.0358e+00\n",
       "   1.3717e+00\n",
       "   1.7871e+00\n",
       "   1.5938e+00\n",
       "   1.6486e+00\n",
       "</pre></body></html>"
      ],
      "text/plain": [
       "ratios = 6×1 double\n",
       "   5.4444e-01\n",
       "   3.0358e+00\n",
       "   1.3717e+00\n",
       "   1.7871e+00\n",
       "   1.5938e+00\n",
       "   1.6486e+00\n"
      ]
     },
     "execution_count": 5,
     "metadata": {},
     "output_type": "execute_result"
    }
   ],
   "source": [
    "logerr = log(abs(err));\n",
    "ratios = logerr(2:end) ./ logerr(1:end-1)"
   ]
  },
  {
   "cell_type": "markdown",
   "id": "0628186f",
   "metadata": {},
   "source": [
    "As expected, this settles in at around 1.618."
   ]
  }
 ],
 "metadata": {
  "kernelspec": {
   "display_name": "MATLAB Kernel",
   "language": "matlab",
   "name": "jupyter_matlab_kernel"
  },
  "language_info": {
   "file_extension": ".m",
   "mimetype": "text/x-matlab",
   "name": "matlab"
  },
  "numbering": {
   "headings": false
  }
 },
 "nbformat": 4,
 "nbformat_minor": 5
}
