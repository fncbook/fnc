{
    "cells": [
        {
            "cell_type": "markdown",
            "source": [
                "[**Demo %s**](#demo-lu-solve)\n",
                "\n",
                "Here are the data for a linear system $\\mathbf{A}\\mathbf{x}=\\mathbf{b}$."
            ],
            "id": "bf881d9a",
            "metadata": {}
        },
        {
            "outputs": [],
            "cell_type": "code",
            "source": [
                "A = [2 0 4 3; -4 5 -7 -10; 1 15 2 -4.5; -2 0 2 -13];\n",
                "b = [4; 9; 9; 4];"
            ],
            "id": "f0f2a59c",
            "metadata": {},
            "execution_count": 2
        },
        {
            "cell_type": "markdown",
            "source": [
                "We apply {numref}`Function {number} <function-lufact>` and then do two triangular solves."
            ],
            "id": "1c690722",
            "metadata": {}
        },
        {
            "outputs": [
                {
                    "output_type": "execute_result",
                    "data": {
                        "text/plain": [
                            "L = 4×4 double\n",
                            "    1.0000         0         0         0\n",
                            "   -2.0000    1.0000         0         0\n",
                            "    0.5000    3.0000    1.0000         0\n",
                            "   -1.0000         0   -2.0000    1.0000\n"
                        ],
                        "text/html": [
                            "<html><body><pre>L = 4×4 double\n",
                            "    1.0000         0         0         0\n",
                            "   -2.0000    1.0000         0         0\n",
                            "    0.5000    3.0000    1.0000         0\n",
                            "   -1.0000         0   -2.0000    1.0000\n",
                            "</pre></body></html>"
                        ]
                    },
                    "metadata": {},
                    "execution_count": 3
                },
                {
                    "output_type": "execute_result",
                    "data": {
                        "text/plain": [
                            "U = 4×4 double\n",
                            "     2     0     4     3\n",
                            "     0     5     1    -4\n",
                            "     0     0    -3     6\n",
                            "     0     0     0     2\n"
                        ],
                        "text/html": [
                            "<html><body><pre>U = 4×4 double\n",
                            "     2     0     4     3\n",
                            "     0     5     1    -4\n",
                            "     0     0    -3     6\n",
                            "     0     0     0     2\n",
                            "</pre></body></html>"
                        ]
                    },
                    "metadata": {},
                    "execution_count": 3
                }
            ],
            "cell_type": "code",
            "source": [
                "[L, U] = lufact(A)\n",
                "z = forwardsub(L, b);\n",
                "x = backsub(U, z);"
            ],
            "id": "3592fd5b",
            "metadata": {},
            "execution_count": 3
        },
        {
            "cell_type": "markdown",
            "source": [
                "A check on the residual assures us that we found the solution."
            ],
            "id": "a924bf96",
            "metadata": {}
        },
        {
            "outputs": [
                {
                    "output_type": "execute_result",
                    "data": {
                        "text/plain": [
                            "ans = 4×1 double\n",
                            "1.0e-13 *\n",
                            "\n",
                            "         0\n",
                            "   -0.5684\n",
                            "    0.2842\n",
                            "         0\n"
                        ],
                        "text/html": [
                            "<html><body><pre>ans = 4×1 double\n",
                            "1.0e-13 *\n",
                            "\n",
                            "         0\n",
                            "   -0.5684\n",
                            "    0.2842\n",
                            "         0\n",
                            "</pre></body></html>"
                        ]
                    },
                    "metadata": {},
                    "execution_count": 4
                }
            ],
            "cell_type": "code",
            "source": [
                "b - A * x"
            ],
            "id": "320a1aac",
            "metadata": {},
            "execution_count": 4
        }
    ],
    "nbformat_minor": 5,
    "metadata": {
        "language_info": {
            "file_extension": ".m",
            "mimetype": "text/x-matlab",
            "name": "matlab"
        },
        "kernelspec": {
            "name": "jupyter_matlab_kernel",
            "display_name": "MATLAB Kernel",
            "language": "matlab"
        },
        "numbering": {
            "headings": false
        }
    },
    "nbformat": 4
}
