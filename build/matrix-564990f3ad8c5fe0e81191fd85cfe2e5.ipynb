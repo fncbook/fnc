{
 "cells": [
  {
   "cell_type": "code",
   "execution_count": 11,
   "id": "d8636296",
   "metadata": {
    "execution": {
     "iopub.execute_input": "2025-01-11T17:43:46.750185Z",
     "iopub.status.busy": "2025-01-11T17:43:46.750030Z",
     "iopub.status.idle": "2025-01-11T17:43:47.100126Z",
     "shell.execute_reply": "2025-01-11T17:43:47.099753Z"
    },
    "tags": [
     "remove-cell"
    ]
   },
   "outputs": [],
   "source": [
    "exec(open(\"../../../python/FNC_init.py\").read())"
   ]
  },
  {
   "cell_type": "markdown",
   "id": "a633fa45",
   "metadata": {},
   "source": [
    "[**Demo %s**](#demo-norms-matrix)"
   ]
  },
  {
   "cell_type": "code",
   "execution_count": 12,
   "id": "17e24a63",
   "metadata": {
    "execution": {
     "iopub.execute_input": "2025-01-11T17:43:47.102293Z",
     "iopub.status.busy": "2025-01-11T17:43:47.102113Z",
     "iopub.status.idle": "2025-01-11T17:43:47.104400Z",
     "shell.execute_reply": "2025-01-11T17:43:47.104007Z"
    }
   },
   "outputs": [],
   "source": [
    "from numpy.linalg import norm\n",
    "A = array([ [2, 0], [1, -1] ])"
   ]
  },
  {
   "cell_type": "markdown",
   "id": "b2f6c72e",
   "metadata": {},
   "source": [
    "```{index} ! Python; norm\n",
    "```\n",
    "\n",
    "The default matrix norm is *not* the 2-norm. Instead, you must provide the 2 explicitly."
   ]
  },
  {
   "cell_type": "code",
   "execution_count": 13,
   "id": "2885fbea",
   "metadata": {
    "execution": {
     "iopub.execute_input": "2025-01-11T17:43:47.106329Z",
     "iopub.status.busy": "2025-01-11T17:43:47.106140Z",
     "iopub.status.idle": "2025-01-11T17:43:47.108237Z",
     "shell.execute_reply": "2025-01-11T17:43:47.107976Z"
    }
   },
   "outputs": [
    {
     "name": "stdout",
     "output_type": "stream",
     "text": [
      "2.2882456112707374\n"
     ]
    }
   ],
   "source": [
    "print(norm(A, 2))"
   ]
  },
  {
   "cell_type": "markdown",
   "id": "675ee8d6",
   "metadata": {},
   "source": [
    "You can get the 1-norm as well."
   ]
  },
  {
   "cell_type": "code",
   "execution_count": 14,
   "id": "227457c5",
   "metadata": {
    "execution": {
     "iopub.execute_input": "2025-01-11T17:43:47.109454Z",
     "iopub.status.busy": "2025-01-11T17:43:47.109356Z",
     "iopub.status.idle": "2025-01-11T17:43:47.111061Z",
     "shell.execute_reply": "2025-01-11T17:43:47.110831Z"
    }
   },
   "outputs": [
    {
     "name": "stdout",
     "output_type": "stream",
     "text": [
      "3.0\n"
     ]
    }
   ],
   "source": [
    "print(norm(A, 1))"
   ]
  },
  {
   "cell_type": "markdown",
   "id": "5bb5d2f8",
   "metadata": {},
   "source": [
    "```{index} ! Python; max, Python; sum\n",
    "```\n",
    "\n",
    "The 1-norm is equivalent to"
   ]
  },
  {
   "cell_type": "code",
   "execution_count": 15,
   "id": "f7a1780d",
   "metadata": {
    "execution": {
     "iopub.execute_input": "2025-01-11T17:43:47.112159Z",
     "iopub.status.busy": "2025-01-11T17:43:47.112086Z",
     "iopub.status.idle": "2025-01-11T17:43:47.113765Z",
     "shell.execute_reply": "2025-01-11T17:43:47.113509Z"
    }
   },
   "outputs": [
    {
     "name": "stdout",
     "output_type": "stream",
     "text": [
      "3\n"
     ]
    }
   ],
   "source": [
    "print(max( sum(abs(A), axis=0)) )  # sum down the rows"
   ]
  },
  {
   "cell_type": "markdown",
   "id": "24897285",
   "metadata": {},
   "source": [
    "Similarly, we can get the $\\infty$-norm and check our formula for it."
   ]
  },
  {
   "cell_type": "code",
   "execution_count": 16,
   "id": "e61a9fe9",
   "metadata": {
    "execution": {
     "iopub.execute_input": "2025-01-11T17:43:47.114791Z",
     "iopub.status.busy": "2025-01-11T17:43:47.114725Z",
     "iopub.status.idle": "2025-01-11T17:43:47.116387Z",
     "shell.execute_reply": "2025-01-11T17:43:47.116136Z"
    }
   },
   "outputs": [
    {
     "name": "stdout",
     "output_type": "stream",
     "text": [
      "2.0\n"
     ]
    }
   ],
   "source": [
    "print(norm(A, inf))"
   ]
  },
  {
   "cell_type": "code",
   "execution_count": 17,
   "id": "a6159d46",
   "metadata": {
    "execution": {
     "iopub.execute_input": "2025-01-11T17:43:47.117438Z",
     "iopub.status.busy": "2025-01-11T17:43:47.117356Z",
     "iopub.status.idle": "2025-01-11T17:43:47.119084Z",
     "shell.execute_reply": "2025-01-11T17:43:47.118854Z"
    }
   },
   "outputs": [
    {
     "name": "stdout",
     "output_type": "stream",
     "text": [
      "2\n"
     ]
    }
   ],
   "source": [
    "print(max( sum(abs(A), axis=1)) )  # sum across columns "
   ]
  },
  {
   "cell_type": "markdown",
   "id": "4ecff55b",
   "metadata": {},
   "source": [
    "Here we illustrate the geometric interpretation of the 2-norm. First, we will sample a lot of vectors on the unit circle in $\\mathbb{R}^2$."
   ]
  },
  {
   "cell_type": "code",
   "execution_count": 18,
   "id": "4ba8a1bd",
   "metadata": {
    "execution": {
     "iopub.execute_input": "2025-01-11T17:43:47.120170Z",
     "iopub.status.busy": "2025-01-11T17:43:47.120085Z",
     "iopub.status.idle": "2025-01-11T17:43:47.121825Z",
     "shell.execute_reply": "2025-01-11T17:43:47.121607Z"
    }
   },
   "outputs": [],
   "source": [
    "theta = linspace(0, 2*pi, 601)\n",
    "x = vstack([cos(theta), sin(theta)])  # 601 unit columns"
   ]
  },
  {
   "cell_type": "markdown",
   "id": "b5f4d8d4",
   "metadata": {},
   "source": [
    "The linear function $\\mathbf{f}(\\mathbf{x}) = \\mathbf{A}\\mathbf{x}$ defines a mapping from $\\mathbb{R}^2$ to $\\mathbb{R}^2$. We can apply `A` to every column of `x` simply by using a matrix multiplication."
   ]
  },
  {
   "cell_type": "code",
   "execution_count": 19,
   "id": "b16cc9f3",
   "metadata": {
    "execution": {
     "iopub.execute_input": "2025-01-11T17:43:47.122920Z",
     "iopub.status.busy": "2025-01-11T17:43:47.122847Z",
     "iopub.status.idle": "2025-01-11T17:43:47.124440Z",
     "shell.execute_reply": "2025-01-11T17:43:47.124229Z"
    }
   },
   "outputs": [],
   "source": [
    "y = A @ x"
   ]
  },
  {
   "cell_type": "markdown",
   "id": "538ea995",
   "metadata": {},
   "source": [
    "We plot the unit circle on the left and the image of all mapped vectors on the right:"
   ]
  },
  {
   "cell_type": "code",
   "execution_count": 20,
   "id": "ed67d5ee",
   "metadata": {
    "execution": {
     "iopub.execute_input": "2025-01-11T17:43:47.125517Z",
     "iopub.status.busy": "2025-01-11T17:43:47.125447Z",
     "iopub.status.idle": "2025-01-11T17:43:47.328331Z",
     "shell.execute_reply": "2025-01-11T17:43:47.327870Z"
    }
   },
   "outputs": [
    {
     "data": {
      "image/png": "[encoded data removed]",
      "text/plain": [
       "<Figure size 700x400 with 2 Axes>"
      ]
     },
     "metadata": {},
     "output_type": "display_data"
    }
   ],
   "source": [
    "subplot(1,2,1)\n",
    "plot(x[0, :], x[1, :])\n",
    "axis(\"equal\")\n",
    "title(\"Unit circle\")\n",
    "xlabel(\"$x_1$\"),  ylabel(\"$x_2$\")\n",
    "\n",
    "subplot(1,2,2)\n",
    "plot(y[0, :], y[1, :])\n",
    "plot(norm(A, 2) * x[0, :], norm(A,2) * x[1, :],\"k--\")\n",
    "axis(\"equal\")\n",
    "title(\"Image under map\")\n",
    "xlabel(\"$y_1$\");  ylabel(\"$y_2$\");"
   ]
  },
  {
   "cell_type": "markdown",
   "id": "df599f77",
   "metadata": {},
   "source": [
    "As seen on the right-side plot, the image of the transformed vectors is an ellipse that just touches the circle of radius $\\|\\mathbf{A}\\|_2$."
   ]
  }
 ],
 "metadata": {
  "kernelspec": {
   "display_name": "myst",
   "language": "python",
   "name": "python3"
  },
  "language_info": {
   "codemirror_mode": {
    "name": "ipython",
    "version": 3
   },
   "file_extension": ".py",
   "mimetype": "text/x-python",
   "name": "python",
   "nbconvert_exporter": "python",
   "pygments_lexer": "ipython3",
   "version": "3.13.0"
  },
  "numbering": {
   "headings": false
  }
 },
 "nbformat": 4,
 "nbformat_minor": 5
}
