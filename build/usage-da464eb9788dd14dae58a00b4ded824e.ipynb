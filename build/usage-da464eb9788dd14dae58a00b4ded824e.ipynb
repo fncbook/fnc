{
    "cells": [
        {
            "cell_type": "markdown",
            "source": [
                "[**Demo %s**](#demo-pivoting-usage)\n",
                "\n",
                "The third output of `plufact` is the permutation vector we need to apply to $\\mathbf{A}$."
            ],
            "id": "e6fc7520",
            "metadata": {}
        },
        {
            "outputs": [
                {
                    "output_type": "execute_result",
                    "data": {
                        "text/plain": [
                            "ans = 4×4 double\n",
                            "1.0e-15 *\n",
                            "\n",
                            "         0         0         0         0\n",
                            "         0         0         0         0\n",
                            "         0         0         0         0\n",
                            "         0         0    0.4441         0\n"
                        ],
                        "text/html": [
                            "<html><body><pre>ans = 4×4 double\n",
                            "1.0e-15 *\n",
                            "\n",
                            "         0         0         0         0\n",
                            "         0         0         0         0\n",
                            "         0         0         0         0\n",
                            "         0         0    0.4441         0\n",
                            "</pre></body></html>"
                        ]
                    },
                    "metadata": {},
                    "execution_count": 2
                }
            ],
            "cell_type": "code",
            "source": [
                "A = randi(20, 4, 4);\n",
                "[L, U, p] = plufact(A);\n",
                "A(p, :) - L * U    % should be ≈ 0"
            ],
            "id": "9d72aad5",
            "metadata": {},
            "execution_count": 2
        },
        {
            "cell_type": "markdown",
            "source": [
                "Given a vector $\\mathbf{b}$, we solve $\\mathbf{A}\\mathbf{x}=\\mathbf{b}$ by first permuting the entries of $\\mathbf{b}$ and then proceeding as before."
            ],
            "id": "536bc8e2",
            "metadata": {}
        },
        {
            "outputs": [
                {
                    "output_type": "execute_result",
                    "data": {
                        "text/plain": [
                            "x = 4×1 double\n",
                            "   -0.3567\n",
                            "    0.0548\n",
                            "    0.2904\n",
                            "    0.1998\n"
                        ],
                        "text/html": [
                            "<html><body><pre>x = 4×1 double\n",
                            "   -0.3567\n",
                            "    0.0548\n",
                            "    0.2904\n",
                            "    0.1998\n",
                            "</pre></body></html>"
                        ]
                    },
                    "metadata": {},
                    "execution_count": 3
                }
            ],
            "cell_type": "code",
            "source": [
                "b = rand(4, 1);\n",
                "z = forwardsub(L, b(p));\n",
                "x = backsub(U, z)"
            ],
            "id": "8d1c21b5",
            "metadata": {},
            "execution_count": 3
        },
        {
            "cell_type": "markdown",
            "source": [
                "A residual check is successful:"
            ],
            "id": "c00285c6",
            "metadata": {}
        },
        {
            "outputs": [
                {
                    "output_type": "execute_result",
                    "data": {
                        "text/plain": [
                            "ans = 4×1 double\n",
                            "1.0e-15 *\n",
                            "\n",
                            "   -0.3331\n",
                            "    0.1110\n",
                            "         0\n",
                            "   -0.3331\n"
                        ],
                        "text/html": [
                            "<html><body><pre>ans = 4×1 double\n",
                            "1.0e-15 *\n",
                            "\n",
                            "   -0.3331\n",
                            "    0.1110\n",
                            "         0\n",
                            "   -0.3331\n",
                            "</pre></body></html>"
                        ]
                    },
                    "metadata": {},
                    "execution_count": 4
                }
            ],
            "cell_type": "code",
            "source": [
                "b - A*x"
            ],
            "id": "083f3582",
            "metadata": {},
            "execution_count": 4
        }
    ],
    "nbformat_minor": 5,
    "metadata": {
        "language_info": {
            "file_extension": ".m",
            "mimetype": "text/x-matlab",
            "name": "matlab"
        },
        "kernelspec": {
            "name": "jupyter_matlab_kernel",
            "display_name": "MATLAB Kernel",
            "language": "matlab"
        },
        "numbering": {
            "headings": false
        }
    },
    "nbformat": 4
}
