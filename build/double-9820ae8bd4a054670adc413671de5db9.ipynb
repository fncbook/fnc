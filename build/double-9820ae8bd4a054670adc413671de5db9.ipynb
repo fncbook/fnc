{
 "cells": [
  {
   "cell_type": "code",
   "execution_count": null,
   "id": "6e8fd999",
   "metadata": {
    "execution": {
     "iopub.execute_input": "2025-01-11T18:52:07.703051Z",
     "iopub.status.busy": "2025-01-11T18:52:07.702835Z",
     "iopub.status.idle": "2025-01-11T18:52:07.706006Z",
     "shell.execute_reply": "2025-01-11T18:52:07.705569Z"
    },
    "tags": [
     "remove-cell"
    ]
   },
   "outputs": [],
   "source": [
    "cd  /Users/driscoll/Documents/GitHub/fnc/matlab\n",
    "FNC_init"
   ]
  },
  {
   "cell_type": "markdown",
   "id": "ff1dc14f",
   "metadata": {},
   "source": [
    "[**Demo %s**](#demo-float-double)\n",
    "\n",
    "In MATLAB, values are double-precision floats unless declared otherwise."
   ]
  },
  {
   "cell_type": "code",
   "execution_count": 2,
   "id": "acefc409",
   "metadata": {
    "execution": {
     "iopub.execute_input": "2025-01-11T18:52:07.708855Z",
     "iopub.status.busy": "2025-01-11T18:52:07.708735Z",
     "iopub.status.idle": "2025-01-11T18:52:07.711485Z",
     "shell.execute_reply": "2025-01-11T18:52:07.710929Z"
    }
   },
   "outputs": [
    {
     "name": "stdout",
     "output_type": "stream",
     "text": [
      "1 has type: double1.0 has type: double"
     ]
    }
   ],
   "source": [
    "fprintf('1 has type: %s', class(1))\n",
    "fprintf('1.0 has type: %s', class(1.0))"
   ]
  },
  {
   "cell_type": "markdown",
   "id": "ec175ed7",
   "metadata": {},
   "source": [
    "The spacing between floating-point values in $[2^n,2^{n+1})$ is $2^n \\epsilon_\\text{mach}$, where $\\epsilon_\\text{mach}$ is machine epsilon. Its value is predefined as `eps`.\n",
    "\n",
    "```{tip}\n",
    ":class: dropdown\n",
    "While you can assign a different value to `eps`, doing so does not change any arithmetic. It's generally a bad idea. \n",
    "```"
   ]
  },
  {
   "cell_type": "code",
   "execution_count": 3,
   "id": "4bec5e97",
   "metadata": {
    "execution": {
     "iopub.execute_input": "2025-01-11T18:52:07.714260Z",
     "iopub.status.busy": "2025-01-11T18:52:07.714071Z",
     "iopub.status.idle": "2025-01-11T18:52:07.716538Z",
     "shell.execute_reply": "2025-01-11T18:52:07.716052Z"
    }
   },
   "outputs": [
    {
     "data": {
      "text/html": [
       "<html><body><pre>ans = 2.2204e-16</pre></body></html>"
      ],
      "text/plain": [
       "ans = 2.2204e-16"
      ]
     },
     "execution_count": 3,
     "metadata": {},
     "output_type": "execute_result"
    }
   ],
   "source": [
    "eps"
   ]
  },
  {
   "cell_type": "markdown",
   "id": "eba630f6",
   "metadata": {},
   "source": [
    "Because double precision allocates 52 bits to the significand, the default value of machine epsilon is $2^{-52}$."
   ]
  },
  {
   "cell_type": "code",
   "execution_count": 4,
   "id": "1c59f95f",
   "metadata": {
    "execution": {
     "iopub.execute_input": "2025-01-11T18:52:07.719254Z",
     "iopub.status.busy": "2025-01-11T18:52:07.718954Z",
     "iopub.status.idle": "2025-01-11T18:52:07.721271Z",
     "shell.execute_reply": "2025-01-11T18:52:07.720853Z"
    }
   },
   "outputs": [
    {
     "data": {
      "text/html": [
       "<html><body><pre>ans = -52</pre></body></html>"
      ],
      "text/plain": [
       "ans = -52"
      ]
     },
     "execution_count": 4,
     "metadata": {},
     "output_type": "execute_result"
    }
   ],
   "source": [
    "log2(eps)"
   ]
  },
  {
   "cell_type": "markdown",
   "id": "79b68209",
   "metadata": {},
   "source": [
    "The spacing between adjacent floating-point values is proportional to the magnitude of the value itself. This is how relative precision is kept roughly constant throughout the range of values. You can get the adjusted spacing by calling `eps` with a value."
   ]
  },
  {
   "cell_type": "code",
   "execution_count": 5,
   "id": "c996e841",
   "metadata": {
    "execution": {
     "iopub.execute_input": "2025-01-11T18:52:07.723205Z",
     "iopub.status.busy": "2025-01-11T18:52:07.723069Z",
     "iopub.status.idle": "2025-01-11T18:52:07.725058Z",
     "shell.execute_reply": "2025-01-11T18:52:07.724752Z"
    }
   },
   "outputs": [
    {
     "data": {
      "text/html": [
       "<html><body><pre>ans = 2.2204e-16</pre></body></html>"
      ],
      "text/plain": [
       "ans = 2.2204e-16"
      ]
     },
     "execution_count": 5,
     "metadata": {},
     "output_type": "execute_result"
    }
   ],
   "source": [
    "eps(1.618)"
   ]
  },
  {
   "cell_type": "code",
   "execution_count": 6,
   "id": "8b959224",
   "metadata": {
    "execution": {
     "iopub.execute_input": "2025-01-11T18:52:07.726713Z",
     "iopub.status.busy": "2025-01-11T18:52:07.726591Z",
     "iopub.status.idle": "2025-01-11T18:52:07.728459Z",
     "shell.execute_reply": "2025-01-11T18:52:07.728134Z"
    }
   },
   "outputs": [
    {
     "data": {
      "text/html": [
       "<html><body><pre>ans = 2.8422e-14</pre></body></html>"
      ],
      "text/plain": [
       "ans = 2.8422e-14"
      ]
     },
     "execution_count": 6,
     "metadata": {},
     "output_type": "execute_result"
    }
   ],
   "source": [
    "eps(161.8)"
   ]
  },
  {
   "cell_type": "code",
   "execution_count": 7,
   "id": "3b21af45",
   "metadata": {
    "execution": {
     "iopub.execute_input": "2025-01-11T18:52:07.730118Z",
     "iopub.status.busy": "2025-01-11T18:52:07.730002Z",
     "iopub.status.idle": "2025-01-11T18:52:07.731716Z",
     "shell.execute_reply": "2025-01-11T18:52:07.731430Z"
    }
   },
   "outputs": [
    {
     "data": {
      "text/html": [
       "<html><body><pre>ans = 0</pre></body></html>"
      ],
      "text/plain": [
       "ans = 0"
      ]
     },
     "execution_count": 7,
     "metadata": {},
     "output_type": "execute_result"
    }
   ],
   "source": [
    "x = 161.8 + 0.1*eps(161.8);\n",
    "x - 161.8"
   ]
  },
  {
   "cell_type": "markdown",
   "id": "23e6ad75",
   "metadata": {},
   "source": [
    "A common mistake is to think that $\\epsilon_\\text{mach}$ is the smallest floating-point number. It's only the smallest *relative to 1*. The correct perspective is that the scaling of values is limited by the exponent, not the mantissa. The actual range of positive values in double precision is"
   ]
  },
  {
   "cell_type": "code",
   "execution_count": 8,
   "id": "ad1c05fc",
   "metadata": {
    "execution": {
     "iopub.execute_input": "2025-01-11T18:52:07.733669Z",
     "iopub.status.busy": "2025-01-11T18:52:07.733543Z",
     "iopub.status.idle": "2025-01-11T18:52:07.735434Z",
     "shell.execute_reply": "2025-01-11T18:52:07.735087Z"
    }
   },
   "outputs": [
    {
     "data": {
      "text/html": [
       "<html><body><pre>ans = 1×2 double\n",
       "1.0e+00 *\n",
       "\n",
       "  2.2251e-308  1.7977e+308\n",
       "</pre></body></html>"
      ],
      "text/plain": [
       "ans = 1×2 double\n",
       "1.0e+00 *\n",
       "\n",
       "  2.2251e-308  1.7977e+308\n"
      ]
     },
     "execution_count": 8,
     "metadata": {},
     "output_type": "execute_result"
    }
   ],
   "source": [
    "format short e\n",
    "[realmin, realmax]"
   ]
  }
 ],
 "metadata": {
  "kernelspec": {
   "display_name": "MATLAB Kernel",
   "language": "matlab",
   "name": "jupyter_matlab_kernel"
  },
  "language_info": {
   "file_extension": ".m",
   "mimetype": "text/x-matlab",
   "name": "matlab"
  },
  "numbering": {
   "headings": false
  }
 },
 "nbformat": 4,
 "nbformat_minor": 5
}
