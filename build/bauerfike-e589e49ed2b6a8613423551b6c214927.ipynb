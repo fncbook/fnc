{
    "cells": [
        {
            "cell_type": "markdown",
            "source": [
                "[**Demo %s**](#demo-evd-bauerfike)\n",
                "\n",
                "\n",
                "```{index} MATLAB; adjoint, MATLAB; \\'\n",
                "```\n",
                "\n",
                "We first define a hermitian matrix. Note that the `'` operation is the adjoint and includes complex conjugation."
            ],
            "id": "bd4942de",
            "metadata": {}
        },
        {
            "outputs": [],
            "cell_type": "code",
            "source": [
                "n = 7;\n",
                "A = randn(n, n) + 1i * randn(n, n);\n",
                "A = (A + A') / 2;"
            ],
            "id": "9721335f",
            "metadata": {},
            "execution_count": 2
        },
        {
            "cell_type": "markdown",
            "source": [
                "We confirm that the matrix $\\mathbf{A}$ is normal by checking that $\\kappa(\\mathbf{V}) = 1$ (to within roundoff)."
            ],
            "id": "b62567cc",
            "metadata": {}
        },
        {
            "outputs": [
                {
                    "output_type": "execute_result",
                    "data": {
                        "text/plain": [
                            "ans = 1.0000"
                        ],
                        "text/html": [
                            "<html><body><pre>ans = 1.0000</pre></body></html>"
                        ]
                    },
                    "metadata": {},
                    "execution_count": 3
                }
            ],
            "cell_type": "code",
            "source": [
                "[V, D] = eig(A);\n",
                "lambda = diag(D);\n",
                "cond(V)"
            ],
            "id": "b3240341",
            "metadata": {},
            "execution_count": 3
        },
        {
            "cell_type": "markdown",
            "source": [
                "Now we perturb $\\mathbf{A}$ and measure the effect on the eigenvalues. The Bauer–Fike theorem uses absolute differences, not relative ones. Note: since the ordering of eigenvalues can change, we look at all pairwise differences and take the minima."
            ],
            "id": "30540639",
            "metadata": {}
        },
        {
            "outputs": [
                {
                    "output_type": "execute_result",
                    "data": {
                        "text/plain": [
                            "dist = 7×1 double\n",
                            "1.0e-08 *\n",
                            "\n",
                            "    0.2356\n",
                            "    0.1025\n",
                            "    0.1895\n",
                            "    0.0512\n",
                            "    0.0388\n",
                            "    0.2337\n",
                            "    0.2547\n"
                        ],
                        "text/html": [
                            "<html><body><pre>dist = 7×1 double\n",
                            "1.0e-08 *\n",
                            "\n",
                            "    0.2356\n",
                            "    0.1025\n",
                            "    0.1895\n",
                            "    0.0512\n",
                            "    0.0388\n",
                            "    0.2337\n",
                            "    0.2547\n",
                            "</pre></body></html>"
                        ]
                    },
                    "metadata": {},
                    "execution_count": 4
                }
            ],
            "cell_type": "code",
            "source": [
                "E = randn(n, n) + 1i * randn(n, n);\n",
                "E = 1e-8 * E / norm(E);\n",
                "dd = eig(A + E);\n",
                "dist = [];\n",
                "for j = 1:n\n",
                "    dist = [dist; min(abs(dd - lambda(j)))];\n",
                "end\n",
                "dist"
            ],
            "id": "36009e92",
            "metadata": {},
            "execution_count": 4
        },
        {
            "cell_type": "markdown",
            "source": [
                "As promised, the perturbations in the eigenvalues do not exceed the normwise perturbation to the original matrix.\n",
                "\n",
                "Now we see what happens for a triangular matrix."
            ],
            "id": "57d487b4",
            "metadata": {}
        },
        {
            "outputs": [
                {
                    "output_type": "execute_result",
                    "data": {
                        "text/plain": [
                            "ans = 5×5 double\n",
                            "     1     1     1     1     1\n",
                            "     0     2     2     2     2\n",
                            "     0     0     3     3     3\n",
                            "     0     0     0     4     4\n",
                            "     0     0     0     0     5\n"
                        ],
                        "text/html": [
                            "<html><body><pre>ans = 5×5 double\n",
                            "     1     1     1     1     1\n",
                            "     0     2     2     2     2\n",
                            "     0     0     3     3     3\n",
                            "     0     0     0     4     4\n",
                            "     0     0     0     0     5\n",
                            "</pre></body></html>"
                        ]
                    },
                    "metadata": {},
                    "execution_count": 5
                }
            ],
            "cell_type": "code",
            "source": [
                "n = 20;\n",
                "x = (1:n)';\n",
                "A = triu(x * ones(1, n));\n",
                "A(1:5, 1:5)"
            ],
            "id": "99096937",
            "metadata": {},
            "execution_count": 5
        },
        {
            "cell_type": "markdown",
            "source": [
                "This matrix is not at all close to normal."
            ],
            "id": "232dc35f",
            "metadata": {}
        },
        {
            "outputs": [
                {
                    "output_type": "execute_result",
                    "data": {
                        "text/plain": [
                            "ans = 6.1499e+09"
                        ],
                        "text/html": [
                            "<html><body><pre>ans = 6.1499e+09</pre></body></html>"
                        ]
                    },
                    "metadata": {},
                    "execution_count": 6
                }
            ],
            "cell_type": "code",
            "source": [
                "[V, D] = eig(A);\n",
                "lambda = diag(D);\n",
                "cond(V)"
            ],
            "id": "b4496577",
            "metadata": {},
            "execution_count": 6
        },
        {
            "cell_type": "markdown",
            "source": [
                "As a result, the eigenvalues can change by a good deal more."
            ],
            "id": "5692ad10",
            "metadata": {}
        },
        {
            "outputs": [
                {
                    "name": "stdout",
                    "output_type": "stream",
                    "text": [
                        "max change in eigenvalues: 6.29e-01Bauer-Fike upper bound: 6.15e+01"
                    ]
                }
            ],
            "cell_type": "code",
            "source": [
                "E = randn(n, n) + 1i * randn(n, n);\n",
                "E = 1e-8 * E / norm(E);\n",
                "dd = eig(A + E);\n",
                "dist = -Inf;\n",
                "for j = 1:n\n",
                "    dist = max(dist, min(abs(dd - lambda(j))));\n",
                "end\n",
                "fprintf(\"max change in eigenvalues: %.2e\", dist)\n",
                "fprintf(\"Bauer-Fike upper bound: %.2e\", cond(V) * norm(E))"
            ],
            "id": "dfdb84f4",
            "metadata": {},
            "execution_count": 7
        },
        {
            "cell_type": "markdown",
            "source": [
                "If we plot the eigenvalues of many perturbations, we get a cloud of points that roughly represents all the possible eigenvalues when representing this matrix with single-precision accuracy."
            ],
            "id": "ff052207",
            "metadata": {}
        },
        {
            "outputs": [
                {
                    "output_type": "execute_result",
                    "data": {
                        "image/png": "[encoded data removed]"
                    },
                    "metadata": {},
                    "execution_count": 8
                }
            ],
            "cell_type": "code",
            "source": [
                "clf\n",
                "plot(lambda, 0*lambda, 'o')\n",
                "axis equal; hold on\n",
                "for k = 1:60\n",
                "    E = randn(n, n) + 1i * randn(n, n);\n",
                "    E = eps(single(1)) * E / norm(E);\n",
                "    dd = eig(A + E);\n",
                "    plot(real(dd), imag(dd), 'k.', markersize=2)\n",
                "end"
            ],
            "id": "9b04b086",
            "metadata": {},
            "execution_count": 8
        },
        {
            "cell_type": "markdown",
            "source": [
                "The plot shows that some eigenvalues are much more affected than others. This situation is not unusual, but it is not explained by the Bauer–Fike theorem."
            ],
            "id": "d1fc145f",
            "metadata": {}
        }
    ],
    "nbformat_minor": 5,
    "metadata": {
        "language_info": {
            "file_extension": ".m",
            "mimetype": "text/x-matlab",
            "name": "matlab"
        },
        "kernelspec": {
            "name": "jupyter_matlab_kernel",
            "display_name": "MATLAB Kernel",
            "language": "matlab"
        },
        "numbering": {
            "headings": false
        }
    },
    "nbformat": 4
}
