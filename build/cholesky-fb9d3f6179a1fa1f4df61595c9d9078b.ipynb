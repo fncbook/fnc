{
    "cells": [
        {
            "cell_type": "markdown",
            "source": [
                "[**Demo %s**](#demo-structure-cholesky)\n",
                "\n",
                "A randomly chosen matrix is extremely unlikely to be symmetric. However, there is a simple way to symmetrize one."
            ],
            "id": "42f72061",
            "metadata": {}
        },
        {
            "outputs": [
                {
                    "output_type": "execute_result",
                    "data": {
                        "text/plain": [
                            "B = 4×4 double\n",
                            "    34     7    12    17\n",
                            "     7    24    17    22\n",
                            "    12    17    14    27\n",
                            "    17    22    27     4\n"
                        ],
                        "text/html": [
                            "<html><body><pre>B = 4×4 double\n",
                            "    34     7    12    17\n",
                            "     7    24    17    22\n",
                            "    12    17    14    27\n",
                            "    17    22    27     4\n",
                            "</pre></body></html>"
                        ]
                    },
                    "metadata": {},
                    "execution_count": 2
                }
            ],
            "cell_type": "code",
            "source": [
                "A = magic(4) + eye(4);\n",
                "B = A + A'"
            ],
            "id": "95cb149d",
            "metadata": {},
            "execution_count": 2
        },
        {
            "cell_type": "markdown",
            "source": [
                "```{index} ! MATLAB; chol\n",
                "```\n",
                "\n",
                "Similarly, a random symmetric matrix is unlikely to be positive definite. The Cholesky algorithm always detects a non-PD matrix by quitting with an error.\n",
                "```{tip}\n",
                ":class: dropdown\n",
                "The `chol` function computes a Cholesky factorization if possible, or throws an error for a non-positive-definite matrix. \n",
                "```\n",
                "\n",
                "```{warning} \n",
                "The `chol` function does *not* check for symmetry. It may give a nonsensical result if the input is not symmetric.\n",
                "```"
            ],
            "id": "7f337e6f",
            "metadata": {}
        },
        {
            "outputs": [
                {
                    "name": "stderr",
                    "output_type": "stream",
                    "text": [
                        "Error using chol\n",
                        "Matrix must be positive definite."
                    ]
                }
            ],
            "cell_type": "code",
            "source": [
                "chol(B)    % throws an error"
            ],
            "id": "3618a259",
            "metadata": {
                "tags": [
                    "raises-exception"
                ]
            },
            "execution_count": 3
        },
        {
            "cell_type": "markdown",
            "source": [
                "It's not hard to manufacture an SPD matrix to try out the Cholesky factorization."
            ],
            "id": "ef25ff54",
            "metadata": {}
        },
        {
            "outputs": [
                {
                    "output_type": "execute_result",
                    "data": {
                        "text/plain": [
                            "R = 4×4 double\n",
                            "   20.2731   10.5065   11.0491   18.5960\n",
                            "         0   16.8111   15.9961    2.2973\n",
                            "         0         0    2.2453   -4.1053\n",
                            "         0         0         0    3.6133\n"
                        ],
                        "text/html": [
                            "<html><body><pre>R = 4×4 double\n",
                            "   20.2731   10.5065   11.0491   18.5960\n",
                            "         0   16.8111   15.9961    2.2973\n",
                            "         0         0    2.2453   -4.1053\n",
                            "         0         0         0    3.6133\n",
                            "</pre></body></html>"
                        ]
                    },
                    "metadata": {},
                    "execution_count": 4
                }
            ],
            "cell_type": "code",
            "source": [
                "B = A' * A;\n",
                "R = chol(B)"
            ],
            "id": "cb39d176",
            "metadata": {},
            "execution_count": 4
        },
        {
            "cell_type": "markdown",
            "source": [
                "Here we validate the factorization:"
            ],
            "id": "8e505686",
            "metadata": {}
        },
        {
            "outputs": [
                {
                    "output_type": "execute_result",
                    "data": {
                        "text/plain": [
                            "ans = 5.6013e-17"
                        ],
                        "text/html": [
                            "<html><body><pre>ans = 5.6013e-17</pre></body></html>"
                        ]
                    },
                    "metadata": {},
                    "execution_count": 5
                }
            ],
            "cell_type": "code",
            "source": [
                "norm(R' * R - B) / norm(B)"
            ],
            "id": "19f79ab1",
            "metadata": {},
            "execution_count": 5
        }
    ],
    "nbformat_minor": 5,
    "metadata": {
        "language_info": {
            "file_extension": ".m",
            "mimetype": "text/x-matlab",
            "name": "matlab"
        },
        "kernelspec": {
            "name": "jupyter_matlab_kernel",
            "display_name": "MATLAB Kernel",
            "language": "matlab"
        },
        "numbering": {
            "headings": false
        }
    },
    "nbformat": 4
}
