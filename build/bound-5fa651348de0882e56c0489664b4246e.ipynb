{
 "cells": [
  {
   "cell_type": "code",
   "execution_count": 1,
   "id": "06c955de",
   "metadata": {
    "execution": {
     "iopub.execute_input": "2025-01-11T17:43:50.198710Z",
     "iopub.status.busy": "2025-01-11T17:43:50.198573Z",
     "iopub.status.idle": "2025-01-11T17:43:50.533403Z",
     "shell.execute_reply": "2025-01-11T17:43:50.532842Z"
    },
    "tags": [
     "remove-cell"
    ]
   },
   "outputs": [],
   "source": [
    "exec(open(\"../../../python/FNC_init.py\").read())"
   ]
  },
  {
   "cell_type": "markdown",
   "id": "590a7027",
   "metadata": {},
   "source": [
    "[**Demo %s**](#demo-condition-bound)\n",
    "\n",
    "\n",
    "```{index} ! Python; cond\n",
    "```\n",
    "\n",
    "The function `cond` from `numpy.linalg` is used to computes matrix condition numbers. By default, the 2-norm is used. As an example, the family of *Hilbert matrices* is famously badly conditioned. Here is the $6\\times 6$  case."
   ]
  },
  {
   "cell_type": "code",
   "execution_count": 2,
   "id": "6d9428c5",
   "metadata": {
    "execution": {
     "iopub.execute_input": "2025-01-11T17:43:50.536085Z",
     "iopub.status.busy": "2025-01-11T17:43:50.535921Z",
     "iopub.status.idle": "2025-01-11T17:43:50.538237Z",
     "shell.execute_reply": "2025-01-11T17:43:50.537964Z"
    }
   },
   "outputs": [
    {
     "name": "stdout",
     "output_type": "stream",
     "text": [
      "[[0.5        0.33333333 0.25       0.2        0.16666667 0.14285714]\n",
      " [0.33333333 0.25       0.2        0.16666667 0.14285714 0.125     ]\n",
      " [0.25       0.2        0.16666667 0.14285714 0.125      0.11111111]\n",
      " [0.2        0.16666667 0.14285714 0.125      0.11111111 0.1       ]\n",
      " [0.16666667 0.14285714 0.125      0.11111111 0.1        0.09090909]\n",
      " [0.14285714 0.125      0.11111111 0.1        0.09090909 0.08333333]]\n"
     ]
    }
   ],
   "source": [
    "A = array([ \n",
    "    [1/(i + j + 2) for j in range(6)] \n",
    "    for i in range(6) \n",
    "    ])\n",
    "print(A)"
   ]
  },
  {
   "cell_type": "code",
   "execution_count": 3,
   "id": "1fe54a03",
   "metadata": {
    "execution": {
     "iopub.execute_input": "2025-01-11T17:43:50.539384Z",
     "iopub.status.busy": "2025-01-11T17:43:50.539295Z",
     "iopub.status.idle": "2025-01-11T17:43:50.541178Z",
     "shell.execute_reply": "2025-01-11T17:43:50.540931Z"
    }
   },
   "outputs": [
    {
     "name": "stdout",
     "output_type": "stream",
     "text": [
      "kappa is 5.110e+07\n"
     ]
    }
   ],
   "source": [
    "from numpy.linalg import cond\n",
    "kappa = cond(A)\n",
    "print(f\"kappa is {kappa:.3e}\")"
   ]
  },
  {
   "cell_type": "markdown",
   "id": "460fcdd8",
   "metadata": {},
   "source": [
    "Next we engineer a linear system problem to which we know the exact answer."
   ]
  },
  {
   "cell_type": "code",
   "execution_count": 4,
   "id": "8b681313",
   "metadata": {
    "execution": {
     "iopub.execute_input": "2025-01-11T17:43:50.542280Z",
     "iopub.status.busy": "2025-01-11T17:43:50.542200Z",
     "iopub.status.idle": "2025-01-11T17:43:50.544016Z",
     "shell.execute_reply": "2025-01-11T17:43:50.543730Z"
    }
   },
   "outputs": [],
   "source": [
    "x_exact = 1.0 + arange(6)\n",
    "b = A @ x_exact"
   ]
  },
  {
   "cell_type": "markdown",
   "id": "73b0028e",
   "metadata": {},
   "source": [
    "Now we perturb the data randomly with a vector of norm $10^{-12}$."
   ]
  },
  {
   "cell_type": "code",
   "execution_count": 5,
   "id": "deddb3ab",
   "metadata": {
    "execution": {
     "iopub.execute_input": "2025-01-11T17:43:50.545181Z",
     "iopub.status.busy": "2025-01-11T17:43:50.545104Z",
     "iopub.status.idle": "2025-01-11T17:43:50.546901Z",
     "shell.execute_reply": "2025-01-11T17:43:50.546683Z"
    }
   },
   "outputs": [],
   "source": [
    "dA = random.randn(6, 6)\n",
    "dA = 1e-12 * (dA / norm(dA, 2))\n",
    "db = random.randn(6)\n",
    "db = 1e-12 * (db / norm(db, 2))"
   ]
  },
  {
   "cell_type": "markdown",
   "id": "735e005c",
   "metadata": {},
   "source": [
    "We solve the perturbed problem using built-in pivoted LU and see how the solution was changed."
   ]
  },
  {
   "cell_type": "code",
   "execution_count": 6,
   "id": "214b70ac",
   "metadata": {
    "execution": {
     "iopub.execute_input": "2025-01-11T17:43:50.548040Z",
     "iopub.status.busy": "2025-01-11T17:43:50.547957Z",
     "iopub.status.idle": "2025-01-11T17:43:50.549611Z",
     "shell.execute_reply": "2025-01-11T17:43:50.549368Z"
    }
   },
   "outputs": [],
   "source": [
    "x = linalg.solve(A + dA, b + db) \n",
    "dx = x - x_exact"
   ]
  },
  {
   "cell_type": "markdown",
   "id": "4da08c2d",
   "metadata": {},
   "source": [
    "Here is the relative error in the solution."
   ]
  },
  {
   "cell_type": "code",
   "execution_count": 7,
   "id": "ddaaa99f",
   "metadata": {
    "execution": {
     "iopub.execute_input": "2025-01-11T17:43:50.550779Z",
     "iopub.status.busy": "2025-01-11T17:43:50.550703Z",
     "iopub.status.idle": "2025-01-11T17:43:50.552425Z",
     "shell.execute_reply": "2025-01-11T17:43:50.552169Z"
    }
   },
   "outputs": [
    {
     "name": "stdout",
     "output_type": "stream",
     "text": [
      "relative error is 5.01e-06\n"
     ]
    }
   ],
   "source": [
    "print(f\"relative error is {norm(dx) / norm(x_exact):.2e}\")"
   ]
  },
  {
   "cell_type": "markdown",
   "id": "cf3c140a",
   "metadata": {},
   "source": [
    "And here are upper bounds predicted using the condition number of the original matrix."
   ]
  },
  {
   "cell_type": "code",
   "execution_count": 8,
   "id": "b374b9ee",
   "metadata": {
    "execution": {
     "iopub.execute_input": "2025-01-11T17:43:50.553510Z",
     "iopub.status.busy": "2025-01-11T17:43:50.553437Z",
     "iopub.status.idle": "2025-01-11T17:43:50.555198Z",
     "shell.execute_reply": "2025-01-11T17:43:50.554997Z"
    }
   },
   "outputs": [
    {
     "name": "stdout",
     "output_type": "stream",
     "text": [
      "b_bound: 6.72e-06\n",
      "A_bound: 4.57e-05\n"
     ]
    }
   ],
   "source": [
    "print(f\"b_bound: {kappa * 1e-12 / norm(b):.2e}\")\n",
    "print(f\"A_bound: {kappa * 1e-12 / norm(A, 2):.2e}\")"
   ]
  },
  {
   "cell_type": "markdown",
   "id": "cf7f32ab",
   "metadata": {},
   "source": [
    "Even if we don't make any manual perturbations to the data, machine epsilon does when we solve the linear system numerically."
   ]
  },
  {
   "cell_type": "code",
   "execution_count": 9,
   "id": "78441eab",
   "metadata": {
    "execution": {
     "iopub.execute_input": "2025-01-11T17:43:50.556220Z",
     "iopub.status.busy": "2025-01-11T17:43:50.556132Z",
     "iopub.status.idle": "2025-01-11T17:43:50.557968Z",
     "shell.execute_reply": "2025-01-11T17:43:50.557752Z"
    }
   },
   "outputs": [
    {
     "name": "stdout",
     "output_type": "stream",
     "text": [
      "relative error: 6.85e-10\n",
      "rounding bound: 1.13e-08\n"
     ]
    }
   ],
   "source": [
    "x = linalg.solve(A, b)\n",
    "print(f\"relative error: {norm(x - x_exact) / norm(x_exact):.2e}\")\n",
    "print(f\"rounding bound: {kappa / 2**52:.2e}\")\n"
   ]
  },
  {
   "cell_type": "markdown",
   "id": "0c45d39b",
   "metadata": {},
   "source": [
    "Because $\\kappa\\approx 10^8$, it's possible to lose 8 digits of accuracy in the process of passing from $A$ and $b$ to $x$. That's independent of the algorithm; it's inevitable once the data are expressed in double precision. \n",
    "\n",
    "Larger Hilbert matrices are even more poorly conditioned."
   ]
  },
  {
   "cell_type": "code",
   "execution_count": 10,
   "id": "55e4659f",
   "metadata": {
    "execution": {
     "iopub.execute_input": "2025-01-11T17:43:50.559039Z",
     "iopub.status.busy": "2025-01-11T17:43:50.558965Z",
     "iopub.status.idle": "2025-01-11T17:43:50.561015Z",
     "shell.execute_reply": "2025-01-11T17:43:50.560801Z"
    }
   },
   "outputs": [
    {
     "name": "stdout",
     "output_type": "stream",
     "text": [
      "kappa is 1.436e+19\n"
     ]
    }
   ],
   "source": [
    "A = array([ [1/(i+j+2) for j in range(14)] for i in range(14) ])\n",
    "kappa = cond(A)\n",
    "print(f\"kappa is {kappa:.3e}\")"
   ]
  },
  {
   "cell_type": "markdown",
   "id": "0de6d980",
   "metadata": {},
   "source": [
    "Before we compute the solution, note that $\\kappa$ exceeds `1/eps`. In principle we therefore might end up with an answer that is completely wrong (i.e., a relative error greater than 100%)."
   ]
  },
  {
   "cell_type": "code",
   "execution_count": 11,
   "id": "35d49bcd",
   "metadata": {
    "execution": {
     "iopub.execute_input": "2025-01-11T17:43:50.562076Z",
     "iopub.status.busy": "2025-01-11T17:43:50.561999Z",
     "iopub.status.idle": "2025-01-11T17:43:50.563714Z",
     "shell.execute_reply": "2025-01-11T17:43:50.563481Z"
    }
   },
   "outputs": [
    {
     "name": "stdout",
     "output_type": "stream",
     "text": [
      "rounding bound: 3.19e+03\n"
     ]
    }
   ],
   "source": [
    "print(f\"rounding bound: {kappa / 2**52:.2e}\")"
   ]
  },
  {
   "cell_type": "code",
   "execution_count": 12,
   "id": "b2e94d19",
   "metadata": {
    "execution": {
     "iopub.execute_input": "2025-01-11T17:43:50.564845Z",
     "iopub.status.busy": "2025-01-11T17:43:50.564760Z",
     "iopub.status.idle": "2025-01-11T17:43:50.566409Z",
     "shell.execute_reply": "2025-01-11T17:43:50.566141Z"
    }
   },
   "outputs": [],
   "source": [
    "x_exact = 1.0 + arange(14)\n",
    "b = A @ x_exact  \n",
    "x = linalg.solve(A, b)"
   ]
  },
  {
   "cell_type": "markdown",
   "id": "df04ef25",
   "metadata": {},
   "source": [
    "We got an answer. But in fact, the error does exceed 100%:"
   ]
  },
  {
   "cell_type": "code",
   "execution_count": 13,
   "id": "0f373dcd",
   "metadata": {
    "execution": {
     "iopub.execute_input": "2025-01-11T17:43:50.567501Z",
     "iopub.status.busy": "2025-01-11T17:43:50.567429Z",
     "iopub.status.idle": "2025-01-11T17:43:50.569064Z",
     "shell.execute_reply": "2025-01-11T17:43:50.568852Z"
    }
   },
   "outputs": [
    {
     "name": "stdout",
     "output_type": "stream",
     "text": [
      "relative error: 1.42e+01\n"
     ]
    }
   ],
   "source": [
    "print(f\"relative error: {norm(x - x_exact) / norm(x_exact):.2e}\")"
   ]
  }
 ],
 "metadata": {
  "kernelspec": {
   "display_name": "Python 3",
   "language": "python",
   "name": "python3"
  },
  "language_info": {
   "codemirror_mode": {
    "name": "ipython",
    "version": 3
   },
   "file_extension": ".py",
   "mimetype": "text/x-python",
   "name": "python",
   "nbconvert_exporter": "python",
   "pygments_lexer": "ipython3",
   "version": "3.13.0"
  },
  "numbering": {
   "headings": false
  }
 },
 "nbformat": 4,
 "nbformat_minor": 5
}
