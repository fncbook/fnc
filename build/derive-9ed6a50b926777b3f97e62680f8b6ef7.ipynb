{
 "cells": [
  {
   "cell_type": "code",
   "execution_count": 1,
   "id": "32962fff",
   "metadata": {
    "tags": [
     "remove-cell"
    ]
   },
   "outputs": [],
   "source": [
    "cd  /Users/driscoll/Documents/GitHub/fnc/matlab\n",
    "FNC_init"
   ]
  },
  {
   "cell_type": "markdown",
   "id": "c515439d",
   "metadata": {},
   "source": [
    "[**Demo %s**](#demo-lu-derive)\n",
    "\n",
    "For illustration, we work on a $4 \\times 4$ matrix. We name it with a subscript in preparation for what comes."
   ]
  },
  {
   "cell_type": "code",
   "execution_count": 2,
   "id": "6804f52a",
   "metadata": {},
   "outputs": [],
   "source": [
    "A_1 = [\n",
    "     2    0    4     3 \n",
    "    -4    5   -7   -10 \n",
    "     1   15    2   -4.5\n",
    "    -2    0    2   -13\n",
    "    ];\n",
    "L = eye(4);\n",
    "U = zeros(4, 4);"
   ]
  },
  {
   "cell_type": "markdown",
   "id": "1908fae1",
   "metadata": {},
   "source": [
    "Now we appeal to {eq}`outer-row1`. Since $L_{11}=1$, we see that the first row of $\\mathbf{U}$ is just the first row of $\\mathbf{A}_1$."
   ]
  },
  {
   "cell_type": "code",
   "execution_count": 3,
   "id": "b13c84d5",
   "metadata": {},
   "outputs": [
    {
     "data": {
      "text/html": [
       "<html><body><pre>U = 4×4 double\n",
       "     2     0     4     3\n",
       "     0     0     0     0\n",
       "     0     0     0     0\n",
       "     0     0     0     0\n",
       "</pre></body></html>"
      ],
      "text/plain": [
       "U = 4×4 double\n",
       "     2     0     4     3\n",
       "     0     0     0     0\n",
       "     0     0     0     0\n",
       "     0     0     0     0\n"
      ]
     },
     "execution_count": 3,
     "metadata": {},
     "output_type": "execute_result"
    }
   ],
   "source": [
    "U(1, :) = A_1(1, :)"
   ]
  },
  {
   "cell_type": "markdown",
   "id": "d511b621",
   "metadata": {},
   "source": [
    "From {eq}`outer-col1`, we see that we can find the first column of $\\mathbf{L}$ from the first column of $\\mathbf{A}_1$."
   ]
  },
  {
   "cell_type": "code",
   "execution_count": 4,
   "id": "10a7012a",
   "metadata": {},
   "outputs": [
    {
     "data": {
      "text/html": [
       "<html><body><pre>L = 4×4 double\n",
       "    1.0000         0         0         0\n",
       "   -2.0000    1.0000         0         0\n",
       "    0.5000         0    1.0000         0\n",
       "   -1.0000         0         0    1.0000\n",
       "</pre></body></html>"
      ],
      "text/plain": [
       "L = 4×4 double\n",
       "    1.0000         0         0         0\n",
       "   -2.0000    1.0000         0         0\n",
       "    0.5000         0    1.0000         0\n",
       "   -1.0000         0         0    1.0000\n"
      ]
     },
     "execution_count": 4,
     "metadata": {},
     "output_type": "execute_result"
    }
   ],
   "source": [
    "L(:, 1) = A_1(:, 1) / U(1, 1)"
   ]
  },
  {
   "cell_type": "markdown",
   "id": "a6ece9f6",
   "metadata": {},
   "source": [
    " We have obtained the first term in the sum {eq}`matrixouter` for $\\mathbf{L}\\mathbf{U}$, and we subtract it away from $\\mathbf{A}_1$."
   ]
  },
  {
   "cell_type": "code",
   "execution_count": 5,
   "id": "a758abdf",
   "metadata": {},
   "outputs": [
    {
     "data": {
      "text/html": [
       "<html><body><pre>A_2 = 4×4 double\n",
       "     0     0     0     0\n",
       "     0     5     1    -4\n",
       "     0    15     0    -6\n",
       "     0     0     6   -10\n",
       "</pre></body></html>"
      ],
      "text/plain": [
       "A_2 = 4×4 double\n",
       "     0     0     0     0\n",
       "     0     5     1    -4\n",
       "     0    15     0    -6\n",
       "     0     0     6   -10\n"
      ]
     },
     "execution_count": 5,
     "metadata": {},
     "output_type": "execute_result"
    }
   ],
   "source": [
    "A_2 = A_1 - L(:, 1) * U(1, :)"
   ]
  },
  {
   "cell_type": "markdown",
   "id": "36a3f014",
   "metadata": {},
   "source": [
    "Now $\\mathbf{A}_2 = \\boldsymbol{\\ell}_2\\mathbf{u}_2^T + \\boldsymbol{\\ell}_3\\mathbf{u}_3^T + \\boldsymbol{\\ell}_4\\mathbf{u}_4^T.$ If we ignore the first row and first column of the matrices in this equation, then in what remains we are in the same situation as at the start. Specifically, only $\\boldsymbol{\\ell}_2\\mathbf{u}_2^T$ has any effect on the second row and column, so we can deduce them now."
   ]
  },
  {
   "cell_type": "code",
   "execution_count": 6,
   "id": "950a85dc",
   "metadata": {},
   "outputs": [
    {
     "data": {
      "text/html": [
       "<html><body><pre>U = 4×4 double\n",
       "     2     0     4     3\n",
       "     0     5     1    -4\n",
       "     0     0     0     0\n",
       "     0     0     0     0\n",
       "</pre></body></html>"
      ],
      "text/plain": [
       "U = 4×4 double\n",
       "     2     0     4     3\n",
       "     0     5     1    -4\n",
       "     0     0     0     0\n",
       "     0     0     0     0\n"
      ]
     },
     "execution_count": 6,
     "metadata": {},
     "output_type": "execute_result"
    },
    {
     "data": {
      "text/html": [
       "<html><body><pre>L = 4×4 double\n",
       "    1.0000         0         0         0\n",
       "   -2.0000    1.0000         0         0\n",
       "    0.5000    3.0000    1.0000         0\n",
       "   -1.0000         0         0    1.0000\n",
       "</pre></body></html>"
      ],
      "text/plain": [
       "L = 4×4 double\n",
       "    1.0000         0         0         0\n",
       "   -2.0000    1.0000         0         0\n",
       "    0.5000    3.0000    1.0000         0\n",
       "   -1.0000         0         0    1.0000\n"
      ]
     },
     "execution_count": 6,
     "metadata": {},
     "output_type": "execute_result"
    }
   ],
   "source": [
    "U(2, :) = A_2(2, :)\n",
    "L(:, 2) = A_2(:, 2) / U(2, 2)"
   ]
  },
  {
   "cell_type": "markdown",
   "id": "18c4af12",
   "metadata": {},
   "source": [
    "If we subtract off the latest outer product, we have a matrix that is zero in the first *two* rows and columns."
   ]
  },
  {
   "cell_type": "code",
   "execution_count": 7,
   "id": "ab3f6a41",
   "metadata": {},
   "outputs": [
    {
     "data": {
      "text/html": [
       "<html><body><pre>A_3 = 4×4 double\n",
       "     0     0     0     0\n",
       "     0     0     0     0\n",
       "     0     0    -3     6\n",
       "     0     0     6   -10\n",
       "</pre></body></html>"
      ],
      "text/plain": [
       "A_3 = 4×4 double\n",
       "     0     0     0     0\n",
       "     0     0     0     0\n",
       "     0     0    -3     6\n",
       "     0     0     6   -10\n"
      ]
     },
     "execution_count": 7,
     "metadata": {},
     "output_type": "execute_result"
    }
   ],
   "source": [
    "A_3 = A_2 - L(:, 2) * U(2, :)"
   ]
  },
  {
   "cell_type": "markdown",
   "id": "6f5b4b89",
   "metadata": {},
   "source": [
    "Now we can deal with the lower right $2\\times 2$ submatrix of the remainder in a similar fashion."
   ]
  },
  {
   "cell_type": "code",
   "execution_count": 8,
   "id": "3384e601",
   "metadata": {},
   "outputs": [
    {
     "data": {
      "text/html": [
       "<html><body><pre>A_4 = 4×4 double\n",
       "     0     0     0     0\n",
       "     0     0     0     0\n",
       "     0     0     0     0\n",
       "     0     0     0     2\n",
       "</pre></body></html>"
      ],
      "text/plain": [
       "A_4 = 4×4 double\n",
       "     0     0     0     0\n",
       "     0     0     0     0\n",
       "     0     0     0     0\n",
       "     0     0     0     2\n"
      ]
     },
     "execution_count": 8,
     "metadata": {},
     "output_type": "execute_result"
    }
   ],
   "source": [
    "U(3, :) = A_3(3, :);\n",
    "L(:, 3) = A_3(:, 3) / U(3, 3);\n",
    "A_4 = A_3 - L(:, 3) * U(3, :)"
   ]
  },
  {
   "cell_type": "markdown",
   "id": "e52e993c",
   "metadata": {},
   "source": [
    "Finally, we pick up the last unknown in the factors."
   ]
  },
  {
   "cell_type": "code",
   "execution_count": 9,
   "id": "135c0e92",
   "metadata": {},
   "outputs": [],
   "source": [
    "U(4, 4) = A_4(4, 4);"
   ]
  },
  {
   "cell_type": "markdown",
   "id": "412a0872",
   "metadata": {},
   "source": [
    "We now have all of $\\mathbf{L}$,"
   ]
  },
  {
   "cell_type": "code",
   "execution_count": 10,
   "id": "f0fc109f",
   "metadata": {},
   "outputs": [
    {
     "data": {
      "text/html": [
       "<html><body><pre>L = 4×4 double\n",
       "    1.0000         0         0         0\n",
       "   -2.0000    1.0000         0         0\n",
       "    0.5000    3.0000    1.0000         0\n",
       "   -1.0000         0   -2.0000    1.0000\n",
       "</pre></body></html>"
      ],
      "text/plain": [
       "L = 4×4 double\n",
       "    1.0000         0         0         0\n",
       "   -2.0000    1.0000         0         0\n",
       "    0.5000    3.0000    1.0000         0\n",
       "   -1.0000         0   -2.0000    1.0000\n"
      ]
     },
     "execution_count": 10,
     "metadata": {},
     "output_type": "execute_result"
    }
   ],
   "source": [
    "L"
   ]
  },
  {
   "cell_type": "markdown",
   "id": "499448ae",
   "metadata": {},
   "source": [
    "and all of $\\mathbf{U}$,"
   ]
  },
  {
   "cell_type": "code",
   "execution_count": 11,
   "id": "49fa72c2",
   "metadata": {},
   "outputs": [
    {
     "data": {
      "text/html": [
       "<html><body><pre>U = 4×4 double\n",
       "     2     0     4     3\n",
       "     0     5     1    -4\n",
       "     0     0    -3     6\n",
       "     0     0     0     2\n",
       "</pre></body></html>"
      ],
      "text/plain": [
       "U = 4×4 double\n",
       "     2     0     4     3\n",
       "     0     5     1    -4\n",
       "     0     0    -3     6\n",
       "     0     0     0     2\n"
      ]
     },
     "execution_count": 11,
     "metadata": {},
     "output_type": "execute_result"
    }
   ],
   "source": [
    "U"
   ]
  },
  {
   "cell_type": "markdown",
   "id": "43c0f9cc",
   "metadata": {},
   "source": [
    "We can verify that we have a correct factorization of the original matrix by computing the backward error:"
   ]
  },
  {
   "cell_type": "code",
   "execution_count": 12,
   "id": "96254069",
   "metadata": {},
   "outputs": [
    {
     "data": {
      "text/html": [
       "<html><body><pre>ans = 4×4 double\n",
       "     0     0     0     0\n",
       "     0     0     0     0\n",
       "     0     0     0     0\n",
       "     0     0     0     0\n",
       "</pre></body></html>"
      ],
      "text/plain": [
       "ans = 4×4 double\n",
       "     0     0     0     0\n",
       "     0     0     0     0\n",
       "     0     0     0     0\n",
       "     0     0     0     0\n"
      ]
     },
     "execution_count": 12,
     "metadata": {},
     "output_type": "execute_result"
    }
   ],
   "source": [
    "A_1 - L * U"
   ]
  },
  {
   "cell_type": "markdown",
   "id": "fc256457",
   "metadata": {},
   "source": [
    "In floating point, we cannot expect the difference to be exactly zero as we found in this toy example. Instead, we would be satisfied to see that each element of the difference above is comparable in size to machine precision."
   ]
  }
 ],
 "metadata": {
  "kernelspec": {
   "display_name": "MATLAB Kernel",
   "language": "matlab",
   "name": "jupyter_matlab_kernel"
  },
  "language_info": {
   "file_extension": ".m",
   "mimetype": "text/x-matlab",
   "name": "matlab"
  },
  "numbering": {
   "headings": false
  }
 },
 "nbformat": 4,
 "nbformat_minor": 5
}
