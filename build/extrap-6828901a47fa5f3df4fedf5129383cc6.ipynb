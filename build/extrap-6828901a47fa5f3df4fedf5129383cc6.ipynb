{
    "cells": [
        {
            "cell_type": "markdown",
            "source": [
                "[**Demo %s**](#demo-int-extrap)\n",
                "\n",
                "We estimate $\\displaystyle\\int_0^2 x^2 e^{-2x}\\, dx$ using extrapolation. First we use `quadgk` to get an accurate value."
            ],
            "id": "16c2fc1c",
            "metadata": {}
        },
        {
            "outputs": [
                {
                    "output_type": "execute_result",
                    "data": {
                        "text/plain": [
                            "I = \n",
                            "   0.190474173611614\n"
                        ],
                        "text/html": [
                            "<html><body><pre>I = \n",
                            "   0.190474173611614\n",
                            "</pre></body></html>"
                        ]
                    },
                    "metadata": {},
                    "execution_count": 2
                }
            ],
            "cell_type": "code",
            "source": [
                "f = @(x) x.^2 .* exp(-2 * x);\n",
                "a = 0;  b = 2;\n",
                "format long\n",
                "I = integral(f, a, b, abstol=1e-14, reltol=1e-14)"
            ],
            "id": "c55ef208",
            "metadata": {},
            "execution_count": 2
        },
        {
            "cell_type": "markdown",
            "source": [
                "We start with the trapezoid formula on $n=N$ nodes."
            ],
            "id": "dac60b2a",
            "metadata": {}
        },
        {
            "outputs": [],
            "cell_type": "code",
            "source": [
                "N = 20;       % the coarsest formula\n",
                "n = N;  h = (b - a) / n;\n",
                "t = h * (0:n)';\n",
                "y = f(t);"
            ],
            "id": "f750add6",
            "metadata": {},
            "execution_count": 3
        },
        {
            "cell_type": "markdown",
            "source": [
                "We can now apply weights to get the estimate $T_f(N)$."
            ],
            "id": "8cef0f98",
            "metadata": {}
        },
        {
            "outputs": [
                {
                    "output_type": "execute_result",
                    "data": {
                        "text/plain": [
                            "T = \n",
                            "   0.190411449939268\n"
                        ],
                        "text/html": [
                            "<html><body><pre>T = \n",
                            "   0.190411449939268\n",
                            "</pre></body></html>"
                        ]
                    },
                    "metadata": {},
                    "execution_count": 4
                }
            ],
            "cell_type": "code",
            "source": [
                "T = h * ( sum(y(2:n)) + y(1) / 2 + y(n+1) / 2 )"
            ],
            "id": "209ccdb6",
            "metadata": {},
            "execution_count": 4
        },
        {
            "cell_type": "markdown",
            "source": [
                "Now we double to $n=2N$, but we only need to evaluate $f$ at every other interior node and apply {eq}`nc-doubling`."
            ],
            "id": "c30a5fbb",
            "metadata": {}
        },
        {
            "outputs": [
                {
                    "output_type": "execute_result",
                    "data": {
                        "text/plain": [
                            "T = 1×2 double\n",
                            "   0.190411449939268   0.190458805859512\n"
                        ],
                        "text/html": [
                            "<html><body><pre>T = 1×2 double\n",
                            "   0.190411449939268   0.190458805859512\n",
                            "</pre></body></html>"
                        ]
                    },
                    "metadata": {},
                    "execution_count": 5
                }
            ],
            "cell_type": "code",
            "source": [
                "n = 2*n;  h = h / 2;\n",
                "t = h * (0:n)';\n",
                "T(2) = T(1) / 2 + h * sum( f(t(2:2:n)) )"
            ],
            "id": "0ec6f793",
            "metadata": {},
            "execution_count": 5
        },
        {
            "cell_type": "markdown",
            "source": [
                "We can repeat the same code to double $n$ again."
            ],
            "id": "ab437c81",
            "metadata": {}
        },
        {
            "outputs": [
                {
                    "output_type": "execute_result",
                    "data": {
                        "text/plain": [
                            "T = 1×3 double\n",
                            "   0.190411449939268   0.190458805859512   0.190470351304644\n"
                        ],
                        "text/html": [
                            "<html><body><pre>T = 1×3 double\n",
                            "   0.190411449939268   0.190458805859512   0.190470351304644\n",
                            "</pre></body></html>"
                        ]
                    },
                    "metadata": {},
                    "execution_count": 6
                }
            ],
            "cell_type": "code",
            "source": [
                "n = 2*n;  h = h / 2;\n",
                "t = h * (0:n)';\n",
                "T(3) = T(2) / 2 + h * sum( f(t(2:2:n)) )"
            ],
            "id": "11f0d480",
            "metadata": {},
            "execution_count": 6
        },
        {
            "cell_type": "markdown",
            "source": [
                "Let us now do the first level of extrapolation to get results from Simpson's formula. We combine the elements `T[i]` and `T[i+1]` the same way for $i=1$ and $i=2$."
            ],
            "id": "316fedb5",
            "metadata": {}
        },
        {
            "outputs": [
                {
                    "output_type": "execute_result",
                    "data": {
                        "text/plain": [
                            "S = 1×2 double\n",
                            "   0.190474591166260   0.190474199786355\n"
                        ],
                        "text/html": [
                            "<html><body><pre>S = 1×2 double\n",
                            "   0.190474591166260   0.190474199786355\n",
                            "</pre></body></html>"
                        ]
                    },
                    "metadata": {},
                    "execution_count": 7
                }
            ],
            "cell_type": "code",
            "source": [
                "S = (4 * T(2:3) - T(1:2)) / 3"
            ],
            "id": "995ff11c",
            "metadata": {},
            "execution_count": 7
        },
        {
            "cell_type": "markdown",
            "source": [
                "With the two Simpson values $S_f(N)$ and $S_f(2N)$ in hand, we can do one more level of extrapolation to get a sixth-order accurate result."
            ],
            "id": "7808ff5d",
            "metadata": {}
        },
        {
            "outputs": [
                {
                    "output_type": "execute_result",
                    "data": {
                        "text/plain": [
                            "R = \n",
                            "   0.190474173694362\n"
                        ],
                        "text/html": [
                            "<html><body><pre>R = \n",
                            "   0.190474173694362\n",
                            "</pre></body></html>"
                        ]
                    },
                    "metadata": {},
                    "execution_count": 8
                }
            ],
            "cell_type": "code",
            "source": [
                "R = (16*S(2) - S(1)) / 15"
            ],
            "id": "1a1a545c",
            "metadata": {},
            "execution_count": 8
        },
        {
            "cell_type": "markdown",
            "source": [
                "We can make a triangular table of the errors:"
            ],
            "id": "2ff2d172",
            "metadata": {}
        },
        {
            "outputs": [
                {
                    "name": "stdout",
                    "output_type": "stream",
                    "text": [
                        "      order 2       order 4       order 6  \n",
                        "    ___________    __________    __________\n",
                        "\n",
                        "    -6.2724e-05           NaN           NaN\n",
                        "    -1.5368e-05    4.1755e-07           NaN\n",
                        "    -3.8223e-06    2.6175e-08    8.2748e-11\n",
                        "\n"
                    ]
                }
            ],
            "cell_type": "code",
            "source": [
                "err2 = T(:) - I;\n",
                "err4 = [NaN; S(:) - I];\n",
                "err6 = [NaN; NaN; R - I];\n",
                "format short e\n",
                "disp(table(err2, err4, err6, variablenames=[\"order 2\", \"order 4\", \"order 6\"]))"
            ],
            "id": "1e5b00ff",
            "metadata": {},
            "execution_count": 9
        },
        {
            "cell_type": "markdown",
            "source": [
                "If we consider the computational time to be dominated by evaluations of $f$, then we have obtained a result with about twice as many accurate digits as the best trapezoid result, at virtually no extra cost."
            ],
            "id": "33287ad8",
            "metadata": {}
        }
    ],
    "nbformat_minor": 5,
    "metadata": {
        "language_info": {
            "file_extension": ".m",
            "mimetype": "text/x-matlab",
            "name": "matlab"
        },
        "kernelspec": {
            "name": "jupyter_matlab_kernel",
            "display_name": "MATLAB Kernel",
            "language": "matlab"
        },
        "numbering": {
            "headings": false
        }
    },
    "nbformat": 4
}
