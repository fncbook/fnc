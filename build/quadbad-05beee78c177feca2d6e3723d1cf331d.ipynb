{
 "cells": [
  {
   "cell_type": "code",
   "execution_count": 1,
   "id": "9c97580a",
   "metadata": {
    "execution": {
     "iopub.execute_input": "2025-01-11T17:56:57.399769Z",
     "iopub.status.busy": "2025-01-11T17:56:57.399658Z",
     "iopub.status.idle": "2025-01-11T17:56:57.695975Z",
     "shell.execute_reply": "2025-01-11T17:56:57.695672Z"
    },
    "tags": [
     "remove-cell"
    ]
   },
   "outputs": [],
   "source": [
    "exec(open(\"../../../python/FNC_init.py\").read())"
   ]
  },
  {
   "cell_type": "markdown",
   "id": "9a6c3d9d",
   "metadata": {},
   "source": [
    "[**Demo %s**](#demo-stability-quadbad)\n",
    "\n",
    "\n",
    "```{index} ! Python; scientific notation\n",
    "```\n",
    "\n",
    "We apply the quadratic formula to find the roots of a quadratic via {eq}`quadunstable`. \n",
    "```{tip}\n",
    ":class: dropdown\n",
    "A number in scientific notation is entered as `1.23e4` rather than as `1.23*10^{4}`.\n",
    "```"
   ]
  },
  {
   "cell_type": "code",
   "execution_count": 2,
   "id": "cb765745",
   "metadata": {
    "execution": {
     "iopub.execute_input": "2025-01-11T17:56:57.697505Z",
     "iopub.status.busy": "2025-01-11T17:56:57.697384Z",
     "iopub.status.idle": "2025-01-11T17:56:57.699713Z",
     "shell.execute_reply": "2025-01-11T17:56:57.699460Z"
    }
   },
   "outputs": [
    {
     "name": "stdout",
     "output_type": "stream",
     "text": [
      "1000000.0 1.00000761449337e-06\n"
     ]
    }
   ],
   "source": [
    "a = 1;  b = -(1e6 + 1e-6);  c = 1;\n",
    "x1 = (-b + sqrt(b**2 - 4*a*c)) / 2*a\n",
    "x2 = (-b - sqrt(b**2 - 4*a*c)) / 2*a\n",
    "print(x1, x2)"
   ]
  },
  {
   "cell_type": "markdown",
   "id": "ecfa7eec",
   "metadata": {},
   "source": [
    "The first value is correct to all stored digits, but the second has fewer than six accurate digits:"
   ]
  },
  {
   "cell_type": "code",
   "execution_count": 3,
   "id": "8fca7ade",
   "metadata": {
    "execution": {
     "iopub.execute_input": "2025-01-11T17:56:57.700914Z",
     "iopub.status.busy": "2025-01-11T17:56:57.700833Z",
     "iopub.status.idle": "2025-01-11T17:56:57.702651Z",
     "shell.execute_reply": "2025-01-11T17:56:57.702400Z"
    }
   },
   "outputs": [
    {
     "name": "stdout",
     "output_type": "stream",
     "text": [
      "There are 5.12 accurate digits.\n"
     ]
    }
   ],
   "source": [
    "error = abs(1e-6 - x2) / 1e-6 \n",
    "print(f\"There are {-log10(error):.2f} accurate digits.\")"
   ]
  },
  {
   "cell_type": "markdown",
   "id": "0e8bcd63",
   "metadata": {},
   "source": [
    " The instability is easily explained. Since $a=c=1$, we treat them as exact numbers. First, we compute the condition numbers with respect to $b$ for each elementary step in finding the \"good\" root:\n",
    "\n",
    "| Calculation | Result | $\\kappa$ |\n",
    "|:------------|:-------|:---------|\n",
    "|$u_1 = b^2$  | $1.000000000002000\\times 10^{12}$ |  2 |\n",
    "|$u_2 = u_1 - 4$ | $9.999999999980000\\times 10^{11}$  | $\\approx 1.00$ |\n",
    "|$u_3 = \\sqrt{u_2}$ | $999999.9999990000$ | 1/2 |\n",
    "|$u_4 = u_3 - b$ | $2000000$ | $\\approx 0.500$ |\n",
    "|$u_5 = u_4/2$ | $1000000$  | 1 |\n",
    "\n",
    "Using {eq}`condition-chain`, the chain rule for condition numbers, the conditioning of the entire chain is the product of the individual steps, so there is essentially no growth of relative error here. However, if we use the quadratic formula for the \"bad\" root, the next-to-last step becomes $u_4=(-u_3) - b$, and now  $\\kappa=|u_3|/|u_4|\\approx 5\\times 10^{11}$. So we can expect to lose 11 digits of accuracy, which is what we observed. The key issue is the subtractive cancellation in this one step."
   ]
  }
 ],
 "metadata": {
  "kernelspec": {
   "display_name": "Python 3",
   "language": "python",
   "name": "python3"
  },
  "language_info": {
   "codemirror_mode": {
    "name": "ipython",
    "version": 3
   },
   "file_extension": ".py",
   "mimetype": "text/x-python",
   "name": "python",
   "nbconvert_exporter": "python",
   "pygments_lexer": "ipython3",
   "version": "3.13.0"
  },
  "numbering": {
   "headings": false
  }
 },
 "nbformat": 4,
 "nbformat_minor": 5
}
