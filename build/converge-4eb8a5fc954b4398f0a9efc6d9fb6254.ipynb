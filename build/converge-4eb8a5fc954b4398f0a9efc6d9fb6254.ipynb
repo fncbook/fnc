{
 "cells": [
  {
   "cell_type": "code",
   "execution_count": 1,
   "id": "0a3d5d92",
   "metadata": {
    "execution": {
     "iopub.execute_input": "2025-01-05T10:17:46.443000Z",
     "iopub.status.busy": "2025-01-05T10:17:46.148000Z",
     "iopub.status.idle": "2025-01-05T10:17:53.036000Z",
     "shell.execute_reply": "2025-01-05T10:17:52.991000Z"
    }
   },
   "outputs": [
    {
     "name": "stderr",
     "output_type": "stream",
     "text": [
      "\u001b[32m\u001b[1m  Activating\u001b[22m\u001b[39m "
     ]
    },
    {
     "name": "stderr",
     "output_type": "stream",
     "text": [
      "project at `~/Documents/GitHub/fnc`\n"
     ]
    }
   ],
   "source": [
    "include(\"../../../julia/FNC_init.jl\")"
   ]
  },
  {
   "cell_type": "markdown",
   "id": "6f5c7a6d",
   "metadata": {},
   "source": [
    "[**Demo %s**](#demo-secant-converge)\n",
    "\n",
    "We check the convergence of the secant method from {numref}`Demo %s <demo-secant-line>`. Again we will use extended precision to get a longer sequence than double precision allows."
   ]
  },
  {
   "cell_type": "code",
   "execution_count": 2,
   "id": "de002b12",
   "metadata": {
    "execution": {
     "iopub.execute_input": "2025-01-05T10:17:53.214000Z",
     "iopub.status.busy": "2025-01-05T10:17:53.037000Z",
     "iopub.status.idle": "2025-01-05T10:17:53.292000Z",
     "shell.execute_reply": "2025-01-05T10:17:53.292000Z"
    }
   },
   "outputs": [],
   "source": [
    "f(x) = x * exp(x) - 2\n",
    "x = FNC.secant(f, BigFloat(1), BigFloat(0.5), xtol=1e-80, ftol=1e-80);"
   ]
  },
  {
   "cell_type": "markdown",
   "id": "723e8c9c",
   "metadata": {},
   "source": [
    "We don't know the exact root, so we use the last value as a proxy."
   ]
  },
  {
   "cell_type": "code",
   "execution_count": 3,
   "id": "a3d8a3e2",
   "metadata": {
    "execution": {
     "iopub.execute_input": "2025-01-05T10:17:53.293000Z",
     "iopub.status.busy": "2025-01-05T10:17:53.293000Z",
     "iopub.status.idle": "2025-01-05T10:17:53.499000Z",
     "shell.execute_reply": "2025-01-05T10:17:53.499000Z"
    }
   },
   "outputs": [
    {
     "data": {
      "text/plain": [
       "0.8526055020137254913464724146953174668984533001514035087721073946525150656742605"
      ]
     },
     "execution_count": 3,
     "metadata": {},
     "output_type": "execute_result"
    }
   ],
   "source": [
    "r = x[end]"
   ]
  },
  {
   "cell_type": "markdown",
   "id": "186abcd1",
   "metadata": {},
   "source": [
    "Here is the sequence of errors."
   ]
  },
  {
   "cell_type": "code",
   "execution_count": 4,
   "id": "60d3b4d1",
   "metadata": {
    "execution": {
     "iopub.execute_input": "2025-01-05T10:17:53.501000Z",
     "iopub.status.busy": "2025-01-05T10:17:53.501000Z",
     "iopub.status.idle": "2025-01-05T10:17:54.712000Z",
     "shell.execute_reply": "2025-01-05T10:17:54.712000Z"
    }
   },
   "outputs": [
    {
     "data": {
      "text/plain": [
       "11-element Vector{Float64}:\n",
       " -0.14739449798627452\n",
       "  0.3526055020137255\n",
       "  0.04223372706144885\n",
       " -0.013026425327222755\n",
       "  0.00042747994131549927\n",
       "  4.269915586133851e-6\n",
       " -1.4054770126368277e-9\n",
       "  4.620323656624992e-15\n",
       "  4.999480931132388e-24\n",
       " -1.7783862252641536e-38\n",
       "  6.845099610444838e-62"
      ]
     },
     "execution_count": 4,
     "metadata": {},
     "output_type": "execute_result"
    }
   ],
   "source": [
    "ϵ = @. Float64(r - x[1:end-2])"
   ]
  },
  {
   "cell_type": "markdown",
   "id": "1a973c52",
   "metadata": {},
   "source": [
    "It's not easy to see the convergence rate by staring at these numbers. We can use {eq}`superlinear-rate` to try to expose the superlinear convergence rate."
   ]
  },
  {
   "cell_type": "code",
   "execution_count": 5,
   "id": "4740451a",
   "metadata": {
    "execution": {
     "iopub.execute_input": "2025-01-05T10:17:54.715000Z",
     "iopub.status.busy": "2025-01-05T10:17:54.715000Z",
     "iopub.status.idle": "2025-01-05T10:17:55.482000Z",
     "shell.execute_reply": "2025-01-05T10:17:55.482000Z"
    }
   },
   "outputs": [
    {
     "data": {
      "text/html": [
       "<table>\n",
       "  <thead>\n",
       "    <tr class = \"header headerLastRow\">\n",
       "      <th style = \"text-align: right;\">iteration</th>\n",
       "      <th style = \"text-align: right;\">error</th>\n",
       "      <th style = \"text-align: right;\">log error</th>\n",
       "      <th style = \"text-align: right;\">ratio</th>\n",
       "    </tr>\n",
       "  </thead>\n",
       "  <tbody>\n",
       "    <tr>\n",
       "      <td style = \"text-align: right;\">1.0</td>\n",
       "      <td style = \"text-align: right;\">-0.147394</td>\n",
       "      <td style = \"text-align: right;\">-0.831519</td>\n",
       "      <td style = \"text-align: right;\">NaN</td>\n",
       "    </tr>\n",
       "    <tr>\n",
       "      <td style = \"text-align: right;\">2.0</td>\n",
       "      <td style = \"text-align: right;\">0.352606</td>\n",
       "      <td style = \"text-align: right;\">-0.452711</td>\n",
       "      <td style = \"text-align: right;\">0.544439</td>\n",
       "    </tr>\n",
       "    <tr>\n",
       "      <td style = \"text-align: right;\">3.0</td>\n",
       "      <td style = \"text-align: right;\">0.0422337</td>\n",
       "      <td style = \"text-align: right;\">-1.37434</td>\n",
       "      <td style = \"text-align: right;\">3.0358</td>\n",
       "    </tr>\n",
       "    <tr>\n",
       "      <td style = \"text-align: right;\">4.0</td>\n",
       "      <td style = \"text-align: right;\">-0.0130264</td>\n",
       "      <td style = \"text-align: right;\">-1.88517</td>\n",
       "      <td style = \"text-align: right;\">1.37169</td>\n",
       "    </tr>\n",
       "    <tr>\n",
       "      <td style = \"text-align: right;\">5.0</td>\n",
       "      <td style = \"text-align: right;\">0.00042748</td>\n",
       "      <td style = \"text-align: right;\">-3.36908</td>\n",
       "      <td style = \"text-align: right;\">1.78715</td>\n",
       "    </tr>\n",
       "    <tr>\n",
       "      <td style = \"text-align: right;\">6.0</td>\n",
       "      <td style = \"text-align: right;\">4.26992e-6</td>\n",
       "      <td style = \"text-align: right;\">-5.36958</td>\n",
       "      <td style = \"text-align: right;\">1.59378</td>\n",
       "    </tr>\n",
       "    <tr>\n",
       "      <td style = \"text-align: right;\">7.0</td>\n",
       "      <td style = \"text-align: right;\">-1.40548e-9</td>\n",
       "      <td style = \"text-align: right;\">-8.85218</td>\n",
       "      <td style = \"text-align: right;\">1.64858</td>\n",
       "    </tr>\n",
       "    <tr>\n",
       "      <td style = \"text-align: right;\">8.0</td>\n",
       "      <td style = \"text-align: right;\">4.62032e-15</td>\n",
       "      <td style = \"text-align: right;\">-14.3353</td>\n",
       "      <td style = \"text-align: right;\">1.61941</td>\n",
       "    </tr>\n",
       "    <tr>\n",
       "      <td style = \"text-align: right;\">9.0</td>\n",
       "      <td style = \"text-align: right;\">4.99948e-24</td>\n",
       "      <td style = \"text-align: right;\">-23.3011</td>\n",
       "      <td style = \"text-align: right;\">1.62543</td>\n",
       "    </tr>\n",
       "    <tr>\n",
       "      <td style = \"text-align: right;\">10.0</td>\n",
       "      <td style = \"text-align: right;\">-1.77839e-38</td>\n",
       "      <td style = \"text-align: right;\">-37.75</td>\n",
       "      <td style = \"text-align: right;\">1.6201</td>\n",
       "    </tr>\n",
       "    <tr>\n",
       "      <td style = \"text-align: right;\">11.0</td>\n",
       "      <td style = \"text-align: right;\">6.8451e-62</td>\n",
       "      <td style = \"text-align: right;\">-61.1646</td>\n",
       "      <td style = \"text-align: right;\">1.62026</td>\n",
       "    </tr>\n",
       "  </tbody>\n",
       "</table>\n"
      ]
     },
     "metadata": {},
     "output_type": "display_data"
    }
   ],
   "source": [
    "logerr = @. log10(abs(ϵ))\n",
    "ratios = [NaN; [logerr[i+1] / logerr[i] for i in 1:length(logerr)-1]]\n",
    "@pt :header=[\"iteration\", \"error\", \"log error\", \"ratio\"] [eachindex(ϵ) ϵ logerr ratios]"
   ]
  },
  {
   "cell_type": "markdown",
   "id": "4de56c71",
   "metadata": {},
   "source": [
    "As expected, this settles in at around 1.618."
   ]
  }
 ],
 "metadata": {
  "kernelspec": {
   "display_name": "Julia 1",
   "language": "julia",
   "name": "julia-1.11"
  },
  "language_info": {
   "file_extension": ".jl",
   "mimetype": "application/julia",
   "name": "julia",
   "version": "1.11.2"
  },
  "numbering": {
   "headings": false
  }
 },
 "nbformat": 4,
 "nbformat_minor": 5
}
