{
 "cells": [
  {
   "cell_type": "code",
   "execution_count": 1,
   "id": "3b05b66a",
   "metadata": {
    "execution": {
     "iopub.execute_input": "2025-01-11T16:48:20.742829Z",
     "iopub.status.busy": "2025-01-11T16:48:20.742685Z",
     "iopub.status.idle": "2025-01-11T16:48:21.078410Z",
     "shell.execute_reply": "2025-01-11T16:48:21.078044Z"
    },
    "tags": [
     "remove-cell"
    ]
   },
   "outputs": [],
   "source": [
    "exec(open(\"../../../python/FNC_init.py\").read())"
   ]
  },
  {
   "cell_type": "markdown",
   "id": "c64354a7",
   "metadata": {},
   "source": [
    "[**Demo %s**](#demo-finitediffs-fd2)\n",
    "\n",
    "If $f(x)=e^{\\,\\sin(x)}$, then $f''(0)=1$."
   ]
  },
  {
   "cell_type": "code",
   "execution_count": 2,
   "id": "97bc1b1f",
   "metadata": {
    "execution": {
     "iopub.execute_input": "2025-01-11T16:48:21.080288Z",
     "iopub.status.busy": "2025-01-11T16:48:21.080103Z",
     "iopub.status.idle": "2025-01-11T16:48:21.082133Z",
     "shell.execute_reply": "2025-01-11T16:48:21.081861Z"
    }
   },
   "outputs": [],
   "source": [
    "f = lambda x: exp(sin(x))"
   ]
  },
  {
   "cell_type": "markdown",
   "id": "bedbf8f5",
   "metadata": {},
   "source": [
    "Here is a centered estimate given by {eq}`centerFD22`."
   ]
  },
  {
   "cell_type": "code",
   "execution_count": 3,
   "id": "1dd06be7",
   "metadata": {
    "execution": {
     "iopub.execute_input": "2025-01-11T16:48:21.083366Z",
     "iopub.status.busy": "2025-01-11T16:48:21.083250Z",
     "iopub.status.idle": "2025-01-11T16:48:21.085183Z",
     "shell.execute_reply": "2025-01-11T16:48:21.084946Z"
    }
   },
   "outputs": [
    {
     "name": "stdout",
     "output_type": "stream",
     "text": [
      "CD2 is 0.999374948\n"
     ]
    }
   ],
   "source": [
    "h = 0.05\n",
    "CD2 = (f(-h) - 2*f(0) + f(h)) / h**2\n",
    "print(f\"CD2 is {CD2:.9f}\")"
   ]
  },
  {
   "cell_type": "markdown",
   "id": "c4d04067",
   "metadata": {},
   "source": [
    "For the same $h$, here are forward estimates given by {eq}`forwardFD21` and {eq}`forwardFD22`."
   ]
  },
  {
   "cell_type": "code",
   "execution_count": 4,
   "id": "76b2ff54",
   "metadata": {
    "execution": {
     "iopub.execute_input": "2025-01-11T16:48:21.086277Z",
     "iopub.status.busy": "2025-01-11T16:48:21.086194Z",
     "iopub.status.idle": "2025-01-11T16:48:21.088112Z",
     "shell.execute_reply": "2025-01-11T16:48:21.087880Z"
    }
   },
   "outputs": [
    {
     "name": "stdout",
     "output_type": "stream",
     "text": [
      "FD1 is 0.995373844 and FD2 is 1.007881148\n"
     ]
    }
   ],
   "source": [
    "FD1 = (f(0) - 2*f(h) + f(2*h)) / h**2\n",
    "FD2 = (2*f(0) - 5*f(h) + 4*f(2*h) - f(3*h)) / h**2\n",
    "print(f\"FD1 is {FD1:.9f} and FD2 is {FD2:.9f}\")"
   ]
  },
  {
   "cell_type": "markdown",
   "id": "2d00a7e0",
   "metadata": {},
   "source": [
    "Finally, here are the backward estimates that come from reversing {eq}`forwardFD21` and {eq}`forwardFD22`."
   ]
  },
  {
   "cell_type": "code",
   "execution_count": 5,
   "id": "b8a7db75",
   "metadata": {
    "execution": {
     "iopub.execute_input": "2025-01-11T16:48:21.089305Z",
     "iopub.status.busy": "2025-01-11T16:48:21.089222Z",
     "iopub.status.idle": "2025-01-11T16:48:21.091233Z",
     "shell.execute_reply": "2025-01-11T16:48:21.090995Z"
    }
   },
   "outputs": [
    {
     "name": "stdout",
     "output_type": "stream",
     "text": [
      "BD1 is 0.995872969 and BD2 is 1.005892819\n"
     ]
    }
   ],
   "source": [
    "BD1 = (f(-2*h) - 2*f(-h) + f(0)) / h**2\n",
    "BD2 = (-f(-3*h) + 4*f(-2*h) - 5*f(-h) + 2*f(0)) / h**2\n",
    "print(f\"BD1 is {BD1:.9f} and BD2 is {BD2:.9f}\")"
   ]
  }
 ],
 "metadata": {
  "kernelspec": {
   "display_name": "Python 3",
   "language": "python",
   "name": "python3"
  },
  "language_info": {
   "codemirror_mode": {
    "name": "ipython",
    "version": 3
   },
   "file_extension": ".py",
   "mimetype": "text/x-python",
   "name": "python",
   "nbconvert_exporter": "python",
   "pygments_lexer": "ipython3",
   "version": "3.13.0"
  },
  "numbering": {
   "headings": false
  }
 },
 "nbformat": 4,
 "nbformat_minor": 5
}
