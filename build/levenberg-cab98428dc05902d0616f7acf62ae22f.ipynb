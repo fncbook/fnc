{
    "cells": [
        {
            "cell_type": "markdown",
            "source": [
                "[**Demo %s**](#demo-quasi-levenberg)\n",
                "\n",
                "\n",
                "To solve a nonlinear system, we need to code only the function defining the system, and not its Jacobian.\n",
                "```{tip}\n",
                ":class: dropdown\n",
                "A rule of thumb is that if you use a function as an input argument for another function, there needs to be an `@` involved once: either for an anonymous definition or to reference a function defined elsewhere. \n",
                "```{literalinclude} f45_nlsystem.m\n",
                ":language: matlab\n",
                "```\n",
                "In all other respects usage is the same as for the `newtonsys` function."
            ],
            "id": "63d04e61",
            "metadata": {}
        },
        {
            "outputs": [],
            "cell_type": "code",
            "source": [
                "f = @f46_nlsystem;\n",
                "x1 = [0; 0; 0];   \n",
                "x = levenberg(f, x1);"
            ],
            "id": "2206c523",
            "metadata": {},
            "execution_count": 2
        },
        {
            "cell_type": "markdown",
            "source": [
                "It's always a good idea to check the accuracy of the root, by measuring the residual (backward error)."
            ],
            "id": "f9dd82e4",
            "metadata": {}
        },
        {
            "outputs": [
                {
                    "output_type": "execute_result",
                    "data": {
                        "text/plain": [
                            "r = 3×1 double\n",
                            "   -0.4580\n",
                            "    0.2351\n",
                            "    0.1077\n"
                        ],
                        "text/html": [
                            "<html><body><pre>r = 3×1 double\n",
                            "   -0.4580\n",
                            "    0.2351\n",
                            "    0.1077\n",
                            "</pre></body></html>"
                        ]
                    },
                    "metadata": {},
                    "execution_count": 3
                },
                {
                    "output_type": "execute_result",
                    "data": {
                        "text/plain": [
                            "backward_err = 1.2708e-13"
                        ],
                        "text/html": [
                            "<html><body><pre>backward_err = 1.2708e-13</pre></body></html>"
                        ]
                    },
                    "metadata": {},
                    "execution_count": 3
                }
            ],
            "cell_type": "code",
            "source": [
                "r = x(:, end)\n",
                "backward_err = norm(f(r))"
            ],
            "id": "e5ed01b6",
            "metadata": {},
            "execution_count": 3
        },
        {
            "cell_type": "markdown",
            "source": [
                "Looking at the convergence of the first component, we find a rate between linear and quadratic, like with the secant method."
            ],
            "id": "bad2c5c5",
            "metadata": {}
        },
        {
            "outputs": [
                {
                    "output_type": "execute_result",
                    "data": {
                        "text/plain": [
                            "ans = 11×1 double\n",
                            "   -0.3391\n",
                            "   -0.4271\n",
                            "   -1.4439\n",
                            "   -1.5517\n",
                            "   -2.7571\n",
                            "   -2.6208\n",
                            "   -3.4403\n",
                            "   -4.9947\n",
                            "   -7.3448\n",
                            "   -8.7366\n",
                            "..."
                        ],
                        "text/html": [
                            "<html><body><pre>ans = 11×1 double\n",
                            "   -0.3391\n",
                            "   -0.4271\n",
                            "   -1.4439\n",
                            "   -1.5517\n",
                            "   -2.7571\n",
                            "   -2.6208\n",
                            "   -3.4403\n",
                            "   -4.9947\n",
                            "   -7.3448\n",
                            "   -8.7366\n",
                            "...</pre></body></html>"
                        ]
                    },
                    "metadata": {},
                    "execution_count": 4
                }
            ],
            "cell_type": "code",
            "source": [
                "log10( abs(x(1, 1:end-1) - r(1)) )'"
            ],
            "id": "f412fd7e",
            "metadata": {},
            "execution_count": 4
        }
    ],
    "nbformat_minor": 5,
    "metadata": {
        "language_info": {
            "file_extension": ".m",
            "mimetype": "text/x-matlab",
            "name": "matlab"
        },
        "kernelspec": {
            "name": "jupyter_matlab_kernel",
            "display_name": "MATLAB Kernel",
            "language": "matlab"
        },
        "numbering": {
            "headings": false
        }
    },
    "nbformat": 4
}
