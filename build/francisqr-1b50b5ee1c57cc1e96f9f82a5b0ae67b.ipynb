{
 "cells": [
  {
   "cell_type": "code",
   "execution_count": 4,
   "id": "d0e10075",
   "metadata": {
    "tags": [
     "remove-cell"
    ]
   },
   "outputs": [],
   "source": [
    "exec(open(\"../../../python/FNC_init.py\").read())"
   ]
  },
  {
   "cell_type": "markdown",
   "id": "b37fd2e1",
   "metadata": {},
   "source": [
    "[**Demo %s**](#demo-evd-francisqr)\n",
    "\n",
    "Let's start with a known set of eigenvalues and an orthogonal eigenvector basis."
   ]
  },
  {
   "cell_type": "code",
   "execution_count": 5,
   "id": "a52bac36",
   "metadata": {},
   "outputs": [],
   "source": [
    "from numpy.linalg import qr, eig\n",
    "D = diag([-6, -1, 2, 4, 5])\n",
    "V, R = qr(random.randn(5, 5))\n",
    "A = V @ D @ V.T    # note that V.T = inv(V) here"
   ]
  },
  {
   "cell_type": "code",
   "execution_count": 6,
   "id": "84f5872a",
   "metadata": {},
   "outputs": [
    {
     "name": "stdout",
     "output_type": "stream",
     "text": [
      "[-6. -1.  2.  4.  5.]\n"
     ]
    }
   ],
   "source": [
    "print(sort(eig(A)[0]))"
   ]
  },
  {
   "cell_type": "markdown",
   "id": "360a6309",
   "metadata": {},
   "source": [
    "Now we will take the QR factorization and just reverse the factors."
   ]
  },
  {
   "cell_type": "code",
   "execution_count": 7,
   "id": "c52a931b",
   "metadata": {},
   "outputs": [],
   "source": [
    "Q, R = qr(A)\n",
    "A = R @ Q;"
   ]
  },
  {
   "cell_type": "markdown",
   "id": "404e7c17",
   "metadata": {},
   "source": [
    "It turns out that this is a similarity transformation, so the eigenvalues are unchanged."
   ]
  },
  {
   "cell_type": "code",
   "execution_count": 8,
   "id": "0d142d91",
   "metadata": {},
   "outputs": [
    {
     "name": "stdout",
     "output_type": "stream",
     "text": [
      "[-6. -1.  2.  4.  5.]\n"
     ]
    }
   ],
   "source": [
    "print(sort(eig(A)[0]))"
   ]
  },
  {
   "cell_type": "markdown",
   "id": "a9cc5947",
   "metadata": {},
   "source": [
    "What's remarkable, and not elementary, is that if we repeat this transformation many times, the resulting matrix converges to $\\mathbf{D}$."
   ]
  },
  {
   "cell_type": "code",
   "execution_count": 9,
   "id": "ce443616",
   "metadata": {},
   "outputs": [
    {
     "name": "stdout",
     "output_type": "stream",
     "text": [
      "[[-6.0000e+00 -1.3117e-02  8.5915e-07 -7.7659e-16 -2.1476e-16]\n",
      " [-1.3117e-02  5.0000e+00 -1.4405e-04 -3.8313e-16  5.0982e-16]\n",
      " [ 8.5915e-07 -1.4405e-04  4.0000e+00  4.2644e-13 -7.9742e-16]\n",
      " [ 4.3764e-19 -7.6189e-18  4.2527e-13  2.0000e+00 -3.2831e-12]\n",
      " [-4.9283e-31 -7.8500e-30 -1.1727e-24 -3.2819e-12 -1.0000e+00]]\n"
     ]
    }
   ],
   "source": [
    "for k in range(40):\n",
    "    Q, R = qr(A)\n",
    "    A = R @ Q\n",
    "set_printoptions(precision=4)\n",
    "print(A)"
   ]
  }
 ],
 "metadata": {
  "kernelspec": {
   "display_name": "myst",
   "language": "python",
   "name": "python3"
  },
  "language_info": {
   "codemirror_mode": {
    "name": "ipython",
    "version": 3
   },
   "file_extension": ".py",
   "mimetype": "text/x-python",
   "name": "python",
   "nbconvert_exporter": "python",
   "pygments_lexer": "ipython3",
   "version": "3.13.0"
  },
  "numbering": {
   "headings": false
  }
 },
 "nbformat": 4,
 "nbformat_minor": 5
}
