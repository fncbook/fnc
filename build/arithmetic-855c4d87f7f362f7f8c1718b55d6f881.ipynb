{
 "cells": [
  {
   "cell_type": "code",
   "execution_count": 1,
   "id": "fe579c2d",
   "metadata": {
    "execution": {
     "iopub.execute_input": "2025-01-11T17:56:50.870730Z",
     "iopub.status.busy": "2025-01-11T17:56:50.870594Z",
     "iopub.status.idle": "2025-01-11T17:56:51.173670Z",
     "shell.execute_reply": "2025-01-11T17:56:51.173311Z"
    },
    "tags": [
     "remove-cell"
    ]
   },
   "outputs": [],
   "source": [
    "exec(open(\"../../../python/FNC_init.py\").read())"
   ]
  },
  {
   "cell_type": "markdown",
   "id": "43f7801c",
   "metadata": {},
   "source": [
    "[**Demo %s**](#demo-float-arithmetic)\n",
    "\n",
    "\n",
    "There is no double precision number between $1$ and $1+\\varepsilon_\\text{mach}$. Thus, the following difference is zero despite its appearance."
   ]
  },
  {
   "cell_type": "code",
   "execution_count": 2,
   "id": "f0e81c76",
   "metadata": {
    "execution": {
     "iopub.execute_input": "2025-01-11T17:56:51.175274Z",
     "iopub.status.busy": "2025-01-11T17:56:51.175154Z",
     "iopub.status.idle": "2025-01-11T17:56:51.177116Z",
     "shell.execute_reply": "2025-01-11T17:56:51.176868Z"
    }
   },
   "outputs": [
    {
     "name": "stdout",
     "output_type": "stream",
     "text": [
      "0.0\n"
     ]
    }
   ],
   "source": [
    "eps = finfo(float).eps\n",
    "e = eps/2\n",
    "print((1.0 + e) - 1.0)"
   ]
  },
  {
   "cell_type": "markdown",
   "id": "41c47be9",
   "metadata": {},
   "source": [
    "However, $1-\\varepsilon_\\text{mach}/2$ is a double precision number, so it and its negative are represented exactly:"
   ]
  },
  {
   "cell_type": "code",
   "execution_count": 3,
   "id": "99736183",
   "metadata": {
    "execution": {
     "iopub.execute_input": "2025-01-11T17:56:51.178348Z",
     "iopub.status.busy": "2025-01-11T17:56:51.178265Z",
     "iopub.status.idle": "2025-01-11T17:56:51.179854Z",
     "shell.execute_reply": "2025-01-11T17:56:51.179623Z"
    }
   },
   "outputs": [
    {
     "name": "stdout",
     "output_type": "stream",
     "text": [
      "1.1102230246251565e-16\n"
     ]
    }
   ],
   "source": [
    "print(1.0 + (e - 1.0))"
   ]
  },
  {
   "cell_type": "markdown",
   "id": "269adeb7",
   "metadata": {},
   "source": [
    "This is now the \"correct\" result. But we have found a rather shocking breakdown of the associative law of addition!"
   ]
  }
 ],
 "metadata": {
  "kernelspec": {
   "display_name": "Python 3",
   "language": "python",
   "name": "python3"
  },
  "language_info": {
   "codemirror_mode": {
    "name": "ipython",
    "version": 3
   },
   "file_extension": ".py",
   "mimetype": "text/x-python",
   "name": "python",
   "nbconvert_exporter": "python",
   "pygments_lexer": "ipython3",
   "version": "3.13.0"
  },
  "numbering": {
   "headings": false
  }
 },
 "nbformat": 4,
 "nbformat_minor": 5
}
