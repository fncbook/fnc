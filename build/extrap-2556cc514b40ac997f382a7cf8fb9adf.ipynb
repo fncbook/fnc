{
 "cells": [
  {
   "cell_type": "code",
   "execution_count": 1,
   "id": "53411376",
   "metadata": {
    "tags": [
     "remove-cell"
    ]
   },
   "outputs": [],
   "source": [
    "cd  /Users/driscoll/Documents/GitHub/fnc/matlab\n",
    "FNC_init"
   ]
  },
  {
   "cell_type": "markdown",
   "id": "16c2fc1c",
   "metadata": {},
   "source": [
    "[**Demo %s**](#demo-int-extrap)\n",
    "\n",
    "We estimate $\\displaystyle\\int_0^2 x^2 e^{-2x}\\, dx$ using extrapolation. First we use `quadgk` to get an accurate value."
   ]
  },
  {
   "cell_type": "code",
   "execution_count": 2,
   "id": "c55ef208",
   "metadata": {},
   "outputs": [
    {
     "data": {
      "text/html": [
       "<html><body><pre>I = \n",
       "   0.190474173611614\n",
       "</pre></body></html>"
      ],
      "text/plain": [
       "I = \n",
       "   0.190474173611614\n"
      ]
     },
     "execution_count": 2,
     "metadata": {},
     "output_type": "execute_result"
    }
   ],
   "source": [
    "f = @(x) x.^2 .* exp(-2 * x);\n",
    "a = 0;  b = 2;\n",
    "format long\n",
    "I = integral(f, a, b, abstol=1e-14, reltol=1e-14)"
   ]
  },
  {
   "cell_type": "markdown",
   "id": "dac60b2a",
   "metadata": {},
   "source": [
    "We start with the trapezoid formula on $n=N$ nodes."
   ]
  },
  {
   "cell_type": "code",
   "execution_count": 3,
   "id": "f750add6",
   "metadata": {},
   "outputs": [],
   "source": [
    "N = 20;       % the coarsest formula\n",
    "n = N;  h = (b - a) / n;\n",
    "t = h * (0:n)';\n",
    "y = f(t);"
   ]
  },
  {
   "cell_type": "markdown",
   "id": "8cef0f98",
   "metadata": {},
   "source": [
    "We can now apply weights to get the estimate $T_f(N)$."
   ]
  },
  {
   "cell_type": "code",
   "execution_count": 4,
   "id": "209ccdb6",
   "metadata": {},
   "outputs": [
    {
     "data": {
      "text/html": [
       "<html><body><pre>T = \n",
       "   0.190411449939268\n",
       "</pre></body></html>"
      ],
      "text/plain": [
       "T = \n",
       "   0.190411449939268\n"
      ]
     },
     "execution_count": 4,
     "metadata": {},
     "output_type": "execute_result"
    }
   ],
   "source": [
    "T = h * ( sum(y(2:n)) + y(1) / 2 + y(n+1) / 2 )"
   ]
  },
  {
   "cell_type": "markdown",
   "id": "c30a5fbb",
   "metadata": {},
   "source": [
    "Now we double to $n=2N$, but we only need to evaluate $f$ at every other interior node and apply {eq}`nc-doubling`."
   ]
  },
  {
   "cell_type": "code",
   "execution_count": 5,
   "id": "0ec6f793",
   "metadata": {},
   "outputs": [
    {
     "data": {
      "text/html": [
       "<html><body><pre>T = 1×2 double\n",
       "   0.190411449939268   0.190458805859512\n",
       "</pre></body></html>"
      ],
      "text/plain": [
       "T = 1×2 double\n",
       "   0.190411449939268   0.190458805859512\n"
      ]
     },
     "execution_count": 5,
     "metadata": {},
     "output_type": "execute_result"
    }
   ],
   "source": [
    "n = 2*n;  h = h / 2;\n",
    "t = h * (0:n)';\n",
    "T(2) = T(1) / 2 + h * sum( f(t(2:2:n)) )"
   ]
  },
  {
   "cell_type": "markdown",
   "id": "ab437c81",
   "metadata": {},
   "source": [
    "We can repeat the same code to double $n$ again."
   ]
  },
  {
   "cell_type": "code",
   "execution_count": 6,
   "id": "11f0d480",
   "metadata": {},
   "outputs": [
    {
     "data": {
      "text/html": [
       "<html><body><pre>T = 1×3 double\n",
       "   0.190411449939268   0.190458805859512   0.190470351304644\n",
       "</pre></body></html>"
      ],
      "text/plain": [
       "T = 1×3 double\n",
       "   0.190411449939268   0.190458805859512   0.190470351304644\n"
      ]
     },
     "execution_count": 6,
     "metadata": {},
     "output_type": "execute_result"
    }
   ],
   "source": [
    "n = 2*n;  h = h / 2;\n",
    "t = h * (0:n)';\n",
    "T(3) = T(2) / 2 + h * sum( f(t(2:2:n)) )"
   ]
  },
  {
   "cell_type": "markdown",
   "id": "316fedb5",
   "metadata": {},
   "source": [
    "Let us now do the first level of extrapolation to get results from Simpson's formula. We combine the elements `T[i]` and `T[i+1]` the same way for $i=1$ and $i=2$."
   ]
  },
  {
   "cell_type": "code",
   "execution_count": 7,
   "id": "995ff11c",
   "metadata": {},
   "outputs": [
    {
     "data": {
      "text/html": [
       "<html><body><pre>S = 1×2 double\n",
       "   0.190474591166260   0.190474199786355\n",
       "</pre></body></html>"
      ],
      "text/plain": [
       "S = 1×2 double\n",
       "   0.190474591166260   0.190474199786355\n"
      ]
     },
     "execution_count": 7,
     "metadata": {},
     "output_type": "execute_result"
    }
   ],
   "source": [
    "S = (4 * T(2:3) - T(1:2)) / 3"
   ]
  },
  {
   "cell_type": "markdown",
   "id": "7808ff5d",
   "metadata": {},
   "source": [
    "With the two Simpson values $S_f(N)$ and $S_f(2N)$ in hand, we can do one more level of extrapolation to get a sixth-order accurate result."
   ]
  },
  {
   "cell_type": "code",
   "execution_count": 8,
   "id": "1a1a545c",
   "metadata": {},
   "outputs": [
    {
     "data": {
      "text/html": [
       "<html><body><pre>R = \n",
       "   0.190474173694362\n",
       "</pre></body></html>"
      ],
      "text/plain": [
       "R = \n",
       "   0.190474173694362\n"
      ]
     },
     "execution_count": 8,
     "metadata": {},
     "output_type": "execute_result"
    }
   ],
   "source": [
    "R = (16*S(2) - S(1)) / 15"
   ]
  },
  {
   "cell_type": "markdown",
   "id": "2ff2d172",
   "metadata": {},
   "source": [
    "We can make a triangular table of the errors:"
   ]
  },
  {
   "cell_type": "code",
   "execution_count": 9,
   "id": "1e5b00ff",
   "metadata": {},
   "outputs": [
    {
     "name": "stdout",
     "output_type": "stream",
     "text": [
      "      order 2       order 4       order 6  \n",
      "    ___________    __________    __________\n",
      "\n",
      "    -6.2724e-05           NaN           NaN\n",
      "    -1.5368e-05    4.1755e-07           NaN\n",
      "    -3.8223e-06    2.6175e-08    8.2748e-11\n",
      "\n"
     ]
    }
   ],
   "source": [
    "err2 = T(:) - I;\n",
    "err4 = [NaN; S(:) - I];\n",
    "err6 = [NaN; NaN; R - I];\n",
    "format short e\n",
    "disp(table(err2, err4, err6, variablenames=[\"order 2\", \"order 4\", \"order 6\"]))"
   ]
  },
  {
   "cell_type": "markdown",
   "id": "33287ad8",
   "metadata": {},
   "source": [
    "If we consider the computational time to be dominated by evaluations of $f$, then we have obtained a result with about twice as many accurate digits as the best trapezoid result, at virtually no extra cost."
   ]
  }
 ],
 "metadata": {
  "kernelspec": {
   "display_name": "MATLAB Kernel",
   "language": "matlab",
   "name": "jupyter_matlab_kernel"
  },
  "language_info": {
   "file_extension": ".m",
   "mimetype": "text/x-matlab",
   "name": "matlab"
  },
  "numbering": {
   "headings": false
  }
 },
 "nbformat": 4,
 "nbformat_minor": 5
}
