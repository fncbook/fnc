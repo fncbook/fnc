{
 "cells": [
  {
   "cell_type": "markdown",
   "id": "0e0738bb",
   "metadata": {},
   "source": [
    "[**Demo %s**](#demo-condition-roots)\n",
    "\n",
    "The polynomial $p(x) = \\frac{1}{3}(x-1)(x-1-\\epsilon)$ has roots $1$ and $1+\\epsilon$. For small values of $\\epsilon$, the roots are ill-conditioned. \n",
    "\n",
    "```{tip}\n",
    ":class: dropdown\n",
    "The statement `x,y = 10,20` makes individual assignments to both `x` and `y`.\n",
    "```"
   ]
  },
  {
   "cell_type": "code",
   "execution_count": 1,
   "id": "f80c0d2b",
   "metadata": {
    "execution": {
     "iopub.execute_input": "2025-01-14T16:35:21.648000Z",
     "iopub.status.busy": "2025-01-14T16:35:21.248000Z",
     "iopub.status.idle": "2025-01-14T16:35:22.365000Z",
     "shell.execute_reply": "2025-01-14T16:35:22.310000Z"
    }
   },
   "outputs": [
    {
     "data": {
      "text/plain": [
       "(0.3333333333333333, -0.666667, 0.33333366666666664)"
      ]
     },
     "execution_count": 1,
     "metadata": {},
     "output_type": "execute_result"
    }
   ],
   "source": [
    "ϵ = 1e-6   # type \\epsilon and then press Tab\n",
    "a,b,c = 1/3,(-2-ϵ)/3,(1+ϵ)/3   # coefficients of p"
   ]
  },
  {
   "cell_type": "markdown",
   "id": "254e976f",
   "metadata": {},
   "source": [
    "Here are the roots as computed by the quadratic formula."
   ]
  },
  {
   "cell_type": "code",
   "execution_count": 2,
   "id": "48c1b8ba",
   "metadata": {
    "execution": {
     "iopub.execute_input": "2025-01-14T16:35:22.369000Z",
     "iopub.status.busy": "2025-01-14T16:35:22.369000Z",
     "iopub.status.idle": "2025-01-14T16:35:22.520000Z",
     "shell.execute_reply": "2025-01-14T16:35:22.519000Z"
    }
   },
   "outputs": [
    {
     "data": {
      "text/plain": [
       "(0.9999999998251499, 1.0000010001748503)"
      ]
     },
     "execution_count": 2,
     "metadata": {},
     "output_type": "execute_result"
    }
   ],
   "source": [
    "d = sqrt(b^2 - 4a*c)\n",
    "r₁ = (-b - d) / (2a)   # type r\\_1 and then press Tab\n",
    "r₂ = (-b + d) / (2a)\n",
    "(r₁, r₂)"
   ]
  },
  {
   "cell_type": "markdown",
   "id": "91ef8b69",
   "metadata": {},
   "source": [
    "The relative errors in these values are"
   ]
  },
  {
   "cell_type": "code",
   "execution_count": 3,
   "id": "1f975aa2",
   "metadata": {
    "execution": {
     "iopub.execute_input": "2025-01-14T16:35:22.521000Z",
     "iopub.status.busy": "2025-01-14T16:35:22.521000Z",
     "iopub.status.idle": "2025-01-14T16:35:22.568000Z",
     "shell.execute_reply": "2025-01-14T16:35:22.568000Z"
    }
   },
   "outputs": [
    {
     "name": "stdout",
     "output_type": "stream",
     "text": [
      "abs(r₁ - 1) / abs(1) = 1.7485013437124053e-10\n",
      "abs(r₂ - (1 + ϵ)) / abs(1 + ϵ) = 1.748501815656639e-10\n"
     ]
    }
   ],
   "source": [
    "@show abs(r₁ - 1) / abs(1);\n",
    "@show abs(r₂ - (1+ϵ)) / abs(1+ϵ);"
   ]
  },
  {
   "cell_type": "markdown",
   "id": "78dfb2ff",
   "metadata": {},
   "source": [
    "The condition number of each root is \n",
    "\n",
    "$$\n",
    "\\kappa(r_i) = \\frac{|r_i|}{|r_1-r_2|} \\approx \\frac{1}{\\epsilon}. \n",
    "$$\n",
    "\n",
    "Thus, relative error in the data at the level of roundoff can grow in the result to be roughly"
   ]
  },
  {
   "cell_type": "code",
   "execution_count": 4,
   "id": "e562da33",
   "metadata": {
    "execution": {
     "iopub.execute_input": "2025-01-14T16:35:22.570000Z",
     "iopub.status.busy": "2025-01-14T16:35:22.570000Z",
     "iopub.status.idle": "2025-01-14T16:35:22.641000Z",
     "shell.execute_reply": "2025-01-14T16:35:22.641000Z"
    }
   },
   "outputs": [
    {
     "data": {
      "text/plain": [
       "2.220446049250313e-10"
      ]
     },
     "execution_count": 4,
     "metadata": {},
     "output_type": "execute_result"
    }
   ],
   "source": [
    "eps() / ϵ"
   ]
  },
  {
   "cell_type": "markdown",
   "id": "5a13a5ad",
   "metadata": {},
   "source": [
    "This matches the observation pretty well."
   ]
  }
 ],
 "metadata": {
  "kernelspec": {
   "display_name": "Julia 1",
   "language": "julia",
   "name": "julia-1.11"
  },
  "language_info": {
   "file_extension": ".jl",
   "mimetype": "application/julia",
   "name": "julia",
   "version": "1.11.2"
  },
  "numbering": {
   "headings": false
  }
 },
 "nbformat": 4,
 "nbformat_minor": 5
}
