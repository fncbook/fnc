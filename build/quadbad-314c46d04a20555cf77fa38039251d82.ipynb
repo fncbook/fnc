{
 "cells": [
  {
   "cell_type": "markdown",
   "id": "aac85962",
   "metadata": {},
   "source": [
    "```{index} ! Julia; scientific notation\n",
    "```\n",
    "\n",
    "We apply the quadratic formula to find the roots of a quadratic via {eq}`quadunstable`. \n",
    "\n",
    "```{tip}\n",
    ":class: dropdown\n",
    "A number in scientific notation is entered as `1.23e4` rather than as `1.23*10^{4}`.\n",
    "```"
   ]
  },
  {
   "cell_type": "code",
   "execution_count": 1,
   "id": "03ae39e8",
   "metadata": {
    "execution": {
     "iopub.execute_input": "2025-01-04T15:19:04.055000Z",
     "iopub.status.busy": "2025-01-04T15:19:03.783000Z",
     "iopub.status.idle": "2025-01-04T15:19:04.273000Z",
     "shell.execute_reply": "2025-01-04T15:19:04.229000Z"
    }
   },
   "outputs": [
    {
     "name": "stdout",
     "output_type": "stream",
     "text": [
      "x₁ = (-b + sqrt(b ^ 2 - (4a) * c)) / (2a) = 1.0e6"
     ]
    },
    {
     "name": "stdout",
     "output_type": "stream",
     "text": [
      "\n",
      "x₂ = (-b - sqrt(b ^ 2 - (4a) * c)) / (2a) = 1.00000761449337e-6\n"
     ]
    }
   ],
   "source": [
    "a = 1;  b = -(1e6 + 1e-6);  c = 1;\n",
    "@show x₁ = (-b + sqrt(b^2 - 4a*c)) / 2a;\n",
    "@show x₂ = (-b - sqrt(b^2 - 4a*c)) / 2a;"
   ]
  },
  {
   "cell_type": "markdown",
   "id": "da355f4a",
   "metadata": {},
   "source": [
    "The first value is correct to all stored digits, but the second has fewer than six accurate digits:"
   ]
  },
  {
   "cell_type": "code",
   "execution_count": 2,
   "id": "0aa526d7",
   "metadata": {
    "execution": {
     "iopub.execute_input": "2025-01-04T15:19:04.275000Z",
     "iopub.status.busy": "2025-01-04T15:19:04.275000Z",
     "iopub.status.idle": "2025-01-04T15:19:04.284000Z",
     "shell.execute_reply": "2025-01-04T15:19:04.284000Z"
    }
   },
   "outputs": [
    {
     "name": "stdout",
     "output_type": "stream",
     "text": [
      "accurate_digits = -(log10(error)) = 5.118358987126217\n"
     ]
    }
   ],
   "source": [
    "error = abs(1e-6 - x₂) / 1e-6 \n",
    "@show accurate_digits = -log10(error);"
   ]
  },
  {
   "cell_type": "markdown",
   "id": "414b57f2",
   "metadata": {},
   "source": [
    "The instability is easily explained. Since $a=c=1$, we treat them as exact numbers. First, we compute the condition numbers with respect to $b$ for each elementary step in finding the \"good\" root:\n",
    "\n",
    "| Calculation | Result | $\\kappa$ |\n",
    "|:------------|:-------|:---------|\n",
    "|$u_1 = b^2$  | $1.000000000002000\\times 10^{12}$ |  2 |\n",
    "|$u_2 = u_1 - 4$ | $9.999999999980000\\times 10^{11}$  | $\\approx 1.00$ |\n",
    "|$u_3 = \\sqrt{u_2}$ | $999999.9999990000$ | 1/2 |\n",
    "|$u_4 = u_3 - b$ | $2000000$ | $\\approx 0.500$ |\n",
    "|$u_5 = u_4/2$ | $1000000$  | 1 |\n",
    "\n",
    "Using {eq}`condition-chain`, the chain rule for condition numbers, the conditioning of the entire chain is the product of the individual steps, so there is essentially no growth of relative error here. However, if we use the quadratic formula for the \"bad\" root, the next-to-last step becomes $u_4=(-u_3) - b$, and now  $\\kappa=|u_3|/|u_4|\\approx 5\\times 10^{11}$. So we can expect to lose 11 digits of accuracy, which is what we observed. The key issue is the subtractive cancellation in this one step."
   ]
  }
 ],
 "metadata": {
  "kernelspec": {
   "display_name": "Julia 1",
   "language": "julia",
   "name": "julia-1.11"
  },
  "language_info": {
   "file_extension": ".jl",
   "mimetype": "application/julia",
   "name": "julia",
   "version": "1.11.2"
  },
  "numbering": {
   "headings": false
  }
 },
 "nbformat": 4,
 "nbformat_minor": 5
}
