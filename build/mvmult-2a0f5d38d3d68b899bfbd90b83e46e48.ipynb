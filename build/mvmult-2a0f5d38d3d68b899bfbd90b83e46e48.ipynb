{
    "cells": [
        {
            "cell_type": "markdown",
            "source": [
                "[**Demo %s**](#demo-flops-mvmult)\n",
                "\n",
                "Here is a straightforward implementation of matrix-vector multiplication."
            ],
            "id": "725167fe",
            "metadata": {}
        },
        {
            "outputs": [],
            "cell_type": "code",
            "source": [
                "n = 6;\n",
                "A = magic(n);\n",
                "x = ones(n,1);\n",
                "y = zeros(n,1);\n",
                "for i = 1:n\n",
                "    for j = 1:n\n",
                "        y(i) = y(i) + A(i,j)*x(j);   % 2 flops\n",
                "    end\n",
                "end"
            ],
            "id": "d7a18d27",
            "metadata": {},
            "execution_count": 17
        },
        {
            "cell_type": "markdown",
            "source": [
                "Each of the loops implies a summation of flops. The total flop count for this algorithm is\n",
                "\n",
                "$$ \\sum_{i=1}^n \\sum_{j=1}^n 2 = \\sum_{i=1}^n 2n = 2n^2. $$\n",
                "\n",
                "Since the matrix $\\mathbf{A}$ has $n^2$ elements, all of which have to be involved in the product, it seems unlikely that we could get a flop count that is smaller than $O(n^2)$ in general.\n",
                "\n",
                "```{index} ! MATLAB; tic and toc\n",
                "```\n",
                "\n",
                "Let's run an experiment with the built-in matrix-vector multiplication, using `tic` and `toc` to time the operation."
            ],
            "id": "1e0598d5",
            "metadata": {}
        },
        {
            "outputs": [],
            "cell_type": "code",
            "source": [
                "n = (500:500:5000)';\n",
                "t = zeros(size(n));\n",
                "for k = 1:length(n)\n",
                "    A = randn(n(k), n(k));  x = randn(n(k), 1);\n",
                "    tic    % start a timer\n",
                "    for j = 1:200      % repeat 100 times\n",
                "        A*x;\n",
                "    end\n",
                "    time = toc;           % read the timer\n",
                "    t(k) = time / 200;   % seconds per instance\n",
                "end"
            ],
            "id": "4726fc28",
            "metadata": {},
            "execution_count": 18
        },
        {
            "cell_type": "markdown",
            "source": [
                "The reason for doing multiple repetitions at each value of $n$ in the loop above is to avoid having times so short that the resolution of the timer is significant."
            ],
            "id": "09a884fc",
            "metadata": {}
        },
        {
            "outputs": [
                {
                    "name": "stdout",
                    "output_type": "stream",
                    "text": [
                        "    size       time   \n",
                        "    ____    __________\n",
                        "\n",
                        "     500    0.00011696\n",
                        "    1000    0.00037975\n",
                        "    1500    0.00060796\n",
                        "    2000      0.001607\n",
                        "    2500     0.0023549\n",
                        "    3000     0.0033345\n",
                        "    3500     0.0041554\n",
                        "    4000     0.0052615\n",
                        "    4500     0.0059562\n",
                        "    5000     0.0073607\n",
                        "\n"
                    ]
                }
            ],
            "cell_type": "code",
            "source": [
                "disp(table(n, t, 'variablenames', {'size', 'time'}))"
            ],
            "id": "0e5b4eb7",
            "metadata": {},
            "execution_count": 19
        },
        {
            "cell_type": "markdown",
            "source": [
                "```{index} MATLAB; Boolean indexing\n",
                "```\n",
                "\n",
                "Looking at the timings just for $n=2000$ and $n=4000$, they have ratio\n",
                "```{tip}\n",
                ":class: dropdown\n",
                "The expression `n_==4000` here produces a vector of Boolean (true/false) values the same size as `n_`. This result is used to index within `t_`, accessing only the value for which the comparison is true.\n",
                "```"
            ],
            "id": "9776e6dd",
            "metadata": {}
        },
        {
            "outputs": [
                {
                    "output_type": "execute_result",
                    "data": {
                        "text/plain": [
                            "ans = 3.1257"
                        ],
                        "text/html": [
                            "<html><body><pre>ans = 3.1257</pre></body></html>"
                        ]
                    },
                    "metadata": {},
                    "execution_count": 20
                }
            ],
            "cell_type": "code",
            "source": [
                "t(n==5000) / t(n==2500)"
            ],
            "id": "672a0009",
            "metadata": {},
            "execution_count": 20
        },
        {
            "cell_type": "markdown",
            "source": [
                "If the run time is dominated by flops, then we expect this ratio to be \n",
                "\n",
                "$$\n",
                "\\frac{2(4000)^2}{2(2000)^2}=4.\n",
                "$$"
            ],
            "id": "971b48a6",
            "metadata": {}
        }
    ],
    "nbformat_minor": 5,
    "metadata": {
        "language_info": {
            "file_extension": ".m",
            "mimetype": "text/x-matlab",
            "name": "matlab"
        },
        "kernelspec": {
            "name": "jupyter_matlab_kernel",
            "display_name": "MATLAB Kernel",
            "language": "matlab"
        },
        "numbering": {
            "headings": false
        }
    },
    "nbformat": 4
}
