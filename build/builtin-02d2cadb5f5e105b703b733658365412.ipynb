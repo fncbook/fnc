{
 "cells": [
  {
   "cell_type": "code",
   "execution_count": 1,
   "id": "196ae818",
   "metadata": {
    "execution": {
     "iopub.execute_input": "2025-01-05T09:34:25.206000Z",
     "iopub.status.busy": "2025-01-05T09:34:24.922000Z",
     "iopub.status.idle": "2025-01-05T09:34:31.449000Z",
     "shell.execute_reply": "2025-01-05T09:34:31.403000Z"
    }
   },
   "outputs": [
    {
     "name": "stderr",
     "output_type": "stream",
     "text": [
      "\u001b[32m\u001b[1m  Activating\u001b[22m\u001b[39m "
     ]
    },
    {
     "name": "stderr",
     "output_type": "stream",
     "text": [
      "project at `~/Documents/GitHub/fnc`\n"
     ]
    }
   ],
   "source": [
    "include(\"../../../julia/FNC_init.jl\")"
   ]
  },
  {
   "cell_type": "markdown",
   "id": "50e29c86",
   "metadata": {},
   "source": [
    "[**Demo %s**](#demo-pivoting-builtin)\n",
    "\n",
    "With the syntax `A \\ b`, the matrix `A` is PLU-factored, followed by two triangular solves."
   ]
  },
  {
   "cell_type": "code",
   "execution_count": 2,
   "id": "e83ce290",
   "metadata": {
    "execution": {
     "iopub.execute_input": "2025-01-05T09:34:31.580000Z",
     "iopub.status.busy": "2025-01-05T09:34:31.451000Z",
     "iopub.status.idle": "2025-01-05T09:34:31.996000Z",
     "shell.execute_reply": "2025-01-05T09:34:31.996000Z"
    }
   },
   "outputs": [
    {
     "data": {
      "text/plain": [
       "0.139001208"
      ]
     },
     "execution_count": 2,
     "metadata": {},
     "output_type": "execute_result"
    }
   ],
   "source": [
    "A = randn(500, 500)   # 500x500 with normal random entries\n",
    "A \\ rand(500)          # force compilation\n",
    "@elapsed for k=1:50; A \\ rand(500); end"
   ]
  },
  {
   "cell_type": "markdown",
   "id": "36e77eeb",
   "metadata": {},
   "source": [
    "In {numref}`section-linsys-efficiency` we showed that the factorization is by far the most costly part of the solution process. A factorization object allows us to do that costly step only once per unique matrix."
   ]
  },
  {
   "cell_type": "code",
   "execution_count": 3,
   "id": "7202ae00",
   "metadata": {
    "execution": {
     "iopub.execute_input": "2025-01-05T09:34:31.998000Z",
     "iopub.status.busy": "2025-01-05T09:34:31.998000Z",
     "iopub.status.idle": "2025-01-05T09:34:32.015000Z",
     "shell.execute_reply": "2025-01-05T09:34:32.014000Z"
    }
   },
   "outputs": [
    {
     "data": {
      "text/plain": [
       "0.002763166"
      ]
     },
     "execution_count": 3,
     "metadata": {},
     "output_type": "execute_result"
    }
   ],
   "source": [
    "factored = lu(A)     # store factorization result\n",
    "factored \\ rand(500)   # force compilation\n",
    "@elapsed for k=1:50; factored \\ rand(500); end"
   ]
  }
 ],
 "metadata": {
  "kernelspec": {
   "display_name": "Julia 1",
   "language": "julia",
   "name": "julia-1.11"
  },
  "language_info": {
   "file_extension": ".jl",
   "mimetype": "application/julia",
   "name": "julia",
   "version": "1.11.2"
  },
  "numbering": {
   "headings": false
  }
 },
 "nbformat": 4,
 "nbformat_minor": 5
}
