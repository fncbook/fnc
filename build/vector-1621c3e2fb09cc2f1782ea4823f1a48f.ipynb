{
 "cells": [
  {
   "cell_type": "code",
   "execution_count": 1,
   "id": "637bceb2",
   "metadata": {
    "execution": {
     "iopub.execute_input": "2025-01-11T17:43:48.241325Z",
     "iopub.status.busy": "2025-01-11T17:43:48.241115Z",
     "iopub.status.idle": "2025-01-11T17:43:48.589351Z",
     "shell.execute_reply": "2025-01-11T17:43:48.589005Z"
    },
    "tags": [
     "remove-cell"
    ]
   },
   "outputs": [],
   "source": [
    "exec(open(\"../../../python/FNC_init.py\").read())"
   ]
  },
  {
   "cell_type": "markdown",
   "id": "13becaed",
   "metadata": {},
   "source": [
    "[**Demo %s**](#demo-norms-vector)\n",
    "\n",
    "```{index} ! Python; norm\n",
    "```\n",
    "\n",
    "The `norm` function from `numpy.linalg` computes vector norms."
   ]
  },
  {
   "cell_type": "code",
   "execution_count": 2,
   "id": "b4925965",
   "metadata": {
    "execution": {
     "iopub.execute_input": "2025-01-11T17:43:48.590979Z",
     "iopub.status.busy": "2025-01-11T17:43:48.590831Z",
     "iopub.status.idle": "2025-01-11T17:43:48.592846Z",
     "shell.execute_reply": "2025-01-11T17:43:48.592622Z"
    }
   },
   "outputs": [
    {
     "name": "stdout",
     "output_type": "stream",
     "text": [
      "3.872983346207417\n"
     ]
    }
   ],
   "source": [
    "from numpy.linalg import norm\n",
    "x = array([2, -3, 1, -1])\n",
    "print(norm(x))       # 2-norm by default"
   ]
  },
  {
   "cell_type": "code",
   "execution_count": 3,
   "id": "9fe105cc",
   "metadata": {
    "execution": {
     "iopub.execute_input": "2025-01-11T17:43:48.598920Z",
     "iopub.status.busy": "2025-01-11T17:43:48.598768Z",
     "iopub.status.idle": "2025-01-11T17:43:48.600798Z",
     "shell.execute_reply": "2025-01-11T17:43:48.600539Z"
    }
   },
   "outputs": [
    {
     "name": "stdout",
     "output_type": "stream",
     "text": [
      "3.0\n"
     ]
    }
   ],
   "source": [
    "print(norm(x, inf))"
   ]
  },
  {
   "cell_type": "code",
   "execution_count": 4,
   "id": "dde1c37b",
   "metadata": {
    "execution": {
     "iopub.execute_input": "2025-01-11T17:43:48.601988Z",
     "iopub.status.busy": "2025-01-11T17:43:48.601897Z",
     "iopub.status.idle": "2025-01-11T17:43:48.603732Z",
     "shell.execute_reply": "2025-01-11T17:43:48.603469Z"
    }
   },
   "outputs": [
    {
     "name": "stdout",
     "output_type": "stream",
     "text": [
      "7.0\n"
     ]
    }
   ],
   "source": [
    "print(norm(x, 1))"
   ]
  }
 ],
 "metadata": {
  "kernelspec": {
   "display_name": "Python 3",
   "language": "python",
   "name": "python3"
  },
  "language_info": {
   "codemirror_mode": {
    "name": "ipython",
    "version": 3
   },
   "file_extension": ".py",
   "mimetype": "text/x-python",
   "name": "python",
   "nbconvert_exporter": "python",
   "pygments_lexer": "ipython3",
   "version": "3.13.0"
  },
  "numbering": {
   "headings": false
  }
 },
 "nbformat": 4,
 "nbformat_minor": 5
}
