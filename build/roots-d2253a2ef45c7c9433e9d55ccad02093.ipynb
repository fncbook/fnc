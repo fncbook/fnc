{
    "cells": [
        {
            "cell_type": "markdown",
            "source": [
                "[**Demo %s**](#demo-stability-roots)\n",
                "\n",
                "\n",
                "\n",
                "Our first step is to construct a polynomial with six known roots.\n",
                "```{tip}\n",
                ":class: dropdown\n",
                "The `'` operator is used for transposition. Here, we want to make `r` a column vector.\n",
                "```"
            ],
            "id": "88781d21",
            "metadata": {}
        },
        {
            "outputs": [
                {
                    "output_type": "execute_result",
                    "data": {
                        "text/plain": [
                            "p = 1×7 double\n",
                            "     1    -8     6    44   -43   -36    36\n"
                        ],
                        "text/html": [
                            "<html><body><pre>p = 1×7 double\n",
                            "     1    -8     6    44   -43   -36    36\n",
                            "</pre></body></html>"
                        ]
                    },
                    "metadata": {},
                    "execution_count": 2
                }
            ],
            "cell_type": "code",
            "source": [
                "r = [-2 ,-1, 1, 1, 3, 6]';\n",
                "p = poly(r)"
            ],
            "id": "1f2edb2f",
            "metadata": {},
            "execution_count": 2
        },
        {
            "cell_type": "markdown",
            "source": [
                "Now we use a standard numerical method for finding those roots, pretending that we don't know them already. This corresponds to $\\tilde{y}$ in {numref}`Definition {number} <definition-stability-backward>`."
            ],
            "id": "2def0bac",
            "metadata": {}
        },
        {
            "outputs": [
                {
                    "output_type": "execute_result",
                    "data": {
                        "text/plain": [
                            "rr = 6×1 double\n",
                            "   -2.0000\n",
                            "   -1.0000\n",
                            "    1.0000\n",
                            "    1.0000\n",
                            "    3.0000\n",
                            "    6.0000\n"
                        ],
                        "text/html": [
                            "<html><body><pre>rr = 6×1 double\n",
                            "   -2.0000\n",
                            "   -1.0000\n",
                            "    1.0000\n",
                            "    1.0000\n",
                            "    3.0000\n",
                            "    6.0000\n",
                            "</pre></body></html>"
                        ]
                    },
                    "metadata": {},
                    "execution_count": 3
                }
            ],
            "cell_type": "code",
            "source": [
                "rr = sort(roots(p))   "
            ],
            "id": "327c640c",
            "metadata": {},
            "execution_count": 3
        },
        {
            "cell_type": "markdown",
            "source": [
                "Here are the relative errors in each of the computed roots. \n",
                "```{tip}\n",
                ":class: dropdown\n",
                "The `./` operator is used for element-wise division.\n",
                "```"
            ],
            "id": "10ba9284",
            "metadata": {}
        },
        {
            "outputs": [
                {
                    "name": "stdout",
                    "output_type": "stream",
                    "text": [
                        "Root errors:\n"
                    ]
                },
                {
                    "output_type": "execute_result",
                    "data": {
                        "text/plain": [
                            "ans = 6×1 double\n",
                            "1.0e-08 *\n",
                            "\n",
                            "   -0.0000\n",
                            "   -0.0000\n",
                            "    0.8534\n",
                            "    0.8534\n",
                            "         0\n",
                            "    0.0000\n"
                        ],
                        "text/html": [
                            "<html><body><pre>ans = 6×1 double\n",
                            "1.0e-08 *\n",
                            "\n",
                            "   -0.0000\n",
                            "   -0.0000\n",
                            "    0.8534\n",
                            "    0.8534\n",
                            "         0\n",
                            "    0.0000\n",
                            "</pre></body></html>"
                        ]
                    },
                    "metadata": {},
                    "execution_count": 4
                }
            ],
            "cell_type": "code",
            "source": [
                "disp(\"Root errors:\") \n",
                "abs(r - rr) ./ r"
            ],
            "id": "2709b581",
            "metadata": {},
            "execution_count": 4
        },
        {
            "cell_type": "markdown",
            "source": [
                "It seems that the forward error is acceptably close to machine epsilon for double precision in all cases except the double root at $x=1$. This is not a surprise, though, given the poor conditioning at such roots.\n",
                "\n",
                "Let's consider the backward error. The data in the rootfinding problem is the polynomial coefficients. We can apply `poly` to find the coefficients of the polynomial (that is, the data) whose roots were actually computed by the numerical algorithm. This corresponds to $\\tilde{x}$ in {numref}`Definition {number} <definition-stability-backward>`."
            ],
            "id": "fc3a778d",
            "metadata": {}
        },
        {
            "outputs": [
                {
                    "output_type": "execute_result",
                    "data": {
                        "text/plain": [
                            "pp = 1×7 double\n",
                            "    1.0000   -8.0000    6.0000   44.0000  -43.0000  -36.0000   36.0000\n"
                        ],
                        "text/html": [
                            "<html><body><pre>pp = 1×7 double\n",
                            "    1.0000   -8.0000    6.0000   44.0000  -43.0000  -36.0000   36.0000\n",
                            "</pre></body></html>"
                        ]
                    },
                    "metadata": {},
                    "execution_count": 5
                }
            ],
            "cell_type": "code",
            "source": [
                "pp = poly(rr)"
            ],
            "id": "b7099d24",
            "metadata": {},
            "execution_count": 5
        },
        {
            "cell_type": "markdown",
            "source": [
                "We find that in a relative sense, these coefficients are very close to those of the original, exact polynomial:"
            ],
            "id": "22aa1cc9",
            "metadata": {}
        },
        {
            "outputs": [
                {
                    "name": "stdout",
                    "output_type": "stream",
                    "text": [
                        "Coefficient errors:\n"
                    ]
                },
                {
                    "output_type": "execute_result",
                    "data": {
                        "text/plain": [
                            "ans = 1×7 double\n",
                            "1.0e-14 *\n",
                            "\n",
                            "         0    0.0777    0.1628    0.1130    0.1157    0.3158    0.3355\n"
                        ],
                        "text/html": [
                            "<html><body><pre>ans = 1×7 double\n",
                            "1.0e-14 *\n",
                            "\n",
                            "         0    0.0777    0.1628    0.1130    0.1157    0.3158    0.3355\n",
                            "</pre></body></html>"
                        ]
                    },
                    "metadata": {},
                    "execution_count": 6
                }
            ],
            "cell_type": "code",
            "source": [
                "disp(\"Coefficient errors:\") \n",
                "abs(p - pp) ./ abs(p)"
            ],
            "id": "1ac0a6c0",
            "metadata": {},
            "execution_count": 6
        },
        {
            "cell_type": "markdown",
            "source": [
                "In summary, even though there are some computed roots relatively far from their correct values, they are nevertheless the roots of a polynomial that is very close to the original."
            ],
            "id": "fe2ba2e4",
            "metadata": {}
        }
    ],
    "nbformat_minor": 5,
    "metadata": {
        "language_info": {
            "file_extension": ".m",
            "mimetype": "text/x-matlab",
            "name": "matlab"
        },
        "kernelspec": {
            "name": "jupyter_matlab_kernel",
            "display_name": "MATLAB Kernel",
            "language": "matlab"
        },
        "numbering": {
            "headings": false
        }
    },
    "nbformat": 4
}
