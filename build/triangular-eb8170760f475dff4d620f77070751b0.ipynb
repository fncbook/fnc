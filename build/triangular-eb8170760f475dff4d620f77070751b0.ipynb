{
 "cells": [
  {
   "cell_type": "code",
   "execution_count": 1,
   "id": "e580e809",
   "metadata": {
    "tags": [
     "remove-cell"
    ]
   },
   "outputs": [],
   "source": [
    "cd  /Users/driscoll/Documents/GitHub/fnc/matlab\n",
    "FNC_init"
   ]
  },
  {
   "cell_type": "markdown",
   "id": "11682146",
   "metadata": {},
   "source": [
    "[**Demo %s**](#demo-systems-triangular)\n",
    "\n",
    "```{index} ! MATLAB; tril, ! MATLAB; triu\n",
    "```\n",
    "\n",
    "It's easy to get just the lower triangular part of any matrix using the `tril` function.\n",
    "```{tip}\n",
    ":class: dropdown\n",
    "Use `tril` to return a matrix that zeros out everything above the main diagonal. The `triu` function zeros out below the diagonal.\n",
    "```"
   ]
  },
  {
   "cell_type": "code",
   "execution_count": 2,
   "id": "8a4b71f2",
   "metadata": {},
   "outputs": [
    {
     "data": {
      "text/html": [
       "<html><body><pre>L = 5×5 double\n",
       "     9     0     0     0     0\n",
       "     9     8     0     0     0\n",
       "     8     7     7     0     0\n",
       "     3     3     4     2     0\n",
       "     9     6     1     4     2\n",
       "</pre></body></html>"
      ],
      "text/plain": [
       "L = 5×5 double\n",
       "     9     0     0     0     0\n",
       "     9     8     0     0     0\n",
       "     8     7     7     0     0\n",
       "     3     3     4     2     0\n",
       "     9     6     1     4     2\n"
      ]
     },
     "execution_count": 2,
     "metadata": {},
     "output_type": "execute_result"
    }
   ],
   "source": [
    "A = randi(9, 5, 5);\n",
    "L = tril(A)"
   ]
  },
  {
   "cell_type": "markdown",
   "id": "6e33423d",
   "metadata": {},
   "source": [
    "We'll set up and solve a linear system with this matrix."
   ]
  },
  {
   "cell_type": "code",
   "execution_count": 3,
   "id": "f0253809",
   "metadata": {},
   "outputs": [
    {
     "data": {
      "text/html": [
       "<html><body><pre>x = 5×1 double\n",
       "    0.1111\n",
       "         0\n",
       "    0.0159\n",
       "    0.3016\n",
       "   -0.6111\n",
       "</pre></body></html>"
      ],
      "text/plain": [
       "x = 5×1 double\n",
       "    0.1111\n",
       "         0\n",
       "    0.0159\n",
       "    0.3016\n",
       "   -0.6111\n"
      ]
     },
     "execution_count": 3,
     "metadata": {},
     "output_type": "execute_result"
    }
   ],
   "source": [
    "b = ones(5);\n",
    "x = forwardsub(L, b)"
   ]
  },
  {
   "cell_type": "markdown",
   "id": "1e59f4c9",
   "metadata": {},
   "source": [
    "```{index} residual\n",
    "```\n",
    "\n",
    "It's not clear how accurate this answer is. However, the residual should be zero or comparable to $\\macheps$."
   ]
  },
  {
   "cell_type": "code",
   "execution_count": 4,
   "id": "2b111da7",
   "metadata": {},
   "outputs": [
    {
     "data": {
      "text/html": [
       "<html><body><pre>ans = 5×5 double\n",
       "     0     0     0     0     0\n",
       "     0     0     0     0     0\n",
       "     0     0     0     0     0\n",
       "     0     0     0     0     0\n",
       "     0     0     0     0     0\n",
       "</pre></body></html>"
      ],
      "text/plain": [
       "ans = 5×5 double\n",
       "     0     0     0     0     0\n",
       "     0     0     0     0     0\n",
       "     0     0     0     0     0\n",
       "     0     0     0     0     0\n",
       "     0     0     0     0     0\n"
      ]
     },
     "execution_count": 4,
     "metadata": {},
     "output_type": "execute_result"
    }
   ],
   "source": [
    "b - L * x"
   ]
  },
  {
   "cell_type": "markdown",
   "id": "e82bb1b5",
   "metadata": {},
   "source": [
    "```{index} ! MATLAB; diag, ! MATLAB; eye\n",
    "```\n",
    "\n",
    "Next, we'll engineer a problem to which we know the exact answer. \n",
    "```{tip}\n",
    ":class: dropdown\n",
    "The `eye` function creates an identity matrix. The `diag` function uses 0 as the main diagonal, positive integers as superdiagonals, and negative integers as subdiagonals.\n",
    "```"
   ]
  },
  {
   "cell_type": "code",
   "execution_count": 5,
   "id": "23bf6f50",
   "metadata": {},
   "outputs": [
    {
     "data": {
      "text/html": [
       "<html><body><pre>U = 5×5 double\n",
       "    1.0000   -1.0000         0   -1.9000    2.2000\n",
       "         0    1.0000   -1.0000         0         0\n",
       "         0         0    1.0000   -1.0000         0\n",
       "         0         0         0    1.0000   -1.0000\n",
       "         0         0         0         0    1.0000\n",
       "</pre></body></html>"
      ],
      "text/plain": [
       "U = 5×5 double\n",
       "    1.0000   -1.0000         0   -1.9000    2.2000\n",
       "         0    1.0000   -1.0000         0         0\n",
       "         0         0    1.0000   -1.0000         0\n",
       "         0         0         0    1.0000   -1.0000\n",
       "         0         0         0         0    1.0000\n"
      ]
     },
     "execution_count": 5,
     "metadata": {},
     "output_type": "execute_result"
    }
   ],
   "source": [
    "alpha = 0.3;\n",
    "beta = 2.2;\n",
    "U = eye(5) + diag([-1 -1 -1 -1], 1);\n",
    "U(1, [4, 5]) = [alpha - beta, beta]"
   ]
  },
  {
   "cell_type": "code",
   "execution_count": 6,
   "id": "e1318243",
   "metadata": {},
   "outputs": [],
   "source": [
    "x_exact = ones(5);\n",
    "b = [alpha; 0; 0; 0; 1];"
   ]
  },
  {
   "cell_type": "markdown",
   "id": "b16b9340",
   "metadata": {},
   "source": [
    "Now we use backward substitution to solve for $\\mathbf{x}$, and compare to the exact solution we know already."
   ]
  },
  {
   "cell_type": "code",
   "execution_count": 7,
   "id": "8b850cd4",
   "metadata": {},
   "outputs": [
    {
     "data": {
      "text/html": [
       "<html><body><pre>err = 5×5 double\n",
       "     0     0     0     0     0\n",
       "     0     0     0     0     0\n",
       "     0     0     0     0     0\n",
       "     0     0     0     0     0\n",
       "     0     0     0     0     0\n",
       "</pre></body></html>"
      ],
      "text/plain": [
       "err = 5×5 double\n",
       "     0     0     0     0     0\n",
       "     0     0     0     0     0\n",
       "     0     0     0     0     0\n",
       "     0     0     0     0     0\n",
       "     0     0     0     0     0\n"
      ]
     },
     "execution_count": 7,
     "metadata": {},
     "output_type": "execute_result"
    }
   ],
   "source": [
    "x = backsub(U, b);\n",
    "err = x - x_exact"
   ]
  },
  {
   "cell_type": "markdown",
   "id": "bb0681a9",
   "metadata": {},
   "source": [
    "Everything seems OK here. But another example, with a different value for $\\beta$, is more troubling."
   ]
  },
  {
   "cell_type": "code",
   "execution_count": 8,
   "id": "de21df5a",
   "metadata": {},
   "outputs": [
    {
     "data": {
      "text/html": [
       "<html><body><pre>err = 5×5 double\n",
       "1.0e-04 *\n",
       "\n",
       "   -0.4883   -0.4883   -0.4883   -0.4883   -0.4883\n",
       "         0         0         0         0         0\n",
       "         0         0         0         0         0\n",
       "         0         0         0         0         0\n",
       "         0         0         0         0         0\n",
       "</pre></body></html>"
      ],
      "text/plain": [
       "err = 5×5 double\n",
       "1.0e-04 *\n",
       "\n",
       "   -0.4883   -0.4883   -0.4883   -0.4883   -0.4883\n",
       "         0         0         0         0         0\n",
       "         0         0         0         0         0\n",
       "         0         0         0         0         0\n",
       "         0         0         0         0         0\n"
      ]
     },
     "execution_count": 8,
     "metadata": {},
     "output_type": "execute_result"
    }
   ],
   "source": [
    "alpha = 0.3;\n",
    "beta = 1e12;\n",
    "U = eye(5) + diag([-1 -1 -1 -1], 1);\n",
    "U(1, [4, 5]) = [alpha - beta, beta];\n",
    "b = [alpha; 0; 0; 0; 1];\n",
    "\n",
    "x = backsub(U, b);\n",
    "err = x - x_exact"
   ]
  },
  {
   "cell_type": "markdown",
   "id": "c7bc26d0",
   "metadata": {},
   "source": [
    "It's not so good to get 4 digits of accuracy after starting with sixteen! The source of the error is not hard to track down. Solving for $x_1$ performs $(\\alpha-\\beta)+\\beta$ in the first row. Since $|\\alpha|$ is so much smaller than $|\\beta|$, this a recipe for losing digits to subtractive cancellation."
   ]
  }
 ],
 "metadata": {
  "kernelspec": {
   "display_name": "MATLAB Kernel",
   "language": "matlab",
   "name": "jupyter_matlab_kernel"
  },
  "language_info": {
   "file_extension": ".m",
   "mimetype": "text/x-matlab",
   "name": "matlab"
  },
  "numbering": {
   "headings": false
  }
 },
 "nbformat": 4,
 "nbformat_minor": 5
}
