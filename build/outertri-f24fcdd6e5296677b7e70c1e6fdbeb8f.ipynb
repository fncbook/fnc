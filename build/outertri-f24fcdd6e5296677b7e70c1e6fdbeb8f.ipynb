{
 "cells": [
  {
   "cell_type": "code",
   "execution_count": 1,
   "id": "9c62e558",
   "metadata": {
    "execution": {
     "iopub.execute_input": "2025-01-11T17:43:19.609329Z",
     "iopub.status.busy": "2025-01-11T17:43:19.609114Z",
     "iopub.status.idle": "2025-01-11T17:43:19.920767Z",
     "shell.execute_reply": "2025-01-11T17:43:19.920481Z"
    },
    "tags": [
     "remove-cell"
    ]
   },
   "outputs": [],
   "source": [
    "exec(open(\"../../../python/FNC_init.py\").read())"
   ]
  },
  {
   "cell_type": "markdown",
   "id": "30064230",
   "metadata": {},
   "source": [
    "[**Demo %s**](#demo-lu-outertri)\n",
    "\n",
    "```{index} Python; tril, Python; triu\n",
    "```\n",
    "We explore the outer product formula for two random triangular matrices."
   ]
  },
  {
   "cell_type": "code",
   "execution_count": 2,
   "id": "96dcd6ba",
   "metadata": {
    "execution": {
     "iopub.execute_input": "2025-01-11T17:43:19.922446Z",
     "iopub.status.busy": "2025-01-11T17:43:19.922305Z",
     "iopub.status.idle": "2025-01-11T17:43:19.926165Z",
     "shell.execute_reply": "2025-01-11T17:43:19.925938Z"
    }
   },
   "outputs": [
    {
     "name": "stdout",
     "output_type": "stream",
     "text": [
      "[[8 0 0]\n",
      " [8 6 0]\n",
      " [6 2 6]]\n"
     ]
    }
   ],
   "source": [
    "from numpy.random import randint\n",
    "L = tril(randint(1, 10, size=(3, 3)))\n",
    "print(L)"
   ]
  },
  {
   "cell_type": "code",
   "execution_count": 3,
   "id": "d3380dab",
   "metadata": {
    "execution": {
     "iopub.execute_input": "2025-01-11T17:43:19.927231Z",
     "iopub.status.busy": "2025-01-11T17:43:19.927143Z",
     "iopub.status.idle": "2025-01-11T17:43:19.928887Z",
     "shell.execute_reply": "2025-01-11T17:43:19.928686Z"
    }
   },
   "outputs": [
    {
     "name": "stdout",
     "output_type": "stream",
     "text": [
      "[[3 5 2]\n",
      " [0 5 2]\n",
      " [0 0 5]]\n"
     ]
    }
   ],
   "source": [
    "U = triu(randint(1, 10, size=(3, 3)))\n",
    "print(U)"
   ]
  },
  {
   "cell_type": "markdown",
   "id": "47069afd",
   "metadata": {},
   "source": [
    "Here are the three outer products appearing in the sum in {eq}`matrixouter`:"
   ]
  },
  {
   "cell_type": "code",
   "execution_count": 4,
   "id": "a2ea9f2f",
   "metadata": {
    "execution": {
     "iopub.execute_input": "2025-01-11T17:43:19.929953Z",
     "iopub.status.busy": "2025-01-11T17:43:19.929865Z",
     "iopub.status.idle": "2025-01-11T17:43:19.931532Z",
     "shell.execute_reply": "2025-01-11T17:43:19.931258Z"
    }
   },
   "outputs": [
    {
     "name": "stdout",
     "output_type": "stream",
     "text": [
      "[[24 40 16]\n",
      " [24 40 16]\n",
      " [18 30 12]]\n"
     ]
    }
   ],
   "source": [
    "print(outer(L[:, 0], U[0, :]))"
   ]
  },
  {
   "cell_type": "code",
   "execution_count": 5,
   "id": "f580ad03",
   "metadata": {
    "execution": {
     "iopub.execute_input": "2025-01-11T17:43:19.932705Z",
     "iopub.status.busy": "2025-01-11T17:43:19.932631Z",
     "iopub.status.idle": "2025-01-11T17:43:19.934322Z",
     "shell.execute_reply": "2025-01-11T17:43:19.934099Z"
    }
   },
   "outputs": [
    {
     "name": "stdout",
     "output_type": "stream",
     "text": [
      "[[ 0  0  0]\n",
      " [ 0 30 12]\n",
      " [ 0 10  4]]\n"
     ]
    }
   ],
   "source": [
    "print(outer(L[:, 1], U[1, :]))"
   ]
  },
  {
   "cell_type": "code",
   "execution_count": 6,
   "id": "e73641c8",
   "metadata": {
    "execution": {
     "iopub.execute_input": "2025-01-11T17:43:19.935341Z",
     "iopub.status.busy": "2025-01-11T17:43:19.935265Z",
     "iopub.status.idle": "2025-01-11T17:43:19.936993Z",
     "shell.execute_reply": "2025-01-11T17:43:19.936783Z"
    }
   },
   "outputs": [
    {
     "name": "stdout",
     "output_type": "stream",
     "text": [
      "[[ 0  0  0]\n",
      " [ 0  0  0]\n",
      " [ 0  0 30]]\n"
     ]
    }
   ],
   "source": [
    "print(outer(L[:, 2], U[2, :]))"
   ]
  },
  {
   "cell_type": "markdown",
   "id": "d9024e5e",
   "metadata": {},
   "source": [
    "Simply because of the triangular zero structures, only the first outer product contributes to the first row and first column of the entire product."
   ]
  }
 ],
 "metadata": {
  "kernelspec": {
   "display_name": "Python 3",
   "language": "python",
   "name": "python3"
  },
  "language_info": {
   "codemirror_mode": {
    "name": "ipython",
    "version": 3
   },
   "file_extension": ".py",
   "mimetype": "text/x-python",
   "name": "python",
   "nbconvert_exporter": "python",
   "pygments_lexer": "ipython3",
   "version": "3.13.0"
  },
  "numbering": {
   "headings": false
  }
 },
 "nbformat": 4,
 "nbformat_minor": 5
}
