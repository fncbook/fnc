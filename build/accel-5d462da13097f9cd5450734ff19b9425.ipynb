{
 "cells": [
  {
   "cell_type": "code",
   "execution_count": 1,
   "id": "767d5e01",
   "metadata": {
    "tags": [
     "remove-cell"
    ]
   },
   "outputs": [],
   "source": [
    "cd  /Users/driscoll/Documents/GitHub/fnc/matlab\n",
    "FNC_init"
   ]
  },
  {
   "cell_type": "markdown",
   "id": "09c057eb",
   "metadata": {},
   "source": [
    "[**Demo %s**](#demo-inviter-accel)"
   ]
  },
  {
   "cell_type": "code",
   "execution_count": 2,
   "id": "797c5bf2",
   "metadata": {},
   "outputs": [],
   "source": [
    "ev = [1, -0.75, 0.6, -0.4, 0];\n",
    "A = triu(ones(5, 5), 1) + diag(ev);"
   ]
  },
  {
   "cell_type": "markdown",
   "id": "53517d12",
   "metadata": {},
   "source": [
    "We begin with a shift $s=0.7$, which is closest to the eigenvalue 0.6."
   ]
  },
  {
   "cell_type": "code",
   "execution_count": 3,
   "id": "b43f1a01",
   "metadata": {},
   "outputs": [
    {
     "data": {
      "text/html": [
       "<html><body><pre>beta = 0.7035</pre></body></html>"
      ],
      "text/plain": [
       "beta = 0.7035"
      ]
     },
     "execution_count": 3,
     "metadata": {},
     "output_type": "execute_result"
    }
   ],
   "source": [
    "s = 0.7;\n",
    "x = ones(5, 1);\n",
    "y = (A - s * eye(5)) \\ x;\n",
    "beta = x(1) / y(1) + s"
   ]
  },
  {
   "cell_type": "markdown",
   "id": "2ff0c9a3",
   "metadata": {},
   "source": [
    "Note that the result is not yet any closer to the targeted 0.6. But we proceed (without being too picky about normalization here)."
   ]
  },
  {
   "cell_type": "code",
   "execution_count": 4,
   "id": "7650de82",
   "metadata": {},
   "outputs": [
    {
     "data": {
      "text/html": [
       "<html><body><pre>beta = 0.5613</pre></body></html>"
      ],
      "text/plain": [
       "beta = 0.5613"
      ]
     },
     "execution_count": 4,
     "metadata": {},
     "output_type": "execute_result"
    }
   ],
   "source": [
    "s = beta;\n",
    "x = y / y(1);\n",
    "y = (A - s * eye(5)) \\ x;\n",
    "beta = x(1) / y(1) + s"
   ]
  },
  {
   "cell_type": "markdown",
   "id": "96d7e5c8",
   "metadata": {},
   "source": [
    "Still not much apparent progress. However, in just a few more iterations the results are dramatically better."
   ]
  },
  {
   "cell_type": "code",
   "execution_count": 5,
   "id": "6fcf099d",
   "metadata": {},
   "outputs": [
    {
     "data": {
      "text/html": [
       "<html><body><pre>beta = \n",
       "   0.596431288475387\n",
       "</pre></body></html>"
      ],
      "text/plain": [
       "beta = \n",
       "   0.596431288475387\n"
      ]
     },
     "execution_count": 5,
     "metadata": {},
     "output_type": "execute_result"
    },
    {
     "data": {
      "text/html": [
       "<html><body><pre>beta = \n",
       "   0.599971709182010\n",
       "</pre></body></html>"
      ],
      "text/plain": [
       "beta = \n",
       "   0.599971709182010\n"
      ]
     },
     "execution_count": 5,
     "metadata": {},
     "output_type": "execute_result"
    },
    {
     "data": {
      "text/html": [
       "<html><body><pre>beta = \n",
       "   0.599999997855635\n",
       "</pre></body></html>"
      ],
      "text/plain": [
       "beta = \n",
       "   0.599999997855635\n"
      ]
     },
     "execution_count": 5,
     "metadata": {},
     "output_type": "execute_result"
    },
    {
     "data": {
      "text/html": [
       "<html><body><pre>beta = \n",
       "   0.600000000000000\n",
       "</pre></body></html>"
      ],
      "text/plain": [
       "beta = \n",
       "   0.600000000000000\n"
      ]
     },
     "execution_count": 5,
     "metadata": {},
     "output_type": "execute_result"
    }
   ],
   "source": [
    "format long\n",
    "for k = 1:4\n",
    "    s = beta;\n",
    "    x = y / y(1);\n",
    "    y = (A - s * eye(5)) \\ x;\n",
    "    beta = x(1) / y(1) + s\n",
    "end"
   ]
  }
 ],
 "metadata": {
  "kernelspec": {
   "display_name": "MATLAB Kernel",
   "language": "matlab",
   "name": "jupyter_matlab_kernel"
  },
  "language_info": {
   "file_extension": ".m",
   "mimetype": "text/x-matlab",
   "name": "matlab"
  },
  "numbering": {
   "headings": false
  }
 },
 "nbformat": 4,
 "nbformat_minor": 5
}
