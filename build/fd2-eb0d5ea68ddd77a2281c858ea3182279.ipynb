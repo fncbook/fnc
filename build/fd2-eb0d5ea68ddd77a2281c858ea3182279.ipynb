{
 "cells": [
  {
   "cell_type": "code",
   "execution_count": 1,
   "id": "83694aa0",
   "metadata": {
    "tags": [
     "remove-cell"
    ]
   },
   "outputs": [],
   "source": [
    "cd  /Users/driscoll/Documents/GitHub/fnc/matlab\n",
    "FNC_init"
   ]
  },
  {
   "cell_type": "markdown",
   "id": "058fbda9",
   "metadata": {},
   "source": [
    "[**Demo %s**](#demo-finitediffs-fd2)\n",
    "\n",
    "If $f(x)=e^{\\,\\sin(x)}$, then $f''(0)=1$."
   ]
  },
  {
   "cell_type": "code",
   "execution_count": 2,
   "id": "cc70e92f",
   "metadata": {},
   "outputs": [],
   "source": [
    "f = @(x) exp(sin(x));"
   ]
  },
  {
   "cell_type": "markdown",
   "id": "cf68b9e7",
   "metadata": {},
   "source": [
    "Here is a centered estimate given by {eq}`centerFD22`."
   ]
  },
  {
   "cell_type": "code",
   "execution_count": 3,
   "id": "8bcc6468",
   "metadata": {},
   "outputs": [
    {
     "data": {
      "text/html": [
       "<html><body><pre>CD2 = \n",
       "   0.999374948084774\n",
       "</pre></body></html>"
      ],
      "text/plain": [
       "CD2 = \n",
       "   0.999374948084774\n"
      ]
     },
     "execution_count": 3,
     "metadata": {},
     "output_type": "execute_result"
    }
   ],
   "source": [
    "h = 0.05;\n",
    "format long\n",
    "CD2 = (f(-h) - 2*f(0) + f(h)) / h^2"
   ]
  },
  {
   "cell_type": "markdown",
   "id": "f40df179",
   "metadata": {},
   "source": [
    "For the same $h$, here are forward estimates given by {eq}`forwardFD21` and {eq}`forwardFD22`."
   ]
  },
  {
   "cell_type": "code",
   "execution_count": 4,
   "id": "8bc3a1d0",
   "metadata": {},
   "outputs": [
    {
     "data": {
      "text/html": [
       "<html><body><pre>FD1 = \n",
       "   0.995373844312919\n",
       "</pre></body></html>"
      ],
      "text/plain": [
       "FD1 = \n",
       "   0.995373844312919\n"
      ]
     },
     "execution_count": 4,
     "metadata": {},
     "output_type": "execute_result"
    },
    {
     "data": {
      "text/html": [
       "<html><body><pre>FD2 = \n",
       "   1.007881147959821\n",
       "</pre></body></html>"
      ],
      "text/plain": [
       "FD2 = \n",
       "   1.007881147959821\n"
      ]
     },
     "execution_count": 4,
     "metadata": {},
     "output_type": "execute_result"
    }
   ],
   "source": [
    "FD1 = (f(0) - 2*f(h) + f(2*h)) / h^2\n",
    "FD2 = (2*f(0) - 5*f(h) + 4*f(2*h) - f(3*h)) / h^2"
   ]
  },
  {
   "cell_type": "markdown",
   "id": "123540c7",
   "metadata": {},
   "source": [
    "Finally, here are the backward estimates that come from reversing {eq}`forwardFD21` and {eq}`forwardFD22`."
   ]
  },
  {
   "cell_type": "code",
   "execution_count": 5,
   "id": "b4573429",
   "metadata": {},
   "outputs": [
    {
     "data": {
      "text/html": [
       "<html><body><pre>BD1 = \n",
       "   0.995872969174849\n",
       "</pre></body></html>"
      ],
      "text/plain": [
       "BD1 = \n",
       "   0.995872969174849\n"
      ]
     },
     "execution_count": 5,
     "metadata": {},
     "output_type": "execute_result"
    },
    {
     "data": {
      "text/html": [
       "<html><body><pre>BD2 = \n",
       "   1.005892819278919\n",
       "</pre></body></html>"
      ],
      "text/plain": [
       "BD2 = \n",
       "   1.005892819278919\n"
      ]
     },
     "execution_count": 5,
     "metadata": {},
     "output_type": "execute_result"
    }
   ],
   "source": [
    "BD1 = (f(-2*h) - 2*f(-h) + f(0)) / h^2\n",
    "BD2 = (-f(-3*h) + 4*f(-2*h) - 5*f(-h) + 2*f(0)) / h^2"
   ]
  }
 ],
 "metadata": {
  "kernelspec": {
   "display_name": "MATLAB Kernel",
   "language": "matlab",
   "name": "jupyter_matlab_kernel"
  },
  "language_info": {
   "file_extension": ".m",
   "mimetype": "text/x-matlab",
   "name": "matlab"
  },
  "numbering": {
   "headings": false
  }
 },
 "nbformat": 4,
 "nbformat_minor": 5
}
