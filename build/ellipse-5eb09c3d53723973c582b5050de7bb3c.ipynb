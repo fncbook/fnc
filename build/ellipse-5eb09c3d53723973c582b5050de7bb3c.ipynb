{
 "cells": [
  {
   "cell_type": "code",
   "execution_count": 1,
   "id": "1e074ab6",
   "metadata": {
    "execution": {
     "iopub.execute_input": "2025-01-10T16:03:10.730618Z",
     "iopub.status.busy": "2025-01-10T16:03:10.730512Z",
     "iopub.status.idle": "2025-01-10T16:03:11.089239Z",
     "shell.execute_reply": "2025-01-10T16:03:11.088929Z"
    },
    "tags": [
     "remove-cell"
    ]
   },
   "outputs": [],
   "source": [
    "exec(open(\"../../../python/FNC_init.py\").read())"
   ]
  },
  {
   "cell_type": "markdown",
   "id": "811a1890",
   "metadata": {},
   "source": [
    "[**Demo %s**](#demo-integration-ellipse)"
   ]
  },
  {
   "cell_type": "code",
   "execution_count": 2,
   "id": "d128b179",
   "metadata": {
    "execution": {
     "iopub.execute_input": "2025-01-10T16:03:11.090798Z",
     "iopub.status.busy": "2025-01-10T16:03:11.090642Z",
     "iopub.status.idle": "2025-01-10T16:03:11.095570Z",
     "shell.execute_reply": "2025-01-10T16:03:11.095323Z"
    }
   },
   "outputs": [
    {
     "data": {
      "text/html": [
       "<table>\n",
       "    <thead>\n",
       "        <tr>\n",
       "            <th>N</th>\n",
       "            <th>perimeter</th>\n",
       "            <th>error</th>\n",
       "        </tr>\n",
       "    </thead>\n",
       "    <tbody>\n",
       "        <tr>\n",
       "            <td>4</td>\n",
       "            <td>4.71238898038469</td>\n",
       "            <td>0.13183512988939494</td>\n",
       "        </tr>\n",
       "        <tr>\n",
       "            <td>10</td>\n",
       "            <td>4.845238036570318</td>\n",
       "            <td>0.001013926296232981</td>\n",
       "        </tr>\n",
       "        <tr>\n",
       "            <td>16</td>\n",
       "            <td>4.844206195096973</td>\n",
       "            <td>1.7915177111582636e-05</td>\n",
       "        </tr>\n",
       "        <tr>\n",
       "            <td>22</td>\n",
       "            <td>4.844224515125559</td>\n",
       "            <td>4.0485147412283595e-07</td>\n",
       "        </tr>\n",
       "        <tr>\n",
       "            <td>28</td>\n",
       "            <td>4.844224099926928</td>\n",
       "            <td>1.034715690906296e-08</td>\n",
       "        </tr>\n",
       "        <tr>\n",
       "            <td>34</td>\n",
       "            <td>4.844224110558528</td>\n",
       "            <td>2.844435798010636e-10</td>\n",
       "        </tr>\n",
       "        <tr>\n",
       "            <td>40</td>\n",
       "            <td>4.8442241102656105</td>\n",
       "            <td>8.474110302358895e-12</td>\n",
       "        </tr>\n",
       "        <tr>\n",
       "            <td>46</td>\n",
       "            <td>4.844224110274085</td>\n",
       "            <td>0.0</td>\n",
       "        </tr>\n",
       "    </tbody>\n",
       "</table>"
      ],
      "text/plain": [
       "+----+--------------------+------------------------+\n",
       "| N  |     perimeter      |         error          |\n",
       "+----+--------------------+------------------------+\n",
       "| 4  |  4.71238898038469  |  0.13183512988939494   |\n",
       "| 10 | 4.845238036570318  |  0.001013926296232981  |\n",
       "| 16 | 4.844206195096973  | 1.7915177111582636e-05 |\n",
       "| 22 | 4.844224515125559  | 4.0485147412283595e-07 |\n",
       "| 28 | 4.844224099926928  | 1.034715690906296e-08  |\n",
       "| 34 | 4.844224110558528  | 2.844435798010636e-10  |\n",
       "| 40 | 4.8442241102656105 | 8.474110302358895e-12  |\n",
       "| 46 | 4.844224110274085  |          0.0           |\n",
       "+----+--------------------+------------------------+"
      ]
     },
     "execution_count": 2,
     "metadata": {},
     "output_type": "execute_result"
    }
   ],
   "source": [
    "f = lambda t: pi * sqrt(cos(pi * t) ** 2 + sin(pi * t) ** 2 / 4)\n",
    "N = arange(4, 48, 6)\n",
    "perim = zeros(N.size)\n",
    "for k in range(N.size):\n",
    "    h = 2 / N[k]\n",
    "    t = h * arange(N[k]) - 1\n",
    "    perim[k] = h * sum(f(t))\n",
    "err = abs(perim - perim[-1])    # use the last value as reference\n",
    "results = PrettyTable()\n",
    "results.add_column(\"N\", N)\n",
    "results.add_column(\"perimeter\", perim)\n",
    "results.add_column(\"error\", err)\n",
    "results"
   ]
  },
  {
   "cell_type": "markdown",
   "id": "99a6b09b",
   "metadata": {},
   "source": [
    "The approximations gain about one digit of accuracy for each constant increment of $n$, which is consistent with spectral convergence."
   ]
  }
 ],
 "metadata": {
  "kernelspec": {
   "display_name": "Python 3",
   "language": "python",
   "name": "python3"
  },
  "language_info": {
   "codemirror_mode": {
    "name": "ipython",
    "version": 3
   },
   "file_extension": ".py",
   "mimetype": "text/x-python",
   "name": "python",
   "nbconvert_exporter": "python",
   "pygments_lexer": "ipython3",
   "version": "3.13.0"
  },
  "numbering": {
   "headings": false
  }
 },
 "nbformat": 4,
 "nbformat_minor": 5
}
