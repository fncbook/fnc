{
 "cells": [
  {
   "cell_type": "code",
   "execution_count": 1,
   "id": "578399d5",
   "metadata": {
    "tags": [
     "remove-cell"
    ]
   },
   "outputs": [],
   "source": [
    "cd  /Users/driscoll/Documents/GitHub/fnc/matlab\n",
    "FNC_init"
   ]
  },
  {
   "cell_type": "markdown",
   "id": "a24ef788",
   "metadata": {},
   "source": [
    "[**Demo %s**](#demo-normaleqns-instab)\n",
    "\n",
    "\n",
    "Because the functions $\\sin^2(t)$, $\\cos^2(t)$, and $1$ are linearly dependent, we should find that the following matrix is somewhat ill-conditioned.\n",
    "```{tip}\n",
    ":class: dropdown\n",
    "The local variable scoping rule for loops applies to comprehensions as well.\n",
    "```"
   ]
  },
  {
   "cell_type": "code",
   "execution_count": 2,
   "id": "9ca951ff",
   "metadata": {},
   "outputs": [
    {
     "data": {
      "text/html": [
       "<html><body><pre>kappa = 1.8253e+07</pre></body></html>"
      ],
      "text/plain": [
       "kappa = 1.8253e+07"
      ]
     },
     "execution_count": 2,
     "metadata": {},
     "output_type": "execute_result"
    }
   ],
   "source": [
    "t = linspace(0, 3, 400)';\n",
    "A = [ sin(t).^2, cos((1+1e-7)*t).^2, t.^0 ];\n",
    "kappa = cond(A)"
   ]
  },
  {
   "cell_type": "markdown",
   "id": "2afa3a99",
   "metadata": {},
   "source": [
    "Now we set up an artificial linear least-squares problem with a known exact solution that actually makes the residual zero."
   ]
  },
  {
   "cell_type": "code",
   "execution_count": 3,
   "id": "c21572e5",
   "metadata": {},
   "outputs": [],
   "source": [
    "x = [1; 2; 1];\n",
    "b = A * x;"
   ]
  },
  {
   "cell_type": "markdown",
   "id": "fad639e6",
   "metadata": {},
   "source": [
    "Using backslash to find the least-squares solution, we get a relative error that is well below $\\kappa$ times machine epsilon."
   ]
  },
  {
   "cell_type": "code",
   "execution_count": 4,
   "id": "bb9d84c2",
   "metadata": {},
   "outputs": [
    {
     "data": {
      "text/html": [
       "<html><body><pre>observed_err = 9.8998e-11</pre></body></html>"
      ],
      "text/plain": [
       "observed_err = 9.8998e-11"
      ]
     },
     "execution_count": 4,
     "metadata": {},
     "output_type": "execute_result"
    },
    {
     "data": {
      "text/html": [
       "<html><body><pre>max_err = 4.0530e-09</pre></body></html>"
      ],
      "text/plain": [
       "max_err = 4.0530e-09"
      ]
     },
     "execution_count": 4,
     "metadata": {},
     "output_type": "execute_result"
    }
   ],
   "source": [
    "x_BS = A \\ b;\n",
    "observed_err = norm(x_BS - x) / norm(x)\n",
    "max_err = kappa * eps"
   ]
  },
  {
   "cell_type": "markdown",
   "id": "af00f3eb",
   "metadata": {},
   "source": [
    "If we formulate and solve via the normal equations, we get a much larger relative error. With $\\kappa^2\\approx 10^{14}$, we may not be left with more than about 2 accurate digits."
   ]
  },
  {
   "cell_type": "code",
   "execution_count": 5,
   "id": "8f5a0b06",
   "metadata": {},
   "outputs": [
    {
     "data": {
      "text/html": [
       "<html><body><pre>observed_err = 0.0937</pre></body></html>"
      ],
      "text/plain": [
       "observed_err = 0.0937"
      ]
     },
     "execution_count": 5,
     "metadata": {},
     "output_type": "execute_result"
    },
    {
     "data": {
      "text/html": [
       "<html><body><pre>digits = 1.0282</pre></body></html>"
      ],
      "text/plain": [
       "digits = 1.0282"
      ]
     },
     "execution_count": 5,
     "metadata": {},
     "output_type": "execute_result"
    }
   ],
   "source": [
    "N = A'*A;\n",
    "x_NE = N\\(A'*b);\n",
    "observed_err = norm(x_NE - x) / norm(x)\n",
    "digits = -log10(observed_err)"
   ]
  }
 ],
 "metadata": {
  "kernelspec": {
   "display_name": "MATLAB Kernel",
   "language": "matlab",
   "name": "jupyter_matlab_kernel"
  },
  "language_info": {
   "file_extension": ".m",
   "mimetype": "text/x-matlab",
   "name": "matlab"
  },
  "numbering": {
   "headings": false
  }
 },
 "nbformat": 4,
 "nbformat_minor": 5
}
