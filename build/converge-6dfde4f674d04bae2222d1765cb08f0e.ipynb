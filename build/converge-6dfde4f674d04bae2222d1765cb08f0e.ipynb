{
    "cells": [
        {
            "cell_type": "markdown",
            "source": [
                "[**Demo %s**](#demo-newtonsys-converge)\n",
                "\n",
                "A system of nonlinear equations is defined by its residual and Jacobian.\n",
                "```{tip}\n",
                ":class: dropdown\n",
                "This function needs to be defined within a script file or in a file of its own with the `.m` extension.\n",
                "```\n",
                "\n",
                "```{literalinclude} f45_nlsystem.m\n",
                ":language: matlab\n",
                "```\n",
                "\n",
                "Since our system function is defined in an external file here, we need to use `@` in order to reference it as a function argument."
            ],
            "id": "c0789ef9",
            "metadata": {}
        },
        {
            "outputs": [
                {
                    "output_type": "execute_result",
                    "data": {
                        "text/plain": [
                            "num_iter = 7"
                        ],
                        "text/html": [
                            "<html><body><pre>num_iter = 7</pre></body></html>"
                        ]
                    },
                    "metadata": {},
                    "execution_count": 2
                }
            ],
            "cell_type": "code",
            "source": [
                "nlsystem = @f45_nlsystem;\n",
                "x1 = [0; 0; 0];    % column vector!\n",
                "x = newtonsys(nlsystem, x1);\n",
                "num_iter = size(x, 2)"
            ],
            "id": "e6e356ac",
            "metadata": {},
            "execution_count": 2
        },
        {
            "cell_type": "markdown",
            "source": [
                "Let's compute the residual of the last result in order to check the quality."
            ],
            "id": "a1576fe1",
            "metadata": {}
        },
        {
            "outputs": [
                {
                    "output_type": "execute_result",
                    "data": {
                        "text/plain": [
                            "r = 3×1 double\n",
                            "   -0.4580\n",
                            "    0.2351\n",
                            "    0.1077\n"
                        ],
                        "text/html": [
                            "<html><body><pre>r = 3×1 double\n",
                            "   -0.4580\n",
                            "    0.2351\n",
                            "    0.1077\n",
                            "</pre></body></html>"
                        ]
                    },
                    "metadata": {},
                    "execution_count": 3
                },
                {
                    "output_type": "execute_result",
                    "data": {
                        "text/plain": [
                            "back_err = 1.3878e-17"
                        ],
                        "text/html": [
                            "<html><body><pre>back_err = 1.3878e-17</pre></body></html>"
                        ]
                    },
                    "metadata": {},
                    "execution_count": 3
                }
            ],
            "cell_type": "code",
            "source": [
                "r = x(:, end)\n",
                "back_err = norm(nlsystem(r))"
            ],
            "id": "1a68e62a",
            "metadata": {},
            "execution_count": 3
        },
        {
            "cell_type": "markdown",
            "source": [
                "We take the sequence errors in the first component of the solution, applying the log so that we can look at the exponents."
            ],
            "id": "b159dd02",
            "metadata": {}
        },
        {
            "outputs": [
                {
                    "output_type": "execute_result",
                    "data": {
                        "text/plain": [
                            "ans = 6×1 double\n",
                            "   -0.3391\n",
                            "   -0.2660\n",
                            "   -0.9188\n",
                            "   -2.2920\n",
                            "   -5.1929\n",
                            "   -9.9685\n"
                        ],
                        "text/html": [
                            "<html><body><pre>ans = 6×1 double\n",
                            "   -0.3391\n",
                            "   -0.2660\n",
                            "   -0.9188\n",
                            "   -2.2920\n",
                            "   -5.1929\n",
                            "   -9.9685\n",
                            "</pre></body></html>"
                        ]
                    },
                    "metadata": {},
                    "execution_count": 4
                }
            ],
            "cell_type": "code",
            "source": [
                "log10( abs(x(1, 1:end-1) - r(1)) )'"
            ],
            "id": "1859732d",
            "metadata": {},
            "execution_count": 4
        },
        {
            "cell_type": "markdown",
            "source": [
                "This sequence looks to be nearly doubling at each iteration, which is a good sign of quadratic convergence."
            ],
            "id": "c4ba7295",
            "metadata": {}
        }
    ],
    "nbformat_minor": 5,
    "metadata": {
        "language_info": {
            "file_extension": ".m",
            "mimetype": "text/x-matlab",
            "name": "matlab"
        },
        "kernelspec": {
            "name": "jupyter_matlab_kernel",
            "display_name": "MATLAB Kernel",
            "language": "matlab"
        },
        "numbering": {
            "headings": false
        }
    },
    "nbformat": 4
}
