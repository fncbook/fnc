{
    "cells": [
        {
            "cell_type": "markdown",
            "source": [
                "[**Demo %s**](#demo-qr-qrfact)\n",
                "\n",
                "\n",
                "MATLAB provides access to both the thin and full forms of the QR factorization."
            ],
            "id": "e4ec4d08",
            "metadata": {}
        },
        {
            "outputs": [
                {
                    "output_type": "execute_result",
                    "data": {
                        "text/plain": [
                            "m = 5"
                        ],
                        "text/html": [
                            "<html><body><pre>m = 5</pre></body></html>"
                        ]
                    },
                    "metadata": {},
                    "execution_count": 2
                },
                {
                    "output_type": "execute_result",
                    "data": {
                        "text/plain": [
                            "n = 4"
                        ],
                        "text/html": [
                            "<html><body><pre>n = 4</pre></body></html>"
                        ]
                    },
                    "metadata": {},
                    "execution_count": 2
                }
            ],
            "cell_type": "code",
            "source": [
                "A = magic(5);\n",
                "A = A(:, 1:4);\n",
                "[m, n] = size(A)"
            ],
            "id": "2d556ec7",
            "metadata": {},
            "execution_count": 2
        },
        {
            "cell_type": "markdown",
            "source": [
                "Here is the full form:"
            ],
            "id": "7012b139",
            "metadata": {}
        },
        {
            "outputs": [
                {
                    "output_type": "execute_result",
                    "data": {
                        "text/plain": [
                            "szQ = 1×2 double\n",
                            "     5     5\n"
                        ],
                        "text/html": [
                            "<html><body><pre>szQ = 1×2 double\n",
                            "     5     5\n",
                            "</pre></body></html>"
                        ]
                    },
                    "metadata": {},
                    "execution_count": 3
                },
                {
                    "output_type": "execute_result",
                    "data": {
                        "text/plain": [
                            "szR = 1×2 double\n",
                            "     5     4\n"
                        ],
                        "text/html": [
                            "<html><body><pre>szR = 1×2 double\n",
                            "     5     4\n",
                            "</pre></body></html>"
                        ]
                    },
                    "metadata": {},
                    "execution_count": 3
                }
            ],
            "cell_type": "code",
            "source": [
                "[Q, R] = qr(A);\n",
                "szQ = size(Q), szR = size(R)"
            ],
            "id": "8b27fa77",
            "metadata": {},
            "execution_count": 3
        },
        {
            "cell_type": "markdown",
            "source": [
                "We can test that $\\mathbf{Q}$ is an orthogonal matrix:"
            ],
            "id": "3edd204f",
            "metadata": {}
        },
        {
            "outputs": [
                {
                    "output_type": "execute_result",
                    "data": {
                        "text/plain": [
                            "QTQ = 5×5 double\n",
                            "    1.0000   -0.0000    0.0000         0    0.0000\n",
                            "   -0.0000    1.0000    0.0000   -0.0000    0.0000\n",
                            "    0.0000    0.0000    1.0000         0   -0.0000\n",
                            "         0   -0.0000         0    1.0000   -0.0000\n",
                            "    0.0000    0.0000   -0.0000   -0.0000    1.0000\n"
                        ],
                        "text/html": [
                            "<html><body><pre>QTQ = 5×5 double\n",
                            "    1.0000   -0.0000    0.0000         0    0.0000\n",
                            "   -0.0000    1.0000    0.0000   -0.0000    0.0000\n",
                            "    0.0000    0.0000    1.0000         0   -0.0000\n",
                            "         0   -0.0000         0    1.0000   -0.0000\n",
                            "    0.0000    0.0000   -0.0000   -0.0000    1.0000\n",
                            "</pre></body></html>"
                        ]
                    },
                    "metadata": {},
                    "execution_count": 4
                },
                {
                    "output_type": "execute_result",
                    "data": {
                        "text/plain": [
                            "ans = 4.7051e-16"
                        ],
                        "text/html": [
                            "<html><body><pre>ans = 4.7051e-16</pre></body></html>"
                        ]
                    },
                    "metadata": {},
                    "execution_count": 4
                }
            ],
            "cell_type": "code",
            "source": [
                "QTQ = Q' * Q\n",
                "norm(QTQ - eye(m))"
            ],
            "id": "34b7a41c",
            "metadata": {},
            "execution_count": 4
        },
        {
            "cell_type": "markdown",
            "source": [
                "With a second input argument given to `qr`, the thin form is returned. (This is usually the one we want in practice.)"
            ],
            "id": "a792e4a0",
            "metadata": {}
        },
        {
            "outputs": [
                {
                    "output_type": "execute_result",
                    "data": {
                        "text/plain": [
                            "szQ_hat = 1×2 double\n",
                            "     5     4\n"
                        ],
                        "text/html": [
                            "<html><body><pre>szQ_hat = 1×2 double\n",
                            "     5     4\n",
                            "</pre></body></html>"
                        ]
                    },
                    "metadata": {},
                    "execution_count": 5
                },
                {
                    "output_type": "execute_result",
                    "data": {
                        "text/plain": [
                            "szR_hat = 1×2 double\n",
                            "     4     4\n"
                        ],
                        "text/html": [
                            "<html><body><pre>szR_hat = 1×2 double\n",
                            "     4     4\n",
                            "</pre></body></html>"
                        ]
                    },
                    "metadata": {},
                    "execution_count": 5
                }
            ],
            "cell_type": "code",
            "source": [
                "[Q_hat, R_hat] = qr(A, 0);\n",
                "szQ_hat = size(Q_hat), szR_hat = size(R_hat)"
            ],
            "id": "6b41200b",
            "metadata": {},
            "execution_count": 5
        },
        {
            "cell_type": "markdown",
            "source": [
                "Now $\\hat{\\mathbf{Q}}$ cannot be an orthogonal matrix, because it is not square, but it is still ONC. Mathematically, $\\hat{\\mathbf{Q}}^T \\hat{\\mathbf{Q}}$ is a $4\\times 4$ identity matrix."
            ],
            "id": "51e332ed",
            "metadata": {}
        },
        {
            "outputs": [
                {
                    "output_type": "execute_result",
                    "data": {
                        "text/plain": [
                            "ans = 4×4 double\n",
                            "1.0e-15 *\n",
                            "\n",
                            "   -0.2220   -0.0555    0.0833         0\n",
                            "   -0.0555    0.4441    0.0833   -0.0555\n",
                            "    0.0833    0.0833   -0.2220         0\n",
                            "         0   -0.0555         0         0\n"
                        ],
                        "text/html": [
                            "<html><body><pre>ans = 4×4 double\n",
                            "1.0e-15 *\n",
                            "\n",
                            "   -0.2220   -0.0555    0.0833         0\n",
                            "   -0.0555    0.4441    0.0833   -0.0555\n",
                            "    0.0833    0.0833   -0.2220         0\n",
                            "         0   -0.0555         0         0\n",
                            "</pre></body></html>"
                        ]
                    },
                    "metadata": {},
                    "execution_count": 6
                }
            ],
            "cell_type": "code",
            "source": [
                "Q_hat' * Q_hat - eye(n)"
            ],
            "id": "6a47d319",
            "metadata": {},
            "execution_count": 6
        }
    ],
    "nbformat_minor": 5,
    "metadata": {
        "language_info": {
            "file_extension": ".m",
            "mimetype": "text/x-matlab",
            "name": "matlab"
        },
        "kernelspec": {
            "name": "jupyter_matlab_kernel",
            "display_name": "MATLAB Kernel",
            "language": "matlab"
        },
        "numbering": {
            "headings": false
        }
    },
    "nbformat": 4
}
