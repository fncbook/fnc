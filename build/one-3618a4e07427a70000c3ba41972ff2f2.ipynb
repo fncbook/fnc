{
    "cells": [
        {
            "cell_type": "markdown",
            "source": [
                "[**Demo %s**](#demo-power-one)\n",
                "\n",
                "Here we choose a magic 5×5 matrix and a random 5-vector."
            ],
            "id": "c5db7311",
            "metadata": {}
        },
        {
            "outputs": [],
            "cell_type": "code",
            "source": [
                "A = magic(5) / 65;\n",
                "x = randn(5, 1);"
            ],
            "id": "46801ac4",
            "metadata": {},
            "execution_count": 2
        },
        {
            "cell_type": "markdown",
            "source": [
                "Applying matrix-vector multiplication once doesn't do anything recognizable."
            ],
            "id": "8163bbc0",
            "metadata": {}
        },
        {
            "outputs": [
                {
                    "output_type": "execute_result",
                    "data": {
                        "text/plain": [
                            "y = 5×1 double\n",
                            "    0.4622\n",
                            "    0.6443\n",
                            "    0.6270\n",
                            "    0.1972\n",
                            "    0.4683\n"
                        ],
                        "text/html": [
                            "<html><body><pre>y = 5×1 double\n",
                            "    0.4622\n",
                            "    0.6443\n",
                            "    0.6270\n",
                            "    0.1972\n",
                            "    0.4683\n",
                            "</pre></body></html>"
                        ]
                    },
                    "metadata": {},
                    "execution_count": 3
                }
            ],
            "cell_type": "code",
            "source": [
                "y = A * x"
            ],
            "id": "ecab1af0",
            "metadata": {},
            "execution_count": 3
        },
        {
            "cell_type": "markdown",
            "source": [
                "Repeating the multiplication still doesn't do anything obvious."
            ],
            "id": "4343648f",
            "metadata": {}
        },
        {
            "outputs": [
                {
                    "output_type": "execute_result",
                    "data": {
                        "text/plain": [
                            "z = 5×1 double\n",
                            "    0.5008\n",
                            "    0.4384\n",
                            "    0.4325\n",
                            "    0.4587\n",
                            "    0.5687\n"
                        ],
                        "text/html": [
                            "<html><body><pre>z = 5×1 double\n",
                            "    0.5008\n",
                            "    0.4384\n",
                            "    0.4325\n",
                            "    0.4587\n",
                            "    0.5687\n",
                            "</pre></body></html>"
                        ]
                    },
                    "metadata": {},
                    "execution_count": 4
                }
            ],
            "cell_type": "code",
            "source": [
                "z = A * y"
            ],
            "id": "0caaf3b8",
            "metadata": {},
            "execution_count": 4
        },
        {
            "cell_type": "markdown",
            "source": [
                "But if we keep repeating the matrix-vector multiplication, something remarkable happens: $\\mathbf{A} \\mathbf{x} \\approx \\mathbf{x}$."
            ],
            "id": "66198507",
            "metadata": {}
        },
        {
            "outputs": [
                {
                    "output_type": "execute_result",
                    "data": {
                        "text/plain": [
                            "ans = 5×2 double\n",
                            "    0.4798    0.4798\n",
                            "    0.4798    0.4798\n",
                            "    0.4797    0.4798\n",
                            "    0.4798    0.4798\n",
                            "    0.4799    0.4798\n"
                        ],
                        "text/html": [
                            "<html><body><pre>ans = 5×2 double\n",
                            "    0.4798    0.4798\n",
                            "    0.4798    0.4798\n",
                            "    0.4797    0.4798\n",
                            "    0.4798    0.4798\n",
                            "    0.4799    0.4798\n",
                            "</pre></body></html>"
                        ]
                    },
                    "metadata": {},
                    "execution_count": 5
                }
            ],
            "cell_type": "code",
            "source": [
                "for j = 1:8\n",
                "    x = A * x;\n",
                "end\n",
                "[x, A * x]"
            ],
            "id": "bd3581df",
            "metadata": {},
            "execution_count": 5
        },
        {
            "cell_type": "markdown",
            "source": [
                "This phenomenon seems to occur regardless of the starting vector."
            ],
            "id": "7f616392",
            "metadata": {}
        },
        {
            "outputs": [
                {
                    "output_type": "execute_result",
                    "data": {
                        "text/plain": [
                            "ans = 5×2 double\n",
                            "   -0.2899   -0.2900\n",
                            "   -0.2899   -0.2901\n",
                            "   -0.2901   -0.2901\n",
                            "   -0.2902   -0.2901\n",
                            "   -0.2902   -0.2900\n"
                        ],
                        "text/html": [
                            "<html><body><pre>ans = 5×2 double\n",
                            "   -0.2899   -0.2900\n",
                            "   -0.2899   -0.2901\n",
                            "   -0.2901   -0.2901\n",
                            "   -0.2902   -0.2901\n",
                            "   -0.2902   -0.2900\n",
                            "</pre></body></html>"
                        ]
                    },
                    "metadata": {},
                    "execution_count": 6
                }
            ],
            "cell_type": "code",
            "source": [
                "x = randn(5, 1);\n",
                "for j = 1:8\n",
                "    x = A * x;\n",
                "end\n",
                "[x, A * x]"
            ],
            "id": "2d5805d7",
            "metadata": {},
            "execution_count": 6
        }
    ],
    "nbformat_minor": 5,
    "metadata": {
        "language_info": {
            "file_extension": ".m",
            "mimetype": "text/x-matlab",
            "name": "matlab"
        },
        "kernelspec": {
            "name": "jupyter_matlab_kernel",
            "display_name": "MATLAB Kernel",
            "language": "matlab"
        },
        "numbering": {
            "headings": false
        }
    },
    "nbformat": 4
}
