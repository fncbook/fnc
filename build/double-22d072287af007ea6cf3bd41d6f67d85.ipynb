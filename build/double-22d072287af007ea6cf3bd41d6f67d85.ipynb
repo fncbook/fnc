{
 "cells": [
  {
   "cell_type": "markdown",
   "id": "238c8caa",
   "metadata": {},
   "source": [
    "In Julia, `1` and `1.0` are different values, because they have different types:"
   ]
  },
  {
   "cell_type": "code",
   "execution_count": 1,
   "id": "4d8d6576",
   "metadata": {
    "execution": {
     "iopub.execute_input": "2025-01-04T15:03:49.131000Z",
     "iopub.status.busy": "2025-01-04T15:03:48.868000Z",
     "iopub.status.idle": "2025-01-04T15:03:49.365000Z",
     "shell.execute_reply": "2025-01-04T15:03:49.313000Z"
    }
   },
   "outputs": [
    {
     "name": "stdout",
     "output_type": "stream",
     "text": [
      "typeof(1) = Int64"
     ]
    },
    {
     "name": "stdout",
     "output_type": "stream",
     "text": [
      "\n",
      "typeof(1.0) = Float64\n"
     ]
    }
   ],
   "source": [
    "@show typeof(1);\n",
    "@show typeof(1.0);"
   ]
  },
  {
   "cell_type": "markdown",
   "id": "aea8d7a2",
   "metadata": {},
   "source": [
    "The standard choice for floating-point values is `Float64`, which is double precision using 64 binary bits. We can see all the bits by using `bitstring`."
   ]
  },
  {
   "cell_type": "code",
   "execution_count": 2,
   "id": "1dccb4a6",
   "metadata": {
    "execution": {
     "iopub.execute_input": "2025-01-04T15:03:49.367000Z",
     "iopub.status.busy": "2025-01-04T15:03:49.367000Z",
     "iopub.status.idle": "2025-01-04T15:03:49.813000Z",
     "shell.execute_reply": "2025-01-04T15:03:49.812000Z"
    }
   },
   "outputs": [
    {
     "data": {
      "text/plain": [
       "\"0011111111110000000000000000000000000000000000000000000000000000\""
      ]
     },
     "execution_count": 2,
     "metadata": {},
     "output_type": "execute_result"
    }
   ],
   "source": [
    "bitstring(1.0)"
   ]
  },
  {
   "cell_type": "markdown",
   "id": "903127db",
   "metadata": {},
   "source": [
    "The first bit determines the sign of the number:\n",
    "\n",
    ":::\n",
    "```{tip}\n",
    "Square brackets concatenate the contained values into vectors.\n",
    "```"
   ]
  },
  {
   "cell_type": "code",
   "execution_count": 3,
   "id": "02fb3a2a",
   "metadata": {
    "execution": {
     "iopub.execute_input": "2025-01-04T15:03:49.814000Z",
     "iopub.status.busy": "2025-01-04T15:03:49.814000Z",
     "iopub.status.idle": "2025-01-04T15:03:50.424000Z",
     "shell.execute_reply": "2025-01-04T15:03:50.424000Z"
    }
   },
   "outputs": [
    {
     "data": {
      "text/plain": [
       "2-element Vector{String}:\n",
       " \"0011111111110000000000000000000000000000000000000000000000000000\"\n",
       " \"1011111111110000000000000000000000000000000000000000000000000000\""
      ]
     },
     "execution_count": 3,
     "metadata": {},
     "output_type": "execute_result"
    }
   ],
   "source": [
    "[bitstring(1.0), bitstring(-1.0)]"
   ]
  },
  {
   "cell_type": "markdown",
   "id": "d55c9156",
   "metadata": {},
   "source": [
    "The next 11 bits determine the exponent (scaling) of the number, and so on."
   ]
  },
  {
   "cell_type": "code",
   "execution_count": 4,
   "id": "e6e37701",
   "metadata": {
    "execution": {
     "iopub.execute_input": "2025-01-04T15:03:50.426000Z",
     "iopub.status.busy": "2025-01-04T15:03:50.426000Z",
     "iopub.status.idle": "2025-01-04T15:03:50.427000Z",
     "shell.execute_reply": "2025-01-04T15:03:50.427000Z"
    }
   },
   "outputs": [
    {
     "data": {
      "text/plain": [
       "2-element Vector{String}:\n",
       " \"0011111111110000000000000000000000000000000000000000000000000000\"\n",
       " \"0100000000000000000000000000000000000000000000000000000000000000\""
      ]
     },
     "execution_count": 4,
     "metadata": {},
     "output_type": "execute_result"
    }
   ],
   "source": [
    "[bitstring(1.0), bitstring(2.0)]"
   ]
  },
  {
   "cell_type": "markdown",
   "id": "b5393dd7",
   "metadata": {},
   "source": [
    "The sign bit, exponent, and significand in {eq}`floatpoint` are all directly accessible."
   ]
  },
  {
   "cell_type": "code",
   "execution_count": 5,
   "id": "e859bce3",
   "metadata": {
    "execution": {
     "iopub.execute_input": "2025-01-04T15:03:50.428000Z",
     "iopub.status.busy": "2025-01-04T15:03:50.428000Z",
     "iopub.status.idle": "2025-01-04T15:03:50.461000Z",
     "shell.execute_reply": "2025-01-04T15:03:50.461000Z"
    }
   },
   "outputs": [
    {
     "name": "stdout",
     "output_type": "stream",
     "text": [
      "(sign(x), exponent(x), significand(x)) = (1.0, 1, 1.57)\n"
     ]
    }
   ],
   "source": [
    "x = 3.14\n",
    "@show sign(x), exponent(x), significand(x);"
   ]
  },
  {
   "cell_type": "code",
   "execution_count": 6,
   "id": "90252b3c",
   "metadata": {
    "execution": {
     "iopub.execute_input": "2025-01-04T15:03:50.463000Z",
     "iopub.status.busy": "2025-01-04T15:03:50.463000Z",
     "iopub.status.idle": "2025-01-04T15:03:50.467000Z",
     "shell.execute_reply": "2025-01-04T15:03:50.466000Z"
    }
   },
   "outputs": [
    {
     "name": "stdout",
     "output_type": "stream",
     "text": [
      "(sign(x), exponent(x), significand(x)) = (1.0, -2, 1.57)\n"
     ]
    }
   ],
   "source": [
    "x = x / 8\n",
    "@show sign(x), exponent(x), significand(x);"
   ]
  },
  {
   "cell_type": "markdown",
   "id": "bf5def8e",
   "metadata": {},
   "source": [
    "The spacing between floating-point values in $[2^n,2^{n+1})$ is $2^n \\epsilon_\\text{mach}$, where $\\epsilon_\\text{mach}$ is machine epsilon. You can get its value from the `eps` function in Julia. By default, it returns the value for double precision.\n",
    "\n",
    "```{tip}\n",
    "To call a function, including `eps`, you must use parentheses notation, even when there are no input arguments.\n",
    "```"
   ]
  },
  {
   "cell_type": "code",
   "execution_count": 7,
   "id": "ab0067e8",
   "metadata": {
    "execution": {
     "iopub.execute_input": "2025-01-04T15:03:50.468000Z",
     "iopub.status.busy": "2025-01-04T15:03:50.468000Z",
     "iopub.status.idle": "2025-01-04T15:03:50.562000Z",
     "shell.execute_reply": "2025-01-04T15:03:50.562000Z"
    }
   },
   "outputs": [
    {
     "data": {
      "text/plain": [
       "2.220446049250313e-16"
      ]
     },
     "execution_count": 7,
     "metadata": {},
     "output_type": "execute_result"
    }
   ],
   "source": [
    "eps()"
   ]
  },
  {
   "cell_type": "markdown",
   "id": "85a3e6d6",
   "metadata": {},
   "source": [
    "Because double precision allocates 52 bits to the significand, the default value of machine epsilon is $2^{-52}$."
   ]
  },
  {
   "cell_type": "code",
   "execution_count": 8,
   "id": "efcd74c9",
   "metadata": {
    "execution": {
     "iopub.execute_input": "2025-01-04T15:03:50.564000Z",
     "iopub.status.busy": "2025-01-04T15:03:50.564000Z",
     "iopub.status.idle": "2025-01-04T15:03:50.564000Z",
     "shell.execute_reply": "2025-01-04T15:03:50.564000Z"
    }
   },
   "outputs": [
    {
     "data": {
      "text/plain": [
       "-52.0"
      ]
     },
     "execution_count": 8,
     "metadata": {},
     "output_type": "execute_result"
    }
   ],
   "source": [
    "log2(eps())"
   ]
  },
  {
   "cell_type": "markdown",
   "id": "23491f7e",
   "metadata": {},
   "source": [
    "The spacing between adjacent floating-point values is proportional to the magnitude of the value itself. This is how relative precision is kept roughly constant throughout the range of values. You can get the adjusted spacing by calling `eps` with a value."
   ]
  },
  {
   "cell_type": "code",
   "execution_count": 9,
   "id": "ec8a3570",
   "metadata": {
    "execution": {
     "iopub.execute_input": "2025-01-04T15:03:50.565000Z",
     "iopub.status.busy": "2025-01-04T15:03:50.565000Z",
     "iopub.status.idle": "2025-01-04T15:03:50.568000Z",
     "shell.execute_reply": "2025-01-04T15:03:50.568000Z"
    }
   },
   "outputs": [
    {
     "data": {
      "text/plain": [
       "2.220446049250313e-16"
      ]
     },
     "execution_count": 9,
     "metadata": {},
     "output_type": "execute_result"
    }
   ],
   "source": [
    "eps(1.618)"
   ]
  },
  {
   "cell_type": "code",
   "execution_count": 10,
   "id": "0e2aa532",
   "metadata": {
    "execution": {
     "iopub.execute_input": "2025-01-04T15:03:50.571000Z",
     "iopub.status.busy": "2025-01-04T15:03:50.571000Z",
     "iopub.status.idle": "2025-01-04T15:03:50.572000Z",
     "shell.execute_reply": "2025-01-04T15:03:50.571000Z"
    }
   },
   "outputs": [
    {
     "data": {
      "text/plain": [
       "2.842170943040401e-14"
      ]
     },
     "execution_count": 10,
     "metadata": {},
     "output_type": "execute_result"
    }
   ],
   "source": [
    "eps(161.8)"
   ]
  },
  {
   "cell_type": "code",
   "execution_count": 11,
   "id": "4495e54f",
   "metadata": {
    "execution": {
     "iopub.execute_input": "2025-01-04T15:03:50.573000Z",
     "iopub.status.busy": "2025-01-04T15:03:50.573000Z",
     "iopub.status.idle": "2025-01-04T15:03:50.573000Z",
     "shell.execute_reply": "2025-01-04T15:03:50.573000Z"
    }
   },
   "outputs": [
    {
     "data": {
      "text/plain": [
       "161.80000000000004"
      ]
     },
     "execution_count": 11,
     "metadata": {},
     "output_type": "execute_result"
    }
   ],
   "source": [
    "nextfloat(161.8)"
   ]
  },
  {
   "cell_type": "code",
   "execution_count": 12,
   "id": "62c759c3",
   "metadata": {
    "execution": {
     "iopub.execute_input": "2025-01-04T15:03:50.575000Z",
     "iopub.status.busy": "2025-01-04T15:03:50.575000Z",
     "iopub.status.idle": "2025-01-04T15:03:50.576000Z",
     "shell.execute_reply": "2025-01-04T15:03:50.575000Z"
    }
   },
   "outputs": [
    {
     "data": {
      "text/plain": [
       "2.842170943040401e-14"
      ]
     },
     "execution_count": 12,
     "metadata": {},
     "output_type": "execute_result"
    }
   ],
   "source": [
    "ans - 161.8"
   ]
  },
  {
   "cell_type": "markdown",
   "id": "41aaf966",
   "metadata": {},
   "source": [
    "A common mistake is to think that $\\epsilon_\\text{mach}$ is the smallest floating-point number. It's only the smallest *relative to 1*. The correct perspective is that the scaling of values is limited by the exponent, not the mantissa. The actual range of positive values in double precision is"
   ]
  },
  {
   "cell_type": "code",
   "execution_count": 13,
   "id": "1a35326d",
   "metadata": {
    "execution": {
     "iopub.execute_input": "2025-01-04T15:03:50.577000Z",
     "iopub.status.busy": "2025-01-04T15:03:50.577000Z",
     "iopub.status.idle": "2025-01-04T15:03:50.604000Z",
     "shell.execute_reply": "2025-01-04T15:03:50.604000Z"
    }
   },
   "outputs": [
    {
     "name": "stdout",
     "output_type": "stream",
     "text": [
      "(floatmin(), floatmax()) = (2.2250738585072014e-308, 1.7976931348623157e308)\n"
     ]
    }
   ],
   "source": [
    "@show floatmin(), floatmax();"
   ]
  },
  {
   "cell_type": "markdown",
   "id": "77dead54",
   "metadata": {},
   "source": [
    "For the most part you can mix integers and floating-point values and get what you expect."
   ]
  },
  {
   "cell_type": "code",
   "execution_count": 14,
   "id": "95bd48ae",
   "metadata": {
    "execution": {
     "iopub.execute_input": "2025-01-04T15:03:50.605000Z",
     "iopub.status.busy": "2025-01-04T15:03:50.605000Z",
     "iopub.status.idle": "2025-01-04T15:03:50.606000Z",
     "shell.execute_reply": "2025-01-04T15:03:50.606000Z"
    }
   },
   "outputs": [
    {
     "data": {
      "text/plain": [
       "0.14285714285714285"
      ]
     },
     "execution_count": 14,
     "metadata": {},
     "output_type": "execute_result"
    }
   ],
   "source": [
    "1/7"
   ]
  },
  {
   "cell_type": "code",
   "execution_count": 15,
   "id": "f3cb2b9e",
   "metadata": {
    "execution": {
     "iopub.execute_input": "2025-01-04T15:03:50.607000Z",
     "iopub.status.busy": "2025-01-04T15:03:50.607000Z",
     "iopub.status.idle": "2025-01-04T15:03:50.608000Z",
     "shell.execute_reply": "2025-01-04T15:03:50.607000Z"
    }
   },
   "outputs": [
    {
     "data": {
      "text/plain": [
       "38.3"
      ]
     },
     "execution_count": 15,
     "metadata": {},
     "output_type": "execute_result"
    }
   ],
   "source": [
    "37.3 + 1"
   ]
  },
  {
   "cell_type": "code",
   "execution_count": 16,
   "id": "0e4c1df7",
   "metadata": {
    "execution": {
     "iopub.execute_input": "2025-01-04T15:03:50.609000Z",
     "iopub.status.busy": "2025-01-04T15:03:50.609000Z",
     "iopub.status.idle": "2025-01-04T15:03:50.612000Z",
     "shell.execute_reply": "2025-01-04T15:03:50.612000Z"
    }
   },
   "outputs": [
    {
     "data": {
      "text/plain": [
       "0.0625"
      ]
     },
     "execution_count": 16,
     "metadata": {},
     "output_type": "execute_result"
    }
   ],
   "source": [
    "2^(-4)"
   ]
  },
  {
   "cell_type": "markdown",
   "id": "04ddb179",
   "metadata": {},
   "source": [
    "There are some exceptions. A floating-point value can't be used as an index into an array, for example, even if it is numerically equal to an integer. In such cases you use `Int` to convert it."
   ]
  },
  {
   "cell_type": "code",
   "execution_count": 17,
   "id": "fa28aab2",
   "metadata": {
    "execution": {
     "iopub.execute_input": "2025-01-04T15:03:50.613000Z",
     "iopub.status.busy": "2025-01-04T15:03:50.613000Z",
     "iopub.status.idle": "2025-01-04T15:03:50.645000Z",
     "shell.execute_reply": "2025-01-04T15:03:50.645000Z"
    }
   },
   "outputs": [
    {
     "name": "stdout",
     "output_type": "stream",
     "text": [
      "(5.0, Int(5.0)) = (5.0, 5)\n"
     ]
    }
   ],
   "source": [
    "@show 5.0, Int(5.0);"
   ]
  },
  {
   "cell_type": "markdown",
   "id": "be37da63",
   "metadata": {},
   "source": [
    "If you try to convert a noninteger floating-point value into an integer you get an `InexactValue` error. This occurs whenever you try to force a type conversion that doesn't make clear sense."
   ]
  }
 ],
 "metadata": {
  "kernelspec": {
   "display_name": "Julia 1",
   "language": "julia",
   "name": "julia-1.11"
  },
  "language_info": {
   "file_extension": ".jl",
   "mimetype": "application/julia",
   "name": "julia",
   "version": "1.11.2"
  },
  "numbering": {
   "headings": false
  }
 },
 "nbformat": 4,
 "nbformat_minor": 5
}
