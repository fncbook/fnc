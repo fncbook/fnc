{
 "cells": [
  {
   "cell_type": "code",
   "execution_count": 1,
   "id": "8ae00a42",
   "metadata": {
    "execution": {
     "iopub.execute_input": "2025-01-05T09:31:34.518000Z",
     "iopub.status.busy": "2025-01-05T09:31:34.233000Z",
     "iopub.status.idle": "2025-01-05T09:31:40.320000Z",
     "shell.execute_reply": "2025-01-05T09:31:40.275000Z"
    }
   },
   "outputs": [
    {
     "name": "stderr",
     "output_type": "stream",
     "text": [
      "\u001b[32m\u001b[1m  Activating\u001b[22m\u001b[39m "
     ]
    },
    {
     "name": "stderr",
     "output_type": "stream",
     "text": [
      "project at `~/Documents/GitHub/fnc`\n"
     ]
    }
   ],
   "source": [
    "include(\"../../../julia/FNC_init.jl\")"
   ]
  },
  {
   "cell_type": "markdown",
   "id": "a06e637e",
   "metadata": {},
   "source": [
    "[**Demo %s**](#demo-lu-derive)\n",
    "\n",
    "For illustration, we work on a $4 \\times 4$ matrix. We name it with a subscript in preparation for what comes."
   ]
  },
  {
   "cell_type": "code",
   "execution_count": 2,
   "id": "d4d559f5",
   "metadata": {
    "execution": {
     "iopub.execute_input": "2025-01-05T09:31:40.452000Z",
     "iopub.status.busy": "2025-01-05T09:31:40.322000Z",
     "iopub.status.idle": "2025-01-05T09:31:40.656000Z",
     "shell.execute_reply": "2025-01-05T09:31:40.655000Z"
    }
   },
   "outputs": [],
   "source": [
    "A₁ = [\n",
    "     2    0    4     3 \n",
    "    -4    5   -7   -10 \n",
    "     1   15    2   -4.5\n",
    "    -2    0    2   -13\n",
    "    ];\n",
    "L = diagm(ones(4))\n",
    "U = zeros(4, 4);"
   ]
  },
  {
   "cell_type": "markdown",
   "id": "b2ddd2a1",
   "metadata": {},
   "source": [
    "Now we appeal to {eq}`outer-row1`. Since $L_{11}=1$, we see that the first row of $\\mathbf{U}$ is just the first row of $\\mathbf{A}_1$."
   ]
  },
  {
   "cell_type": "code",
   "execution_count": 3,
   "id": "791eff31",
   "metadata": {
    "execution": {
     "iopub.execute_input": "2025-01-05T09:31:40.657000Z",
     "iopub.status.busy": "2025-01-05T09:31:40.657000Z",
     "iopub.status.idle": "2025-01-05T09:31:41.754000Z",
     "shell.execute_reply": "2025-01-05T09:31:41.754000Z"
    }
   },
   "outputs": [
    {
     "data": {
      "text/plain": [
       "4×4 Matrix{Float64}:\n",
       " 2.0  0.0  4.0  3.0\n",
       " 0.0  0.0  0.0  0.0\n",
       " 0.0  0.0  0.0  0.0\n",
       " 0.0  0.0  0.0  0.0"
      ]
     },
     "execution_count": 3,
     "metadata": {},
     "output_type": "execute_result"
    }
   ],
   "source": [
    "U[1, :] = A₁[1, :]\n",
    "U"
   ]
  },
  {
   "cell_type": "markdown",
   "id": "b3cd9231",
   "metadata": {},
   "source": [
    "From {eq}`outer-col1`, we see that we can find the first column of $\\mathbf{L}$ from the first column of $\\mathbf{A}_1$."
   ]
  },
  {
   "cell_type": "code",
   "execution_count": 4,
   "id": "c67cdbcd",
   "metadata": {
    "execution": {
     "iopub.execute_input": "2025-01-05T09:31:41.755000Z",
     "iopub.status.busy": "2025-01-05T09:31:41.755000Z",
     "iopub.status.idle": "2025-01-05T09:31:41.760000Z",
     "shell.execute_reply": "2025-01-05T09:31:41.760000Z"
    }
   },
   "outputs": [
    {
     "data": {
      "text/plain": [
       "4×4 Matrix{Float64}:\n",
       "  1.0  0.0  0.0  0.0\n",
       " -2.0  1.0  0.0  0.0\n",
       "  0.5  0.0  1.0  0.0\n",
       " -1.0  0.0  0.0  1.0"
      ]
     },
     "execution_count": 4,
     "metadata": {},
     "output_type": "execute_result"
    }
   ],
   "source": [
    "L[:, 1] = A₁[:, 1] / U[1, 1]\n",
    "L"
   ]
  },
  {
   "cell_type": "markdown",
   "id": "257856e6",
   "metadata": {},
   "source": [
    " We have obtained the first term in the sum {eq}`matrixouter` for $\\mathbf{L}\\mathbf{U}$, and we subtract it away from $\\mathbf{A}_1$."
   ]
  },
  {
   "cell_type": "code",
   "execution_count": 5,
   "id": "193b68d5",
   "metadata": {
    "execution": {
     "iopub.execute_input": "2025-01-05T09:31:41.761000Z",
     "iopub.status.busy": "2025-01-05T09:31:41.761000Z",
     "iopub.status.idle": "2025-01-05T09:31:41.766000Z",
     "shell.execute_reply": "2025-01-05T09:31:41.766000Z"
    }
   },
   "outputs": [
    {
     "data": {
      "text/plain": [
       "4×4 Matrix{Float64}:\n",
       " 0.0   0.0  0.0    0.0\n",
       " 0.0   5.0  1.0   -4.0\n",
       " 0.0  15.0  0.0   -6.0\n",
       " 0.0   0.0  6.0  -10.0"
      ]
     },
     "execution_count": 5,
     "metadata": {},
     "output_type": "execute_result"
    }
   ],
   "source": [
    "A₂ = A₁ - L[:, 1] * U[1, :]'"
   ]
  },
  {
   "cell_type": "markdown",
   "id": "ec73f2a8",
   "metadata": {},
   "source": [
    "Now $\\mathbf{A}_2 = \\boldsymbol{\\ell}_2\\mathbf{u}_2^T + \\boldsymbol{\\ell}_3\\mathbf{u}_3^T + \\boldsymbol{\\ell}_4\\mathbf{u}_4^T.$ If we ignore the first row and first column of the matrices in this equation, then in what remains we are in the same situation as at the start. Specifically, only $\\boldsymbol{\\ell}_2\\mathbf{u}_2^T$ has any effect on the second row and column, so we can deduce them now."
   ]
  },
  {
   "cell_type": "code",
   "execution_count": 6,
   "id": "2255ab73",
   "metadata": {
    "execution": {
     "iopub.execute_input": "2025-01-05T09:31:41.767000Z",
     "iopub.status.busy": "2025-01-05T09:31:41.767000Z",
     "iopub.status.idle": "2025-01-05T09:31:41.768000Z",
     "shell.execute_reply": "2025-01-05T09:31:41.768000Z"
    }
   },
   "outputs": [
    {
     "data": {
      "text/plain": [
       "4×4 Matrix{Float64}:\n",
       "  1.0  0.0  0.0  0.0\n",
       " -2.0  1.0  0.0  0.0\n",
       "  0.5  3.0  1.0  0.0\n",
       " -1.0  0.0  0.0  1.0"
      ]
     },
     "execution_count": 6,
     "metadata": {},
     "output_type": "execute_result"
    }
   ],
   "source": [
    "U[2, :] = A₂[2, :]\n",
    "L[:, 2] = A₂[:, 2] / U[2, 2]\n",
    "L"
   ]
  },
  {
   "cell_type": "markdown",
   "id": "21e2a281",
   "metadata": {},
   "source": [
    "If we subtract off the latest outer product, we have a matrix that is zero in the first *two* rows and columns."
   ]
  },
  {
   "cell_type": "code",
   "execution_count": 7,
   "id": "094a54b5",
   "metadata": {
    "execution": {
     "iopub.execute_input": "2025-01-05T09:31:41.769000Z",
     "iopub.status.busy": "2025-01-05T09:31:41.769000Z",
     "iopub.status.idle": "2025-01-05T09:31:41.770000Z",
     "shell.execute_reply": "2025-01-05T09:31:41.770000Z"
    }
   },
   "outputs": [
    {
     "data": {
      "text/plain": [
       "4×4 Matrix{Float64}:\n",
       " 0.0  0.0   0.0    0.0\n",
       " 0.0  0.0   0.0    0.0\n",
       " 0.0  0.0  -3.0    6.0\n",
       " 0.0  0.0   6.0  -10.0"
      ]
     },
     "execution_count": 7,
     "metadata": {},
     "output_type": "execute_result"
    }
   ],
   "source": [
    "A₃ = A₂ - L[:, 2] * U[2, :]'"
   ]
  },
  {
   "cell_type": "markdown",
   "id": "895d78de",
   "metadata": {},
   "source": [
    "Now we can deal with the lower right $2\\times 2$ submatrix of the remainder in a similar fashion."
   ]
  },
  {
   "cell_type": "code",
   "execution_count": 8,
   "id": "6034c39c",
   "metadata": {
    "execution": {
     "iopub.execute_input": "2025-01-05T09:31:41.771000Z",
     "iopub.status.busy": "2025-01-05T09:31:41.771000Z",
     "iopub.status.idle": "2025-01-05T09:31:41.772000Z",
     "shell.execute_reply": "2025-01-05T09:31:41.772000Z"
    }
   },
   "outputs": [
    {
     "data": {
      "text/plain": [
       "4×4 Matrix{Float64}:\n",
       " 0.0  0.0  0.0  0.0\n",
       " 0.0  0.0  0.0  0.0\n",
       " 0.0  0.0  0.0  0.0\n",
       " 0.0  0.0  0.0  2.0"
      ]
     },
     "execution_count": 8,
     "metadata": {},
     "output_type": "execute_result"
    }
   ],
   "source": [
    "U[3, :] = A₃[3, :]\n",
    "L[:, 3] = A₃[:, 3] / U[3, 3]\n",
    "A₄ = A₃ - L[:, 3] * U[3, :]'"
   ]
  },
  {
   "cell_type": "markdown",
   "id": "40e5b6a8",
   "metadata": {},
   "source": [
    "Finally, we pick up the last unknown in the factors."
   ]
  },
  {
   "cell_type": "code",
   "execution_count": 9,
   "id": "0fc30599",
   "metadata": {
    "execution": {
     "iopub.execute_input": "2025-01-05T09:31:41.773000Z",
     "iopub.status.busy": "2025-01-05T09:31:41.773000Z",
     "iopub.status.idle": "2025-01-05T09:31:41.776000Z",
     "shell.execute_reply": "2025-01-05T09:31:41.776000Z"
    }
   },
   "outputs": [],
   "source": [
    "U[4, 4] = A₄[4, 4];"
   ]
  },
  {
   "cell_type": "markdown",
   "id": "36a456d7",
   "metadata": {},
   "source": [
    "We now have all of $\\mathbf{L}$,"
   ]
  },
  {
   "cell_type": "code",
   "execution_count": 10,
   "id": "786a3d60",
   "metadata": {
    "execution": {
     "iopub.execute_input": "2025-01-05T09:31:41.777000Z",
     "iopub.status.busy": "2025-01-05T09:31:41.777000Z",
     "iopub.status.idle": "2025-01-05T09:31:41.778000Z",
     "shell.execute_reply": "2025-01-05T09:31:41.777000Z"
    }
   },
   "outputs": [
    {
     "data": {
      "text/plain": [
       "4×4 Matrix{Float64}:\n",
       "  1.0  0.0  -0.0  0.0\n",
       " -2.0  1.0  -0.0  0.0\n",
       "  0.5  3.0   1.0  0.0\n",
       " -1.0  0.0  -2.0  1.0"
      ]
     },
     "execution_count": 10,
     "metadata": {},
     "output_type": "execute_result"
    }
   ],
   "source": [
    "L"
   ]
  },
  {
   "cell_type": "markdown",
   "id": "1afbdebf",
   "metadata": {},
   "source": [
    "and all of $\\mathbf{U}$,"
   ]
  },
  {
   "cell_type": "code",
   "execution_count": 11,
   "id": "0623b297",
   "metadata": {
    "execution": {
     "iopub.execute_input": "2025-01-05T09:31:41.778000Z",
     "iopub.status.busy": "2025-01-05T09:31:41.778000Z",
     "iopub.status.idle": "2025-01-05T09:31:41.779000Z",
     "shell.execute_reply": "2025-01-05T09:31:41.779000Z"
    }
   },
   "outputs": [
    {
     "data": {
      "text/plain": [
       "4×4 Matrix{Float64}:\n",
       " 2.0  0.0   4.0   3.0\n",
       " 0.0  5.0   1.0  -4.0\n",
       " 0.0  0.0  -3.0   6.0\n",
       " 0.0  0.0   0.0   2.0"
      ]
     },
     "execution_count": 11,
     "metadata": {},
     "output_type": "execute_result"
    }
   ],
   "source": [
    "U"
   ]
  },
  {
   "cell_type": "markdown",
   "id": "023cfd5b",
   "metadata": {},
   "source": [
    "We can verify that we have a correct factorization of the original matrix by computing the backward error:"
   ]
  },
  {
   "cell_type": "code",
   "execution_count": 12,
   "id": "77b77900",
   "metadata": {
    "execution": {
     "iopub.execute_input": "2025-01-05T09:31:41.780000Z",
     "iopub.status.busy": "2025-01-05T09:31:41.780000Z",
     "iopub.status.idle": "2025-01-05T09:31:41.785000Z",
     "shell.execute_reply": "2025-01-05T09:31:41.785000Z"
    }
   },
   "outputs": [
    {
     "data": {
      "text/plain": [
       "4×4 Matrix{Float64}:\n",
       " 0.0  0.0  0.0  0.0\n",
       " 0.0  0.0  0.0  0.0\n",
       " 0.0  0.0  0.0  0.0\n",
       " 0.0  0.0  0.0  0.0"
      ]
     },
     "execution_count": 12,
     "metadata": {},
     "output_type": "execute_result"
    }
   ],
   "source": [
    "A₁ - L * U"
   ]
  },
  {
   "cell_type": "markdown",
   "id": "cb648de7",
   "metadata": {},
   "source": [
    "IIn floating point, we cannot expect the difference to be exactly zero as we found in this toy example. Instead, we would be satisfied to see that each element of the difference above is comparable in size to machine precision."
   ]
  }
 ],
 "metadata": {
  "kernelspec": {
   "display_name": "Julia 1",
   "language": "julia",
   "name": "julia-1.11"
  },
  "language_info": {
   "file_extension": ".jl",
   "mimetype": "application/julia",
   "name": "julia",
   "version": "1.11.2"
  },
  "numbering": {
   "headings": false
  }
 },
 "nbformat": 4,
 "nbformat_minor": 5
}
