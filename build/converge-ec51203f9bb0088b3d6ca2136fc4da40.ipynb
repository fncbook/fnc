{
 "cells": [
  {
   "cell_type": "code",
   "execution_count": 1,
   "id": "32d92c92",
   "metadata": {
    "execution": {
     "iopub.execute_input": "2025-01-11T17:18:44.194606Z",
     "iopub.status.busy": "2025-01-11T17:18:44.194451Z",
     "iopub.status.idle": "2025-01-11T17:18:44.512731Z",
     "shell.execute_reply": "2025-01-11T17:18:44.512324Z"
    },
    "tags": [
     "remove-cell"
    ]
   },
   "outputs": [],
   "source": [
    "exec(open(\"../../../python/FNC_init.py\").read())"
   ]
  },
  {
   "cell_type": "markdown",
   "id": "dad73a16",
   "metadata": {},
   "source": [
    "[**Demo %s**](#demo-newtonsys-converge)\n",
    "\n",
    "A system of nonlinear equations is defined by its residual and Jacobian."
   ]
  },
  {
   "cell_type": "code",
   "execution_count": 2,
   "id": "7378e7b0",
   "metadata": {
    "execution": {
     "iopub.execute_input": "2025-01-11T17:18:44.514356Z",
     "iopub.status.busy": "2025-01-11T17:18:44.514234Z",
     "iopub.status.idle": "2025-01-11T17:18:44.516428Z",
     "shell.execute_reply": "2025-01-11T17:18:44.516208Z"
    }
   },
   "outputs": [],
   "source": [
    "def func(x):\n",
    "    return array([\n",
    "        exp(x[1] - x[0]) - 2, \n",
    "        x[0] * x[1] + x[2], \n",
    "        x[1] * x[2] + x[0]**2 - x[1]\n",
    "    ])\n",
    "\n",
    "def jac(x):\n",
    "    return array([\n",
    "            [-exp(x[1] - x[0]), exp(x[1] - x[0]), 0],\n",
    "            [x[1], x[0], 1],\n",
    "            [2 * x[0], x[2] - 1, x[1]],\n",
    "    ])"
   ]
  },
  {
   "cell_type": "markdown",
   "id": "59ad7521",
   "metadata": {},
   "source": [
    "Our initial guess at a root is the origin."
   ]
  },
  {
   "cell_type": "code",
   "execution_count": 3,
   "id": "b5f647f2",
   "metadata": {
    "execution": {
     "iopub.execute_input": "2025-01-11T17:18:44.517629Z",
     "iopub.status.busy": "2025-01-11T17:18:44.517533Z",
     "iopub.status.idle": "2025-01-11T17:18:44.519728Z",
     "shell.execute_reply": "2025-01-11T17:18:44.519467Z"
    }
   },
   "outputs": [
    {
     "name": "stdout",
     "output_type": "stream",
     "text": [
      "[[ 0.00000000e+00  0.00000000e+00  0.00000000e+00]\n",
      " [-1.00000000e+00 -1.11022302e-16  0.00000000e+00]\n",
      " [-5.78586294e-01  1.57172588e-01  1.57172588e-01]\n",
      " [-4.63138615e-01  2.30903685e-01  1.15452497e-01]\n",
      " [-4.58026868e-01  2.35120714e-01  1.07713160e-01]\n",
      " [-4.58033281e-01  2.35113900e-01  1.07689991e-01]\n",
      " [-4.58033281e-01  2.35113900e-01  1.07689991e-01]]\n"
     ]
    }
   ],
   "source": [
    "x1 = zeros(3)\n",
    "x = FNC.newtonsys(func, jac, x1)\n",
    "print(x)"
   ]
  },
  {
   "cell_type": "markdown",
   "id": "1d4b1913",
   "metadata": {},
   "source": [
    "The output has one row per iteration, so the last row contains the final Newton estimate. Let's compute its residual."
   ]
  },
  {
   "cell_type": "code",
   "execution_count": 4,
   "id": "514b3795",
   "metadata": {
    "execution": {
     "iopub.execute_input": "2025-01-11T17:18:44.520939Z",
     "iopub.status.busy": "2025-01-11T17:18:44.520841Z",
     "iopub.status.idle": "2025-01-11T17:18:44.522535Z",
     "shell.execute_reply": "2025-01-11T17:18:44.522299Z"
    }
   },
   "outputs": [
    {
     "name": "stdout",
     "output_type": "stream",
     "text": [
      "final residual: [ 0.00000000e+00 -1.38777878e-17  0.00000000e+00]\n"
     ]
    }
   ],
   "source": [
    "r = x[-1]\n",
    "f = func(r)\n",
    "print(\"final residual:\", f)"
   ]
  },
  {
   "cell_type": "markdown",
   "id": "3c4fa3cf",
   "metadata": {},
   "source": [
    "Let's check the convergence rate:"
   ]
  },
  {
   "cell_type": "code",
   "execution_count": 5,
   "id": "8972a09f",
   "metadata": {
    "execution": {
     "iopub.execute_input": "2025-01-11T17:18:44.523655Z",
     "iopub.status.busy": "2025-01-11T17:18:44.523572Z",
     "iopub.status.idle": "2025-01-11T17:18:44.525668Z",
     "shell.execute_reply": "2025-01-11T17:18:44.525424Z"
    }
   },
   "outputs": [
    {
     "name": "stdout",
     "output_type": "stream",
     "text": [
      "0.7937993447128695\n",
      "3.6959808854483063\n",
      "2.432659788997719\n",
      "2.31109323743665\n",
      "2.132541136303707\n"
     ]
    }
   ],
   "source": [
    "logerr = [log(norm(x[k] - r)) for k in range(x.shape[0] - 1)]\n",
    "for k in range(len(logerr) - 1):\n",
    "    print(logerr[k+1] / logerr[k])"
   ]
  },
  {
   "cell_type": "markdown",
   "id": "29ee175e",
   "metadata": {},
   "source": [
    "The ratio is apparently converging toward 2, as expected for quadratic convergence."
   ]
  }
 ],
 "metadata": {
  "kernelspec": {
   "display_name": "Python 3",
   "language": "python",
   "name": "python3"
  },
  "language_info": {
   "codemirror_mode": {
    "name": "ipython",
    "version": 3
   },
   "file_extension": ".py",
   "mimetype": "text/x-python",
   "name": "python",
   "nbconvert_exporter": "python",
   "pygments_lexer": "ipython3",
   "version": "3.13.0"
  },
  "numbering": {
   "headings": false
  }
 },
 "nbformat": 4,
 "nbformat_minor": 5
}
