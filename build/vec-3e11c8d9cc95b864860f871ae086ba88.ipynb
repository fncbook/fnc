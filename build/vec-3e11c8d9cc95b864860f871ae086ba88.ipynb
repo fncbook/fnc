{
 "cells": [
  {
   "cell_type": "code",
   "execution_count": 1,
   "id": "3332468c",
   "metadata": {
    "execution": {
     "iopub.execute_input": "2025-01-05T18:42:35.587000Z",
     "iopub.status.busy": "2025-01-05T18:42:35.224000Z",
     "iopub.status.idle": "2025-01-05T18:42:41.653000Z",
     "shell.execute_reply": "2025-01-05T18:42:41.604000Z"
    },
    "tags": [
     "remove-cell"
    ]
   },
   "outputs": [
    {
     "name": "stderr",
     "output_type": "stream",
     "text": [
      "\u001b[32m\u001b[1m  Activating\u001b[22m\u001b[39m "
     ]
    },
    {
     "name": "stderr",
     "output_type": "stream",
     "text": [
      "project at `~/Documents/GitHub/fnc`\n"
     ]
    }
   ],
   "source": [
    "include(\"../../../julia/FNC_init.jl\")"
   ]
  },
  {
   "cell_type": "markdown",
   "id": "b80eae8a",
   "metadata": {},
   "source": [
    "[**Demo %s**](#demo-diffadv-vec)"
   ]
  },
  {
   "cell_type": "code",
   "execution_count": 2,
   "id": "97d84cd7",
   "metadata": {
    "execution": {
     "iopub.execute_input": "2025-01-05T18:42:41.883000Z",
     "iopub.status.busy": "2025-01-05T18:42:41.654000Z",
     "iopub.status.idle": "2025-01-05T18:42:43.044000Z",
     "shell.execute_reply": "2025-01-05T18:42:43.044000Z"
    }
   },
   "outputs": [
    {
     "data": {
      "text/plain": [
       "6-element Vector{Int64}:\n",
       " 6\n",
       " 6\n",
       " 7\n",
       " 1\n",
       " 5\n",
       " 7"
      ]
     },
     "execution_count": 2,
     "metadata": {},
     "output_type": "execute_result"
    }
   ],
   "source": [
    "m = 2;\n",
    "n = 3;\n",
    "V = rand(1:9, m, n);\n",
    "v = vec(V)"
   ]
  },
  {
   "cell_type": "markdown",
   "id": "3ef54ec8",
   "metadata": {},
   "source": [
    "The `unvec` operation is the inverse of vec."
   ]
  },
  {
   "cell_type": "code",
   "execution_count": 3,
   "id": "91102671",
   "metadata": {
    "execution": {
     "iopub.execute_input": "2025-01-05T18:42:43.045000Z",
     "iopub.status.busy": "2025-01-05T18:42:43.045000Z",
     "iopub.status.idle": "2025-01-05T18:42:43.195000Z",
     "shell.execute_reply": "2025-01-05T18:42:43.195000Z"
    }
   },
   "outputs": [
    {
     "data": {
      "text/plain": [
       "2×3 Matrix{Int64}:\n",
       " 6  7  5\n",
       " 6  1  7"
      ]
     },
     "execution_count": 3,
     "metadata": {},
     "output_type": "execute_result"
    }
   ],
   "source": [
    "unvec = z -> reshape(z, m, n)\n",
    "unvec(v)"
   ]
  }
 ],
 "metadata": {
  "kernelspec": {
   "display_name": "Julia 1",
   "language": "julia",
   "name": "julia-1.11"
  },
  "language_info": {
   "file_extension": ".jl",
   "mimetype": "application/julia",
   "name": "julia",
   "version": "1.11.2"
  },
  "numbering": {
   "headings": false
  }
 },
 "nbformat": 4,
 "nbformat_minor": 5
}
