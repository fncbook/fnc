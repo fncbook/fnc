{
 "cells": [
  {
   "cell_type": "code",
   "execution_count": 1,
   "id": "c08387db",
   "metadata": {
    "execution": {
     "iopub.execute_input": "2025-01-11T17:43:42.616599Z",
     "iopub.status.busy": "2025-01-11T17:43:42.616135Z",
     "iopub.status.idle": "2025-01-11T17:43:42.934508Z",
     "shell.execute_reply": "2025-01-11T17:43:42.934144Z"
    },
    "tags": [
     "remove-cell"
    ]
   },
   "outputs": [],
   "source": [
    "exec(open(\"../../../python/FNC_init.py\").read())"
   ]
  },
  {
   "cell_type": "markdown",
   "id": "be008a51",
   "metadata": {},
   "source": [
    "[**Demo %s**](#demo-pivoting-permute)\n",
    "\n",
    "Here again is the matrix from {numref}`Demo {number} <demo-pivoting-fix>`."
   ]
  },
  {
   "cell_type": "code",
   "execution_count": 2,
   "id": "06eb943f",
   "metadata": {
    "execution": {
     "iopub.execute_input": "2025-01-11T17:43:42.936157Z",
     "iopub.status.busy": "2025-01-11T17:43:42.936030Z",
     "iopub.status.idle": "2025-01-11T17:43:42.937878Z",
     "shell.execute_reply": "2025-01-11T17:43:42.937636Z"
    }
   },
   "outputs": [],
   "source": [
    "A = array([\n",
    "    [2, 0, 4, 3],\n",
    "    [-2, 0, 2, -13],\n",
    "    [1, 15, 2, -4.5],\n",
    "    [-4, 5, -7, -10]\n",
    "    ])"
   ]
  },
  {
   "cell_type": "markdown",
   "id": "eda9bed6",
   "metadata": {},
   "source": [
    "As the factorization proceeded, the pivots were selected from rows 4, 3, 2, and finally 1 (with NumPy indices being one less). If we were to put the rows of $\\mathbf{A}$ into that order, then the algorithm would run exactly like the plain LU factorization from {numref}`section-linsys-lu`."
   ]
  },
  {
   "cell_type": "code",
   "execution_count": 3,
   "id": "63d8da90",
   "metadata": {
    "execution": {
     "iopub.execute_input": "2025-01-11T17:43:42.939204Z",
     "iopub.status.busy": "2025-01-11T17:43:42.939105Z",
     "iopub.status.idle": "2025-01-11T17:43:42.940952Z",
     "shell.execute_reply": "2025-01-11T17:43:42.940698Z"
    }
   },
   "outputs": [],
   "source": [
    "B = A[[3, 2, 1, 0], :]\n",
    "L, U = FNC.lufact(B);"
   ]
  },
  {
   "cell_type": "markdown",
   "id": "ba53264f",
   "metadata": {},
   "source": [
    "We obtain the same $\\mathbf{U}$ as before:"
   ]
  },
  {
   "cell_type": "code",
   "execution_count": 4,
   "id": "7f018821",
   "metadata": {
    "execution": {
     "iopub.execute_input": "2025-01-11T17:43:42.942107Z",
     "iopub.status.busy": "2025-01-11T17:43:42.941991Z",
     "iopub.status.idle": "2025-01-11T17:43:42.943731Z",
     "shell.execute_reply": "2025-01-11T17:43:42.943513Z"
    }
   },
   "outputs": [
    {
     "name": "stdout",
     "output_type": "stream",
     "text": [
      "[[ -4.           5.          -7.         -10.        ]\n",
      " [  0.          16.25         0.25        -7.        ]\n",
      " [  0.           0.           5.53846154  -9.07692308]\n",
      " [  0.           0.           0.          -0.16666667]]\n"
     ]
    }
   ],
   "source": [
    "print(U)"
   ]
  },
  {
   "cell_type": "markdown",
   "id": "68961f21",
   "metadata": {},
   "source": [
    "And $\\mathbf{L}$ has the same rows as before, but arranged into triangular order:"
   ]
  },
  {
   "cell_type": "code",
   "execution_count": 5,
   "id": "e468e960",
   "metadata": {
    "execution": {
     "iopub.execute_input": "2025-01-11T17:43:42.945206Z",
     "iopub.status.busy": "2025-01-11T17:43:42.945118Z",
     "iopub.status.idle": "2025-01-11T17:43:42.947009Z",
     "shell.execute_reply": "2025-01-11T17:43:42.946769Z"
    }
   },
   "outputs": [
    {
     "name": "stdout",
     "output_type": "stream",
     "text": [
      "[[ 1.          0.          0.          0.        ]\n",
      " [-0.25        1.          0.          0.        ]\n",
      " [ 0.5        -0.15384615  1.          0.        ]\n",
      " [-0.5         0.15384615  0.08333333  1.        ]]\n"
     ]
    }
   ],
   "source": [
    "print(L)"
   ]
  }
 ],
 "metadata": {
  "kernelspec": {
   "display_name": "Python 3",
   "language": "python",
   "name": "python3"
  },
  "language_info": {
   "codemirror_mode": {
    "name": "ipython",
    "version": 3
   },
   "file_extension": ".py",
   "mimetype": "text/x-python",
   "name": "python",
   "nbconvert_exporter": "python",
   "pygments_lexer": "ipython3",
   "version": "3.13.0"
  },
  "numbering": {
   "headings": false
  }
 },
 "nbformat": 4,
 "nbformat_minor": 5
}
