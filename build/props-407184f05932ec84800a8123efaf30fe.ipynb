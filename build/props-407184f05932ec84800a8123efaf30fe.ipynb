{
 "cells": [
  {
   "cell_type": "code",
   "execution_count": 1,
   "id": "207d3df4",
   "metadata": {
    "execution": {
     "iopub.execute_input": "2025-01-05T13:30:39.603000Z",
     "iopub.status.busy": "2025-01-05T13:30:39.312000Z",
     "iopub.status.idle": "2025-01-05T13:30:45.388000Z",
     "shell.execute_reply": "2025-01-05T13:30:45.344000Z"
    }
   },
   "outputs": [
    {
     "name": "stderr",
     "output_type": "stream",
     "text": [
      "\u001b[32m\u001b[1m  Activating\u001b[22m\u001b[39m "
     ]
    },
    {
     "name": "stderr",
     "output_type": "stream",
     "text": [
      "project at `~/Documents/GitHub/fnc`\n"
     ]
    }
   ],
   "source": [
    "include(\"../../../julia/FNC_init.jl\")"
   ]
  },
  {
   "cell_type": "markdown",
   "id": "663cb055",
   "metadata": {},
   "source": [
    "[**Demo %s**](#demo-svd-props)\n",
    "\n",
    "We verify some of the fundamental SVD properties using standard Julia functions from `LinearAlgebra`."
   ]
  },
  {
   "cell_type": "code",
   "execution_count": 2,
   "id": "ae983c92",
   "metadata": {
    "execution": {
     "iopub.execute_input": "2025-01-05T13:30:45.517000Z",
     "iopub.status.busy": "2025-01-05T13:30:45.389000Z",
     "iopub.status.idle": "2025-01-05T13:30:46.592000Z",
     "shell.execute_reply": "2025-01-05T13:30:46.591000Z"
    }
   },
   "outputs": [
    {
     "data": {
      "text/plain": [
       "5×4 Matrix{Int64}:\n",
       " 1  1   1    1\n",
       " 1  2   4    8\n",
       " 1  3   9   27\n",
       " 1  4  16   64\n",
       " 1  5  25  125"
      ]
     },
     "execution_count": 2,
     "metadata": {},
     "output_type": "execute_result"
    }
   ],
   "source": [
    "A = [i^j for i in 1:5, j in 0:3]"
   ]
  },
  {
   "cell_type": "markdown",
   "id": "17441af4",
   "metadata": {},
   "source": [
    "```{index} ! Julia; svdvals\n",
    "```\n",
    "\n",
    "\n",
    "To get only the singular values, use `svdvals`."
   ]
  },
  {
   "cell_type": "code",
   "execution_count": 3,
   "id": "2ba27fba",
   "metadata": {
    "execution": {
     "iopub.execute_input": "2025-01-05T13:30:46.593000Z",
     "iopub.status.busy": "2025-01-05T13:30:46.593000Z",
     "iopub.status.idle": "2025-01-05T13:30:46.810000Z",
     "shell.execute_reply": "2025-01-05T13:30:46.810000Z"
    }
   },
   "outputs": [
    {
     "data": {
      "text/plain": [
       "4-element Vector{Float64}:\n",
       " 146.69715365883005\n",
       "   5.738569780953702\n",
       "   0.9998486640841027\n",
       "   0.11928082685241923"
      ]
     },
     "execution_count": 3,
     "metadata": {},
     "output_type": "execute_result"
    }
   ],
   "source": [
    "σ = svdvals(A)"
   ]
  },
  {
   "cell_type": "markdown",
   "id": "ac5e32ef",
   "metadata": {},
   "source": [
    "Here is verification of the connections between the singular values, norm, and condition number."
   ]
  },
  {
   "cell_type": "code",
   "execution_count": 4,
   "id": "d7cdc44b",
   "metadata": {
    "execution": {
     "iopub.execute_input": "2025-01-05T13:30:46.811000Z",
     "iopub.status.busy": "2025-01-05T13:30:46.811000Z",
     "iopub.status.idle": "2025-01-05T13:30:47.327000Z",
     "shell.execute_reply": "2025-01-05T13:30:47.327000Z"
    }
   },
   "outputs": [
    {
     "name": "stdout",
     "output_type": "stream",
     "text": [
      "opnorm(A, 2) = 146.69715365883005"
     ]
    },
    {
     "name": "stdout",
     "output_type": "stream",
     "text": [
      "\n",
      "σ[1] = 146.69715365883005\n"
     ]
    }
   ],
   "source": [
    "@show opnorm(A, 2);\n",
    "@show σ[1];"
   ]
  },
  {
   "cell_type": "code",
   "execution_count": 5,
   "id": "a823e04e",
   "metadata": {
    "execution": {
     "iopub.execute_input": "2025-01-05T13:30:47.328000Z",
     "iopub.status.busy": "2025-01-05T13:30:47.328000Z",
     "iopub.status.idle": "2025-01-05T13:30:47.393000Z",
     "shell.execute_reply": "2025-01-05T13:30:47.393000Z"
    }
   },
   "outputs": [
    {
     "name": "stdout",
     "output_type": "stream",
     "text": [
      "cond(A, 2) = 1229.846887633767\n",
      "σ[1] / σ[end] = 1229.846887633767\n"
     ]
    }
   ],
   "source": [
    "@show cond(A, 2);\n",
    "@show σ[1] / σ[end];"
   ]
  },
  {
   "cell_type": "markdown",
   "id": "6d405659",
   "metadata": {},
   "source": [
    "```{index} ! Julia; svd\n",
    "```\n",
    "\n",
    "To get singular vectors as well, use `svd`. The thin form of the factorization is the default."
   ]
  },
  {
   "cell_type": "code",
   "execution_count": 6,
   "id": "b855edfa",
   "metadata": {
    "execution": {
     "iopub.execute_input": "2025-01-05T13:30:47.394000Z",
     "iopub.status.busy": "2025-01-05T13:30:47.394000Z",
     "iopub.status.idle": "2025-01-05T13:30:47.423000Z",
     "shell.execute_reply": "2025-01-05T13:30:47.423000Z"
    }
   },
   "outputs": [
    {
     "name": "stdout",
     "output_type": "stream",
     "text": [
      "size(U) = (5, 4)"
     ]
    },
    {
     "name": "stdout",
     "output_type": "stream",
     "text": [
      "\n",
      "size(V) = (4, 4)\n"
     ]
    }
   ],
   "source": [
    "U, σ, V = svd(A);\n",
    "@show size(U);\n",
    "@show size(V);"
   ]
  },
  {
   "cell_type": "markdown",
   "id": "017868fb",
   "metadata": {},
   "source": [
    "We verify the orthogonality of the singular vectors as follows:"
   ]
  },
  {
   "cell_type": "code",
   "execution_count": 7,
   "id": "b5d244c9",
   "metadata": {
    "execution": {
     "iopub.execute_input": "2025-01-05T13:30:47.424000Z",
     "iopub.status.busy": "2025-01-05T13:30:47.424000Z",
     "iopub.status.idle": "2025-01-05T13:30:47.460000Z",
     "shell.execute_reply": "2025-01-05T13:30:47.459000Z"
    }
   },
   "outputs": [
    {
     "name": "stdout",
     "output_type": "stream",
     "text": [
      "opnorm(U' * U - I) = 4.947764483928556e-16\n",
      "opnorm(V' * V - I) = 7.570241024277813e-16\n"
     ]
    }
   ],
   "source": [
    "@show opnorm(U' * U - I);\n",
    "@show opnorm(V' * V - I);"
   ]
  }
 ],
 "metadata": {
  "kernelspec": {
   "display_name": "Julia 1",
   "language": "julia",
   "name": "julia-1.11"
  },
  "language_info": {
   "file_extension": ".jl",
   "mimetype": "application/julia",
   "name": "julia",
   "version": "1.11.2"
  },
  "numbering": {
   "headings": false
  }
 },
 "nbformat": 4,
 "nbformat_minor": 5
}
