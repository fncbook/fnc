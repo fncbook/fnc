{
    "cells": [
        {
            "cell_type": "markdown",
            "source": [
                "[**Demo %s**](#demo-finitediffs-fd2)\n",
                "\n",
                "If $f(x)=e^{\\,\\sin(x)}$, then $f''(0)=1$."
            ],
            "id": "058fbda9",
            "metadata": {}
        },
        {
            "outputs": [],
            "cell_type": "code",
            "source": [
                "f = @(x) exp(sin(x));"
            ],
            "id": "cc70e92f",
            "metadata": {},
            "execution_count": 2
        },
        {
            "cell_type": "markdown",
            "source": [
                "Here is a centered estimate given by {eq}`centerFD22`."
            ],
            "id": "cf68b9e7",
            "metadata": {}
        },
        {
            "outputs": [
                {
                    "output_type": "execute_result",
                    "data": {
                        "text/plain": [
                            "CD2 = \n",
                            "   0.999374948084774\n"
                        ],
                        "text/html": [
                            "<html><body><pre>CD2 = \n",
                            "   0.999374948084774\n",
                            "</pre></body></html>"
                        ]
                    },
                    "metadata": {},
                    "execution_count": 3
                }
            ],
            "cell_type": "code",
            "source": [
                "h = 0.05;\n",
                "format long\n",
                "CD2 = (f(-h) - 2*f(0) + f(h)) / h^2"
            ],
            "id": "8bcc6468",
            "metadata": {},
            "execution_count": 3
        },
        {
            "cell_type": "markdown",
            "source": [
                "For the same $h$, here are forward estimates given by {eq}`forwardFD21` and {eq}`forwardFD22`."
            ],
            "id": "f40df179",
            "metadata": {}
        },
        {
            "outputs": [
                {
                    "output_type": "execute_result",
                    "data": {
                        "text/plain": [
                            "FD1 = \n",
                            "   0.995373844312919\n"
                        ],
                        "text/html": [
                            "<html><body><pre>FD1 = \n",
                            "   0.995373844312919\n",
                            "</pre></body></html>"
                        ]
                    },
                    "metadata": {},
                    "execution_count": 4
                },
                {
                    "output_type": "execute_result",
                    "data": {
                        "text/plain": [
                            "FD2 = \n",
                            "   1.007881147959821\n"
                        ],
                        "text/html": [
                            "<html><body><pre>FD2 = \n",
                            "   1.007881147959821\n",
                            "</pre></body></html>"
                        ]
                    },
                    "metadata": {},
                    "execution_count": 4
                }
            ],
            "cell_type": "code",
            "source": [
                "FD1 = (f(0) - 2*f(h) + f(2*h)) / h^2\n",
                "FD2 = (2*f(0) - 5*f(h) + 4*f(2*h) - f(3*h)) / h^2"
            ],
            "id": "8bc3a1d0",
            "metadata": {},
            "execution_count": 4
        },
        {
            "cell_type": "markdown",
            "source": [
                "Finally, here are the backward estimates that come from reversing {eq}`forwardFD21` and {eq}`forwardFD22`."
            ],
            "id": "123540c7",
            "metadata": {}
        },
        {
            "outputs": [
                {
                    "output_type": "execute_result",
                    "data": {
                        "text/plain": [
                            "BD1 = \n",
                            "   0.995872969174849\n"
                        ],
                        "text/html": [
                            "<html><body><pre>BD1 = \n",
                            "   0.995872969174849\n",
                            "</pre></body></html>"
                        ]
                    },
                    "metadata": {},
                    "execution_count": 5
                },
                {
                    "output_type": "execute_result",
                    "data": {
                        "text/plain": [
                            "BD2 = \n",
                            "   1.005892819278919\n"
                        ],
                        "text/html": [
                            "<html><body><pre>BD2 = \n",
                            "   1.005892819278919\n",
                            "</pre></body></html>"
                        ]
                    },
                    "metadata": {},
                    "execution_count": 5
                }
            ],
            "cell_type": "code",
            "source": [
                "BD1 = (f(-2*h) - 2*f(-h) + f(0)) / h^2\n",
                "BD2 = (-f(-3*h) + 4*f(-2*h) - 5*f(-h) + 2*f(0)) / h^2"
            ],
            "id": "b4573429",
            "metadata": {},
            "execution_count": 5
        }
    ],
    "nbformat_minor": 5,
    "metadata": {
        "language_info": {
            "file_extension": ".m",
            "mimetype": "text/x-matlab",
            "name": "matlab"
        },
        "kernelspec": {
            "name": "jupyter_matlab_kernel",
            "display_name": "MATLAB Kernel",
            "language": "matlab"
        },
        "numbering": {
            "headings": false
        }
    },
    "nbformat": 4
}
