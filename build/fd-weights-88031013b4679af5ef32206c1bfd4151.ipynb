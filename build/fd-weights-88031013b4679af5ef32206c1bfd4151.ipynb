{
 "cells": [
  {
   "cell_type": "code",
   "execution_count": 1,
   "id": "bc1ddc01",
   "metadata": {
    "tags": [
     "remove-cell"
    ]
   },
   "outputs": [],
   "source": [
    "cd  /Users/driscoll/Documents/GitHub/fnc/matlab\n",
    "FNC_init"
   ]
  },
  {
   "cell_type": "markdown",
   "id": "c06e05b3",
   "metadata": {},
   "source": [
    "[**Demo %s**](#demo-finitediffs-fd-weights)\n",
    "\n",
    "We will estimate the derivative of $\\cos(x^2)$ at $x=0.5$ using five nodes."
   ]
  },
  {
   "cell_type": "code",
   "execution_count": 2,
   "id": "be199ba9",
   "metadata": {},
   "outputs": [
    {
     "data": {
      "text/html": [
       "<html><body><pre>exact_value = -0.2474</pre></body></html>"
      ],
      "text/plain": [
       "exact_value = -0.2474"
      ]
     },
     "execution_count": 2,
     "metadata": {},
     "output_type": "execute_result"
    }
   ],
   "source": [
    "t = [0.35, 0.5, 0.57, 0.6, 0.75];    % nodes\n",
    "f = @(x) cos(x.^2);\n",
    "dfdx = @(x) -2 * x * sin(x^2);\n",
    "exact_value = dfdx(0.5)"
   ]
  },
  {
   "cell_type": "markdown",
   "id": "461d0605",
   "metadata": {},
   "source": [
    "We have to shift the nodes so that the point of estimation for the derivative is at $x=0$. (To subtract a scalar from a vector, we must use the `.-` operator.)"
   ]
  },
  {
   "cell_type": "code",
   "execution_count": 3,
   "id": "71834285",
   "metadata": {},
   "outputs": [
    {
     "data": {
      "text/html": [
       "<html><body><pre>w = 1×5 double\n",
       "   -0.5303  -21.6190   45.0938  -23.3333    0.3889\n",
       "</pre></body></html>"
      ],
      "text/plain": [
       "w = 1×5 double\n",
       "   -0.5303  -21.6190   45.0938  -23.3333    0.3889\n"
      ]
     },
     "execution_count": 3,
     "metadata": {},
     "output_type": "execute_result"
    }
   ],
   "source": [
    "format short\n",
    "w = fdweights(t - 0.5, 1)"
   ]
  },
  {
   "cell_type": "markdown",
   "id": "070bc596",
   "metadata": {},
   "source": [
    "The finite-difference formula is a dot product (i.e., inner product) between the vector of weights and the vector of function values at the nodes."
   ]
  },
  {
   "cell_type": "code",
   "execution_count": 4,
   "id": "6185b3a0",
   "metadata": {},
   "outputs": [
    {
     "data": {
      "text/html": [
       "<html><body><pre>fd_value = -0.2473</pre></body></html>"
      ],
      "text/plain": [
       "fd_value = -0.2473"
      ]
     },
     "execution_count": 4,
     "metadata": {},
     "output_type": "execute_result"
    }
   ],
   "source": [
    "fd_value = w * f(t)'"
   ]
  },
  {
   "cell_type": "markdown",
   "id": "a712ae2a",
   "metadata": {},
   "source": [
    "We can reproduce the weights in the finite-difference tables by using equally spaced nodes with $h=1$. For example, here is a one-sided formula at four nodes."
   ]
  },
  {
   "cell_type": "code",
   "execution_count": 5,
   "id": "cfccfbec",
   "metadata": {},
   "outputs": [
    {
     "data": {
      "text/html": [
       "<html><body><pre>ans = 1×4 double\n",
       "   -1.8333    3.0000   -1.5000    0.3333\n",
       "</pre></body></html>"
      ],
      "text/plain": [
       "ans = 1×4 double\n",
       "   -1.8333    3.0000   -1.5000    0.3333\n"
      ]
     },
     "execution_count": 5,
     "metadata": {},
     "output_type": "execute_result"
    }
   ],
   "source": [
    "fdweights(0:3, 1)"
   ]
  }
 ],
 "metadata": {
  "kernelspec": {
   "display_name": "MATLAB Kernel",
   "language": "matlab",
   "name": "jupyter_matlab_kernel"
  },
  "language_info": {
   "file_extension": ".m",
   "mimetype": "text/x-matlab",
   "name": "matlab"
  },
  "numbering": {
   "headings": false
  }
 },
 "nbformat": 4,
 "nbformat_minor": 5
}
