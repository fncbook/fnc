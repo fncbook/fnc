{
 "cells": [
  {
   "cell_type": "markdown",
   "id": "ab00c049",
   "metadata": {},
   "source": [
    "We repeat the rootfinding experiment of {numref}`Demo %s <demo-stability-quadbad>` with an alternative algorithm."
   ]
  },
  {
   "cell_type": "code",
   "execution_count": 1,
   "id": "0919086a",
   "metadata": {
    "execution": {
     "iopub.execute_input": "2025-01-04T15:19:11.191000Z",
     "iopub.status.busy": "2025-01-04T15:19:10.911000Z",
     "iopub.status.idle": "2025-01-04T15:19:11.387000Z",
     "shell.execute_reply": "2025-01-04T15:19:11.342000Z"
    }
   },
   "outputs": [],
   "source": [
    "a = 1;  b = -(1e6 + 1e-6);  c = 1;"
   ]
  },
  {
   "cell_type": "markdown",
   "id": "f3ae25f5",
   "metadata": {},
   "source": [
    "First, we find the \"good\" root using the quadratic formula."
   ]
  },
  {
   "cell_type": "code",
   "execution_count": 2,
   "id": "4e07f7d1",
   "metadata": {
    "execution": {
     "iopub.execute_input": "2025-01-04T15:19:11.388000Z",
     "iopub.status.busy": "2025-01-04T15:19:11.388000Z",
     "iopub.status.idle": "2025-01-04T15:19:11.428000Z",
     "shell.execute_reply": "2025-01-04T15:19:11.427000Z"
    }
   },
   "outputs": [
    {
     "name": "stdout",
     "output_type": "stream",
     "text": [
      "x₁ = (-b + sqrt(b ^ 2 - (4a) * c)) / (2a) = 1.0e6\n"
     ]
    }
   ],
   "source": [
    "@show x₁ = (-b + sqrt(b^2 - 4a*c)) / 2a;"
   ]
  },
  {
   "cell_type": "markdown",
   "id": "c478470d",
   "metadata": {},
   "source": [
    "Then we use the identity $x_1x_2=\\frac{c}{a}$ to compute the smaller root:"
   ]
  },
  {
   "cell_type": "code",
   "execution_count": 3,
   "id": "b7376c63",
   "metadata": {
    "execution": {
     "iopub.execute_input": "2025-01-04T15:19:11.430000Z",
     "iopub.status.busy": "2025-01-04T15:19:11.430000Z",
     "iopub.status.idle": "2025-01-04T15:19:11.432000Z",
     "shell.execute_reply": "2025-01-04T15:19:11.432000Z"
    }
   },
   "outputs": [
    {
     "name": "stdout",
     "output_type": "stream",
     "text": [
      "x₂ = c / (a * x₁) = 1.0e-6\n"
     ]
    }
   ],
   "source": [
    "@show x₂ = c / (a * x₁);"
   ]
  },
  {
   "cell_type": "markdown",
   "id": "30bd6c38",
   "metadata": {},
   "source": [
    "As you see in this output, Julia often suppresses trailing zeros in a decimal expansion. To be sure we have an accurate result, we compute its relative error."
   ]
  },
  {
   "cell_type": "code",
   "execution_count": 4,
   "id": "bed52c37",
   "metadata": {
    "execution": {
     "iopub.execute_input": "2025-01-04T15:19:11.434000Z",
     "iopub.status.busy": "2025-01-04T15:19:11.433000Z",
     "iopub.status.idle": "2025-01-04T15:19:11.800000Z",
     "shell.execute_reply": "2025-01-04T15:19:11.800000Z"
    }
   },
   "outputs": [
    {
     "data": {
      "text/plain": [
       "0.0"
      ]
     },
     "execution_count": 4,
     "metadata": {},
     "output_type": "execute_result"
    }
   ],
   "source": [
    "abs(x₂ - 1e-6) / 1e-6"
   ]
  }
 ],
 "metadata": {
  "kernelspec": {
   "display_name": "Julia 1",
   "language": "julia",
   "name": "julia-1.11"
  },
  "language_info": {
   "file_extension": ".jl",
   "mimetype": "application/julia",
   "name": "julia",
   "version": "1.11.2"
  },
  "numbering": {
   "headings": false
  }
 },
 "nbformat": 4,
 "nbformat_minor": 5
}
