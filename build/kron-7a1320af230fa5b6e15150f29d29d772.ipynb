{
 "cells": [
  {
   "cell_type": "code",
   "execution_count": 1,
   "id": "654e6742",
   "metadata": {
    "tags": [
     "remove-cell"
    ]
   },
   "outputs": [],
   "source": [
    "cd  /Users/driscoll/Documents/GitHub/fnc/matlab\n",
    "FNC_init"
   ]
  },
  {
   "cell_type": "markdown",
   "id": "dc6a5b08",
   "metadata": {},
   "source": [
    "[**Demo %s**](#demo-laplace-kron)"
   ]
  },
  {
   "cell_type": "code",
   "execution_count": 2,
   "id": "2d2c8516",
   "metadata": {},
   "outputs": [
    {
     "name": "stdout",
     "output_type": "stream",
     "text": [
      "A:\n",
      "     1     2\n",
      "    -2     0\n",
      "\n",
      "B:\n",
      "     1    10   100\n",
      "    -5     5     3\n",
      "\n"
     ]
    }
   ],
   "source": [
    "A = [1, 2; -2, 0];\n",
    "B = [1, 10, 100; -5, 5, 3];\n",
    "disp(\"A:\")\n",
    "disp(A)\n",
    "disp(\"B:\")\n",
    "disp(B)"
   ]
  },
  {
   "cell_type": "markdown",
   "id": "e743b83c",
   "metadata": {},
   "source": [
    "Applying the definition manually, we get"
   ]
  },
  {
   "cell_type": "code",
   "execution_count": 3,
   "id": "19d06105",
   "metadata": {},
   "outputs": [
    {
     "data": {
      "text/html": [
       "<html><body><pre>A_kron_B = 4×6 double\n",
       "     1    10   100     2    20   200\n",
       "    -5     5     3   -10    10     6\n",
       "    -2   -20  -200     0     0     0\n",
       "    10   -10    -6     0     0     0\n",
       "</pre></body></html>"
      ],
      "text/plain": [
       "A_kron_B = 4×6 double\n",
       "     1    10   100     2    20   200\n",
       "    -5     5     3   -10    10     6\n",
       "    -2   -20  -200     0     0     0\n",
       "    10   -10    -6     0     0     0\n"
      ]
     },
     "execution_count": 3,
     "metadata": {},
     "output_type": "execute_result"
    }
   ],
   "source": [
    "A_kron_B = [\n",
    "    A(1,1)*B  A(1,2)*B;\n",
    "    A(2,1)*B  A(2,2)*B\n",
    "    ]"
   ]
  },
  {
   "cell_type": "markdown",
   "id": "0351d056",
   "metadata": {},
   "source": [
    "```{index} ! MATLAB; kron\n",
    "```\n",
    "\n",
    "But it makes more sense to use `kron`."
   ]
  },
  {
   "cell_type": "code",
   "execution_count": 4,
   "id": "19bb66fd",
   "metadata": {},
   "outputs": [
    {
     "data": {
      "text/html": [
       "<html><body><pre>ans = 4×6 double\n",
       "     1    10   100     2    20   200\n",
       "    -5     5     3   -10    10     6\n",
       "    -2   -20  -200     0     0     0\n",
       "    10   -10    -6     0     0     0\n",
       "</pre></body></html>"
      ],
      "text/plain": [
       "ans = 4×6 double\n",
       "     1    10   100     2    20   200\n",
       "    -5     5     3   -10    10     6\n",
       "    -2   -20  -200     0     0     0\n",
       "    10   -10    -6     0     0     0\n"
      ]
     },
     "execution_count": 4,
     "metadata": {},
     "output_type": "execute_result"
    }
   ],
   "source": [
    "kron(A, B)"
   ]
  }
 ],
 "metadata": {
  "kernelspec": {
   "display_name": "MATLAB Kernel",
   "language": "matlab",
   "name": "jupyter_matlab_kernel"
  },
  "language_info": {
   "file_extension": ".m",
   "mimetype": "text/x-matlab",
   "name": "matlab"
  },
  "numbering": {
   "headings": false
  }
 },
 "nbformat": 4,
 "nbformat_minor": 5
}
