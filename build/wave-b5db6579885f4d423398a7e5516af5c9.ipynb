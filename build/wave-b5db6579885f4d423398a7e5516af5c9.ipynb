{
 "cells": [
  {
   "cell_type": "code",
   "execution_count": null,
   "id": "5a1893c0",
   "metadata": {
    "execution": {
     "iopub.execute_input": "2025-01-05T18:42:49.533000Z",
     "iopub.status.busy": "2025-01-05T18:42:49.249000Z",
     "iopub.status.idle": "2025-01-05T18:42:55.050000Z",
     "shell.execute_reply": "2025-01-05T18:42:55.005000Z"
    },
    "tags": [
     "remove-cell"
    ]
   },
   "outputs": [],
   "source": [
    "include(\"../../../julia/FNC_init.jl\")"
   ]
  },
  {
   "cell_type": "markdown",
   "id": "cf0cbf69",
   "metadata": {},
   "source": [
    "[**Demo %s**](#demo-diffadv-wave)\n",
    "\n",
    "We start with the discretization and initial condition."
   ]
  },
  {
   "cell_type": "code",
   "execution_count": 7,
   "id": "46345469",
   "metadata": {
    "execution": {
     "iopub.execute_input": "2025-01-05T18:42:55.188000Z",
     "iopub.status.busy": "2025-01-05T18:42:55.051000Z",
     "iopub.status.idle": "2025-01-05T18:42:56.094000Z",
     "shell.execute_reply": "2025-01-05T18:42:56.067000Z"
    }
   },
   "outputs": [],
   "source": [
    "m, n = 40, 40\n",
    "x, Dx, Dxx = FNC.diffcheb(m, [-2, 2])\n",
    "y, Dy, Dyy = FNC.diffcheb(n, [-2, 2])\n",
    "mtx, X, Y, _ = FNC.tensorgrid(x, y)\n",
    "U₀ = mtx( (x, y) -> (x + 0.2) * exp(-12 * (x^2 + y^2)) )\n",
    "V₀ = zeros(size(U₀));"
   ]
  },
  {
   "cell_type": "markdown",
   "id": "6f8efbe7",
   "metadata": {},
   "source": [
    "Note that because $u$ is known on the boundary, while $v$ is unknown over the full grid, there are two different sizes of vec/unvec operations. We also need to define functions to pack grid unknowns into a vector and to unpack them. When the unknowns for $u$ are packed, the boundary values are chopped off, and these are restored when unpacking."
   ]
  },
  {
   "cell_type": "code",
   "execution_count": 8,
   "id": "22e89174",
   "metadata": {
    "execution": {
     "iopub.execute_input": "2025-01-05T18:42:56.099000Z",
     "iopub.status.busy": "2025-01-05T18:42:56.095000Z",
     "iopub.status.idle": "2025-01-05T18:42:56.426000Z",
     "shell.execute_reply": "2025-01-05T18:42:56.426000Z"
    }
   },
   "outputs": [
    {
     "data": {
      "text/plain": [
       "#23 (generic function with 1 method)"
      ]
     },
     "metadata": {},
     "output_type": "display_data"
    }
   ],
   "source": [
    "_, _, _, unvec_v, _ = FNC.tensorgrid(x, y)\n",
    "_, _, _, unvec_u, _ = FNC.tensorgrid(x[2:m], y[2:n])\n",
    "chop = U -> U[2:m, 2:n]\n",
    "extend = U -> [zeros(m+1) [zeros(1, n-1); U; zeros(1, n-1)] zeros(m+1)]\n",
    "pack = (U, V) -> [vec(chop(U)); vec(V)]\n",
    "N = (m-1) * (n-1)    # number of interior unknowns\n",
    "unpack = w -> ( extend(unvec_u(w[1:N])), unvec_v(w[N+1:end]) )"
   ]
  },
  {
   "cell_type": "markdown",
   "id": "8664001d",
   "metadata": {},
   "source": [
    "We can now define and solve the IVP. Since this problem is hyperbolic, not parabolic, a nonstiff integrator is faster than a stiff one."
   ]
  },
  {
   "cell_type": "code",
   "execution_count": 9,
   "id": "40c03ffe",
   "metadata": {
    "execution": {
     "iopub.execute_input": "2025-01-05T18:42:56.428000Z",
     "iopub.status.busy": "2025-01-05T18:42:56.428000Z",
     "iopub.status.idle": "2025-01-05T18:42:57.925000Z",
     "shell.execute_reply": "2025-01-05T18:42:57.925000Z"
    }
   },
   "outputs": [
    {
     "data": {
      "text/plain": [
       "#25 (generic function with 1 method)"
      ]
     },
     "metadata": {},
     "output_type": "display_data"
    }
   ],
   "source": [
    "using OrdinaryDiffEq\n",
    "function dw_dt(w, c, t)\n",
    "    U, V = unpack(w)\n",
    "    du_dt = V\n",
    "    dv_dt = c^2 * (Dxx * U + U * Dyy')\n",
    "    return pack(du_dt, dv_dt)\n",
    "end\n",
    "\n",
    "IVP = ODEProblem(dw_dt, pack(U₀, V₀), (0, 4.0), 1)\n",
    "sol = solve(IVP, Tsit5())\n",
    "U = t -> unpack(sol(t))[1]"
   ]
  },
  {
   "cell_type": "code",
   "execution_count": 10,
   "id": "588c78cf",
   "metadata": {
    "execution": {
     "iopub.execute_input": "2025-01-05T18:42:57.927000Z",
     "iopub.status.busy": "2025-01-05T18:42:57.926000Z",
     "iopub.status.idle": "2025-01-05T18:43:13.299000Z",
     "shell.execute_reply": "2025-01-05T18:43:13.299000Z"
    }
   },
   "outputs": [
    {
     "name": "stderr",
     "output_type": "stream",
     "text": [
      "┌ Info: Saved animation to /Users/driscoll/Dropbox/Mac/Documents/GitHub/fnc/chapter13/section2/julia/wave-2d.mp4\n",
      "└ @ Plots /Users/driscoll/.julia/packages/Plots/FFuQi/src/animation.jl:156\n"
     ]
    }
   ],
   "source": [
    "anim = @animate for t in 0:4/100:4\n",
    "    Ut = U(t)\n",
    "    surface(x, y, Ut';\n",
    "        layout=(1, 2), size=(640, 320),\n",
    "        xlabel=L\"x\",  ylabel=L\"y\",  zaxis=((-0.1, 0.1), L\"u(x,y)\"),\n",
    "        color=:redsblues,  alpha=0.66,  clims=(-0.1, 0.1), colorbar=:none,\n",
    "        title=\"Wave equation\",  dpi=150)\n",
    "    contour!(x, y, Ut'; \n",
    "        levels=24,  subplot=2, \n",
    "        aspect_ratio=1,\n",
    "        xlabel=L\"x\",  ylabel=L\"y\",\n",
    "        color=:redsblues,  clims=(-0.1, 0.1), \n",
    "        colorbar=:none,  title=@sprintf(\"t = %.2f\", t))\n",
    "end\n",
    "closeall();\n",
    "mp4(anim, \"wave-2d.mp4\");"
   ]
  }
 ],
 "metadata": {
  "kernelspec": {
   "display_name": "Julia 1.11.2",
   "language": "julia",
   "name": "julia-1.11"
  },
  "language_info": {
   "file_extension": ".jl",
   "mimetype": "application/julia",
   "name": "julia",
   "version": "1.11.2"
  },
  "numbering": {
   "headings": false
  }
 },
 "nbformat": 4,
 "nbformat_minor": 5
}
