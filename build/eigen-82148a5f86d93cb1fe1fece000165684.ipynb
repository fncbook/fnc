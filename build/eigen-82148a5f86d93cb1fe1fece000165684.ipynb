{
 "cells": [
  {
   "cell_type": "code",
   "execution_count": 1,
   "id": "69518e2f",
   "metadata": {
    "execution": {
     "iopub.execute_input": "2025-01-11T16:31:35.014654Z",
     "iopub.status.busy": "2025-01-11T16:31:35.014519Z",
     "iopub.status.idle": "2025-01-11T16:31:35.322317Z",
     "shell.execute_reply": "2025-01-11T16:31:35.321973Z"
    },
    "tags": [
     "remove-cell"
    ]
   },
   "outputs": [],
   "source": [
    "exec(open(\"../../../python/FNC_init.py\").read())"
   ]
  },
  {
   "cell_type": "markdown",
   "id": "1cceda3c",
   "metadata": {},
   "source": [
    "[**Demo %s**](#demo-evd-eigen)\n",
    "\n",
    "\n",
    "```{index} ! Python; eig\n",
    "```\n",
    "\n",
    "The `eig` function from `scipy.linalg` will return a vector of eigenvalues and a matrix of associated eigenvectors."
   ]
  },
  {
   "cell_type": "code",
   "execution_count": 2,
   "id": "6d81cd18",
   "metadata": {
    "execution": {
     "iopub.execute_input": "2025-01-11T16:31:35.323958Z",
     "iopub.status.busy": "2025-01-11T16:31:35.323824Z",
     "iopub.status.idle": "2025-01-11T16:31:35.326108Z",
     "shell.execute_reply": "2025-01-11T16:31:35.325865Z"
    }
   },
   "outputs": [
    {
     "name": "stdout",
     "output_type": "stream",
     "text": [
      "eigenvalues: [ 6.28318531e+00 -6.97573700e-16]\n"
     ]
    }
   ],
   "source": [
    "from numpy.linalg import eig\n",
    "A = pi * ones([2, 2])\n",
    "d, V = eig(A)\n",
    "print(\"eigenvalues:\", d)"
   ]
  },
  {
   "cell_type": "markdown",
   "id": "90701ada",
   "metadata": {},
   "source": [
    "We can check the fact that this is an EVD (although in practice we never invert a matrix)."
   ]
  },
  {
   "cell_type": "code",
   "execution_count": 3,
   "id": "16c822e1",
   "metadata": {
    "execution": {
     "iopub.execute_input": "2025-01-11T16:31:35.327385Z",
     "iopub.status.busy": "2025-01-11T16:31:35.327298Z",
     "iopub.status.idle": "2025-01-11T16:31:35.329282Z",
     "shell.execute_reply": "2025-01-11T16:31:35.329035Z"
    }
   },
   "outputs": [
    {
     "name": "stdout",
     "output_type": "stream",
     "text": [
      "should be near zero: 1.26e-15\n"
     ]
    }
   ],
   "source": [
    "from numpy.linalg import inv\n",
    "D = diag(d)\n",
    "print(f\"should be near zero: {norm(A - V @ D @ inv(V), 2):.2e}\")"
   ]
  },
  {
   "cell_type": "markdown",
   "id": "56993675",
   "metadata": {},
   "source": [
    "If the matrix is not diagonalizable, no message is given, but `V` will be singular. The robust way to detect that circumstance is via $\\kappa(\\mathbf{V})$.\n",
    "\n",
    "```{index} condition number; of a matrix\n",
    "```\n",
    "\n",
    "```{index} Python; cond\n",
    "```"
   ]
  },
  {
   "cell_type": "code",
   "execution_count": 4,
   "id": "184bd417",
   "metadata": {
    "execution": {
     "iopub.execute_input": "2025-01-11T16:31:35.330514Z",
     "iopub.status.busy": "2025-01-11T16:31:35.330429Z",
     "iopub.status.idle": "2025-01-11T16:31:35.333686Z",
     "shell.execute_reply": "2025-01-11T16:31:35.332216Z"
    }
   },
   "outputs": [
    {
     "name": "stdout",
     "output_type": "stream",
     "text": [
      "cond(V) is 9.01e+15\n"
     ]
    }
   ],
   "source": [
    "from numpy.linalg import cond\n",
    "A = array([[1, 1], [0, 1]])\n",
    "d, V = eig(A)\n",
    "print(f\"cond(V) is {cond(V):.2e}\")"
   ]
  },
  {
   "cell_type": "markdown",
   "id": "8e6aac25",
   "metadata": {},
   "source": [
    "But even in the nondiagonalizable case, $\\mathbf{A}\\mathbf{V} = \\mathbf{V}\\mathbf{D}$ holds up to roundoff error."
   ]
  },
  {
   "cell_type": "code",
   "execution_count": 5,
   "id": "27346b51",
   "metadata": {
    "execution": {
     "iopub.execute_input": "2025-01-11T16:31:35.340999Z",
     "iopub.status.busy": "2025-01-11T16:31:35.339543Z",
     "iopub.status.idle": "2025-01-11T16:31:35.366103Z",
     "shell.execute_reply": "2025-01-11T16:31:35.347359Z"
    }
   },
   "outputs": [
    {
     "name": "stdout",
     "output_type": "stream",
     "text": [
      "should be near zero: 2.22e-16\n"
     ]
    }
   ],
   "source": [
    "print(f\"should be near zero: {norm(A @ V - V @ diag(d), 2):.2e}\")"
   ]
  },
  {
   "cell_type": "markdown",
   "id": "606df410",
   "metadata": {},
   "source": [
    "```"
   ]
  }
 ],
 "metadata": {
  "kernelspec": {
   "display_name": "Python 3",
   "language": "python",
   "name": "python3"
  },
  "language_info": {
   "codemirror_mode": {
    "name": "ipython",
    "version": 3
   },
   "file_extension": ".py",
   "mimetype": "text/x-python",
   "name": "python",
   "nbconvert_exporter": "python",
   "pygments_lexer": "ipython3",
   "version": "3.13.0"
  },
  "numbering": {
   "headings": false
  }
 },
 "nbformat": 4,
 "nbformat_minor": 5
}
