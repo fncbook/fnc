{
 "cells": [
  {
   "cell_type": "code",
   "execution_count": 1,
   "id": "a05006b3",
   "metadata": {
    "execution": {
     "iopub.execute_input": "2025-01-05T09:30:28.046000Z",
     "iopub.status.busy": "2025-01-05T09:30:27.769000Z",
     "iopub.status.idle": "2025-01-05T09:30:34.065000Z",
     "shell.execute_reply": "2025-01-05T09:30:34.018000Z"
    }
   },
   "outputs": [
    {
     "name": "stderr",
     "output_type": "stream",
     "text": [
      "\u001b[32m\u001b[1m  Activating\u001b[22m\u001b[39m "
     ]
    },
    {
     "name": "stderr",
     "output_type": "stream",
     "text": [
      "project at `~/Documents/GitHub/fnc`\n"
     ]
    }
   ],
   "source": [
    "include(\"../../../julia/FNC_init.jl\")"
   ]
  },
  {
   "cell_type": "markdown",
   "id": "0f1441f7",
   "metadata": {},
   "source": [
    "[**Demo %s**](#demo-matrices-basics)\n",
    "\n",
    ":::{index} ! Julia; size, ! Julia; length\n",
    ":::\n",
    "\n",
    "In Julia, vectors and matrices are one-dimensional and two-dimensional arrays, respectively. Square brackets are used to enclose elements of a matrix or vector. Use spaces for horizontal concatenation, and semicolons or new lines to indicate vertical concatenation.\n",
    "```{tip}\n",
    ":class: dropdown\n",
    "The `size` function returns the number of rows and columns in a matrix. Use `length` to get the number of elements in a vector or matrix.\n",
    "```"
   ]
  },
  {
   "cell_type": "code",
   "execution_count": 2,
   "id": "972ce2e3",
   "metadata": {
    "execution": {
     "iopub.execute_input": "2025-01-05T09:30:34.240000Z",
     "iopub.status.busy": "2025-01-05T09:30:34.067000Z",
     "iopub.status.idle": "2025-01-05T09:30:35.428000Z",
     "shell.execute_reply": "2025-01-05T09:30:35.428000Z"
    }
   },
   "outputs": [
    {
     "data": {
      "text/plain": [
       "3×5 Matrix{Float64}:\n",
       "  1.0       2.0       3.0       4.0       5.0\n",
       " 50.0      40.0      30.0      20.0      10.0\n",
       "  3.14159   1.41421   2.71828   1.61803   1.09861"
      ]
     },
     "execution_count": 2,
     "metadata": {},
     "output_type": "execute_result"
    }
   ],
   "source": [
    "A = [ 1 2 3 4 5; 50 40 30 20 10\n",
    "    π sqrt(2) exp(1) (1+sqrt(5))/2 log(3) ]"
   ]
  },
  {
   "cell_type": "code",
   "execution_count": 3,
   "id": "674da725",
   "metadata": {
    "execution": {
     "iopub.execute_input": "2025-01-05T09:30:35.430000Z",
     "iopub.status.busy": "2025-01-05T09:30:35.430000Z",
     "iopub.status.idle": "2025-01-05T09:30:35.520000Z",
     "shell.execute_reply": "2025-01-05T09:30:35.520000Z"
    }
   },
   "outputs": [
    {
     "data": {
      "text/plain": [
       "(3, 5)"
      ]
     },
     "execution_count": 3,
     "metadata": {},
     "output_type": "execute_result"
    }
   ],
   "source": [
    "m, n = size(A)"
   ]
  },
  {
   "cell_type": "markdown",
   "id": "d93c78e3",
   "metadata": {},
   "source": [
    "A vector is not quite the same thing as a matrix: it has only one dimension, not two. Separate its elements by commas or semicolons:"
   ]
  },
  {
   "cell_type": "code",
   "execution_count": 4,
   "id": "11928191",
   "metadata": {
    "execution": {
     "iopub.execute_input": "2025-01-05T09:30:35.521000Z",
     "iopub.status.busy": "2025-01-05T09:30:35.521000Z",
     "iopub.status.idle": "2025-01-05T09:30:35.617000Z",
     "shell.execute_reply": "2025-01-05T09:30:35.616000Z"
    }
   },
   "outputs": [
    {
     "data": {
      "text/plain": [
       "(5,)"
      ]
     },
     "execution_count": 4,
     "metadata": {},
     "output_type": "execute_result"
    }
   ],
   "source": [
    "x = [ 3, 3, 0, 1, 0 ]\n",
    "size(x)"
   ]
  },
  {
   "cell_type": "markdown",
   "id": "d757e7f1",
   "metadata": {},
   "source": [
    "For some purposes, however, an $n$-vector in Julia is treated like having a column shape. Note the difference if we use spaces instead of commas inside the brackets:"
   ]
  },
  {
   "cell_type": "code",
   "execution_count": 5,
   "id": "af3d083d",
   "metadata": {
    "execution": {
     "iopub.execute_input": "2025-01-05T09:30:35.618000Z",
     "iopub.status.busy": "2025-01-05T09:30:35.618000Z",
     "iopub.status.idle": "2025-01-05T09:30:35.629000Z",
     "shell.execute_reply": "2025-01-05T09:30:35.629000Z"
    }
   },
   "outputs": [
    {
     "data": {
      "text/plain": [
       "(1, 5)"
      ]
     },
     "execution_count": 5,
     "metadata": {},
     "output_type": "execute_result"
    }
   ],
   "source": [
    "y = [ 3 3 0 1 0 ]\n",
    "size(y)"
   ]
  },
  {
   "cell_type": "markdown",
   "id": "3a8db146",
   "metadata": {},
   "source": [
    "This $1\\times 5$ matrix is not equivalent to a vector.\n",
    "\n",
    "Concatenated elements within brackets may be matrices or vectors for a block representation, as long as all the block sizes are compatible."
   ]
  },
  {
   "cell_type": "code",
   "execution_count": 6,
   "id": "1dfc28b9",
   "metadata": {
    "execution": {
     "iopub.execute_input": "2025-01-05T09:30:35.630000Z",
     "iopub.status.busy": "2025-01-05T09:30:35.630000Z",
     "iopub.status.idle": "2025-01-05T09:30:35.768000Z",
     "shell.execute_reply": "2025-01-05T09:30:35.767000Z"
    }
   },
   "outputs": [
    {
     "data": {
      "text/plain": [
       "5×2 Matrix{Int64}:\n",
       " 3  3\n",
       " 3  3\n",
       " 0  0\n",
       " 1  1\n",
       " 0  0"
      ]
     },
     "execution_count": 6,
     "metadata": {},
     "output_type": "execute_result"
    }
   ],
   "source": [
    "[ x  x ]"
   ]
  },
  {
   "cell_type": "code",
   "execution_count": 7,
   "id": "cc3aa03f",
   "metadata": {
    "execution": {
     "iopub.execute_input": "2025-01-05T09:30:35.769000Z",
     "iopub.status.busy": "2025-01-05T09:30:35.769000Z",
     "iopub.status.idle": "2025-01-05T09:30:35.926000Z",
     "shell.execute_reply": "2025-01-05T09:30:35.926000Z"
    }
   },
   "outputs": [
    {
     "data": {
      "text/plain": [
       "10-element Vector{Int64}:\n",
       " 3\n",
       " 3\n",
       " 0\n",
       " 1\n",
       " 0\n",
       " 3\n",
       " 3\n",
       " 0\n",
       " 1\n",
       " 0"
      ]
     },
     "execution_count": 7,
     "metadata": {},
     "output_type": "execute_result"
    }
   ],
   "source": [
    "[ x; x ]"
   ]
  },
  {
   "cell_type": "markdown",
   "id": "a66fa5ca",
   "metadata": {},
   "source": [
    "The `zeros` and `ones` functions construct matrices with entries all zero or one, respectively."
   ]
  },
  {
   "cell_type": "code",
   "execution_count": 8,
   "id": "6c84be28",
   "metadata": {
    "execution": {
     "iopub.execute_input": "2025-01-05T09:30:35.927000Z",
     "iopub.status.busy": "2025-01-05T09:30:35.927000Z",
     "iopub.status.idle": "2025-01-05T09:30:35.942000Z",
     "shell.execute_reply": "2025-01-05T09:30:35.942000Z"
    }
   },
   "outputs": [
    {
     "data": {
      "text/plain": [
       "3×3 Matrix{Float64}:\n",
       " 0.0  0.0  1.0\n",
       " 0.0  0.0  1.0\n",
       " 0.0  0.0  1.0"
      ]
     },
     "execution_count": 8,
     "metadata": {},
     "output_type": "execute_result"
    }
   ],
   "source": [
    "B = [ zeros(3, 2) ones(3, 1) ]"
   ]
  },
  {
   "cell_type": "markdown",
   "id": "35381b5f",
   "metadata": {},
   "source": [
    "```{index} ! Julia; transpose, ! Julia; adjoint, ! Julia; \\'\n",
    "```\n",
    "\n",
    "A single quote `'` after a matrix returns its adjoint. For real matrices, this is the transpose; for complex-valued matrices, the elements are also conjugated."
   ]
  },
  {
   "cell_type": "code",
   "execution_count": 9,
   "id": "bfdf7f34",
   "metadata": {
    "execution": {
     "iopub.execute_input": "2025-01-05T09:30:35.944000Z",
     "iopub.status.busy": "2025-01-05T09:30:35.944000Z",
     "iopub.status.idle": "2025-01-05T09:30:36.094000Z",
     "shell.execute_reply": "2025-01-05T09:30:36.093000Z"
    }
   },
   "outputs": [
    {
     "data": {
      "text/plain": [
       "5×3 adjoint(::Matrix{Float64}) with eltype Float64:\n",
       " 1.0  50.0  3.14159\n",
       " 2.0  40.0  1.41421\n",
       " 3.0  30.0  2.71828\n",
       " 4.0  20.0  1.61803\n",
       " 5.0  10.0  1.09861"
      ]
     },
     "execution_count": 9,
     "metadata": {},
     "output_type": "execute_result"
    }
   ],
   "source": [
    "A'"
   ]
  },
  {
   "cell_type": "markdown",
   "id": "59e2b0d7",
   "metadata": {},
   "source": [
    "If `x` is simply a vector, then its transpose has a row shape."
   ]
  },
  {
   "cell_type": "code",
   "execution_count": 10,
   "id": "87e96474",
   "metadata": {
    "execution": {
     "iopub.execute_input": "2025-01-05T09:30:36.095000Z",
     "iopub.status.busy": "2025-01-05T09:30:36.095000Z",
     "iopub.status.idle": "2025-01-05T09:30:36.415000Z",
     "shell.execute_reply": "2025-01-05T09:30:36.415000Z"
    }
   },
   "outputs": [
    {
     "data": {
      "text/plain": [
       "1×5 adjoint(::Vector{Int64}) with eltype Int64:\n",
       " 3  3  0  1  0"
      ]
     },
     "execution_count": 10,
     "metadata": {},
     "output_type": "execute_result"
    }
   ],
   "source": [
    "x'"
   ]
  },
  {
   "cell_type": "markdown",
   "id": "1f55985f",
   "metadata": {},
   "source": [
    "```{index} ! Julia; range, ! Julia; \\:\n",
    "```\n",
    "\n",
    "There are many convenient shorthand ways of building vectors and matrices other than entering all of their entries directly or in a loop. To get a range with evenly spaced entries between two endpoints, you have two options. One is to use a colon `:`."
   ]
  },
  {
   "cell_type": "code",
   "execution_count": 11,
   "id": "5e26e87d",
   "metadata": {
    "execution": {
     "iopub.execute_input": "2025-01-05T09:30:36.416000Z",
     "iopub.status.busy": "2025-01-05T09:30:36.416000Z",
     "iopub.status.idle": "2025-01-05T09:30:36.490000Z",
     "shell.execute_reply": "2025-01-05T09:30:36.490000Z"
    }
   },
   "outputs": [
    {
     "data": {
      "text/plain": [
       "1:4"
      ]
     },
     "execution_count": 11,
     "metadata": {},
     "output_type": "execute_result"
    }
   ],
   "source": [
    "y = 1:4              # start:stop"
   ]
  },
  {
   "cell_type": "code",
   "execution_count": 12,
   "id": "417cd657",
   "metadata": {
    "execution": {
     "iopub.execute_input": "2025-01-05T09:30:36.492000Z",
     "iopub.status.busy": "2025-01-05T09:30:36.492000Z",
     "iopub.status.idle": "2025-01-05T09:30:36.560000Z",
     "shell.execute_reply": "2025-01-05T09:30:36.560000Z"
    }
   },
   "outputs": [
    {
     "data": {
      "text/plain": [
       "0:3:12"
      ]
     },
     "execution_count": 12,
     "metadata": {},
     "output_type": "execute_result"
    }
   ],
   "source": [
    "z = 0:3:12           # start:step:stop"
   ]
  },
  {
   "cell_type": "markdown",
   "id": "2d4a8694",
   "metadata": {},
   "source": [
    "(Ranges are not strictly considered vectors, but they behave identically in most circumstances.) Instead of specifying the step size, you can give the number of points in the range if you use `range`."
   ]
  },
  {
   "cell_type": "code",
   "execution_count": 13,
   "id": "5c777eec",
   "metadata": {
    "execution": {
     "iopub.execute_input": "2025-01-05T09:30:36.562000Z",
     "iopub.status.busy": "2025-01-05T09:30:36.562000Z",
     "iopub.status.idle": "2025-01-05T09:30:36.650000Z",
     "shell.execute_reply": "2025-01-05T09:30:36.650000Z"
    }
   },
   "outputs": [
    {
     "data": {
      "text/plain": [
       "-1.0:0.5:1.0"
      ]
     },
     "execution_count": 13,
     "metadata": {},
     "output_type": "execute_result"
    }
   ],
   "source": [
    "s = range(-1, 1, 5)"
   ]
  },
  {
   "cell_type": "markdown",
   "id": "9c3af8fd",
   "metadata": {},
   "source": [
    ":::{index} ! Julia; end, ! Julia; indexing arrays\n",
    ":::\n",
    "\n",
    "Accessing an element is done by giving one (for a vector) or two (for a matrix) index values within square brackets. \n",
    "```{tip}\n",
    ":class: dropdown\n",
    "The `end` keyword refers to the last element in a dimension. It saves you from having to compute and store the size of the matrix first.\n",
    "```\n",
    "The matrix and vector senses of addition, subtraction, scalar multiplication, multiplication, and power are all handled by the usual symbols. \n",
    ":::{card}\n",
    "Use `diagm` to construct a matrix by its diagonals. A more general syntax puts elements on super- or subdiagonals.\n",
    ":::\n",
    "::::"
   ]
  },
  {
   "cell_type": "code",
   "execution_count": 14,
   "id": "777d5726",
   "metadata": {
    "execution": {
     "iopub.execute_input": "2025-01-05T09:30:36.652000Z",
     "iopub.status.busy": "2025-01-05T09:30:36.652000Z",
     "iopub.status.idle": "2025-01-05T09:30:36.671000Z",
     "shell.execute_reply": "2025-01-05T09:30:36.671000Z"
    }
   },
   "outputs": [
    {
     "data": {
      "text/plain": [
       "3×3 Matrix{Int64}:\n",
       " -1  0   0\n",
       "  0  0   0\n",
       "  0  0  -5"
      ]
     },
     "execution_count": 14,
     "metadata": {},
     "output_type": "execute_result"
    }
   ],
   "source": [
    "B = diagm( [-1, 0, -5] )   # create a diagonal matrix"
   ]
  },
  {
   "cell_type": "code",
   "execution_count": 15,
   "id": "2932aec8",
   "metadata": {
    "execution": {
     "iopub.execute_input": "2025-01-05T09:30:36.672000Z",
     "iopub.status.busy": "2025-01-05T09:30:36.672000Z",
     "iopub.status.idle": "2025-01-05T09:30:37.255000Z",
     "shell.execute_reply": "2025-01-05T09:30:37.254000Z"
    }
   },
   "outputs": [
    {
     "name": "stdout",
     "output_type": "stream",
     "text": [
      "(size(A), size(B)) = ((3, 5), (3, 3))"
     ]
    },
    {
     "name": "stdout",
     "output_type": "stream",
     "text": [
      "\n"
     ]
    },
    {
     "data": {
      "text/plain": [
       "3×5 Matrix{Float64}:\n",
       "  -1.0    -2.0       -3.0     -4.0      -5.0\n",
       "   0.0     0.0        0.0      0.0       0.0\n",
       " -15.708  -7.07107  -13.5914  -8.09017  -5.49306"
      ]
     },
     "execution_count": 15,
     "metadata": {},
     "output_type": "execute_result"
    }
   ],
   "source": [
    "@show size(A), size(B);\n",
    "BA = B * A     # matrix product"
   ]
  },
  {
   "cell_type": "markdown",
   "id": "703200a1",
   "metadata": {},
   "source": [
    "`A * B` causes an error here, because the dimensions aren't compatible.\n",
    "```{tip}\n",
    ":class: dropdown\n",
    "Errors are formally called *exceptions* in Julia.\n",
    "```"
   ]
  },
  {
   "cell_type": "code",
   "execution_count": 16,
   "id": "c68a7173",
   "metadata": {
    "execution": {
     "iopub.execute_input": "2025-01-05T09:30:37.256000Z",
     "iopub.status.busy": "2025-01-05T09:30:37.256000Z",
     "iopub.status.idle": "2025-01-05T09:30:38.406000Z",
     "shell.execute_reply": "2025-01-05T09:30:38.406000Z"
    },
    "tags": [
     "raises-exception"
    ]
   },
   "outputs": [
    {
     "ename": "LoadError",
     "evalue": "DimensionMismatch: matrix A has axes (Base.OneTo(3),Base.OneTo(5)), matrix B has axes (Base.OneTo(3),Base.OneTo(3))",
     "output_type": "error",
     "traceback": [
      "DimensionMismatch: matrix A has axes (Base.OneTo(3),Base.OneTo(5)), matrix B has axes (Base.OneTo(3),Base.OneTo(3))",
      "",
      "Stacktrace:",
      " [1] _generic_matmatmul!(C::Matrix{Float64}, A::Matrix{Float64}, B::Matrix{Int64}, _add::LinearAlgebra.MulAddMul{true, true, Bool, Bool})",
      "   @ LinearAlgebra ~/.julia/juliaup/julia-1.11.2+0.aarch64.apple.darwin14/share/julia/stdlib/v1.11/LinearAlgebra/src/matmul.jl:883",
      " [2] generic_matmatmul!",
      "   @ ~/.julia/juliaup/julia-1.11.2+0.aarch64.apple.darwin14/share/julia/stdlib/v1.11/LinearAlgebra/src/matmul.jl:868 [inlined]",
      " [3] _mul!",
      "   @ ~/.julia/juliaup/julia-1.11.2+0.aarch64.apple.darwin14/share/julia/stdlib/v1.11/LinearAlgebra/src/matmul.jl:287 [inlined]",
      " [4] mul!",
      "   @ ~/.julia/juliaup/julia-1.11.2+0.aarch64.apple.darwin14/share/julia/stdlib/v1.11/LinearAlgebra/src/matmul.jl:285 [inlined]",
      " [5] mul!",
      "   @ ~/.julia/juliaup/julia-1.11.2+0.aarch64.apple.darwin14/share/julia/stdlib/v1.11/LinearAlgebra/src/matmul.jl:253 [inlined]",
      " [6] *(A::Matrix{Float64}, B::Matrix{Int64})",
      "   @ LinearAlgebra ~/.julia/juliaup/julia-1.11.2+0.aarch64.apple.darwin14/share/julia/stdlib/v1.11/LinearAlgebra/src/matmul.jl:114",
      " [7] top-level scope",
      "   @ In[16]:1"
     ]
    }
   ],
   "source": [
    "A * B    # throws an error"
   ]
  },
  {
   "cell_type": "markdown",
   "id": "eb30a75b",
   "metadata": {},
   "source": [
    "A square matrix raised to an integer power is the same as repeated matrix multiplication."
   ]
  },
  {
   "cell_type": "code",
   "execution_count": 17,
   "id": "52992535",
   "metadata": {
    "execution": {
     "iopub.execute_input": "2025-01-05T09:30:38.408000Z",
     "iopub.status.busy": "2025-01-05T09:30:38.407000Z",
     "iopub.status.idle": "2025-01-05T09:30:38.585000Z",
     "shell.execute_reply": "2025-01-05T09:30:38.585000Z"
    }
   },
   "outputs": [
    {
     "data": {
      "text/plain": [
       "3×3 Matrix{Int64}:\n",
       " -1  0     0\n",
       "  0  0     0\n",
       "  0  0  -125"
      ]
     },
     "execution_count": 17,
     "metadata": {},
     "output_type": "execute_result"
    }
   ],
   "source": [
    "B^3    # same as B*B*B"
   ]
  },
  {
   "cell_type": "markdown",
   "id": "22939816",
   "metadata": {},
   "source": [
    "Sometimes one instead wants to treat a matrix or vector as a mere array and simply apply a single operation to each element of it. For multiplication, division, and power, the corresponding operators start with a dot."
   ]
  },
  {
   "cell_type": "code",
   "execution_count": 18,
   "id": "c25dae8e",
   "metadata": {
    "execution": {
     "iopub.execute_input": "2025-01-05T09:30:38.587000Z",
     "iopub.status.busy": "2025-01-05T09:30:38.587000Z",
     "iopub.status.idle": "2025-01-05T09:30:38.632000Z",
     "shell.execute_reply": "2025-01-05T09:30:38.631000Z"
    }
   },
   "outputs": [],
   "source": [
    "C = -A;"
   ]
  },
  {
   "cell_type": "markdown",
   "id": "4dcfe176",
   "metadata": {},
   "source": [
    "Because both matrices are $3\\times 5$, `A * C` would be an error here, but elementwise operations are fine."
   ]
  },
  {
   "cell_type": "code",
   "execution_count": 19,
   "id": "560f3496",
   "metadata": {
    "execution": {
     "iopub.execute_input": "2025-01-05T09:30:38.633000Z",
     "iopub.status.busy": "2025-01-05T09:30:38.633000Z",
     "iopub.status.idle": "2025-01-05T09:30:38.711000Z",
     "shell.execute_reply": "2025-01-05T09:30:38.711000Z"
    }
   },
   "outputs": [
    {
     "data": {
      "text/plain": [
       "3×5 Matrix{Float64}:\n",
       "    -1.0        -4.0    -9.0       -16.0       -25.0\n",
       " -2500.0     -1600.0  -900.0      -400.0      -100.0\n",
       "    -9.8696     -2.0    -7.38906    -2.61803    -1.20695"
      ]
     },
     "execution_count": 19,
     "metadata": {},
     "output_type": "execute_result"
    }
   ],
   "source": [
    "elementwise = A .* C"
   ]
  },
  {
   "cell_type": "markdown",
   "id": "61c40a9a",
   "metadata": {},
   "source": [
    "```{index} Julia; broadcasting\n",
    "```\n",
    "\n",
    "The two operands of a dot operator have to have the same size—unless one is a scalar, in which case it is expanded or *broadcast* to be the same size as the other operand."
   ]
  },
  {
   "cell_type": "code",
   "execution_count": 20,
   "id": "895a026e",
   "metadata": {
    "execution": {
     "iopub.execute_input": "2025-01-05T09:30:38.712000Z",
     "iopub.status.busy": "2025-01-05T09:30:38.712000Z",
     "iopub.status.idle": "2025-01-05T09:30:38.745000Z",
     "shell.execute_reply": "2025-01-05T09:30:38.745000Z"
    }
   },
   "outputs": [
    {
     "data": {
      "text/plain": [
       "5-element Vector{Int64}:\n",
       " 9\n",
       " 9\n",
       " 0\n",
       " 1\n",
       " 0"
      ]
     },
     "execution_count": 20,
     "metadata": {},
     "output_type": "execute_result"
    }
   ],
   "source": [
    "x_to_two = x .^ 2"
   ]
  },
  {
   "cell_type": "code",
   "execution_count": 21,
   "id": "3c36f4b1",
   "metadata": {
    "execution": {
     "iopub.execute_input": "2025-01-05T09:30:38.747000Z",
     "iopub.status.busy": "2025-01-05T09:30:38.747000Z",
     "iopub.status.idle": "2025-01-05T09:30:38.768000Z",
     "shell.execute_reply": "2025-01-05T09:30:38.768000Z"
    }
   },
   "outputs": [
    {
     "data": {
      "text/plain": [
       "5-element Vector{Int64}:\n",
       " 8\n",
       " 8\n",
       " 1\n",
       " 2\n",
       " 1"
      ]
     },
     "execution_count": 21,
     "metadata": {},
     "output_type": "execute_result"
    }
   ],
   "source": [
    "two_to_x = 2 .^ x"
   ]
  },
  {
   "cell_type": "markdown",
   "id": "e6df5059",
   "metadata": {},
   "source": [
    "Most of the mathematical functions, such as cos, sin, log, exp, and sqrt, expect scalars as operands. However, you can broadcast any function, including ones that you have defined, across a vector or array by using a special dot syntax.\n",
    "```{tip}\n",
    ":class: dropdown\n",
    "A dot added to the end of a function name means to apply the function elementwise to an array.\n",
    "```"
   ]
  },
  {
   "cell_type": "code",
   "execution_count": 22,
   "id": "e693f5dd",
   "metadata": {
    "execution": {
     "iopub.execute_input": "2025-01-05T09:30:38.770000Z",
     "iopub.status.busy": "2025-01-05T09:30:38.770000Z",
     "iopub.status.idle": "2025-01-05T09:30:38.962000Z",
     "shell.execute_reply": "2025-01-05T09:30:38.962000Z"
    }
   },
   "outputs": [
    {
     "name": "stdout",
     "output_type": "stream",
     "text": [
      "[-1.0, -1.0, 1.0, -1.0, 1.0]"
     ]
    }
   ],
   "source": [
    "show(cos.(π * x))    # broadcast to a function"
   ]
  },
  {
   "cell_type": "markdown",
   "id": "de767a7d",
   "metadata": {},
   "source": [
    "Rather than dotting multiple individual functions, you can use `@.` before an expression to broadcast everything within it."
   ]
  },
  {
   "cell_type": "code",
   "execution_count": 23,
   "id": "c6b1081e",
   "metadata": {
    "execution": {
     "iopub.execute_input": "2025-01-05T09:30:38.965000Z",
     "iopub.status.busy": "2025-01-05T09:30:38.965000Z",
     "iopub.status.idle": "2025-01-05T09:30:39.049000Z",
     "shell.execute_reply": "2025-01-05T09:30:39.049000Z"
    }
   },
   "outputs": [
    {
     "name": "stdout",
     "output_type": "stream",
     "text": [
      "[1.0, 1.0, -1.0, 1.0, -1.0]"
     ]
    }
   ],
   "source": [
    "show(@. cospi( (x + 1)^3) )    # broadcast an entire expression"
   ]
  }
 ],
 "metadata": {
  "kernelspec": {
   "display_name": "Julia 1",
   "language": "julia",
   "name": "julia-1.11"
  },
  "language_info": {
   "file_extension": ".jl",
   "mimetype": "application/julia",
   "name": "julia",
   "version": "1.11.2"
  },
  "numbering": {
   "headings": false
  }
 },
 "nbformat": 4,
 "nbformat_minor": 5
}
