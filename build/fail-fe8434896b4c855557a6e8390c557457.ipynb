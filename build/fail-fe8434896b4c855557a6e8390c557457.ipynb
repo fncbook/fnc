{
 "cells": [
  {
   "cell_type": "code",
   "execution_count": 1,
   "id": "3e5d9281",
   "metadata": {
    "execution": {
     "iopub.execute_input": "2025-01-11T17:43:40.004703Z",
     "iopub.status.busy": "2025-01-11T17:43:40.004443Z",
     "iopub.status.idle": "2025-01-11T17:43:40.328749Z",
     "shell.execute_reply": "2025-01-11T17:43:40.328378Z"
    },
    "tags": [
     "remove-cell"
    ]
   },
   "outputs": [],
   "source": [
    "exec(open(\"../../../python/FNC_init.py\").read())"
   ]
  },
  {
   "cell_type": "markdown",
   "id": "89a54f37",
   "metadata": {},
   "source": [
    "[**Demo %s**](#demo-pivoting-fail)\n",
    "\n",
    "Here is a previously encountered matrix that factors well."
   ]
  },
  {
   "cell_type": "code",
   "execution_count": 2,
   "id": "ef0cccc0",
   "metadata": {
    "execution": {
     "iopub.execute_input": "2025-01-11T17:43:40.330377Z",
     "iopub.status.busy": "2025-01-11T17:43:40.330253Z",
     "iopub.status.idle": "2025-01-11T17:43:40.332641Z",
     "shell.execute_reply": "2025-01-11T17:43:40.332382Z"
    }
   },
   "outputs": [
    {
     "name": "stdout",
     "output_type": "stream",
     "text": [
      "[[ 1.   0.  -0.   0. ]\n",
      " [-2.   1.  -0.   0. ]\n",
      " [ 0.5  3.   1.   0. ]\n",
      " [-1.   0.  -2.   1. ]]\n"
     ]
    }
   ],
   "source": [
    "A = array([\n",
    "    [2, 0, 4, 3],\n",
    "    [-4, 5, -7, -10],\n",
    "    [1, 15, 2, -4.5],\n",
    "    [-2, 0, 2, -13]\n",
    "    ])\n",
    "L, U = FNC.lufact(A)\n",
    "print(L)"
   ]
  },
  {
   "cell_type": "markdown",
   "id": "f7cd82da",
   "metadata": {},
   "source": [
    "If we swap the second and fourth rows of $\\mathbf{A}$, the result is still nonsingular. However, the factorization now fails."
   ]
  },
  {
   "cell_type": "code",
   "execution_count": 3,
   "id": "db3ef67f",
   "metadata": {
    "execution": {
     "iopub.execute_input": "2025-01-11T17:43:40.333897Z",
     "iopub.status.busy": "2025-01-11T17:43:40.333777Z",
     "iopub.status.idle": "2025-01-11T17:43:40.337813Z",
     "shell.execute_reply": "2025-01-11T17:43:40.337546Z"
    }
   },
   "outputs": [
    {
     "name": "stdout",
     "output_type": "stream",
     "text": [
      "[[ 1.   nan  nan  0. ]\n",
      " [-1.   nan  nan  0. ]\n",
      " [ 0.5  inf  nan  0. ]\n",
      " [-2.   inf  nan  1. ]]\n"
     ]
    },
    {
     "name": "stderr",
     "output_type": "stream",
     "text": [
      "/Users/driscoll/Documents/GitHub/fnc/python/fncbook/fncbook/chapter02.py:47: RuntimeWarning: divide by zero encountered in divide\n",
      "  L[:, k] = A_k[:, k] / U[k,k]\n",
      "/Users/driscoll/Documents/GitHub/fnc/python/fncbook/fncbook/chapter02.py:47: RuntimeWarning: invalid value encountered in divide\n",
      "  L[:, k] = A_k[:, k] / U[k,k]\n",
      "/Users/driscoll/mambaforge/envs/myst/lib/python3.13/site-packages/numpy/_core/numeric.py:983: RuntimeWarning: invalid value encountered in multiply\n",
      "  return multiply(a.ravel()[:, newaxis], b.ravel()[newaxis, :], out)\n"
     ]
    }
   ],
   "source": [
    "A[[1, 3], :] = A[[3, 1], :]  \n",
    "L, U = FNC.lufact(A)\n",
    "print(L)"
   ]
  },
  {
   "cell_type": "markdown",
   "id": "013a06ac",
   "metadata": {},
   "source": [
    "```{index} Python; NaN\n",
    "```\n",
    "\n",
    "The presence of `NaN` in the result indicates that some impossible operation was required. The source of the problem is easy to locate. We can find the first outer product in the factorization just fine:"
   ]
  },
  {
   "cell_type": "code",
   "execution_count": 4,
   "id": "33f76d5f",
   "metadata": {
    "execution": {
     "iopub.execute_input": "2025-01-11T17:43:40.339029Z",
     "iopub.status.busy": "2025-01-11T17:43:40.338939Z",
     "iopub.status.idle": "2025-01-11T17:43:40.341092Z",
     "shell.execute_reply": "2025-01-11T17:43:40.340821Z"
    }
   },
   "outputs": [
    {
     "name": "stdout",
     "output_type": "stream",
     "text": [
      "[[  0.   0.   0.   0.]\n",
      " [  0.   0.   6. -10.]\n",
      " [  0.  15.   0.  -6.]\n",
      " [  0.   5.   1.  -4.]]\n"
     ]
    }
   ],
   "source": [
    "U[0, :] = A[0, :]\n",
    "L[:, 0] = A[:, 0] / U[0, 0]\n",
    "A -= outer(L[:, 0],  U[0, :])\n",
    "print(A)"
   ]
  },
  {
   "cell_type": "markdown",
   "id": "714ac34d",
   "metadata": {},
   "source": [
    "The next step is `U[1, :] = A[1, :]`, which is also OK. But then we are supposed to divide by `U[1, 1]`, which is zero. The algorithm cannot continue."
   ]
  }
 ],
 "metadata": {
  "kernelspec": {
   "display_name": "Python 3",
   "language": "python",
   "name": "python3"
  },
  "language_info": {
   "codemirror_mode": {
    "name": "ipython",
    "version": 3
   },
   "file_extension": ".py",
   "mimetype": "text/x-python",
   "name": "python",
   "nbconvert_exporter": "python",
   "pygments_lexer": "ipython3",
   "version": "3.13.0"
  },
  "numbering": {
   "headings": false
  }
 },
 "nbformat": 4,
 "nbformat_minor": 5
}
