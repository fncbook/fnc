{
 "cells": [
  {
   "cell_type": "code",
   "execution_count": 1,
   "id": "ea73247d",
   "metadata": {
    "execution": {
     "iopub.execute_input": "2025-01-05T09:52:21.255000Z",
     "iopub.status.busy": "2025-01-05T09:52:20.489000Z",
     "iopub.status.idle": "2025-01-05T09:52:36.266000Z",
     "shell.execute_reply": "2025-01-05T09:52:36.188000Z"
    }
   },
   "outputs": [
    {
     "name": "stderr",
     "output_type": "stream",
     "text": [
      "\u001b[32m\u001b[1m  Activating\u001b[22m\u001b[39m "
     ]
    },
    {
     "name": "stderr",
     "output_type": "stream",
     "text": [
      "project at `~/Documents/GitHub/fnc`\n"
     ]
    }
   ],
   "source": [
    "include(\"../../../julia/FNC_init.jl\")"
   ]
  },
  {
   "cell_type": "markdown",
   "id": "0232befb",
   "metadata": {},
   "source": [
    "[**Demo %s**](#demo-newtonsys-converge)\n",
    "\n",
    "A system of nonlinear equations is defined by its residual and Jacobian.\n",
    "```{tip}\n",
    ":class: dropdown\n",
    "Be careful when coding a Jacobian all in one statement. Spaces separate columns, so `x[3]-1` is not the same as `x[3] - 1`.\n",
    "```"
   ]
  },
  {
   "cell_type": "code",
   "execution_count": 2,
   "id": "ad50e9b9",
   "metadata": {
    "execution": {
     "iopub.execute_input": "2025-01-05T09:52:36.488000Z",
     "iopub.status.busy": "2025-01-05T09:52:36.275000Z",
     "iopub.status.idle": "2025-01-05T09:52:36.548000Z",
     "shell.execute_reply": "2025-01-05T09:52:36.547000Z"
    }
   },
   "outputs": [],
   "source": [
    "function func(x)\n",
    "    [exp(x[2] - x[1]) - 2,\n",
    "        x[1] * x[2] + x[3],\n",
    "        x[2] * x[3] + x[1]^2 - x[2]\n",
    "    ]\n",
    "end;\n",
    "\n",
    "function jac(x)\n",
    "    [\n",
    "        -exp(x[2] - x[1]) exp(x[2] - x[1]) 0\n",
    "        x[2] x[1] 1\n",
    "        2*x[1] x[3]-1 x[2]\n",
    "    ]\n",
    "end;"
   ]
  },
  {
   "cell_type": "markdown",
   "id": "3fc3ea5b",
   "metadata": {},
   "source": [
    "We will use a `BigFloat` starting value, and commensurately small stopping tolerances, in order to get a sequence long enough to measure convergence."
   ]
  },
  {
   "cell_type": "code",
   "execution_count": 3,
   "id": "012db112",
   "metadata": {
    "execution": {
     "iopub.execute_input": "2025-01-05T09:52:36.551000Z",
     "iopub.status.busy": "2025-01-05T09:52:36.551000Z",
     "iopub.status.idle": "2025-01-05T09:52:38.665000Z",
     "shell.execute_reply": "2025-01-05T09:52:38.665000Z"
    }
   },
   "outputs": [],
   "source": [
    "x₁ = BigFloat.([0, 0, 0])\n",
    "ϵ = eps(BigFloat)\n",
    "x = FNC.newtonsys(func, jac, x₁, xtol=ϵ, ftol=ϵ);"
   ]
  },
  {
   "cell_type": "markdown",
   "id": "3fdf8f14",
   "metadata": {},
   "source": [
    "Let's compute the residual of the last result in order to check the quality."
   ]
  },
  {
   "cell_type": "code",
   "execution_count": 4,
   "id": "85b4d9b6",
   "metadata": {
    "execution": {
     "iopub.execute_input": "2025-01-05T09:52:38.667000Z",
     "iopub.status.busy": "2025-01-05T09:52:38.667000Z",
     "iopub.status.idle": "2025-01-05T09:52:39.918000Z",
     "shell.execute_reply": "2025-01-05T09:52:39.917000Z"
    }
   },
   "outputs": [
    {
     "name": "stdout",
     "output_type": "stream",
     "text": [
      "residual = norm(func(r)) = 0.0"
     ]
    },
    {
     "name": "stdout",
     "output_type": "stream",
     "text": [
      "\n"
     ]
    }
   ],
   "source": [
    "r = x[end]\n",
    "@show residual = norm(func(r));"
   ]
  },
  {
   "cell_type": "markdown",
   "id": "7de9cca6",
   "metadata": {},
   "source": [
    "We take the sequence of norms of errors, applying the log so that we can look at the exponents."
   ]
  },
  {
   "cell_type": "code",
   "execution_count": 5,
   "id": "6c5fe579",
   "metadata": {
    "execution": {
     "iopub.execute_input": "2025-01-05T09:52:39.933000Z",
     "iopub.status.busy": "2025-01-05T09:52:39.933000Z",
     "iopub.status.idle": "2025-01-05T09:52:42.768000Z",
     "shell.execute_reply": "2025-01-05T09:52:42.767000Z"
    }
   },
   "outputs": [
    {
     "data": {
      "text/html": [
       "<table>\n",
       "  <thead>\n",
       "    <tr class = \"header headerLastRow\">\n",
       "      <th style = \"text-align: right;\">iteration</th>\n",
       "      <th style = \"text-align: right;\">log error</th>\n",
       "      <th style = \"text-align: right;\">ratio</th>\n",
       "    </tr>\n",
       "  </thead>\n",
       "  <tbody>\n",
       "    <tr>\n",
       "      <td style = \"text-align: right;\">1.0</td>\n",
       "      <td style = \"text-align: right;\">-0.642465</td>\n",
       "      <td style = \"text-align: right;\">NaN</td>\n",
       "    </tr>\n",
       "    <tr>\n",
       "      <td style = \"text-align: right;\">2.0</td>\n",
       "      <td style = \"text-align: right;\">-0.509988</td>\n",
       "      <td style = \"text-align: right;\">0.793799</td>\n",
       "    </tr>\n",
       "    <tr>\n",
       "      <td style = \"text-align: right;\">3.0</td>\n",
       "      <td style = \"text-align: right;\">-1.88491</td>\n",
       "      <td style = \"text-align: right;\">3.69598</td>\n",
       "    </tr>\n",
       "    <tr>\n",
       "      <td style = \"text-align: right;\">4.0</td>\n",
       "      <td style = \"text-align: right;\">-4.58533</td>\n",
       "      <td style = \"text-align: right;\">2.43266</td>\n",
       "    </tr>\n",
       "    <tr>\n",
       "      <td style = \"text-align: right;\">5.0</td>\n",
       "      <td style = \"text-align: right;\">-10.5971</td>\n",
       "      <td style = \"text-align: right;\">2.31109</td>\n",
       "    </tr>\n",
       "    <tr>\n",
       "      <td style = \"text-align: right;\">6.0</td>\n",
       "      <td style = \"text-align: right;\">-22.5988</td>\n",
       "      <td style = \"text-align: right;\">2.13254</td>\n",
       "    </tr>\n",
       "    <tr>\n",
       "      <td style = \"text-align: right;\">7.0</td>\n",
       "      <td style = \"text-align: right;\">-45.8704</td>\n",
       "      <td style = \"text-align: right;\">2.02977</td>\n",
       "    </tr>\n",
       "    <tr>\n",
       "      <td style = \"text-align: right;\">8.0</td>\n",
       "      <td style = \"text-align: right;\">-93.3004</td>\n",
       "      <td style = \"text-align: right;\">2.034</td>\n",
       "    </tr>\n",
       "  </tbody>\n",
       "</table>\n"
      ]
     },
     "metadata": {},
     "output_type": "display_data"
    }
   ],
   "source": [
    "logerr = [Float64(log(norm(r - x[k]))) for k in 1:length(x)-1]\n",
    "ratios = [NaN; [logerr[i+1] / logerr[i] for i in 1:length(logerr)-1]]\n",
    "@pt :header=[\"iteration\", \"log error\", \"ratio\"] [eachindex(logerr) logerr ratios]"
   ]
  },
  {
   "cell_type": "markdown",
   "id": "27f787db",
   "metadata": {},
   "source": [
    "The ratio is neatly converging toward 2, which is expected for quadratic convergence."
   ]
  }
 ],
 "metadata": {
  "kernelspec": {
   "display_name": "Julia 1",
   "language": "julia",
   "name": "julia-1.11"
  },
  "language_info": {
   "file_extension": ".jl",
   "mimetype": "application/julia",
   "name": "julia",
   "version": "1.11.2"
  },
  "numbering": {
   "headings": false
  }
 },
 "nbformat": 4,
 "nbformat_minor": 5
}
