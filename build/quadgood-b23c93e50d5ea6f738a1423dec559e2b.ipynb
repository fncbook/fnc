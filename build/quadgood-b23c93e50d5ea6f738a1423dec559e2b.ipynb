{
 "cells": [
  {
   "cell_type": "code",
   "execution_count": 1,
   "id": "a8ccabd1",
   "metadata": {
    "execution": {
     "iopub.execute_input": "2025-01-11T18:52:23.159294Z",
     "iopub.status.busy": "2025-01-11T18:52:23.159197Z",
     "iopub.status.idle": "2025-01-11T18:52:23.161564Z",
     "shell.execute_reply": "2025-01-11T18:52:23.161235Z"
    },
    "tags": [
     "remove-cell"
    ]
   },
   "outputs": [],
   "source": [
    "cd  /Users/driscoll/Documents/GitHub/fnc/matlab\n",
    "FNC_init"
   ]
  },
  {
   "cell_type": "markdown",
   "id": "9664ebb2",
   "metadata": {},
   "source": [
    "[**Demo %s**](#demo-stability-quadgood)\n",
    "\n",
    "We repeat the rootfinding experiment of {numref}`Demo %s <demo-stability-quadbad>` with an alternative algorithm."
   ]
  },
  {
   "cell_type": "code",
   "execution_count": 2,
   "id": "eb4e0097",
   "metadata": {
    "execution": {
     "iopub.execute_input": "2025-01-11T18:52:23.163066Z",
     "iopub.status.busy": "2025-01-11T18:52:23.162989Z",
     "iopub.status.idle": "2025-01-11T18:52:23.164995Z",
     "shell.execute_reply": "2025-01-11T18:52:23.164560Z"
    }
   },
   "outputs": [],
   "source": [
    "a = 1;  b = -(1e6 + 1e-6);  c = 1;"
   ]
  },
  {
   "cell_type": "markdown",
   "id": "a36ef5c1",
   "metadata": {},
   "source": [
    "First, we find the \"good\" root using the quadratic formula."
   ]
  },
  {
   "cell_type": "code",
   "execution_count": 3,
   "id": "f54dc4b6",
   "metadata": {
    "execution": {
     "iopub.execute_input": "2025-01-11T18:52:23.166447Z",
     "iopub.status.busy": "2025-01-11T18:52:23.166357Z",
     "iopub.status.idle": "2025-01-11T18:52:23.168082Z",
     "shell.execute_reply": "2025-01-11T18:52:23.167806Z"
    }
   },
   "outputs": [],
   "source": [
    "x1 = (-b + sqrt(b^2 - 4*a*c)) / (2*a);"
   ]
  },
  {
   "cell_type": "markdown",
   "id": "6308e9a7",
   "metadata": {},
   "source": [
    "Then we use the identity $x_1x_2=\\frac{c}{a}$ to compute the smaller root:"
   ]
  },
  {
   "cell_type": "code",
   "execution_count": 4,
   "id": "ecb73e18",
   "metadata": {
    "execution": {
     "iopub.execute_input": "2025-01-11T18:52:23.170547Z",
     "iopub.status.busy": "2025-01-11T18:52:23.170449Z",
     "iopub.status.idle": "2025-01-11T18:52:23.172119Z",
     "shell.execute_reply": "2025-01-11T18:52:23.171810Z"
    }
   },
   "outputs": [
    {
     "data": {
      "text/html": [
       "<html><body><pre>x2 = 1.0000e-06</pre></body></html>"
      ],
      "text/plain": [
       "x2 = 1.0000e-06"
      ]
     },
     "execution_count": 4,
     "metadata": {},
     "output_type": "execute_result"
    }
   ],
   "source": [
    "x2 = c / (a*x1)"
   ]
  },
  {
   "cell_type": "markdown",
   "id": "67f1e6c5",
   "metadata": {},
   "source": [
    "This matches the exact root to the displayed digits; to be sure we have an accurate result, we compute its relative error."
   ]
  },
  {
   "cell_type": "code",
   "execution_count": 5,
   "id": "e6316ff6",
   "metadata": {
    "execution": {
     "iopub.execute_input": "2025-01-11T18:52:23.173644Z",
     "iopub.status.busy": "2025-01-11T18:52:23.173544Z",
     "iopub.status.idle": "2025-01-11T18:52:23.175401Z",
     "shell.execute_reply": "2025-01-11T18:52:23.175127Z"
    }
   },
   "outputs": [
    {
     "data": {
      "text/html": [
       "<html><body><pre>ans = 0</pre></body></html>"
      ],
      "text/plain": [
       "ans = 0"
      ]
     },
     "execution_count": 5,
     "metadata": {},
     "output_type": "execute_result"
    }
   ],
   "source": [
    "abs(x2 - 1e-6) / 1e-6"
   ]
  }
 ],
 "metadata": {
  "kernelspec": {
   "display_name": "MATLAB Kernel",
   "language": "matlab",
   "name": "jupyter_matlab_kernel"
  },
  "language_info": {
   "file_extension": ".m",
   "mimetype": "text/x-matlab",
   "name": "matlab"
  },
  "numbering": {
   "headings": false
  }
 },
 "nbformat": 4,
 "nbformat_minor": 5
}
