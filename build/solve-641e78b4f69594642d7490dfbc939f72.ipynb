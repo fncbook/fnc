{
 "cells": [
  {
   "cell_type": "code",
   "execution_count": 1,
   "id": "e81abbcd",
   "metadata": {
    "execution": {
     "iopub.execute_input": "2025-01-11T17:43:20.871021Z",
     "iopub.status.busy": "2025-01-11T17:43:20.870749Z",
     "iopub.status.idle": "2025-01-11T17:43:21.213721Z",
     "shell.execute_reply": "2025-01-11T17:43:21.213424Z"
    },
    "tags": [
     "remove-cell"
    ]
   },
   "outputs": [],
   "source": [
    "exec(open(\"../../../python/FNC_init.py\").read())"
   ]
  },
  {
   "cell_type": "markdown",
   "id": "156e548f",
   "metadata": {},
   "source": [
    "[**Demo %s**](#demo-lu-solve)\n",
    "\n",
    "Here are the data for a linear system $\\mathbf{A}\\mathbf{x}=\\mathbf{b}$."
   ]
  },
  {
   "cell_type": "code",
   "execution_count": 2,
   "id": "eb365903",
   "metadata": {
    "execution": {
     "iopub.execute_input": "2025-01-11T17:43:21.215356Z",
     "iopub.status.busy": "2025-01-11T17:43:21.215220Z",
     "iopub.status.idle": "2025-01-11T17:43:21.217271Z",
     "shell.execute_reply": "2025-01-11T17:43:21.217037Z"
    }
   },
   "outputs": [],
   "source": [
    "A = array([\n",
    "    [2, 0, 4, 3], \n",
    "    [-4, 5, -7, -10], \n",
    "    [1, 15, 2, -4.5],\n",
    "    [-2, 0, 2, -13]\n",
    "    ])\n",
    "b = array([4, 9, 9, 4])"
   ]
  },
  {
   "cell_type": "markdown",
   "id": "cc1951b4",
   "metadata": {},
   "source": [
    "We apply {numref}`Function {number} <function-lufact>` and then do two triangular solves."
   ]
  },
  {
   "cell_type": "code",
   "execution_count": 3,
   "id": "b031ae77",
   "metadata": {
    "execution": {
     "iopub.execute_input": "2025-01-11T17:43:21.218528Z",
     "iopub.status.busy": "2025-01-11T17:43:21.218452Z",
     "iopub.status.idle": "2025-01-11T17:43:21.220233Z",
     "shell.execute_reply": "2025-01-11T17:43:21.220007Z"
    }
   },
   "outputs": [],
   "source": [
    "L, U = FNC.lufact(A)\n",
    "z = FNC.forwardsub(L, b)\n",
    "x = FNC.backsub(U, z)"
   ]
  },
  {
   "cell_type": "markdown",
   "id": "f7ccefe9",
   "metadata": {},
   "source": [
    "A check on the residual assures us that we found the solution."
   ]
  },
  {
   "cell_type": "code",
   "execution_count": 4,
   "id": "80f79867",
   "metadata": {
    "execution": {
     "iopub.execute_input": "2025-01-11T17:43:21.221370Z",
     "iopub.status.busy": "2025-01-11T17:43:21.221284Z",
     "iopub.status.idle": "2025-01-11T17:43:21.224455Z",
     "shell.execute_reply": "2025-01-11T17:43:21.224227Z"
    }
   },
   "outputs": [
    {
     "data": {
      "text/plain": [
       "array([0.00000000e+00, 0.00000000e+00, 2.84217094e-14, 0.00000000e+00])"
      ]
     },
     "execution_count": 4,
     "metadata": {},
     "output_type": "execute_result"
    }
   ],
   "source": [
    "b - A @ x"
   ]
  }
 ],
 "metadata": {
  "kernelspec": {
   "display_name": "Python 3",
   "language": "python",
   "name": "python3"
  },
  "language_info": {
   "codemirror_mode": {
    "name": "ipython",
    "version": 3
   },
   "file_extension": ".py",
   "mimetype": "text/x-python",
   "name": "python",
   "nbconvert_exporter": "python",
   "pygments_lexer": "ipython3",
   "version": "3.13.0"
  },
  "numbering": {
   "headings": false
  }
 },
 "nbformat": 4,
 "nbformat_minor": 5
}
