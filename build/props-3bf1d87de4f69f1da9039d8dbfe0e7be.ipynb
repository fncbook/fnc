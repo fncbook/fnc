{
    "cells": [
        {
            "cell_type": "markdown",
            "source": [
                "[**Demo %s**](#demo-svd-props)\n",
                "\n",
                "We verify some of the fundamental SVD properties using standard Julia functions from `LinearAlgebra`."
            ],
            "id": "663cb055",
            "metadata": {}
        },
        {
            "outputs": [
                {
                    "output_type": "execute_result",
                    "data": {
                        "text/plain": [
                            "5×4 Matrix{Int64}:\n",
                            " 1  1   1    1\n",
                            " 1  2   4    8\n",
                            " 1  3   9   27\n",
                            " 1  4  16   64\n",
                            " 1  5  25  125"
                        ]
                    },
                    "metadata": {},
                    "execution_count": 2
                }
            ],
            "cell_type": "code",
            "source": [
                "A = [i^j for i in 1:5, j in 0:3]"
            ],
            "id": "ae983c92",
            "metadata": {
                "execution": {
                    "iopub.status.idle": "2025-01-14T16:05:25.491000Z",
                    "iopub.status.busy": "2025-01-14T16:04:57.979000Z",
                    "iopub.execute_input": "2025-01-14T16:05:00.835000Z",
                    "shell.execute_reply": "2025-01-14T16:05:25.469000Z"
                }
            },
            "execution_count": 2
        },
        {
            "cell_type": "markdown",
            "source": [
                "```{index} ! Julia; svdvals\n",
                "```\n",
                "\n",
                "\n",
                "To get only the singular values, use `svdvals`."
            ],
            "id": "17441af4",
            "metadata": {}
        },
        {
            "outputs": [
                {
                    "output_type": "execute_result",
                    "data": {
                        "text/plain": [
                            "4-element Vector{Float64}:\n",
                            " 146.69715365883005\n",
                            "   5.738569780953702\n",
                            "   0.9998486640841027\n",
                            "   0.11928082685241923"
                        ]
                    },
                    "metadata": {},
                    "execution_count": 3
                }
            ],
            "cell_type": "code",
            "source": [
                "σ = svdvals(A)"
            ],
            "id": "2ba27fba",
            "metadata": {
                "execution": {
                    "iopub.status.idle": "2025-01-14T16:05:30.239000Z",
                    "iopub.status.busy": "2025-01-14T16:05:25.624000Z",
                    "iopub.execute_input": "2025-01-14T16:05:25.626000Z",
                    "shell.execute_reply": "2025-01-14T16:05:30.228000Z"
                }
            },
            "execution_count": 3
        },
        {
            "cell_type": "markdown",
            "source": [
                "Here is verification of the connections between the singular values, norm, and condition number."
            ],
            "id": "ac5e32ef",
            "metadata": {}
        },
        {
            "outputs": [
                {
                    "name": "stdout",
                    "output_type": "stream",
                    "text": [
                        "opnorm(A, 2) = 146.69715365883005"
                    ]
                },
                {
                    "name": "stdout",
                    "output_type": "stream",
                    "text": [
                        "\n",
                        "σ[1] = 146.69715365883005\n"
                    ]
                }
            ],
            "cell_type": "code",
            "source": [
                "@show opnorm(A, 2);\n",
                "@show σ[1];"
            ],
            "id": "d7cdc44b",
            "metadata": {
                "execution": {
                    "iopub.status.idle": "2025-01-14T16:05:45.099000Z",
                    "iopub.status.busy": "2025-01-14T16:05:30.287000Z",
                    "iopub.execute_input": "2025-01-14T16:05:30.290000Z",
                    "shell.execute_reply": "2025-01-14T16:05:45.090000Z"
                }
            },
            "execution_count": 4
        },
        {
            "outputs": [
                {
                    "name": "stdout",
                    "output_type": "stream",
                    "text": [
                        "cond(A, 2) = 1229.846887633767"
                    ]
                },
                {
                    "name": "stdout",
                    "output_type": "stream",
                    "text": [
                        "\n",
                        "σ[1] / σ[end] = 1229.846887633767\n"
                    ]
                }
            ],
            "cell_type": "code",
            "source": [
                "@show cond(A, 2);\n",
                "@show σ[1] / σ[end];"
            ],
            "id": "a823e04e",
            "metadata": {
                "execution": {
                    "iopub.status.idle": "2025-01-14T16:05:46.960000Z",
                    "iopub.status.busy": "2025-01-14T16:05:45.157000Z",
                    "iopub.execute_input": "2025-01-14T16:05:45.158000Z",
                    "shell.execute_reply": "2025-01-14T16:05:46.930000Z"
                }
            },
            "execution_count": 5
        },
        {
            "cell_type": "markdown",
            "source": [
                "```{index} ! Julia; svd\n",
                "```\n",
                "\n",
                "To get singular vectors as well, use `svd`. The thin form of the factorization is the default."
            ],
            "id": "6d405659",
            "metadata": {}
        },
        {
            "outputs": [
                {
                    "name": "stdout",
                    "output_type": "stream",
                    "text": [
                        "size(U) = (5, 4)"
                    ]
                },
                {
                    "name": "stdout",
                    "output_type": "stream",
                    "text": [
                        "\n",
                        "size(V) = (4, 4)\n"
                    ]
                }
            ],
            "cell_type": "code",
            "source": [
                "U, σ, V = svd(A);\n",
                "@show size(U);\n",
                "@show size(V);"
            ],
            "id": "b855edfa",
            "metadata": {
                "execution": {
                    "iopub.status.idle": "2025-01-14T16:05:47.526000Z",
                    "iopub.status.busy": "2025-01-14T16:05:46.980000Z",
                    "iopub.execute_input": "2025-01-14T16:05:46.982000Z",
                    "shell.execute_reply": "2025-01-14T16:05:47.525000Z"
                }
            },
            "execution_count": 6
        },
        {
            "cell_type": "markdown",
            "source": [
                "We verify the orthogonality of the singular vectors as follows:"
            ],
            "id": "017868fb",
            "metadata": {}
        },
        {
            "outputs": [
                {
                    "name": "stdout",
                    "output_type": "stream",
                    "text": [
                        "opnorm(U' * U - I) = 4.947764483928556e-16"
                    ]
                },
                {
                    "name": "stdout",
                    "output_type": "stream",
                    "text": [
                        "\n",
                        "opnorm(V' * V - I) = "
                    ]
                },
                {
                    "name": "stdout",
                    "output_type": "stream",
                    "text": [
                        "7.570241024277813e-16\n"
                    ]
                }
            ],
            "cell_type": "code",
            "source": [
                "@show opnorm(U' * U - I);\n",
                "@show opnorm(V' * V - I);"
            ],
            "id": "b5d244c9",
            "metadata": {
                "execution": {
                    "iopub.status.idle": "2025-01-14T16:05:48.829000Z",
                    "iopub.status.busy": "2025-01-14T16:05:47.529000Z",
                    "iopub.execute_input": "2025-01-14T16:05:47.530000Z",
                    "shell.execute_reply": "2025-01-14T16:05:48.823000Z"
                }
            },
            "execution_count": 7
        }
    ],
    "nbformat_minor": 5,
    "metadata": {
        "language_info": {
            "file_extension": ".jl",
            "mimetype": "application/julia",
            "name": "julia",
            "version": "1.11.2"
        },
        "kernelspec": {
            "name": "julia-1.11",
            "display_name": "Julia 1",
            "language": "julia"
        },
        "numbering": {
            "headings": false
        }
    },
    "nbformat": 4
}
