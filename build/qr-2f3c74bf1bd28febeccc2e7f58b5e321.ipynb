{
 "cells": [
  {
   "cell_type": "code",
   "execution_count": 1,
   "id": "87ac02f9",
   "metadata": {
    "execution": {
     "iopub.execute_input": "2025-01-05T09:46:48.224000Z",
     "iopub.status.busy": "2025-01-05T09:46:47.908000Z",
     "iopub.status.idle": "2025-01-05T09:46:56.365000Z",
     "shell.execute_reply": "2025-01-05T09:46:56.278000Z"
    }
   },
   "outputs": [
    {
     "name": "stderr",
     "output_type": "stream",
     "text": [
      "\u001b[32m\u001b[1m  Activating\u001b[22m\u001b[39m "
     ]
    },
    {
     "name": "stderr",
     "output_type": "stream",
     "text": [
      "project at `~/Documents/GitHub/fnc`\n"
     ]
    }
   ],
   "source": [
    "include(\"../../../julia/FNC_init.jl\")"
   ]
  },
  {
   "cell_type": "markdown",
   "id": "b7bb907b",
   "metadata": {},
   "source": [
    "[**Demo %s**](#demo-house-qr)\n",
    "\n",
    "\n",
    "We will use Householder reflections to produce a QR factorization of a random matrix.\n",
    "```{tip}\n",
    ":class: dropdown\n",
    "The `rand` function can select randomly from within the interval $[0,1]$, or from a vector or range that you specify.\n",
    "```"
   ]
  },
  {
   "cell_type": "code",
   "execution_count": 2,
   "id": "32928012",
   "metadata": {
    "execution": {
     "iopub.execute_input": "2025-01-05T09:46:56.855000Z",
     "iopub.status.busy": "2025-01-05T09:46:56.368000Z",
     "iopub.status.idle": "2025-01-05T09:46:57.322000Z",
     "shell.execute_reply": "2025-01-05T09:46:57.322000Z"
    }
   },
   "outputs": [
    {
     "data": {
      "text/plain": [
       "(6, 4)"
      ]
     },
     "execution_count": 2,
     "metadata": {},
     "output_type": "execute_result"
    }
   ],
   "source": [
    "A = rand(float(1:9), 6, 4)\n",
    "m,n = size(A)"
   ]
  },
  {
   "cell_type": "markdown",
   "id": "a94128af",
   "metadata": {},
   "source": [
    "```{index} Julia; normalize, ! Julia; I\n",
    "```\n",
    "\n",
    "Our first step is to introduce zeros below the diagonal in column 1 by using {eq}`hhvector` and {eq}`hhreflect`. \n",
    ":::\n",
    "```{tip}\n",
    ":class: dropdown\n",
    "`I` can stand for an identity matrix of any size, inferred from the context when needed.\n",
    "```"
   ]
  },
  {
   "cell_type": "code",
   "execution_count": 3,
   "id": "f6664622",
   "metadata": {
    "execution": {
     "iopub.execute_input": "2025-01-05T09:46:57.325000Z",
     "iopub.status.busy": "2025-01-05T09:46:57.324000Z",
     "iopub.status.idle": "2025-01-05T09:46:59.454000Z",
     "shell.execute_reply": "2025-01-05T09:46:59.453000Z"
    }
   },
   "outputs": [
    {
     "data": {
      "text/plain": [
       "6×6 Matrix{Float64}:\n",
       " 0.395628   0.395628   0.593442   0.395628   0.263752   0.32969\n",
       " 0.395628   0.741017  -0.388474  -0.258983  -0.172655  -0.215819\n",
       " 0.593442  -0.388474   0.417289  -0.388474  -0.258983  -0.323728\n",
       " 0.395628  -0.258983  -0.388474   0.741017  -0.172655  -0.215819\n",
       " 0.263752  -0.172655  -0.258983  -0.172655   0.884897  -0.143879\n",
       " 0.32969   -0.215819  -0.323728  -0.215819  -0.143879   0.820151"
      ]
     },
     "execution_count": 3,
     "metadata": {},
     "output_type": "execute_result"
    }
   ],
   "source": [
    "z = A[:, 1];\n",
    "v = normalize(z - norm(z) * [1; zeros(m-1)])\n",
    "P₁ = I - 2v * v'   # reflector"
   ]
  },
  {
   "cell_type": "markdown",
   "id": "a1bceb9f",
   "metadata": {},
   "source": [
    "We check that this reflector introduces zeros as it should:"
   ]
  },
  {
   "cell_type": "code",
   "execution_count": 4,
   "id": "e6e46072",
   "metadata": {
    "execution": {
     "iopub.execute_input": "2025-01-05T09:46:59.472000Z",
     "iopub.status.busy": "2025-01-05T09:46:59.471000Z",
     "iopub.status.idle": "2025-01-05T09:46:59.730000Z",
     "shell.execute_reply": "2025-01-05T09:46:59.729000Z"
    }
   },
   "outputs": [
    {
     "data": {
      "text/plain": [
       "6-element Vector{Float64}:\n",
       " 15.165750888103098\n",
       "  1.4988010832439613e-15\n",
       "  2.942091015256665e-15\n",
       "  1.4988010832439613e-15\n",
       "  6.106226635438361e-16\n",
       "  1.3322676295501878e-15"
      ]
     },
     "execution_count": 4,
     "metadata": {},
     "output_type": "execute_result"
    }
   ],
   "source": [
    "P₁ * z"
   ]
  },
  {
   "cell_type": "markdown",
   "id": "58a9fc7b",
   "metadata": {},
   "source": [
    "Now we replace $\\mathbf{A}$ by $\\mathbf{P}\\mathbf{A}$."
   ]
  },
  {
   "cell_type": "code",
   "execution_count": 5,
   "id": "a48ffdb4",
   "metadata": {
    "execution": {
     "iopub.execute_input": "2025-01-05T09:46:59.734000Z",
     "iopub.status.busy": "2025-01-05T09:46:59.734000Z",
     "iopub.status.idle": "2025-01-05T09:46:59.740000Z",
     "shell.execute_reply": "2025-01-05T09:46:59.740000Z"
    }
   },
   "outputs": [
    {
     "data": {
      "text/plain": [
       "6×4 Matrix{Float64}:\n",
       " 15.1658       13.5832    11.4073   13.0557\n",
       "  1.4988e-15   -0.237124  -2.15811   5.69046\n",
       "  2.94209e-15  -3.35569   -1.23716  -2.96431\n",
       "  1.4988e-15   -1.23712   -2.15811  -1.30954\n",
       "  6.10623e-16  -4.49142    4.89459   6.79364\n",
       "  1.33227e-15  -1.86427   -4.13176   3.24205"
      ]
     },
     "execution_count": 5,
     "metadata": {},
     "output_type": "execute_result"
    }
   ],
   "source": [
    "A = P₁ * A"
   ]
  },
  {
   "cell_type": "markdown",
   "id": "9d67493d",
   "metadata": {},
   "source": [
    "We are set to put zeros into column 2. We must not use row 1 in any way, lest it destroy the zeros we just introduced. So we leave it out of the next reflector."
   ]
  },
  {
   "cell_type": "code",
   "execution_count": 6,
   "id": "a6965ff8",
   "metadata": {
    "execution": {
     "iopub.execute_input": "2025-01-05T09:46:59.741000Z",
     "iopub.status.busy": "2025-01-05T09:46:59.741000Z",
     "iopub.status.idle": "2025-01-05T09:46:59.758000Z",
     "shell.execute_reply": "2025-01-05T09:46:59.758000Z"
    }
   },
   "outputs": [
    {
     "data": {
      "text/plain": [
       "5×5 Matrix{Float64}:\n",
       " -0.0392514  -0.55547   -0.204782   -0.743469  -0.308595\n",
       " -0.55547     0.703106  -0.109454   -0.397377  -0.164941\n",
       " -0.204782   -0.109454   0.959648   -0.146499  -0.0608079\n",
       " -0.743469   -0.397377  -0.146499    0.468131  -0.220765\n",
       " -0.308595   -0.164941  -0.0608079  -0.220765   0.908366"
      ]
     },
     "execution_count": 6,
     "metadata": {},
     "output_type": "execute_result"
    }
   ],
   "source": [
    "z = A[2:m, 2]\n",
    "v = normalize(z - norm(z) * [1; zeros(m-2)])\n",
    "P₂ = I - 2v * v'"
   ]
  },
  {
   "cell_type": "markdown",
   "id": "75f7cd15",
   "metadata": {},
   "source": [
    "We now apply this reflector to rows 2 and below only."
   ]
  },
  {
   "cell_type": "code",
   "execution_count": 7,
   "id": "dfab8714",
   "metadata": {
    "execution": {
     "iopub.execute_input": "2025-01-05T09:46:59.760000Z",
     "iopub.status.busy": "2025-01-05T09:46:59.760000Z",
     "iopub.status.idle": "2025-01-05T09:46:59.772000Z",
     "shell.execute_reply": "2025-01-05T09:46:59.772000Z"
    }
   },
   "outputs": [
    {
     "data": {
      "text/plain": [
       "6×4 Matrix{Float64}:\n",
       " 15.1658       13.5832       11.4073    13.0557\n",
       " -2.86511e-15   6.04116      -1.15008   -4.35994\n",
       "  6.0962e-16    7.83721e-16  -0.698382  -8.33616\n",
       "  6.38901e-16   2.45104e-16  -1.95948   -3.28995\n",
       " -2.51127e-15   1.07526e-15   5.61573   -0.396306\n",
       "  3.64507e-17   4.14496e-16  -3.83243    0.257692"
      ]
     },
     "execution_count": 7,
     "metadata": {},
     "output_type": "execute_result"
    }
   ],
   "source": [
    "A[2:m, :] = P₂ * A[2:m, :]\n",
    "A"
   ]
  },
  {
   "cell_type": "markdown",
   "id": "d83342ac",
   "metadata": {},
   "source": [
    "We need to iterate the process for the last two columns."
   ]
  },
  {
   "cell_type": "code",
   "execution_count": 8,
   "id": "ade73267",
   "metadata": {
    "execution": {
     "iopub.execute_input": "2025-01-05T09:46:59.774000Z",
     "iopub.status.busy": "2025-01-05T09:46:59.774000Z",
     "iopub.status.idle": "2025-01-05T09:46:59.794000Z",
     "shell.execute_reply": "2025-01-05T09:46:59.794000Z"
    }
   },
   "outputs": [],
   "source": [
    "for j in 3:n\n",
    "    z = A[j:m, j]\n",
    "    v = normalize(z - norm(z) * [1; zeros(m-j)])\n",
    "    P = I - 2v * v'\n",
    "    A[j:m, :] = P * A[j:m, :]\n",
    "end"
   ]
  },
  {
   "cell_type": "markdown",
   "id": "eb5d1e26",
   "metadata": {},
   "source": [
    "We have now reduced the original to an upper triangular matrix using four orthogonal Householder reflections:"
   ]
  },
  {
   "cell_type": "code",
   "execution_count": 9,
   "id": "166365ec",
   "metadata": {
    "execution": {
     "iopub.execute_input": "2025-01-05T09:46:59.795000Z",
     "iopub.status.busy": "2025-01-05T09:46:59.795000Z",
     "iopub.status.idle": "2025-01-05T09:46:59.797000Z",
     "shell.execute_reply": "2025-01-05T09:46:59.796000Z"
    }
   },
   "outputs": [
    {
     "data": {
      "text/plain": [
       "6×4 Matrix{Float64}:\n",
       " 15.1658  13.5832   11.4073   13.0557\n",
       "  0.0      6.04116  -1.15008  -4.35994\n",
       "  0.0      0.0       7.10994   1.27361\n",
       "  0.0      0.0       0.0       8.8835\n",
       "  0.0      0.0       0.0       0.0\n",
       "  0.0      0.0       0.0       0.0"
      ]
     },
     "execution_count": 9,
     "metadata": {},
     "output_type": "execute_result"
    }
   ],
   "source": [
    "R = triu(A)"
   ]
  }
 ],
 "metadata": {
  "kernelspec": {
   "display_name": "Julia 1",
   "language": "julia",
   "name": "julia-1.11"
  },
  "language_info": {
   "file_extension": ".jl",
   "mimetype": "application/julia",
   "name": "julia",
   "version": "1.11.2"
  },
  "numbering": {
   "headings": false
  }
 },
 "nbformat": 4,
 "nbformat_minor": 5
}
