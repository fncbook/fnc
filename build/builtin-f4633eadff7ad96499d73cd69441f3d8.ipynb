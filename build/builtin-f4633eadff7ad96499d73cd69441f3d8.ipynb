{
 "cells": [
  {
   "cell_type": "code",
   "execution_count": 1,
   "id": "28765135",
   "metadata": {
    "execution": {
     "iopub.execute_input": "2025-01-11T17:43:38.837957Z",
     "iopub.status.busy": "2025-01-11T17:43:38.837824Z",
     "iopub.status.idle": "2025-01-11T17:43:39.165661Z",
     "shell.execute_reply": "2025-01-11T17:43:39.165402Z"
    },
    "tags": [
     "remove-cell"
    ]
   },
   "outputs": [],
   "source": [
    "exec(open(\"../../../python/FNC_init.py\").read())"
   ]
  },
  {
   "cell_type": "markdown",
   "id": "8daa4a99",
   "metadata": {},
   "source": [
    "[**Demo %s**](#demo-pivoting-builtin)\n",
    "\n",
    "In `linalg.solve`, the matrix `A` is PLU-factored, followed by two triangular solves. If we want to do those steps seamlessly, we can use the `lu_factor` and `lu_solve` from `scipy.linalg`."
   ]
  },
  {
   "cell_type": "code",
   "execution_count": 2,
   "id": "9ac06d51",
   "metadata": {
    "execution": {
     "iopub.execute_input": "2025-01-11T17:43:39.167080Z",
     "iopub.status.busy": "2025-01-11T17:43:39.166950Z",
     "iopub.status.idle": "2025-01-11T17:43:39.175263Z",
     "shell.execute_reply": "2025-01-11T17:43:39.175029Z"
    }
   },
   "outputs": [],
   "source": [
    "from scipy.linalg import lu_factor, lu_solve\n",
    "A = random.randn(500, 500) \n",
    "b = ones(500)  \n",
    "LU, perm = lu_factor(A)\n",
    "x = lu_solve((LU, perm), b)"
   ]
  },
  {
   "cell_type": "markdown",
   "id": "0fa3deb2",
   "metadata": {},
   "source": [
    "Why would we ever bother with this? In {numref}`section-linsys-efficiency` we showed that the factorization is by far the most costly part of the solution process. A factorization object allows us to do that costly step only once per matrix, but solve with multiple right-hand sides."
   ]
  },
  {
   "cell_type": "code",
   "execution_count": 3,
   "id": "afd7da88",
   "metadata": {
    "execution": {
     "iopub.execute_input": "2025-01-11T17:43:39.176523Z",
     "iopub.status.busy": "2025-01-11T17:43:39.176432Z",
     "iopub.status.idle": "2025-01-11T17:43:39.251308Z",
     "shell.execute_reply": "2025-01-11T17:43:39.251048Z"
    }
   },
   "outputs": [
    {
     "name": "stdout",
     "output_type": "stream",
     "text": [
      "elapsed time for 50 full solves: 0.06624250000004395\n",
      "elapsed time for 50 shortcut solves: 0.0065611250001893495\n"
     ]
    }
   ],
   "source": [
    "start = timer()\n",
    "for k in range(50): linalg.solve(A, random.rand(500))\n",
    "print(f\"elapsed time for 50 full solves: {timer() - start}\")\n",
    "\n",
    "start = timer()\n",
    "LU, perm = lu_factor(A)\n",
    "for k in range(50): lu_solve((LU, perm), random.rand(500))\n",
    "print(f\"elapsed time for 50 shortcut solves: {timer() - start}\")"
   ]
  }
 ],
 "metadata": {
  "kernelspec": {
   "display_name": "Python 3",
   "language": "python",
   "name": "python3"
  },
  "language_info": {
   "codemirror_mode": {
    "name": "ipython",
    "version": 3
   },
   "file_extension": ".py",
   "mimetype": "text/x-python",
   "name": "python",
   "nbconvert_exporter": "python",
   "pygments_lexer": "ipython3",
   "version": "3.13.0"
  },
  "numbering": {
   "headings": false
  }
 },
 "nbformat": 4,
 "nbformat_minor": 5
}
