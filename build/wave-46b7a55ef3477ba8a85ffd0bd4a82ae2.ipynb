{
    "cells": [
        {
            "cell_type": "markdown",
            "source": [
                "[**Demo %s**](#demo-diffadv-wave)\n",
                "\n",
                "We start with the discretization and initial condition."
            ],
            "id": "cf0cbf69",
            "metadata": {}
        },
        {
            "outputs": [],
            "cell_type": "code",
            "source": [
                "m, n = 40, 40\n",
                "x, Dx, Dxx = FNC.diffcheb(m, [-2, 2])\n",
                "y, Dy, Dyy = FNC.diffcheb(n, [-2, 2])\n",
                "mtx, X, Y, _ = FNC.tensorgrid(x, y)\n",
                "U₀ = mtx( (x, y) -> (x + 0.2) * exp(-12 * (x^2 + y^2)) )\n",
                "V₀ = zeros(size(U₀));"
            ],
            "id": "46345469",
            "metadata": {
                "execution": {
                    "iopub.status.idle": "2025-01-14T15:38:45.960000Z",
                    "iopub.status.busy": "2025-01-14T15:38:31.961000Z",
                    "iopub.execute_input": "2025-01-14T15:38:34.313000Z",
                    "shell.execute_reply": "2025-01-14T15:38:45.949000Z"
                }
            },
            "execution_count": 2
        },
        {
            "cell_type": "markdown",
            "source": [
                "Note that because $u$ is known on the boundary, while $v$ is unknown over the full grid, there are two different sizes of vec/unvec operations. We also need to define functions to pack grid unknowns into a vector and to unpack them. When the unknowns for $u$ are packed, the boundary values are chopped off, and these are restored when unpacking."
            ],
            "id": "6f8efbe7",
            "metadata": {}
        },
        {
            "outputs": [
                {
                    "output_type": "execute_result",
                    "data": {
                        "text/plain": [
                            "#13 (generic function with 1 method)"
                        ]
                    },
                    "metadata": {},
                    "execution_count": 3
                }
            ],
            "cell_type": "code",
            "source": [
                "_, _, _, unvec_v, _ = FNC.tensorgrid(x, y)\n",
                "_, _, _, unvec_u, _ = FNC.tensorgrid(x[2:m], y[2:n])\n",
                "chop = U -> U[2:m, 2:n]\n",
                "extend = U -> [zeros(m+1) [zeros(1, n-1); U; zeros(1, n-1)] zeros(m+1)]\n",
                "pack = (U, V) -> [vec(chop(U)); vec(V)]\n",
                "N = (m-1) * (n-1)    # number of interior unknowns\n",
                "unpack = w -> ( extend(unvec_u(w[1:N])), unvec_v(w[N+1:end]) )"
            ],
            "id": "22e89174",
            "metadata": {
                "execution": {
                    "iopub.status.idle": "2025-01-14T15:38:50.303000Z",
                    "iopub.status.busy": "2025-01-14T15:38:45.993000Z",
                    "iopub.execute_input": "2025-01-14T15:38:45.993000Z",
                    "shell.execute_reply": "2025-01-14T15:38:50.300000Z"
                }
            },
            "execution_count": 3
        },
        {
            "cell_type": "markdown",
            "source": [
                "We can now define and solve the IVP. Since this problem is hyperbolic, not parabolic, a nonstiff integrator is faster than a stiff one."
            ],
            "id": "8664001d",
            "metadata": {}
        },
        {
            "outputs": [
                {
                    "output_type": "execute_result",
                    "data": {
                        "text/plain": [
                            "#15 (generic function with 1 method)"
                        ]
                    },
                    "metadata": {},
                    "execution_count": 4
                }
            ],
            "cell_type": "code",
            "source": [
                "using OrdinaryDiffEq\n",
                "function dw_dt(w, c, t)\n",
                "    U, V = unpack(w)\n",
                "    du_dt = V\n",
                "    dv_dt = c^2 * (Dxx * U + U * Dyy')\n",
                "    return pack(du_dt, dv_dt)\n",
                "end\n",
                "\n",
                "IVP = ODEProblem(dw_dt, pack(U₀, V₀), (0, 4.0), 1)\n",
                "sol = solve(IVP, Tsit5())\n",
                "U = t -> unpack(sol(t))[1]"
            ],
            "id": "40c03ffe",
            "metadata": {
                "execution": {
                    "iopub.status.idle": "2025-01-14T15:39:23.424000Z",
                    "iopub.status.busy": "2025-01-14T15:38:50.348000Z",
                    "iopub.execute_input": "2025-01-14T15:38:50.354000Z",
                    "shell.execute_reply": "2025-01-14T15:39:23.422000Z"
                }
            },
            "execution_count": 4
        },
        {
            "outputs": [
                {
                    "name": "stderr",
                    "output_type": "stream",
                    "text": [
                        "\u001b[36m\u001b[1m[ \u001b[22m\u001b[39m\u001b[36m\u001b[1mInfo: \u001b[22m\u001b[39mSaved animation to /Users/driscoll/Dropbox/Mac/Documents/GitHub/fnc-notebooks/chapter13/section2/julia/wave-2d.mp4\n"
                    ]
                }
            ],
            "cell_type": "code",
            "source": [
                "anim = @animate for t in 0:4/100:4\n",
                "    Ut = U(t)\n",
                "    surface(x, y, Ut';\n",
                "        layout=(1, 2), size=(640, 320),\n",
                "        xlabel=L\"x\",  ylabel=L\"y\",  zaxis=((-0.1, 0.1), L\"u(x,y)\"),\n",
                "        color=:redsblues,  alpha=0.66,  clims=(-0.1, 0.1), colorbar=:none,\n",
                "        title=\"Wave equation\",  dpi=150)\n",
                "    contour!(x, y, Ut'; \n",
                "        levels=24,  subplot=2, \n",
                "        aspect_ratio=1,\n",
                "        xlabel=L\"x\",  ylabel=L\"y\",\n",
                "        color=:redsblues,  clims=(-0.1, 0.1), \n",
                "        colorbar=:none,  title=@sprintf(\"t = %.2f\", t))\n",
                "end\n",
                "closeall();\n",
                "mp4(anim, \"wave-2d.mp4\");"
            ],
            "id": "588c78cf",
            "metadata": {
                "execution": {
                    "iopub.status.idle": "2025-01-14T15:44:54.218000Z",
                    "iopub.status.busy": "2025-01-14T15:39:23.460000Z",
                    "iopub.execute_input": "2025-01-14T15:39:23.460000Z",
                    "shell.execute_reply": "2025-01-14T15:44:54.217000Z"
                }
            },
            "execution_count": 5
        }
    ],
    "nbformat_minor": 5,
    "metadata": {
        "language_info": {
            "file_extension": ".jl",
            "mimetype": "application/julia",
            "name": "julia",
            "version": "1.11.2"
        },
        "kernelspec": {
            "name": "julia-1.11",
            "display_name": "Julia 1.11.2",
            "language": "julia"
        },
        "numbering": {
            "headings": false
        }
    },
    "nbformat": 4
}
