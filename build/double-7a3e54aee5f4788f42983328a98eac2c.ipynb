{
 "cells": [
  {
   "cell_type": "code",
   "execution_count": 1,
   "id": "ca9bc95b",
   "metadata": {
    "execution": {
     "iopub.execute_input": "2025-01-11T17:56:51.908834Z",
     "iopub.status.busy": "2025-01-11T17:56:51.908707Z",
     "iopub.status.idle": "2025-01-11T17:56:52.215549Z",
     "shell.execute_reply": "2025-01-11T17:56:52.215191Z"
    },
    "tags": [
     "remove-cell"
    ]
   },
   "outputs": [],
   "source": [
    "exec(open(\"../../../python/FNC_init.py\").read())"
   ]
  },
  {
   "cell_type": "markdown",
   "id": "01d3ec05",
   "metadata": {},
   "source": [
    "[**Demo %s**](#demo-float-double)\n",
    "\n",
    "\n",
    "Python has native `int` and `float` types."
   ]
  },
  {
   "cell_type": "code",
   "execution_count": 2,
   "id": "82183694",
   "metadata": {
    "execution": {
     "iopub.execute_input": "2025-01-11T17:56:52.217132Z",
     "iopub.status.busy": "2025-01-11T17:56:52.216999Z",
     "iopub.status.idle": "2025-01-11T17:56:52.219093Z",
     "shell.execute_reply": "2025-01-11T17:56:52.218822Z"
    }
   },
   "outputs": [
    {
     "name": "stdout",
     "output_type": "stream",
     "text": [
      "The type of 1 is <class 'int'>\n",
      "The type of 1.0 is <class 'float'>\n"
     ]
    }
   ],
   "source": [
    "print(f\"The type of {1} is {type(1)}\")\n",
    "print(f\"The type of {float(1)} is {type(1.0)}\")"
   ]
  },
  {
   "cell_type": "markdown",
   "id": "657db8e2",
   "metadata": {},
   "source": [
    "The `numpy` package has its own `float` types:"
   ]
  },
  {
   "cell_type": "code",
   "execution_count": 3,
   "id": "833aa2c6",
   "metadata": {
    "execution": {
     "iopub.execute_input": "2025-01-11T17:56:52.220239Z",
     "iopub.status.busy": "2025-01-11T17:56:52.220165Z",
     "iopub.status.idle": "2025-01-11T17:56:52.221981Z",
     "shell.execute_reply": "2025-01-11T17:56:52.221737Z"
    }
   },
   "outputs": [
    {
     "name": "stdout",
     "output_type": "stream",
     "text": [
      "The type of 1.0 is <class 'numpy.float64'>\n"
     ]
    }
   ],
   "source": [
    "one = float64(1)\n",
    "print(f\"The type of {one} is {type(one)}\")"
   ]
  },
  {
   "cell_type": "markdown",
   "id": "0d96e322",
   "metadata": {},
   "source": [
    "Both `float` and `float64` are double precision, using 64 binary bits per value. Although it is not normally necessary to do so, we can deconstruct a float into its significand and exponent:"
   ]
  },
  {
   "cell_type": "code",
   "execution_count": 4,
   "id": "6a39f261",
   "metadata": {
    "execution": {
     "iopub.execute_input": "2025-01-11T17:56:52.223184Z",
     "iopub.status.busy": "2025-01-11T17:56:52.223107Z",
     "iopub.status.idle": "2025-01-11T17:56:52.224861Z",
     "shell.execute_reply": "2025-01-11T17:56:52.224620Z"
    }
   },
   "outputs": [
    {
     "name": "stdout",
     "output_type": "stream",
     "text": [
      "significand: 1.57, exponent: 1\n"
     ]
    }
   ],
   "source": [
    "x = 3.14\n",
    "mantissa, exponent = frexp(x)\n",
    "print(f\"significand: {mantissa * 2}, exponent: {exponent - 1}\")"
   ]
  },
  {
   "cell_type": "code",
   "execution_count": 5,
   "id": "5021e32b",
   "metadata": {
    "execution": {
     "iopub.execute_input": "2025-01-11T17:56:52.225874Z",
     "iopub.status.busy": "2025-01-11T17:56:52.225798Z",
     "iopub.status.idle": "2025-01-11T17:56:52.227586Z",
     "shell.execute_reply": "2025-01-11T17:56:52.227249Z"
    }
   },
   "outputs": [
    {
     "name": "stdout",
     "output_type": "stream",
     "text": [
      "significand: 1.57, exponent: -2\n"
     ]
    }
   ],
   "source": [
    "mantissa, exponent = frexp(x / 8)\n",
    "print(f\"significand: {mantissa * 2}, exponent: {exponent - 1}\")"
   ]
  },
  {
   "cell_type": "markdown",
   "id": "0c17e46a",
   "metadata": {},
   "source": [
    "The spacing between floating-point values in $[2^n,2^{n+1})$ is $2^n \\epsilon_\\text{mach}$, where $\\epsilon_\\text{mach}$ is machine epsilon, given here for double precision:"
   ]
  },
  {
   "cell_type": "code",
   "execution_count": 6,
   "id": "ee9516d5",
   "metadata": {
    "execution": {
     "iopub.execute_input": "2025-01-11T17:56:52.228746Z",
     "iopub.status.busy": "2025-01-11T17:56:52.228665Z",
     "iopub.status.idle": "2025-01-11T17:56:52.230285Z",
     "shell.execute_reply": "2025-01-11T17:56:52.230063Z"
    }
   },
   "outputs": [
    {
     "name": "stdout",
     "output_type": "stream",
     "text": [
      "machine epsilon is 2.2204e-16\n"
     ]
    }
   ],
   "source": [
    "mach_eps = finfo(float).eps\n",
    "print(f\"machine epsilon is {mach_eps:.4e}\")"
   ]
  },
  {
   "cell_type": "markdown",
   "id": "da2e532d",
   "metadata": {},
   "source": [
    "Because double precision allocates 52 bits to the significand, the default value of machine epsilon is $2^{-52}$."
   ]
  },
  {
   "cell_type": "code",
   "execution_count": 7,
   "id": "8b8508ed",
   "metadata": {
    "execution": {
     "iopub.execute_input": "2025-01-11T17:56:52.231407Z",
     "iopub.status.busy": "2025-01-11T17:56:52.231312Z",
     "iopub.status.idle": "2025-01-11T17:56:52.232900Z",
     "shell.execute_reply": "2025-01-11T17:56:52.232655Z"
    }
   },
   "outputs": [
    {
     "name": "stdout",
     "output_type": "stream",
     "text": [
      "machine epsilon is 2 to the power -52.0\n"
     ]
    }
   ],
   "source": [
    "print(f\"machine epsilon is 2 to the power {log2(mach_eps)}\")"
   ]
  },
  {
   "cell_type": "markdown",
   "id": "66733591",
   "metadata": {},
   "source": [
    "A common mistake is to think that $\\epsilon_\\text{mach}$ is the smallest floating-point number. It's only the smallest *relative to 1*. The correct perspective is that the scaling of values is limited by the exponent, not the significand. The actual range of positive values in double precision is"
   ]
  },
  {
   "cell_type": "code",
   "execution_count": 8,
   "id": "037bdd98",
   "metadata": {
    "execution": {
     "iopub.execute_input": "2025-01-11T17:56:52.234285Z",
     "iopub.status.busy": "2025-01-11T17:56:52.234192Z",
     "iopub.status.idle": "2025-01-11T17:56:52.236007Z",
     "shell.execute_reply": "2025-01-11T17:56:52.235755Z"
    }
   },
   "outputs": [
    {
     "name": "stdout",
     "output_type": "stream",
     "text": [
      "range of positive values: [2.2250738585072014e-308, 1.7976931348623157e+308]\n"
     ]
    }
   ],
   "source": [
    "finf = finfo(float)\n",
    "print(f\"range of positive values: [{finf.tiny}, {finf.max}]\")"
   ]
  },
  {
   "cell_type": "markdown",
   "id": "fe62addf",
   "metadata": {},
   "source": [
    "For the most part you can mix integers and floating-point values and get what you expect."
   ]
  },
  {
   "cell_type": "code",
   "execution_count": 9,
   "id": "9bdb69e2",
   "metadata": {
    "execution": {
     "iopub.execute_input": "2025-01-11T17:56:52.237235Z",
     "iopub.status.busy": "2025-01-11T17:56:52.237158Z",
     "iopub.status.idle": "2025-01-11T17:56:52.239963Z",
     "shell.execute_reply": "2025-01-11T17:56:52.239721Z"
    }
   },
   "outputs": [
    {
     "data": {
      "text/plain": [
       "0.14285714285714285"
      ]
     },
     "execution_count": 9,
     "metadata": {},
     "output_type": "execute_result"
    }
   ],
   "source": [
    "1/7"
   ]
  },
  {
   "cell_type": "code",
   "execution_count": 10,
   "id": "d4797d85",
   "metadata": {
    "execution": {
     "iopub.execute_input": "2025-01-11T17:56:52.241180Z",
     "iopub.status.busy": "2025-01-11T17:56:52.241108Z",
     "iopub.status.idle": "2025-01-11T17:56:52.243104Z",
     "shell.execute_reply": "2025-01-11T17:56:52.242869Z"
    }
   },
   "outputs": [
    {
     "data": {
      "text/plain": [
       "38.3"
      ]
     },
     "execution_count": 10,
     "metadata": {},
     "output_type": "execute_result"
    }
   ],
   "source": [
    "37.3 + 1"
   ]
  },
  {
   "cell_type": "code",
   "execution_count": 11,
   "id": "38e01f39",
   "metadata": {
    "execution": {
     "iopub.execute_input": "2025-01-11T17:56:52.244100Z",
     "iopub.status.busy": "2025-01-11T17:56:52.244019Z",
     "iopub.status.idle": "2025-01-11T17:56:52.245894Z",
     "shell.execute_reply": "2025-01-11T17:56:52.245664Z"
    }
   },
   "outputs": [
    {
     "data": {
      "text/plain": [
       "0.0625"
      ]
     },
     "execution_count": 11,
     "metadata": {},
     "output_type": "execute_result"
    }
   ],
   "source": [
    "2**(-4)"
   ]
  },
  {
   "cell_type": "markdown",
   "id": "a20e31c0",
   "metadata": {},
   "source": [
    "You can convert a floating value to an integer by wrapping it in `int`."
   ]
  },
  {
   "cell_type": "code",
   "execution_count": 12,
   "id": "bd6ce2bb",
   "metadata": {
    "execution": {
     "iopub.execute_input": "2025-01-11T17:56:52.247211Z",
     "iopub.status.busy": "2025-01-11T17:56:52.247115Z",
     "iopub.status.idle": "2025-01-11T17:56:52.249213Z",
     "shell.execute_reply": "2025-01-11T17:56:52.248969Z"
    }
   },
   "outputs": [
    {
     "data": {
      "text/plain": [
       "3"
      ]
     },
     "execution_count": 12,
     "metadata": {},
     "output_type": "execute_result"
    }
   ],
   "source": [
    "int(3.14)"
   ]
  }
 ],
 "metadata": {
  "kernelspec": {
   "display_name": "Python 3",
   "language": "python",
   "name": "python3"
  },
  "language_info": {
   "codemirror_mode": {
    "name": "ipython",
    "version": 3
   },
   "file_extension": ".py",
   "mimetype": "text/x-python",
   "name": "python",
   "nbconvert_exporter": "python",
   "pygments_lexer": "ipython3",
   "version": "3.13.0"
  },
  "numbering": {
   "headings": false
  }
 },
 "nbformat": 4,
 "nbformat_minor": 5
}
