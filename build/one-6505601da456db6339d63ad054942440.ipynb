{
 "cells": [
  {
   "cell_type": "code",
   "execution_count": 1,
   "id": "a2cba6b7",
   "metadata": {
    "execution": {
     "iopub.execute_input": "2025-01-11T16:22:16.368414Z",
     "iopub.status.busy": "2025-01-11T16:22:16.368305Z",
     "iopub.status.idle": "2025-01-11T16:22:16.698791Z",
     "shell.execute_reply": "2025-01-11T16:22:16.698490Z"
    },
    "tags": [
     "remove-cell"
    ]
   },
   "outputs": [],
   "source": [
    "exec(open(\"../../../python/FNC_init.py\").read())"
   ]
  },
  {
   "cell_type": "markdown",
   "id": "3313ac45",
   "metadata": {},
   "source": [
    "[**Demo %s**](#demo-power-one)\n",
    "\n",
    "Here we choose a random 5×5 matrix and a random 5-vector."
   ]
  },
  {
   "cell_type": "code",
   "execution_count": 2,
   "id": "7a1019fa",
   "metadata": {
    "execution": {
     "iopub.execute_input": "2025-01-11T16:22:16.700291Z",
     "iopub.status.busy": "2025-01-11T16:22:16.700168Z",
     "iopub.status.idle": "2025-01-11T16:22:16.704170Z",
     "shell.execute_reply": "2025-01-11T16:22:16.703835Z"
    }
   },
   "outputs": [
    {
     "name": "stdout",
     "output_type": "stream",
     "text": [
      "[ 0.02377918 -1.00445161  1.33463798  0.2323171  -0.30541583]\n"
     ]
    }
   ],
   "source": [
    "A = random.choice(range(10), (5, 5))\n",
    "A = A / sum(A, 0)\n",
    "x = random.randn(5)\n",
    "print(x)"
   ]
  },
  {
   "cell_type": "markdown",
   "id": "a88cf2e6",
   "metadata": {},
   "source": [
    "Applying matrix-vector multiplication once doesn't do anything recognizable."
   ]
  },
  {
   "cell_type": "code",
   "execution_count": 3,
   "id": "39e7fefc",
   "metadata": {
    "execution": {
     "iopub.execute_input": "2025-01-11T16:22:16.707496Z",
     "iopub.status.busy": "2025-01-11T16:22:16.707394Z",
     "iopub.status.idle": "2025-01-11T16:22:16.709074Z",
     "shell.execute_reply": "2025-01-11T16:22:16.708818Z"
    }
   },
   "outputs": [
    {
     "name": "stdout",
     "output_type": "stream",
     "text": [
      "[-0.02715894 -0.08859989  0.35965201  0.16874319 -0.13176955]\n"
     ]
    }
   ],
   "source": [
    "y = A @ x\n",
    "print(y)"
   ]
  },
  {
   "cell_type": "markdown",
   "id": "e546c15b",
   "metadata": {},
   "source": [
    "Repeating the multiplication still doesn't do anything obvious."
   ]
  },
  {
   "cell_type": "code",
   "execution_count": 4,
   "id": "df29addd",
   "metadata": {
    "execution": {
     "iopub.execute_input": "2025-01-11T16:22:16.710202Z",
     "iopub.status.busy": "2025-01-11T16:22:16.710126Z",
     "iopub.status.idle": "2025-01-11T16:22:16.711988Z",
     "shell.execute_reply": "2025-01-11T16:22:16.711754Z"
    }
   },
   "outputs": [
    {
     "name": "stdout",
     "output_type": "stream",
     "text": [
      "[0.05223499 0.01268708 0.12254192 0.05708604 0.03631681]\n"
     ]
    }
   ],
   "source": [
    "z = A @ y\n",
    "print(z)"
   ]
  },
  {
   "cell_type": "markdown",
   "id": "b26791d3",
   "metadata": {},
   "source": [
    "But if we keep repeating the matrix-vector multiplication, something remarkable happens: $\\mathbf{A} \\mathbf{x} \\approx \\mathbf{x}$."
   ]
  },
  {
   "cell_type": "code",
   "execution_count": 5,
   "id": "74d825b9",
   "metadata": {
    "execution": {
     "iopub.execute_input": "2025-01-11T16:22:16.713158Z",
     "iopub.status.busy": "2025-01-11T16:22:16.713076Z",
     "iopub.status.idle": "2025-01-11T16:22:16.714998Z",
     "shell.execute_reply": "2025-01-11T16:22:16.714778Z"
    }
   },
   "outputs": [
    {
     "name": "stdout",
     "output_type": "stream",
     "text": [
      "[-0.7605664  -0.63536876 -0.67471042 -0.80074142 -0.52199346]\n",
      "[-0.76057108 -0.63539281 -0.67467082 -0.80075888 -0.52198687]\n"
     ]
    }
   ],
   "source": [
    "x = random.randn(5)\n",
    "for j in range(6):\n",
    "    x = A @ x\n",
    "print(x)\n",
    "print(A @ x)"
   ]
  },
  {
   "cell_type": "markdown",
   "id": "bb7a08b2",
   "metadata": {},
   "source": [
    "This phenomenon is unlikely to be a coincidence!"
   ]
  }
 ],
 "metadata": {
  "kernelspec": {
   "display_name": "Python 3",
   "language": "python",
   "name": "python3"
  },
  "language_info": {
   "codemirror_mode": {
    "name": "ipython",
    "version": 3
   },
   "file_extension": ".py",
   "mimetype": "text/x-python",
   "name": "python",
   "nbconvert_exporter": "python",
   "pygments_lexer": "ipython3",
   "version": "3.13.0"
  },
  "numbering": {
   "headings": false
  }
 },
 "nbformat": 4,
 "nbformat_minor": 5
}
