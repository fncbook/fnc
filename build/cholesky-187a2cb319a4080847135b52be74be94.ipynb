{
 "cells": [
  {
   "cell_type": "code",
   "execution_count": 1,
   "id": "b9fcfca9",
   "metadata": {
    "execution": {
     "iopub.execute_input": "2025-01-05T09:36:23.210000Z",
     "iopub.status.busy": "2025-01-05T09:36:22.921000Z",
     "iopub.status.idle": "2025-01-05T09:36:30.323000Z",
     "shell.execute_reply": "2025-01-05T09:36:30.278000Z"
    }
   },
   "outputs": [
    {
     "name": "stderr",
     "output_type": "stream",
     "text": [
      "\u001b[32m\u001b[1m  Activating\u001b[22m\u001b[39m "
     ]
    },
    {
     "name": "stderr",
     "output_type": "stream",
     "text": [
      "project at `~/Documents/GitHub/fnc`\n"
     ]
    }
   ],
   "source": [
    "include(\"../../../julia/FNC_init.jl\")"
   ]
  },
  {
   "cell_type": "markdown",
   "id": "56e69c57",
   "metadata": {},
   "source": [
    "[**Demo %s**](#demo-structure-cholesky)\n",
    "\n",
    "A randomly chosen matrix is extremely unlikely to be symmetric. However, there is a simple way to symmetrize one."
   ]
  },
  {
   "cell_type": "code",
   "execution_count": 2,
   "id": "21965b74",
   "metadata": {
    "execution": {
     "iopub.execute_input": "2025-01-05T09:36:30.474000Z",
     "iopub.status.busy": "2025-01-05T09:36:30.325000Z",
     "iopub.status.idle": "2025-01-05T09:36:31.846000Z",
     "shell.execute_reply": "2025-01-05T09:36:31.846000Z"
    }
   },
   "outputs": [
    {
     "data": {
      "text/plain": [
       "4×4 Matrix{Float64}:\n",
       "  8.0  10.0  17.0  13.0\n",
       " 10.0  16.0   9.0  10.0\n",
       " 17.0   9.0   2.0   9.0\n",
       " 13.0  10.0   9.0  18.0"
      ]
     },
     "execution_count": 2,
     "metadata": {},
     "output_type": "execute_result"
    }
   ],
   "source": [
    "A = rand(1.0:9.0, 4, 4)\n",
    "B = A + A'"
   ]
  },
  {
   "cell_type": "markdown",
   "id": "000ff722",
   "metadata": {},
   "source": [
    "```{index} ! Julia; cholesky\n",
    "```\n",
    "\n",
    "Similarly, a random symmetric matrix is unlikely to be positive definite. The Cholesky algorithm always detects a non-PD matrix by quitting with an error.\n",
    "```{tip}\n",
    ":class: dropdown\n",
    "The `cholesky` function computes a Cholesky factorization if possible, or throws an error for a non-positive-definite matrix. However, it does *not* check for symmetry.\n",
    "```"
   ]
  },
  {
   "cell_type": "code",
   "execution_count": 3,
   "id": "b8e7b3eb",
   "metadata": {
    "execution": {
     "iopub.execute_input": "2025-01-05T09:36:31.848000Z",
     "iopub.status.busy": "2025-01-05T09:36:31.848000Z",
     "iopub.status.idle": "2025-01-05T09:36:32.866000Z",
     "shell.execute_reply": "2025-01-05T09:36:32.865000Z"
    },
    "tags": [
     "raises-exception"
    ]
   },
   "outputs": [
    {
     "ename": "LoadError",
     "evalue": "PosDefException: matrix is not positive definite; Factorization failed.",
     "output_type": "error",
     "traceback": [
      "PosDefException: matrix is not positive definite; Factorization failed.",
      "",
      "Stacktrace:",
      "  [1] checkpositivedefinite",
      "    @ ~/.julia/juliaup/julia-1.11.2+0.aarch64.apple.darwin14/share/julia/stdlib/v1.11/LinearAlgebra/src/factorization.jl:68 [inlined]",
      "  [2] #cholesky!#163",
      "    @ ~/.julia/juliaup/julia-1.11.2+0.aarch64.apple.darwin14/share/julia/stdlib/v1.11/LinearAlgebra/src/cholesky.jl:269 [inlined]",
      "  [3] cholesky!",
      "    @ ~/.julia/juliaup/julia-1.11.2+0.aarch64.apple.darwin14/share/julia/stdlib/v1.11/LinearAlgebra/src/cholesky.jl:267 [inlined]",
      "  [4] #cholesky!#164",
      "    @ ~/.julia/juliaup/julia-1.11.2+0.aarch64.apple.darwin14/share/julia/stdlib/v1.11/LinearAlgebra/src/cholesky.jl:301 [inlined]",
      "  [5] cholesky! (repeats 2 times)",
      "    @ ~/.julia/juliaup/julia-1.11.2+0.aarch64.apple.darwin14/share/julia/stdlib/v1.11/LinearAlgebra/src/cholesky.jl:295 [inlined]",
      "  [6] _cholesky",
      "    @ ~/.julia/juliaup/julia-1.11.2+0.aarch64.apple.darwin14/share/julia/stdlib/v1.11/LinearAlgebra/src/cholesky.jl:411 [inlined]",
      "  [7] cholesky(A::Matrix{Float64}, ::NoPivot; check::Bool)",
      "    @ LinearAlgebra ~/.julia/juliaup/julia-1.11.2+0.aarch64.apple.darwin14/share/julia/stdlib/v1.11/LinearAlgebra/src/cholesky.jl:401",
      "  [8] cholesky",
      "    @ ~/.julia/juliaup/julia-1.11.2+0.aarch64.apple.darwin14/share/julia/stdlib/v1.11/LinearAlgebra/src/cholesky.jl:401 [inlined]",
      "  [9] cholesky(A::Matrix{Float64})",
      "    @ LinearAlgebra ~/.julia/juliaup/julia-1.11.2+0.aarch64.apple.darwin14/share/julia/stdlib/v1.11/LinearAlgebra/src/cholesky.jl:401",
      " [10] top-level scope",
      "    @ In[3]:1"
     ]
    }
   ],
   "source": [
    "cholesky(B)    # throws an error"
   ]
  },
  {
   "cell_type": "markdown",
   "id": "a2cbaa25",
   "metadata": {},
   "source": [
    "It's not hard to manufacture an SPD matrix to try out the Cholesky factorization."
   ]
  },
  {
   "cell_type": "code",
   "execution_count": 4,
   "id": "09e8bd9a",
   "metadata": {
    "execution": {
     "iopub.execute_input": "2025-01-05T09:36:32.867000Z",
     "iopub.status.busy": "2025-01-05T09:36:32.867000Z",
     "iopub.status.idle": "2025-01-05T09:36:33.178000Z",
     "shell.execute_reply": "2025-01-05T09:36:33.177000Z"
    }
   },
   "outputs": [
    {
     "data": {
      "text/plain": [
       "Cholesky{Float64, Matrix{Float64}}\n",
       "U factor:\n",
       "4×4 UpperTriangular{Float64, Matrix{Float64}}:\n",
       " 14.6287  7.45109  6.08391  14.6287\n",
       "   ⋅      6.4406   5.07223   2.48424\n",
       "   ⋅       ⋅       5.59092   0.0714277\n",
       "   ⋅       ⋅        ⋅        2.61217"
      ]
     },
     "execution_count": 4,
     "metadata": {},
     "output_type": "execute_result"
    }
   ],
   "source": [
    "B = A' * A\n",
    "cf = cholesky(B)"
   ]
  },
  {
   "cell_type": "markdown",
   "id": "6a54615f",
   "metadata": {},
   "source": [
    "What's returned is a factorization object. Another step is required to extract the factor as a matrix:"
   ]
  },
  {
   "cell_type": "code",
   "execution_count": 5,
   "id": "12f9c108",
   "metadata": {
    "execution": {
     "iopub.execute_input": "2025-01-05T09:36:33.179000Z",
     "iopub.status.busy": "2025-01-05T09:36:33.179000Z",
     "iopub.status.idle": "2025-01-05T09:36:33.243000Z",
     "shell.execute_reply": "2025-01-05T09:36:33.243000Z"
    }
   },
   "outputs": [
    {
     "data": {
      "text/plain": [
       "4×4 UpperTriangular{Float64, Matrix{Float64}}:\n",
       " 14.6287  7.45109  6.08391  14.6287\n",
       "   ⋅      6.4406   5.07223   2.48424\n",
       "   ⋅       ⋅       5.59092   0.0714277\n",
       "   ⋅       ⋅        ⋅        2.61217"
      ]
     },
     "execution_count": 5,
     "metadata": {},
     "output_type": "execute_result"
    }
   ],
   "source": [
    "R = cf.U"
   ]
  },
  {
   "cell_type": "markdown",
   "id": "dd4767f4",
   "metadata": {},
   "source": [
    "Here we validate the factorization:"
   ]
  },
  {
   "cell_type": "code",
   "execution_count": 6,
   "id": "ed688074",
   "metadata": {
    "execution": {
     "iopub.execute_input": "2025-01-05T09:36:33.245000Z",
     "iopub.status.busy": "2025-01-05T09:36:33.245000Z",
     "iopub.status.idle": "2025-01-05T09:36:33.375000Z",
     "shell.execute_reply": "2025-01-05T09:36:33.374000Z"
    }
   },
   "outputs": [
    {
     "data": {
      "text/plain": [
       "5.73189211910541e-17"
      ]
     },
     "execution_count": 6,
     "metadata": {},
     "output_type": "execute_result"
    }
   ],
   "source": [
    "opnorm(R' * R - B) / opnorm(B)"
   ]
  }
 ],
 "metadata": {
  "kernelspec": {
   "display_name": "Julia 1",
   "language": "julia",
   "name": "julia-1.11"
  },
  "language_info": {
   "file_extension": ".jl",
   "mimetype": "application/julia",
   "name": "julia",
   "version": "1.11.2"
  },
  "numbering": {
   "headings": false
  }
 },
 "nbformat": 4,
 "nbformat_minor": 5
}
