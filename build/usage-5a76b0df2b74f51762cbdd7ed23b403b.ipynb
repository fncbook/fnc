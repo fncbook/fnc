{
 "cells": [
  {
   "cell_type": "code",
   "execution_count": 1,
   "id": "5bef37d1",
   "metadata": {
    "execution": {
     "iopub.execute_input": "2025-01-11T17:43:44.823672Z",
     "iopub.status.busy": "2025-01-11T17:43:44.823455Z",
     "iopub.status.idle": "2025-01-11T17:43:45.160076Z",
     "shell.execute_reply": "2025-01-11T17:43:45.159560Z"
    },
    "tags": [
     "remove-cell"
    ]
   },
   "outputs": [],
   "source": [
    "exec(open(\"../../../python/FNC_init.py\").read())"
   ]
  },
  {
   "cell_type": "markdown",
   "id": "38dd2e5f",
   "metadata": {},
   "source": [
    "[**Demo %s**](#demo-pivoting-usage)\n",
    "\n",
    "The third output of `plufact` is the permutation vector we need to apply to $\\mathbf{A}$."
   ]
  },
  {
   "cell_type": "code",
   "execution_count": 2,
   "id": "fc2a15ec",
   "metadata": {
    "execution": {
     "iopub.execute_input": "2025-01-11T17:43:45.162657Z",
     "iopub.status.busy": "2025-01-11T17:43:45.162370Z",
     "iopub.status.idle": "2025-01-11T17:43:45.169964Z",
     "shell.execute_reply": "2025-01-11T17:43:45.169527Z"
    }
   },
   "outputs": [
    {
     "data": {
      "text/plain": [
       "array([[ 0.00000000e+00,  0.00000000e+00,  0.00000000e+00,\n",
       "         0.00000000e+00],\n",
       "       [ 0.00000000e+00,  0.00000000e+00, -1.11022302e-16,\n",
       "         0.00000000e+00],\n",
       "       [ 0.00000000e+00, -1.11022302e-16, -5.55111512e-17,\n",
       "         0.00000000e+00],\n",
       "       [ 0.00000000e+00,  0.00000000e+00,  0.00000000e+00,\n",
       "        -2.22044605e-16]])"
      ]
     },
     "execution_count": 2,
     "metadata": {},
     "output_type": "execute_result"
    }
   ],
   "source": [
    "A = random.randn(4, 4)\n",
    "L, U, p = FNC.plufact(A)\n",
    "A[p, :] - L @ U   # should be ≈ 0"
   ]
  },
  {
   "cell_type": "markdown",
   "id": "a72747ed",
   "metadata": {},
   "source": [
    "Given a vector $\\mathbf{b}$, we solve $\\mathbf{A}\\mathbf{x}=\\mathbf{b}$ by first permuting the entries of $\\mathbf{b}$ and then proceeding as before."
   ]
  },
  {
   "cell_type": "code",
   "execution_count": 3,
   "id": "2f1e0bc0",
   "metadata": {
    "execution": {
     "iopub.execute_input": "2025-01-11T17:43:45.172299Z",
     "iopub.status.busy": "2025-01-11T17:43:45.172034Z",
     "iopub.status.idle": "2025-01-11T17:43:45.174566Z",
     "shell.execute_reply": "2025-01-11T17:43:45.174268Z"
    }
   },
   "outputs": [],
   "source": [
    "b = random.randn(4)\n",
    "z = FNC.forwardsub(L, b[p])\n",
    "x = FNC.backsub(U, z)"
   ]
  },
  {
   "cell_type": "markdown",
   "id": "58a1eeb7",
   "metadata": {},
   "source": [
    "A residual check is successful:"
   ]
  },
  {
   "cell_type": "code",
   "execution_count": 4,
   "id": "c67e092c",
   "metadata": {
    "execution": {
     "iopub.execute_input": "2025-01-11T17:43:45.176281Z",
     "iopub.status.busy": "2025-01-11T17:43:45.176174Z",
     "iopub.status.idle": "2025-01-11T17:43:45.178265Z",
     "shell.execute_reply": "2025-01-11T17:43:45.178018Z"
    }
   },
   "outputs": [
    {
     "data": {
      "text/plain": [
       "array([-5.55111512e-17,  2.22044605e-16,  0.00000000e+00,  2.22044605e-16])"
      ]
     },
     "execution_count": 4,
     "metadata": {},
     "output_type": "execute_result"
    }
   ],
   "source": [
    "b - A @ x"
   ]
  }
 ],
 "metadata": {
  "kernelspec": {
   "display_name": "Python 3",
   "language": "python",
   "name": "python3"
  },
  "language_info": {
   "codemirror_mode": {
    "name": "ipython",
    "version": 3
   },
   "file_extension": ".py",
   "mimetype": "text/x-python",
   "name": "python",
   "nbconvert_exporter": "python",
   "pygments_lexer": "ipython3",
   "version": "3.13.0"
  },
  "numbering": {
   "headings": false
  }
 },
 "nbformat": 4,
 "nbformat_minor": 5
}
