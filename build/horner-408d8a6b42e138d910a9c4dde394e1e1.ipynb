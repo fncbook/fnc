{
    "cells": [
        {
            "cell_type": "markdown",
            "source": [
                "[**Demo %s**](#demo-algorithms-horner)\n",
                "\n",
                "\n",
                "Here we show how to use `horner` to evaluate a polynomial. First, we have to ensure that the book's package is imported."
            ],
            "id": "112f1195",
            "metadata": {}
        },
        {
            "outputs": [],
            "cell_type": "code",
            "source": [
                "import fncbook as FNC"
            ],
            "id": "1852aafa",
            "metadata": {
                "execution": {
                    "iopub.status.idle": "2025-01-14T20:16:39.553025Z",
                    "iopub.status.busy": "2025-01-14T20:16:39.544904Z",
                    "iopub.execute_input": "2025-01-14T20:16:39.549082Z",
                    "shell.execute_reply": "2025-01-14T20:16:39.552428Z"
                }
            },
            "execution_count": 2
        },
        {
            "cell_type": "markdown",
            "source": [
                "Here is the help string for the function:"
            ],
            "id": "b0fd3b7f",
            "metadata": {}
        },
        {
            "outputs": [
                {
                    "name": "stdout",
                    "output_type": "stream",
                    "text": [
                        "Help on function horner in module fncbook.chapter01:\n",
                        "\n",
                        "horner(c, x)\n",
                        "    horner(c,x)\n",
                        "\n",
                        "    Evaluate a polynomial whose coefficients are given in descending order\n",
                        "    in c, at the point x, using Horner's rule.\n",
                        "\n"
                    ]
                }
            ],
            "cell_type": "code",
            "source": [
                "help(FNC.horner)"
            ],
            "id": "4e0a31bb",
            "metadata": {
                "execution": {
                    "iopub.status.idle": "2025-01-14T20:16:39.560859Z",
                    "iopub.status.busy": "2025-01-14T20:16:39.556930Z",
                    "iopub.execute_input": "2025-01-14T20:16:39.557238Z",
                    "shell.execute_reply": "2025-01-14T20:16:39.560309Z"
                }
            },
            "execution_count": 3
        },
        {
            "cell_type": "markdown",
            "source": [
                "We now define a vector of the coefficients of $p(x)=(x−1)^3=x^3−3x^2+3x−1$, in descending degree order. Note that the textbook's functions are all in a namespace called `FNC`, to help distinguish them from other Python commands and modules."
            ],
            "id": "e9e4f528",
            "metadata": {}
        },
        {
            "outputs": [
                {
                    "name": "stdout",
                    "output_type": "stream",
                    "text": [
                        "0.21600000000000041\n"
                    ]
                }
            ],
            "cell_type": "code",
            "source": [
                "c = array([1, -3, 3, -1])\n",
                "print(FNC.horner(c, 1.6))"
            ],
            "id": "923e6aff",
            "metadata": {
                "execution": {
                    "iopub.status.idle": "2025-01-14T20:16:39.568210Z",
                    "iopub.status.busy": "2025-01-14T20:16:39.563809Z",
                    "iopub.execute_input": "2025-01-14T20:16:39.564130Z",
                    "shell.execute_reply": "2025-01-14T20:16:39.567703Z"
                }
            },
            "execution_count": 4
        },
        {
            "cell_type": "markdown",
            "source": [
                "The above is the value of $p(1.6)$, up to a rounding error."
            ],
            "id": "6a9aa765",
            "metadata": {}
        }
    ],
    "nbformat_minor": 5,
    "metadata": {
        "language_info": {
            "file_extension": ".py",
            "mimetype": "text/x-python",
            "name": "python",
            "nbconvert_exporter": "python",
            "pygments_lexer": "ipython3",
            "codemirror_mode": {
                "name": "ipython",
                "version": 3
            },
            "version": "3.13.0"
        },
        "kernelspec": {
            "name": "python3",
            "display_name": "Python 3",
            "language": "python"
        },
        "numbering": {
            "headings": false
        }
    },
    "nbformat": 4
}
