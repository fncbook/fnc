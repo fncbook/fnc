{
 "cells": [
  {
   "cell_type": "code",
   "execution_count": 1,
   "id": "45e60cf5",
   "metadata": {
    "execution": {
     "iopub.execute_input": "2025-01-11T17:43:41.283307Z",
     "iopub.status.busy": "2025-01-11T17:43:41.283182Z",
     "iopub.status.idle": "2025-01-11T17:43:41.622058Z",
     "shell.execute_reply": "2025-01-11T17:43:41.621657Z"
    },
    "tags": [
     "remove-cell"
    ]
   },
   "outputs": [],
   "source": [
    "exec(open(\"../../../python/FNC_init.py\").read())"
   ]
  },
  {
   "cell_type": "markdown",
   "id": "42f828f6",
   "metadata": {},
   "source": [
    "[**Demo %s**](#demo-pivoting-fix)\n",
    "\n",
    "Here is the trouble-making matrix from {numref}`Demo {number} <demo-pivoting-fail>`."
   ]
  },
  {
   "cell_type": "code",
   "execution_count": 2,
   "id": "355acbda",
   "metadata": {
    "execution": {
     "iopub.execute_input": "2025-01-11T17:43:41.624016Z",
     "iopub.status.busy": "2025-01-11T17:43:41.623713Z",
     "iopub.status.idle": "2025-01-11T17:43:41.625707Z",
     "shell.execute_reply": "2025-01-11T17:43:41.625497Z"
    }
   },
   "outputs": [],
   "source": [
    "A_1 = array([\n",
    "    [2, 0, 4, 3],\n",
    "    [-2, 0, 2, -13],\n",
    "    [1, 15, 2, -4.5],\n",
    "    [-4, 5, -7, -10]\n",
    "    ])"
   ]
  },
  {
   "cell_type": "markdown",
   "id": "66b15c21",
   "metadata": {},
   "source": [
    "We now find the largest candidate pivot in the first column. We don't care about sign, so we take absolute values before finding the max.\n",
    "```{tip}\n",
    ":class: dropdown\n",
    "The `argmax` function returns the location of the largest element of a vector or matrix.\n",
    "```"
   ]
  },
  {
   "cell_type": "code",
   "execution_count": 3,
   "id": "12adf23a",
   "metadata": {
    "execution": {
     "iopub.execute_input": "2025-01-11T17:43:41.626845Z",
     "iopub.status.busy": "2025-01-11T17:43:41.626746Z",
     "iopub.status.idle": "2025-01-11T17:43:41.628569Z",
     "shell.execute_reply": "2025-01-11T17:43:41.628339Z"
    }
   },
   "outputs": [
    {
     "name": "stdout",
     "output_type": "stream",
     "text": [
      "3\n"
     ]
    }
   ],
   "source": [
    "i = argmax( abs(A_1[:, 0]) )\n",
    "print(i)"
   ]
  },
  {
   "cell_type": "markdown",
   "id": "6a044e31",
   "metadata": {},
   "source": [
    "This is the row of the matrix that we extract to put into $\\mathbf{U}$. That guarantees that the division used to find $\\boldsymbol{\\ell}_1$ will be valid."
   ]
  },
  {
   "cell_type": "code",
   "execution_count": 4,
   "id": "9e4fea00",
   "metadata": {
    "execution": {
     "iopub.execute_input": "2025-01-11T17:43:41.629797Z",
     "iopub.status.busy": "2025-01-11T17:43:41.629717Z",
     "iopub.status.idle": "2025-01-11T17:43:41.631990Z",
     "shell.execute_reply": "2025-01-11T17:43:41.631750Z"
    }
   },
   "outputs": [
    {
     "name": "stdout",
     "output_type": "stream",
     "text": [
      "[[ 0.    2.5   0.5  -2.  ]\n",
      " [ 0.   -2.5   5.5  -8.  ]\n",
      " [ 0.   16.25  0.25 -7.  ]\n",
      " [ 0.    0.    0.    0.  ]]\n"
     ]
    }
   ],
   "source": [
    "L, U = eye(4), zeros((4, 4))\n",
    "U[0, :] = A_1[i, :]\n",
    "L[:, 0] = A_1[:, 0] / U[0, 0]\n",
    "A_2 = A_1 - outer(L[:, 0], U[0, :])\n",
    "print(A_2)"
   ]
  },
  {
   "cell_type": "markdown",
   "id": "70cac252",
   "metadata": {},
   "source": [
    "Observe that $\\mathbf{A}_2$ has a new zero row and zero column, but the zero row is the fourth rather than the first. However, we forge on by using the largest possible pivot in column 2 for the next outer product."
   ]
  },
  {
   "cell_type": "code",
   "execution_count": 5,
   "id": "d896bc02",
   "metadata": {
    "execution": {
     "iopub.execute_input": "2025-01-11T17:43:41.633203Z",
     "iopub.status.busy": "2025-01-11T17:43:41.633111Z",
     "iopub.status.idle": "2025-01-11T17:43:41.635362Z",
     "shell.execute_reply": "2025-01-11T17:43:41.635089Z"
    }
   },
   "outputs": [
    {
     "name": "stdout",
     "output_type": "stream",
     "text": [
      "new pivot row is 2\n",
      "[[ 0.          0.          0.46153846 -0.92307692]\n",
      " [ 0.          0.          5.53846154 -9.07692308]\n",
      " [ 0.          0.          0.          0.        ]\n",
      " [ 0.          0.          0.          0.        ]]\n"
     ]
    }
   ],
   "source": [
    "i = argmax( abs(A_2[:, 1]) ) \n",
    "print(f\"new pivot row is {i}\")\n",
    "U[1, :] = A_2[i, :]\n",
    "L[:, 1] = A_2[:, 1] / U[1, 1]\n",
    "A_3 = A_2 - outer(L[:, 1], U[1, :])\n",
    "print(A_3)"
   ]
  },
  {
   "cell_type": "markdown",
   "id": "91c062fe",
   "metadata": {},
   "source": [
    "Now we have zeroed out the third row as well as the second column. We can finish out the procedure."
   ]
  },
  {
   "cell_type": "code",
   "execution_count": 6,
   "id": "77f7f70a",
   "metadata": {
    "execution": {
     "iopub.execute_input": "2025-01-11T17:43:41.636463Z",
     "iopub.status.busy": "2025-01-11T17:43:41.636368Z",
     "iopub.status.idle": "2025-01-11T17:43:41.638488Z",
     "shell.execute_reply": "2025-01-11T17:43:41.638224Z"
    }
   },
   "outputs": [
    {
     "name": "stdout",
     "output_type": "stream",
     "text": [
      "new pivot row is 1\n",
      "[[ 0.          0.          0.         -0.16666667]\n",
      " [ 0.          0.          0.          0.        ]\n",
      " [ 0.          0.          0.          0.        ]\n",
      " [ 0.          0.          0.          0.        ]]\n"
     ]
    }
   ],
   "source": [
    "i = argmax( abs(A_3[:, 2]) ) \n",
    "print(f\"new pivot row is {i}\")\n",
    "U[2, :] = A_3[i, :]\n",
    "L[:, 2] = A_3[:, 2] / U[2, 2]\n",
    "A_4 = A_3 - outer(L[:, 2], U[2, :])\n",
    "print(A_4)"
   ]
  },
  {
   "cell_type": "code",
   "execution_count": 7,
   "id": "dccdebdd",
   "metadata": {
    "execution": {
     "iopub.execute_input": "2025-01-11T17:43:41.640055Z",
     "iopub.status.busy": "2025-01-11T17:43:41.639921Z",
     "iopub.status.idle": "2025-01-11T17:43:41.641839Z",
     "shell.execute_reply": "2025-01-11T17:43:41.641604Z"
    }
   },
   "outputs": [
    {
     "name": "stdout",
     "output_type": "stream",
     "text": [
      "new pivot row is 0\n"
     ]
    }
   ],
   "source": [
    "i = argmax( abs(A_4[:, 3]) ) \n",
    "print(f\"new pivot row is {i}\")\n",
    "U[3, :] = A_4[i, :]\n",
    "L[:, 3] = A_4[:, 3] / U[3, 3];"
   ]
  },
  {
   "cell_type": "markdown",
   "id": "2cc255bf",
   "metadata": {},
   "source": [
    "We do have a factorization of the original matrix:"
   ]
  },
  {
   "cell_type": "code",
   "execution_count": 8,
   "id": "aed706a7",
   "metadata": {
    "execution": {
     "iopub.execute_input": "2025-01-11T17:43:41.643036Z",
     "iopub.status.busy": "2025-01-11T17:43:41.642935Z",
     "iopub.status.idle": "2025-01-11T17:43:41.645923Z",
     "shell.execute_reply": "2025-01-11T17:43:41.645690Z"
    }
   },
   "outputs": [
    {
     "data": {
      "text/plain": [
       "array([[0.00000000e+00, 0.00000000e+00, 0.00000000e+00, 0.00000000e+00],\n",
       "       [0.00000000e+00, 0.00000000e+00, 2.22044605e-16, 0.00000000e+00],\n",
       "       [0.00000000e+00, 0.00000000e+00, 0.00000000e+00, 0.00000000e+00],\n",
       "       [0.00000000e+00, 0.00000000e+00, 0.00000000e+00, 0.00000000e+00]])"
      ]
     },
     "execution_count": 8,
     "metadata": {},
     "output_type": "execute_result"
    }
   ],
   "source": [
    "A_1 - L @ U"
   ]
  },
  {
   "cell_type": "markdown",
   "id": "89bca750",
   "metadata": {},
   "source": [
    "And $\\mathbf{U}$ has the required structure:"
   ]
  },
  {
   "cell_type": "code",
   "execution_count": 9,
   "id": "efec7631",
   "metadata": {
    "execution": {
     "iopub.execute_input": "2025-01-11T17:43:41.647049Z",
     "iopub.status.busy": "2025-01-11T17:43:41.646962Z",
     "iopub.status.idle": "2025-01-11T17:43:41.648864Z",
     "shell.execute_reply": "2025-01-11T17:43:41.648638Z"
    }
   },
   "outputs": [
    {
     "name": "stdout",
     "output_type": "stream",
     "text": [
      "[[ -4.           5.          -7.         -10.        ]\n",
      " [  0.          16.25         0.25        -7.        ]\n",
      " [  0.           0.           5.53846154  -9.07692308]\n",
      " [  0.           0.           0.          -0.16666667]]\n"
     ]
    }
   ],
   "source": [
    "print(U)"
   ]
  },
  {
   "cell_type": "markdown",
   "id": "895d2939",
   "metadata": {},
   "source": [
    "However, the triangularity of $\\mathbf{L}$ has been broken."
   ]
  },
  {
   "cell_type": "code",
   "execution_count": 10,
   "id": "1629d8e7",
   "metadata": {
    "execution": {
     "iopub.execute_input": "2025-01-11T17:43:41.649921Z",
     "iopub.status.busy": "2025-01-11T17:43:41.649850Z",
     "iopub.status.idle": "2025-01-11T17:43:41.651628Z",
     "shell.execute_reply": "2025-01-11T17:43:41.651406Z"
    }
   },
   "outputs": [
    {
     "name": "stdout",
     "output_type": "stream",
     "text": [
      "[[-0.5         0.15384615  0.08333333  1.        ]\n",
      " [ 0.5        -0.15384615  1.         -0.        ]\n",
      " [-0.25        1.          0.         -0.        ]\n",
      " [ 1.          0.          0.         -0.        ]]\n"
     ]
    }
   ],
   "source": [
    "print(L)"
   ]
  }
 ],
 "metadata": {
  "kernelspec": {
   "display_name": "Python 3",
   "language": "python",
   "name": "python3"
  },
  "language_info": {
   "codemirror_mode": {
    "name": "ipython",
    "version": 3
   },
   "file_extension": ".py",
   "mimetype": "text/x-python",
   "name": "python",
   "nbconvert_exporter": "python",
   "pygments_lexer": "ipython3",
   "version": "3.13.0"
  },
  "numbering": {
   "headings": false
  }
 },
 "nbformat": 4,
 "nbformat_minor": 5
}
