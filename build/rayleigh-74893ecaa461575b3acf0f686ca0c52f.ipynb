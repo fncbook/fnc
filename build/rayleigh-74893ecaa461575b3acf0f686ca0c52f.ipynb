{
 "cells": [
  {
   "cell_type": "code",
   "execution_count": 1,
   "id": "0d0229d3",
   "metadata": {
    "execution": {
     "iopub.execute_input": "2025-01-11T16:31:39.936150Z",
     "iopub.status.busy": "2025-01-11T16:31:39.935844Z",
     "iopub.status.idle": "2025-01-11T16:31:40.268629Z",
     "shell.execute_reply": "2025-01-11T16:31:40.268300Z"
    },
    "tags": [
     "remove-cell"
    ]
   },
   "outputs": [],
   "source": [
    "exec(open(\"../../../python/FNC_init.py\").read())"
   ]
  },
  {
   "cell_type": "markdown",
   "id": "54a576ac",
   "metadata": {},
   "source": [
    "[**Demo %s**](#demo-symm-eig-rayleigh)\n",
    "\n",
    "We will use a symmetric matrix with a known EVD and eigenvalues equal to the integers from 1 to 20."
   ]
  },
  {
   "cell_type": "code",
   "execution_count": 2,
   "id": "b9814c23",
   "metadata": {
    "execution": {
     "iopub.execute_input": "2025-01-11T16:31:40.270344Z",
     "iopub.status.busy": "2025-01-11T16:31:40.270212Z",
     "iopub.status.idle": "2025-01-11T16:31:40.273804Z",
     "shell.execute_reply": "2025-01-11T16:31:40.273525Z"
    }
   },
   "outputs": [],
   "source": [
    "from numpy.linalg import qr\n",
    "n = 20\n",
    "d = arange(n) + 1\n",
    "D = diag(d)\n",
    "V, _ = qr(random.randn(n, n))    # get a random orthogonal V\n",
    "A = V @ D @ V.T"
   ]
  },
  {
   "cell_type": "markdown",
   "id": "29923048",
   "metadata": {},
   "source": [
    "The Rayleigh quotient is a scalar-valued function of a vector."
   ]
  },
  {
   "cell_type": "code",
   "execution_count": 3,
   "id": "5bbdd21d",
   "metadata": {
    "execution": {
     "iopub.execute_input": "2025-01-11T16:31:40.275015Z",
     "iopub.status.busy": "2025-01-11T16:31:40.274937Z",
     "iopub.status.idle": "2025-01-11T16:31:40.276465Z",
     "shell.execute_reply": "2025-01-11T16:31:40.276265Z"
    }
   },
   "outputs": [],
   "source": [
    "R = lambda x: dot(x, A @ x) / dot(x, x)"
   ]
  },
  {
   "cell_type": "markdown",
   "id": "87cbec91",
   "metadata": {},
   "source": [
    "The Rayleigh quotient evaluated at an eigenvector gives the corresponding eigenvalue."
   ]
  },
  {
   "cell_type": "code",
   "execution_count": 4,
   "id": "02add570",
   "metadata": {
    "execution": {
     "iopub.execute_input": "2025-01-11T16:31:40.277592Z",
     "iopub.status.busy": "2025-01-11T16:31:40.277515Z",
     "iopub.status.idle": "2025-01-11T16:31:40.279197Z",
     "shell.execute_reply": "2025-01-11T16:31:40.278959Z"
    }
   },
   "outputs": [
    {
     "name": "stdout",
     "output_type": "stream",
     "text": [
      "6.999999999999998\n"
     ]
    }
   ],
   "source": [
    "print(R(V[:, 6]))"
   ]
  },
  {
   "cell_type": "markdown",
   "id": "e085b503",
   "metadata": {},
   "source": [
    "If the input to he Rayleigh quotient is within a small $\\delta$ of an eigenvector, its output is within $O(\\delta^2)$ of the corresponding eigenvalue. In this experiment, we observe that each additional digit of accuracy in an approximate eigenvector gives two more digits to the eigenvalue estimate coming from the Rayleigh quotient."
   ]
  },
  {
   "cell_type": "code",
   "execution_count": 5,
   "id": "a6790b98",
   "metadata": {
    "execution": {
     "iopub.execute_input": "2025-01-11T16:31:40.280424Z",
     "iopub.status.busy": "2025-01-11T16:31:40.280335Z",
     "iopub.status.idle": "2025-01-11T16:31:40.282744Z",
     "shell.execute_reply": "2025-01-11T16:31:40.282491Z"
    }
   },
   "outputs": [
    {
     "name": "stdout",
     "output_type": "stream",
     "text": [
      "+-------------------+------------------------+\n",
      "| perturbation size |        R.Q. - λ        |\n",
      "+-------------------+------------------------+\n",
      "|        0.1        |  0.05263797010715443   |\n",
      "|        0.01       | 0.0004916572103024208  |\n",
      "|       0.001       | 3.360606208424599e-06  |\n",
      "|       0.0001      | 4.2867250193978634e-08 |\n",
      "|       1e-05       |  1.17729825888091e-10  |\n",
      "+-------------------+------------------------+\n"
     ]
    }
   ],
   "source": [
    "results = PrettyTable([\"perturbation size\", \"R.Q. - λ\"])\n",
    "for delta in 1 / 10 ** arange(1, 6):\n",
    "    e = random.randn(n)\n",
    "    e = delta * e / norm(e)\n",
    "    x = V[:, 5] + e\n",
    "    quotient = R(x)\n",
    "    results.add_row([delta, quotient - d[5]])\n",
    "\n",
    "print(results)"
   ]
  }
 ],
 "metadata": {
  "kernelspec": {
   "display_name": "Python 3",
   "language": "python",
   "name": "python3"
  },
  "language_info": {
   "codemirror_mode": {
    "name": "ipython",
    "version": 3
   },
   "file_extension": ".py",
   "mimetype": "text/x-python",
   "name": "python",
   "nbconvert_exporter": "python",
   "pygments_lexer": "ipython3",
   "version": "3.13.0"
  },
  "numbering": {
   "headings": false
  }
 },
 "nbformat": 4,
 "nbformat_minor": 5
}
