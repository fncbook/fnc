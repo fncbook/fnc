{
    "cells": [
        {
            "cell_type": "markdown",
            "source": [
                "[**Demo %s**](#demo-float-double)\n",
                "\n",
                "In MATLAB, values are double-precision floats unless declared otherwise."
            ],
            "id": "ff1dc14f",
            "metadata": {}
        },
        {
            "outputs": [
                {
                    "name": "stdout",
                    "output_type": "stream",
                    "text": [
                        "1 has type: double1.0 has type: double"
                    ]
                }
            ],
            "cell_type": "code",
            "source": [
                "fprintf('1 has type: %s', class(1))\n",
                "fprintf('1.0 has type: %s', class(1.0))"
            ],
            "id": "acefc409",
            "metadata": {
                "execution": {
                    "iopub.status.idle": "2025-01-11T18:52:07.711485Z",
                    "iopub.status.busy": "2025-01-11T18:52:07.708735Z",
                    "iopub.execute_input": "2025-01-11T18:52:07.708855Z",
                    "shell.execute_reply": "2025-01-11T18:52:07.710929Z"
                }
            },
            "execution_count": 2
        },
        {
            "cell_type": "markdown",
            "source": [
                "The spacing between floating-point values in $[2^n,2^{n+1})$ is $2^n \\epsilon_\\text{mach}$, where $\\epsilon_\\text{mach}$ is machine epsilon. Its value is predefined as `eps`.\n",
                "\n",
                "```{tip}\n",
                ":class: dropdown\n",
                "While you can assign a different value to `eps`, doing so does not change any arithmetic. It's generally a bad idea. \n",
                "```"
            ],
            "id": "ec175ed7",
            "metadata": {}
        },
        {
            "outputs": [
                {
                    "output_type": "execute_result",
                    "data": {
                        "text/plain": [
                            "ans = 2.2204e-16"
                        ],
                        "text/html": [
                            "<html><body><pre>ans = 2.2204e-16</pre></body></html>"
                        ]
                    },
                    "metadata": {},
                    "execution_count": 3
                }
            ],
            "cell_type": "code",
            "source": [
                "eps"
            ],
            "id": "4bec5e97",
            "metadata": {
                "execution": {
                    "iopub.status.idle": "2025-01-11T18:52:07.716538Z",
                    "iopub.status.busy": "2025-01-11T18:52:07.714071Z",
                    "iopub.execute_input": "2025-01-11T18:52:07.714260Z",
                    "shell.execute_reply": "2025-01-11T18:52:07.716052Z"
                }
            },
            "execution_count": 3
        },
        {
            "cell_type": "markdown",
            "source": [
                "Because double precision allocates 52 bits to the significand, the default value of machine epsilon is $2^{-52}$."
            ],
            "id": "eba630f6",
            "metadata": {}
        },
        {
            "outputs": [
                {
                    "output_type": "execute_result",
                    "data": {
                        "text/plain": [
                            "ans = -52"
                        ],
                        "text/html": [
                            "<html><body><pre>ans = -52</pre></body></html>"
                        ]
                    },
                    "metadata": {},
                    "execution_count": 4
                }
            ],
            "cell_type": "code",
            "source": [
                "log2(eps)"
            ],
            "id": "1c59f95f",
            "metadata": {
                "execution": {
                    "iopub.status.idle": "2025-01-11T18:52:07.721271Z",
                    "iopub.status.busy": "2025-01-11T18:52:07.718954Z",
                    "iopub.execute_input": "2025-01-11T18:52:07.719254Z",
                    "shell.execute_reply": "2025-01-11T18:52:07.720853Z"
                }
            },
            "execution_count": 4
        },
        {
            "cell_type": "markdown",
            "source": [
                "The spacing between adjacent floating-point values is proportional to the magnitude of the value itself. This is how relative precision is kept roughly constant throughout the range of values. You can get the adjusted spacing by calling `eps` with a value."
            ],
            "id": "79b68209",
            "metadata": {}
        },
        {
            "outputs": [
                {
                    "output_type": "execute_result",
                    "data": {
                        "text/plain": [
                            "ans = 2.2204e-16"
                        ],
                        "text/html": [
                            "<html><body><pre>ans = 2.2204e-16</pre></body></html>"
                        ]
                    },
                    "metadata": {},
                    "execution_count": 5
                }
            ],
            "cell_type": "code",
            "source": [
                "eps(1.618)"
            ],
            "id": "c996e841",
            "metadata": {
                "execution": {
                    "iopub.status.idle": "2025-01-11T18:52:07.725058Z",
                    "iopub.status.busy": "2025-01-11T18:52:07.723069Z",
                    "iopub.execute_input": "2025-01-11T18:52:07.723205Z",
                    "shell.execute_reply": "2025-01-11T18:52:07.724752Z"
                }
            },
            "execution_count": 5
        },
        {
            "outputs": [
                {
                    "output_type": "execute_result",
                    "data": {
                        "text/plain": [
                            "ans = 2.8422e-14"
                        ],
                        "text/html": [
                            "<html><body><pre>ans = 2.8422e-14</pre></body></html>"
                        ]
                    },
                    "metadata": {},
                    "execution_count": 6
                }
            ],
            "cell_type": "code",
            "source": [
                "eps(161.8)"
            ],
            "id": "8b959224",
            "metadata": {
                "execution": {
                    "iopub.status.idle": "2025-01-11T18:52:07.728459Z",
                    "iopub.status.busy": "2025-01-11T18:52:07.726591Z",
                    "iopub.execute_input": "2025-01-11T18:52:07.726713Z",
                    "shell.execute_reply": "2025-01-11T18:52:07.728134Z"
                }
            },
            "execution_count": 6
        },
        {
            "outputs": [
                {
                    "output_type": "execute_result",
                    "data": {
                        "text/plain": [
                            "ans = 0"
                        ],
                        "text/html": [
                            "<html><body><pre>ans = 0</pre></body></html>"
                        ]
                    },
                    "metadata": {},
                    "execution_count": 7
                }
            ],
            "cell_type": "code",
            "source": [
                "x = 161.8 + 0.1*eps(161.8);\n",
                "x - 161.8"
            ],
            "id": "3b21af45",
            "metadata": {
                "execution": {
                    "iopub.status.idle": "2025-01-11T18:52:07.731716Z",
                    "iopub.status.busy": "2025-01-11T18:52:07.730002Z",
                    "iopub.execute_input": "2025-01-11T18:52:07.730118Z",
                    "shell.execute_reply": "2025-01-11T18:52:07.731430Z"
                }
            },
            "execution_count": 7
        },
        {
            "cell_type": "markdown",
            "source": [
                "A common mistake is to think that $\\epsilon_\\text{mach}$ is the smallest floating-point number. It's only the smallest *relative to 1*. The correct perspective is that the scaling of values is limited by the exponent, not the mantissa. The actual range of positive values in double precision is"
            ],
            "id": "23e6ad75",
            "metadata": {}
        },
        {
            "outputs": [
                {
                    "output_type": "execute_result",
                    "data": {
                        "text/plain": [
                            "ans = 1×2 double\n",
                            "1.0e+00 *\n",
                            "\n",
                            "  2.2251e-308  1.7977e+308\n"
                        ],
                        "text/html": [
                            "<html><body><pre>ans = 1×2 double\n",
                            "1.0e+00 *\n",
                            "\n",
                            "  2.2251e-308  1.7977e+308\n",
                            "</pre></body></html>"
                        ]
                    },
                    "metadata": {},
                    "execution_count": 8
                }
            ],
            "cell_type": "code",
            "source": [
                "format short e\n",
                "[realmin, realmax]"
            ],
            "id": "ad1c05fc",
            "metadata": {
                "execution": {
                    "iopub.status.idle": "2025-01-11T18:52:07.735434Z",
                    "iopub.status.busy": "2025-01-11T18:52:07.733543Z",
                    "iopub.execute_input": "2025-01-11T18:52:07.733669Z",
                    "shell.execute_reply": "2025-01-11T18:52:07.735087Z"
                }
            },
            "execution_count": 8
        }
    ],
    "nbformat_minor": 5,
    "metadata": {
        "language_info": {
            "file_extension": ".m",
            "mimetype": "text/x-matlab",
            "name": "matlab"
        },
        "kernelspec": {
            "name": "jupyter_matlab_kernel",
            "display_name": "MATLAB Kernel",
            "language": "matlab"
        },
        "numbering": {
            "headings": false
        }
    },
    "nbformat": 4
}
