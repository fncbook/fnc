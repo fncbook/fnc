{
    "cells": [
        {
            "cell_type": "markdown",
            "source": [
                "[**Demo %s**](#demo-pivoting-permute)\n",
                "\n",
                "Here again is the matrix from {numref}`Demo {number} <demo-pivoting-fix>`."
            ],
            "id": "00f312dd",
            "metadata": {}
        },
        {
            "outputs": [
                {
                    "output_type": "execute_result",
                    "data": {
                        "text/plain": [
                            "A = 4×4 double\n",
                            "    2.0000         0    4.0000    3.0000\n",
                            "   -2.0000         0    2.0000  -13.0000\n",
                            "    1.0000   15.0000    2.0000   -4.5000\n",
                            "   -4.0000    5.0000   -7.0000  -10.0000\n"
                        ],
                        "text/html": [
                            "<html><body><pre>A = 4×4 double\n",
                            "    2.0000         0    4.0000    3.0000\n",
                            "   -2.0000         0    2.0000  -13.0000\n",
                            "    1.0000   15.0000    2.0000   -4.5000\n",
                            "   -4.0000    5.0000   -7.0000  -10.0000\n",
                            "</pre></body></html>"
                        ]
                    },
                    "metadata": {},
                    "execution_count": 2
                }
            ],
            "cell_type": "code",
            "source": [
                "A = [2 0 4 3; -2 0 2 -13; 1 15 2 -4.5; -4 5 -7 -10]"
            ],
            "id": "a1200fab",
            "metadata": {},
            "execution_count": 2
        },
        {
            "cell_type": "markdown",
            "source": [
                "As the factorization proceeded, the pivots were selected from rows 4, 3, 2, and finally 1. If we were to put the rows of $\\mathbf{A}$ into that order, then the algorithm would run exactly like the plain LU factorization from {numref}`section-linsys-lu`."
            ],
            "id": "4f6f9c71",
            "metadata": {}
        },
        {
            "outputs": [],
            "cell_type": "code",
            "source": [
                "B = A([4, 3, 2, 1], :);\n",
                "[L, U] = lufact(B);"
            ],
            "id": "3da10da4",
            "metadata": {},
            "execution_count": 3
        },
        {
            "cell_type": "markdown",
            "source": [
                "We obtain the same $\\mathbf{U}$ as before:"
            ],
            "id": "c8a96f51",
            "metadata": {}
        },
        {
            "outputs": [
                {
                    "output_type": "execute_result",
                    "data": {
                        "text/plain": [
                            "U = 4×4 double\n",
                            "   -4.0000    5.0000   -7.0000  -10.0000\n",
                            "         0   16.2500    0.2500   -7.0000\n",
                            "         0         0    5.5385   -9.0769\n",
                            "         0         0         0   -0.1667\n"
                        ],
                        "text/html": [
                            "<html><body><pre>U = 4×4 double\n",
                            "   -4.0000    5.0000   -7.0000  -10.0000\n",
                            "         0   16.2500    0.2500   -7.0000\n",
                            "         0         0    5.5385   -9.0769\n",
                            "         0         0         0   -0.1667\n",
                            "</pre></body></html>"
                        ]
                    },
                    "metadata": {},
                    "execution_count": 4
                }
            ],
            "cell_type": "code",
            "source": [
                "U"
            ],
            "id": "1bde7225",
            "metadata": {},
            "execution_count": 4
        },
        {
            "cell_type": "markdown",
            "source": [
                "And $\\mathbf{L}$ has the same rows as before, but arranged into triangular order:"
            ],
            "id": "641b6b35",
            "metadata": {}
        },
        {
            "outputs": [
                {
                    "output_type": "execute_result",
                    "data": {
                        "text/plain": [
                            "L = 4×4 double\n",
                            "    1.0000         0         0         0\n",
                            "   -0.2500    1.0000         0         0\n",
                            "    0.5000   -0.1538    1.0000         0\n",
                            "   -0.5000    0.1538    0.0833    1.0000\n"
                        ],
                        "text/html": [
                            "<html><body><pre>L = 4×4 double\n",
                            "    1.0000         0         0         0\n",
                            "   -0.2500    1.0000         0         0\n",
                            "    0.5000   -0.1538    1.0000         0\n",
                            "   -0.5000    0.1538    0.0833    1.0000\n",
                            "</pre></body></html>"
                        ]
                    },
                    "metadata": {},
                    "execution_count": 5
                }
            ],
            "cell_type": "code",
            "source": [
                "L"
            ],
            "id": "2a49ee12",
            "metadata": {},
            "execution_count": 5
        }
    ],
    "nbformat_minor": 5,
    "metadata": {
        "language_info": {
            "file_extension": ".m",
            "mimetype": "text/x-matlab",
            "name": "matlab"
        },
        "kernelspec": {
            "name": "jupyter_matlab_kernel",
            "display_name": "MATLAB Kernel",
            "language": "matlab"
        },
        "numbering": {
            "headings": false
        }
    },
    "nbformat": 4
}
