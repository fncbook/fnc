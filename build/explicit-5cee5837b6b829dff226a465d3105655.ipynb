{
 "cells": [
  {
   "cell_type": "code",
   "execution_count": 3,
   "id": "a6983fab",
   "metadata": {
    "tags": [
     "remove-cell"
    ]
   },
   "outputs": [],
   "source": [
    "exec(open(\"../../../python/FNC_init.py\").read())"
   ]
  },
  {
   "cell_type": "markdown",
   "id": "d108e7ff",
   "metadata": {},
   "source": [
    "[**Demo %s**](#demo-stiffness-explicit)\n",
    "\n",
    "The `BDF` solver is good for stiff problems and needs few time steps to solve the Oregonator from {numref}`Demo {number} <demo-stiffness-oregon>`."
   ]
  },
  {
   "cell_type": "code",
   "execution_count": 9,
   "id": "8d75bc83",
   "metadata": {
    "tags": [
     "hide-input"
    ]
   },
   "outputs": [],
   "source": [
    "from scipy.integrate import solve_ivp\n",
    "q, s, w = (8.375e-6, 77.27, 0.161)\n",
    "\n",
    "def ode(t, u):\n",
    "    return array(\n",
    "        [\n",
    "            s * (u[1] - u[0] * u[1] + u[0] - q * u[0]**2),\n",
    "            (-u[1] - u[0] * u[1] + u[2]) / s,\n",
    "            w * (u[0] - u[2]),\n",
    "        ]\n",
    "    )\n",
    "\n",
    "J = lambda u: array(\n",
    "    [\n",
    "        [-s * (u[1] + 1 - 2 * q * u[0]), s * (1 - u[0]), 0],\n",
    "        [-u[1] / s, (-1 - u[0]) / s, 1 / s],\n",
    "        [w, 0, -w],\n",
    "    ]\n",
    ")\n",
    "\n",
    "u0 = array([1.0, 2.0, 3.0])"
   ]
  },
  {
   "cell_type": "code",
   "execution_count": 5,
   "id": "76a074fa",
   "metadata": {},
   "outputs": [
    {
     "name": "stdout",
     "output_type": "stream",
     "text": [
      "stiff solver took 0.023 seconds with 198 time steps\n"
     ]
    }
   ],
   "source": [
    "tspan = (0, 25)\n",
    "start = timer()\n",
    "sol = solve_ivp(ode, tspan, u0, method=\"BDF\")\n",
    "print(f\"stiff solver took {timer() - start:.3f} seconds with {len(sol.t) - 1} time steps\")"
   ]
  },
  {
   "cell_type": "markdown",
   "id": "1448d1ef",
   "metadata": {},
   "source": [
    "But if we apply {numref}`Function {number} <function-rk23>` to the problem, the step size will be made small enough to cope with the large negative eigenvalue."
   ]
  },
  {
   "cell_type": "code",
   "execution_count": 6,
   "id": "f5d30c42",
   "metadata": {},
   "outputs": [
    {
     "name": "stdout",
     "output_type": "stream",
     "text": [
      "rk23 solver took 1.070 seconds with 21388 time steps\n"
     ]
    }
   ],
   "source": [
    "start = timer()\n",
    "t, u = FNC.rk23(ode, tspan, u0, 1e-6)\n",
    "print(f\"rk23 solver took {timer() - start:.3f} seconds with {len(t) - 1} time steps\")"
   ]
  },
  {
   "cell_type": "markdown",
   "id": "dd433283",
   "metadata": {},
   "source": [
    "Starting from the eigenvalues of the Jacobian matrix, we can find an effective $\\zeta(t)$ by multiplying with the local time step size. The values of $\\zeta(t)$ for each time level are plotted below and color coded by component of the diagonalized system."
   ]
  },
  {
   "cell_type": "code",
   "execution_count": 10,
   "id": "647d4ed6",
   "metadata": {
    "tags": [
     "hide-input"
    ]
   },
   "outputs": [
    {
     "data": {
      "image/png": "[encoded data removed]",
      "text/plain": [
       "<Figure size 700x400 with 1 Axes>"
      ]
     },
     "metadata": {},
     "output_type": "display_data"
    }
   ],
   "source": [
    "from numpy.linalg import eigvals\n",
    "zeta = zeros([len(t)- 1, 3]) + 0j    # complex array\n",
    "for i in range(len(t) - 1):\n",
    "    dt = t[i+1] - t[i]\n",
    "    lamb = eigvals(J(u[:, i]))\n",
    "    zeta[i] = lamb * dt\n",
    "plot(real(zeta), imag(zeta), \".\")\n",
    "axis(\"equal\")\n",
    "xlabel(\"Re $\\\\zeta$\")\n",
    "ylabel(\"Im $\\\\zeta$\")\n",
    "title(\"Oregonator stability\");"
   ]
  },
  {
   "cell_type": "markdown",
   "id": "2be394f9",
   "metadata": {},
   "source": [
    "Roughly speaking, the $\\zeta$ values stay within or close to the RK2 stability region in {numref}`figure-stabreg_bd_rk`. Momentary departures from the region are possible, but time stepping repeatedly in that situation would cause instability."
   ]
  }
 ],
 "metadata": {
  "kernelspec": {
   "display_name": "myst",
   "language": "python",
   "name": "python3"
  },
  "language_info": {
   "codemirror_mode": {
    "name": "ipython",
    "version": 3
   },
   "file_extension": ".py",
   "mimetype": "text/x-python",
   "name": "python",
   "nbconvert_exporter": "python",
   "pygments_lexer": "ipython3",
   "version": "3.13.0"
  },
  "numbering": {
   "headings": false
  }
 },
 "nbformat": 4,
 "nbformat_minor": 5
}
