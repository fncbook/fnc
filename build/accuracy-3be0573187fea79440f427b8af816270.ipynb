{
 "cells": [
  {
   "cell_type": "markdown",
   "id": "bd60407e",
   "metadata": {},
   "source": [
    "Recall the grade-school approximation to the number $\\pi$."
   ]
  },
  {
   "cell_type": "code",
   "execution_count": 1,
   "id": "718d2099",
   "metadata": {
    "execution": {
     "iopub.execute_input": "2025-01-04T15:17:41.047000Z",
     "iopub.status.busy": "2025-01-04T15:17:40.773000Z",
     "iopub.status.idle": "2025-01-04T15:17:41.257000Z",
     "shell.execute_reply": "2025-01-04T15:17:41.213000Z"
    }
   },
   "outputs": [
    {
     "name": "stdout",
     "output_type": "stream",
     "text": [
      "p = 22 / 7 = 3.142857142857143"
     ]
    },
    {
     "name": "stdout",
     "output_type": "stream",
     "text": [
      "\n"
     ]
    }
   ],
   "source": [
    "@show p = 22/7;"
   ]
  },
  {
   "cell_type": "markdown",
   "id": "b9f6a1e0",
   "metadata": {},
   "source": [
    "Not all the digits displayed for `p` are the same as those of $\\pi$. \n",
    "\n",
    "```{tip}\n",
    ":class: dropdown\n",
    "The value of `pi` is predefined and equivalent to `π`, which is entered by typing `\\pi` followed immediately by the <kbd>Tab</kbd> key.\n",
    "```"
   ]
  },
  {
   "cell_type": "code",
   "execution_count": 2,
   "id": "a8546ece",
   "metadata": {
    "execution": {
     "iopub.execute_input": "2025-01-04T15:17:41.258000Z",
     "iopub.status.busy": "2025-01-04T15:17:41.258000Z",
     "iopub.status.idle": "2025-01-04T15:17:41.259000Z",
     "shell.execute_reply": "2025-01-04T15:17:41.259000Z"
    }
   },
   "outputs": [
    {
     "name": "stdout",
     "output_type": "stream",
     "text": [
      "float(π) = 3.141592653589793\n"
     ]
    }
   ],
   "source": [
    "@show float(π);"
   ]
  },
  {
   "cell_type": "markdown",
   "id": "f66a9a20",
   "metadata": {},
   "source": [
    "\n",
    "The absolute and relative accuracies of the approximation are as follows.\n",
    "\n",
    "```{tip}\n",
    ":class: dropdown\n",
    "A dollar sign `$` in a string substitutes (or *interpolates*) the named variable or expression into the string.\n",
    "```"
   ]
  },
  {
   "cell_type": "markdown",
   "id": "647a8197",
   "metadata": {},
   "source": [
    "```{index} ! Julia; string interpolation\n",
    "```"
   ]
  },
  {
   "cell_type": "code",
   "execution_count": 3,
   "id": "991fd76b",
   "metadata": {
    "execution": {
     "iopub.execute_input": "2025-01-04T15:17:41.260000Z",
     "iopub.status.busy": "2025-01-04T15:17:41.260000Z",
     "iopub.status.idle": "2025-01-04T15:17:41.268000Z",
     "shell.execute_reply": "2025-01-04T15:17:41.268000Z"
    }
   },
   "outputs": [
    {
     "name": "stdout",
     "output_type": "stream",
     "text": [
      "absolute accuracy = 0.0012644892673496777\n",
      "relative accuracy = 0.0004024994347707008\n"
     ]
    }
   ],
   "source": [
    "acc = abs(p-π)\n",
    "println(\"absolute accuracy = $acc\")\n",
    "println(\"relative accuracy = $(acc/π)\")"
   ]
  },
  {
   "cell_type": "markdown",
   "id": "d93b325b",
   "metadata": {},
   "source": [
    "Here we calculate the number of accurate digits in `p`.\n",
    "\n",
    "```{tip}\n",
    ":class: dropdown\n",
    "The `log` function is for the natural log. For other common bases, use `log10` or `log2`.\n",
    "```"
   ]
  },
  {
   "cell_type": "code",
   "execution_count": 4,
   "id": "df9d9967",
   "metadata": {
    "execution": {
     "iopub.execute_input": "2025-01-04T15:17:41.269000Z",
     "iopub.status.busy": "2025-01-04T15:17:41.269000Z",
     "iopub.status.idle": "2025-01-04T15:17:41.278000Z",
     "shell.execute_reply": "2025-01-04T15:17:41.278000Z"
    }
   },
   "outputs": [
    {
     "name": "stdout",
     "output_type": "stream",
     "text": [
      "Number of accurate digits = 3.3952347251747166\n"
     ]
    }
   ],
   "source": [
    "println(\"Number of accurate digits = $(-log10(acc/π))\")"
   ]
  },
  {
   "cell_type": "markdown",
   "id": "d80243eb",
   "metadata": {},
   "source": [
    "This last value could be rounded down by using `floor`."
   ]
  }
 ],
 "metadata": {
  "kernelspec": {
   "display_name": "Julia 1",
   "language": "julia",
   "name": "julia-1.11"
  },
  "language_info": {
   "file_extension": ".jl",
   "mimetype": "application/julia",
   "name": "julia",
   "version": "1.11.2"
  },
  "numbering": {
   "headings": false
  }
 },
 "nbformat": 4,
 "nbformat_minor": 5
}
