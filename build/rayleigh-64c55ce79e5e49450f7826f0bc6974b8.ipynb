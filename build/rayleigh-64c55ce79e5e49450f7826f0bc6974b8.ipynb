{
 "cells": [
  {
   "cell_type": "code",
   "execution_count": 1,
   "id": "cd751bbc",
   "metadata": {
    "tags": [
     "remove-cell"
    ]
   },
   "outputs": [],
   "source": [
    "cd  /Users/driscoll/Documents/GitHub/fnc/matlab\n",
    "FNC_init"
   ]
  },
  {
   "cell_type": "markdown",
   "id": "aad3a574",
   "metadata": {},
   "source": [
    "[**Demo %s**](#demo-symm-eig-rayleigh)\n",
    "\n",
    "We will use a symmetric matrix with a known EVD and eigenvalues equal to the integers from 1 to 20."
   ]
  },
  {
   "cell_type": "code",
   "execution_count": 2,
   "id": "f6d0a09f",
   "metadata": {},
   "outputs": [],
   "source": [
    "n = 20;\n",
    "lambda = 1:n;\n",
    "D = diag(lambda);\n",
    "[V, ~] = qr(randn(n, n));    % get a random orthogonal V\n",
    "A = V * D * V';"
   ]
  },
  {
   "cell_type": "markdown",
   "id": "250a3da7",
   "metadata": {},
   "source": [
    "The Rayleigh quotient is a scalar-valued function of a vector."
   ]
  },
  {
   "cell_type": "code",
   "execution_count": 3,
   "id": "739bba18",
   "metadata": {},
   "outputs": [],
   "source": [
    "R = @(x) (x' * A * x) / (x' * x);"
   ]
  },
  {
   "cell_type": "markdown",
   "id": "4259399b",
   "metadata": {},
   "source": [
    "The Rayleigh quotient evaluated at an eigenvector gives the corresponding eigenvalue."
   ]
  },
  {
   "cell_type": "code",
   "execution_count": 4,
   "id": "d3026511",
   "metadata": {},
   "outputs": [
    {
     "data": {
      "text/html": [
       "<html><body><pre>ans = \n",
       "   7.000000000000003\n",
       "</pre></body></html>"
      ],
      "text/plain": [
       "ans = \n",
       "   7.000000000000003\n"
      ]
     },
     "execution_count": 4,
     "metadata": {},
     "output_type": "execute_result"
    }
   ],
   "source": [
    "format long\n",
    "R(V(:, 7))"
   ]
  },
  {
   "cell_type": "markdown",
   "id": "421cbf00",
   "metadata": {},
   "source": [
    "If the input to he Rayleigh quotient is within a small $\\delta$ of an eigenvector, its output is within $O(\\delta^2)$ of the corresponding eigenvalue. In this experiment, we observe that each additional digit of accuracy in an approximate eigenvector gives two more digits to the eigenvalue estimate coming from the Rayleigh quotient."
   ]
  },
  {
   "cell_type": "code",
   "execution_count": 5,
   "id": "03dc1583",
   "metadata": {},
   "outputs": [
    {
     "name": "stdout",
     "output_type": "stream",
     "text": [
      "    perturbation size       R(x) - lambda    \n",
      "    _________________    ____________________\n",
      "\n",
      "            0.1            0.0341686791081619\n",
      "           0.01           0.00047572563889009\n",
      "          0.001          1.48724309667614e-06\n",
      "         0.0001            5.279688597426e-08\n",
      "          1e-05          3.60884655492555e-10\n",
      "\n"
     ]
    }
   ],
   "source": [
    "delta = 1 ./ 10 .^ (1:5)';\n",
    "dif = zeros(size(delta));\n",
    "for k = 1:length(delta)\n",
    "    e = randn(n, 1);\n",
    "    e = delta(k) * e / norm(e);\n",
    "    x = V(:, 6) + e;\n",
    "    dif(k) = R(x) - lambda(6);\n",
    "end\n",
    "disp(table(delta, dif, variablenames=[\"perturbation size\", \"R(x) - lambda\"]))"
   ]
  }
 ],
 "metadata": {
  "kernelspec": {
   "display_name": "MATLAB Kernel",
   "language": "matlab",
   "name": "jupyter_matlab_kernel"
  },
  "language_info": {
   "file_extension": ".m",
   "mimetype": "text/x-matlab",
   "name": "matlab"
  },
  "numbering": {
   "headings": false
  }
 },
 "nbformat": 4,
 "nbformat_minor": 5
}
