{
    "cells": [
        {
            "cell_type": "markdown",
            "source": [
                "[**Demo %s**](#demo-qr-stable)\n",
                "\n",
                "We'll repeat the experiment of {numref}`Demo {number} <demo-normaleqns-instab>`, which exposed instability in the normal equations."
            ],
            "id": "bff9a179",
            "metadata": {}
        },
        {
            "outputs": [],
            "cell_type": "code",
            "source": [
                "t = linspace(0, 3, 400)';\n",
                "A = [ sin(t).^2, cos((1+1e-7)*t).^2, t.^0 ];\n",
                "x = [1; 2; 1];\n",
                "b = A * x;"
            ],
            "id": "c6aaa579",
            "metadata": {},
            "execution_count": 2
        },
        {
            "cell_type": "markdown",
            "source": [
                "The error in the solution by {numref}`Function {number} <function-lsqrfact>` is similar to the bound predicted by the condition number."
            ],
            "id": "378bc3a6",
            "metadata": {}
        },
        {
            "outputs": [
                {
                    "output_type": "execute_result",
                    "data": {
                        "text/plain": [
                            "observed_error = 8.8581e-10"
                        ],
                        "text/html": [
                            "<html><body><pre>observed_error = 8.8581e-10</pre></body></html>"
                        ]
                    },
                    "metadata": {},
                    "execution_count": 3
                },
                {
                    "output_type": "execute_result",
                    "data": {
                        "text/plain": [
                            "error_bound = 4.0530e-09"
                        ],
                        "text/html": [
                            "<html><body><pre>error_bound = 4.0530e-09</pre></body></html>"
                        ]
                    },
                    "metadata": {},
                    "execution_count": 3
                }
            ],
            "cell_type": "code",
            "source": [
                "observed_error = norm(lsqrfact(A, b) - x) / norm(x)\n",
                "error_bound = cond(A) * eps"
            ],
            "id": "13b34570",
            "metadata": {},
            "execution_count": 3
        }
    ],
    "nbformat_minor": 5,
    "metadata": {
        "language_info": {
            "file_extension": ".m",
            "mimetype": "text/x-matlab",
            "name": "matlab"
        },
        "kernelspec": {
            "name": "jupyter_matlab_kernel",
            "display_name": "MATLAB Kernel",
            "language": "matlab"
        },
        "numbering": {
            "headings": false
        }
    },
    "nbformat": 4
}
