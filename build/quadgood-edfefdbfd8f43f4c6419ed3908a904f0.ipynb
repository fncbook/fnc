{
 "cells": [
  {
   "cell_type": "markdown",
   "id": "ab00c049",
   "metadata": {},
   "source": [
    "[**Demo %s**](#demo-stability-quadgood)\n",
    "\n",
    "We repeat the rootfinding experiment of {numref}`Demo %s <demo-stability-quadbad>` with an alternative algorithm."
   ]
  },
  {
   "cell_type": "code",
   "execution_count": 1,
   "id": "0919086a",
   "metadata": {
    "execution": {
     "iopub.execute_input": "2025-01-14T16:35:21.717000Z",
     "iopub.status.busy": "2025-01-14T16:35:21.286000Z",
     "iopub.status.idle": "2025-01-14T16:35:22.024000Z",
     "shell.execute_reply": "2025-01-14T16:35:21.960000Z"
    }
   },
   "outputs": [],
   "source": [
    "a = 1;  b = -(1e6 + 1e-6);  c = 1;"
   ]
  },
  {
   "cell_type": "markdown",
   "id": "f3ae25f5",
   "metadata": {},
   "source": [
    "First, we find the \"good\" root using the quadratic formula."
   ]
  },
  {
   "cell_type": "code",
   "execution_count": 2,
   "id": "4e07f7d1",
   "metadata": {
    "execution": {
     "iopub.execute_input": "2025-01-14T16:35:22.027000Z",
     "iopub.status.busy": "2025-01-14T16:35:22.026000Z",
     "iopub.status.idle": "2025-01-14T16:35:22.085000Z",
     "shell.execute_reply": "2025-01-14T16:35:22.084000Z"
    }
   },
   "outputs": [
    {
     "name": "stdout",
     "output_type": "stream",
     "text": [
      "x₁ = (-b + sqrt(b ^ 2 - (4a) * c)) / (2a) = 1.0e6\n"
     ]
    }
   ],
   "source": [
    "@show x₁ = (-b + sqrt(b^2 - 4a*c)) / 2a;"
   ]
  },
  {
   "cell_type": "markdown",
   "id": "c478470d",
   "metadata": {},
   "source": [
    "Then we use the identity $x_1x_2=\\frac{c}{a}$ to compute the smaller root:"
   ]
  },
  {
   "cell_type": "code",
   "execution_count": 3,
   "id": "b7376c63",
   "metadata": {
    "execution": {
     "iopub.execute_input": "2025-01-14T16:35:22.088000Z",
     "iopub.status.busy": "2025-01-14T16:35:22.088000Z",
     "iopub.status.idle": "2025-01-14T16:35:22.093000Z",
     "shell.execute_reply": "2025-01-14T16:35:22.092000Z"
    }
   },
   "outputs": [
    {
     "name": "stdout",
     "output_type": "stream",
     "text": [
      "x₂ = c / (a * x₁) = 1.0e-6\n"
     ]
    }
   ],
   "source": [
    "@show x₂ = c / (a * x₁);"
   ]
  },
  {
   "cell_type": "markdown",
   "id": "30bd6c38",
   "metadata": {},
   "source": [
    "As you see in this output, Julia often suppresses trailing zeros in a decimal expansion. To be sure we have an accurate result, we compute its relative error."
   ]
  },
  {
   "cell_type": "code",
   "execution_count": 4,
   "id": "bed52c37",
   "metadata": {
    "execution": {
     "iopub.execute_input": "2025-01-14T16:35:22.095000Z",
     "iopub.status.busy": "2025-01-14T16:35:22.095000Z",
     "iopub.status.idle": "2025-01-14T16:35:22.418000Z",
     "shell.execute_reply": "2025-01-14T16:35:22.417000Z"
    }
   },
   "outputs": [
    {
     "data": {
      "text/plain": [
       "0.0"
      ]
     },
     "execution_count": 4,
     "metadata": {},
     "output_type": "execute_result"
    }
   ],
   "source": [
    "abs(x₂ - 1e-6) / 1e-6"
   ]
  }
 ],
 "metadata": {
  "kernelspec": {
   "display_name": "Julia 1",
   "language": "julia",
   "name": "julia-1.11"
  },
  "language_info": {
   "file_extension": ".jl",
   "mimetype": "application/julia",
   "name": "julia",
   "version": "1.11.2"
  },
  "numbering": {
   "headings": false
  }
 },
 "nbformat": 4,
 "nbformat_minor": 5
}
