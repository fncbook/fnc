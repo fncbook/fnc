{
    "cells": [
        {
            "outputs": [
                {
                    "name": "stderr",
                    "output_type": "stream",
                    "text": [
                        "\u001b[32m\u001b[1m  Activating\u001b[22m\u001b[39m "
                    ]
                },
                {
                    "name": "stderr",
                    "output_type": "stream",
                    "text": [
                        "project at `~/Documents/GitHub/fnc`\n"
                    ]
                }
            ],
            "cell_type": "code",
            "source": [
                "include(\"../../../julia/FNC_init.jl\")"
            ],
            "id": "445cad92",
            "metadata": {
                "execution": {
                    "iopub.status.idle": "2025-01-14T16:02:34.497000Z",
                    "iopub.status.busy": "2025-01-14T16:01:28.065000Z",
                    "iopub.execute_input": "2025-01-14T16:01:32.724000Z",
                    "shell.execute_reply": "2025-01-14T16:02:33.595000Z"
                },
                "tags": [
                    "remove-cell"
                ]
            },
            "execution_count": 1
        },
        {
            "cell_type": "markdown",
            "source": [
                "[**Demo %s**](#demo-int-extrap)\n",
                "\n",
                "We estimate $\\displaystyle\\int_0^2 x^2 e^{-2x}\\, dx$ using extrapolation. First we use `quadgk` to get an accurate value."
            ],
            "id": "d7e51501",
            "metadata": {}
        },
        {
            "outputs": [
                {
                    "name": "stdout",
                    "output_type": "stream",
                    "text": [
                        "Q = 0.1904741736116139"
                    ]
                },
                {
                    "name": "stdout",
                    "output_type": "stream",
                    "text": [
                        "\n"
                    ]
                }
            ],
            "cell_type": "code",
            "source": [
                "using QuadGK\n",
                "f = x -> x^2 * exp(-2x);\n",
                "a = 0;\n",
                "b = 2;\n",
                "Q, _ = quadgk(f, a, b, atol=1e-14, rtol=1e-14)\n",
                "@show Q;"
            ],
            "id": "ed2f4a05",
            "metadata": {
                "execution": {
                    "iopub.status.idle": "2025-01-14T16:02:46.803000Z",
                    "iopub.status.busy": "2025-01-14T16:02:34.613000Z",
                    "iopub.execute_input": "2025-01-14T16:02:37.505000Z",
                    "shell.execute_reply": "2025-01-14T16:02:46.799000Z"
                }
            },
            "execution_count": 2
        },
        {
            "cell_type": "markdown",
            "source": [
                "We start with the trapezoid formula on $n=N$ nodes."
            ],
            "id": "5c349388",
            "metadata": {}
        },
        {
            "outputs": [],
            "cell_type": "code",
            "source": [
                "N = 20;       # the coarsest formula\n",
                "n = N;\n",
                "h = (b - a) / n;\n",
                "t = h * (0:n);\n",
                "y = f.(t);"
            ],
            "id": "98507627",
            "metadata": {
                "execution": {
                    "iopub.status.idle": "2025-01-14T16:02:47.294000Z",
                    "iopub.status.busy": "2025-01-14T16:02:46.851000Z",
                    "iopub.execute_input": "2025-01-14T16:02:46.862000Z",
                    "shell.execute_reply": "2025-01-14T16:02:47.293000Z"
                }
            },
            "execution_count": 3
        },
        {
            "cell_type": "markdown",
            "source": [
                "We can now apply weights to get the estimate $T_f(N)$."
            ],
            "id": "e82f9d32",
            "metadata": {}
        },
        {
            "outputs": [
                {
                    "output_type": "execute_result",
                    "data": {
                        "text/plain": [
                            "1-element Vector{Float64}:\n",
                            " 0.19041144993926784"
                        ]
                    },
                    "metadata": {},
                    "execution_count": 4
                }
            ],
            "cell_type": "code",
            "source": [
                "T = [h * (sum(y[2:n]) + y[1] / 2 + y[n+1] / 2)]"
            ],
            "id": "1986463e",
            "metadata": {
                "execution": {
                    "iopub.status.idle": "2025-01-14T16:03:08.794000Z",
                    "iopub.status.busy": "2025-01-14T16:02:47.312000Z",
                    "iopub.execute_input": "2025-01-14T16:02:47.312000Z",
                    "shell.execute_reply": "2025-01-14T16:03:08.793000Z"
                }
            },
            "execution_count": 4
        },
        {
            "cell_type": "markdown",
            "source": [
                "Now we double to $n=2N$, but we only need to evaluate $f$ at every other interior node and apply {eq}`nc-doubling`."
            ],
            "id": "5aa3c446",
            "metadata": {}
        },
        {
            "outputs": [
                {
                    "output_type": "execute_result",
                    "data": {
                        "text/plain": [
                            "2-element Vector{Float64}:\n",
                            " 0.19041144993926784\n",
                            " 0.19045880585951175"
                        ]
                    },
                    "metadata": {},
                    "execution_count": 5
                }
            ],
            "cell_type": "code",
            "source": [
                "n = 2n;\n",
                "h = h / 2;\n",
                "t = h * (0:n);\n",
                "T = [T; T[end] / 2 + h * sum(f.(t[2:2:n]))]"
            ],
            "id": "63b30052",
            "metadata": {
                "execution": {
                    "iopub.status.idle": "2025-01-14T16:03:08.985000Z",
                    "iopub.status.busy": "2025-01-14T16:03:08.808000Z",
                    "iopub.execute_input": "2025-01-14T16:03:08.812000Z",
                    "shell.execute_reply": "2025-01-14T16:03:08.985000Z"
                }
            },
            "execution_count": 5
        },
        {
            "cell_type": "markdown",
            "source": [
                "We can repeat the same code to double $n$ again."
            ],
            "id": "555ee0ea",
            "metadata": {}
        },
        {
            "outputs": [
                {
                    "output_type": "execute_result",
                    "data": {
                        "text/plain": [
                            "3-element Vector{Float64}:\n",
                            " 0.19041144993926784\n",
                            " 0.19045880585951175\n",
                            " 0.1904703513046443"
                        ]
                    },
                    "metadata": {},
                    "execution_count": 6
                }
            ],
            "cell_type": "code",
            "source": [
                "n = 2n;\n",
                "h = h / 2;\n",
                "t = h * (0:n);\n",
                "T = [T; T[end] / 2 + h * sum(f.(t[2:2:n]))]"
            ],
            "id": "05ace503",
            "metadata": {
                "execution": {
                    "iopub.status.idle": "2025-01-14T16:03:08.999000Z",
                    "iopub.status.busy": "2025-01-14T16:03:08.990000Z",
                    "iopub.execute_input": "2025-01-14T16:03:08.991000Z",
                    "shell.execute_reply": "2025-01-14T16:03:08.999000Z"
                }
            },
            "execution_count": 6
        },
        {
            "cell_type": "markdown",
            "source": [
                "Let us now do the first level of extrapolation to get results from Simpson's formula. We combine the elements `T[i]` and `T[i+1]` the same way for $i=1$ and $i=2$."
            ],
            "id": "dc7c28d3",
            "metadata": {}
        },
        {
            "outputs": [
                {
                    "output_type": "execute_result",
                    "data": {
                        "text/plain": [
                            "2-element Vector{Float64}:\n",
                            " 0.19047459116625973\n",
                            " 0.19047419978635513"
                        ]
                    },
                    "metadata": {},
                    "execution_count": 7
                }
            ],
            "cell_type": "code",
            "source": [
                "S = [(4T[i+1] - T[i]) / 3 for i in 1:2]"
            ],
            "id": "7af027b9",
            "metadata": {
                "execution": {
                    "iopub.status.idle": "2025-01-14T16:03:09.354000Z",
                    "iopub.status.busy": "2025-01-14T16:03:09.003000Z",
                    "iopub.execute_input": "2025-01-14T16:03:09.004000Z",
                    "shell.execute_reply": "2025-01-14T16:03:09.354000Z"
                }
            },
            "execution_count": 7
        },
        {
            "cell_type": "markdown",
            "source": [
                "With the two Simpson values $S_f(N)$ and $S_f(2N)$ in hand, we can do one more level of extrapolation to get a sixth-order accurate result."
            ],
            "id": "d6751690",
            "metadata": {}
        },
        {
            "outputs": [
                {
                    "output_type": "execute_result",
                    "data": {
                        "text/plain": [
                            "0.1904741736943615"
                        ]
                    },
                    "metadata": {},
                    "execution_count": 8
                }
            ],
            "cell_type": "code",
            "source": [
                "R = (16S[2] - S[1]) / 15"
            ],
            "id": "fc624050",
            "metadata": {
                "execution": {
                    "iopub.status.idle": "2025-01-14T16:03:10.702000Z",
                    "iopub.status.busy": "2025-01-14T16:03:09.358000Z",
                    "iopub.execute_input": "2025-01-14T16:03:09.358000Z",
                    "shell.execute_reply": "2025-01-14T16:03:10.701000Z"
                }
            },
            "execution_count": 8
        },
        {
            "cell_type": "markdown",
            "source": [
                "We can make a triangular table of the errors:\n",
                "```{tip}\n",
                ":class: dropdown\n",
                "The value `nothing` equals nothing except `nothing`.\n",
                "```"
            ],
            "id": "cac39f87",
            "metadata": {}
        },
        {
            "outputs": [
                {
                    "output_type": "display_data",
                    "data": {
                        "text/html": [
                            "<table>\n",
                            "  <thead>\n",
                            "    <tr class = \"header headerLastRow\">\n",
                            "      <th style = \"text-align: right;\">order 2</th>\n",
                            "      <th style = \"text-align: right;\">order 4</th>\n",
                            "      <th style = \"text-align: right;\">order 6</th>\n",
                            "    </tr>\n",
                            "  </thead>\n",
                            "  <tbody>\n",
                            "    <tr>\n",
                            "      <td style = \"text-align: right;\">-6.27237e-5</td>\n",
                            "      <td style = \"text-align: right;\">nothing</td>\n",
                            "      <td style = \"text-align: right;\">nothing</td>\n",
                            "    </tr>\n",
                            "    <tr>\n",
                            "      <td style = \"text-align: right;\">-1.53678e-5</td>\n",
                            "      <td style = \"text-align: right;\">4.17555e-7</td>\n",
                            "      <td style = \"text-align: right;\">nothing</td>\n",
                            "    </tr>\n",
                            "    <tr>\n",
                            "      <td style = \"text-align: right;\">-3.82231e-6</td>\n",
                            "      <td style = \"text-align: right;\">2.61747e-8</td>\n",
                            "      <td style = \"text-align: right;\">8.27476e-11</td>\n",
                            "    </tr>\n",
                            "  </tbody>\n",
                            "</table>\n"
                        ]
                    },
                    "metadata": {}
                }
            ],
            "cell_type": "code",
            "source": [
                "err = [T .- Q [nothing; S .- Q] [nothing; nothing; R - Q]]\n",
                "@pt :header=[\"order 2\", \"order 4\", \"order 6\"] err"
            ],
            "id": "5a369bd2",
            "metadata": {
                "execution": {
                    "iopub.status.idle": "2025-01-14T16:03:22.016000Z",
                    "iopub.status.busy": "2025-01-14T16:03:10.717000Z",
                    "iopub.execute_input": "2025-01-14T16:03:10.717000Z",
                    "shell.execute_reply": "2025-01-14T16:03:22.016000Z"
                }
            },
            "execution_count": 9
        },
        {
            "cell_type": "markdown",
            "source": [
                "If we consider the computational time to be dominated by evaluations of $f$, then we have obtained a result with about twice as many accurate digits as the best trapezoid result, at virtually no extra cost."
            ],
            "id": "4c762cf6",
            "metadata": {}
        }
    ],
    "nbformat_minor": 5,
    "metadata": {
        "language_info": {
            "file_extension": ".jl",
            "mimetype": "application/julia",
            "name": "julia",
            "version": "1.11.2"
        },
        "kernelspec": {
            "name": "julia-1.11",
            "display_name": "Julia 1",
            "language": "julia"
        },
        "numbering": {
            "headings": false
        }
    },
    "nbformat": 4
}
