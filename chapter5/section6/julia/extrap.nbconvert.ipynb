{
 "cells": [
  {
   "cell_type": "code",
   "execution_count": 1,
   "id": "445cad92",
   "metadata": {
    "execution": {
     "iopub.execute_input": "2025-01-14T16:01:32.724000Z",
     "iopub.status.busy": "2025-01-14T16:01:28.065000Z",
     "iopub.status.idle": "2025-01-14T16:02:34.497000Z",
     "shell.execute_reply": "2025-01-14T16:02:33.595000Z"
    }
   },
   "outputs": [
    {
     "name": "stderr",
     "output_type": "stream",
     "text": [
      "\u001b[32m\u001b[1m  Activating\u001b[22m\u001b[39m "
     ]
    },
    {
     "name": "stderr",
     "output_type": "stream",
     "text": [
      "project at `~/Documents/GitHub/fnc`\n"
     ]
    }
   ],
   "source": [
    "include(\"../../../julia/FNC_init.jl\")"
   ]
  },
  {
   "cell_type": "markdown",
   "id": "d7e51501",
   "metadata": {},
   "source": [
    "[**Demo %s**](#demo-int-extrap)\n",
    "\n",
    "We estimate $\\displaystyle\\int_0^2 x^2 e^{-2x}\\, dx$ using extrapolation. First we use `quadgk` to get an accurate value."
   ]
  },
  {
   "cell_type": "code",
   "execution_count": 2,
   "id": "ed2f4a05",
   "metadata": {
    "execution": {
     "iopub.execute_input": "2025-01-14T16:02:37.505000Z",
     "iopub.status.busy": "2025-01-14T16:02:34.613000Z",
     "iopub.status.idle": "2025-01-14T16:02:46.803000Z",
     "shell.execute_reply": "2025-01-14T16:02:46.799000Z"
    }
   },
   "outputs": [
    {
     "name": "stdout",
     "output_type": "stream",
     "text": [
      "Q = 0.1904741736116139"
     ]
    },
    {
     "name": "stdout",
     "output_type": "stream",
     "text": [
      "\n"
     ]
    }
   ],
   "source": [
    "using QuadGK\n",
    "f = x -> x^2 * exp(-2x);\n",
    "a = 0;\n",
    "b = 2;\n",
    "Q, _ = quadgk(f, a, b, atol=1e-14, rtol=1e-14)\n",
    "@show Q;"
   ]
  },
  {
   "cell_type": "markdown",
   "id": "5c349388",
   "metadata": {},
   "source": [
    "We start with the trapezoid formula on $n=N$ nodes."
   ]
  },
  {
   "cell_type": "code",
   "execution_count": 3,
   "id": "98507627",
   "metadata": {
    "execution": {
     "iopub.execute_input": "2025-01-14T16:02:46.862000Z",
     "iopub.status.busy": "2025-01-14T16:02:46.851000Z",
     "iopub.status.idle": "2025-01-14T16:02:47.294000Z",
     "shell.execute_reply": "2025-01-14T16:02:47.293000Z"
    }
   },
   "outputs": [],
   "source": [
    "N = 20;       # the coarsest formula\n",
    "n = N;\n",
    "h = (b - a) / n;\n",
    "t = h * (0:n);\n",
    "y = f.(t);"
   ]
  },
  {
   "cell_type": "markdown",
   "id": "e82f9d32",
   "metadata": {},
   "source": [
    "We can now apply weights to get the estimate $T_f(N)$."
   ]
  },
  {
   "cell_type": "code",
   "execution_count": 4,
   "id": "1986463e",
   "metadata": {
    "execution": {
     "iopub.execute_input": "2025-01-14T16:02:47.312000Z",
     "iopub.status.busy": "2025-01-14T16:02:47.312000Z",
     "iopub.status.idle": "2025-01-14T16:03:08.794000Z",
     "shell.execute_reply": "2025-01-14T16:03:08.793000Z"
    }
   },
   "outputs": [
    {
     "data": {
      "text/plain": [
       "1-element Vector{Float64}:\n",
       " 0.19041144993926784"
      ]
     },
     "execution_count": 4,
     "metadata": {},
     "output_type": "execute_result"
    }
   ],
   "source": [
    "T = [h * (sum(y[2:n]) + y[1] / 2 + y[n+1] / 2)]"
   ]
  },
  {
   "cell_type": "markdown",
   "id": "5aa3c446",
   "metadata": {},
   "source": [
    "Now we double to $n=2N$, but we only need to evaluate $f$ at every other interior node and apply {eq}`nc-doubling`."
   ]
  },
  {
   "cell_type": "code",
   "execution_count": 5,
   "id": "63b30052",
   "metadata": {
    "execution": {
     "iopub.execute_input": "2025-01-14T16:03:08.812000Z",
     "iopub.status.busy": "2025-01-14T16:03:08.808000Z",
     "iopub.status.idle": "2025-01-14T16:03:08.985000Z",
     "shell.execute_reply": "2025-01-14T16:03:08.985000Z"
    }
   },
   "outputs": [
    {
     "data": {
      "text/plain": [
       "2-element Vector{Float64}:\n",
       " 0.19041144993926784\n",
       " 0.19045880585951175"
      ]
     },
     "execution_count": 5,
     "metadata": {},
     "output_type": "execute_result"
    }
   ],
   "source": [
    "n = 2n;\n",
    "h = h / 2;\n",
    "t = h * (0:n);\n",
    "T = [T; T[end] / 2 + h * sum(f.(t[2:2:n]))]"
   ]
  },
  {
   "cell_type": "markdown",
   "id": "555ee0ea",
   "metadata": {},
   "source": [
    "We can repeat the same code to double $n$ again."
   ]
  },
  {
   "cell_type": "code",
   "execution_count": 6,
   "id": "05ace503",
   "metadata": {
    "execution": {
     "iopub.execute_input": "2025-01-14T16:03:08.991000Z",
     "iopub.status.busy": "2025-01-14T16:03:08.990000Z",
     "iopub.status.idle": "2025-01-14T16:03:08.999000Z",
     "shell.execute_reply": "2025-01-14T16:03:08.999000Z"
    }
   },
   "outputs": [
    {
     "data": {
      "text/plain": [
       "3-element Vector{Float64}:\n",
       " 0.19041144993926784\n",
       " 0.19045880585951175\n",
       " 0.1904703513046443"
      ]
     },
     "execution_count": 6,
     "metadata": {},
     "output_type": "execute_result"
    }
   ],
   "source": [
    "n = 2n;\n",
    "h = h / 2;\n",
    "t = h * (0:n);\n",
    "T = [T; T[end] / 2 + h * sum(f.(t[2:2:n]))]"
   ]
  },
  {
   "cell_type": "markdown",
   "id": "dc7c28d3",
   "metadata": {},
   "source": [
    "Let us now do the first level of extrapolation to get results from Simpson's formula. We combine the elements `T[i]` and `T[i+1]` the same way for $i=1$ and $i=2$."
   ]
  },
  {
   "cell_type": "code",
   "execution_count": 7,
   "id": "7af027b9",
   "metadata": {
    "execution": {
     "iopub.execute_input": "2025-01-14T16:03:09.004000Z",
     "iopub.status.busy": "2025-01-14T16:03:09.003000Z",
     "iopub.status.idle": "2025-01-14T16:03:09.354000Z",
     "shell.execute_reply": "2025-01-14T16:03:09.354000Z"
    }
   },
   "outputs": [
    {
     "data": {
      "text/plain": [
       "2-element Vector{Float64}:\n",
       " 0.19047459116625973\n",
       " 0.19047419978635513"
      ]
     },
     "execution_count": 7,
     "metadata": {},
     "output_type": "execute_result"
    }
   ],
   "source": [
    "S = [(4T[i+1] - T[i]) / 3 for i in 1:2]"
   ]
  },
  {
   "cell_type": "markdown",
   "id": "d6751690",
   "metadata": {},
   "source": [
    "With the two Simpson values $S_f(N)$ and $S_f(2N)$ in hand, we can do one more level of extrapolation to get a sixth-order accurate result."
   ]
  },
  {
   "cell_type": "code",
   "execution_count": 8,
   "id": "fc624050",
   "metadata": {
    "execution": {
     "iopub.execute_input": "2025-01-14T16:03:09.358000Z",
     "iopub.status.busy": "2025-01-14T16:03:09.358000Z",
     "iopub.status.idle": "2025-01-14T16:03:10.702000Z",
     "shell.execute_reply": "2025-01-14T16:03:10.701000Z"
    }
   },
   "outputs": [
    {
     "data": {
      "text/plain": [
       "0.1904741736943615"
      ]
     },
     "execution_count": 8,
     "metadata": {},
     "output_type": "execute_result"
    }
   ],
   "source": [
    "R = (16S[2] - S[1]) / 15"
   ]
  },
  {
   "cell_type": "markdown",
   "id": "cac39f87",
   "metadata": {},
   "source": [
    "We can make a triangular table of the errors:\n",
    "```{tip}\n",
    ":class: dropdown\n",
    "The value `nothing` equals nothing except `nothing`.\n",
    "```"
   ]
  },
  {
   "cell_type": "code",
   "execution_count": 9,
   "id": "5a369bd2",
   "metadata": {
    "execution": {
     "iopub.execute_input": "2025-01-14T16:03:10.717000Z",
     "iopub.status.busy": "2025-01-14T16:03:10.717000Z",
     "iopub.status.idle": "2025-01-14T16:03:22.016000Z",
     "shell.execute_reply": "2025-01-14T16:03:22.016000Z"
    }
   },
   "outputs": [
    {
     "data": {
      "text/html": [
       "<table>\n",
       "  <thead>\n",
       "    <tr class = \"header headerLastRow\">\n",
       "      <th style = \"text-align: right;\">order 2</th>\n",
       "      <th style = \"text-align: right;\">order 4</th>\n",
       "      <th style = \"text-align: right;\">order 6</th>\n",
       "    </tr>\n",
       "  </thead>\n",
       "  <tbody>\n",
       "    <tr>\n",
       "      <td style = \"text-align: right;\">-6.27237e-5</td>\n",
       "      <td style = \"text-align: right;\">nothing</td>\n",
       "      <td style = \"text-align: right;\">nothing</td>\n",
       "    </tr>\n",
       "    <tr>\n",
       "      <td style = \"text-align: right;\">-1.53678e-5</td>\n",
       "      <td style = \"text-align: right;\">4.17555e-7</td>\n",
       "      <td style = \"text-align: right;\">nothing</td>\n",
       "    </tr>\n",
       "    <tr>\n",
       "      <td style = \"text-align: right;\">-3.82231e-6</td>\n",
       "      <td style = \"text-align: right;\">2.61747e-8</td>\n",
       "      <td style = \"text-align: right;\">8.27476e-11</td>\n",
       "    </tr>\n",
       "  </tbody>\n",
       "</table>\n"
      ]
     },
     "metadata": {},
     "output_type": "display_data"
    }
   ],
   "source": [
    "err = [T .- Q [nothing; S .- Q] [nothing; nothing; R - Q]]\n",
    "@pt :header=[\"order 2\", \"order 4\", \"order 6\"] err"
   ]
  },
  {
   "cell_type": "markdown",
   "id": "4c762cf6",
   "metadata": {},
   "source": [
    "If we consider the computational time to be dominated by evaluations of $f$, then we have obtained a result with about twice as many accurate digits as the best trapezoid result, at virtually no extra cost."
   ]
  }
 ],
 "metadata": {
  "kernelspec": {
   "display_name": "Julia 1",
   "language": "julia",
   "name": "julia-1.11"
  },
  "language_info": {
   "file_extension": ".jl",
   "mimetype": "application/julia",
   "name": "julia",
   "version": "1.11.2"
  },
  "numbering": {
   "headings": false
  }
 },
 "nbformat": 4,
 "nbformat_minor": 5
}
