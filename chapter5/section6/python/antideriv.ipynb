{
 "cells": [
  {
   "cell_type": "code",
   "execution_count": 1,
   "id": "1ca72c22",
   "metadata": {
    "execution": {
     "iopub.execute_input": "2025-01-11T16:48:27.459180Z",
     "iopub.status.busy": "2025-01-11T16:48:27.459077Z",
     "iopub.status.idle": "2025-01-11T16:48:27.829179Z",
     "shell.execute_reply": "2025-01-11T16:48:27.828854Z"
    },
    "tags": [
     "remove-cell"
    ]
   },
   "outputs": [],
   "source": [
    "exec(open(\"../../../python/FNC_init.py\").read())"
   ]
  },
  {
   "cell_type": "markdown",
   "id": "add6fb76",
   "metadata": {},
   "source": [
    "[**Demo %s**](#demo-int-antideriv)\n",
    "\n",
    "The antiderivative of $e^x$ is, of course, itself. That makes evaluation of $\\int_0^1 e^x\\,dx$ by the Fundamental Theorem trivial."
   ]
  },
  {
   "cell_type": "code",
   "execution_count": 2,
   "id": "3d571c01",
   "metadata": {
    "execution": {
     "iopub.execute_input": "2025-01-11T16:48:27.830898Z",
     "iopub.status.busy": "2025-01-11T16:48:27.830738Z",
     "iopub.status.idle": "2025-01-11T16:48:27.832523Z",
     "shell.execute_reply": "2025-01-11T16:48:27.832317Z"
    }
   },
   "outputs": [],
   "source": [
    "exact = exp(1) - 1"
   ]
  },
  {
   "cell_type": "markdown",
   "id": "061e13e2",
   "metadata": {},
   "source": [
    "```{index} ! Julia; quadgk\n",
    "```\n",
    "\n",
    "The module `scipy.integrate` has multiple functions that estimate the value of an integral numerically without finding the antiderivative first. As you can see here, it's often just as accurate."
   ]
  },
  {
   "cell_type": "code",
   "execution_count": 3,
   "id": "fbbde0db",
   "metadata": {
    "execution": {
     "iopub.execute_input": "2025-01-11T16:48:27.833721Z",
     "iopub.status.busy": "2025-01-11T16:48:27.833634Z",
     "iopub.status.idle": "2025-01-11T16:48:27.835922Z",
     "shell.execute_reply": "2025-01-11T16:48:27.835647Z"
    }
   },
   "outputs": [
    {
     "name": "stdout",
     "output_type": "stream",
     "text": [
      "1.7182818284590453\n"
     ]
    }
   ],
   "source": [
    "from scipy.integrate import quad\n",
    "Q, errest = quad(exp, 0, 1, epsabs=1e-13, epsrel=1e-13)\n",
    "print(Q)\n"
   ]
  },
  {
   "cell_type": "markdown",
   "id": "3eb2e8b5",
   "metadata": {},
   "source": [
    "The numerical approach is also far more robust. For example, $e^{\\,\\sin x}$ has no useful antiderivative. But numerically, it's no more difficult."
   ]
  },
  {
   "cell_type": "code",
   "execution_count": 4,
   "id": "240764ad",
   "metadata": {
    "execution": {
     "iopub.execute_input": "2025-01-11T16:48:27.837224Z",
     "iopub.status.busy": "2025-01-11T16:48:27.837131Z",
     "iopub.status.idle": "2025-01-11T16:48:27.839001Z",
     "shell.execute_reply": "2025-01-11T16:48:27.838786Z"
    }
   },
   "outputs": [
    {
     "name": "stdout",
     "output_type": "stream",
     "text": [
      "1.6318696084180513\n"
     ]
    }
   ],
   "source": [
    "Q, errest = quad(lambda x: exp(sin(x)), 0, 1, epsabs=1e-13, epsrel=1e-13)\n",
    "print(Q)"
   ]
  },
  {
   "cell_type": "markdown",
   "id": "272d7e84",
   "metadata": {},
   "source": [
    "When you look at the graphs of these functions, what's remarkable is that one of these areas is basic calculus while the other is almost impenetrable analytically. From a numerical standpoint, they are practically the same problem."
   ]
  },
  {
   "cell_type": "code",
   "execution_count": 10,
   "id": "63a4e979",
   "metadata": {
    "execution": {
     "iopub.execute_input": "2025-01-11T16:48:27.840048Z",
     "iopub.status.busy": "2025-01-11T16:48:27.839956Z",
     "iopub.status.idle": "2025-01-11T16:48:27.936735Z",
     "shell.execute_reply": "2025-01-11T16:48:27.936427Z"
    }
   },
   "outputs": [
    {
     "data": {
      "image/png": "[encoded data removed]",
      "text/plain": [
       "<Figure size 700x400 with 2 Axes>"
      ]
     },
     "metadata": {},
     "output_type": "display_data"
    }
   ],
   "source": [
    "x = linspace(0, 1, 300)\n",
    "subplot(2, 1, 1)\n",
    "fill_between(x, 0*x, exp(x), color=\"lightblue\")\n",
    "plot(x, exp(x))\n",
    "ylim([0, 2.9]),  title(\"exp(x)\"),  xticks([])\n",
    "subplot(2, 1, 2)\n",
    "fill_between(x, 0*x, exp(sin(x)), color=\"lightblue\")\n",
    "plot(x, exp(sin(x)))\n",
    "ylim([0, 2.9]);  title(\"exp(sin(x))\");"
   ]
  }
 ],
 "metadata": {
  "kernelspec": {
   "display_name": "myst",
   "language": "python",
   "name": "python3"
  },
  "language_info": {
   "codemirror_mode": {
    "name": "ipython",
    "version": 3
   },
   "file_extension": ".py",
   "mimetype": "text/x-python",
   "name": "python",
   "nbconvert_exporter": "python",
   "pygments_lexer": "ipython3",
   "version": "3.13.0"
  },
  "numbering": {
   "headings": false
  }
 },
 "nbformat": 4,
 "nbformat_minor": 5
}
