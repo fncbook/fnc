{
 "cells": [
  {
   "cell_type": "code",
   "execution_count": 1,
   "id": "9fdb53db",
   "metadata": {
    "execution": {
     "iopub.execute_input": "2025-01-14T15:59:50.564000Z",
     "iopub.status.busy": "2025-01-14T15:59:47.418000Z",
     "iopub.status.idle": "2025-01-14T16:01:02.496000Z",
     "shell.execute_reply": "2025-01-14T16:01:01.983000Z"
    }
   },
   "outputs": [
    {
     "name": "stderr",
     "output_type": "stream",
     "text": [
      "\u001b[32m\u001b[1m  Activating\u001b[22m\u001b[39m "
     ]
    },
    {
     "name": "stderr",
     "output_type": "stream",
     "text": [
      "project at `~/Documents/GitHub/fnc`\n"
     ]
    }
   ],
   "source": [
    "include(\"../../../julia/FNC_init.jl\")"
   ]
  },
  {
   "cell_type": "markdown",
   "id": "501a6cd8",
   "metadata": {},
   "source": [
    "[**Demo %s**](#demo-finitediffs-fd2)\n",
    "\n",
    "If $f(x)=e^{\\,\\sin(x)}$, then $f''(0)=1$."
   ]
  },
  {
   "cell_type": "code",
   "execution_count": 2,
   "id": "dbea2dc8",
   "metadata": {
    "execution": {
     "iopub.execute_input": "2025-01-14T16:01:04.641000Z",
     "iopub.status.busy": "2025-01-14T16:01:02.500000Z",
     "iopub.status.idle": "2025-01-14T16:01:05.136000Z",
     "shell.execute_reply": "2025-01-14T16:01:05.128000Z"
    }
   },
   "outputs": [],
   "source": [
    "f = x -> exp(sin(x));"
   ]
  },
  {
   "cell_type": "markdown",
   "id": "e1df5ff0",
   "metadata": {},
   "source": [
    "Here is a centered estimate given by {eq}`centerFD22`."
   ]
  },
  {
   "cell_type": "code",
   "execution_count": 3,
   "id": "57c48684",
   "metadata": {
    "execution": {
     "iopub.execute_input": "2025-01-14T16:01:05.149000Z",
     "iopub.status.busy": "2025-01-14T16:01:05.147000Z",
     "iopub.status.idle": "2025-01-14T16:01:05.709000Z",
     "shell.execute_reply": "2025-01-14T16:01:05.709000Z"
    }
   },
   "outputs": [
    {
     "name": "stdout",
     "output_type": "stream",
     "text": [
      "CD2 = 0.9993749480847745"
     ]
    },
    {
     "name": "stdout",
     "output_type": "stream",
     "text": [
      "\n"
     ]
    }
   ],
   "source": [
    "h = 0.05\n",
    "CD2 = (f(-h) - 2f(0) + f(h)) / h^2\n",
    "@show CD2;"
   ]
  },
  {
   "cell_type": "markdown",
   "id": "055f9a2b",
   "metadata": {},
   "source": [
    "For the same $h$, here are forward estimates given by {eq}`forwardFD21` and {eq}`forwardFD22`."
   ]
  },
  {
   "cell_type": "code",
   "execution_count": 4,
   "id": "d3f6a0a5",
   "metadata": {
    "execution": {
     "iopub.execute_input": "2025-01-14T16:01:05.717000Z",
     "iopub.status.busy": "2025-01-14T16:01:05.717000Z",
     "iopub.status.idle": "2025-01-14T16:01:13.433000Z",
     "shell.execute_reply": "2025-01-14T16:01:13.426000Z"
    }
   },
   "outputs": [
    {
     "name": "stdout",
     "output_type": "stream",
     "text": [
      "(FD1, FD2) = (0.9953738443129188, 1.0078811479598213)"
     ]
    },
    {
     "name": "stdout",
     "output_type": "stream",
     "text": [
      "\n"
     ]
    }
   ],
   "source": [
    "FD1 = (f(0) - 2f(h) + f(2h)) / h^2\n",
    "FD2 = (2f(0) - 5f(h) + 4f(2h) - f(3h)) / h^2\n",
    "@show (FD1, FD2);"
   ]
  },
  {
   "cell_type": "markdown",
   "id": "aa82c1de",
   "metadata": {},
   "source": [
    "Finally, here are the backward estimates that come from reversing {eq}`forwardFD21` and {eq}`forwardFD22`."
   ]
  },
  {
   "cell_type": "code",
   "execution_count": 5,
   "id": "5efcc8e3",
   "metadata": {
    "execution": {
     "iopub.execute_input": "2025-01-14T16:01:13.452000Z",
     "iopub.status.busy": "2025-01-14T16:01:13.452000Z",
     "iopub.status.idle": "2025-01-14T16:01:13.460000Z",
     "shell.execute_reply": "2025-01-14T16:01:13.460000Z"
    }
   },
   "outputs": [
    {
     "name": "stdout",
     "output_type": "stream",
     "text": [
      "(BD1, BD2) = (0.9958729691748489, 1.0058928192789194)\n"
     ]
    }
   ],
   "source": [
    "BD1 = (f(-2h) - 2f(-h) + f(0)) / h^2\n",
    "BD2 = (-f(-3h) + 4f(-2h) - 5f(-h) + 2f(0)) / h^2\n",
    "@show (BD1, BD2);"
   ]
  }
 ],
 "metadata": {
  "kernelspec": {
   "display_name": "Julia 1",
   "language": "julia",
   "name": "julia-1.11"
  },
  "language_info": {
   "file_extension": ".jl",
   "mimetype": "application/julia",
   "name": "julia",
   "version": "1.11.2"
  },
  "numbering": {
   "headings": false
  }
 },
 "nbformat": 4,
 "nbformat_minor": 5
}
