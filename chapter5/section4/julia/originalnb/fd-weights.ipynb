{
    "cells": [
        {
            "outputs": [
                {
                    "name": "stderr",
                    "output_type": "stream",
                    "text": [
                        "\u001b[32m\u001b[1m  Activating\u001b[22m\u001b[39m "
                    ]
                },
                {
                    "name": "stderr",
                    "output_type": "stream",
                    "text": [
                        "project at `~/Documents/GitHub/fnc`\n"
                    ]
                }
            ],
            "cell_type": "code",
            "source": [
                "include(\"../../../julia/FNC_init.jl\")"
            ],
            "id": "3b688c38",
            "metadata": {
                "execution": {
                    "iopub.status.idle": "2025-01-14T16:02:48.552000Z",
                    "iopub.status.busy": "2025-01-14T16:01:40.731000Z",
                    "iopub.execute_input": "2025-01-14T16:01:44.643000Z",
                    "shell.execute_reply": "2025-01-14T16:02:47.979000Z"
                },
                "tags": [
                    "remove-cell"
                ]
            },
            "execution_count": 1
        },
        {
            "cell_type": "markdown",
            "source": [
                "[**Demo %s**](#demo-finitediffs-fd-weights)\n",
                "\n",
                "We will estimate the derivative of $\\cos(x^2)$ at $x=0.5$ using five nodes."
            ],
            "id": "92466671",
            "metadata": {}
        },
        {
            "outputs": [
                {
                    "output_type": "execute_result",
                    "data": {
                        "text/plain": [
                            "-0.24740395925452294"
                        ]
                    },
                    "metadata": {},
                    "execution_count": 2
                }
            ],
            "cell_type": "code",
            "source": [
                "t = [0.35, 0.5, 0.57, 0.6, 0.75]   # nodes\n",
                "f = x -> cos(x^2)\n",
                "df_dx = x -> -2 * x * sin(x^2)\n",
                "exact_value = df_dx(0.5)"
            ],
            "id": "f7ef70bb",
            "metadata": {
                "execution": {
                    "iopub.status.idle": "2025-01-14T16:02:54.367000Z",
                    "iopub.status.busy": "2025-01-14T16:02:48.605000Z",
                    "iopub.execute_input": "2025-01-14T16:02:50.321000Z",
                    "shell.execute_reply": "2025-01-14T16:02:54.360000Z"
                }
            },
            "execution_count": 2
        },
        {
            "cell_type": "markdown",
            "source": [
                "We have to shift the nodes so that the point of estimation for the derivative is at $x=0$. (To subtract a scalar from a vector, we must use the `.-` operator.)"
            ],
            "id": "fb5d07b3",
            "metadata": {}
        },
        {
            "outputs": [
                {
                    "output_type": "execute_result",
                    "data": {
                        "text/plain": [
                            "5-element Vector{Float64}:\n",
                            "  -0.5303030303030298\n",
                            " -21.61904761904763\n",
                            "  45.09379509379508\n",
                            " -23.333333333333307\n",
                            "   0.38888888888888845"
                        ]
                    },
                    "metadata": {},
                    "execution_count": 3
                }
            ],
            "cell_type": "code",
            "source": [
                "w = FNC.fdweights(t .- 0.5, 1)"
            ],
            "id": "b403a1b7",
            "metadata": {
                "execution": {
                    "iopub.status.idle": "2025-01-14T16:03:11.159000Z",
                    "iopub.status.busy": "2025-01-14T16:02:54.390000Z",
                    "iopub.execute_input": "2025-01-14T16:02:54.391000Z",
                    "shell.execute_reply": "2025-01-14T16:03:11.158000Z"
                }
            },
            "execution_count": 3
        },
        {
            "cell_type": "markdown",
            "source": [
                "The finite-difference formula is a dot product (i.e., inner product) between the vector of weights and the vector of function values at the nodes."
            ],
            "id": "9659f808",
            "metadata": {}
        },
        {
            "outputs": [
                {
                    "output_type": "execute_result",
                    "data": {
                        "text/plain": [
                            "-0.2473074229061363"
                        ]
                    },
                    "metadata": {},
                    "execution_count": 4
                }
            ],
            "cell_type": "code",
            "source": [
                "fd_value = dot(w, f.(t))"
            ],
            "id": "55211fb2",
            "metadata": {
                "execution": {
                    "iopub.status.idle": "2025-01-14T16:03:11.525000Z",
                    "iopub.status.busy": "2025-01-14T16:03:11.177000Z",
                    "iopub.execute_input": "2025-01-14T16:03:11.181000Z",
                    "shell.execute_reply": "2025-01-14T16:03:11.525000Z"
                }
            },
            "execution_count": 4
        },
        {
            "cell_type": "markdown",
            "source": [
                "We can reproduce the weights in the finite-difference tables by using equally spaced nodes with $h=1$. For example, here is a one-sided formula at four nodes."
            ],
            "id": "515859b9",
            "metadata": {}
        },
        {
            "outputs": [
                {
                    "output_type": "execute_result",
                    "data": {
                        "text/plain": [
                            "4-element Vector{Float64}:\n",
                            " -1.8333333333333333\n",
                            "  3.0\n",
                            " -1.5\n",
                            "  0.3333333333333333"
                        ]
                    },
                    "metadata": {},
                    "execution_count": 5
                }
            ],
            "cell_type": "code",
            "source": [
                "FNC.fdweights(0:3, 1)"
            ],
            "id": "11b3ede8",
            "metadata": {
                "execution": {
                    "iopub.status.idle": "2025-01-14T16:03:12.624000Z",
                    "iopub.status.busy": "2025-01-14T16:03:11.528000Z",
                    "iopub.execute_input": "2025-01-14T16:03:11.528000Z",
                    "shell.execute_reply": "2025-01-14T16:03:12.577000Z"
                }
            },
            "execution_count": 5
        },
        {
            "cell_type": "markdown",
            "source": [
                "```{index} ! Julia; Rational\n",
                "```\n",
                "\n",
                "By giving nodes of type `Rational`, we can get exact values instead."
            ],
            "id": "3fac3adc",
            "metadata": {}
        },
        {
            "outputs": [
                {
                    "output_type": "execute_result",
                    "data": {
                        "text/plain": [
                            "4-element Vector{Rational{Int64}}:\n",
                            " -11//6\n",
                            "    3\n",
                            "  -3//2\n",
                            "   1//3"
                        ]
                    },
                    "metadata": {},
                    "execution_count": 6
                }
            ],
            "cell_type": "code",
            "source": [
                "FNC.fdweights(Rational.(0:3), 1)"
            ],
            "id": "9154895a",
            "metadata": {
                "execution": {
                    "iopub.status.idle": "2025-01-14T16:03:21.782000Z",
                    "iopub.status.busy": "2025-01-14T16:03:12.730000Z",
                    "iopub.execute_input": "2025-01-14T16:03:12.732000Z",
                    "shell.execute_reply": "2025-01-14T16:03:21.780000Z"
                }
            },
            "execution_count": 6
        }
    ],
    "nbformat_minor": 5,
    "metadata": {
        "language_info": {
            "file_extension": ".jl",
            "mimetype": "application/julia",
            "name": "julia",
            "version": "1.11.2"
        },
        "kernelspec": {
            "name": "julia-1.11",
            "display_name": "Julia 1",
            "language": "julia"
        },
        "numbering": {
            "headings": false
        }
    },
    "nbformat": 4
}
