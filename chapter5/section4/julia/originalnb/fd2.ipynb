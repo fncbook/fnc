{
    "cells": [
        {
            "outputs": [
                {
                    "name": "stderr",
                    "output_type": "stream",
                    "text": [
                        "\u001b[32m\u001b[1m  Activating\u001b[22m\u001b[39m "
                    ]
                },
                {
                    "name": "stderr",
                    "output_type": "stream",
                    "text": [
                        "project at `~/Documents/GitHub/fnc`\n"
                    ]
                }
            ],
            "cell_type": "code",
            "source": [
                "include(\"../../../julia/FNC_init.jl\")"
            ],
            "id": "9fdb53db",
            "metadata": {
                "execution": {
                    "iopub.status.idle": "2025-01-14T16:01:02.496000Z",
                    "iopub.status.busy": "2025-01-14T15:59:47.418000Z",
                    "iopub.execute_input": "2025-01-14T15:59:50.564000Z",
                    "shell.execute_reply": "2025-01-14T16:01:01.983000Z"
                },
                "tags": [
                    "remove-cell"
                ]
            },
            "execution_count": 1
        },
        {
            "cell_type": "markdown",
            "source": [
                "[**Demo %s**](#demo-finitediffs-fd2)\n",
                "\n",
                "If $f(x)=e^{\\,\\sin(x)}$, then $f''(0)=1$."
            ],
            "id": "501a6cd8",
            "metadata": {}
        },
        {
            "outputs": [],
            "cell_type": "code",
            "source": [
                "f = x -> exp(sin(x));"
            ],
            "id": "dbea2dc8",
            "metadata": {
                "execution": {
                    "iopub.status.idle": "2025-01-14T16:01:05.136000Z",
                    "iopub.status.busy": "2025-01-14T16:01:02.500000Z",
                    "iopub.execute_input": "2025-01-14T16:01:04.641000Z",
                    "shell.execute_reply": "2025-01-14T16:01:05.128000Z"
                }
            },
            "execution_count": 2
        },
        {
            "cell_type": "markdown",
            "source": [
                "Here is a centered estimate given by {eq}`centerFD22`."
            ],
            "id": "e1df5ff0",
            "metadata": {}
        },
        {
            "outputs": [
                {
                    "name": "stdout",
                    "output_type": "stream",
                    "text": [
                        "CD2 = 0.9993749480847745"
                    ]
                },
                {
                    "name": "stdout",
                    "output_type": "stream",
                    "text": [
                        "\n"
                    ]
                }
            ],
            "cell_type": "code",
            "source": [
                "h = 0.05\n",
                "CD2 = (f(-h) - 2f(0) + f(h)) / h^2\n",
                "@show CD2;"
            ],
            "id": "57c48684",
            "metadata": {
                "execution": {
                    "iopub.status.idle": "2025-01-14T16:01:05.709000Z",
                    "iopub.status.busy": "2025-01-14T16:01:05.147000Z",
                    "iopub.execute_input": "2025-01-14T16:01:05.149000Z",
                    "shell.execute_reply": "2025-01-14T16:01:05.709000Z"
                }
            },
            "execution_count": 3
        },
        {
            "cell_type": "markdown",
            "source": [
                "For the same $h$, here are forward estimates given by {eq}`forwardFD21` and {eq}`forwardFD22`."
            ],
            "id": "055f9a2b",
            "metadata": {}
        },
        {
            "outputs": [
                {
                    "name": "stdout",
                    "output_type": "stream",
                    "text": [
                        "(FD1, FD2) = (0.9953738443129188, 1.0078811479598213)"
                    ]
                },
                {
                    "name": "stdout",
                    "output_type": "stream",
                    "text": [
                        "\n"
                    ]
                }
            ],
            "cell_type": "code",
            "source": [
                "FD1 = (f(0) - 2f(h) + f(2h)) / h^2\n",
                "FD2 = (2f(0) - 5f(h) + 4f(2h) - f(3h)) / h^2\n",
                "@show (FD1, FD2);"
            ],
            "id": "d3f6a0a5",
            "metadata": {
                "execution": {
                    "iopub.status.idle": "2025-01-14T16:01:13.433000Z",
                    "iopub.status.busy": "2025-01-14T16:01:05.717000Z",
                    "iopub.execute_input": "2025-01-14T16:01:05.717000Z",
                    "shell.execute_reply": "2025-01-14T16:01:13.426000Z"
                }
            },
            "execution_count": 4
        },
        {
            "cell_type": "markdown",
            "source": [
                "Finally, here are the backward estimates that come from reversing {eq}`forwardFD21` and {eq}`forwardFD22`."
            ],
            "id": "aa82c1de",
            "metadata": {}
        },
        {
            "outputs": [
                {
                    "name": "stdout",
                    "output_type": "stream",
                    "text": [
                        "(BD1, BD2) = (0.9958729691748489, 1.0058928192789194)\n"
                    ]
                }
            ],
            "cell_type": "code",
            "source": [
                "BD1 = (f(-2h) - 2f(-h) + f(0)) / h^2\n",
                "BD2 = (-f(-3h) + 4f(-2h) - 5f(-h) + 2f(0)) / h^2\n",
                "@show (BD1, BD2);"
            ],
            "id": "5efcc8e3",
            "metadata": {
                "execution": {
                    "iopub.status.idle": "2025-01-14T16:01:13.460000Z",
                    "iopub.status.busy": "2025-01-14T16:01:13.452000Z",
                    "iopub.execute_input": "2025-01-14T16:01:13.452000Z",
                    "shell.execute_reply": "2025-01-14T16:01:13.460000Z"
                }
            },
            "execution_count": 5
        }
    ],
    "nbformat_minor": 5,
    "metadata": {
        "language_info": {
            "file_extension": ".jl",
            "mimetype": "application/julia",
            "name": "julia",
            "version": "1.11.2"
        },
        "kernelspec": {
            "name": "julia-1.11",
            "display_name": "Julia 1",
            "language": "julia"
        },
        "numbering": {
            "headings": false
        }
    },
    "nbformat": 4
}
