{
    "cells": [
        {
            "cell_type": "markdown",
            "source": [
                "[**Demo %s**](#demo-finitediffs-fd1)\n",
                "\n",
                "If $f(x)=e^{\\,\\sin(x)}$, then $f'(0)=1$."
            ],
            "id": "7aa18222",
            "metadata": {}
        },
        {
            "outputs": [],
            "cell_type": "code",
            "source": [
                "f = x -> exp(sin(x));"
            ],
            "id": "5ae69535",
            "metadata": {
                "execution": {
                    "iopub.status.idle": "2025-01-14T15:59:43.457000Z",
                    "iopub.status.busy": "2025-01-14T15:59:41.771000Z",
                    "iopub.execute_input": "2025-01-14T15:59:42.867000Z",
                    "shell.execute_reply": "2025-01-14T15:59:43.456000Z"
                }
            },
            "execution_count": 2
        },
        {
            "cell_type": "markdown",
            "source": [
                "Here are the first two centered differences from {numref}`table-FDcenter`."
            ],
            "id": "04c2f619",
            "metadata": {}
        },
        {
            "outputs": [
                {
                    "name": "stdout",
                    "output_type": "stream",
                    "text": [
                        "(CD2, CD4) = (0.9999995835069508, 1.0000016631938748)"
                    ]
                },
                {
                    "name": "stdout",
                    "output_type": "stream",
                    "text": [
                        "\n"
                    ]
                }
            ],
            "cell_type": "code",
            "source": [
                "h = 0.05\n",
                "CD2 = (-f(-h) + f(h)) / 2h\n",
                "CD4 = (f(-2h) - 8f(-h) + 8f(h) - f(2h)) / 12h\n",
                "@show (CD2, CD4);"
            ],
            "id": "92b45a11",
            "metadata": {
                "execution": {
                    "iopub.status.idle": "2025-01-14T15:59:49.668000Z",
                    "iopub.status.busy": "2025-01-14T15:59:43.459000Z",
                    "iopub.execute_input": "2025-01-14T15:59:43.459000Z",
                    "shell.execute_reply": "2025-01-14T15:59:49.666000Z"
                }
            },
            "execution_count": 3
        },
        {
            "cell_type": "markdown",
            "source": [
                "Here are the first two forward differences from {numref}`table-FDforward`."
            ],
            "id": "749bc193",
            "metadata": {}
        },
        {
            "outputs": [
                {
                    "name": "stdout",
                    "output_type": "stream",
                    "text": [
                        "(FD1, FD2) = (1.024983957209069, 1.0000996111012461)\n"
                    ]
                }
            ],
            "cell_type": "code",
            "source": [
                "FD1 = (-f(0) + f(h)) / h\n",
                "FD2 = (-3f(0) + 4f(h) - f(2h)) / 2h\n",
                "@show (FD1, FD2);"
            ],
            "id": "11da83bd",
            "metadata": {
                "execution": {
                    "iopub.status.idle": "2025-01-14T15:59:49.695000Z",
                    "iopub.status.busy": "2025-01-14T15:59:49.682000Z",
                    "iopub.execute_input": "2025-01-14T15:59:49.682000Z",
                    "shell.execute_reply": "2025-01-14T15:59:49.694000Z"
                }
            },
            "execution_count": 4
        },
        {
            "cell_type": "markdown",
            "source": [
                "Finally, here are the backward differences that come from reverse-negating the forward differences."
            ],
            "id": "adea5ef1",
            "metadata": {}
        },
        {
            "outputs": [
                {
                    "name": "stdout",
                    "output_type": "stream",
                    "text": [
                        "(BD1, BD2) = (0.9750152098048326, 0.9999120340342049)\n"
                    ]
                }
            ],
            "cell_type": "code",
            "source": [
                "BD1 = (-f(-h) + f(0)) / h\n",
                "BD2 = (f(-2h) - 4f(-h) + 3f(0)) / 2h\n",
                "@show (BD1, BD2);"
            ],
            "id": "66ad729e",
            "metadata": {
                "execution": {
                    "iopub.status.idle": "2025-01-14T15:59:49.700000Z",
                    "iopub.status.busy": "2025-01-14T15:59:49.697000Z",
                    "iopub.execute_input": "2025-01-14T15:59:49.697000Z",
                    "shell.execute_reply": "2025-01-14T15:59:49.700000Z"
                }
            },
            "execution_count": 5
        }
    ],
    "nbformat_minor": 5,
    "metadata": {
        "language_info": {
            "file_extension": ".jl",
            "mimetype": "application/julia",
            "name": "julia",
            "version": "1.11.2"
        },
        "kernelspec": {
            "name": "julia-1.11",
            "display_name": "Julia 1",
            "language": "julia"
        },
        "numbering": {
            "headings": false
        }
    },
    "nbformat": 4
}
