{
 "cells": [
  {
   "cell_type": "code",
   "execution_count": 1,
   "id": "3b688c38",
   "metadata": {
    "execution": {
     "iopub.execute_input": "2025-01-05T10:22:17.480000Z",
     "iopub.status.busy": "2025-01-05T10:22:17.188000Z",
     "iopub.status.idle": "2025-01-05T10:22:23.486000Z",
     "shell.execute_reply": "2025-01-05T10:22:23.440000Z"
    }
   },
   "outputs": [
    {
     "name": "stderr",
     "output_type": "stream",
     "text": [
      "\u001b[32m\u001b[1m  Activating\u001b[22m\u001b[39m "
     ]
    },
    {
     "name": "stderr",
     "output_type": "stream",
     "text": [
      "project at `~/Documents/GitHub/fnc`\n"
     ]
    }
   ],
   "source": [
    "include(\"../../../julia/FNC_init.jl\")"
   ]
  },
  {
   "cell_type": "markdown",
   "id": "92466671",
   "metadata": {},
   "source": [
    "[**Demo %s**](#demo-finitediffs-fd-weights)\n",
    "\n",
    "We will estimate the derivative of $\\cos(x^2)$ at $x=0.5$ using five nodes."
   ]
  },
  {
   "cell_type": "code",
   "execution_count": 2,
   "id": "f7ef70bb",
   "metadata": {
    "execution": {
     "iopub.execute_input": "2025-01-05T10:22:23.622000Z",
     "iopub.status.busy": "2025-01-05T10:22:23.487000Z",
     "iopub.status.idle": "2025-01-05T10:22:23.894000Z",
     "shell.execute_reply": "2025-01-05T10:22:23.894000Z"
    }
   },
   "outputs": [
    {
     "data": {
      "text/plain": [
       "-0.24740395925452294"
      ]
     },
     "execution_count": 2,
     "metadata": {},
     "output_type": "execute_result"
    }
   ],
   "source": [
    "t = [0.35, 0.5, 0.57, 0.6, 0.75]   # nodes\n",
    "f = x -> cos(x^2)\n",
    "df_dx = x -> -2 * x * sin(x^2)\n",
    "exact_value = df_dx(0.5)"
   ]
  },
  {
   "cell_type": "markdown",
   "id": "fb5d07b3",
   "metadata": {},
   "source": [
    "We have to shift the nodes so that the point of estimation for the derivative is at $x=0$. (To subtract a scalar from a vector, we must use the `.-` operator.)"
   ]
  },
  {
   "cell_type": "code",
   "execution_count": 3,
   "id": "b403a1b7",
   "metadata": {
    "execution": {
     "iopub.execute_input": "2025-01-05T10:22:23.896000Z",
     "iopub.status.busy": "2025-01-05T10:22:23.896000Z",
     "iopub.status.idle": "2025-01-05T10:22:25.028000Z",
     "shell.execute_reply": "2025-01-05T10:22:25.028000Z"
    }
   },
   "outputs": [
    {
     "data": {
      "text/plain": [
       "5-element Vector{Float64}:\n",
       "  -0.5303030303030298\n",
       " -21.61904761904763\n",
       "  45.09379509379508\n",
       " -23.333333333333307\n",
       "   0.38888888888888845"
      ]
     },
     "execution_count": 3,
     "metadata": {},
     "output_type": "execute_result"
    }
   ],
   "source": [
    "w = FNC.fdweights(t .- 0.5, 1)"
   ]
  },
  {
   "cell_type": "markdown",
   "id": "9659f808",
   "metadata": {},
   "source": [
    "The finite-difference formula is a dot product (i.e., inner product) between the vector of weights and the vector of function values at the nodes."
   ]
  },
  {
   "cell_type": "code",
   "execution_count": 4,
   "id": "55211fb2",
   "metadata": {
    "execution": {
     "iopub.execute_input": "2025-01-05T10:22:25.030000Z",
     "iopub.status.busy": "2025-01-05T10:22:25.030000Z",
     "iopub.status.idle": "2025-01-05T10:22:25.052000Z",
     "shell.execute_reply": "2025-01-05T10:22:25.052000Z"
    }
   },
   "outputs": [
    {
     "data": {
      "text/plain": [
       "-0.2473074229061363"
      ]
     },
     "execution_count": 4,
     "metadata": {},
     "output_type": "execute_result"
    }
   ],
   "source": [
    "fd_value = dot(w, f.(t))"
   ]
  },
  {
   "cell_type": "markdown",
   "id": "515859b9",
   "metadata": {},
   "source": [
    "We can reproduce the weights in the finite-difference tables by using equally spaced nodes with $h=1$. For example, here is a one-sided formula at four nodes."
   ]
  },
  {
   "cell_type": "code",
   "execution_count": 5,
   "id": "11b3ede8",
   "metadata": {
    "execution": {
     "iopub.execute_input": "2025-01-05T10:22:25.054000Z",
     "iopub.status.busy": "2025-01-05T10:22:25.054000Z",
     "iopub.status.idle": "2025-01-05T10:22:25.110000Z",
     "shell.execute_reply": "2025-01-05T10:22:25.110000Z"
    }
   },
   "outputs": [
    {
     "data": {
      "text/plain": [
       "4-element Vector{Float64}:\n",
       " -1.8333333333333333\n",
       "  3.0\n",
       " -1.5\n",
       "  0.3333333333333333"
      ]
     },
     "execution_count": 5,
     "metadata": {},
     "output_type": "execute_result"
    }
   ],
   "source": [
    "FNC.fdweights(0:3, 1)"
   ]
  },
  {
   "cell_type": "markdown",
   "id": "3fac3adc",
   "metadata": {},
   "source": [
    "```{index} ! Julia; Rational\n",
    "```\n",
    "\n",
    "By giving nodes of type `Rational`, we can get exact values instead."
   ]
  },
  {
   "cell_type": "code",
   "execution_count": 6,
   "id": "9154895a",
   "metadata": {
    "execution": {
     "iopub.execute_input": "2025-01-05T10:22:25.112000Z",
     "iopub.status.busy": "2025-01-05T10:22:25.112000Z",
     "iopub.status.idle": "2025-01-05T10:22:25.532000Z",
     "shell.execute_reply": "2025-01-05T10:22:25.531000Z"
    }
   },
   "outputs": [
    {
     "data": {
      "text/plain": [
       "4-element Vector{Rational{Int64}}:\n",
       " -11//6\n",
       "    3\n",
       "  -3//2\n",
       "   1//3"
      ]
     },
     "execution_count": 6,
     "metadata": {},
     "output_type": "execute_result"
    }
   ],
   "source": [
    "FNC.fdweights(Rational.(0:3), 1)"
   ]
  }
 ],
 "metadata": {
  "kernelspec": {
   "display_name": "Julia 1",
   "language": "julia",
   "name": "julia-1.11"
  },
  "language_info": {
   "file_extension": ".jl",
   "mimetype": "application/julia",
   "name": "julia",
   "version": "1.11.2"
  },
  "numbering": {
   "headings": false
  }
 },
 "nbformat": 4,
 "nbformat_minor": 5
}
