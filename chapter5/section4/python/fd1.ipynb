{
 "cells": [
  {
   "cell_type": "code",
   "execution_count": 1,
   "id": "e19e149a",
   "metadata": {
    "execution": {
     "iopub.execute_input": "2025-01-11T16:48:19.592506Z",
     "iopub.status.busy": "2025-01-11T16:48:19.592170Z",
     "iopub.status.idle": "2025-01-11T16:48:19.980859Z",
     "shell.execute_reply": "2025-01-11T16:48:19.980483Z"
    },
    "tags": [
     "remove-cell"
    ]
   },
   "outputs": [],
   "source": [
    "exec(open(\"../../../python/FNC_init.py\").read())"
   ]
  },
  {
   "cell_type": "markdown",
   "id": "371032f2",
   "metadata": {},
   "source": [
    "[**Demo %s**](#demo-finitediffs-fd1)\n",
    "\n",
    "If $f(x)=e^{\\,\\sin(x)}$, then $f'(0)=1$."
   ]
  },
  {
   "cell_type": "code",
   "execution_count": 2,
   "id": "de6386ae",
   "metadata": {
    "execution": {
     "iopub.execute_input": "2025-01-11T16:48:19.982783Z",
     "iopub.status.busy": "2025-01-11T16:48:19.982638Z",
     "iopub.status.idle": "2025-01-11T16:48:19.984408Z",
     "shell.execute_reply": "2025-01-11T16:48:19.984146Z"
    }
   },
   "outputs": [],
   "source": [
    "f = lambda x: exp(sin(x))"
   ]
  },
  {
   "cell_type": "markdown",
   "id": "635ca50e",
   "metadata": {},
   "source": [
    "Here are the first two centered differences from {numref}`table-FDcenter`."
   ]
  },
  {
   "cell_type": "code",
   "execution_count": 3,
   "id": "b49565de",
   "metadata": {
    "execution": {
     "iopub.execute_input": "2025-01-11T16:48:19.985576Z",
     "iopub.status.busy": "2025-01-11T16:48:19.985495Z",
     "iopub.status.idle": "2025-01-11T16:48:19.987600Z",
     "shell.execute_reply": "2025-01-11T16:48:19.987371Z"
    }
   },
   "outputs": [
    {
     "name": "stdout",
     "output_type": "stream",
     "text": [
      "CD2 is 0.999999584 and CD4 is 1.000001663\n"
     ]
    }
   ],
   "source": [
    "h = 0.05\n",
    "CD2 = (-f(-h) + f(h)) / (2*h)\n",
    "CD4 = (f(-2*h) - 8*f(-h) + 8*f(h) - f(2*h)) / (12*h)\n",
    "print(f\"CD2 is {CD2:.9f} and CD4 is {CD4:.9f}\")"
   ]
  },
  {
   "cell_type": "markdown",
   "id": "14f4b7dc",
   "metadata": {},
   "source": [
    "Here are the first two forward differences from {numref}`table-FDforward`."
   ]
  },
  {
   "cell_type": "code",
   "execution_count": 4,
   "id": "f48ffdb4",
   "metadata": {
    "execution": {
     "iopub.execute_input": "2025-01-11T16:48:19.988708Z",
     "iopub.status.busy": "2025-01-11T16:48:19.988630Z",
     "iopub.status.idle": "2025-01-11T16:48:19.990500Z",
     "shell.execute_reply": "2025-01-11T16:48:19.990255Z"
    }
   },
   "outputs": [
    {
     "name": "stdout",
     "output_type": "stream",
     "text": [
      "FD1 is 1.024983957 and FD2 is 1.000099611\n"
     ]
    }
   ],
   "source": [
    "FD1 = (-f(0) + f(h)) / h\n",
    "FD2 = (-3*f(0) + 4*f(h) - f(2*h)) / (2*h)\n",
    "print(f\"FD1 is {FD1:.9f} and FD2 is {FD2:.9f}\")"
   ]
  },
  {
   "cell_type": "markdown",
   "id": "a69db164",
   "metadata": {},
   "source": [
    "Finally, here are the backward differences that come from reverse-negating the forward differences."
   ]
  },
  {
   "cell_type": "code",
   "execution_count": 5,
   "id": "47d1c9f1",
   "metadata": {
    "execution": {
     "iopub.execute_input": "2025-01-11T16:48:19.991674Z",
     "iopub.status.busy": "2025-01-11T16:48:19.991582Z",
     "iopub.status.idle": "2025-01-11T16:48:19.993597Z",
     "shell.execute_reply": "2025-01-11T16:48:19.993327Z"
    }
   },
   "outputs": [
    {
     "name": "stdout",
     "output_type": "stream",
     "text": [
      "BD1 is 0.975015210 and BD2 is 0.999912034\n"
     ]
    }
   ],
   "source": [
    "BD1 = (-f(-h) + f(0)) / h\n",
    "BD2 = (f(-2*h) - 4*f(-h) + 3*f(0)) / (2*h)\n",
    "print(f\"BD1 is {BD1:.9f} and BD2 is {BD2:.9f}\")"
   ]
  }
 ],
 "metadata": {
  "kernelspec": {
   "display_name": "Python 3",
   "language": "python",
   "name": "python3"
  },
  "language_info": {
   "codemirror_mode": {
    "name": "ipython",
    "version": 3
   },
   "file_extension": ".py",
   "mimetype": "text/x-python",
   "name": "python",
   "nbconvert_exporter": "python",
   "pygments_lexer": "ipython3",
   "version": "3.13.0"
  },
  "numbering": {
   "headings": false
  }
 },
 "nbformat": 4,
 "nbformat_minor": 5
}
