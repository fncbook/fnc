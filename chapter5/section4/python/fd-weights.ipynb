{
 "cells": [
  {
   "cell_type": "code",
   "execution_count": 7,
   "id": "925d8201",
   "metadata": {
    "execution": {
     "iopub.execute_input": "2025-01-11T16:48:22.094335Z",
     "iopub.status.busy": "2025-01-11T16:48:22.094035Z",
     "iopub.status.idle": "2025-01-11T16:48:22.412518Z",
     "shell.execute_reply": "2025-01-11T16:48:22.412200Z"
    },
    "tags": [
     "remove-cell"
    ]
   },
   "outputs": [],
   "source": [
    "exec(open(\"../../../python/FNC_init.py\").read())"
   ]
  },
  {
   "cell_type": "markdown",
   "id": "f7fbbe5c",
   "metadata": {},
   "source": [
    "[**Demo %s**](#demo-finitediffs-fd-weights)\n",
    "\n",
    "We will estimate the derivative of $\\cos(x^2)$ at $x=0.5$ using five nodes."
   ]
  },
  {
   "cell_type": "code",
   "execution_count": 8,
   "id": "cc4a8bf7",
   "metadata": {
    "execution": {
     "iopub.execute_input": "2025-01-11T16:48:22.414182Z",
     "iopub.status.busy": "2025-01-11T16:48:22.414067Z",
     "iopub.status.idle": "2025-01-11T16:48:22.416069Z",
     "shell.execute_reply": "2025-01-11T16:48:22.415818Z"
    }
   },
   "outputs": [
    {
     "name": "stdout",
     "output_type": "stream",
     "text": [
      "exact value = -0.24740396\n"
     ]
    }
   ],
   "source": [
    "t = array([0.35, 0.5, 0.57, 0.6, 0.75])   # nodes\n",
    "f = lambda x: cos(x**2)\n",
    "df_dx = lambda x: -2 * x * sin(x**2)\n",
    "exact_value = df_dx(0.5)\n",
    "print(f\"exact value = {exact_value:.8f}\")"
   ]
  },
  {
   "cell_type": "markdown",
   "id": "57d87de9",
   "metadata": {},
   "source": [
    "We have to shift the nodes so that the point of estimation for the derivative is at $x=0$. (To subtract a scalar from a vector, we must use the `.-` operator.)"
   ]
  },
  {
   "cell_type": "code",
   "execution_count": 9,
   "id": "c180ac02",
   "metadata": {
    "execution": {
     "iopub.execute_input": "2025-01-11T16:48:22.417276Z",
     "iopub.status.busy": "2025-01-11T16:48:22.417189Z",
     "iopub.status.idle": "2025-01-11T16:48:22.419046Z",
     "shell.execute_reply": "2025-01-11T16:48:22.418796Z"
    }
   },
   "outputs": [
    {
     "name": "stdout",
     "output_type": "stream",
     "text": [
      "[ -0.53030303 -21.61904762  45.09379509 -23.33333333   0.38888889]\n"
     ]
    }
   ],
   "source": [
    "w = FNC.fdweights(t - 0.5, 1)\n",
    "print(w)"
   ]
  },
  {
   "cell_type": "markdown",
   "id": "146cd37c",
   "metadata": {},
   "source": [
    "The finite-difference formula is a dot product (i.e., inner product) between the vector of weights and the vector of function values at the nodes."
   ]
  },
  {
   "cell_type": "code",
   "execution_count": 10,
   "id": "5484f6cf",
   "metadata": {
    "execution": {
     "iopub.execute_input": "2025-01-11T16:48:22.420412Z",
     "iopub.status.busy": "2025-01-11T16:48:22.420316Z",
     "iopub.status.idle": "2025-01-11T16:48:22.421982Z",
     "shell.execute_reply": "2025-01-11T16:48:22.421731Z"
    }
   },
   "outputs": [
    {
     "name": "stdout",
     "output_type": "stream",
     "text": [
      "FD value = -0.24730742\n"
     ]
    }
   ],
   "source": [
    "fd_value = dot(w, f(t))\n",
    "print(f\"FD value = {fd_value:.8f}\")"
   ]
  },
  {
   "cell_type": "markdown",
   "id": "49eb0994",
   "metadata": {},
   "source": [
    "We can reproduce the weights in the finite-difference tables by using equally spaced nodes with $h=1$. For example, here is a one-sided formula at four nodes."
   ]
  },
  {
   "cell_type": "code",
   "execution_count": 11,
   "id": "0d9e09a4",
   "metadata": {
    "execution": {
     "iopub.execute_input": "2025-01-11T16:48:22.423162Z",
     "iopub.status.busy": "2025-01-11T16:48:22.423080Z",
     "iopub.status.idle": "2025-01-11T16:48:22.425088Z",
     "shell.execute_reply": "2025-01-11T16:48:22.424846Z"
    }
   },
   "outputs": [
    {
     "name": "stdout",
     "output_type": "stream",
     "text": [
      "[-1.83333333  3.         -1.5         0.33333333]\n"
     ]
    }
   ],
   "source": [
    "print(FNC.fdweights(linspace(0, 3, 4), 1))"
   ]
  }
 ],
 "metadata": {
  "kernelspec": {
   "display_name": "myst",
   "language": "python",
   "name": "python3"
  },
  "language_info": {
   "codemirror_mode": {
    "name": "ipython",
    "version": 3
   },
   "file_extension": ".py",
   "mimetype": "text/x-python",
   "name": "python",
   "nbconvert_exporter": "python",
   "pygments_lexer": "ipython3",
   "version": "3.13.0"
  },
  "numbering": {
   "headings": false
  }
 },
 "nbformat": 4,
 "nbformat_minor": 5
}
