{
    "cells": [
        {
            "cell_type": "markdown",
            "source": [
                "[**Demo %s**](#demo-finitediffs-fd-weights)\n",
                "\n",
                "We will estimate the derivative of $\\cos(x^2)$ at $x=0.5$ using five nodes."
            ],
            "id": "c06e05b3",
            "metadata": {}
        },
        {
            "outputs": [
                {
                    "output_type": "execute_result",
                    "data": {
                        "text/plain": [
                            "exact_value = -0.2474"
                        ],
                        "text/html": [
                            "<html><body><pre>exact_value = -0.2474</pre></body></html>"
                        ]
                    },
                    "metadata": {},
                    "execution_count": 2
                }
            ],
            "cell_type": "code",
            "source": [
                "t = [0.35, 0.5, 0.57, 0.6, 0.75];    % nodes\n",
                "f = @(x) cos(x.^2);\n",
                "dfdx = @(x) -2 * x * sin(x^2);\n",
                "exact_value = dfdx(0.5)"
            ],
            "id": "be199ba9",
            "metadata": {},
            "execution_count": 2
        },
        {
            "cell_type": "markdown",
            "source": [
                "We have to shift the nodes so that the point of estimation for the derivative is at $x=0$. (To subtract a scalar from a vector, we must use the `.-` operator.)"
            ],
            "id": "461d0605",
            "metadata": {}
        },
        {
            "outputs": [
                {
                    "output_type": "execute_result",
                    "data": {
                        "text/plain": [
                            "w = 1×5 double\n",
                            "   -0.5303  -21.6190   45.0938  -23.3333    0.3889\n"
                        ],
                        "text/html": [
                            "<html><body><pre>w = 1×5 double\n",
                            "   -0.5303  -21.6190   45.0938  -23.3333    0.3889\n",
                            "</pre></body></html>"
                        ]
                    },
                    "metadata": {},
                    "execution_count": 3
                }
            ],
            "cell_type": "code",
            "source": [
                "format short\n",
                "w = fdweights(t - 0.5, 1)"
            ],
            "id": "71834285",
            "metadata": {},
            "execution_count": 3
        },
        {
            "cell_type": "markdown",
            "source": [
                "The finite-difference formula is a dot product (i.e., inner product) between the vector of weights and the vector of function values at the nodes."
            ],
            "id": "070bc596",
            "metadata": {}
        },
        {
            "outputs": [
                {
                    "output_type": "execute_result",
                    "data": {
                        "text/plain": [
                            "fd_value = -0.2473"
                        ],
                        "text/html": [
                            "<html><body><pre>fd_value = -0.2473</pre></body></html>"
                        ]
                    },
                    "metadata": {},
                    "execution_count": 4
                }
            ],
            "cell_type": "code",
            "source": [
                "fd_value = w * f(t)'"
            ],
            "id": "6185b3a0",
            "metadata": {},
            "execution_count": 4
        },
        {
            "cell_type": "markdown",
            "source": [
                "We can reproduce the weights in the finite-difference tables by using equally spaced nodes with $h=1$. For example, here is a one-sided formula at four nodes."
            ],
            "id": "a712ae2a",
            "metadata": {}
        },
        {
            "outputs": [
                {
                    "output_type": "execute_result",
                    "data": {
                        "text/plain": [
                            "ans = 1×4 double\n",
                            "   -1.8333    3.0000   -1.5000    0.3333\n"
                        ],
                        "text/html": [
                            "<html><body><pre>ans = 1×4 double\n",
                            "   -1.8333    3.0000   -1.5000    0.3333\n",
                            "</pre></body></html>"
                        ]
                    },
                    "metadata": {},
                    "execution_count": 5
                }
            ],
            "cell_type": "code",
            "source": [
                "fdweights(0:3, 1)"
            ],
            "id": "cfccfbec",
            "metadata": {},
            "execution_count": 5
        }
    ],
    "nbformat_minor": 5,
    "metadata": {
        "language_info": {
            "file_extension": ".m",
            "mimetype": "text/x-matlab",
            "name": "matlab"
        },
        "kernelspec": {
            "name": "jupyter_matlab_kernel",
            "display_name": "MATLAB Kernel",
            "language": "matlab"
        },
        "numbering": {
            "headings": false
        }
    },
    "nbformat": 4
}
