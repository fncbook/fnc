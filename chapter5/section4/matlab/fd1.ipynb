{
    "cells": [
        {
            "cell_type": "markdown",
            "source": [
                "[**Demo %s**](#demo-finitediffs-fd1)\n",
                "\n",
                "If $f(x)=e^{\\,\\sin(x)}$, then $f'(0)=1$."
            ],
            "id": "838d7096",
            "metadata": {}
        },
        {
            "outputs": [],
            "cell_type": "code",
            "source": [
                "f = @(x) exp(sin(x));"
            ],
            "id": "20f64b1e",
            "metadata": {},
            "execution_count": 2
        },
        {
            "cell_type": "markdown",
            "source": [
                "Here are the first two centered differences from {numref}`table-FDcenter`."
            ],
            "id": "90f868fe",
            "metadata": {}
        },
        {
            "outputs": [
                {
                    "output_type": "execute_result",
                    "data": {
                        "text/plain": [
                            "CD2 = \n",
                            "   0.999999583506951\n"
                        ],
                        "text/html": [
                            "<html><body><pre>CD2 = \n",
                            "   0.999999583506951\n",
                            "</pre></body></html>"
                        ]
                    },
                    "metadata": {},
                    "execution_count": 3
                },
                {
                    "output_type": "execute_result",
                    "data": {
                        "text/plain": [
                            "CD4 = \n",
                            "   1.000001663193875\n"
                        ],
                        "text/html": [
                            "<html><body><pre>CD4 = \n",
                            "   1.000001663193875\n",
                            "</pre></body></html>"
                        ]
                    },
                    "metadata": {},
                    "execution_count": 3
                }
            ],
            "cell_type": "code",
            "source": [
                "h = 0.05;\n",
                "format long\n",
                "CD2 = (-f(-h) + f(h)) / (2*h)\n",
                "CD4 = (f(-2*h) - 8*f(-h) + 8*f(h) - f(2*h)) / (12*h)"
            ],
            "id": "d626df0f",
            "metadata": {},
            "execution_count": 3
        },
        {
            "cell_type": "markdown",
            "source": [
                "Here are the first two forward differences from {numref}`table-FDforward`."
            ],
            "id": "d6929d8e",
            "metadata": {}
        },
        {
            "outputs": [
                {
                    "output_type": "execute_result",
                    "data": {
                        "text/plain": [
                            "FD1 = \n",
                            "   1.024983957209069\n"
                        ],
                        "text/html": [
                            "<html><body><pre>FD1 = \n",
                            "   1.024983957209069\n",
                            "</pre></body></html>"
                        ]
                    },
                    "metadata": {},
                    "execution_count": 4
                },
                {
                    "output_type": "execute_result",
                    "data": {
                        "text/plain": [
                            "FD2 = \n",
                            "   1.000099611101246\n"
                        ],
                        "text/html": [
                            "<html><body><pre>FD2 = \n",
                            "   1.000099611101246\n",
                            "</pre></body></html>"
                        ]
                    },
                    "metadata": {},
                    "execution_count": 4
                }
            ],
            "cell_type": "code",
            "source": [
                "FD1 = (-f(0) + f(h)) / h\n",
                "FD2 = (-3*f(0) + 4*f(h) - f(2*h)) / (2*h)"
            ],
            "id": "d600f9b5",
            "metadata": {},
            "execution_count": 4
        },
        {
            "cell_type": "markdown",
            "source": [
                "Finally, here are the backward differences that come from reverse-negating the forward differences."
            ],
            "id": "74becfe0",
            "metadata": {}
        },
        {
            "outputs": [
                {
                    "output_type": "execute_result",
                    "data": {
                        "text/plain": [
                            "BD1 = \n",
                            "   0.975015209804833\n"
                        ],
                        "text/html": [
                            "<html><body><pre>BD1 = \n",
                            "   0.975015209804833\n",
                            "</pre></body></html>"
                        ]
                    },
                    "metadata": {},
                    "execution_count": 5
                },
                {
                    "output_type": "execute_result",
                    "data": {
                        "text/plain": [
                            "BD2 = \n",
                            "   0.999912034034205\n"
                        ],
                        "text/html": [
                            "<html><body><pre>BD2 = \n",
                            "   0.999912034034205\n",
                            "</pre></body></html>"
                        ]
                    },
                    "metadata": {},
                    "execution_count": 5
                }
            ],
            "cell_type": "code",
            "source": [
                "BD1 = (-f(-h) + f(0)) / h\n",
                "BD2 = (f(-2*h) - 4*f(-h) + 3*f(0)) / (2*h)"
            ],
            "id": "2e577af5",
            "metadata": {},
            "execution_count": 5
        }
    ],
    "nbformat_minor": 5,
    "metadata": {
        "language_info": {
            "file_extension": ".m",
            "mimetype": "text/x-matlab",
            "name": "matlab"
        },
        "kernelspec": {
            "name": "jupyter_matlab_kernel",
            "display_name": "MATLAB Kernel",
            "language": "matlab"
        },
        "numbering": {
            "headings": false
        }
    },
    "nbformat": 4
}
