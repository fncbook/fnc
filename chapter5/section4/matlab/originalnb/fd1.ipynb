{
 "cells": [
  {
   "cell_type": "code",
   "execution_count": 1,
   "id": "5ef8c18d",
   "metadata": {
    "tags": [
     "remove-cell"
    ]
   },
   "outputs": [],
   "source": [
    "cd  /Users/driscoll/Documents/GitHub/fnc/matlab\n",
    "FNC_init"
   ]
  },
  {
   "cell_type": "markdown",
   "id": "838d7096",
   "metadata": {},
   "source": [
    "[**Demo %s**](#demo-finitediffs-fd1)\n",
    "\n",
    "If $f(x)=e^{\\,\\sin(x)}$, then $f'(0)=1$."
   ]
  },
  {
   "cell_type": "code",
   "execution_count": 2,
   "id": "20f64b1e",
   "metadata": {},
   "outputs": [],
   "source": [
    "f = @(x) exp(sin(x));"
   ]
  },
  {
   "cell_type": "markdown",
   "id": "90f868fe",
   "metadata": {},
   "source": [
    "Here are the first two centered differences from {numref}`table-FDcenter`."
   ]
  },
  {
   "cell_type": "code",
   "execution_count": 3,
   "id": "d626df0f",
   "metadata": {},
   "outputs": [
    {
     "data": {
      "text/html": [
       "<html><body><pre>CD2 = \n",
       "   0.999999583506951\n",
       "</pre></body></html>"
      ],
      "text/plain": [
       "CD2 = \n",
       "   0.999999583506951\n"
      ]
     },
     "execution_count": 3,
     "metadata": {},
     "output_type": "execute_result"
    },
    {
     "data": {
      "text/html": [
       "<html><body><pre>CD4 = \n",
       "   1.000001663193875\n",
       "</pre></body></html>"
      ],
      "text/plain": [
       "CD4 = \n",
       "   1.000001663193875\n"
      ]
     },
     "execution_count": 3,
     "metadata": {},
     "output_type": "execute_result"
    }
   ],
   "source": [
    "h = 0.05;\n",
    "format long\n",
    "CD2 = (-f(-h) + f(h)) / (2*h)\n",
    "CD4 = (f(-2*h) - 8*f(-h) + 8*f(h) - f(2*h)) / (12*h)"
   ]
  },
  {
   "cell_type": "markdown",
   "id": "d6929d8e",
   "metadata": {},
   "source": [
    "Here are the first two forward differences from {numref}`table-FDforward`."
   ]
  },
  {
   "cell_type": "code",
   "execution_count": 4,
   "id": "d600f9b5",
   "metadata": {},
   "outputs": [
    {
     "data": {
      "text/html": [
       "<html><body><pre>FD1 = \n",
       "   1.024983957209069\n",
       "</pre></body></html>"
      ],
      "text/plain": [
       "FD1 = \n",
       "   1.024983957209069\n"
      ]
     },
     "execution_count": 4,
     "metadata": {},
     "output_type": "execute_result"
    },
    {
     "data": {
      "text/html": [
       "<html><body><pre>FD2 = \n",
       "   1.000099611101246\n",
       "</pre></body></html>"
      ],
      "text/plain": [
       "FD2 = \n",
       "   1.000099611101246\n"
      ]
     },
     "execution_count": 4,
     "metadata": {},
     "output_type": "execute_result"
    }
   ],
   "source": [
    "FD1 = (-f(0) + f(h)) / h\n",
    "FD2 = (-3*f(0) + 4*f(h) - f(2*h)) / (2*h)"
   ]
  },
  {
   "cell_type": "markdown",
   "id": "74becfe0",
   "metadata": {},
   "source": [
    "Finally, here are the backward differences that come from reverse-negating the forward differences."
   ]
  },
  {
   "cell_type": "code",
   "execution_count": 5,
   "id": "2e577af5",
   "metadata": {},
   "outputs": [
    {
     "data": {
      "text/html": [
       "<html><body><pre>BD1 = \n",
       "   0.975015209804833\n",
       "</pre></body></html>"
      ],
      "text/plain": [
       "BD1 = \n",
       "   0.975015209804833\n"
      ]
     },
     "execution_count": 5,
     "metadata": {},
     "output_type": "execute_result"
    },
    {
     "data": {
      "text/html": [
       "<html><body><pre>BD2 = \n",
       "   0.999912034034205\n",
       "</pre></body></html>"
      ],
      "text/plain": [
       "BD2 = \n",
       "   0.999912034034205\n"
      ]
     },
     "execution_count": 5,
     "metadata": {},
     "output_type": "execute_result"
    }
   ],
   "source": [
    "BD1 = (-f(-h) + f(0)) / h\n",
    "BD2 = (f(-2*h) - 4*f(-h) + 3*f(0)) / (2*h)"
   ]
  }
 ],
 "metadata": {
  "kernelspec": {
   "display_name": "MATLAB Kernel",
   "language": "matlab",
   "name": "jupyter_matlab_kernel"
  },
  "language_info": {
   "file_extension": ".m",
   "mimetype": "text/x-matlab",
   "name": "matlab"
  },
  "numbering": {
   "headings": false
  }
 },
 "nbformat": 4,
 "nbformat_minor": 5
}
