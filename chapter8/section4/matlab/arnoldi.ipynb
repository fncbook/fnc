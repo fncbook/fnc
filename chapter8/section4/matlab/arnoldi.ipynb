{
 "cells": [
  {
   "cell_type": "code",
   "execution_count": 1,
   "id": "d64b7a49",
   "metadata": {
    "tags": [
     "remove-cell"
    ]
   },
   "outputs": [],
   "source": [
    "cd  /Users/driscoll/Documents/GitHub/fnc/matlab\n",
    "FNC_init"
   ]
  },
  {
   "cell_type": "markdown",
   "id": "007f6598",
   "metadata": {},
   "source": [
    "[**Demo %s**](#demo-subspace-arnoldi)\n",
    "\n",
    "We illustrate a few steps of the Arnoldi iteration for a small matrix."
   ]
  },
  {
   "cell_type": "code",
   "execution_count": 2,
   "id": "c1b262d2",
   "metadata": {},
   "outputs": [
    {
     "data": {
      "text/html": [
       "<html><body><pre>A = 6×6 double\n",
       "     7     6     3     8     4     8\n",
       "     5     8     3     4     6     2\n",
       "     5     3     5     9     5     2\n",
       "     8     2     6     7     6     9\n",
       "     6     1     1     8     3     9\n",
       "     1     6     9     8     2     2\n",
       "</pre></body></html>"
      ],
      "text/plain": [
       "A = 6×6 double\n",
       "     7     6     3     8     4     8\n",
       "     5     8     3     4     6     2\n",
       "     5     3     5     9     5     2\n",
       "     8     2     6     7     6     9\n",
       "     6     1     1     8     3     9\n",
       "     1     6     9     8     2     2\n"
      ]
     },
     "execution_count": 2,
     "metadata": {},
     "output_type": "execute_result"
    }
   ],
   "source": [
    "A = randi(9, [6, 6])"
   ]
  },
  {
   "cell_type": "markdown",
   "id": "faaacdd3",
   "metadata": {},
   "source": [
    "The seed vector we choose here determines the first member of the orthonormal basis."
   ]
  },
  {
   "cell_type": "code",
   "execution_count": 3,
   "id": "cdeab3fd",
   "metadata": {},
   "outputs": [],
   "source": [
    "u = randn(6, 1);\n",
    "Q = u / norm(u);"
   ]
  },
  {
   "cell_type": "markdown",
   "id": "f6d02e07",
   "metadata": {},
   "source": [
    "Multiplication by $\\mathbf{A}$ gives us a new vector in $\\mathcal{K}_2$."
   ]
  },
  {
   "cell_type": "code",
   "execution_count": 4,
   "id": "0297d1a1",
   "metadata": {},
   "outputs": [],
   "source": [
    "Aq = A * Q(:, 1);"
   ]
  },
  {
   "cell_type": "markdown",
   "id": "a09c3c51",
   "metadata": {},
   "source": [
    "We subtract off its projection in the previous direction. The remainder is rescaled to give us the next orthonormal column."
   ]
  },
  {
   "cell_type": "code",
   "execution_count": 5,
   "id": "1983ff54",
   "metadata": {},
   "outputs": [],
   "source": [
    "v = Aq - dot(Q(:, 1), Aq) * Q(:, 1);\n",
    "Q = [Q, v / norm(v)];"
   ]
  },
  {
   "cell_type": "markdown",
   "id": "c6754d54",
   "metadata": {},
   "source": [
    "On the next pass, we have to subtract off the projections in two previous directions."
   ]
  },
  {
   "cell_type": "code",
   "execution_count": 6,
   "id": "7120786f",
   "metadata": {},
   "outputs": [],
   "source": [
    "Aq = A * Q(:, 2);\n",
    "v = Aq - dot(Q(:, 1), Aq) * Q(:, 1) - dot(Q(:, 2), Aq) * Q(:, 2);\n",
    "Q = [Q, v / norm(v)];"
   ]
  },
  {
   "cell_type": "markdown",
   "id": "2c461530",
   "metadata": {},
   "source": [
    "At every step, $\\mathbf{Q}_m$ is an ONC matrix."
   ]
  },
  {
   "cell_type": "code",
   "execution_count": 7,
   "id": "d5e7822e",
   "metadata": {},
   "outputs": [
    {
     "data": {
      "text/html": [
       "<html><body><pre>ans = 1.3878e-17</pre></body></html>"
      ],
      "text/plain": [
       "ans = 1.3878e-17"
      ]
     },
     "execution_count": 7,
     "metadata": {},
     "output_type": "execute_result"
    }
   ],
   "source": [
    "format\n",
    "norm(Q' * Q - eye(3))"
   ]
  },
  {
   "cell_type": "markdown",
   "id": "feb7c8ce",
   "metadata": {},
   "source": [
    "And $\\mathbf{Q}_m$ spans the same space as the three-dimensional Krylov matrix."
   ]
  },
  {
   "cell_type": "code",
   "execution_count": 8,
   "id": "12651792",
   "metadata": {},
   "outputs": [
    {
     "data": {
      "text/html": [
       "<html><body><pre>ans = 3</pre></body></html>"
      ],
      "text/plain": [
       "ans = 3"
      ]
     },
     "execution_count": 8,
     "metadata": {},
     "output_type": "execute_result"
    }
   ],
   "source": [
    "K = [u, A * u, A * A * u];\n",
    "rank([Q, K])"
   ]
  }
 ],
 "metadata": {
  "kernelspec": {
   "display_name": "MATLAB Kernel",
   "language": "matlab",
   "name": "jupyter_matlab_kernel"
  },
  "language_info": {
   "file_extension": ".m",
   "mimetype": "text/x-matlab",
   "name": "matlab"
  },
  "numbering": {
   "headings": false
  }
 },
 "nbformat": 4,
 "nbformat_minor": 5
}
