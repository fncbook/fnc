{
    "cells": [
        {
            "cell_type": "markdown",
            "source": [
                "[**Demo %s**](#demo-subspace-arnoldi)\n",
                "\n",
                "We illustrate a few steps of the Arnoldi iteration for a small matrix."
            ],
            "id": "007f6598",
            "metadata": {}
        },
        {
            "outputs": [
                {
                    "output_type": "execute_result",
                    "data": {
                        "text/plain": [
                            "A = 6×6 double\n",
                            "     7     6     3     8     4     8\n",
                            "     5     8     3     4     6     2\n",
                            "     5     3     5     9     5     2\n",
                            "     8     2     6     7     6     9\n",
                            "     6     1     1     8     3     9\n",
                            "     1     6     9     8     2     2\n"
                        ],
                        "text/html": [
                            "<html><body><pre>A = 6×6 double\n",
                            "     7     6     3     8     4     8\n",
                            "     5     8     3     4     6     2\n",
                            "     5     3     5     9     5     2\n",
                            "     8     2     6     7     6     9\n",
                            "     6     1     1     8     3     9\n",
                            "     1     6     9     8     2     2\n",
                            "</pre></body></html>"
                        ]
                    },
                    "metadata": {},
                    "execution_count": 2
                }
            ],
            "cell_type": "code",
            "source": [
                "A = randi(9, [6, 6])"
            ],
            "id": "c1b262d2",
            "metadata": {},
            "execution_count": 2
        },
        {
            "cell_type": "markdown",
            "source": [
                "The seed vector we choose here determines the first member of the orthonormal basis."
            ],
            "id": "faaacdd3",
            "metadata": {}
        },
        {
            "outputs": [],
            "cell_type": "code",
            "source": [
                "u = randn(6, 1);\n",
                "Q = u / norm(u);"
            ],
            "id": "cdeab3fd",
            "metadata": {},
            "execution_count": 3
        },
        {
            "cell_type": "markdown",
            "source": [
                "Multiplication by $\\mathbf{A}$ gives us a new vector in $\\mathcal{K}_2$."
            ],
            "id": "f6d02e07",
            "metadata": {}
        },
        {
            "outputs": [],
            "cell_type": "code",
            "source": [
                "Aq = A * Q(:, 1);"
            ],
            "id": "0297d1a1",
            "metadata": {},
            "execution_count": 4
        },
        {
            "cell_type": "markdown",
            "source": [
                "We subtract off its projection in the previous direction. The remainder is rescaled to give us the next orthonormal column."
            ],
            "id": "a09c3c51",
            "metadata": {}
        },
        {
            "outputs": [],
            "cell_type": "code",
            "source": [
                "v = Aq - dot(Q(:, 1), Aq) * Q(:, 1);\n",
                "Q = [Q, v / norm(v)];"
            ],
            "id": "1983ff54",
            "metadata": {},
            "execution_count": 5
        },
        {
            "cell_type": "markdown",
            "source": [
                "On the next pass, we have to subtract off the projections in two previous directions."
            ],
            "id": "c6754d54",
            "metadata": {}
        },
        {
            "outputs": [],
            "cell_type": "code",
            "source": [
                "Aq = A * Q(:, 2);\n",
                "v = Aq - dot(Q(:, 1), Aq) * Q(:, 1) - dot(Q(:, 2), Aq) * Q(:, 2);\n",
                "Q = [Q, v / norm(v)];"
            ],
            "id": "7120786f",
            "metadata": {},
            "execution_count": 6
        },
        {
            "cell_type": "markdown",
            "source": [
                "At every step, $\\mathbf{Q}_m$ is an ONC matrix."
            ],
            "id": "2c461530",
            "metadata": {}
        },
        {
            "outputs": [
                {
                    "output_type": "execute_result",
                    "data": {
                        "text/plain": [
                            "ans = 1.3878e-17"
                        ],
                        "text/html": [
                            "<html><body><pre>ans = 1.3878e-17</pre></body></html>"
                        ]
                    },
                    "metadata": {},
                    "execution_count": 7
                }
            ],
            "cell_type": "code",
            "source": [
                "format\n",
                "norm(Q' * Q - eye(3))"
            ],
            "id": "d5e7822e",
            "metadata": {},
            "execution_count": 7
        },
        {
            "cell_type": "markdown",
            "source": [
                "And $\\mathbf{Q}_m$ spans the same space as the three-dimensional Krylov matrix."
            ],
            "id": "feb7c8ce",
            "metadata": {}
        },
        {
            "outputs": [
                {
                    "output_type": "execute_result",
                    "data": {
                        "text/plain": [
                            "ans = 3"
                        ],
                        "text/html": [
                            "<html><body><pre>ans = 3</pre></body></html>"
                        ]
                    },
                    "metadata": {},
                    "execution_count": 8
                }
            ],
            "cell_type": "code",
            "source": [
                "K = [u, A * u, A * A * u];\n",
                "rank([Q, K])"
            ],
            "id": "12651792",
            "metadata": {},
            "execution_count": 8
        }
    ],
    "nbformat_minor": 5,
    "metadata": {
        "language_info": {
            "file_extension": ".m",
            "mimetype": "text/x-matlab",
            "name": "matlab"
        },
        "kernelspec": {
            "name": "jupyter_matlab_kernel",
            "display_name": "MATLAB Kernel",
            "language": "matlab"
        },
        "numbering": {
            "headings": false
        }
    },
    "nbformat": 4
}
