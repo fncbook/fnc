{
    "cells": [
        {
            "outputs": [
                {
                    "name": "stderr",
                    "output_type": "stream",
                    "text": [
                        "\u001b[32m\u001b[1m  Activating\u001b[22m\u001b[39m "
                    ]
                },
                {
                    "name": "stderr",
                    "output_type": "stream",
                    "text": [
                        "project at `~/Documents/GitHub/fnc`\n"
                    ]
                }
            ],
            "cell_type": "code",
            "source": [
                "include(\"../../../julia/FNC_init.jl\")"
            ],
            "id": "696cbe18",
            "metadata": {
                "execution": {
                    "iopub.status.idle": "2025-01-14T16:39:44.568000Z",
                    "iopub.status.busy": "2025-01-14T16:39:31.428000Z",
                    "iopub.execute_input": "2025-01-14T16:39:31.899000Z",
                    "shell.execute_reply": "2025-01-14T16:39:44.435000Z"
                },
                "tags": [
                    "remove-cell"
                ]
            },
            "execution_count": 1
        },
        {
            "cell_type": "markdown",
            "source": [
                "[**Demo %s**](#demo-subspace-arnoldi)\n",
                "\n",
                "We illustrate a few steps of the Arnoldi iteration for a small matrix."
            ],
            "id": "5fd45ea5",
            "metadata": {}
        },
        {
            "outputs": [
                {
                    "output_type": "execute_result",
                    "data": {
                        "text/plain": [
                            "6×6 Matrix{Float64}:\n",
                            " 8.0  3.0  5.0  8.0  8.0  9.0\n",
                            " 9.0  4.0  3.0  7.0  8.0  8.0\n",
                            " 3.0  9.0  5.0  8.0  3.0  7.0\n",
                            " 6.0  7.0  7.0  1.0  7.0  6.0\n",
                            " 5.0  9.0  1.0  3.0  2.0  5.0\n",
                            " 8.0  5.0  4.0  5.0  7.0  2.0"
                        ]
                    },
                    "metadata": {},
                    "execution_count": 2
                }
            ],
            "cell_type": "code",
            "source": [
                "A = rand(1.0:9.0, 6, 6)"
            ],
            "id": "f37426de",
            "metadata": {
                "execution": {
                    "iopub.status.idle": "2025-01-14T16:39:47.549000Z",
                    "iopub.status.busy": "2025-01-14T16:39:44.573000Z",
                    "iopub.execute_input": "2025-01-14T16:39:45.284000Z",
                    "shell.execute_reply": "2025-01-14T16:39:47.548000Z"
                }
            },
            "execution_count": 2
        },
        {
            "cell_type": "markdown",
            "source": [
                "The seed vector we choose here determines the first member of the orthonormal basis."
            ],
            "id": "336025bc",
            "metadata": {}
        },
        {
            "outputs": [],
            "cell_type": "code",
            "source": [
                "u = randn(6)\n",
                "Q = u / norm(u);"
            ],
            "id": "70a14b15",
            "metadata": {
                "execution": {
                    "iopub.status.idle": "2025-01-14T16:39:47.577000Z",
                    "iopub.status.busy": "2025-01-14T16:39:47.556000Z",
                    "iopub.execute_input": "2025-01-14T16:39:47.557000Z",
                    "shell.execute_reply": "2025-01-14T16:39:47.575000Z"
                }
            },
            "execution_count": 3
        },
        {
            "cell_type": "markdown",
            "source": [
                "Multiplication by $\\mathbf{A}$ gives us a new vector in $\\mathcal{K}_2$."
            ],
            "id": "f406a053",
            "metadata": {}
        },
        {
            "outputs": [],
            "cell_type": "code",
            "source": [
                "Aq = A * Q[:, 1];"
            ],
            "id": "33a7293a",
            "metadata": {
                "execution": {
                    "iopub.status.idle": "2025-01-14T16:39:47.598000Z",
                    "iopub.status.busy": "2025-01-14T16:39:47.580000Z",
                    "iopub.execute_input": "2025-01-14T16:39:47.580000Z",
                    "shell.execute_reply": "2025-01-14T16:39:47.598000Z"
                }
            },
            "execution_count": 4
        },
        {
            "cell_type": "markdown",
            "source": [
                "We subtract off its projection in the previous direction. The remainder is rescaled to give us the next orthonormal column."
            ],
            "id": "38cab8ea",
            "metadata": {}
        },
        {
            "outputs": [],
            "cell_type": "code",
            "source": [
                "v = Aq - dot(Q[:, 1], Aq) * Q[:, 1]\n",
                "Q = [Q v / norm(v)];"
            ],
            "id": "fbf32909",
            "metadata": {
                "execution": {
                    "iopub.status.idle": "2025-01-14T16:39:47.654000Z",
                    "iopub.status.busy": "2025-01-14T16:39:47.606000Z",
                    "iopub.execute_input": "2025-01-14T16:39:47.606000Z",
                    "shell.execute_reply": "2025-01-14T16:39:47.653000Z"
                }
            },
            "execution_count": 5
        },
        {
            "cell_type": "markdown",
            "source": [
                "On the next pass, we have to subtract off the projections in two previous directions."
            ],
            "id": "5b359d4a",
            "metadata": {}
        },
        {
            "outputs": [],
            "cell_type": "code",
            "source": [
                "Aq = A * Q[:, 2]\n",
                "v = Aq - dot(Q[:, 1], Aq) * Q[:, 1] - dot(Q[:, 2], Aq) * Q[:, 2]\n",
                "Q = [Q v / norm(v)];"
            ],
            "id": "3ff05985",
            "metadata": {
                "execution": {
                    "iopub.status.idle": "2025-01-14T16:39:47.702000Z",
                    "iopub.status.busy": "2025-01-14T16:39:47.657000Z",
                    "iopub.execute_input": "2025-01-14T16:39:47.657000Z",
                    "shell.execute_reply": "2025-01-14T16:39:47.699000Z"
                }
            },
            "execution_count": 6
        },
        {
            "cell_type": "markdown",
            "source": [
                "At every step, $\\mathbf{Q}_m$ is an ONC matrix."
            ],
            "id": "358cb3f3",
            "metadata": {}
        },
        {
            "outputs": [
                {
                    "name": "stdout",
                    "output_type": "stream",
                    "text": [
                        "opnorm(Q' * Q - I) = 5.606994968279339e-16"
                    ]
                },
                {
                    "name": "stdout",
                    "output_type": "stream",
                    "text": [
                        "\n"
                    ]
                }
            ],
            "cell_type": "code",
            "source": [
                "@show opnorm(Q' * Q - I);"
            ],
            "id": "0837030a",
            "metadata": {
                "execution": {
                    "iopub.status.idle": "2025-01-14T16:39:48.886000Z",
                    "iopub.status.busy": "2025-01-14T16:39:47.706000Z",
                    "iopub.execute_input": "2025-01-14T16:39:47.707000Z",
                    "shell.execute_reply": "2025-01-14T16:39:48.886000Z"
                }
            },
            "execution_count": 7
        },
        {
            "cell_type": "markdown",
            "source": [
                "And $\\mathbf{Q}_m$ spans the same space as the three-dimensional Krylov matrix."
            ],
            "id": "cab18aa6",
            "metadata": {}
        },
        {
            "outputs": [
                {
                    "name": "stdout",
                    "output_type": "stream",
                    "text": [
                        "rank([Q K]) = 3"
                    ]
                },
                {
                    "name": "stdout",
                    "output_type": "stream",
                    "text": [
                        "\n"
                    ]
                }
            ],
            "cell_type": "code",
            "source": [
                "K = [u A * u A * A * u];\n",
                "@show rank([Q K]);"
            ],
            "id": "bdc41368",
            "metadata": {
                "execution": {
                    "iopub.status.idle": "2025-01-14T16:39:49.052000Z",
                    "iopub.status.busy": "2025-01-14T16:39:48.891000Z",
                    "iopub.execute_input": "2025-01-14T16:39:48.891000Z",
                    "shell.execute_reply": "2025-01-14T16:39:49.051000Z"
                }
            },
            "execution_count": 8
        }
    ],
    "nbformat_minor": 5,
    "metadata": {
        "language_info": {
            "file_extension": ".jl",
            "mimetype": "application/julia",
            "name": "julia",
            "version": "1.11.2"
        },
        "kernelspec": {
            "name": "julia-1.11",
            "display_name": "Julia 1",
            "language": "julia"
        },
        "numbering": {
            "headings": false
        }
    },
    "nbformat": 4
}
