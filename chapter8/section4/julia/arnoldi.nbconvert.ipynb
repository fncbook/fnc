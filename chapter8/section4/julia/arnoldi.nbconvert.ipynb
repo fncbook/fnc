{
 "cells": [
  {
   "cell_type": "code",
   "execution_count": 1,
   "id": "696cbe18",
   "metadata": {
    "execution": {
     "iopub.execute_input": "2025-01-14T16:39:31.899000Z",
     "iopub.status.busy": "2025-01-14T16:39:31.428000Z",
     "iopub.status.idle": "2025-01-14T16:39:44.568000Z",
     "shell.execute_reply": "2025-01-14T16:39:44.435000Z"
    }
   },
   "outputs": [
    {
     "name": "stderr",
     "output_type": "stream",
     "text": [
      "\u001b[32m\u001b[1m  Activating\u001b[22m\u001b[39m "
     ]
    },
    {
     "name": "stderr",
     "output_type": "stream",
     "text": [
      "project at `~/Documents/GitHub/fnc`\n"
     ]
    }
   ],
   "source": [
    "include(\"../../../julia/FNC_init.jl\")"
   ]
  },
  {
   "cell_type": "markdown",
   "id": "5fd45ea5",
   "metadata": {},
   "source": [
    "[**Demo %s**](#demo-subspace-arnoldi)\n",
    "\n",
    "We illustrate a few steps of the Arnoldi iteration for a small matrix."
   ]
  },
  {
   "cell_type": "code",
   "execution_count": 2,
   "id": "f37426de",
   "metadata": {
    "execution": {
     "iopub.execute_input": "2025-01-14T16:39:45.284000Z",
     "iopub.status.busy": "2025-01-14T16:39:44.573000Z",
     "iopub.status.idle": "2025-01-14T16:39:47.549000Z",
     "shell.execute_reply": "2025-01-14T16:39:47.548000Z"
    }
   },
   "outputs": [
    {
     "data": {
      "text/plain": [
       "6×6 Matrix{Float64}:\n",
       " 8.0  3.0  5.0  8.0  8.0  9.0\n",
       " 9.0  4.0  3.0  7.0  8.0  8.0\n",
       " 3.0  9.0  5.0  8.0  3.0  7.0\n",
       " 6.0  7.0  7.0  1.0  7.0  6.0\n",
       " 5.0  9.0  1.0  3.0  2.0  5.0\n",
       " 8.0  5.0  4.0  5.0  7.0  2.0"
      ]
     },
     "execution_count": 2,
     "metadata": {},
     "output_type": "execute_result"
    }
   ],
   "source": [
    "A = rand(1.0:9.0, 6, 6)"
   ]
  },
  {
   "cell_type": "markdown",
   "id": "336025bc",
   "metadata": {},
   "source": [
    "The seed vector we choose here determines the first member of the orthonormal basis."
   ]
  },
  {
   "cell_type": "code",
   "execution_count": 3,
   "id": "70a14b15",
   "metadata": {
    "execution": {
     "iopub.execute_input": "2025-01-14T16:39:47.557000Z",
     "iopub.status.busy": "2025-01-14T16:39:47.556000Z",
     "iopub.status.idle": "2025-01-14T16:39:47.577000Z",
     "shell.execute_reply": "2025-01-14T16:39:47.575000Z"
    }
   },
   "outputs": [],
   "source": [
    "u = randn(6)\n",
    "Q = u / norm(u);"
   ]
  },
  {
   "cell_type": "markdown",
   "id": "f406a053",
   "metadata": {},
   "source": [
    "Multiplication by $\\mathbf{A}$ gives us a new vector in $\\mathcal{K}_2$."
   ]
  },
  {
   "cell_type": "code",
   "execution_count": 4,
   "id": "33a7293a",
   "metadata": {
    "execution": {
     "iopub.execute_input": "2025-01-14T16:39:47.580000Z",
     "iopub.status.busy": "2025-01-14T16:39:47.580000Z",
     "iopub.status.idle": "2025-01-14T16:39:47.598000Z",
     "shell.execute_reply": "2025-01-14T16:39:47.598000Z"
    }
   },
   "outputs": [],
   "source": [
    "Aq = A * Q[:, 1];"
   ]
  },
  {
   "cell_type": "markdown",
   "id": "38cab8ea",
   "metadata": {},
   "source": [
    "We subtract off its projection in the previous direction. The remainder is rescaled to give us the next orthonormal column."
   ]
  },
  {
   "cell_type": "code",
   "execution_count": 5,
   "id": "fbf32909",
   "metadata": {
    "execution": {
     "iopub.execute_input": "2025-01-14T16:39:47.606000Z",
     "iopub.status.busy": "2025-01-14T16:39:47.606000Z",
     "iopub.status.idle": "2025-01-14T16:39:47.654000Z",
     "shell.execute_reply": "2025-01-14T16:39:47.653000Z"
    }
   },
   "outputs": [],
   "source": [
    "v = Aq - dot(Q[:, 1], Aq) * Q[:, 1]\n",
    "Q = [Q v / norm(v)];"
   ]
  },
  {
   "cell_type": "markdown",
   "id": "5b359d4a",
   "metadata": {},
   "source": [
    "On the next pass, we have to subtract off the projections in two previous directions."
   ]
  },
  {
   "cell_type": "code",
   "execution_count": 6,
   "id": "3ff05985",
   "metadata": {
    "execution": {
     "iopub.execute_input": "2025-01-14T16:39:47.657000Z",
     "iopub.status.busy": "2025-01-14T16:39:47.657000Z",
     "iopub.status.idle": "2025-01-14T16:39:47.702000Z",
     "shell.execute_reply": "2025-01-14T16:39:47.699000Z"
    }
   },
   "outputs": [],
   "source": [
    "Aq = A * Q[:, 2]\n",
    "v = Aq - dot(Q[:, 1], Aq) * Q[:, 1] - dot(Q[:, 2], Aq) * Q[:, 2]\n",
    "Q = [Q v / norm(v)];"
   ]
  },
  {
   "cell_type": "markdown",
   "id": "358cb3f3",
   "metadata": {},
   "source": [
    "At every step, $\\mathbf{Q}_m$ is an ONC matrix."
   ]
  },
  {
   "cell_type": "code",
   "execution_count": 7,
   "id": "0837030a",
   "metadata": {
    "execution": {
     "iopub.execute_input": "2025-01-14T16:39:47.707000Z",
     "iopub.status.busy": "2025-01-14T16:39:47.706000Z",
     "iopub.status.idle": "2025-01-14T16:39:48.886000Z",
     "shell.execute_reply": "2025-01-14T16:39:48.886000Z"
    }
   },
   "outputs": [
    {
     "name": "stdout",
     "output_type": "stream",
     "text": [
      "opnorm(Q' * Q - I) = 5.606994968279339e-16"
     ]
    },
    {
     "name": "stdout",
     "output_type": "stream",
     "text": [
      "\n"
     ]
    }
   ],
   "source": [
    "@show opnorm(Q' * Q - I);"
   ]
  },
  {
   "cell_type": "markdown",
   "id": "cab18aa6",
   "metadata": {},
   "source": [
    "And $\\mathbf{Q}_m$ spans the same space as the three-dimensional Krylov matrix."
   ]
  },
  {
   "cell_type": "code",
   "execution_count": 8,
   "id": "bdc41368",
   "metadata": {
    "execution": {
     "iopub.execute_input": "2025-01-14T16:39:48.891000Z",
     "iopub.status.busy": "2025-01-14T16:39:48.891000Z",
     "iopub.status.idle": "2025-01-14T16:39:49.052000Z",
     "shell.execute_reply": "2025-01-14T16:39:49.051000Z"
    }
   },
   "outputs": [
    {
     "name": "stdout",
     "output_type": "stream",
     "text": [
      "rank([Q K]) = 3"
     ]
    },
    {
     "name": "stdout",
     "output_type": "stream",
     "text": [
      "\n"
     ]
    }
   ],
   "source": [
    "K = [u A * u A * A * u];\n",
    "@show rank([Q K]);"
   ]
  }
 ],
 "metadata": {
  "kernelspec": {
   "display_name": "Julia 1",
   "language": "julia",
   "name": "julia-1.11"
  },
  "language_info": {
   "file_extension": ".jl",
   "mimetype": "application/julia",
   "name": "julia",
   "version": "1.11.2"
  },
  "numbering": {
   "headings": false
  }
 },
 "nbformat": 4,
 "nbformat_minor": 5
}
