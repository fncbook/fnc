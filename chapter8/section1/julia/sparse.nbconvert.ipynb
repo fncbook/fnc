{
 "cells": [
  {
   "cell_type": "code",
   "execution_count": 1,
   "id": "87d866f8",
   "metadata": {
    "execution": {
     "iopub.execute_input": "2025-01-14T16:39:42.458000Z",
     "iopub.status.busy": "2025-01-14T16:39:41.881000Z",
     "iopub.status.idle": "2025-01-14T16:39:53.296000Z",
     "shell.execute_reply": "2025-01-14T16:39:53.160000Z"
    }
   },
   "outputs": [
    {
     "name": "stderr",
     "output_type": "stream",
     "text": [
      "\u001b[32m\u001b[1m  Activating\u001b[22m\u001b[39m "
     ]
    },
    {
     "name": "stderr",
     "output_type": "stream",
     "text": [
      "project at `~/Documents/GitHub/fnc`\n"
     ]
    }
   ],
   "source": [
    "include(\"../../../julia/FNC_init.jl\")"
   ]
  },
  {
   "cell_type": "markdown",
   "id": "32df861f",
   "metadata": {},
   "source": [
    "[**Demo %s**](#demo-structure-sparse)\n",
    "\n",
    "Here we load the adjacency matrix of a graph with 2790 nodes. Each node is a web page referring to Roswell, NM, and the edges represent links between web pages. (Credit goes to Panayiotis Tsaparas and the University of Toronto for making this data public.)"
   ]
  },
  {
   "cell_type": "code",
   "execution_count": 2,
   "id": "03987718",
   "metadata": {
    "execution": {
     "iopub.execute_input": "2025-01-14T16:39:54.130000Z",
     "iopub.status.busy": "2025-01-14T16:39:53.305000Z",
     "iopub.status.idle": "2025-01-14T16:39:58.829000Z",
     "shell.execute_reply": "2025-01-14T16:39:58.826000Z"
    }
   },
   "outputs": [],
   "source": [
    "using SparseArrays, JLD2\n",
    "@load \"roswell.jld2\" A;      # file is on the book's website"
   ]
  },
  {
   "cell_type": "markdown",
   "id": "56eaa62d",
   "metadata": {},
   "source": [
    "```{index} ! Julia; nnz\n",
    "```\n",
    "We may define the density of $\\mathbf{A}$ as the number of nonzeros divided by the total number of entries.\n",
    "```{tip}\n",
    ":class: dropdown\n",
    "Use `nnz` to count the number of nonzeros in a sparse matrix.\n",
    "```"
   ]
  },
  {
   "cell_type": "code",
   "execution_count": 3,
   "id": "98079882",
   "metadata": {
    "execution": {
     "iopub.execute_input": "2025-01-14T16:39:58.841000Z",
     "iopub.status.busy": "2025-01-14T16:39:58.838000Z",
     "iopub.status.idle": "2025-01-14T16:39:59.862000Z",
     "shell.execute_reply": "2025-01-14T16:39:59.861000Z"
    }
   },
   "outputs": [
    {
     "name": "stdout",
     "output_type": "stream",
     "text": [
      "density = nnz(A) / (m * n) = 0.0010902994565845762"
     ]
    },
    {
     "name": "stdout",
     "output_type": "stream",
     "text": [
      "\n"
     ]
    }
   ],
   "source": [
    "m, n = size(A)\n",
    "@show density = nnz(A) / (m * n);"
   ]
  },
  {
   "cell_type": "markdown",
   "id": "84cfe812",
   "metadata": {},
   "source": [
    "```{index} ! Julia; summarysize\n",
    "```\n",
    "\n",
    "The computer memory consumed by any variable can be discovered using `summarysize`. We can use it to compare the space needed for the sparse representation to its dense counterpart, that is, the space needed to store all the elements, whether zero or not."
   ]
  },
  {
   "cell_type": "code",
   "execution_count": 4,
   "id": "beb84d8d",
   "metadata": {
    "execution": {
     "iopub.execute_input": "2025-01-14T16:39:59.865000Z",
     "iopub.status.busy": "2025-01-14T16:39:59.865000Z",
     "iopub.status.idle": "2025-01-14T16:40:00.550000Z",
     "shell.execute_reply": "2025-01-14T16:40:00.546000Z"
    }
   },
   "outputs": [
    {
     "data": {
      "text/plain": [
       "550.2690513219285"
      ]
     },
     "execution_count": 4,
     "metadata": {},
     "output_type": "execute_result"
    }
   ],
   "source": [
    "F = Matrix(A)\n",
    "Base.summarysize(F) / Base.summarysize(A)"
   ]
  },
  {
   "cell_type": "markdown",
   "id": "28bb636a",
   "metadata": {},
   "source": [
    "As you can see, the storage savings are dramatic. Matrix-vector products are also much faster using the sparse form because operations with structural zeros are skipped."
   ]
  },
  {
   "cell_type": "code",
   "execution_count": 5,
   "id": "594e1b8e",
   "metadata": {
    "execution": {
     "iopub.execute_input": "2025-01-14T16:40:00.557000Z",
     "iopub.status.busy": "2025-01-14T16:40:00.557000Z",
     "iopub.status.idle": "2025-01-14T16:40:00.681000Z",
     "shell.execute_reply": "2025-01-14T16:40:00.681000Z"
    }
   },
   "outputs": [
    {
     "data": {
      "text/plain": [
       "0.004484833"
      ]
     },
     "execution_count": 5,
     "metadata": {},
     "output_type": "execute_result"
    }
   ],
   "source": [
    "x = randn(n)\n",
    "A * x;   # make sure * is loaded and compiled\n",
    "@elapsed for i in 1:300\n",
    "    A * x\n",
    "end"
   ]
  },
  {
   "cell_type": "code",
   "execution_count": 6,
   "id": "28997a4b",
   "metadata": {
    "execution": {
     "iopub.execute_input": "2025-01-14T16:40:00.685000Z",
     "iopub.status.busy": "2025-01-14T16:40:00.685000Z",
     "iopub.status.idle": "2025-01-14T16:40:02.785000Z",
     "shell.execute_reply": "2025-01-14T16:40:02.783000Z"
    }
   },
   "outputs": [
    {
     "data": {
      "text/plain": [
       "2.059632875"
      ]
     },
     "execution_count": 6,
     "metadata": {},
     "output_type": "execute_result"
    }
   ],
   "source": [
    "F * x;\n",
    "@elapsed for i in 1:300\n",
    "    F * x\n",
    "end"
   ]
  }
 ],
 "metadata": {
  "kernelspec": {
   "display_name": "Julia 1",
   "language": "julia",
   "name": "julia-1.11"
  },
  "language_info": {
   "file_extension": ".jl",
   "mimetype": "application/julia",
   "name": "julia",
   "version": "1.11.2"
  },
  "numbering": {
   "headings": false
  }
 },
 "nbformat": 4,
 "nbformat_minor": 5
}
