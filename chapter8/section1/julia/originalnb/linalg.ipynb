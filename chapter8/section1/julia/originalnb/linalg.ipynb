{
    "cells": [
        {
            "outputs": [
                {
                    "name": "stderr",
                    "output_type": "stream",
                    "text": [
                        "\u001b[32m\u001b[1m  Activating\u001b[22m\u001b[39m project at `~/Documents/GitHub/fnc`\n"
                    ]
                }
            ],
            "cell_type": "code",
            "source": [
                "include(\"../../../julia/FNC_init.jl\")"
            ],
            "id": "5a5b2678",
            "metadata": {
                "execution": {
                    "iopub.status.idle": "2025-01-14T16:40:01.417000Z",
                    "iopub.status.busy": "2025-01-14T16:39:48.981000Z",
                    "iopub.execute_input": "2025-01-14T16:39:49.768000Z",
                    "shell.execute_reply": "2025-01-14T16:40:01.304000Z"
                },
                "tags": [
                    "remove-cell"
                ]
            },
            "execution_count": 1
        },
        {
            "cell_type": "markdown",
            "source": [
                "[**Demo %s**](#demo-structure-linalg)\n",
                "\n",
                "The following generates a random sparse matrix with prescribed eigenvalues."
            ],
            "id": "da777e15",
            "metadata": {}
        },
        {
            "outputs": [],
            "cell_type": "code",
            "source": [
                "using SparseArrays\n",
                "n = 4000\n",
                "density = 4e-4\n",
                "λ = @. 1 + 1 / (1:n)   # exact eigenvalues\n",
                "A = FNC.sprandsym(n, density, λ);"
            ],
            "id": "374c60c5",
            "metadata": {
                "execution": {
                    "iopub.status.idle": "2025-01-14T16:40:03.702000Z",
                    "iopub.status.busy": "2025-01-14T16:40:01.420000Z",
                    "iopub.execute_input": "2025-01-14T16:40:01.804000Z",
                    "shell.execute_reply": "2025-01-14T16:40:03.701000Z"
                }
            },
            "execution_count": 2
        },
        {
            "cell_type": "markdown",
            "source": [
                "```{index} ! Julia; eigs\n",
                "```\n",
                "\n",
                "The `eigs` function from `Arpack` finds a small number eigenvalues meeting some criterion. First, we ask for the 5 of largest (complex) magnitude using `which=:LM`."
            ],
            "id": "a6d958d1",
            "metadata": {}
        },
        {
            "outputs": [
                {
                    "name": "stdout",
                    "output_type": "stream",
                    "text": [
                        "┌──────────────────────┬──────────────────────┐\n",
                        "│\u001b[1m                found \u001b[0m│\u001b[1m                exact \u001b[0m│\n",
                        "├──────────────────────┼──────────────────────┤\n",
                        "│    2.000000000000001 │    2.000000000000000 │\n",
                        "│    1.500000000000000 │    1.500000000000000 │\n",
                        "│    1.333333333333331 │    1.333333333333333 │\n",
                        "│    1.250000000000003 │    1.250000000000000 │\n",
                        "│    1.200000000000000 │    1.200000000000000 │\n",
                        "└──────────────────────┴──────────────────────┘\n"
                    ]
                }
            ],
            "cell_type": "code",
            "source": [
                "using Arpack\n",
                "λmax, V = eigs(A, nev=5, which=:LM)    # Largest Magnitude\n",
                "fmt = ft_printf(\"%20.15f\")\n",
                "pretty_table([λmax λ[1:5]], header=[\"found\", \"exact\"], formatters=fmt)"
            ],
            "id": "130f1c67",
            "metadata": {
                "execution": {
                    "iopub.status.idle": "2025-01-14T16:40:06.737000Z",
                    "iopub.status.busy": "2025-01-14T16:40:03.707000Z",
                    "iopub.execute_input": "2025-01-14T16:40:03.707000Z",
                    "shell.execute_reply": "2025-01-14T16:40:06.737000Z"
                }
            },
            "execution_count": 3
        },
        {
            "cell_type": "markdown",
            "source": [
                "Now we find the 5 closest to the value 1 in the complex plane, via `sigma=1`."
            ],
            "id": "7596d811",
            "metadata": {}
        },
        {
            "outputs": [
                {
                    "name": "stdout",
                    "output_type": "stream",
                    "text": [
                        "┌──────────────────────┬──────────────────────┐\n",
                        "│\u001b[1m                found \u001b[0m│\u001b[1m                exact \u001b[0m│\n",
                        "├──────────────────────┼──────────────────────┤\n",
                        "│    1.000250000000000 │    1.000250000000000 │\n",
                        "│    1.000250062515629 │    1.000250062515629 │\n",
                        "│    1.000250125062531 │    1.000250125062531 │\n",
                        "│    1.000250187640731 │    1.000250187640731 │\n",
                        "│    1.000250250250250 │    1.000250250250250 │\n",
                        "└──────────────────────┴──────────────────────┘\n"
                    ]
                }
            ],
            "cell_type": "code",
            "source": [
                "λ1, V = eigs(A, nev=5, sigma=1)    # closest to sigma\n",
                "data = [λ1 λ[end:-1:end-4]]\n",
                "pretty_table(data, header=[\"found\", \"exact\"], formatters=fmt)"
            ],
            "id": "b7f628fd",
            "metadata": {
                "execution": {
                    "iopub.status.idle": "2025-01-14T16:40:08.059000Z",
                    "iopub.status.busy": "2025-01-14T16:40:06.746000Z",
                    "iopub.execute_input": "2025-01-14T16:40:06.746000Z",
                    "shell.execute_reply": "2025-01-14T16:40:08.059000Z"
                }
            },
            "execution_count": 4
        },
        {
            "cell_type": "markdown",
            "source": [
                "```{index} Julia; \\\\\n",
                "```\n",
                "\n",
                "The time needed to solve a sparse linear system is not easy to predict unless you have some more information about the matrix. But it will typically be orders of magnitude faster than the dense version of the same problem."
            ],
            "id": "c378506b",
            "metadata": {}
        },
        {
            "outputs": [],
            "cell_type": "code",
            "source": [
                "x = @. 1 / (1:n);\n",
                "b = A * x;"
            ],
            "id": "1437e463",
            "metadata": {
                "execution": {
                    "iopub.status.idle": "2025-01-14T16:40:08.110000Z",
                    "iopub.status.busy": "2025-01-14T16:40:08.062000Z",
                    "iopub.execute_input": "2025-01-14T16:40:08.063000Z",
                    "shell.execute_reply": "2025-01-14T16:40:08.109000Z"
                }
            },
            "execution_count": 5
        },
        {
            "outputs": [
                {
                    "name": "stdout",
                    "output_type": "stream",
                    "text": [
                        "Time for sparse solve: 0.001945709\n"
                    ]
                }
            ],
            "cell_type": "code",
            "source": [
                "norm(x - A \\ b);  # force compilation\n",
                "t = @elapsed sparse_err = norm(x - A \\ b)\n",
                "println(\"Time for sparse solve: $t\")"
            ],
            "id": "b76df629",
            "metadata": {
                "execution": {
                    "iopub.status.idle": "2025-01-14T16:40:08.539000Z",
                    "iopub.status.busy": "2025-01-14T16:40:08.113000Z",
                    "iopub.execute_input": "2025-01-14T16:40:08.114000Z",
                    "shell.execute_reply": "2025-01-14T16:40:08.538000Z"
                }
            },
            "execution_count": 6
        },
        {
            "outputs": [
                {
                    "name": "stdout",
                    "output_type": "stream",
                    "text": [
                        "Time for dense solve: 0.750346583\n"
                    ]
                }
            ],
            "cell_type": "code",
            "source": [
                "D = Matrix(A)  # convert to regular matrix\n",
                "norm(x - D \\ b);\n",
                "t = @elapsed dense_err = norm(x - D \\ b)\n",
                "println(\"Time for dense solve: $t\")"
            ],
            "id": "e0ec2c6b",
            "metadata": {
                "execution": {
                    "iopub.status.idle": "2025-01-14T16:40:10.172000Z",
                    "iopub.status.busy": "2025-01-14T16:40:08.542000Z",
                    "iopub.execute_input": "2025-01-14T16:40:08.542000Z",
                    "shell.execute_reply": "2025-01-14T16:40:10.172000Z"
                }
            },
            "execution_count": 7
        },
        {
            "outputs": [
                {
                    "name": "stdout",
                    "output_type": "stream",
                    "text": [
                        "sparse_err = 1.1767106711290517e-16\n",
                        "dense_err = 2.8523997176441884e-17\n"
                    ]
                }
            ],
            "cell_type": "code",
            "source": [
                "@show sparse_err;\n",
                "@show dense_err;"
            ],
            "id": "95c4fd53",
            "metadata": {
                "execution": {
                    "iopub.status.idle": "2025-01-14T16:40:10.269000Z",
                    "iopub.status.busy": "2025-01-14T16:40:10.175000Z",
                    "iopub.execute_input": "2025-01-14T16:40:10.175000Z",
                    "shell.execute_reply": "2025-01-14T16:40:10.269000Z"
                }
            },
            "execution_count": 8
        }
    ],
    "nbformat_minor": 5,
    "metadata": {
        "language_info": {
            "file_extension": ".jl",
            "mimetype": "application/julia",
            "name": "julia",
            "version": "1.11.2"
        },
        "kernelspec": {
            "name": "julia-1.11",
            "display_name": "Julia 1",
            "language": "julia"
        },
        "numbering": {
            "headings": false
        }
    },
    "nbformat": 4
}
