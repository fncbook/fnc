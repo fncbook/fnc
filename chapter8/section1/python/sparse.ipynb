{
 "cells": [
  {
   "cell_type": "code",
   "execution_count": 10,
   "id": "936c6582",
   "metadata": {
    "tags": [
     "remove-cell"
    ]
   },
   "outputs": [],
   "source": [
    "exec(open(\"../../../python/FNC_init.py\").read())"
   ]
  },
  {
   "cell_type": "markdown",
   "id": "524c8ae5",
   "metadata": {},
   "source": [
    "[**Demo %s**](#demo-structure-sparse)\n",
    "\n",
    "```{tip}\n",
    "Functions to work with sparse matrices are found in the `scipy.sparse` module.\n",
    "```\n",
    "\n",
    "Here we load the adjacency matrix of a graph with 2790 nodes. Each node is a web page referring to Roswell, NM, and the edges represent links between web pages. (Credit goes to Panayiotis Tsaparas and the University of Toronto for making this data public.)"
   ]
  },
  {
   "cell_type": "code",
   "execution_count": 11,
   "id": "9a6ca7df",
   "metadata": {},
   "outputs": [],
   "source": [
    "import scipy.sparse as sp\n",
    "from scipy.io import mmread\n",
    "\n",
    "A = mmread(\"../roswell.mtx\")    # get from the book's website"
   ]
  },
  {
   "cell_type": "markdown",
   "id": "58be8494",
   "metadata": {},
   "source": [
    "We may define the density of $\\mathbf{A}$ as the number of nonzeros divided by the total number of entries.\n",
    "\n",
    "```{index} ! Python; nnz\n",
    "```"
   ]
  },
  {
   "cell_type": "code",
   "execution_count": 12,
   "id": "099623c9",
   "metadata": {},
   "outputs": [
    {
     "name": "stdout",
     "output_type": "stream",
     "text": [
      "density is 0.109%\n"
     ]
    }
   ],
   "source": [
    "m, n = A.shape\n",
    "print(f\"density is {A.nnz / (m * n):.3%}\")"
   ]
  },
  {
   "cell_type": "markdown",
   "id": "b022f6cb",
   "metadata": {},
   "source": [
    "We can compare the storage space needed for the sparse $\\mathbf{A}$ with the space needed for its dense / full counterpart."
   ]
  },
  {
   "cell_type": "code",
   "execution_count": 13,
   "id": "b38059ac",
   "metadata": {},
   "outputs": [
    {
     "name": "stdout",
     "output_type": "stream",
     "text": [
      "0.068 MB for sparse form, 62.273 MB for dense form\n"
     ]
    }
   ],
   "source": [
    "F = A.todense()\n",
    "print(f\"{A.data.nbytes/1e6:.3f} MB for sparse form, {F.nbytes/1e6:.3f} MB for dense form\")"
   ]
  },
  {
   "cell_type": "markdown",
   "id": "b4078f20",
   "metadata": {},
   "source": [
    "Matrix-vector products are also much faster using the sparse form because operations with structural zeros are skipped."
   ]
  },
  {
   "cell_type": "code",
   "execution_count": 14,
   "id": "c00d2477",
   "metadata": {},
   "outputs": [
    {
     "name": "stdout",
     "output_type": "stream",
     "text": [
      "sparse time: 0.01353 sec\n"
     ]
    }
   ],
   "source": [
    "from timeit import default_timer as timer\n",
    "x = random.randn(n)\n",
    "start = timer()\n",
    "for i in range(1000):\n",
    "    A @ x\n",
    "print(f\"sparse time: {timer() - start:.4g} sec\")"
   ]
  },
  {
   "cell_type": "code",
   "execution_count": 15,
   "id": "3f4a0ecc",
   "metadata": {},
   "outputs": [
    {
     "name": "stdout",
     "output_type": "stream",
     "text": [
      "dense time: 1.548 sec\n"
     ]
    }
   ],
   "source": [
    "start = timer()\n",
    "for i in range(1000):\n",
    "    F @ x\n",
    "print(f\"dense time: {timer() - start:.4g} sec\")"
   ]
  }
 ],
 "metadata": {
  "kernelspec": {
   "display_name": "myst",
   "language": "python",
   "name": "python3"
  },
  "language_info": {
   "codemirror_mode": {
    "name": "ipython",
    "version": 3
   },
   "file_extension": ".py",
   "mimetype": "text/x-python",
   "name": "python",
   "nbconvert_exporter": "python",
   "pygments_lexer": "ipython3",
   "version": "3.13.0"
  },
  "numbering": {
   "headings": false
  }
 },
 "nbformat": 4,
 "nbformat_minor": 5
}
