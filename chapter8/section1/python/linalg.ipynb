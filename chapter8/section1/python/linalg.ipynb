{
 "cells": [
  {
   "cell_type": "code",
   "execution_count": 1,
   "id": "5a407b22",
   "metadata": {
    "execution": {
     "iopub.execute_input": "2025-01-11T16:17:34.947681Z",
     "iopub.status.busy": "2025-01-11T16:17:34.947334Z",
     "iopub.status.idle": "2025-01-11T16:17:35.289687Z",
     "shell.execute_reply": "2025-01-11T16:17:35.289409Z"
    },
    "tags": [
     "remove-cell"
    ]
   },
   "outputs": [],
   "source": [
    "exec(open(\"../../../python/FNC_init.py\").read())"
   ]
  },
  {
   "cell_type": "markdown",
   "id": "4bc062fd",
   "metadata": {},
   "source": [
    "[**Demo %s**](#demo-structure-linalg)\n",
    "\n",
    "\n",
    "The following generates a random sparse matrix with prescribed eigenvalues."
   ]
  },
  {
   "cell_type": "code",
   "execution_count": 2,
   "id": "4482c27f",
   "metadata": {
    "execution": {
     "iopub.execute_input": "2025-01-11T16:17:35.291334Z",
     "iopub.status.busy": "2025-01-11T16:17:35.291220Z",
     "iopub.status.idle": "2025-01-11T16:17:39.676313Z",
     "shell.execute_reply": "2025-01-11T16:17:39.669506Z"
    }
   },
   "outputs": [
    {
     "name": "stdout",
     "output_type": "stream",
     "text": [
      "density is 0.040%\n"
     ]
    }
   ],
   "source": [
    "n = 4000\n",
    "density = 4e-4\n",
    "ev = 1 / arange(1, n + 1)\n",
    "A = FNC.sprandsym(n, density, eigvals=ev)\n",
    "print(f\"density is {A.nnz / prod(A.shape):.3%}\")"
   ]
  },
  {
   "cell_type": "markdown",
   "id": "dd561462",
   "metadata": {},
   "source": [
    "```{index} ! Python; eigs\n",
    "```\n",
    "\n",
    "The `eigs` function finds a small number eigenvalues meeting some criterion. First, we ask for the 5 of largest (complex) magnitude using `which=\"LM\"`."
   ]
  },
  {
   "cell_type": "code",
   "execution_count": 3,
   "id": "b463dbf9",
   "metadata": {
    "execution": {
     "iopub.execute_input": "2025-01-11T16:17:39.689589Z",
     "iopub.status.busy": "2025-01-11T16:17:39.688812Z",
     "iopub.status.idle": "2025-01-11T16:17:39.734750Z",
     "shell.execute_reply": "2025-01-11T16:17:39.730562Z"
    }
   },
   "outputs": [
    {
     "name": "stdout",
     "output_type": "stream",
     "text": [
      "[1.+0.j 2.+0.j 3.+0.j 4.+0.j 5.+0.j]\n"
     ]
    }
   ],
   "source": [
    "from scipy.sparse.linalg import eigs\n",
    "ev, V = eigs(A, k=5, which=\"LM\")    # largest magnitude\n",
    "print(1 / ev)"
   ]
  },
  {
   "cell_type": "markdown",
   "id": "4bf5c6de",
   "metadata": {},
   "source": [
    "Now we find the 4 closest to the value 1 in the complex plane, via `sigma=1`."
   ]
  },
  {
   "cell_type": "code",
   "execution_count": 4,
   "id": "0b9d6afd",
   "metadata": {
    "execution": {
     "iopub.execute_input": "2025-01-11T16:17:39.778998Z",
     "iopub.status.busy": "2025-01-11T16:17:39.778621Z",
     "iopub.status.idle": "2025-01-11T16:17:39.799294Z",
     "shell.execute_reply": "2025-01-11T16:17:39.797108Z"
    }
   },
   "outputs": [
    {
     "name": "stdout",
     "output_type": "stream",
     "text": [
      "[0.03030303+0.j 0.02941176+0.j 0.03125   +0.j 0.02857143+0.j]\n"
     ]
    }
   ],
   "source": [
    "from scipy.sparse.linalg import eigs\n",
    "ev, V = eigs(A, k=4, sigma=0.03)    # closest to sigma\n",
    "print(ev)"
   ]
  },
  {
   "cell_type": "markdown",
   "id": "1325ca81",
   "metadata": {},
   "source": [
    "The time needed to solve a sparse linear system is not easy to predict unless you have some more information about the matrix. But it will typically be orders of magnitude faster than the dense version of the same problem."
   ]
  },
  {
   "cell_type": "code",
   "execution_count": 5,
   "id": "59117845",
   "metadata": {
    "execution": {
     "iopub.execute_input": "2025-01-11T16:17:39.804425Z",
     "iopub.status.busy": "2025-01-11T16:17:39.804027Z",
     "iopub.status.idle": "2025-01-11T16:17:39.813421Z",
     "shell.execute_reply": "2025-01-11T16:17:39.812416Z"
    }
   },
   "outputs": [
    {
     "name": "stdout",
     "output_type": "stream",
     "text": [
      "sparse time: 0.00204 sec\n",
      "residual: 9.9e-19\n"
     ]
    }
   ],
   "source": [
    "from scipy.sparse.linalg import spsolve\n",
    "x = 1 / arange(1, n + 1)\n",
    "b = A @ x\n",
    "start = timer()\n",
    "xx = spsolve(A, b)\n",
    "print(f\"sparse time: {timer() - start:.3g} sec\")\n",
    "print(f\"residual: {norm(b - A @ xx, 2):.1e}\")"
   ]
  },
  {
   "cell_type": "code",
   "execution_count": 6,
   "id": "3648c882",
   "metadata": {
    "execution": {
     "iopub.execute_input": "2025-01-11T16:17:39.817251Z",
     "iopub.status.busy": "2025-01-11T16:17:39.816831Z",
     "iopub.status.idle": "2025-01-11T16:17:40.489160Z",
     "shell.execute_reply": "2025-01-11T16:17:40.488106Z"
    }
   },
   "outputs": [
    {
     "name": "stdout",
     "output_type": "stream",
     "text": [
      "dense time: 0.658 sec\n",
      "residual: 1.8e-18\n"
     ]
    }
   ],
   "source": [
    "from numpy.linalg import solve\n",
    "F = A.todense()\n",
    "start = timer()\n",
    "xx = solve(F, b)\n",
    "print(f\"dense time: {timer() - start:.3g} sec\")\n",
    "print(f\"residual: {norm(b - A @ xx, 2):.1e}\")"
   ]
  }
 ],
 "metadata": {
  "kernelspec": {
   "display_name": "Python 3",
   "language": "python",
   "name": "python3"
  },
  "language_info": {
   "codemirror_mode": {
    "name": "ipython",
    "version": 3
   },
   "file_extension": ".py",
   "mimetype": "text/x-python",
   "name": "python",
   "nbconvert_exporter": "python",
   "pygments_lexer": "ipython3",
   "version": "3.13.0"
  },
  "numbering": {
   "headings": false
  }
 },
 "nbformat": 4,
 "nbformat_minor": 5
}
