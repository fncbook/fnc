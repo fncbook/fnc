{
    "cells": [
        {
            "cell_type": "markdown",
            "source": [
                "[**Demo %s**](#demo-structure-sparse)\n",
                "\n",
                "Here we load the adjacency matrix of a graph with 2790 nodes. Each node is a web page referring to Roswell, NM, and the edges represent links between web pages. (Credit goes to Panayiotis Tsaparas and the University of Toronto for making this data public.)"
            ],
            "id": "ac82aefd",
            "metadata": {}
        },
        {
            "outputs": [
                {
                    "output_type": "execute_result",
                    "data": {
                        "text/plain": [
                            "a = struct with fields:\n",
                            "          name: 'A'\n",
                            "          size: [2790 2790]\n",
                            "         bytes: 158120\n",
                            "         class: 'double'\n",
                            "        global: 0\n",
                            "        sparse: 1\n",
                            "       complex: 0\n",
                            "       nesting: [1x1 struct]\n",
                            "    persistent: 0\n"
                        ],
                        "text/html": [
                            "<html><body><pre>a = struct with fields:\n",
                            "          name: 'A'\n",
                            "          size: [2790 2790]\n",
                            "         bytes: 158120\n",
                            "         class: 'double'\n",
                            "        global: 0\n",
                            "        sparse: 1\n",
                            "       complex: 0\n",
                            "       nesting: [1x1 struct]\n",
                            "    persistent: 0\n",
                            "</pre></body></html>"
                        ]
                    },
                    "metadata": {},
                    "execution_count": 2
                }
            ],
            "cell_type": "code",
            "source": [
                "load roswelladj\n",
                "a = whos('A')"
            ],
            "id": "43240348",
            "metadata": {},
            "execution_count": 2
        },
        {
            "cell_type": "markdown",
            "source": [
                "```{index} ! MATLAB; nnz\n",
                "```\n",
                "We may define the density of $\\mathbf{A}$ as the number of nonzeros divided by the total number of entries.\n",
                "```{tip}\n",
                ":class: dropdown\n",
                "Use `nnz` to count the number of nonzeros in a sparse matrix.\n",
                "```"
            ],
            "id": "805135a1",
            "metadata": {}
        },
        {
            "outputs": [
                {
                    "output_type": "execute_result",
                    "data": {
                        "text/plain": [
                            "density = 0.0011"
                        ],
                        "text/html": [
                            "<html><body><pre>density = 0.0011</pre></body></html>"
                        ]
                    },
                    "metadata": {},
                    "execution_count": 3
                }
            ],
            "cell_type": "code",
            "source": [
                "sz = size(A);  n = sz(1);\n",
                "density = nnz(A) / prod(sz)"
            ],
            "id": "63205578",
            "metadata": {},
            "execution_count": 3
        },
        {
            "cell_type": "markdown",
            "source": [
                "The computer memory consumed by any variable can be discovered using `whos`. We can use it to compare the space needed for the sparse representation to its dense counterpart, that is, the space needed to store all the elements, whether zero or not."
            ],
            "id": "6d066831",
            "metadata": {}
        },
        {
            "outputs": [
                {
                    "output_type": "execute_result",
                    "data": {
                        "text/plain": [
                            "storage_ratio = 393.8325"
                        ],
                        "text/html": [
                            "<html><body><pre>storage_ratio = 393.8325</pre></body></html>"
                        ]
                    },
                    "metadata": {},
                    "execution_count": 4
                }
            ],
            "cell_type": "code",
            "source": [
                "F = full(A);\n",
                "f = whos('F');\n",
                "storage_ratio = f.bytes / a.bytes"
            ],
            "id": "179c97f3",
            "metadata": {},
            "execution_count": 4
        },
        {
            "cell_type": "markdown",
            "source": [
                "Matrix-vector products are also much faster using the sparse form because operations with structural zeros are skipped."
            ],
            "id": "6b9b2ca9",
            "metadata": {}
        },
        {
            "outputs": [
                {
                    "output_type": "execute_result",
                    "data": {
                        "text/plain": [
                            "sparse_time = 0.0059"
                        ],
                        "text/html": [
                            "<html><body><pre>sparse_time = 0.0059</pre></body></html>"
                        ]
                    },
                    "metadata": {},
                    "execution_count": 5
                }
            ],
            "cell_type": "code",
            "source": [
                "x = randn(n,1);\n",
                "tic, for i = 1:200, A*x; end\n",
                "sparse_time = toc"
            ],
            "id": "5a89df40",
            "metadata": {},
            "execution_count": 5
        },
        {
            "outputs": [
                {
                    "output_type": "execute_result",
                    "data": {
                        "text/plain": [
                            "dense_time = 0.7960"
                        ],
                        "text/html": [
                            "<html><body><pre>dense_time = 0.7960</pre></body></html>"
                        ]
                    },
                    "metadata": {},
                    "execution_count": 6
                }
            ],
            "cell_type": "code",
            "source": [
                "tic, for i = 1:200, F*x; end\n",
                "dense_time = toc"
            ],
            "id": "bb649915",
            "metadata": {},
            "execution_count": 6
        },
        {
            "cell_type": "markdown",
            "source": [
                "However, the sparse storage format in MATLAB is column-oriented.  Operations on rows may take a lot longer than similar ones on columns."
            ],
            "id": "daf5fcdb",
            "metadata": {}
        },
        {
            "outputs": [
                {
                    "output_type": "execute_result",
                    "data": {
                        "text/plain": [
                            "column_time = 0.0074"
                        ],
                        "text/html": [
                            "<html><body><pre>column_time = 0.0074</pre></body></html>"
                        ]
                    },
                    "metadata": {},
                    "execution_count": 7
                },
                {
                    "output_type": "execute_result",
                    "data": {
                        "text/plain": [
                            "row_time = 0.0577"
                        ],
                        "text/html": [
                            "<html><body><pre>row_time = 0.0577</pre></body></html>"
                        ]
                    },
                    "metadata": {},
                    "execution_count": 7
                }
            ],
            "cell_type": "code",
            "source": [
                "v = A(:, 1000);\n",
                "tic, for i = 1:n, A(:, i) = v; end\n",
                "column_time = toc\n",
                "r = v';\n",
                "tic, for i = 1:n, A(i, :) = r; end\n",
                "row_time = toc\n"
            ],
            "id": "7a045ec2",
            "metadata": {},
            "execution_count": 7
        }
    ],
    "nbformat_minor": 5,
    "metadata": {
        "language_info": {
            "file_extension": ".m",
            "mimetype": "text/x-matlab",
            "name": "matlab"
        },
        "kernelspec": {
            "name": "jupyter_matlab_kernel",
            "display_name": "MATLAB Kernel",
            "language": "matlab"
        },
        "numbering": {
            "headings": false
        }
    },
    "nbformat": 4
}
