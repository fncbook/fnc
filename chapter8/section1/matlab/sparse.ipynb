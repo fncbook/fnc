{
 "cells": [
  {
   "cell_type": "code",
   "execution_count": 1,
   "id": "22e682de",
   "metadata": {
    "tags": [
     "remove-cell"
    ]
   },
   "outputs": [],
   "source": [
    "cd  /Users/driscoll/Documents/GitHub/fnc/matlab\n",
    "FNC_init"
   ]
  },
  {
   "cell_type": "markdown",
   "id": "ac82aefd",
   "metadata": {},
   "source": [
    "[**Demo %s**](#demo-structure-sparse)\n",
    "\n",
    "Here we load the adjacency matrix of a graph with 2790 nodes. Each node is a web page referring to Roswell, NM, and the edges represent links between web pages. (Credit goes to Panayiotis Tsaparas and the University of Toronto for making this data public.)"
   ]
  },
  {
   "cell_type": "code",
   "execution_count": 2,
   "id": "43240348",
   "metadata": {},
   "outputs": [
    {
     "data": {
      "text/html": [
       "<html><body><pre>a = struct with fields:\n",
       "          name: 'A'\n",
       "          size: [2790 2790]\n",
       "         bytes: 158120\n",
       "         class: 'double'\n",
       "        global: 0\n",
       "        sparse: 1\n",
       "       complex: 0\n",
       "       nesting: [1x1 struct]\n",
       "    persistent: 0\n",
       "</pre></body></html>"
      ],
      "text/plain": [
       "a = struct with fields:\n",
       "          name: 'A'\n",
       "          size: [2790 2790]\n",
       "         bytes: 158120\n",
       "         class: 'double'\n",
       "        global: 0\n",
       "        sparse: 1\n",
       "       complex: 0\n",
       "       nesting: [1x1 struct]\n",
       "    persistent: 0\n"
      ]
     },
     "execution_count": 2,
     "metadata": {},
     "output_type": "execute_result"
    }
   ],
   "source": [
    "load roswelladj\n",
    "a = whos('A')"
   ]
  },
  {
   "cell_type": "markdown",
   "id": "805135a1",
   "metadata": {},
   "source": [
    "```{index} ! MATLAB; nnz\n",
    "```\n",
    "We may define the density of $\\mathbf{A}$ as the number of nonzeros divided by the total number of entries.\n",
    "```{tip}\n",
    ":class: dropdown\n",
    "Use `nnz` to count the number of nonzeros in a sparse matrix.\n",
    "```"
   ]
  },
  {
   "cell_type": "code",
   "execution_count": 3,
   "id": "63205578",
   "metadata": {},
   "outputs": [
    {
     "data": {
      "text/html": [
       "<html><body><pre>density = 0.0011</pre></body></html>"
      ],
      "text/plain": [
       "density = 0.0011"
      ]
     },
     "execution_count": 3,
     "metadata": {},
     "output_type": "execute_result"
    }
   ],
   "source": [
    "sz = size(A);  n = sz(1);\n",
    "density = nnz(A) / prod(sz)"
   ]
  },
  {
   "cell_type": "markdown",
   "id": "6d066831",
   "metadata": {},
   "source": [
    "The computer memory consumed by any variable can be discovered using `whos`. We can use it to compare the space needed for the sparse representation to its dense counterpart, that is, the space needed to store all the elements, whether zero or not."
   ]
  },
  {
   "cell_type": "code",
   "execution_count": 4,
   "id": "179c97f3",
   "metadata": {},
   "outputs": [
    {
     "data": {
      "text/html": [
       "<html><body><pre>storage_ratio = 393.8325</pre></body></html>"
      ],
      "text/plain": [
       "storage_ratio = 393.8325"
      ]
     },
     "execution_count": 4,
     "metadata": {},
     "output_type": "execute_result"
    }
   ],
   "source": [
    "F = full(A);\n",
    "f = whos('F');\n",
    "storage_ratio = f.bytes / a.bytes"
   ]
  },
  {
   "cell_type": "markdown",
   "id": "6b9b2ca9",
   "metadata": {},
   "source": [
    "Matrix-vector products are also much faster using the sparse form because operations with structural zeros are skipped."
   ]
  },
  {
   "cell_type": "code",
   "execution_count": 5,
   "id": "5a89df40",
   "metadata": {},
   "outputs": [
    {
     "data": {
      "text/html": [
       "<html><body><pre>sparse_time = 0.0059</pre></body></html>"
      ],
      "text/plain": [
       "sparse_time = 0.0059"
      ]
     },
     "execution_count": 5,
     "metadata": {},
     "output_type": "execute_result"
    }
   ],
   "source": [
    "x = randn(n,1);\n",
    "tic, for i = 1:200, A*x; end\n",
    "sparse_time = toc"
   ]
  },
  {
   "cell_type": "code",
   "execution_count": 6,
   "id": "bb649915",
   "metadata": {},
   "outputs": [
    {
     "data": {
      "text/html": [
       "<html><body><pre>dense_time = 0.7960</pre></body></html>"
      ],
      "text/plain": [
       "dense_time = 0.7960"
      ]
     },
     "execution_count": 6,
     "metadata": {},
     "output_type": "execute_result"
    }
   ],
   "source": [
    "tic, for i = 1:200, F*x; end\n",
    "dense_time = toc"
   ]
  },
  {
   "cell_type": "markdown",
   "id": "daf5fcdb",
   "metadata": {},
   "source": [
    "However, the sparse storage format in MATLAB is column-oriented.  Operations on rows may take a lot longer than similar ones on columns."
   ]
  },
  {
   "cell_type": "code",
   "execution_count": 7,
   "id": "7a045ec2",
   "metadata": {},
   "outputs": [
    {
     "data": {
      "text/html": [
       "<html><body><pre>column_time = 0.0074</pre></body></html>"
      ],
      "text/plain": [
       "column_time = 0.0074"
      ]
     },
     "execution_count": 7,
     "metadata": {},
     "output_type": "execute_result"
    },
    {
     "data": {
      "text/html": [
       "<html><body><pre>row_time = 0.0577</pre></body></html>"
      ],
      "text/plain": [
       "row_time = 0.0577"
      ]
     },
     "execution_count": 7,
     "metadata": {},
     "output_type": "execute_result"
    }
   ],
   "source": [
    "v = A(:, 1000);\n",
    "tic, for i = 1:n, A(:, i) = v; end\n",
    "column_time = toc\n",
    "r = v';\n",
    "tic, for i = 1:n, A(i, :) = r; end\n",
    "row_time = toc\n"
   ]
  }
 ],
 "metadata": {
  "kernelspec": {
   "display_name": "MATLAB Kernel",
   "language": "matlab",
   "name": "jupyter_matlab_kernel"
  },
  "language_info": {
   "file_extension": ".m",
   "mimetype": "text/x-matlab",
   "name": "matlab"
  },
  "numbering": {
   "headings": false
  }
 },
 "nbformat": 4,
 "nbformat_minor": 5
}
