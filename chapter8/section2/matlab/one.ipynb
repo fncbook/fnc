{
 "cells": [
  {
   "cell_type": "code",
   "execution_count": 1,
   "id": "c25acfc2",
   "metadata": {
    "tags": [
     "remove-cell"
    ]
   },
   "outputs": [],
   "source": [
    "cd  /Users/driscoll/Documents/GitHub/fnc/matlab\n",
    "FNC_init"
   ]
  },
  {
   "cell_type": "markdown",
   "id": "c5db7311",
   "metadata": {},
   "source": [
    "[**Demo %s**](#demo-power-one)\n",
    "\n",
    "Here we choose a magic 5×5 matrix and a random 5-vector."
   ]
  },
  {
   "cell_type": "code",
   "execution_count": 2,
   "id": "46801ac4",
   "metadata": {},
   "outputs": [],
   "source": [
    "A = magic(5) / 65;\n",
    "x = randn(5, 1);"
   ]
  },
  {
   "cell_type": "markdown",
   "id": "8163bbc0",
   "metadata": {},
   "source": [
    "Applying matrix-vector multiplication once doesn't do anything recognizable."
   ]
  },
  {
   "cell_type": "code",
   "execution_count": 3,
   "id": "ecab1af0",
   "metadata": {},
   "outputs": [
    {
     "data": {
      "text/html": [
       "<html><body><pre>y = 5×1 double\n",
       "    0.4622\n",
       "    0.6443\n",
       "    0.6270\n",
       "    0.1972\n",
       "    0.4683\n",
       "</pre></body></html>"
      ],
      "text/plain": [
       "y = 5×1 double\n",
       "    0.4622\n",
       "    0.6443\n",
       "    0.6270\n",
       "    0.1972\n",
       "    0.4683\n"
      ]
     },
     "execution_count": 3,
     "metadata": {},
     "output_type": "execute_result"
    }
   ],
   "source": [
    "y = A * x"
   ]
  },
  {
   "cell_type": "markdown",
   "id": "4343648f",
   "metadata": {},
   "source": [
    "Repeating the multiplication still doesn't do anything obvious."
   ]
  },
  {
   "cell_type": "code",
   "execution_count": 4,
   "id": "0caaf3b8",
   "metadata": {},
   "outputs": [
    {
     "data": {
      "text/html": [
       "<html><body><pre>z = 5×1 double\n",
       "    0.5008\n",
       "    0.4384\n",
       "    0.4325\n",
       "    0.4587\n",
       "    0.5687\n",
       "</pre></body></html>"
      ],
      "text/plain": [
       "z = 5×1 double\n",
       "    0.5008\n",
       "    0.4384\n",
       "    0.4325\n",
       "    0.4587\n",
       "    0.5687\n"
      ]
     },
     "execution_count": 4,
     "metadata": {},
     "output_type": "execute_result"
    }
   ],
   "source": [
    "z = A * y"
   ]
  },
  {
   "cell_type": "markdown",
   "id": "66198507",
   "metadata": {},
   "source": [
    "But if we keep repeating the matrix-vector multiplication, something remarkable happens: $\\mathbf{A} \\mathbf{x} \\approx \\mathbf{x}$."
   ]
  },
  {
   "cell_type": "code",
   "execution_count": 5,
   "id": "bd3581df",
   "metadata": {},
   "outputs": [
    {
     "data": {
      "text/html": [
       "<html><body><pre>ans = 5×2 double\n",
       "    0.4798    0.4798\n",
       "    0.4798    0.4798\n",
       "    0.4797    0.4798\n",
       "    0.4798    0.4798\n",
       "    0.4799    0.4798\n",
       "</pre></body></html>"
      ],
      "text/plain": [
       "ans = 5×2 double\n",
       "    0.4798    0.4798\n",
       "    0.4798    0.4798\n",
       "    0.4797    0.4798\n",
       "    0.4798    0.4798\n",
       "    0.4799    0.4798\n"
      ]
     },
     "execution_count": 5,
     "metadata": {},
     "output_type": "execute_result"
    }
   ],
   "source": [
    "for j = 1:8\n",
    "    x = A * x;\n",
    "end\n",
    "[x, A * x]"
   ]
  },
  {
   "cell_type": "markdown",
   "id": "7f616392",
   "metadata": {},
   "source": [
    "This phenomenon seems to occur regardless of the starting vector."
   ]
  },
  {
   "cell_type": "code",
   "execution_count": 6,
   "id": "2d5805d7",
   "metadata": {},
   "outputs": [
    {
     "data": {
      "text/html": [
       "<html><body><pre>ans = 5×2 double\n",
       "   -0.2899   -0.2900\n",
       "   -0.2899   -0.2901\n",
       "   -0.2901   -0.2901\n",
       "   -0.2902   -0.2901\n",
       "   -0.2902   -0.2900\n",
       "</pre></body></html>"
      ],
      "text/plain": [
       "ans = 5×2 double\n",
       "   -0.2899   -0.2900\n",
       "   -0.2899   -0.2901\n",
       "   -0.2901   -0.2901\n",
       "   -0.2902   -0.2901\n",
       "   -0.2902   -0.2900\n"
      ]
     },
     "execution_count": 6,
     "metadata": {},
     "output_type": "execute_result"
    }
   ],
   "source": [
    "x = randn(5, 1);\n",
    "for j = 1:8\n",
    "    x = A * x;\n",
    "end\n",
    "[x, A * x]"
   ]
  }
 ],
 "metadata": {
  "kernelspec": {
   "display_name": "MATLAB Kernel",
   "language": "matlab",
   "name": "jupyter_matlab_kernel"
  },
  "language_info": {
   "file_extension": ".m",
   "mimetype": "text/x-matlab",
   "name": "matlab"
  },
  "numbering": {
   "headings": false
  }
 },
 "nbformat": 4,
 "nbformat_minor": 5
}
