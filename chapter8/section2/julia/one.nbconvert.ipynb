{
 "cells": [
  {
   "cell_type": "code",
   "execution_count": 1,
   "id": "5e3978d4",
   "metadata": {
    "execution": {
     "iopub.execute_input": "2025-01-14T16:38:57.100000Z",
     "iopub.status.busy": "2025-01-14T16:38:56.470000Z",
     "iopub.status.idle": "2025-01-14T16:39:11.653000Z",
     "shell.execute_reply": "2025-01-14T16:39:11.545000Z"
    }
   },
   "outputs": [
    {
     "name": "stderr",
     "output_type": "stream",
     "text": [
      "\u001b[32m\u001b[1m  Activating\u001b[22m\u001b[39m "
     ]
    },
    {
     "name": "stderr",
     "output_type": "stream",
     "text": [
      "project at `~/Documents/GitHub/fnc`\n"
     ]
    }
   ],
   "source": [
    "include(\"../../../julia/FNC_init.jl\")"
   ]
  },
  {
   "cell_type": "markdown",
   "id": "66e4bc19",
   "metadata": {},
   "source": [
    "[**Demo %s**](#demo-power-one)\n",
    "\n",
    "Here we choose a random 5×5 matrix and a random 5-vector."
   ]
  },
  {
   "cell_type": "code",
   "execution_count": 2,
   "id": "75a949bf",
   "metadata": {
    "execution": {
     "iopub.execute_input": "2025-01-14T16:39:12.165000Z",
     "iopub.status.busy": "2025-01-14T16:39:11.670000Z",
     "iopub.status.idle": "2025-01-14T16:39:17.620000Z",
     "shell.execute_reply": "2025-01-14T16:39:17.616000Z"
    }
   },
   "outputs": [
    {
     "data": {
      "text/plain": [
       "5-element Vector{Float64}:\n",
       "  0.8056235011608384\n",
       " -0.9308473761678288\n",
       "  0.0857791369852853\n",
       "  0.9428937894973365\n",
       "  0.923360625225831"
      ]
     },
     "execution_count": 2,
     "metadata": {},
     "output_type": "execute_result"
    }
   ],
   "source": [
    "A = rand(1.0:9.0, 5, 5)\n",
    "A = A ./ sum(A, dims=1)\n",
    "x = randn(5)"
   ]
  },
  {
   "cell_type": "markdown",
   "id": "c76a7842",
   "metadata": {},
   "source": [
    "Applying matrix-vector multiplication once doesn't do anything recognizable."
   ]
  },
  {
   "cell_type": "code",
   "execution_count": 3,
   "id": "e9f3df8e",
   "metadata": {
    "execution": {
     "iopub.execute_input": "2025-01-14T16:39:17.661000Z",
     "iopub.status.busy": "2025-01-14T16:39:17.660000Z",
     "iopub.status.idle": "2025-01-14T16:39:17.679000Z",
     "shell.execute_reply": "2025-01-14T16:39:17.677000Z"
    }
   },
   "outputs": [
    {
     "data": {
      "text/plain": [
       "5-element Vector{Float64}:\n",
       "  0.7120045029782274\n",
       "  0.4367975653816414\n",
       "  0.29242015123161225\n",
       "  0.4481699736275255\n",
       " -0.062582516517544"
      ]
     },
     "execution_count": 3,
     "metadata": {},
     "output_type": "execute_result"
    }
   ],
   "source": [
    "y = A * x"
   ]
  },
  {
   "cell_type": "markdown",
   "id": "767a1c36",
   "metadata": {},
   "source": [
    "Repeating the multiplication still doesn't do anything obvious."
   ]
  },
  {
   "cell_type": "code",
   "execution_count": 4,
   "id": "9a274498",
   "metadata": {
    "execution": {
     "iopub.execute_input": "2025-01-14T16:39:17.683000Z",
     "iopub.status.busy": "2025-01-14T16:39:17.683000Z",
     "iopub.status.idle": "2025-01-14T16:39:17.691000Z",
     "shell.execute_reply": "2025-01-14T16:39:17.689000Z"
    }
   },
   "outputs": [
    {
     "data": {
      "text/plain": [
       "5-element Vector{Float64}:\n",
       " 0.4459035241422915\n",
       " 0.4020736487468837\n",
       " 0.2772295547458391\n",
       " 0.390390883729235\n",
       " 0.31121206533721313"
      ]
     },
     "execution_count": 4,
     "metadata": {},
     "output_type": "execute_result"
    }
   ],
   "source": [
    "z = A * y"
   ]
  },
  {
   "cell_type": "markdown",
   "id": "e1c7fd25",
   "metadata": {},
   "source": [
    "But if we keep repeating the matrix-vector multiplication, something remarkable happens: $\\mathbf{A} \\mathbf{x} \\approx \\mathbf{x}$."
   ]
  },
  {
   "cell_type": "code",
   "execution_count": 5,
   "id": "58faaae1",
   "metadata": {
    "execution": {
     "iopub.execute_input": "2025-01-14T16:39:17.705000Z",
     "iopub.status.busy": "2025-01-14T16:39:17.704000Z",
     "iopub.status.idle": "2025-01-14T16:39:18.385000Z",
     "shell.execute_reply": "2025-01-14T16:39:18.378000Z"
    }
   },
   "outputs": [
    {
     "data": {
      "text/plain": [
       "5×2 Matrix{Float64}:\n",
       " 0.443871  0.443871\n",
       " 0.411381  0.411381\n",
       " 0.291553  0.291553\n",
       " 0.37189   0.37189\n",
       " 0.308113  0.308113"
      ]
     },
     "execution_count": 5,
     "metadata": {},
     "output_type": "execute_result"
    }
   ],
   "source": [
    "for j in 1:8\n",
    "    x = A * x\n",
    "end\n",
    "[x A * x]"
   ]
  },
  {
   "cell_type": "markdown",
   "id": "9ba1fe54",
   "metadata": {},
   "source": [
    "This phenomenon seems to occur regardless of the starting vector."
   ]
  },
  {
   "cell_type": "code",
   "execution_count": 6,
   "id": "36c964e7",
   "metadata": {
    "execution": {
     "iopub.execute_input": "2025-01-14T16:39:18.398000Z",
     "iopub.status.busy": "2025-01-14T16:39:18.398000Z",
     "iopub.status.idle": "2025-01-14T16:39:18.426000Z",
     "shell.execute_reply": "2025-01-14T16:39:18.426000Z"
    }
   },
   "outputs": [
    {
     "data": {
      "text/plain": [
       "5×2 Matrix{Float64}:\n",
       " 0.131209   0.131209\n",
       " 0.121605   0.121605\n",
       " 0.0861835  0.0861834\n",
       " 0.109931   0.109931\n",
       " 0.0910783  0.0910785"
      ]
     },
     "execution_count": 6,
     "metadata": {},
     "output_type": "execute_result"
    }
   ],
   "source": [
    "x = randn(5)\n",
    "for j in 1:8\n",
    "    x = A * x\n",
    "end\n",
    "[x A * x]"
   ]
  }
 ],
 "metadata": {
  "kernelspec": {
   "display_name": "Julia 1",
   "language": "julia",
   "name": "julia-1.11"
  },
  "language_info": {
   "file_extension": ".jl",
   "mimetype": "application/julia",
   "name": "julia",
   "version": "1.11.2"
  },
  "numbering": {
   "headings": false
  }
 },
 "nbformat": 4,
 "nbformat_minor": 5
}
