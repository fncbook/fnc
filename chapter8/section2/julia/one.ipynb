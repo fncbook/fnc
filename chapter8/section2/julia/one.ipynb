{
    "cells": [
        {
            "cell_type": "markdown",
            "source": [
                "[**Demo %s**](#demo-power-one)\n",
                "\n",
                "Here we choose a random 5×5 matrix and a random 5-vector."
            ],
            "id": "66e4bc19",
            "metadata": {}
        },
        {
            "outputs": [
                {
                    "output_type": "execute_result",
                    "data": {
                        "text/plain": [
                            "5-element Vector{Float64}:\n",
                            "  0.8056235011608384\n",
                            " -0.9308473761678288\n",
                            "  0.0857791369852853\n",
                            "  0.9428937894973365\n",
                            "  0.923360625225831"
                        ]
                    },
                    "metadata": {},
                    "execution_count": 2
                }
            ],
            "cell_type": "code",
            "source": [
                "A = rand(1.0:9.0, 5, 5)\n",
                "A = A ./ sum(A, dims=1)\n",
                "x = randn(5)"
            ],
            "id": "75a949bf",
            "metadata": {
                "execution": {
                    "iopub.status.idle": "2025-01-14T16:39:17.620000Z",
                    "iopub.status.busy": "2025-01-14T16:39:11.670000Z",
                    "iopub.execute_input": "2025-01-14T16:39:12.165000Z",
                    "shell.execute_reply": "2025-01-14T16:39:17.616000Z"
                }
            },
            "execution_count": 2
        },
        {
            "cell_type": "markdown",
            "source": [
                "Applying matrix-vector multiplication once doesn't do anything recognizable."
            ],
            "id": "c76a7842",
            "metadata": {}
        },
        {
            "outputs": [
                {
                    "output_type": "execute_result",
                    "data": {
                        "text/plain": [
                            "5-element Vector{Float64}:\n",
                            "  0.7120045029782274\n",
                            "  0.4367975653816414\n",
                            "  0.29242015123161225\n",
                            "  0.4481699736275255\n",
                            " -0.062582516517544"
                        ]
                    },
                    "metadata": {},
                    "execution_count": 3
                }
            ],
            "cell_type": "code",
            "source": [
                "y = A * x"
            ],
            "id": "e9f3df8e",
            "metadata": {
                "execution": {
                    "iopub.status.idle": "2025-01-14T16:39:17.679000Z",
                    "iopub.status.busy": "2025-01-14T16:39:17.660000Z",
                    "iopub.execute_input": "2025-01-14T16:39:17.661000Z",
                    "shell.execute_reply": "2025-01-14T16:39:17.677000Z"
                }
            },
            "execution_count": 3
        },
        {
            "cell_type": "markdown",
            "source": [
                "Repeating the multiplication still doesn't do anything obvious."
            ],
            "id": "767a1c36",
            "metadata": {}
        },
        {
            "outputs": [
                {
                    "output_type": "execute_result",
                    "data": {
                        "text/plain": [
                            "5-element Vector{Float64}:\n",
                            " 0.4459035241422915\n",
                            " 0.4020736487468837\n",
                            " 0.2772295547458391\n",
                            " 0.390390883729235\n",
                            " 0.31121206533721313"
                        ]
                    },
                    "metadata": {},
                    "execution_count": 4
                }
            ],
            "cell_type": "code",
            "source": [
                "z = A * y"
            ],
            "id": "9a274498",
            "metadata": {
                "execution": {
                    "iopub.status.idle": "2025-01-14T16:39:17.691000Z",
                    "iopub.status.busy": "2025-01-14T16:39:17.683000Z",
                    "iopub.execute_input": "2025-01-14T16:39:17.683000Z",
                    "shell.execute_reply": "2025-01-14T16:39:17.689000Z"
                }
            },
            "execution_count": 4
        },
        {
            "cell_type": "markdown",
            "source": [
                "But if we keep repeating the matrix-vector multiplication, something remarkable happens: $\\mathbf{A} \\mathbf{x} \\approx \\mathbf{x}$."
            ],
            "id": "e1c7fd25",
            "metadata": {}
        },
        {
            "outputs": [
                {
                    "output_type": "execute_result",
                    "data": {
                        "text/plain": [
                            "5×2 Matrix{Float64}:\n",
                            " 0.443871  0.443871\n",
                            " 0.411381  0.411381\n",
                            " 0.291553  0.291553\n",
                            " 0.37189   0.37189\n",
                            " 0.308113  0.308113"
                        ]
                    },
                    "metadata": {},
                    "execution_count": 5
                }
            ],
            "cell_type": "code",
            "source": [
                "for j in 1:8\n",
                "    x = A * x\n",
                "end\n",
                "[x A * x]"
            ],
            "id": "58faaae1",
            "metadata": {
                "execution": {
                    "iopub.status.idle": "2025-01-14T16:39:18.385000Z",
                    "iopub.status.busy": "2025-01-14T16:39:17.704000Z",
                    "iopub.execute_input": "2025-01-14T16:39:17.705000Z",
                    "shell.execute_reply": "2025-01-14T16:39:18.378000Z"
                }
            },
            "execution_count": 5
        },
        {
            "cell_type": "markdown",
            "source": [
                "This phenomenon seems to occur regardless of the starting vector."
            ],
            "id": "9ba1fe54",
            "metadata": {}
        },
        {
            "outputs": [
                {
                    "output_type": "execute_result",
                    "data": {
                        "text/plain": [
                            "5×2 Matrix{Float64}:\n",
                            " 0.131209   0.131209\n",
                            " 0.121605   0.121605\n",
                            " 0.0861835  0.0861834\n",
                            " 0.109931   0.109931\n",
                            " 0.0910783  0.0910785"
                        ]
                    },
                    "metadata": {},
                    "execution_count": 6
                }
            ],
            "cell_type": "code",
            "source": [
                "x = randn(5)\n",
                "for j in 1:8\n",
                "    x = A * x\n",
                "end\n",
                "[x A * x]"
            ],
            "id": "36c964e7",
            "metadata": {
                "execution": {
                    "iopub.status.idle": "2025-01-14T16:39:18.426000Z",
                    "iopub.status.busy": "2025-01-14T16:39:18.398000Z",
                    "iopub.execute_input": "2025-01-14T16:39:18.398000Z",
                    "shell.execute_reply": "2025-01-14T16:39:18.426000Z"
                }
            },
            "execution_count": 6
        }
    ],
    "nbformat_minor": 5,
    "metadata": {
        "language_info": {
            "file_extension": ".jl",
            "mimetype": "application/julia",
            "name": "julia",
            "version": "1.11.2"
        },
        "kernelspec": {
            "name": "julia-1.11",
            "display_name": "Julia 1",
            "language": "julia"
        },
        "numbering": {
            "headings": false
        }
    },
    "nbformat": 4
}
