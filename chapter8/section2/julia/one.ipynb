{
 "cells": [
  {
   "cell_type": "code",
   "execution_count": 1,
   "id": "5e3978d4",
   "metadata": {
    "execution": {
     "iopub.execute_input": "2025-01-05T13:46:58.662000Z",
     "iopub.status.busy": "2025-01-05T13:46:58.377000Z",
     "iopub.status.idle": "2025-01-05T13:47:04.885000Z",
     "shell.execute_reply": "2025-01-05T13:47:04.837000Z"
    }
   },
   "outputs": [
    {
     "name": "stderr",
     "output_type": "stream",
     "text": [
      "\u001b[32m\u001b[1m  Activating\u001b[22m\u001b[39m "
     ]
    },
    {
     "name": "stderr",
     "output_type": "stream",
     "text": [
      "project at `~/Documents/GitHub/fnc`\n"
     ]
    }
   ],
   "source": [
    "include(\"../../../julia/FNC_init.jl\")"
   ]
  },
  {
   "cell_type": "markdown",
   "id": "66e4bc19",
   "metadata": {},
   "source": [
    "[**Demo %s**](#demo-power-one)\n",
    "\n",
    "Here we choose a random 5×5 matrix and a random 5-vector."
   ]
  },
  {
   "cell_type": "code",
   "execution_count": 2,
   "id": "75a949bf",
   "metadata": {
    "execution": {
     "iopub.execute_input": "2025-01-05T13:47:05.089000Z",
     "iopub.status.busy": "2025-01-05T13:47:04.886000Z",
     "iopub.status.idle": "2025-01-05T13:47:06.395000Z",
     "shell.execute_reply": "2025-01-05T13:47:06.395000Z"
    }
   },
   "outputs": [
    {
     "data": {
      "text/plain": [
       "5-element Vector{Float64}:\n",
       " -0.08532822776199903\n",
       " -2.17853767127995\n",
       " -0.5978428883904143\n",
       "  0.27236550147685923\n",
       "  0.46503393069787546"
      ]
     },
     "execution_count": 2,
     "metadata": {},
     "output_type": "execute_result"
    }
   ],
   "source": [
    "A = rand(1.0:9.0, 5, 5)\n",
    "A = A ./ sum(A, dims=1)\n",
    "x = randn(5)"
   ]
  },
  {
   "cell_type": "markdown",
   "id": "c76a7842",
   "metadata": {},
   "source": [
    "Applying matrix-vector multiplication once doesn't do anything recognizable."
   ]
  },
  {
   "cell_type": "code",
   "execution_count": 3,
   "id": "e9f3df8e",
   "metadata": {
    "execution": {
     "iopub.execute_input": "2025-01-05T13:47:06.401000Z",
     "iopub.status.busy": "2025-01-05T13:47:06.401000Z",
     "iopub.status.idle": "2025-01-05T13:47:06.403000Z",
     "shell.execute_reply": "2025-01-05T13:47:06.403000Z"
    }
   },
   "outputs": [
    {
     "data": {
      "text/plain": [
       "5-element Vector{Float64}:\n",
       " -0.10321391688927914\n",
       " -0.8902747357286535\n",
       " -0.23476298598600576\n",
       " -0.5216334401133113\n",
       " -0.3744242765403788"
      ]
     },
     "execution_count": 3,
     "metadata": {},
     "output_type": "execute_result"
    }
   ],
   "source": [
    "y = A * x"
   ]
  },
  {
   "cell_type": "markdown",
   "id": "767a1c36",
   "metadata": {},
   "source": [
    "Repeating the multiplication still doesn't do anything obvious."
   ]
  },
  {
   "cell_type": "code",
   "execution_count": 4,
   "id": "9a274498",
   "metadata": {
    "execution": {
     "iopub.execute_input": "2025-01-05T13:47:06.404000Z",
     "iopub.status.busy": "2025-01-05T13:47:06.404000Z",
     "iopub.status.idle": "2025-01-05T13:47:06.405000Z",
     "shell.execute_reply": "2025-01-05T13:47:06.405000Z"
    }
   },
   "outputs": [
    {
     "data": {
      "text/plain": [
       "5-element Vector{Float64}:\n",
       " -0.23158793185523815\n",
       " -0.5961437603677001\n",
       " -0.497146454740519\n",
       " -0.30930664999891216\n",
       " -0.49012455829525914"
      ]
     },
     "execution_count": 4,
     "metadata": {},
     "output_type": "execute_result"
    }
   ],
   "source": [
    "z = A * y"
   ]
  },
  {
   "cell_type": "markdown",
   "id": "e1c7fd25",
   "metadata": {},
   "source": [
    "But if we keep repeating the matrix-vector multiplication, something remarkable happens: $\\mathbf{A} \\mathbf{x} \\approx \\mathbf{x}$."
   ]
  },
  {
   "cell_type": "code",
   "execution_count": 5,
   "id": "58faaae1",
   "metadata": {
    "execution": {
     "iopub.execute_input": "2025-01-05T13:47:06.406000Z",
     "iopub.status.busy": "2025-01-05T13:47:06.406000Z",
     "iopub.status.idle": "2025-01-05T13:47:06.628000Z",
     "shell.execute_reply": "2025-01-05T13:47:06.627000Z"
    }
   },
   "outputs": [
    {
     "data": {
      "text/plain": [
       "5×2 Matrix{Float64}:\n",
       " -0.276171  -0.276173\n",
       " -0.594584  -0.594584\n",
       " -0.491631  -0.491631\n",
       " -0.272425  -0.272424\n",
       " -0.489498  -0.489498"
      ]
     },
     "execution_count": 5,
     "metadata": {},
     "output_type": "execute_result"
    }
   ],
   "source": [
    "for j in 1:8\n",
    "    x = A * x\n",
    "end\n",
    "[x A * x]"
   ]
  },
  {
   "cell_type": "markdown",
   "id": "9ba1fe54",
   "metadata": {},
   "source": [
    "This phenomenon seems to occur regardless of the starting vector."
   ]
  },
  {
   "cell_type": "code",
   "execution_count": 6,
   "id": "36c964e7",
   "metadata": {
    "execution": {
     "iopub.execute_input": "2025-01-05T13:47:06.629000Z",
     "iopub.status.busy": "2025-01-05T13:47:06.629000Z",
     "iopub.status.idle": "2025-01-05T13:47:06.638000Z",
     "shell.execute_reply": "2025-01-05T13:47:06.638000Z"
    }
   },
   "outputs": [
    {
     "data": {
      "text/plain": [
       "5×2 Matrix{Float64}:\n",
       " 0.165045  0.165046\n",
       " 0.355336  0.355336\n",
       " 0.29381   0.293809\n",
       " 0.162807  0.162806\n",
       " 0.292534  0.292534"
      ]
     },
     "execution_count": 6,
     "metadata": {},
     "output_type": "execute_result"
    }
   ],
   "source": [
    "x = randn(5)\n",
    "for j in 1:8\n",
    "    x = A * x\n",
    "end\n",
    "[x A * x]"
   ]
  }
 ],
 "metadata": {
  "kernelspec": {
   "display_name": "Julia 1",
   "language": "julia",
   "name": "julia-1.11"
  },
  "language_info": {
   "file_extension": ".jl",
   "mimetype": "application/julia",
   "name": "julia",
   "version": "1.11.2"
  },
  "numbering": {
   "headings": false
  }
 },
 "nbformat": 4,
 "nbformat_minor": 5
}
