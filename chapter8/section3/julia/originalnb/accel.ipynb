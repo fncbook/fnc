{
    "cells": [
        {
            "outputs": [
                {
                    "name": "stderr",
                    "output_type": "stream",
                    "text": [
                        "\u001b[32m\u001b[1m  Activating\u001b[22m\u001b[39m "
                    ]
                },
                {
                    "name": "stderr",
                    "output_type": "stream",
                    "text": [
                        "project at `~/Documents/GitHub/fnc`\n"
                    ]
                }
            ],
            "cell_type": "code",
            "source": [
                "include(\"../../../julia/FNC_init.jl\")"
            ],
            "id": "644d02de",
            "metadata": {
                "execution": {
                    "iopub.status.idle": "2025-01-14T16:39:11.675000Z",
                    "iopub.status.busy": "2025-01-14T16:38:56.481000Z",
                    "iopub.execute_input": "2025-01-14T16:38:57.052000Z",
                    "shell.execute_reply": "2025-01-14T16:39:11.558000Z"
                },
                "tags": [
                    "remove-cell"
                ]
            },
            "execution_count": 1
        },
        {
            "cell_type": "markdown",
            "source": [
                "[**Demo %s**](#demo-inviter-accel)"
            ],
            "id": "969bd0e4",
            "metadata": {}
        },
        {
            "outputs": [
                {
                    "output_type": "execute_result",
                    "data": {
                        "text/plain": [
                            "5×5 Matrix{Float64}:\n",
                            " 1.0   1.0   1.0   1.0  1.0\n",
                            " 0.0  -0.75  1.0   1.0  1.0\n",
                            " 0.0   0.0   0.6   1.0  1.0\n",
                            " 0.0   0.0   0.0  -0.4  1.0\n",
                            " 0.0   0.0   0.0   0.0  0.0"
                        ]
                    },
                    "metadata": {},
                    "execution_count": 2
                }
            ],
            "cell_type": "code",
            "source": [
                "λ = [1, -0.75, 0.6, -0.4, 0]\n",
                "# Make a triangular matrix with eigenvalues on the diagonal.\n",
                "A = triu(ones(5, 5), 1) + diagm(λ)"
            ],
            "id": "a6008db9",
            "metadata": {
                "execution": {
                    "iopub.status.idle": "2025-01-14T16:39:17.782000Z",
                    "iopub.status.busy": "2025-01-14T16:39:11.705000Z",
                    "iopub.execute_input": "2025-01-14T16:39:12.196000Z",
                    "shell.execute_reply": "2025-01-14T16:39:17.779000Z"
                }
            },
            "execution_count": 2
        },
        {
            "cell_type": "markdown",
            "source": [
                "We begin with a shift $s=0.7$, which is closest to the eigenvalue 0.6."
            ],
            "id": "579b00c7",
            "metadata": {}
        },
        {
            "outputs": [
                {
                    "output_type": "execute_result",
                    "data": {
                        "text/plain": [
                            "0.7034813925570228"
                        ]
                    },
                    "metadata": {},
                    "execution_count": 3
                }
            ],
            "cell_type": "code",
            "source": [
                "s = 0.7\n",
                "x = ones(5)\n",
                "y = (A - s * I) \\ x\n",
                "β = x[1] / y[1] + s"
            ],
            "id": "f6670e35",
            "metadata": {
                "execution": {
                    "iopub.status.idle": "2025-01-14T16:39:18.157000Z",
                    "iopub.status.busy": "2025-01-14T16:39:17.789000Z",
                    "iopub.execute_input": "2025-01-14T16:39:17.789000Z",
                    "shell.execute_reply": "2025-01-14T16:39:18.157000Z"
                }
            },
            "execution_count": 3
        },
        {
            "cell_type": "markdown",
            "source": [
                "Note that the result is not yet any closer to the targeted 0.6. But we proceed (without being too picky about normalization here)."
            ],
            "id": "6385ceae",
            "metadata": {}
        },
        {
            "outputs": [
                {
                    "output_type": "execute_result",
                    "data": {
                        "text/plain": [
                            "0.5612761406172997"
                        ]
                    },
                    "metadata": {},
                    "execution_count": 4
                }
            ],
            "cell_type": "code",
            "source": [
                "s = β\n",
                "x = y / y[1]\n",
                "y = (A - s * I) \\ x\n",
                "β = x[1] / y[1] + s"
            ],
            "id": "d41a3626",
            "metadata": {
                "execution": {
                    "iopub.status.idle": "2025-01-14T16:39:18.163000Z",
                    "iopub.status.busy": "2025-01-14T16:39:18.160000Z",
                    "iopub.execute_input": "2025-01-14T16:39:18.160000Z",
                    "shell.execute_reply": "2025-01-14T16:39:18.163000Z"
                }
            },
            "execution_count": 4
        },
        {
            "cell_type": "markdown",
            "source": [
                "Still not much apparent progress. However, in just a few more iterations the results are dramatically better."
            ],
            "id": "ee6aea7f",
            "metadata": {}
        },
        {
            "outputs": [
                {
                    "name": "stdout",
                    "output_type": "stream",
                    "text": [
                        "β = x[1] / y[1] + s = 0.5964312884753865"
                    ]
                },
                {
                    "name": "stdout",
                    "output_type": "stream",
                    "text": [
                        "\n",
                        "β = x[1] / y[1] + s = 0.5999717091820104\n",
                        "β = x[1] / y[1] + s = 0.5999999978556353\n",
                        "β = x[1] / y[1] + s = 0.6\n"
                    ]
                }
            ],
            "cell_type": "code",
            "source": [
                "for k in 1:4\n",
                "    s = β\n",
                "    x = y / y[1]\n",
                "    y = (A - s * I) \\ x\n",
                "    @show β = x[1] / y[1] + s\n",
                "end"
            ],
            "id": "c6c53a02",
            "metadata": {
                "execution": {
                    "iopub.status.idle": "2025-01-14T16:39:19.688000Z",
                    "iopub.status.busy": "2025-01-14T16:39:18.167000Z",
                    "iopub.execute_input": "2025-01-14T16:39:18.167000Z",
                    "shell.execute_reply": "2025-01-14T16:39:19.686000Z"
                }
            },
            "execution_count": 5
        }
    ],
    "nbformat_minor": 5,
    "metadata": {
        "language_info": {
            "file_extension": ".jl",
            "mimetype": "application/julia",
            "name": "julia",
            "version": "1.11.2"
        },
        "kernelspec": {
            "name": "julia-1.11",
            "display_name": "Julia 1",
            "language": "julia"
        },
        "numbering": {
            "headings": false
        }
    },
    "nbformat": 4
}
