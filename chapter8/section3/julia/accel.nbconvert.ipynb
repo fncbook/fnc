{
 "cells": [
  {
   "cell_type": "code",
   "execution_count": 1,
   "id": "644d02de",
   "metadata": {
    "execution": {
     "iopub.execute_input": "2025-01-14T16:38:57.052000Z",
     "iopub.status.busy": "2025-01-14T16:38:56.481000Z",
     "iopub.status.idle": "2025-01-14T16:39:11.675000Z",
     "shell.execute_reply": "2025-01-14T16:39:11.558000Z"
    }
   },
   "outputs": [
    {
     "name": "stderr",
     "output_type": "stream",
     "text": [
      "\u001b[32m\u001b[1m  Activating\u001b[22m\u001b[39m "
     ]
    },
    {
     "name": "stderr",
     "output_type": "stream",
     "text": [
      "project at `~/Documents/GitHub/fnc`\n"
     ]
    }
   ],
   "source": [
    "include(\"../../../julia/FNC_init.jl\")"
   ]
  },
  {
   "cell_type": "markdown",
   "id": "969bd0e4",
   "metadata": {},
   "source": [
    "[**Demo %s**](#demo-inviter-accel)"
   ]
  },
  {
   "cell_type": "code",
   "execution_count": 2,
   "id": "a6008db9",
   "metadata": {
    "execution": {
     "iopub.execute_input": "2025-01-14T16:39:12.196000Z",
     "iopub.status.busy": "2025-01-14T16:39:11.705000Z",
     "iopub.status.idle": "2025-01-14T16:39:17.782000Z",
     "shell.execute_reply": "2025-01-14T16:39:17.779000Z"
    }
   },
   "outputs": [
    {
     "data": {
      "text/plain": [
       "5×5 Matrix{Float64}:\n",
       " 1.0   1.0   1.0   1.0  1.0\n",
       " 0.0  -0.75  1.0   1.0  1.0\n",
       " 0.0   0.0   0.6   1.0  1.0\n",
       " 0.0   0.0   0.0  -0.4  1.0\n",
       " 0.0   0.0   0.0   0.0  0.0"
      ]
     },
     "execution_count": 2,
     "metadata": {},
     "output_type": "execute_result"
    }
   ],
   "source": [
    "λ = [1, -0.75, 0.6, -0.4, 0]\n",
    "# Make a triangular matrix with eigenvalues on the diagonal.\n",
    "A = triu(ones(5, 5), 1) + diagm(λ)"
   ]
  },
  {
   "cell_type": "markdown",
   "id": "579b00c7",
   "metadata": {},
   "source": [
    "We begin with a shift $s=0.7$, which is closest to the eigenvalue 0.6."
   ]
  },
  {
   "cell_type": "code",
   "execution_count": 3,
   "id": "f6670e35",
   "metadata": {
    "execution": {
     "iopub.execute_input": "2025-01-14T16:39:17.789000Z",
     "iopub.status.busy": "2025-01-14T16:39:17.789000Z",
     "iopub.status.idle": "2025-01-14T16:39:18.157000Z",
     "shell.execute_reply": "2025-01-14T16:39:18.157000Z"
    }
   },
   "outputs": [
    {
     "data": {
      "text/plain": [
       "0.7034813925570228"
      ]
     },
     "execution_count": 3,
     "metadata": {},
     "output_type": "execute_result"
    }
   ],
   "source": [
    "s = 0.7\n",
    "x = ones(5)\n",
    "y = (A - s * I) \\ x\n",
    "β = x[1] / y[1] + s"
   ]
  },
  {
   "cell_type": "markdown",
   "id": "6385ceae",
   "metadata": {},
   "source": [
    "Note that the result is not yet any closer to the targeted 0.6. But we proceed (without being too picky about normalization here)."
   ]
  },
  {
   "cell_type": "code",
   "execution_count": 4,
   "id": "d41a3626",
   "metadata": {
    "execution": {
     "iopub.execute_input": "2025-01-14T16:39:18.160000Z",
     "iopub.status.busy": "2025-01-14T16:39:18.160000Z",
     "iopub.status.idle": "2025-01-14T16:39:18.163000Z",
     "shell.execute_reply": "2025-01-14T16:39:18.163000Z"
    }
   },
   "outputs": [
    {
     "data": {
      "text/plain": [
       "0.5612761406172997"
      ]
     },
     "execution_count": 4,
     "metadata": {},
     "output_type": "execute_result"
    }
   ],
   "source": [
    "s = β\n",
    "x = y / y[1]\n",
    "y = (A - s * I) \\ x\n",
    "β = x[1] / y[1] + s"
   ]
  },
  {
   "cell_type": "markdown",
   "id": "ee6aea7f",
   "metadata": {},
   "source": [
    "Still not much apparent progress. However, in just a few more iterations the results are dramatically better."
   ]
  },
  {
   "cell_type": "code",
   "execution_count": 5,
   "id": "c6c53a02",
   "metadata": {
    "execution": {
     "iopub.execute_input": "2025-01-14T16:39:18.167000Z",
     "iopub.status.busy": "2025-01-14T16:39:18.167000Z",
     "iopub.status.idle": "2025-01-14T16:39:19.688000Z",
     "shell.execute_reply": "2025-01-14T16:39:19.686000Z"
    }
   },
   "outputs": [
    {
     "name": "stdout",
     "output_type": "stream",
     "text": [
      "β = x[1] / y[1] + s = 0.5964312884753865"
     ]
    },
    {
     "name": "stdout",
     "output_type": "stream",
     "text": [
      "\n",
      "β = x[1] / y[1] + s = 0.5999717091820104\n",
      "β = x[1] / y[1] + s = 0.5999999978556353\n",
      "β = x[1] / y[1] + s = 0.6\n"
     ]
    }
   ],
   "source": [
    "for k in 1:4\n",
    "    s = β\n",
    "    x = y / y[1]\n",
    "    y = (A - s * I) \\ x\n",
    "    @show β = x[1] / y[1] + s\n",
    "end"
   ]
  }
 ],
 "metadata": {
  "kernelspec": {
   "display_name": "Julia 1",
   "language": "julia",
   "name": "julia-1.11"
  },
  "language_info": {
   "file_extension": ".jl",
   "mimetype": "application/julia",
   "name": "julia",
   "version": "1.11.2"
  },
  "numbering": {
   "headings": false
  }
 },
 "nbformat": 4,
 "nbformat_minor": 5
}
