{
 "cells": [
  {
   "cell_type": "code",
   "execution_count": 1,
   "id": "e74fb1fe",
   "metadata": {
    "execution": {
     "iopub.execute_input": "2025-01-11T16:22:32.011332Z",
     "iopub.status.busy": "2025-01-11T16:22:32.011219Z",
     "iopub.status.idle": "2025-01-11T16:22:32.462203Z",
     "shell.execute_reply": "2025-01-11T16:22:32.461943Z"
    },
    "tags": [
     "remove-cell"
    ]
   },
   "outputs": [],
   "source": [
    "exec(open(\"../../../python/FNC_init.py\").read())"
   ]
  },
  {
   "cell_type": "markdown",
   "id": "824d69d7",
   "metadata": {},
   "source": [
    "[**Demo %s**](#demo-inviter-accel)"
   ]
  },
  {
   "cell_type": "code",
   "execution_count": 2,
   "id": "defceb5d",
   "metadata": {
    "execution": {
     "iopub.execute_input": "2025-01-11T16:22:32.463838Z",
     "iopub.status.busy": "2025-01-11T16:22:32.463694Z",
     "iopub.status.idle": "2025-01-11T16:22:32.465705Z",
     "shell.execute_reply": "2025-01-11T16:22:32.465474Z"
    }
   },
   "outputs": [],
   "source": [
    "ev = array([1, -0.75, 0.6, -0.4, 0])\n",
    "A = triu(ones([5, 5]), 1) + diag(ev)    # triangular matrix, eigs on diagonal"
   ]
  },
  {
   "cell_type": "markdown",
   "id": "bac050c2",
   "metadata": {},
   "source": [
    "We begin with a shift $s=0.7$, which is closest to the eigenvalue 0.6."
   ]
  },
  {
   "cell_type": "code",
   "execution_count": 3,
   "id": "b4979d87",
   "metadata": {
    "execution": {
     "iopub.execute_input": "2025-01-11T16:22:32.466947Z",
     "iopub.status.busy": "2025-01-11T16:22:32.466843Z",
     "iopub.status.idle": "2025-01-11T16:22:32.469036Z",
     "shell.execute_reply": "2025-01-11T16:22:32.468793Z"
    }
   },
   "outputs": [
    {
     "name": "stdout",
     "output_type": "stream",
     "text": [
      "latest estimate: 0.70348139\n"
     ]
    }
   ],
   "source": [
    "from numpy.linalg import solve\n",
    "s = 0.7\n",
    "x = ones(5)\n",
    "y = solve(A - s * eye(5), x)\n",
    "beta = x[0] / y[0] + s\n",
    "print(f\"latest estimate: {beta:.8f}\")"
   ]
  },
  {
   "cell_type": "markdown",
   "id": "28df02ba",
   "metadata": {},
   "source": [
    "Note that the result is not yet any closer to the targeted 0.6. But we proceed (without being too picky about normalization here)."
   ]
  },
  {
   "cell_type": "code",
   "execution_count": 4,
   "id": "5257c881",
   "metadata": {
    "execution": {
     "iopub.execute_input": "2025-01-11T16:22:32.470260Z",
     "iopub.status.busy": "2025-01-11T16:22:32.470158Z",
     "iopub.status.idle": "2025-01-11T16:22:32.472135Z",
     "shell.execute_reply": "2025-01-11T16:22:32.471914Z"
    }
   },
   "outputs": [
    {
     "name": "stdout",
     "output_type": "stream",
     "text": [
      "latest estimate: 0.56127614\n"
     ]
    }
   ],
   "source": [
    "s = beta\n",
    "x = y / y[0]\n",
    "y = solve(A - s * eye(5), x)\n",
    "beta = x[0] / y[0] + s\n",
    "print(f\"latest estimate: {beta:.8f}\")"
   ]
  },
  {
   "cell_type": "markdown",
   "id": "1ea0c058",
   "metadata": {},
   "source": [
    "Still not much apparent progress. However, in just a few more iterations the results are dramatically better."
   ]
  },
  {
   "cell_type": "code",
   "execution_count": 5,
   "id": "6b24403b",
   "metadata": {
    "execution": {
     "iopub.execute_input": "2025-01-11T16:22:32.473312Z",
     "iopub.status.busy": "2025-01-11T16:22:32.473221Z",
     "iopub.status.idle": "2025-01-11T16:22:32.475168Z",
     "shell.execute_reply": "2025-01-11T16:22:32.474955Z"
    }
   },
   "outputs": [
    {
     "name": "stdout",
     "output_type": "stream",
     "text": [
      "latest estimate: 0.596431288475\n",
      "latest estimate: 0.599971709182\n",
      "latest estimate: 0.599999997856\n",
      "latest estimate: 0.600000000000\n"
     ]
    }
   ],
   "source": [
    "for k in range(4):\n",
    "    s = beta\n",
    "    x = y / y[0]\n",
    "    y = solve(A - s * eye(5), x)\n",
    "    beta = x[0] / y[0] + s\n",
    "    print(f\"latest estimate: {beta:.12f}\")"
   ]
  }
 ],
 "metadata": {
  "kernelspec": {
   "display_name": "Python 3",
   "language": "python",
   "name": "python3"
  },
  "language_info": {
   "codemirror_mode": {
    "name": "ipython",
    "version": 3
   },
   "file_extension": ".py",
   "mimetype": "text/x-python",
   "name": "python",
   "nbconvert_exporter": "python",
   "pygments_lexer": "ipython3",
   "version": "3.13.0"
  },
  "numbering": {
   "headings": false
  }
 },
 "nbformat": 4,
 "nbformat_minor": 5
}
