{
    "cells": [
        {
            "cell_type": "markdown",
            "source": [
                "[**Demo %s**](#demo-inviter-accel)"
            ],
            "id": "09c057eb",
            "metadata": {}
        },
        {
            "outputs": [],
            "cell_type": "code",
            "source": [
                "ev = [1, -0.75, 0.6, -0.4, 0];\n",
                "A = triu(ones(5, 5), 1) + diag(ev);"
            ],
            "id": "797c5bf2",
            "metadata": {},
            "execution_count": 2
        },
        {
            "cell_type": "markdown",
            "source": [
                "We begin with a shift $s=0.7$, which is closest to the eigenvalue 0.6."
            ],
            "id": "53517d12",
            "metadata": {}
        },
        {
            "outputs": [
                {
                    "output_type": "execute_result",
                    "data": {
                        "text/plain": [
                            "beta = 0.7035"
                        ],
                        "text/html": [
                            "<html><body><pre>beta = 0.7035</pre></body></html>"
                        ]
                    },
                    "metadata": {},
                    "execution_count": 3
                }
            ],
            "cell_type": "code",
            "source": [
                "s = 0.7;\n",
                "x = ones(5, 1);\n",
                "y = (A - s * eye(5)) \\ x;\n",
                "beta = x(1) / y(1) + s"
            ],
            "id": "b43f1a01",
            "metadata": {},
            "execution_count": 3
        },
        {
            "cell_type": "markdown",
            "source": [
                "Note that the result is not yet any closer to the targeted 0.6. But we proceed (without being too picky about normalization here)."
            ],
            "id": "2ff0c9a3",
            "metadata": {}
        },
        {
            "outputs": [
                {
                    "output_type": "execute_result",
                    "data": {
                        "text/plain": [
                            "beta = 0.5613"
                        ],
                        "text/html": [
                            "<html><body><pre>beta = 0.5613</pre></body></html>"
                        ]
                    },
                    "metadata": {},
                    "execution_count": 4
                }
            ],
            "cell_type": "code",
            "source": [
                "s = beta;\n",
                "x = y / y(1);\n",
                "y = (A - s * eye(5)) \\ x;\n",
                "beta = x(1) / y(1) + s"
            ],
            "id": "7650de82",
            "metadata": {},
            "execution_count": 4
        },
        {
            "cell_type": "markdown",
            "source": [
                "Still not much apparent progress. However, in just a few more iterations the results are dramatically better."
            ],
            "id": "96d7e5c8",
            "metadata": {}
        },
        {
            "outputs": [
                {
                    "output_type": "execute_result",
                    "data": {
                        "text/plain": [
                            "beta = \n",
                            "   0.596431288475387\n"
                        ],
                        "text/html": [
                            "<html><body><pre>beta = \n",
                            "   0.596431288475387\n",
                            "</pre></body></html>"
                        ]
                    },
                    "metadata": {},
                    "execution_count": 5
                },
                {
                    "output_type": "execute_result",
                    "data": {
                        "text/plain": [
                            "beta = \n",
                            "   0.599971709182010\n"
                        ],
                        "text/html": [
                            "<html><body><pre>beta = \n",
                            "   0.599971709182010\n",
                            "</pre></body></html>"
                        ]
                    },
                    "metadata": {},
                    "execution_count": 5
                },
                {
                    "output_type": "execute_result",
                    "data": {
                        "text/plain": [
                            "beta = \n",
                            "   0.599999997855635\n"
                        ],
                        "text/html": [
                            "<html><body><pre>beta = \n",
                            "   0.599999997855635\n",
                            "</pre></body></html>"
                        ]
                    },
                    "metadata": {},
                    "execution_count": 5
                },
                {
                    "output_type": "execute_result",
                    "data": {
                        "text/plain": [
                            "beta = \n",
                            "   0.600000000000000\n"
                        ],
                        "text/html": [
                            "<html><body><pre>beta = \n",
                            "   0.600000000000000\n",
                            "</pre></body></html>"
                        ]
                    },
                    "metadata": {},
                    "execution_count": 5
                }
            ],
            "cell_type": "code",
            "source": [
                "format long\n",
                "for k = 1:4\n",
                "    s = beta;\n",
                "    x = y / y(1);\n",
                "    y = (A - s * eye(5)) \\ x;\n",
                "    beta = x(1) / y(1) + s\n",
                "end"
            ],
            "id": "6fcf099d",
            "metadata": {},
            "execution_count": 5
        }
    ],
    "nbformat_minor": 5,
    "metadata": {
        "language_info": {
            "file_extension": ".m",
            "mimetype": "text/x-matlab",
            "name": "matlab"
        },
        "kernelspec": {
            "name": "jupyter_matlab_kernel",
            "display_name": "MATLAB Kernel",
            "language": "matlab"
        },
        "numbering": {
            "headings": false
        }
    },
    "nbformat": 4
}
