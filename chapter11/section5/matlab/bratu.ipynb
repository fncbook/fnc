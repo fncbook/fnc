{
 "cells": [
  {
   "cell_type": "code",
   "execution_count": 1,
   "id": "acfeb080",
   "metadata": {
    "tags": [
     "remove-cell"
    ]
   },
   "outputs": [],
   "source": [
    "cd  /Users/driscoll/Documents/GitHub/fnc/matlab\n",
    "FNC_init"
   ]
  },
  {
   "cell_type": "markdown",
   "id": "3bd3f583",
   "metadata": {},
   "source": [
    "[**Demo %s**](#demo-boundaries-bratu)"
   ]
  },
  {
   "cell_type": "code",
   "execution_count": 2,
   "id": "e631cf66",
   "metadata": {},
   "outputs": [],
   "source": [
    "phi = @(t, x, u, ux, uxx) u.^2 + uxx;\n",
    "ga = @(u, ux) u;\n",
    "gb = @(u, ux) ux;\n",
    "\n",
    "init = @(x) 400 * x.^4 .* (1 - x).^2;\n",
    "[x, u] = parabolic(phi, [0, 1], 60, ga, gb, [0, 0.1], init);"
   ]
  },
  {
   "cell_type": "code",
   "execution_count": null,
   "id": "8d0fb6cf",
   "metadata": {
    "tags": [
     "hide-cell",
     "remove-output"
    ]
   },
   "outputs": [],
   "source": [
    "clf\n",
    "plot(x, u(0))\n",
    "hold on,  grid on\n",
    "axis([0, 1, 0, 10])\n",
    "title(\"Heat equation with source\")\n",
    "xlabel('x'),  ylabel('u(x,t)')\n",
    "vid = VideoWriter(\"figures/boundaries-source.mp4\", \"MPEG-4\");\n",
    "vid.Quality = 85;\n",
    "open(vid);\n",
    "for t = linspace(0, 0.1, 101)\n",
    "    cla, plot(x, u(t))\n",
    "    str = sprintf(\"t = %.3f\", t);\n",
    "    text(0.05, 9.2, str);\n",
    "    writeVideo(vid, frame2im(getframe(gcf)));\n",
    "end\n",
    "close(vid) "
   ]
  }
 ],
 "metadata": {
  "kernelspec": {
   "display_name": "MATLAB Kernel",
   "language": "matlab",
   "name": "jupyter_matlab_kernel"
  },
  "language_info": {
   "file_extension": ".m",
   "mimetype": "text/x-matlab",
   "name": "matlab"
  },
  "numbering": {
   "headings": false
  }
 },
 "nbformat": 4,
 "nbformat_minor": 5
}
