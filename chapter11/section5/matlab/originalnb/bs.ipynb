{
 "cells": [
  {
   "cell_type": "code",
   "execution_count": 1,
   "id": "d3c86c59",
   "metadata": {
    "tags": [
     "remove-cell"
    ]
   },
   "outputs": [],
   "source": [
    "cd  /Users/driscoll/Documents/GitHub/fnc/matlab\n",
    "FNC_init"
   ]
  },
  {
   "cell_type": "markdown",
   "id": "2ef73181",
   "metadata": {},
   "source": [
    "[**Demo %s**](#demo-boundaries-bs)"
   ]
  },
  {
   "cell_type": "code",
   "execution_count": 2,
   "id": "731c01e6",
   "metadata": {},
   "outputs": [],
   "source": [
    "K = 3;  sigma = 0.06;  r = 0.08;  Smax = 8;\n",
    "phi = @(t, x, u, ux, uxx) sigma.^2/2 * (x.^2 .* uxx) + r * x.*ux - r*u;\n",
    "ga = @(u, ux) u;\n",
    "gb = @(u, ux) ux - 1;"
   ]
  },
  {
   "cell_type": "code",
   "execution_count": 3,
   "id": "ed37eee0",
   "metadata": {},
   "outputs": [],
   "source": [
    "init = @(x) max(0, x - K);\n",
    "[x, u] = parabolic(phi, [0, Smax], 80, ga, gb, [0, 15], init);"
   ]
  },
  {
   "cell_type": "code",
   "execution_count": null,
   "id": "ef34fd6b",
   "metadata": {
    "tags": [
     "remove-output",
     "hide-input"
    ]
   },
   "outputs": [],
   "source": [
    "clf\n",
    "plot(x, u(0))\n",
    "hold on,  grid on\n",
    "axis([0, Smax, -0.1, 8])\n",
    "title(\"Black–Scholes equation with boundaries\")\n",
    "xlabel('x'),  ylabel('u(x,t)')\n",
    "vid = VideoWriter(\"figures/boundaries-bs.mp4\", \"MPEG-4\");\n",
    "vid.Quality = 85;\n",
    "open(vid);\n",
    "for t = linspace(0, 15, 151)\n",
    "    cla, plot(x, u(t))\n",
    "    str = sprintf(\"t = %.1f\", t);\n",
    "    text(0.5, 7.1, str);\n",
    "    writeVideo(vid, frame2im(getframe(gcf)));\n",
    "end\n",
    "close(vid)"
   ]
  },
  {
   "cell_type": "markdown",
   "id": "dee118bf",
   "metadata": {},
   "source": [
    "Recall that $u$ is the value of the call option, and time runs backward from the strike time. The longer the horizon, the more value the option has due to anticipated growth in the stock price."
   ]
  }
 ],
 "metadata": {
  "kernelspec": {
   "display_name": "MATLAB Kernel",
   "language": "matlab",
   "name": "jupyter_matlab_kernel"
  },
  "language_info": {
   "file_extension": ".m",
   "mimetype": "text/x-matlab",
   "name": "matlab"
  },
  "numbering": {
   "headings": false
  }
 },
 "nbformat": 4,
 "nbformat_minor": 5
}
