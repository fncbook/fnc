{
 "cells": [
  {
   "cell_type": "code",
   "execution_count": 1,
   "id": "bfb6cbc7",
   "metadata": {
    "tags": [
     "remove-cell"
    ]
   },
   "outputs": [],
   "source": [
    "exec(open(\"../../../python/FNC_init.py\").read())"
   ]
  },
  {
   "cell_type": "markdown",
   "id": "73261841",
   "metadata": {},
   "source": [
    "[**Demo %s**](#demo-boundaries-bratu)"
   ]
  },
  {
   "cell_type": "code",
   "execution_count": 2,
   "id": "91e148da",
   "metadata": {},
   "outputs": [],
   "source": [
    "phi = lambda t, x, u, ux, uxx: u**2 + uxx\n",
    "ga = lambda u, ux: u\n",
    "gb = lambda u, ux: ux\n",
    "init = lambda x: 400 * x**4 * (1 - x)**2\n",
    "x, u = FNC.parabolic(phi, (0, 1), 60, ga, gb, (0, 0.1), init);"
   ]
  },
  {
   "cell_type": "code",
   "execution_count": 3,
   "id": "7691498a",
   "metadata": {
    "tags": [
     "hide-input"
    ]
   },
   "outputs": [],
   "source": [
    "from matplotlib.animation import FuncAnimation\n",
    "fig = figure()\n",
    "ax = fig.add_subplot(autoscale_on=False, xlim=(0, 1), ylim=(0, 10))\n",
    "line, = ax.plot([], [], '-')\n",
    "ax.set_title(\"Heat equation with source\")\n",
    "time_text = ax.text(0.05, 0.9, '', transform=ax.transAxes)\n",
    "\n",
    "def snapshot(t):\n",
    "    line.set_data(x, u(t))\n",
    "    time_text.set_text(f\"t = {t:.2e}\")\n",
    "    return line, time_text\n",
    "\n",
    "anim = FuncAnimation(fig, snapshot, frames=linspace(0, 0.1, 101), blit=True)\n",
    "anim.save(\"boundaries-source.mp4\", fps=30)\n",
    "close()"
   ]
  }
 ],
 "metadata": {
  "kernelspec": {
   "display_name": "myst",
   "language": "python",
   "name": "python3"
  },
  "language_info": {
   "codemirror_mode": {
    "name": "ipython",
    "version": 3
   },
   "file_extension": ".py",
   "mimetype": "text/x-python",
   "name": "python",
   "nbconvert_exporter": "python",
   "pygments_lexer": "ipython3",
   "version": "3.13.0"
  },
  "numbering": {
   "headings": false
  }
 },
 "nbformat": 4,
 "nbformat_minor": 5
}
