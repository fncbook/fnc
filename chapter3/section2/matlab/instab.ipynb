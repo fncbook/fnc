{
    "cells": [
        {
            "cell_type": "markdown",
            "source": [
                "[**Demo %s**](#demo-normaleqns-instab)\n",
                "\n",
                "\n",
                "Because the functions $\\sin^2(t)$, $\\cos^2(t)$, and $1$ are linearly dependent, we should find that the following matrix is somewhat ill-conditioned.\n",
                "```{tip}\n",
                ":class: dropdown\n",
                "The local variable scoping rule for loops applies to comprehensions as well.\n",
                "```"
            ],
            "id": "a24ef788",
            "metadata": {}
        },
        {
            "outputs": [
                {
                    "output_type": "execute_result",
                    "data": {
                        "text/plain": [
                            "kappa = 1.8253e+07"
                        ],
                        "text/html": [
                            "<html><body><pre>kappa = 1.8253e+07</pre></body></html>"
                        ]
                    },
                    "metadata": {},
                    "execution_count": 2
                }
            ],
            "cell_type": "code",
            "source": [
                "t = linspace(0, 3, 400)';\n",
                "A = [ sin(t).^2, cos((1+1e-7)*t).^2, t.^0 ];\n",
                "kappa = cond(A)"
            ],
            "id": "9ca951ff",
            "metadata": {},
            "execution_count": 2
        },
        {
            "cell_type": "markdown",
            "source": [
                "Now we set up an artificial linear least-squares problem with a known exact solution that actually makes the residual zero."
            ],
            "id": "2afa3a99",
            "metadata": {}
        },
        {
            "outputs": [],
            "cell_type": "code",
            "source": [
                "x = [1; 2; 1];\n",
                "b = A * x;"
            ],
            "id": "c21572e5",
            "metadata": {},
            "execution_count": 3
        },
        {
            "cell_type": "markdown",
            "source": [
                "Using backslash to find the least-squares solution, we get a relative error that is well below $\\kappa$ times machine epsilon."
            ],
            "id": "fad639e6",
            "metadata": {}
        },
        {
            "outputs": [
                {
                    "output_type": "execute_result",
                    "data": {
                        "text/plain": [
                            "observed_err = 9.8998e-11"
                        ],
                        "text/html": [
                            "<html><body><pre>observed_err = 9.8998e-11</pre></body></html>"
                        ]
                    },
                    "metadata": {},
                    "execution_count": 4
                },
                {
                    "output_type": "execute_result",
                    "data": {
                        "text/plain": [
                            "max_err = 4.0530e-09"
                        ],
                        "text/html": [
                            "<html><body><pre>max_err = 4.0530e-09</pre></body></html>"
                        ]
                    },
                    "metadata": {},
                    "execution_count": 4
                }
            ],
            "cell_type": "code",
            "source": [
                "x_BS = A \\ b;\n",
                "observed_err = norm(x_BS - x) / norm(x)\n",
                "max_err = kappa * eps"
            ],
            "id": "bb9d84c2",
            "metadata": {},
            "execution_count": 4
        },
        {
            "cell_type": "markdown",
            "source": [
                "If we formulate and solve via the normal equations, we get a much larger relative error. With $\\kappa^2\\approx 10^{14}$, we may not be left with more than about 2 accurate digits."
            ],
            "id": "af00f3eb",
            "metadata": {}
        },
        {
            "outputs": [
                {
                    "output_type": "execute_result",
                    "data": {
                        "text/plain": [
                            "observed_err = 0.0937"
                        ],
                        "text/html": [
                            "<html><body><pre>observed_err = 0.0937</pre></body></html>"
                        ]
                    },
                    "metadata": {},
                    "execution_count": 5
                },
                {
                    "output_type": "execute_result",
                    "data": {
                        "text/plain": [
                            "digits = 1.0282"
                        ],
                        "text/html": [
                            "<html><body><pre>digits = 1.0282</pre></body></html>"
                        ]
                    },
                    "metadata": {},
                    "execution_count": 5
                }
            ],
            "cell_type": "code",
            "source": [
                "N = A'*A;\n",
                "x_NE = N\\(A'*b);\n",
                "observed_err = norm(x_NE - x) / norm(x)\n",
                "digits = -log10(observed_err)"
            ],
            "id": "8f5a0b06",
            "metadata": {},
            "execution_count": 5
        }
    ],
    "nbformat_minor": 5,
    "metadata": {
        "language_info": {
            "file_extension": ".m",
            "mimetype": "text/x-matlab",
            "name": "matlab"
        },
        "kernelspec": {
            "name": "jupyter_matlab_kernel",
            "display_name": "MATLAB Kernel",
            "language": "matlab"
        },
        "numbering": {
            "headings": false
        }
    },
    "nbformat": 4
}
