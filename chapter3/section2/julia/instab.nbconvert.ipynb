{
 "cells": [
  {
   "cell_type": "code",
   "execution_count": 1,
   "id": "2c1e7403",
   "metadata": {
    "execution": {
     "iopub.execute_input": "2025-01-14T15:17:41.113000Z",
     "iopub.status.busy": "2025-01-14T15:17:40.651000Z",
     "iopub.status.idle": "2025-01-14T15:17:57.593000Z",
     "shell.execute_reply": "2025-01-14T15:17:57.393000Z"
    }
   },
   "outputs": [
    {
     "name": "stderr",
     "output_type": "stream",
     "text": [
      "\u001b[32m\u001b[1m  Activating\u001b[22m\u001b[39m "
     ]
    },
    {
     "name": "stderr",
     "output_type": "stream",
     "text": [
      "project at `~/Documents/GitHub/fnc`\n"
     ]
    }
   ],
   "source": [
    "include(\"../../../julia/FNC_init.jl\")"
   ]
  },
  {
   "cell_type": "markdown",
   "id": "8007caf6",
   "metadata": {},
   "source": [
    "[**Demo %s**](#demo-normaleqns-instab)\n",
    "\n",
    "\n",
    "Because the functions $\\sin^2(t)$, $\\cos^2(t)$, and $1$ are linearly dependent, we should find that the following matrix is somewhat ill-conditioned.\n",
    "```{tip}\n",
    ":class: dropdown\n",
    "The local variable scoping rule for loops applies to comprehensions as well.\n",
    "```"
   ]
  },
  {
   "cell_type": "code",
   "execution_count": 2,
   "id": "ee24236e",
   "metadata": {
    "execution": {
     "iopub.execute_input": "2025-01-14T15:17:58.135000Z",
     "iopub.status.busy": "2025-01-14T15:17:57.605000Z",
     "iopub.status.idle": "2025-01-14T15:18:02.650000Z",
     "shell.execute_reply": "2025-01-14T15:18:02.649000Z"
    }
   },
   "outputs": [
    {
     "name": "stdout",
     "output_type": "stream",
     "text": [
      "κ = cond(A) = 1.8253225426741675e7"
     ]
    },
    {
     "name": "stdout",
     "output_type": "stream",
     "text": [
      "\n"
     ]
    }
   ],
   "source": [
    "t = range(0, 3, 400)\n",
    "f = [ x -> sin(x)^2, x -> cos((1 + 1e-7) * x)^2, x -> 1. ]\n",
    "A = [ f(t) for t in t, f in f ]\n",
    "@show κ = cond(A);"
   ]
  },
  {
   "cell_type": "markdown",
   "id": "d96b9823",
   "metadata": {},
   "source": [
    "Now we set up an artificial linear least-squares problem with a known exact solution that actually makes the residual zero."
   ]
  },
  {
   "cell_type": "code",
   "execution_count": 3,
   "id": "4fb63b7b",
   "metadata": {
    "execution": {
     "iopub.execute_input": "2025-01-14T15:18:02.654000Z",
     "iopub.status.busy": "2025-01-14T15:18:02.653000Z",
     "iopub.status.idle": "2025-01-14T15:18:02.682000Z",
     "shell.execute_reply": "2025-01-14T15:18:02.681000Z"
    }
   },
   "outputs": [],
   "source": [
    "x = [1., 2, 1]\n",
    "b = A * x;"
   ]
  },
  {
   "cell_type": "markdown",
   "id": "beab62e2",
   "metadata": {},
   "source": [
    "Using backslash to find the least-squares solution, we get a relative error that is well below $\\kappa$ times machine epsilon."
   ]
  },
  {
   "cell_type": "code",
   "execution_count": 4,
   "id": "57ef3b38",
   "metadata": {
    "execution": {
     "iopub.execute_input": "2025-01-14T15:18:02.684000Z",
     "iopub.status.busy": "2025-01-14T15:18:02.684000Z",
     "iopub.status.idle": "2025-01-14T15:18:02.694000Z",
     "shell.execute_reply": "2025-01-14T15:18:02.693000Z"
    }
   },
   "outputs": [
    {
     "name": "stdout",
     "output_type": "stream",
     "text": [
      "observed_error = norm(x_BS - x) / norm(x) = 1.0163949045357309e-10\n",
      "error_bound = κ * eps() = 4.053030228488391e-9\n"
     ]
    }
   ],
   "source": [
    "x_BS = A \\ b\n",
    "@show observed_error = norm(x_BS - x) / norm(x);\n",
    "@show error_bound = κ * eps();"
   ]
  },
  {
   "cell_type": "markdown",
   "id": "2a985663",
   "metadata": {},
   "source": [
    "If we formulate and solve via the normal equations, we get a much larger relative error. With $\\kappa^2\\approx 10^{14}$, we may not be left with more than about 2 accurate digits."
   ]
  },
  {
   "cell_type": "code",
   "execution_count": 5,
   "id": "e22b2bbf",
   "metadata": {
    "execution": {
     "iopub.execute_input": "2025-01-14T15:18:02.697000Z",
     "iopub.status.busy": "2025-01-14T15:18:02.696000Z",
     "iopub.status.idle": "2025-01-14T15:18:02.717000Z",
     "shell.execute_reply": "2025-01-14T15:18:02.717000Z"
    }
   },
   "outputs": [
    {
     "name": "stdout",
     "output_type": "stream",
     "text": [
      "observed_err = norm(x_NE - x) / norm(x) = 0.021745909192780664\n",
      "digits = -(log10(observed_err)) = "
     ]
    },
    {
     "name": "stdout",
     "output_type": "stream",
     "text": [
      "1.6626224298403076\n"
     ]
    }
   ],
   "source": [
    "N = A' * A\n",
    "x_NE = N \\ (A'*b)\n",
    "@show observed_err = norm(x_NE - x) / norm(x);\n",
    "@show digits = -log10(observed_err);"
   ]
  }
 ],
 "metadata": {
  "kernelspec": {
   "display_name": "Julia 1",
   "language": "julia",
   "name": "julia-1.11"
  },
  "language_info": {
   "file_extension": ".jl",
   "mimetype": "application/julia",
   "name": "julia",
   "version": "1.11.2"
  },
  "numbering": {
   "headings": false
  }
 },
 "nbformat": 4,
 "nbformat_minor": 5
}
