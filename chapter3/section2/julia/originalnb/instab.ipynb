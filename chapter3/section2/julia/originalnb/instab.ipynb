{
    "cells": [
        {
            "outputs": [
                {
                    "name": "stderr",
                    "output_type": "stream",
                    "text": [
                        "\u001b[32m\u001b[1m  Activating\u001b[22m\u001b[39m "
                    ]
                },
                {
                    "name": "stderr",
                    "output_type": "stream",
                    "text": [
                        "project at `~/Documents/GitHub/fnc`\n"
                    ]
                }
            ],
            "cell_type": "code",
            "source": [
                "include(\"../../../julia/FNC_init.jl\")"
            ],
            "id": "2c1e7403",
            "metadata": {
                "execution": {
                    "iopub.status.idle": "2025-01-14T15:17:57.593000Z",
                    "iopub.status.busy": "2025-01-14T15:17:40.651000Z",
                    "iopub.execute_input": "2025-01-14T15:17:41.113000Z",
                    "shell.execute_reply": "2025-01-14T15:17:57.393000Z"
                },
                "tags": [
                    "remove-cell"
                ]
            },
            "execution_count": 1
        },
        {
            "cell_type": "markdown",
            "source": [
                "[**Demo %s**](#demo-normaleqns-instab)\n",
                "\n",
                "\n",
                "Because the functions $\\sin^2(t)$, $\\cos^2(t)$, and $1$ are linearly dependent, we should find that the following matrix is somewhat ill-conditioned.\n",
                "```{tip}\n",
                ":class: dropdown\n",
                "The local variable scoping rule for loops applies to comprehensions as well.\n",
                "```"
            ],
            "id": "8007caf6",
            "metadata": {}
        },
        {
            "outputs": [
                {
                    "name": "stdout",
                    "output_type": "stream",
                    "text": [
                        "κ = cond(A) = 1.8253225426741675e7"
                    ]
                },
                {
                    "name": "stdout",
                    "output_type": "stream",
                    "text": [
                        "\n"
                    ]
                }
            ],
            "cell_type": "code",
            "source": [
                "t = range(0, 3, 400)\n",
                "f = [ x -> sin(x)^2, x -> cos((1 + 1e-7) * x)^2, x -> 1. ]\n",
                "A = [ f(t) for t in t, f in f ]\n",
                "@show κ = cond(A);"
            ],
            "id": "ee24236e",
            "metadata": {
                "execution": {
                    "iopub.status.idle": "2025-01-14T15:18:02.650000Z",
                    "iopub.status.busy": "2025-01-14T15:17:57.605000Z",
                    "iopub.execute_input": "2025-01-14T15:17:58.135000Z",
                    "shell.execute_reply": "2025-01-14T15:18:02.649000Z"
                }
            },
            "execution_count": 2
        },
        {
            "cell_type": "markdown",
            "source": [
                "Now we set up an artificial linear least-squares problem with a known exact solution that actually makes the residual zero."
            ],
            "id": "d96b9823",
            "metadata": {}
        },
        {
            "outputs": [],
            "cell_type": "code",
            "source": [
                "x = [1., 2, 1]\n",
                "b = A * x;"
            ],
            "id": "4fb63b7b",
            "metadata": {
                "execution": {
                    "iopub.status.idle": "2025-01-14T15:18:02.682000Z",
                    "iopub.status.busy": "2025-01-14T15:18:02.653000Z",
                    "iopub.execute_input": "2025-01-14T15:18:02.654000Z",
                    "shell.execute_reply": "2025-01-14T15:18:02.681000Z"
                }
            },
            "execution_count": 3
        },
        {
            "cell_type": "markdown",
            "source": [
                "Using backslash to find the least-squares solution, we get a relative error that is well below $\\kappa$ times machine epsilon."
            ],
            "id": "beab62e2",
            "metadata": {}
        },
        {
            "outputs": [
                {
                    "name": "stdout",
                    "output_type": "stream",
                    "text": [
                        "observed_error = norm(x_BS - x) / norm(x) = 1.0163949045357309e-10\n",
                        "error_bound = κ * eps() = 4.053030228488391e-9\n"
                    ]
                }
            ],
            "cell_type": "code",
            "source": [
                "x_BS = A \\ b\n",
                "@show observed_error = norm(x_BS - x) / norm(x);\n",
                "@show error_bound = κ * eps();"
            ],
            "id": "57ef3b38",
            "metadata": {
                "execution": {
                    "iopub.status.idle": "2025-01-14T15:18:02.694000Z",
                    "iopub.status.busy": "2025-01-14T15:18:02.684000Z",
                    "iopub.execute_input": "2025-01-14T15:18:02.684000Z",
                    "shell.execute_reply": "2025-01-14T15:18:02.693000Z"
                }
            },
            "execution_count": 4
        },
        {
            "cell_type": "markdown",
            "source": [
                "If we formulate and solve via the normal equations, we get a much larger relative error. With $\\kappa^2\\approx 10^{14}$, we may not be left with more than about 2 accurate digits."
            ],
            "id": "2a985663",
            "metadata": {}
        },
        {
            "outputs": [
                {
                    "name": "stdout",
                    "output_type": "stream",
                    "text": [
                        "observed_err = norm(x_NE - x) / norm(x) = 0.021745909192780664\n",
                        "digits = -(log10(observed_err)) = "
                    ]
                },
                {
                    "name": "stdout",
                    "output_type": "stream",
                    "text": [
                        "1.6626224298403076\n"
                    ]
                }
            ],
            "cell_type": "code",
            "source": [
                "N = A' * A\n",
                "x_NE = N \\ (A'*b)\n",
                "@show observed_err = norm(x_NE - x) / norm(x);\n",
                "@show digits = -log10(observed_err);"
            ],
            "id": "e22b2bbf",
            "metadata": {
                "execution": {
                    "iopub.status.idle": "2025-01-14T15:18:02.717000Z",
                    "iopub.status.busy": "2025-01-14T15:18:02.696000Z",
                    "iopub.execute_input": "2025-01-14T15:18:02.697000Z",
                    "shell.execute_reply": "2025-01-14T15:18:02.717000Z"
                }
            },
            "execution_count": 5
        }
    ],
    "nbformat_minor": 5,
    "metadata": {
        "language_info": {
            "file_extension": ".jl",
            "mimetype": "application/julia",
            "name": "julia",
            "version": "1.11.2"
        },
        "kernelspec": {
            "name": "julia-1.11",
            "display_name": "Julia 1",
            "language": "julia"
        },
        "numbering": {
            "headings": false
        }
    },
    "nbformat": 4
}
