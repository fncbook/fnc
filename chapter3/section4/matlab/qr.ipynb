{
    "cells": [
        {
            "cell_type": "markdown",
            "source": [
                "[**Demo %s**](#demo-house-qr)\n",
                "\n",
                "\n",
                "We will use Householder reflections to produce a QR factorization of a matrix."
            ],
            "id": "e08c9317",
            "metadata": {}
        },
        {
            "outputs": [
                {
                    "output_type": "execute_result",
                    "data": {
                        "text/plain": [
                            "m = 6"
                        ],
                        "text/html": [
                            "<html><body><pre>m = 6</pre></body></html>"
                        ]
                    },
                    "metadata": {},
                    "execution_count": 2
                },
                {
                    "output_type": "execute_result",
                    "data": {
                        "text/plain": [
                            "n = 4"
                        ],
                        "text/html": [
                            "<html><body><pre>n = 4</pre></body></html>"
                        ]
                    },
                    "metadata": {},
                    "execution_count": 2
                }
            ],
            "cell_type": "code",
            "source": [
                "A = magic(6);\n",
                "A = A(:, 1:4);\n",
                "[m, n] = size(A)"
            ],
            "id": "3e863e8f",
            "metadata": {},
            "execution_count": 2
        },
        {
            "cell_type": "markdown",
            "source": [
                "```{index} ! MATLAB; eye\n",
                "```\n",
                "\n",
                "Our first step is to introduce zeros below the diagonal in column 1 by using {eq}`hhvector` and {eq}`hhreflect`."
            ],
            "id": "bc980ec4",
            "metadata": {}
        },
        {
            "outputs": [],
            "cell_type": "code",
            "source": [
                "z = A(:, 1);\n",
                "v = z - norm(z) * eye(m,1);\n",
                "P_1 = eye(m) - 2 / (v' * v) * (v * v'); "
            ],
            "id": "0a8aa2fc",
            "metadata": {},
            "execution_count": 3
        },
        {
            "cell_type": "markdown",
            "source": [
                "We check that this reflector introduces zeros as it should:"
            ],
            "id": "5fd484a1",
            "metadata": {}
        },
        {
            "outputs": [
                {
                    "output_type": "execute_result",
                    "data": {
                        "text/plain": [
                            "ans = 6×1 double\n",
                            "   56.3471\n",
                            "    0.0000\n",
                            "   -0.0000\n",
                            "   -0.0000\n",
                            "   -0.0000\n",
                            "   -0.0000\n"
                        ],
                        "text/html": [
                            "<html><body><pre>ans = 6×1 double\n",
                            "   56.3471\n",
                            "    0.0000\n",
                            "   -0.0000\n",
                            "   -0.0000\n",
                            "   -0.0000\n",
                            "   -0.0000\n",
                            "</pre></body></html>"
                        ]
                    },
                    "metadata": {},
                    "execution_count": 4
                }
            ],
            "cell_type": "code",
            "source": [
                "P_1 * z"
            ],
            "id": "3f5dfebb",
            "metadata": {},
            "execution_count": 4
        },
        {
            "cell_type": "markdown",
            "source": [
                "Now we replace $\\mathbf{A}$ by $\\mathbf{P}_1\\mathbf{A}$."
            ],
            "id": "d9c431ba",
            "metadata": {}
        },
        {
            "outputs": [
                {
                    "output_type": "execute_result",
                    "data": {
                        "text/plain": [
                            "A = 6×4 double\n",
                            "   56.3471   16.4693   30.0459   39.0969\n",
                            "   -0.0000   29.8260    3.6207   19.1594\n",
                            "   -0.0000  -13.4643  -32.9191    2.9808\n",
                            "   -0.0000   22.2028   23.9886   12.0918\n",
                            "   -0.0000  -16.7397    0.2073   -6.4056\n",
                            "   -0.0000   33.1014   24.4943   10.5459\n"
                        ],
                        "text/html": [
                            "<html><body><pre>A = 6×4 double\n",
                            "   56.3471   16.4693   30.0459   39.0969\n",
                            "   -0.0000   29.8260    3.6207   19.1594\n",
                            "   -0.0000  -13.4643  -32.9191    2.9808\n",
                            "   -0.0000   22.2028   23.9886   12.0918\n",
                            "   -0.0000  -16.7397    0.2073   -6.4056\n",
                            "   -0.0000   33.1014   24.4943   10.5459\n",
                            "</pre></body></html>"
                        ]
                    },
                    "metadata": {},
                    "execution_count": 5
                }
            ],
            "cell_type": "code",
            "source": [
                "A = P_1 * A"
            ],
            "id": "2734cdc7",
            "metadata": {},
            "execution_count": 5
        },
        {
            "cell_type": "markdown",
            "source": [
                "We are set to put zeros into column 2. We must not use row 1 in any way, lest it destroy the zeros we just introduced. So we leave it out of the next reflector."
            ],
            "id": "7a54f255",
            "metadata": {}
        },
        {
            "outputs": [],
            "cell_type": "code",
            "source": [
                "z = A(2:m, 2);\n",
                "v = z - norm(z) * eye(m-1, 1);\n",
                "P_2 = eye(m-1) - 2 / (v' * v) * (v * v');"
            ],
            "id": "47bedde2",
            "metadata": {},
            "execution_count": 6
        },
        {
            "cell_type": "markdown",
            "source": [
                "We now apply this reflector to rows 2 and below only."
            ],
            "id": "2608636d",
            "metadata": {}
        },
        {
            "outputs": [
                {
                    "output_type": "execute_result",
                    "data": {
                        "text/plain": [
                            "A = 6×4 double\n",
                            "   56.3471   16.4693   30.0459   39.0969\n",
                            "   -0.0000   54.2196   34.8797   23.1669\n",
                            "   -0.0000    0.0000  -15.6653    5.1928\n",
                            "   -0.0000         0   -4.4630    8.4443\n",
                            "   -0.0000   -0.0000   21.6583   -3.6556\n",
                            "   -0.0000    0.0000  -17.9233    5.1079\n"
                        ],
                        "text/html": [
                            "<html><body><pre>A = 6×4 double\n",
                            "   56.3471   16.4693   30.0459   39.0969\n",
                            "   -0.0000   54.2196   34.8797   23.1669\n",
                            "   -0.0000    0.0000  -15.6653    5.1928\n",
                            "   -0.0000         0   -4.4630    8.4443\n",
                            "   -0.0000   -0.0000   21.6583   -3.6556\n",
                            "   -0.0000    0.0000  -17.9233    5.1079\n",
                            "</pre></body></html>"
                        ]
                    },
                    "metadata": {},
                    "execution_count": 7
                }
            ],
            "cell_type": "code",
            "source": [
                "A(2:m, 2:n) = P_2 * A(2:m, 2:n)"
            ],
            "id": "5d0ca71c",
            "metadata": {},
            "execution_count": 7
        },
        {
            "cell_type": "markdown",
            "source": [
                "We need to iterate the process for the last two columns."
            ],
            "id": "359a858f",
            "metadata": {}
        },
        {
            "outputs": [],
            "cell_type": "code",
            "source": [
                "for j = 3:n\n",
                "    z = A(j:m,j);\n",
                "    k = m-j+1;\n",
                "    v = z - norm(z) * eye(k, 1);\n",
                "    P = eye(k) - 2 / (v' * v) * (v * v');\n",
                "    A(j:m, j:n) = P * A(j:m, j:n);\n",
                "end"
            ],
            "id": "884ad2e0",
            "metadata": {},
            "execution_count": 8
        },
        {
            "cell_type": "markdown",
            "source": [
                "We have now reduced the original to an upper triangular matrix using four orthogonal Householder reflections:"
            ],
            "id": "c28a75ca",
            "metadata": {}
        },
        {
            "outputs": [
                {
                    "output_type": "execute_result",
                    "data": {
                        "text/plain": [
                            "R = 6×4 double\n",
                            "   56.3471   16.4693   30.0459   39.0969\n",
                            "   -0.0000   54.2196   34.8797   23.1669\n",
                            "   -0.0000    0.0000   32.4907   -8.9182\n",
                            "   -0.0000         0   -0.0000    7.6283\n",
                            "   -0.0000   -0.0000    0.0000    0.0000\n",
                            "   -0.0000    0.0000         0   -0.0000\n"
                        ],
                        "text/html": [
                            "<html><body><pre>R = 6×4 double\n",
                            "   56.3471   16.4693   30.0459   39.0969\n",
                            "   -0.0000   54.2196   34.8797   23.1669\n",
                            "   -0.0000    0.0000   32.4907   -8.9182\n",
                            "   -0.0000         0   -0.0000    7.6283\n",
                            "   -0.0000   -0.0000    0.0000    0.0000\n",
                            "   -0.0000    0.0000         0   -0.0000\n",
                            "</pre></body></html>"
                        ]
                    },
                    "metadata": {},
                    "execution_count": 9
                }
            ],
            "cell_type": "code",
            "source": [
                "R = A"
            ],
            "id": "f10e6219",
            "metadata": {},
            "execution_count": 9
        }
    ],
    "nbformat_minor": 5,
    "metadata": {
        "language_info": {
            "file_extension": ".m",
            "mimetype": "text/x-matlab",
            "name": "matlab"
        },
        "kernelspec": {
            "name": "jupyter_matlab_kernel",
            "display_name": "MATLAB Kernel",
            "language": "matlab"
        },
        "numbering": {
            "headings": false
        }
    },
    "nbformat": 4
}
