{
 "cells": [
  {
   "cell_type": "code",
   "execution_count": 1,
   "id": "89299b1d",
   "metadata": {
    "tags": [
     "remove-cell"
    ]
   },
   "outputs": [],
   "source": [
    "cd  /Users/driscoll/Documents/GitHub/fnc/matlab\n",
    "FNC_init"
   ]
  },
  {
   "cell_type": "markdown",
   "id": "e08c9317",
   "metadata": {},
   "source": [
    "[**Demo %s**](#demo-house-qr)\n",
    "\n",
    "\n",
    "We will use Householder reflections to produce a QR factorization of a matrix."
   ]
  },
  {
   "cell_type": "code",
   "execution_count": 2,
   "id": "3e863e8f",
   "metadata": {},
   "outputs": [
    {
     "data": {
      "text/html": [
       "<html><body><pre>m = 6</pre></body></html>"
      ],
      "text/plain": [
       "m = 6"
      ]
     },
     "execution_count": 2,
     "metadata": {},
     "output_type": "execute_result"
    },
    {
     "data": {
      "text/html": [
       "<html><body><pre>n = 4</pre></body></html>"
      ],
      "text/plain": [
       "n = 4"
      ]
     },
     "execution_count": 2,
     "metadata": {},
     "output_type": "execute_result"
    }
   ],
   "source": [
    "A = magic(6);\n",
    "A = A(:, 1:4);\n",
    "[m, n] = size(A)"
   ]
  },
  {
   "cell_type": "markdown",
   "id": "bc980ec4",
   "metadata": {},
   "source": [
    "```{index} ! MATLAB; eye\n",
    "```\n",
    "\n",
    "Our first step is to introduce zeros below the diagonal in column 1 by using {eq}`hhvector` and {eq}`hhreflect`."
   ]
  },
  {
   "cell_type": "code",
   "execution_count": 3,
   "id": "0a8aa2fc",
   "metadata": {},
   "outputs": [],
   "source": [
    "z = A(:, 1);\n",
    "v = z - norm(z) * eye(m,1);\n",
    "P_1 = eye(m) - 2 / (v' * v) * (v * v'); "
   ]
  },
  {
   "cell_type": "markdown",
   "id": "5fd484a1",
   "metadata": {},
   "source": [
    "We check that this reflector introduces zeros as it should:"
   ]
  },
  {
   "cell_type": "code",
   "execution_count": 4,
   "id": "3f5dfebb",
   "metadata": {},
   "outputs": [
    {
     "data": {
      "text/html": [
       "<html><body><pre>ans = 6×1 double\n",
       "   56.3471\n",
       "    0.0000\n",
       "   -0.0000\n",
       "   -0.0000\n",
       "   -0.0000\n",
       "   -0.0000\n",
       "</pre></body></html>"
      ],
      "text/plain": [
       "ans = 6×1 double\n",
       "   56.3471\n",
       "    0.0000\n",
       "   -0.0000\n",
       "   -0.0000\n",
       "   -0.0000\n",
       "   -0.0000\n"
      ]
     },
     "execution_count": 4,
     "metadata": {},
     "output_type": "execute_result"
    }
   ],
   "source": [
    "P_1 * z"
   ]
  },
  {
   "cell_type": "markdown",
   "id": "d9c431ba",
   "metadata": {},
   "source": [
    "Now we replace $\\mathbf{A}$ by $\\mathbf{P}_1\\mathbf{A}$."
   ]
  },
  {
   "cell_type": "code",
   "execution_count": 5,
   "id": "2734cdc7",
   "metadata": {},
   "outputs": [
    {
     "data": {
      "text/html": [
       "<html><body><pre>A = 6×4 double\n",
       "   56.3471   16.4693   30.0459   39.0969\n",
       "   -0.0000   29.8260    3.6207   19.1594\n",
       "   -0.0000  -13.4643  -32.9191    2.9808\n",
       "   -0.0000   22.2028   23.9886   12.0918\n",
       "   -0.0000  -16.7397    0.2073   -6.4056\n",
       "   -0.0000   33.1014   24.4943   10.5459\n",
       "</pre></body></html>"
      ],
      "text/plain": [
       "A = 6×4 double\n",
       "   56.3471   16.4693   30.0459   39.0969\n",
       "   -0.0000   29.8260    3.6207   19.1594\n",
       "   -0.0000  -13.4643  -32.9191    2.9808\n",
       "   -0.0000   22.2028   23.9886   12.0918\n",
       "   -0.0000  -16.7397    0.2073   -6.4056\n",
       "   -0.0000   33.1014   24.4943   10.5459\n"
      ]
     },
     "execution_count": 5,
     "metadata": {},
     "output_type": "execute_result"
    }
   ],
   "source": [
    "A = P_1 * A"
   ]
  },
  {
   "cell_type": "markdown",
   "id": "7a54f255",
   "metadata": {},
   "source": [
    "We are set to put zeros into column 2. We must not use row 1 in any way, lest it destroy the zeros we just introduced. So we leave it out of the next reflector."
   ]
  },
  {
   "cell_type": "code",
   "execution_count": 6,
   "id": "47bedde2",
   "metadata": {},
   "outputs": [],
   "source": [
    "z = A(2:m, 2);\n",
    "v = z - norm(z) * eye(m-1, 1);\n",
    "P_2 = eye(m-1) - 2 / (v' * v) * (v * v');"
   ]
  },
  {
   "cell_type": "markdown",
   "id": "2608636d",
   "metadata": {},
   "source": [
    "We now apply this reflector to rows 2 and below only."
   ]
  },
  {
   "cell_type": "code",
   "execution_count": 7,
   "id": "5d0ca71c",
   "metadata": {},
   "outputs": [
    {
     "data": {
      "text/html": [
       "<html><body><pre>A = 6×4 double\n",
       "   56.3471   16.4693   30.0459   39.0969\n",
       "   -0.0000   54.2196   34.8797   23.1669\n",
       "   -0.0000    0.0000  -15.6653    5.1928\n",
       "   -0.0000         0   -4.4630    8.4443\n",
       "   -0.0000   -0.0000   21.6583   -3.6556\n",
       "   -0.0000    0.0000  -17.9233    5.1079\n",
       "</pre></body></html>"
      ],
      "text/plain": [
       "A = 6×4 double\n",
       "   56.3471   16.4693   30.0459   39.0969\n",
       "   -0.0000   54.2196   34.8797   23.1669\n",
       "   -0.0000    0.0000  -15.6653    5.1928\n",
       "   -0.0000         0   -4.4630    8.4443\n",
       "   -0.0000   -0.0000   21.6583   -3.6556\n",
       "   -0.0000    0.0000  -17.9233    5.1079\n"
      ]
     },
     "execution_count": 7,
     "metadata": {},
     "output_type": "execute_result"
    }
   ],
   "source": [
    "A(2:m, 2:n) = P_2 * A(2:m, 2:n)"
   ]
  },
  {
   "cell_type": "markdown",
   "id": "359a858f",
   "metadata": {},
   "source": [
    "We need to iterate the process for the last two columns."
   ]
  },
  {
   "cell_type": "code",
   "execution_count": 8,
   "id": "884ad2e0",
   "metadata": {},
   "outputs": [],
   "source": [
    "for j = 3:n\n",
    "    z = A(j:m,j);\n",
    "    k = m-j+1;\n",
    "    v = z - norm(z) * eye(k, 1);\n",
    "    P = eye(k) - 2 / (v' * v) * (v * v');\n",
    "    A(j:m, j:n) = P * A(j:m, j:n);\n",
    "end"
   ]
  },
  {
   "cell_type": "markdown",
   "id": "c28a75ca",
   "metadata": {},
   "source": [
    "We have now reduced the original to an upper triangular matrix using four orthogonal Householder reflections:"
   ]
  },
  {
   "cell_type": "code",
   "execution_count": 9,
   "id": "f10e6219",
   "metadata": {},
   "outputs": [
    {
     "data": {
      "text/html": [
       "<html><body><pre>R = 6×4 double\n",
       "   56.3471   16.4693   30.0459   39.0969\n",
       "   -0.0000   54.2196   34.8797   23.1669\n",
       "   -0.0000    0.0000   32.4907   -8.9182\n",
       "   -0.0000         0   -0.0000    7.6283\n",
       "   -0.0000   -0.0000    0.0000    0.0000\n",
       "   -0.0000    0.0000         0   -0.0000\n",
       "</pre></body></html>"
      ],
      "text/plain": [
       "R = 6×4 double\n",
       "   56.3471   16.4693   30.0459   39.0969\n",
       "   -0.0000   54.2196   34.8797   23.1669\n",
       "   -0.0000    0.0000   32.4907   -8.9182\n",
       "   -0.0000         0   -0.0000    7.6283\n",
       "   -0.0000   -0.0000    0.0000    0.0000\n",
       "   -0.0000    0.0000         0   -0.0000\n"
      ]
     },
     "execution_count": 9,
     "metadata": {},
     "output_type": "execute_result"
    }
   ],
   "source": [
    "R = A"
   ]
  }
 ],
 "metadata": {
  "kernelspec": {
   "display_name": "MATLAB Kernel",
   "language": "matlab",
   "name": "jupyter_matlab_kernel"
  },
  "language_info": {
   "file_extension": ".m",
   "mimetype": "text/x-matlab",
   "name": "matlab"
  },
  "numbering": {
   "headings": false
  }
 },
 "nbformat": 4,
 "nbformat_minor": 5
}
