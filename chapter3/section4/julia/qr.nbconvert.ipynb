{
 "cells": [
  {
   "cell_type": "code",
   "execution_count": 1,
   "id": "87ac02f9",
   "metadata": {
    "execution": {
     "iopub.execute_input": "2025-01-14T15:19:10.046000Z",
     "iopub.status.busy": "2025-01-14T15:19:08.817000Z",
     "iopub.status.idle": "2025-01-14T15:19:35.403000Z",
     "shell.execute_reply": "2025-01-14T15:19:35.194000Z"
    }
   },
   "outputs": [
    {
     "name": "stderr",
     "output_type": "stream",
     "text": [
      "\u001b[32m\u001b[1m  Activating\u001b[22m\u001b[39m "
     ]
    },
    {
     "name": "stderr",
     "output_type": "stream",
     "text": [
      "project at `~/Documents/GitHub/fnc`\n"
     ]
    }
   ],
   "source": [
    "include(\"../../../julia/FNC_init.jl\")"
   ]
  },
  {
   "cell_type": "markdown",
   "id": "b7bb907b",
   "metadata": {},
   "source": [
    "[**Demo %s**](#demo-house-qr)\n",
    "\n",
    "\n",
    "We will use Householder reflections to produce a QR factorization of a random matrix.\n",
    "```{tip}\n",
    ":class: dropdown\n",
    "The `rand` function can select randomly from within the interval $[0,1]$, or from a vector or range that you specify.\n",
    "```"
   ]
  },
  {
   "cell_type": "code",
   "execution_count": 2,
   "id": "32928012",
   "metadata": {
    "execution": {
     "iopub.execute_input": "2025-01-14T15:19:36.772000Z",
     "iopub.status.busy": "2025-01-14T15:19:35.421000Z",
     "iopub.status.idle": "2025-01-14T15:19:38.218000Z",
     "shell.execute_reply": "2025-01-14T15:19:38.198000Z"
    }
   },
   "outputs": [
    {
     "data": {
      "text/plain": [
       "(6, 4)"
      ]
     },
     "execution_count": 2,
     "metadata": {},
     "output_type": "execute_result"
    }
   ],
   "source": [
    "A = rand(float(1:9), 6, 4)\n",
    "m,n = size(A)"
   ]
  },
  {
   "cell_type": "markdown",
   "id": "a94128af",
   "metadata": {},
   "source": [
    "```{index} Julia; normalize, ! Julia; I\n",
    "```\n",
    "\n",
    "Our first step is to introduce zeros below the diagonal in column 1 by using {eq}`hhvector` and {eq}`hhreflect`. \n",
    ":::\n",
    "```{tip}\n",
    ":class: dropdown\n",
    "`I` can stand for an identity matrix of any size, inferred from the context when needed.\n",
    "```"
   ]
  },
  {
   "cell_type": "code",
   "execution_count": 3,
   "id": "f6664622",
   "metadata": {
    "execution": {
     "iopub.execute_input": "2025-01-14T15:19:38.221000Z",
     "iopub.status.busy": "2025-01-14T15:19:38.221000Z",
     "iopub.status.idle": "2025-01-14T15:19:42.402000Z",
     "shell.execute_reply": "2025-01-14T15:19:42.401000Z"
    }
   },
   "outputs": [
    {
     "data": {
      "text/plain": [
       "6×6 Matrix{Float64}:\n",
       " 0.40179    0.53572     0.066965    0.334825   0.602685    0.26786\n",
       " 0.53572    0.520243   -0.0599696  -0.299848  -0.539727   -0.239878\n",
       " 0.066965  -0.0599696   0.992504   -0.037481  -0.0674658  -0.0299848\n",
       " 0.334825  -0.299848   -0.037481    0.812595  -0.337329   -0.149924\n",
       " 0.602685  -0.539727   -0.0674658  -0.337329   0.392808   -0.269863\n",
       " 0.26786   -0.239878   -0.0299848  -0.149924  -0.269863    0.880061"
      ]
     },
     "execution_count": 3,
     "metadata": {},
     "output_type": "execute_result"
    }
   ],
   "source": [
    "z = A[:, 1];\n",
    "v = normalize(z - norm(z) * [1; zeros(m-1)])\n",
    "P₁ = I - 2v * v'   # reflector"
   ]
  },
  {
   "cell_type": "markdown",
   "id": "a1bceb9f",
   "metadata": {},
   "source": [
    "We check that this reflector introduces zeros as it should:"
   ]
  },
  {
   "cell_type": "code",
   "execution_count": 4,
   "id": "e6e46072",
   "metadata": {
    "execution": {
     "iopub.execute_input": "2025-01-14T15:19:42.412000Z",
     "iopub.status.busy": "2025-01-14T15:19:42.411000Z",
     "iopub.status.idle": "2025-01-14T15:19:43.252000Z",
     "shell.execute_reply": "2025-01-14T15:19:43.252000Z"
    }
   },
   "outputs": [
    {
     "data": {
      "text/plain": [
       "6-element Vector{Float64}:\n",
       " 14.933184523068077\n",
       "  1.5543122344752192e-15\n",
       "  1.942890293094024e-16\n",
       "  1.3322676295501878e-15\n",
       "  1.1102230246251565e-15\n",
       "  8.881784197001252e-16"
      ]
     },
     "execution_count": 4,
     "metadata": {},
     "output_type": "execute_result"
    }
   ],
   "source": [
    "P₁ * z"
   ]
  },
  {
   "cell_type": "markdown",
   "id": "58a9fc7b",
   "metadata": {},
   "source": [
    "Now we replace $\\mathbf{A}$ by $\\mathbf{P}\\mathbf{A}$."
   ]
  },
  {
   "cell_type": "code",
   "execution_count": 5,
   "id": "a48ffdb4",
   "metadata": {
    "execution": {
     "iopub.execute_input": "2025-01-14T15:19:43.274000Z",
     "iopub.status.busy": "2025-01-14T15:19:43.274000Z",
     "iopub.status.idle": "2025-01-14T15:19:43.287000Z",
     "shell.execute_reply": "2025-01-14T15:19:43.286000Z"
    }
   },
   "outputs": [
    {
     "data": {
      "text/plain": [
       "6×4 Matrix{Float64}:\n",
       " 14.9332        9.70992    9.30813    14.4644\n",
       "  1.55431e-15  -0.217907   0.455298   -3.16236\n",
       "  1.94289e-16   3.47276    5.18191     4.6047\n",
       "  1.33227e-15   4.36381   -0.0904386  -1.97648\n",
       "  1.11022e-15  -0.745146  -6.36279    -3.55766\n",
       "  8.88178e-16  -0.108954   5.72765     1.41882"
      ]
     },
     "execution_count": 5,
     "metadata": {},
     "output_type": "execute_result"
    }
   ],
   "source": [
    "A = P₁ * A"
   ]
  },
  {
   "cell_type": "markdown",
   "id": "9d67493d",
   "metadata": {},
   "source": [
    "We are set to put zeros into column 2. We must not use row 1 in any way, lest it destroy the zeros we just introduced. So we leave it out of the next reflector."
   ]
  },
  {
   "cell_type": "code",
   "execution_count": 6,
   "id": "a6965ff8",
   "metadata": {
    "execution": {
     "iopub.execute_input": "2025-01-14T15:19:43.290000Z",
     "iopub.status.busy": "2025-01-14T15:19:43.290000Z",
     "iopub.status.idle": "2025-01-14T15:19:43.339000Z",
     "shell.execute_reply": "2025-01-14T15:19:43.339000Z"
    }
   },
   "outputs": [
    {
     "data": {
      "text/plain": [
       "5×5 Matrix{Float64}:\n",
       " -0.0386921   0.616631    0.774847   -0.13231     -0.0193461\n",
       "  0.616631    0.63393    -0.459997    0.0785472    0.011485\n",
       "  0.774847   -0.459997    0.421976    0.0987009    0.0144319\n",
       " -0.13231     0.0785472   0.0987009   0.983146    -0.00246432\n",
       " -0.0193461   0.011485    0.0144319  -0.00246432   0.99964"
      ]
     },
     "execution_count": 6,
     "metadata": {},
     "output_type": "execute_result"
    }
   ],
   "source": [
    "z = A[2:m, 2]\n",
    "v = normalize(z - norm(z) * [1; zeros(m-2)])\n",
    "P₂ = I - 2v * v'"
   ]
  },
  {
   "cell_type": "markdown",
   "id": "75f7cd15",
   "metadata": {},
   "source": [
    "We now apply this reflector to rows 2 and below only."
   ]
  },
  {
   "cell_type": "code",
   "execution_count": 7,
   "id": "dfab8714",
   "metadata": {
    "execution": {
     "iopub.execute_input": "2025-01-14T15:19:43.342000Z",
     "iopub.status.busy": "2025-01-14T15:19:43.342000Z",
     "iopub.status.idle": "2025-01-14T15:19:43.389000Z",
     "shell.execute_reply": "2025-01-14T15:19:43.384000Z"
    }
   },
   "outputs": [
    {
     "data": {
      "text/plain": [
       "6×4 Matrix{Float64}:\n",
       " 14.9332        9.70992       9.30813  14.4644\n",
       "  9.27893e-16   5.63183       3.83869   1.87356\n",
       "  5.6617e-16   -1.00692e-15   3.17332   1.61507\n",
       "  1.79957e-15  -6.74785e-16  -2.61439  -5.73319\n",
       "  1.03043e-15   1.99563e-16  -5.93181  -2.91618\n",
       "  8.76511e-16   2.02104e-17   5.79067   1.51262"
      ]
     },
     "execution_count": 7,
     "metadata": {},
     "output_type": "execute_result"
    }
   ],
   "source": [
    "A[2:m, :] = P₂ * A[2:m, :]\n",
    "A"
   ]
  },
  {
   "cell_type": "markdown",
   "id": "d83342ac",
   "metadata": {},
   "source": [
    "We need to iterate the process for the last two columns."
   ]
  },
  {
   "cell_type": "code",
   "execution_count": 8,
   "id": "ade73267",
   "metadata": {
    "execution": {
     "iopub.execute_input": "2025-01-14T15:19:43.391000Z",
     "iopub.status.busy": "2025-01-14T15:19:43.390000Z",
     "iopub.status.idle": "2025-01-14T15:19:43.473000Z",
     "shell.execute_reply": "2025-01-14T15:19:43.472000Z"
    }
   },
   "outputs": [],
   "source": [
    "for j in 3:n\n",
    "    z = A[j:m, j]\n",
    "    v = normalize(z - norm(z) * [1; zeros(m-j)])\n",
    "    P = I - 2v * v'\n",
    "    A[j:m, :] = P * A[j:m, :]\n",
    "end"
   ]
  },
  {
   "cell_type": "markdown",
   "id": "eb5d1e26",
   "metadata": {},
   "source": [
    "We have now reduced the original to an upper triangular matrix using four orthogonal Householder reflections:"
   ]
  },
  {
   "cell_type": "code",
   "execution_count": 9,
   "id": "166365ec",
   "metadata": {
    "execution": {
     "iopub.execute_input": "2025-01-14T15:19:43.475000Z",
     "iopub.status.busy": "2025-01-14T15:19:43.475000Z",
     "iopub.status.idle": "2025-01-14T15:19:43.481000Z",
     "shell.execute_reply": "2025-01-14T15:19:43.480000Z"
    }
   },
   "outputs": [
    {
     "data": {
      "text/plain": [
       "6×4 Matrix{Float64}:\n",
       " 14.9332  9.70992  9.30813  14.4644\n",
       "  0.0     5.63183  3.83869   1.87356\n",
       "  0.0     0.0      9.25328   4.98971\n",
       "  0.0     0.0      0.0       4.62307\n",
       "  0.0     0.0      0.0       0.0\n",
       "  0.0     0.0      0.0       0.0"
      ]
     },
     "execution_count": 9,
     "metadata": {},
     "output_type": "execute_result"
    }
   ],
   "source": [
    "R = triu(A)"
   ]
  }
 ],
 "metadata": {
  "kernelspec": {
   "display_name": "Julia 1",
   "language": "julia",
   "name": "julia-1.11"
  },
  "language_info": {
   "file_extension": ".jl",
   "mimetype": "application/julia",
   "name": "julia",
   "version": "1.11.2"
  },
  "numbering": {
   "headings": false
  }
 },
 "nbformat": 4,
 "nbformat_minor": 5
}
