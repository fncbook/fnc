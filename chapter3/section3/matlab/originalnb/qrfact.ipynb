{
 "cells": [
  {
   "cell_type": "code",
   "execution_count": 1,
   "id": "1fccf83e",
   "metadata": {
    "tags": [
     "remove-cell"
    ]
   },
   "outputs": [],
   "source": [
    "cd  /Users/driscoll/Documents/GitHub/fnc/matlab\n",
    "FNC_init"
   ]
  },
  {
   "cell_type": "markdown",
   "id": "e4ec4d08",
   "metadata": {},
   "source": [
    "[**Demo %s**](#demo-qr-qrfact)\n",
    "\n",
    "\n",
    "MATLAB provides access to both the thin and full forms of the QR factorization."
   ]
  },
  {
   "cell_type": "code",
   "execution_count": 2,
   "id": "2d556ec7",
   "metadata": {},
   "outputs": [
    {
     "data": {
      "text/html": [
       "<html><body><pre>m = 5</pre></body></html>"
      ],
      "text/plain": [
       "m = 5"
      ]
     },
     "execution_count": 2,
     "metadata": {},
     "output_type": "execute_result"
    },
    {
     "data": {
      "text/html": [
       "<html><body><pre>n = 4</pre></body></html>"
      ],
      "text/plain": [
       "n = 4"
      ]
     },
     "execution_count": 2,
     "metadata": {},
     "output_type": "execute_result"
    }
   ],
   "source": [
    "A = magic(5);\n",
    "A = A(:, 1:4);\n",
    "[m, n] = size(A)"
   ]
  },
  {
   "cell_type": "markdown",
   "id": "7012b139",
   "metadata": {},
   "source": [
    "Here is the full form:"
   ]
  },
  {
   "cell_type": "code",
   "execution_count": 3,
   "id": "8b27fa77",
   "metadata": {},
   "outputs": [
    {
     "data": {
      "text/html": [
       "<html><body><pre>szQ = 1×2 double\n",
       "     5     5\n",
       "</pre></body></html>"
      ],
      "text/plain": [
       "szQ = 1×2 double\n",
       "     5     5\n"
      ]
     },
     "execution_count": 3,
     "metadata": {},
     "output_type": "execute_result"
    },
    {
     "data": {
      "text/html": [
       "<html><body><pre>szR = 1×2 double\n",
       "     5     4\n",
       "</pre></body></html>"
      ],
      "text/plain": [
       "szR = 1×2 double\n",
       "     5     4\n"
      ]
     },
     "execution_count": 3,
     "metadata": {},
     "output_type": "execute_result"
    }
   ],
   "source": [
    "[Q, R] = qr(A);\n",
    "szQ = size(Q), szR = size(R)"
   ]
  },
  {
   "cell_type": "markdown",
   "id": "3edd204f",
   "metadata": {},
   "source": [
    "We can test that $\\mathbf{Q}$ is an orthogonal matrix:"
   ]
  },
  {
   "cell_type": "code",
   "execution_count": 4,
   "id": "34b7a41c",
   "metadata": {},
   "outputs": [
    {
     "data": {
      "text/html": [
       "<html><body><pre>QTQ = 5×5 double\n",
       "    1.0000   -0.0000    0.0000         0    0.0000\n",
       "   -0.0000    1.0000    0.0000   -0.0000    0.0000\n",
       "    0.0000    0.0000    1.0000         0   -0.0000\n",
       "         0   -0.0000         0    1.0000   -0.0000\n",
       "    0.0000    0.0000   -0.0000   -0.0000    1.0000\n",
       "</pre></body></html>"
      ],
      "text/plain": [
       "QTQ = 5×5 double\n",
       "    1.0000   -0.0000    0.0000         0    0.0000\n",
       "   -0.0000    1.0000    0.0000   -0.0000    0.0000\n",
       "    0.0000    0.0000    1.0000         0   -0.0000\n",
       "         0   -0.0000         0    1.0000   -0.0000\n",
       "    0.0000    0.0000   -0.0000   -0.0000    1.0000\n"
      ]
     },
     "execution_count": 4,
     "metadata": {},
     "output_type": "execute_result"
    },
    {
     "data": {
      "text/html": [
       "<html><body><pre>ans = 4.7051e-16</pre></body></html>"
      ],
      "text/plain": [
       "ans = 4.7051e-16"
      ]
     },
     "execution_count": 4,
     "metadata": {},
     "output_type": "execute_result"
    }
   ],
   "source": [
    "QTQ = Q' * Q\n",
    "norm(QTQ - eye(m))"
   ]
  },
  {
   "cell_type": "markdown",
   "id": "a792e4a0",
   "metadata": {},
   "source": [
    "With a second input argument given to `qr`, the thin form is returned. (This is usually the one we want in practice.)"
   ]
  },
  {
   "cell_type": "code",
   "execution_count": 5,
   "id": "6b41200b",
   "metadata": {},
   "outputs": [
    {
     "data": {
      "text/html": [
       "<html><body><pre>szQ_hat = 1×2 double\n",
       "     5     4\n",
       "</pre></body></html>"
      ],
      "text/plain": [
       "szQ_hat = 1×2 double\n",
       "     5     4\n"
      ]
     },
     "execution_count": 5,
     "metadata": {},
     "output_type": "execute_result"
    },
    {
     "data": {
      "text/html": [
       "<html><body><pre>szR_hat = 1×2 double\n",
       "     4     4\n",
       "</pre></body></html>"
      ],
      "text/plain": [
       "szR_hat = 1×2 double\n",
       "     4     4\n"
      ]
     },
     "execution_count": 5,
     "metadata": {},
     "output_type": "execute_result"
    }
   ],
   "source": [
    "[Q_hat, R_hat] = qr(A, 0);\n",
    "szQ_hat = size(Q_hat), szR_hat = size(R_hat)"
   ]
  },
  {
   "cell_type": "markdown",
   "id": "51e332ed",
   "metadata": {},
   "source": [
    "Now $\\hat{\\mathbf{Q}}$ cannot be an orthogonal matrix, because it is not square, but it is still ONC. Mathematically, $\\hat{\\mathbf{Q}}^T \\hat{\\mathbf{Q}}$ is a $4\\times 4$ identity matrix."
   ]
  },
  {
   "cell_type": "code",
   "execution_count": 6,
   "id": "6a47d319",
   "metadata": {},
   "outputs": [
    {
     "data": {
      "text/html": [
       "<html><body><pre>ans = 4×4 double\n",
       "1.0e-15 *\n",
       "\n",
       "   -0.2220   -0.0555    0.0833         0\n",
       "   -0.0555    0.4441    0.0833   -0.0555\n",
       "    0.0833    0.0833   -0.2220         0\n",
       "         0   -0.0555         0         0\n",
       "</pre></body></html>"
      ],
      "text/plain": [
       "ans = 4×4 double\n",
       "1.0e-15 *\n",
       "\n",
       "   -0.2220   -0.0555    0.0833         0\n",
       "   -0.0555    0.4441    0.0833   -0.0555\n",
       "    0.0833    0.0833   -0.2220         0\n",
       "         0   -0.0555         0         0\n"
      ]
     },
     "execution_count": 6,
     "metadata": {},
     "output_type": "execute_result"
    }
   ],
   "source": [
    "Q_hat' * Q_hat - eye(n)"
   ]
  }
 ],
 "metadata": {
  "kernelspec": {
   "display_name": "MATLAB Kernel",
   "language": "matlab",
   "name": "jupyter_matlab_kernel"
  },
  "language_info": {
   "file_extension": ".m",
   "mimetype": "text/x-matlab",
   "name": "matlab"
  },
  "numbering": {
   "headings": false
  }
 },
 "nbformat": 4,
 "nbformat_minor": 5
}
