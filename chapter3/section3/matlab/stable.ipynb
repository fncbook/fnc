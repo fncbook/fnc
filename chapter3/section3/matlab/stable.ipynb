{
 "cells": [
  {
   "cell_type": "code",
   "execution_count": 1,
   "id": "94cbcbd3",
   "metadata": {
    "tags": [
     "remove-cell"
    ]
   },
   "outputs": [],
   "source": [
    "cd  /Users/driscoll/Documents/GitHub/fnc/matlab\n",
    "FNC_init"
   ]
  },
  {
   "cell_type": "markdown",
   "id": "bff9a179",
   "metadata": {},
   "source": [
    "[**Demo %s**](#demo-qr-stable)\n",
    "\n",
    "We'll repeat the experiment of {numref}`Demo {number} <demo-normaleqns-instab>`, which exposed instability in the normal equations."
   ]
  },
  {
   "cell_type": "code",
   "execution_count": 2,
   "id": "c6aaa579",
   "metadata": {},
   "outputs": [],
   "source": [
    "t = linspace(0, 3, 400)';\n",
    "A = [ sin(t).^2, cos((1+1e-7)*t).^2, t.^0 ];\n",
    "x = [1; 2; 1];\n",
    "b = A * x;"
   ]
  },
  {
   "cell_type": "markdown",
   "id": "378bc3a6",
   "metadata": {},
   "source": [
    "The error in the solution by {numref}`Function {number} <function-lsqrfact>` is similar to the bound predicted by the condition number."
   ]
  },
  {
   "cell_type": "code",
   "execution_count": 3,
   "id": "13b34570",
   "metadata": {},
   "outputs": [
    {
     "data": {
      "text/html": [
       "<html><body><pre>observed_error = 8.8581e-10</pre></body></html>"
      ],
      "text/plain": [
       "observed_error = 8.8581e-10"
      ]
     },
     "execution_count": 3,
     "metadata": {},
     "output_type": "execute_result"
    },
    {
     "data": {
      "text/html": [
       "<html><body><pre>error_bound = 4.0530e-09</pre></body></html>"
      ],
      "text/plain": [
       "error_bound = 4.0530e-09"
      ]
     },
     "execution_count": 3,
     "metadata": {},
     "output_type": "execute_result"
    }
   ],
   "source": [
    "observed_error = norm(lsqrfact(A, b) - x) / norm(x)\n",
    "error_bound = cond(A) * eps"
   ]
  }
 ],
 "metadata": {
  "kernelspec": {
   "display_name": "MATLAB Kernel",
   "language": "matlab",
   "name": "jupyter_matlab_kernel"
  },
  "language_info": {
   "file_extension": ".m",
   "mimetype": "text/x-matlab",
   "name": "matlab"
  },
  "numbering": {
   "headings": false
  }
 },
 "nbformat": 4,
 "nbformat_minor": 5
}
