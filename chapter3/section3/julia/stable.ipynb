{
 "cells": [
  {
   "cell_type": "code",
   "execution_count": 1,
   "id": "54f391e5",
   "metadata": {
    "execution": {
     "iopub.execute_input": "2025-01-05T09:46:31.181000Z",
     "iopub.status.busy": "2025-01-05T09:46:30.847000Z",
     "iopub.status.idle": "2025-01-05T09:46:38.265000Z",
     "shell.execute_reply": "2025-01-05T09:46:38.212000Z"
    }
   },
   "outputs": [
    {
     "name": "stderr",
     "output_type": "stream",
     "text": [
      "\u001b[32m\u001b[1m  Activating\u001b[22m\u001b[39m "
     ]
    },
    {
     "name": "stderr",
     "output_type": "stream",
     "text": [
      "project at `~/Documents/GitHub/fnc`\n"
     ]
    }
   ],
   "source": [
    "include(\"../../../julia/FNC_init.jl\")"
   ]
  },
  {
   "cell_type": "markdown",
   "id": "4b6a8188",
   "metadata": {},
   "source": [
    "[**Demo %s**](#demo-qr-stable)\n",
    "\n",
    "We'll repeat the experiment of {numref}`Demo {number} <demo-normaleqns-instab>`, which exposed instability in the normal equations."
   ]
  },
  {
   "cell_type": "code",
   "execution_count": 2,
   "id": "db1d5547",
   "metadata": {
    "execution": {
     "iopub.execute_input": "2025-01-05T09:46:38.473000Z",
     "iopub.status.busy": "2025-01-05T09:46:38.268000Z",
     "iopub.status.idle": "2025-01-05T09:46:38.592000Z",
     "shell.execute_reply": "2025-01-05T09:46:38.592000Z"
    }
   },
   "outputs": [],
   "source": [
    "t = range(0, 3, 400)\n",
    "f = [ x -> sin(x)^2, x -> cos((1 + 1e-7) * x)^2, x -> 1. ]\n",
    "A = [ f(t) for t in t, f in f ]\n",
    "x = [1., 2, 1]\n",
    "b = A * x;"
   ]
  },
  {
   "cell_type": "markdown",
   "id": "0836bf70",
   "metadata": {},
   "source": [
    "The error in the solution by {numref}`Function {number} <function-lsqrfact>` is similar to the bound predicted by the condition number."
   ]
  },
  {
   "cell_type": "code",
   "execution_count": 3,
   "id": "4458d3dc",
   "metadata": {
    "execution": {
     "iopub.execute_input": "2025-01-05T09:46:38.593000Z",
     "iopub.status.busy": "2025-01-05T09:46:38.593000Z",
     "iopub.status.idle": "2025-01-05T09:46:39.200000Z",
     "shell.execute_reply": "2025-01-05T09:46:39.199000Z"
    }
   },
   "outputs": [
    {
     "name": "stdout",
     "output_type": "stream",
     "text": [
      "observed_error = 4.665273501889628e-9"
     ]
    },
    {
     "name": "stdout",
     "output_type": "stream",
     "text": [
      "\n",
      "error_bound = cond(A) * eps() = "
     ]
    },
    {
     "name": "stdout",
     "output_type": "stream",
     "text": [
      "4.053030228488391e-9\n"
     ]
    }
   ],
   "source": [
    "observed_error = norm(FNC.lsqrfact(A, b) - x) / norm(x);\n",
    "@show observed_error;\n",
    "@show error_bound = cond(A) * eps();"
   ]
  }
 ],
 "metadata": {
  "kernelspec": {
   "display_name": "Julia 1",
   "language": "julia",
   "name": "julia-1.11"
  },
  "language_info": {
   "file_extension": ".jl",
   "mimetype": "application/julia",
   "name": "julia",
   "version": "1.11.2"
  },
  "numbering": {
   "headings": false
  }
 },
 "nbformat": 4,
 "nbformat_minor": 5
}
