{
 "cells": [
  {
   "cell_type": "code",
   "execution_count": 1,
   "id": "2d30b48e",
   "metadata": {
    "execution": {
     "iopub.execute_input": "2025-01-05T09:46:12.190000Z",
     "iopub.status.busy": "2025-01-05T09:46:10.737000Z",
     "iopub.status.idle": "2025-01-05T09:46:20.541000Z",
     "shell.execute_reply": "2025-01-05T09:46:20.452000Z"
    }
   },
   "outputs": [
    {
     "name": "stderr",
     "output_type": "stream",
     "text": [
      "\u001b[32m\u001b[1m  Activating\u001b[22m\u001b[39m "
     ]
    },
    {
     "name": "stderr",
     "output_type": "stream",
     "text": [
      "project at `~/Documents/GitHub/fnc`\n"
     ]
    }
   ],
   "source": [
    "include(\"../../../julia/FNC_init.jl\")"
   ]
  },
  {
   "cell_type": "markdown",
   "id": "286014b6",
   "metadata": {},
   "source": [
    "[**Demo %s**](#demo-qr-qrfact)\n",
    "\n",
    "\n",
    "Julia provides access to both the thin and full forms of the QR factorization."
   ]
  },
  {
   "cell_type": "code",
   "execution_count": 2,
   "id": "9dd21f4d",
   "metadata": {
    "execution": {
     "iopub.execute_input": "2025-01-05T09:46:20.754000Z",
     "iopub.status.busy": "2025-01-05T09:46:20.547000Z",
     "iopub.status.idle": "2025-01-05T09:46:21.622000Z",
     "shell.execute_reply": "2025-01-05T09:46:21.621000Z"
    }
   },
   "outputs": [
    {
     "name": "stdout",
     "output_type": "stream",
     "text": [
      "(m, n) = size(A) = (6, 4)"
     ]
    },
    {
     "name": "stdout",
     "output_type": "stream",
     "text": [
      "\n"
     ]
    }
   ],
   "source": [
    "A = rand(1.:9., 6, 4)\n",
    "@show m,n = size(A);"
   ]
  },
  {
   "cell_type": "markdown",
   "id": "4dde16ba",
   "metadata": {},
   "source": [
    "Here is a standard call:"
   ]
  },
  {
   "cell_type": "code",
   "execution_count": 3,
   "id": "26229acc",
   "metadata": {
    "execution": {
     "iopub.execute_input": "2025-01-05T09:46:21.623000Z",
     "iopub.status.busy": "2025-01-05T09:46:21.623000Z",
     "iopub.status.idle": "2025-01-05T09:46:21.917000Z",
     "shell.execute_reply": "2025-01-05T09:46:21.917000Z"
    }
   },
   "outputs": [
    {
     "data": {
      "text/plain": [
       "6×6 LinearAlgebra.QRCompactWYQ{Float64, Matrix{Float64}, Matrix{Float64}}"
      ]
     },
     "execution_count": 3,
     "metadata": {},
     "output_type": "execute_result"
    }
   ],
   "source": [
    "Q,R = qr(A);\n",
    "Q"
   ]
  },
  {
   "cell_type": "code",
   "execution_count": 4,
   "id": "b4ddd0fd",
   "metadata": {
    "execution": {
     "iopub.execute_input": "2025-01-05T09:46:21.919000Z",
     "iopub.status.busy": "2025-01-05T09:46:21.919000Z",
     "iopub.status.idle": "2025-01-05T09:46:23.056000Z",
     "shell.execute_reply": "2025-01-05T09:46:23.055000Z"
    }
   },
   "outputs": [
    {
     "data": {
      "text/plain": [
       "4×4 Matrix{Float64}:\n",
       " -12.3288  -12.4099   -13.951    -9.32773\n",
       "   0.0      -7.21065   -6.77726  -3.36217\n",
       "   0.0       0.0       -5.60689   0.877114\n",
       "   0.0       0.0        0.0      -6.07618"
      ]
     },
     "execution_count": 4,
     "metadata": {},
     "output_type": "execute_result"
    }
   ],
   "source": [
    "R"
   ]
  },
  {
   "cell_type": "markdown",
   "id": "2f532bdd",
   "metadata": {},
   "source": [
    "If you look carefully, you see that we seemingly got a full $\\mathbf{Q}$ but a thin $\\mathbf{R}$. However, the $\\mathbf{Q}$ above is not a standard matrix type. If you convert it to a true matrix, then it reverts to the thin form.\n",
    "```{tip}\n",
    ":class: dropdown\n",
    "To enter the accented character `Q̂`, type `Q\\hat` followed by <kbd>Tab</kbd>.\n",
    "```"
   ]
  },
  {
   "cell_type": "code",
   "execution_count": 5,
   "id": "0a01fa6a",
   "metadata": {
    "execution": {
     "iopub.execute_input": "2025-01-05T09:46:23.058000Z",
     "iopub.status.busy": "2025-01-05T09:46:23.058000Z",
     "iopub.status.idle": "2025-01-05T09:46:23.084000Z",
     "shell.execute_reply": "2025-01-05T09:46:23.084000Z"
    }
   },
   "outputs": [
    {
     "data": {
      "text/plain": [
       "6×4 Matrix{Float64}:\n",
       " -0.0811107  -0.415139    -0.366499  -0.19241\n",
       " -0.0811107  -0.553823     0.692894  -0.127321\n",
       " -0.162221   -0.691594    -0.365573   0.24979\n",
       " -0.567775    0.145071    -0.367785  -0.413795\n",
       " -0.324443    0.00364957   0.26781   -0.617338\n",
       " -0.729996    0.146895     0.212      0.57623"
      ]
     },
     "execution_count": 5,
     "metadata": {},
     "output_type": "execute_result"
    }
   ],
   "source": [
    "Q̂ = Matrix(Q)"
   ]
  },
  {
   "cell_type": "markdown",
   "id": "39af4440",
   "metadata": {},
   "source": [
    "We can test that $\\mathbf{Q}$ is an orthogonal matrix:"
   ]
  },
  {
   "cell_type": "code",
   "execution_count": 6,
   "id": "2d56dcbd",
   "metadata": {
    "execution": {
     "iopub.execute_input": "2025-01-05T09:46:23.086000Z",
     "iopub.status.busy": "2025-01-05T09:46:23.086000Z",
     "iopub.status.idle": "2025-01-05T09:46:23.243000Z",
     "shell.execute_reply": "2025-01-05T09:46:23.243000Z"
    }
   },
   "outputs": [
    {
     "data": {
      "text/plain": [
       "4.955866521734803e-16"
      ]
     },
     "execution_count": 6,
     "metadata": {},
     "output_type": "execute_result"
    }
   ],
   "source": [
    "opnorm(Q' * Q - I)"
   ]
  },
  {
   "cell_type": "markdown",
   "id": "72e119ee",
   "metadata": {},
   "source": [
    "The thin $\\hat{\\mathbf{Q}}$ cannot be an orthogonal matrix, because it is not square, but it is still ONC:"
   ]
  },
  {
   "cell_type": "code",
   "execution_count": 7,
   "id": "faad4207",
   "metadata": {
    "execution": {
     "iopub.execute_input": "2025-01-05T09:46:23.245000Z",
     "iopub.status.busy": "2025-01-05T09:46:23.245000Z",
     "iopub.status.idle": "2025-01-05T09:46:23.253000Z",
     "shell.execute_reply": "2025-01-05T09:46:23.253000Z"
    }
   },
   "outputs": [
    {
     "data": {
      "text/plain": [
       "4×4 Matrix{Float64}:\n",
       " -1.11022e-16  -2.85738e-17  4.71741e-17   1.12442e-16\n",
       " -2.85738e-17   0.0          5.62366e-17  -5.9644e-17\n",
       "  4.71741e-17   5.62366e-17  4.44089e-16   8.12885e-18\n",
       "  1.12442e-16  -5.9644e-17   8.12885e-18  -1.11022e-16"
      ]
     },
     "execution_count": 7,
     "metadata": {},
     "output_type": "execute_result"
    }
   ],
   "source": [
    "Q̂' * Q̂ - I"
   ]
  }
 ],
 "metadata": {
  "kernelspec": {
   "display_name": "Julia 1",
   "language": "julia",
   "name": "julia-1.11"
  },
  "language_info": {
   "file_extension": ".jl",
   "mimetype": "application/julia",
   "name": "julia",
   "version": "1.11.2"
  },
  "numbering": {
   "headings": false
  }
 },
 "nbformat": 4,
 "nbformat_minor": 5
}
