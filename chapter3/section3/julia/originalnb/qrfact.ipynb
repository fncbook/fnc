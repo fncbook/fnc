{
    "cells": [
        {
            "outputs": [
                {
                    "name": "stderr",
                    "output_type": "stream",
                    "text": [
                        "\u001b[32m\u001b[1m  Activating\u001b[22m\u001b[39m "
                    ]
                },
                {
                    "name": "stderr",
                    "output_type": "stream",
                    "text": [
                        "project at `~/Documents/GitHub/fnc`\n"
                    ]
                }
            ],
            "cell_type": "code",
            "source": [
                "include(\"../../../julia/FNC_init.jl\")"
            ],
            "id": "2d30b48e",
            "metadata": {
                "execution": {
                    "iopub.status.idle": "2025-01-14T15:23:52.331000Z",
                    "iopub.status.busy": "2025-01-14T15:22:21.975000Z",
                    "iopub.execute_input": "2025-01-14T15:22:26.644000Z",
                    "shell.execute_reply": "2025-01-14T15:23:50.790000Z"
                },
                "tags": [
                    "remove-cell"
                ]
            },
            "execution_count": 1
        },
        {
            "cell_type": "markdown",
            "source": [
                "[**Demo %s**](#demo-qr-qrfact)\n",
                "\n",
                "\n",
                "Julia provides access to both the thin and full forms of the QR factorization."
            ],
            "id": "286014b6",
            "metadata": {}
        },
        {
            "outputs": [
                {
                    "name": "stdout",
                    "output_type": "stream",
                    "text": [
                        "(m, n) = size(A) = (6, 4)"
                    ]
                },
                {
                    "name": "stdout",
                    "output_type": "stream",
                    "text": [
                        "\n"
                    ]
                }
            ],
            "cell_type": "code",
            "source": [
                "A = rand(1.:9., 6, 4)\n",
                "@show m,n = size(A);"
            ],
            "id": "9dd21f4d",
            "metadata": {
                "execution": {
                    "iopub.status.idle": "2025-01-14T15:24:08.087000Z",
                    "iopub.status.busy": "2025-01-14T15:23:52.370000Z",
                    "iopub.execute_input": "2025-01-14T15:23:55.529000Z",
                    "shell.execute_reply": "2025-01-14T15:24:08.085000Z"
                }
            },
            "execution_count": 2
        },
        {
            "cell_type": "markdown",
            "source": [
                "Here is a standard call:"
            ],
            "id": "4dde16ba",
            "metadata": {}
        },
        {
            "outputs": [
                {
                    "output_type": "execute_result",
                    "data": {
                        "text/plain": [
                            "6×6 LinearAlgebra.QRCompactWYQ{Float64, Matrix{Float64}, Matrix{Float64}}"
                        ]
                    },
                    "metadata": {},
                    "execution_count": 3
                }
            ],
            "cell_type": "code",
            "source": [
                "Q,R = qr(A);\n",
                "Q"
            ],
            "id": "26229acc",
            "metadata": {
                "execution": {
                    "iopub.status.idle": "2025-01-14T15:24:12.534000Z",
                    "iopub.status.busy": "2025-01-14T15:24:08.099000Z",
                    "iopub.execute_input": "2025-01-14T15:24:08.100000Z",
                    "shell.execute_reply": "2025-01-14T15:24:12.479000Z"
                }
            },
            "execution_count": 3
        },
        {
            "outputs": [
                {
                    "output_type": "execute_result",
                    "data": {
                        "text/plain": [
                            "4×4 Matrix{Float64}:\n",
                            " -14.6629  -9.88892  -11.3211   -14.7993\n",
                            "   0.0      5.4963     2.73757   -0.609289\n",
                            "   0.0      0.0        4.72634    2.77674\n",
                            "   0.0      0.0        0.0       -4.78538"
                        ]
                    },
                    "metadata": {},
                    "execution_count": 4
                }
            ],
            "cell_type": "code",
            "source": [
                "R"
            ],
            "id": "b4ddd0fd",
            "metadata": {
                "execution": {
                    "iopub.status.idle": "2025-01-14T15:24:26.552000Z",
                    "iopub.status.busy": "2025-01-14T15:24:12.545000Z",
                    "iopub.execute_input": "2025-01-14T15:24:12.546000Z",
                    "shell.execute_reply": "2025-01-14T15:24:26.551000Z"
                }
            },
            "execution_count": 4
        },
        {
            "cell_type": "markdown",
            "source": [
                "If you look carefully, you see that we seemingly got a full $\\mathbf{Q}$ but a thin $\\mathbf{R}$. However, the $\\mathbf{Q}$ above is not a standard matrix type. If you convert it to a true matrix, then it reverts to the thin form.\n",
                "```{tip}\n",
                ":class: dropdown\n",
                "To enter the accented character `Q̂`, type `Q\\hat` followed by <kbd>Tab</kbd>.\n",
                "```"
            ],
            "id": "2f532bdd",
            "metadata": {}
        },
        {
            "outputs": [
                {
                    "output_type": "execute_result",
                    "data": {
                        "text/plain": [
                            "6×4 Matrix{Float64}:\n",
                            " -0.204598   0.35965      0.782668   0.414186\n",
                            " -0.613795  -0.194634    -0.2996     0.077402\n",
                            " -0.409197   0.173478    -0.234318   0.271551\n",
                            " -0.204598  -0.00423118   0.358693  -0.830345\n",
                            " -0.545595  -0.435811     0.215033  -0.0131558\n",
                            " -0.272798   0.782768    -0.260509  -0.24305"
                        ]
                    },
                    "metadata": {},
                    "execution_count": 5
                }
            ],
            "cell_type": "code",
            "source": [
                "Q̂ = Matrix(Q)"
            ],
            "id": "0a01fa6a",
            "metadata": {
                "execution": {
                    "iopub.status.idle": "2025-01-14T15:24:26.996000Z",
                    "iopub.status.busy": "2025-01-14T15:24:26.572000Z",
                    "iopub.execute_input": "2025-01-14T15:24:26.573000Z",
                    "shell.execute_reply": "2025-01-14T15:24:26.996000Z"
                }
            },
            "execution_count": 5
        },
        {
            "cell_type": "markdown",
            "source": [
                "We can test that $\\mathbf{Q}$ is an orthogonal matrix:"
            ],
            "id": "39af4440",
            "metadata": {}
        },
        {
            "outputs": [
                {
                    "output_type": "execute_result",
                    "data": {
                        "text/plain": [
                            "7.342801647515658e-16"
                        ]
                    },
                    "metadata": {},
                    "execution_count": 6
                }
            ],
            "cell_type": "code",
            "source": [
                "opnorm(Q' * Q - I)"
            ],
            "id": "2d56dcbd",
            "metadata": {
                "execution": {
                    "iopub.status.idle": "2025-01-14T15:24:28.678000Z",
                    "iopub.status.busy": "2025-01-14T15:24:26.999000Z",
                    "iopub.execute_input": "2025-01-14T15:24:26.999000Z",
                    "shell.execute_reply": "2025-01-14T15:24:28.676000Z"
                }
            },
            "execution_count": 6
        },
        {
            "cell_type": "markdown",
            "source": [
                "The thin $\\hat{\\mathbf{Q}}$ cannot be an orthogonal matrix, because it is not square, but it is still ONC:"
            ],
            "id": "72e119ee",
            "metadata": {}
        },
        {
            "outputs": [
                {
                    "output_type": "execute_result",
                    "data": {
                        "text/plain": [
                            "4×4 Matrix{Float64}:\n",
                            "  4.44089e-16   2.60887e-17  -2.69778e-16  -1.23647e-16\n",
                            "  2.60887e-17   0.0          -3.49859e-17   2.38519e-17\n",
                            " -2.69778e-16  -3.49859e-17   2.22045e-16   9.57486e-17\n",
                            " -1.23647e-16   2.38519e-17   9.57486e-17   2.22045e-16"
                        ]
                    },
                    "metadata": {},
                    "execution_count": 7
                }
            ],
            "cell_type": "code",
            "source": [
                "Q̂' * Q̂ - I"
            ],
            "id": "faad4207",
            "metadata": {
                "execution": {
                    "iopub.status.idle": "2025-01-14T15:24:28.780000Z",
                    "iopub.status.busy": "2025-01-14T15:24:28.680000Z",
                    "iopub.execute_input": "2025-01-14T15:24:28.680000Z",
                    "shell.execute_reply": "2025-01-14T15:24:28.742000Z"
                }
            },
            "execution_count": 7
        }
    ],
    "nbformat_minor": 5,
    "metadata": {
        "language_info": {
            "file_extension": ".jl",
            "mimetype": "application/julia",
            "name": "julia",
            "version": "1.11.2"
        },
        "kernelspec": {
            "name": "julia-1.11",
            "display_name": "Julia 1",
            "language": "julia"
        },
        "numbering": {
            "headings": false
        }
    },
    "nbformat": 4
}
