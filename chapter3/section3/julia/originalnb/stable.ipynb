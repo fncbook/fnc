{
    "cells": [
        {
            "outputs": [
                {
                    "name": "stderr",
                    "output_type": "stream",
                    "text": [
                        "\u001b[32m\u001b[1m  Activating\u001b[22m\u001b[39m "
                    ]
                },
                {
                    "name": "stderr",
                    "output_type": "stream",
                    "text": [
                        "project at `~/Documents/GitHub/fnc`\n"
                    ]
                }
            ],
            "cell_type": "code",
            "source": [
                "include(\"../../../julia/FNC_init.jl\")"
            ],
            "id": "54f391e5",
            "metadata": {
                "execution": {
                    "iopub.status.idle": "2025-01-14T15:21:50.136000Z",
                    "iopub.status.busy": "2025-01-14T15:21:23.833000Z",
                    "iopub.execute_input": "2025-01-14T15:21:25.356000Z",
                    "shell.execute_reply": "2025-01-14T15:21:50.022000Z"
                },
                "tags": [
                    "remove-cell"
                ]
            },
            "execution_count": 1
        },
        {
            "cell_type": "markdown",
            "source": [
                "[**Demo %s**](#demo-qr-stable)\n",
                "\n",
                "We'll repeat the experiment of {numref}`Demo {number} <demo-normaleqns-instab>`, which exposed instability in the normal equations."
            ],
            "id": "4b6a8188",
            "metadata": {}
        },
        {
            "outputs": [],
            "cell_type": "code",
            "source": [
                "t = range(0, 3, 400)\n",
                "f = [ x -> sin(x)^2, x -> cos((1 + 1e-7) * x)^2, x -> 1. ]\n",
                "A = [ f(t) for t in t, f in f ]\n",
                "x = [1., 2, 1]\n",
                "b = A * x;"
            ],
            "id": "db1d5547",
            "metadata": {
                "execution": {
                    "iopub.status.idle": "2025-01-14T15:21:50.762000Z",
                    "iopub.status.busy": "2025-01-14T15:21:50.142000Z",
                    "iopub.execute_input": "2025-01-14T15:21:50.498000Z",
                    "shell.execute_reply": "2025-01-14T15:21:50.762000Z"
                }
            },
            "execution_count": 2
        },
        {
            "cell_type": "markdown",
            "source": [
                "The error in the solution by {numref}`Function {number} <function-lsqrfact>` is similar to the bound predicted by the condition number."
            ],
            "id": "0836bf70",
            "metadata": {}
        },
        {
            "outputs": [
                {
                    "name": "stdout",
                    "output_type": "stream",
                    "text": [
                        "observed_error = 4.665273501889628e-9"
                    ]
                },
                {
                    "name": "stdout",
                    "output_type": "stream",
                    "text": [
                        "\n",
                        "error_bound = cond(A) * eps() = "
                    ]
                },
                {
                    "name": "stdout",
                    "output_type": "stream",
                    "text": [
                        "4.053030228488391e-9\n"
                    ]
                }
            ],
            "cell_type": "code",
            "source": [
                "observed_error = norm(FNC.lsqrfact(A, b) - x) / norm(x);\n",
                "@show observed_error;\n",
                "@show error_bound = cond(A) * eps();"
            ],
            "id": "4458d3dc",
            "metadata": {
                "execution": {
                    "iopub.status.idle": "2025-01-14T15:21:52.830000Z",
                    "iopub.status.busy": "2025-01-14T15:21:50.765000Z",
                    "iopub.execute_input": "2025-01-14T15:21:50.765000Z",
                    "shell.execute_reply": "2025-01-14T15:21:52.830000Z"
                }
            },
            "execution_count": 3
        }
    ],
    "nbformat_minor": 5,
    "metadata": {
        "language_info": {
            "file_extension": ".jl",
            "mimetype": "application/julia",
            "name": "julia",
            "version": "1.11.2"
        },
        "kernelspec": {
            "name": "julia-1.11",
            "display_name": "Julia 1",
            "language": "julia"
        },
        "numbering": {
            "headings": false
        }
    },
    "nbformat": 4
}
