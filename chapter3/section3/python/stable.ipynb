{
 "cells": [
  {
   "cell_type": "code",
   "execution_count": 4,
   "id": "ac9216ef",
   "metadata": {
    "tags": [
     "remove-cell"
    ]
   },
   "outputs": [],
   "source": [
    "exec(open(\"../../../python/FNC_init.py\").read())"
   ]
  },
  {
   "cell_type": "markdown",
   "id": "a4aedb89",
   "metadata": {},
   "source": [
    "[**Demo %s**](#demo-qr-stable)\n",
    "\n",
    "We'll repeat the experiment of {numref}`Demo {number} <demo-normaleqns-instab>`, which exposed instability in the normal equations."
   ]
  },
  {
   "cell_type": "code",
   "execution_count": 5,
   "id": "8a2c36c1",
   "metadata": {},
   "outputs": [],
   "source": [
    "t = linspace(0, 3, 400)\n",
    "A = array([ [sin(t)**2, cos((1+1e-7)*t)**2, 1] for t in t ])\n",
    "x = array([1, 2, 1])\n",
    "b = A @ x"
   ]
  },
  {
   "cell_type": "markdown",
   "id": "7d0b1c26",
   "metadata": {},
   "source": [
    "The error in the solution by {numref}`Function {number} <function-lsqrfact>` is similar to the bound predicted by the condition number."
   ]
  },
  {
   "cell_type": "code",
   "execution_count": 6,
   "id": "708ded3d",
   "metadata": {},
   "outputs": [
    {
     "name": "stdout",
     "output_type": "stream",
     "text": [
      "observed error: 2.518e-09\n",
      "conditioning bound: 4.053e-09\n"
     ]
    }
   ],
   "source": [
    "from numpy.linalg import norm, cond\n",
    "print(f\"observed error: {norm(FNC.lsqrfact(A, b) - x) / norm(x):.3e}\")\n",
    "print(f\"conditioning bound: {cond(A) * finfo(float).eps:.3e}\")"
   ]
  }
 ],
 "metadata": {
  "kernelspec": {
   "display_name": "myst",
   "language": "python",
   "name": "python3"
  },
  "language_info": {
   "codemirror_mode": {
    "name": "ipython",
    "version": 3
   },
   "file_extension": ".py",
   "mimetype": "text/x-python",
   "name": "python",
   "nbconvert_exporter": "python",
   "pygments_lexer": "ipython3",
   "version": "3.13.0"
  },
  "numbering": {
   "headings": false
  }
 },
 "nbformat": 4,
 "nbformat_minor": 5
}
