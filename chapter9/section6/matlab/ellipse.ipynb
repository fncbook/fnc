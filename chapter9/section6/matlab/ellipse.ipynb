{
    "cells": [
        {
            "cell_type": "markdown",
            "source": [
                "[**Demo %s**](#demo-integration-ellipse)"
            ],
            "id": "02b30398",
            "metadata": {}
        },
        {
            "outputs": [
                {
                    "name": "stdout",
                    "output_type": "stream",
                    "text": [
                        "    number of nodes       perimeter               error        \n",
                        "    _______________    ________________    ____________________\n",
                        "\n",
                        "           4           4.71238898038469       0.131835129889071\n",
                        "           8           4.83984155664137     0.00438255363239115\n",
                        "          12           4.84397070699574     0.00025340327802148\n",
                        "          16           4.84420619509697    1.79151767873975e-05\n",
                        "          20           4.84422270295636    1.40731740483346e-06\n",
                        "          24           4.84422399226142    1.18012335903472e-07\n",
                        "          28           4.84422409992693    1.03468327239398e-08\n",
                        "          32           4.84422410933683    9.36931421335885e-10\n",
                        "          36           4.84422411018687    8.68887184424239e-11\n",
                        "          40           4.84422411026561    8.14992517916835e-12\n",
                        "          44           4.84422411027305    7.14095449438901e-13\n",
                        "          48           4.84422411027376                       0\n",
                        "\n"
                    ]
                }
            ],
            "cell_type": "code",
            "source": [
                "f = @(t) pi * sqrt( cos(pi*t).^2 + sin(pi*t).^2 / 4 );\n",
                "N = (4:4:48)';\n",
                "perim = zeros(size(N));\n",
                "for k = 1:length(N)\n",
                "    h = 2 / N(k);\n",
                "    t = h * (0:N(k)-1);\n",
                "    perim(k) = h * sum(f(t));\n",
                "end\n",
                "err = abs(perim - perim(end));    % use last value as \"exact\"\n",
                "format long\n",
                "disp(table(N, perim, err, variableNames=[\"number of nodes\", \"perimeter\", \"error\"]))"
            ],
            "id": "887eb3c1",
            "metadata": {},
            "execution_count": 2
        },
        {
            "cell_type": "markdown",
            "source": [
                "The approximations gain about one digit of accuracy for each constant increment of $n$, which is consistent with spectral convergence."
            ],
            "id": "e52e048c",
            "metadata": {}
        }
    ],
    "nbformat_minor": 5,
    "metadata": {
        "language_info": {
            "file_extension": ".m",
            "mimetype": "text/x-matlab",
            "name": "matlab"
        },
        "kernelspec": {
            "name": "jupyter_matlab_kernel",
            "display_name": "MATLAB Kernel",
            "language": "matlab"
        },
        "numbering": {
            "headings": false
        }
    },
    "nbformat": 4
}
