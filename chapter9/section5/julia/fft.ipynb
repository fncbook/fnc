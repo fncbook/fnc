{
 "cells": [
  {
   "cell_type": "code",
   "execution_count": 1,
   "id": "2c7982d2",
   "metadata": {
    "execution": {
     "iopub.execute_input": "2025-01-05T14:17:12.011000Z",
     "iopub.status.busy": "2025-01-05T14:17:11.687000Z",
     "iopub.status.idle": "2025-01-05T14:17:18.983000Z",
     "shell.execute_reply": "2025-01-05T14:17:18.927000Z"
    },
    "tags": [
     "remove-cell"
    ]
   },
   "outputs": [
    {
     "name": "stderr",
     "output_type": "stream",
     "text": [
      "\u001b[32m\u001b[1m  Activating\u001b[22m\u001b[39m "
     ]
    },
    {
     "name": "stderr",
     "output_type": "stream",
     "text": [
      "project at `~/Documents/GitHub/fnc`\n"
     ]
    }
   ],
   "source": [
    "include(\"../../../julia/FNC_init.jl\")"
   ]
  },
  {
   "cell_type": "markdown",
   "id": "2e11eb65",
   "metadata": {},
   "source": [
    "[**Demo %s**](#demo-trig-fft)\n",
    "\n",
    "This function has frequency content at $2\\pi$, $-2\\pi$, and $\\pi$."
   ]
  },
  {
   "cell_type": "code",
   "execution_count": 2,
   "id": "f1583175",
   "metadata": {
    "execution": {
     "iopub.execute_input": "2025-01-05T14:17:19.182000Z",
     "iopub.status.busy": "2025-01-05T14:17:18.984000Z",
     "iopub.status.idle": "2025-01-05T14:17:19.904000Z",
     "shell.execute_reply": "2025-01-05T14:17:19.903000Z"
    }
   },
   "outputs": [
    {
     "data": {
      "text/plain": [
       "f (generic function with 1 method)"
      ]
     },
     "execution_count": 2,
     "metadata": {},
     "output_type": "execute_result"
    }
   ],
   "source": [
    "f(x) = 3 * cospi(2x) - cispi(x)    # cispi(x) := exp(1im * π * x)"
   ]
  },
  {
   "cell_type": "markdown",
   "id": "0496d7e4",
   "metadata": {},
   "source": [
    "To use `fft`, we set up nodes in the interval $[0,2)$."
   ]
  },
  {
   "cell_type": "code",
   "execution_count": 3,
   "id": "02af29b6",
   "metadata": {
    "execution": {
     "iopub.execute_input": "2025-01-05T14:17:19.915000Z",
     "iopub.status.busy": "2025-01-05T14:17:19.915000Z",
     "iopub.status.idle": "2025-01-05T14:17:19.994000Z",
     "shell.execute_reply": "2025-01-05T14:17:19.994000Z"
    }
   },
   "outputs": [],
   "source": [
    "n = 4;  N = 2n+1;\n",
    "t = [ 2j / N for j in 0:N-1 ]      # nodes in [0,2)\n",
    "y = f.(t);"
   ]
  },
  {
   "cell_type": "markdown",
   "id": "d21ee39f",
   "metadata": {},
   "source": [
    "We perform Fourier analysis using `fft` and then examine the resulting coefficients."
   ]
  },
  {
   "cell_type": "code",
   "execution_count": 4,
   "id": "bf117967",
   "metadata": {
    "execution": {
     "iopub.execute_input": "2025-01-05T14:17:19.996000Z",
     "iopub.status.busy": "2025-01-05T14:17:19.996000Z",
     "iopub.status.idle": "2025-01-05T14:17:22.986000Z",
     "shell.execute_reply": "2025-01-05T14:17:22.986000Z"
    }
   },
   "outputs": [
    {
     "data": {
      "text/html": [
       "<table>\n",
       "  <thead>\n",
       "    <tr class = \"header headerLastRow\">\n",
       "      <th style = \"text-align: right;\">k</th>\n",
       "      <th style = \"text-align: right;\">coefficient</th>\n",
       "    </tr>\n",
       "  </thead>\n",
       "  <tbody>\n",
       "    <tr>\n",
       "      <td style = \"text-align: right;\">0.0+0.0im</td>\n",
       "      <td style = \"text-align: right;\">-2.4672e-16+1.2336e-17im</td>\n",
       "    </tr>\n",
       "    <tr>\n",
       "      <td style = \"text-align: right;\">1.0+0.0im</td>\n",
       "      <td style = \"text-align: right;\">-1.0+1.166e-16im</td>\n",
       "    </tr>\n",
       "    <tr>\n",
       "      <td style = \"text-align: right;\">2.0+0.0im</td>\n",
       "      <td style = \"text-align: right;\">1.5-4.517e-16im</td>\n",
       "    </tr>\n",
       "    <tr>\n",
       "      <td style = \"text-align: right;\">3.0+0.0im</td>\n",
       "      <td style = \"text-align: right;\">1.4396e-16-2.1411e-16im</td>\n",
       "    </tr>\n",
       "    <tr>\n",
       "      <td style = \"text-align: right;\">4.0+0.0im</td>\n",
       "      <td style = \"text-align: right;\">4.1401e-16+1.0977e-16im</td>\n",
       "    </tr>\n",
       "    <tr>\n",
       "      <td style = \"text-align: right;\">-4.0+0.0im</td>\n",
       "      <td style = \"text-align: right;\">3.1532e-16-1.2372e-16im</td>\n",
       "    </tr>\n",
       "    <tr>\n",
       "      <td style = \"text-align: right;\">-3.0+0.0im</td>\n",
       "      <td style = \"text-align: right;\">2.5079e-16+1.2775e-16im</td>\n",
       "    </tr>\n",
       "    <tr>\n",
       "      <td style = \"text-align: right;\">-2.0+0.0im</td>\n",
       "      <td style = \"text-align: right;\">1.5+4.7022e-16im</td>\n",
       "    </tr>\n",
       "    <tr>\n",
       "      <td style = \"text-align: right;\">-1.0+0.0im</td>\n",
       "      <td style = \"text-align: right;\">9.8686e-17-1.467e-17im</td>\n",
       "    </tr>\n",
       "  </tbody>\n",
       "</table>\n"
      ]
     },
     "metadata": {},
     "output_type": "display_data"
    }
   ],
   "source": [
    "using FFTW\n",
    "c = fft(y) / N\n",
    "freq = [0:n; -n:-1]\n",
    "@pt :header=[\"k\", \"coefficient\"] [freq round.(c, sigdigits=5)]"
   ]
  },
  {
   "cell_type": "markdown",
   "id": "25b9eae6",
   "metadata": {},
   "source": [
    "Note that $1.5 e^{2i\\pi x}+1.5 e^{-2i\\pi x} = 3 \\cos(2\\pi x)$, so this result is sensible.\n",
    "\n",
    "Fourier's greatest contribution to mathematics was to point out that *every* periodic function is just a combination of frequencies—infinitely many of them in general, but truncated for computational use. Here we look at the magnitudes of the coefficients for $f(x) = \\exp( \\sin(\\pi x) )$."
   ]
  },
  {
   "cell_type": "code",
   "execution_count": 5,
   "id": "003518c3",
   "metadata": {
    "execution": {
     "iopub.execute_input": "2025-01-05T14:17:22.993000Z",
     "iopub.status.busy": "2025-01-05T14:17:22.993000Z",
     "iopub.status.idle": "2025-01-05T14:17:29.418000Z",
     "shell.execute_reply": "2025-01-05T14:17:29.417000Z"
    },
    "tags": [
     "hide-input"
    ]
   },
   "outputs": [
    {
     "data": {
      "image/png": "[encoded data removed]",
      "image/svg+xml": [
       "<?xml version=\"1.0\" encoding=\"utf-8\"?>\n",
       "<svg xmlns=\"http://www.w3.org/2000/svg\" xmlns:xlink=\"http://www.w3.org/1999/xlink\" width=\"500\" height=\"320\" viewBox=\"0 0 2000 1280\">\n",
       "<defs>\n",
       "  <clipPath id=\"clip210\">\n",
       "    <rect x=\"0\" y=\"0\" width=\"2000\" height=\"1280\"/>\n",
       "  </clipPath>\n",
       "</defs>\n",
       "<path clip-path=\"url(#clip210)\" d=\"M0 1280 L2000 1280 L2000 0 L0 0  Z\" fill=\"#ffffff\" fill-rule=\"evenodd\" fill-opacity=\"1\"/>\n",
       "<defs>\n",
       "  <clipPath id=\"clip211\">\n",
       "    <rect x=\"400\" y=\"0\" width=\"1401\" height=\"1280\"/>\n",
       "  </clipPath>\n",
       "</defs>\n",
       "<path clip-path=\"url(#clip210)\" d=\"M244.304 1111.02 L1952.76 1111.02 L1952.76 107.256 L244.304 107.256  Z\" fill=\"#ffffff\" fill-rule=\"evenodd\" fill-opacity=\"1\"/>\n",
       "<defs>\n",
       "  <clipPath id=\"clip212\">\n",
       "    <rect x=\"244\" y=\"107\" width=\"1709\" height=\"1005\"/>\n",
       "  </clipPath>\n",
       "</defs>\n",
       "<polyline clip-path=\"url(#clip212)\" style=\"stroke:#000000; stroke-linecap:round; stroke-linejoin:round; stroke-width:2; stroke-opacity:0.1; fill:none\" points=\"244.304,1111.02 244.304,107.256 \"/>\n",
       "<polyline clip-path=\"url(#clip212)\" style=\"stroke:#000000; stroke-linecap:round; stroke-linejoin:round; stroke-width:2; stroke-opacity:0.1; fill:none\" points=\"529.046,1111.02 529.046,107.256 \"/>\n",
       "<polyline clip-path=\"url(#clip212)\" style=\"stroke:#000000; stroke-linecap:round; stroke-linejoin:round; stroke-width:2; stroke-opacity:0.1; fill:none\" points=\"813.788,1111.02 813.788,107.256 \"/>\n",
       "<polyline clip-path=\"url(#clip212)\" style=\"stroke:#000000; stroke-linecap:round; stroke-linejoin:round; stroke-width:2; stroke-opacity:0.1; fill:none\" points=\"1098.53,1111.02 1098.53,107.256 \"/>\n",
       "<polyline clip-path=\"url(#clip212)\" style=\"stroke:#000000; stroke-linecap:round; stroke-linejoin:round; stroke-width:2; stroke-opacity:0.1; fill:none\" points=\"1383.27,1111.02 1383.27,107.256 \"/>\n",
       "<polyline clip-path=\"url(#clip212)\" style=\"stroke:#000000; stroke-linecap:round; stroke-linejoin:round; stroke-width:2; stroke-opacity:0.1; fill:none\" points=\"1668.01,1111.02 1668.01,107.256 \"/>\n",
       "<polyline clip-path=\"url(#clip212)\" style=\"stroke:#000000; stroke-linecap:round; stroke-linejoin:round; stroke-width:2; stroke-opacity:0.1; fill:none\" points=\"1952.76,1111.02 1952.76,107.256 \"/>\n",
       "<polyline clip-path=\"url(#clip212)\" style=\"stroke:#000000; stroke-linecap:round; stroke-linejoin:round; stroke-width:2; stroke-opacity:0.1; fill:none\" points=\"244.304,713.618 1952.76,713.618 \"/>\n",
       "<polyline clip-path=\"url(#clip212)\" style=\"stroke:#000000; stroke-linecap:round; stroke-linejoin:round; stroke-width:2; stroke-opacity:0.1; fill:none\" points=\"244.304,147.269 1952.76,147.269 \"/>\n",
       "<polyline clip-path=\"url(#clip210)\" style=\"stroke:#000000; stroke-linecap:round; stroke-linejoin:round; stroke-width:4; stroke-opacity:1; fill:none\" points=\"244.304,1111.02 1952.76,1111.02 \"/>\n",
       "<polyline clip-path=\"url(#clip210)\" style=\"stroke:#000000; stroke-linecap:round; stroke-linejoin:round; stroke-width:4; stroke-opacity:1; fill:none\" points=\"244.304,1111.02 244.304,1092.12 \"/>\n",
       "<polyline clip-path=\"url(#clip210)\" style=\"stroke:#000000; stroke-linecap:round; stroke-linejoin:round; stroke-width:4; stroke-opacity:1; fill:none\" points=\"529.046,1111.02 529.046,1092.12 \"/>\n",
       "<polyline clip-path=\"url(#clip210)\" style=\"stroke:#000000; stroke-linecap:round; stroke-linejoin:round; stroke-width:4; stroke-opacity:1; fill:none\" points=\"813.788,1111.02 813.788,1092.12 \"/>\n",
       "<polyline clip-path=\"url(#clip210)\" style=\"stroke:#000000; stroke-linecap:round; stroke-linejoin:round; stroke-width:4; stroke-opacity:1; fill:none\" points=\"1098.53,1111.02 1098.53,1092.12 \"/>\n",
       "<polyline clip-path=\"url(#clip210)\" style=\"stroke:#000000; stroke-linecap:round; stroke-linejoin:round; stroke-width:4; stroke-opacity:1; fill:none\" points=\"1383.27,1111.02 1383.27,1092.12 \"/>\n",
       "<polyline clip-path=\"url(#clip210)\" style=\"stroke:#000000; stroke-linecap:round; stroke-linejoin:round; stroke-width:4; stroke-opacity:1; fill:none\" points=\"1668.01,1111.02 1668.01,1092.12 \"/>\n",
       "<polyline clip-path=\"url(#clip210)\" style=\"stroke:#000000; stroke-linecap:round; stroke-linejoin:round; stroke-width:4; stroke-opacity:1; fill:none\" points=\"1952.76,1111.02 1952.76,1092.12 \"/>\n",
       "<path clip-path=\"url(#clip210)\" d=\"M213.54 1153.39 L243.216 1153.39 L243.216 1157.33 L213.54 1157.33 L213.54 1153.39 Z\" fill=\"#000000\" fill-rule=\"nonzero\" fill-opacity=\"1\" /><path clip-path=\"url(#clip210)\" d=\"M253.447 1169.5 L253.447 1165.24 Q255.207 1166.07 257.012 1166.51 Q258.818 1166.95 260.554 1166.95 Q265.184 1166.95 267.614 1163.85 Q270.068 1160.73 270.415 1154.39 Q269.072 1156.38 267.012 1157.44 Q264.952 1158.51 262.452 1158.51 Q257.267 1158.51 254.235 1155.38 Q251.225 1152.23 251.225 1146.79 Q251.225 1141.47 254.373 1138.25 Q257.522 1135.03 262.753 1135.03 Q268.748 1135.03 271.896 1139.64 Q275.068 1144.22 275.068 1152.97 Q275.068 1161.14 271.179 1166.03 Q267.313 1170.89 260.762 1170.89 Q259.003 1170.89 257.197 1170.54 Q255.392 1170.2 253.447 1169.5 M262.753 1154.85 Q265.901 1154.85 267.73 1152.7 Q269.582 1150.54 269.582 1146.79 Q269.582 1143.07 267.73 1140.91 Q265.901 1138.74 262.753 1138.74 Q259.605 1138.74 257.753 1140.91 Q255.924 1143.07 255.924 1146.79 Q255.924 1150.54 257.753 1152.7 Q259.605 1154.85 262.753 1154.85 Z\" fill=\"#000000\" fill-rule=\"nonzero\" fill-opacity=\"1\" /><path clip-path=\"url(#clip210)\" d=\"M498.109 1153.39 L527.784 1153.39 L527.784 1157.33 L498.109 1157.33 L498.109 1153.39 Z\" fill=\"#000000\" fill-rule=\"nonzero\" fill-opacity=\"1\" /><path clip-path=\"url(#clip210)\" d=\"M548.456 1151.08 Q545.307 1151.08 543.456 1153.23 Q541.627 1155.38 541.627 1159.13 Q541.627 1162.86 543.456 1165.03 Q545.307 1167.19 548.456 1167.19 Q551.604 1167.19 553.432 1165.03 Q555.284 1162.86 555.284 1159.13 Q555.284 1155.38 553.432 1153.23 Q551.604 1151.08 548.456 1151.08 M557.738 1136.42 L557.738 1140.68 Q555.979 1139.85 554.173 1139.41 Q552.391 1138.97 550.632 1138.97 Q546.002 1138.97 543.548 1142.09 Q541.118 1145.22 540.77 1151.54 Q542.136 1149.52 544.196 1148.46 Q546.257 1147.37 548.733 1147.37 Q553.942 1147.37 556.951 1150.54 Q559.983 1153.69 559.983 1159.13 Q559.983 1164.45 556.835 1167.67 Q553.687 1170.89 548.456 1170.89 Q542.46 1170.89 539.289 1166.31 Q536.118 1161.7 536.118 1152.97 Q536.118 1144.78 540.007 1139.92 Q543.895 1135.03 550.446 1135.03 Q552.206 1135.03 553.988 1135.38 Q555.794 1135.73 557.738 1136.42 Z\" fill=\"#000000\" fill-rule=\"nonzero\" fill-opacity=\"1\" /><path clip-path=\"url(#clip210)\" d=\"M783.256 1153.39 L812.931 1153.39 L812.931 1157.33 L783.256 1157.33 L783.256 1153.39 Z\" fill=\"#000000\" fill-rule=\"nonzero\" fill-opacity=\"1\" /><path clip-path=\"url(#clip210)\" d=\"M837.191 1151.58 Q840.547 1152.3 842.422 1154.57 Q844.32 1156.84 844.32 1160.17 Q844.32 1165.29 840.802 1168.09 Q837.283 1170.89 830.802 1170.89 Q828.626 1170.89 826.311 1170.45 Q824.019 1170.03 821.566 1169.18 L821.566 1164.66 Q823.51 1165.8 825.825 1166.38 Q828.14 1166.95 830.663 1166.95 Q835.061 1166.95 837.353 1165.22 Q839.667 1163.48 839.667 1160.17 Q839.667 1157.12 837.515 1155.4 Q835.385 1153.67 831.566 1153.67 L827.538 1153.67 L827.538 1149.83 L831.751 1149.83 Q835.2 1149.83 837.029 1148.46 Q838.857 1147.07 838.857 1144.48 Q838.857 1141.82 836.959 1140.4 Q835.084 1138.97 831.566 1138.97 Q829.644 1138.97 827.445 1139.39 Q825.246 1139.8 822.607 1140.68 L822.607 1136.51 Q825.269 1135.77 827.584 1135.4 Q829.922 1135.03 831.982 1135.03 Q837.306 1135.03 840.408 1137.46 Q843.51 1139.87 843.51 1143.99 Q843.51 1146.86 841.867 1148.85 Q840.223 1150.82 837.191 1151.58 Z\" fill=\"#000000\" fill-rule=\"nonzero\" fill-opacity=\"1\" /><path clip-path=\"url(#clip210)\" d=\"M1098.53 1138.74 Q1094.92 1138.74 1093.09 1142.3 Q1091.28 1145.84 1091.28 1152.97 Q1091.28 1160.08 1093.09 1163.64 Q1094.92 1167.19 1098.53 1167.19 Q1102.16 1167.19 1103.97 1163.64 Q1105.8 1160.08 1105.8 1152.97 Q1105.8 1145.84 1103.97 1142.3 Q1102.16 1138.74 1098.53 1138.74 M1098.53 1135.03 Q1104.34 1135.03 1107.4 1139.64 Q1110.47 1144.22 1110.47 1152.97 Q1110.47 1161.7 1107.4 1166.31 Q1104.34 1170.89 1098.53 1170.89 Q1092.72 1170.89 1089.64 1166.31 Q1086.59 1161.7 1086.59 1152.97 Q1086.59 1144.22 1089.64 1139.64 Q1092.72 1135.03 1098.53 1135.03 Z\" fill=\"#000000\" fill-rule=\"nonzero\" fill-opacity=\"1\" /><path clip-path=\"url(#clip210)\" d=\"M1387.52 1151.58 Q1390.88 1152.3 1392.75 1154.57 Q1394.65 1156.84 1394.65 1160.17 Q1394.65 1165.29 1391.13 1168.09 Q1387.61 1170.89 1381.13 1170.89 Q1378.95 1170.89 1376.64 1170.45 Q1374.35 1170.03 1371.89 1169.18 L1371.89 1164.66 Q1373.84 1165.8 1376.15 1166.38 Q1378.47 1166.95 1380.99 1166.95 Q1385.39 1166.95 1387.68 1165.22 Q1390 1163.48 1390 1160.17 Q1390 1157.12 1387.84 1155.4 Q1385.71 1153.67 1381.89 1153.67 L1377.87 1153.67 L1377.87 1149.83 L1382.08 1149.83 Q1385.53 1149.83 1387.36 1148.46 Q1389.19 1147.07 1389.19 1144.48 Q1389.19 1141.82 1387.29 1140.4 Q1385.41 1138.97 1381.89 1138.97 Q1379.97 1138.97 1377.77 1139.39 Q1375.58 1139.8 1372.94 1140.68 L1372.94 1136.51 Q1375.6 1135.77 1377.91 1135.4 Q1380.25 1135.03 1382.31 1135.03 Q1387.64 1135.03 1390.74 1137.46 Q1393.84 1139.87 1393.84 1143.99 Q1393.84 1146.86 1392.2 1148.85 Q1390.55 1150.82 1387.52 1151.58 Z\" fill=\"#000000\" fill-rule=\"nonzero\" fill-opacity=\"1\" /><path clip-path=\"url(#clip210)\" d=\"M1668.42 1151.08 Q1665.27 1151.08 1663.42 1153.23 Q1661.59 1155.38 1661.59 1159.13 Q1661.59 1162.86 1663.42 1165.03 Q1665.27 1167.19 1668.42 1167.19 Q1671.57 1167.19 1673.4 1165.03 Q1675.25 1162.86 1675.25 1159.13 Q1675.25 1155.38 1673.4 1153.23 Q1671.57 1151.08 1668.42 1151.08 M1677.7 1136.42 L1677.7 1140.68 Q1675.94 1139.85 1674.14 1139.41 Q1672.35 1138.97 1670.59 1138.97 Q1665.97 1138.97 1663.51 1142.09 Q1661.08 1145.22 1660.73 1151.54 Q1662.1 1149.52 1664.16 1148.46 Q1666.22 1147.37 1668.7 1147.37 Q1673.91 1147.37 1676.91 1150.54 Q1679.95 1153.69 1679.95 1159.13 Q1679.95 1164.45 1676.8 1167.67 Q1673.65 1170.89 1668.42 1170.89 Q1662.42 1170.89 1659.25 1166.31 Q1656.08 1161.7 1656.08 1152.97 Q1656.08 1144.78 1659.97 1139.92 Q1663.86 1135.03 1670.41 1135.03 Q1672.17 1135.03 1673.95 1135.38 Q1675.76 1135.73 1677.7 1136.42 Z\" fill=\"#000000\" fill-rule=\"nonzero\" fill-opacity=\"1\" /><path clip-path=\"url(#clip210)\" d=\"M1943.06 1169.5 L1943.06 1165.24 Q1944.82 1166.07 1946.62 1166.51 Q1948.43 1166.95 1950.16 1166.95 Q1954.79 1166.95 1957.22 1163.85 Q1959.68 1160.73 1960.02 1154.39 Q1958.68 1156.38 1956.62 1157.44 Q1954.56 1158.51 1952.06 1158.51 Q1946.88 1158.51 1943.84 1155.38 Q1940.83 1152.23 1940.83 1146.79 Q1940.83 1141.47 1943.98 1138.25 Q1947.13 1135.03 1952.36 1135.03 Q1958.36 1135.03 1961.51 1139.64 Q1964.68 1144.22 1964.68 1152.97 Q1964.68 1161.14 1960.79 1166.03 Q1956.92 1170.89 1950.37 1170.89 Q1948.61 1170.89 1946.81 1170.54 Q1945 1170.2 1943.06 1169.5 M1952.36 1154.85 Q1955.51 1154.85 1957.34 1152.7 Q1959.19 1150.54 1959.19 1146.79 Q1959.19 1143.07 1957.34 1140.91 Q1955.51 1138.74 1952.36 1138.74 Q1949.21 1138.74 1947.36 1140.91 Q1945.53 1143.07 1945.53 1146.79 Q1945.53 1150.54 1947.36 1152.7 Q1949.21 1154.85 1952.36 1154.85 Z\" fill=\"#000000\" fill-rule=\"nonzero\" fill-opacity=\"1\" /><g clip-path=\"url(#clip210)\">\n",
       "<image width=\"30\" height=\"46\" xlink:href=\"data:image/png;base64,\n",
       "iVBORw0KGgoAAAANSUhEUgAAAB4AAAAuCAYAAAA/SqkPAAACUUlEQVRYhbWY7dGqMBCFD3duAamB\n",
       "EhhLwA6oATtgLAE7gBawA2wBrAAtIdrBvj+cqIR8bALuTEaBTU7cZ5ckJkQEn91uN7perxiGAerz\n",
       "+Xyi73vs9/vEO4DB/ptujuNIu93O2/l+v8dovoyIFq1pGgLgbaa+3JZwQg0ASZIsHIkoKswA8C+2\n",
       "oxAitus64ePxuEo4OtRrwgwwf/HlcuHNLsQ4GZhl2aYZTUQ8YV20ruvVwizGW/MFGIx/whfwh/oX\n",
       "fFmMddEt+LIY/4Iv4GF8Pp9/wxdwhzpN05/w9TLWRUP4FkVhXEr7vqdgYY5gVVVv/7IsSUpJRAQp\n",
       "JakIDsNgH6DruuAwK7+qqma+0zQtf/1WfG0+RlGXcAhf18SMogBZ65hbv8rP9/zbhBDmOm7bllW/\n",
       "PlElotvj8UiMoRNCePna7rtKqyiKtz+Lr56lIaK2ZmTs4ssJL8cWjG1827alJElICLFaFMAy1Ca+\n",
       "sIR8TWPXHQDKsoyaptlE3Cuc57l1InmeR09idlHXtbeMTK/SLMuCJzDLaj2bhRCvYjfY2kOccwdS\n",
       "17X1mUnkcDjwdywuvr5wlWUZvUMJ4qs3KWVQHynlcgeiDyCEYM0+RPjbx8rYxVdZzCkjz/PXl1i+\n",
       "ROYNnc1X7USmafqE+nuDFiKsH29c9azqf5ZcuiiXr/5Wc73L9YkZGXP4AkBRFLNr239jp9OJAGAc\n",
       "x0/tx/I15UbXdca+AChN09mzaL4mzvrgRJ9ldjEZnVPMivPdXy2bwzC876nTxKyPvuEOFVXNFDlX\n",
       "kv4BiCdB1YpvIO4AAAAASUVORK5CYII=\n",
       "\" transform=\"translate(1084, 1198)\"/>\n",
       "</g>\n",
       "<polyline clip-path=\"url(#clip210)\" style=\"stroke:#000000; stroke-linecap:round; stroke-linejoin:round; stroke-width:4; stroke-opacity:1; fill:none\" points=\"244.304,1111.02 244.304,107.256 \"/>\n",
       "<polyline clip-path=\"url(#clip210)\" style=\"stroke:#000000; stroke-linecap:round; stroke-linejoin:round; stroke-width:4; stroke-opacity:1; fill:none\" points=\"244.304,713.618 263.202,713.618 \"/>\n",
       "<polyline clip-path=\"url(#clip210)\" style=\"stroke:#000000; stroke-linecap:round; stroke-linejoin:round; stroke-width:4; stroke-opacity:1; fill:none\" points=\"244.304,147.269 263.202,147.269 \"/>\n",
       "<path clip-path=\"url(#clip210)\" d=\"M113.675 733.41 L121.314 733.41 L121.314 707.044 L113.004 708.711 L113.004 704.452 L121.268 702.785 L125.944 702.785 L125.944 733.41 L133.583 733.41 L133.583 737.345 L113.675 737.345 L113.675 733.41 Z\" fill=\"#000000\" fill-rule=\"nonzero\" fill-opacity=\"1\" /><path clip-path=\"url(#clip210)\" d=\"M153.027 705.864 Q149.416 705.864 147.587 709.429 Q145.782 712.97 145.782 720.1 Q145.782 727.206 147.587 730.771 Q149.416 734.313 153.027 734.313 Q156.661 734.313 158.467 730.771 Q160.295 727.206 160.295 720.1 Q160.295 712.97 158.467 709.429 Q156.661 705.864 153.027 705.864 M153.027 702.16 Q158.837 702.16 161.893 706.767 Q164.971 711.35 164.971 720.1 Q164.971 728.827 161.893 733.433 Q158.837 738.016 153.027 738.016 Q147.217 738.016 144.138 733.433 Q141.082 728.827 141.082 720.1 Q141.082 711.35 144.138 706.767 Q147.217 702.16 153.027 702.16 Z\" fill=\"#000000\" fill-rule=\"nonzero\" fill-opacity=\"1\" /><path clip-path=\"url(#clip210)\" d=\"M164.971 696.261 L189.083 696.261 L189.083 699.459 L164.971 699.459 L164.971 696.261 Z\" fill=\"#000000\" fill-rule=\"nonzero\" fill-opacity=\"1\" /><path clip-path=\"url(#clip210)\" d=\"M197.321 681.855 L212.235 681.855 L212.235 685.052 L200.8 685.052 L200.8 691.936 Q201.628 691.654 202.455 691.522 Q203.283 691.371 204.11 691.371 Q208.812 691.371 211.558 693.948 Q214.304 696.525 214.304 700.926 Q214.304 705.458 211.483 707.979 Q208.662 710.48 203.527 710.48 Q201.759 710.48 199.916 710.179 Q198.092 709.878 196.136 709.276 L196.136 705.458 Q197.828 706.38 199.634 706.831 Q201.439 707.283 203.452 707.283 Q206.706 707.283 208.605 705.571 Q210.505 703.86 210.505 700.926 Q210.505 697.992 208.605 696.28 Q206.706 694.569 203.452 694.569 Q201.928 694.569 200.405 694.907 Q198.9 695.246 197.321 695.961 L197.321 681.855 Z\" fill=\"#000000\" fill-rule=\"nonzero\" fill-opacity=\"1\" /><path clip-path=\"url(#clip210)\" d=\"M143.598 167.062 L151.237 167.062 L151.237 140.696 L142.927 142.363 L142.927 138.104 L151.191 136.437 L155.867 136.437 L155.867 167.062 L163.506 167.062 L163.506 170.997 L143.598 170.997 L143.598 167.062 Z\" fill=\"#000000\" fill-rule=\"nonzero\" fill-opacity=\"1\" /><path clip-path=\"url(#clip210)\" d=\"M182.95 139.516 Q179.339 139.516 177.51 143.081 Q175.705 146.622 175.705 153.752 Q175.705 160.858 177.51 164.423 Q179.339 167.965 182.95 167.965 Q186.584 167.965 188.39 164.423 Q190.218 160.858 190.218 153.752 Q190.218 146.622 188.39 143.081 Q186.584 139.516 182.95 139.516 M182.95 135.812 Q188.76 135.812 191.816 140.419 Q194.894 145.002 194.894 153.752 Q194.894 162.479 191.816 167.085 Q188.76 171.668 182.95 171.668 Q177.14 171.668 174.061 167.085 Q171.006 162.479 171.006 153.752 Q171.006 145.002 174.061 140.419 Q177.14 135.812 182.95 135.812 Z\" fill=\"#000000\" fill-rule=\"nonzero\" fill-opacity=\"1\" /><path clip-path=\"url(#clip210)\" d=\"M204.599 118.008 Q201.665 118.008 200.179 120.904 Q198.712 123.782 198.712 129.575 Q198.712 135.349 200.179 138.245 Q201.665 141.123 204.599 141.123 Q207.552 141.123 209.019 138.245 Q210.505 135.349 210.505 129.575 Q210.505 123.782 209.019 120.904 Q207.552 118.008 204.599 118.008 M204.599 114.999 Q209.32 114.999 211.803 118.742 Q214.304 122.466 214.304 129.575 Q214.304 136.665 211.803 140.408 Q209.32 144.132 204.599 144.132 Q199.878 144.132 197.377 140.408 Q194.894 136.665 194.894 129.575 Q194.894 122.466 197.377 118.742 Q199.878 114.999 204.599 114.999 Z\" fill=\"#000000\" fill-rule=\"nonzero\" fill-opacity=\"1\" /><g clip-path=\"url(#clip210)\">\n",
       "<image width=\"66\" height=\"82\" xlink:href=\"data:image/png;base64,\n",
       "iVBORw0KGgoAAAANSUhEUgAAAEIAAABSCAYAAADgggJzAAADxElEQVR4nO2c7XHjIBCGl5srQHYJ\n",
       "pAPkElSCnBKUDpiUoBI0KYF0oKQEJRU4LgG5g82PgKNT9IFlEPjCO7M/MmOt4MnCwsKIICLs93t8\n",
       "f3+H36qyLAE45wgAv96IlBK32+3VVG9ZlFIgiOi7HUHoj+8GhKIIQimCUIoglCIIpQhCKYJQiiCU\n",
       "IgilCEIpglCKIJQiCKXgQRBCsGumv39+fr5sW42IwRqMFFGmnukXmjjnk78/v8t3Z+dADAExfT7P\n",
       "c+NnvHfWBETTNOcO5XluDEJbkiSzMLx31gSELV9lWY76897ZucYviYAhy/MckyQZ9RV0zbJtW9xu\n",
       "t4CI5Fpfm80Glc9BX0Gnz81mQxhjYJI2Hx4esJ9q0zTFu7s7JITg6XSCx8fHcQe+w990iDDGRsOa\n",
       "MWZ0djH5Dt+dvARGURQ/OiOlNIJwOBz+DxC6w/2ZX6dGAMAkSZBzjnr9oP82Ar1mZzjnSClFIYRR\n",
       "4/p2OBwQALBpmvPzGsJSn15AUEp/hOylYOq6/me8m4z/4EBkWTY7lk3AFEVxjox+hNwEiCUn70mS\n",
       "YFVVPzpqmg2CBFFV1bnxZVni0FAxBdPNFjcHQofy0EwuhFgExsZEuToIxK+QHgp1W2DGhlKQIOYW\n",
       "Nz7ArA7Cli0BM/UP8N4hW1bXNc7tOaa24d47sCaYob2KtqDrEWsq6HrEmooglCIIJecgXl5ezuWy\n",
       "NE0XT0iLTq8ukcuZG0bS2NTsPWa6AGOrqr1a+tQNF0IMwljiU6fDJSC9gNCVJL20HQIxddhiAsNG\n",
       "DcI5iP4R2xCIJRujvr/gQQyFr42h0fdHKbUGwxmIJTvMS0xXu2z5c7LEJoQgWjimM3kPpRQ+Pj6u\n",
       "ftdNL6g453A8Hu04czU06rp2OjRsv8tZ42xOZGu8y1njwHJ6GzN9vHetHydzRFVVAABwzd7CVEVR\n",
       "WPHjrDCj7zQ0TQNpmjrNIDaylLOskWUZAADsdjto2zb4MpjTUl33povLyAg6IgC+5wqAr8jY7/fW\n",
       "qVurUbie1bsXOcDChstVhnIOotvYvl1bZNGHysGuIy6BoS3LMpRSGneoe73YxgZv1XMNk2uCWowx\n",
       "uL+/hyzLgFIKUkp4fX2Fp6cn6H/iAW1s8NaKCG2mVwFNzVa7Vt99vr29ESGEFV9SSit+AMDv2Wd3\n",
       "nF9qttviFYS27pWiObNdtNUW3CFw27YohIDj8Qin0wkYY7Db7dzvV0ID4Us3XaqzqQhCKYJQiiCU\n",
       "IgilCEIpglCKIJQiCKW/ABA/4xg/4/ht8TOO8PUZx0+iIw6AP8tiQwAAAABJRU5ErkJggg==\n",
       "\" transform=\"translate(22, 568)\"/>\n",
       "</g>\n",
       "<g clip-path=\"url(#clip210)\">\n",
       "<text style=\"fill:#000000; fill-opacity:1; font-family:Arial,Helvetica Neue,Helvetica,sans-serif; font-size:66px; text-anchor:middle;\" transform=\"rotate(0, 1098.53, 57.6)\" x=\"1098.53\" y=\"57.6\">Fourier coefficients</text>\n",
       "</g>\n",
       "<circle clip-path=\"url(#clip212)\" cx=\"1098.53\" cy=\"135.664\" r=\"10.8\" fill=\"#009af9\" fill-rule=\"evenodd\" fill-opacity=\"1\" stroke=\"#000000\" stroke-opacity=\"1\" stroke-width=\"2.56\"/>\n",
       "<circle clip-path=\"url(#clip212)\" cx=\"1193.44\" cy=\"175.341\" r=\"10.8\" fill=\"#009af9\" fill-rule=\"evenodd\" fill-opacity=\"1\" stroke=\"#000000\" stroke-opacity=\"1\" stroke-width=\"2.56\"/>\n",
       "<circle clip-path=\"url(#clip212)\" cx=\"1288.36\" cy=\"245.505\" r=\"10.8\" fill=\"#009af9\" fill-rule=\"evenodd\" fill-opacity=\"1\" stroke=\"#000000\" stroke-opacity=\"1\" stroke-width=\"2.56\"/>\n",
       "<circle clip-path=\"url(#clip212)\" cx=\"1383.27\" cy=\"334.647\" r=\"10.8\" fill=\"#009af9\" fill-rule=\"evenodd\" fill-opacity=\"1\" stroke=\"#000000\" stroke-opacity=\"1\" stroke-width=\"2.56\"/>\n",
       "<circle clip-path=\"url(#clip212)\" cx=\"1478.19\" cy=\"437.546\" r=\"10.8\" fill=\"#009af9\" fill-rule=\"evenodd\" fill-opacity=\"1\" stroke=\"#000000\" stroke-opacity=\"1\" stroke-width=\"2.56\"/>\n",
       "<circle clip-path=\"url(#clip212)\" cx=\"1573.1\" cy=\"551.222\" r=\"10.8\" fill=\"#009af9\" fill-rule=\"evenodd\" fill-opacity=\"1\" stroke=\"#000000\" stroke-opacity=\"1\" stroke-width=\"2.56\"/>\n",
       "<circle clip-path=\"url(#clip212)\" cx=\"1668.01\" cy=\"673.751\" r=\"10.8\" fill=\"#009af9\" fill-rule=\"evenodd\" fill-opacity=\"1\" stroke=\"#000000\" stroke-opacity=\"1\" stroke-width=\"2.56\"/>\n",
       "<circle clip-path=\"url(#clip212)\" cx=\"1762.93\" cy=\"803.791\" r=\"10.8\" fill=\"#009af9\" fill-rule=\"evenodd\" fill-opacity=\"1\" stroke=\"#000000\" stroke-opacity=\"1\" stroke-width=\"2.56\"/>\n",
       "<circle clip-path=\"url(#clip212)\" cx=\"1857.84\" cy=\"940.351\" r=\"10.8\" fill=\"#009af9\" fill-rule=\"evenodd\" fill-opacity=\"1\" stroke=\"#000000\" stroke-opacity=\"1\" stroke-width=\"2.56\"/>\n",
       "<circle clip-path=\"url(#clip212)\" cx=\"1952.76\" cy=\"1082.61\" r=\"10.8\" fill=\"#009af9\" fill-rule=\"evenodd\" fill-opacity=\"1\" stroke=\"#000000\" stroke-opacity=\"1\" stroke-width=\"2.56\"/>\n",
       "<circle clip-path=\"url(#clip212)\" cx=\"339.218\" cy=\"940.351\" r=\"10.8\" fill=\"#009af9\" fill-rule=\"evenodd\" fill-opacity=\"1\" stroke=\"#000000\" stroke-opacity=\"1\" stroke-width=\"2.56\"/>\n",
       "<circle clip-path=\"url(#clip212)\" cx=\"434.132\" cy=\"803.791\" r=\"10.8\" fill=\"#009af9\" fill-rule=\"evenodd\" fill-opacity=\"1\" stroke=\"#000000\" stroke-opacity=\"1\" stroke-width=\"2.56\"/>\n",
       "<circle clip-path=\"url(#clip212)\" cx=\"529.046\" cy=\"673.751\" r=\"10.8\" fill=\"#009af9\" fill-rule=\"evenodd\" fill-opacity=\"1\" stroke=\"#000000\" stroke-opacity=\"1\" stroke-width=\"2.56\"/>\n",
       "<circle clip-path=\"url(#clip212)\" cx=\"623.96\" cy=\"551.222\" r=\"10.8\" fill=\"#009af9\" fill-rule=\"evenodd\" fill-opacity=\"1\" stroke=\"#000000\" stroke-opacity=\"1\" stroke-width=\"2.56\"/>\n",
       "<circle clip-path=\"url(#clip212)\" cx=\"718.874\" cy=\"437.546\" r=\"10.8\" fill=\"#009af9\" fill-rule=\"evenodd\" fill-opacity=\"1\" stroke=\"#000000\" stroke-opacity=\"1\" stroke-width=\"2.56\"/>\n",
       "<circle clip-path=\"url(#clip212)\" cx=\"813.788\" cy=\"334.647\" r=\"10.8\" fill=\"#009af9\" fill-rule=\"evenodd\" fill-opacity=\"1\" stroke=\"#000000\" stroke-opacity=\"1\" stroke-width=\"2.56\"/>\n",
       "<circle clip-path=\"url(#clip212)\" cx=\"908.702\" cy=\"245.505\" r=\"10.8\" fill=\"#009af9\" fill-rule=\"evenodd\" fill-opacity=\"1\" stroke=\"#000000\" stroke-opacity=\"1\" stroke-width=\"2.56\"/>\n",
       "<circle clip-path=\"url(#clip212)\" cx=\"1003.62\" cy=\"175.341\" r=\"10.8\" fill=\"#009af9\" fill-rule=\"evenodd\" fill-opacity=\"1\" stroke=\"#000000\" stroke-opacity=\"1\" stroke-width=\"2.56\"/>\n",
       "</svg>\n"
      ],
      "text/html": [
       "<?xml version=\"1.0\" encoding=\"utf-8\"?>\n",
       "<svg xmlns=\"http://www.w3.org/2000/svg\" xmlns:xlink=\"http://www.w3.org/1999/xlink\" width=\"500\" height=\"320\" viewBox=\"0 0 2000 1280\">\n",
       "<defs>\n",
       "  <clipPath id=\"clip260\">\n",
       "    <rect x=\"0\" y=\"0\" width=\"2000\" height=\"1280\"/>\n",
       "  </clipPath>\n",
       "</defs>\n",
       "<path clip-path=\"url(#clip260)\" d=\"M0 1280 L2000 1280 L2000 0 L0 0  Z\" fill=\"#ffffff\" fill-rule=\"evenodd\" fill-opacity=\"1\"/>\n",
       "<defs>\n",
       "  <clipPath id=\"clip261\">\n",
       "    <rect x=\"400\" y=\"0\" width=\"1401\" height=\"1280\"/>\n",
       "  </clipPath>\n",
       "</defs>\n",
       "<path clip-path=\"url(#clip260)\" d=\"M244.304 1111.02 L1952.76 1111.02 L1952.76 107.256 L244.304 107.256  Z\" fill=\"#ffffff\" fill-rule=\"evenodd\" fill-opacity=\"1\"/>\n",
       "<defs>\n",
       "  <clipPath id=\"clip262\">\n",
       "    <rect x=\"244\" y=\"107\" width=\"1709\" height=\"1005\"/>\n",
       "  </clipPath>\n",
       "</defs>\n",
       "<polyline clip-path=\"url(#clip262)\" style=\"stroke:#000000; stroke-linecap:round; stroke-linejoin:round; stroke-width:2; stroke-opacity:0.1; fill:none\" points=\"244.304,1111.02 244.304,107.256 \"/>\n",
       "<polyline clip-path=\"url(#clip262)\" style=\"stroke:#000000; stroke-linecap:round; stroke-linejoin:round; stroke-width:2; stroke-opacity:0.1; fill:none\" points=\"529.046,1111.02 529.046,107.256 \"/>\n",
       "<polyline clip-path=\"url(#clip262)\" style=\"stroke:#000000; stroke-linecap:round; stroke-linejoin:round; stroke-width:2; stroke-opacity:0.1; fill:none\" points=\"813.788,1111.02 813.788,107.256 \"/>\n",
       "<polyline clip-path=\"url(#clip262)\" style=\"stroke:#000000; stroke-linecap:round; stroke-linejoin:round; stroke-width:2; stroke-opacity:0.1; fill:none\" points=\"1098.53,1111.02 1098.53,107.256 \"/>\n",
       "<polyline clip-path=\"url(#clip262)\" style=\"stroke:#000000; stroke-linecap:round; stroke-linejoin:round; stroke-width:2; stroke-opacity:0.1; fill:none\" points=\"1383.27,1111.02 1383.27,107.256 \"/>\n",
       "<polyline clip-path=\"url(#clip262)\" style=\"stroke:#000000; stroke-linecap:round; stroke-linejoin:round; stroke-width:2; stroke-opacity:0.1; fill:none\" points=\"1668.01,1111.02 1668.01,107.256 \"/>\n",
       "<polyline clip-path=\"url(#clip262)\" style=\"stroke:#000000; stroke-linecap:round; stroke-linejoin:round; stroke-width:2; stroke-opacity:0.1; fill:none\" points=\"1952.76,1111.02 1952.76,107.256 \"/>\n",
       "<polyline clip-path=\"url(#clip262)\" style=\"stroke:#000000; stroke-linecap:round; stroke-linejoin:round; stroke-width:2; stroke-opacity:0.1; fill:none\" points=\"244.304,713.618 1952.76,713.618 \"/>\n",
       "<polyline clip-path=\"url(#clip262)\" style=\"stroke:#000000; stroke-linecap:round; stroke-linejoin:round; stroke-width:2; stroke-opacity:0.1; fill:none\" points=\"244.304,147.269 1952.76,147.269 \"/>\n",
       "<polyline clip-path=\"url(#clip260)\" style=\"stroke:#000000; stroke-linecap:round; stroke-linejoin:round; stroke-width:4; stroke-opacity:1; fill:none\" points=\"244.304,1111.02 1952.76,1111.02 \"/>\n",
       "<polyline clip-path=\"url(#clip260)\" style=\"stroke:#000000; stroke-linecap:round; stroke-linejoin:round; stroke-width:4; stroke-opacity:1; fill:none\" points=\"244.304,1111.02 244.304,1092.12 \"/>\n",
       "<polyline clip-path=\"url(#clip260)\" style=\"stroke:#000000; stroke-linecap:round; stroke-linejoin:round; stroke-width:4; stroke-opacity:1; fill:none\" points=\"529.046,1111.02 529.046,1092.12 \"/>\n",
       "<polyline clip-path=\"url(#clip260)\" style=\"stroke:#000000; stroke-linecap:round; stroke-linejoin:round; stroke-width:4; stroke-opacity:1; fill:none\" points=\"813.788,1111.02 813.788,1092.12 \"/>\n",
       "<polyline clip-path=\"url(#clip260)\" style=\"stroke:#000000; stroke-linecap:round; stroke-linejoin:round; stroke-width:4; stroke-opacity:1; fill:none\" points=\"1098.53,1111.02 1098.53,1092.12 \"/>\n",
       "<polyline clip-path=\"url(#clip260)\" style=\"stroke:#000000; stroke-linecap:round; stroke-linejoin:round; stroke-width:4; stroke-opacity:1; fill:none\" points=\"1383.27,1111.02 1383.27,1092.12 \"/>\n",
       "<polyline clip-path=\"url(#clip260)\" style=\"stroke:#000000; stroke-linecap:round; stroke-linejoin:round; stroke-width:4; stroke-opacity:1; fill:none\" points=\"1668.01,1111.02 1668.01,1092.12 \"/>\n",
       "<polyline clip-path=\"url(#clip260)\" style=\"stroke:#000000; stroke-linecap:round; stroke-linejoin:round; stroke-width:4; stroke-opacity:1; fill:none\" points=\"1952.76,1111.02 1952.76,1092.12 \"/>\n",
       "<path clip-path=\"url(#clip260)\" d=\"M213.54 1153.39 L243.216 1153.39 L243.216 1157.33 L213.54 1157.33 L213.54 1153.39 Z\" fill=\"#000000\" fill-rule=\"nonzero\" fill-opacity=\"1\" /><path clip-path=\"url(#clip260)\" d=\"M253.447 1169.5 L253.447 1165.24 Q255.207 1166.07 257.012 1166.51 Q258.818 1166.95 260.554 1166.95 Q265.184 1166.95 267.614 1163.85 Q270.068 1160.73 270.415 1154.39 Q269.072 1156.38 267.012 1157.44 Q264.952 1158.51 262.452 1158.51 Q257.267 1158.51 254.235 1155.38 Q251.225 1152.23 251.225 1146.79 Q251.225 1141.47 254.373 1138.25 Q257.522 1135.03 262.753 1135.03 Q268.748 1135.03 271.896 1139.64 Q275.068 1144.22 275.068 1152.97 Q275.068 1161.14 271.179 1166.03 Q267.313 1170.89 260.762 1170.89 Q259.003 1170.89 257.197 1170.54 Q255.392 1170.2 253.447 1169.5 M262.753 1154.85 Q265.901 1154.85 267.73 1152.7 Q269.582 1150.54 269.582 1146.79 Q269.582 1143.07 267.73 1140.91 Q265.901 1138.74 262.753 1138.74 Q259.605 1138.74 257.753 1140.91 Q255.924 1143.07 255.924 1146.79 Q255.924 1150.54 257.753 1152.7 Q259.605 1154.85 262.753 1154.85 Z\" fill=\"#000000\" fill-rule=\"nonzero\" fill-opacity=\"1\" /><path clip-path=\"url(#clip260)\" d=\"M498.109 1153.39 L527.784 1153.39 L527.784 1157.33 L498.109 1157.33 L498.109 1153.39 Z\" fill=\"#000000\" fill-rule=\"nonzero\" fill-opacity=\"1\" /><path clip-path=\"url(#clip260)\" d=\"M548.456 1151.08 Q545.307 1151.08 543.456 1153.23 Q541.627 1155.38 541.627 1159.13 Q541.627 1162.86 543.456 1165.03 Q545.307 1167.19 548.456 1167.19 Q551.604 1167.19 553.432 1165.03 Q555.284 1162.86 555.284 1159.13 Q555.284 1155.38 553.432 1153.23 Q551.604 1151.08 548.456 1151.08 M557.738 1136.42 L557.738 1140.68 Q555.979 1139.85 554.173 1139.41 Q552.391 1138.97 550.632 1138.97 Q546.002 1138.97 543.548 1142.09 Q541.118 1145.22 540.77 1151.54 Q542.136 1149.52 544.196 1148.46 Q546.257 1147.37 548.733 1147.37 Q553.942 1147.37 556.951 1150.54 Q559.983 1153.69 559.983 1159.13 Q559.983 1164.45 556.835 1167.67 Q553.687 1170.89 548.456 1170.89 Q542.46 1170.89 539.289 1166.31 Q536.118 1161.7 536.118 1152.97 Q536.118 1144.78 540.007 1139.92 Q543.895 1135.03 550.446 1135.03 Q552.206 1135.03 553.988 1135.38 Q555.794 1135.73 557.738 1136.42 Z\" fill=\"#000000\" fill-rule=\"nonzero\" fill-opacity=\"1\" /><path clip-path=\"url(#clip260)\" d=\"M783.256 1153.39 L812.931 1153.39 L812.931 1157.33 L783.256 1157.33 L783.256 1153.39 Z\" fill=\"#000000\" fill-rule=\"nonzero\" fill-opacity=\"1\" /><path clip-path=\"url(#clip260)\" d=\"M837.191 1151.58 Q840.547 1152.3 842.422 1154.57 Q844.32 1156.84 844.32 1160.17 Q844.32 1165.29 840.802 1168.09 Q837.283 1170.89 830.802 1170.89 Q828.626 1170.89 826.311 1170.45 Q824.019 1170.03 821.566 1169.18 L821.566 1164.66 Q823.51 1165.8 825.825 1166.38 Q828.14 1166.95 830.663 1166.95 Q835.061 1166.95 837.353 1165.22 Q839.667 1163.48 839.667 1160.17 Q839.667 1157.12 837.515 1155.4 Q835.385 1153.67 831.566 1153.67 L827.538 1153.67 L827.538 1149.83 L831.751 1149.83 Q835.2 1149.83 837.029 1148.46 Q838.857 1147.07 838.857 1144.48 Q838.857 1141.82 836.959 1140.4 Q835.084 1138.97 831.566 1138.97 Q829.644 1138.97 827.445 1139.39 Q825.246 1139.8 822.607 1140.68 L822.607 1136.51 Q825.269 1135.77 827.584 1135.4 Q829.922 1135.03 831.982 1135.03 Q837.306 1135.03 840.408 1137.46 Q843.51 1139.87 843.51 1143.99 Q843.51 1146.86 841.867 1148.85 Q840.223 1150.82 837.191 1151.58 Z\" fill=\"#000000\" fill-rule=\"nonzero\" fill-opacity=\"1\" /><path clip-path=\"url(#clip260)\" d=\"M1098.53 1138.74 Q1094.92 1138.74 1093.09 1142.3 Q1091.28 1145.84 1091.28 1152.97 Q1091.28 1160.08 1093.09 1163.64 Q1094.92 1167.19 1098.53 1167.19 Q1102.16 1167.19 1103.97 1163.64 Q1105.8 1160.08 1105.8 1152.97 Q1105.8 1145.84 1103.97 1142.3 Q1102.16 1138.74 1098.53 1138.74 M1098.53 1135.03 Q1104.34 1135.03 1107.4 1139.64 Q1110.47 1144.22 1110.47 1152.97 Q1110.47 1161.7 1107.4 1166.31 Q1104.34 1170.89 1098.53 1170.89 Q1092.72 1170.89 1089.64 1166.31 Q1086.59 1161.7 1086.59 1152.97 Q1086.59 1144.22 1089.64 1139.64 Q1092.72 1135.03 1098.53 1135.03 Z\" fill=\"#000000\" fill-rule=\"nonzero\" fill-opacity=\"1\" /><path clip-path=\"url(#clip260)\" d=\"M1387.52 1151.58 Q1390.88 1152.3 1392.75 1154.57 Q1394.65 1156.84 1394.65 1160.17 Q1394.65 1165.29 1391.13 1168.09 Q1387.61 1170.89 1381.13 1170.89 Q1378.95 1170.89 1376.64 1170.45 Q1374.35 1170.03 1371.89 1169.18 L1371.89 1164.66 Q1373.84 1165.8 1376.15 1166.38 Q1378.47 1166.95 1380.99 1166.95 Q1385.39 1166.95 1387.68 1165.22 Q1390 1163.48 1390 1160.17 Q1390 1157.12 1387.84 1155.4 Q1385.71 1153.67 1381.89 1153.67 L1377.87 1153.67 L1377.87 1149.83 L1382.08 1149.83 Q1385.53 1149.83 1387.36 1148.46 Q1389.19 1147.07 1389.19 1144.48 Q1389.19 1141.82 1387.29 1140.4 Q1385.41 1138.97 1381.89 1138.97 Q1379.97 1138.97 1377.77 1139.39 Q1375.58 1139.8 1372.94 1140.68 L1372.94 1136.51 Q1375.6 1135.77 1377.91 1135.4 Q1380.25 1135.03 1382.31 1135.03 Q1387.64 1135.03 1390.74 1137.46 Q1393.84 1139.87 1393.84 1143.99 Q1393.84 1146.86 1392.2 1148.85 Q1390.55 1150.82 1387.52 1151.58 Z\" fill=\"#000000\" fill-rule=\"nonzero\" fill-opacity=\"1\" /><path clip-path=\"url(#clip260)\" d=\"M1668.42 1151.08 Q1665.27 1151.08 1663.42 1153.23 Q1661.59 1155.38 1661.59 1159.13 Q1661.59 1162.86 1663.42 1165.03 Q1665.27 1167.19 1668.42 1167.19 Q1671.57 1167.19 1673.4 1165.03 Q1675.25 1162.86 1675.25 1159.13 Q1675.25 1155.38 1673.4 1153.23 Q1671.57 1151.08 1668.42 1151.08 M1677.7 1136.42 L1677.7 1140.68 Q1675.94 1139.85 1674.14 1139.41 Q1672.35 1138.97 1670.59 1138.97 Q1665.97 1138.97 1663.51 1142.09 Q1661.08 1145.22 1660.73 1151.54 Q1662.1 1149.52 1664.16 1148.46 Q1666.22 1147.37 1668.7 1147.37 Q1673.91 1147.37 1676.91 1150.54 Q1679.95 1153.69 1679.95 1159.13 Q1679.95 1164.45 1676.8 1167.67 Q1673.65 1170.89 1668.42 1170.89 Q1662.42 1170.89 1659.25 1166.31 Q1656.08 1161.7 1656.08 1152.97 Q1656.08 1144.78 1659.97 1139.92 Q1663.86 1135.03 1670.41 1135.03 Q1672.17 1135.03 1673.95 1135.38 Q1675.76 1135.73 1677.7 1136.42 Z\" fill=\"#000000\" fill-rule=\"nonzero\" fill-opacity=\"1\" /><path clip-path=\"url(#clip260)\" d=\"M1943.06 1169.5 L1943.06 1165.24 Q1944.82 1166.07 1946.62 1166.51 Q1948.43 1166.95 1950.16 1166.95 Q1954.79 1166.95 1957.22 1163.85 Q1959.68 1160.73 1960.02 1154.39 Q1958.68 1156.38 1956.62 1157.44 Q1954.56 1158.51 1952.06 1158.51 Q1946.88 1158.51 1943.84 1155.38 Q1940.83 1152.23 1940.83 1146.79 Q1940.83 1141.47 1943.98 1138.25 Q1947.13 1135.03 1952.36 1135.03 Q1958.36 1135.03 1961.51 1139.64 Q1964.68 1144.22 1964.68 1152.97 Q1964.68 1161.14 1960.79 1166.03 Q1956.92 1170.89 1950.37 1170.89 Q1948.61 1170.89 1946.81 1170.54 Q1945 1170.2 1943.06 1169.5 M1952.36 1154.85 Q1955.51 1154.85 1957.34 1152.7 Q1959.19 1150.54 1959.19 1146.79 Q1959.19 1143.07 1957.34 1140.91 Q1955.51 1138.74 1952.36 1138.74 Q1949.21 1138.74 1947.36 1140.91 Q1945.53 1143.07 1945.53 1146.79 Q1945.53 1150.54 1947.36 1152.7 Q1949.21 1154.85 1952.36 1154.85 Z\" fill=\"#000000\" fill-rule=\"nonzero\" fill-opacity=\"1\" /><g clip-path=\"url(#clip260)\">\n",
       "<image width=\"30\" height=\"46\" xlink:href=\"data:image/png;base64,\n",
       "iVBORw0KGgoAAAANSUhEUgAAAB4AAAAuCAYAAAA/SqkPAAACUUlEQVRYhbWY7dGqMBCFD3duAamB\n",
       "EhhLwA6oATtgLAE7gBawA2wBrAAtIdrBvj+cqIR8bALuTEaBTU7cZ5ckJkQEn91uN7perxiGAerz\n",
       "+Xyi73vs9/vEO4DB/ptujuNIu93O2/l+v8dovoyIFq1pGgLgbaa+3JZwQg0ASZIsHIkoKswA8C+2\n",
       "oxAitus64ePxuEo4OtRrwgwwf/HlcuHNLsQ4GZhl2aYZTUQ8YV20ruvVwizGW/MFGIx/whfwh/oX\n",
       "fFmMddEt+LIY/4Iv4GF8Pp9/wxdwhzpN05/w9TLWRUP4FkVhXEr7vqdgYY5gVVVv/7IsSUpJRAQp\n",
       "JakIDsNgH6DruuAwK7+qqma+0zQtf/1WfG0+RlGXcAhf18SMogBZ65hbv8rP9/zbhBDmOm7bllW/\n",
       "PlElotvj8UiMoRNCePna7rtKqyiKtz+Lr56lIaK2ZmTs4ssJL8cWjG1827alJElICLFaFMAy1Ca+\n",
       "sIR8TWPXHQDKsoyaptlE3Cuc57l1InmeR09idlHXtbeMTK/SLMuCJzDLaj2bhRCvYjfY2kOccwdS\n",
       "17X1mUnkcDjwdywuvr5wlWUZvUMJ4qs3KWVQHynlcgeiDyCEYM0+RPjbx8rYxVdZzCkjz/PXl1i+\n",
       "ROYNnc1X7USmafqE+nuDFiKsH29c9azqf5ZcuiiXr/5Wc73L9YkZGXP4AkBRFLNr239jp9OJAGAc\n",
       "x0/tx/I15UbXdca+AChN09mzaL4mzvrgRJ9ldjEZnVPMivPdXy2bwzC876nTxKyPvuEOFVXNFDlX\n",
       "kv4BiCdB1YpvIO4AAAAASUVORK5CYII=\n",
       "\" transform=\"translate(1084, 1198)\"/>\n",
       "</g>\n",
       "<polyline clip-path=\"url(#clip260)\" style=\"stroke:#000000; stroke-linecap:round; stroke-linejoin:round; stroke-width:4; stroke-opacity:1; fill:none\" points=\"244.304,1111.02 244.304,107.256 \"/>\n",
       "<polyline clip-path=\"url(#clip260)\" style=\"stroke:#000000; stroke-linecap:round; stroke-linejoin:round; stroke-width:4; stroke-opacity:1; fill:none\" points=\"244.304,713.618 263.202,713.618 \"/>\n",
       "<polyline clip-path=\"url(#clip260)\" style=\"stroke:#000000; stroke-linecap:round; stroke-linejoin:round; stroke-width:4; stroke-opacity:1; fill:none\" points=\"244.304,147.269 263.202,147.269 \"/>\n",
       "<path clip-path=\"url(#clip260)\" d=\"M113.675 733.41 L121.314 733.41 L121.314 707.044 L113.004 708.711 L113.004 704.452 L121.268 702.785 L125.944 702.785 L125.944 733.41 L133.583 733.41 L133.583 737.345 L113.675 737.345 L113.675 733.41 Z\" fill=\"#000000\" fill-rule=\"nonzero\" fill-opacity=\"1\" /><path clip-path=\"url(#clip260)\" d=\"M153.027 705.864 Q149.416 705.864 147.587 709.429 Q145.782 712.97 145.782 720.1 Q145.782 727.206 147.587 730.771 Q149.416 734.313 153.027 734.313 Q156.661 734.313 158.467 730.771 Q160.295 727.206 160.295 720.1 Q160.295 712.97 158.467 709.429 Q156.661 705.864 153.027 705.864 M153.027 702.16 Q158.837 702.16 161.893 706.767 Q164.971 711.35 164.971 720.1 Q164.971 728.827 161.893 733.433 Q158.837 738.016 153.027 738.016 Q147.217 738.016 144.138 733.433 Q141.082 728.827 141.082 720.1 Q141.082 711.35 144.138 706.767 Q147.217 702.16 153.027 702.16 Z\" fill=\"#000000\" fill-rule=\"nonzero\" fill-opacity=\"1\" /><path clip-path=\"url(#clip260)\" d=\"M164.971 696.261 L189.083 696.261 L189.083 699.459 L164.971 699.459 L164.971 696.261 Z\" fill=\"#000000\" fill-rule=\"nonzero\" fill-opacity=\"1\" /><path clip-path=\"url(#clip260)\" d=\"M197.321 681.855 L212.235 681.855 L212.235 685.052 L200.8 685.052 L200.8 691.936 Q201.628 691.654 202.455 691.522 Q203.283 691.371 204.11 691.371 Q208.812 691.371 211.558 693.948 Q214.304 696.525 214.304 700.926 Q214.304 705.458 211.483 707.979 Q208.662 710.48 203.527 710.48 Q201.759 710.48 199.916 710.179 Q198.092 709.878 196.136 709.276 L196.136 705.458 Q197.828 706.38 199.634 706.831 Q201.439 707.283 203.452 707.283 Q206.706 707.283 208.605 705.571 Q210.505 703.86 210.505 700.926 Q210.505 697.992 208.605 696.28 Q206.706 694.569 203.452 694.569 Q201.928 694.569 200.405 694.907 Q198.9 695.246 197.321 695.961 L197.321 681.855 Z\" fill=\"#000000\" fill-rule=\"nonzero\" fill-opacity=\"1\" /><path clip-path=\"url(#clip260)\" d=\"M143.598 167.062 L151.237 167.062 L151.237 140.696 L142.927 142.363 L142.927 138.104 L151.191 136.437 L155.867 136.437 L155.867 167.062 L163.506 167.062 L163.506 170.997 L143.598 170.997 L143.598 167.062 Z\" fill=\"#000000\" fill-rule=\"nonzero\" fill-opacity=\"1\" /><path clip-path=\"url(#clip260)\" d=\"M182.95 139.516 Q179.339 139.516 177.51 143.081 Q175.705 146.622 175.705 153.752 Q175.705 160.858 177.51 164.423 Q179.339 167.965 182.95 167.965 Q186.584 167.965 188.39 164.423 Q190.218 160.858 190.218 153.752 Q190.218 146.622 188.39 143.081 Q186.584 139.516 182.95 139.516 M182.95 135.812 Q188.76 135.812 191.816 140.419 Q194.894 145.002 194.894 153.752 Q194.894 162.479 191.816 167.085 Q188.76 171.668 182.95 171.668 Q177.14 171.668 174.061 167.085 Q171.006 162.479 171.006 153.752 Q171.006 145.002 174.061 140.419 Q177.14 135.812 182.95 135.812 Z\" fill=\"#000000\" fill-rule=\"nonzero\" fill-opacity=\"1\" /><path clip-path=\"url(#clip260)\" d=\"M204.599 118.008 Q201.665 118.008 200.179 120.904 Q198.712 123.782 198.712 129.575 Q198.712 135.349 200.179 138.245 Q201.665 141.123 204.599 141.123 Q207.552 141.123 209.019 138.245 Q210.505 135.349 210.505 129.575 Q210.505 123.782 209.019 120.904 Q207.552 118.008 204.599 118.008 M204.599 114.999 Q209.32 114.999 211.803 118.742 Q214.304 122.466 214.304 129.575 Q214.304 136.665 211.803 140.408 Q209.32 144.132 204.599 144.132 Q199.878 144.132 197.377 140.408 Q194.894 136.665 194.894 129.575 Q194.894 122.466 197.377 118.742 Q199.878 114.999 204.599 114.999 Z\" fill=\"#000000\" fill-rule=\"nonzero\" fill-opacity=\"1\" /><g clip-path=\"url(#clip260)\">\n",
       "<image width=\"66\" height=\"82\" xlink:href=\"data:image/png;base64,\n",
       "iVBORw0KGgoAAAANSUhEUgAAAEIAAABSCAYAAADgggJzAAADxElEQVR4nO2c7XHjIBCGl5srQHYJ\n",
       "pAPkElSCnBKUDpiUoBI0KYF0oKQEJRU4LgG5g82PgKNT9IFlEPjCO7M/MmOt4MnCwsKIICLs93t8\n",
       "f3+H36qyLAE45wgAv96IlBK32+3VVG9ZlFIgiOi7HUHoj+8GhKIIQimCUIoglCIIpQhCKYJQiiCU\n",
       "IgilCEIpglCKIJQiCKXgQRBCsGumv39+fr5sW42IwRqMFFGmnukXmjjnk78/v8t3Z+dADAExfT7P\n",
       "c+NnvHfWBETTNOcO5XluDEJbkiSzMLx31gSELV9lWY76897ZucYviYAhy/MckyQZ9RV0zbJtW9xu\n",
       "t4CI5Fpfm80Glc9BX0Gnz81mQxhjYJI2Hx4esJ9q0zTFu7s7JITg6XSCx8fHcQe+w990iDDGRsOa\n",
       "MWZ0djH5Dt+dvARGURQ/OiOlNIJwOBz+DxC6w/2ZX6dGAMAkSZBzjnr9oP82Ar1mZzjnSClFIYRR\n",
       "4/p2OBwQALBpmvPzGsJSn15AUEp/hOylYOq6/me8m4z/4EBkWTY7lk3AFEVxjox+hNwEiCUn70mS\n",
       "YFVVPzpqmg2CBFFV1bnxZVni0FAxBdPNFjcHQofy0EwuhFgExsZEuToIxK+QHgp1W2DGhlKQIOYW\n",
       "Nz7ArA7Cli0BM/UP8N4hW1bXNc7tOaa24d47sCaYob2KtqDrEWsq6HrEmooglCIIJecgXl5ezuWy\n",
       "NE0XT0iLTq8ukcuZG0bS2NTsPWa6AGOrqr1a+tQNF0IMwljiU6fDJSC9gNCVJL20HQIxddhiAsNG\n",
       "DcI5iP4R2xCIJRujvr/gQQyFr42h0fdHKbUGwxmIJTvMS0xXu2z5c7LEJoQgWjimM3kPpRQ+Pj6u\n",
       "ftdNL6g453A8Hu04czU06rp2OjRsv8tZ42xOZGu8y1njwHJ6GzN9vHetHydzRFVVAABwzd7CVEVR\n",
       "WPHjrDCj7zQ0TQNpmjrNIDaylLOskWUZAADsdjto2zb4MpjTUl33povLyAg6IgC+5wqAr8jY7/fW\n",
       "qVurUbie1bsXOcDChstVhnIOotvYvl1bZNGHysGuIy6BoS3LMpRSGneoe73YxgZv1XMNk2uCWowx\n",
       "uL+/hyzLgFIKUkp4fX2Fp6cn6H/iAW1s8NaKCG2mVwFNzVa7Vt99vr29ESGEFV9SSit+AMDv2Wd3\n",
       "nF9qttviFYS27pWiObNdtNUW3CFw27YohIDj8Qin0wkYY7Db7dzvV0ID4Us3XaqzqQhCKYJQiiCU\n",
       "IgilCEIpglCKIJQiCKW/ABA/4xg/4/ht8TOO8PUZx0+iIw6AP8tiQwAAAABJRU5ErkJggg==\n",
       "\" transform=\"translate(22, 568)\"/>\n",
       "</g>\n",
       "<g clip-path=\"url(#clip260)\">\n",
       "<text style=\"fill:#000000; fill-opacity:1; font-family:Arial,Helvetica Neue,Helvetica,sans-serif; font-size:66px; text-anchor:middle;\" transform=\"rotate(0, 1098.53, 57.6)\" x=\"1098.53\" y=\"57.6\">Fourier coefficients</text>\n",
       "</g>\n",
       "<circle clip-path=\"url(#clip262)\" cx=\"1098.53\" cy=\"135.664\" r=\"10.8\" fill=\"#009af9\" fill-rule=\"evenodd\" fill-opacity=\"1\" stroke=\"#000000\" stroke-opacity=\"1\" stroke-width=\"2.56\"/>\n",
       "<circle clip-path=\"url(#clip262)\" cx=\"1193.44\" cy=\"175.341\" r=\"10.8\" fill=\"#009af9\" fill-rule=\"evenodd\" fill-opacity=\"1\" stroke=\"#000000\" stroke-opacity=\"1\" stroke-width=\"2.56\"/>\n",
       "<circle clip-path=\"url(#clip262)\" cx=\"1288.36\" cy=\"245.505\" r=\"10.8\" fill=\"#009af9\" fill-rule=\"evenodd\" fill-opacity=\"1\" stroke=\"#000000\" stroke-opacity=\"1\" stroke-width=\"2.56\"/>\n",
       "<circle clip-path=\"url(#clip262)\" cx=\"1383.27\" cy=\"334.647\" r=\"10.8\" fill=\"#009af9\" fill-rule=\"evenodd\" fill-opacity=\"1\" stroke=\"#000000\" stroke-opacity=\"1\" stroke-width=\"2.56\"/>\n",
       "<circle clip-path=\"url(#clip262)\" cx=\"1478.19\" cy=\"437.546\" r=\"10.8\" fill=\"#009af9\" fill-rule=\"evenodd\" fill-opacity=\"1\" stroke=\"#000000\" stroke-opacity=\"1\" stroke-width=\"2.56\"/>\n",
       "<circle clip-path=\"url(#clip262)\" cx=\"1573.1\" cy=\"551.222\" r=\"10.8\" fill=\"#009af9\" fill-rule=\"evenodd\" fill-opacity=\"1\" stroke=\"#000000\" stroke-opacity=\"1\" stroke-width=\"2.56\"/>\n",
       "<circle clip-path=\"url(#clip262)\" cx=\"1668.01\" cy=\"673.751\" r=\"10.8\" fill=\"#009af9\" fill-rule=\"evenodd\" fill-opacity=\"1\" stroke=\"#000000\" stroke-opacity=\"1\" stroke-width=\"2.56\"/>\n",
       "<circle clip-path=\"url(#clip262)\" cx=\"1762.93\" cy=\"803.791\" r=\"10.8\" fill=\"#009af9\" fill-rule=\"evenodd\" fill-opacity=\"1\" stroke=\"#000000\" stroke-opacity=\"1\" stroke-width=\"2.56\"/>\n",
       "<circle clip-path=\"url(#clip262)\" cx=\"1857.84\" cy=\"940.351\" r=\"10.8\" fill=\"#009af9\" fill-rule=\"evenodd\" fill-opacity=\"1\" stroke=\"#000000\" stroke-opacity=\"1\" stroke-width=\"2.56\"/>\n",
       "<circle clip-path=\"url(#clip262)\" cx=\"1952.76\" cy=\"1082.61\" r=\"10.8\" fill=\"#009af9\" fill-rule=\"evenodd\" fill-opacity=\"1\" stroke=\"#000000\" stroke-opacity=\"1\" stroke-width=\"2.56\"/>\n",
       "<circle clip-path=\"url(#clip262)\" cx=\"339.218\" cy=\"940.351\" r=\"10.8\" fill=\"#009af9\" fill-rule=\"evenodd\" fill-opacity=\"1\" stroke=\"#000000\" stroke-opacity=\"1\" stroke-width=\"2.56\"/>\n",
       "<circle clip-path=\"url(#clip262)\" cx=\"434.132\" cy=\"803.791\" r=\"10.8\" fill=\"#009af9\" fill-rule=\"evenodd\" fill-opacity=\"1\" stroke=\"#000000\" stroke-opacity=\"1\" stroke-width=\"2.56\"/>\n",
       "<circle clip-path=\"url(#clip262)\" cx=\"529.046\" cy=\"673.751\" r=\"10.8\" fill=\"#009af9\" fill-rule=\"evenodd\" fill-opacity=\"1\" stroke=\"#000000\" stroke-opacity=\"1\" stroke-width=\"2.56\"/>\n",
       "<circle clip-path=\"url(#clip262)\" cx=\"623.96\" cy=\"551.222\" r=\"10.8\" fill=\"#009af9\" fill-rule=\"evenodd\" fill-opacity=\"1\" stroke=\"#000000\" stroke-opacity=\"1\" stroke-width=\"2.56\"/>\n",
       "<circle clip-path=\"url(#clip262)\" cx=\"718.874\" cy=\"437.546\" r=\"10.8\" fill=\"#009af9\" fill-rule=\"evenodd\" fill-opacity=\"1\" stroke=\"#000000\" stroke-opacity=\"1\" stroke-width=\"2.56\"/>\n",
       "<circle clip-path=\"url(#clip262)\" cx=\"813.788\" cy=\"334.647\" r=\"10.8\" fill=\"#009af9\" fill-rule=\"evenodd\" fill-opacity=\"1\" stroke=\"#000000\" stroke-opacity=\"1\" stroke-width=\"2.56\"/>\n",
       "<circle clip-path=\"url(#clip262)\" cx=\"908.702\" cy=\"245.505\" r=\"10.8\" fill=\"#009af9\" fill-rule=\"evenodd\" fill-opacity=\"1\" stroke=\"#000000\" stroke-opacity=\"1\" stroke-width=\"2.56\"/>\n",
       "<circle clip-path=\"url(#clip262)\" cx=\"1003.62\" cy=\"175.341\" r=\"10.8\" fill=\"#009af9\" fill-rule=\"evenodd\" fill-opacity=\"1\" stroke=\"#000000\" stroke-opacity=\"1\" stroke-width=\"2.56\"/>\n",
       "</svg>\n"
      ]
     },
     "execution_count": 5,
     "metadata": {},
     "output_type": "execute_result"
    }
   ],
   "source": [
    "f(x) = exp( sin(pi*x) )     # content at all frequencies\n",
    "n = 9;  N = 2n+1;\n",
    "t = [ 2j / N for j in 0:N-1 ]      # nodes in [0,2)\n",
    "c = fft(f.(t)) / N\n",
    "\n",
    "freq = [0:n; -n:-1]\n",
    "scatter(freq, abs.(c);\n",
    "    xaxis=(L\"k\", [-n, n]),  yaxis=(L\"|c_k|\", :log10), \n",
    "    title=\"Fourier coefficients\",  legend=:none)"
   ]
  },
  {
   "cell_type": "markdown",
   "id": "76df6e08",
   "metadata": {},
   "source": [
    "The Fourier coefficients of smooth functions decay exponentially in magnitude as a function of the frequency. This decay rate is determines the convergence of the interpolation error."
   ]
  }
 ],
 "metadata": {
  "kernelspec": {
   "display_name": "Julia 1",
   "language": "julia",
   "name": "julia-1.11"
  },
  "language_info": {
   "file_extension": ".jl",
   "mimetype": "application/julia",
   "name": "julia",
   "version": "1.11.2"
  },
  "numbering": {
   "headings": false
  }
 },
 "nbformat": 4,
 "nbformat_minor": 5
}
