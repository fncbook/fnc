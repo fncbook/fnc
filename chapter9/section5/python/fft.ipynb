{
 "cells": [
  {
   "cell_type": "code",
   "execution_count": 1,
   "id": "82cac35c",
   "metadata": {
    "execution": {
     "iopub.execute_input": "2025-01-10T16:02:57.875863Z",
     "iopub.status.busy": "2025-01-10T16:02:57.875735Z",
     "iopub.status.idle": "2025-01-10T16:02:58.229710Z",
     "shell.execute_reply": "2025-01-10T16:02:58.229404Z"
    },
    "tags": [
     "remove-cell"
    ]
   },
   "outputs": [],
   "source": [
    "exec(open(\"../../../python/FNC_init.py\").read())"
   ]
  },
  {
   "cell_type": "markdown",
   "id": "4c410708",
   "metadata": {},
   "source": [
    "[**Demo %s**](#demo-trig-fft)\n",
    "\n",
    "This function has frequency content at $2\\pi$, $-2\\pi$, and $\\pi$."
   ]
  },
  {
   "cell_type": "code",
   "execution_count": 2,
   "id": "8b9ca5f4",
   "metadata": {
    "execution": {
     "iopub.execute_input": "2025-01-10T16:02:58.231322Z",
     "iopub.status.busy": "2025-01-10T16:02:58.231194Z",
     "iopub.status.idle": "2025-01-10T16:02:58.233193Z",
     "shell.execute_reply": "2025-01-10T16:02:58.232940Z"
    }
   },
   "outputs": [],
   "source": [
    "f = lambda x: 3 * cos(2 * pi * x) - exp(1j * pi * x)"
   ]
  },
  {
   "cell_type": "markdown",
   "id": "f551e0c2",
   "metadata": {},
   "source": [
    "To use `fft`, we set up nodes in the interval $[0,2)$."
   ]
  },
  {
   "cell_type": "code",
   "execution_count": 3,
   "id": "b63f3459",
   "metadata": {
    "execution": {
     "iopub.execute_input": "2025-01-10T16:02:58.234427Z",
     "iopub.status.busy": "2025-01-10T16:02:58.234343Z",
     "iopub.status.idle": "2025-01-10T16:02:58.237398Z",
     "shell.execute_reply": "2025-01-10T16:02:58.237159Z"
    }
   },
   "outputs": [],
   "source": [
    "n = 4\n",
    "N = 2 * n + 1\n",
    "t = 2 * arange(0, N) / N    # nodes in [0,2)\n",
    "y = f(t)"
   ]
  },
  {
   "cell_type": "markdown",
   "id": "70e6c1fc",
   "metadata": {},
   "source": [
    "We perform Fourier analysis using `fft` and then examine the resulting coefficients."
   ]
  },
  {
   "cell_type": "code",
   "execution_count": 4,
   "id": "d7f690bc",
   "metadata": {
    "execution": {
     "iopub.execute_input": "2025-01-10T16:02:58.238669Z",
     "iopub.status.busy": "2025-01-10T16:02:58.238584Z",
     "iopub.status.idle": "2025-01-10T16:02:58.277219Z",
     "shell.execute_reply": "2025-01-10T16:02:58.276965Z"
    }
   },
   "outputs": [
    {
     "data": {
      "text/html": [
       "<table>\n",
       "    <thead>\n",
       "        <tr>\n",
       "            <th>freq</th>\n",
       "            <th>coefficient</th>\n",
       "        </tr>\n",
       "    </thead>\n",
       "    <tbody>\n",
       "        <tr>\n",
       "            <td>0</td>\n",
       "            <td>(-7.401486830834377e-17-1.2335811384723961e-17j)</td>\n",
       "        </tr>\n",
       "        <tr>\n",
       "            <td>1</td>\n",
       "            <td>(-1+3.7511926088583134e-16j)</td>\n",
       "        </tr>\n",
       "        <tr>\n",
       "            <td>2</td>\n",
       "            <td>(1.4999999999999996-6.858640241643501e-16j)</td>\n",
       "        </tr>\n",
       "        <tr>\n",
       "            <td>3</td>\n",
       "            <td>(2.006783528541028e-16-4.9343245538895844e-17j)</td>\n",
       "        </tr>\n",
       "        <tr>\n",
       "            <td>4</td>\n",
       "            <td>(1.9737298215558337e-16+1.9273910434303325e-16j)</td>\n",
       "        </tr>\n",
       "        <tr>\n",
       "            <td>-4</td>\n",
       "            <td>(9.048923903630054e-17-2.3825059632365783e-16j)</td>\n",
       "        </tr>\n",
       "        <tr>\n",
       "            <td>-3</td>\n",
       "            <td>(2.434108569959598e-16-4.9343245538895844e-17j)</td>\n",
       "        </tr>\n",
       "        <tr>\n",
       "            <td>-2</td>\n",
       "            <td>(1.4999999999999998+7.05529154045317e-16j)</td>\n",
       "        </tr>\n",
       "        <tr>\n",
       "            <td>-1</td>\n",
       "            <td>(-9.048923903630054e-17-2.3825059632365783e-16j)</td>\n",
       "        </tr>\n",
       "    </tbody>\n",
       "</table>"
      ],
      "text/plain": [
       "+------+--------------------------------------------------+\n",
       "| freq |                   coefficient                    |\n",
       "+------+--------------------------------------------------+\n",
       "|  0   | (-7.401486830834377e-17-1.2335811384723961e-17j) |\n",
       "|  1   |           (-1+3.7511926088583134e-16j)           |\n",
       "|  2   |   (1.4999999999999996-6.858640241643501e-16j)    |\n",
       "|  3   | (2.006783528541028e-16-4.9343245538895844e-17j)  |\n",
       "|  4   | (1.9737298215558337e-16+1.9273910434303325e-16j) |\n",
       "|  -4  | (9.048923903630054e-17-2.3825059632365783e-16j)  |\n",
       "|  -3  | (2.434108569959598e-16-4.9343245538895844e-17j)  |\n",
       "|  -2  |    (1.4999999999999998+7.05529154045317e-16j)    |\n",
       "|  -1  | (-9.048923903630054e-17-2.3825059632365783e-16j) |\n",
       "+------+--------------------------------------------------+"
      ]
     },
     "execution_count": 4,
     "metadata": {},
     "output_type": "execute_result"
    }
   ],
   "source": [
    "from scipy.fftpack import fft, ifft, fftshift\n",
    "c = fft(y) / N\n",
    "freq = hstack([arange(n+1), arange(-n,0)])\n",
    "results = PrettyTable()\n",
    "results.add_column(\"freq\", freq) \n",
    "results.add_column(\"coefficient\", c)\n",
    "results"
   ]
  },
  {
   "cell_type": "markdown",
   "id": "63359c91",
   "metadata": {},
   "source": [
    "Note that $1.5 e^{2i\\pi x}+1.5 e^{-2i\\pi x} = 3 \\cos(2\\pi x)$, so this result is sensible.\n",
    "\n",
    "Fourier's greatest contribution to mathematics was to point out that *every* periodic function is just a combination of frequencies—infinitely many of them in general, but truncated for computational use. Here we look at the magnitudes of the coefficients for $f(x) = \\exp( \\sin(\\pi x) )$."
   ]
  },
  {
   "cell_type": "code",
   "execution_count": 5,
   "id": "043360ce",
   "metadata": {
    "execution": {
     "iopub.execute_input": "2025-01-10T16:02:58.278518Z",
     "iopub.status.busy": "2025-01-10T16:02:58.278369Z",
     "iopub.status.idle": "2025-01-10T16:02:58.603683Z",
     "shell.execute_reply": "2025-01-10T16:02:58.603390Z"
    },
    "tags": [
     "hide-input"
    ]
   },
   "outputs": [
    {
     "data": {
      "image/png": "[encoded data removed]",
      "text/plain": [
       "<Figure size 700x400 with 1 Axes>"
      ]
     },
     "metadata": {},
     "output_type": "display_data"
    }
   ],
   "source": [
    "f = lambda x: exp(sin(pi * x))    # content at all frequencies\n",
    "n = 9;  N = 2*n + 1;\n",
    "t = 2 * arange(0, N) / N    # nodes in [0,2)\n",
    "c = fft(f(t)) / N\n",
    "\n",
    "semilogy(range(-n, n+1), abs(fftshift(c)), \"o\")\n",
    "xlabel(\"$k$\"),  ylabel(\"$|c_k|$\")\n",
    "title(\"Fourier coefficients\");"
   ]
  },
  {
   "cell_type": "markdown",
   "id": "dff297fe",
   "metadata": {},
   "source": [
    "The Fourier coefficients of smooth functions decay exponentially in magnitude as a function of the frequency. This decay rate is determines the convergence of the interpolation error."
   ]
  }
 ],
 "metadata": {
  "kernelspec": {
   "display_name": "Python 3",
   "language": "python",
   "name": "python3"
  },
  "language_info": {
   "codemirror_mode": {
    "name": "ipython",
    "version": 3
   },
   "file_extension": ".py",
   "mimetype": "text/x-python",
   "name": "python",
   "nbconvert_exporter": "python",
   "pygments_lexer": "ipython3",
   "version": "3.13.0"
  },
  "numbering": {
   "headings": false
  }
 },
 "nbformat": 4,
 "nbformat_minor": 5
}
